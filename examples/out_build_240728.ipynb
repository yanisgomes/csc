{
 "cells": [
  {
   "cell_type": "markdown",
   "id": "7c2c0b2e",
   "metadata": {
    "papermill": {
     "duration": 0.002744,
     "end_time": "2024-07-28T11:18:51.043192",
     "exception": false,
     "start_time": "2024-07-28T11:18:51.040448",
     "status": "completed"
    },
    "tags": []
   },
   "source": [
    "# Build SparVar MMP Database"
   ]
  },
  {
   "cell_type": "code",
   "execution_count": 1,
   "id": "a471c4b2",
   "metadata": {
    "execution": {
     "iopub.execute_input": "2024-07-28T11:18:51.048918Z",
     "iopub.status.busy": "2024-07-28T11:18:51.048540Z",
     "iopub.status.idle": "2024-07-28T11:18:53.285567Z",
     "shell.execute_reply": "2024-07-28T11:18:53.284420Z"
    },
    "papermill": {
     "duration": 2.243604,
     "end_time": "2024-07-28T11:18:53.288987",
     "exception": false,
     "start_time": "2024-07-28T11:18:51.045383",
     "status": "completed"
    },
    "tags": []
   },
   "outputs": [
    {
     "name": "stdout",
     "output_type": "stream",
     "text": [
      "The dictionary has 143 different atoms\n"
     ]
    }
   ],
   "source": [
    "import numpy as np\n",
    "from csc.utils import *\n",
    "from csc.atoms import *\n",
    "from csc.dictionary import *\n",
    "from itertools import product\n",
    "import matplotlib.pyplot as plt\n",
    "\n",
    "# Atom parameters\n",
    "bmin = 0.005\n",
    "bmax = 0.06\n",
    "b_step = 0.005\n",
    "b_values = np.arange(bmin, bmax, b_step)\n",
    "\n",
    "ymin = 0.010\n",
    "ymax = 0.036\n",
    "y_step = 0.002\n",
    "y_values = np.arange(ymin, ymax, y_step)\n",
    "\n",
    "s_values = [1]\n",
    "\n",
    "dictionary = ZSDictionary.from_values(b_values, y_values, s_values)\n",
    "print('The dictionary has {} different atoms'.format(len(dictionary)))"
   ]
  },
  {
   "cell_type": "markdown",
   "id": "97cd5348",
   "metadata": {
    "papermill": {
     "duration": 0.003936,
     "end_time": "2024-07-28T11:18:53.297505",
     "exception": false,
     "start_time": "2024-07-28T11:18:53.293569",
     "status": "completed"
    },
    "tags": []
   },
   "source": [
    "## Build sparsity variation database\n",
    "\n",
    "#### Format :\n",
    "````\n",
    "'source' = input_filename\n",
    "'date' = get_today_date_str()\n",
    "'algorithm' = 'Convolutional MMP-DF'\n",
    "'nbBranches' = branches\n",
    "'connections' = connections\n",
    "'dissimilarity' = dissimilarity\n",
    "'maxSparsityLevel' = max_sparsity\n",
    "'batchSize' = data['batchSize']\n",
    "'snrLevels' = data['snrLevels']\n",
    "'signalLength' = data['signalLength']\n",
    "'sparsityLevels' = data['sparsityLevels']\n",
    "'dictionary' = str(self)\n",
    "'mmp' : \n",
    "    [\n",
    "        {\n",
    "            'id' : 0,\n",
    "            'snr' : snr,\n",
    "            'results' : [\n",
    "                {\n",
    "                    'mse' : #MSE,\n",
    "                    'path' : '2'\n",
    "                    'delay' : #DELAY,\n",
    "                    'atoms' : [\n",
    "                        {'x':x, 'b':b, 'y':y, 's':s}\n",
    "                        #1\n",
    "                    ]\n",
    "                },\n",
    "                ...\n",
    "                {\n",
    "                    'mse' : #MSE,\n",
    "                    'path' : '2-3-...-1'\n",
    "                    'delay' : #DELAY,\n",
    "                    'atoms' : [\n",
    "                        {'x':x, 'b':b, 'y':y, 's':s}\n",
    "                        #max_sparsity\n",
    "                    ]\n",
    "                }\n",
    "                ]\n",
    "        },\n",
    "        {\n",
    "            'id' : 1,\n",
    "            ...\n",
    "        },\n",
    "\n",
    "        ...\n",
    "\n",
    "    ]\n",
    "````"
   ]
  },
  {
   "cell_type": "code",
   "execution_count": 2,
   "id": "aa527792",
   "metadata": {
    "execution": {
     "iopub.execute_input": "2024-07-28T11:18:53.308310Z",
     "iopub.status.busy": "2024-07-28T11:18:53.307468Z",
     "iopub.status.idle": "2024-07-28T11:18:53.312881Z",
     "shell.execute_reply": "2024-07-28T11:18:53.311821Z"
    },
    "papermill": {
     "duration": 0.014273,
     "end_time": "2024-07-28T11:18:53.315842",
     "exception": false,
     "start_time": "2024-07-28T11:18:53.301569",
     "status": "completed"
    },
    "tags": []
   },
   "outputs": [],
   "source": [
    "batchSize = 200\n",
    "input_signals_db = f'/home/gomes/synthetic-data/constrained-signals-{batchSize}.json'"
   ]
  },
  {
   "cell_type": "markdown",
   "id": "97f1f61a",
   "metadata": {
    "papermill": {
     "duration": 0.003955,
     "end_time": "2024-07-28T11:18:53.323907",
     "exception": false,
     "start_time": "2024-07-28T11:18:53.319952",
     "status": "completed"
    },
    "tags": []
   },
   "source": [
    "### Check the ``DISSIMILARITY`` threshold"
   ]
  },
  {
   "cell_type": "code",
   "execution_count": null,
   "id": "61d8076e",
   "metadata": {
    "papermill": {
     "duration": null,
     "end_time": null,
     "exception": false,
     "start_time": "2024-07-28T11:18:53.327975",
     "status": "running"
    },
    "tags": []
   },
   "outputs": [],
   "source": [
    "# Pipeline parameters\n",
    "NB_CORES = 100\n",
    "BRANCHES = 3\n",
    "CONNECTIONS = 3\n",
    "MAX_SPARSITY = 10\n",
    "\n",
    "DISSIMILARITY = 0.4 ## << DISSIMILARITY >>\n",
    "\n",
    "# Run pipeline\n",
    "today = get_today_date_str()\n",
    "output_mmpdf_db = f'/home/gomes/synthetic-data/icassp-mmpdf{BRANCHES}-{batchSize}.json'\n",
    "dictionary.mmpdfSparVarPipelineFromDB(input_signals_db, output_mmpdf_db, nb_cores=NB_CORES, connections=CONNECTIONS, dissimilarity=DISSIMILARITY, branches=BRANCHES, max_sparsity=MAX_SPARSITY, verbose=False)"
   ]
  }
 ],
 "metadata": {
  "kernelspec": {
   "display_name": "phlamesenv",
   "language": "python",
   "name": "python3"
  },
  "language_info": {
   "codemirror_mode": {
    "name": "ipython",
    "version": 3
   },
   "file_extension": ".py",
   "mimetype": "text/x-python",
   "name": "python",
   "nbconvert_exporter": "python",
   "pygments_lexer": "ipython3",
   "version": "3.11.2"
  },
  "papermill": {
   "default_parameters": {},
   "duration": null,
   "end_time": null,
   "environment_variables": {},
   "exception": null,
   "input_path": "buildMMPDFSparVar.ipynb",
   "output_path": "out_build_240728.ipynb",
   "parameters": {},
   "start_time": "2024-07-28T11:18:50.178776",
   "version": "2.6.0"
  }
 },
 "nbformat": 4,
 "nbformat_minor": 5
}