{
 "cells": [
  {
   "cell_type": "markdown",
   "id": "7af7e5d4",
   "metadata": {
    "papermill": {
     "duration": 0.002138,
     "end_time": "2024-07-28T16:08:11.797949",
     "exception": false,
     "start_time": "2024-07-28T16:08:11.795811",
     "status": "completed"
    },
    "tags": []
   },
   "source": [
    "# Build SparVar MMP Database"
   ]
  },
  {
   "cell_type": "code",
   "execution_count": 1,
   "id": "9064c657",
   "metadata": {
    "execution": {
     "iopub.execute_input": "2024-07-28T16:08:11.803163Z",
     "iopub.status.busy": "2024-07-28T16:08:11.802658Z",
     "iopub.status.idle": "2024-07-28T16:08:13.666762Z",
     "shell.execute_reply": "2024-07-28T16:08:13.665707Z"
    },
    "papermill": {
     "duration": 1.869409,
     "end_time": "2024-07-28T16:08:13.669243",
     "exception": false,
     "start_time": "2024-07-28T16:08:11.799834",
     "status": "completed"
    },
    "tags": []
   },
   "outputs": [
    {
     "name": "stdout",
     "output_type": "stream",
     "text": [
      "The dictionary has 143 different atoms\n"
     ]
    }
   ],
   "source": [
    "import numpy as np\n",
    "from csc.utils import *\n",
    "from csc.atoms import *\n",
    "from csc.workbench import *\n",
    "from csc.dictionary import *\n",
    "from itertools import product\n",
    "import matplotlib.pyplot as plt\n",
    "\n",
    "# Atom parameters\n",
    "bmin = 0.005\n",
    "bmax = 0.06\n",
    "b_step = 0.005\n",
    "b_values = np.arange(bmin, bmax, b_step)\n",
    "\n",
    "ymin = 0.010\n",
    "ymax = 0.036\n",
    "y_step = 0.002\n",
    "y_values = np.arange(ymin, ymax, y_step)\n",
    "\n",
    "s_values = [1]\n",
    "\n",
    "dictionary = ZSDictionary.from_values(b_values, y_values, s_values)\n",
    "print('The dictionary has {} different atoms'.format(len(dictionary)))"
   ]
  },
  {
   "cell_type": "markdown",
   "id": "58787732",
   "metadata": {
    "papermill": {
     "duration": 0.002717,
     "end_time": "2024-07-28T16:08:13.675121",
     "exception": false,
     "start_time": "2024-07-28T16:08:13.672404",
     "status": "completed"
    },
    "tags": []
   },
   "source": [
    "## Build sparsity variation database\n",
    "\n",
    "#### Format :\n",
    "````\n",
    "'source' = input_filename\n",
    "'date' = get_today_date_str()\n",
    "'algorithm' = 'Convolutional MMP-DF'\n",
    "'nbBranches' = branches\n",
    "'connections' = connections\n",
    "'dissimilarity' = dissimilarity\n",
    "'maxSparsityLevel' = max_sparsity\n",
    "'batchSize' = data['batchSize']\n",
    "'snrLevels' = data['snrLevels']\n",
    "'signalLength' = data['signalLength']\n",
    "'sparsityLevels' = data['sparsityLevels']\n",
    "'dictionary' = str(self)\n",
    "'results' : \n",
    "    [\n",
    "        {\n",
    "            'id' : 0,\n",
    "            'snr' : snr,\n",
    "            'atoms' : [\n",
    "                {'x':, 'b', 'y', 's':},\n",
    "                {'x':, 'b', 'y', 's':},\n",
    "                {'x':, 'b', 'y', 's':},\n",
    "                ...\n",
    "                {'x':, 'b', 'y', 's':}\n",
    "                ]\n",
    "        },\n",
    "\n",
    "        ...\n",
    "\n",
    "        {\n",
    "            'id' : 3200,\n",
    "            'snr' : snr,\n",
    "            'atoms' : [\n",
    "                {'x':, 'b', 'y', 's':},\n",
    "                {'x':, 'b', 'y', 's':},\n",
    "                {'x':, 'b', 'y', 's':},\n",
    "                ...\n",
    "                {'x':, 'b', 'y', 's':}\n",
    "                ]\n",
    "        }\n",
    "    ]\n",
    "````"
   ]
  },
  {
   "cell_type": "code",
   "execution_count": 2,
   "id": "df83ad38",
   "metadata": {
    "execution": {
     "iopub.execute_input": "2024-07-28T16:08:13.682963Z",
     "iopub.status.busy": "2024-07-28T16:08:13.682278Z",
     "iopub.status.idle": "2024-07-28T16:08:13.687215Z",
     "shell.execute_reply": "2024-07-28T16:08:13.686348Z"
    },
    "papermill": {
     "duration": 0.011528,
     "end_time": "2024-07-28T16:08:13.689389",
     "exception": false,
     "start_time": "2024-07-28T16:08:13.677861",
     "status": "completed"
    },
    "tags": []
   },
   "outputs": [],
   "source": [
    "batchSize = 200\n",
    "constrained_signals_db = f'/home/gomes/synthetic-data/constrained-signals-{batchSize}.json'\n",
    "output_alphaCSC_db = f'/home/gomes/synthetic-data/icassp-alphaCSC-{batchSize}.json'"
   ]
  },
  {
   "cell_type": "code",
   "execution_count": 3,
   "id": "2679a71f",
   "metadata": {
    "execution": {
     "iopub.execute_input": "2024-07-28T16:08:13.696580Z",
     "iopub.status.busy": "2024-07-28T16:08:13.696164Z",
     "iopub.status.idle": "2024-07-28T16:08:14.601082Z",
     "shell.execute_reply": "2024-07-28T16:08:14.600117Z"
    },
    "papermill": {
     "duration": 0.911493,
     "end_time": "2024-07-28T16:08:14.603745",
     "exception": false,
     "start_time": "2024-07-28T16:08:13.692252",
     "status": "completed"
    },
    "tags": []
   },
   "outputs": [],
   "source": [
    "workbench = CSCWorkbench(constrained_signals_db)\n",
    "workbench.load_data()\n",
    "workbench.set_dictionary(dictionary)"
   ]
  },
  {
   "cell_type": "code",
   "execution_count": 4,
   "id": "fedb8627",
   "metadata": {
    "execution": {
     "iopub.execute_input": "2024-07-28T16:08:14.611358Z",
     "iopub.status.busy": "2024-07-28T16:08:14.611115Z"
    },
    "papermill": {
     "duration": null,
     "end_time": null,
     "exception": false,
     "start_time": "2024-07-28T16:08:14.607027",
     "status": "running"
    },
    "tags": []
   },
   "outputs": [
    {
     "name": "stderr",
     "output_type": "stream",
     "text": [
      "\r",
      "AlphaCSC Pipeline from DB:   0%|                                                                                                       | 0/3200 [00:00<?, ?it/s]"
     ]
    },
    {
     "name": "stderr",
     "output_type": "stream",
     "text": [
      "\r",
      "AlphaCSC Pipeline from DB:   3%|██▉                                                                                          | 100/3200 [00:01<00:58, 52.94it/s]"
     ]
    },
    {
     "name": "stderr",
     "output_type": "stream",
     "text": [
      "\r",
      "AlphaCSC Pipeline from DB:   3%|██▉                                                                                          | 100/3200 [00:19<00:58, 52.94it/s]"
     ]
    },
    {
     "name": "stderr",
     "output_type": "stream",
     "text": [
      "\r",
      "AlphaCSC Pipeline from DB:   6%|█████▊                                                                                       | 200/3200 [00:21<06:08,  8.14it/s]"
     ]
    },
    {
     "name": "stderr",
     "output_type": "stream",
     "text": [
      "\r",
      "AlphaCSC Pipeline from DB:   9%|████████▋                                                                                    | 300/3200 [01:00<11:50,  4.08it/s]"
     ]
    }
   ],
   "source": [
    "# Pipeline parameters\n",
    "NB_CORES = 100\n",
    "NB_SAMPLES = 20\n",
    "\n",
    "POS_ERR_THRESHOLD  = 10\n",
    "CORR_ERR_THRESHOLD = 0.75\n",
    "\n",
    "# Run pipeline\n",
    "workbench.alphaCSCPipelineFromSignalsDB(output_alphaCSC_db, nb_cores=NB_CORES, n_samples=NB_SAMPLES, pos_err_threshold=POS_ERR_THRESHOLD, corr_err_threshold=CORR_ERR_THRESHOLD, verbose=False)"
   ]
  }
 ],
 "metadata": {
  "kernelspec": {
   "display_name": "phlamesenv",
   "language": "python",
   "name": "python3"
  },
  "language_info": {
   "codemirror_mode": {
    "name": "ipython",
    "version": 3
   },
   "file_extension": ".py",
   "mimetype": "text/x-python",
   "name": "python",
   "nbconvert_exporter": "python",
   "pygments_lexer": "ipython3",
   "version": "3.11.2"
  },
  "papermill": {
   "default_parameters": {},
   "duration": null,
   "end_time": null,
   "environment_variables": {},
   "exception": null,
   "input_path": "buildAlphaCSCResults.ipynb",
   "output_path": "out_alpha.ipynb",
   "parameters": {},
   "start_time": "2024-07-28T16:08:10.915970",
   "version": "2.6.0"
  }
 },
 "nbformat": 4,
 "nbformat_minor": 5
}