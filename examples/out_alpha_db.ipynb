{
 "cells": [
  {
   "cell_type": "markdown",
   "id": "2aeb2e12",
   "metadata": {
    "papermill": {
     "duration": 0.002284,
     "end_time": "2024-07-28T15:28:26.654090",
     "exception": false,
     "start_time": "2024-07-28T15:28:26.651806",
     "status": "completed"
    },
    "tags": []
   },
   "source": [
    "# Build SparVar MMP Database"
   ]
  },
  {
   "cell_type": "code",
   "execution_count": 1,
   "id": "1ab62459",
   "metadata": {
    "execution": {
     "iopub.execute_input": "2024-07-28T15:28:26.659862Z",
     "iopub.status.busy": "2024-07-28T15:28:26.659388Z",
     "iopub.status.idle": "2024-07-28T15:28:28.400434Z",
     "shell.execute_reply": "2024-07-28T15:28:28.399406Z"
    },
    "papermill": {
     "duration": 1.746582,
     "end_time": "2024-07-28T15:28:28.402791",
     "exception": false,
     "start_time": "2024-07-28T15:28:26.656209",
     "status": "completed"
    },
    "tags": []
   },
   "outputs": [
    {
     "name": "stdout",
     "output_type": "stream",
     "text": [
      "The dictionary has 143 different atoms\n"
     ]
    }
   ],
   "source": [
    "import numpy as np\n",
    "from csc.utils import *\n",
    "from csc.atoms import *\n",
    "from csc.workbench import *\n",
    "from csc.dictionary import *\n",
    "from itertools import product\n",
    "import matplotlib.pyplot as plt\n",
    "\n",
    "# Atom parameters\n",
    "bmin = 0.005\n",
    "bmax = 0.06\n",
    "b_step = 0.005\n",
    "b_values = np.arange(bmin, bmax, b_step)\n",
    "\n",
    "ymin = 0.010\n",
    "ymax = 0.036\n",
    "y_step = 0.002\n",
    "y_values = np.arange(ymin, ymax, y_step)\n",
    "\n",
    "s_values = [1]\n",
    "\n",
    "dictionary = ZSDictionary.from_values(b_values, y_values, s_values)\n",
    "print('The dictionary has {} different atoms'.format(len(dictionary)))"
   ]
  },
  {
   "cell_type": "markdown",
   "id": "35f72042",
   "metadata": {
    "papermill": {
     "duration": 0.002794,
     "end_time": "2024-07-28T15:28:28.408858",
     "exception": false,
     "start_time": "2024-07-28T15:28:28.406064",
     "status": "completed"
    },
    "tags": []
   },
   "source": [
    "## Build sparsity variation database\n",
    "\n",
    "#### Format :\n",
    "````\n",
    "'source' = input_filename\n",
    "'date' = get_today_date_str()\n",
    "'algorithm' = 'Convolutional MMP-DF'\n",
    "'nbBranches' = branches\n",
    "'connections' = connections\n",
    "'dissimilarity' = dissimilarity\n",
    "'maxSparsityLevel' = max_sparsity\n",
    "'batchSize' = data['batchSize']\n",
    "'snrLevels' = data['snrLevels']\n",
    "'signalLength' = data['signalLength']\n",
    "'sparsityLevels' = data['sparsityLevels']\n",
    "'dictionary' = str(self)\n",
    "'results' : \n",
    "    [\n",
    "        {\n",
    "            'id' : 0,\n",
    "            'snr' : snr,\n",
    "            'atoms' : [\n",
    "                {'x':, 'b', 'y', 's':},\n",
    "                {'x':, 'b', 'y', 's':},\n",
    "                {'x':, 'b', 'y', 's':},\n",
    "                ...\n",
    "                {'x':, 'b', 'y', 's':}\n",
    "                ]\n",
    "        },\n",
    "\n",
    "        ...\n",
    "\n",
    "        {\n",
    "            'id' : 3200,\n",
    "            'snr' : snr,\n",
    "            'atoms' : [\n",
    "                {'x':, 'b', 'y', 's':},\n",
    "                {'x':, 'b', 'y', 's':},\n",
    "                {'x':, 'b', 'y', 's':},\n",
    "                ...\n",
    "                {'x':, 'b', 'y', 's':}\n",
    "                ]\n",
    "        }\n",
    "    ]\n",
    "````"
   ]
  },
  {
   "cell_type": "code",
   "execution_count": 2,
   "id": "b4d340be",
   "metadata": {
    "execution": {
     "iopub.execute_input": "2024-07-28T15:28:28.416250Z",
     "iopub.status.busy": "2024-07-28T15:28:28.415612Z",
     "iopub.status.idle": "2024-07-28T15:28:28.420500Z",
     "shell.execute_reply": "2024-07-28T15:28:28.419639Z"
    },
    "papermill": {
     "duration": 0.011065,
     "end_time": "2024-07-28T15:28:28.422595",
     "exception": false,
     "start_time": "2024-07-28T15:28:28.411530",
     "status": "completed"
    },
    "tags": []
   },
   "outputs": [],
   "source": [
    "batchSize = 200\n",
    "constrained_signals_db = f'/home/gomes/synthetic-data/constrained-signals-{batchSize}.json'\n",
    "output_alphaCSC_db = f'/home/gomes/synthetic-data/icassp-alphaCSC-{batchSize}.json'"
   ]
  },
  {
   "cell_type": "code",
   "execution_count": 3,
   "id": "5f975317",
   "metadata": {
    "execution": {
     "iopub.execute_input": "2024-07-28T15:28:28.430162Z",
     "iopub.status.busy": "2024-07-28T15:28:28.429807Z",
     "iopub.status.idle": "2024-07-28T15:28:29.391698Z",
     "shell.execute_reply": "2024-07-28T15:28:29.390771Z"
    },
    "papermill": {
     "duration": 0.968332,
     "end_time": "2024-07-28T15:28:29.394209",
     "exception": false,
     "start_time": "2024-07-28T15:28:28.425877",
     "status": "completed"
    },
    "tags": []
   },
   "outputs": [],
   "source": [
    "workbench = CSCWorkbench(constrained_signals_db)\n",
    "workbench.load_data()\n",
    "workbench.set_dictionary(dictionary)"
   ]
  },
  {
   "cell_type": "code",
   "execution_count": 4,
   "id": "3d84a201",
   "metadata": {
    "execution": {
     "iopub.execute_input": "2024-07-28T15:28:29.401749Z",
     "iopub.status.busy": "2024-07-28T15:28:29.401401Z"
    },
    "papermill": {
     "duration": null,
     "end_time": null,
     "exception": false,
     "start_time": "2024-07-28T15:28:29.397380",
     "status": "running"
    },
    "tags": []
   },
   "outputs": [
    {
     "name": "stderr",
     "output_type": "stream",
     "text": [
      "\r",
      "AlphaCSC Pipeline from DB:   0%|                                                                                                | 0/3200 [00:00<?, ?it/s]"
     ]
    },
    {
     "name": "stderr",
     "output_type": "stream",
     "text": [
      "\r",
      "AlphaCSC Pipeline from DB:   2%|█▉                                                                                     | 70/3200 [00:01<00:52, 59.95it/s]"
     ]
    },
    {
     "name": "stderr",
     "output_type": "stream",
     "text": [
      "\r",
      "AlphaCSC Pipeline from DB:   2%|██                                                                                     | 76/3200 [00:01<00:52, 59.47it/s]"
     ]
    },
    {
     "name": "stderr",
     "output_type": "stream",
     "text": [
      "\r",
      "AlphaCSC Pipeline from DB:   4%|███▊                                                                                  | 140/3200 [00:16<07:55,  6.43it/s]"
     ]
    },
    {
     "name": "stderr",
     "output_type": "stream",
     "text": [
      "\r",
      "AlphaCSC Pipeline from DB:   7%|█████▋                                                                                | 210/3200 [00:44<13:35,  3.67it/s]"
     ]
    }
   ],
   "source": [
    "# Pipeline parameters\n",
    "NB_CORES = 70\n",
    "NB_SAMPLES = 20\n",
    "\n",
    "POS_ERR_THRESHOLD  = 10\n",
    "CORR_ERR_THRESHOLD = 0.75\n",
    "\n",
    "# Run pipeline\n",
    "workbench.alphaCSCPipelineFromSignalsDB(output_alphaCSC_db, nb_cores=NB_CORES, n_samples=NB_SAMPLES, pos_err_threshold=POS_ERR_THRESHOLD, corr_err_threshold=CORR_ERR_THRESHOLD, verbose=False)"
   ]
  }
 ],
 "metadata": {
  "kernelspec": {
   "display_name": "phlamesenv",
   "language": "python",
   "name": "python3"
  },
  "language_info": {
   "codemirror_mode": {
    "name": "ipython",
    "version": 3
   },
   "file_extension": ".py",
   "mimetype": "text/x-python",
   "name": "python",
   "nbconvert_exporter": "python",
   "pygments_lexer": "ipython3",
   "version": "3.11.2"
  },
  "papermill": {
   "default_parameters": {},
   "duration": null,
   "end_time": null,
   "environment_variables": {},
   "exception": null,
   "input_path": "buildAlphaCSCResults.ipynb",
   "output_path": "out_alpha_db.ipynb",
   "parameters": {},
   "start_time": "2024-07-28T15:28:25.775046",
   "version": "2.6.0"
  }
 },
 "nbformat": 4,
 "nbformat_minor": 5
}