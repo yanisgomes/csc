{
 "cells": [
  {
   "cell_type": "markdown",
   "id": "550d8a86",
   "metadata": {
    "papermill": {
     "duration": 0.0067,
     "end_time": "2024-07-30T15:09:40.355744",
     "exception": false,
     "start_time": "2024-07-30T15:09:40.349044",
     "status": "completed"
    },
    "tags": []
   },
   "source": [
    "# Build SparVar MMP Database"
   ]
  },
  {
   "cell_type": "code",
   "execution_count": 1,
   "id": "cd685f5c",
   "metadata": {
    "execution": {
     "iopub.execute_input": "2024-07-30T15:09:40.367481Z",
     "iopub.status.busy": "2024-07-30T15:09:40.366737Z",
     "iopub.status.idle": "2024-07-30T15:09:45.219756Z",
     "shell.execute_reply": "2024-07-30T15:09:45.218656Z"
    },
    "papermill": {
     "duration": 4.861381,
     "end_time": "2024-07-30T15:09:45.221886",
     "exception": false,
     "start_time": "2024-07-30T15:09:40.360505",
     "status": "completed"
    },
    "tags": []
   },
   "outputs": [
    {
     "name": "stdout",
     "output_type": "stream",
     "text": [
      "The dictionary has 143 different atoms\n"
     ]
    }
   ],
   "source": [
    "import numpy as np\n",
    "from csc.utils import *\n",
    "from csc.atoms import *\n",
    "from csc.workbench import *\n",
    "from csc.dictionary import *\n",
    "from itertools import product\n",
    "import matplotlib.pyplot as plt\n",
    "\n",
    "# Atom parameters\n",
    "bmin = 0.005\n",
    "bmax = 0.06\n",
    "b_step = 0.005\n",
    "b_values = np.arange(bmin, bmax, b_step)\n",
    "\n",
    "ymin = 0.010\n",
    "ymax = 0.036\n",
    "y_step = 0.002\n",
    "y_values = np.arange(ymin, ymax, y_step)\n",
    "\n",
    "s_values = [1]\n",
    "\n",
    "dictionary = ZSDictionary.from_values(b_values, y_values, s_values)\n",
    "print('The dictionary has {} different atoms'.format(len(dictionary)))"
   ]
  },
  {
   "cell_type": "markdown",
   "id": "18808f12",
   "metadata": {
    "papermill": {
     "duration": 0.003226,
     "end_time": "2024-07-30T15:09:45.229252",
     "exception": false,
     "start_time": "2024-07-30T15:09:45.226026",
     "status": "completed"
    },
    "tags": []
   },
   "source": [
    "## Build sparsity variation database\n",
    "\n",
    "#### Format :\n",
    "````\n",
    "'source' = input_filename\n",
    "'date' = get_today_date_str()\n",
    "'algorithm' = 'Convolutional MMP-DF'\n",
    "'nbBranches' = branches\n",
    "'connections' = connections\n",
    "'dissimilarity' = dissimilarity\n",
    "'maxSparsityLevel' = max_sparsity\n",
    "'batchSize' = data['batchSize']\n",
    "'snrLevels' = data['snrLevels']\n",
    "'signalLength' = data['signalLength']\n",
    "'sparsityLevels' = data['sparsityLevels']\n",
    "'dictionary' = str(self)\n",
    "'mmp' : \n",
    "    [\n",
    "        {\n",
    "            'id' : 0,\n",
    "            'snr' : snr,\n",
    "            'results' : [\n",
    "                {\n",
    "                    'mse' : #MSE,\n",
    "                    'path' : '2'\n",
    "                    'delay' : #DELAY,\n",
    "                    'atoms' : [\n",
    "                        {'x':x, 'b':b, 'y':y, 's':s}\n",
    "                        #1\n",
    "                    ]\n",
    "                },\n",
    "                ...\n",
    "                {\n",
    "                    'mse' : #MSE,\n",
    "                    'path' : '2-3-...-1'\n",
    "                    'delay' : #DELAY,\n",
    "                    'atoms' : [\n",
    "                        {'x':x, 'b':b, 'y':y, 's':s}\n",
    "                        #max_sparsity\n",
    "                    ]\n",
    "                }\n",
    "                ]\n",
    "        },\n",
    "        {\n",
    "            'id' : 1,\n",
    "            ...\n",
    "        },\n",
    "\n",
    "        ...\n",
    "\n",
    "    ]\n",
    "````"
   ]
  },
  {
   "cell_type": "code",
   "execution_count": 2,
   "id": "a752bdc0",
   "metadata": {
    "execution": {
     "iopub.execute_input": "2024-07-30T15:09:45.240166Z",
     "iopub.status.busy": "2024-07-30T15:09:45.237841Z",
     "iopub.status.idle": "2024-07-30T15:09:45.246923Z",
     "shell.execute_reply": "2024-07-30T15:09:45.245835Z"
    },
    "papermill": {
     "duration": 0.017205,
     "end_time": "2024-07-30T15:09:45.249587",
     "exception": false,
     "start_time": "2024-07-30T15:09:45.232382",
     "status": "completed"
    },
    "tags": []
   },
   "outputs": [],
   "source": [
    "batchSize = 200\n",
    "constrained_signals_db = f'/home/gomes/synthetic-data/constrained-signals-{batchSize}.json'"
   ]
  },
  {
   "cell_type": "markdown",
   "id": "a686c631",
   "metadata": {
    "papermill": {
     "duration": 0.002997,
     "end_time": "2024-07-30T15:09:45.255995",
     "exception": false,
     "start_time": "2024-07-30T15:09:45.252998",
     "status": "completed"
    },
    "tags": []
   },
   "source": [
    "### Check the ``DISSIMILARITY`` threshold"
   ]
  },
  {
   "cell_type": "code",
   "execution_count": null,
   "id": "e18f5580",
   "metadata": {
    "papermill": {
     "duration": null,
     "end_time": null,
     "exception": false,
     "start_time": "2024-07-30T15:09:45.258837",
     "status": "running"
    },
    "tags": []
   },
   "outputs": [],
   "source": [
    "# Pipeline parameters\n",
    "NB_CORES = 20\n",
    "BRANCHES = 27\n",
    "CONNECTIONS = 3\n",
    "MAX_SPARSITY = 10\n",
    "\n",
    "DISSIMILARITY = 0.4 ## << DISSIMILARITY >>\n",
    "\n",
    "# Run pipeline\n",
    "today = get_today_date_str()\n",
    "output_mmpdf_db = f'/home/gomes/synthetic-data/borelli-mmpdf{BRANCHES}-{batchSize}.json'\n",
    "dictionary.mmpdfSparVarPipelineFromDB(constrained_signals_db, output_mmpdf_db, nb_cores=NB_CORES, connections=CONNECTIONS, dissimilarity=DISSIMILARITY, branches=BRANCHES, max_sparsity=MAX_SPARSITY, compute_time_type='global', verbose=False)"
   ]
  }
 ],
 "metadata": {
  "kernelspec": {
   "display_name": "phlamesenv",
   "language": "python",
   "name": "python3"
  },
  "language_info": {
   "codemirror_mode": {
    "name": "ipython",
    "version": 3
   },
   "file_extension": ".py",
   "mimetype": "text/x-python",
   "name": "python",
   "nbconvert_exporter": "python",
   "pygments_lexer": "ipython3",
   "version": "3.11.2"
  },
  "papermill": {
   "default_parameters": {},
   "duration": null,
   "end_time": null,
   "environment_variables": {},
   "exception": null,
   "input_path": "buildBorelliMMP27.ipynb",
   "output_path": "out_borelli_mmp27.ipynb",
   "parameters": {},
   "start_time": "2024-07-30T15:09:38.620057",
   "version": "2.6.0"
  }
 },
 "nbformat": 4,
 "nbformat_minor": 5
}