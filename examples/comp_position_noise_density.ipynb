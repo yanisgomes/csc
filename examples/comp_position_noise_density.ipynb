{
 "cells": [
  {
   "cell_type": "markdown",
   "metadata": {},
   "source": [
    "### Erreur en position\n",
    "Pour chaque pos réelle prendre la plus proche pour l'association\n",
    "\n",
    "histogramme pour un niveau de bruit donné\n",
    "abscisse = erreur en position\n",
    "ordonnée = densité"
   ]
  },
  {
   "cell_type": "code",
   "execution_count": 1,
   "metadata": {},
   "outputs": [
    {
     "name": "stdout",
     "output_type": "stream",
     "text": [
      "The dictionary has 1428 different atoms\n"
     ]
    }
   ],
   "source": [
    "import numpy as np\n",
    "from numba import njit\n",
    "from csc.atoms import *\n",
    "from csc.dictionary import *\n",
    "import matplotlib.pyplot as plt\n",
    "\n",
    "# atom parameters\n",
    "bmin = 0.005\n",
    "bmax = 0.60\n",
    "b_step = 0.005\n",
    "b_values = np.arange(bmin, bmax, b_step)\n",
    "\n",
    "ymin = 0.01\n",
    "ymax = 0.034\n",
    "y_step = 0.002\n",
    "y_values = np.arange(ymin, ymax, y_step)\n",
    "\n",
    "s_values = [1]\n",
    "\n",
    "dictionary = ZSDictionary.from_values(b_values, y_values, s_values)\n",
    "print('The dictionary has {} different atoms'.format(len(dictionary)))"
   ]
  },
  {
   "cell_type": "markdown",
   "metadata": {},
   "source": [
    "#### Position matching error example"
   ]
  },
  {
   "cell_type": "code",
   "execution_count": 2,
   "metadata": {},
   "outputs": [
    {
     "name": "stdout",
     "output_type": "stream",
     "text": [
      "Erreur en position :  [-1, 2]\n"
     ]
    }
   ],
   "source": [
    "atoms_dict = [{'x':11, 'b':0.01, 'y':0.02, 's':1},{\"x\":20, \"b\":0.01, \"y\":0.02, \"s\":1}]\n",
    "recov_atoms_dict = [{'x':10, 'b':0.01, 'y':0.02, 's':1},{\"x\":22, \"b\":0.01, \"y\":0.02, 's':1}]\n",
    "pos_error = dictionary.atomsDictPositionMatchingErrors(atoms_dict, recov_atoms_dict)\n",
    "print(\"Erreur en position : \", pos_error)"
   ]
  },
  {
   "cell_type": "code",
   "execution_count": 3,
   "metadata": {},
   "outputs": [
    {
     "data": {
      "image/png": "[encoded data removed]",
      "text/plain": [
       "<Figure size 1000x200 with 1 Axes>"
      ]
     },
     "metadata": {},
     "output_type": "display_data"
    }
   ],
   "source": [
    "combinations = list(product(b_values, y_values, s_values))\n",
    "# Create ZSAtom objects for each combination\n",
    "zs_atoms = [ZSAtom(b, y, s) for b, y, s in combinations]\n",
    "max_len_idx = np.argmax([len(atom) for atom in zs_atoms])\n",
    "max_atom = zs_atoms[max_len_idx]\n",
    "x, s = max_atom.getPlots()\n",
    "\n",
    "fig, axs = plt.subplots(1, 1, figsize=(10, 2))\n",
    "axs.plot(x, s)\n",
    "axs.set_title('Max atom length: {}'.format(len(max_atom)))\n",
    "plt.show()"
   ]
  },
  {
   "cell_type": "code",
   "execution_count": 4,
   "metadata": {},
   "outputs": [
    {
     "name": "stdout",
     "output_type": "stream",
     "text": [
      "~~~OMP Test Batch of 3 signals ~~~\n",
      "========= Signal 1/3 =========\n",
      "OMP 1/3\n",
      "OMP 2/3\n",
      "OMP 3/3\n",
      "Temps d'exécution de omp: 10.816512 secondes.\n",
      "========= Signal 2/3 =========\n",
      "OMP 1/3\n",
      "OMP 2/3\n",
      "OMP 3/3\n",
      "Temps d'exécution de omp: 9.886797 secondes.\n",
      "========= Signal 3/3 =========\n",
      "OMP 1/3\n",
      "OMP 2/3\n",
      "OMP 3/3\n",
      "Temps d'exécution de omp: 9.105840 secondes.\n",
      "Temps d'exécution de ompTestBatch: 29.815230 secondes.\n",
      "Temps d'exécution de ompPositionErrorBatch: 29.815943 secondes.\n"
     ]
    }
   ],
   "source": [
    "dictionary.enable_timing()\n",
    "positionErrorCounter = dictionary.ompPositionErrorBatch(\n",
    "    sparsity_level=3,\n",
    "    noise_level=0.005,\n",
    "    batch_size=3,\n",
    "    verbose=True\n",
    ")"
   ]
  },
  {
   "cell_type": "code",
   "execution_count": 5,
   "metadata": {},
   "outputs": [
    {
     "name": "stdout",
     "output_type": "stream",
     "text": [
      "1 : atomsDictPositionMatchingErrors in 0.00s\n",
      "2 : getMaskedConvOperator in 0.24s\n",
      "3 : computeConvolutions in 0.29s\n",
      "4 : computeCorrelations in 0.49s\n",
      "5 : omp in 9.94s\n",
      "6 : ompTestBatch in 29.82s\n",
      "7 : ompPositionErrorBatch in 29.82s\n"
     ]
    }
   ],
   "source": [
    "perf = dictionary.performance_log\n",
    "sorted_perf = [(key, np.mean(perf[key])) for key in perf.keys()]\n",
    "sorted_perf.sort(key=lambda x: x[1])\n",
    "for i, p in enumerate(sorted_perf) :\n",
    "    print('{} : {} in {:.2f}s'.format(i+1, p[0], p[1]))"
   ]
  },
  {
   "cell_type": "code",
   "execution_count": null,
   "metadata": {},
   "outputs": [],
   "source": [
    "positionErrors3 = dictionary.ompPositionErrorPipeline(sparsity_level=3, batch_size=20, verbose=True)"
   ]
  }
 ],
 "metadata": {
  "kernelspec": {
   "display_name": "phlamesenv",
   "language": "python",
   "name": "python3"
  },
  "language_info": {
   "codemirror_mode": {
    "name": "ipython",
    "version": 3
   },
   "file_extension": ".py",
   "mimetype": "text/x-python",
   "name": "python",
   "nbconvert_exporter": "python",
   "pygments_lexer": "ipython3",
   "version": "3.11.2"
  }
 },
 "nbformat": 4,
 "nbformat_minor": 2
}
