{
 "cells": [
  {
   "cell_type": "markdown",
   "id": "8d2189a6",
   "metadata": {
    "papermill": {
     "duration": 0.00489,
     "end_time": "2024-05-31T08:50:35.161197",
     "exception": false,
     "start_time": "2024-05-31T08:50:35.156307",
     "status": "completed"
    },
    "tags": []
   },
   "source": [
    "### Erreur en position ``sparsity_level = 5`` & ``batch_size = 200``"
   ]
  },
  {
   "cell_type": "code",
   "execution_count": 1,
   "id": "76265990",
   "metadata": {
    "execution": {
     "iopub.execute_input": "2024-05-31T08:50:35.170176Z",
     "iopub.status.busy": "2024-05-31T08:50:35.169404Z",
     "iopub.status.idle": "2024-05-31T08:50:41.164402Z",
     "shell.execute_reply": "2024-05-31T08:50:41.155817Z"
    },
    "papermill": {
     "duration": 6.004667,
     "end_time": "2024-05-31T08:50:41.169525",
     "exception": false,
     "start_time": "2024-05-31T08:50:35.164858",
     "status": "completed"
    },
    "tags": []
   },
   "outputs": [
    {
     "name": "stdout",
     "output_type": "stream",
     "text": [
      "The dictionary has 1428 different atoms\n"
     ]
    }
   ],
   "source": [
    "import numpy as np\n",
    "import pandas as pd\n",
    "from numba import njit\n",
    "from csc.atoms import *\n",
    "from csc.dictionary import *\n",
    "import matplotlib.pyplot as plt\n",
    "\n",
    "# atom parameters\n",
    "bmin = 0.005\n",
    "bmax = 0.60\n",
    "b_step = 0.005\n",
    "b_values = np.arange(bmin, bmax, b_step)\n",
    "\n",
    "ymin = 0.01\n",
    "ymax = 0.034\n",
    "y_step = 0.002\n",
    "y_values = np.arange(ymin, ymax, y_step)\n",
    "\n",
    "s_values = [1]\n",
    "\n",
    "dictionary = ZSDictionary.from_values(b_values, y_values, s_values)\n",
    "print('The dictionary has {} different atoms'.format(len(dictionary)))"
   ]
  },
  {
   "cell_type": "code",
   "execution_count": 2,
   "id": "12f1e409",
   "metadata": {
    "execution": {
     "iopub.execute_input": "2024-05-31T08:50:41.182484Z",
     "iopub.status.busy": "2024-05-31T08:50:41.181326Z"
    },
    "papermill": {
     "duration": null,
     "end_time": null,
     "exception": false,
     "start_time": "2024-05-31T08:50:41.173606",
     "status": "running"
    },
    "tags": []
   },
   "outputs": [
    {
     "name": "stderr",
     "output_type": "stream",
     "text": [
      "\r",
      "OMP Test Batch for noise_level = 0.00:   0%|          | 0/200 [00:00<?, ?it/s]"
     ]
    },
    {
     "name": "stderr",
     "output_type": "stream",
     "text": [
      "\r",
      "OMP Test Batch for noise_level = 0.01:   0%|          | 0/200 [00:00<?, ?it/s]"
     ]
    },
    {
     "name": "stderr",
     "output_type": "stream",
     "text": [
      "\r",
      "OMP Test Batch for noise_level = 0.02:   0%|          | 0/200 [00:00<?, ?it/s]"
     ]
    },
    {
     "name": "stderr",
     "output_type": "stream",
     "text": [
      "\r",
      "OMP Test Batch for noise_level = 0.03:   0%|          | 0/200 [00:00<?, ?it/s]"
     ]
    },
    {
     "name": "stderr",
     "output_type": "stream",
     "text": [
      "\r",
      "OMP Test Batch for noise_level = 0.04:   0%|          | 0/200 [00:00<?, ?it/s]"
     ]
    },
    {
     "name": "stderr",
     "output_type": "stream",
     "text": [
      "\r",
      "OMP Test Batch for noise_level = 0.05:   0%|          | 0/200 [00:00<?, ?it/s]"
     ]
    },
    {
     "name": "stderr",
     "output_type": "stream",
     "text": [
      "\r",
      "OMP Test Batch for noise_level = 0.06:   0%|          | 0/200 [00:00<?, ?it/s]"
     ]
    },
    {
     "name": "stderr",
     "output_type": "stream",
     "text": [
      "\r",
      "OMP Test Batch for noise_level = 0.07:   0%|          | 0/200 [00:00<?, ?it/s]"
     ]
    },
    {
     "name": "stderr",
     "output_type": "stream",
     "text": [
      "\r",
      "OMP Test Batch for noise_level = 0.08:   0%|          | 0/200 [00:00<?, ?it/s]"
     ]
    },
    {
     "name": "stderr",
     "output_type": "stream",
     "text": [
      "\r",
      "OMP Test Batch for noise_level = 0.09:   0%|          | 0/200 [00:00<?, ?it/s]"
     ]
    },
    {
     "name": "stderr",
     "output_type": "stream",
     "text": [
      "\r",
      "OMP Test Batch for noise_level = 0.10:   0%|          | 0/200 [00:00<?, ?it/s]"
     ]
    },
    {
     "name": "stderr",
     "output_type": "stream",
     "text": [
      "\r",
      "OMP Test Batch for noise_level = 0.12:   0%|          | 0/200 [00:00<?, ?it/s]"
     ]
    },
    {
     "name": "stderr",
     "output_type": "stream",
     "text": [
      "\r",
      "OMP Test Batch for noise_level = 0.14:   0%|          | 0/200 [00:00<?, ?it/s]"
     ]
    },
    {
     "name": "stderr",
     "output_type": "stream",
     "text": [
      "\r",
      "OMP Test Batch for noise_level = 0.16:   0%|          | 0/200 [00:00<?, ?it/s]"
     ]
    },
    {
     "name": "stderr",
     "output_type": "stream",
     "text": [
      "\r",
      "OMP Test Batch for noise_level = 0.18:   0%|          | 0/200 [00:00<?, ?it/s]"
     ]
    },
    {
     "name": "stderr",
     "output_type": "stream",
     "text": [
      "\r",
      "OMP Test Batch for noise_level = 0.20:   0%|          | 0/200 [00:00<?, ?it/s]"
     ]
    },
    {
     "name": "stderr",
     "output_type": "stream",
     "text": [
      "\r",
      "OMP Test Batch for noise_level = 0.18:   0%|          | 1/200 [03:50<12:44:28, 230.50s/it]"
     ]
    },
    {
     "name": "stderr",
     "output_type": "stream",
     "text": [
      "\r",
      "OMP Test Batch for noise_level = 0.01:   0%|          | 1/200 [04:07<13:40:41, 247.45s/it]"
     ]
    },
    {
     "name": "stderr",
     "output_type": "stream",
     "text": [
      "\r",
      "OMP Test Batch for noise_level = 0.02:   0%|          | 1/200 [04:07<13:39:30, 247.09s/it]\r",
      "OMP Test Batch for noise_level = 0.00:   0%|          | 1/200 [04:09<13:48:24, 249.77s/it]"
     ]
    },
    {
     "name": "stderr",
     "output_type": "stream",
     "text": [
      "\r",
      "OMP Test Batch for noise_level = 0.07:   0%|          | 1/200 [04:04<13:31:05, 244.55s/it]"
     ]
    },
    {
     "name": "stderr",
     "output_type": "stream",
     "text": [
      "\r",
      "OMP Test Batch for noise_level = 0.05:   0%|          | 1/200 [04:07<13:39:28, 247.08s/it]"
     ]
    },
    {
     "name": "stderr",
     "output_type": "stream",
     "text": [
      "\r",
      "OMP Test Batch for noise_level = 0.16:   0%|          | 1/200 [04:02<13:23:16, 242.19s/it]"
     ]
    },
    {
     "name": "stderr",
     "output_type": "stream",
     "text": [
      "\r",
      "OMP Test Batch for noise_level = 0.14:   0%|          | 1/200 [04:04<13:32:09, 244.87s/it]"
     ]
    },
    {
     "name": "stderr",
     "output_type": "stream",
     "text": [
      "\r",
      "OMP Test Batch for noise_level = 0.06:   0%|          | 1/200 [04:15<14:06:22, 255.19s/it]"
     ]
    },
    {
     "name": "stderr",
     "output_type": "stream",
     "text": [
      "\r",
      "OMP Test Batch for noise_level = 0.03:   0%|          | 1/200 [04:20<14:23:53, 260.47s/it]"
     ]
    },
    {
     "name": "stderr",
     "output_type": "stream",
     "text": [
      "\r",
      "OMP Test Batch for noise_level = 0.08:   0%|          | 1/200 [04:19<14:19:34, 259.17s/it]"
     ]
    },
    {
     "name": "stderr",
     "output_type": "stream",
     "text": [
      "\r",
      "OMP Test Batch for noise_level = 0.20:   0%|          | 1/200 [04:12<13:56:51, 252.32s/it]"
     ]
    },
    {
     "name": "stderr",
     "output_type": "stream",
     "text": [
      "\r",
      "OMP Test Batch for noise_level = 0.09:   0%|          | 1/200 [04:20<14:25:25, 260.93s/it]"
     ]
    },
    {
     "name": "stderr",
     "output_type": "stream",
     "text": [
      "\r",
      "OMP Test Batch for noise_level = 0.04:   0%|          | 1/200 [04:31<14:59:20, 271.16s/it]"
     ]
    },
    {
     "name": "stderr",
     "output_type": "stream",
     "text": [
      "\r",
      "OMP Test Batch for noise_level = 0.10:   0%|          | 1/200 [04:27<14:45:41, 267.04s/it]"
     ]
    },
    {
     "name": "stderr",
     "output_type": "stream",
     "text": [
      "\r",
      "OMP Test Batch for noise_level = 0.12:   0%|          | 1/200 [04:30<14:55:48, 270.10s/it]"
     ]
    },
    {
     "name": "stderr",
     "output_type": "stream",
     "text": [
      "\r",
      "OMP Test Batch for noise_level = 0.18:   1%|          | 2/200 [07:56<13:11:38, 239.89s/it]"
     ]
    },
    {
     "name": "stderr",
     "output_type": "stream",
     "text": [
      "\r",
      "OMP Test Batch for noise_level = 0.00:   1%|          | 2/200 [08:14<13:35:01, 246.98s/it]"
     ]
    },
    {
     "name": "stderr",
     "output_type": "stream",
     "text": [
      "\r",
      "OMP Test Batch for noise_level = 0.10:   1%|          | 2/200 [08:04<13:04:50, 237.83s/it]"
     ]
    },
    {
     "name": "stderr",
     "output_type": "stream",
     "text": [
      "\r",
      "OMP Test Batch for noise_level = 0.01:   1%|          | 2/200 [08:17<13:42:36, 249.27s/it]"
     ]
    },
    {
     "name": "stderr",
     "output_type": "stream",
     "text": [
      "\r",
      "OMP Test Batch for noise_level = 0.05:   1%|          | 2/200 [08:17<13:41:33, 248.96s/it]"
     ]
    },
    {
     "name": "stderr",
     "output_type": "stream",
     "text": [
      "\r",
      "OMP Test Batch for noise_level = 0.02:   1%|          | 2/200 [08:20<13:48:13, 250.98s/it]"
     ]
    },
    {
     "name": "stderr",
     "output_type": "stream",
     "text": [
      "\r",
      "OMP Test Batch for noise_level = 0.14:   1%|          | 2/200 [08:15<13:38:34, 248.06s/it]"
     ]
    },
    {
     "name": "stderr",
     "output_type": "stream",
     "text": [
      "\r",
      "OMP Test Batch for noise_level = 0.20:   1%|          | 2/200 [08:17<13:38:32, 248.04s/it]"
     ]
    },
    {
     "name": "stderr",
     "output_type": "stream",
     "text": [
      "\r",
      "OMP Test Batch for noise_level = 0.12:   1%|          | 2/200 [08:25<13:44:21, 249.80s/it]"
     ]
    },
    {
     "name": "stderr",
     "output_type": "stream",
     "text": [
      "\r",
      "OMP Test Batch for noise_level = 0.16:   1%|          | 2/200 [08:23<13:56:34, 253.51s/it]"
     ]
    },
    {
     "name": "stderr",
     "output_type": "stream",
     "text": [
      "\r",
      "OMP Test Batch for noise_level = 0.08:   1%|          | 2/200 [08:29<13:58:47, 254.18s/it]"
     ]
    },
    {
     "name": "stderr",
     "output_type": "stream",
     "text": [
      "\r",
      "OMP Test Batch for noise_level = 0.06:   1%|          | 2/200 [08:34<14:10:31, 257.73s/it]"
     ]
    },
    {
     "name": "stderr",
     "output_type": "stream",
     "text": [
      "\r",
      "OMP Test Batch for noise_level = 0.07:   1%|          | 2/200 [08:35<14:17:18, 259.79s/it]"
     ]
    },
    {
     "name": "stderr",
     "output_type": "stream",
     "text": [
      "\r",
      "OMP Test Batch for noise_level = 0.09:   1%|          | 2/200 [08:42<14:22:28, 261.35s/it]"
     ]
    },
    {
     "name": "stderr",
     "output_type": "stream",
     "text": [
      "\r",
      "OMP Test Batch for noise_level = 0.03:   1%|          | 2/200 [08:49<14:36:23, 265.57s/it]"
     ]
    },
    {
     "name": "stderr",
     "output_type": "stream",
     "text": [
      "\r",
      "OMP Test Batch for noise_level = 0.04:   1%|          | 2/200 [09:11<15:13:11, 276.72s/it]"
     ]
    },
    {
     "name": "stderr",
     "output_type": "stream",
     "text": [
      "\r",
      "OMP Test Batch for noise_level = 0.00:   2%|▏         | 3/200 [11:56<12:53:31, 235.59s/it]"
     ]
    },
    {
     "name": "stderr",
     "output_type": "stream",
     "text": [
      "\r",
      "OMP Test Batch for noise_level = 0.10:   2%|▏         | 3/200 [11:49<12:42:01, 232.09s/it]"
     ]
    },
    {
     "name": "stderr",
     "output_type": "stream",
     "text": [
      "\r",
      "OMP Test Batch for noise_level = 0.18:   2%|▏         | 3/200 [11:49<12:57:02, 236.66s/it]"
     ]
    },
    {
     "name": "stderr",
     "output_type": "stream",
     "text": [
      "\r",
      "OMP Test Batch for noise_level = 0.01:   2%|▏         | 3/200 [12:14<13:18:54, 243.32s/it]"
     ]
    },
    {
     "name": "stderr",
     "output_type": "stream",
     "text": [
      "\r",
      "OMP Test Batch for noise_level = 0.05:   2%|▏         | 3/200 [12:14<13:19:53, 243.62s/it]"
     ]
    },
    {
     "name": "stderr",
     "output_type": "stream",
     "text": [
      "\r",
      "OMP Test Batch for noise_level = 0.14:   2%|▏         | 3/200 [12:16<13:24:13, 244.94s/it]"
     ]
    },
    {
     "name": "stderr",
     "output_type": "stream",
     "text": [
      "\r",
      "OMP Test Batch for noise_level = 0.20:   2%|▏         | 3/200 [12:21<13:27:51, 246.05s/it]\r",
      "OMP Test Batch for noise_level = 0.02:   2%|▏         | 3/200 [12:34<13:48:30, 252.34s/it]"
     ]
    },
    {
     "name": "stderr",
     "output_type": "stream",
     "text": [
      "\r",
      "OMP Test Batch for noise_level = 0.16:   2%|▏         | 3/200 [12:31<13:44:17, 251.06s/it]"
     ]
    },
    {
     "name": "stderr",
     "output_type": "stream",
     "text": [
      "\r",
      "OMP Test Batch for noise_level = 0.07:   2%|▏         | 3/200 [12:40<13:51:32, 253.26s/it]"
     ]
    },
    {
     "name": "stderr",
     "output_type": "stream",
     "text": [
      "\r",
      "OMP Test Batch for noise_level = 0.12:   2%|▏         | 3/200 [12:42<13:50:08, 252.83s/it]"
     ]
    },
    {
     "name": "stderr",
     "output_type": "stream",
     "text": [
      "\r",
      "OMP Test Batch for noise_level = 0.08:   2%|▏         | 3/200 [12:47<13:59:10, 255.59s/it]"
     ]
    },
    {
     "name": "stderr",
     "output_type": "stream",
     "text": [
      "\r",
      "OMP Test Batch for noise_level = 0.03:   2%|▏         | 3/200 [12:53<13:59:13, 255.60s/it]"
     ]
    },
    {
     "name": "stderr",
     "output_type": "stream",
     "text": [
      "\r",
      "OMP Test Batch for noise_level = 0.06:   2%|▏         | 3/200 [12:53<14:07:15, 258.05s/it]"
     ]
    },
    {
     "name": "stderr",
     "output_type": "stream",
     "text": [
      "\r",
      "OMP Test Batch for noise_level = 0.09:   2%|▏         | 3/200 [12:53<14:02:08, 256.49s/it]"
     ]
    },
    {
     "name": "stderr",
     "output_type": "stream",
     "text": [
      "\r",
      "OMP Test Batch for noise_level = 0.04:   2%|▏         | 3/200 [13:32<14:44:37, 269.43s/it]"
     ]
    },
    {
     "name": "stderr",
     "output_type": "stream",
     "text": [
      "\r",
      "OMP Test Batch for noise_level = 0.18:   2%|▏         | 4/200 [15:26<12:27:09, 228.72s/it]"
     ]
    },
    {
     "name": "stderr",
     "output_type": "stream",
     "text": [
      "\r",
      "OMP Test Batch for noise_level = 0.05:   2%|▏         | 4/200 [15:58<12:50:46, 235.95s/it]"
     ]
    },
    {
     "name": "stderr",
     "output_type": "stream",
     "text": [
      "\r",
      "OMP Test Batch for noise_level = 0.00:   2%|▏         | 4/200 [16:09<13:11:56, 242.43s/it]"
     ]
    },
    {
     "name": "stderr",
     "output_type": "stream",
     "text": [
      "\r",
      "OMP Test Batch for noise_level = 0.10:   2%|▏         | 4/200 [16:05<13:08:15, 241.30s/it]"
     ]
    },
    {
     "name": "stderr",
     "output_type": "stream",
     "text": [
      "\r",
      "OMP Test Batch for noise_level = 0.02:   2%|▏         | 4/200 [16:22<13:13:12, 242.82s/it]"
     ]
    },
    {
     "name": "stderr",
     "output_type": "stream",
     "text": [
      "\r",
      "OMP Test Batch for noise_level = 0.14:   2%|▏         | 4/200 [16:23<13:22:36, 245.70s/it]"
     ]
    },
    {
     "name": "stderr",
     "output_type": "stream",
     "text": [
      "\r",
      "OMP Test Batch for noise_level = 0.01:   2%|▏         | 4/200 [16:38<13:42:06, 251.66s/it]"
     ]
    },
    {
     "name": "stderr",
     "output_type": "stream",
     "text": [
      "\r",
      "OMP Test Batch for noise_level = 0.16:   2%|▏         | 4/200 [16:39<13:35:45, 249.72s/it]"
     ]
    },
    {
     "name": "stderr",
     "output_type": "stream",
     "text": [
      "\r",
      "OMP Test Batch for noise_level = 0.20:   2%|▏         | 4/200 [16:40<13:40:42, 251.24s/it]"
     ]
    },
    {
     "name": "stderr",
     "output_type": "stream",
     "text": [
      "\r",
      "OMP Test Batch for noise_level = 0.08:   2%|▏         | 4/200 [17:04<13:57:09, 256.27s/it]"
     ]
    },
    {
     "name": "stderr",
     "output_type": "stream",
     "text": [
      "\r",
      "OMP Test Batch for noise_level = 0.09:   2%|▏         | 4/200 [17:06<13:53:09, 255.05s/it]"
     ]
    },
    {
     "name": "stderr",
     "output_type": "stream",
     "text": [
      "\r",
      "OMP Test Batch for noise_level = 0.12:   2%|▏         | 4/200 [17:05<14:00:03, 257.16s/it]"
     ]
    },
    {
     "name": "stderr",
     "output_type": "stream",
     "text": [
      "\r",
      "OMP Test Batch for noise_level = 0.06:   2%|▏         | 4/200 [17:11<14:03:48, 258.31s/it]"
     ]
    },
    {
     "name": "stderr",
     "output_type": "stream",
     "text": [
      "\r",
      "OMP Test Batch for noise_level = 0.07:   2%|▏         | 4/200 [17:12<14:11:42, 260.73s/it]"
     ]
    },
    {
     "name": "stderr",
     "output_type": "stream",
     "text": [
      "\r",
      "OMP Test Batch for noise_level = 0.03:   2%|▏         | 4/200 [17:33<14:27:12, 265.47s/it]"
     ]
    },
    {
     "name": "stderr",
     "output_type": "stream",
     "text": [
      "\r",
      "OMP Test Batch for noise_level = 0.04:   2%|▏         | 4/200 [18:07<14:46:51, 271.49s/it]"
     ]
    },
    {
     "name": "stderr",
     "output_type": "stream",
     "text": [
      "\r",
      "OMP Test Batch for noise_level = 0.18:   2%|▎         | 5/200 [19:28<12:39:34, 233.72s/it]"
     ]
    },
    {
     "name": "stderr",
     "output_type": "stream",
     "text": [
      "\r",
      "OMP Test Batch for noise_level = 0.02:   2%|▎         | 5/200 [20:07<12:47:09, 236.05s/it]"
     ]
    },
    {
     "name": "stderr",
     "output_type": "stream",
     "text": [
      "\r",
      "OMP Test Batch for noise_level = 0.14:   2%|▎         | 5/200 [20:00<12:44:36, 235.27s/it]\r",
      "OMP Test Batch for noise_level = 0.00:   2%|▎         | 5/200 [20:12<13:08:48, 242.71s/it]"
     ]
    },
    {
     "name": "stderr",
     "output_type": "stream",
     "text": [
      "\r",
      "OMP Test Batch for noise_level = 0.10:   2%|▎         | 5/200 [20:04<13:01:25, 240.44s/it]"
     ]
    },
    {
     "name": "stderr",
     "output_type": "stream",
     "text": [
      "\r",
      "OMP Test Batch for noise_level = 0.16:   2%|▎         | 5/200 [20:05<12:40:58, 234.14s/it]"
     ]
    },
    {
     "name": "stderr",
     "output_type": "stream",
     "text": [
      "\r",
      "OMP Test Batch for noise_level = 0.05:   2%|▎         | 5/200 [20:18<13:14:17, 244.40s/it]"
     ]
    },
    {
     "name": "stderr",
     "output_type": "stream",
     "text": [
      "\r",
      "OMP Test Batch for noise_level = 0.20:   2%|▎         | 5/200 [20:30<13:11:50, 243.65s/it]"
     ]
    },
    {
     "name": "stderr",
     "output_type": "stream",
     "text": [
      "\r",
      "OMP Test Batch for noise_level = 0.01:   2%|▎         | 5/200 [20:51<13:39:21, 252.11s/it]"
     ]
    },
    {
     "name": "stderr",
     "output_type": "stream",
     "text": [
      "\r",
      "OMP Test Batch for noise_level = 0.12:   2%|▎         | 5/200 [20:53<13:21:07, 246.50s/it]"
     ]
    },
    {
     "name": "stderr",
     "output_type": "stream",
     "text": [
      "\r",
      "OMP Test Batch for noise_level = 0.08:   2%|▎         | 5/200 [21:03<13:32:16, 249.93s/it]"
     ]
    },
    {
     "name": "stderr",
     "output_type": "stream",
     "text": [
      "\r",
      "OMP Test Batch for noise_level = 0.06:   2%|▎         | 5/200 [21:15<13:42:29, 253.07s/it]"
     ]
    },
    {
     "name": "stderr",
     "output_type": "stream",
     "text": [
      "\r",
      "OMP Test Batch for noise_level = 0.09:   2%|▎         | 5/200 [21:23<13:51:06, 255.72s/it]"
     ]
    },
    {
     "name": "stderr",
     "output_type": "stream",
     "text": [
      "\r",
      "OMP Test Batch for noise_level = 0.07:   2%|▎         | 5/200 [21:27<14:00:14, 258.53s/it]"
     ]
    },
    {
     "name": "stderr",
     "output_type": "stream",
     "text": [
      "\r",
      "OMP Test Batch for noise_level = 0.03:   2%|▎         | 5/200 [21:49<14:11:26, 261.98s/it]"
     ]
    },
    {
     "name": "stderr",
     "output_type": "stream",
     "text": [
      "\r",
      "OMP Test Batch for noise_level = 0.04:   2%|▎         | 5/200 [22:21<14:22:34, 265.41s/it]"
     ]
    },
    {
     "name": "stderr",
     "output_type": "stream",
     "text": [
      "\r",
      "OMP Test Batch for noise_level = 0.18:   3%|▎         | 6/200 [23:22<12:35:16, 233.59s/it]"
     ]
    },
    {
     "name": "stderr",
     "output_type": "stream",
     "text": [
      "\r",
      "OMP Test Batch for noise_level = 0.02:   3%|▎         | 6/200 [23:50<12:29:12, 231.72s/it]"
     ]
    },
    {
     "name": "stderr",
     "output_type": "stream",
     "text": [
      "\r",
      "OMP Test Batch for noise_level = 0.16:   3%|▎         | 6/200 [23:44<12:19:24, 228.68s/it]"
     ]
    },
    {
     "name": "stderr",
     "output_type": "stream",
     "text": [
      "\r",
      "OMP Test Batch for noise_level = 0.14:   3%|▎         | 6/200 [24:06<12:53:31, 239.23s/it]"
     ]
    },
    {
     "name": "stderr",
     "output_type": "stream",
     "text": [
      "\r",
      "OMP Test Batch for noise_level = 0.10:   3%|▎         | 6/200 [24:09<13:03:27, 242.30s/it]"
     ]
    },
    {
     "name": "stderr",
     "output_type": "stream",
     "text": [
      "\r",
      "OMP Test Batch for noise_level = 0.05:   3%|▎         | 6/200 [24:18<13:05:16, 242.87s/it]"
     ]
    },
    {
     "name": "stderr",
     "output_type": "stream",
     "text": [
      "\r",
      "OMP Test Batch for noise_level = 0.00:   3%|▎         | 6/200 [24:34<13:26:00, 249.28s/it]"
     ]
    },
    {
     "name": "stderr",
     "output_type": "stream",
     "text": [
      "\r",
      "OMP Test Batch for noise_level = 0.01:   3%|▎         | 6/200 [24:43<13:12:54, 245.23s/it]"
     ]
    },
    {
     "name": "stderr",
     "output_type": "stream",
     "text": [
      "\r",
      "OMP Test Batch for noise_level = 0.08:   3%|▎         | 6/200 [24:46<12:58:44, 240.85s/it]"
     ]
    },
    {
     "name": "stderr",
     "output_type": "stream",
     "text": [
      "\r",
      "OMP Test Batch for noise_level = 0.20:   3%|▎         | 6/200 [24:41<13:16:08, 246.23s/it]"
     ]
    },
    {
     "name": "stderr",
     "output_type": "stream",
     "text": [
      "\r",
      "OMP Test Batch for noise_level = 0.12:   3%|▎         | 6/200 [24:50<13:06:55, 243.38s/it]"
     ]
    },
    {
     "name": "stderr",
     "output_type": "stream",
     "text": [
      "\r",
      "OMP Test Batch for noise_level = 0.07:   3%|▎         | 6/200 [25:08<13:15:11, 245.94s/it]"
     ]
    },
    {
     "name": "stderr",
     "output_type": "stream",
     "text": [
      "\r",
      "OMP Test Batch for noise_level = 0.06:   3%|▎         | 6/200 [25:24<13:33:28, 251.59s/it]"
     ]
    },
    {
     "name": "stderr",
     "output_type": "stream",
     "text": [
      "\r",
      "OMP Test Batch for noise_level = 0.09:   3%|▎         | 6/200 [25:35<13:43:20, 254.64s/it]"
     ]
    },
    {
     "name": "stderr",
     "output_type": "stream",
     "text": [
      "\r",
      "OMP Test Batch for noise_level = 0.03:   3%|▎         | 6/200 [25:55<13:49:20, 256.50s/it]"
     ]
    },
    {
     "name": "stderr",
     "output_type": "stream",
     "text": [
      "\r",
      "OMP Test Batch for noise_level = 0.04:   3%|▎         | 6/200 [25:55<13:21:24, 247.86s/it]"
     ]
    },
    {
     "name": "stderr",
     "output_type": "stream",
     "text": [
      "\r",
      "OMP Test Batch for noise_level = 0.18:   4%|▎         | 7/200 [27:10<12:26:08, 231.96s/it]"
     ]
    },
    {
     "name": "stderr",
     "output_type": "stream",
     "text": [
      "\r",
      "OMP Test Batch for noise_level = 0.02:   4%|▎         | 7/200 [27:24<12:06:56, 225.99s/it]"
     ]
    },
    {
     "name": "stderr",
     "output_type": "stream",
     "text": [
      "\r",
      "OMP Test Batch for noise_level = 0.16:   4%|▎         | 7/200 [27:37<12:20:40, 230.26s/it]"
     ]
    },
    {
     "name": "stderr",
     "output_type": "stream",
     "text": [
      "\r",
      "OMP Test Batch for noise_level = 0.14:   4%|▎         | 7/200 [27:41<12:23:18, 231.08s/it]"
     ]
    },
    {
     "name": "stderr",
     "output_type": "stream",
     "text": [
      "\r",
      "OMP Test Batch for noise_level = 0.12:   4%|▎         | 7/200 [27:56<12:02:03, 224.48s/it]"
     ]
    },
    {
     "name": "stderr",
     "output_type": "stream",
     "text": [
      "\r",
      "OMP Test Batch for noise_level = 0.10:   4%|▎         | 7/200 [28:08<12:55:21, 241.04s/it]"
     ]
    },
    {
     "name": "stderr",
     "output_type": "stream",
     "text": [
      "\r",
      "OMP Test Batch for noise_level = 0.05:   4%|▎         | 7/200 [28:14<12:54:42, 240.84s/it]"
     ]
    },
    {
     "name": "stderr",
     "output_type": "stream",
     "text": [
      "\r",
      "OMP Test Batch for noise_level = 0.20:   4%|▎         | 7/200 [28:18<12:40:56, 236.56s/it]"
     ]
    },
    {
     "name": "stderr",
     "output_type": "stream",
     "text": [
      "\r",
      "OMP Test Batch for noise_level = 0.00:   4%|▎         | 7/200 [28:39<13:17:05, 247.80s/it]"
     ]
    },
    {
     "name": "stderr",
     "output_type": "stream",
     "text": [
      "\r",
      "OMP Test Batch for noise_level = 0.01:   4%|▎         | 7/200 [28:47<13:07:26, 244.80s/it]"
     ]
    },
    {
     "name": "stderr",
     "output_type": "stream",
     "text": [
      "\r",
      "OMP Test Batch for noise_level = 0.08:   4%|▎         | 7/200 [28:56<13:04:11, 243.79s/it]"
     ]
    },
    {
     "name": "stderr",
     "output_type": "stream",
     "text": [
      "\r",
      "OMP Test Batch for noise_level = 0.07:   4%|▎         | 7/200 [29:04<13:00:01, 242.50s/it]"
     ]
    },
    {
     "name": "stderr",
     "output_type": "stream",
     "text": [
      "\r",
      "OMP Test Batch for noise_level = 0.06:   4%|▎         | 7/200 [29:33<13:26:50, 250.83s/it]"
     ]
    },
    {
     "name": "stderr",
     "output_type": "stream",
     "text": [
      "\r",
      "OMP Test Batch for noise_level = 0.09:   4%|▎         | 7/200 [29:48<13:37:34, 254.17s/it]"
     ]
    },
    {
     "name": "stderr",
     "output_type": "stream",
     "text": [
      "\r",
      "OMP Test Batch for noise_level = 0.03:   4%|▎         | 7/200 [30:06<13:39:23, 254.74s/it]"
     ]
    },
    {
     "name": "stderr",
     "output_type": "stream",
     "text": [
      "\r",
      "OMP Test Batch for noise_level = 0.04:   4%|▎         | 7/200 [30:07<13:21:19, 249.12s/it]"
     ]
    },
    {
     "name": "stderr",
     "output_type": "stream",
     "text": [
      "\r",
      "OMP Test Batch for noise_level = 0.02:   4%|▍         | 8/200 [31:20<12:13:13, 229.13s/it]"
     ]
    },
    {
     "name": "stderr",
     "output_type": "stream",
     "text": [
      "\r",
      "OMP Test Batch for noise_level = 0.18:   4%|▍         | 8/200 [31:10<12:30:33, 234.55s/it]"
     ]
    },
    {
     "name": "stderr",
     "output_type": "stream",
     "text": [
      "\r",
      "OMP Test Batch for noise_level = 0.12:   4%|▍         | 8/200 [31:39<11:57:22, 224.18s/it]"
     ]
    },
    {
     "name": "stderr",
     "output_type": "stream",
     "text": [
      "\r",
      "OMP Test Batch for noise_level = 0.16:   4%|▍         | 8/200 [31:43<12:32:43, 235.23s/it]"
     ]
    },
    {
     "name": "stderr",
     "output_type": "stream",
     "text": [
      "\r",
      "OMP Test Batch for noise_level = 0.14:   4%|▍         | 8/200 [31:55<12:43:18, 238.53s/it]"
     ]
    },
    {
     "name": "stderr",
     "output_type": "stream",
     "text": [
      "\r",
      "OMP Test Batch for noise_level = 0.05:   4%|▍         | 8/200 [32:07<12:42:47, 238.37s/it]"
     ]
    },
    {
     "name": "stderr",
     "output_type": "stream",
     "text": [
      "\r",
      "OMP Test Batch for noise_level = 0.20:   4%|▍         | 8/200 [32:14<12:37:03, 236.58s/it]"
     ]
    },
    {
     "name": "stderr",
     "output_type": "stream",
     "text": [
      "\r",
      "OMP Test Batch for noise_level = 0.00:   4%|▍         | 8/200 [32:38<13:03:55, 244.98s/it]"
     ]
    },
    {
     "name": "stderr",
     "output_type": "stream",
     "text": [
      "\r",
      "OMP Test Batch for noise_level = 0.10:   4%|▍         | 8/200 [32:28<13:10:50, 247.14s/it]"
     ]
    },
    {
     "name": "stderr",
     "output_type": "stream",
     "text": [
      "\r",
      "OMP Test Batch for noise_level = 0.01:   4%|▍         | 8/200 [32:59<13:10:20, 246.98s/it]"
     ]
    },
    {
     "name": "stderr",
     "output_type": "stream",
     "text": [
      "\r",
      "OMP Test Batch for noise_level = 0.07:   4%|▍         | 8/200 [33:05<12:54:22, 241.99s/it]"
     ]
    },
    {
     "name": "stderr",
     "output_type": "stream",
     "text": [
      "\r",
      "OMP Test Batch for noise_level = 0.08:   4%|▍         | 8/200 [33:16<13:17:10, 249.12s/it]"
     ]
    },
    {
     "name": "stderr",
     "output_type": "stream",
     "text": [
      "\r",
      "OMP Test Batch for noise_level = 0.06:   4%|▍         | 8/200 [33:36<13:14:33, 248.30s/it]"
     ]
    },
    {
     "name": "stderr",
     "output_type": "stream",
     "text": [
      "\r",
      "OMP Test Batch for noise_level = 0.04:   4%|▍         | 8/200 [33:54<12:54:46, 242.12s/it]"
     ]
    },
    {
     "name": "stderr",
     "output_type": "stream",
     "text": [
      "\r",
      "OMP Test Batch for noise_level = 0.09:   4%|▍         | 8/200 [33:50<13:20:47, 250.25s/it]"
     ]
    },
    {
     "name": "stderr",
     "output_type": "stream",
     "text": [
      "\r",
      "OMP Test Batch for noise_level = 0.03:   4%|▍         | 8/200 [34:03<13:16:57, 249.05s/it]"
     ]
    },
    {
     "name": "stderr",
     "output_type": "stream",
     "text": [
      "\r",
      "OMP Test Batch for noise_level = 0.18:   4%|▍         | 9/200 [35:14<12:35:08, 237.22s/it]"
     ]
    },
    {
     "name": "stderr",
     "output_type": "stream",
     "text": [
      "\r",
      "OMP Test Batch for noise_level = 0.02:   4%|▍         | 9/200 [35:33<12:33:41, 236.76s/it]"
     ]
    },
    {
     "name": "stderr",
     "output_type": "stream",
     "text": [
      "\r",
      "OMP Test Batch for noise_level = 0.12:   4%|▍         | 9/200 [35:37<12:06:55, 228.35s/it]"
     ]
    },
    {
     "name": "stderr",
     "output_type": "stream",
     "text": [
      "\r",
      "OMP Test Batch for noise_level = 0.10:   4%|▍         | 9/200 [35:52<12:24:07, 233.76s/it]"
     ]
    },
    {
     "name": "stderr",
     "output_type": "stream",
     "text": [
      "\r",
      "OMP Test Batch for noise_level = 0.16:   4%|▍         | 9/200 [35:56<12:46:24, 240.76s/it]"
     ]
    },
    {
     "name": "stderr",
     "output_type": "stream",
     "text": [
      "\r",
      "OMP Test Batch for noise_level = 0.05:   4%|▍         | 9/200 [36:14<12:46:59, 240.94s/it]"
     ]
    },
    {
     "name": "stderr",
     "output_type": "stream",
     "text": [
      "\r",
      "OMP Test Batch for noise_level = 0.14:   4%|▍         | 9/200 [36:11<12:56:24, 243.90s/it]"
     ]
    },
    {
     "name": "stderr",
     "output_type": "stream",
     "text": [
      "\r",
      "OMP Test Batch for noise_level = 0.20:   4%|▍         | 9/200 [36:09<12:31:05, 235.94s/it]"
     ]
    },
    {
     "name": "stderr",
     "output_type": "stream",
     "text": [
      "\r",
      "OMP Test Batch for noise_level = 0.00:   4%|▍         | 9/200 [36:45<13:01:44, 245.57s/it]"
     ]
    },
    {
     "name": "stderr",
     "output_type": "stream",
     "text": [
      "\r",
      "OMP Test Batch for noise_level = 0.01:   4%|▍         | 9/200 [37:03<13:03:38, 246.17s/it]"
     ]
    },
    {
     "name": "stderr",
     "output_type": "stream",
     "text": [
      "\r",
      "OMP Test Batch for noise_level = 0.06:   4%|▍         | 9/200 [37:25<12:51:33, 242.37s/it]"
     ]
    },
    {
     "name": "stderr",
     "output_type": "stream",
     "text": [
      "\r",
      "OMP Test Batch for noise_level = 0.07:   4%|▍         | 9/200 [37:30<13:13:19, 249.21s/it]\r",
      "OMP Test Batch for noise_level = 0.03:   4%|▍         | 9/200 [37:34<12:34:48, 237.11s/it]"
     ]
    },
    {
     "name": "stderr",
     "output_type": "stream",
     "text": [
      "\r",
      "OMP Test Batch for noise_level = 0.08:   4%|▍         | 9/200 [37:32<13:19:29, 251.15s/it]"
     ]
    },
    {
     "name": "stderr",
     "output_type": "stream",
     "text": [
      "\r",
      "OMP Test Batch for noise_level = 0.04:   4%|▍         | 9/200 [37:42<12:36:19, 237.59s/it]"
     ]
    },
    {
     "name": "stderr",
     "output_type": "stream",
     "text": [
      "\r",
      "OMP Test Batch for noise_level = 0.09:   4%|▍         | 9/200 [37:54<13:10:15, 248.25s/it]"
     ]
    },
    {
     "name": "stderr",
     "output_type": "stream",
     "text": [
      "\r",
      "OMP Test Batch for noise_level = 0.18:   5%|▌         | 10/200 [38:54<12:14:50, 232.05s/it]"
     ]
    },
    {
     "name": "stderr",
     "output_type": "stream",
     "text": [
      "\r",
      "OMP Test Batch for noise_level = 0.02:   5%|▌         | 10/200 [39:36<12:35:46, 238.66s/it]"
     ]
    },
    {
     "name": "stderr",
     "output_type": "stream",
     "text": [
      "\r",
      "OMP Test Batch for noise_level = 0.12:   5%|▌         | 10/200 [39:28<12:05:48, 229.20s/it]"
     ]
    },
    {
     "name": "stderr",
     "output_type": "stream",
     "text": [
      "\r",
      "OMP Test Batch for noise_level = 0.16:   5%|▌         | 10/200 [39:38<12:23:51, 234.91s/it]"
     ]
    },
    {
     "name": "stderr",
     "output_type": "stream",
     "text": [
      "\r",
      "OMP Test Batch for noise_level = 0.10:   5%|▌         | 10/200 [39:58<12:31:21, 237.27s/it]"
     ]
    },
    {
     "name": "stderr",
     "output_type": "stream",
     "text": [
      "\r",
      "OMP Test Batch for noise_level = 0.05:   5%|▌         | 10/200 [40:09<12:37:25, 239.19s/it]"
     ]
    },
    {
     "name": "stderr",
     "output_type": "stream",
     "text": [
      "\r",
      "OMP Test Batch for noise_level = 0.14:   5%|▌         | 10/200 [40:18<12:55:33, 244.92s/it]"
     ]
    },
    {
     "name": "stderr",
     "output_type": "stream",
     "text": [
      "\r",
      "OMP Test Batch for noise_level = 0.00:   5%|▌         | 10/200 [40:38<12:45:15, 241.66s/it]"
     ]
    },
    {
     "name": "stderr",
     "output_type": "stream",
     "text": [
      "\r",
      "OMP Test Batch for noise_level = 0.20:   5%|▌         | 10/200 [40:23<12:45:04, 241.60s/it]"
     ]
    },
    {
     "name": "stderr",
     "output_type": "stream",
     "text": [
      "\r",
      "OMP Test Batch for noise_level = 0.01:   5%|▌         | 10/200 [40:50<12:40:51, 240.27s/it]"
     ]
    },
    {
     "name": "stderr",
     "output_type": "stream",
     "text": [
      "\r",
      "OMP Test Batch for noise_level = 0.06:   5%|▌         | 10/200 [41:03<12:23:27, 234.78s/it]"
     ]
    },
    {
     "name": "stderr",
     "output_type": "stream",
     "text": [
      "\r",
      "OMP Test Batch for noise_level = 0.07:   5%|▌         | 10/200 [41:06<12:36:44, 238.97s/it]"
     ]
    },
    {
     "name": "stderr",
     "output_type": "stream",
     "text": [
      "\r",
      "OMP Test Batch for noise_level = 0.04:   5%|▌         | 10/200 [41:34<12:27:04, 235.92s/it]"
     ]
    },
    {
     "name": "stderr",
     "output_type": "stream",
     "text": [
      "\r",
      "OMP Test Batch for noise_level = 0.03:   5%|▌         | 10/200 [41:37<12:36:32, 238.91s/it]"
     ]
    },
    {
     "name": "stderr",
     "output_type": "stream",
     "text": [
      "\r",
      "OMP Test Batch for noise_level = 0.08:   5%|▌         | 10/200 [41:41<13:13:12, 250.49s/it]"
     ]
    },
    {
     "name": "stderr",
     "output_type": "stream",
     "text": [
      "\r",
      "OMP Test Batch for noise_level = 0.09:   5%|▌         | 10/200 [41:43<12:47:02, 242.22s/it]"
     ]
    },
    {
     "name": "stderr",
     "output_type": "stream",
     "text": [
      "\r",
      "OMP Test Batch for noise_level = 0.18:   6%|▌         | 11/200 [41:58<11:24:56, 217.44s/it]"
     ]
    },
    {
     "name": "stderr",
     "output_type": "stream",
     "text": [
      "\r",
      "OMP Test Batch for noise_level = 0.02:   6%|▌         | 11/200 [43:43<12:39:24, 241.08s/it]"
     ]
    },
    {
     "name": "stderr",
     "output_type": "stream",
     "text": [
      "\r",
      "OMP Test Batch for noise_level = 0.12:   6%|▌         | 11/200 [43:37<12:20:34, 235.10s/it]"
     ]
    },
    {
     "name": "stderr",
     "output_type": "stream",
     "text": [
      "\r",
      "OMP Test Batch for noise_level = 0.16:   6%|▌         | 11/200 [43:56<12:42:32, 242.08s/it]"
     ]
    },
    {
     "name": "stderr",
     "output_type": "stream",
     "text": [
      "\r",
      "OMP Test Batch for noise_level = 0.14:   6%|▌         | 11/200 [43:58<12:27:32, 237.31s/it]"
     ]
    },
    {
     "name": "stderr",
     "output_type": "stream",
     "text": [
      "\r",
      "OMP Test Batch for noise_level = 0.10:   6%|▌         | 11/200 [44:04<12:35:55, 239.97s/it]"
     ]
    },
    {
     "name": "stderr",
     "output_type": "stream",
     "text": [
      "\r",
      "OMP Test Batch for noise_level = 0.05:   6%|▌         | 11/200 [44:20<12:44:39, 242.75s/it]"
     ]
    },
    {
     "name": "stderr",
     "output_type": "stream",
     "text": [
      "\r",
      "OMP Test Batch for noise_level = 0.07:   6%|▌         | 11/200 [44:28<11:57:42, 227.84s/it]"
     ]
    },
    {
     "name": "stderr",
     "output_type": "stream",
     "text": [
      "\r",
      "OMP Test Batch for noise_level = 0.00:   6%|▌         | 11/200 [44:40<12:41:44, 241.82s/it]"
     ]
    },
    {
     "name": "stderr",
     "output_type": "stream",
     "text": [
      "\r",
      "OMP Test Batch for noise_level = 0.20:   6%|▌         | 11/200 [44:28<12:44:08, 242.58s/it]"
     ]
    },
    {
     "name": "stderr",
     "output_type": "stream",
     "text": [
      "\r",
      "OMP Test Batch for noise_level = 0.01:   6%|▌         | 11/200 [44:49<12:36:03, 240.02s/it]"
     ]
    },
    {
     "name": "stderr",
     "output_type": "stream",
     "text": [
      "\r",
      "OMP Test Batch for noise_level = 0.06:   6%|▌         | 11/200 [45:19<12:40:17, 241.36s/it]"
     ]
    },
    {
     "name": "stderr",
     "output_type": "stream",
     "text": [
      "\r",
      "OMP Test Batch for noise_level = 0.04:   6%|▌         | 11/200 [45:30<12:23:03, 235.89s/it]"
     ]
    },
    {
     "name": "stderr",
     "output_type": "stream",
     "text": [
      "\r",
      "OMP Test Batch for noise_level = 0.03:   6%|▌         | 11/200 [45:31<12:27:50, 237.41s/it]"
     ]
    },
    {
     "name": "stderr",
     "output_type": "stream",
     "text": [
      "\r",
      "OMP Test Batch for noise_level = 0.18:   6%|▌         | 12/200 [45:30<11:16:01, 215.75s/it]"
     ]
    },
    {
     "name": "stderr",
     "output_type": "stream",
     "text": [
      "\r",
      "OMP Test Batch for noise_level = 0.08:   6%|▌         | 11/200 [45:50<13:08:02, 250.17s/it]"
     ]
    },
    {
     "name": "stderr",
     "output_type": "stream",
     "text": [
      "\r",
      "OMP Test Batch for noise_level = 0.09:   6%|▌         | 11/200 [45:50<12:47:48, 243.75s/it]"
     ]
    },
    {
     "name": "stderr",
     "output_type": "stream",
     "text": [
      "\r",
      "OMP Test Batch for noise_level = 0.02:   6%|▌         | 12/200 [47:20<12:12:52, 233.90s/it]"
     ]
    },
    {
     "name": "stderr",
     "output_type": "stream",
     "text": [
      "\r",
      "OMP Test Batch for noise_level = 0.16:   6%|▌         | 12/200 [47:39<12:20:48, 236.43s/it]"
     ]
    },
    {
     "name": "stderr",
     "output_type": "stream",
     "text": [
      "\r",
      "OMP Test Batch for noise_level = 0.12:   6%|▌         | 12/200 [47:46<12:30:04, 239.39s/it]"
     ]
    },
    {
     "name": "stderr",
     "output_type": "stream",
     "text": [
      "\r",
      "OMP Test Batch for noise_level = 0.07:   6%|▌         | 12/200 [47:54<11:32:43, 221.08s/it]"
     ]
    },
    {
     "name": "stderr",
     "output_type": "stream",
     "text": [
      "\r",
      "OMP Test Batch for noise_level = 0.14:   6%|▌         | 12/200 [47:54<12:22:14, 236.89s/it]"
     ]
    },
    {
     "name": "stderr",
     "output_type": "stream",
     "text": [
      "\r",
      "OMP Test Batch for noise_level = 0.00:   6%|▌         | 12/200 [48:08<12:05:09, 231.44s/it]"
     ]
    },
    {
     "name": "stderr",
     "output_type": "stream",
     "text": [
      "\r",
      "OMP Test Batch for noise_level = 0.05:   6%|▌         | 12/200 [48:12<12:30:24, 239.49s/it]"
     ]
    },
    {
     "name": "stderr",
     "output_type": "stream",
     "text": [
      "\r",
      "OMP Test Batch for noise_level = 0.10:   6%|▌         | 12/200 [48:18<12:45:21, 244.26s/it]"
     ]
    },
    {
     "name": "stderr",
     "output_type": "stream",
     "text": [
      "\r",
      "OMP Test Batch for noise_level = 0.20:   6%|▌         | 12/200 [48:37<12:46:33, 244.64s/it]"
     ]
    },
    {
     "name": "stderr",
     "output_type": "stream",
     "text": [
      "\r",
      "OMP Test Batch for noise_level = 0.01:   6%|▌         | 12/200 [48:53<12:35:11, 241.02s/it]"
     ]
    },
    {
     "name": "stderr",
     "output_type": "stream",
     "text": [
      "\r",
      "OMP Test Batch for noise_level = 0.18:   6%|▋         | 13/200 [49:05<11:11:41, 215.51s/it]"
     ]
    },
    {
     "name": "stderr",
     "output_type": "stream",
     "text": [
      "\r",
      "OMP Test Batch for noise_level = 0.04:   6%|▌         | 12/200 [49:29<12:22:40, 237.03s/it]"
     ]
    },
    {
     "name": "stderr",
     "output_type": "stream",
     "text": [
      "\r",
      "OMP Test Batch for noise_level = 0.06:   6%|▌         | 12/200 [49:36<12:50:34, 245.93s/it]"
     ]
    },
    {
     "name": "stderr",
     "output_type": "stream",
     "text": [
      "\r",
      "OMP Test Batch for noise_level = 0.03:   6%|▌         | 12/200 [49:55<12:49:18, 245.53s/it]"
     ]
    },
    {
     "name": "stderr",
     "output_type": "stream",
     "text": [
      "\r",
      "OMP Test Batch for noise_level = 0.08:   6%|▌         | 12/200 [49:55<12:58:16, 248.39s/it]"
     ]
    },
    {
     "name": "stderr",
     "output_type": "stream",
     "text": [
      "\r",
      "OMP Test Batch for noise_level = 0.09:   6%|▌         | 12/200 [50:10<12:59:04, 248.64s/it]"
     ]
    },
    {
     "name": "stderr",
     "output_type": "stream",
     "text": [
      "\r",
      "OMP Test Batch for noise_level = 0.02:   6%|▋         | 13/200 [51:27<12:21:02, 237.77s/it]"
     ]
    },
    {
     "name": "stderr",
     "output_type": "stream",
     "text": [
      "\r",
      "OMP Test Batch for noise_level = 0.12:   6%|▋         | 13/200 [51:28<12:10:14, 234.30s/it]"
     ]
    },
    {
     "name": "stderr",
     "output_type": "stream",
     "text": [
      "\r",
      "OMP Test Batch for noise_level = 0.16:   6%|▋         | 13/200 [51:27<12:08:26, 233.72s/it]"
     ]
    },
    {
     "name": "stderr",
     "output_type": "stream",
     "text": [
      "\r",
      "OMP Test Batch for noise_level = 0.07:   6%|▋         | 13/200 [51:45<11:38:43, 224.19s/it]"
     ]
    },
    {
     "name": "stderr",
     "output_type": "stream",
     "text": [
      "\r",
      "OMP Test Batch for noise_level = 0.14:   6%|▋         | 13/200 [51:41<12:09:03, 233.92s/it]"
     ]
    },
    {
     "name": "stderr",
     "output_type": "stream",
     "text": [
      "\r",
      "OMP Test Batch for noise_level = 0.10:   6%|▋         | 13/200 [51:58<12:18:29, 236.95s/it]"
     ]
    },
    {
     "name": "stderr",
     "output_type": "stream",
     "text": [
      "\r",
      "OMP Test Batch for noise_level = 0.05:   6%|▋         | 13/200 [52:12<12:26:38, 239.56s/it]"
     ]
    },
    {
     "name": "stderr",
     "output_type": "stream",
     "text": [
      "\r",
      "OMP Test Batch for noise_level = 0.00:   6%|▋         | 13/200 [52:18<12:18:43, 237.02s/it]"
     ]
    },
    {
     "name": "stderr",
     "output_type": "stream",
     "text": [
      "\r",
      "OMP Test Batch for noise_level = 0.20:   6%|▋         | 13/200 [52:37<12:38:01, 243.22s/it]"
     ]
    },
    {
     "name": "stderr",
     "output_type": "stream",
     "text": [
      "\r",
      "OMP Test Batch for noise_level = 0.01:   6%|▋         | 13/200 [52:56<12:33:29, 241.76s/it]"
     ]
    },
    {
     "name": "stderr",
     "output_type": "stream",
     "text": [
      "\r",
      "OMP Test Batch for noise_level = 0.18:   7%|▋         | 14/200 [53:04<11:30:06, 222.61s/it]"
     ]
    },
    {
     "name": "stderr",
     "output_type": "stream",
     "text": [
      "\r",
      "OMP Test Batch for noise_level = 0.09:   6%|▋         | 13/200 [53:19<11:58:41, 230.60s/it]"
     ]
    },
    {
     "name": "stderr",
     "output_type": "stream",
     "text": [
      "\r",
      "OMP Test Batch for noise_level = 0.04:   6%|▋         | 13/200 [53:25<12:17:42, 236.70s/it]"
     ]
    },
    {
     "name": "stderr",
     "output_type": "stream",
     "text": [
      "\r",
      "OMP Test Batch for noise_level = 0.06:   6%|▋         | 13/200 [53:28<12:33:15, 241.69s/it]"
     ]
    },
    {
     "name": "stderr",
     "output_type": "stream",
     "text": [
      "\r",
      "OMP Test Batch for noise_level = 0.08:   6%|▋         | 13/200 [53:34<12:27:02, 239.69s/it]"
     ]
    },
    {
     "name": "stderr",
     "output_type": "stream",
     "text": [
      "\r",
      "OMP Test Batch for noise_level = 0.03:   6%|▋         | 13/200 [53:47<12:32:18, 241.38s/it]"
     ]
    },
    {
     "name": "stderr",
     "output_type": "stream",
     "text": [
      "\r",
      "OMP Test Batch for noise_level = 0.12:   7%|▋         | 14/200 [54:47<11:32:43, 223.46s/it]"
     ]
    },
    {
     "name": "stderr",
     "output_type": "stream",
     "text": [
      "\r",
      "OMP Test Batch for noise_level = 0.16:   7%|▋         | 14/200 [55:05<11:50:11, 229.10s/it]"
     ]
    },
    {
     "name": "stderr",
     "output_type": "stream",
     "text": [
      "\r",
      "OMP Test Batch for noise_level = 0.14:   7%|▋         | 14/200 [55:08<11:39:39, 225.69s/it]"
     ]
    },
    {
     "name": "stderr",
     "output_type": "stream",
     "text": [
      "\r",
      "OMP Test Batch for noise_level = 0.07:   7%|▋         | 14/200 [55:14<11:20:26, 219.50s/it]"
     ]
    },
    {
     "name": "stderr",
     "output_type": "stream",
     "text": [
      "\r",
      "OMP Test Batch for noise_level = 0.02:   7%|▋         | 14/200 [55:31<12:23:14, 239.75s/it]"
     ]
    },
    {
     "name": "stderr",
     "output_type": "stream",
     "text": [
      "\r",
      "OMP Test Batch for noise_level = 0.05:   7%|▋         | 14/200 [56:04<12:15:56, 237.40s/it]"
     ]
    },
    {
     "name": "stderr",
     "output_type": "stream",
     "text": [
      "\r",
      "OMP Test Batch for noise_level = 0.10:   7%|▋         | 14/200 [56:05<12:23:40, 239.89s/it]"
     ]
    },
    {
     "name": "stderr",
     "output_type": "stream",
     "text": [
      "\r",
      "OMP Test Batch for noise_level = 0.00:   7%|▋         | 14/200 [56:29<12:28:04, 241.32s/it]"
     ]
    },
    {
     "name": "stderr",
     "output_type": "stream",
     "text": [
      "\r",
      "OMP Test Batch for noise_level = 0.20:   7%|▋         | 14/200 [56:29<12:22:41, 239.58s/it]"
     ]
    },
    {
     "name": "stderr",
     "output_type": "stream",
     "text": [
      "\r",
      "OMP Test Batch for noise_level = 0.18:   8%|▊         | 15/200 [56:40<11:19:48, 220.48s/it]"
     ]
    },
    {
     "name": "stderr",
     "output_type": "stream",
     "text": [
      "\r",
      "OMP Test Batch for noise_level = 0.01:   7%|▋         | 14/200 [56:55<12:26:26, 240.79s/it]"
     ]
    },
    {
     "name": "stderr",
     "output_type": "stream",
     "text": [
      "\r",
      "OMP Test Batch for noise_level = 0.04:   7%|▋         | 14/200 [57:05<11:58:10, 231.67s/it]"
     ]
    },
    {
     "name": "stderr",
     "output_type": "stream",
     "text": [
      "\r",
      "OMP Test Batch for noise_level = 0.09:   7%|▋         | 14/200 [57:10<11:55:33, 230.83s/it]"
     ]
    },
    {
     "name": "stderr",
     "output_type": "stream",
     "text": [
      "\r",
      "OMP Test Batch for noise_level = 0.08:   7%|▋         | 14/200 [57:21<12:10:40, 235.70s/it]"
     ]
    },
    {
     "name": "stderr",
     "output_type": "stream",
     "text": [
      "\r",
      "OMP Test Batch for noise_level = 0.06:   7%|▋         | 14/200 [57:26<12:26:10, 240.70s/it]"
     ]
    },
    {
     "name": "stderr",
     "output_type": "stream",
     "text": [
      "\r",
      "OMP Test Batch for noise_level = 0.03:   7%|▋         | 14/200 [57:51<12:30:59, 242.25s/it]"
     ]
    },
    {
     "name": "stderr",
     "output_type": "stream",
     "text": [
      "\r",
      "OMP Test Batch for noise_level = 0.07:   8%|▊         | 15/200 [58:16<10:41:44, 208.13s/it]"
     ]
    },
    {
     "name": "stderr",
     "output_type": "stream",
     "text": [
      "\r",
      "OMP Test Batch for noise_level = 0.12:   8%|▊         | 15/200 [58:34<11:32:17, 224.53s/it]"
     ]
    },
    {
     "name": "stderr",
     "output_type": "stream",
     "text": [
      "\r",
      "OMP Test Batch for noise_level = 0.16:   8%|▊         | 15/200 [58:58<11:49:14, 230.02s/it]"
     ]
    },
    {
     "name": "stderr",
     "output_type": "stream",
     "text": [
      "\r",
      "OMP Test Batch for noise_level = 0.02:   8%|▊         | 15/200 [59:22<12:11:05, 237.11s/it]"
     ]
    },
    {
     "name": "stderr",
     "output_type": "stream",
     "text": [
      "\r",
      "OMP Test Batch for noise_level = 0.14:   8%|▊         | 15/200 [59:15<11:55:49, 232.16s/it]"
     ]
    },
    {
     "name": "stderr",
     "output_type": "stream",
     "text": [
      "\r",
      "OMP Test Batch for noise_level = 0.05:   8%|▊         | 15/200 [59:55<12:06:17, 235.55s/it]"
     ]
    },
    {
     "name": "stderr",
     "output_type": "stream",
     "text": [
      "\r",
      "OMP Test Batch for noise_level = 0.20:   8%|▊         | 15/200 [59:56<11:49:17, 230.04s/it]"
     ]
    },
    {
     "name": "stderr",
     "output_type": "stream",
     "text": [
      "\r",
      "OMP Test Batch for noise_level = 0.10:   8%|▊         | 15/200 [1:00:09<12:24:04, 241.32s/it]"
     ]
    },
    {
     "name": "stderr",
     "output_type": "stream",
     "text": [
      "\r",
      "OMP Test Batch for noise_level = 0.00:   8%|▊         | 15/200 [1:00:31<12:24:50, 241.57s/it]"
     ]
    },
    {
     "name": "stderr",
     "output_type": "stream",
     "text": [
      "\r",
      "OMP Test Batch for noise_level = 0.18:   8%|▊         | 16/200 [1:00:32<11:27:13, 224.10s/it]"
     ]
    },
    {
     "name": "stderr",
     "output_type": "stream",
     "text": [
      "\r",
      "OMP Test Batch for noise_level = 0.04:   8%|▊         | 15/200 [1:00:52<11:49:43, 230.18s/it]"
     ]
    },
    {
     "name": "stderr",
     "output_type": "stream",
     "text": [
      "\r",
      "OMP Test Batch for noise_level = 0.01:   8%|▊         | 15/200 [1:01:10<12:36:01, 245.20s/it]"
     ]
    },
    {
     "name": "stderr",
     "output_type": "stream",
     "text": [
      "\r",
      "OMP Test Batch for noise_level = 0.09:   8%|▊         | 15/200 [1:01:18<12:07:33, 235.96s/it]"
     ]
    },
    {
     "name": "stderr",
     "output_type": "stream",
     "text": [
      "\r",
      "OMP Test Batch for noise_level = 0.08:   8%|▊         | 15/200 [1:01:21<12:10:52, 237.04s/it]"
     ]
    },
    {
     "name": "stderr",
     "output_type": "stream",
     "text": [
      "\r",
      "OMP Test Batch for noise_level = 0.06:   8%|▊         | 15/200 [1:01:30<12:24:56, 241.60s/it]"
     ]
    },
    {
     "name": "stderr",
     "output_type": "stream",
     "text": [
      "\r",
      "OMP Test Batch for noise_level = 0.07:   8%|▊         | 16/200 [1:01:57<10:50:00, 211.96s/it]"
     ]
    },
    {
     "name": "stderr",
     "output_type": "stream",
     "text": [
      "\r",
      "OMP Test Batch for noise_level = 0.12:   8%|▊         | 16/200 [1:01:55<11:07:14, 217.58s/it]"
     ]
    },
    {
     "name": "stderr",
     "output_type": "stream",
     "text": [
      "\r",
      "OMP Test Batch for noise_level = 0.03:   8%|▊         | 15/200 [1:02:08<12:40:22, 246.61s/it]"
     ]
    },
    {
     "name": "stderr",
     "output_type": "stream",
     "text": [
      "\r",
      "OMP Test Batch for noise_level = 0.16:   8%|▊         | 16/200 [1:02:05<11:06:14, 217.26s/it]"
     ]
    },
    {
     "name": "stderr",
     "output_type": "stream",
     "text": [
      "\r",
      "OMP Test Batch for noise_level = 0.02:   8%|▊         | 16/200 [1:03:24<12:11:46, 238.62s/it]\r",
      "OMP Test Batch for noise_level = 0.14:   8%|▊         | 16/200 [1:03:14<11:58:21, 234.24s/it]"
     ]
    },
    {
     "name": "stderr",
     "output_type": "stream",
     "text": [
      "\r",
      "OMP Test Batch for noise_level = 0.20:   8%|▊         | 16/200 [1:03:51<11:49:49, 231.46s/it]"
     ]
    },
    {
     "name": "stderr",
     "output_type": "stream",
     "text": [
      "\r",
      "OMP Test Batch for noise_level = 0.05:   8%|▊         | 16/200 [1:04:06<12:15:54, 239.97s/it]"
     ]
    },
    {
     "name": "stderr",
     "output_type": "stream",
     "text": [
      "\r",
      "OMP Test Batch for noise_level = 0.00:   8%|▊         | 16/200 [1:04:17<12:06:05, 236.77s/it]"
     ]
    },
    {
     "name": "stderr",
     "output_type": "stream",
     "text": [
      "\r",
      "OMP Test Batch for noise_level = 0.10:   8%|▊         | 16/200 [1:04:14<12:23:36, 242.48s/it]"
     ]
    },
    {
     "name": "stderr",
     "output_type": "stream",
     "text": [
      "\r",
      "OMP Test Batch for noise_level = 0.18:   8%|▊         | 17/200 [1:04:37<11:42:17, 230.26s/it]"
     ]
    },
    {
     "name": "stderr",
     "output_type": "stream",
     "text": [
      "\r",
      "OMP Test Batch for noise_level = 0.04:   8%|▊         | 16/200 [1:04:56<11:58:42, 234.36s/it]"
     ]
    },
    {
     "name": "stderr",
     "output_type": "stream",
     "text": [
      "\r",
      "OMP Test Batch for noise_level = 0.09:   8%|▊         | 16/200 [1:05:01<11:51:45, 232.10s/it]"
     ]
    },
    {
     "name": "stderr",
     "output_type": "stream",
     "text": [
      "\r",
      "OMP Test Batch for noise_level = 0.08:   8%|▊         | 16/200 [1:05:09<11:59:03, 234.48s/it]\r",
      "OMP Test Batch for noise_level = 0.01:   8%|▊         | 16/200 [1:05:17<12:33:20, 245.65s/it]"
     ]
    },
    {
     "name": "stderr",
     "output_type": "stream",
     "text": [
      "\r",
      "OMP Test Batch for noise_level = 0.06:   8%|▊         | 16/200 [1:05:18<12:08:50, 237.67s/it]"
     ]
    },
    {
     "name": "stderr",
     "output_type": "stream",
     "text": [
      "\r",
      "OMP Test Batch for noise_level = 0.12:   8%|▊         | 17/200 [1:05:29<11:00:15, 216.48s/it]"
     ]
    },
    {
     "name": "stderr",
     "output_type": "stream",
     "text": [
      "\r",
      "OMP Test Batch for noise_level = 0.07:   8%|▊         | 17/200 [1:05:58<11:13:44, 220.90s/it]"
     ]
    },
    {
     "name": "stderr",
     "output_type": "stream",
     "text": [
      "\r",
      "OMP Test Batch for noise_level = 0.03:   8%|▊         | 16/200 [1:06:10<12:32:09, 245.27s/it]"
     ]
    },
    {
     "name": "stderr",
     "output_type": "stream",
     "text": [
      "\r",
      "OMP Test Batch for noise_level = 0.16:   8%|▊         | 17/200 [1:06:07<11:24:44, 224.51s/it]"
     ]
    },
    {
     "name": "stderr",
     "output_type": "stream",
     "text": [
      "\r",
      "OMP Test Batch for noise_level = 0.02:   8%|▊         | 17/200 [1:06:58<11:45:03, 231.17s/it]"
     ]
    },
    {
     "name": "stderr",
     "output_type": "stream",
     "text": [
      "\r",
      "OMP Test Batch for noise_level = 0.14:   8%|▊         | 17/200 [1:07:23<12:08:04, 238.71s/it]"
     ]
    },
    {
     "name": "stderr",
     "output_type": "stream",
     "text": [
      "\r",
      "OMP Test Batch for noise_level = 0.10:   8%|▊         | 17/200 [1:07:45<11:50:24, 232.92s/it]\r",
      "OMP Test Batch for noise_level = 0.05:   8%|▊         | 17/200 [1:07:51<11:58:07, 235.45s/it]"
     ]
    },
    {
     "name": "stderr",
     "output_type": "stream",
     "text": [
      "\r",
      "OMP Test Batch for noise_level = 0.20:   8%|▊         | 17/200 [1:07:42<11:45:27, 231.30s/it]"
     ]
    },
    {
     "name": "stderr",
     "output_type": "stream",
     "text": [
      "\r",
      "OMP Test Batch for noise_level = 0.00:   8%|▊         | 17/200 [1:08:24<12:11:32, 239.85s/it]"
     ]
    },
    {
     "name": "stderr",
     "output_type": "stream",
     "text": [
      "\r",
      "OMP Test Batch for noise_level = 0.18:   9%|▉         | 18/200 [1:08:13<11:25:45, 226.08s/it]"
     ]
    },
    {
     "name": "stderr",
     "output_type": "stream",
     "text": [
      "\r",
      "OMP Test Batch for noise_level = 0.04:   8%|▊         | 17/200 [1:08:38<11:43:55, 230.80s/it]"
     ]
    },
    {
     "name": "stderr",
     "output_type": "stream",
     "text": [
      "\r",
      "OMP Test Batch for noise_level = 0.01:   8%|▊         | 17/200 [1:09:11<12:18:57, 242.28s/it]"
     ]
    },
    {
     "name": "stderr",
     "output_type": "stream",
     "text": [
      "\r",
      "OMP Test Batch for noise_level = 0.08:   8%|▊         | 17/200 [1:09:05<11:55:51, 234.71s/it]"
     ]
    },
    {
     "name": "stderr",
     "output_type": "stream",
     "text": [
      "\r",
      "OMP Test Batch for noise_level = 0.06:   8%|▊         | 17/200 [1:09:15<12:03:35, 237.24s/it]"
     ]
    },
    {
     "name": "stderr",
     "output_type": "stream",
     "text": [
      "\r",
      "OMP Test Batch for noise_level = 0.09:   8%|▊         | 17/200 [1:09:20<12:12:33, 240.18s/it]"
     ]
    },
    {
     "name": "stderr",
     "output_type": "stream",
     "text": [
      "\r",
      "OMP Test Batch for noise_level = 0.12:   9%|▉         | 18/200 [1:09:21<11:10:24, 221.01s/it]"
     ]
    },
    {
     "name": "stderr",
     "output_type": "stream",
     "text": [
      "\r",
      "OMP Test Batch for noise_level = 0.07:   9%|▉         | 18/200 [1:09:55<11:24:45, 225.74s/it]"
     ]
    },
    {
     "name": "stderr",
     "output_type": "stream",
     "text": [
      "\r",
      "OMP Test Batch for noise_level = 0.16:   9%|▉         | 18/200 [1:09:50<11:20:26, 224.32s/it]"
     ]
    },
    {
     "name": "stderr",
     "output_type": "stream",
     "text": [
      "\r",
      "OMP Test Batch for noise_level = 0.03:   8%|▊         | 17/200 [1:10:08<12:21:13, 243.02s/it]"
     ]
    },
    {
     "name": "stderr",
     "output_type": "stream",
     "text": [
      "\r",
      "OMP Test Batch for noise_level = 0.02:   9%|▉         | 18/200 [1:10:49<11:40:55, 231.07s/it]"
     ]
    },
    {
     "name": "stderr",
     "output_type": "stream",
     "text": [
      "\r",
      "OMP Test Batch for noise_level = 0.14:   9%|▉         | 18/200 [1:11:08<11:51:35, 234.59s/it]"
     ]
    },
    {
     "name": "stderr",
     "output_type": "stream",
     "text": [
      "\r",
      "OMP Test Batch for noise_level = 0.05:   9%|▉         | 18/200 [1:11:41<11:49:10, 233.79s/it]"
     ]
    },
    {
     "name": "stderr",
     "output_type": "stream",
     "text": [
      "\r",
      "OMP Test Batch for noise_level = 0.20:   9%|▉         | 18/200 [1:11:33<11:41:36, 231.30s/it]"
     ]
    },
    {
     "name": "stderr",
     "output_type": "stream",
     "text": [
      "\r",
      "OMP Test Batch for noise_level = 0.10:   9%|▉         | 18/200 [1:11:43<11:51:16, 234.49s/it]"
     ]
    },
    {
     "name": "stderr",
     "output_type": "stream",
     "text": [
      "\r",
      "OMP Test Batch for noise_level = 0.00:   9%|▉         | 18/200 [1:12:13<11:58:02, 236.72s/it]"
     ]
    },
    {
     "name": "stderr",
     "output_type": "stream",
     "text": [
      "\r",
      "OMP Test Batch for noise_level = 0.18:  10%|▉         | 19/200 [1:12:07<11:29:13, 228.47s/it]"
     ]
    },
    {
     "name": "stderr",
     "output_type": "stream",
     "text": [
      "\r",
      "OMP Test Batch for noise_level = 0.04:   9%|▉         | 18/200 [1:12:39<11:48:56, 233.72s/it]"
     ]
    },
    {
     "name": "stderr",
     "output_type": "stream",
     "text": [
      "\r",
      "OMP Test Batch for noise_level = 0.06:   9%|▉         | 18/200 [1:12:58<11:47:13, 233.15s/it]"
     ]
    },
    {
     "name": "stderr",
     "output_type": "stream",
     "text": [
      "\r",
      "OMP Test Batch for noise_level = 0.01:   9%|▉         | 18/200 [1:13:05<12:07:03, 239.69s/it]"
     ]
    },
    {
     "name": "stderr",
     "output_type": "stream",
     "text": [
      "\r",
      "OMP Test Batch for noise_level = 0.08:   9%|▉         | 18/200 [1:13:06<11:58:14, 236.78s/it]"
     ]
    },
    {
     "name": "stderr",
     "output_type": "stream",
     "text": [
      "\r",
      "OMP Test Batch for noise_level = 0.16:  10%|▉         | 19/200 [1:13:14<10:57:48, 218.06s/it]"
     ]
    },
    {
     "name": "stderr",
     "output_type": "stream",
     "text": [
      "\r",
      "OMP Test Batch for noise_level = 0.12:  10%|▉         | 19/200 [1:13:17<11:20:33, 225.60s/it]"
     ]
    },
    {
     "name": "stderr",
     "output_type": "stream",
     "text": [
      "\r",
      "OMP Test Batch for noise_level = 0.07:  10%|▉         | 19/200 [1:13:33<11:13:51, 223.38s/it]"
     ]
    },
    {
     "name": "stderr",
     "output_type": "stream",
     "text": [
      "\r",
      "OMP Test Batch for noise_level = 0.09:   9%|▉         | 18/200 [1:13:34<12:21:00, 244.29s/it]"
     ]
    },
    {
     "name": "stderr",
     "output_type": "stream",
     "text": [
      "\r",
      "OMP Test Batch for noise_level = 0.03:   9%|▉         | 18/200 [1:14:17<12:22:52, 244.91s/it]"
     ]
    },
    {
     "name": "stderr",
     "output_type": "stream",
     "text": [
      "\r",
      "OMP Test Batch for noise_level = 0.14:  10%|▉         | 19/200 [1:14:38<11:25:26, 227.22s/it]"
     ]
    },
    {
     "name": "stderr",
     "output_type": "stream",
     "text": [
      "\r",
      "OMP Test Batch for noise_level = 0.02:  10%|▉         | 19/200 [1:15:00<11:54:34, 236.88s/it]"
     ]
    },
    {
     "name": "stderr",
     "output_type": "stream",
     "text": [
      "\r",
      "OMP Test Batch for noise_level = 0.05:  10%|▉         | 19/200 [1:15:04<11:17:31, 224.59s/it]"
     ]
    },
    {
     "name": "stderr",
     "output_type": "stream",
     "text": [
      "\r",
      "OMP Test Batch for noise_level = 0.18:  10%|█         | 20/200 [1:15:13<10:47:22, 215.79s/it]"
     ]
    },
    {
     "name": "stderr",
     "output_type": "stream",
     "text": [
      "\r",
      "OMP Test Batch for noise_level = 0.10:  10%|▉         | 19/200 [1:15:36<11:45:54, 234.00s/it]"
     ]
    },
    {
     "name": "stderr",
     "output_type": "stream",
     "text": [
      "\r",
      "OMP Test Batch for noise_level = 0.20:  10%|▉         | 19/200 [1:15:34<11:45:46, 233.96s/it]"
     ]
    },
    {
     "name": "stderr",
     "output_type": "stream",
     "text": [
      "\r",
      "OMP Test Batch for noise_level = 0.00:  10%|▉         | 19/200 [1:16:22<12:05:19, 240.44s/it]"
     ]
    },
    {
     "name": "stderr",
     "output_type": "stream",
     "text": [
      "\r",
      "OMP Test Batch for noise_level = 0.01:  10%|▉         | 19/200 [1:16:32<11:33:36, 229.92s/it]"
     ]
    },
    {
     "name": "stderr",
     "output_type": "stream",
     "text": [
      "\r",
      "OMP Test Batch for noise_level = 0.06:  10%|▉         | 19/200 [1:16:47<11:39:33, 231.90s/it]"
     ]
    },
    {
     "name": "stderr",
     "output_type": "stream",
     "text": [
      "\r",
      "OMP Test Batch for noise_level = 0.04:  10%|▉         | 19/200 [1:16:50<12:00:22, 238.80s/it]"
     ]
    },
    {
     "name": "stderr",
     "output_type": "stream",
     "text": [
      "\r",
      "OMP Test Batch for noise_level = 0.12:  10%|█         | 20/200 [1:17:10<11:23:21, 227.78s/it]"
     ]
    },
    {
     "name": "stderr",
     "output_type": "stream",
     "text": [
      "\r",
      "OMP Test Batch for noise_level = 0.07:  10%|█         | 20/200 [1:17:19<11:12:03, 224.02s/it]"
     ]
    },
    {
     "name": "stderr",
     "output_type": "stream",
     "text": [
      "\r",
      "OMP Test Batch for noise_level = 0.08:  10%|▉         | 19/200 [1:17:22<12:11:23, 242.45s/it]"
     ]
    },
    {
     "name": "stderr",
     "output_type": "stream",
     "text": [
      "\r",
      "OMP Test Batch for noise_level = 0.16:  10%|█         | 20/200 [1:17:21<11:20:22, 226.79s/it]"
     ]
    },
    {
     "name": "stderr",
     "output_type": "stream",
     "text": [
      "\r",
      "OMP Test Batch for noise_level = 0.09:  10%|▉         | 19/200 [1:18:01<12:37:49, 251.21s/it]"
     ]
    },
    {
     "name": "stderr",
     "output_type": "stream",
     "text": [
      "\r",
      "OMP Test Batch for noise_level = 0.03:  10%|▉         | 19/200 [1:18:11<12:08:32, 241.50s/it]"
     ]
    },
    {
     "name": "stderr",
     "output_type": "stream",
     "text": [
      "\r",
      "OMP Test Batch for noise_level = 0.02:  10%|█         | 20/200 [1:18:33<11:29:29, 229.83s/it]"
     ]
    },
    {
     "name": "stderr",
     "output_type": "stream",
     "text": [
      "\r",
      "OMP Test Batch for noise_level = 0.14:  10%|█         | 20/200 [1:18:28<11:23:43, 227.91s/it]"
     ]
    },
    {
     "name": "stderr",
     "output_type": "stream",
     "text": [
      "\r",
      "OMP Test Batch for noise_level = 0.18:  10%|█         | 21/200 [1:18:35<10:31:10, 211.56s/it]"
     ]
    },
    {
     "name": "stderr",
     "output_type": "stream",
     "text": [
      "\r",
      "OMP Test Batch for noise_level = 0.05:  10%|█         | 20/200 [1:18:57<11:21:47, 227.27s/it]"
     ]
    },
    {
     "name": "stderr",
     "output_type": "stream",
     "text": [
      "\r",
      "OMP Test Batch for noise_level = 0.01:  10%|█         | 20/200 [1:19:37<10:48:49, 216.27s/it]"
     ]
    },
    {
     "name": "stderr",
     "output_type": "stream",
     "text": [
      "\r",
      "OMP Test Batch for noise_level = 0.20:  10%|█         | 20/200 [1:19:33<11:46:47, 235.60s/it]"
     ]
    },
    {
     "name": "stderr",
     "output_type": "stream",
     "text": [
      "\r",
      "OMP Test Batch for noise_level = 0.10:  10%|█         | 20/200 [1:19:49<11:58:46, 239.59s/it]"
     ]
    },
    {
     "name": "stderr",
     "output_type": "stream",
     "text": [
      "\r",
      "OMP Test Batch for noise_level = 0.00:  10%|█         | 20/200 [1:20:30<12:08:09, 242.72s/it]\r",
      "OMP Test Batch for noise_level = 0.06:  10%|█         | 20/200 [1:20:24<11:21:56, 227.31s/it]"
     ]
    },
    {
     "name": "stderr",
     "output_type": "stream",
     "text": [
      "\r",
      "OMP Test Batch for noise_level = 0.04:  10%|█         | 20/200 [1:20:36<11:45:20, 235.12s/it]"
     ]
    },
    {
     "name": "stderr",
     "output_type": "stream",
     "text": [
      "\r",
      "OMP Test Batch for noise_level = 0.07:  10%|█         | 21/200 [1:20:55<11:01:35, 221.76s/it]"
     ]
    },
    {
     "name": "stderr",
     "output_type": "stream",
     "text": [
      "\r",
      "OMP Test Batch for noise_level = 0.12:  10%|█         | 21/200 [1:20:56<11:17:41, 227.16s/it]"
     ]
    },
    {
     "name": "stderr",
     "output_type": "stream",
     "text": [
      "\r",
      "OMP Test Batch for noise_level = 0.08:  10%|█         | 20/200 [1:21:07<11:51:58, 237.32s/it]"
     ]
    },
    {
     "name": "stderr",
     "output_type": "stream",
     "text": [
      "\r",
      "OMP Test Batch for noise_level = 0.16:  10%|█         | 21/200 [1:21:21<11:28:12, 230.69s/it]"
     ]
    },
    {
     "name": "stderr",
     "output_type": "stream",
     "text": [
      "\r",
      "OMP Test Batch for noise_level = 0.09:  10%|█         | 20/200 [1:21:46<12:09:57, 243.32s/it]"
     ]
    },
    {
     "name": "stderr",
     "output_type": "stream",
     "text": [
      "\r",
      "OMP Test Batch for noise_level = 0.18:  11%|█         | 22/200 [1:21:46<10:09:16, 205.37s/it]"
     ]
    },
    {
     "name": "stderr",
     "output_type": "stream",
     "text": [
      "\r",
      "OMP Test Batch for noise_level = 0.02:  10%|█         | 21/200 [1:22:16<11:19:32, 227.78s/it]"
     ]
    },
    {
     "name": "stderr",
     "output_type": "stream",
     "text": [
      "\r",
      "OMP Test Batch for noise_level = 0.14:  10%|█         | 21/200 [1:22:27<11:30:27, 231.44s/it]"
     ]
    },
    {
     "name": "stderr",
     "output_type": "stream",
     "text": [
      "\r",
      "OMP Test Batch for noise_level = 0.03:  10%|█         | 20/200 [1:22:42<12:31:47, 250.59s/it]"
     ]
    },
    {
     "name": "stderr",
     "output_type": "stream",
     "text": [
      "\r",
      "OMP Test Batch for noise_level = 0.05:  10%|█         | 21/200 [1:23:03<11:34:21, 232.74s/it]"
     ]
    },
    {
     "name": "stderr",
     "output_type": "stream",
     "text": [
      "\r",
      "OMP Test Batch for noise_level = 0.20:  10%|█         | 21/200 [1:23:23<11:38:14, 234.05s/it]"
     ]
    },
    {
     "name": "stderr",
     "output_type": "stream",
     "text": [
      "\r",
      "OMP Test Batch for noise_level = 0.01:  10%|█         | 21/200 [1:23:39<11:09:01, 224.25s/it]"
     ]
    },
    {
     "name": "stderr",
     "output_type": "stream",
     "text": [
      "\r",
      "OMP Test Batch for noise_level = 0.06:  10%|█         | 21/200 [1:23:55<11:04:07, 222.61s/it]"
     ]
    },
    {
     "name": "stderr",
     "output_type": "stream",
     "text": [
      "\r",
      "OMP Test Batch for noise_level = 0.00:  10%|█         | 21/200 [1:24:02<11:36:42, 233.53s/it]"
     ]
    },
    {
     "name": "stderr",
     "output_type": "stream",
     "text": [
      "\r",
      "OMP Test Batch for noise_level = 0.10:  10%|█         | 21/200 [1:23:55<12:00:40, 241.56s/it]"
     ]
    },
    {
     "name": "stderr",
     "output_type": "stream",
     "text": [
      "\r",
      "OMP Test Batch for noise_level = 0.04:  10%|█         | 21/200 [1:24:39<11:48:20, 237.44s/it]"
     ]
    },
    {
     "name": "stderr",
     "output_type": "stream",
     "text": [
      "\r",
      "OMP Test Batch for noise_level = 0.08:  10%|█         | 21/200 [1:24:48<11:33:14, 232.37s/it]"
     ]
    },
    {
     "name": "stderr",
     "output_type": "stream",
     "text": [
      "\r",
      "OMP Test Batch for noise_level = 0.12:  11%|█         | 22/200 [1:24:45<11:16:22, 227.99s/it]"
     ]
    },
    {
     "name": "stderr",
     "output_type": "stream",
     "text": [
      "\r",
      "OMP Test Batch for noise_level = 0.07:  11%|█         | 22/200 [1:24:51<11:10:13, 225.92s/it]"
     ]
    },
    {
     "name": "stderr",
     "output_type": "stream",
     "text": [
      "\r",
      "OMP Test Batch for noise_level = 0.16:  11%|█         | 22/200 [1:25:02<11:15:40, 227.75s/it]"
     ]
    },
    {
     "name": "stderr",
     "output_type": "stream",
     "text": [
      "\r",
      "OMP Test Batch for noise_level = 0.18:  12%|█▏        | 23/200 [1:25:42<10:32:40, 214.47s/it]"
     ]
    },
    {
     "name": "stderr",
     "output_type": "stream",
     "text": [
      "\r",
      "OMP Test Batch for noise_level = 0.03:  10%|█         | 21/200 [1:26:03<11:43:16, 235.74s/it]"
     ]
    },
    {
     "name": "stderr",
     "output_type": "stream",
     "text": [
      "\r",
      "OMP Test Batch for noise_level = 0.14:  11%|█         | 22/200 [1:25:55<11:05:41, 224.39s/it]"
     ]
    },
    {
     "name": "stderr",
     "output_type": "stream",
     "text": [
      "\r",
      "OMP Test Batch for noise_level = 0.02:  11%|█         | 22/200 [1:26:13<11:23:37, 230.43s/it]"
     ]
    },
    {
     "name": "stderr",
     "output_type": "stream",
     "text": [
      "\r",
      "OMP Test Batch for noise_level = 0.09:  10%|█         | 21/200 [1:26:06<12:20:45, 248.30s/it]"
     ]
    },
    {
     "name": "stderr",
     "output_type": "stream",
     "text": [
      "\r",
      "OMP Test Batch for noise_level = 0.05:  11%|█         | 22/200 [1:26:58<11:32:47, 233.52s/it]"
     ]
    },
    {
     "name": "stderr",
     "output_type": "stream",
     "text": [
      "\r",
      "OMP Test Batch for noise_level = 0.06:  11%|█         | 22/200 [1:27:12<10:37:17, 214.81s/it]"
     ]
    },
    {
     "name": "stderr",
     "output_type": "stream",
     "text": [
      "\r",
      "OMP Test Batch for noise_level = 0.20:  11%|█         | 22/200 [1:27:23<11:39:26, 235.77s/it]"
     ]
    },
    {
     "name": "stderr",
     "output_type": "stream",
     "text": [
      "\r",
      "OMP Test Batch for noise_level = 0.10:  11%|█         | 22/200 [1:27:32<11:34:37, 234.15s/it]"
     ]
    },
    {
     "name": "stderr",
     "output_type": "stream",
     "text": [
      "\r",
      "OMP Test Batch for noise_level = 0.01:  11%|█         | 22/200 [1:27:46<11:25:28, 231.06s/it]"
     ]
    },
    {
     "name": "stderr",
     "output_type": "stream",
     "text": [
      "\r",
      "OMP Test Batch for noise_level = 0.00:  11%|█         | 22/200 [1:28:11<11:45:58, 237.97s/it]"
     ]
    },
    {
     "name": "stderr",
     "output_type": "stream",
     "text": [
      "\r",
      "OMP Test Batch for noise_level = 0.04:  11%|█         | 22/200 [1:28:33<11:41:40, 236.52s/it]"
     ]
    },
    {
     "name": "stderr",
     "output_type": "stream",
     "text": [
      "\r",
      "OMP Test Batch for noise_level = 0.08:  11%|█         | 22/200 [1:28:34<11:23:50, 230.51s/it]"
     ]
    },
    {
     "name": "stderr",
     "output_type": "stream",
     "text": [
      "\r",
      "OMP Test Batch for noise_level = 0.16:  12%|█▏        | 23/200 [1:28:29<10:53:57, 221.68s/it]"
     ]
    },
    {
     "name": "stderr",
     "output_type": "stream",
     "text": [
      "\r",
      "OMP Test Batch for noise_level = 0.07:  12%|█▏        | 23/200 [1:28:46<11:14:21, 228.60s/it]"
     ]
    },
    {
     "name": "stderr",
     "output_type": "stream",
     "text": [
      "\r",
      "OMP Test Batch for noise_level = 0.12:  12%|█▏        | 23/200 [1:28:46<11:24:00, 231.86s/it]"
     ]
    },
    {
     "name": "stderr",
     "output_type": "stream",
     "text": [
      "\r",
      "OMP Test Batch for noise_level = 0.18:  12%|█▏        | 24/200 [1:29:38<10:47:58, 220.90s/it]"
     ]
    },
    {
     "name": "stderr",
     "output_type": "stream",
     "text": [
      "\r",
      "OMP Test Batch for noise_level = 0.02:  12%|█▏        | 23/200 [1:30:21<11:35:46, 235.85s/it]"
     ]
    },
    {
     "name": "stderr",
     "output_type": "stream",
     "text": [
      "\r",
      "OMP Test Batch for noise_level = 0.14:  12%|█▏        | 23/200 [1:30:13<11:31:38, 234.46s/it]"
     ]
    },
    {
     "name": "stderr",
     "output_type": "stream",
     "text": [
      "\r",
      "OMP Test Batch for noise_level = 0.03:  11%|█         | 22/200 [1:30:31<12:07:25, 245.20s/it]"
     ]
    },
    {
     "name": "stderr",
     "output_type": "stream",
     "text": [
      "\r",
      "OMP Test Batch for noise_level = 0.09:  11%|█         | 22/200 [1:30:28<12:28:17, 252.23s/it]"
     ]
    },
    {
     "name": "stderr",
     "output_type": "stream",
     "text": [
      "\r",
      "OMP Test Batch for noise_level = 0.05:  12%|█▏        | 23/200 [1:31:03<11:39:14, 237.03s/it]"
     ]
    },
    {
     "name": "stderr",
     "output_type": "stream",
     "text": [
      "\r",
      "OMP Test Batch for noise_level = 0.06:  12%|█▏        | 23/200 [1:31:12<10:56:13, 222.45s/it]"
     ]
    },
    {
     "name": "stderr",
     "output_type": "stream",
     "text": [
      "\r",
      "OMP Test Batch for noise_level = 0.20:  12%|█▏        | 23/200 [1:31:24<11:39:42, 237.19s/it]"
     ]
    },
    {
     "name": "stderr",
     "output_type": "stream",
     "text": [
      "\r",
      "OMP Test Batch for noise_level = 0.04:  12%|█▏        | 23/200 [1:31:54<11:06:02, 225.78s/it]"
     ]
    },
    {
     "name": "stderr",
     "output_type": "stream",
     "text": [
      "\r",
      "OMP Test Batch for noise_level = 0.10:  12%|█▏        | 23/200 [1:31:50<11:52:09, 241.41s/it]"
     ]
    },
    {
     "name": "stderr",
     "output_type": "stream",
     "text": [
      "\r",
      "OMP Test Batch for noise_level = 0.01:  12%|█▏        | 23/200 [1:32:04<11:45:13, 239.06s/it]"
     ]
    },
    {
     "name": "stderr",
     "output_type": "stream",
     "text": [
      "\r",
      "OMP Test Batch for noise_level = 0.08:  12%|█▏        | 23/200 [1:32:07<11:04:06, 225.12s/it]"
     ]
    },
    {
     "name": "stderr",
     "output_type": "stream",
     "text": [
      "\r",
      "OMP Test Batch for noise_level = 0.00:  12%|█▏        | 23/200 [1:32:18<11:50:08, 240.73s/it]"
     ]
    },
    {
     "name": "stderr",
     "output_type": "stream",
     "text": [
      "\r",
      "OMP Test Batch for noise_level = 0.16:  12%|█▏        | 24/200 [1:32:07<10:47:15, 220.65s/it]"
     ]
    },
    {
     "name": "stderr",
     "output_type": "stream",
     "text": [
      "\r",
      "OMP Test Batch for noise_level = 0.12:  12%|█▏        | 24/200 [1:32:21<11:05:20, 226.82s/it]"
     ]
    },
    {
     "name": "stderr",
     "output_type": "stream",
     "text": [
      "\r",
      "OMP Test Batch for noise_level = 0.07:  12%|█▏        | 24/200 [1:32:26<11:03:28, 226.18s/it]"
     ]
    },
    {
     "name": "stderr",
     "output_type": "stream",
     "text": [
      "\r",
      "OMP Test Batch for noise_level = 0.18:  12%|█▎        | 25/200 [1:33:10<10:37:01, 218.41s/it]"
     ]
    },
    {
     "name": "stderr",
     "output_type": "stream",
     "text": [
      "\r",
      "OMP Test Batch for noise_level = 0.14:  12%|█▏        | 24/200 [1:34:14<11:33:07, 236.29s/it]"
     ]
    },
    {
     "name": "stderr",
     "output_type": "stream",
     "text": [
      "\r",
      "OMP Test Batch for noise_level = 0.02:  12%|█▏        | 24/200 [1:34:25<11:39:11, 238.36s/it]"
     ]
    },
    {
     "name": "stderr",
     "output_type": "stream",
     "text": [
      "\r",
      "OMP Test Batch for noise_level = 0.09:  12%|█▏        | 23/200 [1:34:19<12:05:42, 246.00s/it]"
     ]
    },
    {
     "name": "stderr",
     "output_type": "stream",
     "text": [
      "\r",
      "OMP Test Batch for noise_level = 0.03:  12%|█▏        | 23/200 [1:34:32<11:59:28, 243.89s/it]"
     ]
    },
    {
     "name": "stderr",
     "output_type": "stream",
     "text": [
      "\r",
      "OMP Test Batch for noise_level = 0.05:  12%|█▏        | 24/200 [1:34:57<11:32:03, 235.93s/it]"
     ]
    },
    {
     "name": "stderr",
     "output_type": "stream",
     "text": [
      "\r",
      "OMP Test Batch for noise_level = 0.06:  12%|█▏        | 24/200 [1:35:07<11:03:06, 226.06s/it]"
     ]
    },
    {
     "name": "stderr",
     "output_type": "stream",
     "text": [
      "\r",
      "OMP Test Batch for noise_level = 0.16:  12%|█▎        | 25/200 [1:35:26<10:24:35, 214.15s/it]"
     ]
    },
    {
     "name": "stderr",
     "output_type": "stream",
     "text": [
      "\r",
      "OMP Test Batch for noise_level = 0.01:  12%|█▏        | 24/200 [1:35:42<11:22:30, 232.67s/it]\r",
      "OMP Test Batch for noise_level = 0.04:  12%|█▏        | 24/200 [1:35:39<11:01:05, 225.37s/it]"
     ]
    },
    {
     "name": "stderr",
     "output_type": "stream",
     "text": [
      "\r",
      "OMP Test Batch for noise_level = 0.20:  12%|█▏        | 24/200 [1:35:32<11:45:56, 240.66s/it]"
     ]
    },
    {
     "name": "stderr",
     "output_type": "stream",
     "text": [
      "\r",
      "OMP Test Batch for noise_level = 0.00:  12%|█▏        | 24/200 [1:35:53<11:23:28, 233.00s/it]"
     ]
    },
    {
     "name": "stderr",
     "output_type": "stream",
     "text": [
      "\r",
      "OMP Test Batch for noise_level = 0.10:  12%|█▏        | 24/200 [1:35:46<11:43:18, 239.77s/it]"
     ]
    },
    {
     "name": "stderr",
     "output_type": "stream",
     "text": [
      "\r",
      "OMP Test Batch for noise_level = 0.08:  12%|█▏        | 24/200 [1:36:00<11:07:32, 227.57s/it]"
     ]
    },
    {
     "name": "stderr",
     "output_type": "stream",
     "text": [
      "\r",
      "OMP Test Batch for noise_level = 0.07:  12%|█▎        | 25/200 [1:36:04<10:52:17, 223.64s/it]"
     ]
    },
    {
     "name": "stderr",
     "output_type": "stream",
     "text": [
      "\r",
      "OMP Test Batch for noise_level = 0.12:  12%|█▎        | 25/200 [1:36:01<10:54:58, 224.56s/it]"
     ]
    },
    {
     "name": "stderr",
     "output_type": "stream",
     "text": [
      "\r",
      "OMP Test Batch for noise_level = 0.18:  13%|█▎        | 26/200 [1:36:16<10:04:54, 208.59s/it]"
     ]
    },
    {
     "name": "stderr",
     "output_type": "stream",
     "text": [
      "\r",
      "OMP Test Batch for noise_level = 0.14:  12%|█▎        | 25/200 [1:37:59<11:19:31, 232.98s/it]"
     ]
    },
    {
     "name": "stderr",
     "output_type": "stream",
     "text": [
      "\r",
      "OMP Test Batch for noise_level = 0.02:  12%|█▎        | 25/200 [1:38:20<11:31:54, 237.23s/it]"
     ]
    },
    {
     "name": "stderr",
     "output_type": "stream",
     "text": [
      "\r",
      "OMP Test Batch for noise_level = 0.03:  12%|█▏        | 24/200 [1:38:31<11:51:27, 242.54s/it]"
     ]
    },
    {
     "name": "stderr",
     "output_type": "stream",
     "text": [
      "\r",
      "OMP Test Batch for noise_level = 0.09:  12%|█▏        | 24/200 [1:38:32<12:07:27, 248.00s/it]"
     ]
    },
    {
     "name": "stderr",
     "output_type": "stream",
     "text": [
      "\r",
      "OMP Test Batch for noise_level = 0.06:  12%|█▎        | 25/200 [1:38:54<10:59:56, 226.26s/it]"
     ]
    },
    {
     "name": "stderr",
     "output_type": "stream",
     "text": [
      "\r",
      "OMP Test Batch for noise_level = 0.05:  12%|█▎        | 25/200 [1:39:03<11:37:15, 239.06s/it]"
     ]
    },
    {
     "name": "stderr",
     "output_type": "stream",
     "text": [
      "\r",
      "OMP Test Batch for noise_level = 0.16:  13%|█▎        | 26/200 [1:39:07<10:26:39, 216.09s/it]"
     ]
    },
    {
     "name": "stderr",
     "output_type": "stream",
     "text": [
      "\r",
      "OMP Test Batch for noise_level = 0.04:  12%|█▎        | 25/200 [1:39:28<11:01:00, 226.63s/it]"
     ]
    },
    {
     "name": "stderr",
     "output_type": "stream",
     "text": [
      "\r",
      "OMP Test Batch for noise_level = 0.01:  12%|█▎        | 25/200 [1:39:42<11:25:24, 235.00s/it]"
     ]
    },
    {
     "name": "stderr",
     "output_type": "stream",
     "text": [
      "\r",
      "OMP Test Batch for noise_level = 0.20:  12%|█▎        | 25/200 [1:39:33<11:41:57, 240.67s/it]"
     ]
    },
    {
     "name": "stderr",
     "output_type": "stream",
     "text": [
      "\r",
      "OMP Test Batch for noise_level = 0.12:  13%|█▎        | 26/200 [1:39:42<10:48:08, 223.50s/it]\r",
      "OMP Test Batch for noise_level = 0.00:  12%|█▎        | 25/200 [1:39:54<11:26:20, 235.32s/it]"
     ]
    },
    {
     "name": "stderr",
     "output_type": "stream",
     "text": [
      "\r",
      "OMP Test Batch for noise_level = 0.08:  12%|█▎        | 25/200 [1:39:51<11:06:12, 228.41s/it]"
     ]
    },
    {
     "name": "stderr",
     "output_type": "stream",
     "text": [
      "\r",
      "OMP Test Batch for noise_level = 0.07:  13%|█▎        | 26/200 [1:39:54<10:54:28, 225.68s/it]"
     ]
    },
    {
     "name": "stderr",
     "output_type": "stream",
     "text": [
      "\r",
      "OMP Test Batch for noise_level = 0.10:  12%|█▎        | 25/200 [1:40:01<11:52:55, 244.43s/it]"
     ]
    },
    {
     "name": "stderr",
     "output_type": "stream",
     "text": [
      "\r",
      "OMP Test Batch for noise_level = 0.18:  14%|█▎        | 27/200 [1:40:04<10:17:53, 214.30s/it]"
     ]
    },
    {
     "name": "stderr",
     "output_type": "stream",
     "text": [
      "\r",
      "OMP Test Batch for noise_level = 0.06:  13%|█▎        | 26/200 [1:42:05<10:26:00, 215.86s/it]\r",
      "OMP Test Batch for noise_level = 0.14:  13%|█▎        | 26/200 [1:41:59<11:21:31, 235.01s/it]"
     ]
    },
    {
     "name": "stderr",
     "output_type": "stream",
     "text": [
      "\r",
      "OMP Test Batch for noise_level = 0.02:  13%|█▎        | 26/200 [1:42:30<11:39:26, 241.18s/it]"
     ]
    },
    {
     "name": "stderr",
     "output_type": "stream",
     "text": [
      "\r",
      "OMP Test Batch for noise_level = 0.05:  13%|█▎        | 26/200 [1:42:32<11:07:15, 230.09s/it]"
     ]
    },
    {
     "name": "stderr",
     "output_type": "stream",
     "text": [
      "\r",
      "OMP Test Batch for noise_level = 0.03:  12%|█▎        | 25/200 [1:42:43<11:56:03, 245.50s/it]"
     ]
    },
    {
     "name": "stderr",
     "output_type": "stream",
     "text": [
      "\r",
      "OMP Test Batch for noise_level = 0.16:  14%|█▎        | 27/200 [1:42:40<10:20:33, 215.22s/it]"
     ]
    },
    {
     "name": "stderr",
     "output_type": "stream",
     "text": [
      "\r",
      "OMP Test Batch for noise_level = 0.09:  12%|█▎        | 25/200 [1:42:47<12:09:49, 250.22s/it]"
     ]
    },
    {
     "name": "stderr",
     "output_type": "stream",
     "text": [
      "\r",
      "OMP Test Batch for noise_level = 0.04:  13%|█▎        | 26/200 [1:43:00<10:44:08, 222.12s/it]"
     ]
    },
    {
     "name": "stderr",
     "output_type": "stream",
     "text": [
      "\r",
      "OMP Test Batch for noise_level = 0.08:  13%|█▎        | 26/200 [1:43:21<10:46:30, 222.94s/it]"
     ]
    },
    {
     "name": "stderr",
     "output_type": "stream",
     "text": [
      "\r",
      "OMP Test Batch for noise_level = 0.07:  14%|█▎        | 27/200 [1:43:28<10:40:10, 222.02s/it]"
     ]
    },
    {
     "name": "stderr",
     "output_type": "stream",
     "text": [
      "\r",
      "OMP Test Batch for noise_level = 0.12:  14%|█▎        | 27/200 [1:43:24<10:43:38, 223.23s/it]"
     ]
    },
    {
     "name": "stderr",
     "output_type": "stream",
     "text": [
      "\r",
      "OMP Test Batch for noise_level = 0.18:  14%|█▍        | 28/200 [1:43:21<10:00:12, 209.38s/it]"
     ]
    },
    {
     "name": "stderr",
     "output_type": "stream",
     "text": [
      "\r",
      "OMP Test Batch for noise_level = 0.20:  13%|█▎        | 26/200 [1:43:24<11:29:16, 237.68s/it]"
     ]
    },
    {
     "name": "stderr",
     "output_type": "stream",
     "text": [
      "\r",
      "OMP Test Batch for noise_level = 0.01:  13%|█▎        | 26/200 [1:43:42<11:25:30, 236.38s/it]"
     ]
    },
    {
     "name": "stderr",
     "output_type": "stream",
     "text": [
      "\r",
      "OMP Test Batch for noise_level = 0.00:  13%|█▎        | 26/200 [1:44:09<11:39:50, 241.33s/it]"
     ]
    },
    {
     "name": "stderr",
     "output_type": "stream",
     "text": [
      "\r",
      "OMP Test Batch for noise_level = 0.10:  13%|█▎        | 26/200 [1:44:02<11:45:37, 243.32s/it]"
     ]
    },
    {
     "name": "stderr",
     "output_type": "stream",
     "text": [
      "\r",
      "OMP Test Batch for noise_level = 0.14:  14%|█▎        | 27/200 [1:45:31<10:57:50, 228.15s/it]"
     ]
    },
    {
     "name": "stderr",
     "output_type": "stream",
     "text": [
      "\r",
      "OMP Test Batch for noise_level = 0.06:  14%|█▎        | 27/200 [1:46:06<10:44:11, 223.42s/it]"
     ]
    },
    {
     "name": "stderr",
     "output_type": "stream",
     "text": [
      "\r",
      "OMP Test Batch for noise_level = 0.05:  14%|█▎        | 27/200 [1:46:22<11:03:31, 230.12s/it]"
     ]
    },
    {
     "name": "stderr",
     "output_type": "stream",
     "text": [
      "\r",
      "OMP Test Batch for noise_level = 0.02:  14%|█▎        | 27/200 [1:46:41<11:43:27, 243.98s/it]"
     ]
    },
    {
     "name": "stderr",
     "output_type": "stream",
     "text": [
      "\r",
      "OMP Test Batch for noise_level = 0.09:  13%|█▎        | 26/200 [1:46:36<11:47:14, 243.88s/it]"
     ]
    },
    {
     "name": "stderr",
     "output_type": "stream",
     "text": [
      "\r",
      "OMP Test Batch for noise_level = 0.03:  13%|█▎        | 26/200 [1:46:49<11:51:38, 245.39s/it]"
     ]
    },
    {
     "name": "stderr",
     "output_type": "stream",
     "text": [
      "\r",
      "OMP Test Batch for noise_level = 0.18:  14%|█▍        | 29/200 [1:46:37<9:45:14, 205.35s/it] "
     ]
    },
    {
     "name": "stderr",
     "output_type": "stream",
     "text": [
      "\r",
      "OMP Test Batch for noise_level = 0.04:  14%|█▎        | 27/200 [1:46:48<10:46:00, 224.05s/it]"
     ]
    },
    {
     "name": "stderr",
     "output_type": "stream",
     "text": [
      "\r",
      "OMP Test Batch for noise_level = 0.16:  14%|█▍        | 28/200 [1:46:42<10:40:05, 223.29s/it]"
     ]
    },
    {
     "name": "stderr",
     "output_type": "stream",
     "text": [
      "\r",
      "OMP Test Batch for noise_level = 0.12:  14%|█▍        | 28/200 [1:47:02<10:35:24, 221.65s/it]"
     ]
    },
    {
     "name": "stderr",
     "output_type": "stream",
     "text": [
      "\r",
      "OMP Test Batch for noise_level = 0.08:  14%|█▎        | 27/200 [1:47:07<10:46:03, 224.06s/it]"
     ]
    },
    {
     "name": "stderr",
     "output_type": "stream",
     "text": [
      "\r",
      "OMP Test Batch for noise_level = 0.07:  14%|█▍        | 28/200 [1:47:22<10:46:35, 225.55s/it]"
     ]
    },
    {
     "name": "stderr",
     "output_type": "stream",
     "text": [
      "\r",
      "OMP Test Batch for noise_level = 0.20:  14%|█▎        | 27/200 [1:47:15<11:19:40, 235.73s/it]"
     ]
    },
    {
     "name": "stderr",
     "output_type": "stream",
     "text": [
      "\r",
      "OMP Test Batch for noise_level = 0.01:  14%|█▎        | 27/200 [1:47:46<11:28:06, 238.65s/it]"
     ]
    },
    {
     "name": "stderr",
     "output_type": "stream",
     "text": [
      "\r",
      "OMP Test Batch for noise_level = 0.00:  14%|█▎        | 27/200 [1:48:24<11:47:29, 245.37s/it]"
     ]
    },
    {
     "name": "stderr",
     "output_type": "stream",
     "text": [
      "\r",
      "OMP Test Batch for noise_level = 0.10:  14%|█▎        | 27/200 [1:48:19<11:53:14, 247.37s/it]"
     ]
    },
    {
     "name": "stderr",
     "output_type": "stream",
     "text": [
      "\r",
      "OMP Test Batch for noise_level = 0.14:  14%|█▍        | 28/200 [1:48:51<10:29:44, 219.68s/it]"
     ]
    },
    {
     "name": "stderr",
     "output_type": "stream",
     "text": [
      "\r",
      "OMP Test Batch for noise_level = 0.06:  14%|█▍        | 28/200 [1:49:46<10:37:27, 222.37s/it]"
     ]
    },
    {
     "name": "stderr",
     "output_type": "stream",
     "text": [
      "\r",
      "OMP Test Batch for noise_level = 0.16:  14%|█▍        | 29/200 [1:50:12<10:24:49, 219.24s/it]"
     ]
    },
    {
     "name": "stderr",
     "output_type": "stream",
     "text": [
      "\r",
      "OMP Test Batch for noise_level = 0.04:  14%|█▍        | 28/200 [1:50:23<10:34:34, 221.37s/it]"
     ]
    },
    {
     "name": "stderr",
     "output_type": "stream",
     "text": [
      "\r",
      "OMP Test Batch for noise_level = 0.05:  14%|█▍        | 28/200 [1:50:23<11:08:39, 233.25s/it]"
     ]
    },
    {
     "name": "stderr",
     "output_type": "stream",
     "text": [
      "\r",
      "OMP Test Batch for noise_level = 0.18:  15%|█▌        | 30/200 [1:50:22<9:57:47, 210.99s/it]"
     ]
    },
    {
     "name": "stderr",
     "output_type": "stream",
     "text": [
      "\r",
      "OMP Test Batch for noise_level = 0.02:  14%|█▍        | 28/200 [1:50:37<11:32:41, 241.64s/it]"
     ]
    },
    {
     "name": "stderr",
     "output_type": "stream",
     "text": [
      "\r",
      "OMP Test Batch for noise_level = 0.09:  14%|█▎        | 27/200 [1:50:37<11:40:39, 243.00s/it]"
     ]
    },
    {
     "name": "stderr",
     "output_type": "stream",
     "text": [
      "\r",
      "OMP Test Batch for noise_level = 0.12:  14%|█▍        | 29/200 [1:50:45<10:32:36, 221.97s/it]"
     ]
    },
    {
     "name": "stderr",
     "output_type": "stream",
     "text": [
      "\r",
      "OMP Test Batch for noise_level = 0.03:  14%|█▎        | 27/200 [1:50:59<11:51:53, 246.90s/it]"
     ]
    },
    {
     "name": "stderr",
     "output_type": "stream",
     "text": [
      "\r",
      "OMP Test Batch for noise_level = 0.07:  14%|█▍        | 29/200 [1:51:01<10:37:22, 223.64s/it]"
     ]
    },
    {
     "name": "stderr",
     "output_type": "stream",
     "text": [
      "\r",
      "OMP Test Batch for noise_level = 0.20:  14%|█▍        | 28/200 [1:51:12<11:17:01, 236.17s/it]"
     ]
    },
    {
     "name": "stderr",
     "output_type": "stream",
     "text": [
      "\r",
      "OMP Test Batch for noise_level = 0.08:  14%|█▍        | 28/200 [1:51:22<11:08:33, 233.22s/it]"
     ]
    },
    {
     "name": "stderr",
     "output_type": "stream",
     "text": [
      "\r",
      "OMP Test Batch for noise_level = 0.01:  14%|█▍        | 28/200 [1:51:32<11:13:31, 234.95s/it]"
     ]
    },
    {
     "name": "stderr",
     "output_type": "stream",
     "text": [
      "\r",
      "OMP Test Batch for noise_level = 0.10:  14%|█▍        | 28/200 [1:51:56<11:22:57, 238.24s/it]"
     ]
    },
    {
     "name": "stderr",
     "output_type": "stream",
     "text": [
      "\r",
      "OMP Test Batch for noise_level = 0.00:  14%|█▍        | 28/200 [1:52:41<11:53:55, 249.04s/it]"
     ]
    },
    {
     "name": "stderr",
     "output_type": "stream",
     "text": [
      "\r",
      "OMP Test Batch for noise_level = 0.14:  14%|█▍        | 29/200 [1:53:08<10:58:19, 230.99s/it]"
     ]
    },
    {
     "name": "stderr",
     "output_type": "stream",
     "text": [
      "\r",
      "OMP Test Batch for noise_level = 0.18:  16%|█▌        | 31/200 [1:53:24<9:30:03, 202.39s/it]"
     ]
    },
    {
     "name": "stderr",
     "output_type": "stream",
     "text": [
      "\r",
      "OMP Test Batch for noise_level = 0.06:  14%|█▍        | 29/200 [1:53:39<10:42:21, 225.39s/it]"
     ]
    },
    {
     "name": "stderr",
     "output_type": "stream",
     "text": [
      "\r",
      "OMP Test Batch for noise_level = 0.16:  15%|█▌        | 30/200 [1:54:13<10:39:07, 225.57s/it]"
     ]
    },
    {
     "name": "stderr",
     "output_type": "stream",
     "text": [
      "\r",
      "OMP Test Batch for noise_level = 0.05:  14%|█▍        | 29/200 [1:54:29<11:15:58, 237.18s/it]"
     ]
    },
    {
     "name": "stderr",
     "output_type": "stream",
     "text": [
      "\r",
      "OMP Test Batch for noise_level = 0.04:  14%|█▍        | 29/200 [1:54:33<10:54:46, 229.75s/it]"
     ]
    },
    {
     "name": "stderr",
     "output_type": "stream",
     "text": [
      "\r",
      "OMP Test Batch for noise_level = 0.12:  15%|█▌        | 30/200 [1:54:34<10:34:35, 223.97s/it]"
     ]
    },
    {
     "name": "stderr",
     "output_type": "stream",
     "text": [
      "\r",
      "OMP Test Batch for noise_level = 0.09:  14%|█▍        | 28/200 [1:54:40<11:36:23, 242.93s/it]"
     ]
    },
    {
     "name": "stderr",
     "output_type": "stream",
     "text": [
      "\r",
      "OMP Test Batch for noise_level = 0.02:  14%|█▍        | 29/200 [1:54:54<11:41:23, 246.10s/it]"
     ]
    },
    {
     "name": "stderr",
     "output_type": "stream",
     "text": [
      "\r",
      "OMP Test Batch for noise_level = 0.07:  15%|█▌        | 30/200 [1:54:52<10:39:37, 225.75s/it]"
     ]
    },
    {
     "name": "stderr",
     "output_type": "stream",
     "text": [
      "\r",
      "OMP Test Batch for noise_level = 0.01:  14%|█▍        | 29/200 [1:55:02<10:48:07, 227.41s/it]"
     ]
    },
    {
     "name": "stderr",
     "output_type": "stream",
     "text": [
      "\r",
      "OMP Test Batch for noise_level = 0.03:  14%|█▍        | 28/200 [1:55:02<11:44:20, 245.70s/it]"
     ]
    },
    {
     "name": "stderr",
     "output_type": "stream",
     "text": [
      "\r",
      "OMP Test Batch for noise_level = 0.20:  14%|█▍        | 29/200 [1:54:55<11:01:34, 232.13s/it]"
     ]
    },
    {
     "name": "stderr",
     "output_type": "stream",
     "text": [
      "\r",
      "OMP Test Batch for noise_level = 0.14:  15%|█▌        | 30/200 [1:55:13<9:23:50, 199.01s/it] "
     ]
    },
    {
     "name": "stderr",
     "output_type": "stream",
     "text": [
      "\r",
      "OMP Test Batch for noise_level = 0.08:  14%|█▍        | 29/200 [1:55:20<11:09:05, 234.77s/it]"
     ]
    },
    {
     "name": "stderr",
     "output_type": "stream",
     "text": [
      "\r",
      "OMP Test Batch for noise_level = 0.04:  15%|█▌        | 30/200 [1:55:35<8:28:56, 179.63s/it] "
     ]
    },
    {
     "name": "stderr",
     "output_type": "stream",
     "text": [
      "\r",
      "OMP Test Batch for noise_level = 0.06:  15%|█▌        | 30/200 [1:55:37<9:07:58, 193.40s/it] \r",
      "OMP Test Batch for noise_level = 0.10:  14%|█▍        | 29/200 [1:55:33<11:00:55, 231.90s/it]"
     ]
    },
    {
     "name": "stderr",
     "output_type": "stream",
     "text": [
      "\r",
      "OMP Test Batch for noise_level = 0.09:  14%|█▍        | 29/200 [1:55:41<8:56:40, 188.31s/it] "
     ]
    },
    {
     "name": "stderr",
     "output_type": "stream",
     "text": [
      "\r",
      "OMP Test Batch for noise_level = 0.07:  16%|█▌        | 31/200 [1:55:45<8:10:37, 174.19s/it] "
     ]
    },
    {
     "name": "stderr",
     "output_type": "stream",
     "text": [
      "\r",
      "OMP Test Batch for noise_level = 0.00:  14%|█▍        | 29/200 [1:55:57<11:04:14, 233.07s/it]\r",
      "OMP Test Batch for noise_level = 0.12:  16%|█▌        | 31/200 [1:55:45<8:22:13, 178.30s/it] "
     ]
    },
    {
     "name": "stderr",
     "output_type": "stream",
     "text": [
      "\r",
      "OMP Test Batch for noise_level = 0.18:  16%|█▌        | 32/200 [1:55:47<8:37:08, 184.69s/it]"
     ]
    },
    {
     "name": "stderr",
     "output_type": "stream",
     "text": [
      "\r",
      "OMP Test Batch for noise_level = 0.01:  15%|█▌        | 30/200 [1:56:05<8:24:30, 178.06s/it] "
     ]
    },
    {
     "name": "stderr",
     "output_type": "stream",
     "text": [
      "\r",
      "OMP Test Batch for noise_level = 0.14:  16%|█▌        | 31/200 [1:56:08<7:18:58, 155.85s/it]"
     ]
    },
    {
     "name": "stderr",
     "output_type": "stream",
     "text": [
      "\r",
      "OMP Test Batch for noise_level = 0.04:  16%|█▌        | 31/200 [1:56:32<6:42:09, 142.78s/it]"
     ]
    },
    {
     "name": "stderr",
     "output_type": "stream",
     "text": [
      "\r",
      "OMP Test Batch for noise_level = 0.05:  15%|█▌        | 30/200 [1:56:39<9:40:49, 205.00s/it] "
     ]
    },
    {
     "name": "stderr",
     "output_type": "stream",
     "text": [
      "\r",
      "OMP Test Batch for noise_level = 0.16:  16%|█▌        | 31/200 [1:56:33<9:23:38, 200.11s/it] "
     ]
    },
    {
     "name": "stderr",
     "output_type": "stream",
     "text": [
      "\r",
      "OMP Test Batch for noise_level = 0.06:  16%|█▌        | 31/200 [1:56:46<7:19:30, 156.04s/it]"
     ]
    },
    {
     "name": "stderr",
     "output_type": "stream",
     "text": [
      "\r",
      "OMP Test Batch for noise_level = 0.07:  16%|█▌        | 32/200 [1:56:48<6:34:16, 140.81s/it]"
     ]
    },
    {
     "name": "stderr",
     "output_type": "stream",
     "text": [
      "\r",
      "OMP Test Batch for noise_level = 0.02:  15%|█▌        | 30/200 [1:56:54<9:50:48, 208.52s/it] "
     ]
    },
    {
     "name": "stderr",
     "output_type": "stream",
     "text": [
      "\r",
      "OMP Test Batch for noise_level = 0.09:  15%|█▌        | 30/200 [1:56:49<7:11:13, 152.19s/it]"
     ]
    },
    {
     "name": "stderr",
     "output_type": "stream",
     "text": [
      "\r",
      "OMP Test Batch for noise_level = 0.01:  16%|█▌        | 31/200 [1:57:01<6:38:41, 141.55s/it]"
     ]
    },
    {
     "name": "stderr",
     "output_type": "stream",
     "text": [
      "\r",
      "OMP Test Batch for noise_level = 0.12:  16%|█▌        | 32/200 [1:56:53<6:46:12, 145.07s/it]"
     ]
    },
    {
     "name": "stderr",
     "output_type": "stream",
     "text": [
      "\r",
      "OMP Test Batch for noise_level = 0.03:  14%|█▍        | 29/200 [1:57:08<9:58:04, 209.85s/it] "
     ]
    },
    {
     "name": "stderr",
     "output_type": "stream",
     "text": [
      "\r",
      "OMP Test Batch for noise_level = 0.20:  15%|█▌        | 30/200 [1:56:56<9:23:35, 198.92s/it] "
     ]
    },
    {
     "name": "stderr",
     "output_type": "stream",
     "text": [
      "\r",
      "OMP Test Batch for noise_level = 0.14:  16%|█▌        | 32/200 [1:57:10<5:57:32, 127.69s/it]"
     ]
    },
    {
     "name": "stderr",
     "output_type": "stream",
     "text": [
      "\r",
      "OMP Test Batch for noise_level = 0.08:  15%|█▌        | 30/200 [1:57:17<9:24:32, 199.25s/it] "
     ]
    },
    {
     "name": "stderr",
     "output_type": "stream",
     "text": [
      "\r",
      "OMP Test Batch for noise_level = 0.04:  16%|█▌        | 32/200 [1:57:31<5:29:36, 117.72s/it]"
     ]
    },
    {
     "name": "stderr",
     "output_type": "stream",
     "text": [
      "\r",
      "OMP Test Batch for noise_level = 0.10:  15%|█▌        | 30/200 [1:57:34<9:23:01, 198.72s/it] "
     ]
    },
    {
     "name": "stderr",
     "output_type": "stream",
     "text": [
      "\r",
      "OMP Test Batch for noise_level = 0.00:  15%|█▌        | 30/200 [1:57:46<9:14:21, 195.66s/it] "
     ]
    },
    {
     "name": "stderr",
     "output_type": "stream",
     "text": [
      "\r",
      "OMP Test Batch for noise_level = 0.07:  16%|█▋        | 33/200 [1:57:44<5:20:49, 115.26s/it]"
     ]
    },
    {
     "name": "stderr",
     "output_type": "stream",
     "text": [
      "\r",
      "OMP Test Batch for noise_level = 0.09:  16%|█▌        | 31/200 [1:57:47<5:49:00, 123.91s/it]"
     ]
    },
    {
     "name": "stderr",
     "output_type": "stream",
     "text": [
      "\r",
      "OMP Test Batch for noise_level = 0.18:  16%|█▋        | 33/200 [1:57:43<7:36:10, 163.90s/it]"
     ]
    },
    {
     "name": "stderr",
     "output_type": "stream",
     "text": [
      "\r",
      "OMP Test Batch for noise_level = 0.01:  16%|█▌        | 32/200 [1:58:00<5:26:47, 116.71s/it]"
     ]
    },
    {
     "name": "stderr",
     "output_type": "stream",
     "text": [
      "\r",
      "OMP Test Batch for noise_level = 0.06:  16%|█▌        | 32/200 [1:57:58<6:05:59, 130.71s/it]"
     ]
    },
    {
     "name": "stderr",
     "output_type": "stream",
     "text": [
      "\r",
      "OMP Test Batch for noise_level = 0.12:  16%|█▋        | 33/200 [1:58:11<5:47:49, 124.97s/it]"
     ]
    },
    {
     "name": "stderr",
     "output_type": "stream",
     "text": [
      "\r",
      "OMP Test Batch for noise_level = 0.14:  16%|█▋        | 33/200 [1:58:11<4:59:50, 107.73s/it]"
     ]
    },
    {
     "name": "stderr",
     "output_type": "stream",
     "text": [
      "\r",
      "OMP Test Batch for noise_level = 0.05:  16%|█▌        | 31/200 [1:58:28<8:16:05, 176.12s/it]"
     ]
    },
    {
     "name": "stderr",
     "output_type": "stream",
     "text": [
      "\r",
      "OMP Test Batch for noise_level = 0.16:  16%|█▌        | 32/200 [1:58:22<8:03:19, 172.61s/it]"
     ]
    },
    {
     "name": "stderr",
     "output_type": "stream",
     "text": [
      "\r",
      "OMP Test Batch for noise_level = 0.02:  16%|█▌        | 31/200 [1:58:35<8:16:28, 176.26s/it]"
     ]
    },
    {
     "name": "stderr",
     "output_type": "stream",
     "text": [
      "\r",
      "OMP Test Batch for noise_level = 0.04:  16%|█▋        | 33/200 [1:58:35<4:42:35, 101.53s/it]"
     ]
    },
    {
     "name": "stderr",
     "output_type": "stream",
     "text": [
      "\r",
      "OMP Test Batch for noise_level = 0.07:  17%|█▋        | 34/200 [1:58:47<4:35:39, 99.64s/it] "
     ]
    },
    {
     "name": "stderr",
     "output_type": "stream",
     "text": [
      "\r",
      "OMP Test Batch for noise_level = 0.06:  16%|█▋        | 33/200 [1:58:56<5:03:02, 108.88s/it]"
     ]
    },
    {
     "name": "stderr",
     "output_type": "stream",
     "text": [
      "\r",
      "OMP Test Batch for noise_level = 0.03:  15%|█▌        | 30/200 [1:59:01<8:32:23, 180.85s/it]"
     ]
    },
    {
     "name": "stderr",
     "output_type": "stream",
     "text": [
      "\r",
      "OMP Test Batch for noise_level = 0.20:  16%|█▌        | 31/200 [1:58:50<8:08:04, 173.28s/it]"
     ]
    },
    {
     "name": "stderr",
     "output_type": "stream",
     "text": [
      "\r",
      "OMP Test Batch for noise_level = 0.08:  16%|█▌        | 31/200 [1:58:58<7:58:10, 169.76s/it]"
     ]
    },
    {
     "name": "stderr",
     "output_type": "stream",
     "text": [
      "\r",
      "OMP Test Batch for noise_level = 0.01:  16%|█▋        | 33/200 [1:59:06<4:42:50, 101.62s/it]"
     ]
    },
    {
     "name": "stderr",
     "output_type": "stream",
     "text": [
      "\r",
      "OMP Test Batch for noise_level = 0.09:  16%|█▌        | 32/200 [1:59:04<5:08:02, 110.01s/it]"
     ]
    },
    {
     "name": "stderr",
     "output_type": "stream",
     "text": [
      "\r",
      "OMP Test Batch for noise_level = 0.10:  16%|█▌        | 31/200 [1:59:16<7:58:10, 169.77s/it]"
     ]
    },
    {
     "name": "stderr",
     "output_type": "stream",
     "text": [
      "\r",
      "OMP Test Batch for noise_level = 0.00:  16%|█▌        | 31/200 [1:59:33<7:56:32, 169.18s/it]\r",
      "OMP Test Batch for noise_level = 0.14:  17%|█▋        | 34/200 [1:59:20<4:25:55, 96.12s/it] "
     ]
    },
    {
     "name": "stderr",
     "output_type": "stream",
     "text": [
      "\r",
      "OMP Test Batch for noise_level = 0.12:  17%|█▋        | 34/200 [1:59:21<5:00:28, 108.61s/it]"
     ]
    },
    {
     "name": "stderr",
     "output_type": "stream",
     "text": [
      "\r",
      "OMP Test Batch for noise_level = 0.04:  17%|█▋        | 34/200 [1:59:32<4:03:54, 88.16s/it] "
     ]
    },
    {
     "name": "stderr",
     "output_type": "stream",
     "text": [
      "\r",
      "OMP Test Batch for noise_level = 0.18:  17%|█▋        | 34/200 [1:59:28<6:45:10, 146.45s/it]"
     ]
    },
    {
     "name": "stderr",
     "output_type": "stream",
     "text": [
      "\r",
      "OMP Test Batch for noise_level = 0.07:  18%|█▊        | 35/200 [1:59:54<4:06:58, 89.81s/it]"
     ]
    },
    {
     "name": "stderr",
     "output_type": "stream",
     "text": [
      "\r",
      "OMP Test Batch for noise_level = 0.06:  17%|█▋        | 34/200 [1:59:58<4:22:45, 94.97s/it] "
     ]
    },
    {
     "name": "stderr",
     "output_type": "stream",
     "text": [
      "\r",
      "OMP Test Batch for noise_level = 0.01:  17%|█▋        | 34/200 [2:00:05<4:05:40, 88.80s/it] "
     ]
    },
    {
     "name": "stderr",
     "output_type": "stream",
     "text": [
      "\r",
      "OMP Test Batch for noise_level = 0.09:  16%|█▋        | 33/200 [2:00:03<4:23:39, 94.73s/it] "
     ]
    },
    {
     "name": "stderr",
     "output_type": "stream",
     "text": [
      "\r",
      "OMP Test Batch for noise_level = 0.16:  16%|█▋        | 33/200 [2:00:11<7:07:24, 153.56s/it]"
     ]
    },
    {
     "name": "stderr",
     "output_type": "stream",
     "text": [
      "\r",
      "OMP Test Batch for noise_level = 0.05:  16%|█▌        | 32/200 [2:00:26<7:24:00, 158.58s/it]"
     ]
    },
    {
     "name": "stderr",
     "output_type": "stream",
     "text": [
      "\r",
      "OMP Test Batch for noise_level = 0.02:  16%|█▌        | 32/200 [2:00:29<7:21:06, 157.54s/it]"
     ]
    },
    {
     "name": "stderr",
     "output_type": "stream",
     "text": [
      "\r",
      "OMP Test Batch for noise_level = 0.12:  18%|█▊        | 35/200 [2:00:30<4:25:55, 96.70s/it] "
     ]
    },
    {
     "name": "stderr",
     "output_type": "stream",
     "text": [
      "\r",
      "OMP Test Batch for noise_level = 0.04:  18%|█▊        | 35/200 [2:00:44<3:48:43, 83.18s/it]"
     ]
    },
    {
     "name": "stderr",
     "output_type": "stream",
     "text": [
      "\r",
      "OMP Test Batch for noise_level = 0.08:  16%|█▌        | 32/200 [2:00:41<6:59:29, 149.82s/it]"
     ]
    },
    {
     "name": "stderr",
     "output_type": "stream",
     "text": [
      "\r",
      "OMP Test Batch for noise_level = 0.20:  16%|█▌        | 32/200 [2:00:34<7:07:04, 152.53s/it]"
     ]
    },
    {
     "name": "stderr",
     "output_type": "stream",
     "text": [
      "\r",
      "OMP Test Batch for noise_level = 0.03:  16%|█▌        | 31/200 [2:00:54<7:32:09, 160.53s/it]"
     ]
    },
    {
     "name": "stderr",
     "output_type": "stream",
     "text": [
      "\r",
      "OMP Test Batch for noise_level = 0.14:  18%|█▊        | 35/200 [2:00:50<4:19:03, 94.20s/it]"
     ]
    },
    {
     "name": "stderr",
     "output_type": "stream",
     "text": [
      "\r",
      "OMP Test Batch for noise_level = 0.07:  18%|█▊        | 36/200 [2:00:59<3:45:17, 82.43s/it]"
     ]
    },
    {
     "name": "stderr",
     "output_type": "stream",
     "text": [
      "\r",
      "OMP Test Batch for noise_level = 0.06:  18%|█▊        | 35/200 [2:01:03<3:56:18, 85.93s/it]"
     ]
    },
    {
     "name": "stderr",
     "output_type": "stream",
     "text": [
      "\r",
      "OMP Test Batch for noise_level = 0.01:  18%|█▊        | 35/200 [2:01:10<3:43:57, 81.44s/it]"
     ]
    },
    {
     "name": "stderr",
     "output_type": "stream",
     "text": [
      "\r",
      "OMP Test Batch for noise_level = 0.09:  17%|█▋        | 34/200 [2:01:07<3:56:15, 85.39s/it]"
     ]
    },
    {
     "name": "stderr",
     "output_type": "stream",
     "text": [
      "\r",
      "OMP Test Batch for noise_level = 0.10:  16%|█▌        | 32/200 [2:01:10<7:08:11, 152.92s/it]"
     ]
    },
    {
     "name": "stderr",
     "output_type": "stream",
     "text": [
      "\r",
      "OMP Test Batch for noise_level = 0.18:  18%|█▊        | 35/200 [2:01:12<6:07:12, 133.53s/it]"
     ]
    },
    {
     "name": "stderr",
     "output_type": "stream",
     "text": [
      "\r",
      "OMP Test Batch for noise_level = 0.00:  16%|█▌        | 32/200 [2:01:28<7:08:12, 152.93s/it]"
     ]
    },
    {
     "name": "stderr",
     "output_type": "stream",
     "text": [
      "\r",
      "OMP Test Batch for noise_level = 0.12:  18%|█▊        | 36/200 [2:01:26<3:51:02, 84.53s/it]"
     ]
    },
    {
     "name": "stderr",
     "output_type": "stream",
     "text": [
      "\r",
      "OMP Test Batch for noise_level = 0.04:  18%|█▊        | 36/200 [2:02:01<3:42:51, 81.53s/it]"
     ]
    },
    {
     "name": "stderr",
     "output_type": "stream",
     "text": [
      "\r",
      "OMP Test Batch for noise_level = 0.06:  18%|█▊        | 36/200 [2:02:01<3:32:09, 77.62s/it]"
     ]
    },
    {
     "name": "stderr",
     "output_type": "stream",
     "text": [
      "\r",
      "OMP Test Batch for noise_level = 0.07:  18%|█▊        | 37/200 [2:02:05<3:30:27, 77.47s/it]"
     ]
    },
    {
     "name": "stderr",
     "output_type": "stream",
     "text": [
      "\r",
      "OMP Test Batch for noise_level = 0.09:  18%|█▊        | 35/200 [2:02:05<3:32:01, 77.10s/it]\r",
      "OMP Test Batch for noise_level = 0.16:  17%|█▋        | 34/200 [2:02:00<6:28:21, 140.37s/it]"
     ]
    },
    {
     "name": "stderr",
     "output_type": "stream",
     "text": [
      "\r",
      "OMP Test Batch for noise_level = 0.05:  16%|█▋        | 33/200 [2:02:10<6:36:29, 142.45s/it]"
     ]
    },
    {
     "name": "stderr",
     "output_type": "stream",
     "text": [
      "\r",
      "OMP Test Batch for noise_level = 0.01:  18%|█▊        | 36/200 [2:02:20<3:33:38, 78.16s/it]"
     ]
    },
    {
     "name": "stderr",
     "output_type": "stream",
     "text": [
      "\r",
      "OMP Test Batch for noise_level = 0.02:  16%|█▋        | 33/200 [2:02:21<6:40:11, 143.78s/it]"
     ]
    },
    {
     "name": "stderr",
     "output_type": "stream",
     "text": [
      "\r",
      "OMP Test Batch for noise_level = 0.14:  18%|█▊        | 36/200 [2:02:15<4:10:00, 91.47s/it]"
     ]
    },
    {
     "name": "stderr",
     "output_type": "stream",
     "text": [
      "\r",
      "OMP Test Batch for noise_level = 0.20:  16%|█▋        | 33/200 [2:02:26<6:30:55, 140.46s/it]"
     ]
    },
    {
     "name": "stderr",
     "output_type": "stream",
     "text": [
      "\r",
      "OMP Test Batch for noise_level = 0.12:  18%|█▊        | 37/200 [2:02:31<3:33:11, 78.48s/it]"
     ]
    },
    {
     "name": "stderr",
     "output_type": "stream",
     "text": [
      "\r",
      "OMP Test Batch for noise_level = 0.08:  16%|█▋        | 33/200 [2:02:36<6:27:38, 139.27s/it]"
     ]
    },
    {
     "name": "stderr",
     "output_type": "stream",
     "text": [
      "\r",
      "OMP Test Batch for noise_level = 0.03:  16%|█▌        | 32/200 [2:02:47<6:49:33, 146.27s/it]"
     ]
    },
    {
     "name": "stderr",
     "output_type": "stream",
     "text": [
      "\r",
      "OMP Test Batch for noise_level = 0.18:  18%|█▊        | 36/200 [2:02:47<5:33:51, 122.14s/it]"
     ]
    },
    {
     "name": "stderr",
     "output_type": "stream",
     "text": [
      "\r",
      "OMP Test Batch for noise_level = 0.00:  16%|█▋        | 33/200 [2:03:11<6:23:48, 137.90s/it]"
     ]
    },
    {
     "name": "stderr",
     "output_type": "stream",
     "text": [
      "\r",
      "OMP Test Batch for noise_level = 0.10:  16%|█▋        | 33/200 [2:03:03<6:32:23, 140.98s/it]"
     ]
    },
    {
     "name": "stderr",
     "output_type": "stream",
     "text": [
      "\r",
      "OMP Test Batch for noise_level = 0.06:  18%|█▊        | 37/200 [2:03:11<3:24:05, 75.13s/it]"
     ]
    },
    {
     "name": "stderr",
     "output_type": "stream",
     "text": [
      "\r",
      "OMP Test Batch for noise_level = 0.04:  18%|█▊        | 37/200 [2:03:19<3:38:34, 80.46s/it]"
     ]
    },
    {
     "name": "stderr",
     "output_type": "stream",
     "text": [
      "\r",
      "OMP Test Batch for noise_level = 0.01:  18%|█▊        | 37/200 [2:03:28<3:24:10, 75.16s/it]"
     ]
    },
    {
     "name": "stderr",
     "output_type": "stream",
     "text": [
      "\r",
      "OMP Test Batch for noise_level = 0.05:  17%|█▋        | 34/200 [2:03:25<5:37:37, 122.03s/it]"
     ]
    },
    {
     "name": "stderr",
     "output_type": "stream",
     "text": [
      "\r",
      "OMP Test Batch for noise_level = 0.07:  19%|█▉        | 38/200 [2:03:28<3:33:33, 79.10s/it]"
     ]
    },
    {
     "name": "stderr",
     "output_type": "stream",
     "text": [
      "\r",
      "OMP Test Batch for noise_level = 0.09:  18%|█▊        | 36/200 [2:03:27<3:34:39, 78.53s/it]"
     ]
    },
    {
     "name": "stderr",
     "output_type": "stream",
     "text": [
      "\r",
      "OMP Test Batch for noise_level = 0.14:  18%|█▊        | 37/200 [2:03:28<3:53:09, 85.82s/it]"
     ]
    },
    {
     "name": "stderr",
     "output_type": "stream",
     "text": [
      "\r",
      "OMP Test Batch for noise_level = 0.16:  18%|█▊        | 35/200 [2:03:27<5:41:45, 124.28s/it]"
     ]
    },
    {
     "name": "stderr",
     "output_type": "stream",
     "text": [
      "\r",
      "OMP Test Batch for noise_level = 0.02:  17%|█▋        | 34/200 [2:03:49<5:51:17, 126.97s/it]"
     ]
    },
    {
     "name": "stderr",
     "output_type": "stream",
     "text": [
      "\r",
      "OMP Test Batch for noise_level = 0.12:  19%|█▉        | 38/200 [2:03:50<3:32:40, 78.77s/it]"
     ]
    },
    {
     "name": "stderr",
     "output_type": "stream",
     "text": [
      "\r",
      "OMP Test Batch for noise_level = 0.20:  17%|█▋        | 34/200 [2:04:01<5:50:16, 126.60s/it]"
     ]
    },
    {
     "name": "stderr",
     "output_type": "stream",
     "text": [
      "\r",
      "OMP Test Batch for noise_level = 0.08:  17%|█▋        | 34/200 [2:04:09<5:46:59, 125.42s/it]"
     ]
    },
    {
     "name": "stderr",
     "output_type": "stream",
     "text": [
      "\r",
      "OMP Test Batch for noise_level = 0.03:  16%|█▋        | 33/200 [2:04:25<6:06:07, 131.54s/it]"
     ]
    },
    {
     "name": "stderr",
     "output_type": "stream",
     "text": [
      "\r",
      "OMP Test Batch for noise_level = 0.18:  18%|█▊        | 37/200 [2:04:21<5:08:38, 113.61s/it]"
     ]
    },
    {
     "name": "stderr",
     "output_type": "stream",
     "text": [
      "\r",
      "OMP Test Batch for noise_level = 0.10:  17%|█▋        | 34/200 [2:04:27<5:43:04, 124.00s/it]"
     ]
    },
    {
     "name": "stderr",
     "output_type": "stream",
     "text": [
      "\r",
      "OMP Test Batch for noise_level = 0.06:  19%|█▉        | 38/200 [2:04:33<3:28:45, 77.32s/it]"
     ]
    },
    {
     "name": "stderr",
     "output_type": "stream",
     "text": [
      "\r",
      "OMP Test Batch for noise_level = 0.04:  19%|█▉        | 38/200 [2:04:41<3:37:56, 80.72s/it]"
     ]
    },
    {
     "name": "stderr",
     "output_type": "stream",
     "text": [
      "\r",
      "OMP Test Batch for noise_level = 0.00:  17%|█▋        | 34/200 [2:04:47<5:46:32, 125.26s/it]"
     ]
    },
    {
     "name": "stderr",
     "output_type": "stream",
     "text": [
      "\r",
      "OMP Test Batch for noise_level = 0.05:  18%|█▊        | 35/200 [2:04:43<4:59:34, 108.94s/it]"
     ]
    },
    {
     "name": "stderr",
     "output_type": "stream",
     "text": [
      "\r",
      "OMP Test Batch for noise_level = 0.01:  19%|█▉        | 38/200 [2:04:52<3:30:05, 77.81s/it]"
     ]
    },
    {
     "name": "stderr",
     "output_type": "stream",
     "text": [
      "\r",
      "OMP Test Batch for noise_level = 0.09:  18%|█▊        | 37/200 [2:04:44<3:32:36, 78.26s/it]"
     ]
    },
    {
     "name": "stderr",
     "output_type": "stream",
     "text": [
      "\r",
      "OMP Test Batch for noise_level = 0.14:  19%|█▉        | 38/200 [2:04:43<3:43:37, 82.83s/it]"
     ]
    },
    {
     "name": "stderr",
     "output_type": "stream",
     "text": [
      "\r",
      "OMP Test Batch for noise_level = 0.07:  20%|█▉        | 39/200 [2:04:50<3:34:14, 79.84s/it]"
     ]
    },
    {
     "name": "stderr",
     "output_type": "stream",
     "text": [
      "\r",
      "OMP Test Batch for noise_level = 0.16:  18%|█▊        | 36/200 [2:04:50<5:05:29, 111.77s/it]"
     ]
    },
    {
     "name": "stderr",
     "output_type": "stream",
     "text": [
      "\r",
      "OMP Test Batch for noise_level = 0.12:  20%|█▉        | 39/200 [2:05:09<3:31:00, 78.63s/it]"
     ]
    },
    {
     "name": "stderr",
     "output_type": "stream",
     "text": [
      "\r",
      "OMP Test Batch for noise_level = 0.02:  18%|█▊        | 35/200 [2:05:26<5:24:27, 117.99s/it]"
     ]
    },
    {
     "name": "stderr",
     "output_type": "stream",
     "text": [
      "\r",
      "OMP Test Batch for noise_level = 0.20:  18%|█▊        | 35/200 [2:05:31<5:18:15, 115.73s/it]"
     ]
    },
    {
     "name": "stderr",
     "output_type": "stream",
     "text": [
      "\r",
      "OMP Test Batch for noise_level = 0.03:  17%|█▋        | 34/200 [2:05:46<5:22:36, 116.61s/it]"
     ]
    },
    {
     "name": "stderr",
     "output_type": "stream",
     "text": [
      "\r",
      "OMP Test Batch for noise_level = 0.08:  18%|█▊        | 35/200 [2:05:42<5:18:22, 115.77s/it]"
     ]
    },
    {
     "name": "stderr",
     "output_type": "stream",
     "text": [
      "\r",
      "OMP Test Batch for noise_level = 0.01:  20%|█▉        | 39/200 [2:06:02<3:22:40, 75.53s/it]"
     ]
    },
    {
     "name": "stderr",
     "output_type": "stream",
     "text": [
      "\r",
      "OMP Test Batch for noise_level = 0.04:  20%|█▉        | 39/200 [2:06:01<3:36:33, 80.71s/it]"
     ]
    },
    {
     "name": "stderr",
     "output_type": "stream",
     "text": [
      "\r",
      "OMP Test Batch for noise_level = 0.18:  19%|█▉        | 38/200 [2:05:53<4:48:51, 106.99s/it]"
     ]
    },
    {
     "name": "stderr",
     "output_type": "stream",
     "text": [
      "\r",
      "OMP Test Batch for noise_level = 0.10:  18%|█▊        | 35/200 [2:06:00<5:14:51, 114.50s/it]"
     ]
    },
    {
     "name": "stderr",
     "output_type": "stream",
     "text": [
      "\r",
      "OMP Test Batch for noise_level = 0.07:  20%|██        | 40/200 [2:06:05<3:29:27, 78.55s/it]"
     ]
    },
    {
     "name": "stderr",
     "output_type": "stream",
     "text": [
      "\r",
      "OMP Test Batch for noise_level = 0.06:  20%|█▉        | 39/200 [2:06:07<3:40:45, 82.27s/it]"
     ]
    },
    {
     "name": "stderr",
     "output_type": "stream",
     "text": [
      "\r",
      "OMP Test Batch for noise_level = 0.00:  18%|█▊        | 35/200 [2:06:16<5:14:57, 114.53s/it]"
     ]
    },
    {
     "name": "stderr",
     "output_type": "stream",
     "text": [
      "\r",
      "OMP Test Batch for noise_level = 0.16:  18%|█▊        | 37/200 [2:06:04<4:32:59, 100.49s/it]"
     ]
    },
    {
     "name": "stderr",
     "output_type": "stream",
     "text": [
      "\r",
      "OMP Test Batch for noise_level = 0.05:  18%|█▊        | 36/200 [2:06:15<4:43:48, 103.83s/it]"
     ]
    },
    {
     "name": "stderr",
     "output_type": "stream",
     "text": [
      "\r",
      "OMP Test Batch for noise_level = 0.09:  19%|█▉        | 38/200 [2:06:14<3:40:58, 81.85s/it]"
     ]
    },
    {
     "name": "stderr",
     "output_type": "stream",
     "text": [
      "\r",
      "OMP Test Batch for noise_level = 0.14:  20%|█▉        | 39/200 [2:06:14<3:48:13, 85.05s/it]"
     ]
    },
    {
     "name": "stderr",
     "output_type": "stream",
     "text": [
      "\r",
      "OMP Test Batch for noise_level = 0.12:  20%|██        | 40/200 [2:06:26<3:28:29, 78.18s/it]"
     ]
    },
    {
     "name": "stderr",
     "output_type": "stream",
     "text": [
      "\r",
      "OMP Test Batch for noise_level = 0.02:  18%|█▊        | 36/200 [2:06:58<5:01:22, 110.26s/it]"
     ]
    },
    {
     "name": "stderr",
     "output_type": "stream",
     "text": [
      "\r",
      "OMP Test Batch for noise_level = 0.03:  18%|█▊        | 35/200 [2:07:16<4:58:32, 108.56s/it]"
     ]
    },
    {
     "name": "stderr",
     "output_type": "stream",
     "text": [
      "\r",
      "OMP Test Batch for noise_level = 0.20:  18%|█▊        | 36/200 [2:07:04<4:57:49, 108.96s/it]"
     ]
    },
    {
     "name": "stderr",
     "output_type": "stream",
     "text": [
      "\r",
      "OMP Test Batch for noise_level = 0.18:  20%|█▉        | 39/200 [2:07:06<4:20:02, 96.91s/it] "
     ]
    },
    {
     "name": "stderr",
     "output_type": "stream",
     "text": [
      "\r",
      "OMP Test Batch for noise_level = 0.07:  20%|██        | 41/200 [2:07:16<3:22:26, 76.39s/it]"
     ]
    },
    {
     "name": "stderr",
     "output_type": "stream",
     "text": [
      "\r",
      "OMP Test Batch for noise_level = 0.04:  20%|██        | 40/200 [2:07:20<3:33:45, 80.16s/it]"
     ]
    },
    {
     "name": "stderr",
     "output_type": "stream",
     "text": [
      "\r",
      "OMP Test Batch for noise_level = 0.08:  18%|█▊        | 36/200 [2:07:22<5:03:16, 110.95s/it]"
     ]
    },
    {
     "name": "stderr",
     "output_type": "stream",
     "text": [
      "\r",
      "OMP Test Batch for noise_level = 0.01:  20%|██        | 40/200 [2:07:30<3:31:20, 79.26s/it]"
     ]
    },
    {
     "name": "stderr",
     "output_type": "stream",
     "text": [
      "\r",
      "OMP Test Batch for noise_level = 0.10:  18%|█▊        | 36/200 [2:07:26<4:49:56, 106.08s/it]"
     ]
    },
    {
     "name": "stderr",
     "output_type": "stream",
     "text": [
      "\r",
      "OMP Test Batch for noise_level = 0.14:  20%|██        | 40/200 [2:07:26<3:36:29, 81.18s/it]"
     ]
    },
    {
     "name": "stderr",
     "output_type": "stream",
     "text": [
      "\r",
      "OMP Test Batch for noise_level = 0.09:  20%|█▉        | 39/200 [2:07:29<3:34:00, 79.75s/it]"
     ]
    },
    {
     "name": "stderr",
     "output_type": "stream",
     "text": [
      "\r",
      "OMP Test Batch for noise_level = 0.16:  19%|█▉        | 38/200 [2:07:26<4:16:15, 94.91s/it] "
     ]
    },
    {
     "name": "stderr",
     "output_type": "stream",
     "text": [
      "\r",
      "OMP Test Batch for noise_level = 0.00:  18%|█▊        | 36/200 [2:07:48<4:54:20, 107.69s/it]"
     ]
    },
    {
     "name": "stderr",
     "output_type": "stream",
     "text": [
      "\r",
      "OMP Test Batch for noise_level = 0.06:  20%|██        | 40/200 [2:07:46<3:52:27, 87.17s/it]"
     ]
    },
    {
     "name": "stderr",
     "output_type": "stream",
     "text": [
      "\r",
      "OMP Test Batch for noise_level = 0.05:  18%|█▊        | 37/200 [2:07:50<4:34:32, 101.06s/it]"
     ]
    },
    {
     "name": "stderr",
     "output_type": "stream",
     "text": [
      "\r",
      "OMP Test Batch for noise_level = 0.12:  20%|██        | 41/200 [2:07:49<3:30:53, 79.58s/it]"
     ]
    },
    {
     "name": "stderr",
     "output_type": "stream",
     "text": [
      "\r",
      "OMP Test Batch for noise_level = 0.02:  18%|█▊        | 37/200 [2:08:35<4:48:32, 106.21s/it]"
     ]
    },
    {
     "name": "stderr",
     "output_type": "stream",
     "text": [
      "\r",
      "OMP Test Batch for noise_level = 0.20:  18%|█▊        | 37/200 [2:08:28<4:35:44, 101.50s/it]\r",
      "OMP Test Batch for noise_level = 0.01:  20%|██        | 41/200 [2:08:43<3:24:56, 77.34s/it]"
     ]
    },
    {
     "name": "stderr",
     "output_type": "stream",
     "text": [
      "\r",
      "OMP Test Batch for noise_level = 0.18:  20%|██        | 40/200 [2:08:30<4:07:48, 92.93s/it]"
     ]
    },
    {
     "name": "stderr",
     "output_type": "stream",
     "text": [
      "\r",
      "OMP Test Batch for noise_level = 0.07:  21%|██        | 42/200 [2:08:38<3:25:07, 77.89s/it]"
     ]
    },
    {
     "name": "stderr",
     "output_type": "stream",
     "text": [
      "\r",
      "OMP Test Batch for noise_level = 0.03:  18%|█▊        | 36/200 [2:08:43<4:39:04, 102.10s/it]"
     ]
    },
    {
     "name": "stderr",
     "output_type": "stream",
     "text": [
      "\r",
      "OMP Test Batch for noise_level = 0.04:  20%|██        | 41/200 [2:08:49<3:39:35, 82.87s/it]"
     ]
    },
    {
     "name": "stderr",
     "output_type": "stream",
     "text": [
      "\r",
      "OMP Test Batch for noise_level = 0.14:  20%|██        | 41/200 [2:08:46<3:34:05, 80.79s/it]"
     ]
    },
    {
     "name": "stderr",
     "output_type": "stream",
     "text": [
      "\r",
      "OMP Test Batch for noise_level = 0.08:  18%|█▊        | 37/200 [2:08:50<4:43:10, 104.24s/it]"
     ]
    },
    {
     "name": "stderr",
     "output_type": "stream",
     "text": [
      "\r",
      "OMP Test Batch for noise_level = 0.16:  20%|█▉        | 39/200 [2:08:51<4:07:12, 92.13s/it]"
     ]
    },
    {
     "name": "stderr",
     "output_type": "stream",
     "text": [
      "\r",
      "OMP Test Batch for noise_level = 0.10:  18%|█▊        | 37/200 [2:08:58<4:36:14, 101.68s/it]"
     ]
    },
    {
     "name": "stderr",
     "output_type": "stream",
     "text": [
      "\r",
      "OMP Test Batch for noise_level = 0.06:  20%|██        | 41/200 [2:09:04<3:44:26, 84.70s/it]"
     ]
    },
    {
     "name": "stderr",
     "output_type": "stream",
     "text": [
      "\r",
      "OMP Test Batch for noise_level = 0.05:  19%|█▉        | 38/200 [2:09:09<4:15:15, 94.54s/it] "
     ]
    },
    {
     "name": "stderr",
     "output_type": "stream",
     "text": [
      "\r",
      "OMP Test Batch for noise_level = 0.12:  21%|██        | 42/200 [2:09:05<3:26:56, 78.59s/it]"
     ]
    },
    {
     "name": "stderr",
     "output_type": "stream",
     "text": [
      "\r",
      "OMP Test Batch for noise_level = 0.00:  18%|█▊        | 37/200 [2:09:24<4:43:32, 104.37s/it]"
     ]
    },
    {
     "name": "stderr",
     "output_type": "stream",
     "text": [
      "\r",
      "OMP Test Batch for noise_level = 0.09:  20%|██        | 40/200 [2:09:15<3:53:32, 87.58s/it]"
     ]
    },
    {
     "name": "stderr",
     "output_type": "stream",
     "text": [
      "\r",
      "OMP Test Batch for noise_level = 0.01:  21%|██        | 42/200 [2:10:03<3:25:24, 78.01s/it]"
     ]
    },
    {
     "name": "stderr",
     "output_type": "stream",
     "text": [
      "\r",
      "OMP Test Batch for noise_level = 0.14:  21%|██        | 42/200 [2:09:53<3:22:06, 76.75s/it]"
     ]
    },
    {
     "name": "stderr",
     "output_type": "stream",
     "text": [
      "\r",
      "OMP Test Batch for noise_level = 0.07:  22%|██▏       | 43/200 [2:09:59<3:26:00, 78.73s/it]"
     ]
    },
    {
     "name": "stderr",
     "output_type": "stream",
     "text": [
      "\r",
      "OMP Test Batch for noise_level = 0.18:  20%|██        | 41/200 [2:09:55<3:59:52, 90.52s/it]"
     ]
    },
    {
     "name": "stderr",
     "output_type": "stream",
     "text": [
      "\r",
      "OMP Test Batch for noise_level = 0.02:  19%|█▉        | 38/200 [2:10:10<4:37:56, 102.94s/it]"
     ]
    },
    {
     "name": "stderr",
     "output_type": "stream",
     "text": [
      "\r",
      "OMP Test Batch for noise_level = 0.04:  21%|██        | 42/200 [2:10:11<3:37:05, 82.44s/it]"
     ]
    },
    {
     "name": "stderr",
     "output_type": "stream",
     "text": [
      "\r",
      "OMP Test Batch for noise_level = 0.20:  19%|█▉        | 38/200 [2:10:00<4:26:13, 98.60s/it] "
     ]
    },
    {
     "name": "stderr",
     "output_type": "stream",
     "text": [
      "\r",
      "OMP Test Batch for noise_level = 0.08:  19%|█▉        | 38/200 [2:10:11<4:22:47, 97.33s/it] "
     ]
    },
    {
     "name": "stderr",
     "output_type": "stream",
     "text": [
      "\r",
      "OMP Test Batch for noise_level = 0.03:  18%|█▊        | 37/200 [2:10:18<4:31:45, 100.03s/it]"
     ]
    },
    {
     "name": "stderr",
     "output_type": "stream",
     "text": [
      "\r",
      "OMP Test Batch for noise_level = 0.12:  22%|██▏       | 43/200 [2:10:15<3:18:59, 76.05s/it]"
     ]
    },
    {
     "name": "stderr",
     "output_type": "stream",
     "text": [
      "\r",
      "OMP Test Batch for noise_level = 0.06:  21%|██        | 42/200 [2:10:29<3:42:34, 84.52s/it]"
     ]
    },
    {
     "name": "stderr",
     "output_type": "stream",
     "text": [
      "\r",
      "OMP Test Batch for noise_level = 0.16:  20%|██        | 40/200 [2:10:23<4:04:59, 91.87s/it]"
     ]
    },
    {
     "name": "stderr",
     "output_type": "stream",
     "text": [
      "\r",
      "OMP Test Batch for noise_level = 0.10:  19%|█▉        | 38/200 [2:10:29<4:26:29, 98.70s/it] \r",
      "OMP Test Batch for noise_level = 0.05:  20%|█▉        | 39/200 [2:10:35<4:06:48, 91.98s/it]"
     ]
    },
    {
     "name": "stderr",
     "output_type": "stream",
     "text": [
      "\r",
      "OMP Test Batch for noise_level = 0.00:  19%|█▉        | 38/200 [2:11:00<4:34:23, 101.63s/it]"
     ]
    },
    {
     "name": "stderr",
     "output_type": "stream",
     "text": [
      "\r",
      "OMP Test Batch for noise_level = 0.09:  20%|██        | 41/200 [2:10:53<4:00:17, 90.68s/it]"
     ]
    },
    {
     "name": "stderr",
     "output_type": "stream",
     "text": [
      "\r",
      "OMP Test Batch for noise_level = 0.01:  22%|██▏       | 43/200 [2:11:20<3:23:48, 77.89s/it]"
     ]
    },
    {
     "name": "stderr",
     "output_type": "stream",
     "text": [
      "\r",
      "OMP Test Batch for noise_level = 0.14:  22%|██▏       | 43/200 [2:11:11<3:21:52, 77.15s/it]"
     ]
    },
    {
     "name": "stderr",
     "output_type": "stream",
     "text": [
      "\r",
      "OMP Test Batch for noise_level = 0.07:  22%|██▏       | 44/200 [2:11:17<3:24:41, 78.72s/it]"
     ]
    },
    {
     "name": "stderr",
     "output_type": "stream",
     "text": [
      "\r",
      "OMP Test Batch for noise_level = 0.18:  21%|██        | 42/200 [2:11:13<3:48:55, 86.93s/it]"
     ]
    },
    {
     "name": "stderr",
     "output_type": "stream",
     "text": [
      "\r",
      "OMP Test Batch for noise_level = 0.20:  20%|█▉        | 39/200 [2:11:18<4:08:17, 92.53s/it]"
     ]
    },
    {
     "name": "stderr",
     "output_type": "stream",
     "text": [
      "\r",
      "OMP Test Batch for noise_level = 0.04:  22%|██▏       | 43/200 [2:11:34<3:36:34, 82.77s/it]\r",
      "OMP Test Batch for noise_level = 0.02:  20%|█▉        | 39/200 [2:11:37<4:23:04, 98.04s/it] "
     ]
    },
    {
     "name": "stderr",
     "output_type": "stream",
     "text": [
      "\r",
      "OMP Test Batch for noise_level = 0.08:  20%|█▉        | 39/200 [2:11:31<4:06:57, 92.03s/it]"
     ]
    },
    {
     "name": "stderr",
     "output_type": "stream",
     "text": [
      "\r",
      "OMP Test Batch for noise_level = 0.03:  19%|█▉        | 38/200 [2:11:37<4:12:29, 93.51s/it] "
     ]
    },
    {
     "name": "stderr",
     "output_type": "stream",
     "text": [
      "\r",
      "OMP Test Batch for noise_level = 0.12:  22%|██▏       | 44/200 [2:11:32<3:18:23, 76.30s/it]"
     ]
    },
    {
     "name": "stderr",
     "output_type": "stream",
     "text": [
      "\r",
      "OMP Test Batch for noise_level = 0.05:  20%|██        | 40/200 [2:11:43<3:46:28, 84.93s/it]"
     ]
    },
    {
     "name": "stderr",
     "output_type": "stream",
     "text": [
      "\r",
      "OMP Test Batch for noise_level = 0.06:  22%|██▏       | 43/200 [2:11:43<3:33:32, 81.61s/it]"
     ]
    },
    {
     "name": "stderr",
     "output_type": "stream",
     "text": [
      "\r",
      "OMP Test Batch for noise_level = 0.10:  20%|█▉        | 39/200 [2:11:42<4:04:12, 91.01s/it]"
     ]
    },
    {
     "name": "stderr",
     "output_type": "stream",
     "text": [
      "\r",
      "OMP Test Batch for noise_level = 0.16:  20%|██        | 41/200 [2:11:40<3:51:46, 87.46s/it]"
     ]
    },
    {
     "name": "stderr",
     "output_type": "stream",
     "text": [
      "\r",
      "OMP Test Batch for noise_level = 0.00:  20%|█▉        | 39/200 [2:12:05<4:03:28, 90.74s/it] "
     ]
    },
    {
     "name": "stderr",
     "output_type": "stream",
     "text": [
      "\r",
      "OMP Test Batch for noise_level = 0.09:  21%|██        | 42/200 [2:12:01<3:40:36, 83.77s/it]"
     ]
    },
    {
     "name": "stderr",
     "output_type": "stream",
     "text": [
      "\r",
      "OMP Test Batch for noise_level = 0.07:  22%|██▎       | 45/200 [2:12:19<3:09:59, 73.54s/it]"
     ]
    },
    {
     "name": "stderr",
     "output_type": "stream",
     "text": [
      "\r",
      "OMP Test Batch for noise_level = 0.18:  22%|██▏       | 43/200 [2:12:13<3:26:28, 78.91s/it]"
     ]
    },
    {
     "name": "stderr",
     "output_type": "stream",
     "text": [
      "\r",
      "OMP Test Batch for noise_level = 0.14:  22%|██▏       | 44/200 [2:12:16<3:10:58, 73.45s/it]"
     ]
    },
    {
     "name": "stderr",
     "output_type": "stream",
     "text": [
      "\r",
      "OMP Test Batch for noise_level = 0.01:  22%|██▏       | 44/200 [2:12:28<3:14:37, 74.86s/it]\r",
      "OMP Test Batch for noise_level = 0.20:  20%|██        | 40/200 [2:12:13<3:36:49, 81.31s/it]"
     ]
    },
    {
     "name": "stderr",
     "output_type": "stream",
     "text": [
      "\r",
      "OMP Test Batch for noise_level = 0.02:  20%|██        | 40/200 [2:12:32<3:47:17, 85.23s/it]"
     ]
    },
    {
     "name": "stderr",
     "output_type": "stream",
     "text": [
      "\r",
      "OMP Test Batch for noise_level = 0.03:  20%|█▉        | 39/200 [2:12:40<3:46:30, 84.41s/it]"
     ]
    },
    {
     "name": "stderr",
     "output_type": "stream",
     "text": [
      "\r",
      "OMP Test Batch for noise_level = 0.10:  20%|██        | 40/200 [2:12:33<3:30:41, 79.01s/it]"
     ]
    },
    {
     "name": "stderr",
     "output_type": "stream",
     "text": [
      "\r",
      "OMP Test Batch for noise_level = 0.08:  20%|██        | 40/200 [2:12:42<3:48:19, 85.62s/it]"
     ]
    },
    {
     "name": "stderr",
     "output_type": "stream",
     "text": [
      "\r",
      "OMP Test Batch for noise_level = 0.12:  22%|██▎       | 45/200 [2:12:39<3:10:17, 73.66s/it]"
     ]
    },
    {
     "name": "stderr",
     "output_type": "stream",
     "text": [
      "\r",
      "OMP Test Batch for noise_level = 0.16:  21%|██        | 42/200 [2:12:38<3:26:59, 78.60s/it]"
     ]
    },
    {
     "name": "stderr",
     "output_type": "stream",
     "text": [
      "\r",
      "OMP Test Batch for noise_level = 0.06:  22%|██▏       | 44/200 [2:12:47<3:18:22, 76.30s/it]"
     ]
    },
    {
     "name": "stderr",
     "output_type": "stream",
     "text": [
      "\r",
      "OMP Test Batch for noise_level = 0.05:  20%|██        | 41/200 [2:12:54<3:33:57, 80.74s/it]"
     ]
    },
    {
     "name": "stderr",
     "output_type": "stream",
     "text": [
      "\r",
      "OMP Test Batch for noise_level = 0.04:  22%|██▏       | 44/200 [2:13:03<3:39:57, 84.60s/it]"
     ]
    },
    {
     "name": "stderr",
     "output_type": "stream",
     "text": [
      "\r",
      "OMP Test Batch for noise_level = 0.00:  20%|██        | 40/200 [2:13:08<3:39:47, 82.42s/it]"
     ]
    },
    {
     "name": "stderr",
     "output_type": "stream",
     "text": [
      "\r",
      "OMP Test Batch for noise_level = 0.09:  22%|██▏       | 43/200 [2:13:06<3:25:01, 78.35s/it]"
     ]
    },
    {
     "name": "stderr",
     "output_type": "stream",
     "text": [
      "\r",
      "OMP Test Batch for noise_level = 0.18:  22%|██▏       | 44/200 [2:13:13<3:09:50, 73.01s/it]"
     ]
    },
    {
     "name": "stderr",
     "output_type": "stream",
     "text": [
      "\r",
      "OMP Test Batch for noise_level = 0.20:  20%|██        | 41/200 [2:13:14<3:18:54, 75.06s/it]"
     ]
    },
    {
     "name": "stderr",
     "output_type": "stream",
     "text": [
      "\r",
      "OMP Test Batch for noise_level = 0.02:  20%|██        | 41/200 [2:13:29<3:23:44, 76.89s/it]"
     ]
    },
    {
     "name": "stderr",
     "output_type": "stream",
     "text": [
      "\r",
      "OMP Test Batch for noise_level = 0.01:  22%|██▎       | 45/200 [2:13:35<3:06:50, 72.32s/it]"
     ]
    },
    {
     "name": "stderr",
     "output_type": "stream",
     "text": [
      "\r",
      "OMP Test Batch for noise_level = 0.07:  23%|██▎       | 46/200 [2:13:31<3:07:45, 73.15s/it]"
     ]
    },
    {
     "name": "stderr",
     "output_type": "stream",
     "text": [
      "\r",
      "OMP Test Batch for noise_level = 0.10:  20%|██        | 41/200 [2:13:28<3:10:15, 71.79s/it]"
     ]
    },
    {
     "name": "stderr",
     "output_type": "stream",
     "text": [
      "\r",
      "OMP Test Batch for noise_level = 0.14:  22%|██▎       | 45/200 [2:13:28<3:08:54, 73.12s/it]"
     ]
    },
    {
     "name": "stderr",
     "output_type": "stream",
     "text": [
      "\r",
      "OMP Test Batch for noise_level = 0.03:  20%|██        | 40/200 [2:13:42<3:27:21, 77.76s/it]"
     ]
    },
    {
     "name": "stderr",
     "output_type": "stream",
     "text": [
      "\r",
      "OMP Test Batch for noise_level = 0.16:  22%|██▏       | 43/200 [2:13:34<3:08:23, 72.00s/it]"
     ]
    },
    {
     "name": "stderr",
     "output_type": "stream",
     "text": [
      "\r",
      "OMP Test Batch for noise_level = 0.08:  20%|██        | 41/200 [2:13:43<3:27:32, 78.32s/it]"
     ]
    },
    {
     "name": "stderr",
     "output_type": "stream",
     "text": [
      "\r",
      "OMP Test Batch for noise_level = 0.12:  23%|██▎       | 46/200 [2:13:53<3:09:17, 73.75s/it]"
     ]
    },
    {
     "name": "stderr",
     "output_type": "stream",
     "text": [
      "\r",
      "OMP Test Batch for noise_level = 0.06:  22%|██▎       | 45/200 [2:13:59<3:13:45, 75.01s/it]"
     ]
    },
    {
     "name": "stderr",
     "output_type": "stream",
     "text": [
      "\r",
      "OMP Test Batch for noise_level = 0.05:  21%|██        | 42/200 [2:14:02<3:22:23, 76.86s/it]"
     ]
    },
    {
     "name": "stderr",
     "output_type": "stream",
     "text": [
      "\r",
      "OMP Test Batch for noise_level = 0.00:  20%|██        | 41/200 [2:14:10<3:22:25, 76.39s/it]"
     ]
    },
    {
     "name": "stderr",
     "output_type": "stream",
     "text": [
      "\r",
      "OMP Test Batch for noise_level = 0.04:  22%|██▎       | 45/200 [2:14:13<3:27:14, 80.22s/it]"
     ]
    },
    {
     "name": "stderr",
     "output_type": "stream",
     "text": [
      "\r",
      "OMP Test Batch for noise_level = 0.18:  22%|██▎       | 45/200 [2:14:09<2:56:08, 68.18s/it]"
     ]
    },
    {
     "name": "stderr",
     "output_type": "stream",
     "text": [
      "\r",
      "OMP Test Batch for noise_level = 0.09:  22%|██▏       | 44/200 [2:14:19<3:19:35, 76.77s/it]"
     ]
    },
    {
     "name": "stderr",
     "output_type": "stream",
     "text": [
      "\r",
      "OMP Test Batch for noise_level = 0.20:  21%|██        | 42/200 [2:14:14<3:05:29, 70.44s/it]"
     ]
    },
    {
     "name": "stderr",
     "output_type": "stream",
     "text": [
      "\r",
      "OMP Test Batch for noise_level = 0.02:  21%|██        | 42/200 [2:14:30<3:09:31, 71.97s/it]"
     ]
    },
    {
     "name": "stderr",
     "output_type": "stream",
     "text": [
      "\r",
      "OMP Test Batch for noise_level = 0.10:  21%|██        | 42/200 [2:14:28<2:59:02, 67.99s/it]"
     ]
    },
    {
     "name": "stderr",
     "output_type": "stream",
     "text": [
      "\r",
      "OMP Test Batch for noise_level = 0.16:  22%|██▏       | 44/200 [2:14:30<2:54:47, 67.22s/it]"
     ]
    },
    {
     "name": "stderr",
     "output_type": "stream",
     "text": [
      "\r",
      "OMP Test Batch for noise_level = 0.07:  24%|██▎       | 47/200 [2:14:38<3:02:02, 71.39s/it]"
     ]
    },
    {
     "name": "stderr",
     "output_type": "stream",
     "text": [
      "\r",
      "OMP Test Batch for noise_level = 0.14:  23%|██▎       | 46/200 [2:14:34<3:01:39, 70.78s/it]\r",
      "OMP Test Batch for noise_level = 0.03:  20%|██        | 41/200 [2:14:43<3:12:42, 72.72s/it]"
     ]
    },
    {
     "name": "stderr",
     "output_type": "stream",
     "text": [
      "\r",
      "OMP Test Batch for noise_level = 0.01:  23%|██▎       | 46/200 [2:14:48<3:06:37, 72.71s/it]"
     ]
    },
    {
     "name": "stderr",
     "output_type": "stream",
     "text": [
      "\r",
      "OMP Test Batch for noise_level = 0.08:  21%|██        | 42/200 [2:14:54<3:20:17, 76.06s/it]"
     ]
    },
    {
     "name": "stderr",
     "output_type": "stream",
     "text": [
      "\r",
      "OMP Test Batch for noise_level = 0.05:  22%|██▏       | 43/200 [2:15:04<3:09:20, 72.36s/it]"
     ]
    },
    {
     "name": "stderr",
     "output_type": "stream",
     "text": [
      "\r",
      "OMP Test Batch for noise_level = 0.00:  21%|██        | 42/200 [2:15:12<3:09:20, 71.90s/it]"
     ]
    },
    {
     "name": "stderr",
     "output_type": "stream",
     "text": [
      "\r",
      "OMP Test Batch for noise_level = 0.06:  23%|██▎       | 46/200 [2:15:13<3:11:29, 74.61s/it]"
     ]
    },
    {
     "name": "stderr",
     "output_type": "stream",
     "text": [
      "\r",
      "OMP Test Batch for noise_level = 0.04:  23%|██▎       | 46/200 [2:15:18<3:13:49, 75.51s/it]"
     ]
    },
    {
     "name": "stderr",
     "output_type": "stream",
     "text": [
      "\r",
      "OMP Test Batch for noise_level = 0.20:  22%|██▏       | 43/200 [2:15:10<2:52:55, 66.09s/it]"
     ]
    },
    {
     "name": "stderr",
     "output_type": "stream",
     "text": [
      "\r",
      "OMP Test Batch for noise_level = 0.02:  22%|██▏       | 43/200 [2:15:28<2:57:34, 67.86s/it]"
     ]
    },
    {
     "name": "stderr",
     "output_type": "stream",
     "text": [
      "\r",
      "OMP Test Batch for noise_level = 0.03:  21%|██        | 42/200 [2:15:32<2:52:33, 65.53s/it]"
     ]
    },
    {
     "name": "stderr",
     "output_type": "stream",
     "text": [
      "\r",
      "OMP Test Batch for noise_level = 0.12:  24%|██▎       | 47/200 [2:15:24<3:20:58, 78.82s/it]"
     ]
    },
    {
     "name": "stderr",
     "output_type": "stream",
     "text": [
      "\r",
      "OMP Test Batch for noise_level = 0.10:  22%|██▏       | 43/200 [2:15:26<2:50:14, 65.06s/it]"
     ]
    },
    {
     "name": "stderr",
     "output_type": "stream",
     "text": [
      "\r",
      "OMP Test Batch for noise_level = 0.16:  22%|██▎       | 45/200 [2:15:24<2:43:11, 63.17s/it]"
     ]
    },
    {
     "name": "stderr",
     "output_type": "stream",
     "text": [
      "\r",
      "OMP Test Batch for noise_level = 0.18:  23%|██▎       | 46/200 [2:15:23<2:59:29, 69.93s/it]"
     ]
    },
    {
     "name": "stderr",
     "output_type": "stream",
     "text": [
      "\r",
      "OMP Test Batch for noise_level = 0.09:  22%|██▎       | 45/200 [2:15:30<3:13:16, 74.82s/it]"
     ]
    },
    {
     "name": "stderr",
     "output_type": "stream",
     "text": [
      "\r",
      "OMP Test Batch for noise_level = 0.07:  24%|██▍       | 48/200 [2:15:47<2:59:09, 70.72s/it]"
     ]
    },
    {
     "name": "stderr",
     "output_type": "stream",
     "text": [
      "\r",
      "OMP Test Batch for noise_level = 0.01:  24%|██▎       | 47/200 [2:16:01<3:05:47, 72.86s/it]"
     ]
    },
    {
     "name": "stderr",
     "output_type": "stream",
     "text": [
      "\r",
      "OMP Test Batch for noise_level = 0.08:  22%|██▏       | 43/200 [2:15:58<3:09:37, 72.47s/it]"
     ]
    },
    {
     "name": "stderr",
     "output_type": "stream",
     "text": [
      "\r",
      "OMP Test Batch for noise_level = 0.00:  22%|██▏       | 43/200 [2:16:13<2:59:48, 68.72s/it]\r",
      "OMP Test Batch for noise_level = 0.14:  24%|██▎       | 47/200 [2:16:00<3:12:33, 75.51s/it]"
     ]
    },
    {
     "name": "stderr",
     "output_type": "stream",
     "text": [
      "\r",
      "OMP Test Batch for noise_level = 0.05:  22%|██▏       | 44/200 [2:16:10<3:03:26, 70.55s/it]"
     ]
    },
    {
     "name": "stderr",
     "output_type": "stream",
     "text": [
      "\r",
      "OMP Test Batch for noise_level = 0.20:  22%|██▏       | 44/200 [2:16:06<2:44:37, 63.32s/it]"
     ]
    },
    {
     "name": "stderr",
     "output_type": "stream",
     "text": [
      "\r",
      "OMP Test Batch for noise_level = 0.06:  24%|██▎       | 47/200 [2:16:23<3:07:01, 73.34s/it]"
     ]
    },
    {
     "name": "stderr",
     "output_type": "stream",
     "text": [
      "\r",
      "OMP Test Batch for noise_level = 0.10:  22%|██▏       | 44/200 [2:16:20<2:40:39, 61.79s/it]"
     ]
    },
    {
     "name": "stderr",
     "output_type": "stream",
     "text": [
      "\r",
      "OMP Test Batch for noise_level = 0.04:  24%|██▎       | 47/200 [2:16:29<3:09:24, 74.28s/it]"
     ]
    },
    {
     "name": "stderr",
     "output_type": "stream",
     "text": [
      "\r",
      "OMP Test Batch for noise_level = 0.18:  24%|██▎       | 47/200 [2:16:19<2:47:33, 65.71s/it]"
     ]
    },
    {
     "name": "stderr",
     "output_type": "stream",
     "text": [
      "\r",
      "OMP Test Batch for noise_level = 0.16:  23%|██▎       | 46/200 [2:16:22<2:38:22, 61.71s/it]"
     ]
    },
    {
     "name": "stderr",
     "output_type": "stream",
     "text": [
      "\r",
      "OMP Test Batch for noise_level = 0.03:  22%|██▏       | 43/200 [2:16:33<2:48:16, 64.31s/it]"
     ]
    },
    {
     "name": "stderr",
     "output_type": "stream",
     "text": [
      "\r",
      "OMP Test Batch for noise_level = 0.09:  23%|██▎       | 46/200 [2:16:41<3:09:08, 73.69s/it]"
     ]
    },
    {
     "name": "stderr",
     "output_type": "stream",
     "text": [
      "\r",
      "OMP Test Batch for noise_level = 0.02:  22%|██▏       | 44/200 [2:16:56<3:11:56, 73.82s/it]"
     ]
    },
    {
     "name": "stderr",
     "output_type": "stream",
     "text": [
      "\r",
      "OMP Test Batch for noise_level = 0.12:  24%|██▍       | 48/200 [2:16:47<3:22:43, 80.02s/it]"
     ]
    },
    {
     "name": "stderr",
     "output_type": "stream",
     "text": [
      "\r",
      "OMP Test Batch for noise_level = 0.07:  24%|██▍       | 49/200 [2:16:55<2:55:53, 69.89s/it]"
     ]
    },
    {
     "name": "stderr",
     "output_type": "stream",
     "text": [
      "\r",
      "OMP Test Batch for noise_level = 0.01:  24%|██▍       | 48/200 [2:17:08<2:59:46, 70.96s/it]"
     ]
    },
    {
     "name": "stderr",
     "output_type": "stream",
     "text": [
      "\r",
      "OMP Test Batch for noise_level = 0.00:  22%|██▏       | 44/200 [2:17:10<2:49:26, 65.17s/it]"
     ]
    },
    {
     "name": "stderr",
     "output_type": "stream",
     "text": [
      "\r",
      "OMP Test Batch for noise_level = 0.08:  22%|██▏       | 44/200 [2:17:10<3:08:25, 72.47s/it]"
     ]
    },
    {
     "name": "stderr",
     "output_type": "stream",
     "text": [
      "\r",
      "OMP Test Batch for noise_level = 0.20:  22%|██▎       | 45/200 [2:17:03<2:38:42, 61.43s/it]"
     ]
    },
    {
     "name": "stderr",
     "output_type": "stream",
     "text": [
      "\r",
      "OMP Test Batch for noise_level = 0.05:  22%|██▎       | 45/200 [2:17:19<3:00:42, 69.95s/it]"
     ]
    },
    {
     "name": "stderr",
     "output_type": "stream",
     "text": [
      "\r",
      "OMP Test Batch for noise_level = 0.14:  24%|██▍       | 48/200 [2:17:13<3:09:06, 74.65s/it]"
     ]
    },
    {
     "name": "stderr",
     "output_type": "stream",
     "text": [
      "\r",
      "OMP Test Batch for noise_level = 0.10:  22%|██▎       | 45/200 [2:17:17<2:35:39, 60.25s/it]"
     ]
    },
    {
     "name": "stderr",
     "output_type": "stream",
     "text": [
      "\r",
      "OMP Test Batch for noise_level = 0.18:  24%|██▍       | 48/200 [2:17:15<2:39:11, 62.84s/it]"
     ]
    },
    {
     "name": "stderr",
     "output_type": "stream",
     "text": [
      "\r",
      "OMP Test Batch for noise_level = 0.06:  24%|██▍       | 48/200 [2:17:31<3:01:10, 71.52s/it]"
     ]
    },
    {
     "name": "stderr",
     "output_type": "stream",
     "text": [
      "\r",
      "OMP Test Batch for noise_level = 0.16:  24%|██▎       | 47/200 [2:17:24<2:37:17, 61.68s/it]"
     ]
    },
    {
     "name": "stderr",
     "output_type": "stream",
     "text": [
      "\r",
      "OMP Test Batch for noise_level = 0.03:  22%|██▏       | 44/200 [2:17:36<2:45:49, 63.78s/it]"
     ]
    },
    {
     "name": "stderr",
     "output_type": "stream",
     "text": [
      "\r",
      "OMP Test Batch for noise_level = 0.04:  24%|██▍       | 48/200 [2:17:43<3:07:36, 74.05s/it]"
     ]
    },
    {
     "name": "stderr",
     "output_type": "stream",
     "text": [
      "\r",
      "OMP Test Batch for noise_level = 0.12:  24%|██▍       | 49/200 [2:17:47<3:06:47, 74.22s/it]"
     ]
    },
    {
     "name": "stderr",
     "output_type": "stream",
     "text": [
      "\r",
      "OMP Test Batch for noise_level = 0.07:  25%|██▌       | 50/200 [2:18:02<2:52:17, 68.92s/it]"
     ]
    },
    {
     "name": "stderr",
     "output_type": "stream",
     "text": [
      "\r",
      "OMP Test Batch for noise_level = 0.00:  22%|██▎       | 45/200 [2:18:11<2:45:17, 63.98s/it]"
     ]
    },
    {
     "name": "stderr",
     "output_type": "stream",
     "text": [
      "\r",
      "OMP Test Batch for noise_level = 0.01:  24%|██▍       | 49/200 [2:18:12<2:53:13, 68.83s/it]"
     ]
    },
    {
     "name": "stderr",
     "output_type": "stream",
     "text": [
      "\r",
      "OMP Test Batch for noise_level = 0.20:  23%|██▎       | 46/200 [2:18:03<2:35:55, 60.75s/it]"
     ]
    },
    {
     "name": "stderr",
     "output_type": "stream",
     "text": [
      "\r",
      "OMP Test Batch for noise_level = 0.10:  23%|██▎       | 46/200 [2:18:10<2:29:20, 58.19s/it]"
     ]
    },
    {
     "name": "stderr",
     "output_type": "stream",
     "text": [
      "\r",
      "OMP Test Batch for noise_level = 0.02:  22%|██▎       | 45/200 [2:18:19<3:18:15, 76.74s/it]"
     ]
    },
    {
     "name": "stderr",
     "output_type": "stream",
     "text": [
      "\r",
      "OMP Test Batch for noise_level = 0.18:  24%|██▍       | 49/200 [2:18:08<2:30:21, 59.75s/it]"
     ]
    },
    {
     "name": "stderr",
     "output_type": "stream",
     "text": [
      "\r",
      "OMP Test Batch for noise_level = 0.05:  23%|██▎       | 46/200 [2:18:19<2:52:15, 67.11s/it]"
     ]
    },
    {
     "name": "stderr",
     "output_type": "stream",
     "text": [
      "\r",
      "OMP Test Batch for noise_level = 0.08:  22%|██▎       | 45/200 [2:18:17<3:02:46, 70.75s/it]"
     ]
    },
    {
     "name": "stderr",
     "output_type": "stream",
     "text": [
      "\r",
      "OMP Test Batch for noise_level = 0.09:  24%|██▎       | 47/200 [2:18:16<3:24:40, 80.27s/it]"
     ]
    },
    {
     "name": "stderr",
     "output_type": "stream",
     "text": [
      "\r",
      "OMP Test Batch for noise_level = 0.16:  24%|██▍       | 48/200 [2:18:17<2:29:34, 59.04s/it]"
     ]
    },
    {
     "name": "stderr",
     "output_type": "stream",
     "text": [
      "\r",
      "OMP Test Batch for noise_level = 0.14:  24%|██▍       | 49/200 [2:18:23<3:04:35, 73.34s/it]"
     ]
    },
    {
     "name": "stderr",
     "output_type": "stream",
     "text": [
      "\r",
      "OMP Test Batch for noise_level = 0.06:  24%|██▍       | 49/200 [2:18:35<2:54:41, 69.42s/it]"
     ]
    },
    {
     "name": "stderr",
     "output_type": "stream",
     "text": [
      "\r",
      "OMP Test Batch for noise_level = 0.03:  22%|██▎       | 45/200 [2:18:44<2:48:20, 65.16s/it]"
     ]
    },
    {
     "name": "stderr",
     "output_type": "stream",
     "text": [
      "\r",
      "OMP Test Batch for noise_level = 0.04:  24%|██▍       | 49/200 [2:18:57<3:06:54, 74.27s/it]"
     ]
    },
    {
     "name": "stderr",
     "output_type": "stream",
     "text": [
      "\r",
      "OMP Test Batch for noise_level = 0.12:  25%|██▌       | 50/200 [2:18:59<3:03:43, 73.49s/it]"
     ]
    },
    {
     "name": "stderr",
     "output_type": "stream",
     "text": [
      "\r",
      "OMP Test Batch for noise_level = 0.00:  23%|██▎       | 46/200 [2:19:12<2:42:03, 63.14s/it]"
     ]
    },
    {
     "name": "stderr",
     "output_type": "stream",
     "text": [
      "\r",
      "OMP Test Batch for noise_level = 0.01:  25%|██▌       | 50/200 [2:19:14<2:47:17, 66.92s/it]\r",
      "OMP Test Batch for noise_level = 0.18:  25%|██▌       | 50/200 [2:19:01<2:23:59, 57.60s/it]"
     ]
    },
    {
     "name": "stderr",
     "output_type": "stream",
     "text": [
      "\r",
      "OMP Test Batch for noise_level = 0.10:  24%|██▎       | 47/200 [2:19:06<2:26:29, 57.45s/it]"
     ]
    },
    {
     "name": "stderr",
     "output_type": "stream",
     "text": [
      "\r",
      "OMP Test Batch for noise_level = 0.20:  24%|██▎       | 47/200 [2:19:04<2:35:24, 60.94s/it]"
     ]
    },
    {
     "name": "stderr",
     "output_type": "stream",
     "text": [
      "\r",
      "OMP Test Batch for noise_level = 0.07:  26%|██▌       | 51/200 [2:19:14<2:53:14, 69.76s/it]"
     ]
    },
    {
     "name": "stderr",
     "output_type": "stream",
     "text": [
      "\r",
      "OMP Test Batch for noise_level = 0.02:  23%|██▎       | 46/200 [2:19:22<3:05:59, 72.46s/it]"
     ]
    },
    {
     "name": "stderr",
     "output_type": "stream",
     "text": [
      "\r",
      "OMP Test Batch for noise_level = 0.08:  23%|██▎       | 46/200 [2:19:29<3:02:23, 71.06s/it]"
     ]
    },
    {
     "name": "stderr",
     "output_type": "stream",
     "text": [
      "\r",
      "OMP Test Batch for noise_level = 0.09:  24%|██▍       | 48/200 [2:19:29<3:17:15, 77.86s/it]"
     ]
    },
    {
     "name": "stderr",
     "output_type": "stream",
     "text": [
      "\r",
      "OMP Test Batch for noise_level = 0.05:  24%|██▎       | 47/200 [2:19:34<2:56:59, 69.41s/it]"
     ]
    },
    {
     "name": "stderr",
     "output_type": "stream",
     "text": [
      "\r",
      "OMP Test Batch for noise_level = 0.03:  23%|██▎       | 46/200 [2:19:43<2:42:28, 63.30s/it]"
     ]
    },
    {
     "name": "stderr",
     "output_type": "stream",
     "text": [
      "\r",
      "OMP Test Batch for noise_level = 0.16:  24%|██▍       | 49/200 [2:19:35<2:42:38, 64.62s/it]"
     ]
    },
    {
     "name": "stderr",
     "output_type": "stream",
     "text": [
      "\r",
      "OMP Test Batch for noise_level = 0.14:  25%|██▌       | 50/200 [2:19:38<3:04:43, 73.89s/it]\r",
      "OMP Test Batch for noise_level = 0.06:  25%|██▌       | 50/200 [2:19:45<2:53:35, 69.44s/it]"
     ]
    },
    {
     "name": "stderr",
     "output_type": "stream",
     "text": [
      "\r",
      "OMP Test Batch for noise_level = 0.18:  26%|██▌       | 51/200 [2:19:51<2:17:49, 55.50s/it]"
     ]
    },
    {
     "name": "stderr",
     "output_type": "stream",
     "text": [
      "\r",
      "OMP Test Batch for noise_level = 0.20:  24%|██▍       | 48/200 [2:19:53<2:25:17, 57.35s/it]"
     ]
    },
    {
     "name": "stderr",
     "output_type": "stream",
     "text": [
      "\r",
      "OMP Test Batch for noise_level = 0.00:  24%|██▎       | 47/200 [2:20:11<2:37:44, 61.86s/it]"
     ]
    },
    {
     "name": "stderr",
     "output_type": "stream",
     "text": [
      "\r",
      "OMP Test Batch for noise_level = 0.10:  24%|██▍       | 48/200 [2:20:04<2:26:04, 57.66s/it]"
     ]
    },
    {
     "name": "stderr",
     "output_type": "stream",
     "text": [
      "\r",
      "OMP Test Batch for noise_level = 0.04:  25%|██▌       | 50/200 [2:20:14<3:07:06, 74.84s/it]"
     ]
    },
    {
     "name": "stderr",
     "output_type": "stream",
     "text": [
      "\r",
      "OMP Test Batch for noise_level = 0.02:  24%|██▎       | 47/200 [2:20:22<2:55:16, 68.73s/it]"
     ]
    },
    {
     "name": "stderr",
     "output_type": "stream",
     "text": [
      "\r",
      "OMP Test Batch for noise_level = 0.12:  26%|██▌       | 51/200 [2:20:15<3:04:28, 74.28s/it]"
     ]
    },
    {
     "name": "stderr",
     "output_type": "stream",
     "text": [
      "\r",
      "OMP Test Batch for noise_level = 0.01:  26%|██▌       | 51/200 [2:20:27<2:50:20, 68.60s/it]"
     ]
    },
    {
     "name": "stderr",
     "output_type": "stream",
     "text": [
      "\r",
      "OMP Test Batch for noise_level = 0.07:  26%|██▌       | 52/200 [2:20:27<2:54:41, 70.82s/it]"
     ]
    },
    {
     "name": "stderr",
     "output_type": "stream",
     "text": [
      "\r",
      "OMP Test Batch for noise_level = 0.03:  24%|██▎       | 47/200 [2:20:42<2:37:41, 61.84s/it]"
     ]
    },
    {
     "name": "stderr",
     "output_type": "stream",
     "text": [
      "\r",
      "OMP Test Batch for noise_level = 0.08:  24%|██▎       | 47/200 [2:20:42<3:02:29, 71.56s/it]"
     ]
    },
    {
     "name": "stderr",
     "output_type": "stream",
     "text": [
      "\r",
      "OMP Test Batch for noise_level = 0.09:  24%|██▍       | 49/200 [2:20:41<3:11:58, 76.28s/it]"
     ]
    },
    {
     "name": "stderr",
     "output_type": "stream",
     "text": [
      "\r",
      "OMP Test Batch for noise_level = 0.05:  24%|██▍       | 48/200 [2:20:50<3:00:43, 71.34s/it]"
     ]
    },
    {
     "name": "stderr",
     "output_type": "stream",
     "text": [
      "\r",
      "OMP Test Batch for noise_level = 0.14:  26%|██▌       | 51/200 [2:20:45<2:58:28, 71.87s/it]"
     ]
    },
    {
     "name": "stderr",
     "output_type": "stream",
     "text": [
      "\r",
      "OMP Test Batch for noise_level = 0.06:  26%|██▌       | 51/200 [2:20:55<2:52:47, 69.58s/it]\r",
      "OMP Test Batch for noise_level = 0.18:  26%|██▌       | 52/200 [2:20:46<2:16:31, 55.35s/it]"
     ]
    },
    {
     "name": "stderr",
     "output_type": "stream",
     "text": [
      "\r",
      "OMP Test Batch for noise_level = 0.16:  25%|██▌       | 50/200 [2:20:54<2:52:28, 68.99s/it]"
     ]
    },
    {
     "name": "stderr",
     "output_type": "stream",
     "text": [
      "\r",
      "OMP Test Batch for noise_level = 0.20:  24%|██▍       | 49/200 [2:20:52<2:25:38, 57.87s/it]"
     ]
    },
    {
     "name": "stderr",
     "output_type": "stream",
     "text": [
      "\r",
      "OMP Test Batch for noise_level = 0.10:  24%|██▍       | 49/200 [2:21:00<2:23:47, 57.13s/it]"
     ]
    },
    {
     "name": "stderr",
     "output_type": "stream",
     "text": [
      "\r",
      "OMP Test Batch for noise_level = 0.00:  24%|██▍       | 48/200 [2:21:12<2:36:04, 61.61s/it]"
     ]
    },
    {
     "name": "stderr",
     "output_type": "stream",
     "text": [
      "\r",
      "OMP Test Batch for noise_level = 0.02:  24%|██▍       | 48/200 [2:21:20<2:46:02, 65.54s/it]"
     ]
    },
    {
     "name": "stderr",
     "output_type": "stream",
     "text": [
      "\r",
      "OMP Test Batch for noise_level = 0.03:  24%|██▍       | 48/200 [2:21:28<2:25:07, 57.29s/it]"
     ]
    },
    {
     "name": "stderr",
     "output_type": "stream",
     "text": [
      "\r",
      "OMP Test Batch for noise_level = 0.04:  26%|██▌       | 51/200 [2:21:28<3:05:28, 74.69s/it]"
     ]
    },
    {
     "name": "stderr",
     "output_type": "stream",
     "text": [
      "\r",
      "OMP Test Batch for noise_level = 0.12:  26%|██▌       | 52/200 [2:21:26<3:00:11, 73.05s/it]"
     ]
    },
    {
     "name": "stderr",
     "output_type": "stream",
     "text": [
      "\r",
      "OMP Test Batch for noise_level = 0.01:  26%|██▌       | 52/200 [2:21:41<2:53:15, 70.24s/it]"
     ]
    },
    {
     "name": "stderr",
     "output_type": "stream",
     "text": [
      "\r",
      "OMP Test Batch for noise_level = 0.07:  26%|██▋       | 53/200 [2:21:35<2:51:30, 70.00s/it]"
     ]
    },
    {
     "name": "stderr",
     "output_type": "stream",
     "text": [
      "\r",
      "OMP Test Batch for noise_level = 0.05:  24%|██▍       | 49/200 [2:21:47<2:48:42, 67.03s/it]"
     ]
    },
    {
     "name": "stderr",
     "output_type": "stream",
     "text": [
      "\r",
      "OMP Test Batch for noise_level = 0.08:  24%|██▍       | 48/200 [2:21:46<2:56:05, 69.51s/it]"
     ]
    },
    {
     "name": "stderr",
     "output_type": "stream",
     "text": [
      "\r",
      "OMP Test Batch for noise_level = 0.18:  26%|██▋       | 53/200 [2:21:45<2:17:47, 56.24s/it]"
     ]
    },
    {
     "name": "stderr",
     "output_type": "stream",
     "text": [
      "\r",
      "OMP Test Batch for noise_level = 0.09:  25%|██▌       | 50/200 [2:21:51<3:06:07, 74.45s/it]"
     ]
    },
    {
     "name": "stderr",
     "output_type": "stream",
     "text": [
      "\r",
      "OMP Test Batch for noise_level = 0.10:  25%|██▌       | 50/200 [2:21:53<2:20:05, 56.04s/it]"
     ]
    },
    {
     "name": "stderr",
     "output_type": "stream",
     "text": [
      "\r",
      "OMP Test Batch for noise_level = 0.20:  25%|██▌       | 50/200 [2:21:49<2:23:56, 57.58s/it]\r",
      "OMP Test Batch for noise_level = 0.14:  26%|██▌       | 52/200 [2:21:52<2:53:31, 70.35s/it]"
     ]
    },
    {
     "name": "stderr",
     "output_type": "stream",
     "text": [
      "\r",
      "OMP Test Batch for noise_level = 0.16:  26%|██▌       | 51/200 [2:21:54<2:45:09, 66.51s/it]"
     ]
    },
    {
     "name": "stderr",
     "output_type": "stream",
     "text": [
      "\r",
      "OMP Test Batch for noise_level = 0.06:  26%|██▌       | 52/200 [2:22:04<2:51:23, 69.48s/it]"
     ]
    },
    {
     "name": "stderr",
     "output_type": "stream",
     "text": [
      "\r",
      "OMP Test Batch for noise_level = 0.02:  24%|██▍       | 49/200 [2:22:10<2:33:27, 60.98s/it]"
     ]
    },
    {
     "name": "stderr",
     "output_type": "stream",
     "text": [
      "\r",
      "OMP Test Batch for noise_level = 0.00:  24%|██▍       | 49/200 [2:22:14<2:35:13, 61.68s/it]"
     ]
    },
    {
     "name": "stderr",
     "output_type": "stream",
     "text": [
      "\r",
      "OMP Test Batch for noise_level = 0.03:  24%|██▍       | 49/200 [2:22:29<2:26:43, 58.30s/it]"
     ]
    },
    {
     "name": "stderr",
     "output_type": "stream",
     "text": [
      "\r",
      "OMP Test Batch for noise_level = 0.07:  27%|██▋       | 54/200 [2:22:39<2:46:09, 68.28s/it]"
     ]
    },
    {
     "name": "stderr",
     "output_type": "stream",
     "text": [
      "\r",
      "OMP Test Batch for noise_level = 0.12:  26%|██▋       | 53/200 [2:22:36<2:56:46, 72.15s/it]"
     ]
    },
    {
     "name": "stderr",
     "output_type": "stream",
     "text": [
      "\r",
      "OMP Test Batch for noise_level = 0.01:  26%|██▋       | 53/200 [2:22:52<2:52:27, 70.39s/it]"
     ]
    },
    {
     "name": "stderr",
     "output_type": "stream",
     "text": [
      "\r",
      "OMP Test Batch for noise_level = 0.18:  27%|██▋       | 54/200 [2:22:40<2:16:13, 55.98s/it]"
     ]
    },
    {
     "name": "stderr",
     "output_type": "stream",
     "text": [
      "\r",
      "OMP Test Batch for noise_level = 0.20:  26%|██▌       | 51/200 [2:22:46<2:22:17, 57.30s/it]"
     ]
    },
    {
     "name": "stderr",
     "output_type": "stream",
     "text": [
      "\r",
      "OMP Test Batch for noise_level = 0.05:  25%|██▌       | 50/200 [2:22:57<2:49:52, 67.95s/it]"
     ]
    },
    {
     "name": "stderr",
     "output_type": "stream",
     "text": [
      "\r",
      "OMP Test Batch for noise_level = 0.04:  26%|██▌       | 52/200 [2:23:02<3:18:40, 80.55s/it]"
     ]
    },
    {
     "name": "stderr",
     "output_type": "stream",
     "text": [
      "\r",
      "OMP Test Batch for noise_level = 0.16:  26%|██▌       | 52/200 [2:22:53<2:38:11, 64.13s/it]"
     ]
    },
    {
     "name": "stderr",
     "output_type": "stream",
     "text": [
      "\r",
      "OMP Test Batch for noise_level = 0.09:  26%|██▌       | 51/200 [2:22:59<2:59:46, 72.39s/it]"
     ]
    },
    {
     "name": "stderr",
     "output_type": "stream",
     "text": [
      "\r",
      "OMP Test Batch for noise_level = 0.08:  24%|██▍       | 49/200 [2:23:03<3:00:10, 71.59s/it]"
     ]
    },
    {
     "name": "stderr",
     "output_type": "stream",
     "text": [
      "\r",
      "OMP Test Batch for noise_level = 0.00:  25%|██▌       | 50/200 [2:23:13<2:32:17, 60.92s/it]"
     ]
    },
    {
     "name": "stderr",
     "output_type": "stream",
     "text": [
      "\r",
      "OMP Test Batch for noise_level = 0.02:  25%|██▌       | 50/200 [2:23:11<2:32:08, 60.86s/it]"
     ]
    },
    {
     "name": "stderr",
     "output_type": "stream",
     "text": [
      "\r",
      "OMP Test Batch for noise_level = 0.14:  26%|██▋       | 53/200 [2:23:06<2:54:54, 71.39s/it]"
     ]
    },
    {
     "name": "stderr",
     "output_type": "stream",
     "text": [
      "\r",
      "OMP Test Batch for noise_level = 0.03:  25%|██▌       | 50/200 [2:23:18<2:18:55, 55.57s/it]"
     ]
    },
    {
     "name": "stderr",
     "output_type": "stream",
     "text": [
      "\r",
      "OMP Test Batch for noise_level = 0.10:  26%|██▌       | 51/200 [2:23:11<2:35:23, 62.57s/it]"
     ]
    },
    {
     "name": "stderr",
     "output_type": "stream",
     "text": [
      "\r",
      "OMP Test Batch for noise_level = 0.06:  26%|██▋       | 53/200 [2:23:17<2:52:50, 70.55s/it]"
     ]
    },
    {
     "name": "stderr",
     "output_type": "stream",
     "text": [
      "\r",
      "OMP Test Batch for noise_level = 0.07:  28%|██▊       | 55/200 [2:23:43<2:41:50, 66.97s/it]"
     ]
    },
    {
     "name": "stderr",
     "output_type": "stream",
     "text": [
      "\r",
      "OMP Test Batch for noise_level = 0.18:  28%|██▊       | 55/200 [2:23:39<2:17:21, 56.84s/it]"
     ]
    },
    {
     "name": "stderr",
     "output_type": "stream",
     "text": [
      "\r",
      "OMP Test Batch for noise_level = 0.12:  27%|██▋       | 54/200 [2:23:43<2:52:08, 70.74s/it]"
     ]
    },
    {
     "name": "stderr",
     "output_type": "stream",
     "text": [
      "\r",
      "OMP Test Batch for noise_level = 0.01:  27%|██▋       | 54/200 [2:24:02<2:50:59, 70.27s/it]"
     ]
    },
    {
     "name": "stderr",
     "output_type": "stream",
     "text": [
      "\r",
      "OMP Test Batch for noise_level = 0.05:  26%|██▌       | 51/200 [2:23:58<2:43:28, 65.83s/it]"
     ]
    },
    {
     "name": "stderr",
     "output_type": "stream",
     "text": [
      "\r",
      "OMP Test Batch for noise_level = 0.20:  26%|██▌       | 52/200 [2:23:49<2:26:07, 59.24s/it]"
     ]
    },
    {
     "name": "stderr",
     "output_type": "stream",
     "text": [
      "\r",
      "OMP Test Batch for noise_level = 0.16:  26%|██▋       | 53/200 [2:23:52<2:33:20, 62.59s/it]"
     ]
    },
    {
     "name": "stderr",
     "output_type": "stream",
     "text": [
      "\r",
      "OMP Test Batch for noise_level = 0.04:  26%|██▋       | 53/200 [2:24:09<3:07:21, 76.48s/it]"
     ]
    },
    {
     "name": "stderr",
     "output_type": "stream",
     "text": [
      "\r",
      "OMP Test Batch for noise_level = 0.02:  26%|██▌       | 51/200 [2:24:12<2:31:26, 60.98s/it]"
     ]
    },
    {
     "name": "stderr",
     "output_type": "stream",
     "text": [
      "\r",
      "OMP Test Batch for noise_level = 0.09:  26%|██▌       | 52/200 [2:24:06<2:54:49, 70.87s/it]"
     ]
    },
    {
     "name": "stderr",
     "output_type": "stream",
     "text": [
      "\r",
      "OMP Test Batch for noise_level = 0.14:  27%|██▋       | 54/200 [2:24:05<2:44:32, 67.62s/it]"
     ]
    },
    {
     "name": "stderr",
     "output_type": "stream",
     "text": [
      "\r",
      "OMP Test Batch for noise_level = 0.10:  26%|██▌       | 52/200 [2:24:08<2:30:14, 60.91s/it]"
     ]
    },
    {
     "name": "stderr",
     "output_type": "stream",
     "text": [
      "\r",
      "OMP Test Batch for noise_level = 0.08:  25%|██▌       | 50/200 [2:24:13<2:58:02, 71.22s/it]"
     ]
    },
    {
     "name": "stderr",
     "output_type": "stream",
     "text": [
      "\r",
      "OMP Test Batch for noise_level = 0.00:  26%|██▌       | 51/200 [2:24:23<2:37:33, 63.45s/it]"
     ]
    },
    {
     "name": "stderr",
     "output_type": "stream",
     "text": [
      "\r",
      "OMP Test Batch for noise_level = 0.03:  26%|██▌       | 51/200 [2:24:26<2:27:06, 59.24s/it]"
     ]
    },
    {
     "name": "stderr",
     "output_type": "stream",
     "text": [
      "\r",
      "OMP Test Batch for noise_level = 0.06:  27%|██▋       | 54/200 [2:24:25<2:49:55, 69.83s/it]"
     ]
    },
    {
     "name": "stderr",
     "output_type": "stream",
     "text": [
      "\r",
      "OMP Test Batch for noise_level = 0.18:  28%|██▊       | 56/200 [2:24:37<2:17:40, 57.37s/it]"
     ]
    },
    {
     "name": "stderr",
     "output_type": "stream",
     "text": [
      "\r",
      "OMP Test Batch for noise_level = 0.12:  28%|██▊       | 55/200 [2:24:48<2:46:41, 68.98s/it]"
     ]
    },
    {
     "name": "stderr",
     "output_type": "stream",
     "text": [
      "\r",
      "OMP Test Batch for noise_level = 0.16:  27%|██▋       | 54/200 [2:24:48<2:27:25, 60.59s/it]"
     ]
    },
    {
     "name": "stderr",
     "output_type": "stream",
     "text": [
      "\r",
      "OMP Test Batch for noise_level = 0.07:  28%|██▊       | 56/200 [2:24:55<2:44:30, 68.54s/it]"
     ]
    },
    {
     "name": "stderr",
     "output_type": "stream",
     "text": [
      "\r",
      "OMP Test Batch for noise_level = 0.20:  26%|██▋       | 53/200 [2:24:49<2:25:19, 59.32s/it]"
     ]
    },
    {
     "name": "stderr",
     "output_type": "stream",
     "text": [
      "\r",
      "OMP Test Batch for noise_level = 0.10:  26%|██▋       | 53/200 [2:25:02<2:24:04, 58.80s/it]"
     ]
    },
    {
     "name": "stderr",
     "output_type": "stream",
     "text": [
      "\r",
      "OMP Test Batch for noise_level = 0.02:  26%|██▌       | 52/200 [2:25:11<2:28:41, 60.28s/it]"
     ]
    },
    {
     "name": "stderr",
     "output_type": "stream",
     "text": [
      "\r",
      "OMP Test Batch for noise_level = 0.05:  26%|██▌       | 52/200 [2:25:09<2:46:25, 67.47s/it]"
     ]
    },
    {
     "name": "stderr",
     "output_type": "stream",
     "text": [
      "\r",
      "OMP Test Batch for noise_level = 0.01:  28%|██▊       | 55/200 [2:25:17<2:53:24, 71.76s/it]"
     ]
    },
    {
     "name": "stderr",
     "output_type": "stream",
     "text": [
      "\r",
      "OMP Test Batch for noise_level = 0.04:  27%|██▋       | 54/200 [2:25:15<2:58:18, 73.28s/it]"
     ]
    },
    {
     "name": "stderr",
     "output_type": "stream",
     "text": [
      "\r",
      "OMP Test Batch for noise_level = 0.14:  28%|██▊       | 55/200 [2:25:12<2:42:47, 67.36s/it]"
     ]
    },
    {
     "name": "stderr",
     "output_type": "stream",
     "text": [
      "\r",
      "OMP Test Batch for noise_level = 0.09:  26%|██▋       | 53/200 [2:25:18<2:54:33, 71.25s/it]"
     ]
    },
    {
     "name": "stderr",
     "output_type": "stream",
     "text": [
      "\r",
      "OMP Test Batch for noise_level = 0.03:  26%|██▌       | 52/200 [2:25:27<2:27:23, 59.75s/it]"
     ]
    },
    {
     "name": "stderr",
     "output_type": "stream",
     "text": [
      "\r",
      "OMP Test Batch for noise_level = 0.00:  26%|██▌       | 52/200 [2:25:32<2:40:40, 65.14s/it]"
     ]
    },
    {
     "name": "stderr",
     "output_type": "stream",
     "text": [
      "\r",
      "OMP Test Batch for noise_level = 0.08:  26%|██▌       | 51/200 [2:25:30<3:00:57, 72.87s/it]"
     ]
    },
    {
     "name": "stderr",
     "output_type": "stream",
     "text": [
      "\r",
      "OMP Test Batch for noise_level = 0.18:  28%|██▊       | 57/200 [2:25:31<2:14:14, 56.32s/it]"
     ]
    },
    {
     "name": "stderr",
     "output_type": "stream",
     "text": [
      "\r",
      "OMP Test Batch for noise_level = 0.06:  28%|██▊       | 55/200 [2:25:40<2:52:43, 71.47s/it]"
     ]
    },
    {
     "name": "stderr",
     "output_type": "stream",
     "text": [
      "\r",
      "OMP Test Batch for noise_level = 0.16:  28%|██▊       | 55/200 [2:25:41<2:21:11, 58.43s/it]"
     ]
    },
    {
     "name": "stderr",
     "output_type": "stream",
     "text": [
      "\r",
      "OMP Test Batch for noise_level = 0.10:  27%|██▋       | 54/200 [2:25:53<2:17:25, 56.48s/it]\r",
      "OMP Test Batch for noise_level = 0.20:  27%|██▋       | 54/200 [2:25:48<2:24:21, 59.32s/it]"
     ]
    },
    {
     "name": "stderr",
     "output_type": "stream",
     "text": [
      "\r",
      "OMP Test Batch for noise_level = 0.07:  28%|██▊       | 57/200 [2:26:01<2:41:05, 67.59s/it]"
     ]
    },
    {
     "name": "stderr",
     "output_type": "stream",
     "text": [
      "\r",
      "OMP Test Batch for noise_level = 0.02:  26%|██▋       | 53/200 [2:26:09<2:26:16, 59.71s/it]"
     ]
    },
    {
     "name": "stderr",
     "output_type": "stream",
     "text": [
      "\r",
      "OMP Test Batch for noise_level = 0.12:  28%|██▊       | 56/200 [2:26:00<2:48:04, 70.03s/it]"
     ]
    },
    {
     "name": "stderr",
     "output_type": "stream",
     "text": [
      "\r",
      "OMP Test Batch for noise_level = 0.03:  26%|██▋       | 53/200 [2:26:20<2:21:51, 57.90s/it]"
     ]
    },
    {
     "name": "stderr",
     "output_type": "stream",
     "text": [
      "\r",
      "OMP Test Batch for noise_level = 0.05:  26%|██▋       | 53/200 [2:26:19<2:46:41, 68.04s/it]"
     ]
    },
    {
     "name": "stderr",
     "output_type": "stream",
     "text": [
      "\r",
      "OMP Test Batch for noise_level = 0.00:  26%|██▋       | 53/200 [2:26:27<2:32:47, 62.37s/it]"
     ]
    },
    {
     "name": "stderr",
     "output_type": "stream",
     "text": [
      "\r",
      "OMP Test Batch for noise_level = 0.14:  28%|██▊       | 56/200 [2:26:20<2:42:09, 67.56s/it]"
     ]
    },
    {
     "name": "stderr",
     "output_type": "stream",
     "text": [
      "\r",
      "OMP Test Batch for noise_level = 0.01:  28%|██▊       | 56/200 [2:26:32<2:54:36, 72.75s/it]"
     ]
    },
    {
     "name": "stderr",
     "output_type": "stream",
     "text": [
      "\r",
      "OMP Test Batch for noise_level = 0.04:  28%|██▊       | 55/200 [2:26:30<2:58:32, 73.88s/it]"
     ]
    },
    {
     "name": "stderr",
     "output_type": "stream",
     "text": [
      "\r",
      "OMP Test Batch for noise_level = 0.18:  29%|██▉       | 58/200 [2:26:27<2:12:38, 56.05s/it]"
     ]
    },
    {
     "name": "stderr",
     "output_type": "stream",
     "text": [
      "\r",
      "OMP Test Batch for noise_level = 0.09:  27%|██▋       | 54/200 [2:26:33<2:55:57, 72.31s/it]"
     ]
    },
    {
     "name": "stderr",
     "output_type": "stream",
     "text": [
      "\r",
      "OMP Test Batch for noise_level = 0.16:  28%|██▊       | 56/200 [2:26:32<2:14:32, 56.06s/it]"
     ]
    },
    {
     "name": "stderr",
     "output_type": "stream",
     "text": [
      "\r",
      "OMP Test Batch for noise_level = 0.08:  26%|██▌       | 52/200 [2:26:39<2:57:06, 71.80s/it]"
     ]
    },
    {
     "name": "stderr",
     "output_type": "stream",
     "text": [
      "\r",
      "OMP Test Batch for noise_level = 0.10:  28%|██▊       | 55/200 [2:26:49<2:15:49, 56.21s/it]"
     ]
    },
    {
     "name": "stderr",
     "output_type": "stream",
     "text": [
      "\r",
      "OMP Test Batch for noise_level = 0.20:  28%|██▊       | 55/200 [2:26:44<2:20:45, 58.25s/it]"
     ]
    },
    {
     "name": "stderr",
     "output_type": "stream",
     "text": [
      "\r",
      "OMP Test Batch for noise_level = 0.06:  28%|██▊       | 56/200 [2:26:55<2:53:53, 72.46s/it]"
     ]
    },
    {
     "name": "stderr",
     "output_type": "stream",
     "text": [
      "\r",
      "OMP Test Batch for noise_level = 0.02:  27%|██▋       | 54/200 [2:27:02<2:20:15, 57.64s/it]"
     ]
    },
    {
     "name": "stderr",
     "output_type": "stream",
     "text": [
      "\r",
      "OMP Test Batch for noise_level = 0.12:  28%|██▊       | 57/200 [2:27:07<2:44:38, 69.08s/it]"
     ]
    },
    {
     "name": "stderr",
     "output_type": "stream",
     "text": [
      "\r",
      "OMP Test Batch for noise_level = 0.07:  29%|██▉       | 58/200 [2:27:15<2:44:46, 69.63s/it]"
     ]
    },
    {
     "name": "stderr",
     "output_type": "stream",
     "text": [
      "\r",
      "OMP Test Batch for noise_level = 0.03:  27%|██▋       | 54/200 [2:27:20<2:21:55, 58.33s/it]"
     ]
    },
    {
     "name": "stderr",
     "output_type": "stream",
     "text": [
      "\r",
      "OMP Test Batch for noise_level = 0.00:  27%|██▋       | 54/200 [2:27:25<2:27:57, 60.81s/it]"
     ]
    },
    {
     "name": "stderr",
     "output_type": "stream",
     "text": [
      "\r",
      "OMP Test Batch for noise_level = 0.05:  27%|██▋       | 54/200 [2:27:29<2:47:14, 68.73s/it]"
     ]
    },
    {
     "name": "stderr",
     "output_type": "stream",
     "text": [
      "\r",
      "OMP Test Batch for noise_level = 0.01:  28%|██▊       | 57/200 [2:27:41<2:50:30, 71.55s/it]"
     ]
    },
    {
     "name": "stderr",
     "output_type": "stream",
     "text": [
      "\r",
      "OMP Test Batch for noise_level = 0.04:  28%|██▊       | 56/200 [2:27:38<2:52:50, 72.02s/it]"
     ]
    },
    {
     "name": "stderr",
     "output_type": "stream",
     "text": [
      "\r",
      "OMP Test Batch for noise_level = 0.16:  28%|██▊       | 57/200 [2:27:29<2:14:09, 56.29s/it]"
     ]
    },
    {
     "name": "stderr",
     "output_type": "stream",
     "text": [
      "\r",
      "OMP Test Batch for noise_level = 0.14:  28%|██▊       | 57/200 [2:27:31<2:43:59, 68.81s/it]"
     ]
    },
    {
     "name": "stderr",
     "output_type": "stream",
     "text": [
      "\r",
      "OMP Test Batch for noise_level = 0.18:  30%|██▉       | 59/200 [2:27:31<2:17:32, 58.53s/it]"
     ]
    },
    {
     "name": "stderr",
     "output_type": "stream",
     "text": [
      "\r",
      "OMP Test Batch for noise_level = 0.08:  26%|██▋       | 53/200 [2:27:48<2:53:24, 70.78s/it]\r",
      "OMP Test Batch for noise_level = 0.09:  28%|██▊       | 55/200 [2:27:47<2:55:31, 72.63s/it]"
     ]
    },
    {
     "name": "stderr",
     "output_type": "stream",
     "text": [
      "\r",
      "OMP Test Batch for noise_level = 0.20:  28%|██▊       | 56/200 [2:27:42<2:19:25, 58.09s/it]"
     ]
    },
    {
     "name": "stderr",
     "output_type": "stream",
     "text": [
      "\r",
      "OMP Test Batch for noise_level = 0.10:  28%|██▊       | 56/200 [2:27:47<2:16:32, 56.89s/it]"
     ]
    },
    {
     "name": "stderr",
     "output_type": "stream",
     "text": [
      "\r",
      "OMP Test Batch for noise_level = 0.02:  28%|██▊       | 55/200 [2:28:01<2:20:13, 58.02s/it]"
     ]
    },
    {
     "name": "stderr",
     "output_type": "stream",
     "text": [
      "\r",
      "OMP Test Batch for noise_level = 0.06:  28%|██▊       | 57/200 [2:28:09<2:54:01, 73.02s/it]"
     ]
    },
    {
     "name": "stderr",
     "output_type": "stream",
     "text": [
      "\r",
      "OMP Test Batch for noise_level = 0.00:  28%|██▊       | 55/200 [2:28:26<2:27:07, 60.88s/it]"
     ]
    },
    {
     "name": "stderr",
     "output_type": "stream",
     "text": [
      "\r",
      "OMP Test Batch for noise_level = 0.12:  29%|██▉       | 58/200 [2:28:17<2:43:52, 69.25s/it]"
     ]
    },
    {
     "name": "stderr",
     "output_type": "stream",
     "text": [
      "\r",
      "OMP Test Batch for noise_level = 0.16:  29%|██▉       | 58/200 [2:28:17<2:07:32, 53.89s/it]"
     ]
    },
    {
     "name": "stderr",
     "output_type": "stream",
     "text": [
      "\r",
      "OMP Test Batch for noise_level = 0.18:  30%|███       | 60/200 [2:28:22<2:11:28, 56.35s/it]"
     ]
    },
    {
     "name": "stderr",
     "output_type": "stream",
     "text": [
      "\r",
      "OMP Test Batch for noise_level = 0.03:  28%|██▊       | 55/200 [2:28:34<2:32:49, 63.24s/it]"
     ]
    },
    {
     "name": "stderr",
     "output_type": "stream",
     "text": [
      "\r",
      "OMP Test Batch for noise_level = 0.05:  28%|██▊       | 55/200 [2:28:34<2:43:06, 67.49s/it]"
     ]
    },
    {
     "name": "stderr",
     "output_type": "stream",
     "text": [
      "\r",
      "OMP Test Batch for noise_level = 0.07:  30%|██▉       | 59/200 [2:28:37<2:52:31, 73.41s/it]"
     ]
    },
    {
     "name": "stderr",
     "output_type": "stream",
     "text": [
      "\r",
      "OMP Test Batch for noise_level = 0.14:  29%|██▉       | 58/200 [2:28:35<2:39:05, 67.22s/it]"
     ]
    },
    {
     "name": "stderr",
     "output_type": "stream",
     "text": [
      "\r",
      "OMP Test Batch for noise_level = 0.20:  28%|██▊       | 57/200 [2:28:38<2:17:29, 57.69s/it]"
     ]
    },
    {
     "name": "stderr",
     "output_type": "stream",
     "text": [
      "\r",
      "OMP Test Batch for noise_level = 0.01:  29%|██▉       | 58/200 [2:28:54<2:50:35, 72.08s/it]"
     ]
    },
    {
     "name": "stderr",
     "output_type": "stream",
     "text": [
      "\r",
      "OMP Test Batch for noise_level = 0.02:  28%|██▊       | 56/200 [2:28:54<2:15:58, 56.66s/it]\r",
      "OMP Test Batch for noise_level = 0.04:  28%|██▊       | 57/200 [2:28:52<2:53:25, 72.77s/it]"
     ]
    },
    {
     "name": "stderr",
     "output_type": "stream",
     "text": [
      "\r",
      "OMP Test Batch for noise_level = 0.09:  28%|██▊       | 56/200 [2:28:51<2:48:42, 70.30s/it]"
     ]
    },
    {
     "name": "stderr",
     "output_type": "stream",
     "text": [
      "\r",
      "OMP Test Batch for noise_level = 0.08:  27%|██▋       | 54/200 [2:29:00<2:53:15, 71.20s/it]"
     ]
    },
    {
     "name": "stderr",
     "output_type": "stream",
     "text": [
      "\r",
      "OMP Test Batch for noise_level = 0.10:  28%|██▊       | 57/200 [2:29:11<2:35:07, 65.09s/it]"
     ]
    },
    {
     "name": "stderr",
     "output_type": "stream",
     "text": [
      "\r",
      "OMP Test Batch for noise_level = 0.06:  29%|██▉       | 58/200 [2:29:17<2:49:03, 71.44s/it]"
     ]
    },
    {
     "name": "stderr",
     "output_type": "stream",
     "text": [
      "\r",
      "OMP Test Batch for noise_level = 0.00:  28%|██▊       | 56/200 [2:29:27<2:26:26, 61.02s/it]"
     ]
    },
    {
     "name": "stderr",
     "output_type": "stream",
     "text": [
      "\r",
      "OMP Test Batch for noise_level = 0.12:  30%|██▉       | 59/200 [2:29:18<2:37:17, 66.93s/it]\r",
      "OMP Test Batch for noise_level = 0.16:  30%|██▉       | 59/200 [2:29:16<2:10:21, 55.47s/it]"
     ]
    },
    {
     "name": "stderr",
     "output_type": "stream",
     "text": [
      "\r",
      "OMP Test Batch for noise_level = 0.18:  30%|███       | 61/200 [2:29:21<2:12:15, 57.09s/it]"
     ]
    },
    {
     "name": "stderr",
     "output_type": "stream",
     "text": [
      "\r",
      "OMP Test Batch for noise_level = 0.20:  29%|██▉       | 58/200 [2:29:33<2:14:23, 56.78s/it]"
     ]
    },
    {
     "name": "stderr",
     "output_type": "stream",
     "text": [
      "\r",
      "OMP Test Batch for noise_level = 0.05:  28%|██▊       | 56/200 [2:29:48<2:46:36, 69.42s/it]"
     ]
    },
    {
     "name": "stderr",
     "output_type": "stream",
     "text": [
      "\r",
      "OMP Test Batch for noise_level = 0.02:  28%|██▊       | 57/200 [2:29:56<2:18:24, 58.07s/it]"
     ]
    },
    {
     "name": "stderr",
     "output_type": "stream",
     "text": [
      "\r",
      "OMP Test Batch for noise_level = 0.14:  30%|██▉       | 59/200 [2:29:46<2:40:40, 68.37s/it]"
     ]
    },
    {
     "name": "stderr",
     "output_type": "stream",
     "text": [
      "\r",
      "OMP Test Batch for noise_level = 0.07:  30%|███       | 60/200 [2:29:52<2:52:19, 73.85s/it]"
     ]
    },
    {
     "name": "stderr",
     "output_type": "stream",
     "text": [
      "\r",
      "OMP Test Batch for noise_level = 0.03:  28%|██▊       | 56/200 [2:30:02<2:49:38, 70.69s/it]\r",
      "OMP Test Batch for noise_level = 0.09:  28%|██▊       | 57/200 [2:29:56<2:43:43, 68.70s/it]"
     ]
    },
    {
     "name": "stderr",
     "output_type": "stream",
     "text": [
      "\r",
      "OMP Test Batch for noise_level = 0.01:  30%|██▉       | 59/200 [2:30:08<2:50:38, 72.62s/it]"
     ]
    },
    {
     "name": "stderr",
     "output_type": "stream",
     "text": [
      "\r",
      "OMP Test Batch for noise_level = 0.04:  29%|██▉       | 58/200 [2:30:06<2:52:53, 73.05s/it]"
     ]
    },
    {
     "name": "stderr",
     "output_type": "stream",
     "text": [
      "\r",
      "OMP Test Batch for noise_level = 0.08:  28%|██▊       | 55/200 [2:30:09<2:50:17, 70.47s/it]"
     ]
    },
    {
     "name": "stderr",
     "output_type": "stream",
     "text": [
      "\r",
      "OMP Test Batch for noise_level = 0.00:  28%|██▊       | 57/200 [2:30:29<2:26:06, 61.30s/it]"
     ]
    },
    {
     "name": "stderr",
     "output_type": "stream",
     "text": [
      "\r",
      "OMP Test Batch for noise_level = 0.16:  30%|███       | 60/200 [2:30:16<2:12:07, 56.63s/it]"
     ]
    },
    {
     "name": "stderr",
     "output_type": "stream",
     "text": [
      "\r",
      "OMP Test Batch for noise_level = 0.06:  30%|██▉       | 59/200 [2:30:26<2:46:18, 70.77s/it]"
     ]
    },
    {
     "name": "stderr",
     "output_type": "stream",
     "text": [
      "\r",
      "OMP Test Batch for noise_level = 0.18:  31%|███       | 62/200 [2:30:20<2:12:26, 57.59s/it]"
     ]
    },
    {
     "name": "stderr",
     "output_type": "stream",
     "text": [
      "\r",
      "OMP Test Batch for noise_level = 0.12:  30%|███       | 60/200 [2:30:26<2:36:23, 67.03s/it]"
     ]
    },
    {
     "name": "stderr",
     "output_type": "stream",
     "text": [
      "\r",
      "OMP Test Batch for noise_level = 0.20:  30%|██▉       | 59/200 [2:30:25<2:09:46, 55.22s/it]"
     ]
    },
    {
     "name": "stderr",
     "output_type": "stream",
     "text": [
      "\r",
      "OMP Test Batch for noise_level = 0.10:  29%|██▉       | 58/200 [2:30:32<2:45:11, 69.80s/it]"
     ]
    },
    {
     "name": "stderr",
     "output_type": "stream",
     "text": [
      "\r",
      "OMP Test Batch for noise_level = 0.02:  29%|██▉       | 58/200 [2:30:56<2:18:47, 58.65s/it]"
     ]
    },
    {
     "name": "stderr",
     "output_type": "stream",
     "text": [
      "\r",
      "OMP Test Batch for noise_level = 0.05:  28%|██▊       | 57/200 [2:30:54<2:42:58, 68.38s/it]"
     ]
    },
    {
     "name": "stderr",
     "output_type": "stream",
     "text": [
      "\r",
      "OMP Test Batch for noise_level = 0.07:  30%|███       | 61/200 [2:30:55<2:43:16, 70.48s/it]"
     ]
    },
    {
     "name": "stderr",
     "output_type": "stream",
     "text": [
      "\r",
      "OMP Test Batch for noise_level = 0.14:  30%|███       | 60/200 [2:30:59<2:42:31, 69.65s/it]"
     ]
    },
    {
     "name": "stderr",
     "output_type": "stream",
     "text": [
      "\r",
      "OMP Test Batch for noise_level = 0.04:  30%|██▉       | 59/200 [2:31:11<2:45:37, 70.48s/it]"
     ]
    },
    {
     "name": "stderr",
     "output_type": "stream",
     "text": [
      "\r",
      "OMP Test Batch for noise_level = 0.09:  29%|██▉       | 58/200 [2:31:06<2:43:04, 68.91s/it]"
     ]
    },
    {
     "name": "stderr",
     "output_type": "stream",
     "text": [
      "\r",
      "OMP Test Batch for noise_level = 0.18:  32%|███▏      | 63/200 [2:31:05<2:03:16, 53.99s/it]"
     ]
    },
    {
     "name": "stderr",
     "output_type": "stream",
     "text": [
      "\r",
      "OMP Test Batch for noise_level = 0.01:  30%|███       | 60/200 [2:31:20<2:49:00, 72.43s/it]"
     ]
    },
    {
     "name": "stderr",
     "output_type": "stream",
     "text": [
      "\r",
      "OMP Test Batch for noise_level = 0.03:  28%|██▊       | 57/200 [2:31:21<2:54:23, 73.17s/it]"
     ]
    },
    {
     "name": "stderr",
     "output_type": "stream",
     "text": [
      "\r",
      "OMP Test Batch for noise_level = 0.16:  30%|███       | 61/200 [2:31:11<2:10:37, 56.38s/it]"
     ]
    },
    {
     "name": "stderr",
     "output_type": "stream",
     "text": [
      "\r",
      "OMP Test Batch for noise_level = 0.08:  28%|██▊       | 56/200 [2:31:17<2:47:49, 69.93s/it]"
     ]
    },
    {
     "name": "stderr",
     "output_type": "stream",
     "text": [
      "\r",
      "OMP Test Batch for noise_level = 0.20:  30%|███       | 60/200 [2:31:15<2:05:33, 53.81s/it]"
     ]
    },
    {
     "name": "stderr",
     "output_type": "stream",
     "text": [
      "\r",
      "OMP Test Batch for noise_level = 0.12:  30%|███       | 61/200 [2:31:25<2:30:05, 64.79s/it]"
     ]
    },
    {
     "name": "stderr",
     "output_type": "stream",
     "text": [
      "\r",
      "OMP Test Batch for noise_level = 0.00:  29%|██▉       | 58/200 [2:31:40<2:31:57, 64.21s/it]"
     ]
    },
    {
     "name": "stderr",
     "output_type": "stream",
     "text": [
      "\r",
      "OMP Test Batch for noise_level = 0.06:  30%|███       | 60/200 [2:31:34<2:42:54, 69.82s/it]"
     ]
    },
    {
     "name": "stderr",
     "output_type": "stream",
     "text": [
      "\r",
      "OMP Test Batch for noise_level = 0.02:  30%|██▉       | 59/200 [2:31:55<2:17:58, 58.71s/it]"
     ]
    },
    {
     "name": "stderr",
     "output_type": "stream",
     "text": [
      "\r",
      "OMP Test Batch for noise_level = 0.10:  30%|██▉       | 59/200 [2:31:52<2:51:28, 72.97s/it]"
     ]
    },
    {
     "name": "stderr",
     "output_type": "stream",
     "text": [
      "\r",
      "OMP Test Batch for noise_level = 0.07:  31%|███       | 62/200 [2:32:01<2:39:01, 69.14s/it]"
     ]
    },
    {
     "name": "stderr",
     "output_type": "stream",
     "text": [
      "\r",
      "OMP Test Batch for noise_level = 0.05:  29%|██▉       | 58/200 [2:32:06<2:44:39, 69.57s/it]"
     ]
    },
    {
     "name": "stderr",
     "output_type": "stream",
     "text": [
      "\r",
      "OMP Test Batch for noise_level = 0.20:  30%|███       | 61/200 [2:32:00<1:58:32, 51.17s/it]"
     ]
    },
    {
     "name": "stderr",
     "output_type": "stream",
     "text": [
      "\r",
      "OMP Test Batch for noise_level = 0.16:  31%|███       | 62/200 [2:32:03<2:06:38, 55.06s/it]"
     ]
    },
    {
     "name": "stderr",
     "output_type": "stream",
     "text": [
      "\r",
      "OMP Test Batch for noise_level = 0.18:  32%|███▏      | 64/200 [2:32:05<2:06:03, 55.61s/it]"
     ]
    },
    {
     "name": "stderr",
     "output_type": "stream",
     "text": [
      "\r",
      "OMP Test Batch for noise_level = 0.14:  30%|███       | 61/200 [2:32:12<2:43:45, 70.68s/it]"
     ]
    },
    {
     "name": "stderr",
     "output_type": "stream",
     "text": [
      "\r",
      "OMP Test Batch for noise_level = 0.09:  30%|██▉       | 59/200 [2:32:15<2:42:08, 68.99s/it]"
     ]
    },
    {
     "name": "stderr",
     "output_type": "stream",
     "text": [
      "\r",
      "OMP Test Batch for noise_level = 0.04:  30%|███       | 60/200 [2:32:27<2:48:32, 72.23s/it]"
     ]
    },
    {
     "name": "stderr",
     "output_type": "stream",
     "text": [
      "\r",
      "OMP Test Batch for noise_level = 0.08:  28%|██▊       | 57/200 [2:32:25<2:44:57, 69.21s/it]"
     ]
    },
    {
     "name": "stderr",
     "output_type": "stream",
     "text": [
      "\r",
      "OMP Test Batch for noise_level = 0.01:  30%|███       | 61/200 [2:32:36<2:50:24, 73.56s/it]"
     ]
    },
    {
     "name": "stderr",
     "output_type": "stream",
     "text": [
      "\r",
      "OMP Test Batch for noise_level = 0.12:  31%|███       | 62/200 [2:32:26<2:26:00, 63.48s/it]"
     ]
    },
    {
     "name": "stderr",
     "output_type": "stream",
     "text": [
      "\r",
      "OMP Test Batch for noise_level = 0.00:  30%|██▉       | 59/200 [2:32:40<2:27:50, 62.91s/it]"
     ]
    },
    {
     "name": "stderr",
     "output_type": "stream",
     "text": [
      "\r",
      "OMP Test Batch for noise_level = 0.03:  29%|██▉       | 58/200 [2:32:47<3:01:49, 76.83s/it]"
     ]
    },
    {
     "name": "stderr",
     "output_type": "stream",
     "text": [
      "\r",
      "OMP Test Batch for noise_level = 0.06:  30%|███       | 61/200 [2:32:46<2:43:36, 70.62s/it]"
     ]
    },
    {
     "name": "stderr",
     "output_type": "stream",
     "text": [
      "\r",
      "OMP Test Batch for noise_level = 0.02:  30%|███       | 60/200 [2:32:54<2:17:25, 58.90s/it]"
     ]
    },
    {
     "name": "stderr",
     "output_type": "stream",
     "text": [
      "\r",
      "OMP Test Batch for noise_level = 0.18:  32%|███▎      | 65/200 [2:32:54<2:00:41, 53.64s/it]"
     ]
    },
    {
     "name": "stderr",
     "output_type": "stream",
     "text": [
      "\r",
      "OMP Test Batch for noise_level = 0.16:  32%|███▏      | 63/200 [2:32:55<2:03:25, 54.05s/it]"
     ]
    },
    {
     "name": "stderr",
     "output_type": "stream",
     "text": [
      "\r",
      "OMP Test Batch for noise_level = 0.20:  31%|███       | 62/200 [2:32:58<2:01:58, 53.03s/it]"
     ]
    },
    {
     "name": "stderr",
     "output_type": "stream",
     "text": [
      "\r",
      "OMP Test Batch for noise_level = 0.07:  32%|███▏      | 63/200 [2:33:13<2:40:02, 70.09s/it]"
     ]
    },
    {
     "name": "stderr",
     "output_type": "stream",
     "text": [
      "\r",
      "OMP Test Batch for noise_level = 0.10:  30%|███       | 60/200 [2:33:11<2:53:50, 74.50s/it]"
     ]
    },
    {
     "name": "stderr",
     "output_type": "stream",
     "text": [
      "\r",
      "OMP Test Batch for noise_level = 0.05:  30%|██▉       | 59/200 [2:33:22<2:48:23, 71.66s/it]"
     ]
    },
    {
     "name": "stderr",
     "output_type": "stream",
     "text": [
      "\r",
      "OMP Test Batch for noise_level = 0.14:  31%|███       | 62/200 [2:33:19<2:40:03, 69.59s/it]"
     ]
    },
    {
     "name": "stderr",
     "output_type": "stream",
     "text": [
      "\r",
      "OMP Test Batch for noise_level = 0.09:  30%|███       | 60/200 [2:33:22<2:39:54, 68.54s/it]"
     ]
    },
    {
     "name": "stderr",
     "output_type": "stream",
     "text": [
      "\r",
      "OMP Test Batch for noise_level = 0.00:  30%|███       | 60/200 [2:33:36<2:22:04, 60.89s/it]"
     ]
    },
    {
     "name": "stderr",
     "output_type": "stream",
     "text": [
      "\r",
      "OMP Test Batch for noise_level = 0.04:  30%|███       | 61/200 [2:33:36<2:45:17, 71.35s/it]"
     ]
    },
    {
     "name": "stderr",
     "output_type": "stream",
     "text": [
      "\r",
      "OMP Test Batch for noise_level = 0.08:  29%|██▉       | 58/200 [2:33:41<2:48:58, 71.40s/it]"
     ]
    },
    {
     "name": "stderr",
     "output_type": "stream",
     "text": [
      "\r",
      "OMP Test Batch for noise_level = 0.02:  30%|███       | 61/200 [2:33:48<2:13:14, 57.51s/it]"
     ]
    },
    {
     "name": "stderr",
     "output_type": "stream",
     "text": [
      "\r",
      "OMP Test Batch for noise_level = 0.01:  31%|███       | 62/200 [2:33:54<2:52:33, 75.03s/it]"
     ]
    },
    {
     "name": "stderr",
     "output_type": "stream",
     "text": [
      "\r",
      "OMP Test Batch for noise_level = 0.12:  32%|███▏      | 63/200 [2:33:44<2:35:08, 67.95s/it]"
     ]
    },
    {
     "name": "stderr",
     "output_type": "stream",
     "text": [
      "\r",
      "OMP Test Batch for noise_level = 0.16:  32%|███▏      | 64/200 [2:33:46<2:00:43, 53.26s/it]"
     ]
    },
    {
     "name": "stderr",
     "output_type": "stream",
     "text": [
      "\r",
      "OMP Test Batch for noise_level = 0.03:  30%|██▉       | 59/200 [2:34:01<2:58:29, 75.95s/it]"
     ]
    },
    {
     "name": "stderr",
     "output_type": "stream",
     "text": [
      "\r",
      "OMP Test Batch for noise_level = 0.06:  31%|███       | 62/200 [2:33:59<2:43:49, 71.23s/it]"
     ]
    },
    {
     "name": "stderr",
     "output_type": "stream",
     "text": [
      "\r",
      "OMP Test Batch for noise_level = 0.18:  33%|███▎      | 66/200 [2:34:09<2:14:17, 60.13s/it]"
     ]
    },
    {
     "name": "stderr",
     "output_type": "stream",
     "text": [
      "\r",
      "OMP Test Batch for noise_level = 0.20:  32%|███▏      | 63/200 [2:34:12<2:15:55, 59.53s/it]"
     ]
    },
    {
     "name": "stderr",
     "output_type": "stream",
     "text": [
      "\r",
      "OMP Test Batch for noise_level = 0.00:  30%|███       | 61/200 [2:34:33<2:18:28, 59.77s/it]"
     ]
    },
    {
     "name": "stderr",
     "output_type": "stream",
     "text": [
      "\r",
      "OMP Test Batch for noise_level = 0.07:  32%|███▏      | 64/200 [2:34:26<2:40:40, 70.89s/it]"
     ]
    },
    {
     "name": "stderr",
     "output_type": "stream",
     "text": [
      "\r",
      "OMP Test Batch for noise_level = 0.10:  30%|███       | 61/200 [2:34:23<2:51:25, 73.99s/it]"
     ]
    },
    {
     "name": "stderr",
     "output_type": "stream",
     "text": [
      "\r",
      "OMP Test Batch for noise_level = 0.14:  32%|███▏      | 63/200 [2:34:31<2:40:48, 70.42s/it]\r",
      "OMP Test Batch for noise_level = 0.05:  30%|███       | 60/200 [2:34:38<2:50:14, 72.96s/it]"
     ]
    },
    {
     "name": "stderr",
     "output_type": "stream",
     "text": [
      "\r",
      "OMP Test Batch for noise_level = 0.09:  30%|███       | 61/200 [2:34:35<2:41:29, 69.71s/it]"
     ]
    },
    {
     "name": "stderr",
     "output_type": "stream",
     "text": [
      "\r",
      "OMP Test Batch for noise_level = 0.02:  31%|███       | 62/200 [2:34:43<2:10:07, 56.58s/it]"
     ]
    },
    {
     "name": "stderr",
     "output_type": "stream",
     "text": [
      "\r",
      "OMP Test Batch for noise_level = 0.04:  31%|███       | 62/200 [2:34:49<2:45:20, 71.89s/it]"
     ]
    },
    {
     "name": "stderr",
     "output_type": "stream",
     "text": [
      "\r",
      "OMP Test Batch for noise_level = 0.16:  32%|███▎      | 65/200 [2:34:45<2:03:40, 54.97s/it]"
     ]
    },
    {
     "name": "stderr",
     "output_type": "stream",
     "text": [
      "\r",
      "OMP Test Batch for noise_level = 0.12:  32%|███▏      | 64/200 [2:34:50<2:32:49, 67.42s/it]"
     ]
    },
    {
     "name": "stderr",
     "output_type": "stream",
     "text": [
      "\r",
      "OMP Test Batch for noise_level = 0.08:  30%|██▉       | 59/200 [2:34:58<2:51:14, 72.87s/it]"
     ]
    },
    {
     "name": "stderr",
     "output_type": "stream",
     "text": [
      "\r",
      "OMP Test Batch for noise_level = 0.01:  32%|███▏      | 63/200 [2:35:11<2:52:02, 75.34s/it]"
     ]
    },
    {
     "name": "stderr",
     "output_type": "stream",
     "text": [
      "\r",
      "OMP Test Batch for noise_level = 0.06:  32%|███▏      | 63/200 [2:35:12<2:43:32, 71.62s/it]"
     ]
    },
    {
     "name": "stderr",
     "output_type": "stream",
     "text": [
      "\r",
      "OMP Test Batch for noise_level = 0.18:  34%|███▎      | 67/200 [2:35:10<2:13:46, 60.35s/it]"
     ]
    },
    {
     "name": "stderr",
     "output_type": "stream",
     "text": [
      "\r",
      "OMP Test Batch for noise_level = 0.03:  30%|███       | 60/200 [2:35:26<3:03:52, 78.80s/it]"
     ]
    },
    {
     "name": "stderr",
     "output_type": "stream",
     "text": [
      "\r",
      "OMP Test Batch for noise_level = 0.10:  31%|███       | 62/200 [2:35:20<2:38:25, 68.88s/it]"
     ]
    },
    {
     "name": "stderr",
     "output_type": "stream",
     "text": [
      "\r",
      "OMP Test Batch for noise_level = 0.00:  31%|███       | 62/200 [2:35:33<2:17:31, 59.79s/it]"
     ]
    },
    {
     "name": "stderr",
     "output_type": "stream",
     "text": [
      "\r",
      "OMP Test Batch for noise_level = 0.20:  32%|███▏      | 64/200 [2:35:23<2:22:39, 62.94s/it]"
     ]
    },
    {
     "name": "stderr",
     "output_type": "stream",
     "text": [
      "\r",
      "OMP Test Batch for noise_level = 0.02:  32%|███▏      | 63/200 [2:35:37<2:07:40, 55.92s/it]"
     ]
    },
    {
     "name": "stderr",
     "output_type": "stream",
     "text": [
      "\r",
      "OMP Test Batch for noise_level = 0.07:  32%|███▎      | 65/200 [2:35:39<2:41:07, 71.61s/it]"
     ]
    },
    {
     "name": "stderr",
     "output_type": "stream",
     "text": [
      "\r",
      "OMP Test Batch for noise_level = 0.05:  30%|███       | 61/200 [2:35:48<2:46:42, 71.96s/it]"
     ]
    },
    {
     "name": "stderr",
     "output_type": "stream",
     "text": [
      "\r",
      "OMP Test Batch for noise_level = 0.09:  31%|███       | 62/200 [2:35:45<2:40:26, 69.76s/it]"
     ]
    },
    {
     "name": "stderr",
     "output_type": "stream",
     "text": [
      "\r",
      "OMP Test Batch for noise_level = 0.14:  32%|███▏      | 64/200 [2:35:47<2:43:05, 71.95s/it]"
     ]
    },
    {
     "name": "stderr",
     "output_type": "stream",
     "text": [
      "\r",
      "OMP Test Batch for noise_level = 0.04:  32%|███▏      | 63/200 [2:36:05<2:46:30, 72.93s/it]"
     ]
    },
    {
     "name": "stderr",
     "output_type": "stream",
     "text": [
      "\r",
      "OMP Test Batch for noise_level = 0.08:  30%|███       | 60/200 [2:36:07<2:47:18, 71.70s/it]"
     ]
    },
    {
     "name": "stderr",
     "output_type": "stream",
     "text": [
      "\r",
      "OMP Test Batch for noise_level = 0.12:  32%|███▎      | 65/200 [2:36:05<2:36:40, 69.63s/it]\r",
      "OMP Test Batch for noise_level = 0.16:  33%|███▎      | 66/200 [2:36:03<2:17:54, 61.75s/it]"
     ]
    },
    {
     "name": "stderr",
     "output_type": "stream",
     "text": [
      "\r",
      "OMP Test Batch for noise_level = 0.18:  34%|███▍      | 68/200 [2:36:02<2:07:22, 57.90s/it]"
     ]
    },
    {
     "name": "stderr",
     "output_type": "stream",
     "text": [
      "\r",
      "OMP Test Batch for noise_level = 0.10:  32%|███▏      | 63/200 [2:36:18<2:29:45, 65.59s/it]"
     ]
    },
    {
     "name": "stderr",
     "output_type": "stream",
     "text": [
      "\r",
      "OMP Test Batch for noise_level = 0.06:  32%|███▏      | 64/200 [2:36:24<2:42:39, 71.76s/it]"
     ]
    },
    {
     "name": "stderr",
     "output_type": "stream",
     "text": [
      "\r",
      "OMP Test Batch for noise_level = 0.00:  32%|███▏      | 63/200 [2:36:31<2:14:58, 59.11s/it]"
     ]
    },
    {
     "name": "stderr",
     "output_type": "stream",
     "text": [
      "\r",
      "OMP Test Batch for noise_level = 0.01:  32%|███▏      | 64/200 [2:36:30<2:53:49, 76.69s/it]"
     ]
    },
    {
     "name": "stderr",
     "output_type": "stream",
     "text": [
      "\r",
      "OMP Test Batch for noise_level = 0.02:  32%|███▏      | 64/200 [2:36:34<2:07:13, 56.13s/it]"
     ]
    },
    {
     "name": "stderr",
     "output_type": "stream",
     "text": [
      "\r",
      "OMP Test Batch for noise_level = 0.03:  30%|███       | 61/200 [2:36:48<3:04:26, 79.62s/it]"
     ]
    },
    {
     "name": "stderr",
     "output_type": "stream",
     "text": [
      "\r",
      "OMP Test Batch for noise_level = 0.05:  31%|███       | 62/200 [2:36:50<2:38:41, 68.99s/it]"
     ]
    },
    {
     "name": "stderr",
     "output_type": "stream",
     "text": [
      "\r",
      "OMP Test Batch for noise_level = 0.20:  32%|███▎      | 65/200 [2:36:45<2:34:10, 68.52s/it]"
     ]
    },
    {
     "name": "stderr",
     "output_type": "stream",
     "text": [
      "\r",
      "OMP Test Batch for noise_level = 0.07:  33%|███▎      | 66/200 [2:36:54<2:41:44, 72.42s/it]"
     ]
    },
    {
     "name": "stderr",
     "output_type": "stream",
     "text": [
      "\r",
      "OMP Test Batch for noise_level = 0.14:  32%|███▎      | 65/200 [2:36:56<2:40:16, 71.23s/it]\r",
      "OMP Test Batch for noise_level = 0.16:  34%|███▎      | 67/200 [2:36:55<2:10:23, 58.82s/it]"
     ]
    },
    {
     "name": "stderr",
     "output_type": "stream",
     "text": [
      "\r",
      "OMP Test Batch for noise_level = 0.18:  34%|███▍      | 69/200 [2:36:58<2:05:23, 57.43s/it]"
     ]
    },
    {
     "name": "stderr",
     "output_type": "stream",
     "text": [
      "\r",
      "OMP Test Batch for noise_level = 0.09:  32%|███▏      | 63/200 [2:37:10<2:49:49, 74.37s/it]"
     ]
    },
    {
     "name": "stderr",
     "output_type": "stream",
     "text": [
      "\r",
      "OMP Test Batch for noise_level = 0.08:  30%|███       | 61/200 [2:37:12<2:41:45, 69.82s/it]"
     ]
    },
    {
     "name": "stderr",
     "output_type": "stream",
     "text": [
      "\r",
      "OMP Test Batch for noise_level = 0.04:  32%|███▏      | 64/200 [2:37:17<2:44:38, 72.63s/it]"
     ]
    },
    {
     "name": "stderr",
     "output_type": "stream",
     "text": [
      "\r",
      "OMP Test Batch for noise_level = 0.10:  32%|███▏      | 64/200 [2:37:11<2:19:48, 61.68s/it]"
     ]
    },
    {
     "name": "stderr",
     "output_type": "stream",
     "text": [
      "\r",
      "OMP Test Batch for noise_level = 0.12:  33%|███▎      | 66/200 [2:37:17<2:36:43, 70.17s/it]"
     ]
    },
    {
     "name": "stderr",
     "output_type": "stream",
     "text": [
      "\r",
      "OMP Test Batch for noise_level = 0.00:  32%|███▏      | 64/200 [2:37:30<2:14:10, 59.19s/it]"
     ]
    },
    {
     "name": "stderr",
     "output_type": "stream",
     "text": [
      "\r",
      "OMP Test Batch for noise_level = 0.02:  32%|███▎      | 65/200 [2:37:33<2:08:31, 57.12s/it]"
     ]
    },
    {
     "name": "stderr",
     "output_type": "stream",
     "text": [
      "\r",
      "OMP Test Batch for noise_level = 0.06:  32%|███▎      | 65/200 [2:37:33<2:39:39, 70.96s/it]"
     ]
    },
    {
     "name": "stderr",
     "output_type": "stream",
     "text": [
      "\r",
      "OMP Test Batch for noise_level = 0.01:  32%|███▎      | 65/200 [2:37:39<2:46:47, 74.13s/it]"
     ]
    },
    {
     "name": "stderr",
     "output_type": "stream",
     "text": [
      "\r",
      "OMP Test Batch for noise_level = 0.03:  31%|███       | 62/200 [2:37:59<2:57:36, 77.22s/it]"
     ]
    },
    {
     "name": "stderr",
     "output_type": "stream",
     "text": [
      "\r",
      "OMP Test Batch for noise_level = 0.16:  34%|███▍      | 68/200 [2:37:50<2:06:55, 57.69s/it]"
     ]
    },
    {
     "name": "stderr",
     "output_type": "stream",
     "text": [
      "\r",
      "OMP Test Batch for noise_level = 0.05:  32%|███▏      | 63/200 [2:37:59<2:37:21, 68.92s/it]"
     ]
    },
    {
     "name": "stderr",
     "output_type": "stream",
     "text": [
      "\r",
      "OMP Test Batch for noise_level = 0.18:  35%|███▌      | 70/200 [2:37:58<2:05:57, 58.14s/it]"
     ]
    },
    {
     "name": "stderr",
     "output_type": "stream",
     "text": [
      "\r",
      "OMP Test Batch for noise_level = 0.14:  33%|███▎      | 66/200 [2:38:01<2:34:44, 69.29s/it]"
     ]
    },
    {
     "name": "stderr",
     "output_type": "stream",
     "text": [
      "\r",
      "OMP Test Batch for noise_level = 0.10:  32%|███▎      | 65/200 [2:38:04<2:13:11, 59.20s/it]"
     ]
    },
    {
     "name": "stderr",
     "output_type": "stream",
     "text": [
      "\r",
      "OMP Test Batch for noise_level = 0.07:  34%|███▎      | 67/200 [2:38:08<2:41:54, 73.04s/it]\r",
      "OMP Test Batch for noise_level = 0.20:  33%|███▎      | 66/200 [2:38:00<2:37:32, 70.54s/it]"
     ]
    },
    {
     "name": "stderr",
     "output_type": "stream",
     "text": [
      "\r",
      "OMP Test Batch for noise_level = 0.00:  32%|███▎      | 65/200 [2:38:28<2:12:25, 58.86s/it]"
     ]
    },
    {
     "name": "stderr",
     "output_type": "stream",
     "text": [
      "\r",
      "OMP Test Batch for noise_level = 0.02:  33%|███▎      | 66/200 [2:38:26<2:04:49, 55.89s/it]"
     ]
    },
    {
     "name": "stderr",
     "output_type": "stream",
     "text": [
      "\r",
      "OMP Test Batch for noise_level = 0.09:  32%|███▏      | 64/200 [2:38:22<2:46:50, 73.61s/it]"
     ]
    },
    {
     "name": "stderr",
     "output_type": "stream",
     "text": [
      "\r",
      "OMP Test Batch for noise_level = 0.04:  32%|███▎      | 65/200 [2:38:30<2:43:53, 72.84s/it]"
     ]
    },
    {
     "name": "stderr",
     "output_type": "stream",
     "text": [
      "\r",
      "OMP Test Batch for noise_level = 0.08:  31%|███       | 62/200 [2:38:27<2:44:17, 71.43s/it]"
     ]
    },
    {
     "name": "stderr",
     "output_type": "stream",
     "text": [
      "\r",
      "OMP Test Batch for noise_level = 0.12:  34%|███▎      | 67/200 [2:38:33<2:39:26, 71.93s/it]"
     ]
    },
    {
     "name": "stderr",
     "output_type": "stream",
     "text": [
      "\r",
      "OMP Test Batch for noise_level = 0.01:  33%|███▎      | 66/200 [2:38:48<2:42:30, 72.76s/it]"
     ]
    },
    {
     "name": "stderr",
     "output_type": "stream",
     "text": [
      "\r",
      "OMP Test Batch for noise_level = 0.06:  33%|███▎      | 66/200 [2:38:45<2:39:22, 71.36s/it]"
     ]
    },
    {
     "name": "stderr",
     "output_type": "stream",
     "text": [
      "\r",
      "OMP Test Batch for noise_level = 0.16:  34%|███▍      | 69/200 [2:38:48<2:06:13, 57.81s/it]"
     ]
    },
    {
     "name": "stderr",
     "output_type": "stream",
     "text": [
      "\r",
      "OMP Test Batch for noise_level = 0.18:  36%|███▌      | 71/200 [2:38:53<2:02:38, 57.04s/it]"
     ]
    },
    {
     "name": "stderr",
     "output_type": "stream",
     "text": [
      "\r",
      "OMP Test Batch for noise_level = 0.10:  33%|███▎      | 66/200 [2:39:02<2:11:09, 58.72s/it]"
     ]
    },
    {
     "name": "stderr",
     "output_type": "stream",
     "text": [
      "\r",
      "OMP Test Batch for noise_level = 0.20:  34%|███▎      | 67/200 [2:39:03<2:31:40, 68.43s/it]\r",
      "OMP Test Batch for noise_level = 0.05:  32%|███▏      | 64/200 [2:39:14<2:40:29, 70.80s/it]"
     ]
    },
    {
     "name": "stderr",
     "output_type": "stream",
     "text": [
      "\r",
      "OMP Test Batch for noise_level = 0.07:  34%|███▍      | 68/200 [2:39:16<2:37:12, 71.46s/it]"
     ]
    },
    {
     "name": "stderr",
     "output_type": "stream",
     "text": [
      "\r",
      "OMP Test Batch for noise_level = 0.03:  32%|███▏      | 63/200 [2:39:22<2:59:55, 78.80s/it]"
     ]
    },
    {
     "name": "stderr",
     "output_type": "stream",
     "text": [
      "\r",
      "OMP Test Batch for noise_level = 0.14:  34%|███▎      | 67/200 [2:39:13<2:35:20, 70.08s/it]"
     ]
    },
    {
     "name": "stderr",
     "output_type": "stream",
     "text": [
      "\r",
      "OMP Test Batch for noise_level = 0.02:  34%|███▎      | 67/200 [2:39:25<2:05:50, 56.77s/it]"
     ]
    },
    {
     "name": "stderr",
     "output_type": "stream",
     "text": [
      "\r",
      "OMP Test Batch for noise_level = 0.08:  32%|███▏      | 63/200 [2:39:31<2:38:09, 69.27s/it]"
     ]
    },
    {
     "name": "stderr",
     "output_type": "stream",
     "text": [
      "\r",
      "OMP Test Batch for noise_level = 0.09:  32%|███▎      | 65/200 [2:39:31<2:42:43, 72.32s/it]"
     ]
    },
    {
     "name": "stderr",
     "output_type": "stream",
     "text": [
      "\r",
      "OMP Test Batch for noise_level = 0.00:  33%|███▎      | 66/200 [2:39:43<2:22:07, 63.64s/it]"
     ]
    },
    {
     "name": "stderr",
     "output_type": "stream",
     "text": [
      "\r",
      "OMP Test Batch for noise_level = 0.04:  33%|███▎      | 66/200 [2:39:44<2:43:34, 73.25s/it]"
     ]
    },
    {
     "name": "stderr",
     "output_type": "stream",
     "text": [
      "\r",
      "OMP Test Batch for noise_level = 0.16:  35%|███▌      | 70/200 [2:39:45<2:04:26, 57.43s/it]\r",
      "OMP Test Batch for noise_level = 0.12:  34%|███▍      | 68/200 [2:39:47<2:39:53, 72.68s/it]"
     ]
    },
    {
     "name": "stderr",
     "output_type": "stream",
     "text": [
      "\r",
      "OMP Test Batch for noise_level = 0.06:  34%|███▎      | 67/200 [2:39:57<2:38:46, 71.63s/it]"
     ]
    },
    {
     "name": "stderr",
     "output_type": "stream",
     "text": [
      "\r",
      "OMP Test Batch for noise_level = 0.10:  34%|███▎      | 67/200 [2:39:56<2:07:26, 57.49s/it]"
     ]
    },
    {
     "name": "stderr",
     "output_type": "stream",
     "text": [
      "\r",
      "OMP Test Batch for noise_level = 0.18:  36%|███▌      | 72/200 [2:39:56<2:05:35, 58.87s/it]"
     ]
    },
    {
     "name": "stderr",
     "output_type": "stream",
     "text": [
      "\r",
      "OMP Test Batch for noise_level = 0.01:  34%|███▎      | 67/200 [2:40:17<2:51:43, 77.47s/it]"
     ]
    },
    {
     "name": "stderr",
     "output_type": "stream",
     "text": [
      "\r",
      "OMP Test Batch for noise_level = 0.03:  32%|███▏      | 64/200 [2:40:20<2:44:17, 72.48s/it]"
     ]
    },
    {
     "name": "stderr",
     "output_type": "stream",
     "text": [
      "\r",
      "OMP Test Batch for noise_level = 0.02:  34%|███▍      | 68/200 [2:40:24<2:06:17, 57.41s/it]"
     ]
    },
    {
     "name": "stderr",
     "output_type": "stream",
     "text": [
      "\r",
      "OMP Test Batch for noise_level = 0.20:  34%|███▍      | 68/200 [2:40:12<2:30:33, 68.43s/it]"
     ]
    },
    {
     "name": "stderr",
     "output_type": "stream",
     "text": [
      "\r",
      "OMP Test Batch for noise_level = 0.05:  32%|███▎      | 65/200 [2:40:29<2:42:19, 72.14s/it]"
     ]
    },
    {
     "name": "stderr",
     "output_type": "stream",
     "text": [
      "\r",
      "OMP Test Batch for noise_level = 0.14:  34%|███▍      | 68/200 [2:40:26<2:35:58, 70.90s/it]"
     ]
    },
    {
     "name": "stderr",
     "output_type": "stream",
     "text": [
      "\r",
      "OMP Test Batch for noise_level = 0.07:  34%|███▍      | 69/200 [2:40:32<2:38:44, 72.71s/it]"
     ]
    },
    {
     "name": "stderr",
     "output_type": "stream",
     "text": [
      "\r",
      "OMP Test Batch for noise_level = 0.08:  32%|███▏      | 64/200 [2:40:46<2:40:29, 70.81s/it]"
     ]
    },
    {
     "name": "stderr",
     "output_type": "stream",
     "text": [
      "\r",
      "OMP Test Batch for noise_level = 0.09:  33%|███▎      | 66/200 [2:40:47<2:43:48, 73.34s/it]"
     ]
    },
    {
     "name": "stderr",
     "output_type": "stream",
     "text": [
      "\r",
      "OMP Test Batch for noise_level = 0.00:  34%|███▎      | 67/200 [2:40:57<2:28:19, 66.91s/it]"
     ]
    },
    {
     "name": "stderr",
     "output_type": "stream",
     "text": [
      "\r",
      "OMP Test Batch for noise_level = 0.04:  34%|███▎      | 67/200 [2:40:53<2:39:33, 71.98s/it]"
     ]
    },
    {
     "name": "stderr",
     "output_type": "stream",
     "text": [
      "\r",
      "OMP Test Batch for noise_level = 0.10:  34%|███▍      | 68/200 [2:40:49<2:03:25, 56.10s/it]"
     ]
    },
    {
     "name": "stderr",
     "output_type": "stream",
     "text": [
      "\r",
      "OMP Test Batch for noise_level = 0.16:  36%|███▌      | 71/200 [2:40:49<2:07:45, 59.42s/it]"
     ]
    },
    {
     "name": "stderr",
     "output_type": "stream",
     "text": [
      "\r",
      "OMP Test Batch for noise_level = 0.18:  36%|███▋      | 73/200 [2:40:48<2:00:26, 56.90s/it]"
     ]
    },
    {
     "name": "stderr",
     "output_type": "stream",
     "text": [
      "\r",
      "OMP Test Batch for noise_level = 0.06:  34%|███▍      | 68/200 [2:41:03<2:33:48, 69.92s/it]"
     ]
    },
    {
     "name": "stderr",
     "output_type": "stream",
     "text": [
      "\r",
      "OMP Test Batch for noise_level = 0.12:  34%|███▍      | 69/200 [2:40:59<2:38:10, 72.45s/it]"
     ]
    },
    {
     "name": "stderr",
     "output_type": "stream",
     "text": [
      "\r",
      "OMP Test Batch for noise_level = 0.02:  34%|███▍      | 69/200 [2:41:23<2:06:26, 57.91s/it]"
     ]
    },
    {
     "name": "stderr",
     "output_type": "stream",
     "text": [
      "\r",
      "OMP Test Batch for noise_level = 0.20:  34%|███▍      | 69/200 [2:41:14<2:25:10, 66.49s/it]"
     ]
    },
    {
     "name": "stderr",
     "output_type": "stream",
     "text": [
      "\r",
      "OMP Test Batch for noise_level = 0.03:  32%|███▎      | 65/200 [2:41:32<2:43:05, 72.49s/it]\r",
      "OMP Test Batch for noise_level = 0.01:  34%|███▍      | 68/200 [2:41:34<2:50:43, 77.60s/it]"
     ]
    },
    {
     "name": "stderr",
     "output_type": "stream",
     "text": [
      "\r",
      "OMP Test Batch for noise_level = 0.14:  34%|███▍      | 69/200 [2:41:32<2:31:55, 69.59s/it]\r",
      "OMP Test Batch for noise_level = 0.07:  35%|███▌      | 70/200 [2:41:38<2:33:09, 70.69s/it]"
     ]
    },
    {
     "name": "stderr",
     "output_type": "stream",
     "text": [
      "\r",
      "OMP Test Batch for noise_level = 0.05:  33%|███▎      | 66/200 [2:41:40<2:40:17, 71.77s/it]"
     ]
    },
    {
     "name": "stderr",
     "output_type": "stream",
     "text": [
      "\r",
      "OMP Test Batch for noise_level = 0.10:  34%|███▍      | 69/200 [2:41:42<2:00:12, 55.06s/it]"
     ]
    },
    {
     "name": "stderr",
     "output_type": "stream",
     "text": [
      "\r",
      "OMP Test Batch for noise_level = 0.18:  37%|███▋      | 74/200 [2:41:46<1:59:54, 57.10s/it]"
     ]
    },
    {
     "name": "stderr",
     "output_type": "stream",
     "text": [
      "\r",
      "OMP Test Batch for noise_level = 0.16:  36%|███▌      | 72/200 [2:41:47<2:06:16, 59.19s/it]"
     ]
    },
    {
     "name": "stderr",
     "output_type": "stream",
     "text": [
      "\r",
      "OMP Test Batch for noise_level = 0.08:  32%|███▎      | 65/200 [2:41:58<2:40:32, 71.35s/it]"
     ]
    },
    {
     "name": "stderr",
     "output_type": "stream",
     "text": [
      "\r",
      "OMP Test Batch for noise_level = 0.09:  34%|███▎      | 67/200 [2:42:02<2:44:00, 73.99s/it]"
     ]
    },
    {
     "name": "stderr",
     "output_type": "stream",
     "text": [
      "\r",
      "OMP Test Batch for noise_level = 0.06:  34%|███▍      | 69/200 [2:42:14<2:33:27, 70.29s/it]"
     ]
    },
    {
     "name": "stderr",
     "output_type": "stream",
     "text": [
      "\r",
      "OMP Test Batch for noise_level = 0.00:  34%|███▍      | 68/200 [2:42:22<2:38:48, 72.18s/it]"
     ]
    },
    {
     "name": "stderr",
     "output_type": "stream",
     "text": [
      "\r",
      "OMP Test Batch for noise_level = 0.02:  35%|███▌      | 70/200 [2:42:22<2:06:32, 58.40s/it]"
     ]
    },
    {
     "name": "stderr",
     "output_type": "stream",
     "text": [
      "\r",
      "OMP Test Batch for noise_level = 0.20:  35%|███▌      | 70/200 [2:42:09<2:16:55, 63.19s/it]\r",
      "OMP Test Batch for noise_level = 0.12:  35%|███▌      | 70/200 [2:42:14<2:38:35, 73.20s/it]"
     ]
    },
    {
     "name": "stderr",
     "output_type": "stream",
     "text": [
      "\r",
      "OMP Test Batch for noise_level = 0.04:  34%|███▍      | 68/200 [2:42:23<2:49:55, 77.24s/it]"
     ]
    },
    {
     "name": "stderr",
     "output_type": "stream",
     "text": [
      "\r",
      "OMP Test Batch for noise_level = 0.01:  34%|███▍      | 69/200 [2:42:49<2:47:39, 76.79s/it]"
     ]
    },
    {
     "name": "stderr",
     "output_type": "stream",
     "text": [
      "\r",
      "OMP Test Batch for noise_level = 0.10:  35%|███▌      | 70/200 [2:42:41<2:02:11, 56.40s/it]"
     ]
    },
    {
     "name": "stderr",
     "output_type": "stream",
     "text": [
      "\r",
      "OMP Test Batch for noise_level = 0.07:  36%|███▌      | 71/200 [2:42:46<2:30:17, 69.90s/it]"
     ]
    },
    {
     "name": "stderr",
     "output_type": "stream",
     "text": [
      "\r",
      "OMP Test Batch for noise_level = 0.14:  35%|███▌      | 70/200 [2:42:41<2:30:37, 69.52s/it]"
     ]
    },
    {
     "name": "stderr",
     "output_type": "stream",
     "text": [
      "\r",
      "OMP Test Batch for noise_level = 0.03:  33%|███▎      | 66/200 [2:42:53<2:47:53, 75.17s/it]"
     ]
    },
    {
     "name": "stderr",
     "output_type": "stream",
     "text": [
      "\r",
      "OMP Test Batch for noise_level = 0.18:  38%|███▊      | 75/200 [2:42:45<2:00:36, 57.89s/it]\r",
      "OMP Test Batch for noise_level = 0.16:  36%|███▋      | 73/200 [2:42:46<2:05:14, 59.17s/it]"
     ]
    },
    {
     "name": "stderr",
     "output_type": "stream",
     "text": [
      "\r",
      "OMP Test Batch for noise_level = 0.05:  34%|███▎      | 67/200 [2:42:55<2:41:11, 72.72s/it]"
     ]
    },
    {
     "name": "stderr",
     "output_type": "stream",
     "text": [
      "\r",
      "OMP Test Batch for noise_level = 0.08:  33%|███▎      | 66/200 [2:43:01<2:33:34, 68.77s/it]"
     ]
    },
    {
     "name": "stderr",
     "output_type": "stream",
     "text": [
      "\r",
      "OMP Test Batch for noise_level = 0.02:  36%|███▌      | 71/200 [2:43:20<2:04:44, 58.02s/it]"
     ]
    },
    {
     "name": "stderr",
     "output_type": "stream",
     "text": [
      "\r",
      "OMP Test Batch for noise_level = 0.20:  36%|███▌      | 71/200 [2:43:07<2:12:10, 61.48s/it]"
     ]
    },
    {
     "name": "stderr",
     "output_type": "stream",
     "text": [
      "\r",
      "OMP Test Batch for noise_level = 0.09:  34%|███▍      | 68/200 [2:43:16<2:42:27, 73.84s/it]"
     ]
    },
    {
     "name": "stderr",
     "output_type": "stream",
     "text": [
      "\r",
      "OMP Test Batch for noise_level = 0.06:  35%|███▌      | 70/200 [2:43:27<2:33:32, 70.87s/it]"
     ]
    },
    {
     "name": "stderr",
     "output_type": "stream",
     "text": [
      "\r",
      "OMP Test Batch for noise_level = 0.12:  36%|███▌      | 71/200 [2:43:25<2:36:13, 72.67s/it]"
     ]
    },
    {
     "name": "stderr",
     "output_type": "stream",
     "text": [
      "\r",
      "OMP Test Batch for noise_level = 0.04:  34%|███▍      | 69/200 [2:43:38<2:47:33, 76.74s/it]"
     ]
    },
    {
     "name": "stderr",
     "output_type": "stream",
     "text": [
      "\r",
      "OMP Test Batch for noise_level = 0.00:  34%|███▍      | 69/200 [2:43:47<2:45:48, 75.94s/it]\r",
      "OMP Test Batch for noise_level = 0.10:  36%|███▌      | 71/200 [2:43:36<1:59:51, 55.75s/it]"
     ]
    },
    {
     "name": "stderr",
     "output_type": "stream",
     "text": [
      "\r",
      "OMP Test Batch for noise_level = 0.18:  38%|███▊      | 76/200 [2:43:32<1:52:50, 54.60s/it]"
     ]
    },
    {
     "name": "stderr",
     "output_type": "stream",
     "text": [
      "\r",
      "OMP Test Batch for noise_level = 0.07:  36%|███▌      | 72/200 [2:43:52<2:26:49, 68.82s/it]"
     ]
    },
    {
     "name": "stderr",
     "output_type": "stream",
     "text": [
      "\r",
      "OMP Test Batch for noise_level = 0.16:  37%|███▋      | 74/200 [2:43:46<2:04:28, 59.27s/it]"
     ]
    },
    {
     "name": "stderr",
     "output_type": "stream",
     "text": [
      "\r",
      "OMP Test Batch for noise_level = 0.01:  35%|███▌      | 70/200 [2:44:05<2:45:29, 76.38s/it]"
     ]
    },
    {
     "name": "stderr",
     "output_type": "stream",
     "text": [
      "\r",
      "OMP Test Batch for noise_level = 0.05:  34%|███▍      | 68/200 [2:44:05<2:37:49, 71.73s/it]"
     ]
    },
    {
     "name": "stderr",
     "output_type": "stream",
     "text": [
      "\r",
      "OMP Test Batch for noise_level = 0.20:  36%|███▌      | 72/200 [2:43:54<2:02:16, 57.32s/it]"
     ]
    },
    {
     "name": "stderr",
     "output_type": "stream",
     "text": [
      "\r",
      "OMP Test Batch for noise_level = 0.14:  36%|███▌      | 71/200 [2:43:58<2:34:07, 71.69s/it]"
     ]
    },
    {
     "name": "stderr",
     "output_type": "stream",
     "text": [
      "\r",
      "OMP Test Batch for noise_level = 0.03:  34%|███▎      | 67/200 [2:44:12<2:48:37, 76.07s/it]"
     ]
    },
    {
     "name": "stderr",
     "output_type": "stream",
     "text": [
      "\r",
      "OMP Test Batch for noise_level = 0.02:  36%|███▌      | 72/200 [2:44:16<2:02:51, 57.59s/it]"
     ]
    },
    {
     "name": "stderr",
     "output_type": "stream",
     "text": [
      "\r",
      "OMP Test Batch for noise_level = 0.08:  34%|███▎      | 67/200 [2:44:12<2:33:46, 69.37s/it]"
     ]
    },
    {
     "name": "stderr",
     "output_type": "stream",
     "text": [
      "\r",
      "OMP Test Batch for noise_level = 0.18:  38%|███▊      | 77/200 [2:44:25<1:50:52, 54.09s/it]"
     ]
    },
    {
     "name": "stderr",
     "output_type": "stream",
     "text": [
      "\r",
      "OMP Test Batch for noise_level = 0.10:  36%|███▌      | 72/200 [2:44:33<1:59:57, 56.23s/it]\r",
      "OMP Test Batch for noise_level = 0.06:  36%|███▌      | 71/200 [2:44:38<2:32:30, 70.93s/it]"
     ]
    },
    {
     "name": "stderr",
     "output_type": "stream",
     "text": [
      "\r",
      "OMP Test Batch for noise_level = 0.00:  35%|███▌      | 70/200 [2:44:47<2:34:11, 71.17s/it]"
     ]
    },
    {
     "name": "stderr",
     "output_type": "stream",
     "text": [
      "\r",
      "OMP Test Batch for noise_level = 0.09:  34%|███▍      | 69/200 [2:44:37<2:46:09, 76.10s/it]"
     ]
    },
    {
     "name": "stderr",
     "output_type": "stream",
     "text": [
      "\r",
      "OMP Test Batch for noise_level = 0.12:  36%|███▌      | 72/200 [2:44:38<2:35:20, 72.81s/it]"
     ]
    },
    {
     "name": "stderr",
     "output_type": "stream",
     "text": [
      "\r",
      "OMP Test Batch for noise_level = 0.16:  38%|███▊      | 75/200 [2:44:38<1:59:02, 57.14s/it]"
     ]
    },
    {
     "name": "stderr",
     "output_type": "stream",
     "text": [
      "\r",
      "OMP Test Batch for noise_level = 0.04:  35%|███▌      | 70/200 [2:44:55<2:45:53, 76.57s/it]"
     ]
    },
    {
     "name": "stderr",
     "output_type": "stream",
     "text": [
      "\r",
      "OMP Test Batch for noise_level = 0.20:  36%|███▋      | 73/200 [2:44:54<2:03:02, 58.13s/it]"
     ]
    },
    {
     "name": "stderr",
     "output_type": "stream",
     "text": [
      "\r",
      "OMP Test Batch for noise_level = 0.07:  36%|███▋      | 73/200 [2:45:03<2:27:19, 69.60s/it]"
     ]
    },
    {
     "name": "stderr",
     "output_type": "stream",
     "text": [
      "\r",
      "OMP Test Batch for noise_level = 0.02:  36%|███▋      | 73/200 [2:45:12<2:01:06, 57.22s/it]"
     ]
    },
    {
     "name": "stderr",
     "output_type": "stream",
     "text": [
      "\r",
      "OMP Test Batch for noise_level = 0.14:  36%|███▌      | 72/200 [2:45:07<2:30:51, 70.71s/it]"
     ]
    },
    {
     "name": "stderr",
     "output_type": "stream",
     "text": [
      "\r",
      "OMP Test Batch for noise_level = 0.05:  34%|███▍      | 69/200 [2:45:16<2:36:13, 71.55s/it]"
     ]
    },
    {
     "name": "stderr",
     "output_type": "stream",
     "text": [
      "\r",
      "OMP Test Batch for noise_level = 0.01:  36%|███▌      | 71/200 [2:45:22<2:45:01, 76.76s/it]"
     ]
    },
    {
     "name": "stderr",
     "output_type": "stream",
     "text": [
      "\r",
      "OMP Test Batch for noise_level = 0.18:  39%|███▉      | 78/200 [2:45:12<1:45:28, 51.88s/it]"
     ]
    },
    {
     "name": "stderr",
     "output_type": "stream",
     "text": [
      "\r",
      "OMP Test Batch for noise_level = 0.03:  34%|███▍      | 68/200 [2:45:26<2:46:18, 75.60s/it]"
     ]
    },
    {
     "name": "stderr",
     "output_type": "stream",
     "text": [
      "\r",
      "OMP Test Batch for noise_level = 0.08:  34%|███▍      | 68/200 [2:45:27<2:36:07, 70.97s/it]"
     ]
    },
    {
     "name": "stderr",
     "output_type": "stream",
     "text": [
      "\r",
      "OMP Test Batch for noise_level = 0.10:  36%|███▋      | 73/200 [2:45:32<2:00:53, 57.12s/it]"
     ]
    },
    {
     "name": "stderr",
     "output_type": "stream",
     "text": [
      "\r",
      "OMP Test Batch for noise_level = 0.16:  38%|███▊      | 76/200 [2:45:35<1:57:39, 56.93s/it]"
     ]
    },
    {
     "name": "stderr",
     "output_type": "stream",
     "text": [
      "\r",
      "OMP Test Batch for noise_level = 0.00:  36%|███▌      | 71/200 [2:45:58<2:33:16, 71.29s/it]"
     ]
    },
    {
     "name": "stderr",
     "output_type": "stream",
     "text": [
      "\r",
      "OMP Test Batch for noise_level = 0.09:  35%|███▌      | 70/200 [2:45:50<2:42:44, 75.11s/it]"
     ]
    },
    {
     "name": "stderr",
     "output_type": "stream",
     "text": [
      "\r",
      "OMP Test Batch for noise_level = 0.20:  37%|███▋      | 74/200 [2:45:44<1:56:56, 55.69s/it]"
     ]
    },
    {
     "name": "stderr",
     "output_type": "stream",
     "text": [
      "\r",
      "OMP Test Batch for noise_level = 0.06:  36%|███▌      | 72/200 [2:45:54<2:34:59, 72.65s/it]"
     ]
    },
    {
     "name": "stderr",
     "output_type": "stream",
     "text": [
      "\r",
      "OMP Test Batch for noise_level = 0.12:  36%|███▋      | 73/200 [2:45:51<2:34:14, 72.87s/it]"
     ]
    },
    {
     "name": "stderr",
     "output_type": "stream",
     "text": [
      "\r",
      "OMP Test Batch for noise_level = 0.04:  36%|███▌      | 71/200 [2:46:02<2:38:35, 73.76s/it]"
     ]
    },
    {
     "name": "stderr",
     "output_type": "stream",
     "text": [
      "\r",
      "OMP Test Batch for noise_level = 0.02:  37%|███▋      | 74/200 [2:46:05<1:57:06, 55.76s/it]"
     ]
    },
    {
     "name": "stderr",
     "output_type": "stream",
     "text": [
      "\r",
      "OMP Test Batch for noise_level = 0.07:  37%|███▋      | 74/200 [2:46:12<2:25:44, 69.40s/it]"
     ]
    },
    {
     "name": "stderr",
     "output_type": "stream",
     "text": [
      "\r",
      "OMP Test Batch for noise_level = 0.18:  40%|███▉      | 79/200 [2:46:10<1:48:18, 53.71s/it]"
     ]
    },
    {
     "name": "stderr",
     "output_type": "stream",
     "text": [
      "\r",
      "OMP Test Batch for noise_level = 0.01:  36%|███▌      | 72/200 [2:46:28<2:36:24, 73.31s/it]"
     ]
    },
    {
     "name": "stderr",
     "output_type": "stream",
     "text": [
      "\r",
      "OMP Test Batch for noise_level = 0.14:  36%|███▋      | 73/200 [2:46:16<2:29:06, 70.45s/it]"
     ]
    },
    {
     "name": "stderr",
     "output_type": "stream",
     "text": [
      "\r",
      "OMP Test Batch for noise_level = 0.05:  35%|███▌      | 70/200 [2:46:25<2:33:23, 70.80s/it]"
     ]
    },
    {
     "name": "stderr",
     "output_type": "stream",
     "text": [
      "\r",
      "OMP Test Batch for noise_level = 0.10:  37%|███▋      | 74/200 [2:46:31<2:00:51, 57.56s/it]"
     ]
    },
    {
     "name": "stderr",
     "output_type": "stream",
     "text": [
      "\r",
      "OMP Test Batch for noise_level = 0.16:  38%|███▊      | 77/200 [2:46:29<1:55:07, 56.15s/it]"
     ]
    },
    {
     "name": "stderr",
     "output_type": "stream",
     "text": [
      "\r",
      "OMP Test Batch for noise_level = 0.08:  34%|███▍      | 69/200 [2:46:36<2:33:43, 70.41s/it]"
     ]
    },
    {
     "name": "stderr",
     "output_type": "stream",
     "text": [
      "\r",
      "OMP Test Batch for noise_level = 0.03:  34%|███▍      | 69/200 [2:46:42<2:45:11, 75.66s/it]"
     ]
    },
    {
     "name": "stderr",
     "output_type": "stream",
     "text": [
      "\r",
      "OMP Test Batch for noise_level = 0.00:  36%|███▌      | 72/200 [2:46:53<2:21:30, 66.33s/it]"
     ]
    },
    {
     "name": "stderr",
     "output_type": "stream",
     "text": [
      "\r",
      "OMP Test Batch for noise_level = 0.20:  38%|███▊      | 75/200 [2:46:39<1:55:19, 55.36s/it]"
     ]
    },
    {
     "name": "stderr",
     "output_type": "stream",
     "text": [
      "\r",
      "OMP Test Batch for noise_level = 0.06:  36%|███▋      | 73/200 [2:47:00<2:29:10, 70.47s/it]"
     ]
    },
    {
     "name": "stderr",
     "output_type": "stream",
     "text": [
      "\r",
      "OMP Test Batch for noise_level = 0.09:  36%|███▌      | 71/200 [2:46:59<2:37:15, 73.15s/it]"
     ]
    },
    {
     "name": "stderr",
     "output_type": "stream",
     "text": [
      "\r",
      "OMP Test Batch for noise_level = 0.12:  37%|███▋      | 74/200 [2:46:57<2:28:35, 70.76s/it]"
     ]
    },
    {
     "name": "stderr",
     "output_type": "stream",
     "text": [
      "\r",
      "OMP Test Batch for noise_level = 0.02:  38%|███▊      | 75/200 [2:47:09<2:01:30, 58.32s/it]\r",
      "OMP Test Batch for noise_level = 0.04:  36%|███▌      | 72/200 [2:47:07<2:32:05, 71.29s/it]"
     ]
    },
    {
     "name": "stderr",
     "output_type": "stream",
     "text": [
      "\r",
      "OMP Test Batch for noise_level = 0.18:  40%|████      | 80/200 [2:47:09<1:50:53, 55.45s/it]"
     ]
    },
    {
     "name": "stderr",
     "output_type": "stream",
     "text": [
      "\r",
      "OMP Test Batch for noise_level = 0.07:  38%|███▊      | 75/200 [2:47:24<2:26:20, 70.24s/it]"
     ]
    },
    {
     "name": "stderr",
     "output_type": "stream",
     "text": [
      "\r",
      "OMP Test Batch for noise_level = 0.05:  36%|███▌      | 71/200 [2:47:32<2:29:44, 69.65s/it]"
     ]
    },
    {
     "name": "stderr",
     "output_type": "stream",
     "text": [
      "\r",
      "OMP Test Batch for noise_level = 0.01:  36%|███▋      | 73/200 [2:47:37<2:32:41, 72.14s/it]"
     ]
    },
    {
     "name": "stderr",
     "output_type": "stream",
     "text": [
      "\r",
      "OMP Test Batch for noise_level = 0.10:  38%|███▊      | 75/200 [2:47:27<1:59:21, 57.29s/it]"
     ]
    },
    {
     "name": "stderr",
     "output_type": "stream",
     "text": [
      "\r",
      "OMP Test Batch for noise_level = 0.16:  39%|███▉      | 78/200 [2:47:27<1:55:04, 56.59s/it]"
     ]
    },
    {
     "name": "stderr",
     "output_type": "stream",
     "text": [
      "\r",
      "OMP Test Batch for noise_level = 0.03:  35%|███▌      | 70/200 [2:47:39<2:31:35, 69.97s/it]"
     ]
    },
    {
     "name": "stderr",
     "output_type": "stream",
     "text": [
      "\r",
      "OMP Test Batch for noise_level = 0.14:  37%|███▋      | 74/200 [2:47:33<2:31:46, 72.27s/it]"
     ]
    },
    {
     "name": "stderr",
     "output_type": "stream",
     "text": [
      "\r",
      "OMP Test Batch for noise_level = 0.20:  38%|███▊      | 76/200 [2:47:32<1:52:45, 54.56s/it]"
     ]
    },
    {
     "name": "stderr",
     "output_type": "stream",
     "text": [
      "\r",
      "OMP Test Batch for noise_level = 0.00:  36%|███▋      | 73/200 [2:47:53<2:16:17, 64.39s/it]"
     ]
    },
    {
     "name": "stderr",
     "output_type": "stream",
     "text": [
      "\r",
      "OMP Test Batch for noise_level = 0.08:  35%|███▌      | 70/200 [2:47:46<2:32:34, 70.42s/it]"
     ]
    },
    {
     "name": "stderr",
     "output_type": "stream",
     "text": [
      "\r",
      "OMP Test Batch for noise_level = 0.02:  38%|███▊      | 76/200 [2:48:06<1:59:47, 57.96s/it]"
     ]
    },
    {
     "name": "stderr",
     "output_type": "stream",
     "text": [
      "\r",
      "OMP Test Batch for noise_level = 0.18:  40%|████      | 81/200 [2:48:00<1:47:13, 54.06s/it]"
     ]
    },
    {
     "name": "stderr",
     "output_type": "stream",
     "text": [
      "\r",
      "OMP Test Batch for noise_level = 0.09:  36%|███▌      | 72/200 [2:48:10<2:34:40, 72.50s/it]"
     ]
    },
    {
     "name": "stderr",
     "output_type": "stream",
     "text": [
      "\r",
      "OMP Test Batch for noise_level = 0.12:  38%|███▊      | 75/200 [2:48:11<2:29:18, 71.67s/it]"
     ]
    },
    {
     "name": "stderr",
     "output_type": "stream",
     "text": [
      "\r",
      "OMP Test Batch for noise_level = 0.06:  37%|███▋      | 74/200 [2:48:21<2:34:35, 73.61s/it]"
     ]
    },
    {
     "name": "stderr",
     "output_type": "stream",
     "text": [
      "\r",
      "OMP Test Batch for noise_level = 0.04:  36%|███▋      | 73/200 [2:48:29<2:37:50, 74.57s/it]\r",
      "OMP Test Batch for noise_level = 0.16:  40%|███▉      | 79/200 [2:48:20<1:52:11, 55.63s/it]"
     ]
    },
    {
     "name": "stderr",
     "output_type": "stream",
     "text": [
      "\r",
      "OMP Test Batch for noise_level = 0.10:  38%|███▊      | 76/200 [2:48:26<1:59:13, 57.69s/it]"
     ]
    },
    {
     "name": "stderr",
     "output_type": "stream",
     "text": [
      "\r",
      "OMP Test Batch for noise_level = 0.03:  36%|███▌      | 71/200 [2:48:34<2:21:14, 65.69s/it]"
     ]
    },
    {
     "name": "stderr",
     "output_type": "stream",
     "text": [
      "\r",
      "OMP Test Batch for noise_level = 0.20:  38%|███▊      | 77/200 [2:48:25<1:51:11, 54.24s/it]"
     ]
    },
    {
     "name": "stderr",
     "output_type": "stream",
     "text": [
      "\r",
      "OMP Test Batch for noise_level = 0.05:  36%|███▌      | 72/200 [2:48:40<2:27:51, 69.31s/it]"
     ]
    },
    {
     "name": "stderr",
     "output_type": "stream",
     "text": [
      "\r",
      "OMP Test Batch for noise_level = 0.00:  37%|███▋      | 74/200 [2:48:49<2:09:53, 61.85s/it]"
     ]
    },
    {
     "name": "stderr",
     "output_type": "stream",
     "text": [
      "\r",
      "OMP Test Batch for noise_level = 0.01:  37%|███▋      | 74/200 [2:48:54<2:34:41, 73.66s/it]"
     ]
    },
    {
     "name": "stderr",
     "output_type": "stream",
     "text": [
      "\r",
      "OMP Test Batch for noise_level = 0.14:  38%|███▊      | 75/200 [2:48:45<2:30:11, 72.09s/it]"
     ]
    },
    {
     "name": "stderr",
     "output_type": "stream",
     "text": [
      "\r",
      "OMP Test Batch for noise_level = 0.07:  38%|███▊      | 76/200 [2:48:58<2:39:34, 77.21s/it]"
     ]
    },
    {
     "name": "stderr",
     "output_type": "stream",
     "text": [
      "\r",
      "OMP Test Batch for noise_level = 0.08:  36%|███▌      | 71/200 [2:49:01<2:34:24, 71.82s/it]"
     ]
    },
    {
     "name": "stderr",
     "output_type": "stream",
     "text": [
      "\r",
      "OMP Test Batch for noise_level = 0.18:  41%|████      | 82/200 [2:48:56<1:47:31, 54.68s/it]"
     ]
    },
    {
     "name": "stderr",
     "output_type": "stream",
     "text": [
      "\r",
      "OMP Test Batch for noise_level = 0.02:  38%|███▊      | 77/200 [2:49:21<2:09:07, 62.99s/it]"
     ]
    },
    {
     "name": "stderr",
     "output_type": "stream",
     "text": [
      "\r",
      "OMP Test Batch for noise_level = 0.03:  36%|███▌      | 72/200 [2:49:23<2:09:19, 60.62s/it]"
     ]
    },
    {
     "name": "stderr",
     "output_type": "stream",
     "text": [
      "\r",
      "OMP Test Batch for noise_level = 0.16:  40%|████      | 80/200 [2:49:14<1:50:06, 55.05s/it]"
     ]
    },
    {
     "name": "stderr",
     "output_type": "stream",
     "text": [
      "\r",
      "OMP Test Batch for noise_level = 0.10:  38%|███▊      | 77/200 [2:49:20<1:55:49, 56.50s/it]"
     ]
    },
    {
     "name": "stderr",
     "output_type": "stream",
     "text": [
      "\r",
      "OMP Test Batch for noise_level = 0.20:  39%|███▉      | 78/200 [2:49:17<1:48:48, 53.52s/it]"
     ]
    },
    {
     "name": "stderr",
     "output_type": "stream",
     "text": [
      "\r",
      "OMP Test Batch for noise_level = 0.12:  38%|███▊      | 76/200 [2:49:23<2:28:13, 71.72s/it]"
     ]
    },
    {
     "name": "stderr",
     "output_type": "stream",
     "text": [
      "\r",
      "OMP Test Batch for noise_level = 0.09:  36%|███▋      | 73/200 [2:49:30<2:38:26, 74.85s/it]"
     ]
    },
    {
     "name": "stderr",
     "output_type": "stream",
     "text": [
      "\r",
      "OMP Test Batch for noise_level = 0.00:  38%|███▊      | 75/200 [2:49:45<2:05:12, 60.10s/it]"
     ]
    },
    {
     "name": "stderr",
     "output_type": "stream",
     "text": [
      "\r",
      "OMP Test Batch for noise_level = 0.06:  38%|███▊      | 75/200 [2:49:40<2:36:58, 75.35s/it]"
     ]
    },
    {
     "name": "stderr",
     "output_type": "stream",
     "text": [
      "\r",
      "OMP Test Batch for noise_level = 0.04:  37%|███▋      | 74/200 [2:49:46<2:37:36, 75.06s/it]"
     ]
    },
    {
     "name": "stderr",
     "output_type": "stream",
     "text": [
      "\r",
      "OMP Test Batch for noise_level = 0.18:  42%|████▏     | 83/200 [2:49:45<1:43:12, 52.93s/it]"
     ]
    },
    {
     "name": "stderr",
     "output_type": "stream",
     "text": [
      "\r",
      "OMP Test Batch for noise_level = 0.05:  36%|███▋      | 73/200 [2:50:02<2:34:30, 73.00s/it]"
     ]
    },
    {
     "name": "stderr",
     "output_type": "stream",
     "text": [
      "\r",
      "OMP Test Batch for noise_level = 0.01:  38%|███▊      | 75/200 [2:50:09<2:34:09, 74.00s/it]"
     ]
    },
    {
     "name": "stderr",
     "output_type": "stream",
     "text": [
      "\r",
      "OMP Test Batch for noise_level = 0.14:  38%|███▊      | 76/200 [2:50:04<2:33:13, 74.14s/it]"
     ]
    },
    {
     "name": "stderr",
     "output_type": "stream",
     "text": [
      "\r",
      "OMP Test Batch for noise_level = 0.03:  36%|███▋      | 73/200 [2:50:14<2:02:03, 57.67s/it]"
     ]
    },
    {
     "name": "stderr",
     "output_type": "stream",
     "text": [
      "\r",
      "OMP Test Batch for noise_level = 0.20:  40%|███▉      | 79/200 [2:50:03<1:43:26, 51.29s/it]"
     ]
    },
    {
     "name": "stderr",
     "output_type": "stream",
     "text": [
      "\r",
      "OMP Test Batch for noise_level = 0.16:  40%|████      | 81/200 [2:50:07<1:47:56, 54.42s/it]"
     ]
    },
    {
     "name": "stderr",
     "output_type": "stream",
     "text": [
      "\r",
      "OMP Test Batch for noise_level = 0.10:  39%|███▉      | 78/200 [2:50:13<1:52:50, 55.50s/it]"
     ]
    },
    {
     "name": "stderr",
     "output_type": "stream",
     "text": [
      "\r",
      "OMP Test Batch for noise_level = 0.07:  38%|███▊      | 77/200 [2:50:18<2:39:50, 77.97s/it]"
     ]
    },
    {
     "name": "stderr",
     "output_type": "stream",
     "text": [
      "\r",
      "OMP Test Batch for noise_level = 0.08:  36%|███▌      | 72/200 [2:50:24<2:39:58, 74.99s/it]"
     ]
    },
    {
     "name": "stderr",
     "output_type": "stream",
     "text": [
      "\r",
      "OMP Test Batch for noise_level = 0.00:  38%|███▊      | 76/200 [2:50:40<2:01:15, 58.67s/it]"
     ]
    },
    {
     "name": "stderr",
     "output_type": "stream",
     "text": [
      "\r",
      "OMP Test Batch for noise_level = 0.02:  39%|███▉      | 78/200 [2:50:39<2:17:24, 67.58s/it]"
     ]
    },
    {
     "name": "stderr",
     "output_type": "stream",
     "text": [
      "\r",
      "OMP Test Batch for noise_level = 0.12:  38%|███▊      | 77/200 [2:50:38<2:28:54, 72.64s/it]"
     ]
    },
    {
     "name": "stderr",
     "output_type": "stream",
     "text": [
      "\r",
      "OMP Test Batch for noise_level = 0.18:  42%|████▏     | 84/200 [2:50:36<1:40:55, 52.20s/it]"
     ]
    },
    {
     "name": "stderr",
     "output_type": "stream",
     "text": [
      "\r",
      "OMP Test Batch for noise_level = 0.20:  40%|████      | 80/200 [2:50:52<1:41:04, 50.53s/it]\r",
      "OMP Test Batch for noise_level = 0.04:  38%|███▊      | 75/200 [2:51:04<2:38:10, 75.92s/it]"
     ]
    },
    {
     "name": "stderr",
     "output_type": "stream",
     "text": [
      "\r",
      "OMP Test Batch for noise_level = 0.03:  37%|███▋      | 74/200 [2:51:07<1:58:05, 56.24s/it]"
     ]
    },
    {
     "name": "stderr",
     "output_type": "stream",
     "text": [
      "\r",
      "OMP Test Batch for noise_level = 0.10:  40%|███▉      | 79/200 [2:51:02<1:47:44, 53.42s/it]"
     ]
    },
    {
     "name": "stderr",
     "output_type": "stream",
     "text": [
      "\r",
      "OMP Test Batch for noise_level = 0.16:  41%|████      | 82/200 [2:50:59<1:45:59, 53.89s/it]"
     ]
    },
    {
     "name": "stderr",
     "output_type": "stream",
     "text": [
      "\r",
      "OMP Test Batch for noise_level = 0.09:  37%|███▋      | 74/200 [2:51:04<2:49:22, 80.65s/it]"
     ]
    },
    {
     "name": "stderr",
     "output_type": "stream",
     "text": [
      "\r",
      "OMP Test Batch for noise_level = 0.06:  38%|███▊      | 76/200 [2:51:07<2:43:12, 78.97s/it]"
     ]
    },
    {
     "name": "stderr",
     "output_type": "stream",
     "text": [
      "\r",
      "OMP Test Batch for noise_level = 0.01:  38%|███▊      | 76/200 [2:51:29<2:36:34, 75.77s/it]"
     ]
    },
    {
     "name": "stderr",
     "output_type": "stream",
     "text": [
      "\r",
      "OMP Test Batch for noise_level = 0.05:  37%|███▋      | 74/200 [2:51:28<2:41:26, 76.87s/it]"
     ]
    },
    {
     "name": "stderr",
     "output_type": "stream",
     "text": [
      "\r",
      "OMP Test Batch for noise_level = 0.00:  38%|███▊      | 77/200 [2:51:36<1:58:31, 57.82s/it]"
     ]
    },
    {
     "name": "stderr",
     "output_type": "stream",
     "text": [
      "\r",
      "OMP Test Batch for noise_level = 0.14:  38%|███▊      | 77/200 [2:51:24<2:35:46, 75.99s/it]"
     ]
    },
    {
     "name": "stderr",
     "output_type": "stream",
     "text": [
      "\r",
      "OMP Test Batch for noise_level = 0.18:  42%|████▎     | 85/200 [2:51:25<1:38:10, 51.22s/it]"
     ]
    },
    {
     "name": "stderr",
     "output_type": "stream",
     "text": [
      "\r",
      "OMP Test Batch for noise_level = 0.07:  39%|███▉      | 78/200 [2:51:33<2:37:07, 77.27s/it]"
     ]
    },
    {
     "name": "stderr",
     "output_type": "stream",
     "text": [
      "\r",
      "OMP Test Batch for noise_level = 0.08:  36%|███▋      | 73/200 [2:51:40<2:39:21, 75.29s/it]"
     ]
    },
    {
     "name": "stderr",
     "output_type": "stream",
     "text": [
      "\r",
      "OMP Test Batch for noise_level = 0.20:  40%|████      | 81/200 [2:51:39<1:37:56, 49.38s/it]"
     ]
    },
    {
     "name": "stderr",
     "output_type": "stream",
     "text": [
      "\r",
      "OMP Test Batch for noise_level = 0.02:  40%|███▉      | 79/200 [2:51:58<2:23:06, 70.96s/it]"
     ]
    },
    {
     "name": "stderr",
     "output_type": "stream",
     "text": [
      "\r",
      "OMP Test Batch for noise_level = 0.10:  40%|████      | 80/200 [2:51:53<1:45:40, 52.84s/it]"
     ]
    },
    {
     "name": "stderr",
     "output_type": "stream",
     "text": [
      "\r",
      "OMP Test Batch for noise_level = 0.12:  39%|███▉      | 78/200 [2:51:55<2:30:29, 74.01s/it]\r",
      "OMP Test Batch for noise_level = 0.16:  42%|████▏     | 83/200 [2:51:53<1:44:50, 53.76s/it]"
     ]
    },
    {
     "name": "stderr",
     "output_type": "stream",
     "text": [
      "\r",
      "OMP Test Batch for noise_level = 0.03:  38%|███▊      | 75/200 [2:52:17<2:05:51, 60.41s/it]"
     ]
    },
    {
     "name": "stderr",
     "output_type": "stream",
     "text": [
      "\r",
      "OMP Test Batch for noise_level = 0.04:  38%|███▊      | 76/200 [2:52:17<2:35:24, 75.20s/it]"
     ]
    },
    {
     "name": "stderr",
     "output_type": "stream",
     "text": [
      "\r",
      "OMP Test Batch for noise_level = 0.00:  39%|███▉      | 78/200 [2:52:33<1:56:49, 57.45s/it]"
     ]
    },
    {
     "name": "stderr",
     "output_type": "stream",
     "text": [
      "\r",
      "OMP Test Batch for noise_level = 0.18:  43%|████▎     | 86/200 [2:52:18<1:38:42, 51.96s/it]"
     ]
    },
    {
     "name": "stderr",
     "output_type": "stream",
     "text": [
      "\r",
      "OMP Test Batch for noise_level = 0.09:  38%|███▊      | 75/200 [2:52:26<2:49:08, 81.19s/it]"
     ]
    },
    {
     "name": "stderr",
     "output_type": "stream",
     "text": [
      "\r",
      "OMP Test Batch for noise_level = 0.07:  40%|███▉      | 79/200 [2:52:36<2:26:46, 72.78s/it]"
     ]
    },
    {
     "name": "stderr",
     "output_type": "stream",
     "text": [
      "\r",
      "OMP Test Batch for noise_level = 0.01:  38%|███▊      | 77/200 [2:52:45<2:35:44, 75.97s/it]"
     ]
    },
    {
     "name": "stderr",
     "output_type": "stream",
     "text": [
      "\r",
      "OMP Test Batch for noise_level = 0.20:  41%|████      | 82/200 [2:52:33<1:39:59, 50.85s/it]"
     ]
    },
    {
     "name": "stderr",
     "output_type": "stream",
     "text": [
      "\r",
      "OMP Test Batch for noise_level = 0.14:  39%|███▉      | 78/200 [2:52:37<2:32:56, 75.22s/it]"
     ]
    },
    {
     "name": "stderr",
     "output_type": "stream",
     "text": [
      "\r",
      "OMP Test Batch for noise_level = 0.10:  40%|████      | 81/200 [2:52:45<1:44:20, 52.61s/it]"
     ]
    },
    {
     "name": "stderr",
     "output_type": "stream",
     "text": [
      "\r",
      "OMP Test Batch for noise_level = 0.06:  38%|███▊      | 77/200 [2:52:50<2:56:40, 86.18s/it]"
     ]
    },
    {
     "name": "stderr",
     "output_type": "stream",
     "text": [
      "\r",
      "OMP Test Batch for noise_level = 0.08:  37%|███▋      | 74/200 [2:52:52<2:36:16, 74.42s/it]"
     ]
    },
    {
     "name": "stderr",
     "output_type": "stream",
     "text": [
      "\r",
      "OMP Test Batch for noise_level = 0.16:  42%|████▏     | 84/200 [2:52:47<1:44:12, 53.90s/it]"
     ]
    },
    {
     "name": "stderr",
     "output_type": "stream",
     "text": [
      "\r",
      "OMP Test Batch for noise_level = 0.05:  38%|███▊      | 75/200 [2:53:01<2:50:26, 81.81s/it]"
     ]
    },
    {
     "name": "stderr",
     "output_type": "stream",
     "text": [
      "\r",
      "OMP Test Batch for noise_level = 0.03:  38%|███▊      | 76/200 [2:53:07<1:58:32, 57.36s/it]"
     ]
    },
    {
     "name": "stderr",
     "output_type": "stream",
     "text": [
      "\r",
      "OMP Test Batch for noise_level = 0.02:  40%|████      | 80/200 [2:53:09<2:21:35, 70.79s/it]"
     ]
    },
    {
     "name": "stderr",
     "output_type": "stream",
     "text": [
      "\r",
      "OMP Test Batch for noise_level = 0.12:  40%|███▉      | 79/200 [2:53:10<2:30:14, 74.50s/it]"
     ]
    },
    {
     "name": "stderr",
     "output_type": "stream",
     "text": [
      "\r",
      "OMP Test Batch for noise_level = 0.20:  42%|████▏     | 83/200 [2:53:20<1:36:53, 49.69s/it]"
     ]
    },
    {
     "name": "stderr",
     "output_type": "stream",
     "text": [
      "\r",
      "OMP Test Batch for noise_level = 0.00:  40%|███▉      | 79/200 [2:53:37<2:00:24, 59.70s/it]"
     ]
    },
    {
     "name": "stderr",
     "output_type": "stream",
     "text": [
      "\r",
      "OMP Test Batch for noise_level = 0.18:  44%|████▎     | 87/200 [2:53:26<1:46:32, 56.57s/it]"
     ]
    },
    {
     "name": "stderr",
     "output_type": "stream",
     "text": [
      "\r",
      "OMP Test Batch for noise_level = 0.04:  38%|███▊      | 77/200 [2:53:41<2:39:24, 77.76s/it]"
     ]
    },
    {
     "name": "stderr",
     "output_type": "stream",
     "text": [
      "\r",
      "OMP Test Batch for noise_level = 0.16:  42%|████▎     | 85/200 [2:53:35<1:40:14, 52.30s/it]"
     ]
    },
    {
     "name": "stderr",
     "output_type": "stream",
     "text": [
      "\r",
      "OMP Test Batch for noise_level = 0.10:  41%|████      | 82/200 [2:53:39<1:44:14, 53.00s/it]"
     ]
    },
    {
     "name": "stderr",
     "output_type": "stream",
     "text": [
      "\r",
      "OMP Test Batch for noise_level = 0.09:  38%|███▊      | 76/200 [2:53:44<2:45:26, 80.05s/it]"
     ]
    },
    {
     "name": "stderr",
     "output_type": "stream",
     "text": [
      "\r",
      "OMP Test Batch for noise_level = 0.07:  40%|████      | 80/200 [2:53:50<2:26:46, 73.39s/it]"
     ]
    },
    {
     "name": "stderr",
     "output_type": "stream",
     "text": [
      "\r",
      "OMP Test Batch for noise_level = 0.03:  38%|███▊      | 77/200 [2:53:59<1:53:55, 55.58s/it]\r",
      "OMP Test Batch for noise_level = 0.02:  40%|████      | 81/200 [2:54:00<2:08:44, 64.91s/it]"
     ]
    },
    {
     "name": "stderr",
     "output_type": "stream",
     "text": [
      "\r",
      "OMP Test Batch for noise_level = 0.01:  39%|███▉      | 78/200 [2:54:07<2:37:42, 77.56s/it]"
     ]
    },
    {
     "name": "stderr",
     "output_type": "stream",
     "text": [
      "\r",
      "OMP Test Batch for noise_level = 0.14:  40%|███▉      | 79/200 [2:53:56<2:33:54, 76.32s/it]"
     ]
    },
    {
     "name": "stderr",
     "output_type": "stream",
     "text": [
      "\r",
      "OMP Test Batch for noise_level = 0.08:  38%|███▊      | 75/200 [2:54:08<2:36:04, 74.92s/it]"
     ]
    },
    {
     "name": "stderr",
     "output_type": "stream",
     "text": [
      "\r",
      "OMP Test Batch for noise_level = 0.06:  39%|███▉      | 78/200 [2:54:16<2:54:49, 85.98s/it]"
     ]
    },
    {
     "name": "stderr",
     "output_type": "stream",
     "text": [
      "\r",
      "OMP Test Batch for noise_level = 0.20:  42%|████▏     | 84/200 [2:54:10<1:36:22, 49.85s/it]"
     ]
    },
    {
     "name": "stderr",
     "output_type": "stream",
     "text": [
      "\r",
      "OMP Test Batch for noise_level = 0.05:  38%|███▊      | 76/200 [2:54:24<2:49:29, 82.01s/it]"
     ]
    },
    {
     "name": "stderr",
     "output_type": "stream",
     "text": [
      "\r",
      "OMP Test Batch for noise_level = 0.18:  44%|████▍     | 88/200 [2:54:17<1:42:43, 55.03s/it]"
     ]
    },
    {
     "name": "stderr",
     "output_type": "stream",
     "text": [
      "\r",
      "OMP Test Batch for noise_level = 0.00:  40%|████      | 80/200 [2:54:35<1:58:07, 59.06s/it]"
     ]
    },
    {
     "name": "stderr",
     "output_type": "stream",
     "text": [
      "\r",
      "OMP Test Batch for noise_level = 0.12:  40%|████      | 80/200 [2:54:31<2:32:45, 76.38s/it]"
     ]
    },
    {
     "name": "stderr",
     "output_type": "stream",
     "text": [
      "\r",
      "OMP Test Batch for noise_level = 0.16:  43%|████▎     | 86/200 [2:54:30<1:40:51, 53.08s/it]"
     ]
    },
    {
     "name": "stderr",
     "output_type": "stream",
     "text": [
      "\r",
      "OMP Test Batch for noise_level = 0.10:  42%|████▏     | 83/200 [2:54:36<1:45:47, 54.25s/it]"
     ]
    },
    {
     "name": "stderr",
     "output_type": "stream",
     "text": [
      "\r",
      "OMP Test Batch for noise_level = 0.03:  39%|███▉      | 78/200 [2:54:47<1:48:27, 53.34s/it]"
     ]
    },
    {
     "name": "stderr",
     "output_type": "stream",
     "text": [
      "\r",
      "OMP Test Batch for noise_level = 0.02:  41%|████      | 82/200 [2:54:56<2:02:28, 62.27s/it]"
     ]
    },
    {
     "name": "stderr",
     "output_type": "stream",
     "text": [
      "\r",
      "OMP Test Batch for noise_level = 0.04:  39%|███▉      | 78/200 [2:55:01<2:39:51, 78.62s/it]"
     ]
    },
    {
     "name": "stderr",
     "output_type": "stream",
     "text": [
      "\r",
      "OMP Test Batch for noise_level = 0.09:  38%|███▊      | 77/200 [2:55:00<2:41:30, 78.78s/it]"
     ]
    },
    {
     "name": "stderr",
     "output_type": "stream",
     "text": [
      "\r",
      "OMP Test Batch for noise_level = 0.07:  40%|████      | 81/200 [2:55:08<2:28:06, 74.68s/it]"
     ]
    },
    {
     "name": "stderr",
     "output_type": "stream",
     "text": [
      "\r",
      "OMP Test Batch for noise_level = 0.20:  42%|████▎     | 85/200 [2:55:01<1:36:19, 50.25s/it]"
     ]
    },
    {
     "name": "stderr",
     "output_type": "stream",
     "text": [
      "\r",
      "OMP Test Batch for noise_level = 0.08:  38%|███▊      | 76/200 [2:55:20<2:32:42, 73.89s/it]"
     ]
    },
    {
     "name": "stderr",
     "output_type": "stream",
     "text": [
      "\r",
      "OMP Test Batch for noise_level = 0.01:  40%|███▉      | 79/200 [2:55:28<2:38:28, 78.58s/it]"
     ]
    },
    {
     "name": "stderr",
     "output_type": "stream",
     "text": [
      "\r",
      "OMP Test Batch for noise_level = 0.14:  40%|████      | 80/200 [2:55:18<2:35:49, 77.91s/it]"
     ]
    },
    {
     "name": "stderr",
     "output_type": "stream",
     "text": [
      "\r",
      "OMP Test Batch for noise_level = 0.00:  40%|████      | 81/200 [2:55:31<1:55:23, 58.18s/it]"
     ]
    },
    {
     "name": "stderr",
     "output_type": "stream",
     "text": [
      "\r",
      "OMP Test Batch for noise_level = 0.18:  44%|████▍     | 89/200 [2:55:18<1:44:54, 56.71s/it]"
     ]
    },
    {
     "name": "stderr",
     "output_type": "stream",
     "text": [
      "\r",
      "OMP Test Batch for noise_level = 0.16:  44%|████▎     | 87/200 [2:55:22<1:38:56, 52.54s/it]"
     ]
    },
    {
     "name": "stderr",
     "output_type": "stream",
     "text": [
      "\r",
      "OMP Test Batch for noise_level = 0.10:  42%|████▏     | 84/200 [2:55:29<1:44:11, 53.89s/it]"
     ]
    },
    {
     "name": "stderr",
     "output_type": "stream",
     "text": [
      "\r",
      "OMP Test Batch for noise_level = 0.06:  40%|███▉      | 79/200 [2:55:38<2:51:06, 84.84s/it]"
     ]
    },
    {
     "name": "stderr",
     "output_type": "stream",
     "text": [
      "\r",
      "OMP Test Batch for noise_level = 0.05:  38%|███▊      | 77/200 [2:55:40<2:44:43, 80.35s/it]"
     ]
    },
    {
     "name": "stderr",
     "output_type": "stream",
     "text": [
      "\r",
      "OMP Test Batch for noise_level = 0.03:  40%|███▉      | 79/200 [2:55:42<1:48:56, 54.02s/it]"
     ]
    },
    {
     "name": "stderr",
     "output_type": "stream",
     "text": [
      "\r",
      "OMP Test Batch for noise_level = 0.02:  42%|████▏     | 83/200 [2:55:51<1:57:23, 60.20s/it]"
     ]
    },
    {
     "name": "stderr",
     "output_type": "stream",
     "text": [
      "\r",
      "OMP Test Batch for noise_level = 0.12:  40%|████      | 81/200 [2:55:44<2:29:32, 75.40s/it]"
     ]
    },
    {
     "name": "stderr",
     "output_type": "stream",
     "text": [
      "\r",
      "OMP Test Batch for noise_level = 0.20:  43%|████▎     | 86/200 [2:55:53<1:36:17, 50.68s/it]"
     ]
    },
    {
     "name": "stderr",
     "output_type": "stream",
     "text": [
      "\r",
      "OMP Test Batch for noise_level = 0.18:  45%|████▌     | 90/200 [2:56:10<1:41:40, 55.46s/it]"
     ]
    },
    {
     "name": "stderr",
     "output_type": "stream",
     "text": [
      "\r",
      "OMP Test Batch for noise_level = 0.04:  40%|███▉      | 79/200 [2:56:22<2:39:36, 79.15s/it]"
     ]
    },
    {
     "name": "stderr",
     "output_type": "stream",
     "text": [
      "\r",
      "OMP Test Batch for noise_level = 0.00:  41%|████      | 82/200 [2:56:27<1:53:00, 57.46s/it]"
     ]
    },
    {
     "name": "stderr",
     "output_type": "stream",
     "text": [
      "\r",
      "OMP Test Batch for noise_level = 0.10:  42%|████▎     | 85/200 [2:56:20<1:41:42, 53.07s/it]"
     ]
    },
    {
     "name": "stderr",
     "output_type": "stream",
     "text": [
      "\r",
      "OMP Test Batch for noise_level = 0.09:  39%|███▉      | 78/200 [2:56:26<2:44:54, 81.10s/it]"
     ]
    },
    {
     "name": "stderr",
     "output_type": "stream",
     "text": [
      "\r",
      "OMP Test Batch for noise_level = 0.07:  41%|████      | 82/200 [2:56:29<2:30:33, 76.56s/it]"
     ]
    },
    {
     "name": "stderr",
     "output_type": "stream",
     "text": [
      "\r",
      "OMP Test Batch for noise_level = 0.03:  40%|████      | 80/200 [2:56:33<1:46:16, 53.14s/it]"
     ]
    },
    {
     "name": "stderr",
     "output_type": "stream",
     "text": [
      "\r",
      "OMP Test Batch for noise_level = 0.16:  44%|████▍     | 88/200 [2:56:23<1:43:09, 55.26s/it]"
     ]
    },
    {
     "name": "stderr",
     "output_type": "stream",
     "text": [
      "\r",
      "OMP Test Batch for noise_level = 0.01:  40%|████      | 80/200 [2:56:45<2:36:22, 78.19s/it]"
     ]
    },
    {
     "name": "stderr",
     "output_type": "stream",
     "text": [
      "\r",
      "OMP Test Batch for noise_level = 0.08:  38%|███▊      | 77/200 [2:56:39<2:34:51, 75.54s/it]"
     ]
    },
    {
     "name": "stderr",
     "output_type": "stream",
     "text": [
      "\r",
      "OMP Test Batch for noise_level = 0.02:  42%|████▏     | 84/200 [2:56:46<1:53:16, 58.59s/it]"
     ]
    },
    {
     "name": "stderr",
     "output_type": "stream",
     "text": [
      "\r",
      "OMP Test Batch for noise_level = 0.14:  40%|████      | 81/200 [2:56:36<2:34:46, 78.04s/it]"
     ]
    },
    {
     "name": "stderr",
     "output_type": "stream",
     "text": [
      "\r",
      "OMP Test Batch for noise_level = 0.20:  44%|████▎     | 87/200 [2:56:42<1:34:17, 50.07s/it]"
     ]
    },
    {
     "name": "stderr",
     "output_type": "stream",
     "text": [
      "\r",
      "OMP Test Batch for noise_level = 0.06:  40%|████      | 80/200 [2:57:01<2:48:19, 84.16s/it]"
     ]
    },
    {
     "name": "stderr",
     "output_type": "stream",
     "text": [
      "\r",
      "OMP Test Batch for noise_level = 0.05:  39%|███▉      | 78/200 [2:57:02<2:44:36, 80.95s/it]"
     ]
    },
    {
     "name": "stderr",
     "output_type": "stream",
     "text": [
      "\r",
      "OMP Test Batch for noise_level = 0.12:  41%|████      | 82/200 [2:56:57<2:26:51, 74.67s/it]"
     ]
    },
    {
     "name": "stderr",
     "output_type": "stream",
     "text": [
      "\r",
      "OMP Test Batch for noise_level = 0.18:  46%|████▌     | 91/200 [2:57:01<1:38:09, 54.03s/it]\r",
      "OMP Test Batch for noise_level = 0.03:  40%|████      | 81/200 [2:57:13<1:37:04, 48.94s/it]"
     ]
    },
    {
     "name": "stderr",
     "output_type": "stream",
     "text": [
      "\r",
      "OMP Test Batch for noise_level = 0.00:  42%|████▏     | 83/200 [2:57:21<1:49:52, 56.34s/it]"
     ]
    },
    {
     "name": "stderr",
     "output_type": "stream",
     "text": [
      "\r",
      "OMP Test Batch for noise_level = 0.10:  43%|████▎     | 86/200 [2:57:13<1:40:49, 53.07s/it]"
     ]
    },
    {
     "name": "stderr",
     "output_type": "stream",
     "text": [
      "\r",
      "OMP Test Batch for noise_level = 0.02:  42%|████▎     | 85/200 [2:57:37<1:47:54, 56.30s/it]"
     ]
    },
    {
     "name": "stderr",
     "output_type": "stream",
     "text": [
      "\r",
      "OMP Test Batch for noise_level = 0.04:  40%|████      | 80/200 [2:57:37<2:36:07, 78.06s/it]"
     ]
    },
    {
     "name": "stderr",
     "output_type": "stream",
     "text": [
      "\r",
      "OMP Test Batch for noise_level = 0.16:  44%|████▍     | 89/200 [2:57:29<1:48:10, 58.48s/it]"
     ]
    },
    {
     "name": "stderr",
     "output_type": "stream",
     "text": [
      "\r",
      "OMP Test Batch for noise_level = 0.09:  40%|███▉      | 79/200 [2:57:39<2:38:15, 78.47s/it]"
     ]
    },
    {
     "name": "stderr",
     "output_type": "stream",
     "text": [
      "\r",
      "OMP Test Batch for noise_level = 0.20:  44%|████▍     | 88/200 [2:57:38<1:36:51, 51.89s/it]"
     ]
    },
    {
     "name": "stderr",
     "output_type": "stream",
     "text": [
      "\r",
      "OMP Test Batch for noise_level = 0.07:  42%|████▏     | 83/200 [2:57:47<2:30:23, 77.12s/it]"
     ]
    },
    {
     "name": "stderr",
     "output_type": "stream",
     "text": [
      "\r",
      "OMP Test Batch for noise_level = 0.01:  40%|████      | 81/200 [2:57:58<2:32:08, 76.71s/it]"
     ]
    },
    {
     "name": "stderr",
     "output_type": "stream",
     "text": [
      "\r",
      "OMP Test Batch for noise_level = 0.14:  41%|████      | 82/200 [2:57:48<2:29:42, 76.12s/it]"
     ]
    },
    {
     "name": "stderr",
     "output_type": "stream",
     "text": [
      "\r",
      "OMP Test Batch for noise_level = 0.08:  39%|███▉      | 78/200 [2:57:58<2:35:46, 76.61s/it]"
     ]
    },
    {
     "name": "stderr",
     "output_type": "stream",
     "text": [
      "\r",
      "OMP Test Batch for noise_level = 0.18:  46%|████▌     | 92/200 [2:57:55<1:37:08, 53.97s/it]"
     ]
    },
    {
     "name": "stderr",
     "output_type": "stream",
     "text": [
      "\r",
      "OMP Test Batch for noise_level = 0.03:  41%|████      | 82/200 [2:58:09<1:40:45, 51.24s/it]"
     ]
    },
    {
     "name": "stderr",
     "output_type": "stream",
     "text": [
      "\r",
      "OMP Test Batch for noise_level = 0.10:  44%|████▎     | 87/200 [2:58:05<1:39:05, 52.61s/it]"
     ]
    },
    {
     "name": "stderr",
     "output_type": "stream",
     "text": [
      "\r",
      "OMP Test Batch for noise_level = 0.00:  42%|████▏     | 84/200 [2:58:17<1:49:08, 56.46s/it]"
     ]
    },
    {
     "name": "stderr",
     "output_type": "stream",
     "text": [
      "\r",
      "OMP Test Batch for noise_level = 0.12:  42%|████▏     | 83/200 [2:58:15<2:27:15, 75.52s/it]"
     ]
    },
    {
     "name": "stderr",
     "output_type": "stream",
     "text": [
      "\r",
      "OMP Test Batch for noise_level = 0.05:  40%|███▉      | 79/200 [2:58:26<2:44:36, 81.62s/it]"
     ]
    },
    {
     "name": "stderr",
     "output_type": "stream",
     "text": [
      "\r",
      "OMP Test Batch for noise_level = 0.06:  40%|████      | 81/200 [2:58:27<2:48:16, 84.84s/it]"
     ]
    },
    {
     "name": "stderr",
     "output_type": "stream",
     "text": [
      "\r",
      "OMP Test Batch for noise_level = 0.02:  43%|████▎     | 86/200 [2:58:33<1:47:05, 56.36s/it]"
     ]
    },
    {
     "name": "stderr",
     "output_type": "stream",
     "text": [
      "\r",
      "OMP Test Batch for noise_level = 0.20:  44%|████▍     | 89/200 [2:58:25<1:33:39, 50.63s/it]"
     ]
    },
    {
     "name": "stderr",
     "output_type": "stream",
     "text": [
      "\r",
      "OMP Test Batch for noise_level = 0.18:  46%|████▋     | 93/200 [2:58:44<1:33:38, 52.51s/it]"
     ]
    },
    {
     "name": "stderr",
     "output_type": "stream",
     "text": [
      "\r",
      "OMP Test Batch for noise_level = 0.16:  45%|████▌     | 90/200 [2:58:49<1:58:59, 64.91s/it]"
     ]
    },
    {
     "name": "stderr",
     "output_type": "stream",
     "text": [
      "\r",
      "OMP Test Batch for noise_level = 0.03:  42%|████▏     | 83/200 [2:59:01<1:40:10, 51.37s/it]"
     ]
    },
    {
     "name": "stderr",
     "output_type": "stream",
     "text": [
      "\r",
      "OMP Test Batch for noise_level = 0.10:  44%|████▍     | 88/200 [2:58:54<1:36:27, 51.67s/it]"
     ]
    },
    {
     "name": "stderr",
     "output_type": "stream",
     "text": [
      "\r",
      "OMP Test Batch for noise_level = 0.04:  40%|████      | 81/200 [2:59:04<2:40:02, 80.69s/it]"
     ]
    },
    {
     "name": "stderr",
     "output_type": "stream",
     "text": [
      "\r",
      "OMP Test Batch for noise_level = 0.09:  40%|████      | 80/200 [2:59:00<2:38:41, 79.35s/it]"
     ]
    },
    {
     "name": "stderr",
     "output_type": "stream",
     "text": [
      "\r",
      "OMP Test Batch for noise_level = 0.14:  42%|████▏     | 83/200 [2:58:59<2:25:30, 74.62s/it]"
     ]
    },
    {
     "name": "stderr",
     "output_type": "stream",
     "text": [
      "\r",
      "OMP Test Batch for noise_level = 0.00:  42%|████▎     | 85/200 [2:59:13<1:47:57, 56.33s/it]"
     ]
    },
    {
     "name": "stderr",
     "output_type": "stream",
     "text": [
      "\r",
      "OMP Test Batch for noise_level = 0.07:  42%|████▏     | 84/200 [2:59:09<2:31:48, 78.52s/it]"
     ]
    },
    {
     "name": "stderr",
     "output_type": "stream",
     "text": [
      "\r",
      "OMP Test Batch for noise_level = 0.01:  41%|████      | 82/200 [2:59:21<2:34:36, 78.61s/it]"
     ]
    },
    {
     "name": "stderr",
     "output_type": "stream",
     "text": [
      "\r",
      "OMP Test Batch for noise_level = 0.08:  40%|███▉      | 79/200 [2:59:20<2:37:29, 78.10s/it]"
     ]
    },
    {
     "name": "stderr",
     "output_type": "stream",
     "text": [
      "\r",
      "OMP Test Batch for noise_level = 0.02:  44%|████▎     | 87/200 [2:59:27<1:44:44, 55.62s/it]"
     ]
    },
    {
     "name": "stderr",
     "output_type": "stream",
     "text": [
      "\r",
      "OMP Test Batch for noise_level = 0.12:  42%|████▏     | 84/200 [2:59:21<2:20:35, 72.72s/it]"
     ]
    },
    {
     "name": "stderr",
     "output_type": "stream",
     "text": [
      "\r",
      "OMP Test Batch for noise_level = 0.20:  45%|████▌     | 90/200 [2:59:20<1:34:59, 51.82s/it]"
     ]
    },
    {
     "name": "stderr",
     "output_type": "stream",
     "text": [
      "\r",
      "OMP Test Batch for noise_level = 0.06:  41%|████      | 82/200 [2:59:43<2:41:46, 82.26s/it]"
     ]
    },
    {
     "name": "stderr",
     "output_type": "stream",
     "text": [
      "\r",
      "OMP Test Batch for noise_level = 0.18:  47%|████▋     | 94/200 [2:59:36<1:32:23, 52.30s/it]"
     ]
    },
    {
     "name": "stderr",
     "output_type": "stream",
     "text": [
      "\r",
      "OMP Test Batch for noise_level = 0.03:  42%|████▏     | 84/200 [2:59:49<1:37:24, 50.38s/it]\r",
      "OMP Test Batch for noise_level = 0.05:  40%|████      | 80/200 [2:59:47<2:43:11, 81.59s/it]"
     ]
    },
    {
     "name": "stderr",
     "output_type": "stream",
     "text": [
      "\r",
      "OMP Test Batch for noise_level = 0.16:  46%|████▌     | 91/200 [2:59:43<1:51:39, 61.46s/it]"
     ]
    },
    {
     "name": "stderr",
     "output_type": "stream",
     "text": [
      "\r",
      "OMP Test Batch for noise_level = 0.10:  44%|████▍     | 89/200 [2:59:47<1:36:08, 51.97s/it]"
     ]
    },
    {
     "name": "stderr",
     "output_type": "stream",
     "text": [
      "\r",
      "OMP Test Batch for noise_level = 0.00:  43%|████▎     | 86/200 [3:00:11<1:47:45, 56.71s/it]"
     ]
    },
    {
     "name": "stderr",
     "output_type": "stream",
     "text": [
      "\r",
      "OMP Test Batch for noise_level = 0.09:  40%|████      | 81/200 [3:00:10<2:31:42, 76.49s/it]"
     ]
    },
    {
     "name": "stderr",
     "output_type": "stream",
     "text": [
      "\r",
      "OMP Test Batch for noise_level = 0.04:  41%|████      | 82/200 [3:00:19<2:35:18, 78.97s/it]"
     ]
    },
    {
     "name": "stderr",
     "output_type": "stream",
     "text": [
      "\r",
      "OMP Test Batch for noise_level = 0.20:  46%|████▌     | 91/200 [3:00:13<1:34:37, 52.09s/it]"
     ]
    },
    {
     "name": "stderr",
     "output_type": "stream",
     "text": [
      "\r",
      "OMP Test Batch for noise_level = 0.14:  42%|████▏     | 84/200 [3:00:17<2:26:12, 75.62s/it]"
     ]
    },
    {
     "name": "stderr",
     "output_type": "stream",
     "text": [
      "\r",
      "OMP Test Batch for noise_level = 0.02:  44%|████▍     | 88/200 [3:00:29<1:46:59, 57.32s/it]"
     ]
    },
    {
     "name": "stderr",
     "output_type": "stream",
     "text": [
      "\r",
      "OMP Test Batch for noise_level = 0.07:  42%|████▎     | 85/200 [3:00:25<2:29:01, 77.75s/it]"
     ]
    },
    {
     "name": "stderr",
     "output_type": "stream",
     "text": [
      "\r",
      "OMP Test Batch for noise_level = 0.01:  42%|████▏     | 83/200 [3:00:34<2:30:07, 76.98s/it]"
     ]
    },
    {
     "name": "stderr",
     "output_type": "stream",
     "text": [
      "\r",
      "OMP Test Batch for noise_level = 0.18:  48%|████▊     | 95/200 [3:00:30<1:32:38, 52.94s/it]"
     ]
    },
    {
     "name": "stderr",
     "output_type": "stream",
     "text": [
      "\r",
      "OMP Test Batch for noise_level = 0.08:  40%|████      | 80/200 [3:00:37<2:35:53, 77.94s/it]"
     ]
    },
    {
     "name": "stderr",
     "output_type": "stream",
     "text": [
      "\r",
      "OMP Test Batch for noise_level = 0.16:  46%|████▌     | 92/200 [3:00:35<1:45:57, 58.87s/it]"
     ]
    },
    {
     "name": "stderr",
     "output_type": "stream",
     "text": [
      "\r",
      "OMP Test Batch for noise_level = 0.03:  42%|████▎     | 85/200 [3:00:46<1:40:38, 52.51s/it]"
     ]
    },
    {
     "name": "stderr",
     "output_type": "stream",
     "text": [
      "\r",
      "OMP Test Batch for noise_level = 0.10:  45%|████▌     | 90/200 [3:00:40<1:35:52, 52.29s/it]"
     ]
    },
    {
     "name": "stderr",
     "output_type": "stream",
     "text": [
      "\r",
      "OMP Test Batch for noise_level = 0.00:  44%|████▎     | 87/200 [3:01:02<1:43:35, 55.00s/it]"
     ]
    },
    {
     "name": "stderr",
     "output_type": "stream",
     "text": [
      "\r",
      "OMP Test Batch for noise_level = 0.06:  42%|████▏     | 83/200 [3:00:57<2:35:02, 79.51s/it]"
     ]
    },
    {
     "name": "stderr",
     "output_type": "stream",
     "text": [
      "\r",
      "OMP Test Batch for noise_level = 0.12:  42%|████▎     | 85/200 [3:00:52<2:29:45, 78.14s/it]"
     ]
    },
    {
     "name": "stderr",
     "output_type": "stream",
     "text": [
      "\r",
      "OMP Test Batch for noise_level = 0.05:  40%|████      | 81/200 [3:01:05<2:39:19, 80.33s/it]"
     ]
    },
    {
     "name": "stderr",
     "output_type": "stream",
     "text": [
      "\r",
      "OMP Test Batch for noise_level = 0.20:  46%|████▌     | 92/200 [3:00:59<1:30:35, 50.33s/it]"
     ]
    },
    {
     "name": "stderr",
     "output_type": "stream",
     "text": [
      "\r",
      "OMP Test Batch for noise_level = 0.02:  44%|████▍     | 89/200 [3:01:26<1:45:55, 57.26s/it]"
     ]
    },
    {
     "name": "stderr",
     "output_type": "stream",
     "text": [
      "\r",
      "OMP Test Batch for noise_level = 0.04:  42%|████▏     | 83/200 [3:01:29<2:28:24, 76.11s/it]"
     ]
    },
    {
     "name": "stderr",
     "output_type": "stream",
     "text": [
      "\r",
      "OMP Test Batch for noise_level = 0.18:  48%|████▊     | 96/200 [3:01:20<1:29:54, 51.87s/it]"
     ]
    },
    {
     "name": "stderr",
     "output_type": "stream",
     "text": [
      "\r",
      "OMP Test Batch for noise_level = 0.09:  41%|████      | 82/200 [3:01:27<2:30:36, 76.58s/it]"
     ]
    },
    {
     "name": "stderr",
     "output_type": "stream",
     "text": [
      "\r",
      "OMP Test Batch for noise_level = 0.10:  46%|████▌     | 91/200 [3:01:32<1:34:59, 52.29s/it]"
     ]
    },
    {
     "name": "stderr",
     "output_type": "stream",
     "text": [
      "\r",
      "OMP Test Batch for noise_level = 0.16:  46%|████▋     | 93/200 [3:01:30<1:42:37, 57.55s/it]"
     ]
    },
    {
     "name": "stderr",
     "output_type": "stream",
     "text": [
      "\r",
      "OMP Test Batch for noise_level = 0.14:  42%|████▎     | 85/200 [3:01:33<2:25:14, 75.78s/it]"
     ]
    },
    {
     "name": "stderr",
     "output_type": "stream",
     "text": [
      "\r",
      "OMP Test Batch for noise_level = 0.03:  43%|████▎     | 86/200 [3:01:44<1:42:39, 54.03s/it]"
     ]
    },
    {
     "name": "stderr",
     "output_type": "stream",
     "text": [
      "\r",
      "OMP Test Batch for noise_level = 0.01:  42%|████▏     | 84/200 [3:01:50<2:28:05, 76.60s/it]"
     ]
    },
    {
     "name": "stderr",
     "output_type": "stream",
     "text": [
      "\r",
      "OMP Test Batch for noise_level = 0.07:  43%|████▎     | 86/200 [3:01:53<2:33:21, 80.71s/it]"
     ]
    },
    {
     "name": "stderr",
     "output_type": "stream",
     "text": [
      "\r",
      "OMP Test Batch for noise_level = 0.20:  46%|████▋     | 93/200 [3:01:49<1:29:22, 50.12s/it]"
     ]
    },
    {
     "name": "stderr",
     "output_type": "stream",
     "text": [
      "\r",
      "OMP Test Batch for noise_level = 0.08:  40%|████      | 81/200 [3:01:58<2:36:28, 78.89s/it]"
     ]
    },
    {
     "name": "stderr",
     "output_type": "stream",
     "text": [
      "\r",
      "OMP Test Batch for noise_level = 0.00:  44%|████▍     | 88/200 [3:02:21<1:55:58, 62.13s/it]"
     ]
    },
    {
     "name": "stderr",
     "output_type": "stream",
     "text": [
      "\r",
      "OMP Test Batch for noise_level = 0.02:  45%|████▌     | 90/200 [3:02:19<1:42:46, 56.06s/it]"
     ]
    },
    {
     "name": "stderr",
     "output_type": "stream",
     "text": [
      "\r",
      "OMP Test Batch for noise_level = 0.12:  43%|████▎     | 86/200 [3:02:11<2:29:18, 78.58s/it]"
     ]
    },
    {
     "name": "stderr",
     "output_type": "stream",
     "text": [
      "\r",
      "OMP Test Batch for noise_level = 0.05:  41%|████      | 82/200 [3:02:19<2:34:21, 78.49s/it]"
     ]
    },
    {
     "name": "stderr",
     "output_type": "stream",
     "text": [
      "\r",
      "OMP Test Batch for noise_level = 0.06:  42%|████▏     | 84/200 [3:02:21<2:36:45, 81.08s/it]"
     ]
    },
    {
     "name": "stderr",
     "output_type": "stream",
     "text": [
      "\r",
      "OMP Test Batch for noise_level = 0.18:  48%|████▊     | 97/200 [3:02:13<1:29:59, 52.42s/it]"
     ]
    },
    {
     "name": "stderr",
     "output_type": "stream",
     "text": [
      "\r",
      "OMP Test Batch for noise_level = 0.16:  47%|████▋     | 94/200 [3:02:24<1:39:42, 56.44s/it]"
     ]
    },
    {
     "name": "stderr",
     "output_type": "stream",
     "text": [
      "\r",
      "OMP Test Batch for noise_level = 0.10:  46%|████▌     | 92/200 [3:02:28<1:36:02, 53.36s/it]"
     ]
    },
    {
     "name": "stderr",
     "output_type": "stream",
     "text": [
      "\r",
      "OMP Test Batch for noise_level = 0.03:  44%|████▎     | 87/200 [3:02:40<1:42:57, 54.67s/it]"
     ]
    },
    {
     "name": "stderr",
     "output_type": "stream",
     "text": [
      "\r",
      "OMP Test Batch for noise_level = 0.09:  42%|████▏     | 83/200 [3:02:38<2:26:09, 74.95s/it]"
     ]
    },
    {
     "name": "stderr",
     "output_type": "stream",
     "text": [
      "\r",
      "OMP Test Batch for noise_level = 0.04:  42%|████▏     | 84/200 [3:02:47<2:28:34, 76.85s/it]"
     ]
    },
    {
     "name": "stderr",
     "output_type": "stream",
     "text": [
      "\r",
      "OMP Test Batch for noise_level = 0.20:  47%|████▋     | 94/200 [3:02:38<1:28:13, 49.94s/it]"
     ]
    },
    {
     "name": "stderr",
     "output_type": "stream",
     "text": [
      "\r",
      "OMP Test Batch for noise_level = 0.14:  43%|████▎     | 86/200 [3:02:52<2:25:47, 76.73s/it]"
     ]
    },
    {
     "name": "stderr",
     "output_type": "stream",
     "text": [
      "\r",
      "OMP Test Batch for noise_level = 0.02:  46%|████▌     | 91/200 [3:03:08<1:38:10, 54.04s/it]"
     ]
    },
    {
     "name": "stderr",
     "output_type": "stream",
     "text": [
      "\r",
      "OMP Test Batch for noise_level = 0.01:  42%|████▎     | 85/200 [3:03:11<2:29:27, 77.98s/it]"
     ]
    },
    {
     "name": "stderr",
     "output_type": "stream",
     "text": [
      "\r",
      "OMP Test Batch for noise_level = 0.07:  44%|████▎     | 87/200 [3:03:07<2:28:06, 78.64s/it]"
     ]
    },
    {
     "name": "stderr",
     "output_type": "stream",
     "text": [
      "\r",
      "OMP Test Batch for noise_level = 0.00:  44%|████▍     | 89/200 [3:03:18<1:52:11, 60.64s/it]"
     ]
    },
    {
     "name": "stderr",
     "output_type": "stream",
     "text": [
      "\r",
      "OMP Test Batch for noise_level = 0.08:  41%|████      | 82/200 [3:03:13<2:32:55, 77.76s/it]\r",
      "OMP Test Batch for noise_level = 0.18:  49%|████▉     | 98/200 [3:03:07<1:29:50, 52.85s/it]"
     ]
    },
    {
     "name": "stderr",
     "output_type": "stream",
     "text": [
      "\r",
      "OMP Test Batch for noise_level = 0.10:  46%|████▋     | 93/200 [3:03:18<1:32:59, 52.14s/it]"
     ]
    },
    {
     "name": "stderr",
     "output_type": "stream",
     "text": [
      "\r",
      "OMP Test Batch for noise_level = 0.16:  48%|████▊     | 95/200 [3:03:24<1:40:44, 57.56s/it]"
     ]
    },
    {
     "name": "stderr",
     "output_type": "stream",
     "text": [
      "\r",
      "OMP Test Batch for noise_level = 0.06:  42%|████▎     | 85/200 [3:03:32<2:29:33, 78.03s/it]"
     ]
    },
    {
     "name": "stderr",
     "output_type": "stream",
     "text": [
      "\r",
      "OMP Test Batch for noise_level = 0.03:  44%|████▍     | 88/200 [3:03:37<1:43:01, 55.19s/it]"
     ]
    },
    {
     "name": "stderr",
     "output_type": "stream",
     "text": [
      "\r",
      "OMP Test Batch for noise_level = 0.12:  44%|████▎     | 87/200 [3:03:32<2:28:58, 79.10s/it]"
     ]
    },
    {
     "name": "stderr",
     "output_type": "stream",
     "text": [
      "\r",
      "OMP Test Batch for noise_level = 0.05:  42%|████▏     | 83/200 [3:03:40<2:34:41, 79.33s/it]"
     ]
    },
    {
     "name": "stderr",
     "output_type": "stream",
     "text": [
      "\r",
      "OMP Test Batch for noise_level = 0.20:  48%|████▊     | 95/200 [3:03:34<1:30:38, 51.80s/it]"
     ]
    },
    {
     "name": "stderr",
     "output_type": "stream",
     "text": [
      "\r",
      "OMP Test Batch for noise_level = 0.00:  45%|████▌     | 90/200 [3:04:08<1:45:07, 57.34s/it]"
     ]
    },
    {
     "name": "stderr",
     "output_type": "stream",
     "text": [
      "\r",
      "OMP Test Batch for noise_level = 0.04:  42%|████▎     | 85/200 [3:04:05<2:27:42, 77.06s/it]"
     ]
    },
    {
     "name": "stderr",
     "output_type": "stream",
     "text": [
      "\r",
      "OMP Test Batch for noise_level = 0.02:  46%|████▌     | 92/200 [3:04:08<1:40:18, 55.73s/it]"
     ]
    },
    {
     "name": "stderr",
     "output_type": "stream",
     "text": [
      "\r",
      "OMP Test Batch for noise_level = 0.18:  50%|████▉     | 99/200 [3:04:03<1:30:37, 53.83s/it]"
     ]
    },
    {
     "name": "stderr",
     "output_type": "stream",
     "text": [
      "\r",
      "OMP Test Batch for noise_level = 0.10:  47%|████▋     | 94/200 [3:04:14<1:34:13, 53.34s/it]"
     ]
    },
    {
     "name": "stderr",
     "output_type": "stream",
     "text": [
      "\r",
      "OMP Test Batch for noise_level = 0.09:  42%|████▏     | 84/200 [3:04:16<2:38:23, 81.93s/it]"
     ]
    },
    {
     "name": "stderr",
     "output_type": "stream",
     "text": [
      "\r",
      "OMP Test Batch for noise_level = 0.07:  44%|████▍     | 88/200 [3:04:21<2:24:09, 77.23s/it]"
     ]
    },
    {
     "name": "stderr",
     "output_type": "stream",
     "text": [
      "\r",
      "OMP Test Batch for noise_level = 0.03:  44%|████▍     | 89/200 [3:04:29<1:40:29, 54.32s/it]\r",
      "OMP Test Batch for noise_level = 0.01:  43%|████▎     | 86/200 [3:04:31<2:29:18, 78.58s/it]"
     ]
    },
    {
     "name": "stderr",
     "output_type": "stream",
     "text": [
      "\r",
      "OMP Test Batch for noise_level = 0.08:  42%|████▏     | 83/200 [3:04:24<2:27:37, 75.71s/it]"
     ]
    },
    {
     "name": "stderr",
     "output_type": "stream",
     "text": [
      "\r",
      "OMP Test Batch for noise_level = 0.16:  48%|████▊     | 96/200 [3:04:19<1:38:38, 56.91s/it]"
     ]
    },
    {
     "name": "stderr",
     "output_type": "stream",
     "text": [
      "\r",
      "OMP Test Batch for noise_level = 0.20:  48%|████▊     | 96/200 [3:04:25<1:29:11, 51.46s/it]"
     ]
    },
    {
     "name": "stderr",
     "output_type": "stream",
     "text": [
      "\r",
      "OMP Test Batch for noise_level = 0.14:  44%|████▎     | 87/200 [3:04:34<2:38:35, 84.21s/it]"
     ]
    },
    {
     "name": "stderr",
     "output_type": "stream",
     "text": [
      "\r",
      "OMP Test Batch for noise_level = 0.06:  43%|████▎     | 86/200 [3:04:50<2:28:22, 78.09s/it]"
     ]
    },
    {
     "name": "stderr",
     "output_type": "stream",
     "text": [
      "\r",
      "OMP Test Batch for noise_level = 0.00:  46%|████▌     | 91/200 [3:05:01<1:42:00, 56.15s/it]"
     ]
    },
    {
     "name": "stderr",
     "output_type": "stream",
     "text": [
      "\r",
      "OMP Test Batch for noise_level = 0.12:  44%|████▍     | 88/200 [3:04:50<2:26:54, 78.70s/it]"
     ]
    },
    {
     "name": "stderr",
     "output_type": "stream",
     "text": [
      "\r",
      "OMP Test Batch for noise_level = 0.02:  46%|████▋     | 93/200 [3:05:01<1:37:41, 54.78s/it]\r",
      "OMP Test Batch for noise_level = 0.05:  42%|████▏     | 84/200 [3:04:58<2:32:26, 78.85s/it]"
     ]
    },
    {
     "name": "stderr",
     "output_type": "stream",
     "text": [
      "\r",
      "OMP Test Batch for noise_level = 0.18:  50%|█████     | 100/200 [3:04:55<1:28:51, 53.32s/it]"
     ]
    },
    {
     "name": "stderr",
     "output_type": "stream",
     "text": [
      "\r",
      "OMP Test Batch for noise_level = 0.10:  48%|████▊     | 95/200 [3:05:06<1:32:46, 53.01s/it]"
     ]
    },
    {
     "name": "stderr",
     "output_type": "stream",
     "text": [
      "\r",
      "OMP Test Batch for noise_level = 0.16:  48%|████▊     | 97/200 [3:05:09<1:34:05, 54.81s/it]"
     ]
    },
    {
     "name": "stderr",
     "output_type": "stream",
     "text": [
      "\r",
      "OMP Test Batch for noise_level = 0.03:  45%|████▌     | 90/200 [3:05:22<1:38:47, 53.89s/it]"
     ]
    },
    {
     "name": "stderr",
     "output_type": "stream",
     "text": [
      "\r",
      "OMP Test Batch for noise_level = 0.04:  43%|████▎     | 86/200 [3:05:23<2:27:12, 77.48s/it]"
     ]
    },
    {
     "name": "stderr",
     "output_type": "stream",
     "text": [
      "\r",
      "OMP Test Batch for noise_level = 0.20:  48%|████▊     | 97/200 [3:05:19<1:29:53, 52.36s/it]"
     ]
    },
    {
     "name": "stderr",
     "output_type": "stream",
     "text": [
      "\r",
      "OMP Test Batch for noise_level = 0.07:  44%|████▍     | 89/200 [3:05:36<2:21:43, 76.61s/it]"
     ]
    },
    {
     "name": "stderr",
     "output_type": "stream",
     "text": [
      "\r",
      "OMP Test Batch for noise_level = 0.09:  42%|████▎     | 85/200 [3:05:41<2:38:47, 82.85s/it]"
     ]
    },
    {
     "name": "stderr",
     "output_type": "stream",
     "text": [
      "\r",
      "OMP Test Batch for noise_level = 0.00:  46%|████▌     | 92/200 [3:05:53<1:38:34, 54.76s/it]"
     ]
    },
    {
     "name": "stderr",
     "output_type": "stream",
     "text": [
      "\r",
      "OMP Test Batch for noise_level = 0.01:  44%|████▎     | 87/200 [3:05:54<2:30:00, 79.65s/it]"
     ]
    },
    {
     "name": "stderr",
     "output_type": "stream",
     "text": [
      "\r",
      "OMP Test Batch for noise_level = 0.02:  47%|████▋     | 94/200 [3:05:55<1:36:44, 54.76s/it]"
     ]
    },
    {
     "name": "stderr",
     "output_type": "stream",
     "text": [
      "\r",
      "OMP Test Batch for noise_level = 0.14:  44%|████▍     | 88/200 [3:05:49<2:32:25, 81.66s/it]"
     ]
    },
    {
     "name": "stderr",
     "output_type": "stream",
     "text": [
      "\r",
      "OMP Test Batch for noise_level = 0.18:  50%|█████     | 101/200 [3:05:48<1:27:26, 52.99s/it]"
     ]
    },
    {
     "name": "stderr",
     "output_type": "stream",
     "text": [
      "\r",
      "OMP Test Batch for noise_level = 0.08:  42%|████▏     | 84/200 [3:05:54<2:34:33, 79.94s/it]"
     ]
    },
    {
     "name": "stderr",
     "output_type": "stream",
     "text": [
      "\r",
      "OMP Test Batch for noise_level = 0.10:  48%|████▊     | 96/200 [3:05:56<1:30:20, 52.12s/it]"
     ]
    },
    {
     "name": "stderr",
     "output_type": "stream",
     "text": [
      "\r",
      "OMP Test Batch for noise_level = 0.03:  46%|████▌     | 91/200 [3:06:12<1:35:43, 52.69s/it]"
     ]
    },
    {
     "name": "stderr",
     "output_type": "stream",
     "text": [
      "\r",
      "OMP Test Batch for noise_level = 0.06:  44%|████▎     | 87/200 [3:06:10<2:27:39, 78.40s/it]"
     ]
    },
    {
     "name": "stderr",
     "output_type": "stream",
     "text": [
      "\r",
      "OMP Test Batch for noise_level = 0.16:  49%|████▉     | 98/200 [3:06:03<1:32:31, 54.42s/it]\r",
      "OMP Test Batch for noise_level = 0.12:  44%|████▍     | 89/200 [3:06:05<2:23:52, 77.77s/it]"
     ]
    },
    {
     "name": "stderr",
     "output_type": "stream",
     "text": [
      "\r",
      "OMP Test Batch for noise_level = 0.20:  49%|████▉     | 98/200 [3:06:09<1:27:35, 51.52s/it]"
     ]
    },
    {
     "name": "stderr",
     "output_type": "stream",
     "text": [
      "\r",
      "OMP Test Batch for noise_level = 0.05:  42%|████▎     | 85/200 [3:06:20<2:33:15, 79.96s/it]"
     ]
    },
    {
     "name": "stderr",
     "output_type": "stream",
     "text": [
      "\r",
      "OMP Test Batch for noise_level = 0.00:  46%|████▋     | 93/200 [3:06:46<1:36:58, 54.38s/it]"
     ]
    },
    {
     "name": "stderr",
     "output_type": "stream",
     "text": [
      "\r",
      "OMP Test Batch for noise_level = 0.02:  48%|████▊     | 95/200 [3:06:46<1:33:34, 53.48s/it]"
     ]
    },
    {
     "name": "stderr",
     "output_type": "stream",
     "text": [
      "\r",
      "OMP Test Batch for noise_level = 0.18:  51%|█████     | 102/200 [3:06:36<1:24:29, 51.73s/it]"
     ]
    },
    {
     "name": "stderr",
     "output_type": "stream",
     "text": [
      "\r",
      "OMP Test Batch for noise_level = 0.04:  44%|████▎     | 87/200 [3:06:48<2:29:49, 79.55s/it]"
     ]
    },
    {
     "name": "stderr",
     "output_type": "stream",
     "text": [
      "\r",
      "OMP Test Batch for noise_level = 0.07:  45%|████▌     | 90/200 [3:06:49<2:18:21, 75.47s/it]"
     ]
    },
    {
     "name": "stderr",
     "output_type": "stream",
     "text": [
      "\r",
      "OMP Test Batch for noise_level = 0.10:  48%|████▊     | 97/200 [3:06:49<1:30:08, 52.51s/it]"
     ]
    },
    {
     "name": "stderr",
     "output_type": "stream",
     "text": [
      "\r",
      "OMP Test Batch for noise_level = 0.16:  50%|████▉     | 99/200 [3:06:49<1:27:25, 51.93s/it]"
     ]
    },
    {
     "name": "stderr",
     "output_type": "stream",
     "text": [
      "\r",
      "OMP Test Batch for noise_level = 0.09:  43%|████▎     | 86/200 [3:06:54<2:31:59, 79.99s/it]\r",
      "OMP Test Batch for noise_level = 0.03:  46%|████▌     | 92/200 [3:07:01<1:32:49, 51.57s/it]"
     ]
    },
    {
     "name": "stderr",
     "output_type": "stream",
     "text": [
      "\r",
      "OMP Test Batch for noise_level = 0.20:  50%|████▉     | 99/200 [3:06:57<1:25:06, 50.56s/it]"
     ]
    },
    {
     "name": "stderr",
     "output_type": "stream",
     "text": [
      "\r",
      "OMP Test Batch for noise_level = 0.01:  44%|████▍     | 88/200 [3:07:14<2:29:02, 79.84s/it]"
     ]
    },
    {
     "name": "stderr",
     "output_type": "stream",
     "text": [
      "\r",
      "OMP Test Batch for noise_level = 0.14:  44%|████▍     | 89/200 [3:07:07<2:28:38, 80.35s/it]"
     ]
    },
    {
     "name": "stderr",
     "output_type": "stream",
     "text": [
      "\r",
      "OMP Test Batch for noise_level = 0.08:  42%|████▎     | 85/200 [3:07:12<2:31:49, 79.22s/it]"
     ]
    },
    {
     "name": "stderr",
     "output_type": "stream",
     "text": [
      "\r",
      "OMP Test Batch for noise_level = 0.12:  45%|████▌     | 90/200 [3:07:18<2:19:55, 76.32s/it]"
     ]
    },
    {
     "name": "stderr",
     "output_type": "stream",
     "text": [
      "\r",
      "OMP Test Batch for noise_level = 0.00:  47%|████▋     | 94/200 [3:07:35<1:33:07, 52.71s/it]"
     ]
    },
    {
     "name": "stderr",
     "output_type": "stream",
     "text": [
      "\r",
      "OMP Test Batch for noise_level = 0.06:  44%|████▍     | 88/200 [3:07:29<2:26:55, 78.71s/it]"
     ]
    },
    {
     "name": "stderr",
     "output_type": "stream",
     "text": [
      "\r",
      "OMP Test Batch for noise_level = 0.02:  48%|████▊     | 96/200 [3:07:36<1:30:51, 52.42s/it]"
     ]
    },
    {
     "name": "stderr",
     "output_type": "stream",
     "text": [
      "\r",
      "OMP Test Batch for noise_level = 0.18:  52%|█████▏    | 103/200 [3:07:24<1:21:51, 50.64s/it]"
     ]
    },
    {
     "name": "stderr",
     "output_type": "stream",
     "text": [
      "\r",
      "OMP Test Batch for noise_level = 0.10:  49%|████▉     | 98/200 [3:07:31<1:23:44, 49.26s/it]"
     ]
    },
    {
     "name": "stderr",
     "output_type": "stream",
     "text": [
      "\r",
      "OMP Test Batch for noise_level = 0.16:  50%|█████     | 100/200 [3:07:35<1:23:36, 50.17s/it]"
     ]
    },
    {
     "name": "stderr",
     "output_type": "stream",
     "text": [
      "\r",
      "OMP Test Batch for noise_level = 0.05:  43%|████▎     | 86/200 [3:07:44<2:34:19, 81.22s/it]"
     ]
    },
    {
     "name": "stderr",
     "output_type": "stream",
     "text": [
      "\r",
      "OMP Test Batch for noise_level = 0.03:  46%|████▋     | 93/200 [3:07:49<1:30:13, 50.60s/it]"
     ]
    },
    {
     "name": "stderr",
     "output_type": "stream",
     "text": [
      "\r",
      "OMP Test Batch for noise_level = 0.20:  50%|█████     | 100/200 [3:07:47<1:24:03, 50.43s/it]"
     ]
    },
    {
     "name": "stderr",
     "output_type": "stream",
     "text": [
      "\r",
      "OMP Test Batch for noise_level = 0.04:  44%|████▍     | 88/200 [3:08:09<2:29:22, 80.03s/it]"
     ]
    },
    {
     "name": "stderr",
     "output_type": "stream",
     "text": [
      "\r",
      "OMP Test Batch for noise_level = 0.09:  44%|████▎     | 87/200 [3:08:11<2:28:45, 78.99s/it]"
     ]
    },
    {
     "name": "stderr",
     "output_type": "stream",
     "text": [
      "\r",
      "OMP Test Batch for noise_level = 0.18:  52%|█████▏    | 104/200 [3:08:06<1:16:38, 47.90s/it]"
     ]
    },
    {
     "name": "stderr",
     "output_type": "stream",
     "text": [
      "\r",
      "OMP Test Batch for noise_level = 0.02:  48%|████▊     | 97/200 [3:08:19<1:25:17, 49.68s/it]\r",
      "OMP Test Batch for noise_level = 0.07:  46%|████▌     | 91/200 [3:08:14<2:22:32, 78.46s/it]"
     ]
    },
    {
     "name": "stderr",
     "output_type": "stream",
     "text": [
      "\r",
      "OMP Test Batch for noise_level = 0.00:  48%|████▊     | 95/200 [3:08:23<1:29:39, 51.23s/it]"
     ]
    },
    {
     "name": "stderr",
     "output_type": "stream",
     "text": [
      "\r",
      "OMP Test Batch for noise_level = 0.10:  50%|████▉     | 99/200 [3:08:15<1:20:08, 47.61s/it]"
     ]
    },
    {
     "name": "stderr",
     "output_type": "stream",
     "text": [
      "\r",
      "OMP Test Batch for noise_level = 0.14:  45%|████▌     | 90/200 [3:08:19<2:22:54, 77.95s/it]"
     ]
    },
    {
     "name": "stderr",
     "output_type": "stream",
     "text": [
      "\r",
      "OMP Test Batch for noise_level = 0.03:  47%|████▋     | 94/200 [3:08:32<1:25:19, 48.30s/it]\r",
      "OMP Test Batch for noise_level = 0.16:  50%|█████     | 101/200 [3:08:21<1:21:00, 49.10s/it]"
     ]
    },
    {
     "name": "stderr",
     "output_type": "stream",
     "text": [
      "\r",
      "OMP Test Batch for noise_level = 0.08:  43%|████▎     | 86/200 [3:08:33<2:31:39, 79.82s/it]"
     ]
    },
    {
     "name": "stderr",
     "output_type": "stream",
     "text": [
      "\r",
      "OMP Test Batch for noise_level = 0.20:  50%|█████     | 101/200 [3:08:31<1:19:55, 48.44s/it]"
     ]
    },
    {
     "name": "stderr",
     "output_type": "stream",
     "text": [
      "\r",
      "OMP Test Batch for noise_level = 0.12:  46%|████▌     | 91/200 [3:08:36<2:19:32, 76.82s/it]"
     ]
    },
    {
     "name": "stderr",
     "output_type": "stream",
     "text": [
      "\r",
      "OMP Test Batch for noise_level = 0.01:  44%|████▍     | 89/200 [3:08:51<2:37:25, 85.10s/it]"
     ]
    },
    {
     "name": "stderr",
     "output_type": "stream",
     "text": [
      "\r",
      "OMP Test Batch for noise_level = 0.06:  44%|████▍     | 89/200 [3:08:56<2:30:01, 81.10s/it]"
     ]
    },
    {
     "name": "stderr",
     "output_type": "stream",
     "text": [
      "\r",
      "OMP Test Batch for noise_level = 0.18:  52%|█████▎    | 105/200 [3:08:48<1:12:58, 46.08s/it]"
     ]
    },
    {
     "name": "stderr",
     "output_type": "stream",
     "text": [
      "\r",
      "OMP Test Batch for noise_level = 0.02:  49%|████▉     | 98/200 [3:09:03<1:21:26, 47.91s/it]"
     ]
    },
    {
     "name": "stderr",
     "output_type": "stream",
     "text": [
      "\r",
      "OMP Test Batch for noise_level = 0.10:  50%|█████     | 100/200 [3:08:55<1:15:41, 45.41s/it]\r",
      "OMP Test Batch for noise_level = 0.00:  48%|████▊     | 96/200 [3:09:06<1:24:58, 49.02s/it]"
     ]
    },
    {
     "name": "stderr",
     "output_type": "stream",
     "text": [
      "\r",
      "OMP Test Batch for noise_level = 0.05:  44%|████▎     | 87/200 [3:09:04<2:31:52, 80.64s/it]"
     ]
    },
    {
     "name": "stderr",
     "output_type": "stream",
     "text": [
      "\r",
      "OMP Test Batch for noise_level = 0.16:  51%|█████     | 102/200 [3:09:01<1:15:36, 46.29s/it]"
     ]
    },
    {
     "name": "stderr",
     "output_type": "stream",
     "text": [
      "\r",
      "OMP Test Batch for noise_level = 0.03:  48%|████▊     | 95/200 [3:09:15<1:21:46, 46.73s/it]"
     ]
    },
    {
     "name": "stderr",
     "output_type": "stream",
     "text": [
      "\r",
      "OMP Test Batch for noise_level = 0.20:  51%|█████     | 102/200 [3:09:06<1:12:20, 44.29s/it]"
     ]
    },
    {
     "name": "stderr",
     "output_type": "stream",
     "text": [
      "\r",
      "OMP Test Batch for noise_level = 0.09:  44%|████▍     | 88/200 [3:09:25<2:24:50, 77.59s/it]"
     ]
    },
    {
     "name": "stderr",
     "output_type": "stream",
     "text": [
      "\r",
      "OMP Test Batch for noise_level = 0.18:  53%|█████▎    | 106/200 [3:09:23<1:07:16, 42.95s/it]"
     ]
    },
    {
     "name": "stderr",
     "output_type": "stream",
     "text": [
      "\r",
      "OMP Test Batch for noise_level = 0.07:  46%|████▌     | 92/200 [3:09:32<2:20:58, 78.32s/it]"
     ]
    },
    {
     "name": "stderr",
     "output_type": "stream",
     "text": [
      "\r",
      "OMP Test Batch for noise_level = 0.04:  44%|████▍     | 89/200 [3:09:37<2:32:52, 82.63s/it]"
     ]
    },
    {
     "name": "stderr",
     "output_type": "stream",
     "text": [
      "\r",
      "OMP Test Batch for noise_level = 0.10:  50%|█████     | 101/200 [3:09:36<1:12:42, 44.07s/it]"
     ]
    },
    {
     "name": "stderr",
     "output_type": "stream",
     "text": [
      "\r",
      "OMP Test Batch for noise_level = 0.02:  50%|████▉     | 99/200 [3:09:46<1:18:01, 46.35s/it]"
     ]
    },
    {
     "name": "stderr",
     "output_type": "stream",
     "text": [
      "\r",
      "OMP Test Batch for noise_level = 0.16:  52%|█████▏    | 103/200 [3:09:35<1:08:44, 42.52s/it]"
     ]
    },
    {
     "name": "stderr",
     "output_type": "stream",
     "text": [
      "\r",
      "OMP Test Batch for noise_level = 0.00:  48%|████▊     | 97/200 [3:09:49<1:21:00, 47.19s/it]"
     ]
    },
    {
     "name": "stderr",
     "output_type": "stream",
     "text": [
      "\r",
      "OMP Test Batch for noise_level = 0.14:  46%|████▌     | 91/200 [3:09:41<2:23:49, 79.17s/it]"
     ]
    },
    {
     "name": "stderr",
     "output_type": "stream",
     "text": [
      "\r",
      "OMP Test Batch for noise_level = 0.03:  48%|████▊     | 96/200 [3:09:58<1:18:54, 45.53s/it]"
     ]
    },
    {
     "name": "stderr",
     "output_type": "stream",
     "text": [
      "\r",
      "OMP Test Batch for noise_level = 0.20:  52%|█████▏    | 103/200 [3:09:45<1:09:20, 42.90s/it]"
     ]
    },
    {
     "name": "stderr",
     "output_type": "stream",
     "text": [
      "\r",
      "OMP Test Batch for noise_level = 0.12:  46%|████▌     | 92/200 [3:09:54<2:18:59, 77.22s/it]"
     ]
    },
    {
     "name": "stderr",
     "output_type": "stream",
     "text": [
      "\r",
      "OMP Test Batch for noise_level = 0.08:  44%|████▎     | 87/200 [3:10:03<2:35:50, 82.75s/it]"
     ]
    },
    {
     "name": "stderr",
     "output_type": "stream",
     "text": [
      "\r",
      "OMP Test Batch for noise_level = 0.01:  45%|████▌     | 90/200 [3:10:12<2:33:55, 83.96s/it]"
     ]
    },
    {
     "name": "stderr",
     "output_type": "stream",
     "text": [
      "\r",
      "OMP Test Batch for noise_level = 0.18:  54%|█████▎    | 107/200 [3:10:03<1:04:48, 41.81s/it]"
     ]
    },
    {
     "name": "stderr",
     "output_type": "stream",
     "text": [
      "\r",
      "OMP Test Batch for noise_level = 0.16:  52%|█████▏    | 104/200 [3:10:11<1:04:48, 40.50s/it]"
     ]
    },
    {
     "name": "stderr",
     "output_type": "stream",
     "text": [
      "\r",
      "OMP Test Batch for noise_level = 0.10:  51%|█████     | 102/200 [3:10:17<1:10:29, 43.16s/it]\r",
      "OMP Test Batch for noise_level = 0.02:  50%|█████     | 100/200 [3:10:26<1:14:13, 44.54s/it]"
     ]
    },
    {
     "name": "stderr",
     "output_type": "stream",
     "text": [
      "\r",
      "OMP Test Batch for noise_level = 0.06:  45%|████▌     | 90/200 [3:10:24<2:32:34, 83.23s/it]"
     ]
    },
    {
     "name": "stderr",
     "output_type": "stream",
     "text": [
      "\r",
      "OMP Test Batch for noise_level = 0.05:  44%|████▍     | 88/200 [3:10:26<2:31:20, 81.08s/it]"
     ]
    },
    {
     "name": "stderr",
     "output_type": "stream",
     "text": [
      "\r",
      "OMP Test Batch for noise_level = 0.00:  49%|████▉     | 98/200 [3:10:32<1:18:02, 45.91s/it]"
     ]
    },
    {
     "name": "stderr",
     "output_type": "stream",
     "text": [
      "\r",
      "OMP Test Batch for noise_level = 0.20:  52%|█████▏    | 104/200 [3:10:21<1:05:01, 40.64s/it]"
     ]
    },
    {
     "name": "stderr",
     "output_type": "stream",
     "text": [
      "\r",
      "OMP Test Batch for noise_level = 0.03:  48%|████▊     | 97/200 [3:10:39<1:15:52, 44.20s/it]"
     ]
    },
    {
     "name": "stderr",
     "output_type": "stream",
     "text": [
      "\r",
      "OMP Test Batch for noise_level = 0.18:  54%|█████▍    | 108/200 [3:10:41<1:02:45, 40.93s/it]"
     ]
    },
    {
     "name": "stderr",
     "output_type": "stream",
     "text": [
      "\r",
      "OMP Test Batch for noise_level = 0.09:  44%|████▍     | 89/200 [3:10:47<2:26:02, 78.94s/it]"
     ]
    },
    {
     "name": "stderr",
     "output_type": "stream",
     "text": [
      "\r",
      "OMP Test Batch for noise_level = 0.16:  52%|█████▎    | 105/200 [3:10:44<1:00:55, 38.48s/it]"
     ]
    },
    {
     "name": "stderr",
     "output_type": "stream",
     "text": [
      "\r",
      "OMP Test Batch for noise_level = 0.10:  52%|█████▏    | 103/200 [3:10:54<1:06:29, 41.13s/it]"
     ]
    },
    {
     "name": "stderr",
     "output_type": "stream",
     "text": [
      "\r",
      "OMP Test Batch for noise_level = 0.20:  52%|█████▎    | 105/200 [3:10:55<1:01:23, 38.78s/it]\r",
      "OMP Test Batch for noise_level = 0.04:  45%|████▌     | 90/200 [3:11:07<2:35:11, 84.65s/it]"
     ]
    },
    {
     "name": "stderr",
     "output_type": "stream",
     "text": [
      "\r",
      "OMP Test Batch for noise_level = 0.07:  46%|████▋     | 93/200 [3:11:09<2:29:47, 84.00s/it]"
     ]
    },
    {
     "name": "stderr",
     "output_type": "stream",
     "text": [
      "\r",
      "OMP Test Batch for noise_level = 0.03:  49%|████▉     | 98/200 [3:11:15<1:11:14, 41.90s/it]"
     ]
    },
    {
     "name": "stderr",
     "output_type": "stream",
     "text": [
      "\r",
      "OMP Test Batch for noise_level = 0.00:  50%|████▉     | 99/200 [3:11:20<1:18:06, 46.40s/it]"
     ]
    },
    {
     "name": "stderr",
     "output_type": "stream",
     "text": [
      "\r",
      "OMP Test Batch for noise_level = 0.02:  50%|█████     | 101/200 [3:11:18<1:17:16, 46.83s/it]\r",
      "OMP Test Batch for noise_level = 0.14:  46%|████▌     | 92/200 [3:11:08<2:26:37, 81.46s/it]"
     ]
    },
    {
     "name": "stderr",
     "output_type": "stream",
     "text": [
      "\r",
      "OMP Test Batch for noise_level = 0.12:  46%|████▋     | 93/200 [3:11:13<2:18:36, 77.72s/it]"
     ]
    },
    {
     "name": "stderr",
     "output_type": "stream",
     "text": [
      "\r",
      "OMP Test Batch for noise_level = 0.18:  55%|█████▍    | 109/200 [3:11:15<58:53, 38.83s/it]  "
     ]
    },
    {
     "name": "stderr",
     "output_type": "stream",
     "text": [
      "\r",
      "OMP Test Batch for noise_level = 0.16:  53%|█████▎    | 106/200 [3:11:22<59:54, 38.24s/it]  "
     ]
    },
    {
     "name": "stderr",
     "output_type": "stream",
     "text": [
      "\r",
      "OMP Test Batch for noise_level = 0.01:  46%|████▌     | 91/200 [3:11:36<2:32:26, 83.91s/it]"
     ]
    },
    {
     "name": "stderr",
     "output_type": "stream",
     "text": [
      "\r",
      "OMP Test Batch for noise_level = 0.08:  44%|████▍     | 88/200 [3:11:32<2:38:16, 84.79s/it]"
     ]
    },
    {
     "name": "stderr",
     "output_type": "stream",
     "text": [
      "\r",
      "OMP Test Batch for noise_level = 0.10:  52%|█████▏    | 104/200 [3:11:31<1:04:05, 40.06s/it]"
     ]
    },
    {
     "name": "stderr",
     "output_type": "stream",
     "text": [
      "\r",
      "OMP Test Batch for noise_level = 0.20:  53%|█████▎    | 106/200 [3:11:30<58:43, 37.48s/it]  "
     ]
    },
    {
     "name": "stderr",
     "output_type": "stream",
     "text": [
      "\r",
      "OMP Test Batch for noise_level = 0.05:  44%|████▍     | 89/200 [3:11:45<2:29:03, 80.57s/it]"
     ]
    },
    {
     "name": "stderr",
     "output_type": "stream",
     "text": [
      "\r",
      "OMP Test Batch for noise_level = 0.03:  50%|████▉     | 99/200 [3:11:52<1:08:08, 40.48s/it]"
     ]
    },
    {
     "name": "stderr",
     "output_type": "stream",
     "text": [
      "\r",
      "OMP Test Batch for noise_level = 0.06:  46%|████▌     | 91/200 [3:11:56<2:36:10, 85.97s/it]\r",
      "OMP Test Batch for noise_level = 0.18:  55%|█████▌    | 110/200 [3:11:48<55:22, 36.92s/it]"
     ]
    },
    {
     "name": "stderr",
     "output_type": "stream",
     "text": [
      "\r",
      "OMP Test Batch for noise_level = 0.00:  50%|█████     | 100/200 [3:12:05<1:16:31, 45.92s/it]"
     ]
    },
    {
     "name": "stderr",
     "output_type": "stream",
     "text": [
      "\r",
      "OMP Test Batch for noise_level = 0.16:  54%|█████▎    | 107/200 [3:11:52<55:15, 35.65s/it]"
     ]
    },
    {
     "name": "stderr",
     "output_type": "stream",
     "text": [
      "\r",
      "OMP Test Batch for noise_level = 0.02:  51%|█████     | 102/200 [3:12:11<1:19:27, 48.65s/it]"
     ]
    },
    {
     "name": "stderr",
     "output_type": "stream",
     "text": [
      "\r",
      "OMP Test Batch for noise_level = 0.10:  52%|█████▎    | 105/200 [3:12:07<1:01:25, 38.80s/it]"
     ]
    },
    {
     "name": "stderr",
     "output_type": "stream",
     "text": [
      "\r",
      "OMP Test Batch for noise_level = 0.20:  54%|█████▎    | 107/200 [3:12:03<55:56, 36.09s/it]"
     ]
    },
    {
     "name": "stderr",
     "output_type": "stream",
     "text": [
      "\r",
      "OMP Test Batch for noise_level = 0.09:  45%|████▌     | 90/200 [3:12:19<2:31:28, 82.62s/it]"
     ]
    },
    {
     "name": "stderr",
     "output_type": "stream",
     "text": [
      "\r",
      "OMP Test Batch for noise_level = 0.03:  50%|█████     | 100/200 [3:12:25<1:03:40, 38.21s/it]"
     ]
    },
    {
     "name": "stderr",
     "output_type": "stream",
     "text": [
      "\r",
      "OMP Test Batch for noise_level = 0.16:  54%|█████▍    | 108/200 [3:12:25<53:24, 34.83s/it]"
     ]
    },
    {
     "name": "stderr",
     "output_type": "stream",
     "text": [
      "\r",
      "OMP Test Batch for noise_level = 0.18:  56%|█████▌    | 111/200 [3:12:25<54:52, 37.00s/it]"
     ]
    },
    {
     "name": "stderr",
     "output_type": "stream",
     "text": [
      "\r",
      "OMP Test Batch for noise_level = 0.04:  46%|████▌     | 91/200 [3:12:37<2:36:55, 86.38s/it]"
     ]
    },
    {
     "name": "stderr",
     "output_type": "stream",
     "text": [
      "\r",
      "OMP Test Batch for noise_level = 0.10:  53%|█████▎    | 106/200 [3:12:40<58:10, 37.13s/it]  "
     ]
    },
    {
     "name": "stderr",
     "output_type": "stream",
     "text": [
      "\r",
      "OMP Test Batch for noise_level = 0.12:  47%|████▋     | 94/200 [3:12:41<2:22:56, 80.91s/it]"
     ]
    },
    {
     "name": "stderr",
     "output_type": "stream",
     "text": [
      "\r",
      "OMP Test Batch for noise_level = 0.20:  54%|█████▍    | 108/200 [3:12:39<55:36, 36.26s/it]"
     ]
    },
    {
     "name": "stderr",
     "output_type": "stream",
     "text": [
      "\r",
      "OMP Test Batch for noise_level = 0.14:  46%|████▋     | 93/200 [3:12:43<2:32:41, 85.62s/it]\r",
      "OMP Test Batch for noise_level = 0.00:  50%|█████     | 101/200 [3:12:56<1:18:31, 47.60s/it]"
     ]
    },
    {
     "name": "stderr",
     "output_type": "stream",
     "text": [
      "\r",
      "OMP Test Batch for noise_level = 0.07:  47%|████▋     | 94/200 [3:12:53<2:38:56, 89.97s/it]"
     ]
    },
    {
     "name": "stderr",
     "output_type": "stream",
     "text": [
      "\r",
      "OMP Test Batch for noise_level = 0.08:  44%|████▍     | 89/200 [3:12:54<2:35:12, 83.90s/it]"
     ]
    },
    {
     "name": "stderr",
     "output_type": "stream",
     "text": [
      "\r",
      "OMP Test Batch for noise_level = 0.03:  50%|█████     | 101/200 [3:12:59<1:00:54, 36.91s/it]"
     ]
    },
    {
     "name": "stderr",
     "output_type": "stream",
     "text": [
      "\r",
      "OMP Test Batch for noise_level = 0.02:  52%|█████▏    | 103/200 [3:13:01<1:19:32, 49.20s/it]"
     ]
    },
    {
     "name": "stderr",
     "output_type": "stream",
     "text": [
      "\r",
      "OMP Test Batch for noise_level = 0.01:  46%|████▌     | 92/200 [3:13:05<2:33:49, 85.46s/it]"
     ]
    },
    {
     "name": "stderr",
     "output_type": "stream",
     "text": [
      "\r",
      "OMP Test Batch for noise_level = 0.16:  55%|█████▍    | 109/200 [3:12:59<52:30, 34.62s/it]"
     ]
    },
    {
     "name": "stderr",
     "output_type": "stream",
     "text": [
      "\r",
      "OMP Test Batch for noise_level = 0.18:  56%|█████▌    | 112/200 [3:13:00<53:33, 36.51s/it]"
     ]
    },
    {
     "name": "stderr",
     "output_type": "stream",
     "text": [
      "\r",
      "OMP Test Batch for noise_level = 0.05:  45%|████▌     | 90/200 [3:13:15<2:32:36, 83.24s/it]"
     ]
    },
    {
     "name": "stderr",
     "output_type": "stream",
     "text": [
      "\r",
      "OMP Test Batch for noise_level = 0.10:  54%|█████▎    | 107/200 [3:13:16<56:55, 36.73s/it]"
     ]
    },
    {
     "name": "stderr",
     "output_type": "stream",
     "text": [
      "\r",
      "OMP Test Batch for noise_level = 0.20:  55%|█████▍    | 109/200 [3:13:17<55:32, 36.62s/it]"
     ]
    },
    {
     "name": "stderr",
     "output_type": "stream",
     "text": [
      "\r",
      "OMP Test Batch for noise_level = 0.00:  51%|█████     | 102/200 [3:13:36<1:14:05, 45.36s/it]"
     ]
    },
    {
     "name": "stderr",
     "output_type": "stream",
     "text": [
      "\r",
      "OMP Test Batch for noise_level = 0.03:  51%|█████     | 102/200 [3:13:38<1:01:06, 37.41s/it]"
     ]
    },
    {
     "name": "stderr",
     "output_type": "stream",
     "text": [
      "\r",
      "OMP Test Batch for noise_level = 0.02:  52%|█████▏    | 104/200 [3:13:41<1:14:20, 46.47s/it]"
     ]
    },
    {
     "name": "stderr",
     "output_type": "stream",
     "text": [
      "\r",
      "OMP Test Batch for noise_level = 0.18:  56%|█████▋    | 113/200 [3:13:35<52:00, 35.87s/it]"
     ]
    },
    {
     "name": "stderr",
     "output_type": "stream",
     "text": [
      "\r",
      "OMP Test Batch for noise_level = 0.06:  46%|████▌     | 92/200 [3:13:44<2:46:41, 92.60s/it]"
     ]
    },
    {
     "name": "stderr",
     "output_type": "stream",
     "text": [
      "\r",
      "OMP Test Batch for noise_level = 0.09:  46%|████▌     | 91/200 [3:13:48<2:34:01, 84.78s/it]"
     ]
    },
    {
     "name": "stderr",
     "output_type": "stream",
     "text": [
      "\r",
      "OMP Test Batch for noise_level = 0.16:  55%|█████▌    | 110/200 [3:13:47<57:51, 38.57s/it]"
     ]
    },
    {
     "name": "stderr",
     "output_type": "stream",
     "text": [
      "\r",
      "OMP Test Batch for noise_level = 0.10:  54%|█████▍    | 108/200 [3:13:52<55:50, 36.42s/it]"
     ]
    },
    {
     "name": "stderr",
     "output_type": "stream",
     "text": [
      "\r",
      "OMP Test Batch for noise_level = 0.04:  46%|████▌     | 92/200 [3:13:59<2:33:13, 85.13s/it]"
     ]
    },
    {
     "name": "stderr",
     "output_type": "stream",
     "text": [
      "\r",
      "OMP Test Batch for noise_level = 0.20:  55%|█████▌    | 110/200 [3:13:50<53:19, 35.56s/it]"
     ]
    },
    {
     "name": "stderr",
     "output_type": "stream",
     "text": [
      "\r",
      "OMP Test Batch for noise_level = 0.00:  52%|█████▏    | 103/200 [3:14:14<1:09:29, 42.99s/it]"
     ]
    },
    {
     "name": "stderr",
     "output_type": "stream",
     "text": [
      "\r",
      "OMP Test Batch for noise_level = 0.03:  52%|█████▏    | 103/200 [3:14:15<1:00:14, 37.26s/it]"
     ]
    },
    {
     "name": "stderr",
     "output_type": "stream",
     "text": [
      "\r",
      "OMP Test Batch for noise_level = 0.14:  47%|████▋     | 94/200 [3:14:07<2:30:27, 85.17s/it]"
     ]
    },
    {
     "name": "stderr",
     "output_type": "stream",
     "text": [
      "\r",
      "OMP Test Batch for noise_level = 0.12:  48%|████▊     | 95/200 [3:14:12<2:26:47, 83.88s/it]"
     ]
    },
    {
     "name": "stderr",
     "output_type": "stream",
     "text": [
      "\r",
      "OMP Test Batch for noise_level = 0.18:  57%|█████▋    | 114/200 [3:14:10<51:13, 35.74s/it]\r",
      "OMP Test Batch for noise_level = 0.07:  48%|████▊     | 95/200 [3:14:18<2:34:34, 88.33s/it]"
     ]
    },
    {
     "name": "stderr",
     "output_type": "stream",
     "text": [
      "\r",
      "OMP Test Batch for noise_level = 0.08:  45%|████▌     | 90/200 [3:14:19<2:34:17, 84.16s/it]"
     ]
    },
    {
     "name": "stderr",
     "output_type": "stream",
     "text": [
      "\r",
      "OMP Test Batch for noise_level = 0.01:  46%|████▋     | 93/200 [3:14:30<2:31:51, 85.15s/it]"
     ]
    },
    {
     "name": "stderr",
     "output_type": "stream",
     "text": [
      "\r",
      "OMP Test Batch for noise_level = 0.02:  52%|█████▎    | 105/200 [3:14:31<1:14:49, 47.26s/it]"
     ]
    },
    {
     "name": "stderr",
     "output_type": "stream",
     "text": [
      "\r",
      "OMP Test Batch for noise_level = 0.10:  55%|█████▍    | 109/200 [3:14:26<54:11, 35.73s/it]"
     ]
    },
    {
     "name": "stderr",
     "output_type": "stream",
     "text": [
      "\r",
      "OMP Test Batch for noise_level = 0.20:  56%|█████▌    | 111/200 [3:14:24<52:13, 35.21s/it]"
     ]
    },
    {
     "name": "stderr",
     "output_type": "stream",
     "text": [
      "\r",
      "OMP Test Batch for noise_level = 0.16:  56%|█████▌    | 111/200 [3:14:33<1:00:45, 40.96s/it]"
     ]
    },
    {
     "name": "stderr",
     "output_type": "stream",
     "text": [
      "\r",
      "OMP Test Batch for noise_level = 0.00:  52%|█████▏    | 104/200 [3:14:49<1:05:13, 40.77s/it]"
     ]
    },
    {
     "name": "stderr",
     "output_type": "stream",
     "text": [
      "\r",
      "OMP Test Batch for noise_level = 0.05:  46%|████▌     | 91/200 [3:14:47<2:35:55, 85.83s/it]"
     ]
    },
    {
     "name": "stderr",
     "output_type": "stream",
     "text": [
      "\r",
      "OMP Test Batch for noise_level = 0.03:  52%|█████▏    | 104/200 [3:14:50<58:38, 36.65s/it]  "
     ]
    },
    {
     "name": "stderr",
     "output_type": "stream",
     "text": [
      "\r",
      "OMP Test Batch for noise_level = 0.18:  57%|█████▊    | 115/200 [3:14:44<49:46, 35.14s/it]"
     ]
    },
    {
     "name": "stderr",
     "output_type": "stream",
     "text": [
      "\r",
      "OMP Test Batch for noise_level = 0.06:  46%|████▋     | 93/200 [3:14:54<2:33:08, 85.87s/it]"
     ]
    },
    {
     "name": "stderr",
     "output_type": "stream",
     "text": [
      "\r",
      "OMP Test Batch for noise_level = 0.10:  55%|█████▌    | 110/200 [3:15:01<53:26, 35.63s/it]"
     ]
    },
    {
     "name": "stderr",
     "output_type": "stream",
     "text": [
      "\r",
      "OMP Test Batch for noise_level = 0.20:  56%|█████▌    | 112/200 [3:15:00<51:49, 35.34s/it]"
     ]
    },
    {
     "name": "stderr",
     "output_type": "stream",
     "text": [
      "\r",
      "OMP Test Batch for noise_level = 0.02:  53%|█████▎    | 106/200 [3:15:20<1:14:54, 47.81s/it]"
     ]
    },
    {
     "name": "stderr",
     "output_type": "stream",
     "text": [
      "\r",
      "OMP Test Batch for noise_level = 0.09:  46%|████▌     | 92/200 [3:15:17<2:34:34, 85.87s/it]\r",
      "OMP Test Batch for noise_level = 0.00:  52%|█████▎    | 105/200 [3:15:27<1:02:52, 39.71s/it]"
     ]
    },
    {
     "name": "stderr",
     "output_type": "stream",
     "text": [
      "\r",
      "OMP Test Batch for noise_level = 0.03:  52%|█████▎    | 105/200 [3:15:24<56:44, 35.84s/it]"
     ]
    },
    {
     "name": "stderr",
     "output_type": "stream",
     "text": [
      "\r",
      "OMP Test Batch for noise_level = 0.18:  58%|█████▊    | 116/200 [3:15:16<48:02, 34.31s/it]"
     ]
    },
    {
     "name": "stderr",
     "output_type": "stream",
     "text": [
      "\r",
      "OMP Test Batch for noise_level = 0.04:  46%|████▋     | 93/200 [3:15:29<2:34:01, 86.37s/it]"
     ]
    },
    {
     "name": "stderr",
     "output_type": "stream",
     "text": [
      "\r",
      "OMP Test Batch for noise_level = 0.14:  48%|████▊     | 95/200 [3:15:25<2:25:00, 82.86s/it]"
     ]
    },
    {
     "name": "stderr",
     "output_type": "stream",
     "text": [
      "\r",
      "OMP Test Batch for noise_level = 0.16:  56%|█████▌    | 112/200 [3:15:25<1:04:39, 44.08s/it]"
     ]
    },
    {
     "name": "stderr",
     "output_type": "stream",
     "text": [
      "\r",
      "OMP Test Batch for noise_level = 0.20:  56%|█████▋    | 113/200 [3:15:28<48:15, 33.28s/it]"
     ]
    },
    {
     "name": "stderr",
     "output_type": "stream",
     "text": [
      "\r",
      "OMP Test Batch for noise_level = 0.10:  56%|█████▌    | 111/200 [3:15:37<52:58, 35.72s/it]"
     ]
    },
    {
     "name": "stderr",
     "output_type": "stream",
     "text": [
      "\r",
      "OMP Test Batch for noise_level = 0.07:  48%|████▊     | 96/200 [3:15:42<2:31:05, 87.17s/it]"
     ]
    },
    {
     "name": "stderr",
     "output_type": "stream",
     "text": [
      "\r",
      "OMP Test Batch for noise_level = 0.12:  48%|████▊     | 96/200 [3:15:40<2:27:17, 84.98s/it]"
     ]
    },
    {
     "name": "stderr",
     "output_type": "stream",
     "text": [
      "\r",
      "OMP Test Batch for noise_level = 0.08:  46%|████▌     | 91/200 [3:15:48<2:35:41, 85.70s/it]"
     ]
    },
    {
     "name": "stderr",
     "output_type": "stream",
     "text": [
      "\r",
      "OMP Test Batch for noise_level = 0.03:  53%|█████▎    | 106/200 [3:15:57<54:44, 34.94s/it]"
     ]
    },
    {
     "name": "stderr",
     "output_type": "stream",
     "text": [
      "\r",
      "OMP Test Batch for noise_level = 0.01:  47%|████▋     | 94/200 [3:16:01<2:33:33, 86.92s/it]"
     ]
    },
    {
     "name": "stderr",
     "output_type": "stream",
     "text": [
      "\r",
      "OMP Test Batch for noise_level = 0.00:  53%|█████▎    | 106/200 [3:16:03<1:00:26, 38.58s/it]"
     ]
    },
    {
     "name": "stderr",
     "output_type": "stream",
     "text": [
      "\r",
      "OMP Test Batch for noise_level = 0.18:  58%|█████▊    | 117/200 [3:15:50<47:16, 34.17s/it]"
     ]
    },
    {
     "name": "stderr",
     "output_type": "stream",
     "text": [
      "\r",
      "OMP Test Batch for noise_level = 0.02:  54%|█████▎    | 107/200 [3:16:07<1:13:45, 47.59s/it]"
     ]
    },
    {
     "name": "stderr",
     "output_type": "stream",
     "text": [
      "\r",
      "OMP Test Batch for noise_level = 0.05:  46%|████▌     | 92/200 [3:16:10<2:32:58, 84.98s/it]"
     ]
    },
    {
     "name": "stderr",
     "output_type": "stream",
     "text": [
      "\r",
      "OMP Test Batch for noise_level = 0.20:  57%|█████▋    | 114/200 [3:16:03<48:14, 33.65s/it]"
     ]
    },
    {
     "name": "stderr",
     "output_type": "stream",
     "text": [
      "\r",
      "OMP Test Batch for noise_level = 0.10:  56%|█████▌    | 112/200 [3:16:13<52:30, 35.80s/it]"
     ]
    },
    {
     "name": "stderr",
     "output_type": "stream",
     "text": [
      "\r",
      "OMP Test Batch for noise_level = 0.16:  56%|█████▋    | 113/200 [3:16:11<1:05:10, 44.95s/it]"
     ]
    },
    {
     "name": "stderr",
     "output_type": "stream",
     "text": [
      "\r",
      "OMP Test Batch for noise_level = 0.06:  47%|████▋     | 94/200 [3:16:28<2:36:00, 88.31s/it]"
     ]
    },
    {
     "name": "stderr",
     "output_type": "stream",
     "text": [
      "\r",
      "OMP Test Batch for noise_level = 0.00:  54%|█████▎    | 107/200 [3:16:36<57:18, 36.98s/it]  "
     ]
    },
    {
     "name": "stderr",
     "output_type": "stream",
     "text": [
      "\r",
      "OMP Test Batch for noise_level = 0.03:  54%|█████▎    | 107/200 [3:16:33<54:51, 35.39s/it]"
     ]
    },
    {
     "name": "stderr",
     "output_type": "stream",
     "text": [
      "\r",
      "OMP Test Batch for noise_level = 0.18:  59%|█████▉    | 118/200 [3:16:26<47:24, 34.69s/it]"
     ]
    },
    {
     "name": "stderr",
     "output_type": "stream",
     "text": [
      "\r",
      "OMP Test Batch for noise_level = 0.20:  57%|█████▊    | 115/200 [3:16:37<48:01, 33.90s/it]"
     ]
    },
    {
     "name": "stderr",
     "output_type": "stream",
     "text": [
      "\r",
      "OMP Test Batch for noise_level = 0.10:  56%|█████▋    | 113/200 [3:16:45<50:04, 34.53s/it]"
     ]
    },
    {
     "name": "stderr",
     "output_type": "stream",
     "text": [
      "\r",
      "OMP Test Batch for noise_level = 0.04:  47%|████▋     | 94/200 [3:16:52<2:31:06, 85.53s/it]"
     ]
    },
    {
     "name": "stderr",
     "output_type": "stream",
     "text": [
      "\r",
      "OMP Test Batch for noise_level = 0.02:  54%|█████▍    | 108/200 [3:16:58<1:14:50, 48.81s/it]"
     ]
    },
    {
     "name": "stderr",
     "output_type": "stream",
     "text": [
      "\r",
      "OMP Test Batch for noise_level = 0.09:  46%|████▋     | 93/200 [3:16:52<2:38:20, 88.79s/it]"
     ]
    },
    {
     "name": "stderr",
     "output_type": "stream",
     "text": [
      "\r",
      "OMP Test Batch for noise_level = 0.14:  48%|████▊     | 96/200 [3:16:54<2:27:00, 84.81s/it]"
     ]
    },
    {
     "name": "stderr",
     "output_type": "stream",
     "text": [
      "\r",
      "OMP Test Batch for noise_level = 0.03:  54%|█████▍    | 108/200 [3:17:07<53:19, 34.78s/it]"
     ]
    },
    {
     "name": "stderr",
     "output_type": "stream",
     "text": [
      "\r",
      "OMP Test Batch for noise_level = 0.12:  48%|████▊     | 97/200 [3:17:00<2:23:20, 83.50s/it]"
     ]
    },
    {
     "name": "stderr",
     "output_type": "stream",
     "text": [
      "\r",
      "OMP Test Batch for noise_level = 0.00:  54%|█████▍    | 108/200 [3:17:14<57:10, 37.29s/it]\r",
      "OMP Test Batch for noise_level = 0.18:  60%|█████▉    | 119/200 [3:16:59<46:03, 34.11s/it]"
     ]
    },
    {
     "name": "stderr",
     "output_type": "stream",
     "text": [
      "\r",
      "OMP Test Batch for noise_level = 0.07:  48%|████▊     | 97/200 [3:17:09<2:29:15, 86.94s/it]"
     ]
    },
    {
     "name": "stderr",
     "output_type": "stream",
     "text": [
      "\r",
      "OMP Test Batch for noise_level = 0.08:  46%|████▌     | 92/200 [3:17:08<2:31:14, 84.02s/it]"
     ]
    },
    {
     "name": "stderr",
     "output_type": "stream",
     "text": [
      "\r",
      "OMP Test Batch for noise_level = 0.16:  57%|█████▋    | 114/200 [3:17:03<1:07:27, 47.06s/it]"
     ]
    },
    {
     "name": "stderr",
     "output_type": "stream",
     "text": [
      "\r",
      "OMP Test Batch for noise_level = 0.01:  48%|████▊     | 95/200 [3:17:17<2:26:18, 83.60s/it]"
     ]
    },
    {
     "name": "stderr",
     "output_type": "stream",
     "text": [
      "\r",
      "OMP Test Batch for noise_level = 0.20:  58%|█████▊    | 116/200 [3:17:15<49:14, 35.17s/it]"
     ]
    },
    {
     "name": "stderr",
     "output_type": "stream",
     "text": [
      "\r",
      "OMP Test Batch for noise_level = 0.10:  57%|█████▋    | 114/200 [3:17:21<50:23, 35.16s/it]"
     ]
    },
    {
     "name": "stderr",
     "output_type": "stream",
     "text": [
      "\r",
      "OMP Test Batch for noise_level = 0.05:  46%|████▋     | 93/200 [3:17:40<2:34:43, 86.77s/it]"
     ]
    },
    {
     "name": "stderr",
     "output_type": "stream",
     "text": [
      "\r",
      "OMP Test Batch for noise_level = 0.00:  55%|█████▍    | 109/200 [3:17:47<54:45, 36.11s/it]"
     ]
    },
    {
     "name": "stderr",
     "output_type": "stream",
     "text": [
      "\r",
      "OMP Test Batch for noise_level = 0.03:  55%|█████▍    | 109/200 [3:17:45<54:16, 35.78s/it]\r",
      "OMP Test Batch for noise_level = 0.18:  60%|██████    | 120/200 [3:17:33<45:34, 34.19s/it]"
     ]
    },
    {
     "name": "stderr",
     "output_type": "stream",
     "text": [
      "\r",
      "OMP Test Batch for noise_level = 0.02:  55%|█████▍    | 109/200 [3:17:49<1:14:37, 49.21s/it]"
     ]
    },
    {
     "name": "stderr",
     "output_type": "stream",
     "text": [
      "\r",
      "OMP Test Batch for noise_level = 0.06:  48%|████▊     | 95/200 [3:17:45<2:28:32, 84.88s/it]"
     ]
    },
    {
     "name": "stderr",
     "output_type": "stream",
     "text": [
      "\r",
      "OMP Test Batch for noise_level = 0.16:  57%|█████▊    | 115/200 [3:17:51<1:07:00, 47.30s/it]"
     ]
    },
    {
     "name": "stderr",
     "output_type": "stream",
     "text": [
      "\r",
      "OMP Test Batch for noise_level = 0.20:  58%|█████▊    | 117/200 [3:17:52<49:13, 35.59s/it]"
     ]
    },
    {
     "name": "stderr",
     "output_type": "stream",
     "text": [
      "\r",
      "OMP Test Batch for noise_level = 0.10:  57%|█████▊    | 115/200 [3:17:58<50:23, 35.57s/it]"
     ]
    },
    {
     "name": "stderr",
     "output_type": "stream",
     "text": [
      "\r",
      "OMP Test Batch for noise_level = 0.09:  47%|████▋     | 94/200 [3:18:08<2:30:01, 84.92s/it]"
     ]
    },
    {
     "name": "stderr",
     "output_type": "stream",
     "text": [
      "\r",
      "OMP Test Batch for noise_level = 0.18:  60%|██████    | 121/200 [3:18:06<44:31, 33.82s/it]"
     ]
    },
    {
     "name": "stderr",
     "output_type": "stream",
     "text": [
      "\r",
      "OMP Test Batch for noise_level = 0.03:  55%|█████▌    | 110/200 [3:18:18<52:43, 35.14s/it]\r",
      "OMP Test Batch for noise_level = 0.00:  55%|█████▌    | 110/200 [3:18:22<53:33, 35.71s/it]"
     ]
    },
    {
     "name": "stderr",
     "output_type": "stream",
     "text": [
      "\r",
      "OMP Test Batch for noise_level = 0.14:  48%|████▊     | 97/200 [3:18:10<2:21:04, 82.18s/it]"
     ]
    },
    {
     "name": "stderr",
     "output_type": "stream",
     "text": [
      "\r",
      "OMP Test Batch for noise_level = 0.04:  48%|████▊     | 95/200 [3:18:23<2:32:17, 87.02s/it]"
     ]
    },
    {
     "name": "stderr",
     "output_type": "stream",
     "text": [
      "\r",
      "OMP Test Batch for noise_level = 0.12:  49%|████▉     | 98/200 [3:18:22<2:21:18, 83.12s/it]"
     ]
    },
    {
     "name": "stderr",
     "output_type": "stream",
     "text": [
      "\r",
      "OMP Test Batch for noise_level = 0.10:  58%|█████▊    | 116/200 [3:18:30<48:14, 34.45s/it]"
     ]
    },
    {
     "name": "stderr",
     "output_type": "stream",
     "text": [
      "\r",
      "OMP Test Batch for noise_level = 0.02:  55%|█████▌    | 110/200 [3:18:39<1:14:14, 49.50s/it]"
     ]
    },
    {
     "name": "stderr",
     "output_type": "stream",
     "text": [
      "\r",
      "OMP Test Batch for noise_level = 0.08:  46%|████▋     | 93/200 [3:18:35<2:31:22, 84.88s/it]"
     ]
    },
    {
     "name": "stderr",
     "output_type": "stream",
     "text": [
      "\r",
      "OMP Test Batch for noise_level = 0.20:  59%|█████▉    | 118/200 [3:18:29<49:02, 35.89s/it]"
     ]
    },
    {
     "name": "stderr",
     "output_type": "stream",
     "text": [
      "\r",
      "OMP Test Batch for noise_level = 0.07:  49%|████▉     | 98/200 [3:18:38<2:29:05, 87.70s/it]"
     ]
    },
    {
     "name": "stderr",
     "output_type": "stream",
     "text": [
      "\r",
      "OMP Test Batch for noise_level = 0.01:  48%|████▊     | 96/200 [3:18:46<2:27:48, 85.27s/it]"
     ]
    },
    {
     "name": "stderr",
     "output_type": "stream",
     "text": [
      "\r",
      "OMP Test Batch for noise_level = 0.00:  56%|█████▌    | 111/200 [3:18:57<52:47, 35.59s/it]"
     ]
    },
    {
     "name": "stderr",
     "output_type": "stream",
     "text": [
      "\r",
      "OMP Test Batch for noise_level = 0.18:  61%|██████    | 122/200 [3:18:43<44:59, 34.61s/it]"
     ]
    },
    {
     "name": "stderr",
     "output_type": "stream",
     "text": [
      "\r",
      "OMP Test Batch for noise_level = 0.16:  58%|█████▊    | 116/200 [3:18:44<1:08:31, 48.95s/it]"
     ]
    },
    {
     "name": "stderr",
     "output_type": "stream",
     "text": [
      "\r",
      "OMP Test Batch for noise_level = 0.03:  56%|█████▌    | 111/200 [3:18:58<54:03, 36.44s/it]"
     ]
    },
    {
     "name": "stderr",
     "output_type": "stream",
     "text": [
      "\r",
      "OMP Test Batch for noise_level = 0.05:  47%|████▋     | 94/200 [3:19:04<2:31:40, 85.85s/it]"
     ]
    },
    {
     "name": "stderr",
     "output_type": "stream",
     "text": [
      "\r",
      "OMP Test Batch for noise_level = 0.06:  48%|████▊     | 96/200 [3:19:12<2:28:14, 85.52s/it]"
     ]
    },
    {
     "name": "stderr",
     "output_type": "stream",
     "text": [
      "\r",
      "OMP Test Batch for noise_level = 0.10:  58%|█████▊    | 117/200 [3:19:08<49:25, 35.73s/it]"
     ]
    },
    {
     "name": "stderr",
     "output_type": "stream",
     "text": [
      "\r",
      "OMP Test Batch for noise_level = 0.20:  60%|█████▉    | 119/200 [3:19:05<48:40, 36.06s/it]"
     ]
    },
    {
     "name": "stderr",
     "output_type": "stream",
     "text": [
      "\r",
      "OMP Test Batch for noise_level = 0.02:  56%|█████▌    | 111/200 [3:19:23<1:11:03, 47.91s/it]"
     ]
    },
    {
     "name": "stderr",
     "output_type": "stream",
     "text": [
      "\r",
      "OMP Test Batch for noise_level = 0.18:  62%|██████▏   | 123/200 [3:19:19<44:55, 35.01s/it]"
     ]
    },
    {
     "name": "stderr",
     "output_type": "stream",
     "text": [
      "\r",
      "OMP Test Batch for noise_level = 0.00:  56%|█████▌    | 112/200 [3:19:34<52:42, 35.94s/it]"
     ]
    },
    {
     "name": "stderr",
     "output_type": "stream",
     "text": [
      "\r",
      "OMP Test Batch for noise_level = 0.16:  58%|█████▊    | 117/200 [3:19:26<1:04:40, 46.76s/it]\r",
      "OMP Test Batch for noise_level = 0.09:  48%|████▊     | 95/200 [3:19:30<2:27:04, 84.04s/it]"
     ]
    },
    {
     "name": "stderr",
     "output_type": "stream",
     "text": [
      "\r",
      "OMP Test Batch for noise_level = 0.03:  56%|█████▌    | 112/200 [3:19:40<56:03, 38.22s/it]"
     ]
    },
    {
     "name": "stderr",
     "output_type": "stream",
     "text": [
      "\r",
      "OMP Test Batch for noise_level = 0.04:  48%|████▊     | 96/200 [3:19:40<2:25:32, 83.97s/it]"
     ]
    },
    {
     "name": "stderr",
     "output_type": "stream",
     "text": [
      "\r",
      "OMP Test Batch for noise_level = 0.14:  49%|████▉     | 98/200 [3:19:32<2:19:38, 82.14s/it]"
     ]
    },
    {
     "name": "stderr",
     "output_type": "stream",
     "text": [
      "\r",
      "OMP Test Batch for noise_level = 0.12:  50%|████▉     | 99/200 [3:19:43<2:18:52, 82.50s/it]"
     ]
    },
    {
     "name": "stderr",
     "output_type": "stream",
     "text": [
      "\r",
      "OMP Test Batch for noise_level = 0.20:  60%|██████    | 120/200 [3:19:40<47:45, 35.82s/it]"
     ]
    },
    {
     "name": "stderr",
     "output_type": "stream",
     "text": [
      "\r",
      "OMP Test Batch for noise_level = 0.10:  59%|█████▉    | 118/200 [3:19:47<49:53, 36.50s/it]"
     ]
    },
    {
     "name": "stderr",
     "output_type": "stream",
     "text": [
      "\r",
      "OMP Test Batch for noise_level = 0.02:  56%|█████▌    | 112/200 [3:19:58<1:04:37, 44.06s/it]"
     ]
    },
    {
     "name": "stderr",
     "output_type": "stream",
     "text": [
      "\r",
      "OMP Test Batch for noise_level = 0.01:  48%|████▊     | 97/200 [3:20:04<2:22:37, 83.08s/it]"
     ]
    },
    {
     "name": "stderr",
     "output_type": "stream",
     "text": [
      "\r",
      "OMP Test Batch for noise_level = 0.08:  47%|████▋     | 94/200 [3:20:01<2:30:30, 85.19s/it]\r",
      "OMP Test Batch for noise_level = 0.07:  50%|████▉     | 99/200 [3:20:02<2:25:43, 86.57s/it]"
     ]
    },
    {
     "name": "stderr",
     "output_type": "stream",
     "text": [
      "\r",
      "OMP Test Batch for noise_level = 0.18:  62%|██████▏   | 124/200 [3:19:56<45:21, 35.81s/it]"
     ]
    },
    {
     "name": "stderr",
     "output_type": "stream",
     "text": [
      "\r",
      "OMP Test Batch for noise_level = 0.00:  56%|█████▋    | 113/200 [3:20:14<53:56, 37.20s/it]"
     ]
    },
    {
     "name": "stderr",
     "output_type": "stream",
     "text": [
      "\r",
      "OMP Test Batch for noise_level = 0.16:  59%|█████▉    | 118/200 [3:20:04<1:00:19, 44.14s/it]"
     ]
    },
    {
     "name": "stderr",
     "output_type": "stream",
     "text": [
      "\r",
      "OMP Test Batch for noise_level = 0.03:  56%|█████▋    | 113/200 [3:20:19<55:54, 38.56s/it]"
     ]
    },
    {
     "name": "stderr",
     "output_type": "stream",
     "text": [
      "\r",
      "OMP Test Batch for noise_level = 0.06:  48%|████▊     | 97/200 [3:20:27<2:21:21, 82.34s/it]"
     ]
    },
    {
     "name": "stderr",
     "output_type": "stream",
     "text": [
      "\r",
      "OMP Test Batch for noise_level = 0.20:  60%|██████    | 121/200 [3:20:18<48:06, 36.53s/it]"
     ]
    },
    {
     "name": "stderr",
     "output_type": "stream",
     "text": [
      "\r",
      "OMP Test Batch for noise_level = 0.05:  48%|████▊     | 95/200 [3:20:29<2:29:49, 85.62s/it]"
     ]
    },
    {
     "name": "stderr",
     "output_type": "stream",
     "text": [
      "\r",
      "OMP Test Batch for noise_level = 0.10:  60%|█████▉    | 119/200 [3:20:25<49:51, 36.94s/it]"
     ]
    },
    {
     "name": "stderr",
     "output_type": "stream",
     "text": [
      "\r",
      "OMP Test Batch for noise_level = 0.02:  56%|█████▋    | 113/200 [3:20:37<1:01:42, 42.56s/it]"
     ]
    },
    {
     "name": "stderr",
     "output_type": "stream",
     "text": [
      "\r",
      "OMP Test Batch for noise_level = 0.18:  62%|██████▎   | 125/200 [3:20:32<44:44, 35.80s/it]"
     ]
    },
    {
     "name": "stderr",
     "output_type": "stream",
     "text": [
      "\r",
      "OMP Test Batch for noise_level = 0.00:  57%|█████▋    | 114/200 [3:20:52<53:49, 37.55s/it]"
     ]
    },
    {
     "name": "stderr",
     "output_type": "stream",
     "text": [
      "\r",
      "OMP Test Batch for noise_level = 0.16:  60%|█████▉    | 119/200 [3:20:42<57:03, 42.26s/it]  "
     ]
    },
    {
     "name": "stderr",
     "output_type": "stream",
     "text": [
      "\r",
      "OMP Test Batch for noise_level = 0.03:  57%|█████▋    | 114/200 [3:20:58<55:08, 38.47s/it]"
     ]
    },
    {
     "name": "stderr",
     "output_type": "stream",
     "text": [
      "\r",
      "OMP Test Batch for noise_level = 0.14:  50%|████▉     | 99/200 [3:20:54<2:17:52, 81.91s/it]"
     ]
    },
    {
     "name": "stderr",
     "output_type": "stream",
     "text": [
      "\r",
      "OMP Test Batch for noise_level = 0.04:  48%|████▊     | 97/200 [3:21:05<2:24:47, 84.35s/it]"
     ]
    },
    {
     "name": "stderr",
     "output_type": "stream",
     "text": [
      "\r",
      "OMP Test Batch for noise_level = 0.20:  61%|██████    | 122/200 [3:20:56<47:45, 36.73s/it]"
     ]
    },
    {
     "name": "stderr",
     "output_type": "stream",
     "text": [
      "\r",
      "OMP Test Batch for noise_level = 0.12:  50%|█████     | 100/200 [3:21:01<2:15:03, 81.03s/it]"
     ]
    },
    {
     "name": "stderr",
     "output_type": "stream",
     "text": [
      "\r",
      "OMP Test Batch for noise_level = 0.10:  60%|██████    | 120/200 [3:21:03<49:44, 37.31s/it]"
     ]
    },
    {
     "name": "stderr",
     "output_type": "stream",
     "text": [
      "\r",
      "OMP Test Batch for noise_level = 0.09:  48%|████▊     | 96/200 [3:21:06<2:31:36, 87.46s/it]"
     ]
    },
    {
     "name": "stderr",
     "output_type": "stream",
     "text": [
      "\r",
      "OMP Test Batch for noise_level = 0.02:  57%|█████▋    | 114/200 [3:21:17<59:58, 41.84s/it]  "
     ]
    },
    {
     "name": "stderr",
     "output_type": "stream",
     "text": [
      "\r",
      "OMP Test Batch for noise_level = 0.18:  63%|██████▎   | 126/200 [3:21:07<43:55, 35.62s/it]"
     ]
    },
    {
     "name": "stderr",
     "output_type": "stream",
     "text": [
      "\r",
      "OMP Test Batch for noise_level = 0.08:  48%|████▊     | 95/200 [3:21:15<2:23:29, 81.99s/it]"
     ]
    },
    {
     "name": "stderr",
     "output_type": "stream",
     "text": [
      "\r",
      "OMP Test Batch for noise_level = 0.16:  60%|██████    | 120/200 [3:21:16<52:58, 39.73s/it]"
     ]
    },
    {
     "name": "stderr",
     "output_type": "stream",
     "text": [
      "\r",
      "OMP Test Batch for noise_level = 0.07:  50%|█████     | 100/200 [3:21:23<2:21:29, 84.90s/it]"
     ]
    },
    {
     "name": "stderr",
     "output_type": "stream",
     "text": [
      "\r",
      "OMP Test Batch for noise_level = 0.00:  57%|█████▊    | 115/200 [3:21:32<53:58, 38.10s/it]"
     ]
    },
    {
     "name": "stderr",
     "output_type": "stream",
     "text": [
      "\r",
      "OMP Test Batch for noise_level = 0.01:  49%|████▉     | 98/200 [3:21:38<2:26:51, 86.38s/it]"
     ]
    },
    {
     "name": "stderr",
     "output_type": "stream",
     "text": [
      "\r",
      "OMP Test Batch for noise_level = 0.03:  57%|█████▊    | 115/200 [3:21:39<55:44, 39.35s/it]"
     ]
    },
    {
     "name": "stderr",
     "output_type": "stream",
     "text": [
      "\r",
      "OMP Test Batch for noise_level = 0.10:  60%|██████    | 121/200 [3:21:39<48:40, 36.97s/it]\r",
      "OMP Test Batch for noise_level = 0.05:  48%|████▊     | 96/200 [3:21:45<2:23:06, 82.56s/it]"
     ]
    },
    {
     "name": "stderr",
     "output_type": "stream",
     "text": [
      "\r",
      "OMP Test Batch for noise_level = 0.20:  62%|██████▏   | 123/200 [3:21:36<48:24, 37.72s/it]"
     ]
    },
    {
     "name": "stderr",
     "output_type": "stream",
     "text": [
      "\r",
      "OMP Test Batch for noise_level = 0.06:  49%|████▉     | 98/200 [3:21:47<2:18:52, 81.70s/it]"
     ]
    },
    {
     "name": "stderr",
     "output_type": "stream",
     "text": [
      "\r",
      "OMP Test Batch for noise_level = 0.02:  57%|█████▊    | 115/200 [3:21:59<59:02, 41.67s/it]"
     ]
    },
    {
     "name": "stderr",
     "output_type": "stream",
     "text": [
      "\r",
      "OMP Test Batch for noise_level = 0.18:  64%|██████▎   | 127/200 [3:21:47<44:43, 36.75s/it]"
     ]
    },
    {
     "name": "stderr",
     "output_type": "stream",
     "text": [
      "\r",
      "OMP Test Batch for noise_level = 0.16:  60%|██████    | 121/200 [3:21:57<52:56, 40.21s/it]"
     ]
    },
    {
     "name": "stderr",
     "output_type": "stream",
     "text": [
      "\r",
      "OMP Test Batch for noise_level = 0.00:  58%|█████▊    | 116/200 [3:22:13<54:49, 39.15s/it]"
     ]
    },
    {
     "name": "stderr",
     "output_type": "stream",
     "text": [
      "\r",
      "OMP Test Batch for noise_level = 0.12:  50%|█████     | 101/200 [3:22:04<2:05:03, 75.79s/it]"
     ]
    },
    {
     "name": "stderr",
     "output_type": "stream",
     "text": [
      "\r",
      "OMP Test Batch for noise_level = 0.03:  58%|█████▊    | 116/200 [3:22:16<53:59, 38.56s/it]"
     ]
    },
    {
     "name": "stderr",
     "output_type": "stream",
     "text": [
      "\r",
      "OMP Test Batch for noise_level = 0.14:  50%|█████     | 100/200 [3:22:08<2:12:33, 79.53s/it]"
     ]
    },
    {
     "name": "stderr",
     "output_type": "stream",
     "text": [
      "\r",
      "OMP Test Batch for noise_level = 0.10:  61%|██████    | 122/200 [3:22:17<48:17, 37.15s/it]"
     ]
    },
    {
     "name": "stderr",
     "output_type": "stream",
     "text": [
      "\r",
      "OMP Test Batch for noise_level = 0.04:  49%|████▉     | 98/200 [3:22:24<2:20:39, 82.75s/it]"
     ]
    },
    {
     "name": "stderr",
     "output_type": "stream",
     "text": [
      "\r",
      "OMP Test Batch for noise_level = 0.20:  62%|██████▏   | 124/200 [3:22:14<47:59, 37.89s/it]"
     ]
    },
    {
     "name": "stderr",
     "output_type": "stream",
     "text": [
      "\r",
      "OMP Test Batch for noise_level = 0.09:  48%|████▊     | 97/200 [3:22:23<2:25:05, 84.52s/it]"
     ]
    },
    {
     "name": "stderr",
     "output_type": "stream",
     "text": [
      "\r",
      "OMP Test Batch for noise_level = 0.18:  64%|██████▍   | 128/200 [3:22:21<43:08, 35.95s/it]"
     ]
    },
    {
     "name": "stderr",
     "output_type": "stream",
     "text": [
      "\r",
      "OMP Test Batch for noise_level = 0.07:  50%|█████     | 101/200 [3:22:30<2:11:10, 79.50s/it]"
     ]
    },
    {
     "name": "stderr",
     "output_type": "stream",
     "text": [
      "\r",
      "OMP Test Batch for noise_level = 0.02:  58%|█████▊    | 116/200 [3:22:39<58:02, 41.46s/it]"
     ]
    },
    {
     "name": "stderr",
     "output_type": "stream",
     "text": [
      "\r",
      "OMP Test Batch for noise_level = 0.08:  48%|████▊     | 96/200 [3:22:35<2:20:48, 81.23s/it]"
     ]
    },
    {
     "name": "stderr",
     "output_type": "stream",
     "text": [
      "\r",
      "OMP Test Batch for noise_level = 0.16:  61%|██████    | 122/200 [3:22:33<50:48, 39.09s/it]"
     ]
    },
    {
     "name": "stderr",
     "output_type": "stream",
     "text": [
      "\r",
      "OMP Test Batch for noise_level = 0.00:  58%|█████▊    | 117/200 [3:22:54<54:37, 39.48s/it]\r",
      "OMP Test Batch for noise_level = 0.01:  50%|████▉     | 99/200 [3:22:53<2:19:34, 82.92s/it]"
     ]
    },
    {
     "name": "stderr",
     "output_type": "stream",
     "text": [
      "\r",
      "OMP Test Batch for noise_level = 0.03:  58%|█████▊    | 117/200 [3:22:58<54:56, 39.72s/it]"
     ]
    },
    {
     "name": "stderr",
     "output_type": "stream",
     "text": [
      "\r",
      "OMP Test Batch for noise_level = 0.10:  62%|██████▏   | 123/200 [3:22:56<48:23, 37.70s/it]\r",
      "OMP Test Batch for noise_level = 0.05:  48%|████▊     | 97/200 [3:23:01<2:18:36, 80.75s/it]\r",
      "OMP Test Batch for noise_level = 0.06:  50%|████▉     | 99/200 [3:23:00<2:12:59, 79.00s/it]"
     ]
    },
    {
     "name": "stderr",
     "output_type": "stream",
     "text": [
      "\r",
      "OMP Test Batch for noise_level = 0.20:  62%|██████▎   | 125/200 [3:22:51<47:07, 37.71s/it]"
     ]
    },
    {
     "name": "stderr",
     "output_type": "stream",
     "text": [
      "\r",
      "OMP Test Batch for noise_level = 0.18:  64%|██████▍   | 129/200 [3:22:56<42:14, 35.70s/it]"
     ]
    },
    {
     "name": "stderr",
     "output_type": "stream",
     "text": [
      "\r",
      "OMP Test Batch for noise_level = 0.14:  50%|█████     | 101/200 [3:23:10<2:02:33, 74.28s/it]\r",
      "OMP Test Batch for noise_level = 0.02:  58%|█████▊    | 117/200 [3:23:20<57:00, 41.21s/it]"
     ]
    },
    {
     "name": "stderr",
     "output_type": "stream",
     "text": [
      "\r",
      "OMP Test Batch for noise_level = 0.12:  51%|█████     | 102/200 [3:23:12<1:59:55, 73.43s/it]"
     ]
    },
    {
     "name": "stderr",
     "output_type": "stream",
     "text": [
      "\r",
      "OMP Test Batch for noise_level = 0.16:  62%|██████▏   | 123/200 [3:23:15<50:58, 39.73s/it]"
     ]
    },
    {
     "name": "stderr",
     "output_type": "stream",
     "text": [
      "\r",
      "OMP Test Batch for noise_level = 0.09:  49%|████▉     | 98/200 [3:23:24<2:11:35, 77.41s/it]"
     ]
    },
    {
     "name": "stderr",
     "output_type": "stream",
     "text": [
      "\r",
      "OMP Test Batch for noise_level = 0.04:  50%|████▉     | 99/200 [3:23:31<2:11:11, 77.93s/it]"
     ]
    },
    {
     "name": "stderr",
     "output_type": "stream",
     "text": [
      "\r",
      "OMP Test Batch for noise_level = 0.00:  59%|█████▉    | 118/200 [3:23:37<55:19, 40.49s/it]"
     ]
    },
    {
     "name": "stderr",
     "output_type": "stream",
     "text": [
      "\r",
      "OMP Test Batch for noise_level = 0.03:  59%|█████▉    | 118/200 [3:23:38<54:14, 39.69s/it]"
     ]
    },
    {
     "name": "stderr",
     "output_type": "stream",
     "text": [
      "\r",
      "OMP Test Batch for noise_level = 0.07:  51%|█████     | 102/200 [3:23:36<2:03:19, 75.51s/it]"
     ]
    },
    {
     "name": "stderr",
     "output_type": "stream",
     "text": [
      "\r",
      "OMP Test Batch for noise_level = 0.10:  62%|██████▏   | 124/200 [3:23:35<48:22, 38.18s/it]"
     ]
    },
    {
     "name": "stderr",
     "output_type": "stream",
     "text": [
      "\r",
      "OMP Test Batch for noise_level = 0.20:  63%|██████▎   | 126/200 [3:23:31<47:20, 38.39s/it]"
     ]
    },
    {
     "name": "stderr",
     "output_type": "stream",
     "text": [
      "\r",
      "OMP Test Batch for noise_level = 0.18:  65%|██████▌   | 130/200 [3:23:35<42:44, 36.63s/it]"
     ]
    },
    {
     "name": "stderr",
     "output_type": "stream",
     "text": [
      "\r",
      "OMP Test Batch for noise_level = 0.08:  48%|████▊     | 97/200 [3:23:42<2:12:01, 76.91s/it]"
     ]
    },
    {
     "name": "stderr",
     "output_type": "stream",
     "text": [
      "\r",
      "OMP Test Batch for noise_level = 0.02:  59%|█████▉    | 118/200 [3:23:57<54:39, 40.00s/it]"
     ]
    },
    {
     "name": "stderr",
     "output_type": "stream",
     "text": [
      "\r",
      "OMP Test Batch for noise_level = 0.16:  62%|██████▏   | 124/200 [3:23:48<48:01, 37.91s/it]"
     ]
    },
    {
     "name": "stderr",
     "output_type": "stream",
     "text": [
      "\r",
      "OMP Test Batch for noise_level = 0.01:  50%|█████     | 100/200 [3:24:02<2:11:13, 78.73s/it]"
     ]
    },
    {
     "name": "stderr",
     "output_type": "stream",
     "text": [
      "\r",
      "OMP Test Batch for noise_level = 0.05:  49%|████▉     | 98/200 [3:24:02<2:07:04, 74.75s/it]"
     ]
    },
    {
     "name": "stderr",
     "output_type": "stream",
     "text": [
      "\r",
      "OMP Test Batch for noise_level = 0.06:  50%|█████     | 100/200 [3:24:07<2:05:20, 75.20s/it]"
     ]
    },
    {
     "name": "stderr",
     "output_type": "stream",
     "text": [
      "\r",
      "OMP Test Batch for noise_level = 0.00:  60%|█████▉    | 119/200 [3:24:20<55:47, 41.33s/it]"
     ]
    },
    {
     "name": "stderr",
     "output_type": "stream",
     "text": [
      "\r",
      "OMP Test Batch for noise_level = 0.03:  60%|█████▉    | 119/200 [3:24:18<53:42, 39.78s/it]"
     ]
    },
    {
     "name": "stderr",
     "output_type": "stream",
     "text": [
      "\r",
      "OMP Test Batch for noise_level = 0.10:  62%|██████▎   | 125/200 [3:24:16<48:42, 38.97s/it]"
     ]
    },
    {
     "name": "stderr",
     "output_type": "stream",
     "text": [
      "\r",
      "OMP Test Batch for noise_level = 0.20:  64%|██████▎   | 127/200 [3:24:11<47:13, 38.82s/it]\r",
      "OMP Test Batch for noise_level = 0.18:  66%|██████▌   | 131/200 [3:24:12<42:24, 36.87s/it]"
     ]
    },
    {
     "name": "stderr",
     "output_type": "stream",
     "text": [
      "\r",
      "OMP Test Batch for noise_level = 0.14:  51%|█████     | 102/200 [3:24:16<1:57:25, 71.90s/it]"
     ]
    },
    {
     "name": "stderr",
     "output_type": "stream",
     "text": [
      "\r",
      "OMP Test Batch for noise_level = 0.12:  52%|█████▏    | 103/200 [3:24:18<1:55:08, 71.23s/it]"
     ]
    },
    {
     "name": "stderr",
     "output_type": "stream",
     "text": [
      "\r",
      "OMP Test Batch for noise_level = 0.16:  62%|██████▎   | 125/200 [3:24:22<45:49, 36.66s/it]"
     ]
    },
    {
     "name": "stderr",
     "output_type": "stream",
     "text": [
      "\r",
      "OMP Test Batch for noise_level = 0.09:  50%|████▉     | 99/200 [3:24:28<2:03:25, 73.32s/it]"
     ]
    },
    {
     "name": "stderr",
     "output_type": "stream",
     "text": [
      "\r",
      "OMP Test Batch for noise_level = 0.04:  50%|█████     | 100/200 [3:24:34<2:02:43, 73.64s/it]"
     ]
    },
    {
     "name": "stderr",
     "output_type": "stream",
     "text": [
      "\r",
      "OMP Test Batch for noise_level = 0.02:  60%|█████▉    | 119/200 [3:24:38<54:18, 40.23s/it]"
     ]
    },
    {
     "name": "stderr",
     "output_type": "stream",
     "text": [
      "\r",
      "OMP Test Batch for noise_level = 0.07:  52%|█████▏    | 103/200 [3:24:43<1:57:41, 72.80s/it]"
     ]
    },
    {
     "name": "stderr",
     "output_type": "stream",
     "text": [
      "\r",
      "OMP Test Batch for noise_level = 0.00:  60%|██████    | 120/200 [3:24:55<52:43, 39.54s/it]"
     ]
    },
    {
     "name": "stderr",
     "output_type": "stream",
     "text": [
      "\r",
      "OMP Test Batch for noise_level = 0.08:  49%|████▉     | 98/200 [3:24:48<2:05:11, 73.64s/it]"
     ]
    },
    {
     "name": "stderr",
     "output_type": "stream",
     "text": [
      "\r",
      "OMP Test Batch for noise_level = 0.10:  63%|██████▎   | 126/200 [3:24:53<47:16, 38.33s/it]"
     ]
    },
    {
     "name": "stderr",
     "output_type": "stream",
     "text": [
      "\r",
      "OMP Test Batch for noise_level = 0.03:  60%|██████    | 120/200 [3:25:01<54:10, 40.64s/it]"
     ]
    },
    {
     "name": "stderr",
     "output_type": "stream",
     "text": [
      "\r",
      "OMP Test Batch for noise_level = 0.20:  64%|██████▍   | 128/200 [3:24:52<47:15, 39.39s/it]"
     ]
    },
    {
     "name": "stderr",
     "output_type": "stream",
     "text": [
      "\r",
      "OMP Test Batch for noise_level = 0.18:  66%|██████▌   | 132/200 [3:24:55<43:43, 38.58s/it]"
     ]
    },
    {
     "name": "stderr",
     "output_type": "stream",
     "text": [
      "\r",
      "OMP Test Batch for noise_level = 0.01:  50%|█████     | 101/200 [3:25:10<2:04:38, 75.54s/it]"
     ]
    },
    {
     "name": "stderr",
     "output_type": "stream",
     "text": [
      "\r",
      "OMP Test Batch for noise_level = 0.16:  63%|██████▎   | 126/200 [3:25:02<46:30, 37.70s/it]"
     ]
    },
    {
     "name": "stderr",
     "output_type": "stream",
     "text": [
      "\r",
      "OMP Test Batch for noise_level = 0.06:  50%|█████     | 101/200 [3:25:11<1:58:34, 71.86s/it]"
     ]
    },
    {
     "name": "stderr",
     "output_type": "stream",
     "text": [
      "\r",
      "OMP Test Batch for noise_level = 0.05:  50%|████▉     | 99/200 [3:25:14<2:04:42, 74.08s/it]"
     ]
    },
    {
     "name": "stderr",
     "output_type": "stream",
     "text": [
      "\r",
      "OMP Test Batch for noise_level = 0.02:  60%|██████    | 120/200 [3:25:31<58:31, 43.90s/it]"
     ]
    },
    {
     "name": "stderr",
     "output_type": "stream",
     "text": [
      "\r",
      "OMP Test Batch for noise_level = 0.00:  60%|██████    | 121/200 [3:25:33<51:32, 39.15s/it]"
     ]
    },
    {
     "name": "stderr",
     "output_type": "stream",
     "text": [
      "\r",
      "OMP Test Batch for noise_level = 0.14:  52%|█████▏    | 103/200 [3:25:23<1:53:49, 70.41s/it]"
     ]
    },
    {
     "name": "stderr",
     "output_type": "stream",
     "text": [
      "\r",
      "OMP Test Batch for noise_level = 0.10:  64%|██████▎   | 127/200 [3:25:27<45:17, 37.23s/it]"
     ]
    },
    {
     "name": "stderr",
     "output_type": "stream",
     "text": [
      "\r",
      "OMP Test Batch for noise_level = 0.12:  52%|█████▏    | 104/200 [3:25:28<1:53:03, 70.66s/it]"
     ]
    },
    {
     "name": "stderr",
     "output_type": "stream",
     "text": [
      "\r",
      "OMP Test Batch for noise_level = 0.03:  60%|██████    | 121/200 [3:25:39<52:42, 40.03s/it]"
     ]
    },
    {
     "name": "stderr",
     "output_type": "stream",
     "text": [
      "\r",
      "OMP Test Batch for noise_level = 0.20:  64%|██████▍   | 129/200 [3:25:27<45:12, 38.20s/it]"
     ]
    },
    {
     "name": "stderr",
     "output_type": "stream",
     "text": [
      "\r",
      "OMP Test Batch for noise_level = 0.09:  50%|█████     | 100/200 [3:25:37<1:59:59, 72.00s/it]"
     ]
    },
    {
     "name": "stderr",
     "output_type": "stream",
     "text": [
      "\r",
      "OMP Test Batch for noise_level = 0.04:  50%|█████     | 101/200 [3:25:43<1:59:08, 72.21s/it]"
     ]
    },
    {
     "name": "stderr",
     "output_type": "stream",
     "text": [
      "\r",
      "OMP Test Batch for noise_level = 0.16:  64%|██████▎   | 127/200 [3:25:35<44:13, 36.35s/it]"
     ]
    },
    {
     "name": "stderr",
     "output_type": "stream",
     "text": [
      "\r",
      "OMP Test Batch for noise_level = 0.07:  52%|█████▏    | 104/200 [3:25:51<1:54:37, 71.65s/it]"
     ]
    },
    {
     "name": "stderr",
     "output_type": "stream",
     "text": [
      "\r",
      "OMP Test Batch for noise_level = 0.08:  50%|████▉     | 99/200 [3:25:55<2:00:50, 71.79s/it]"
     ]
    },
    {
     "name": "stderr",
     "output_type": "stream",
     "text": [
      "\r",
      "OMP Test Batch for noise_level = 0.18:  66%|██████▋   | 133/200 [3:25:51<48:53, 43.78s/it]"
     ]
    },
    {
     "name": "stderr",
     "output_type": "stream",
     "text": [
      "\r",
      "OMP Test Batch for noise_level = 0.01:  51%|█████     | 102/200 [3:26:14<1:57:37, 72.02s/it]"
     ]
    },
    {
     "name": "stderr",
     "output_type": "stream",
     "text": [
      "\r",
      "OMP Test Batch for noise_level = 0.00:  61%|██████    | 122/200 [3:26:16<52:05, 40.07s/it]"
     ]
    },
    {
     "name": "stderr",
     "output_type": "stream",
     "text": [
      "\r",
      "OMP Test Batch for noise_level = 0.10:  64%|██████▍   | 128/200 [3:26:06<45:13, 37.69s/it]"
     ]
    },
    {
     "name": "stderr",
     "output_type": "stream",
     "text": [
      "\r",
      "OMP Test Batch for noise_level = 0.03:  61%|██████    | 122/200 [3:26:17<51:01, 39.26s/it]"
     ]
    },
    {
     "name": "stderr",
     "output_type": "stream",
     "text": [
      "\r",
      "OMP Test Batch for noise_level = 0.20:  65%|██████▌   | 130/200 [3:26:06<44:54, 38.50s/it]"
     ]
    },
    {
     "name": "stderr",
     "output_type": "stream",
     "text": [
      "\r",
      "OMP Test Batch for noise_level = 0.02:  60%|██████    | 121/200 [3:26:24<1:01:34, 46.77s/it]\r",
      "OMP Test Batch for noise_level = 0.06:  51%|█████     | 102/200 [3:26:20<1:56:12, 71.14s/it]"
     ]
    },
    {
     "name": "stderr",
     "output_type": "stream",
     "text": [
      "\r",
      "OMP Test Batch for noise_level = 0.05:  50%|█████     | 100/200 [3:26:21<1:59:47, 71.87s/it]"
     ]
    },
    {
     "name": "stderr",
     "output_type": "stream",
     "text": [
      "\r",
      "OMP Test Batch for noise_level = 0.16:  64%|██████▍   | 128/200 [3:26:14<44:29, 37.08s/it]"
     ]
    },
    {
     "name": "stderr",
     "output_type": "stream",
     "text": [
      "\r",
      "OMP Test Batch for noise_level = 0.12:  52%|█████▎    | 105/200 [3:26:31<1:48:18, 68.40s/it]"
     ]
    },
    {
     "name": "stderr",
     "output_type": "stream",
     "text": [
      "\r",
      "OMP Test Batch for noise_level = 0.18:  67%|██████▋   | 134/200 [3:26:30<46:41, 42.44s/it]"
     ]
    },
    {
     "name": "stderr",
     "output_type": "stream",
     "text": [
      "\r",
      "OMP Test Batch for noise_level = 0.14:  52%|█████▏    | 104/200 [3:26:33<1:52:31, 70.33s/it]"
     ]
    },
    {
     "name": "stderr",
     "output_type": "stream",
     "text": [
      "\r",
      "OMP Test Batch for noise_level = 0.09:  50%|█████     | 101/200 [3:26:40<1:54:28, 69.38s/it]"
     ]
    },
    {
     "name": "stderr",
     "output_type": "stream",
     "text": [
      "\r",
      "OMP Test Batch for noise_level = 0.04:  51%|█████     | 102/200 [3:26:52<1:56:16, 71.19s/it]"
     ]
    },
    {
     "name": "stderr",
     "output_type": "stream",
     "text": [
      "\r",
      "OMP Test Batch for noise_level = 0.20:  66%|██████▌   | 131/200 [3:26:43<43:30, 37.84s/it]\r",
      "OMP Test Batch for noise_level = 0.00:  62%|██████▏   | 123/200 [3:26:59<52:37, 41.01s/it]"
     ]
    },
    {
     "name": "stderr",
     "output_type": "stream",
     "text": [
      "\r",
      "OMP Test Batch for noise_level = 0.10:  64%|██████▍   | 129/200 [3:26:49<46:25, 39.24s/it]"
     ]
    },
    {
     "name": "stderr",
     "output_type": "stream",
     "text": [
      "\r",
      "OMP Test Batch for noise_level = 0.03:  62%|██████▏   | 123/200 [3:27:00<51:56, 40.47s/it]"
     ]
    },
    {
     "name": "stderr",
     "output_type": "stream",
     "text": [
      "\r",
      "OMP Test Batch for noise_level = 0.07:  52%|█████▎    | 105/200 [3:27:00<1:51:50, 70.64s/it]\r",
      "OMP Test Batch for noise_level = 0.02:  61%|██████    | 122/200 [3:27:05<58:32, 45.03s/it]  "
     ]
    },
    {
     "name": "stderr",
     "output_type": "stream",
     "text": [
      "\r",
      "OMP Test Batch for noise_level = 0.16:  64%|██████▍   | 129/200 [3:26:55<45:23, 38.36s/it]"
     ]
    },
    {
     "name": "stderr",
     "output_type": "stream",
     "text": [
      "\r",
      "OMP Test Batch for noise_level = 0.08:  50%|█████     | 100/200 [3:27:07<1:59:46, 71.86s/it]"
     ]
    },
    {
     "name": "stderr",
     "output_type": "stream",
     "text": [
      "\r",
      "OMP Test Batch for noise_level = 0.01:  52%|█████▏    | 103/200 [3:27:23<1:55:04, 71.18s/it]"
     ]
    },
    {
     "name": "stderr",
     "output_type": "stream",
     "text": [
      "\r",
      "OMP Test Batch for noise_level = 0.18:  68%|██████▊   | 135/200 [3:27:13<46:16, 42.72s/it]"
     ]
    },
    {
     "name": "stderr",
     "output_type": "stream",
     "text": [
      "\r",
      "OMP Test Batch for noise_level = 0.06:  52%|█████▏    | 103/200 [3:27:23<1:51:15, 68.82s/it]"
     ]
    },
    {
     "name": "stderr",
     "output_type": "stream",
     "text": [
      "\r",
      "OMP Test Batch for noise_level = 0.05:  50%|█████     | 101/200 [3:27:31<1:57:26, 71.17s/it]"
     ]
    },
    {
     "name": "stderr",
     "output_type": "stream",
     "text": [
      "\r",
      "OMP Test Batch for noise_level = 0.20:  66%|██████▌   | 132/200 [3:27:25<44:23, 39.17s/it]"
     ]
    },
    {
     "name": "stderr",
     "output_type": "stream",
     "text": [
      "\r",
      "OMP Test Batch for noise_level = 0.10:  65%|██████▌   | 130/200 [3:27:31<46:40, 40.01s/it]"
     ]
    },
    {
     "name": "stderr",
     "output_type": "stream",
     "text": [
      "\r",
      "OMP Test Batch for noise_level = 0.00:  62%|██████▏   | 124/200 [3:27:43<52:59, 41.83s/it]"
     ]
    },
    {
     "name": "stderr",
     "output_type": "stream",
     "text": [
      "\r",
      "OMP Test Batch for noise_level = 0.16:  65%|██████▌   | 130/200 [3:27:32<44:07, 37.82s/it]"
     ]
    },
    {
     "name": "stderr",
     "output_type": "stream",
     "text": [
      "\r",
      "OMP Test Batch for noise_level = 0.03:  62%|██████▏   | 124/200 [3:27:44<52:39, 41.58s/it]"
     ]
    },
    {
     "name": "stderr",
     "output_type": "stream",
     "text": [
      "\r",
      "OMP Test Batch for noise_level = 0.14:  52%|█████▎    | 105/200 [3:27:36<1:47:54, 68.16s/it]"
     ]
    },
    {
     "name": "stderr",
     "output_type": "stream",
     "text": [
      "\r",
      "OMP Test Batch for noise_level = 0.12:  53%|█████▎    | 106/200 [3:27:39<1:46:59, 68.29s/it]"
     ]
    },
    {
     "name": "stderr",
     "output_type": "stream",
     "text": [
      "\r",
      "OMP Test Batch for noise_level = 0.02:  62%|██████▏   | 123/200 [3:27:49<57:18, 44.65s/it]"
     ]
    },
    {
     "name": "stderr",
     "output_type": "stream",
     "text": [
      "\r",
      "OMP Test Batch for noise_level = 0.09:  51%|█████     | 102/200 [3:27:43<1:49:54, 67.29s/it]"
     ]
    },
    {
     "name": "stderr",
     "output_type": "stream",
     "text": [
      "\r",
      "OMP Test Batch for noise_level = 0.04:  52%|█████▏    | 103/200 [3:28:00<1:53:31, 70.23s/it]"
     ]
    },
    {
     "name": "stderr",
     "output_type": "stream",
     "text": [
      "\r",
      "OMP Test Batch for noise_level = 0.18:  68%|██████▊   | 136/200 [3:27:53<44:34, 41.79s/it]"
     ]
    },
    {
     "name": "stderr",
     "output_type": "stream",
     "text": [
      "\r",
      "OMP Test Batch for noise_level = 0.07:  53%|█████▎    | 106/200 [3:28:02<1:46:44, 68.13s/it]"
     ]
    },
    {
     "name": "stderr",
     "output_type": "stream",
     "text": [
      "\r",
      "OMP Test Batch for noise_level = 0.08:  50%|█████     | 101/200 [3:28:07<1:52:33, 68.22s/it]"
     ]
    },
    {
     "name": "stderr",
     "output_type": "stream",
     "text": [
      "\r",
      "OMP Test Batch for noise_level = 0.20:  66%|██████▋   | 133/200 [3:28:02<43:00, 38.51s/it]"
     ]
    },
    {
     "name": "stderr",
     "output_type": "stream",
     "text": [
      "\r",
      "OMP Test Batch for noise_level = 0.10:  66%|██████▌   | 131/200 [3:28:10<45:52, 39.88s/it]"
     ]
    },
    {
     "name": "stderr",
     "output_type": "stream",
     "text": [
      "\r",
      "OMP Test Batch for noise_level = 0.00:  62%|██████▎   | 125/200 [3:28:24<52:16, 41.82s/it]"
     ]
    },
    {
     "name": "stderr",
     "output_type": "stream",
     "text": [
      "\r",
      "OMP Test Batch for noise_level = 0.03:  62%|██████▎   | 125/200 [3:28:27<52:34, 42.07s/it]"
     ]
    },
    {
     "name": "stderr",
     "output_type": "stream",
     "text": [
      "\r",
      "OMP Test Batch for noise_level = 0.06:  52%|█████▏    | 104/200 [3:28:25<1:46:48, 66.76s/it]\r",
      "OMP Test Batch for noise_level = 0.01:  52%|█████▏    | 104/200 [3:28:31<1:52:25, 70.27s/it]"
     ]
    },
    {
     "name": "stderr",
     "output_type": "stream",
     "text": [
      "\r",
      "OMP Test Batch for noise_level = 0.02:  62%|██████▏   | 124/200 [3:28:31<55:47, 44.05s/it]\r",
      "OMP Test Batch for noise_level = 0.16:  66%|██████▌   | 131/200 [3:28:20<46:57, 40.83s/it]"
     ]
    },
    {
     "name": "stderr",
     "output_type": "stream",
     "text": [
      "\r",
      "OMP Test Batch for noise_level = 0.05:  51%|█████     | 102/200 [3:28:31<1:50:41, 67.77s/it]"
     ]
    },
    {
     "name": "stderr",
     "output_type": "stream",
     "text": [
      "\r",
      "OMP Test Batch for noise_level = 0.09:  52%|█████▏    | 103/200 [3:28:40<1:44:13, 64.47s/it]"
     ]
    },
    {
     "name": "stderr",
     "output_type": "stream",
     "text": [
      "\r",
      "OMP Test Batch for noise_level = 0.14:  53%|█████▎    | 106/200 [3:28:42<1:45:50, 67.55s/it]"
     ]
    },
    {
     "name": "stderr",
     "output_type": "stream",
     "text": [
      "\r",
      "OMP Test Batch for noise_level = 0.20:  67%|██████▋   | 134/200 [3:28:39<42:02, 38.22s/it]"
     ]
    },
    {
     "name": "stderr",
     "output_type": "stream",
     "text": [
      "\r",
      "OMP Test Batch for noise_level = 0.12:  54%|█████▎    | 107/200 [3:28:45<1:44:54, 67.68s/it]"
     ]
    },
    {
     "name": "stderr",
     "output_type": "stream",
     "text": [
      "\r",
      "OMP Test Batch for noise_level = 0.18:  68%|██████▊   | 137/200 [3:28:45<47:07, 44.88s/it]"
     ]
    },
    {
     "name": "stderr",
     "output_type": "stream",
     "text": [
      "\r",
      "OMP Test Batch for noise_level = 0.00:  63%|██████▎   | 126/200 [3:29:02<50:01, 40.56s/it]"
     ]
    },
    {
     "name": "stderr",
     "output_type": "stream",
     "text": [
      "\r",
      "OMP Test Batch for noise_level = 0.10:  66%|██████▌   | 132/200 [3:28:53<46:07, 40.70s/it]"
     ]
    },
    {
     "name": "stderr",
     "output_type": "stream",
     "text": [
      "\r",
      "OMP Test Batch for noise_level = 0.04:  52%|█████▏    | 104/200 [3:29:04<1:49:13, 68.27s/it]"
     ]
    },
    {
     "name": "stderr",
     "output_type": "stream",
     "text": [
      "\r",
      "OMP Test Batch for noise_level = 0.03:  63%|██████▎   | 126/200 [3:29:05<50:20, 40.81s/it]"
     ]
    },
    {
     "name": "stderr",
     "output_type": "stream",
     "text": [
      "\r",
      "OMP Test Batch for noise_level = 0.02:  62%|██████▎   | 125/200 [3:29:11<53:15, 42.61s/it]\r",
      "OMP Test Batch for noise_level = 0.07:  54%|█████▎    | 107/200 [3:29:05<1:43:24, 66.72s/it]"
     ]
    },
    {
     "name": "stderr",
     "output_type": "stream",
     "text": [
      "\r",
      "OMP Test Batch for noise_level = 0.08:  51%|█████     | 102/200 [3:29:05<1:46:35, 65.26s/it]"
     ]
    },
    {
     "name": "stderr",
     "output_type": "stream",
     "text": [
      "\r",
      "OMP Test Batch for noise_level = 0.16:  66%|██████▌   | 132/200 [3:29:10<49:25, 43.62s/it]"
     ]
    },
    {
     "name": "stderr",
     "output_type": "stream",
     "text": [
      "\r",
      "OMP Test Batch for noise_level = 0.06:  52%|█████▎    | 105/200 [3:29:23<1:41:10, 63.90s/it]"
     ]
    },
    {
     "name": "stderr",
     "output_type": "stream",
     "text": [
      "\r",
      "OMP Test Batch for noise_level = 0.20:  68%|██████▊   | 135/200 [3:29:19<41:55, 38.70s/it]"
     ]
    },
    {
     "name": "stderr",
     "output_type": "stream",
     "text": [
      "\r",
      "OMP Test Batch for noise_level = 0.00:  64%|██████▎   | 127/200 [3:29:40<48:15, 39.67s/it]"
     ]
    },
    {
     "name": "stderr",
     "output_type": "stream",
     "text": [
      "\r",
      "OMP Test Batch for noise_level = 0.05:  52%|█████▏    | 103/200 [3:29:34<1:47:39, 66.59s/it]"
     ]
    },
    {
     "name": "stderr",
     "output_type": "stream",
     "text": [
      "\r",
      "OMP Test Batch for noise_level = 0.01:  52%|█████▎    | 105/200 [3:29:40<1:50:48, 69.99s/it]"
     ]
    },
    {
     "name": "stderr",
     "output_type": "stream",
     "text": [
      "\r",
      "OMP Test Batch for noise_level = 0.10:  66%|██████▋   | 133/200 [3:29:34<45:42, 40.94s/it]"
     ]
    },
    {
     "name": "stderr",
     "output_type": "stream",
     "text": [
      "\r",
      "OMP Test Batch for noise_level = 0.18:  69%|██████▉   | 138/200 [3:29:31<46:46, 45.26s/it]"
     ]
    },
    {
     "name": "stderr",
     "output_type": "stream",
     "text": [
      "\r",
      "OMP Test Batch for noise_level = 0.14:  54%|█████▎    | 107/200 [3:29:37<1:38:55, 63.82s/it]"
     ]
    },
    {
     "name": "stderr",
     "output_type": "stream",
     "text": [
      "\r",
      "OMP Test Batch for noise_level = 0.03:  64%|██████▎   | 127/200 [3:29:48<50:33, 41.55s/it]"
     ]
    },
    {
     "name": "stderr",
     "output_type": "stream",
     "text": [
      "\r",
      "OMP Test Batch for noise_level = 0.02:  63%|██████▎   | 126/200 [3:29:54<52:43, 42.75s/it]"
     ]
    },
    {
     "name": "stderr",
     "output_type": "stream",
     "text": [
      "\r",
      "OMP Test Batch for noise_level = 0.09:  52%|█████▏    | 104/200 [3:29:47<1:44:02, 65.03s/it]"
     ]
    },
    {
     "name": "stderr",
     "output_type": "stream",
     "text": [
      "\r",
      "OMP Test Batch for noise_level = 0.12:  54%|█████▍    | 108/200 [3:29:52<1:43:13, 67.33s/it]"
     ]
    },
    {
     "name": "stderr",
     "output_type": "stream",
     "text": [
      "\r",
      "OMP Test Batch for noise_level = 0.16:  66%|██████▋   | 133/200 [3:29:53<48:29, 43.42s/it]"
     ]
    },
    {
     "name": "stderr",
     "output_type": "stream",
     "text": [
      "\r",
      "OMP Test Batch for noise_level = 0.04:  52%|█████▎    | 105/200 [3:30:07<1:46:01, 66.97s/it]"
     ]
    },
    {
     "name": "stderr",
     "output_type": "stream",
     "text": [
      "\r",
      "OMP Test Batch for noise_level = 0.20:  68%|██████▊   | 136/200 [3:29:58<41:19, 38.74s/it]"
     ]
    },
    {
     "name": "stderr",
     "output_type": "stream",
     "text": [
      "\r",
      "OMP Test Batch for noise_level = 0.00:  64%|██████▍   | 128/200 [3:30:17<46:43, 38.94s/it]"
     ]
    },
    {
     "name": "stderr",
     "output_type": "stream",
     "text": [
      "\r",
      "OMP Test Batch for noise_level = 0.08:  52%|█████▏    | 103/200 [3:30:13<1:46:37, 65.96s/it]"
     ]
    },
    {
     "name": "stderr",
     "output_type": "stream",
     "text": [
      "\r",
      "OMP Test Batch for noise_level = 0.07:  54%|█████▍    | 108/200 [3:30:15<1:43:34, 67.55s/it]"
     ]
    },
    {
     "name": "stderr",
     "output_type": "stream",
     "text": [
      "\r",
      "OMP Test Batch for noise_level = 0.18:  70%|██████▉   | 139/200 [3:30:11<44:26, 43.71s/it]\r",
      "OMP Test Batch for noise_level = 0.10:  67%|██████▋   | 134/200 [3:30:15<45:00, 40.91s/it]"
     ]
    },
    {
     "name": "stderr",
     "output_type": "stream",
     "text": [
      "\r",
      "OMP Test Batch for noise_level = 0.03:  64%|██████▍   | 128/200 [3:30:28<48:59, 40.82s/it]"
     ]
    },
    {
     "name": "stderr",
     "output_type": "stream",
     "text": [
      "\r",
      "OMP Test Batch for noise_level = 0.02:  64%|██████▎   | 127/200 [3:30:35<51:39, 42.45s/it]"
     ]
    },
    {
     "name": "stderr",
     "output_type": "stream",
     "text": [
      "\r",
      "OMP Test Batch for noise_level = 0.06:  53%|█████▎    | 106/200 [3:30:32<1:42:54, 65.69s/it]"
     ]
    },
    {
     "name": "stderr",
     "output_type": "stream",
     "text": [
      "\r",
      "OMP Test Batch for noise_level = 0.16:  67%|██████▋   | 134/200 [3:30:33<46:31, 42.29s/it]"
     ]
    },
    {
     "name": "stderr",
     "output_type": "stream",
     "text": [
      "\r",
      "OMP Test Batch for noise_level = 0.05:  52%|█████▏    | 104/200 [3:30:45<1:48:22, 67.73s/it]"
     ]
    },
    {
     "name": "stderr",
     "output_type": "stream",
     "text": [
      "\r",
      "OMP Test Batch for noise_level = 0.01:  53%|█████▎    | 106/200 [3:30:51<1:49:49, 70.10s/it]"
     ]
    },
    {
     "name": "stderr",
     "output_type": "stream",
     "text": [
      "\r",
      "OMP Test Batch for noise_level = 0.00:  64%|██████▍   | 129/200 [3:30:55<45:55, 38.81s/it]"
     ]
    },
    {
     "name": "stderr",
     "output_type": "stream",
     "text": [
      "\r",
      "OMP Test Batch for noise_level = 0.20:  68%|██████▊   | 137/200 [3:30:41<41:54, 39.91s/it]"
     ]
    },
    {
     "name": "stderr",
     "output_type": "stream",
     "text": [
      "\r",
      "OMP Test Batch for noise_level = 0.09:  52%|█████▎    | 105/200 [3:30:48<1:41:02, 63.82s/it]"
     ]
    },
    {
     "name": "stderr",
     "output_type": "stream",
     "text": [
      "\r",
      "OMP Test Batch for noise_level = 0.14:  54%|█████▍    | 108/200 [3:30:47<1:40:45, 65.71s/it]"
     ]
    },
    {
     "name": "stderr",
     "output_type": "stream",
     "text": [
      "\r",
      "OMP Test Batch for noise_level = 0.18:  70%|███████   | 140/200 [3:30:49<42:02, 42.05s/it]"
     ]
    },
    {
     "name": "stderr",
     "output_type": "stream",
     "text": [
      "\r",
      "OMP Test Batch for noise_level = 0.12:  55%|█████▍    | 109/200 [3:30:55<1:40:11, 66.06s/it]"
     ]
    },
    {
     "name": "stderr",
     "output_type": "stream",
     "text": [
      "\r",
      "OMP Test Batch for noise_level = 0.10:  68%|██████▊   | 135/200 [3:30:59<45:24, 41.92s/it]"
     ]
    },
    {
     "name": "stderr",
     "output_type": "stream",
     "text": [
      "\r",
      "OMP Test Batch for noise_level = 0.03:  64%|██████▍   | 129/200 [3:31:09<48:41, 41.15s/it]"
     ]
    },
    {
     "name": "stderr",
     "output_type": "stream",
     "text": [
      "\r",
      "OMP Test Batch for noise_level = 0.02:  64%|██████▍   | 128/200 [3:31:12<48:48, 40.67s/it]"
     ]
    },
    {
     "name": "stderr",
     "output_type": "stream",
     "text": [
      "\r",
      "OMP Test Batch for noise_level = 0.04:  53%|█████▎    | 106/200 [3:31:16<1:45:29, 67.33s/it]"
     ]
    },
    {
     "name": "stderr",
     "output_type": "stream",
     "text": [
      "\r",
      "OMP Test Batch for noise_level = 0.07:  55%|█████▍    | 109/200 [3:31:18<1:40:27, 66.24s/it]"
     ]
    },
    {
     "name": "stderr",
     "output_type": "stream",
     "text": [
      "\r",
      "OMP Test Batch for noise_level = 0.08:  52%|█████▏    | 104/200 [3:31:19<1:45:46, 66.11s/it]"
     ]
    },
    {
     "name": "stderr",
     "output_type": "stream",
     "text": [
      "\r",
      "OMP Test Batch for noise_level = 0.16:  68%|██████▊   | 135/200 [3:31:15<45:43, 42.22s/it]"
     ]
    },
    {
     "name": "stderr",
     "output_type": "stream",
     "text": [
      "\r",
      "OMP Test Batch for noise_level = 0.00:  65%|██████▌   | 130/200 [3:31:32<44:37, 38.26s/it]"
     ]
    },
    {
     "name": "stderr",
     "output_type": "stream",
     "text": [
      "\r",
      "OMP Test Batch for noise_level = 0.06:  54%|█████▎    | 107/200 [3:31:32<1:39:08, 63.96s/it]"
     ]
    },
    {
     "name": "stderr",
     "output_type": "stream",
     "text": [
      "\r",
      "OMP Test Batch for noise_level = 0.20:  69%|██████▉   | 138/200 [3:31:24<42:07, 40.77s/it]"
     ]
    },
    {
     "name": "stderr",
     "output_type": "stream",
     "text": [
      "\r",
      "OMP Test Batch for noise_level = 0.18:  70%|███████   | 141/200 [3:31:29<40:44, 41.43s/it]"
     ]
    },
    {
     "name": "stderr",
     "output_type": "stream",
     "text": [
      "\r",
      "OMP Test Batch for noise_level = 0.10:  68%|██████▊   | 136/200 [3:31:35<42:35, 39.93s/it]"
     ]
    },
    {
     "name": "stderr",
     "output_type": "stream",
     "text": [
      "\r",
      "OMP Test Batch for noise_level = 0.03:  65%|██████▌   | 130/200 [3:31:53<48:42, 41.75s/it]"
     ]
    },
    {
     "name": "stderr",
     "output_type": "stream",
     "text": [
      "\r",
      "OMP Test Batch for noise_level = 0.05:  52%|█████▎    | 105/200 [3:31:51<1:46:32, 67.29s/it]"
     ]
    },
    {
     "name": "stderr",
     "output_type": "stream",
     "text": [
      "\r",
      "OMP Test Batch for noise_level = 0.02:  64%|██████▍   | 129/200 [3:31:56<49:18, 41.67s/it]"
     ]
    },
    {
     "name": "stderr",
     "output_type": "stream",
     "text": [
      "\r",
      "OMP Test Batch for noise_level = 0.01:  54%|█████▎    | 107/200 [3:32:00<1:48:05, 69.74s/it]"
     ]
    },
    {
     "name": "stderr",
     "output_type": "stream",
     "text": [
      "\r",
      "OMP Test Batch for noise_level = 0.14:  55%|█████▍    | 109/200 [3:31:48<1:37:29, 64.28s/it]"
     ]
    },
    {
     "name": "stderr",
     "output_type": "stream",
     "text": [
      "\r",
      "OMP Test Batch for noise_level = 0.09:  53%|█████▎    | 106/200 [3:31:56<1:42:02, 65.13s/it]"
     ]
    },
    {
     "name": "stderr",
     "output_type": "stream",
     "text": [
      "\r",
      "OMP Test Batch for noise_level = 0.12:  55%|█████▌    | 110/200 [3:31:55<1:36:18, 64.20s/it]"
     ]
    },
    {
     "name": "stderr",
     "output_type": "stream",
     "text": [
      "\r",
      "OMP Test Batch for noise_level = 0.16:  68%|██████▊   | 136/200 [3:31:57<44:57, 42.15s/it]"
     ]
    },
    {
     "name": "stderr",
     "output_type": "stream",
     "text": [
      "\r",
      "OMP Test Batch for noise_level = 0.00:  66%|██████▌   | 131/200 [3:32:16<45:58, 39.98s/it]"
     ]
    },
    {
     "name": "stderr",
     "output_type": "stream",
     "text": [
      "\r",
      "OMP Test Batch for noise_level = 0.20:  70%|██████▉   | 139/200 [3:32:03<40:56, 40.28s/it]"
     ]
    },
    {
     "name": "stderr",
     "output_type": "stream",
     "text": [
      "\r",
      "OMP Test Batch for noise_level = 0.18:  71%|███████   | 142/200 [3:32:05<38:30, 39.84s/it]"
     ]
    },
    {
     "name": "stderr",
     "output_type": "stream",
     "text": [
      "\r",
      "OMP Test Batch for noise_level = 0.10:  68%|██████▊   | 137/200 [3:32:10<40:21, 38.44s/it]"
     ]
    },
    {
     "name": "stderr",
     "output_type": "stream",
     "text": [
      "\r",
      "OMP Test Batch for noise_level = 0.04:  54%|█████▎    | 107/200 [3:32:24<1:44:40, 67.53s/it]"
     ]
    },
    {
     "name": "stderr",
     "output_type": "stream",
     "text": [
      "\r",
      "OMP Test Batch for noise_level = 0.07:  55%|█████▌    | 110/200 [3:32:21<1:38:00, 65.33s/it]"
     ]
    },
    {
     "name": "stderr",
     "output_type": "stream",
     "text": [
      "\r",
      "OMP Test Batch for noise_level = 0.08:  52%|█████▎    | 105/200 [3:32:24<1:43:51, 65.60s/it]"
     ]
    },
    {
     "name": "stderr",
     "output_type": "stream",
     "text": [
      "\r",
      "OMP Test Batch for noise_level = 0.03:  66%|██████▌   | 131/200 [3:32:30<46:40, 40.59s/it]"
     ]
    },
    {
     "name": "stderr",
     "output_type": "stream",
     "text": [
      "\r",
      "OMP Test Batch for noise_level = 0.02:  65%|██████▌   | 130/200 [3:32:36<48:11, 41.31s/it]"
     ]
    },
    {
     "name": "stderr",
     "output_type": "stream",
     "text": [
      "\r",
      "OMP Test Batch for noise_level = 0.06:  54%|█████▍    | 108/200 [3:32:35<1:37:29, 63.58s/it]"
     ]
    },
    {
     "name": "stderr",
     "output_type": "stream",
     "text": [
      "\r",
      "OMP Test Batch for noise_level = 0.16:  68%|██████▊   | 137/200 [3:32:38<44:03, 41.96s/it]"
     ]
    },
    {
     "name": "stderr",
     "output_type": "stream",
     "text": [
      "\r",
      "OMP Test Batch for noise_level = 0.20:  70%|███████   | 140/200 [3:32:40<39:24, 39.40s/it]"
     ]
    },
    {
     "name": "stderr",
     "output_type": "stream",
     "text": [
      "\r",
      "OMP Test Batch for noise_level = 0.18:  72%|███████▏  | 143/200 [3:32:42<36:56, 38.89s/it]"
     ]
    },
    {
     "name": "stderr",
     "output_type": "stream",
     "text": [
      "\r",
      "OMP Test Batch for noise_level = 0.00:  66%|██████▌   | 132/200 [3:32:59<46:11, 40.75s/it]"
     ]
    },
    {
     "name": "stderr",
     "output_type": "stream",
     "text": [
      "\r",
      "OMP Test Batch for noise_level = 0.10:  69%|██████▉   | 138/200 [3:32:51<40:42, 39.40s/it]"
     ]
    },
    {
     "name": "stderr",
     "output_type": "stream",
     "text": [
      "\r",
      "OMP Test Batch for noise_level = 0.05:  53%|█████▎    | 106/200 [3:32:59<1:45:41, 67.46s/it]"
     ]
    },
    {
     "name": "stderr",
     "output_type": "stream",
     "text": [
      "\r",
      "OMP Test Batch for noise_level = 0.14:  55%|█████▌    | 110/200 [3:32:56<1:38:08, 65.42s/it]"
     ]
    },
    {
     "name": "stderr",
     "output_type": "stream",
     "text": [
      "\r",
      "OMP Test Batch for noise_level = 0.09:  54%|█████▎    | 107/200 [3:33:01<1:40:52, 65.08s/it]"
     ]
    },
    {
     "name": "stderr",
     "output_type": "stream",
     "text": [
      "\r",
      "OMP Test Batch for noise_level = 0.01:  54%|█████▍    | 108/200 [3:33:10<1:47:11, 69.91s/it]"
     ]
    },
    {
     "name": "stderr",
     "output_type": "stream",
     "text": [
      "\r",
      "OMP Test Batch for noise_level = 0.12:  56%|█████▌    | 111/200 [3:33:04<1:37:31, 65.75s/it]"
     ]
    },
    {
     "name": "stderr",
     "output_type": "stream",
     "text": [
      "\r",
      "OMP Test Batch for noise_level = 0.03:  66%|██████▌   | 132/200 [3:33:22<49:41, 43.85s/it]"
     ]
    },
    {
     "name": "stderr",
     "output_type": "stream",
     "text": [
      "\r",
      "OMP Test Batch for noise_level = 0.04:  54%|█████▍    | 108/200 [3:33:22<1:39:09, 64.66s/it]"
     ]
    },
    {
     "name": "stderr",
     "output_type": "stream",
     "text": [
      "\r",
      "OMP Test Batch for noise_level = 0.16:  69%|██████▉   | 138/200 [3:33:14<41:20, 40.01s/it]"
     ]
    },
    {
     "name": "stderr",
     "output_type": "stream",
     "text": [
      "\r",
      "OMP Test Batch for noise_level = 0.02:  66%|██████▌   | 131/200 [3:33:29<51:16, 44.59s/it]"
     ]
    },
    {
     "name": "stderr",
     "output_type": "stream",
     "text": [
      "\r",
      "OMP Test Batch for noise_level = 0.18:  72%|███████▏  | 144/200 [3:33:18<35:19, 37.84s/it]"
     ]
    },
    {
     "name": "stderr",
     "output_type": "stream",
     "text": [
      "\r",
      "OMP Test Batch for noise_level = 0.20:  70%|███████   | 141/200 [3:33:18<38:16, 38.93s/it]"
     ]
    },
    {
     "name": "stderr",
     "output_type": "stream",
     "text": [
      "\r",
      "OMP Test Batch for noise_level = 0.00:  66%|██████▋   | 133/200 [3:33:38<44:59, 40.29s/it]"
     ]
    },
    {
     "name": "stderr",
     "output_type": "stream",
     "text": [
      "\r",
      "OMP Test Batch for noise_level = 0.07:  56%|█████▌    | 111/200 [3:33:31<1:38:56, 66.71s/it]"
     ]
    },
    {
     "name": "stderr",
     "output_type": "stream",
     "text": [
      "\r",
      "OMP Test Batch for noise_level = 0.08:  53%|█████▎    | 106/200 [3:33:32<1:43:47, 66.25s/it]"
     ]
    },
    {
     "name": "stderr",
     "output_type": "stream",
     "text": [
      "\r",
      "OMP Test Batch for noise_level = 0.06:  55%|█████▍    | 109/200 [3:33:34<1:34:11, 62.11s/it]"
     ]
    },
    {
     "name": "stderr",
     "output_type": "stream",
     "text": [
      "\r",
      "OMP Test Batch for noise_level = 0.10:  70%|██████▉   | 139/200 [3:33:32<40:22, 39.71s/it]"
     ]
    },
    {
     "name": "stderr",
     "output_type": "stream",
     "text": [
      "\r",
      "OMP Test Batch for noise_level = 0.16:  70%|██████▉   | 139/200 [3:33:50<39:36, 38.96s/it]"
     ]
    },
    {
     "name": "stderr",
     "output_type": "stream",
     "text": [
      "\r",
      "OMP Test Batch for noise_level = 0.20:  71%|███████   | 142/200 [3:33:52<36:09, 37.41s/it]"
     ]
    },
    {
     "name": "stderr",
     "output_type": "stream",
     "text": [
      "\r",
      "OMP Test Batch for noise_level = 0.18:  72%|███████▎  | 145/200 [3:33:55<34:39, 37.82s/it]"
     ]
    },
    {
     "name": "stderr",
     "output_type": "stream",
     "text": [
      "\r",
      "OMP Test Batch for noise_level = 0.00:  67%|██████▋   | 134/200 [3:34:15<43:15, 39.32s/it]"
     ]
    },
    {
     "name": "stderr",
     "output_type": "stream",
     "text": [
      "\r",
      "OMP Test Batch for noise_level = 0.05:  54%|█████▎    | 107/200 [3:34:10<1:46:13, 68.54s/it]"
     ]
    },
    {
     "name": "stderr",
     "output_type": "stream",
     "text": [
      "\r",
      "OMP Test Batch for noise_level = 0.10:  70%|███████   | 140/200 [3:34:07<38:23, 38.39s/it]"
     ]
    },
    {
     "name": "stderr",
     "output_type": "stream",
     "text": [
      "\r",
      "OMP Test Batch for noise_level = 0.03:  66%|██████▋   | 133/200 [3:34:15<52:03, 46.62s/it]"
     ]
    },
    {
     "name": "stderr",
     "output_type": "stream",
     "text": [
      "\r",
      "OMP Test Batch for noise_level = 0.09:  54%|█████▍    | 108/200 [3:34:11<1:42:19, 66.74s/it]"
     ]
    },
    {
     "name": "stderr",
     "output_type": "stream",
     "text": [
      "\r",
      "OMP Test Batch for noise_level = 0.01:  55%|█████▍    | 109/200 [3:34:21<1:46:24, 70.16s/it]"
     ]
    },
    {
     "name": "stderr",
     "output_type": "stream",
     "text": [
      "\r",
      "OMP Test Batch for noise_level = 0.14:  56%|█████▌    | 111/200 [3:34:11<1:41:01, 68.11s/it]"
     ]
    },
    {
     "name": "stderr",
     "output_type": "stream",
     "text": [
      "\r",
      "OMP Test Batch for noise_level = 0.12:  56%|█████▌    | 112/200 [3:34:14<1:38:14, 66.98s/it]"
     ]
    },
    {
     "name": "stderr",
     "output_type": "stream",
     "text": [
      "\r",
      "OMP Test Batch for noise_level = 0.02:  66%|██████▌   | 132/200 [3:34:25<54:35, 48.17s/it]"
     ]
    },
    {
     "name": "stderr",
     "output_type": "stream",
     "text": [
      "\r",
      "OMP Test Batch for noise_level = 0.04:  55%|█████▍    | 109/200 [3:34:32<1:40:51, 66.50s/it]"
     ]
    },
    {
     "name": "stderr",
     "output_type": "stream",
     "text": [
      "\r",
      "OMP Test Batch for noise_level = 0.16:  70%|███████   | 140/200 [3:34:29<38:55, 38.92s/it]"
     ]
    },
    {
     "name": "stderr",
     "output_type": "stream",
     "text": [
      "\r",
      "OMP Test Batch for noise_level = 0.06:  55%|█████▌    | 110/200 [3:34:38<1:34:02, 62.69s/it]"
     ]
    },
    {
     "name": "stderr",
     "output_type": "stream",
     "text": [
      "\r",
      "OMP Test Batch for noise_level = 0.20:  72%|███████▏  | 143/200 [3:34:29<35:35, 37.46s/it]"
     ]
    },
    {
     "name": "stderr",
     "output_type": "stream",
     "text": [
      "\r",
      "OMP Test Batch for noise_level = 0.18:  73%|███████▎  | 146/200 [3:34:34<34:13, 38.02s/it]"
     ]
    },
    {
     "name": "stderr",
     "output_type": "stream",
     "text": [
      "\r",
      "OMP Test Batch for noise_level = 0.08:  54%|█████▎    | 107/200 [3:34:42<1:44:30, 67.42s/it]"
     ]
    },
    {
     "name": "stderr",
     "output_type": "stream",
     "text": [
      "\r",
      "OMP Test Batch for noise_level = 0.07:  56%|█████▌    | 112/200 [3:34:44<1:40:27, 68.50s/it]"
     ]
    },
    {
     "name": "stderr",
     "output_type": "stream",
     "text": [
      "\r",
      "OMP Test Batch for noise_level = 0.00:  68%|██████▊   | 135/200 [3:34:56<43:02, 39.74s/it]"
     ]
    },
    {
     "name": "stderr",
     "output_type": "stream",
     "text": [
      "\r",
      "OMP Test Batch for noise_level = 0.10:  70%|███████   | 141/200 [3:34:48<38:23, 39.05s/it]"
     ]
    },
    {
     "name": "stderr",
     "output_type": "stream",
     "text": [
      "\r",
      "OMP Test Batch for noise_level = 0.03:  67%|██████▋   | 134/200 [3:35:13<55:00, 50.01s/it]"
     ]
    },
    {
     "name": "stderr",
     "output_type": "stream",
     "text": [
      "\r",
      "OMP Test Batch for noise_level = 0.16:  70%|███████   | 141/200 [3:35:04<37:11, 37.81s/it]"
     ]
    },
    {
     "name": "stderr",
     "output_type": "stream",
     "text": [
      "\r",
      "OMP Test Batch for noise_level = 0.02:  66%|██████▋   | 133/200 [3:35:18<55:13, 49.46s/it]"
     ]
    },
    {
     "name": "stderr",
     "output_type": "stream",
     "text": [
      "\r",
      "OMP Test Batch for noise_level = 0.05:  54%|█████▍    | 108/200 [3:35:17<1:44:34, 68.20s/it]"
     ]
    },
    {
     "name": "stderr",
     "output_type": "stream",
     "text": [
      "\r",
      "OMP Test Batch for noise_level = 0.18:  74%|███████▎  | 147/200 [3:35:09<32:43, 37.05s/it]"
     ]
    },
    {
     "name": "stderr",
     "output_type": "stream",
     "text": [
      "\r",
      "OMP Test Batch for noise_level = 0.20:  72%|███████▏  | 144/200 [3:35:10<35:53, 38.45s/it]"
     ]
    },
    {
     "name": "stderr",
     "output_type": "stream",
     "text": [
      "\r",
      "OMP Test Batch for noise_level = 0.14:  56%|█████▌    | 112/200 [3:35:15<1:38:21, 67.06s/it]"
     ]
    },
    {
     "name": "stderr",
     "output_type": "stream",
     "text": [
      "\r",
      "OMP Test Batch for noise_level = 0.09:  55%|█████▍    | 109/200 [3:35:21<1:42:41, 67.71s/it]"
     ]
    },
    {
     "name": "stderr",
     "output_type": "stream",
     "text": [
      "\r",
      "OMP Test Batch for noise_level = 0.01:  55%|█████▌    | 110/200 [3:35:35<1:47:00, 71.34s/it]"
     ]
    },
    {
     "name": "stderr",
     "output_type": "stream",
     "text": [
      "\r",
      "OMP Test Batch for noise_level = 0.00:  68%|██████▊   | 136/200 [3:35:36<42:37, 39.96s/it]"
     ]
    },
    {
     "name": "stderr",
     "output_type": "stream",
     "text": [
      "\r",
      "OMP Test Batch for noise_level = 0.12:  56%|█████▋    | 113/200 [3:35:27<1:39:47, 68.82s/it]"
     ]
    },
    {
     "name": "stderr",
     "output_type": "stream",
     "text": [
      "\r",
      "OMP Test Batch for noise_level = 0.10:  71%|███████   | 142/200 [3:35:28<38:05, 39.40s/it]"
     ]
    },
    {
     "name": "stderr",
     "output_type": "stream",
     "text": [
      "\r",
      "OMP Test Batch for noise_level = 0.04:  55%|█████▌    | 110/200 [3:35:46<1:43:05, 68.73s/it]"
     ]
    },
    {
     "name": "stderr",
     "output_type": "stream",
     "text": [
      "\r",
      "OMP Test Batch for noise_level = 0.16:  71%|███████   | 142/200 [3:35:37<35:13, 36.44s/it]\r",
      "OMP Test Batch for noise_level = 0.08:  54%|█████▍    | 108/200 [3:35:43<1:40:36, 65.61s/it]"
     ]
    },
    {
     "name": "stderr",
     "output_type": "stream",
     "text": [
      "\r",
      "OMP Test Batch for noise_level = 0.06:  56%|█████▌    | 111/200 [3:35:51<1:37:31, 65.75s/it]"
     ]
    },
    {
     "name": "stderr",
     "output_type": "stream",
     "text": [
      "\r",
      "OMP Test Batch for noise_level = 0.07:  56%|█████▋    | 113/200 [3:35:52<1:39:00, 68.28s/it]"
     ]
    },
    {
     "name": "stderr",
     "output_type": "stream",
     "text": [
      "\r",
      "OMP Test Batch for noise_level = 0.18:  74%|███████▍  | 148/200 [3:35:47<32:28, 37.46s/it]\r",
      "OMP Test Batch for noise_level = 0.20:  72%|███████▎  | 145/200 [3:35:46<34:35, 37.74s/it]"
     ]
    },
    {
     "name": "stderr",
     "output_type": "stream",
     "text": [
      "\r",
      "OMP Test Batch for noise_level = 0.03:  68%|██████▊   | 135/200 [3:36:09<56:03, 51.75s/it]"
     ]
    },
    {
     "name": "stderr",
     "output_type": "stream",
     "text": [
      "\r",
      "OMP Test Batch for noise_level = 0.02:  67%|██████▋   | 134/200 [3:36:13<56:15, 51.15s/it]"
     ]
    },
    {
     "name": "stderr",
     "output_type": "stream",
     "text": [
      "\r",
      "OMP Test Batch for noise_level = 0.00:  68%|██████▊   | 137/200 [3:36:17<42:18, 40.29s/it]"
     ]
    },
    {
     "name": "stderr",
     "output_type": "stream",
     "text": [
      "\r",
      "OMP Test Batch for noise_level = 0.10:  72%|███████▏  | 143/200 [3:36:07<37:21, 39.33s/it]"
     ]
    },
    {
     "name": "stderr",
     "output_type": "stream",
     "text": [
      "\r",
      "OMP Test Batch for noise_level = 0.16:  72%|███████▏  | 143/200 [3:36:15<34:54, 36.74s/it]"
     ]
    },
    {
     "name": "stderr",
     "output_type": "stream",
     "text": [
      "\r",
      "OMP Test Batch for noise_level = 0.05:  55%|█████▍    | 109/200 [3:36:29<1:45:05, 69.29s/it]"
     ]
    },
    {
     "name": "stderr",
     "output_type": "stream",
     "text": [
      "\r",
      "OMP Test Batch for noise_level = 0.01:  56%|█████▌    | 111/200 [3:36:37<1:41:46, 68.61s/it]"
     ]
    },
    {
     "name": "stderr",
     "output_type": "stream",
     "text": [
      "\r",
      "OMP Test Batch for noise_level = 0.18:  74%|███████▍  | 149/200 [3:36:24<31:45, 37.36s/it]"
     ]
    },
    {
     "name": "stderr",
     "output_type": "stream",
     "text": [
      "\r",
      "OMP Test Batch for noise_level = 0.20:  73%|███████▎  | 146/200 [3:36:24<34:01, 37.80s/it]"
     ]
    },
    {
     "name": "stderr",
     "output_type": "stream",
     "text": [
      "\r",
      "OMP Test Batch for noise_level = 0.14:  56%|█████▋    | 113/200 [3:36:28<1:39:33, 68.66s/it]\r",
      "OMP Test Batch for noise_level = 0.12:  57%|█████▋    | 114/200 [3:36:29<1:35:47, 66.84s/it]"
     ]
    },
    {
     "name": "stderr",
     "output_type": "stream",
     "text": [
      "\r",
      "OMP Test Batch for noise_level = 0.09:  55%|█████▌    | 110/200 [3:36:33<1:43:12, 68.80s/it]"
     ]
    },
    {
     "name": "stderr",
     "output_type": "stream",
     "text": [
      "\r",
      "OMP Test Batch for noise_level = 0.00:  69%|██████▉   | 138/200 [3:36:50<39:08, 37.89s/it]"
     ]
    },
    {
     "name": "stderr",
     "output_type": "stream",
     "text": [
      "\r",
      "OMP Test Batch for noise_level = 0.10:  72%|███████▏  | 144/200 [3:36:46<36:42, 39.33s/it]"
     ]
    },
    {
     "name": "stderr",
     "output_type": "stream",
     "text": [
      "\r",
      "OMP Test Batch for noise_level = 0.03:  68%|██████▊   | 136/200 [3:36:59<54:39, 51.23s/it]"
     ]
    },
    {
     "name": "stderr",
     "output_type": "stream",
     "text": [
      "\r",
      "OMP Test Batch for noise_level = 0.04:  56%|█████▌    | 111/200 [3:36:58<1:43:28, 69.76s/it]"
     ]
    },
    {
     "name": "stderr",
     "output_type": "stream",
     "text": [
      "\r",
      "OMP Test Batch for noise_level = 0.02:  68%|██████▊   | 135/200 [3:37:03<55:08, 50.89s/it]"
     ]
    },
    {
     "name": "stderr",
     "output_type": "stream",
     "text": [
      "\r",
      "OMP Test Batch for noise_level = 0.08:  55%|█████▍    | 109/200 [3:36:58<1:43:57, 68.55s/it]"
     ]
    },
    {
     "name": "stderr",
     "output_type": "stream",
     "text": [
      "\r",
      "OMP Test Batch for noise_level = 0.07:  57%|█████▋    | 114/200 [3:37:00<1:37:55, 68.32s/it]"
     ]
    },
    {
     "name": "stderr",
     "output_type": "stream",
     "text": [
      "\r",
      "OMP Test Batch for noise_level = 0.16:  72%|███████▏  | 144/200 [3:36:55<35:23, 37.91s/it]"
     ]
    },
    {
     "name": "stderr",
     "output_type": "stream",
     "text": [
      "\r",
      "OMP Test Batch for noise_level = 0.06:  56%|█████▌    | 112/200 [3:37:06<1:40:46, 68.71s/it]"
     ]
    },
    {
     "name": "stderr",
     "output_type": "stream",
     "text": [
      "\r",
      "OMP Test Batch for noise_level = 0.18:  75%|███████▌  | 150/200 [3:36:58<30:21, 36.42s/it]"
     ]
    },
    {
     "name": "stderr",
     "output_type": "stream",
     "text": [
      "\r",
      "OMP Test Batch for noise_level = 0.20:  74%|███████▎  | 147/200 [3:37:00<32:59, 37.35s/it]"
     ]
    },
    {
     "name": "stderr",
     "output_type": "stream",
     "text": [
      "\r",
      "OMP Test Batch for noise_level = 0.00:  70%|██████▉   | 139/200 [3:37:30<39:22, 38.73s/it]"
     ]
    },
    {
     "name": "stderr",
     "output_type": "stream",
     "text": [
      "\r",
      "OMP Test Batch for noise_level = 0.10:  72%|███████▎  | 145/200 [3:37:27<36:30, 39.82s/it]"
     ]
    },
    {
     "name": "stderr",
     "output_type": "stream",
     "text": [
      "\r",
      "OMP Test Batch for noise_level = 0.02:  68%|██████▊   | 136/200 [3:37:41<50:05, 46.96s/it]\r",
      "OMP Test Batch for noise_level = 0.03:  68%|██████▊   | 137/200 [3:37:40<50:33, 48.15s/it]"
     ]
    },
    {
     "name": "stderr",
     "output_type": "stream",
     "text": [
      "\r",
      "OMP Test Batch for noise_level = 0.12:  57%|█████▊    | 115/200 [3:37:35<1:34:07, 66.44s/it]"
     ]
    },
    {
     "name": "stderr",
     "output_type": "stream",
     "text": [
      "\r",
      "OMP Test Batch for noise_level = 0.05:  55%|█████▌    | 110/200 [3:37:44<1:46:34, 71.05s/it]\r",
      "OMP Test Batch for noise_level = 0.16:  72%|███████▎  | 145/200 [3:37:36<35:28, 38.70s/it]"
     ]
    },
    {
     "name": "stderr",
     "output_type": "stream",
     "text": [
      "\r",
      "OMP Test Batch for noise_level = 0.18:  76%|███████▌  | 151/200 [3:37:36<30:00, 36.75s/it]"
     ]
    },
    {
     "name": "stderr",
     "output_type": "stream",
     "text": [
      "\r",
      "OMP Test Batch for noise_level = 0.14:  57%|█████▋    | 114/200 [3:37:40<1:39:54, 69.70s/it]"
     ]
    },
    {
     "name": "stderr",
     "output_type": "stream",
     "text": [
      "\r",
      "OMP Test Batch for noise_level = 0.20:  74%|███████▍  | 148/200 [3:37:37<32:13, 37.17s/it]"
     ]
    },
    {
     "name": "stderr",
     "output_type": "stream",
     "text": [
      "\r",
      "OMP Test Batch for noise_level = 0.01:  56%|█████▌    | 112/200 [3:37:53<1:43:41, 70.70s/it]"
     ]
    },
    {
     "name": "stderr",
     "output_type": "stream",
     "text": [
      "\r",
      "OMP Test Batch for noise_level = 0.09:  56%|█████▌    | 111/200 [3:37:48<1:44:41, 70.58s/it]"
     ]
    },
    {
     "name": "stderr",
     "output_type": "stream",
     "text": [
      "\r",
      "OMP Test Batch for noise_level = 0.00:  70%|███████   | 140/200 [3:38:12<39:34, 39.57s/it]"
     ]
    },
    {
     "name": "stderr",
     "output_type": "stream",
     "text": [
      "\r",
      "OMP Test Batch for noise_level = 0.10:  73%|███████▎  | 146/200 [3:38:04<34:52, 38.75s/it]"
     ]
    },
    {
     "name": "stderr",
     "output_type": "stream",
     "text": [
      "\r",
      "OMP Test Batch for noise_level = 0.07:  57%|█████▊    | 115/200 [3:38:08<1:36:28, 68.10s/it]"
     ]
    },
    {
     "name": "stderr",
     "output_type": "stream",
     "text": [
      "\r",
      "OMP Test Batch for noise_level = 0.04:  56%|█████▌    | 112/200 [3:38:12<1:44:08, 71.01s/it]"
     ]
    },
    {
     "name": "stderr",
     "output_type": "stream",
     "text": [
      "\r",
      "OMP Test Batch for noise_level = 0.08:  55%|█████▌    | 110/200 [3:38:12<1:45:16, 70.19s/it]"
     ]
    },
    {
     "name": "stderr",
     "output_type": "stream",
     "text": [
      "\r",
      "OMP Test Batch for noise_level = 0.06:  56%|█████▋    | 113/200 [3:38:15<1:39:28, 68.61s/it]"
     ]
    },
    {
     "name": "stderr",
     "output_type": "stream",
     "text": [
      "\r",
      "OMP Test Batch for noise_level = 0.02:  68%|██████▊   | 137/200 [3:38:22<47:21, 45.11s/it]"
     ]
    },
    {
     "name": "stderr",
     "output_type": "stream",
     "text": [
      "\r",
      "OMP Test Batch for noise_level = 0.18:  76%|███████▌  | 152/200 [3:38:15<29:54, 37.39s/it]"
     ]
    },
    {
     "name": "stderr",
     "output_type": "stream",
     "text": [
      "\r",
      "OMP Test Batch for noise_level = 0.03:  69%|██████▉   | 138/200 [3:38:28<49:43, 48.12s/it]"
     ]
    },
    {
     "name": "stderr",
     "output_type": "stream",
     "text": [
      "\r",
      "OMP Test Batch for noise_level = 0.20:  74%|███████▍  | 149/200 [3:38:17<32:13, 37.91s/it]"
     ]
    },
    {
     "name": "stderr",
     "output_type": "stream",
     "text": [
      "\r",
      "OMP Test Batch for noise_level = 0.16:  73%|███████▎  | 146/200 [3:38:26<37:57, 42.17s/it]"
     ]
    },
    {
     "name": "stderr",
     "output_type": "stream",
     "text": [
      "\r",
      "OMP Test Batch for noise_level = 0.00:  70%|███████   | 141/200 [3:38:53<39:15, 39.93s/it]"
     ]
    },
    {
     "name": "stderr",
     "output_type": "stream",
     "text": [
      "\r",
      "OMP Test Batch for noise_level = 0.10:  74%|███████▎  | 147/200 [3:38:44<34:47, 39.39s/it]"
     ]
    },
    {
     "name": "stderr",
     "output_type": "stream",
     "text": [
      "\r",
      "OMP Test Batch for noise_level = 0.12:  58%|█████▊    | 116/200 [3:38:45<1:34:42, 67.65s/it]"
     ]
    },
    {
     "name": "stderr",
     "output_type": "stream",
     "text": [
      "\r",
      "OMP Test Batch for noise_level = 0.02:  69%|██████▉   | 138/200 [3:38:57<43:44, 42.33s/it]\r",
      "OMP Test Batch for noise_level = 0.14:  57%|█████▊    | 115/200 [3:38:47<1:37:41, 68.96s/it]"
     ]
    },
    {
     "name": "stderr",
     "output_type": "stream",
     "text": [
      "\r",
      "OMP Test Batch for noise_level = 0.05:  56%|█████▌    | 111/200 [3:38:58<1:46:33, 71.84s/it]"
     ]
    },
    {
     "name": "stderr",
     "output_type": "stream",
     "text": [
      "\r",
      "OMP Test Batch for noise_level = 0.01:  56%|█████▋    | 113/200 [3:39:03<1:42:37, 70.78s/it]"
     ]
    },
    {
     "name": "stderr",
     "output_type": "stream",
     "text": [
      "\r",
      "OMP Test Batch for noise_level = 0.20:  75%|███████▌  | 150/200 [3:38:52<31:01, 37.23s/it]"
     ]
    },
    {
     "name": "stderr",
     "output_type": "stream",
     "text": [
      "\r",
      "OMP Test Batch for noise_level = 0.18:  76%|███████▋  | 153/200 [3:38:55<29:56, 38.22s/it]"
     ]
    },
    {
     "name": "stderr",
     "output_type": "stream",
     "text": [
      "\r",
      "OMP Test Batch for noise_level = 0.09:  56%|█████▌    | 112/200 [3:39:01<1:44:55, 71.54s/it]"
     ]
    },
    {
     "name": "stderr",
     "output_type": "stream",
     "text": [
      "\r",
      "OMP Test Batch for noise_level = 0.08:  56%|█████▌    | 111/200 [3:39:18<1:41:54, 68.70s/it]"
     ]
    },
    {
     "name": "stderr",
     "output_type": "stream",
     "text": [
      "\r",
      "OMP Test Batch for noise_level = 0.03:  70%|██████▉   | 139/200 [3:39:25<51:42, 50.87s/it]"
     ]
    },
    {
     "name": "stderr",
     "output_type": "stream",
     "text": [
      "\r",
      "OMP Test Batch for noise_level = 0.07:  58%|█████▊    | 116/200 [3:39:22<1:37:46, 69.84s/it]"
     ]
    },
    {
     "name": "stderr",
     "output_type": "stream",
     "text": [
      "\r",
      "OMP Test Batch for noise_level = 0.00:  71%|███████   | 142/200 [3:39:30<37:48, 39.10s/it]"
     ]
    },
    {
     "name": "stderr",
     "output_type": "stream",
     "text": [
      "\r",
      "OMP Test Batch for noise_level = 0.04:  56%|█████▋    | 113/200 [3:39:27<1:44:26, 72.03s/it]"
     ]
    },
    {
     "name": "stderr",
     "output_type": "stream",
     "text": [
      "\r",
      "OMP Test Batch for noise_level = 0.10:  74%|███████▍  | 148/200 [3:39:22<33:32, 38.71s/it]"
     ]
    },
    {
     "name": "stderr",
     "output_type": "stream",
     "text": [
      "\r",
      "OMP Test Batch for noise_level = 0.16:  74%|███████▎  | 147/200 [3:39:21<40:33, 45.91s/it]"
     ]
    },
    {
     "name": "stderr",
     "output_type": "stream",
     "text": [
      "\r",
      "OMP Test Batch for noise_level = 0.06:  57%|█████▋    | 114/200 [3:39:29<1:40:41, 70.25s/it]"
     ]
    },
    {
     "name": "stderr",
     "output_type": "stream",
     "text": [
      "\r",
      "OMP Test Batch for noise_level = 0.02:  70%|██████▉   | 139/200 [3:39:34<41:22, 40.70s/it]"
     ]
    },
    {
     "name": "stderr",
     "output_type": "stream",
     "text": [
      "\r",
      "OMP Test Batch for noise_level = 0.18:  77%|███████▋  | 154/200 [3:39:26<27:46, 36.22s/it]"
     ]
    },
    {
     "name": "stderr",
     "output_type": "stream",
     "text": [
      "\r",
      "OMP Test Batch for noise_level = 0.20:  76%|███████▌  | 151/200 [3:39:33<31:13, 38.24s/it]"
     ]
    },
    {
     "name": "stderr",
     "output_type": "stream",
     "text": [
      "\r",
      "OMP Test Batch for noise_level = 0.12:  58%|█████▊    | 117/200 [3:39:53<1:33:44, 67.77s/it]"
     ]
    },
    {
     "name": "stderr",
     "output_type": "stream",
     "text": [
      "\r",
      "OMP Test Batch for noise_level = 0.05:  56%|█████▌    | 112/200 [3:40:03<1:42:31, 69.90s/it]\r",
      "OMP Test Batch for noise_level = 0.00:  72%|███████▏  | 143/200 [3:40:09<37:13, 39.18s/it]"
     ]
    },
    {
     "name": "stderr",
     "output_type": "stream",
     "text": [
      "\r",
      "OMP Test Batch for noise_level = 0.10:  74%|███████▍  | 149/200 [3:39:59<32:40, 38.44s/it]"
     ]
    },
    {
     "name": "stderr",
     "output_type": "stream",
     "text": [
      "\r",
      "OMP Test Batch for noise_level = 0.14:  58%|█████▊    | 116/200 [3:40:03<1:39:14, 70.89s/it]"
     ]
    },
    {
     "name": "stderr",
     "output_type": "stream",
     "text": [
      "\r",
      "OMP Test Batch for noise_level = 0.02:  70%|███████   | 140/200 [3:40:15<40:42, 40.71s/it]"
     ]
    },
    {
     "name": "stderr",
     "output_type": "stream",
     "text": [
      "\r",
      "OMP Test Batch for noise_level = 0.03:  70%|███████   | 140/200 [3:40:15<50:33, 50.55s/it]"
     ]
    },
    {
     "name": "stderr",
     "output_type": "stream",
     "text": [
      "\r",
      "OMP Test Batch for noise_level = 0.01:  57%|█████▋    | 114/200 [3:40:18<1:43:02, 71.89s/it]"
     ]
    },
    {
     "name": "stderr",
     "output_type": "stream",
     "text": [
      "\r",
      "OMP Test Batch for noise_level = 0.18:  78%|███████▊  | 155/200 [3:40:06<27:50, 37.13s/it]"
     ]
    },
    {
     "name": "stderr",
     "output_type": "stream",
     "text": [
      "\r",
      "OMP Test Batch for noise_level = 0.09:  56%|█████▋    | 113/200 [3:40:13<1:43:36, 71.46s/it]"
     ]
    },
    {
     "name": "stderr",
     "output_type": "stream",
     "text": [
      "\r",
      "OMP Test Batch for noise_level = 0.16:  74%|███████▍  | 148/200 [3:40:11<40:45, 47.03s/it]"
     ]
    },
    {
     "name": "stderr",
     "output_type": "stream",
     "text": [
      "\r",
      "OMP Test Batch for noise_level = 0.20:  76%|███████▌  | 152/200 [3:40:09<30:08, 37.68s/it]"
     ]
    },
    {
     "name": "stderr",
     "output_type": "stream",
     "text": [
      "\r",
      "OMP Test Batch for noise_level = 0.07:  58%|█████▊    | 117/200 [3:40:23<1:33:11, 67.37s/it]"
     ]
    },
    {
     "name": "stderr",
     "output_type": "stream",
     "text": [
      "\r",
      "OMP Test Batch for noise_level = 0.04:  57%|█████▋    | 114/200 [3:40:31<1:40:03, 69.81s/it]"
     ]
    },
    {
     "name": "stderr",
     "output_type": "stream",
     "text": [
      "\r",
      "OMP Test Batch for noise_level = 0.08:  56%|█████▌    | 112/200 [3:40:32<1:43:20, 70.46s/it]"
     ]
    },
    {
     "name": "stderr",
     "output_type": "stream",
     "text": [
      "\r",
      "OMP Test Batch for noise_level = 0.06:  57%|█████▊    | 115/200 [3:40:36<1:38:22, 69.44s/it]"
     ]
    },
    {
     "name": "stderr",
     "output_type": "stream",
     "text": [
      "\r",
      "OMP Test Batch for noise_level = 0.00:  72%|███████▏  | 144/200 [3:40:48<36:19, 38.92s/it]"
     ]
    },
    {
     "name": "stderr",
     "output_type": "stream",
     "text": [
      "\r",
      "OMP Test Batch for noise_level = 0.10:  75%|███████▌  | 150/200 [3:40:41<32:57, 39.54s/it]"
     ]
    },
    {
     "name": "stderr",
     "output_type": "stream",
     "text": [
      "\r",
      "OMP Test Batch for noise_level = 0.18:  78%|███████▊  | 156/200 [3:40:41<26:44, 36.47s/it]"
     ]
    },
    {
     "name": "stderr",
     "output_type": "stream",
     "text": [
      "\r",
      "OMP Test Batch for noise_level = 0.03:  70%|███████   | 141/200 [3:40:54<46:11, 46.98s/it]"
     ]
    },
    {
     "name": "stderr",
     "output_type": "stream",
     "text": [
      "\r",
      "OMP Test Batch for noise_level = 0.02:  70%|███████   | 141/200 [3:40:57<40:17, 40.97s/it]"
     ]
    },
    {
     "name": "stderr",
     "output_type": "stream",
     "text": [
      "\r",
      "OMP Test Batch for noise_level = 0.16:  74%|███████▍  | 149/200 [3:40:47<37:21, 43.95s/it]"
     ]
    },
    {
     "name": "stderr",
     "output_type": "stream",
     "text": [
      "\r",
      "OMP Test Batch for noise_level = 0.20:  76%|███████▋  | 153/200 [3:40:47<29:24, 37.54s/it]"
     ]
    },
    {
     "name": "stderr",
     "output_type": "stream",
     "text": [
      "\r",
      "OMP Test Batch for noise_level = 0.12:  59%|█████▉    | 118/200 [3:40:57<1:31:03, 66.63s/it]"
     ]
    },
    {
     "name": "stderr",
     "output_type": "stream",
     "text": [
      "\r",
      "OMP Test Batch for noise_level = 0.05:  56%|█████▋    | 113/200 [3:41:07<1:38:38, 68.03s/it]"
     ]
    },
    {
     "name": "stderr",
     "output_type": "stream",
     "text": [
      "\r",
      "OMP Test Batch for noise_level = 0.14:  58%|█████▊    | 117/200 [3:41:10<1:36:34, 69.82s/it]"
     ]
    },
    {
     "name": "stderr",
     "output_type": "stream",
     "text": [
      "\r",
      "OMP Test Batch for noise_level = 0.01:  57%|█████▊    | 115/200 [3:41:27<1:40:50, 71.19s/it]"
     ]
    },
    {
     "name": "stderr",
     "output_type": "stream",
     "text": [
      "\r",
      "OMP Test Batch for noise_level = 0.00:  72%|███████▎  | 145/200 [3:41:30<36:33, 39.88s/it]"
     ]
    },
    {
     "name": "stderr",
     "output_type": "stream",
     "text": [
      "\r",
      "OMP Test Batch for noise_level = 0.10:  76%|███████▌  | 151/200 [3:41:20<32:08, 39.35s/it]"
     ]
    },
    {
     "name": "stderr",
     "output_type": "stream",
     "text": [
      "\r",
      "OMP Test Batch for noise_level = 0.18:  78%|███████▊  | 157/200 [3:41:19<26:36, 37.13s/it]\r",
      "OMP Test Batch for noise_level = 0.09:  57%|█████▋    | 114/200 [3:41:25<1:42:43, 71.67s/it]"
     ]
    },
    {
     "name": "stderr",
     "output_type": "stream",
     "text": [
      "\r",
      "OMP Test Batch for noise_level = 0.07:  59%|█████▉    | 118/200 [3:41:30<1:31:43, 67.12s/it]"
     ]
    },
    {
     "name": "stderr",
     "output_type": "stream",
     "text": [
      "\r",
      "OMP Test Batch for noise_level = 0.03:  71%|███████   | 142/200 [3:41:36<44:06, 45.62s/it]"
     ]
    },
    {
     "name": "stderr",
     "output_type": "stream",
     "text": [
      "\r",
      "OMP Test Batch for noise_level = 0.02:  71%|███████   | 142/200 [3:41:39<39:59, 41.36s/it]"
     ]
    },
    {
     "name": "stderr",
     "output_type": "stream",
     "text": [
      "\r",
      "OMP Test Batch for noise_level = 0.16:  75%|███████▌  | 150/200 [3:41:28<35:51, 43.04s/it]"
     ]
    },
    {
     "name": "stderr",
     "output_type": "stream",
     "text": [
      "\r",
      "OMP Test Batch for noise_level = 0.06:  58%|█████▊    | 116/200 [3:41:36<1:33:10, 66.56s/it]"
     ]
    },
    {
     "name": "stderr",
     "output_type": "stream",
     "text": [
      "\r",
      "OMP Test Batch for noise_level = 0.20:  77%|███████▋  | 154/200 [3:41:28<29:35, 38.59s/it]"
     ]
    },
    {
     "name": "stderr",
     "output_type": "stream",
     "text": [
      "\r",
      "OMP Test Batch for noise_level = 0.04:  57%|█████▊    | 115/200 [3:41:44<1:40:01, 70.60s/it]"
     ]
    },
    {
     "name": "stderr",
     "output_type": "stream",
     "text": [
      "\r",
      "OMP Test Batch for noise_level = 0.08:  56%|█████▋    | 113/200 [3:41:45<1:43:12, 71.18s/it]"
     ]
    },
    {
     "name": "stderr",
     "output_type": "stream",
     "text": [
      "\r",
      "OMP Test Batch for noise_level = 0.18:  79%|███████▉  | 158/200 [3:41:54<25:32, 36.49s/it]"
     ]
    },
    {
     "name": "stderr",
     "output_type": "stream",
     "text": [
      "\r",
      "OMP Test Batch for noise_level = 0.05:  57%|█████▋    | 114/200 [3:42:05<1:33:17, 65.09s/it]"
     ]
    },
    {
     "name": "stderr",
     "output_type": "stream",
     "text": [
      "\r",
      "OMP Test Batch for noise_level = 0.00:  73%|███████▎  | 146/200 [3:42:12<36:26, 40.50s/it]"
     ]
    },
    {
     "name": "stderr",
     "output_type": "stream",
     "text": [
      "\r",
      "OMP Test Batch for noise_level = 0.10:  76%|███████▌  | 152/200 [3:42:03<32:12, 40.25s/it]"
     ]
    },
    {
     "name": "stderr",
     "output_type": "stream",
     "text": [
      "\r",
      "OMP Test Batch for noise_level = 0.12:  60%|█████▉    | 119/200 [3:42:03<1:29:34, 66.35s/it]"
     ]
    },
    {
     "name": "stderr",
     "output_type": "stream",
     "text": [
      "\r",
      "OMP Test Batch for noise_level = 0.03:  72%|███████▏  | 143/200 [3:42:16<41:45, 43.96s/it]"
     ]
    },
    {
     "name": "stderr",
     "output_type": "stream",
     "text": [
      "\r",
      "OMP Test Batch for noise_level = 0.16:  76%|███████▌  | 151/200 [3:42:07<34:00, 41.64s/it]"
     ]
    },
    {
     "name": "stderr",
     "output_type": "stream",
     "text": [
      "\r",
      "OMP Test Batch for noise_level = 0.02:  72%|███████▏  | 143/200 [3:42:20<39:18, 41.38s/it]"
     ]
    },
    {
     "name": "stderr",
     "output_type": "stream",
     "text": [
      "\r",
      "OMP Test Batch for noise_level = 0.20:  78%|███████▊  | 155/200 [3:42:10<29:48, 39.75s/it]"
     ]
    },
    {
     "name": "stderr",
     "output_type": "stream",
     "text": [
      "\r",
      "OMP Test Batch for noise_level = 0.14:  59%|█████▉    | 118/200 [3:42:17<1:34:29, 69.14s/it]"
     ]
    },
    {
     "name": "stderr",
     "output_type": "stream",
     "text": [
      "\r",
      "OMP Test Batch for noise_level = 0.01:  58%|█████▊    | 116/200 [3:42:38<1:39:21, 70.97s/it]"
     ]
    },
    {
     "name": "stderr",
     "output_type": "stream",
     "text": [
      "\r",
      "OMP Test Batch for noise_level = 0.07:  60%|█████▉    | 119/200 [3:42:38<1:31:03, 67.45s/it]"
     ]
    },
    {
     "name": "stderr",
     "output_type": "stream",
     "text": [
      "\r",
      "OMP Test Batch for noise_level = 0.18:  80%|███████▉  | 159/200 [3:42:33<25:18, 37.05s/it]"
     ]
    },
    {
     "name": "stderr",
     "output_type": "stream",
     "text": [
      "\r",
      "OMP Test Batch for noise_level = 0.09:  57%|█████▊    | 115/200 [3:42:39<1:42:27, 72.33s/it]"
     ]
    },
    {
     "name": "stderr",
     "output_type": "stream",
     "text": [
      "\r",
      "OMP Test Batch for noise_level = 0.00:  74%|███████▎  | 147/200 [3:42:49<34:53, 39.50s/it]"
     ]
    },
    {
     "name": "stderr",
     "output_type": "stream",
     "text": [
      "\r",
      "OMP Test Batch for noise_level = 0.06:  58%|█████▊    | 117/200 [3:42:47<1:33:45, 67.78s/it]"
     ]
    },
    {
     "name": "stderr",
     "output_type": "stream",
     "text": [
      "\r",
      "OMP Test Batch for noise_level = 0.08:  57%|█████▋    | 114/200 [3:42:47<1:38:03, 68.41s/it]\r",
      "OMP Test Batch for noise_level = 0.10:  76%|███████▋  | 153/200 [3:42:45<31:56, 40.78s/it]"
     ]
    },
    {
     "name": "stderr",
     "output_type": "stream",
     "text": [
      "\r",
      "OMP Test Batch for noise_level = 0.16:  76%|███████▌  | 152/200 [3:42:44<32:11, 40.24s/it]"
     ]
    },
    {
     "name": "stderr",
     "output_type": "stream",
     "text": [
      "\r",
      "OMP Test Batch for noise_level = 0.03:  72%|███████▏  | 144/200 [3:42:55<39:31, 42.35s/it]"
     ]
    },
    {
     "name": "stderr",
     "output_type": "stream",
     "text": [
      "\r",
      "OMP Test Batch for noise_level = 0.02:  72%|███████▏  | 144/200 [3:42:59<37:47, 40.49s/it]"
     ]
    },
    {
     "name": "stderr",
     "output_type": "stream",
     "text": [
      "\r",
      "OMP Test Batch for noise_level = 0.04:  58%|█████▊    | 116/200 [3:42:58<1:40:14, 71.60s/it]"
     ]
    },
    {
     "name": "stderr",
     "output_type": "stream",
     "text": [
      "\r",
      "OMP Test Batch for noise_level = 0.20:  78%|███████▊  | 156/200 [3:42:50<29:17, 39.94s/it]"
     ]
    },
    {
     "name": "stderr",
     "output_type": "stream",
     "text": [
      "\r",
      "OMP Test Batch for noise_level = 0.12:  60%|██████    | 120/200 [3:42:57<1:23:41, 62.77s/it]"
     ]
    },
    {
     "name": "stderr",
     "output_type": "stream",
     "text": [
      "\r",
      "OMP Test Batch for noise_level = 0.05:  57%|█████▊    | 115/200 [3:43:13<1:33:26, 65.96s/it]"
     ]
    },
    {
     "name": "stderr",
     "output_type": "stream",
     "text": [
      "\r",
      "OMP Test Batch for noise_level = 0.18:  80%|████████  | 160/200 [3:43:13<25:21, 38.03s/it]"
     ]
    },
    {
     "name": "stderr",
     "output_type": "stream",
     "text": [
      "\r",
      "OMP Test Batch for noise_level = 0.10:  77%|███████▋  | 154/200 [3:43:20<29:58, 39.09s/it]"
     ]
    },
    {
     "name": "stderr",
     "output_type": "stream",
     "text": [
      "\r",
      "OMP Test Batch for noise_level = 0.00:  74%|███████▍  | 148/200 [3:43:36<36:11, 41.76s/it]"
     ]
    },
    {
     "name": "stderr",
     "output_type": "stream",
     "text": [
      "\r",
      "OMP Test Batch for noise_level = 0.16:  76%|███████▋  | 153/200 [3:43:22<31:10, 39.81s/it]"
     ]
    },
    {
     "name": "stderr",
     "output_type": "stream",
     "text": [
      "\r",
      "OMP Test Batch for noise_level = 0.14:  60%|█████▉    | 119/200 [3:43:25<1:32:39, 68.63s/it]"
     ]
    },
    {
     "name": "stderr",
     "output_type": "stream",
     "text": [
      "\r",
      "OMP Test Batch for noise_level = 0.03:  72%|███████▎  | 145/200 [3:43:35<38:20, 41.83s/it]"
     ]
    },
    {
     "name": "stderr",
     "output_type": "stream",
     "text": [
      "\r",
      "OMP Test Batch for noise_level = 0.01:  58%|█████▊    | 117/200 [3:43:42<1:35:06, 68.76s/it]"
     ]
    },
    {
     "name": "stderr",
     "output_type": "stream",
     "text": [
      "\r",
      "OMP Test Batch for noise_level = 0.02:  72%|███████▎  | 145/200 [3:43:41<37:39, 41.07s/it]"
     ]
    },
    {
     "name": "stderr",
     "output_type": "stream",
     "text": [
      "\r",
      "OMP Test Batch for noise_level = 0.07:  60%|██████    | 120/200 [3:43:45<1:29:35, 67.19s/it]"
     ]
    },
    {
     "name": "stderr",
     "output_type": "stream",
     "text": [
      "\r",
      "OMP Test Batch for noise_level = 0.06:  59%|█████▉    | 118/200 [3:43:47<1:29:39, 65.61s/it]"
     ]
    },
    {
     "name": "stderr",
     "output_type": "stream",
     "text": [
      "\r",
      "OMP Test Batch for noise_level = 0.09:  58%|█████▊    | 116/200 [3:43:45<1:38:40, 70.48s/it]"
     ]
    },
    {
     "name": "stderr",
     "output_type": "stream",
     "text": [
      "\r",
      "OMP Test Batch for noise_level = 0.20:  78%|███████▊  | 157/200 [3:43:45<31:39, 44.17s/it]"
     ]
    },
    {
     "name": "stderr",
     "output_type": "stream",
     "text": [
      "\r",
      "OMP Test Batch for noise_level = 0.08:  57%|█████▊    | 115/200 [3:43:56<1:37:13, 68.63s/it]"
     ]
    },
    {
     "name": "stderr",
     "output_type": "stream",
     "text": [
      "\r",
      "OMP Test Batch for noise_level = 0.18:  80%|████████  | 161/200 [3:43:55<25:33, 39.33s/it]"
     ]
    },
    {
     "name": "stderr",
     "output_type": "stream",
     "text": [
      "\r",
      "OMP Test Batch for noise_level = 0.04:  58%|█████▊    | 117/200 [3:44:10<1:39:13, 71.73s/it]"
     ]
    },
    {
     "name": "stderr",
     "output_type": "stream",
     "text": [
      "\r",
      "OMP Test Batch for noise_level = 0.10:  78%|███████▊  | 155/200 [3:44:04<30:28, 40.63s/it]"
     ]
    },
    {
     "name": "stderr",
     "output_type": "stream",
     "text": [
      "\r",
      "OMP Test Batch for noise_level = 0.12:  60%|██████    | 121/200 [3:44:06<1:25:01, 64.57s/it]"
     ]
    },
    {
     "name": "stderr",
     "output_type": "stream",
     "text": [
      "\r",
      "OMP Test Batch for noise_level = 0.03:  73%|███████▎  | 146/200 [3:44:16<37:27, 41.62s/it]"
     ]
    },
    {
     "name": "stderr",
     "output_type": "stream",
     "text": [
      "\r",
      "OMP Test Batch for noise_level = 0.16:  77%|███████▋  | 154/200 [3:44:07<31:30, 41.11s/it]"
     ]
    },
    {
     "name": "stderr",
     "output_type": "stream",
     "text": [
      "\r",
      "OMP Test Batch for noise_level = 0.02:  73%|███████▎  | 146/200 [3:44:24<37:24, 41.56s/it]"
     ]
    },
    {
     "name": "stderr",
     "output_type": "stream",
     "text": [
      "\r",
      "OMP Test Batch for noise_level = 0.05:  58%|█████▊    | 116/200 [3:44:22<1:33:30, 66.79s/it]"
     ]
    },
    {
     "name": "stderr",
     "output_type": "stream",
     "text": [
      "\r",
      "OMP Test Batch for noise_level = 0.00:  74%|███████▍  | 149/200 [3:44:33<39:32, 46.52s/it]"
     ]
    },
    {
     "name": "stderr",
     "output_type": "stream",
     "text": [
      "\r",
      "OMP Test Batch for noise_level = 0.14:  60%|██████    | 120/200 [3:44:30<1:30:13, 67.67s/it]"
     ]
    },
    {
     "name": "stderr",
     "output_type": "stream",
     "text": [
      "\r",
      "OMP Test Batch for noise_level = 0.18:  81%|████████  | 162/200 [3:44:39<25:42, 40.59s/it]"
     ]
    },
    {
     "name": "stderr",
     "output_type": "stream",
     "text": [
      "\r",
      "OMP Test Batch for noise_level = 0.01:  59%|█████▉    | 118/200 [3:44:54<1:35:39, 69.99s/it]"
     ]
    },
    {
     "name": "stderr",
     "output_type": "stream",
     "text": [
      "\r",
      "OMP Test Batch for noise_level = 0.20:  79%|███████▉  | 158/200 [3:44:44<34:10, 48.82s/it]"
     ]
    },
    {
     "name": "stderr",
     "output_type": "stream",
     "text": [
      "\r",
      "OMP Test Batch for noise_level = 0.07:  60%|██████    | 121/200 [3:44:54<1:29:23, 67.90s/it]\r",
      "OMP Test Batch for noise_level = 0.16:  78%|███████▊  | 155/200 [3:44:48<30:52, 41.16s/it]"
     ]
    },
    {
     "name": "stderr",
     "output_type": "stream",
     "text": [
      "\r",
      "OMP Test Batch for noise_level = 0.10:  78%|███████▊  | 156/200 [3:44:53<31:31, 43.00s/it]"
     ]
    },
    {
     "name": "stderr",
     "output_type": "stream",
     "text": [
      "\r",
      "OMP Test Batch for noise_level = 0.02:  74%|███████▎  | 147/200 [3:45:04<36:12, 41.00s/it]"
     ]
    },
    {
     "name": "stderr",
     "output_type": "stream",
     "text": [
      "\r",
      "OMP Test Batch for noise_level = 0.09:  58%|█████▊    | 117/200 [3:45:02<1:40:14, 72.46s/it]"
     ]
    },
    {
     "name": "stderr",
     "output_type": "stream",
     "text": [
      "\r",
      "OMP Test Batch for noise_level = 0.06:  60%|█████▉    | 119/200 [3:45:07<1:34:18, 69.86s/it]"
     ]
    },
    {
     "name": "stderr",
     "output_type": "stream",
     "text": [
      "\r",
      "OMP Test Batch for noise_level = 0.03:  74%|███████▎  | 147/200 [3:45:11<40:19, 45.66s/it]"
     ]
    },
    {
     "name": "stderr",
     "output_type": "stream",
     "text": [
      "\r",
      "OMP Test Batch for noise_level = 0.08:  58%|█████▊    | 116/200 [3:45:11<1:38:31, 70.38s/it]"
     ]
    },
    {
     "name": "stderr",
     "output_type": "stream",
     "text": [
      "\r",
      "OMP Test Batch for noise_level = 0.12:  61%|██████    | 122/200 [3:45:11<1:23:58, 64.59s/it]"
     ]
    },
    {
     "name": "stderr",
     "output_type": "stream",
     "text": [
      "\r",
      "OMP Test Batch for noise_level = 0.04:  59%|█████▉    | 118/200 [3:45:24<1:38:54, 72.37s/it]"
     ]
    },
    {
     "name": "stderr",
     "output_type": "stream",
     "text": [
      "\r",
      "OMP Test Batch for noise_level = 0.00:  75%|███████▌  | 150/200 [3:45:31<41:29, 49.79s/it]"
     ]
    },
    {
     "name": "stderr",
     "output_type": "stream",
     "text": [
      "\r",
      "OMP Test Batch for noise_level = 0.18:  82%|████████▏ | 163/200 [3:45:19<24:51, 40.32s/it]"
     ]
    },
    {
     "name": "stderr",
     "output_type": "stream",
     "text": [
      "\r",
      "OMP Test Batch for noise_level = 0.16:  78%|███████▊  | 156/200 [3:45:26<29:28, 40.20s/it]"
     ]
    },
    {
     "name": "stderr",
     "output_type": "stream",
     "text": [
      "\r",
      "OMP Test Batch for noise_level = 0.02:  74%|███████▍  | 148/200 [3:45:39<34:09, 39.41s/it]"
     ]
    },
    {
     "name": "stderr",
     "output_type": "stream",
     "text": [
      "\r",
      "OMP Test Batch for noise_level = 0.05:  58%|█████▊    | 117/200 [3:45:38<1:36:04, 69.45s/it]"
     ]
    },
    {
     "name": "stderr",
     "output_type": "stream",
     "text": [
      "\r",
      "OMP Test Batch for noise_level = 0.10:  78%|███████▊  | 157/200 [3:45:42<32:12, 44.94s/it]"
     ]
    },
    {
     "name": "stderr",
     "output_type": "stream",
     "text": [
      "\r",
      "OMP Test Batch for noise_level = 0.14:  60%|██████    | 121/200 [3:45:44<1:31:29, 69.48s/it]\r",
      "OMP Test Batch for noise_level = 0.20:  80%|███████▉  | 159/200 [3:45:41<35:01, 51.26s/it]"
     ]
    },
    {
     "name": "stderr",
     "output_type": "stream",
     "text": [
      "\r",
      "OMP Test Batch for noise_level = 0.03:  74%|███████▍  | 148/200 [3:45:57<39:37, 45.71s/it]"
     ]
    },
    {
     "name": "stderr",
     "output_type": "stream",
     "text": [
      "\r",
      "OMP Test Batch for noise_level = 0.18:  82%|████████▏ | 164/200 [3:45:52<22:52, 38.12s/it]\r",
      "OMP Test Batch for noise_level = 0.01:  60%|█████▉    | 119/200 [3:46:05<1:34:54, 70.30s/it]"
     ]
    },
    {
     "name": "stderr",
     "output_type": "stream",
     "text": [
      "\r",
      "OMP Test Batch for noise_level = 0.16:  78%|███████▊  | 157/200 [3:45:58<27:10, 37.91s/it]"
     ]
    },
    {
     "name": "stderr",
     "output_type": "stream",
     "text": [
      "\r",
      "OMP Test Batch for noise_level = 0.02:  74%|███████▍  | 149/200 [3:46:13<32:08, 37.82s/it]"
     ]
    },
    {
     "name": "stderr",
     "output_type": "stream",
     "text": [
      "\r",
      "OMP Test Batch for noise_level = 0.07:  61%|██████    | 122/200 [3:46:09<1:30:57, 69.97s/it]"
     ]
    },
    {
     "name": "stderr",
     "output_type": "stream",
     "text": [
      "\r",
      "OMP Test Batch for noise_level = 0.00:  76%|███████▌  | 151/200 [3:46:18<39:57, 48.93s/it]"
     ]
    },
    {
     "name": "stderr",
     "output_type": "stream",
     "text": [
      "\r",
      "OMP Test Batch for noise_level = 0.06:  60%|██████    | 120/200 [3:46:17<1:33:07, 69.85s/it]"
     ]
    },
    {
     "name": "stderr",
     "output_type": "stream",
     "text": [
      "\r",
      "OMP Test Batch for noise_level = 0.10:  79%|███████▉  | 158/200 [3:46:19<29:44, 42.49s/it]"
     ]
    },
    {
     "name": "stderr",
     "output_type": "stream",
     "text": [
      "\r",
      "OMP Test Batch for noise_level = 0.09:  59%|█████▉    | 118/200 [3:46:21<1:41:47, 74.49s/it]"
     ]
    },
    {
     "name": "stderr",
     "output_type": "stream",
     "text": [
      "\r",
      "OMP Test Batch for noise_level = 0.08:  58%|█████▊    | 117/200 [3:46:25<1:38:49, 71.44s/it]"
     ]
    },
    {
     "name": "stderr",
     "output_type": "stream",
     "text": [
      "\r",
      "OMP Test Batch for noise_level = 0.18:  82%|████████▎ | 165/200 [3:46:21<20:42, 35.51s/it]"
     ]
    },
    {
     "name": "stderr",
     "output_type": "stream",
     "text": [
      "\r",
      "OMP Test Batch for noise_level = 0.03:  74%|███████▍  | 149/200 [3:46:35<36:41, 43.16s/it]"
     ]
    },
    {
     "name": "stderr",
     "output_type": "stream",
     "text": [
      "\r",
      "OMP Test Batch for noise_level = 0.12:  62%|██████▏   | 123/200 [3:46:27<1:27:32, 68.22s/it]\r",
      "OMP Test Batch for noise_level = 0.04:  60%|█████▉    | 119/200 [3:46:35<1:37:07, 71.94s/it]"
     ]
    },
    {
     "name": "stderr",
     "output_type": "stream",
     "text": [
      "\r",
      "OMP Test Batch for noise_level = 0.16:  79%|███████▉  | 158/200 [3:46:29<25:03, 35.80s/it]"
     ]
    },
    {
     "name": "stderr",
     "output_type": "stream",
     "text": [
      "\r",
      "OMP Test Batch for noise_level = 0.20:  80%|████████  | 160/200 [3:46:28<33:12, 49.80s/it]"
     ]
    },
    {
     "name": "stderr",
     "output_type": "stream",
     "text": [
      "\r",
      "OMP Test Batch for noise_level = 0.02:  75%|███████▌  | 150/200 [3:46:50<31:14, 37.49s/it]"
     ]
    },
    {
     "name": "stderr",
     "output_type": "stream",
     "text": [
      "\r",
      "OMP Test Batch for noise_level = 0.05:  59%|█████▉    | 118/200 [3:46:57<1:38:57, 72.40s/it]"
     ]
    },
    {
     "name": "stderr",
     "output_type": "stream",
     "text": [
      "\r",
      "OMP Test Batch for noise_level = 0.10:  80%|███████▉  | 159/200 [3:46:56<27:51, 40.76s/it]"
     ]
    },
    {
     "name": "stderr",
     "output_type": "stream",
     "text": [
      "\r",
      "OMP Test Batch for noise_level = 0.18:  83%|████████▎ | 166/200 [3:46:55<19:49, 35.00s/it]"
     ]
    },
    {
     "name": "stderr",
     "output_type": "stream",
     "text": [
      "\r",
      "OMP Test Batch for noise_level = 0.14:  61%|██████    | 122/200 [3:46:58<1:31:55, 70.71s/it]\r",
      "OMP Test Batch for noise_level = 0.00:  76%|███████▌  | 152/200 [3:47:11<40:04, 50.10s/it]"
     ]
    },
    {
     "name": "stderr",
     "output_type": "stream",
     "text": [
      "\r",
      "OMP Test Batch for noise_level = 0.03:  75%|███████▌  | 150/200 [3:47:09<33:47, 40.56s/it]"
     ]
    },
    {
     "name": "stderr",
     "output_type": "stream",
     "text": [
      "\r",
      "OMP Test Batch for noise_level = 0.16:  80%|███████▉  | 159/200 [3:47:01<23:42, 34.70s/it]"
     ]
    },
    {
     "name": "stderr",
     "output_type": "stream",
     "text": [
      "\r",
      "OMP Test Batch for noise_level = 0.01:  60%|██████    | 120/200 [3:47:18<1:34:46, 71.08s/it]"
     ]
    },
    {
     "name": "stderr",
     "output_type": "stream",
     "text": [
      "\r",
      "OMP Test Batch for noise_level = 0.02:  76%|███████▌  | 151/200 [3:47:24<29:50, 36.54s/it]"
     ]
    },
    {
     "name": "stderr",
     "output_type": "stream",
     "text": [
      "\r",
      "OMP Test Batch for noise_level = 0.07:  62%|██████▏   | 123/200 [3:47:22<1:30:57, 70.88s/it]"
     ]
    },
    {
     "name": "stderr",
     "output_type": "stream",
     "text": [
      "\r",
      "OMP Test Batch for noise_level = 0.20:  80%|████████  | 161/200 [3:47:16<32:05, 49.37s/it]"
     ]
    },
    {
     "name": "stderr",
     "output_type": "stream",
     "text": [
      "\r",
      "OMP Test Batch for noise_level = 0.06:  60%|██████    | 121/200 [3:47:26<1:31:44, 69.68s/it]"
     ]
    },
    {
     "name": "stderr",
     "output_type": "stream",
     "text": [
      "\r",
      "OMP Test Batch for noise_level = 0.10:  80%|████████  | 160/200 [3:47:31<26:05, 39.15s/it]"
     ]
    },
    {
     "name": "stderr",
     "output_type": "stream",
     "text": [
      "\r",
      "OMP Test Batch for noise_level = 0.18:  84%|████████▎ | 167/200 [3:47:28<19:01, 34.60s/it]"
     ]
    },
    {
     "name": "stderr",
     "output_type": "stream",
     "text": [
      "\r",
      "OMP Test Batch for noise_level = 0.09:  60%|█████▉    | 119/200 [3:47:35<1:40:11, 74.22s/it]"
     ]
    },
    {
     "name": "stderr",
     "output_type": "stream",
     "text": [
      "\r",
      "OMP Test Batch for noise_level = 0.03:  76%|███████▌  | 151/200 [3:47:43<31:34, 38.66s/it]"
     ]
    },
    {
     "name": "stderr",
     "output_type": "stream",
     "text": [
      "\r",
      "OMP Test Batch for noise_level = 0.08:  59%|█████▉    | 118/200 [3:47:39<1:38:49, 72.31s/it]"
     ]
    },
    {
     "name": "stderr",
     "output_type": "stream",
     "text": [
      "\r",
      "OMP Test Batch for noise_level = 0.04:  60%|██████    | 120/200 [3:47:44<1:34:49, 71.12s/it]"
     ]
    },
    {
     "name": "stderr",
     "output_type": "stream",
     "text": [
      "\r",
      "OMP Test Batch for noise_level = 0.16:  80%|████████  | 160/200 [3:47:35<22:56, 34.42s/it]"
     ]
    },
    {
     "name": "stderr",
     "output_type": "stream",
     "text": [
      "\r",
      "OMP Test Batch for noise_level = 0.12:  62%|██████▏   | 124/200 [3:47:39<1:27:41, 69.24s/it]"
     ]
    },
    {
     "name": "stderr",
     "output_type": "stream",
     "text": [
      "\r",
      "OMP Test Batch for noise_level = 0.00:  76%|███████▋  | 153/200 [3:47:52<37:06, 47.36s/it]"
     ]
    },
    {
     "name": "stderr",
     "output_type": "stream",
     "text": [
      "\r",
      "OMP Test Batch for noise_level = 0.02:  76%|███████▌  | 152/200 [3:47:52<27:02, 33.81s/it]"
     ]
    },
    {
     "name": "stderr",
     "output_type": "stream",
     "text": [
      "\r",
      "OMP Test Batch for noise_level = 0.20:  81%|████████  | 162/200 [3:47:41<26:39, 42.10s/it]"
     ]
    },
    {
     "name": "stderr",
     "output_type": "stream",
     "text": [
      "\r",
      "OMP Test Batch for noise_level = 0.14:  62%|██████▏   | 123/200 [3:47:49<1:23:13, 64.85s/it]\r",
      "OMP Test Batch for noise_level = 0.05:  60%|█████▉    | 119/200 [3:47:56<1:32:25, 68.46s/it]"
     ]
    },
    {
     "name": "stderr",
     "output_type": "stream",
     "text": [
      "\r",
      "OMP Test Batch for noise_level = 0.01:  60%|██████    | 121/200 [3:48:04<1:23:27, 63.38s/it]"
     ]
    },
    {
     "name": "stderr",
     "output_type": "stream",
     "text": [
      "\r",
      "OMP Test Batch for noise_level = 0.10:  80%|████████  | 161/200 [3:47:55<22:26, 34.52s/it]"
     ]
    },
    {
     "name": "stderr",
     "output_type": "stream",
     "text": [
      "\r",
      "OMP Test Batch for noise_level = 0.03:  76%|███████▌  | 152/200 [3:48:07<27:22, 34.21s/it]"
     ]
    },
    {
     "name": "stderr",
     "output_type": "stream",
     "text": [
      "\r",
      "OMP Test Batch for noise_level = 0.18:  84%|████████▍ | 168/200 [3:47:56<17:22, 32.57s/it]"
     ]
    },
    {
     "name": "stderr",
     "output_type": "stream",
     "text": [
      "\r",
      "OMP Test Batch for noise_level = 0.06:  61%|██████    | 122/200 [3:48:06<1:19:00, 60.78s/it]\r",
      "OMP Test Batch for noise_level = 0.07:  62%|██████▏   | 124/200 [3:48:05<1:19:21, 62.65s/it]"
     ]
    },
    {
     "name": "stderr",
     "output_type": "stream",
     "text": [
      "\r",
      "OMP Test Batch for noise_level = 0.16:  80%|████████  | 161/200 [3:48:02<20:50, 32.07s/it]"
     ]
    },
    {
     "name": "stderr",
     "output_type": "stream",
     "text": [
      "\r",
      "OMP Test Batch for noise_level = 0.00:  77%|███████▋  | 154/200 [3:48:19<31:38, 41.26s/it]"
     ]
    },
    {
     "name": "stderr",
     "output_type": "stream",
     "text": [
      "\r",
      "OMP Test Batch for noise_level = 0.02:  76%|███████▋  | 153/200 [3:48:17<24:25, 31.18s/it]"
     ]
    },
    {
     "name": "stderr",
     "output_type": "stream",
     "text": [
      "\r",
      "OMP Test Batch for noise_level = 0.09:  60%|██████    | 120/200 [3:48:15<1:25:24, 64.05s/it]"
     ]
    },
    {
     "name": "stderr",
     "output_type": "stream",
     "text": [
      "\r",
      "OMP Test Batch for noise_level = 0.20:  82%|████████▏ | 163/200 [3:48:10<23:35, 38.25s/it]"
     ]
    },
    {
     "name": "stderr",
     "output_type": "stream",
     "text": [
      "\r",
      "OMP Test Batch for noise_level = 0.08:  60%|█████▉    | 119/200 [3:48:20<1:25:08, 63.06s/it]"
     ]
    },
    {
     "name": "stderr",
     "output_type": "stream",
     "text": [
      "\r",
      "OMP Test Batch for noise_level = 0.04:  60%|██████    | 121/200 [3:48:26<1:22:09, 62.39s/it]"
     ]
    },
    {
     "name": "stderr",
     "output_type": "stream",
     "text": [
      "\r",
      "OMP Test Batch for noise_level = 0.12:  62%|██████▎   | 125/200 [3:48:21<1:16:26, 61.15s/it]"
     ]
    },
    {
     "name": "stderr",
     "output_type": "stream",
     "text": [
      "\r",
      "OMP Test Batch for noise_level = 0.10:  81%|████████  | 162/200 [3:48:25<21:06, 33.33s/it]"
     ]
    },
    {
     "name": "stderr",
     "output_type": "stream",
     "text": [
      "\r",
      "OMP Test Batch for noise_level = 0.03:  76%|███████▋  | 153/200 [3:48:38<25:58, 33.15s/it]"
     ]
    },
    {
     "name": "stderr",
     "output_type": "stream",
     "text": [
      "\r",
      "OMP Test Batch for noise_level = 0.18:  84%|████████▍ | 169/200 [3:48:28<16:41, 32.30s/it]"
     ]
    },
    {
     "name": "stderr",
     "output_type": "stream",
     "text": [
      "\r",
      "OMP Test Batch for noise_level = 0.16:  81%|████████  | 162/200 [3:48:37<21:00, 33.17s/it]"
     ]
    },
    {
     "name": "stderr",
     "output_type": "stream",
     "text": [
      "\r",
      "OMP Test Batch for noise_level = 0.02:  77%|███████▋  | 154/200 [3:48:51<24:39, 32.16s/it]"
     ]
    },
    {
     "name": "stderr",
     "output_type": "stream",
     "text": [
      "\r",
      "OMP Test Batch for noise_level = 0.05:  60%|██████    | 120/200 [3:48:53<1:26:32, 64.91s/it]"
     ]
    },
    {
     "name": "stderr",
     "output_type": "stream",
     "text": [
      "\r",
      "OMP Test Batch for noise_level = 0.14:  62%|██████▏   | 124/200 [3:48:49<1:20:30, 63.56s/it]"
     ]
    },
    {
     "name": "stderr",
     "output_type": "stream",
     "text": [
      "\r",
      "OMP Test Batch for noise_level = 0.01:  61%|██████    | 122/200 [3:49:04<1:21:08, 62.42s/it]"
     ]
    },
    {
     "name": "stderr",
     "output_type": "stream",
     "text": [
      "\r",
      "OMP Test Batch for noise_level = 0.00:  78%|███████▊  | 155/200 [3:49:09<32:56, 43.91s/it]"
     ]
    },
    {
     "name": "stderr",
     "output_type": "stream",
     "text": [
      "\r",
      "OMP Test Batch for noise_level = 0.10:  82%|████████▏ | 163/200 [3:48:59<20:41, 33.57s/it]"
     ]
    },
    {
     "name": "stderr",
     "output_type": "stream",
     "text": [
      "\r",
      "OMP Test Batch for noise_level = 0.20:  82%|████████▏ | 164/200 [3:48:59<24:52, 41.47s/it]"
     ]
    },
    {
     "name": "stderr",
     "output_type": "stream",
     "text": [
      "\r",
      "OMP Test Batch for noise_level = 0.18:  85%|████████▌ | 170/200 [3:49:02<16:21, 32.72s/it]"
     ]
    },
    {
     "name": "stderr",
     "output_type": "stream",
     "text": [
      "\r",
      "OMP Test Batch for noise_level = 0.03:  77%|███████▋  | 154/200 [3:49:14<26:02, 33.96s/it]"
     ]
    },
    {
     "name": "stderr",
     "output_type": "stream",
     "text": [
      "\r",
      "OMP Test Batch for noise_level = 0.06:  62%|██████▏   | 123/200 [3:49:14<1:20:43, 62.91s/it]"
     ]
    },
    {
     "name": "stderr",
     "output_type": "stream",
     "text": [
      "\r",
      "OMP Test Batch for noise_level = 0.16:  82%|████████▏ | 163/200 [3:49:11<20:30, 33.25s/it]"
     ]
    },
    {
     "name": "stderr",
     "output_type": "stream",
     "text": [
      "\r",
      "OMP Test Batch for noise_level = 0.07:  62%|██████▎   | 125/200 [3:49:20<1:22:53, 66.31s/it]"
     ]
    },
    {
     "name": "stderr",
     "output_type": "stream",
     "text": [
      "\r",
      "OMP Test Batch for noise_level = 0.02:  78%|███████▊  | 155/200 [3:49:27<24:56, 33.26s/it]"
     ]
    },
    {
     "name": "stderr",
     "output_type": "stream",
     "text": [
      "\r",
      "OMP Test Batch for noise_level = 0.09:  60%|██████    | 121/200 [3:49:31<1:29:03, 67.64s/it]"
     ]
    },
    {
     "name": "stderr",
     "output_type": "stream",
     "text": [
      "\r",
      "OMP Test Batch for noise_level = 0.12:  63%|██████▎   | 126/200 [3:49:29<1:18:00, 63.25s/it]"
     ]
    },
    {
     "name": "stderr",
     "output_type": "stream",
     "text": [
      "\r",
      "OMP Test Batch for noise_level = 0.08:  60%|██████    | 120/200 [3:49:34<1:28:26, 66.34s/it]"
     ]
    },
    {
     "name": "stderr",
     "output_type": "stream",
     "text": [
      "\r",
      "OMP Test Batch for noise_level = 0.10:  82%|████████▏ | 164/200 [3:49:33<20:04, 33.47s/it]"
     ]
    },
    {
     "name": "stderr",
     "output_type": "stream",
     "text": [
      "\r",
      "OMP Test Batch for noise_level = 0.04:  61%|██████    | 122/200 [3:49:42<1:26:38, 66.65s/it]"
     ]
    },
    {
     "name": "stderr",
     "output_type": "stream",
     "text": [
      "\r",
      "OMP Test Batch for noise_level = 0.18:  86%|████████▌ | 171/200 [3:49:36<16:03, 33.22s/it]"
     ]
    },
    {
     "name": "stderr",
     "output_type": "stream",
     "text": [
      "\r",
      "OMP Test Batch for noise_level = 0.03:  78%|███████▊  | 155/200 [3:49:51<26:17, 35.06s/it]"
     ]
    },
    {
     "name": "stderr",
     "output_type": "stream",
     "text": [
      "\r",
      "OMP Test Batch for noise_level = 0.16:  82%|████████▏ | 164/200 [3:49:44<19:54, 33.18s/it]"
     ]
    },
    {
     "name": "stderr",
     "output_type": "stream",
     "text": [
      "\r",
      "OMP Test Batch for noise_level = 0.00:  78%|███████▊  | 156/200 [3:50:02<34:13, 46.68s/it]"
     ]
    },
    {
     "name": "stderr",
     "output_type": "stream",
     "text": [
      "\r",
      "OMP Test Batch for noise_level = 0.20:  82%|████████▎ | 165/200 [3:49:46<25:06, 43.04s/it]"
     ]
    },
    {
     "name": "stderr",
     "output_type": "stream",
     "text": [
      "\r",
      "OMP Test Batch for noise_level = 0.02:  78%|███████▊  | 156/200 [3:50:05<25:18, 34.51s/it]"
     ]
    },
    {
     "name": "stderr",
     "output_type": "stream",
     "text": [
      "\r",
      "OMP Test Batch for noise_level = 0.01:  62%|██████▏   | 123/200 [3:50:13<1:22:49, 64.54s/it]"
     ]
    },
    {
     "name": "stderr",
     "output_type": "stream",
     "text": [
      "\r",
      "OMP Test Batch for noise_level = 0.05:  60%|██████    | 121/200 [3:50:09<1:30:01, 68.37s/it]"
     ]
    },
    {
     "name": "stderr",
     "output_type": "stream",
     "text": [
      "\r",
      "OMP Test Batch for noise_level = 0.14:  62%|██████▎   | 125/200 [3:50:03<1:23:05, 66.47s/it]"
     ]
    },
    {
     "name": "stderr",
     "output_type": "stream",
     "text": [
      "\r",
      "OMP Test Batch for noise_level = 0.10:  82%|████████▎ | 165/200 [3:50:05<19:21, 33.18s/it]"
     ]
    },
    {
     "name": "stderr",
     "output_type": "stream",
     "text": [
      "\r",
      "OMP Test Batch for noise_level = 0.18:  86%|████████▌ | 172/200 [3:50:10<15:37, 33.47s/it]"
     ]
    },
    {
     "name": "stderr",
     "output_type": "stream",
     "text": [
      "\r",
      "OMP Test Batch for noise_level = 0.16:  82%|████████▎ | 165/200 [3:50:17<19:25, 33.31s/it]"
     ]
    },
    {
     "name": "stderr",
     "output_type": "stream",
     "text": [
      "\r",
      "OMP Test Batch for noise_level = 0.03:  78%|███████▊  | 156/200 [3:50:29<26:18, 35.87s/it]"
     ]
    },
    {
     "name": "stderr",
     "output_type": "stream",
     "text": [
      "\r",
      "OMP Test Batch for noise_level = 0.06:  62%|██████▏   | 124/200 [3:50:27<1:23:19, 65.78s/it]"
     ]
    },
    {
     "name": "stderr",
     "output_type": "stream",
     "text": [
      "\r",
      "OMP Test Batch for noise_level = 0.02:  78%|███████▊  | 157/200 [3:50:42<25:18, 35.32s/it]"
     ]
    },
    {
     "name": "stderr",
     "output_type": "stream",
     "text": [
      "\r",
      "OMP Test Batch for noise_level = 0.07:  63%|██████▎   | 126/200 [3:50:40<1:26:39, 70.26s/it]"
     ]
    },
    {
     "name": "stderr",
     "output_type": "stream",
     "text": [
      "\r",
      "OMP Test Batch for noise_level = 0.10:  83%|████████▎ | 166/200 [3:50:38<18:41, 33.00s/it]"
     ]
    },
    {
     "name": "stderr",
     "output_type": "stream",
     "text": [
      "\r",
      "OMP Test Batch for noise_level = 0.20:  83%|████████▎ | 166/200 [3:50:33<25:06, 44.30s/it]"
     ]
    },
    {
     "name": "stderr",
     "output_type": "stream",
     "text": [
      "\r",
      "OMP Test Batch for noise_level = 0.12:  64%|██████▎   | 127/200 [3:50:39<1:19:08, 65.04s/it]"
     ]
    },
    {
     "name": "stderr",
     "output_type": "stream",
     "text": [
      "\r",
      "OMP Test Batch for noise_level = 0.08:  60%|██████    | 121/200 [3:50:44<1:28:40, 67.34s/it]"
     ]
    },
    {
     "name": "stderr",
     "output_type": "stream",
     "text": [
      "\r",
      "OMP Test Batch for noise_level = 0.00:  78%|███████▊  | 157/200 [3:50:53<34:30, 48.15s/it]"
     ]
    },
    {
     "name": "stderr",
     "output_type": "stream",
     "text": [
      "\r",
      "OMP Test Batch for noise_level = 0.18:  86%|████████▋ | 173/200 [3:50:41<14:44, 32.77s/it]"
     ]
    },
    {
     "name": "stderr",
     "output_type": "stream",
     "text": [
      "\r",
      "OMP Test Batch for noise_level = 0.09:  61%|██████    | 122/200 [3:50:52<1:33:13, 71.71s/it]"
     ]
    },
    {
     "name": "stderr",
     "output_type": "stream",
     "text": [
      "\r",
      "OMP Test Batch for noise_level = 0.04:  62%|██████▏   | 123/200 [3:51:01<1:30:15, 70.33s/it]"
     ]
    },
    {
     "name": "stderr",
     "output_type": "stream",
     "text": [
      "\r",
      "OMP Test Batch for noise_level = 0.03:  78%|███████▊  | 157/200 [3:51:04<25:37, 35.75s/it]"
     ]
    },
    {
     "name": "stderr",
     "output_type": "stream",
     "text": [
      "\r",
      "OMP Test Batch for noise_level = 0.16:  83%|████████▎ | 166/200 [3:50:55<19:38, 34.65s/it]"
     ]
    },
    {
     "name": "stderr",
     "output_type": "stream",
     "text": [
      "\r",
      "OMP Test Batch for noise_level = 0.20:  84%|████████▎ | 167/200 [3:51:08<22:52, 41.58s/it]"
     ]
    },
    {
     "name": "stderr",
     "output_type": "stream",
     "text": [
      "\r",
      "OMP Test Batch for noise_level = 0.10:  84%|████████▎ | 167/200 [3:51:14<18:39, 33.94s/it]"
     ]
    },
    {
     "name": "stderr",
     "output_type": "stream",
     "text": [
      "\r",
      "OMP Test Batch for noise_level = 0.02:  79%|███████▉  | 158/200 [3:51:23<25:55, 37.04s/it]"
     ]
    },
    {
     "name": "stderr",
     "output_type": "stream",
     "text": [
      "\r",
      "OMP Test Batch for noise_level = 0.18:  87%|████████▋ | 174/200 [3:51:11<13:51, 31.98s/it]"
     ]
    },
    {
     "name": "stderr",
     "output_type": "stream",
     "text": [
      "\r",
      "OMP Test Batch for noise_level = 0.14:  63%|██████▎   | 126/200 [3:51:15<1:24:16, 68.33s/it]"
     ]
    },
    {
     "name": "stderr",
     "output_type": "stream",
     "text": [
      "\r",
      "OMP Test Batch for noise_level = 0.00:  79%|███████▉  | 158/200 [3:51:31<31:29, 44.98s/it]"
     ]
    },
    {
     "name": "stderr",
     "output_type": "stream",
     "text": [
      "\r",
      "OMP Test Batch for noise_level = 0.01:  62%|██████▏   | 124/200 [3:51:33<1:27:33, 69.12s/it]"
     ]
    },
    {
     "name": "stderr",
     "output_type": "stream",
     "text": [
      "\r",
      "OMP Test Batch for noise_level = 0.05:  61%|██████    | 122/200 [3:51:32<1:34:38, 72.80s/it]"
     ]
    },
    {
     "name": "stderr",
     "output_type": "stream",
     "text": [
      "\r",
      "OMP Test Batch for noise_level = 0.03:  79%|███████▉  | 158/200 [3:51:42<25:23, 36.27s/it]"
     ]
    },
    {
     "name": "stderr",
     "output_type": "stream",
     "text": [
      "\r",
      "OMP Test Batch for noise_level = 0.06:  62%|██████▎   | 125/200 [3:51:50<1:28:50, 71.08s/it]"
     ]
    },
    {
     "name": "stderr",
     "output_type": "stream",
     "text": [
      "\r",
      "OMP Test Batch for noise_level = 0.20:  84%|████████▍ | 168/200 [3:51:44<21:17, 39.91s/it]"
     ]
    },
    {
     "name": "stderr",
     "output_type": "stream",
     "text": [
      "\r",
      "OMP Test Batch for noise_level = 0.18:  88%|████████▊ | 175/200 [3:51:47<13:46, 33.04s/it]\r",
      "OMP Test Batch for noise_level = 0.10:  84%|████████▍ | 168/200 [3:51:51<18:36, 34.88s/it]"
     ]
    },
    {
     "name": "stderr",
     "output_type": "stream",
     "text": [
      "\r",
      "OMP Test Batch for noise_level = 0.16:  84%|████████▎ | 167/200 [3:51:48<22:04, 40.14s/it]"
     ]
    },
    {
     "name": "stderr",
     "output_type": "stream",
     "text": [
      "\r",
      "OMP Test Batch for noise_level = 0.07:  64%|██████▎   | 127/200 [3:51:58<1:28:33, 72.79s/it]"
     ]
    },
    {
     "name": "stderr",
     "output_type": "stream",
     "text": [
      "\r",
      "OMP Test Batch for noise_level = 0.00:  80%|███████▉  | 159/200 [3:52:09<29:16, 42.85s/it]"
     ]
    },
    {
     "name": "stderr",
     "output_type": "stream",
     "text": [
      "\r",
      "OMP Test Batch for noise_level = 0.12:  64%|██████▍   | 128/200 [3:51:59<1:23:39, 69.71s/it]"
     ]
    },
    {
     "name": "stderr",
     "output_type": "stream",
     "text": [
      "\r",
      "OMP Test Batch for noise_level = 0.08:  61%|██████    | 122/200 [3:52:03<1:31:58, 70.75s/it]"
     ]
    },
    {
     "name": "stderr",
     "output_type": "stream",
     "text": [
      "\r",
      "OMP Test Batch for noise_level = 0.02:  80%|███████▉  | 159/200 [3:52:11<27:34, 40.35s/it]"
     ]
    },
    {
     "name": "stderr",
     "output_type": "stream",
     "text": [
      "\r",
      "OMP Test Batch for noise_level = 0.09:  62%|██████▏   | 123/200 [3:52:11<1:34:35, 73.71s/it]"
     ]
    },
    {
     "name": "stderr",
     "output_type": "stream",
     "text": [
      "\r",
      "OMP Test Batch for noise_level = 0.03:  80%|███████▉  | 159/200 [3:52:19<24:57, 36.52s/it]"
     ]
    },
    {
     "name": "stderr",
     "output_type": "stream",
     "text": [
      "\r",
      "OMP Test Batch for noise_level = 0.04:  62%|██████▏   | 124/200 [3:52:23<1:33:12, 73.59s/it]"
     ]
    },
    {
     "name": "stderr",
     "output_type": "stream",
     "text": [
      "\r",
      "OMP Test Batch for noise_level = 0.14:  64%|██████▎   | 127/200 [3:52:16<1:20:18, 66.01s/it]"
     ]
    },
    {
     "name": "stderr",
     "output_type": "stream",
     "text": [
      "\r",
      "OMP Test Batch for noise_level = 0.20:  84%|████████▍ | 169/200 [3:52:20<19:57, 38.62s/it]"
     ]
    },
    {
     "name": "stderr",
     "output_type": "stream",
     "text": [
      "\r",
      "OMP Test Batch for noise_level = 0.18:  88%|████████▊ | 176/200 [3:52:22<13:28, 33.70s/it]"
     ]
    },
    {
     "name": "stderr",
     "output_type": "stream",
     "text": [
      "\r",
      "OMP Test Batch for noise_level = 0.16:  84%|████████▍ | 168/200 [3:52:24<20:43, 38.86s/it]"
     ]
    },
    {
     "name": "stderr",
     "output_type": "stream",
     "text": [
      "\r",
      "OMP Test Batch for noise_level = 0.10:  84%|████████▍ | 169/200 [3:52:28<18:24, 35.64s/it]"
     ]
    },
    {
     "name": "stderr",
     "output_type": "stream",
     "text": [
      "\r",
      "OMP Test Batch for noise_level = 0.00:  80%|████████  | 160/200 [3:52:50<28:12, 42.32s/it]"
     ]
    },
    {
     "name": "stderr",
     "output_type": "stream",
     "text": [
      "\r",
      "OMP Test Batch for noise_level = 0.01:  62%|██████▎   | 125/200 [3:52:50<1:29:26, 71.55s/it]"
     ]
    },
    {
     "name": "stderr",
     "output_type": "stream",
     "text": [
      "\r",
      "OMP Test Batch for noise_level = 0.02:  80%|████████  | 160/200 [3:52:51<26:55, 40.40s/it]"
     ]
    },
    {
     "name": "stderr",
     "output_type": "stream",
     "text": [
      "\r",
      "OMP Test Batch for noise_level = 0.05:  62%|██████▏   | 123/200 [3:52:52<1:36:08, 74.91s/it]"
     ]
    },
    {
     "name": "stderr",
     "output_type": "stream",
     "text": [
      "\r",
      "OMP Test Batch for noise_level = 0.14:  64%|██████▍   | 128/200 [3:52:49<1:07:16, 56.07s/it]"
     ]
    },
    {
     "name": "stderr",
     "output_type": "stream",
     "text": [
      "\r",
      "OMP Test Batch for noise_level = 0.03:  80%|████████  | 160/200 [3:53:00<25:14, 37.87s/it]"
     ]
    },
    {
     "name": "stderr",
     "output_type": "stream",
     "text": [
      "\r",
      "OMP Test Batch for noise_level = 0.06:  63%|██████▎   | 126/200 [3:53:05<1:29:09, 72.29s/it]"
     ]
    },
    {
     "name": "stderr",
     "output_type": "stream",
     "text": [
      "\r",
      "OMP Test Batch for noise_level = 0.16:  84%|████████▍ | 169/200 [3:52:58<19:19, 37.40s/it]"
     ]
    },
    {
     "name": "stderr",
     "output_type": "stream",
     "text": [
      "\r",
      "OMP Test Batch for noise_level = 0.18:  88%|████████▊ | 177/200 [3:52:58<13:08, 34.27s/it]"
     ]
    },
    {
     "name": "stderr",
     "output_type": "stream",
     "text": [
      "\r",
      "OMP Test Batch for noise_level = 0.12:  64%|██████▍   | 129/200 [3:53:04<1:20:38, 68.15s/it]"
     ]
    },
    {
     "name": "stderr",
     "output_type": "stream",
     "text": [
      "\r",
      "OMP Test Batch for noise_level = 0.20:  85%|████████▌ | 170/200 [3:53:00<19:29, 38.99s/it]"
     ]
    },
    {
     "name": "stderr",
     "output_type": "stream",
     "text": [
      "\r",
      "OMP Test Batch for noise_level = 0.07:  64%|██████▍   | 128/200 [3:53:10<1:26:56, 72.45s/it]"
     ]
    },
    {
     "name": "stderr",
     "output_type": "stream",
     "text": [
      "\r",
      "OMP Test Batch for noise_level = 0.10:  85%|████████▌ | 170/200 [3:53:07<18:20, 36.68s/it]"
     ]
    },
    {
     "name": "stderr",
     "output_type": "stream",
     "text": [
      "\r",
      "OMP Test Batch for noise_level = 0.08:  62%|██████▏   | 123/200 [3:53:17<1:32:11, 71.84s/it]"
     ]
    },
    {
     "name": "stderr",
     "output_type": "stream",
     "text": [
      "\r",
      "OMP Test Batch for noise_level = 0.00:  80%|████████  | 161/200 [3:53:31<27:15, 41.93s/it]"
     ]
    },
    {
     "name": "stderr",
     "output_type": "stream",
     "text": [
      "\r",
      "OMP Test Batch for noise_level = 0.09:  62%|██████▏   | 124/200 [3:53:23<1:32:51, 73.32s/it]"
     ]
    },
    {
     "name": "stderr",
     "output_type": "stream",
     "text": [
      "\r",
      "OMP Test Batch for noise_level = 0.02:  80%|████████  | 161/200 [3:53:33<26:24, 40.62s/it]"
     ]
    },
    {
     "name": "stderr",
     "output_type": "stream",
     "text": [
      "\r",
      "OMP Test Batch for noise_level = 0.14:  64%|██████▍   | 129/200 [3:53:23<58:45, 49.65s/it]  "
     ]
    },
    {
     "name": "stderr",
     "output_type": "stream",
     "text": [
      "\r",
      "OMP Test Batch for noise_level = 0.04:  62%|██████▎   | 125/200 [3:53:35<1:31:27, 73.17s/it]"
     ]
    },
    {
     "name": "stderr",
     "output_type": "stream",
     "text": [
      "\r",
      "OMP Test Batch for noise_level = 0.03:  80%|████████  | 161/200 [3:53:37<24:22, 37.51s/it]"
     ]
    },
    {
     "name": "stderr",
     "output_type": "stream",
     "text": [
      "\r",
      "OMP Test Batch for noise_level = 0.16:  85%|████████▌ | 170/200 [3:53:35<18:35, 37.19s/it]"
     ]
    },
    {
     "name": "stderr",
     "output_type": "stream",
     "text": [
      "\r",
      "OMP Test Batch for noise_level = 0.18:  89%|████████▉ | 178/200 [3:53:38<13:14, 36.12s/it]"
     ]
    },
    {
     "name": "stderr",
     "output_type": "stream",
     "text": [
      "\r",
      "OMP Test Batch for noise_level = 0.20:  86%|████████▌ | 171/200 [3:53:41<19:07, 39.58s/it]"
     ]
    },
    {
     "name": "stderr",
     "output_type": "stream",
     "text": [
      "\r",
      "OMP Test Batch for noise_level = 0.10:  86%|████████▌ | 171/200 [3:53:48<18:17, 37.85s/it]"
     ]
    },
    {
     "name": "stderr",
     "output_type": "stream",
     "text": [
      "\r",
      "OMP Test Batch for noise_level = 0.01:  63%|██████▎   | 126/200 [3:54:00<1:27:27, 70.91s/it]"
     ]
    },
    {
     "name": "stderr",
     "output_type": "stream",
     "text": [
      "\r",
      "OMP Test Batch for noise_level = 0.05:  62%|██████▏   | 124/200 [3:54:01<1:32:28, 73.00s/it]"
     ]
    },
    {
     "name": "stderr",
     "output_type": "stream",
     "text": [
      "\r",
      "OMP Test Batch for noise_level = 0.12:  65%|██████▌   | 130/200 [3:53:56<1:14:00, 63.43s/it]"
     ]
    },
    {
     "name": "stderr",
     "output_type": "stream",
     "text": [
      "\r",
      "OMP Test Batch for noise_level = 0.00:  81%|████████  | 162/200 [3:54:12<26:28, 41.79s/it]\r",
      "OMP Test Batch for noise_level = 0.02:  81%|████████  | 162/200 [3:54:10<25:08, 39.69s/it]"
     ]
    },
    {
     "name": "stderr",
     "output_type": "stream",
     "text": [
      "\r",
      "OMP Test Batch for noise_level = 0.14:  65%|██████▌   | 130/200 [3:54:07<55:45, 47.79s/it]"
     ]
    },
    {
     "name": "stderr",
     "output_type": "stream",
     "text": [
      "\r",
      "OMP Test Batch for noise_level = 0.06:  64%|██████▎   | 127/200 [3:54:16<1:27:31, 71.94s/it]\r",
      "OMP Test Batch for noise_level = 0.03:  81%|████████  | 162/200 [3:54:19<24:44, 39.06s/it]"
     ]
    },
    {
     "name": "stderr",
     "output_type": "stream",
     "text": [
      "\r",
      "OMP Test Batch for noise_level = 0.07:  64%|██████▍   | 129/200 [3:54:18<1:24:02, 71.02s/it]"
     ]
    },
    {
     "name": "stderr",
     "output_type": "stream",
     "text": [
      "\r",
      "OMP Test Batch for noise_level = 0.16:  86%|████████▌ | 171/200 [3:54:14<18:13, 37.72s/it]"
     ]
    },
    {
     "name": "stderr",
     "output_type": "stream",
     "text": [
      "\r",
      "OMP Test Batch for noise_level = 0.08:  62%|██████▏   | 124/200 [3:54:21<1:28:07, 69.57s/it]"
     ]
    },
    {
     "name": "stderr",
     "output_type": "stream",
     "text": [
      "\r",
      "OMP Test Batch for noise_level = 0.18:  90%|████████▉ | 179/200 [3:54:17<12:58, 37.05s/it]"
     ]
    },
    {
     "name": "stderr",
     "output_type": "stream",
     "text": [
      "\r",
      "OMP Test Batch for noise_level = 0.09:  62%|██████▎   | 125/200 [3:54:23<1:26:45, 69.41s/it]"
     ]
    },
    {
     "name": "stderr",
     "output_type": "stream",
     "text": [
      "\r",
      "OMP Test Batch for noise_level = 0.20:  86%|████████▌ | 172/200 [3:54:19<18:15, 39.13s/it]"
     ]
    },
    {
     "name": "stderr",
     "output_type": "stream",
     "text": [
      "\r",
      "OMP Test Batch for noise_level = 0.10:  86%|████████▌ | 172/200 [3:54:25<17:33, 37.63s/it]"
     ]
    },
    {
     "name": "stderr",
     "output_type": "stream",
     "text": [
      "\r",
      "OMP Test Batch for noise_level = 0.04:  63%|██████▎   | 126/200 [3:54:38<1:26:38, 70.25s/it]"
     ]
    },
    {
     "name": "stderr",
     "output_type": "stream",
     "text": [
      "\r",
      "OMP Test Batch for noise_level = 0.00:  82%|████████▏ | 163/200 [3:54:54<25:42, 41.69s/it]"
     ]
    },
    {
     "name": "stderr",
     "output_type": "stream",
     "text": [
      "\r",
      "OMP Test Batch for noise_level = 0.02:  82%|████████▏ | 163/200 [3:54:53<25:02, 40.60s/it]"
     ]
    },
    {
     "name": "stderr",
     "output_type": "stream",
     "text": [
      "\r",
      "OMP Test Batch for noise_level = 0.14:  66%|██████▌   | 131/200 [3:54:47<52:15, 45.45s/it]"
     ]
    },
    {
     "name": "stderr",
     "output_type": "stream",
     "text": [
      "\r",
      "OMP Test Batch for noise_level = 0.03:  82%|████████▏ | 163/200 [3:54:59<24:09, 39.18s/it]"
     ]
    },
    {
     "name": "stderr",
     "output_type": "stream",
     "text": [
      "\r",
      "OMP Test Batch for noise_level = 0.16:  86%|████████▌ | 172/200 [3:54:53<17:48, 38.17s/it]"
     ]
    },
    {
     "name": "stderr",
     "output_type": "stream",
     "text": [
      "\r",
      "OMP Test Batch for noise_level = 0.18:  90%|█████████ | 180/200 [3:54:53<12:15, 36.75s/it]"
     ]
    },
    {
     "name": "stderr",
     "output_type": "stream",
     "text": [
      "\r",
      "OMP Test Batch for noise_level = 0.05:  62%|██████▎   | 125/200 [3:55:06<1:28:09, 70.53s/it]"
     ]
    },
    {
     "name": "stderr",
     "output_type": "stream",
     "text": [
      "\r",
      "OMP Test Batch for noise_level = 0.01:  64%|██████▎   | 127/200 [3:55:11<1:26:20, 70.96s/it]"
     ]
    },
    {
     "name": "stderr",
     "output_type": "stream",
     "text": [
      "\r",
      "OMP Test Batch for noise_level = 0.12:  66%|██████▌   | 131/200 [3:55:01<1:13:23, 63.82s/it]"
     ]
    },
    {
     "name": "stderr",
     "output_type": "stream",
     "text": [
      "\r",
      "OMP Test Batch for noise_level = 0.20:  86%|████████▋ | 173/200 [3:54:59<17:40, 39.28s/it]"
     ]
    },
    {
     "name": "stderr",
     "output_type": "stream",
     "text": [
      "\r",
      "OMP Test Batch for noise_level = 0.10:  86%|████████▋ | 173/200 [3:55:06<17:22, 38.60s/it]"
     ]
    },
    {
     "name": "stderr",
     "output_type": "stream",
     "text": [
      "\r",
      "OMP Test Batch for noise_level = 0.08:  62%|██████▎   | 125/200 [3:55:23<1:23:55, 67.14s/it]"
     ]
    },
    {
     "name": "stderr",
     "output_type": "stream",
     "text": [
      "\r",
      "OMP Test Batch for noise_level = 0.07:  65%|██████▌   | 130/200 [3:55:25<1:21:34, 69.93s/it]"
     ]
    },
    {
     "name": "stderr",
     "output_type": "stream",
     "text": [
      "\r",
      "OMP Test Batch for noise_level = 0.06:  64%|██████▍   | 128/200 [3:55:26<1:25:39, 71.38s/it]"
     ]
    },
    {
     "name": "stderr",
     "output_type": "stream",
     "text": [
      "\r",
      "OMP Test Batch for noise_level = 0.00:  82%|████████▏ | 164/200 [3:55:34<24:38, 41.08s/it]"
     ]
    },
    {
     "name": "stderr",
     "output_type": "stream",
     "text": [
      "\r",
      "OMP Test Batch for noise_level = 0.02:  82%|████████▏ | 164/200 [3:55:34<24:30, 40.86s/it]"
     ]
    },
    {
     "name": "stderr",
     "output_type": "stream",
     "text": [
      "\r",
      "OMP Test Batch for noise_level = 0.09:  63%|██████▎   | 126/200 [3:55:28<1:23:46, 67.93s/it]"
     ]
    },
    {
     "name": "stderr",
     "output_type": "stream",
     "text": [
      "\r",
      "OMP Test Batch for noise_level = 0.14:  66%|██████▌   | 132/200 [3:55:30<50:45, 44.78s/it]"
     ]
    },
    {
     "name": "stderr",
     "output_type": "stream",
     "text": [
      "\r",
      "OMP Test Batch for noise_level = 0.16:  86%|████████▋ | 173/200 [3:55:31<17:10, 38.17s/it]"
     ]
    },
    {
     "name": "stderr",
     "output_type": "stream",
     "text": [
      "\r",
      "OMP Test Batch for noise_level = 0.03:  82%|████████▏ | 164/200 [3:55:42<24:17, 40.49s/it]"
     ]
    },
    {
     "name": "stderr",
     "output_type": "stream",
     "text": [
      "\r",
      "OMP Test Batch for noise_level = 0.18:  90%|█████████ | 181/200 [3:55:33<11:55, 37.66s/it]"
     ]
    },
    {
     "name": "stderr",
     "output_type": "stream",
     "text": [
      "\r",
      "OMP Test Batch for noise_level = 0.20:  87%|████████▋ | 174/200 [3:55:33<16:24, 37.86s/it]"
     ]
    },
    {
     "name": "stderr",
     "output_type": "stream",
     "text": [
      "\r",
      "OMP Test Batch for noise_level = 0.04:  64%|██████▎   | 127/200 [3:55:48<1:25:24, 70.20s/it]"
     ]
    },
    {
     "name": "stderr",
     "output_type": "stream",
     "text": [
      "\r",
      "OMP Test Batch for noise_level = 0.10:  87%|████████▋ | 174/200 [3:55:49<17:19, 39.98s/it]"
     ]
    },
    {
     "name": "stderr",
     "output_type": "stream",
     "text": [
      "\r",
      "OMP Test Batch for noise_level = 0.12:  66%|██████▌   | 132/200 [3:55:58<1:10:06, 61.86s/it]"
     ]
    },
    {
     "name": "stderr",
     "output_type": "stream",
     "text": [
      "\r",
      "OMP Test Batch for noise_level = 0.00:  82%|████████▎ | 165/200 [3:56:17<24:23, 41.81s/it]"
     ]
    },
    {
     "name": "stderr",
     "output_type": "stream",
     "text": [
      "\r",
      "OMP Test Batch for noise_level = 0.02:  82%|████████▎ | 165/200 [3:56:17<24:11, 41.48s/it]"
     ]
    },
    {
     "name": "stderr",
     "output_type": "stream",
     "text": [
      "\r",
      "OMP Test Batch for noise_level = 0.05:  63%|██████▎   | 126/200 [3:56:15<1:26:23, 70.04s/it]"
     ]
    },
    {
     "name": "stderr",
     "output_type": "stream",
     "text": [
      "\r",
      "OMP Test Batch for noise_level = 0.01:  64%|██████▍   | 128/200 [3:56:20<1:24:20, 70.29s/it]"
     ]
    },
    {
     "name": "stderr",
     "output_type": "stream",
     "text": [
      "\r",
      "OMP Test Batch for noise_level = 0.16:  87%|████████▋ | 174/200 [3:56:09<16:27, 37.98s/it]"
     ]
    },
    {
     "name": "stderr",
     "output_type": "stream",
     "text": [
      "\r",
      "OMP Test Batch for noise_level = 0.14:  66%|██████▋   | 133/200 [3:56:13<49:24, 44.25s/it]"
     ]
    },
    {
     "name": "stderr",
     "output_type": "stream",
     "text": [
      "\r",
      "OMP Test Batch for noise_level = 0.03:  82%|████████▎ | 165/200 [3:56:24<23:43, 40.68s/it]"
     ]
    },
    {
     "name": "stderr",
     "output_type": "stream",
     "text": [
      "\r",
      "OMP Test Batch for noise_level = 0.18:  91%|█████████ | 182/200 [3:56:12<11:26, 38.12s/it]"
     ]
    },
    {
     "name": "stderr",
     "output_type": "stream",
     "text": [
      "\r",
      "OMP Test Batch for noise_level = 0.20:  88%|████████▊ | 175/200 [3:56:15<16:13, 38.96s/it]"
     ]
    },
    {
     "name": "stderr",
     "output_type": "stream",
     "text": [
      "\r",
      "OMP Test Batch for noise_level = 0.07:  66%|██████▌   | 131/200 [3:56:28<1:18:09, 67.96s/it]"
     ]
    },
    {
     "name": "stderr",
     "output_type": "stream",
     "text": [
      "\r",
      "OMP Test Batch for noise_level = 0.08:  63%|██████▎   | 126/200 [3:56:30<1:22:43, 67.07s/it]"
     ]
    },
    {
     "name": "stderr",
     "output_type": "stream",
     "text": [
      "\r",
      "OMP Test Batch for noise_level = 0.06:  64%|██████▍   | 129/200 [3:56:33<1:22:42, 69.89s/it]"
     ]
    },
    {
     "name": "stderr",
     "output_type": "stream",
     "text": [
      "\r",
      "OMP Test Batch for noise_level = 0.10:  88%|████████▊ | 175/200 [3:56:32<16:57, 40.70s/it]"
     ]
    },
    {
     "name": "stderr",
     "output_type": "stream",
     "text": [
      "\r",
      "OMP Test Batch for noise_level = 0.09:  64%|██████▎   | 127/200 [3:56:34<1:22:07, 67.50s/it]"
     ]
    },
    {
     "name": "stderr",
     "output_type": "stream",
     "text": [
      "\r",
      "OMP Test Batch for noise_level = 0.16:  88%|████████▊ | 175/200 [3:56:46<15:45, 37.82s/it]"
     ]
    },
    {
     "name": "stderr",
     "output_type": "stream",
     "text": [
      "\r",
      "OMP Test Batch for noise_level = 0.00:  83%|████████▎ | 166/200 [3:57:01<24:03, 42.45s/it]"
     ]
    },
    {
     "name": "stderr",
     "output_type": "stream",
     "text": [
      "\r",
      "OMP Test Batch for noise_level = 0.04:  64%|██████▍   | 128/200 [3:56:58<1:24:07, 70.11s/it]"
     ]
    },
    {
     "name": "stderr",
     "output_type": "stream",
     "text": [
      "\r",
      "OMP Test Batch for noise_level = 0.02:  83%|████████▎ | 166/200 [3:57:00<23:47, 41.99s/it]"
     ]
    },
    {
     "name": "stderr",
     "output_type": "stream",
     "text": [
      "\r",
      "OMP Test Batch for noise_level = 0.18:  92%|█████████▏| 183/200 [3:56:51<10:51, 38.33s/it]"
     ]
    },
    {
     "name": "stderr",
     "output_type": "stream",
     "text": [
      "\r",
      "OMP Test Batch for noise_level = 0.14:  67%|██████▋   | 134/200 [3:56:54<47:38, 43.31s/it]"
     ]
    },
    {
     "name": "stderr",
     "output_type": "stream",
     "text": [
      "\r",
      "OMP Test Batch for noise_level = 0.03:  83%|████████▎ | 166/200 [3:57:07<23:28, 41.42s/it]"
     ]
    },
    {
     "name": "stderr",
     "output_type": "stream",
     "text": [
      "\r",
      "OMP Test Batch for noise_level = 0.12:  66%|██████▋   | 133/200 [3:56:59<1:08:47, 61.60s/it]"
     ]
    },
    {
     "name": "stderr",
     "output_type": "stream",
     "text": [
      "\r",
      "OMP Test Batch for noise_level = 0.20:  88%|████████▊ | 176/200 [3:56:56<15:51, 39.65s/it]"
     ]
    },
    {
     "name": "stderr",
     "output_type": "stream",
     "text": [
      "\r",
      "OMP Test Batch for noise_level = 0.05:  64%|██████▎   | 127/200 [3:57:16<1:22:11, 67.55s/it]"
     ]
    },
    {
     "name": "stderr",
     "output_type": "stream",
     "text": [
      "\r",
      "OMP Test Batch for noise_level = 0.10:  88%|████████▊ | 176/200 [3:57:12<16:16, 40.68s/it]"
     ]
    },
    {
     "name": "stderr",
     "output_type": "stream",
     "text": [
      "\r",
      "OMP Test Batch for noise_level = 0.01:  64%|██████▍   | 129/200 [3:57:30<1:23:06, 70.23s/it]"
     ]
    },
    {
     "name": "stderr",
     "output_type": "stream",
     "text": [
      "\r",
      "OMP Test Batch for noise_level = 0.00:  84%|████████▎ | 167/200 [3:57:39<22:33, 41.02s/it]"
     ]
    },
    {
     "name": "stderr",
     "output_type": "stream",
     "text": [
      "\r",
      "OMP Test Batch for noise_level = 0.16:  88%|████████▊ | 176/200 [3:57:26<15:19, 38.31s/it]"
     ]
    },
    {
     "name": "stderr",
     "output_type": "stream",
     "text": [
      "\r",
      "OMP Test Batch for noise_level = 0.02:  84%|████████▎ | 167/200 [3:57:38<22:17, 40.53s/it]\r",
      "OMP Test Batch for noise_level = 0.07:  66%|██████▌   | 132/200 [3:57:33<1:15:43, 66.81s/it]"
     ]
    },
    {
     "name": "stderr",
     "output_type": "stream",
     "text": [
      "\r",
      "OMP Test Batch for noise_level = 0.18:  92%|█████████▏| 184/200 [3:57:30<10:15, 38.45s/it]"
     ]
    },
    {
     "name": "stderr",
     "output_type": "stream",
     "text": [
      "\r",
      "OMP Test Batch for noise_level = 0.14:  68%|██████▊   | 135/200 [3:57:34<45:38, 42.13s/it]"
     ]
    },
    {
     "name": "stderr",
     "output_type": "stream",
     "text": [
      "\r",
      "OMP Test Batch for noise_level = 0.03:  84%|████████▎ | 167/200 [3:57:44<22:07, 40.24s/it]"
     ]
    },
    {
     "name": "stderr",
     "output_type": "stream",
     "text": [
      "\r",
      "OMP Test Batch for noise_level = 0.08:  64%|██████▎   | 127/200 [3:57:40<1:22:48, 68.06s/it]"
     ]
    },
    {
     "name": "stderr",
     "output_type": "stream",
     "text": [
      "\r",
      "OMP Test Batch for noise_level = 0.06:  65%|██████▌   | 130/200 [3:57:43<1:21:41, 70.03s/it]"
     ]
    },
    {
     "name": "stderr",
     "output_type": "stream",
     "text": [
      "\r",
      "OMP Test Batch for noise_level = 0.20:  88%|████████▊ | 177/200 [3:57:35<15:09, 39.56s/it]"
     ]
    },
    {
     "name": "stderr",
     "output_type": "stream",
     "text": [
      "\r",
      "OMP Test Batch for noise_level = 0.09:  64%|██████▍   | 128/200 [3:57:44<1:21:51, 68.22s/it]"
     ]
    },
    {
     "name": "stderr",
     "output_type": "stream",
     "text": [
      "\r",
      "OMP Test Batch for noise_level = 0.10:  88%|████████▊ | 177/200 [3:57:53<15:39, 40.84s/it]"
     ]
    },
    {
     "name": "stderr",
     "output_type": "stream",
     "text": [
      "\r",
      "OMP Test Batch for noise_level = 0.04:  64%|██████▍   | 129/200 [3:58:07<1:22:36, 69.81s/it]"
     ]
    },
    {
     "name": "stderr",
     "output_type": "stream",
     "text": [
      "\r",
      "OMP Test Batch for noise_level = 0.16:  88%|████████▊ | 177/200 [3:58:01<14:23, 37.55s/it]"
     ]
    },
    {
     "name": "stderr",
     "output_type": "stream",
     "text": [
      "\r",
      "OMP Test Batch for noise_level = 0.00:  84%|████████▍ | 168/200 [3:58:18<21:39, 40.62s/it]"
     ]
    },
    {
     "name": "stderr",
     "output_type": "stream",
     "text": [
      "\r",
      "OMP Test Batch for noise_level = 0.12:  67%|██████▋   | 134/200 [3:58:08<1:10:00, 63.65s/it]"
     ]
    },
    {
     "name": "stderr",
     "output_type": "stream",
     "text": [
      "\r",
      "OMP Test Batch for noise_level = 0.02:  84%|████████▍ | 168/200 [3:58:20<21:56, 41.13s/it]"
     ]
    },
    {
     "name": "stderr",
     "output_type": "stream",
     "text": [
      "\r",
      "OMP Test Batch for noise_level = 0.18:  92%|█████████▎| 185/200 [3:58:11<09:48, 39.23s/it]"
     ]
    },
    {
     "name": "stderr",
     "output_type": "stream",
     "text": [
      "\r",
      "OMP Test Batch for noise_level = 0.05:  64%|██████▍   | 128/200 [3:58:21<1:19:59, 66.65s/it]\r",
      "OMP Test Batch for noise_level = 0.14:  68%|██████▊   | 136/200 [3:58:14<44:15, 41.49s/it]"
     ]
    },
    {
     "name": "stderr",
     "output_type": "stream",
     "text": [
      "\r",
      "OMP Test Batch for noise_level = 0.03:  84%|████████▍ | 168/200 [3:58:25<21:38, 40.56s/it]"
     ]
    },
    {
     "name": "stderr",
     "output_type": "stream",
     "text": [
      "\r",
      "OMP Test Batch for noise_level = 0.20:  89%|████████▉ | 178/200 [3:58:17<14:43, 40.15s/it]"
     ]
    },
    {
     "name": "stderr",
     "output_type": "stream",
     "text": [
      "\r",
      "OMP Test Batch for noise_level = 0.01:  65%|██████▌   | 130/200 [3:58:40<1:21:50, 70.15s/it]"
     ]
    },
    {
     "name": "stderr",
     "output_type": "stream",
     "text": [
      "\r",
      "OMP Test Batch for noise_level = 0.10:  89%|████████▉ | 178/200 [3:58:35<15:01, 40.96s/it]"
     ]
    },
    {
     "name": "stderr",
     "output_type": "stream",
     "text": [
      "\r",
      "OMP Test Batch for noise_level = 0.07:  66%|██████▋   | 133/200 [3:58:39<1:14:28, 66.70s/it]"
     ]
    },
    {
     "name": "stderr",
     "output_type": "stream",
     "text": [
      "\r",
      "OMP Test Batch for noise_level = 0.06:  66%|██████▌   | 131/200 [3:58:47<1:18:27, 68.22s/it]"
     ]
    },
    {
     "name": "stderr",
     "output_type": "stream",
     "text": [
      "\r",
      "OMP Test Batch for noise_level = 0.16:  89%|████████▉ | 178/200 [3:58:41<14:01, 38.23s/it]"
     ]
    },
    {
     "name": "stderr",
     "output_type": "stream",
     "text": [
      "\r",
      "OMP Test Batch for noise_level = 0.08:  64%|██████▍   | 128/200 [3:58:48<1:21:37, 68.02s/it]"
     ]
    },
    {
     "name": "stderr",
     "output_type": "stream",
     "text": [
      "\r",
      "OMP Test Batch for noise_level = 0.14:  68%|██████▊   | 137/200 [3:58:48<41:21, 39.38s/it]\r",
      "OMP Test Batch for noise_level = 0.09:  64%|██████▍   | 129/200 [3:58:51<1:20:18, 67.87s/it]"
     ]
    },
    {
     "name": "stderr",
     "output_type": "stream",
     "text": [
      "\r",
      "OMP Test Batch for noise_level = 0.00:  84%|████████▍ | 169/200 [3:59:02<21:26, 41.50s/it]"
     ]
    },
    {
     "name": "stderr",
     "output_type": "stream",
     "text": [
      "\r",
      "OMP Test Batch for noise_level = 0.02:  84%|████████▍ | 169/200 [3:59:00<21:00, 40.67s/it]"
     ]
    },
    {
     "name": "stderr",
     "output_type": "stream",
     "text": [
      "\r",
      "OMP Test Batch for noise_level = 0.03:  84%|████████▍ | 169/200 [3:59:02<20:16, 39.25s/it]"
     ]
    },
    {
     "name": "stderr",
     "output_type": "stream",
     "text": [
      "\r",
      "OMP Test Batch for noise_level = 0.18:  93%|█████████▎| 186/200 [3:58:52<09:17, 39.79s/it]"
     ]
    },
    {
     "name": "stderr",
     "output_type": "stream",
     "text": [
      "\r",
      "OMP Test Batch for noise_level = 0.20:  90%|████████▉ | 179/200 [3:58:57<14:02, 40.10s/it]"
     ]
    },
    {
     "name": "stderr",
     "output_type": "stream",
     "text": [
      "\r",
      "OMP Test Batch for noise_level = 0.04:  65%|██████▌   | 130/200 [3:59:14<1:20:13, 68.76s/it]"
     ]
    },
    {
     "name": "stderr",
     "output_type": "stream",
     "text": [
      "\r",
      "OMP Test Batch for noise_level = 0.12:  68%|██████▊   | 135/200 [3:59:08<1:07:52, 62.65s/it]"
     ]
    },
    {
     "name": "stderr",
     "output_type": "stream",
     "text": [
      "\r",
      "OMP Test Batch for noise_level = 0.10:  90%|████████▉ | 179/200 [3:59:18<14:33, 41.59s/it]"
     ]
    },
    {
     "name": "stderr",
     "output_type": "stream",
     "text": [
      "\r",
      "OMP Test Batch for noise_level = 0.05:  64%|██████▍   | 129/200 [3:59:31<1:20:14, 67.82s/it]\r",
      "OMP Test Batch for noise_level = 0.14:  69%|██████▉   | 138/200 [3:59:24<39:39, 38.38s/it]"
     ]
    },
    {
     "name": "stderr",
     "output_type": "stream",
     "text": [
      "\r",
      "OMP Test Batch for noise_level = 0.16:  90%|████████▉ | 179/200 [3:59:24<13:51, 39.60s/it]"
     ]
    },
    {
     "name": "stderr",
     "output_type": "stream",
     "text": [
      "\r",
      "OMP Test Batch for noise_level = 0.01:  66%|██████▌   | 131/200 [3:59:42<1:17:48, 67.65s/it]"
     ]
    },
    {
     "name": "stderr",
     "output_type": "stream",
     "text": [
      "\r",
      "OMP Test Batch for noise_level = 0.02:  85%|████████▌ | 170/200 [3:59:41<20:22, 40.76s/it]"
     ]
    },
    {
     "name": "stderr",
     "output_type": "stream",
     "text": [
      "\r",
      "OMP Test Batch for noise_level = 0.00:  85%|████████▌ | 170/200 [3:59:44<20:54, 41.81s/it]"
     ]
    },
    {
     "name": "stderr",
     "output_type": "stream",
     "text": [
      "\r",
      "OMP Test Batch for noise_level = 0.20:  90%|█████████ | 180/200 [3:59:29<12:36, 37.85s/it]"
     ]
    },
    {
     "name": "stderr",
     "output_type": "stream",
     "text": [
      "\r",
      "OMP Test Batch for noise_level = 0.18:  94%|█████████▎| 187/200 [3:59:33<08:40, 40.01s/it]"
     ]
    },
    {
     "name": "stderr",
     "output_type": "stream",
     "text": [
      "\r",
      "OMP Test Batch for noise_level = 0.03:  85%|████████▌ | 170/200 [3:59:44<20:07, 40.26s/it]"
     ]
    },
    {
     "name": "stderr",
     "output_type": "stream",
     "text": [
      "\r",
      "OMP Test Batch for noise_level = 0.07:  67%|██████▋   | 134/200 [3:59:45<1:13:15, 66.60s/it]"
     ]
    },
    {
     "name": "stderr",
     "output_type": "stream",
     "text": [
      "\r",
      "OMP Test Batch for noise_level = 0.06:  66%|██████▌   | 132/200 [3:59:55<1:17:03, 68.00s/it]"
     ]
    },
    {
     "name": "stderr",
     "output_type": "stream",
     "text": [
      "\r",
      "OMP Test Batch for noise_level = 0.10:  90%|█████████ | 180/200 [3:59:55<13:28, 40.42s/it]"
     ]
    },
    {
     "name": "stderr",
     "output_type": "stream",
     "text": [
      "\r",
      "OMP Test Batch for noise_level = 0.08:  64%|██████▍   | 129/200 [3:59:59<1:21:26, 68.82s/it]"
     ]
    },
    {
     "name": "stderr",
     "output_type": "stream",
     "text": [
      "\r",
      "OMP Test Batch for noise_level = 0.09:  65%|██████▌   | 130/200 [3:59:58<1:18:49, 67.56s/it]"
     ]
    },
    {
     "name": "stderr",
     "output_type": "stream",
     "text": [
      "\r",
      "OMP Test Batch for noise_level = 0.14:  70%|██████▉   | 139/200 [4:00:00<38:15, 37.63s/it]"
     ]
    },
    {
     "name": "stderr",
     "output_type": "stream",
     "text": [
      "\r",
      "OMP Test Batch for noise_level = 0.12:  68%|██████▊   | 136/200 [4:00:03<1:04:33, 60.52s/it]"
     ]
    },
    {
     "name": "stderr",
     "output_type": "stream",
     "text": [
      "\r",
      "OMP Test Batch for noise_level = 0.16:  90%|█████████ | 180/200 [4:00:03<13:10, 39.54s/it]"
     ]
    },
    {
     "name": "stderr",
     "output_type": "stream",
     "text": [
      "\r",
      "OMP Test Batch for noise_level = 0.04:  66%|██████▌   | 131/200 [4:00:17<1:17:20, 67.26s/it]"
     ]
    },
    {
     "name": "stderr",
     "output_type": "stream",
     "text": [
      "\r",
      "OMP Test Batch for noise_level = 0.02:  86%|████████▌ | 171/200 [4:00:23<19:56, 41.27s/it]"
     ]
    },
    {
     "name": "stderr",
     "output_type": "stream",
     "text": [
      "\r",
      "OMP Test Batch for noise_level = 0.20:  90%|█████████ | 181/200 [4:00:11<12:20, 38.95s/it]"
     ]
    },
    {
     "name": "stderr",
     "output_type": "stream",
     "text": [
      "\r",
      "OMP Test Batch for noise_level = 0.00:  86%|████████▌ | 171/200 [4:00:28<20:23, 42.19s/it]"
     ]
    },
    {
     "name": "stderr",
     "output_type": "stream",
     "text": [
      "\r",
      "OMP Test Batch for noise_level = 0.18:  94%|█████████▍| 188/200 [4:00:13<08:02, 40.20s/it]"
     ]
    },
    {
     "name": "stderr",
     "output_type": "stream",
     "text": [
      "\r",
      "OMP Test Batch for noise_level = 0.03:  86%|████████▌ | 171/200 [4:00:26<19:36, 40.57s/it]"
     ]
    },
    {
     "name": "stderr",
     "output_type": "stream",
     "text": [
      "\r",
      "OMP Test Batch for noise_level = 0.05:  65%|██████▌   | 130/200 [4:00:41<1:19:40, 68.29s/it]"
     ]
    },
    {
     "name": "stderr",
     "output_type": "stream",
     "text": [
      "\r",
      "OMP Test Batch for noise_level = 0.10:  90%|█████████ | 181/200 [4:00:38<12:59, 41.05s/it]"
     ]
    },
    {
     "name": "stderr",
     "output_type": "stream",
     "text": [
      "\r",
      "OMP Test Batch for noise_level = 0.01:  66%|██████▌   | 132/200 [4:00:49<1:16:31, 67.52s/it]"
     ]
    },
    {
     "name": "stderr",
     "output_type": "stream",
     "text": [
      "\r",
      "OMP Test Batch for noise_level = 0.16:  90%|█████████ | 181/200 [4:00:38<12:05, 38.20s/it]"
     ]
    },
    {
     "name": "stderr",
     "output_type": "stream",
     "text": [
      "\r",
      "OMP Test Batch for noise_level = 0.14:  70%|███████   | 140/200 [4:00:41<38:36, 38.60s/it]"
     ]
    },
    {
     "name": "stderr",
     "output_type": "stream",
     "text": [
      "\r",
      "OMP Test Batch for noise_level = 0.07:  68%|██████▊   | 135/200 [4:00:54<1:12:55, 67.32s/it]"
     ]
    },
    {
     "name": "stderr",
     "output_type": "stream",
     "text": [
      "\r",
      "OMP Test Batch for noise_level = 0.20:  91%|█████████ | 182/200 [4:00:47<11:23, 37.99s/it]"
     ]
    },
    {
     "name": "stderr",
     "output_type": "stream",
     "text": [
      "\r",
      "OMP Test Batch for noise_level = 0.18:  94%|█████████▍| 189/200 [4:00:48<07:04, 38.61s/it]"
     ]
    },
    {
     "name": "stderr",
     "output_type": "stream",
     "text": [
      "\r",
      "OMP Test Batch for noise_level = 0.02:  86%|████████▌ | 172/200 [4:01:05<19:19, 41.41s/it]"
     ]
    },
    {
     "name": "stderr",
     "output_type": "stream",
     "text": [
      "\r",
      "OMP Test Batch for noise_level = 0.00:  86%|████████▌ | 172/200 [4:01:08<19:29, 41.76s/it]\r",
      "OMP Test Batch for noise_level = 0.09:  66%|██████▌   | 131/200 [4:00:59<1:15:16, 65.46s/it]"
     ]
    },
    {
     "name": "stderr",
     "output_type": "stream",
     "text": [
      "\r",
      "OMP Test Batch for noise_level = 0.03:  86%|████████▌ | 172/200 [4:01:05<18:46, 40.23s/it]"
     ]
    },
    {
     "name": "stderr",
     "output_type": "stream",
     "text": [
      "\r",
      "OMP Test Batch for noise_level = 0.06:  66%|██████▋   | 133/200 [4:01:04<1:16:27, 68.47s/it]"
     ]
    },
    {
     "name": "stderr",
     "output_type": "stream",
     "text": [
      "\r",
      "OMP Test Batch for noise_level = 0.08:  65%|██████▌   | 130/200 [4:01:09<1:20:35, 69.08s/it]"
     ]
    },
    {
     "name": "stderr",
     "output_type": "stream",
     "text": [
      "\r",
      "OMP Test Batch for noise_level = 0.12:  68%|██████▊   | 137/200 [4:01:06<1:04:21, 61.29s/it]"
     ]
    },
    {
     "name": "stderr",
     "output_type": "stream",
     "text": [
      "\r",
      "OMP Test Batch for noise_level = 0.04:  66%|██████▌   | 132/200 [4:01:21<1:15:02, 66.22s/it]"
     ]
    },
    {
     "name": "stderr",
     "output_type": "stream",
     "text": [
      "\r",
      "OMP Test Batch for noise_level = 0.10:  91%|█████████ | 182/200 [4:01:20<12:25, 41.43s/it]"
     ]
    },
    {
     "name": "stderr",
     "output_type": "stream",
     "text": [
      "\r",
      "OMP Test Batch for noise_level = 0.16:  91%|█████████ | 182/200 [4:01:17<11:31, 38.44s/it]"
     ]
    },
    {
     "name": "stderr",
     "output_type": "stream",
     "text": [
      "\r",
      "OMP Test Batch for noise_level = 0.14:  70%|███████   | 141/200 [4:01:21<38:30, 39.16s/it]"
     ]
    },
    {
     "name": "stderr",
     "output_type": "stream",
     "text": [
      "\r",
      "OMP Test Batch for noise_level = 0.02:  86%|████████▋ | 173/200 [4:01:39<17:35, 39.10s/it]"
     ]
    },
    {
     "name": "stderr",
     "output_type": "stream",
     "text": [
      "\r",
      "OMP Test Batch for noise_level = 0.18:  95%|█████████▌| 190/200 [4:01:27<06:26, 38.64s/it]"
     ]
    },
    {
     "name": "stderr",
     "output_type": "stream",
     "text": [
      "\r",
      "OMP Test Batch for noise_level = 0.20:  92%|█████████▏| 183/200 [4:01:28<11:02, 38.98s/it]"
     ]
    },
    {
     "name": "stderr",
     "output_type": "stream",
     "text": [
      "\r",
      "OMP Test Batch for noise_level = 0.03:  86%|████████▋ | 173/200 [4:01:42<17:43, 39.38s/it]"
     ]
    },
    {
     "name": "stderr",
     "output_type": "stream",
     "text": [
      "\r",
      "OMP Test Batch for noise_level = 0.05:  66%|██████▌   | 131/200 [4:01:42<1:16:08, 66.20s/it]"
     ]
    },
    {
     "name": "stderr",
     "output_type": "stream",
     "text": [
      "\r",
      "OMP Test Batch for noise_level = 0.00:  86%|████████▋ | 173/200 [4:01:51<18:55, 42.07s/it]"
     ]
    },
    {
     "name": "stderr",
     "output_type": "stream",
     "text": [
      "\r",
      "OMP Test Batch for noise_level = 0.01:  66%|██████▋   | 133/200 [4:01:56<1:15:20, 67.46s/it]"
     ]
    },
    {
     "name": "stderr",
     "output_type": "stream",
     "text": [
      "\r",
      "OMP Test Batch for noise_level = 0.07:  68%|██████▊   | 136/200 [4:02:01<1:11:33, 67.08s/it]"
     ]
    },
    {
     "name": "stderr",
     "output_type": "stream",
     "text": [
      "\r",
      "OMP Test Batch for noise_level = 0.14:  71%|███████   | 142/200 [4:01:59<37:21, 38.64s/it]"
     ]
    },
    {
     "name": "stderr",
     "output_type": "stream",
     "text": [
      "\r",
      "OMP Test Batch for noise_level = 0.16:  92%|█████████▏| 183/200 [4:01:58<11:05, 39.14s/it]"
     ]
    },
    {
     "name": "stderr",
     "output_type": "stream",
     "text": [
      "\r",
      "OMP Test Batch for noise_level = 0.09:  66%|██████▌   | 132/200 [4:02:03<1:13:58, 65.27s/it]"
     ]
    },
    {
     "name": "stderr",
     "output_type": "stream",
     "text": [
      "\r",
      "OMP Test Batch for noise_level = 0.10:  92%|█████████▏| 183/200 [4:02:03<11:51, 41.83s/it]"
     ]
    },
    {
     "name": "stderr",
     "output_type": "stream",
     "text": [
      "\r",
      "OMP Test Batch for noise_level = 0.06:  67%|██████▋   | 134/200 [4:02:14<1:15:52, 68.98s/it]"
     ]
    },
    {
     "name": "stderr",
     "output_type": "stream",
     "text": [
      "\r",
      "OMP Test Batch for noise_level = 0.18:  96%|█████████▌| 191/200 [4:02:07<05:50, 38.96s/it]"
     ]
    },
    {
     "name": "stderr",
     "output_type": "stream",
     "text": [
      "\r",
      "OMP Test Batch for noise_level = 0.12:  69%|██████▉   | 138/200 [4:02:11<1:04:26, 62.36s/it]"
     ]
    },
    {
     "name": "stderr",
     "output_type": "stream",
     "text": [
      "\r",
      "OMP Test Batch for noise_level = 0.02:  87%|████████▋ | 174/200 [4:02:21<17:23, 40.12s/it]\r",
      "OMP Test Batch for noise_level = 0.03:  87%|████████▋ | 174/200 [4:02:20<16:50, 38.88s/it]"
     ]
    },
    {
     "name": "stderr",
     "output_type": "stream",
     "text": [
      "\r",
      "OMP Test Batch for noise_level = 0.20:  92%|█████████▏| 184/200 [4:02:08<10:27, 39.24s/it]"
     ]
    },
    {
     "name": "stderr",
     "output_type": "stream",
     "text": [
      "\r",
      "OMP Test Batch for noise_level = 0.08:  66%|██████▌   | 131/200 [4:02:16<1:19:00, 68.71s/it]"
     ]
    },
    {
     "name": "stderr",
     "output_type": "stream",
     "text": [
      "\r",
      "OMP Test Batch for noise_level = 0.04:  66%|██████▋   | 133/200 [4:02:29<1:14:27, 66.68s/it]"
     ]
    },
    {
     "name": "stderr",
     "output_type": "stream",
     "text": [
      "\r",
      "OMP Test Batch for noise_level = 0.00:  87%|████████▋ | 174/200 [4:02:34<18:24, 42.46s/it]"
     ]
    },
    {
     "name": "stderr",
     "output_type": "stream",
     "text": [
      "\r",
      "OMP Test Batch for noise_level = 0.10:  92%|█████████▏| 184/200 [4:02:41<10:49, 40.58s/it]"
     ]
    },
    {
     "name": "stderr",
     "output_type": "stream",
     "text": [
      "\r",
      "OMP Test Batch for noise_level = 0.14:  72%|███████▏  | 143/200 [4:02:40<37:29, 39.46s/it]"
     ]
    },
    {
     "name": "stderr",
     "output_type": "stream",
     "text": [
      "\r",
      "OMP Test Batch for noise_level = 0.16:  92%|█████████▏| 184/200 [4:02:39<10:34, 39.68s/it]"
     ]
    },
    {
     "name": "stderr",
     "output_type": "stream",
     "text": [
      "\r",
      "OMP Test Batch for noise_level = 0.05:  66%|██████▌   | 132/200 [4:02:49<1:15:23, 66.52s/it]"
     ]
    },
    {
     "name": "stderr",
     "output_type": "stream",
     "text": [
      "\r",
      "OMP Test Batch for noise_level = 0.18:  96%|█████████▌| 192/200 [4:02:46<05:12, 39.03s/it]"
     ]
    },
    {
     "name": "stderr",
     "output_type": "stream",
     "text": [
      "\r",
      "OMP Test Batch for noise_level = 0.20:  92%|█████████▎| 185/200 [4:02:47<09:50, 39.36s/it]"
     ]
    },
    {
     "name": "stderr",
     "output_type": "stream",
     "text": [
      "\r",
      "OMP Test Batch for noise_level = 0.02:  88%|████████▊ | 175/200 [4:03:04<17:00, 40.81s/it]"
     ]
    },
    {
     "name": "stderr",
     "output_type": "stream",
     "text": [
      "\r",
      "OMP Test Batch for noise_level = 0.03:  88%|████████▊ | 175/200 [4:03:03<16:41, 40.05s/it]"
     ]
    },
    {
     "name": "stderr",
     "output_type": "stream",
     "text": [
      "\r",
      "OMP Test Batch for noise_level = 0.01:  67%|██████▋   | 134/200 [4:03:07<1:15:14, 68.41s/it]"
     ]
    },
    {
     "name": "stderr",
     "output_type": "stream",
     "text": [
      "\r",
      "OMP Test Batch for noise_level = 0.07:  68%|██████▊   | 137/200 [4:03:06<1:09:40, 66.35s/it]"
     ]
    },
    {
     "name": "stderr",
     "output_type": "stream",
     "text": [
      "\r",
      "OMP Test Batch for noise_level = 0.00:  88%|████████▊ | 175/200 [4:03:16<17:31, 42.05s/it]"
     ]
    },
    {
     "name": "stderr",
     "output_type": "stream",
     "text": [
      "\r",
      "OMP Test Batch for noise_level = 0.09:  66%|██████▋   | 133/200 [4:03:11<1:13:42, 66.00s/it]"
     ]
    },
    {
     "name": "stderr",
     "output_type": "stream",
     "text": [
      "\r",
      "OMP Test Batch for noise_level = 0.12:  70%|██████▉   | 139/200 [4:03:13<1:03:06, 62.07s/it]"
     ]
    },
    {
     "name": "stderr",
     "output_type": "stream",
     "text": [
      "\r",
      "OMP Test Batch for noise_level = 0.06:  68%|██████▊   | 135/200 [4:03:20<1:13:31, 67.87s/it]"
     ]
    },
    {
     "name": "stderr",
     "output_type": "stream",
     "text": [
      "\r",
      "OMP Test Batch for noise_level = 0.14:  72%|███████▏  | 144/200 [4:03:18<36:18, 38.89s/it]\r",
      "OMP Test Batch for noise_level = 0.16:  92%|█████████▎| 185/200 [4:03:17<09:45, 39.02s/it]"
     ]
    },
    {
     "name": "stderr",
     "output_type": "stream",
     "text": [
      "\r",
      "OMP Test Batch for noise_level = 0.10:  92%|█████████▎| 185/200 [4:03:22<10:11, 40.75s/it]"
     ]
    },
    {
     "name": "stderr",
     "output_type": "stream",
     "text": [
      "\r",
      "OMP Test Batch for noise_level = 0.08:  66%|██████▌   | 132/200 [4:03:27<1:18:29, 69.26s/it]"
     ]
    },
    {
     "name": "stderr",
     "output_type": "stream",
     "text": [
      "\r",
      "OMP Test Batch for noise_level = 0.04:  67%|██████▋   | 134/200 [4:03:33<1:12:22, 65.80s/it]"
     ]
    },
    {
     "name": "stderr",
     "output_type": "stream",
     "text": [
      "\r",
      "OMP Test Batch for noise_level = 0.18:  96%|█████████▋| 193/200 [4:03:23<04:29, 38.51s/it]"
     ]
    },
    {
     "name": "stderr",
     "output_type": "stream",
     "text": [
      "\r",
      "OMP Test Batch for noise_level = 0.20:  93%|█████████▎| 186/200 [4:03:25<09:05, 38.96s/it]"
     ]
    },
    {
     "name": "stderr",
     "output_type": "stream",
     "text": [
      "\r",
      "OMP Test Batch for noise_level = 0.02:  88%|████████▊ | 176/200 [4:03:41<15:56, 39.84s/it]"
     ]
    },
    {
     "name": "stderr",
     "output_type": "stream",
     "text": [
      "\r",
      "OMP Test Batch for noise_level = 0.03:  88%|████████▊ | 176/200 [4:03:40<15:43, 39.31s/it]"
     ]
    },
    {
     "name": "stderr",
     "output_type": "stream",
     "text": [
      "\r",
      "OMP Test Batch for noise_level = 0.00:  88%|████████▊ | 176/200 [4:03:53<16:19, 40.79s/it]"
     ]
    },
    {
     "name": "stderr",
     "output_type": "stream",
     "text": [
      "\r",
      "OMP Test Batch for noise_level = 0.05:  66%|██████▋   | 133/200 [4:03:50<1:12:23, 64.83s/it]"
     ]
    },
    {
     "name": "stderr",
     "output_type": "stream",
     "text": [
      "\r",
      "OMP Test Batch for noise_level = 0.14:  72%|███████▎  | 145/200 [4:03:56<35:23, 38.62s/it]"
     ]
    },
    {
     "name": "stderr",
     "output_type": "stream",
     "text": [
      "\r",
      "OMP Test Batch for noise_level = 0.10:  93%|█████████▎| 186/200 [4:03:58<09:10, 39.32s/it]"
     ]
    },
    {
     "name": "stderr",
     "output_type": "stream",
     "text": [
      "\r",
      "OMP Test Batch for noise_level = 0.16:  93%|█████████▎| 186/200 [4:03:58<09:15, 39.70s/it]"
     ]
    },
    {
     "name": "stderr",
     "output_type": "stream",
     "text": [
      "\r",
      "OMP Test Batch for noise_level = 0.18:  97%|█████████▋| 194/200 [4:03:59<03:46, 37.73s/it]"
     ]
    },
    {
     "name": "stderr",
     "output_type": "stream",
     "text": [
      "\r",
      "OMP Test Batch for noise_level = 0.01:  68%|██████▊   | 135/200 [4:04:16<1:14:25, 68.69s/it]"
     ]
    },
    {
     "name": "stderr",
     "output_type": "stream",
     "text": [
      "\r",
      "OMP Test Batch for noise_level = 0.09:  67%|██████▋   | 134/200 [4:04:12<1:10:51, 64.42s/it]"
     ]
    },
    {
     "name": "stderr",
     "output_type": "stream",
     "text": [
      "\r",
      "OMP Test Batch for noise_level = 0.07:  69%|██████▉   | 138/200 [4:04:15<1:09:26, 67.20s/it]"
     ]
    },
    {
     "name": "stderr",
     "output_type": "stream",
     "text": [
      "\r",
      "OMP Test Batch for noise_level = 0.20:  94%|█████████▎| 187/200 [4:04:08<08:38, 39.88s/it]"
     ]
    },
    {
     "name": "stderr",
     "output_type": "stream",
     "text": [
      "\r",
      "OMP Test Batch for noise_level = 0.03:  88%|████████▊ | 177/200 [4:04:20<15:08, 39.52s/it]"
     ]
    },
    {
     "name": "stderr",
     "output_type": "stream",
     "text": [
      "\r",
      "OMP Test Batch for noise_level = 0.02:  88%|████████▊ | 177/200 [4:04:22<15:24, 40.20s/it]"
     ]
    },
    {
     "name": "stderr",
     "output_type": "stream",
     "text": [
      "\r",
      "OMP Test Batch for noise_level = 0.12:  70%|███████   | 140/200 [4:04:19<1:03:21, 63.37s/it]"
     ]
    },
    {
     "name": "stderr",
     "output_type": "stream",
     "text": [
      "\r",
      "OMP Test Batch for noise_level = 0.04:  68%|██████▊   | 135/200 [4:04:31<1:08:43, 63.44s/it]"
     ]
    },
    {
     "name": "stderr",
     "output_type": "stream",
     "text": [
      "\r",
      "OMP Test Batch for noise_level = 0.00:  88%|████████▊ | 177/200 [4:04:35<15:46, 41.15s/it]\r",
      "OMP Test Batch for noise_level = 0.06:  68%|██████▊   | 136/200 [4:04:29<1:12:50, 68.29s/it]"
     ]
    },
    {
     "name": "stderr",
     "output_type": "stream",
     "text": [
      "\r",
      "OMP Test Batch for noise_level = 0.08:  66%|██████▋   | 133/200 [4:04:36<1:17:19, 69.24s/it]\r",
      "OMP Test Batch for noise_level = 0.16:  94%|█████████▎| 187/200 [4:04:31<08:08, 37.60s/it]"
     ]
    },
    {
     "name": "stderr",
     "output_type": "stream",
     "text": [
      "\r",
      "OMP Test Batch for noise_level = 0.14:  73%|███████▎  | 146/200 [4:04:36<35:08, 39.04s/it]"
     ]
    },
    {
     "name": "stderr",
     "output_type": "stream",
     "text": [
      "\r",
      "OMP Test Batch for noise_level = 0.18:  98%|█████████▊| 195/200 [4:04:35<03:05, 37.15s/it]"
     ]
    },
    {
     "name": "stderr",
     "output_type": "stream",
     "text": [
      "\r",
      "OMP Test Batch for noise_level = 0.10:  94%|█████████▎| 187/200 [4:04:39<08:38, 39.90s/it]"
     ]
    },
    {
     "name": "stderr",
     "output_type": "stream",
     "text": [
      "\r",
      "OMP Test Batch for noise_level = 0.05:  67%|██████▋   | 134/200 [4:04:49<1:09:12, 62.91s/it]"
     ]
    },
    {
     "name": "stderr",
     "output_type": "stream",
     "text": [
      "\r",
      "OMP Test Batch for noise_level = 0.20:  94%|█████████▍| 188/200 [4:04:44<07:46, 38.89s/it]"
     ]
    },
    {
     "name": "stderr",
     "output_type": "stream",
     "text": [
      "\r",
      "OMP Test Batch for noise_level = 0.03:  89%|████████▉ | 178/200 [4:05:02<14:42, 40.11s/it]"
     ]
    },
    {
     "name": "stderr",
     "output_type": "stream",
     "text": [
      "\r",
      "OMP Test Batch for noise_level = 0.02:  89%|████████▉ | 178/200 [4:05:05<14:59, 40.87s/it]"
     ]
    },
    {
     "name": "stderr",
     "output_type": "stream",
     "text": [
      "\r",
      "OMP Test Batch for noise_level = 0.00:  89%|████████▉ | 178/200 [4:05:17<15:06, 41.22s/it]"
     ]
    },
    {
     "name": "stderr",
     "output_type": "stream",
     "text": [
      "\r",
      "OMP Test Batch for noise_level = 0.16:  94%|█████████▍| 188/200 [4:05:07<07:25, 37.09s/it]"
     ]
    },
    {
     "name": "stderr",
     "output_type": "stream",
     "text": [
      "\r",
      "OMP Test Batch for noise_level = 0.01:  68%|██████▊   | 136/200 [4:05:23<1:12:44, 68.19s/it]"
     ]
    },
    {
     "name": "stderr",
     "output_type": "stream",
     "text": [
      "\r",
      "OMP Test Batch for noise_level = 0.07:  70%|██████▉   | 139/200 [4:05:18<1:07:10, 66.08s/it]"
     ]
    },
    {
     "name": "stderr",
     "output_type": "stream",
     "text": [
      "\r",
      "OMP Test Batch for noise_level = 0.09:  68%|██████▊   | 135/200 [4:05:18<1:10:18, 64.90s/it]"
     ]
    },
    {
     "name": "stderr",
     "output_type": "stream",
     "text": [
      "\r",
      "OMP Test Batch for noise_level = 0.10:  94%|█████████▍| 188/200 [4:05:17<07:51, 39.28s/it]"
     ]
    },
    {
     "name": "stderr",
     "output_type": "stream",
     "text": [
      "\r",
      "OMP Test Batch for noise_level = 0.14:  74%|███████▎  | 147/200 [4:05:17<34:59, 39.62s/it]"
     ]
    },
    {
     "name": "stderr",
     "output_type": "stream",
     "text": [
      "\r",
      "OMP Test Batch for noise_level = 0.18:  98%|█████████▊| 196/200 [4:05:18<02:35, 38.95s/it]"
     ]
    },
    {
     "name": "stderr",
     "output_type": "stream",
     "text": [
      "\r",
      "OMP Test Batch for noise_level = 0.12:  70%|███████   | 141/200 [4:05:26<1:03:14, 64.31s/it]"
     ]
    },
    {
     "name": "stderr",
     "output_type": "stream",
     "text": [
      "\r",
      "OMP Test Batch for noise_level = 0.04:  68%|██████▊   | 136/200 [4:05:38<1:08:46, 64.48s/it]\r",
      "OMP Test Batch for noise_level = 0.20:  94%|█████████▍| 189/200 [4:05:26<07:17, 39.81s/it]"
     ]
    },
    {
     "name": "stderr",
     "output_type": "stream",
     "text": [
      "\r",
      "OMP Test Batch for noise_level = 0.06:  68%|██████▊   | 137/200 [4:05:38<1:12:06, 68.67s/it]"
     ]
    },
    {
     "name": "stderr",
     "output_type": "stream",
     "text": [
      "\r",
      "OMP Test Batch for noise_level = 0.03:  90%|████████▉ | 179/200 [4:05:44<14:12, 40.59s/it]"
     ]
    },
    {
     "name": "stderr",
     "output_type": "stream",
     "text": [
      "\r",
      "OMP Test Batch for noise_level = 0.02:  90%|████████▉ | 179/200 [4:05:46<14:21, 41.02s/it]"
     ]
    },
    {
     "name": "stderr",
     "output_type": "stream",
     "text": [
      "\r",
      "OMP Test Batch for noise_level = 0.08:  67%|██████▋   | 134/200 [4:05:43<1:15:28, 68.62s/it]"
     ]
    },
    {
     "name": "stderr",
     "output_type": "stream",
     "text": [
      "\r",
      "OMP Test Batch for noise_level = 0.16:  94%|█████████▍| 189/200 [4:05:46<06:55, 37.79s/it]"
     ]
    },
    {
     "name": "stderr",
     "output_type": "stream",
     "text": [
      "\r",
      "OMP Test Batch for noise_level = 0.00:  90%|████████▉ | 179/200 [4:06:00<14:40, 41.92s/it]"
     ]
    },
    {
     "name": "stderr",
     "output_type": "stream",
     "text": [
      "\r",
      "OMP Test Batch for noise_level = 0.05:  68%|██████▊   | 135/200 [4:05:56<1:09:35, 64.24s/it]"
     ]
    },
    {
     "name": "stderr",
     "output_type": "stream",
     "text": [
      "\r",
      "OMP Test Batch for noise_level = 0.14:  74%|███████▍  | 148/200 [4:05:54<33:49, 39.03s/it]"
     ]
    },
    {
     "name": "stderr",
     "output_type": "stream",
     "text": [
      "\r",
      "OMP Test Batch for noise_level = 0.10:  94%|█████████▍| 189/200 [4:05:57<07:13, 39.39s/it]"
     ]
    },
    {
     "name": "stderr",
     "output_type": "stream",
     "text": [
      "\r",
      "OMP Test Batch for noise_level = 0.18:  98%|█████████▊| 197/200 [4:05:55<01:55, 38.46s/it]"
     ]
    },
    {
     "name": "stderr",
     "output_type": "stream",
     "text": [
      "\r",
      "OMP Test Batch for noise_level = 0.20:  95%|█████████▌| 190/200 [4:05:57<06:10, 37.04s/it]"
     ]
    },
    {
     "name": "stderr",
     "output_type": "stream",
     "text": [
      "\r",
      "OMP Test Batch for noise_level = 0.02:  90%|█████████ | 180/200 [4:06:27<13:37, 40.90s/it]"
     ]
    },
    {
     "name": "stderr",
     "output_type": "stream",
     "text": [
      "\r",
      "OMP Test Batch for noise_level = 0.03:  90%|█████████ | 180/200 [4:06:26<13:45, 41.25s/it]"
     ]
    },
    {
     "name": "stderr",
     "output_type": "stream",
     "text": [
      "\r",
      "OMP Test Batch for noise_level = 0.07:  70%|███████   | 140/200 [4:06:25<1:06:16, 66.27s/it]"
     ]
    },
    {
     "name": "stderr",
     "output_type": "stream",
     "text": [
      "\r",
      "OMP Test Batch for noise_level = 0.01:  68%|██████▊   | 137/200 [4:06:33<1:12:10, 68.74s/it]"
     ]
    },
    {
     "name": "stderr",
     "output_type": "stream",
     "text": [
      "\r",
      "OMP Test Batch for noise_level = 0.09:  68%|██████▊   | 136/200 [4:06:28<1:10:51, 66.44s/it]"
     ]
    },
    {
     "name": "stderr",
     "output_type": "stream",
     "text": [
      "\r",
      "OMP Test Batch for noise_level = 0.16:  95%|█████████▌| 190/200 [4:06:25<06:21, 38.15s/it]"
     ]
    },
    {
     "name": "stderr",
     "output_type": "stream",
     "text": [
      "\r",
      "OMP Test Batch for noise_level = 0.00:  90%|█████████ | 180/200 [4:06:43<14:02, 42.15s/it]"
     ]
    },
    {
     "name": "stderr",
     "output_type": "stream",
     "text": [
      "\r",
      "OMP Test Batch for noise_level = 0.12:  71%|███████   | 142/200 [4:06:36<1:03:52, 66.08s/it]\r",
      "OMP Test Batch for noise_level = 0.18:  99%|█████████▉| 198/200 [4:06:33<01:16, 38.12s/it]"
     ]
    },
    {
     "name": "stderr",
     "output_type": "stream",
     "text": [
      "\r",
      "OMP Test Batch for noise_level = 0.14:  74%|███████▍  | 149/200 [4:06:35<33:42, 39.65s/it]"
     ]
    },
    {
     "name": "stderr",
     "output_type": "stream",
     "text": [
      "\r",
      "OMP Test Batch for noise_level = 0.10:  95%|█████████▌| 190/200 [4:06:37<06:38, 39.86s/it]"
     ]
    },
    {
     "name": "stderr",
     "output_type": "stream",
     "text": [
      "\r",
      "OMP Test Batch for noise_level = 0.06:  69%|██████▉   | 138/200 [4:06:43<1:09:43, 67.48s/it]"
     ]
    },
    {
     "name": "stderr",
     "output_type": "stream",
     "text": [
      "\r",
      "OMP Test Batch for noise_level = 0.04:  68%|██████▊   | 137/200 [4:06:48<1:09:26, 66.14s/it]"
     ]
    },
    {
     "name": "stderr",
     "output_type": "stream",
     "text": [
      "\r",
      "OMP Test Batch for noise_level = 0.20:  96%|█████████▌| 191/200 [4:06:38<05:45, 38.43s/it]"
     ]
    },
    {
     "name": "stderr",
     "output_type": "stream",
     "text": [
      "\r",
      "OMP Test Batch for noise_level = 0.08:  68%|██████▊   | 135/200 [4:06:53<1:14:46, 69.02s/it]"
     ]
    },
    {
     "name": "stderr",
     "output_type": "stream",
     "text": [
      "\r",
      "OMP Test Batch for noise_level = 0.05:  68%|██████▊   | 136/200 [4:07:00<1:08:28, 64.20s/it]"
     ]
    },
    {
     "name": "stderr",
     "output_type": "stream",
     "text": [
      "\r",
      "OMP Test Batch for noise_level = 0.03:  90%|█████████ | 181/200 [4:07:06<12:55, 40.80s/it]"
     ]
    },
    {
     "name": "stderr",
     "output_type": "stream",
     "text": [
      "\r",
      "OMP Test Batch for noise_level = 0.02:  90%|█████████ | 181/200 [4:07:10<13:10, 41.60s/it]"
     ]
    },
    {
     "name": "stderr",
     "output_type": "stream",
     "text": [
      "\r",
      "OMP Test Batch for noise_level = 0.16:  96%|█████████▌| 191/200 [4:06:59<05:33, 37.01s/it]"
     ]
    },
    {
     "name": "stderr",
     "output_type": "stream",
     "text": [
      "\r",
      "OMP Test Batch for noise_level = 0.00:  90%|█████████ | 181/200 [4:07:22<13:05, 41.32s/it]"
     ]
    },
    {
     "name": "stderr",
     "output_type": "stream",
     "text": [
      "\r",
      "OMP Test Batch for noise_level = 0.18: 100%|█████████▉| 199/200 [4:07:08<00:37, 37.38s/it]"
     ]
    },
    {
     "name": "stderr",
     "output_type": "stream",
     "text": [
      "\r",
      "OMP Test Batch for noise_level = 0.14:  75%|███████▌  | 150/200 [4:07:16<33:10, 39.81s/it]"
     ]
    },
    {
     "name": "stderr",
     "output_type": "stream",
     "text": [
      "\r",
      "OMP Test Batch for noise_level = 0.10:  96%|█████████▌| 191/200 [4:07:18<05:59, 39.97s/it]"
     ]
    },
    {
     "name": "stderr",
     "output_type": "stream",
     "text": [
      "\r",
      "OMP Test Batch for noise_level = 0.07:  70%|███████   | 141/200 [4:07:26<1:03:35, 64.68s/it]"
     ]
    },
    {
     "name": "stderr",
     "output_type": "stream",
     "text": [
      "\r",
      "OMP Test Batch for noise_level = 0.20:  96%|█████████▌| 192/200 [4:07:18<05:09, 38.75s/it]"
     ]
    },
    {
     "name": "stderr",
     "output_type": "stream",
     "text": [
      "\r",
      "OMP Test Batch for noise_level = 0.01:  69%|██████▉   | 138/200 [4:07:38<1:09:47, 67.53s/it]"
     ]
    },
    {
     "name": "stderr",
     "output_type": "stream",
     "text": [
      "\r",
      "OMP Test Batch for noise_level = 0.09:  68%|██████▊   | 137/200 [4:07:31<1:08:42, 65.44s/it]"
     ]
    },
    {
     "name": "stderr",
     "output_type": "stream",
     "text": [
      "\r",
      "OMP Test Batch for noise_level = 0.02:  91%|█████████ | 182/200 [4:07:45<11:51, 39.54s/it]"
     ]
    },
    {
     "name": "stderr",
     "output_type": "stream",
     "text": [
      "\r",
      "OMP Test Batch for noise_level = 0.16:  96%|█████████▌| 192/200 [4:07:39<05:02, 37.85s/it]"
     ]
    },
    {
     "name": "stderr",
     "output_type": "stream",
     "text": [
      "\r",
      "OMP Test Batch for noise_level = 0.12:  72%|███████▏  | 143/200 [4:07:44<1:03:19, 66.67s/it]"
     ]
    },
    {
     "name": "stderr",
     "output_type": "stream",
     "text": [
      "\r",
      "OMP Test Batch for noise_level = 0.04:  69%|██████▉   | 138/200 [4:07:52<1:07:43, 65.53s/it]"
     ]
    },
    {
     "name": "stderr",
     "output_type": "stream",
     "text": [
      "\r",
      "OMP Test Batch for noise_level = 0.06:  70%|██████▉   | 139/200 [4:07:50<1:08:25, 67.31s/it]"
     ]
    },
    {
     "name": "stderr",
     "output_type": "stream",
     "text": [
      "\r",
      "OMP Test Batch for noise_level = 0.08:  68%|██████▊   | 136/200 [4:07:51<1:10:04, 65.70s/it]\r",
      "OMP Test Batch for noise_level = 0.03:  91%|█████████ | 182/200 [4:07:56<13:03, 43.55s/it]"
     ]
    },
    {
     "name": "stderr",
     "output_type": "stream",
     "text": [
      "\r",
      "OMP Test Batch for noise_level = 0.00:  91%|█████████ | 182/200 [4:08:01<12:09, 40.55s/it]"
     ]
    },
    {
     "name": "stderr",
     "output_type": "stream",
     "text": [
      "\r",
      "OMP Test Batch for noise_level = 0.18: 100%|██████████| 200/200 [4:07:48<00:00, 38.15s/it]\r",
      "OMP Test Batch for noise_level = 0.18: 100%|██████████| 200/200 [4:07:48<00:00, 74.34s/it]\n"
     ]
    },
    {
     "name": "stderr",
     "output_type": "stream",
     "text": [
      "\r",
      "OMP Test Batch for noise_level = 0.10:  96%|█████████▌| 192/200 [4:07:57<05:18, 39.87s/it]"
     ]
    },
    {
     "name": "stderr",
     "output_type": "stream",
     "text": [
      "\r",
      "OMP Test Batch for noise_level = 0.20:  96%|█████████▋| 193/200 [4:08:00<04:37, 39.65s/it]"
     ]
    },
    {
     "name": "stderr",
     "output_type": "stream",
     "text": [
      "\r",
      "OMP Test Batch for noise_level = 0.05:  68%|██████▊   | 137/200 [4:08:10<1:09:20, 66.04s/it]"
     ]
    },
    {
     "name": "stderr",
     "output_type": "stream",
     "text": [
      "\r",
      "OMP Test Batch for noise_level = 0.14:  76%|███████▌  | 151/200 [4:08:06<35:11, 43.10s/it]"
     ]
    },
    {
     "name": "stderr",
     "output_type": "stream",
     "text": [
      "\r",
      "OMP Test Batch for noise_level = 0.02:  92%|█████████▏| 183/200 [4:08:23<11:07, 39.24s/it]"
     ]
    },
    {
     "name": "stderr",
     "output_type": "stream",
     "text": [
      "\r",
      "OMP Test Batch for noise_level = 0.16:  96%|█████████▋| 193/200 [4:08:18<04:26, 38.06s/it]"
     ]
    },
    {
     "name": "stderr",
     "output_type": "stream",
     "text": [
      "\r",
      "OMP Test Batch for noise_level = 0.07:  71%|███████   | 142/200 [4:08:32<1:03:03, 65.23s/it]"
     ]
    },
    {
     "name": "stderr",
     "output_type": "stream",
     "text": [
      "\r",
      "OMP Test Batch for noise_level = 0.00:  92%|█████████▏| 183/200 [4:08:41<11:24, 40.24s/it]"
     ]
    },
    {
     "name": "stderr",
     "output_type": "stream",
     "text": [
      "\r",
      "OMP Test Batch for noise_level = 0.09:  69%|██████▉   | 138/200 [4:08:32<1:06:18, 64.17s/it]"
     ]
    },
    {
     "name": "stderr",
     "output_type": "stream",
     "text": [
      "\r",
      "OMP Test Batch for noise_level = 0.10:  96%|█████████▋| 193/200 [4:08:35<04:34, 39.24s/it]\r",
      "OMP Test Batch for noise_level = 0.01:  70%|██████▉   | 139/200 [4:08:45<1:08:37, 67.49s/it]"
     ]
    },
    {
     "name": "stderr",
     "output_type": "stream",
     "text": [
      "\r",
      "OMP Test Batch for noise_level = 0.03:  92%|█████████▏| 183/200 [4:08:46<12:50, 45.34s/it]"
     ]
    },
    {
     "name": "stderr",
     "output_type": "stream",
     "text": [
      "\r",
      "OMP Test Batch for noise_level = 0.20:  97%|█████████▋| 194/200 [4:08:34<03:49, 38.21s/it]"
     ]
    },
    {
     "name": "stderr",
     "output_type": "stream",
     "text": [
      "\r",
      "OMP Test Batch for noise_level = 0.12:  72%|███████▏  | 144/200 [4:08:46<1:01:01, 65.38s/it]"
     ]
    },
    {
     "name": "stderr",
     "output_type": "stream",
     "text": [
      "\r",
      "OMP Test Batch for noise_level = 0.02:  92%|█████████▏| 184/200 [4:09:03<10:30, 39.40s/it]"
     ]
    },
    {
     "name": "stderr",
     "output_type": "stream",
     "text": [
      "\r",
      "OMP Test Batch for noise_level = 0.08:  68%|██████▊   | 137/200 [4:08:57<1:09:10, 65.89s/it]"
     ]
    },
    {
     "name": "stderr",
     "output_type": "stream",
     "text": [
      "\r",
      "OMP Test Batch for noise_level = 0.06:  70%|███████   | 140/200 [4:09:01<1:08:23, 68.40s/it]"
     ]
    },
    {
     "name": "stderr",
     "output_type": "stream",
     "text": [
      "\r",
      "OMP Test Batch for noise_level = 0.04:  70%|██████▉   | 139/200 [4:09:03<1:08:32, 67.42s/it]"
     ]
    },
    {
     "name": "stderr",
     "output_type": "stream",
     "text": [
      "\r",
      "OMP Test Batch for noise_level = 0.16:  97%|█████████▋| 194/200 [4:08:56<03:48, 38.04s/it]"
     ]
    },
    {
     "name": "stderr",
     "output_type": "stream",
     "text": [
      "\r",
      "OMP Test Batch for noise_level = 0.14:  76%|███████▌  | 152/200 [4:09:00<36:58, 46.21s/it]"
     ]
    },
    {
     "name": "stderr",
     "output_type": "stream",
     "text": [
      "\r",
      "OMP Test Batch for noise_level = 0.00:  92%|█████████▏| 184/200 [4:09:21<10:41, 40.12s/it]"
     ]
    },
    {
     "name": "stderr",
     "output_type": "stream",
     "text": [
      "\r",
      "OMP Test Batch for noise_level = 0.10:  97%|█████████▋| 194/200 [4:09:15<03:55, 39.30s/it]\r",
      "OMP Test Batch for noise_level = 0.05:  69%|██████▉   | 138/200 [4:09:20<1:09:25, 67.18s/it]"
     ]
    },
    {
     "name": "stderr",
     "output_type": "stream",
     "text": [
      "\r",
      "OMP Test Batch for noise_level = 0.20:  98%|█████████▊| 195/200 [4:09:13<03:11, 38.27s/it]"
     ]
    },
    {
     "name": "stderr",
     "output_type": "stream",
     "text": [
      "\r",
      "OMP Test Batch for noise_level = 0.03:  92%|█████████▏| 184/200 [4:09:35<12:25, 46.57s/it]"
     ]
    },
    {
     "name": "stderr",
     "output_type": "stream",
     "text": [
      "\r",
      "OMP Test Batch for noise_level = 0.07:  72%|███████▏  | 143/200 [4:09:34<1:00:49, 64.02s/it]"
     ]
    },
    {
     "name": "stderr",
     "output_type": "stream",
     "text": [
      "\r",
      "OMP Test Batch for noise_level = 0.02:  92%|█████████▎| 185/200 [4:09:42<09:50, 39.37s/it]"
     ]
    },
    {
     "name": "stderr",
     "output_type": "stream",
     "text": [
      "\r",
      "OMP Test Batch for noise_level = 0.16:  98%|█████████▊| 195/200 [4:09:32<03:07, 37.59s/it]"
     ]
    },
    {
     "name": "stderr",
     "output_type": "stream",
     "text": [
      "\r",
      "OMP Test Batch for noise_level = 0.01:  70%|███████   | 140/200 [4:09:53<1:07:30, 67.51s/it]"
     ]
    },
    {
     "name": "stderr",
     "output_type": "stream",
     "text": [
      "\r",
      "OMP Test Batch for noise_level = 0.09:  70%|██████▉   | 139/200 [4:09:45<1:07:52, 66.76s/it]"
     ]
    },
    {
     "name": "stderr",
     "output_type": "stream",
     "text": [
      "\r",
      "OMP Test Batch for noise_level = 0.10:  98%|█████████▊| 195/200 [4:09:46<03:05, 37.03s/it]"
     ]
    },
    {
     "name": "stderr",
     "output_type": "stream",
     "text": [
      "\r",
      "OMP Test Batch for noise_level = 0.12:  72%|███████▎  | 145/200 [4:09:48<58:48, 64.15s/it]  "
     ]
    },
    {
     "name": "stderr",
     "output_type": "stream",
     "text": [
      "\r",
      "OMP Test Batch for noise_level = 0.00:  92%|█████████▎| 185/200 [4:10:00<10:01, 40.07s/it]"
     ]
    },
    {
     "name": "stderr",
     "output_type": "stream",
     "text": [
      "\r",
      "OMP Test Batch for noise_level = 0.20:  98%|█████████▊| 196/200 [4:09:50<02:31, 37.91s/it]"
     ]
    },
    {
     "name": "stderr",
     "output_type": "stream",
     "text": [
      "\r",
      "OMP Test Batch for noise_level = 0.14:  76%|███████▋  | 153/200 [4:09:54<38:04, 48.60s/it]"
     ]
    },
    {
     "name": "stderr",
     "output_type": "stream",
     "text": [
      "\r",
      "OMP Test Batch for noise_level = 0.06:  70%|███████   | 141/200 [4:10:05<1:06:03, 67.17s/it]"
     ]
    },
    {
     "name": "stderr",
     "output_type": "stream",
     "text": [
      "\r",
      "OMP Test Batch for noise_level = 0.08:  69%|██████▉   | 138/200 [4:10:05<1:08:32, 66.34s/it]"
     ]
    },
    {
     "name": "stderr",
     "output_type": "stream",
     "text": [
      "\r",
      "OMP Test Batch for noise_level = 0.04:  70%|███████   | 140/200 [4:10:16<1:08:57, 68.96s/it]"
     ]
    },
    {
     "name": "stderr",
     "output_type": "stream",
     "text": [
      "\r",
      "OMP Test Batch for noise_level = 0.02:  93%|█████████▎| 186/200 [4:10:22<09:12, 39.48s/it]"
     ]
    },
    {
     "name": "stderr",
     "output_type": "stream",
     "text": [
      "\r",
      "OMP Test Batch for noise_level = 0.16:  98%|█████████▊| 196/200 [4:10:11<02:31, 37.88s/it]"
     ]
    },
    {
     "name": "stderr",
     "output_type": "stream",
     "text": [
      "\r",
      "OMP Test Batch for noise_level = 0.00:  93%|█████████▎| 186/200 [4:10:31<08:38, 37.06s/it]"
     ]
    },
    {
     "name": "stderr",
     "output_type": "stream",
     "text": [
      "\r",
      "OMP Test Batch for noise_level = 0.03:  92%|█████████▎| 185/200 [4:10:27<12:04, 48.28s/it]"
     ]
    },
    {
     "name": "stderr",
     "output_type": "stream",
     "text": [
      "\r",
      "OMP Test Batch for noise_level = 0.20:  98%|█████████▊| 197/200 [4:10:20<01:47, 35.69s/it]"
     ]
    },
    {
     "name": "stderr",
     "output_type": "stream",
     "text": [
      "\r",
      "OMP Test Batch for noise_level = 0.10:  98%|█████████▊| 196/200 [4:10:26<02:31, 37.86s/it]"
     ]
    },
    {
     "name": "stderr",
     "output_type": "stream",
     "text": [
      "\r",
      "OMP Test Batch for noise_level = 0.05:  70%|██████▉   | 139/200 [4:10:33<1:09:51, 68.71s/it]"
     ]
    },
    {
     "name": "stderr",
     "output_type": "stream",
     "text": [
      "\r",
      "OMP Test Batch for noise_level = 0.07:  72%|███████▏  | 144/200 [4:10:36<59:12, 63.44s/it]  "
     ]
    },
    {
     "name": "stderr",
     "output_type": "stream",
     "text": [
      "\r",
      "OMP Test Batch for noise_level = 0.14:  77%|███████▋  | 154/200 [4:10:44<37:32, 48.97s/it]"
     ]
    },
    {
     "name": "stderr",
     "output_type": "stream",
     "text": [
      "\r",
      "OMP Test Batch for noise_level = 0.01:  70%|███████   | 141/200 [4:10:58<1:05:35, 66.71s/it]"
     ]
    },
    {
     "name": "stderr",
     "output_type": "stream",
     "text": [
      "\r",
      "OMP Test Batch for noise_level = 0.12:  73%|███████▎  | 146/200 [4:10:52<57:53, 64.32s/it]\r",
      "OMP Test Batch for noise_level = 0.16:  98%|█████████▊| 197/200 [4:10:50<01:54, 38.27s/it]"
     ]
    },
    {
     "name": "stderr",
     "output_type": "stream",
     "text": [
      "\r",
      "OMP Test Batch for noise_level = 0.02:  94%|█████████▎| 187/200 [4:11:02<08:37, 39.80s/it]"
     ]
    },
    {
     "name": "stderr",
     "output_type": "stream",
     "text": [
      "\r",
      "OMP Test Batch for noise_level = 0.09:  70%|███████   | 140/200 [4:10:56<1:07:56, 67.94s/it]"
     ]
    },
    {
     "name": "stderr",
     "output_type": "stream",
     "text": [
      "\r",
      "OMP Test Batch for noise_level = 0.06:  71%|███████   | 142/200 [4:11:04<1:02:32, 64.70s/it]\r",
      "OMP Test Batch for noise_level = 0.10:  98%|█████████▊| 197/200 [4:11:00<01:49, 36.60s/it]"
     ]
    },
    {
     "name": "stderr",
     "output_type": "stream",
     "text": [
      "\r",
      "OMP Test Batch for noise_level = 0.00:  94%|█████████▎| 187/200 [4:11:11<08:15, 38.15s/it]"
     ]
    },
    {
     "name": "stderr",
     "output_type": "stream",
     "text": [
      "\r",
      "OMP Test Batch for noise_level = 0.08:  70%|██████▉   | 139/200 [4:11:04<1:05:19, 64.25s/it]"
     ]
    },
    {
     "name": "stderr",
     "output_type": "stream",
     "text": [
      "\r",
      "OMP Test Batch for noise_level = 0.20:  99%|█████████▉| 198/200 [4:11:00<01:13, 36.79s/it]"
     ]
    },
    {
     "name": "stderr",
     "output_type": "stream",
     "text": [
      "\r",
      "OMP Test Batch for noise_level = 0.03:  93%|█████████▎| 186/200 [4:11:15<11:14, 48.20s/it]"
     ]
    },
    {
     "name": "stderr",
     "output_type": "stream",
     "text": [
      "\r",
      "OMP Test Batch for noise_level = 0.04:  70%|███████   | 141/200 [4:11:24<1:07:32, 68.68s/it]"
     ]
    },
    {
     "name": "stderr",
     "output_type": "stream",
     "text": [
      "\r",
      "OMP Test Batch for noise_level = 0.14:  78%|███████▊  | 155/200 [4:11:21<34:09, 45.55s/it]"
     ]
    },
    {
     "name": "stderr",
     "output_type": "stream",
     "text": [
      "\r",
      "OMP Test Batch for noise_level = 0.16:  99%|█████████▉| 198/200 [4:11:29<01:17, 38.53s/it]\r",
      "OMP Test Batch for noise_level = 0.05:  70%|███████   | 140/200 [4:11:38<1:07:39, 67.65s/it]"
     ]
    },
    {
     "name": "stderr",
     "output_type": "stream",
     "text": [
      "\r",
      "OMP Test Batch for noise_level = 0.02:  94%|█████████▍| 188/200 [4:11:43<07:59, 39.94s/it]"
     ]
    },
    {
     "name": "stderr",
     "output_type": "stream",
     "text": [
      "\r",
      "OMP Test Batch for noise_level = 0.00:  94%|█████████▍| 188/200 [4:11:49<07:37, 38.09s/it]"
     ]
    },
    {
     "name": "stderr",
     "output_type": "stream",
     "text": [
      "\r",
      "OMP Test Batch for noise_level = 0.10:  99%|█████████▉| 198/200 [4:11:39<01:14, 37.36s/it]"
     ]
    },
    {
     "name": "stderr",
     "output_type": "stream",
     "text": [
      "\r",
      "OMP Test Batch for noise_level = 0.20: 100%|█████████▉| 199/200 [4:11:36<00:36, 36.64s/it]"
     ]
    },
    {
     "name": "stderr",
     "output_type": "stream",
     "text": [
      "\r",
      "OMP Test Batch for noise_level = 0.07:  72%|███████▎  | 145/200 [4:11:46<1:00:10, 65.65s/it]"
     ]
    },
    {
     "name": "stderr",
     "output_type": "stream",
     "text": [
      "\r",
      "OMP Test Batch for noise_level = 0.03:  94%|█████████▎| 187/200 [4:11:53<09:45, 45.02s/it]"
     ]
    },
    {
     "name": "stderr",
     "output_type": "stream",
     "text": [
      "\r",
      "OMP Test Batch for noise_level = 0.01:  71%|███████   | 142/200 [4:12:06<1:05:03, 67.30s/it]"
     ]
    },
    {
     "name": "stderr",
     "output_type": "stream",
     "text": [
      "\r",
      "OMP Test Batch for noise_level = 0.09:  70%|███████   | 141/200 [4:12:00<1:05:47, 66.90s/it]"
     ]
    },
    {
     "name": "stderr",
     "output_type": "stream",
     "text": [
      "\r",
      "OMP Test Batch for noise_level = 0.12:  74%|███████▎  | 147/200 [4:12:01<57:53, 65.54s/it]"
     ]
    },
    {
     "name": "stderr",
     "output_type": "stream",
     "text": [
      "\r",
      "OMP Test Batch for noise_level = 0.14:  78%|███████▊  | 156/200 [4:12:02<32:12, 43.93s/it]"
     ]
    },
    {
     "name": "stderr",
     "output_type": "stream",
     "text": [
      "\r",
      "OMP Test Batch for noise_level = 0.06:  72%|███████▏  | 143/200 [4:12:13<1:02:31, 65.82s/it]"
     ]
    },
    {
     "name": "stderr",
     "output_type": "stream",
     "text": [
      "\r",
      "OMP Test Batch for noise_level = 0.08:  70%|███████   | 140/200 [4:12:13<1:05:29, 65.50s/it]"
     ]
    },
    {
     "name": "stderr",
     "output_type": "stream",
     "text": [
      "\r",
      "OMP Test Batch for noise_level = 0.16: 100%|█████████▉| 199/200 [4:12:08<00:38, 38.80s/it]"
     ]
    },
    {
     "name": "stderr",
     "output_type": "stream",
     "text": [
      "\r",
      "OMP Test Batch for noise_level = 0.02:  94%|█████████▍| 189/200 [4:12:22<07:17, 39.74s/it]"
     ]
    },
    {
     "name": "stderr",
     "output_type": "stream",
     "text": [
      "\r",
      "OMP Test Batch for noise_level = 0.10: 100%|█████████▉| 199/200 [4:12:16<00:37, 37.29s/it]\r",
      "OMP Test Batch for noise_level = 0.00:  94%|█████████▍| 189/200 [4:12:27<06:59, 38.11s/it]"
     ]
    },
    {
     "name": "stderr",
     "output_type": "stream",
     "text": [
      "\r",
      "OMP Test Batch for noise_level = 0.04:  71%|███████   | 142/200 [4:12:23<1:03:42, 65.91s/it]"
     ]
    },
    {
     "name": "stderr",
     "output_type": "stream",
     "text": [
      "\r",
      "OMP Test Batch for noise_level = 0.20: 100%|██████████| 200/200 [4:12:16<00:00, 37.60s/it]\r",
      "OMP Test Batch for noise_level = 0.20: 100%|██████████| 200/200 [4:12:16<00:00, 75.68s/it]\n"
     ]
    },
    {
     "name": "stderr",
     "output_type": "stream",
     "text": [
      "\r",
      "OMP Test Batch for noise_level = 0.03:  94%|█████████▍| 188/200 [4:12:34<08:44, 43.68s/it]"
     ]
    },
    {
     "name": "stderr",
     "output_type": "stream",
     "text": [
      "\r",
      "OMP Test Batch for noise_level = 0.07:  73%|███████▎  | 146/200 [4:12:44<56:51, 63.17s/it]  "
     ]
    },
    {
     "name": "stderr",
     "output_type": "stream",
     "text": [
      "\r",
      "OMP Test Batch for noise_level = 0.14:  78%|███████▊  | 157/200 [4:12:41<30:30, 42.58s/it]\r",
      "OMP Test Batch for noise_level = 0.16: 100%|██████████| 200/200 [4:12:40<00:00, 36.56s/it]\r",
      "OMP Test Batch for noise_level = 0.16: 100%|██████████| 200/200 [4:12:40<00:00, 75.80s/it]\n"
     ]
    },
    {
     "name": "stderr",
     "output_type": "stream",
     "text": [
      "\r",
      "OMP Test Batch for noise_level = 0.05:  70%|███████   | 141/200 [4:12:52<1:08:32, 69.70s/it]"
     ]
    },
    {
     "name": "stderr",
     "output_type": "stream",
     "text": [
      "\r",
      "OMP Test Batch for noise_level = 0.02:  95%|█████████▌| 190/200 [4:13:00<06:33, 39.38s/it]"
     ]
    },
    {
     "name": "stderr",
     "output_type": "stream",
     "text": [
      "\r",
      "OMP Test Batch for noise_level = 0.10: 100%|██████████| 200/200 [4:12:53<00:00, 37.16s/it]\r",
      "OMP Test Batch for noise_level = 0.10: 100%|██████████| 200/200 [4:12:53<00:00, 75.87s/it]\n"
     ]
    },
    {
     "name": "stderr",
     "output_type": "stream",
     "text": [
      "\r",
      "OMP Test Batch for noise_level = 0.00:  95%|█████████▌| 190/200 [4:13:06<06:23, 38.31s/it]"
     ]
    },
    {
     "name": "stderr",
     "output_type": "stream",
     "text": [
      "\r",
      "OMP Test Batch for noise_level = 0.01:  72%|███████▏  | 143/200 [4:13:13<1:03:41, 67.05s/it]"
     ]
    },
    {
     "name": "stderr",
     "output_type": "stream",
     "text": [
      "\r",
      "OMP Test Batch for noise_level = 0.03:  94%|█████████▍| 189/200 [4:13:11<07:40, 41.84s/it]"
     ]
    },
    {
     "name": "stderr",
     "output_type": "stream",
     "text": [
      "\r",
      "OMP Test Batch for noise_level = 0.09:  71%|███████   | 142/200 [4:13:10<1:05:24, 67.66s/it]"
     ]
    },
    {
     "name": "stderr",
     "output_type": "stream",
     "text": [
      "\r",
      "OMP Test Batch for noise_level = 0.12:  74%|███████▍  | 148/200 [4:13:11<58:02, 66.96s/it]"
     ]
    },
    {
     "name": "stderr",
     "output_type": "stream",
     "text": [
      "\r",
      "OMP Test Batch for noise_level = 0.14:  79%|███████▉  | 158/200 [4:13:14<27:50, 39.79s/it]"
     ]
    },
    {
     "name": "stderr",
     "output_type": "stream",
     "text": [
      "\r",
      "OMP Test Batch for noise_level = 0.08:  70%|███████   | 141/200 [4:13:22<1:05:23, 66.51s/it]\r",
      "OMP Test Batch for noise_level = 0.06:  72%|███████▏  | 144/200 [4:13:24<1:02:52, 67.37s/it]"
     ]
    },
    {
     "name": "stderr",
     "output_type": "stream",
     "text": [
      "\r",
      "OMP Test Batch for noise_level = 0.04:  72%|███████▏  | 143/200 [4:13:29<1:02:23, 65.68s/it]"
     ]
    },
    {
     "name": "stderr",
     "output_type": "stream",
     "text": [
      "\r",
      "OMP Test Batch for noise_level = 0.02:  96%|█████████▌| 191/200 [4:13:37<05:46, 38.47s/it]"
     ]
    },
    {
     "name": "stderr",
     "output_type": "stream",
     "text": [
      "\r",
      "OMP Test Batch for noise_level = 0.00:  96%|█████████▌| 191/200 [4:13:43<05:40, 37.82s/it]"
     ]
    },
    {
     "name": "stderr",
     "output_type": "stream",
     "text": [
      "\r",
      "OMP Test Batch for noise_level = 0.03:  95%|█████████▌| 190/200 [4:13:42<06:24, 38.41s/it]"
     ]
    },
    {
     "name": "stderr",
     "output_type": "stream",
     "text": [
      "\r",
      "OMP Test Batch for noise_level = 0.14:  80%|███████▉  | 159/200 [4:13:49<26:14, 38.41s/it]"
     ]
    },
    {
     "name": "stderr",
     "output_type": "stream",
     "text": [
      "\r",
      "OMP Test Batch for noise_level = 0.07:  74%|███████▎  | 147/200 [4:13:58<58:50, 66.61s/it]"
     ]
    },
    {
     "name": "stderr",
     "output_type": "stream",
     "text": [
      "\r",
      "OMP Test Batch for noise_level = 0.05:  71%|███████   | 142/200 [4:14:04<1:08:01, 70.37s/it]"
     ]
    },
    {
     "name": "stderr",
     "output_type": "stream",
     "text": [
      "\r",
      "OMP Test Batch for noise_level = 0.02:  96%|█████████▌| 192/200 [4:14:10<04:54, 36.85s/it]"
     ]
    },
    {
     "name": "stderr",
     "output_type": "stream",
     "text": [
      "\r",
      "OMP Test Batch for noise_level = 0.03:  96%|█████████▌| 191/200 [4:14:13<05:26, 36.33s/it]"
     ]
    },
    {
     "name": "stderr",
     "output_type": "stream",
     "text": [
      "\r",
      "OMP Test Batch for noise_level = 0.00:  96%|█████████▌| 192/200 [4:14:17<04:54, 36.86s/it]"
     ]
    },
    {
     "name": "stderr",
     "output_type": "stream",
     "text": [
      "\r",
      "OMP Test Batch for noise_level = 0.01:  72%|███████▏  | 144/200 [4:14:24<1:03:47, 68.34s/it]"
     ]
    },
    {
     "name": "stderr",
     "output_type": "stream",
     "text": [
      "\r",
      "OMP Test Batch for noise_level = 0.12:  74%|███████▍  | 149/200 [4:14:18<56:56, 66.99s/it]"
     ]
    },
    {
     "name": "stderr",
     "output_type": "stream",
     "text": [
      "\r",
      "OMP Test Batch for noise_level = 0.09:  72%|███████▏  | 143/200 [4:14:24<1:06:08, 69.62s/it]"
     ]
    },
    {
     "name": "stderr",
     "output_type": "stream",
     "text": [
      "\r",
      "OMP Test Batch for noise_level = 0.14:  80%|████████  | 160/200 [4:14:24<24:50, 37.27s/it]"
     ]
    },
    {
     "name": "stderr",
     "output_type": "stream",
     "text": [
      "\r",
      "OMP Test Batch for noise_level = 0.08:  71%|███████   | 142/200 [4:14:30<1:04:47, 67.03s/it]"
     ]
    },
    {
     "name": "stderr",
     "output_type": "stream",
     "text": [
      "\r",
      "OMP Test Batch for noise_level = 0.06:  72%|███████▎  | 145/200 [4:14:34<1:02:42, 68.41s/it]"
     ]
    },
    {
     "name": "stderr",
     "output_type": "stream",
     "text": [
      "\r",
      "OMP Test Batch for noise_level = 0.02:  96%|█████████▋| 193/200 [4:14:41<04:06, 35.23s/it]"
     ]
    },
    {
     "name": "stderr",
     "output_type": "stream",
     "text": [
      "\r",
      "OMP Test Batch for noise_level = 0.04:  72%|███████▏  | 144/200 [4:14:43<1:03:43, 68.27s/it]"
     ]
    },
    {
     "name": "stderr",
     "output_type": "stream",
     "text": [
      "\r",
      "OMP Test Batch for noise_level = 0.03:  96%|█████████▌| 192/200 [4:14:49<04:50, 36.28s/it]"
     ]
    },
    {
     "name": "stderr",
     "output_type": "stream",
     "text": [
      "\r",
      "OMP Test Batch for noise_level = 0.00:  96%|█████████▋| 193/200 [4:14:53<04:15, 36.56s/it]"
     ]
    },
    {
     "name": "stderr",
     "output_type": "stream",
     "text": [
      "\r",
      "OMP Test Batch for noise_level = 0.14:  80%|████████  | 161/200 [4:14:56<23:06, 35.56s/it]"
     ]
    },
    {
     "name": "stderr",
     "output_type": "stream",
     "text": [
      "\r",
      "OMP Test Batch for noise_level = 0.07:  74%|███████▍  | 148/200 [4:15:06<58:00, 66.94s/it]"
     ]
    },
    {
     "name": "stderr",
     "output_type": "stream",
     "text": [
      "\r",
      "OMP Test Batch for noise_level = 0.05:  72%|███████▏  | 143/200 [4:15:09<1:05:14, 68.68s/it]"
     ]
    },
    {
     "name": "stderr",
     "output_type": "stream",
     "text": [
      "\r",
      "OMP Test Batch for noise_level = 0.02:  97%|█████████▋| 194/200 [4:15:17<03:32, 35.37s/it]"
     ]
    },
    {
     "name": "stderr",
     "output_type": "stream",
     "text": [
      "\r",
      "OMP Test Batch for noise_level = 0.03:  96%|█████████▋| 193/200 [4:15:22<04:06, 35.23s/it]"
     ]
    },
    {
     "name": "stderr",
     "output_type": "stream",
     "text": [
      "\r",
      "OMP Test Batch for noise_level = 0.00:  97%|█████████▋| 194/200 [4:15:28<03:35, 35.93s/it]"
     ]
    },
    {
     "name": "stderr",
     "output_type": "stream",
     "text": [
      "\r",
      "OMP Test Batch for noise_level = 0.01:  72%|███████▎  | 145/200 [4:15:32<1:02:30, 68.19s/it]"
     ]
    },
    {
     "name": "stderr",
     "output_type": "stream",
     "text": [
      "\r",
      "OMP Test Batch for noise_level = 0.14:  81%|████████  | 162/200 [4:15:26<21:37, 34.13s/it]"
     ]
    },
    {
     "name": "stderr",
     "output_type": "stream",
     "text": [
      "\r",
      "OMP Test Batch for noise_level = 0.12:  75%|███████▌  | 150/200 [4:15:28<56:40, 68.00s/it]"
     ]
    },
    {
     "name": "stderr",
     "output_type": "stream",
     "text": [
      "\r",
      "OMP Test Batch for noise_level = 0.09:  72%|███████▏  | 144/200 [4:15:31<1:04:14, 68.82s/it]\r",
      "OMP Test Batch for noise_level = 0.08:  72%|███████▏  | 143/200 [4:15:32<1:02:21, 65.63s/it]"
     ]
    },
    {
     "name": "stderr",
     "output_type": "stream",
     "text": [
      "\r",
      "OMP Test Batch for noise_level = 0.06:  73%|███████▎  | 146/200 [4:15:40<1:00:42, 67.45s/it]"
     ]
    },
    {
     "name": "stderr",
     "output_type": "stream",
     "text": [
      "\r",
      "OMP Test Batch for noise_level = 0.02:  98%|█████████▊| 195/200 [4:15:52<02:56, 35.24s/it]"
     ]
    },
    {
     "name": "stderr",
     "output_type": "stream",
     "text": [
      "\r",
      "OMP Test Batch for noise_level = 0.03:  97%|█████████▋| 194/200 [4:15:54<03:25, 34.19s/it]"
     ]
    },
    {
     "name": "stderr",
     "output_type": "stream",
     "text": [
      "\r",
      "OMP Test Batch for noise_level = 0.04:  72%|███████▎  | 145/200 [4:15:54<1:03:23, 69.16s/it]"
     ]
    },
    {
     "name": "stderr",
     "output_type": "stream",
     "text": [
      "\r",
      "OMP Test Batch for noise_level = 0.00:  98%|█████████▊| 195/200 [4:16:00<02:53, 34.78s/it]"
     ]
    },
    {
     "name": "stderr",
     "output_type": "stream",
     "text": [
      "\r",
      "OMP Test Batch for noise_level = 0.14:  82%|████████▏ | 163/200 [4:16:01<21:09, 34.32s/it]"
     ]
    },
    {
     "name": "stderr",
     "output_type": "stream",
     "text": [
      "\r",
      "OMP Test Batch for noise_level = 0.07:  74%|███████▍  | 149/200 [4:16:19<58:17, 68.58s/it]"
     ]
    },
    {
     "name": "stderr",
     "output_type": "stream",
     "text": [
      "\r",
      "OMP Test Batch for noise_level = 0.02:  98%|█████████▊| 196/200 [4:16:25<02:17, 34.42s/it]"
     ]
    },
    {
     "name": "stderr",
     "output_type": "stream",
     "text": [
      "\r",
      "OMP Test Batch for noise_level = 0.05:  72%|███████▏  | 144/200 [4:16:24<1:06:01, 70.75s/it]"
     ]
    },
    {
     "name": "stderr",
     "output_type": "stream",
     "text": [
      "\r",
      "OMP Test Batch for noise_level = 0.03:  98%|█████████▊| 195/200 [4:16:30<02:53, 34.78s/it]"
     ]
    },
    {
     "name": "stderr",
     "output_type": "stream",
     "text": [
      "\r",
      "OMP Test Batch for noise_level = 0.00:  98%|█████████▊| 196/200 [4:16:36<02:20, 35.07s/it]"
     ]
    },
    {
     "name": "stderr",
     "output_type": "stream",
     "text": [
      "\r",
      "OMP Test Batch for noise_level = 0.01:  73%|███████▎  | 146/200 [4:16:41<1:01:40, 68.52s/it]"
     ]
    },
    {
     "name": "stderr",
     "output_type": "stream",
     "text": [
      "\r",
      "OMP Test Batch for noise_level = 0.14:  82%|████████▏ | 164/200 [4:16:34<20:18, 33.86s/it]"
     ]
    },
    {
     "name": "stderr",
     "output_type": "stream",
     "text": [
      "\r",
      "OMP Test Batch for noise_level = 0.08:  72%|███████▏  | 144/200 [4:16:41<1:02:08, 66.58s/it]"
     ]
    },
    {
     "name": "stderr",
     "output_type": "stream",
     "text": [
      "\r",
      "OMP Test Batch for noise_level = 0.09:  72%|███████▎  | 145/200 [4:16:41<1:03:34, 69.36s/it]"
     ]
    },
    {
     "name": "stderr",
     "output_type": "stream",
     "text": [
      "\r",
      "OMP Test Batch for noise_level = 0.12:  76%|███████▌  | 151/200 [4:16:40<56:20, 69.00s/it]"
     ]
    },
    {
     "name": "stderr",
     "output_type": "stream",
     "text": [
      "\r",
      "OMP Test Batch for noise_level = 0.02:  98%|█████████▊| 197/200 [4:16:59<01:42, 34.30s/it]\r",
      "OMP Test Batch for noise_level = 0.06:  74%|███████▎  | 147/200 [4:16:54<1:01:31, 69.64s/it]"
     ]
    },
    {
     "name": "stderr",
     "output_type": "stream",
     "text": [
      "\r",
      "OMP Test Batch for noise_level = 0.03:  98%|█████████▊| 196/200 [4:17:04<02:18, 34.57s/it]"
     ]
    },
    {
     "name": "stderr",
     "output_type": "stream",
     "text": [
      "\r",
      "OMP Test Batch for noise_level = 0.04:  73%|███████▎  | 146/200 [4:17:06<1:02:56, 69.94s/it]"
     ]
    },
    {
     "name": "stderr",
     "output_type": "stream",
     "text": [
      "\r",
      "OMP Test Batch for noise_level = 0.00:  98%|█████████▊| 197/200 [4:17:12<01:46, 35.42s/it]"
     ]
    },
    {
     "name": "stderr",
     "output_type": "stream",
     "text": [
      "\r",
      "OMP Test Batch for noise_level = 0.14:  82%|████████▎ | 165/200 [4:17:06<19:22, 33.21s/it]"
     ]
    },
    {
     "name": "stderr",
     "output_type": "stream",
     "text": [
      "\r",
      "OMP Test Batch for noise_level = 0.02:  99%|█████████▉| 198/200 [4:17:35<01:09, 34.82s/it]"
     ]
    },
    {
     "name": "stderr",
     "output_type": "stream",
     "text": [
      "\r",
      "OMP Test Batch for noise_level = 0.07:  75%|███████▌  | 150/200 [4:17:34<58:53, 70.67s/it]"
     ]
    },
    {
     "name": "stderr",
     "output_type": "stream",
     "text": [
      "\r",
      "OMP Test Batch for noise_level = 0.00:  99%|█████████▉| 198/200 [4:17:42<01:07, 33.92s/it]\r",
      "OMP Test Batch for noise_level = 0.03:  98%|█████████▊| 197/200 [4:17:39<01:43, 34.63s/it]"
     ]
    },
    {
     "name": "stderr",
     "output_type": "stream",
     "text": [
      "\r",
      "OMP Test Batch for noise_level = 0.05:  72%|███████▎  | 145/200 [4:17:40<1:06:05, 72.09s/it]"
     ]
    },
    {
     "name": "stderr",
     "output_type": "stream",
     "text": [
      "\r",
      "OMP Test Batch for noise_level = 0.14:  83%|████████▎ | 166/200 [4:17:39<18:51, 33.29s/it]"
     ]
    },
    {
     "name": "stderr",
     "output_type": "stream",
     "text": [
      "\r",
      "OMP Test Batch for noise_level = 0.09:  73%|███████▎  | 146/200 [4:17:47<1:01:20, 68.16s/it]"
     ]
    },
    {
     "name": "stderr",
     "output_type": "stream",
     "text": [
      "\r",
      "OMP Test Batch for noise_level = 0.12:  76%|███████▌  | 152/200 [4:17:45<54:18, 67.89s/it]"
     ]
    },
    {
     "name": "stderr",
     "output_type": "stream",
     "text": [
      "\r",
      "OMP Test Batch for noise_level = 0.01:  74%|███████▎  | 147/200 [4:17:56<1:02:17, 70.53s/it]"
     ]
    },
    {
     "name": "stderr",
     "output_type": "stream",
     "text": [
      "\r",
      "OMP Test Batch for noise_level = 0.08:  72%|███████▎  | 145/200 [4:17:56<1:03:20, 69.11s/it]"
     ]
    },
    {
     "name": "stderr",
     "output_type": "stream",
     "text": [
      "\r",
      "OMP Test Batch for noise_level = 0.02: 100%|█████████▉| 199/200 [4:18:08<00:34, 34.39s/it]"
     ]
    },
    {
     "name": "stderr",
     "output_type": "stream",
     "text": [
      "\r",
      "OMP Test Batch for noise_level = 0.06:  74%|███████▍  | 148/200 [4:18:07<1:00:59, 70.38s/it]"
     ]
    },
    {
     "name": "stderr",
     "output_type": "stream",
     "text": [
      "\r",
      "OMP Test Batch for noise_level = 0.03:  99%|█████████▉| 198/200 [4:18:10<01:07, 33.74s/it]\r",
      "OMP Test Batch for noise_level = 0.00: 100%|█████████▉| 199/200 [4:18:14<00:33, 33.32s/it]"
     ]
    },
    {
     "name": "stderr",
     "output_type": "stream",
     "text": [
      "\r",
      "OMP Test Batch for noise_level = 0.04:  74%|███████▎  | 147/200 [4:18:14<1:01:20, 69.45s/it]"
     ]
    },
    {
     "name": "stderr",
     "output_type": "stream",
     "text": [
      "\r",
      "OMP Test Batch for noise_level = 0.14:  84%|████████▎ | 167/200 [4:18:14<18:32, 33.71s/it]"
     ]
    },
    {
     "name": "stderr",
     "output_type": "stream",
     "text": [
      "\r",
      "OMP Test Batch for noise_level = 0.02: 100%|██████████| 200/200 [4:18:42<00:00, 34.41s/it]\r",
      "OMP Test Batch for noise_level = 0.02: 100%|██████████| 200/200 [4:18:42<00:00, 77.61s/it]\n"
     ]
    },
    {
     "name": "stderr",
     "output_type": "stream",
     "text": [
      "\r",
      "OMP Test Batch for noise_level = 0.03: 100%|█████████▉| 199/200 [4:18:45<00:33, 33.89s/it]"
     ]
    },
    {
     "name": "stderr",
     "output_type": "stream",
     "text": [
      "\r",
      "OMP Test Batch for noise_level = 0.00: 100%|██████████| 200/200 [4:18:49<00:00, 33.72s/it]\r",
      "OMP Test Batch for noise_level = 0.00: 100%|██████████| 200/200 [4:18:49<00:00, 77.65s/it]\n"
     ]
    },
    {
     "name": "stderr",
     "output_type": "stream",
     "text": [
      "\r",
      "OMP Test Batch for noise_level = 0.09:  74%|███████▎  | 147/200 [4:18:45<57:38, 65.25s/it]  "
     ]
    },
    {
     "name": "stderr",
     "output_type": "stream",
     "text": [
      "\r",
      "OMP Test Batch for noise_level = 0.07:  76%|███████▌  | 151/200 [4:18:49<58:39, 71.83s/it]"
     ]
    },
    {
     "name": "stderr",
     "output_type": "stream",
     "text": [
      "\r",
      "OMP Test Batch for noise_level = 0.05:  73%|███████▎  | 146/200 [4:18:54<1:05:33, 72.84s/it]"
     ]
    },
    {
     "name": "stderr",
     "output_type": "stream",
     "text": [
      "\r",
      "OMP Test Batch for noise_level = 0.14:  84%|████████▍ | 168/200 [4:18:48<17:58, 33.70s/it]"
     ]
    },
    {
     "name": "stderr",
     "output_type": "stream",
     "text": [
      "\r",
      "OMP Test Batch for noise_level = 0.12:  76%|███████▋  | 153/200 [4:18:51<52:44, 67.33s/it]"
     ]
    },
    {
     "name": "stderr",
     "output_type": "stream",
     "text": [
      "\r",
      "OMP Test Batch for noise_level = 0.01:  74%|███████▍  | 148/200 [4:19:12<1:02:26, 72.05s/it]"
     ]
    },
    {
     "name": "stderr",
     "output_type": "stream",
     "text": [
      "\r",
      "OMP Test Batch for noise_level = 0.08:  73%|███████▎  | 146/200 [4:19:06<1:02:19, 69.26s/it]"
     ]
    },
    {
     "name": "stderr",
     "output_type": "stream",
     "text": [
      "\r",
      "OMP Test Batch for noise_level = 0.03: 100%|██████████| 200/200 [4:19:13<00:00, 32.14s/it]\r",
      "OMP Test Batch for noise_level = 0.03: 100%|██████████| 200/200 [4:19:13<00:00, 77.77s/it]\n"
     ]
    },
    {
     "name": "stderr",
     "output_type": "stream",
     "text": [
      "\r",
      "OMP Test Batch for noise_level = 0.06:  74%|███████▍  | 149/200 [4:19:22<1:01:03, 71.84s/it]"
     ]
    },
    {
     "name": "stderr",
     "output_type": "stream",
     "text": [
      "\r",
      "OMP Test Batch for noise_level = 0.14:  84%|████████▍ | 169/200 [4:19:18<16:56, 32.80s/it]"
     ]
    },
    {
     "name": "stderr",
     "output_type": "stream",
     "text": [
      "\r",
      "OMP Test Batch for noise_level = 0.04:  74%|███████▍  | 148/200 [4:19:30<1:01:51, 71.37s/it]"
     ]
    },
    {
     "name": "stderr",
     "output_type": "stream",
     "text": [
      "\r",
      "OMP Test Batch for noise_level = 0.14:  85%|████████▌ | 170/200 [4:19:48<15:55, 31.85s/it]"
     ]
    },
    {
     "name": "stderr",
     "output_type": "stream",
     "text": [
      "\r",
      "OMP Test Batch for noise_level = 0.09:  74%|███████▍  | 148/200 [4:19:55<57:47, 66.68s/it]"
     ]
    },
    {
     "name": "stderr",
     "output_type": "stream",
     "text": [
      "\r",
      "OMP Test Batch for noise_level = 0.07:  76%|███████▌  | 152/200 [4:20:00<57:23, 71.74s/it]"
     ]
    },
    {
     "name": "stderr",
     "output_type": "stream",
     "text": [
      "\r",
      "OMP Test Batch for noise_level = 0.05:  74%|███████▎  | 147/200 [4:20:05<1:03:51, 72.30s/it]"
     ]
    },
    {
     "name": "stderr",
     "output_type": "stream",
     "text": [
      "\r",
      "OMP Test Batch for noise_level = 0.12:  77%|███████▋  | 154/200 [4:20:04<52:57, 69.08s/it]"
     ]
    },
    {
     "name": "stderr",
     "output_type": "stream",
     "text": [
      "\r",
      "OMP Test Batch for noise_level = 0.08:  74%|███████▎  | 147/200 [4:20:19<1:02:17, 70.51s/it]"
     ]
    },
    {
     "name": "stderr",
     "output_type": "stream",
     "text": [
      "\r",
      "OMP Test Batch for noise_level = 0.14:  86%|████████▌ | 171/200 [4:20:16<14:51, 30.74s/it]"
     ]
    },
    {
     "name": "stderr",
     "output_type": "stream",
     "text": [
      "\r",
      "OMP Test Batch for noise_level = 0.01:  74%|███████▍  | 149/200 [4:20:28<1:02:19, 73.32s/it]"
     ]
    },
    {
     "name": "stderr",
     "output_type": "stream",
     "text": [
      "\r",
      "OMP Test Batch for noise_level = 0.06:  75%|███████▌  | 150/200 [4:20:32<59:24, 71.29s/it]  "
     ]
    },
    {
     "name": "stderr",
     "output_type": "stream",
     "text": [
      "\r",
      "OMP Test Batch for noise_level = 0.04:  74%|███████▍  | 149/200 [4:20:40<1:00:24, 71.07s/it]"
     ]
    },
    {
     "name": "stderr",
     "output_type": "stream",
     "text": [
      "\r",
      "OMP Test Batch for noise_level = 0.14:  86%|████████▌ | 172/200 [4:20:47<14:21, 30.78s/it]"
     ]
    },
    {
     "name": "stderr",
     "output_type": "stream",
     "text": [
      "\r",
      "OMP Test Batch for noise_level = 0.09:  74%|███████▍  | 149/200 [4:21:07<57:54, 68.12s/it]"
     ]
    },
    {
     "name": "stderr",
     "output_type": "stream",
     "text": [
      "\r",
      "OMP Test Batch for noise_level = 0.12:  78%|███████▊  | 155/200 [4:21:10<51:00, 68.00s/it]"
     ]
    },
    {
     "name": "stderr",
     "output_type": "stream",
     "text": [
      "\r",
      "OMP Test Batch for noise_level = 0.05:  74%|███████▍  | 148/200 [4:21:18<1:02:42, 72.35s/it]"
     ]
    },
    {
     "name": "stderr",
     "output_type": "stream",
     "text": [
      "\r",
      "OMP Test Batch for noise_level = 0.07:  76%|███████▋  | 153/200 [4:21:16<57:07, 72.92s/it]"
     ]
    },
    {
     "name": "stderr",
     "output_type": "stream",
     "text": [
      "\r",
      "OMP Test Batch for noise_level = 0.14:  86%|████████▋ | 173/200 [4:21:17<13:43, 30.51s/it]"
     ]
    },
    {
     "name": "stderr",
     "output_type": "stream",
     "text": [
      "\r",
      "OMP Test Batch for noise_level = 0.08:  74%|███████▍  | 148/200 [4:21:29<1:01:01, 70.42s/it]"
     ]
    },
    {
     "name": "stderr",
     "output_type": "stream",
     "text": [
      "\r",
      "OMP Test Batch for noise_level = 0.01:  75%|███████▌  | 150/200 [4:21:44<1:01:47, 74.14s/it]"
     ]
    },
    {
     "name": "stderr",
     "output_type": "stream",
     "text": [
      "\r",
      "OMP Test Batch for noise_level = 0.06:  76%|███████▌  | 151/200 [4:21:45<58:41, 71.86s/it]"
     ]
    },
    {
     "name": "stderr",
     "output_type": "stream",
     "text": [
      "\r",
      "OMP Test Batch for noise_level = 0.04:  75%|███████▌  | 150/200 [4:21:51<59:10, 71.01s/it]  "
     ]
    },
    {
     "name": "stderr",
     "output_type": "stream",
     "text": [
      "\r",
      "OMP Test Batch for noise_level = 0.14:  87%|████████▋ | 174/200 [4:21:49<13:24, 30.96s/it]"
     ]
    },
    {
     "name": "stderr",
     "output_type": "stream",
     "text": [
      "\r",
      "OMP Test Batch for noise_level = 0.09:  75%|███████▌  | 150/200 [4:22:19<57:49, 69.40s/it]\r",
      "OMP Test Batch for noise_level = 0.12:  78%|███████▊  | 156/200 [4:22:17<49:46, 67.88s/it]"
     ]
    },
    {
     "name": "stderr",
     "output_type": "stream",
     "text": [
      "\r",
      "OMP Test Batch for noise_level = 0.14:  88%|████████▊ | 175/200 [4:22:20<12:54, 31.00s/it]"
     ]
    },
    {
     "name": "stderr",
     "output_type": "stream",
     "text": [
      "\r",
      "OMP Test Batch for noise_level = 0.05:  74%|███████▍  | 149/200 [4:22:29<1:01:06, 71.90s/it]"
     ]
    },
    {
     "name": "stderr",
     "output_type": "stream",
     "text": [
      "\r",
      "OMP Test Batch for noise_level = 0.07:  77%|███████▋  | 154/200 [4:22:34<57:01, 74.39s/it]"
     ]
    },
    {
     "name": "stderr",
     "output_type": "stream",
     "text": [
      "\r",
      "OMP Test Batch for noise_level = 0.08:  74%|███████▍  | 149/200 [4:22:46<1:01:35, 72.47s/it]"
     ]
    },
    {
     "name": "stderr",
     "output_type": "stream",
     "text": [
      "\r",
      "OMP Test Batch for noise_level = 0.01:  76%|███████▌  | 151/200 [4:22:55<59:43, 73.14s/it]  "
     ]
    },
    {
     "name": "stderr",
     "output_type": "stream",
     "text": [
      "\r",
      "OMP Test Batch for noise_level = 0.14:  88%|████████▊ | 176/200 [4:22:49<12:13, 30.55s/it]"
     ]
    },
    {
     "name": "stderr",
     "output_type": "stream",
     "text": [
      "\r",
      "OMP Test Batch for noise_level = 0.04:  76%|███████▌  | 151/200 [4:23:02<57:54, 70.91s/it]"
     ]
    },
    {
     "name": "stderr",
     "output_type": "stream",
     "text": [
      "\r",
      "OMP Test Batch for noise_level = 0.06:  76%|███████▌  | 152/200 [4:23:02<58:36, 73.27s/it]"
     ]
    },
    {
     "name": "stderr",
     "output_type": "stream",
     "text": [
      "\r",
      "OMP Test Batch for noise_level = 0.14:  88%|████████▊ | 177/200 [4:23:23<12:03, 31.48s/it]"
     ]
    },
    {
     "name": "stderr",
     "output_type": "stream",
     "text": [
      "\r",
      "OMP Test Batch for noise_level = 0.12:  78%|███████▊  | 157/200 [4:23:24<48:29, 67.67s/it]"
     ]
    },
    {
     "name": "stderr",
     "output_type": "stream",
     "text": [
      "\r",
      "OMP Test Batch for noise_level = 0.05:  75%|███████▌  | 150/200 [4:23:36<58:44, 70.50s/it]  "
     ]
    },
    {
     "name": "stderr",
     "output_type": "stream",
     "text": [
      "\r",
      "OMP Test Batch for noise_level = 0.09:  76%|███████▌  | 151/200 [4:23:32<57:31, 70.44s/it]"
     ]
    },
    {
     "name": "stderr",
     "output_type": "stream",
     "text": [
      "\r",
      "OMP Test Batch for noise_level = 0.07:  78%|███████▊  | 155/200 [4:23:50<56:11, 74.93s/it]"
     ]
    },
    {
     "name": "stderr",
     "output_type": "stream",
     "text": [
      "\r",
      "OMP Test Batch for noise_level = 0.08:  75%|███████▌  | 150/200 [4:23:56<59:45, 71.71s/it]  "
     ]
    },
    {
     "name": "stderr",
     "output_type": "stream",
     "text": [
      "\r",
      "OMP Test Batch for noise_level = 0.14:  89%|████████▉ | 178/200 [4:23:55<11:38, 31.77s/it]"
     ]
    },
    {
     "name": "stderr",
     "output_type": "stream",
     "text": [
      "\r",
      "OMP Test Batch for noise_level = 0.01:  76%|███████▌  | 152/200 [4:24:12<59:23, 74.24s/it]"
     ]
    },
    {
     "name": "stderr",
     "output_type": "stream",
     "text": [
      "\r",
      "OMP Test Batch for noise_level = 0.06:  76%|███████▋  | 153/200 [4:24:12<56:42, 72.40s/it]"
     ]
    },
    {
     "name": "stderr",
     "output_type": "stream",
     "text": [
      "\r",
      "OMP Test Batch for noise_level = 0.04:  76%|███████▌  | 152/200 [4:24:19<58:04, 72.58s/it]"
     ]
    },
    {
     "name": "stderr",
     "output_type": "stream",
     "text": [
      "\r",
      "OMP Test Batch for noise_level = 0.14:  90%|████████▉ | 179/200 [4:24:26<10:59, 31.38s/it]"
     ]
    }
   ],
   "source": [
    "posError_s5_b200 = dictionary.ompPositionErrorPipeline(sparsity_level=5, batch_size=200, cores=50, verbose=False)"
   ]
  },
  {
   "cell_type": "code",
   "execution_count": null,
   "id": "652fa9f4",
   "metadata": {
    "papermill": {
     "duration": null,
     "end_time": null,
     "exception": null,
     "start_time": null,
     "status": "pending"
    },
    "tags": []
   },
   "outputs": [],
   "source": [
    "plt.figure(figsize=(10, 6))\n",
    "\n",
    "# Pre-processing\n",
    "results_dict = posError_s5_b200\n",
    "# Génère des couleurs\n",
    "colors = plt.cm.viridis(np.linspace(0, 1, len(results_dict)))  \n",
    "\n",
    "# Définition des bins pour les erreurs de position\n",
    "max_error = max(max(counter.keys()) for counter in results_dict.values())\n",
    "min_error = min(min(counter.keys()) for counter in results_dict.values())\n",
    "bins = np.arange(min_error, max_error + 50, 50)  # Création des bins de 50 unités\n",
    "\n",
    "# Parcourir le dictionnaire de résultats et dessiner un histogramme pour chaque niveau de bruit\n",
    "for (noise_level, counter), color in zip(results_dict.items(), colors):\n",
    "    # Regroupement des erreurs par bins\n",
    "    errors, counts = zip(*counter.items())\n",
    "    summed_counts, _ = np.histogram(errors, bins=bins, weights=counts)\n",
    "    \n",
    "    # Normaliser pour faire un histogramme de densité\n",
    "    summed_counts = summed_counts / sum(summed_counts)\n",
    "\n",
    "    # Dessiner l'histogramme de densité\n",
    "    plt.bar(bins[:-1], summed_counts, color=color, alpha=0.8, label=f'Noise {noise_level:.2f}', width=45)\n",
    "\n",
    "plt.title('3 atoms/signal & 20 signals/batch')\n",
    "plt.xlabel('Position Error')\n",
    "plt.ylabel('Density')\n",
    "plt.xticks(bins)  # Définir les ticks sur les bins\n",
    "plt.legend(title=\"Noise Levels\")\n",
    "plt.grid(True)\n",
    "plt.show()"
   ]
  }
 ],
 "metadata": {
  "kernelspec": {
   "display_name": "phlamesenv",
   "language": "python",
   "name": "python3"
  },
  "language_info": {
   "codemirror_mode": {
    "name": "ipython",
    "version": 3
   },
   "file_extension": ".py",
   "mimetype": "text/x-python",
   "name": "python",
   "nbconvert_exporter": "python",
   "pygments_lexer": "ipython3",
   "version": "3.11.2"
  },
  "papermill": {
   "default_parameters": {},
   "duration": null,
   "end_time": null,
   "environment_variables": {},
   "exception": null,
   "input_path": "positionErr_s5_b200.ipynb",
   "output_path": "out_positionErr_s5_b200.ipynb",
   "parameters": {},
   "start_time": "2024-05-31T08:50:32.451056",
   "version": "2.6.0"
  }
 },
 "nbformat": 4,
 "nbformat_minor": 5
}