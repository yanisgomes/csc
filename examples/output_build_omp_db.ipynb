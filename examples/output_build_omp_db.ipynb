{
 "cells": [
  {
   "cell_type": "code",
   "execution_count": 1,
   "id": "8cb98d3f",
   "metadata": {
    "execution": {
     "iopub.execute_input": "2024-06-04T12:58:37.742068Z",
     "iopub.status.busy": "2024-06-04T12:58:37.741919Z",
     "iopub.status.idle": "2024-06-04T12:58:38.776478Z",
     "shell.execute_reply": "2024-06-04T12:58:38.775728Z"
    },
    "papermill": {
     "duration": 1.039128,
     "end_time": "2024-06-04T12:58:38.779082",
     "exception": false,
     "start_time": "2024-06-04T12:58:37.739954",
     "status": "completed"
    },
    "tags": []
   },
   "outputs": [
    {
     "name": "stdout",
     "output_type": "stream",
     "text": [
      "The dictionary has 1428 different atoms\n"
     ]
    }
   ],
   "source": [
    "import json\n",
    "import numpy as np\n",
    "from tqdm import tqdm\n",
    "from csc.utils import *\n",
    "from csc.atoms import *\n",
    "from csc.dictionary import *\n",
    "from itertools import product\n",
    "import matplotlib.pyplot as plt\n",
    "\n",
    "\n",
    "# Atom parameters\n",
    "bmin = 0.005\n",
    "bmax = 0.60\n",
    "b_step = 0.005\n",
    "b_values = np.arange(bmin, bmax, b_step)\n",
    "\n",
    "ymin = 0.01\n",
    "ymax = 0.034\n",
    "y_step = 0.002\n",
    "y_values = np.arange(ymin, ymax, y_step)\n",
    "\n",
    "s_values = [1]\n",
    "\n",
    "dictionary = ZSDictionary.from_values(b_values, y_values, s_values)\n",
    "print('The dictionary has {} different atoms'.format(len(dictionary)))"
   ]
  },
  {
   "cell_type": "code",
   "execution_count": 2,
   "id": "0fe0f0ca",
   "metadata": {
    "execution": {
     "iopub.execute_input": "2024-06-04T12:58:38.786526Z",
     "iopub.status.busy": "2024-06-04T12:58:38.786275Z",
     "iopub.status.idle": "2024-06-04T12:58:38.789945Z",
     "shell.execute_reply": "2024-06-04T12:58:38.789283Z"
    },
    "papermill": {
     "duration": 0.009909,
     "end_time": "2024-06-04T12:58:38.792557",
     "exception": false,
     "start_time": "2024-06-04T12:58:38.782648",
     "status": "completed"
    },
    "tags": []
   },
   "outputs": [],
   "source": [
    "batchSize = 200\n",
    "input_signals_db = f'/home/gomes/synthetic-data/signals_db{batchSize}.json'\n",
    "output_omp_db = f'/home/gomes/synthetic-data/omp_db{batchSize}.json'"
   ]
  },
  {
   "cell_type": "code",
   "execution_count": 3,
   "id": "118c562e",
   "metadata": {
    "execution": {
     "iopub.execute_input": "2024-06-04T12:58:38.799301Z",
     "iopub.status.busy": "2024-06-04T12:58:38.799063Z",
     "iopub.status.idle": "2024-06-04T13:35:13.693685Z",
     "shell.execute_reply": "2024-06-04T13:35:13.692139Z"
    },
    "papermill": {
     "duration": 2194.902541,
     "end_time": "2024-06-04T13:35:13.698136",
     "exception": false,
     "start_time": "2024-06-04T12:58:38.795595",
     "status": "completed"
    },
    "tags": []
   },
   "outputs": [
    {
     "name": "stderr",
     "output_type": "stream",
     "text": [
      "\r",
      "OMP Pipeline from DB:   0%|                                                                                                      | 0/3000 [00:00<?, ?it/s]"
     ]
    },
    {
     "name": "stderr",
     "output_type": "stream",
     "text": [
      "\r",
      "OMP Pipeline from DB:   2%|██▏                                                                                          | 70/3000 [00:01<01:01, 47.85it/s]"
     ]
    },
    {
     "name": "stderr",
     "output_type": "stream",
     "text": [
      "\r",
      "OMP Pipeline from DB:   5%|████▎                                                                                       | 140/3000 [00:11<04:23, 10.87it/s]"
     ]
    },
    {
     "name": "stderr",
     "output_type": "stream",
     "text": [
      "\r",
      "OMP Pipeline from DB:   5%|████▎                                                                                       | 140/3000 [00:30<04:23, 10.87it/s]"
     ]
    },
    {
     "name": "stderr",
     "output_type": "stream",
     "text": [
      "\r",
      "OMP Pipeline from DB:   7%|██████▍                                                                                     | 210/3000 [00:46<12:58,  3.58it/s]"
     ]
    },
    {
     "name": "stderr",
     "output_type": "stream",
     "text": [
      "\r",
      "OMP Pipeline from DB:   9%|████████▌                                                                                   | 280/3000 [01:19<16:00,  2.83it/s]"
     ]
    },
    {
     "name": "stderr",
     "output_type": "stream",
     "text": [
      "\r",
      "OMP Pipeline from DB:  12%|██████████▋                                                                                 | 350/3000 [02:02<19:52,  2.22it/s]"
     ]
    },
    {
     "name": "stderr",
     "output_type": "stream",
     "text": [
      "\r",
      "OMP Pipeline from DB:  14%|████████████▉                                                                               | 420/3000 [02:52<23:16,  1.85it/s]"
     ]
    },
    {
     "name": "stderr",
     "output_type": "stream",
     "text": [
      "\r",
      "OMP Pipeline from DB:  16%|███████████████                                                                             | 490/3000 [03:42<25:00,  1.67it/s]"
     ]
    },
    {
     "name": "stderr",
     "output_type": "stream",
     "text": [
      "\r",
      "OMP Pipeline from DB:  19%|█████████████████▏                                                                          | 560/3000 [04:45<28:09,  1.44it/s]"
     ]
    },
    {
     "name": "stderr",
     "output_type": "stream",
     "text": [
      "\r",
      "OMP Pipeline from DB:  21%|███████████████████▎                                                                        | 630/3000 [05:50<30:19,  1.30it/s]"
     ]
    },
    {
     "name": "stderr",
     "output_type": "stream",
     "text": [
      "\r",
      "OMP Pipeline from DB:  23%|█████████████████████▍                                                                      | 700/3000 [07:00<32:06,  1.19it/s]"
     ]
    },
    {
     "name": "stderr",
     "output_type": "stream",
     "text": [
      "\r",
      "OMP Pipeline from DB:  26%|███████████████████████▌                                                                    | 770/3000 [07:36<27:24,  1.36it/s]"
     ]
    },
    {
     "name": "stderr",
     "output_type": "stream",
     "text": [
      "\r",
      "OMP Pipeline from DB:  28%|█████████████████████████▊                                                                  | 840/3000 [08:10<23:46,  1.51it/s]"
     ]
    },
    {
     "name": "stderr",
     "output_type": "stream",
     "text": [
      "\r",
      "OMP Pipeline from DB:  30%|███████████████████████████▉                                                                | 910/3000 [08:43<21:05,  1.65it/s]"
     ]
    },
    {
     "name": "stderr",
     "output_type": "stream",
     "text": [
      "\r",
      "OMP Pipeline from DB:  33%|██████████████████████████████                                                              | 980/3000 [09:35<21:43,  1.55it/s]"
     ]
    },
    {
     "name": "stderr",
     "output_type": "stream",
     "text": [
      "\r",
      "OMP Pipeline from DB:  35%|███████████████████████████████▊                                                           | 1050/3000 [10:23<21:25,  1.52it/s]"
     ]
    },
    {
     "name": "stderr",
     "output_type": "stream",
     "text": [
      "\r",
      "OMP Pipeline from DB:  37%|█████████████████████████████████▉                                                         | 1120/3000 [11:13<21:06,  1.48it/s]"
     ]
    },
    {
     "name": "stderr",
     "output_type": "stream",
     "text": [
      "\r",
      "OMP Pipeline from DB:  40%|████████████████████████████████████                                                       | 1190/3000 [12:25<23:34,  1.28it/s]"
     ]
    },
    {
     "name": "stderr",
     "output_type": "stream",
     "text": [
      "\r",
      "OMP Pipeline from DB:  42%|██████████████████████████████████████▏                                                    | 1260/3000 [13:34<24:24,  1.19it/s]"
     ]
    },
    {
     "name": "stderr",
     "output_type": "stream",
     "text": [
      "\r",
      "OMP Pipeline from DB:  44%|████████████████████████████████████████▎                                                  | 1330/3000 [14:33<23:32,  1.18it/s]"
     ]
    },
    {
     "name": "stderr",
     "output_type": "stream",
     "text": [
      "\r",
      "OMP Pipeline from DB:  47%|██████████████████████████████████████████▍                                                | 1400/3000 [15:05<19:21,  1.38it/s]"
     ]
    },
    {
     "name": "stderr",
     "output_type": "stream",
     "text": [
      "\r",
      "OMP Pipeline from DB:  49%|████████████████████████████████████████████▌                                              | 1470/3000 [15:39<16:39,  1.53it/s]"
     ]
    },
    {
     "name": "stderr",
     "output_type": "stream",
     "text": [
      "\r",
      "OMP Pipeline from DB:  51%|██████████████████████████████████████████████▋                                            | 1540/3000 [16:18<15:10,  1.60it/s]"
     ]
    },
    {
     "name": "stderr",
     "output_type": "stream",
     "text": [
      "\r",
      "OMP Pipeline from DB:  54%|████████████████████████████████████████████████▊                                          | 1610/3000 [17:10<15:19,  1.51it/s]"
     ]
    },
    {
     "name": "stderr",
     "output_type": "stream",
     "text": [
      "\r",
      "OMP Pipeline from DB:  56%|██████████████████████████████████████████████████▉                                        | 1680/3000 [18:00<14:54,  1.48it/s]"
     ]
    },
    {
     "name": "stderr",
     "output_type": "stream",
     "text": [
      "\r",
      "OMP Pipeline from DB:  58%|█████████████████████████████████████████████████████                                      | 1750/3000 [19:04<15:36,  1.33it/s]"
     ]
    },
    {
     "name": "stderr",
     "output_type": "stream",
     "text": [
      "\r",
      "OMP Pipeline from DB:  61%|███████████████████████████████████████████████████████▏                                   | 1820/3000 [20:10<15:52,  1.24it/s]"
     ]
    },
    {
     "name": "stderr",
     "output_type": "stream",
     "text": [
      "\r",
      "OMP Pipeline from DB:  63%|█████████████████████████████████████████████████████████▎                                 | 1890/3000 [21:17<15:44,  1.18it/s]"
     ]
    },
    {
     "name": "stderr",
     "output_type": "stream",
     "text": [
      "\r",
      "OMP Pipeline from DB:  65%|███████████████████████████████████████████████████████████▍                               | 1960/3000 [22:01<13:37,  1.27it/s]"
     ]
    },
    {
     "name": "stderr",
     "output_type": "stream",
     "text": [
      "\r",
      "OMP Pipeline from DB:  68%|█████████████████████████████████████████████████████████████▌                             | 2030/3000 [22:35<11:15,  1.44it/s]"
     ]
    },
    {
     "name": "stderr",
     "output_type": "stream",
     "text": [
      "\r",
      "OMP Pipeline from DB:  70%|███████████████████████████████████████████████████████████████▋                           | 2100/3000 [23:10<09:31,  1.57it/s]"
     ]
    },
    {
     "name": "stderr",
     "output_type": "stream",
     "text": [
      "\r",
      "OMP Pipeline from DB:  72%|█████████████████████████████████████████████████████████████████▊                         | 2170/3000 [23:57<08:57,  1.55it/s]"
     ]
    },
    {
     "name": "stderr",
     "output_type": "stream",
     "text": [
      "\r",
      "OMP Pipeline from DB:  75%|███████████████████████████████████████████████████████████████████▉                       | 2240/3000 [24:49<08:32,  1.48it/s]"
     ]
    },
    {
     "name": "stderr",
     "output_type": "stream",
     "text": [
      "\r",
      "OMP Pipeline from DB:  77%|██████████████████████████████████████████████████████████████████████                     | 2310/3000 [25:37<07:48,  1.47it/s]"
     ]
    },
    {
     "name": "stderr",
     "output_type": "stream",
     "text": [
      "\r",
      "OMP Pipeline from DB:  77%|██████████████████████████████████████████████████████████████████████                     | 2311/3000 [25:37<07:45,  1.48it/s]"
     ]
    },
    {
     "name": "stderr",
     "output_type": "stream",
     "text": [
      "\r",
      "OMP Pipeline from DB:  77%|██████████████████████████████████████████████████████████████████████                     | 2311/3000 [25:50<07:45,  1.48it/s]"
     ]
    },
    {
     "name": "stderr",
     "output_type": "stream",
     "text": [
      "\r",
      "OMP Pipeline from DB:  79%|████████████████████████████████████████████████████████████████████████▏                  | 2380/3000 [26:45<08:08,  1.27it/s]"
     ]
    },
    {
     "name": "stderr",
     "output_type": "stream",
     "text": [
      "\r",
      "OMP Pipeline from DB:  82%|██████████████████████████████████████████████████████████████████████████▎                | 2450/3000 [27:57<08:02,  1.14it/s]"
     ]
    },
    {
     "name": "stderr",
     "output_type": "stream",
     "text": [
      "\r",
      "OMP Pipeline from DB:  84%|████████████████████████████████████████████████████████████████████████████▍              | 2520/3000 [29:04<07:12,  1.11it/s]"
     ]
    },
    {
     "name": "stderr",
     "output_type": "stream",
     "text": [
      "\r",
      "OMP Pipeline from DB:  86%|██████████████████████████████████████████████████████████████████████████████▌            | 2590/3000 [29:33<05:04,  1.35it/s]"
     ]
    },
    {
     "name": "stderr",
     "output_type": "stream",
     "text": [
      "\r",
      "OMP Pipeline from DB:  89%|████████████████████████████████████████████████████████████████████████████████▋          | 2660/3000 [30:06<03:44,  1.51it/s]"
     ]
    },
    {
     "name": "stderr",
     "output_type": "stream",
     "text": [
      "\r",
      "OMP Pipeline from DB:  91%|██████████████████████████████████████████████████████████████████████████████████▊        | 2730/3000 [30:40<02:43,  1.65it/s]"
     ]
    },
    {
     "name": "stderr",
     "output_type": "stream",
     "text": [
      "\r",
      "OMP Pipeline from DB:  93%|████████████████████████████████████████████████████████████████████████████████████▉      | 2800/3000 [31:35<02:11,  1.52it/s]"
     ]
    },
    {
     "name": "stderr",
     "output_type": "stream",
     "text": [
      "\r",
      "OMP Pipeline from DB:  96%|███████████████████████████████████████████████████████████████████████████████████████    | 2870/3000 [32:26<01:28,  1.47it/s]"
     ]
    },
    {
     "name": "stderr",
     "output_type": "stream",
     "text": [
      "\r",
      "OMP Pipeline from DB:  98%|█████████████████████████████████████████████████████████████████████████████████████████▏ | 2940/3000 [33:27<00:44,  1.35it/s]"
     ]
    },
    {
     "name": "stderr",
     "output_type": "stream",
     "text": [
      "\r",
      "OMP Pipeline from DB: 100%|███████████████████████████████████████████████████████████████████████████████████████████| 3000/3000 [33:27<00:00,  1.49it/s]"
     ]
    },
    {
     "name": "stderr",
     "output_type": "stream",
     "text": [
      "\n"
     ]
    }
   ],
   "source": [
    "dictionary.ompPipelineFromDB(input_signals_db, output_omp_db, nb_cores=70, verbose=False)"
   ]
  }
 ],
 "metadata": {
  "kernelspec": {
   "display_name": "phlamesenv",
   "language": "python",
   "name": "python3"
  },
  "language_info": {
   "codemirror_mode": {
    "name": "ipython",
    "version": 3
   },
   "file_extension": ".py",
   "mimetype": "text/x-python",
   "name": "python",
   "nbconvert_exporter": "python",
   "pygments_lexer": "ipython3",
   "version": "3.11.2"
  },
  "papermill": {
   "default_parameters": {},
   "duration": 2199.294113,
   "end_time": "2024-06-04T13:35:16.334530",
   "environment_variables": {},
   "exception": null,
   "input_path": "build_omp_db.ipynb",
   "output_path": "output_build_omp_db.ipynb",
   "parameters": {},
   "start_time": "2024-06-04T12:58:37.040417",
   "version": "2.6.0"
  }
 },
 "nbformat": 4,
 "nbformat_minor": 5
}