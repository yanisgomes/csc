{
 "cells": [
  {
   "cell_type": "markdown",
   "id": "c1c2cdef",
   "metadata": {
    "papermill": {
     "duration": 0.003789,
     "end_time": "2024-05-29T16:02:21.184918",
     "exception": false,
     "start_time": "2024-05-29T16:02:21.181129",
     "status": "completed"
    },
    "tags": []
   },
   "source": [
    "### Erreur en position\n",
    "Pour chaque pos réelle prendre la plus proche pour l'association\n",
    "\n",
    "histogramme pour un niveau de bruit donné\n",
    "abscisse = erreur en position\n",
    "ordonnée = densité"
   ]
  },
  {
   "cell_type": "code",
   "execution_count": 1,
   "id": "be192aa9",
   "metadata": {
    "execution": {
     "iopub.execute_input": "2024-05-29T16:02:21.193378Z",
     "iopub.status.busy": "2024-05-29T16:02:21.192106Z",
     "iopub.status.idle": "2024-05-29T16:02:23.843162Z",
     "shell.execute_reply": "2024-05-29T16:02:23.841340Z"
    },
    "papermill": {
     "duration": 2.658879,
     "end_time": "2024-05-29T16:02:23.846282",
     "exception": false,
     "start_time": "2024-05-29T16:02:21.187403",
     "status": "completed"
    },
    "tags": []
   },
   "outputs": [
    {
     "name": "stdout",
     "output_type": "stream",
     "text": [
      "The dictionary has 1428 different atoms\n"
     ]
    }
   ],
   "source": [
    "import numpy as np\n",
    "import pandas as pd\n",
    "from numba import njit\n",
    "from csc.atoms import *\n",
    "from csc.dictionary import *\n",
    "import matplotlib.pyplot as plt\n",
    "\n",
    "# atom parameters\n",
    "bmin = 0.005\n",
    "bmax = 0.60\n",
    "b_step = 0.005\n",
    "b_values = np.arange(bmin, bmax, b_step)\n",
    "\n",
    "ymin = 0.01\n",
    "ymax = 0.034\n",
    "y_step = 0.002\n",
    "y_values = np.arange(ymin, ymax, y_step)\n",
    "\n",
    "s_values = [1]\n",
    "\n",
    "dictionary = ZSDictionary.from_values(b_values, y_values, s_values)\n",
    "print('The dictionary has {} different atoms'.format(len(dictionary)))"
   ]
  },
  {
   "cell_type": "markdown",
   "id": "28673fee",
   "metadata": {
    "papermill": {
     "duration": 0.003809,
     "end_time": "2024-05-29T16:02:23.853773",
     "exception": false,
     "start_time": "2024-05-29T16:02:23.849964",
     "status": "completed"
    },
    "tags": []
   },
   "source": [
    "### Erreur en position ``sparsity_level = 3`` & ``batch_size =20``"
   ]
  },
  {
   "cell_type": "code",
   "execution_count": 2,
   "id": "a7af15ff",
   "metadata": {
    "execution": {
     "iopub.execute_input": "2024-05-29T16:02:23.864170Z",
     "iopub.status.busy": "2024-05-29T16:02:23.863545Z"
    },
    "papermill": {
     "duration": null,
     "end_time": null,
     "exception": false,
     "start_time": "2024-05-29T16:02:23.857105",
     "status": "running"
    },
    "tags": []
   },
   "outputs": [
    {
     "name": "stderr",
     "output_type": "stream",
     "text": [
      "\r",
      "OMP Test Batch for noise_level = 0.00:   0%|          | 0/20 [00:00<?, ?it/s]"
     ]
    },
    {
     "name": "stderr",
     "output_type": "stream",
     "text": [
      "\r",
      "OMP Test Batch for noise_level = 0.01:   0%|          | 0/20 [00:00<?, ?it/s]"
     ]
    },
    {
     "name": "stderr",
     "output_type": "stream",
     "text": [
      "\r",
      "OMP Test Batch for noise_level = 0.02:   0%|          | 0/20 [00:00<?, ?it/s]"
     ]
    },
    {
     "name": "stderr",
     "output_type": "stream",
     "text": [
      "\r",
      "OMP Test Batch for noise_level = 0.03:   0%|          | 0/20 [00:00<?, ?it/s]"
     ]
    },
    {
     "name": "stderr",
     "output_type": "stream",
     "text": [
      "\r",
      "OMP Test Batch for noise_level = 0.04:   0%|          | 0/20 [00:00<?, ?it/s]"
     ]
    },
    {
     "name": "stderr",
     "output_type": "stream",
     "text": [
      "\r",
      "OMP Test Batch for noise_level = 0.05:   0%|          | 0/20 [00:00<?, ?it/s]"
     ]
    },
    {
     "name": "stderr",
     "output_type": "stream",
     "text": [
      "\r",
      "OMP Test Batch for noise_level = 0.06:   0%|          | 0/20 [00:00<?, ?it/s]"
     ]
    },
    {
     "name": "stderr",
     "output_type": "stream",
     "text": [
      "\r",
      "OMP Test Batch for noise_level = 0.07:   0%|          | 0/20 [00:00<?, ?it/s]"
     ]
    },
    {
     "name": "stderr",
     "output_type": "stream",
     "text": [
      "\r",
      "OMP Test Batch for noise_level = 0.08:   0%|          | 0/20 [00:00<?, ?it/s]"
     ]
    },
    {
     "name": "stderr",
     "output_type": "stream",
     "text": [
      "\r",
      "OMP Test Batch for noise_level = 0.09:   0%|          | 0/20 [00:00<?, ?it/s]\r",
      "OMP Test Batch for noise_level = 0.10:   0%|          | 0/20 [00:00<?, ?it/s]"
     ]
    },
    {
     "name": "stderr",
     "output_type": "stream",
     "text": [
      "\r",
      "OMP Test Batch for noise_level = 0.12:   0%|          | 0/20 [00:00<?, ?it/s]"
     ]
    },
    {
     "name": "stderr",
     "output_type": "stream",
     "text": [
      "\r",
      "OMP Test Batch for noise_level = 0.14:   0%|          | 0/20 [00:00<?, ?it/s]"
     ]
    },
    {
     "name": "stderr",
     "output_type": "stream",
     "text": [
      "\r",
      "OMP Test Batch for noise_level = 0.16:   0%|          | 0/20 [00:00<?, ?it/s]"
     ]
    },
    {
     "name": "stderr",
     "output_type": "stream",
     "text": [
      "\r",
      "OMP Test Batch for noise_level = 0.18:   0%|          | 0/20 [00:00<?, ?it/s]"
     ]
    },
    {
     "name": "stderr",
     "output_type": "stream",
     "text": [
      "\r",
      "OMP Test Batch for noise_level = 0.20:   0%|          | 0/20 [00:00<?, ?it/s]"
     ]
    },
    {
     "name": "stderr",
     "output_type": "stream",
     "text": [
      "\r",
      "OMP Test Batch for noise_level = 0.00:   5%|▌         | 1/20 [00:13<04:19, 13.68s/it]"
     ]
    },
    {
     "name": "stderr",
     "output_type": "stream",
     "text": [
      "\r",
      "OMP Test Batch for noise_level = 0.02:   5%|▌         | 1/20 [00:17<05:29, 17.32s/it]"
     ]
    },
    {
     "name": "stderr",
     "output_type": "stream",
     "text": [
      "\r",
      "OMP Test Batch for noise_level = 0.08:   5%|▌         | 1/20 [00:15<04:45, 15.04s/it]"
     ]
    },
    {
     "name": "stderr",
     "output_type": "stream",
     "text": [
      "\r",
      "OMP Test Batch for noise_level = 0.03:   5%|▌         | 1/20 [00:18<05:43, 18.08s/it]"
     ]
    },
    {
     "name": "stderr",
     "output_type": "stream",
     "text": [
      "\r",
      "OMP Test Batch for noise_level = 0.01:   5%|▌         | 1/20 [00:19<06:06, 19.30s/it]"
     ]
    },
    {
     "name": "stderr",
     "output_type": "stream",
     "text": [
      "\r",
      "OMP Test Batch for noise_level = 0.09:   5%|▌         | 1/20 [00:15<04:45, 15.05s/it]"
     ]
    },
    {
     "name": "stderr",
     "output_type": "stream",
     "text": [
      "\r",
      "OMP Test Batch for noise_level = 0.04:   5%|▌         | 1/20 [00:19<06:15, 19.77s/it]"
     ]
    },
    {
     "name": "stderr",
     "output_type": "stream",
     "text": [
      "\r",
      "OMP Test Batch for noise_level = 0.10:   5%|▌         | 1/20 [00:16<05:16, 16.64s/it]"
     ]
    },
    {
     "name": "stderr",
     "output_type": "stream",
     "text": [
      "\r",
      "OMP Test Batch for noise_level = 0.12:   5%|▌         | 1/20 [00:16<05:14, 16.53s/it]"
     ]
    },
    {
     "name": "stderr",
     "output_type": "stream",
     "text": [
      "\r",
      "OMP Test Batch for noise_level = 0.05:   5%|▌         | 1/20 [00:20<06:22, 20.15s/it]"
     ]
    },
    {
     "name": "stderr",
     "output_type": "stream",
     "text": [
      "\r",
      "OMP Test Batch for noise_level = 0.06:   5%|▌         | 1/20 [00:20<06:25, 20.27s/it]\r",
      "OMP Test Batch for noise_level = 0.18:   5%|▌         | 1/20 [00:15<04:57, 15.66s/it]"
     ]
    },
    {
     "name": "stderr",
     "output_type": "stream",
     "text": [
      "\r",
      "OMP Test Batch for noise_level = 0.07:   5%|▌         | 1/20 [00:20<06:25, 20.30s/it]"
     ]
    },
    {
     "name": "stderr",
     "output_type": "stream",
     "text": [
      "\r",
      "OMP Test Batch for noise_level = 0.14:   5%|▌         | 1/20 [00:19<06:02, 19.07s/it]"
     ]
    },
    {
     "name": "stderr",
     "output_type": "stream",
     "text": [
      "\r",
      "OMP Test Batch for noise_level = 0.16:   5%|▌         | 1/20 [00:20<06:33, 20.72s/it]"
     ]
    },
    {
     "name": "stderr",
     "output_type": "stream",
     "text": [
      "\r",
      "OMP Test Batch for noise_level = 0.20:   5%|▌         | 1/20 [00:19<06:10, 19.52s/it]"
     ]
    },
    {
     "name": "stderr",
     "output_type": "stream",
     "text": [
      "\r",
      "OMP Test Batch for noise_level = 0.00:  10%|█         | 2/20 [00:31<04:51, 16.20s/it]"
     ]
    },
    {
     "name": "stderr",
     "output_type": "stream",
     "text": [
      "\r",
      "OMP Test Batch for noise_level = 0.08:  10%|█         | 2/20 [00:31<04:41, 15.65s/it]"
     ]
    },
    {
     "name": "stderr",
     "output_type": "stream",
     "text": [
      "\r",
      "OMP Test Batch for noise_level = 0.09:  10%|█         | 2/20 [00:33<05:02, 16.78s/it]"
     ]
    },
    {
     "name": "stderr",
     "output_type": "stream",
     "text": [
      "\r",
      "OMP Test Batch for noise_level = 0.02:  10%|█         | 2/20 [00:38<05:50, 19.45s/it]"
     ]
    },
    {
     "name": "stderr",
     "output_type": "stream",
     "text": [
      "\r",
      "OMP Test Batch for noise_level = 0.10:  10%|█         | 2/20 [00:35<05:21, 17.86s/it]"
     ]
    },
    {
     "name": "stderr",
     "output_type": "stream",
     "text": [
      "\r",
      "OMP Test Batch for noise_level = 0.12:  10%|█         | 2/20 [00:35<05:18, 17.69s/it]\r",
      "OMP Test Batch for noise_level = 0.03:  10%|█         | 2/20 [00:39<06:02, 20.14s/it]"
     ]
    },
    {
     "name": "stderr",
     "output_type": "stream",
     "text": [
      "\r",
      "OMP Test Batch for noise_level = 0.01:  10%|█         | 2/20 [00:40<06:12, 20.70s/it]"
     ]
    },
    {
     "name": "stderr",
     "output_type": "stream",
     "text": [
      "\r",
      "OMP Test Batch for noise_level = 0.18:  10%|█         | 2/20 [00:34<05:14, 17.48s/it]"
     ]
    },
    {
     "name": "stderr",
     "output_type": "stream",
     "text": [
      "\r",
      "OMP Test Batch for noise_level = 0.05:  10%|█         | 2/20 [00:40<06:00, 20.05s/it]"
     ]
    },
    {
     "name": "stderr",
     "output_type": "stream",
     "text": [
      "\r",
      "OMP Test Batch for noise_level = 0.04:  10%|█         | 2/20 [00:41<06:12, 20.68s/it]"
     ]
    },
    {
     "name": "stderr",
     "output_type": "stream",
     "text": [
      "\r",
      "OMP Test Batch for noise_level = 0.06:  10%|█         | 2/20 [00:41<06:18, 21.02s/it]"
     ]
    },
    {
     "name": "stderr",
     "output_type": "stream",
     "text": [
      "\r",
      "OMP Test Batch for noise_level = 0.07:  10%|█         | 2/20 [00:41<06:19, 21.06s/it]"
     ]
    },
    {
     "name": "stderr",
     "output_type": "stream",
     "text": [
      "\r",
      "OMP Test Batch for noise_level = 0.14:  10%|█         | 2/20 [00:40<06:07, 20.41s/it]"
     ]
    },
    {
     "name": "stderr",
     "output_type": "stream",
     "text": [
      "\r",
      "OMP Test Batch for noise_level = 0.16:  10%|█         | 2/20 [00:42<06:21, 21.19s/it]\r",
      "OMP Test Batch for noise_level = 0.00:  15%|█▌        | 3/20 [00:49<04:47, 16.89s/it]"
     ]
    },
    {
     "name": "stderr",
     "output_type": "stream",
     "text": [
      "\r",
      "OMP Test Batch for noise_level = 0.20:  10%|█         | 2/20 [00:41<06:21, 21.18s/it]"
     ]
    },
    {
     "name": "stderr",
     "output_type": "stream",
     "text": [
      "\r",
      "OMP Test Batch for noise_level = 0.08:  15%|█▌        | 3/20 [00:50<04:55, 17.36s/it]"
     ]
    },
    {
     "name": "stderr",
     "output_type": "stream",
     "text": [
      "\r",
      "OMP Test Batch for noise_level = 0.09:  15%|█▌        | 3/20 [00:52<05:03, 17.85s/it]"
     ]
    },
    {
     "name": "stderr",
     "output_type": "stream",
     "text": [
      "\r",
      "OMP Test Batch for noise_level = 0.10:  15%|█▌        | 3/20 [00:54<05:11, 18.34s/it]"
     ]
    },
    {
     "name": "stderr",
     "output_type": "stream",
     "text": [
      "\r",
      "OMP Test Batch for noise_level = 0.12:  15%|█▌        | 3/20 [00:54<05:11, 18.30s/it]"
     ]
    },
    {
     "name": "stderr",
     "output_type": "stream",
     "text": [
      "\r",
      "OMP Test Batch for noise_level = 0.18:  15%|█▌        | 3/20 [00:53<05:12, 18.35s/it]\r",
      "OMP Test Batch for noise_level = 0.02:  15%|█▌        | 3/20 [01:00<05:51, 20.68s/it]"
     ]
    },
    {
     "name": "stderr",
     "output_type": "stream",
     "text": [
      "\r",
      "OMP Test Batch for noise_level = 0.01:  15%|█▌        | 3/20 [01:01<05:50, 20.63s/it]"
     ]
    },
    {
     "name": "stderr",
     "output_type": "stream",
     "text": [
      "\r",
      "OMP Test Batch for noise_level = 0.05:  15%|█▌        | 3/20 [01:00<05:43, 20.21s/it]"
     ]
    },
    {
     "name": "stderr",
     "output_type": "stream",
     "text": [
      "\r",
      "OMP Test Batch for noise_level = 0.03:  15%|█▌        | 3/20 [01:01<05:58, 21.10s/it]"
     ]
    },
    {
     "name": "stderr",
     "output_type": "stream",
     "text": [
      "\r",
      "OMP Test Batch for noise_level = 0.04:  15%|█▌        | 3/20 [01:02<05:59, 21.13s/it]"
     ]
    },
    {
     "name": "stderr",
     "output_type": "stream",
     "text": [
      "\r",
      "OMP Test Batch for noise_level = 0.07:  15%|█▌        | 3/20 [01:02<05:52, 20.73s/it]"
     ]
    },
    {
     "name": "stderr",
     "output_type": "stream",
     "text": [
      "\r",
      "OMP Test Batch for noise_level = 0.06:  15%|█▌        | 3/20 [01:03<06:04, 21.42s/it]"
     ]
    },
    {
     "name": "stderr",
     "output_type": "stream",
     "text": [
      "\r",
      "OMP Test Batch for noise_level = 0.14:  15%|█▌        | 3/20 [01:02<05:56, 20.99s/it]"
     ]
    },
    {
     "name": "stderr",
     "output_type": "stream",
     "text": [
      "\r",
      "OMP Test Batch for noise_level = 0.00:  20%|██        | 4/20 [01:08<04:47, 17.97s/it]"
     ]
    },
    {
     "name": "stderr",
     "output_type": "stream",
     "text": [
      "\r",
      "OMP Test Batch for noise_level = 0.16:  15%|█▌        | 3/20 [01:03<06:01, 21.27s/it]"
     ]
    },
    {
     "name": "stderr",
     "output_type": "stream",
     "text": [
      "\r",
      "OMP Test Batch for noise_level = 0.20:  15%|█▌        | 3/20 [01:02<05:58, 21.06s/it]"
     ]
    },
    {
     "name": "stderr",
     "output_type": "stream",
     "text": [
      "\r",
      "OMP Test Batch for noise_level = 0.08:  20%|██        | 4/20 [01:09<04:48, 18.05s/it]"
     ]
    },
    {
     "name": "stderr",
     "output_type": "stream",
     "text": [
      "\r",
      "OMP Test Batch for noise_level = 0.09:  20%|██        | 4/20 [01:11<04:54, 18.42s/it]"
     ]
    },
    {
     "name": "stderr",
     "output_type": "stream",
     "text": [
      "\r",
      "OMP Test Batch for noise_level = 0.10:  20%|██        | 4/20 [01:11<04:47, 17.99s/it]"
     ]
    },
    {
     "name": "stderr",
     "output_type": "stream",
     "text": [
      "\r",
      "OMP Test Batch for noise_level = 0.18:  20%|██        | 4/20 [01:11<04:49, 18.11s/it]"
     ]
    },
    {
     "name": "stderr",
     "output_type": "stream",
     "text": [
      "\r",
      "OMP Test Batch for noise_level = 0.12:  20%|██        | 4/20 [01:13<05:01, 18.85s/it]"
     ]
    },
    {
     "name": "stderr",
     "output_type": "stream",
     "text": [
      "\r",
      "OMP Test Batch for noise_level = 0.02:  20%|██        | 4/20 [01:21<05:31, 20.70s/it]"
     ]
    },
    {
     "name": "stderr",
     "output_type": "stream",
     "text": [
      "\r",
      "OMP Test Batch for noise_level = 0.01:  20%|██        | 4/20 [01:23<05:37, 21.09s/it]"
     ]
    },
    {
     "name": "stderr",
     "output_type": "stream",
     "text": [
      "\r",
      "OMP Test Batch for noise_level = 0.03:  20%|██        | 4/20 [01:22<05:37, 21.07s/it]\r",
      "OMP Test Batch for noise_level = 0.05:  20%|██        | 4/20 [01:22<05:31, 20.73s/it]"
     ]
    },
    {
     "name": "stderr",
     "output_type": "stream",
     "text": [
      "\r",
      "OMP Test Batch for noise_level = 0.04:  20%|██        | 4/20 [01:23<05:37, 21.08s/it]"
     ]
    },
    {
     "name": "stderr",
     "output_type": "stream",
     "text": [
      "\r",
      "OMP Test Batch for noise_level = 0.06:  20%|██        | 4/20 [01:23<05:32, 20.75s/it]"
     ]
    },
    {
     "name": "stderr",
     "output_type": "stream",
     "text": [
      "\r",
      "OMP Test Batch for noise_level = 0.07:  20%|██        | 4/20 [01:23<05:35, 20.94s/it]"
     ]
    },
    {
     "name": "stderr",
     "output_type": "stream",
     "text": [
      "\r",
      "OMP Test Batch for noise_level = 0.14:  20%|██        | 4/20 [01:21<05:26, 20.41s/it]"
     ]
    },
    {
     "name": "stderr",
     "output_type": "stream",
     "text": [
      "\r",
      "OMP Test Batch for noise_level = 0.00:  25%|██▌       | 5/20 [01:28<04:38, 18.58s/it]"
     ]
    },
    {
     "name": "stderr",
     "output_type": "stream",
     "text": [
      "\r",
      "OMP Test Batch for noise_level = 0.20:  20%|██        | 4/20 [01:21<05:22, 20.18s/it]"
     ]
    },
    {
     "name": "stderr",
     "output_type": "stream",
     "text": [
      "\r",
      "OMP Test Batch for noise_level = 0.16:  20%|██        | 4/20 [01:24<05:41, 21.32s/it]"
     ]
    },
    {
     "name": "stderr",
     "output_type": "stream",
     "text": [
      "\r",
      "OMP Test Batch for noise_level = 0.08:  25%|██▌       | 5/20 [01:28<04:36, 18.44s/it]"
     ]
    },
    {
     "name": "stderr",
     "output_type": "stream",
     "text": [
      "\r",
      "OMP Test Batch for noise_level = 0.09:  25%|██▌       | 5/20 [01:28<04:31, 18.07s/it]"
     ]
    },
    {
     "name": "stderr",
     "output_type": "stream",
     "text": [
      "\r",
      "OMP Test Batch for noise_level = 0.10:  25%|██▌       | 5/20 [01:30<04:35, 18.37s/it]"
     ]
    },
    {
     "name": "stderr",
     "output_type": "stream",
     "text": [
      "\r",
      "OMP Test Batch for noise_level = 0.18:  25%|██▌       | 5/20 [01:30<04:35, 18.37s/it]"
     ]
    },
    {
     "name": "stderr",
     "output_type": "stream",
     "text": [
      "\r",
      "OMP Test Batch for noise_level = 0.12:  25%|██▌       | 5/20 [01:32<04:42, 18.84s/it]"
     ]
    },
    {
     "name": "stderr",
     "output_type": "stream",
     "text": [
      "\r",
      "OMP Test Batch for noise_level = 0.02:  25%|██▌       | 5/20 [01:42<05:12, 20.86s/it]"
     ]
    },
    {
     "name": "stderr",
     "output_type": "stream",
     "text": [
      "\r",
      "OMP Test Batch for noise_level = 0.05:  25%|██▌       | 5/20 [01:41<05:01, 20.12s/it]"
     ]
    },
    {
     "name": "stderr",
     "output_type": "stream",
     "text": [
      "\r",
      "OMP Test Batch for noise_level = 0.01:  25%|██▌       | 5/20 [01:45<05:22, 21.50s/it]\r",
      "OMP Test Batch for noise_level = 0.03:  25%|██▌       | 5/20 [01:44<05:19, 21.33s/it]"
     ]
    },
    {
     "name": "stderr",
     "output_type": "stream",
     "text": [
      "\r",
      "OMP Test Batch for noise_level = 0.04:  25%|██▌       | 5/20 [01:44<05:16, 21.07s/it]"
     ]
    },
    {
     "name": "stderr",
     "output_type": "stream",
     "text": [
      "\r",
      "OMP Test Batch for noise_level = 0.00:  30%|███       | 6/20 [01:47<04:21, 18.71s/it]\r",
      "OMP Test Batch for noise_level = 0.06:  25%|██▌       | 5/20 [01:45<05:15, 21.05s/it]"
     ]
    },
    {
     "name": "stderr",
     "output_type": "stream",
     "text": [
      "\r",
      "OMP Test Batch for noise_level = 0.07:  25%|██▌       | 5/20 [01:45<05:18, 21.23s/it]"
     ]
    },
    {
     "name": "stderr",
     "output_type": "stream",
     "text": [
      "\r",
      "OMP Test Batch for noise_level = 0.08:  30%|███       | 6/20 [01:45<04:09, 17.82s/it]"
     ]
    },
    {
     "name": "stderr",
     "output_type": "stream",
     "text": [
      "\r",
      "OMP Test Batch for noise_level = 0.20:  25%|██▌       | 5/20 [01:41<05:01, 20.09s/it]\r",
      "OMP Test Batch for noise_level = 0.14:  25%|██▌       | 5/20 [01:43<05:14, 21.00s/it]"
     ]
    },
    {
     "name": "stderr",
     "output_type": "stream",
     "text": [
      "\r",
      "OMP Test Batch for noise_level = 0.09:  30%|███       | 6/20 [01:47<04:15, 18.23s/it]"
     ]
    },
    {
     "name": "stderr",
     "output_type": "stream",
     "text": [
      "\r",
      "OMP Test Batch for noise_level = 0.16:  25%|██▌       | 5/20 [01:46<05:22, 21.50s/it]"
     ]
    },
    {
     "name": "stderr",
     "output_type": "stream",
     "text": [
      "\r",
      "OMP Test Batch for noise_level = 0.10:  30%|███       | 6/20 [01:49<04:16, 18.36s/it]"
     ]
    },
    {
     "name": "stderr",
     "output_type": "stream",
     "text": [
      "\r",
      "OMP Test Batch for noise_level = 0.12:  30%|███       | 6/20 [01:49<04:12, 18.02s/it]"
     ]
    },
    {
     "name": "stderr",
     "output_type": "stream",
     "text": [
      "\r",
      "OMP Test Batch for noise_level = 0.18:  30%|███       | 6/20 [01:48<04:17, 18.37s/it]"
     ]
    },
    {
     "name": "stderr",
     "output_type": "stream",
     "text": [
      "\r",
      "OMP Test Batch for noise_level = 0.00:  35%|███▌      | 7/20 [02:05<03:57, 18.28s/it]"
     ]
    },
    {
     "name": "stderr",
     "output_type": "stream",
     "text": [
      "\r",
      "OMP Test Batch for noise_level = 0.02:  30%|███       | 6/20 [02:04<04:57, 21.26s/it]"
     ]
    },
    {
     "name": "stderr",
     "output_type": "stream",
     "text": [
      "\r",
      "OMP Test Batch for noise_level = 0.05:  30%|███       | 6/20 [02:03<04:50, 20.77s/it]"
     ]
    },
    {
     "name": "stderr",
     "output_type": "stream",
     "text": [
      "\r",
      "OMP Test Batch for noise_level = 0.06:  30%|███       | 6/20 [02:04<04:49, 20.68s/it]"
     ]
    },
    {
     "name": "stderr",
     "output_type": "stream",
     "text": [
      "\r",
      "OMP Test Batch for noise_level = 0.03:  30%|███       | 6/20 [02:06<05:02, 21.60s/it]\r",
      "OMP Test Batch for noise_level = 0.01:  30%|███       | 6/20 [02:07<05:04, 21.74s/it]"
     ]
    },
    {
     "name": "stderr",
     "output_type": "stream",
     "text": [
      "\r",
      "OMP Test Batch for noise_level = 0.04:  30%|███       | 6/20 [02:06<04:59, 21.37s/it]"
     ]
    },
    {
     "name": "stderr",
     "output_type": "stream",
     "text": [
      "\r",
      "OMP Test Batch for noise_level = 0.08:  35%|███▌      | 7/20 [02:04<03:58, 18.32s/it]"
     ]
    },
    {
     "name": "stderr",
     "output_type": "stream",
     "text": [
      "\r",
      "OMP Test Batch for noise_level = 0.07:  30%|███       | 6/20 [02:07<05:00, 21.46s/it]"
     ]
    },
    {
     "name": "stderr",
     "output_type": "stream",
     "text": [
      "\r",
      "OMP Test Batch for noise_level = 0.14:  30%|███       | 6/20 [02:05<04:57, 21.25s/it]\r",
      "OMP Test Batch for noise_level = 0.20:  30%|███       | 6/20 [02:03<04:49, 20.68s/it]\r",
      "OMP Test Batch for noise_level = 0.09:  35%|███▌      | 7/20 [02:06<04:01, 18.58s/it]"
     ]
    },
    {
     "name": "stderr",
     "output_type": "stream",
     "text": [
      "\r",
      "OMP Test Batch for noise_level = 0.10:  35%|███▌      | 7/20 [02:06<03:56, 18.17s/it]"
     ]
    },
    {
     "name": "stderr",
     "output_type": "stream",
     "text": [
      "\r",
      "OMP Test Batch for noise_level = 0.16:  30%|███       | 6/20 [02:06<04:53, 20.97s/it]\r",
      "OMP Test Batch for noise_level = 0.12:  35%|███▌      | 7/20 [02:07<03:58, 18.32s/it]"
     ]
    },
    {
     "name": "stderr",
     "output_type": "stream",
     "text": [
      "\r",
      "OMP Test Batch for noise_level = 0.18:  35%|███▌      | 7/20 [02:07<04:00, 18.52s/it]"
     ]
    },
    {
     "name": "stderr",
     "output_type": "stream",
     "text": [
      "\r",
      "OMP Test Batch for noise_level = 0.00:  40%|████      | 8/20 [02:23<03:38, 18.22s/it]"
     ]
    },
    {
     "name": "stderr",
     "output_type": "stream",
     "text": [
      "\r",
      "OMP Test Batch for noise_level = 0.08:  40%|████      | 8/20 [02:20<03:29, 17.50s/it]"
     ]
    },
    {
     "name": "stderr",
     "output_type": "stream",
     "text": [
      "\r",
      "OMP Test Batch for noise_level = 0.02:  35%|███▌      | 7/20 [02:25<04:34, 21.15s/it]"
     ]
    },
    {
     "name": "stderr",
     "output_type": "stream",
     "text": [
      "\r",
      "OMP Test Batch for noise_level = 0.05:  35%|███▌      | 7/20 [02:24<04:32, 20.94s/it]"
     ]
    },
    {
     "name": "stderr",
     "output_type": "stream",
     "text": [
      "\r",
      "OMP Test Batch for noise_level = 0.06:  35%|███▌      | 7/20 [02:26<04:31, 20.89s/it]"
     ]
    },
    {
     "name": "stderr",
     "output_type": "stream",
     "text": [
      "\r",
      "OMP Test Batch for noise_level = 0.03:  35%|███▌      | 7/20 [02:27<04:38, 21.41s/it]\r",
      "OMP Test Batch for noise_level = 0.01:  35%|███▌      | 7/20 [02:28<04:40, 21.54s/it]"
     ]
    },
    {
     "name": "stderr",
     "output_type": "stream",
     "text": [
      "\r",
      "OMP Test Batch for noise_level = 0.04:  35%|███▌      | 7/20 [02:27<04:35, 21.20s/it]"
     ]
    },
    {
     "name": "stderr",
     "output_type": "stream",
     "text": [
      "\r",
      "OMP Test Batch for noise_level = 0.09:  40%|████      | 8/20 [02:25<03:41, 18.48s/it]"
     ]
    },
    {
     "name": "stderr",
     "output_type": "stream",
     "text": [
      "\r",
      "OMP Test Batch for noise_level = 0.10:  40%|████      | 8/20 [02:25<03:38, 18.19s/it]"
     ]
    },
    {
     "name": "stderr",
     "output_type": "stream",
     "text": [
      "\r",
      "OMP Test Batch for noise_level = 0.16:  35%|███▌      | 7/20 [02:24<04:16, 19.77s/it]"
     ]
    },
    {
     "name": "stderr",
     "output_type": "stream",
     "text": [
      "\r",
      "OMP Test Batch for noise_level = 0.07:  35%|███▌      | 7/20 [02:27<04:35, 21.18s/it]"
     ]
    },
    {
     "name": "stderr",
     "output_type": "stream",
     "text": [
      "\r",
      "OMP Test Batch for noise_level = 0.12:  40%|████      | 8/20 [02:26<03:39, 18.30s/it]\r",
      "OMP Test Batch for noise_level = 0.18:  40%|████      | 8/20 [02:24<03:36, 18.07s/it]"
     ]
    },
    {
     "name": "stderr",
     "output_type": "stream",
     "text": [
      "\r",
      "OMP Test Batch for noise_level = 0.14:  35%|███▌      | 7/20 [02:26<04:33, 21.04s/it]"
     ]
    },
    {
     "name": "stderr",
     "output_type": "stream",
     "text": [
      "\r",
      "OMP Test Batch for noise_level = 0.20:  35%|███▌      | 7/20 [02:24<04:30, 20.82s/it]"
     ]
    },
    {
     "name": "stderr",
     "output_type": "stream",
     "text": [
      "\r",
      "OMP Test Batch for noise_level = 0.00:  45%|████▌     | 9/20 [02:41<03:19, 18.15s/it]"
     ]
    },
    {
     "name": "stderr",
     "output_type": "stream",
     "text": [
      "\r",
      "OMP Test Batch for noise_level = 0.08:  45%|████▌     | 9/20 [02:38<03:13, 17.59s/it]"
     ]
    },
    {
     "name": "stderr",
     "output_type": "stream",
     "text": [
      "\r",
      "OMP Test Batch for noise_level = 0.02:  40%|████      | 8/20 [02:47<04:16, 21.40s/it]\r",
      "OMP Test Batch for noise_level = 0.09:  45%|████▌     | 9/20 [02:43<03:22, 18.39s/it]"
     ]
    },
    {
     "name": "stderr",
     "output_type": "stream",
     "text": [
      "\r",
      "OMP Test Batch for noise_level = 0.16:  40%|████      | 8/20 [02:41<03:49, 19.11s/it]\r",
      "OMP Test Batch for noise_level = 0.10:  45%|████▌     | 9/20 [02:43<03:20, 18.27s/it]\r",
      "OMP Test Batch for noise_level = 0.05:  40%|████      | 8/20 [02:46<04:15, 21.26s/it]"
     ]
    },
    {
     "name": "stderr",
     "output_type": "stream",
     "text": [
      "\r",
      "OMP Test Batch for noise_level = 0.18:  45%|████▌     | 9/20 [02:41<03:14, 17.70s/it]"
     ]
    },
    {
     "name": "stderr",
     "output_type": "stream",
     "text": [
      "\r",
      "OMP Test Batch for noise_level = 0.12:  45%|████▌     | 9/20 [02:44<03:21, 18.31s/it]"
     ]
    },
    {
     "name": "stderr",
     "output_type": "stream",
     "text": [
      "\r",
      "OMP Test Batch for noise_level = 0.06:  40%|████      | 8/20 [02:47<04:13, 21.11s/it]\r",
      "OMP Test Batch for noise_level = 0.01:  40%|████      | 8/20 [02:50<04:17, 21.48s/it]"
     ]
    },
    {
     "name": "stderr",
     "output_type": "stream",
     "text": [
      "\r",
      "OMP Test Batch for noise_level = 0.04:  40%|████      | 8/20 [02:48<04:14, 21.24s/it]\r",
      "OMP Test Batch for noise_level = 0.03:  40%|████      | 8/20 [02:49<04:17, 21.49s/it]"
     ]
    },
    {
     "name": "stderr",
     "output_type": "stream",
     "text": [
      "\r",
      "OMP Test Batch for noise_level = 0.07:  40%|████      | 8/20 [02:49<04:14, 21.22s/it]"
     ]
    },
    {
     "name": "stderr",
     "output_type": "stream",
     "text": [
      "\r",
      "OMP Test Batch for noise_level = 0.14:  40%|████      | 8/20 [02:47<04:14, 21.21s/it]"
     ]
    },
    {
     "name": "stderr",
     "output_type": "stream",
     "text": [
      "\r",
      "OMP Test Batch for noise_level = 0.20:  40%|████      | 8/20 [02:46<04:14, 21.23s/it]"
     ]
    },
    {
     "name": "stderr",
     "output_type": "stream",
     "text": [
      "\r",
      "OMP Test Batch for noise_level = 0.00:  50%|█████     | 10/20 [02:58<02:58, 17.82s/it]"
     ]
    },
    {
     "name": "stderr",
     "output_type": "stream",
     "text": [
      "\r",
      "OMP Test Batch for noise_level = 0.08:  50%|█████     | 10/20 [02:56<02:58, 17.83s/it]"
     ]
    },
    {
     "name": "stderr",
     "output_type": "stream",
     "text": [
      "\r",
      "OMP Test Batch for noise_level = 0.18:  50%|█████     | 10/20 [02:57<02:52, 17.27s/it]"
     ]
    },
    {
     "name": "stderr",
     "output_type": "stream",
     "text": [
      "\r",
      "OMP Test Batch for noise_level = 0.09:  50%|█████     | 10/20 [03:01<03:02, 18.20s/it]"
     ]
    },
    {
     "name": "stderr",
     "output_type": "stream",
     "text": [
      "\r",
      "OMP Test Batch for noise_level = 0.10:  50%|█████     | 10/20 [03:01<03:01, 18.15s/it]\r",
      "OMP Test Batch for noise_level = 0.12:  50%|█████     | 10/20 [03:00<02:57, 17.70s/it]"
     ]
    },
    {
     "name": "stderr",
     "output_type": "stream",
     "text": [
      "\r",
      "OMP Test Batch for noise_level = 0.02:  45%|████▌     | 9/20 [03:08<03:56, 21.46s/it]"
     ]
    },
    {
     "name": "stderr",
     "output_type": "stream",
     "text": [
      "\r",
      "OMP Test Batch for noise_level = 0.16:  45%|████▌     | 9/20 [03:03<03:37, 19.80s/it]"
     ]
    },
    {
     "name": "stderr",
     "output_type": "stream",
     "text": [
      "\r",
      "OMP Test Batch for noise_level = 0.05:  45%|████▌     | 9/20 [03:08<03:56, 21.48s/it]"
     ]
    },
    {
     "name": "stderr",
     "output_type": "stream",
     "text": [
      "\r",
      "OMP Test Batch for noise_level = 0.06:  45%|████▌     | 9/20 [03:08<03:49, 20.89s/it]"
     ]
    },
    {
     "name": "stderr",
     "output_type": "stream",
     "text": [
      "\r",
      "OMP Test Batch for noise_level = 0.07:  45%|████▌     | 9/20 [03:08<03:47, 20.71s/it]\r",
      "OMP Test Batch for noise_level = 0.01:  45%|████▌     | 9/20 [03:11<03:56, 21.47s/it]\r",
      "OMP Test Batch for noise_level = 0.04:  45%|████▌     | 9/20 [03:10<03:54, 21.33s/it]"
     ]
    },
    {
     "name": "stderr",
     "output_type": "stream",
     "text": [
      "\r",
      "OMP Test Batch for noise_level = 0.03:  45%|████▌     | 9/20 [03:11<03:57, 21.58s/it]"
     ]
    },
    {
     "name": "stderr",
     "output_type": "stream",
     "text": [
      "\r",
      "OMP Test Batch for noise_level = 0.20:  45%|████▌     | 9/20 [03:06<03:48, 20.75s/it]"
     ]
    },
    {
     "name": "stderr",
     "output_type": "stream",
     "text": [
      "\r",
      "OMP Test Batch for noise_level = 0.14:  45%|████▌     | 9/20 [03:08<03:53, 21.23s/it]"
     ]
    },
    {
     "name": "stderr",
     "output_type": "stream",
     "text": [
      "\r",
      "OMP Test Batch for noise_level = 0.08:  55%|█████▌    | 11/20 [03:11<02:32, 16.99s/it]"
     ]
    },
    {
     "name": "stderr",
     "output_type": "stream",
     "text": [
      "\r",
      "OMP Test Batch for noise_level = 0.00:  55%|█████▌    | 11/20 [03:16<02:42, 18.10s/it]"
     ]
    },
    {
     "name": "stderr",
     "output_type": "stream",
     "text": [
      "\r",
      "OMP Test Batch for noise_level = 0.18:  55%|█████▌    | 11/20 [03:15<02:36, 17.37s/it]\r",
      "OMP Test Batch for noise_level = 0.10:  55%|█████▌    | 11/20 [03:17<02:38, 17.59s/it]\r",
      "OMP Test Batch for noise_level = 0.12:  55%|█████▌    | 11/20 [03:17<02:35, 17.27s/it]"
     ]
    },
    {
     "name": "stderr",
     "output_type": "stream",
     "text": [
      "\r",
      "OMP Test Batch for noise_level = 0.09:  55%|█████▌    | 11/20 [03:18<02:42, 18.03s/it]"
     ]
    },
    {
     "name": "stderr",
     "output_type": "stream",
     "text": [
      "\r",
      "OMP Test Batch for noise_level = 0.16:  50%|█████     | 10/20 [03:22<03:15, 19.53s/it]"
     ]
    },
    {
     "name": "stderr",
     "output_type": "stream",
     "text": [
      "\r",
      "OMP Test Batch for noise_level = 0.02:  50%|█████     | 10/20 [03:29<03:30, 21.10s/it]"
     ]
    },
    {
     "name": "stderr",
     "output_type": "stream",
     "text": [
      "\r",
      "OMP Test Batch for noise_level = 0.05:  50%|█████     | 10/20 [03:28<03:29, 20.99s/it]"
     ]
    },
    {
     "name": "stderr",
     "output_type": "stream",
     "text": [
      "\r",
      "OMP Test Batch for noise_level = 0.06:  50%|█████     | 10/20 [03:28<03:26, 20.62s/it]"
     ]
    },
    {
     "name": "stderr",
     "output_type": "stream",
     "text": [
      "\r",
      "OMP Test Batch for noise_level = 0.01:  50%|█████     | 10/20 [03:31<03:30, 21.03s/it]\r",
      "OMP Test Batch for noise_level = 0.07:  50%|█████     | 10/20 [03:28<03:25, 20.54s/it]"
     ]
    },
    {
     "name": "stderr",
     "output_type": "stream",
     "text": [
      "\r",
      "OMP Test Batch for noise_level = 0.04:  50%|█████     | 10/20 [03:30<03:29, 20.98s/it]"
     ]
    },
    {
     "name": "stderr",
     "output_type": "stream",
     "text": [
      "\r",
      "OMP Test Batch for noise_level = 0.08:  60%|██████    | 12/20 [03:28<02:15, 16.98s/it]"
     ]
    },
    {
     "name": "stderr",
     "output_type": "stream",
     "text": [
      "\r",
      "OMP Test Batch for noise_level = 0.03:  50%|█████     | 10/20 [03:31<03:31, 21.19s/it]"
     ]
    },
    {
     "name": "stderr",
     "output_type": "stream",
     "text": [
      "\r",
      "OMP Test Batch for noise_level = 0.00:  60%|██████    | 12/20 [03:33<02:21, 17.69s/it]"
     ]
    },
    {
     "name": "stderr",
     "output_type": "stream",
     "text": [
      "\r",
      "OMP Test Batch for noise_level = 0.14:  50%|█████     | 10/20 [03:29<03:29, 20.95s/it]"
     ]
    },
    {
     "name": "stderr",
     "output_type": "stream",
     "text": [
      "\r",
      "OMP Test Batch for noise_level = 0.20:  50%|█████     | 10/20 [03:27<03:28, 20.83s/it]"
     ]
    },
    {
     "name": "stderr",
     "output_type": "stream",
     "text": [
      "\r",
      "OMP Test Batch for noise_level = 0.18:  60%|██████    | 12/20 [03:30<02:13, 16.69s/it]"
     ]
    },
    {
     "name": "stderr",
     "output_type": "stream",
     "text": [
      "\r",
      "OMP Test Batch for noise_level = 0.10:  60%|██████    | 12/20 [03:34<02:17, 17.24s/it]\r",
      "OMP Test Batch for noise_level = 0.12:  60%|██████    | 12/20 [03:33<02:16, 17.05s/it]"
     ]
    },
    {
     "name": "stderr",
     "output_type": "stream",
     "text": [
      "\r",
      "OMP Test Batch for noise_level = 0.09:  60%|██████    | 12/20 [03:35<02:20, 17.55s/it]"
     ]
    },
    {
     "name": "stderr",
     "output_type": "stream",
     "text": [
      "\r",
      "OMP Test Batch for noise_level = 0.16:  55%|█████▌    | 11/20 [03:42<02:58, 19.84s/it]"
     ]
    },
    {
     "name": "stderr",
     "output_type": "stream",
     "text": [
      "\r",
      "OMP Test Batch for noise_level = 0.00:  65%|██████▌   | 13/20 [03:50<02:01, 17.34s/it]"
     ]
    },
    {
     "name": "stderr",
     "output_type": "stream",
     "text": [
      "\r",
      "OMP Test Batch for noise_level = 0.08:  65%|██████▌   | 13/20 [03:46<02:00, 17.27s/it]\r",
      "OMP Test Batch for noise_level = 0.02:  55%|█████▌    | 11/20 [03:49<03:09, 21.02s/it]"
     ]
    },
    {
     "name": "stderr",
     "output_type": "stream",
     "text": [
      "\r",
      "OMP Test Batch for noise_level = 0.05:  55%|█████▌    | 11/20 [03:49<03:09, 21.01s/it]\r",
      "OMP Test Batch for noise_level = 0.06:  55%|█████▌    | 11/20 [03:49<03:06, 20.67s/it]"
     ]
    },
    {
     "name": "stderr",
     "output_type": "stream",
     "text": [
      "\r",
      "OMP Test Batch for noise_level = 0.03:  55%|█████▌    | 11/20 [03:50<03:05, 20.56s/it]"
     ]
    },
    {
     "name": "stderr",
     "output_type": "stream",
     "text": [
      "\r",
      "OMP Test Batch for noise_level = 0.04:  55%|█████▌    | 11/20 [03:50<03:06, 20.76s/it]"
     ]
    },
    {
     "name": "stderr",
     "output_type": "stream",
     "text": [
      "\r",
      "OMP Test Batch for noise_level = 0.01:  55%|█████▌    | 11/20 [03:52<03:08, 20.99s/it]\r",
      "OMP Test Batch for noise_level = 0.07:  55%|█████▌    | 11/20 [03:49<03:06, 20.68s/it]"
     ]
    },
    {
     "name": "stderr",
     "output_type": "stream",
     "text": [
      "\r",
      "OMP Test Batch for noise_level = 0.14:  55%|█████▌    | 11/20 [03:49<03:06, 20.72s/it]"
     ]
    },
    {
     "name": "stderr",
     "output_type": "stream",
     "text": [
      "\r",
      "OMP Test Batch for noise_level = 0.18:  65%|██████▌   | 13/20 [03:48<01:59, 17.11s/it]\r",
      "OMP Test Batch for noise_level = 0.20:  55%|█████▌    | 11/20 [03:47<03:06, 20.73s/it]"
     ]
    },
    {
     "name": "stderr",
     "output_type": "stream",
     "text": [
      "\r",
      "OMP Test Batch for noise_level = 0.10:  65%|██████▌   | 13/20 [03:51<02:01, 17.34s/it]\r",
      "OMP Test Batch for noise_level = 0.12:  65%|██████▌   | 13/20 [03:51<02:00, 17.21s/it]"
     ]
    },
    {
     "name": "stderr",
     "output_type": "stream",
     "text": [
      "\r",
      "OMP Test Batch for noise_level = 0.09:  65%|██████▌   | 13/20 [03:52<02:03, 17.63s/it]"
     ]
    },
    {
     "name": "stderr",
     "output_type": "stream",
     "text": [
      "\r",
      "OMP Test Batch for noise_level = 0.08:  70%|███████   | 14/20 [04:02<01:41, 16.85s/it]"
     ]
    },
    {
     "name": "stderr",
     "output_type": "stream",
     "text": [
      "\r",
      "OMP Test Batch for noise_level = 0.00:  70%|███████   | 14/20 [04:13<01:55, 19.21s/it]"
     ]
    },
    {
     "name": "stderr",
     "output_type": "stream",
     "text": [
      "\r",
      "OMP Test Batch for noise_level = 0.16:  60%|██████    | 12/20 [04:07<02:51, 21.46s/it]"
     ]
    },
    {
     "name": "stderr",
     "output_type": "stream",
     "text": [
      "\r",
      "OMP Test Batch for noise_level = 0.02:  60%|██████    | 12/20 [04:15<02:58, 22.30s/it]"
     ]
    },
    {
     "name": "stderr",
     "output_type": "stream",
     "text": [
      "\r",
      "OMP Test Batch for noise_level = 0.06:  60%|██████    | 12/20 [04:14<02:55, 22.00s/it]"
     ]
    },
    {
     "name": "stderr",
     "output_type": "stream",
     "text": [
      "\r",
      "OMP Test Batch for noise_level = 0.03:  60%|██████    | 12/20 [04:17<02:58, 22.36s/it]\r",
      "OMP Test Batch for noise_level = 0.05:  60%|██████    | 12/20 [04:16<03:02, 22.82s/it]"
     ]
    },
    {
     "name": "stderr",
     "output_type": "stream",
     "text": [
      "\r",
      "OMP Test Batch for noise_level = 0.04:  60%|██████    | 12/20 [04:17<03:01, 22.64s/it]"
     ]
    },
    {
     "name": "stderr",
     "output_type": "stream",
     "text": [
      "\r",
      "OMP Test Batch for noise_level = 0.01:  60%|██████    | 12/20 [04:19<03:02, 22.83s/it]\r",
      "OMP Test Batch for noise_level = 0.07:  60%|██████    | 12/20 [04:16<03:00, 22.58s/it]"
     ]
    },
    {
     "name": "stderr",
     "output_type": "stream",
     "text": [
      "\r",
      "OMP Test Batch for noise_level = 0.14:  60%|██████    | 12/20 [04:17<03:04, 23.04s/it]"
     ]
    },
    {
     "name": "stderr",
     "output_type": "stream",
     "text": [
      "\r",
      "OMP Test Batch for noise_level = 0.20:  60%|██████    | 12/20 [04:16<03:05, 23.23s/it]"
     ]
    },
    {
     "name": "stderr",
     "output_type": "stream",
     "text": [
      "\r",
      "OMP Test Batch for noise_level = 0.09:  70%|███████   | 14/20 [04:27<02:16, 22.69s/it]"
     ]
    },
    {
     "name": "stderr",
     "output_type": "stream",
     "text": [
      "\r",
      "OMP Test Batch for noise_level = 0.10:  70%|███████   | 14/20 [04:28<02:18, 23.08s/it]\r",
      "OMP Test Batch for noise_level = 0.18:  70%|███████   | 14/20 [04:25<02:19, 23.21s/it]"
     ]
    },
    {
     "name": "stderr",
     "output_type": "stream",
     "text": [
      "\r",
      "OMP Test Batch for noise_level = 0.12:  70%|███████   | 14/20 [04:27<02:18, 23.08s/it]"
     ]
    },
    {
     "name": "stderr",
     "output_type": "stream",
     "text": [
      "\r",
      "OMP Test Batch for noise_level = 0.16:  65%|██████▌   | 13/20 [04:38<02:50, 24.42s/it]"
     ]
    },
    {
     "name": "stderr",
     "output_type": "stream",
     "text": [
      "\r",
      "OMP Test Batch for noise_level = 0.02:  65%|██████▌   | 13/20 [04:47<02:57, 25.30s/it]"
     ]
    },
    {
     "name": "stderr",
     "output_type": "stream",
     "text": [
      "\r",
      "OMP Test Batch for noise_level = 0.06:  65%|██████▌   | 13/20 [04:46<02:54, 25.00s/it]"
     ]
    },
    {
     "name": "stderr",
     "output_type": "stream",
     "text": [
      "\r",
      "OMP Test Batch for noise_level = 0.04:  65%|██████▌   | 13/20 [04:49<02:56, 25.28s/it]"
     ]
    },
    {
     "name": "stderr",
     "output_type": "stream",
     "text": [
      "\r",
      "OMP Test Batch for noise_level = 0.05:  65%|██████▌   | 13/20 [04:49<03:01, 25.98s/it]"
     ]
    },
    {
     "name": "stderr",
     "output_type": "stream",
     "text": [
      "\r",
      "OMP Test Batch for noise_level = 0.03:  65%|██████▌   | 13/20 [04:51<03:01, 25.97s/it]\r",
      "OMP Test Batch for noise_level = 0.07:  65%|██████▌   | 13/20 [04:49<02:59, 25.64s/it]"
     ]
    },
    {
     "name": "stderr",
     "output_type": "stream",
     "text": [
      "\r",
      "OMP Test Batch for noise_level = 0.14:  65%|██████▌   | 13/20 [04:47<02:55, 25.11s/it]"
     ]
    },
    {
     "name": "stderr",
     "output_type": "stream",
     "text": [
      "\r",
      "OMP Test Batch for noise_level = 0.01:  65%|██████▌   | 13/20 [04:53<03:04, 26.29s/it]"
     ]
    },
    {
     "name": "stderr",
     "output_type": "stream",
     "text": [
      "\r",
      "OMP Test Batch for noise_level = 0.08:  75%|███████▌  | 15/20 [04:52<02:14, 26.93s/it]"
     ]
    },
    {
     "name": "stderr",
     "output_type": "stream",
     "text": [
      "\r",
      "OMP Test Batch for noise_level = 0.20:  65%|██████▌   | 13/20 [04:49<03:03, 26.25s/it]"
     ]
    },
    {
     "name": "stderr",
     "output_type": "stream",
     "text": [
      "\r",
      "OMP Test Batch for noise_level = 0.00:  75%|███████▌  | 15/20 [05:06<02:27, 29.44s/it]"
     ]
    },
    {
     "name": "stderr",
     "output_type": "stream",
     "text": [
      "\r",
      "OMP Test Batch for noise_level = 0.16:  70%|███████   | 14/20 [05:10<02:39, 26.59s/it]"
     ]
    },
    {
     "name": "stderr",
     "output_type": "stream",
     "text": [
      "\r",
      "OMP Test Batch for noise_level = 0.06:  70%|███████   | 14/20 [05:19<02:45, 27.56s/it]"
     ]
    },
    {
     "name": "stderr",
     "output_type": "stream",
     "text": [
      "\r",
      "OMP Test Batch for noise_level = 0.02:  70%|███████   | 14/20 [05:21<02:47, 27.97s/it]"
     ]
    },
    {
     "name": "stderr",
     "output_type": "stream",
     "text": [
      "\r",
      "OMP Test Batch for noise_level = 0.10:  75%|███████▌  | 15/20 [05:18<02:36, 31.29s/it]"
     ]
    },
    {
     "name": "stderr",
     "output_type": "stream",
     "text": [
      "\r",
      "OMP Test Batch for noise_level = 0.04:  70%|███████   | 14/20 [05:23<02:47, 27.94s/it]"
     ]
    },
    {
     "name": "stderr",
     "output_type": "stream",
     "text": [
      "\r",
      "OMP Test Batch for noise_level = 0.09:  75%|███████▌  | 15/20 [05:21<02:41, 32.30s/it]"
     ]
    },
    {
     "name": "stderr",
     "output_type": "stream",
     "text": [
      "\r",
      "OMP Test Batch for noise_level = 0.05:  70%|███████   | 14/20 [05:24<02:52, 28.78s/it]"
     ]
    },
    {
     "name": "stderr",
     "output_type": "stream",
     "text": [
      "\r",
      "OMP Test Batch for noise_level = 0.03:  70%|███████   | 14/20 [05:26<02:51, 28.64s/it]\r",
      "OMP Test Batch for noise_level = 0.07:  70%|███████   | 14/20 [05:24<02:50, 28.41s/it]"
     ]
    },
    {
     "name": "stderr",
     "output_type": "stream",
     "text": [
      "\r",
      "OMP Test Batch for noise_level = 0.01:  70%|███████   | 14/20 [05:27<02:51, 28.59s/it]"
     ]
    },
    {
     "name": "stderr",
     "output_type": "stream",
     "text": [
      "\r",
      "OMP Test Batch for noise_level = 0.14:  70%|███████   | 14/20 [05:22<02:48, 28.07s/it]"
     ]
    },
    {
     "name": "stderr",
     "output_type": "stream",
     "text": [
      "\r",
      "OMP Test Batch for noise_level = 0.12:  75%|███████▌  | 15/20 [05:23<02:43, 32.79s/it]"
     ]
    },
    {
     "name": "stderr",
     "output_type": "stream",
     "text": [
      "\r",
      "OMP Test Batch for noise_level = 0.20:  70%|███████   | 14/20 [05:21<02:46, 27.76s/it]\r",
      "OMP Test Batch for noise_level = 0.18:  75%|███████▌  | 15/20 [05:22<02:45, 33.16s/it]"
     ]
    },
    {
     "name": "stderr",
     "output_type": "stream",
     "text": [
      "\r",
      "OMP Test Batch for noise_level = 0.16:  75%|███████▌  | 15/20 [05:43<02:23, 28.64s/it]"
     ]
    },
    {
     "name": "stderr",
     "output_type": "stream",
     "text": [
      "\r",
      "OMP Test Batch for noise_level = 0.06:  75%|███████▌  | 15/20 [05:50<02:22, 28.58s/it]"
     ]
    },
    {
     "name": "stderr",
     "output_type": "stream",
     "text": [
      "\r",
      "OMP Test Batch for noise_level = 0.08:  80%|████████  | 16/20 [05:51<02:25, 36.50s/it]"
     ]
    },
    {
     "name": "stderr",
     "output_type": "stream",
     "text": [
      "\r",
      "OMP Test Batch for noise_level = 0.02:  75%|███████▌  | 15/20 [05:55<02:29, 29.85s/it]"
     ]
    },
    {
     "name": "stderr",
     "output_type": "stream",
     "text": [
      "\r",
      "OMP Test Batch for noise_level = 0.04:  75%|███████▌  | 15/20 [05:56<02:27, 29.43s/it]"
     ]
    },
    {
     "name": "stderr",
     "output_type": "stream",
     "text": [
      "\r",
      "OMP Test Batch for noise_level = 0.03:  75%|███████▌  | 15/20 [05:56<02:26, 29.22s/it]"
     ]
    },
    {
     "name": "stderr",
     "output_type": "stream",
     "text": [
      "\r",
      "OMP Test Batch for noise_level = 0.05:  75%|███████▌  | 15/20 [05:56<02:28, 29.80s/it]"
     ]
    },
    {
     "name": "stderr",
     "output_type": "stream",
     "text": [
      "\r",
      "OMP Test Batch for noise_level = 0.20:  75%|███████▌  | 15/20 [05:52<02:24, 28.94s/it]"
     ]
    },
    {
     "name": "stderr",
     "output_type": "stream",
     "text": [
      "\r",
      "OMP Test Batch for noise_level = 0.01:  75%|███████▌  | 15/20 [06:01<02:30, 30.18s/it]"
     ]
    },
    {
     "name": "stderr",
     "output_type": "stream",
     "text": [
      "\r",
      "OMP Test Batch for noise_level = 0.07:  75%|███████▌  | 15/20 [05:58<02:31, 30.31s/it]"
     ]
    },
    {
     "name": "stderr",
     "output_type": "stream",
     "text": [
      "\r",
      "OMP Test Batch for noise_level = 0.14:  75%|███████▌  | 15/20 [05:56<02:29, 29.87s/it]\r",
      "OMP Test Batch for noise_level = 0.00:  80%|████████  | 16/20 [06:03<02:29, 37.48s/it]"
     ]
    },
    {
     "name": "stderr",
     "output_type": "stream",
     "text": [
      "\r",
      "OMP Test Batch for noise_level = 0.10:  80%|████████  | 16/20 [06:13<02:33, 38.29s/it]"
     ]
    },
    {
     "name": "stderr",
     "output_type": "stream",
     "text": [
      "\r",
      "OMP Test Batch for noise_level = 0.09:  80%|████████  | 16/20 [06:17<02:37, 39.31s/it]"
     ]
    },
    {
     "name": "stderr",
     "output_type": "stream",
     "text": [
      "\r",
      "OMP Test Batch for noise_level = 0.16:  80%|████████  | 16/20 [06:16<01:59, 29.81s/it]"
     ]
    },
    {
     "name": "stderr",
     "output_type": "stream",
     "text": [
      "\r",
      "OMP Test Batch for noise_level = 0.12:  80%|████████  | 16/20 [06:19<02:39, 39.83s/it]"
     ]
    },
    {
     "name": "stderr",
     "output_type": "stream",
     "text": [
      "\r",
      "OMP Test Batch for noise_level = 0.18:  80%|████████  | 16/20 [06:18<02:40, 40.15s/it]"
     ]
    },
    {
     "name": "stderr",
     "output_type": "stream",
     "text": [
      "\r",
      "OMP Test Batch for noise_level = 0.06:  80%|████████  | 16/20 [06:24<02:01, 30.36s/it]"
     ]
    },
    {
     "name": "stderr",
     "output_type": "stream",
     "text": [
      "\r",
      "OMP Test Batch for noise_level = 0.02:  80%|████████  | 16/20 [06:29<02:04, 31.11s/it]"
     ]
    },
    {
     "name": "stderr",
     "output_type": "stream",
     "text": [
      "\r",
      "OMP Test Batch for noise_level = 0.20:  80%|████████  | 16/20 [06:23<01:57, 29.45s/it]"
     ]
    },
    {
     "name": "stderr",
     "output_type": "stream",
     "text": [
      "\r",
      "OMP Test Batch for noise_level = 0.04:  80%|████████  | 16/20 [06:30<02:03, 30.86s/it]\r",
      "OMP Test Batch for noise_level = 0.03:  80%|████████  | 16/20 [06:30<02:02, 30.67s/it]"
     ]
    },
    {
     "name": "stderr",
     "output_type": "stream",
     "text": [
      "\r",
      "OMP Test Batch for noise_level = 0.01:  80%|████████  | 16/20 [06:36<02:05, 31.46s/it]"
     ]
    },
    {
     "name": "stderr",
     "output_type": "stream",
     "text": [
      "\r",
      "OMP Test Batch for noise_level = 0.05:  80%|████████  | 16/20 [06:34<02:08, 32.20s/it]"
     ]
    },
    {
     "name": "stderr",
     "output_type": "stream",
     "text": [
      "\r",
      "OMP Test Batch for noise_level = 0.07:  80%|████████  | 16/20 [06:33<02:06, 31.73s/it]"
     ]
    },
    {
     "name": "stderr",
     "output_type": "stream",
     "text": [
      "\r",
      "OMP Test Batch for noise_level = 0.14:  80%|████████  | 16/20 [06:39<02:14, 33.68s/it]"
     ]
    },
    {
     "name": "stderr",
     "output_type": "stream",
     "text": [
      "\r",
      "OMP Test Batch for noise_level = 0.08:  85%|████████▌ | 17/20 [06:47<02:07, 42.37s/it]"
     ]
    },
    {
     "name": "stderr",
     "output_type": "stream",
     "text": [
      "\r",
      "OMP Test Batch for noise_level = 0.16:  85%|████████▌ | 17/20 [06:45<01:28, 29.59s/it]"
     ]
    },
    {
     "name": "stderr",
     "output_type": "stream",
     "text": [
      "\r",
      "OMP Test Batch for noise_level = 0.00:  85%|████████▌ | 17/20 [06:57<02:07, 42.63s/it]"
     ]
    },
    {
     "name": "stderr",
     "output_type": "stream",
     "text": [
      "\r",
      "OMP Test Batch for noise_level = 0.06:  85%|████████▌ | 17/20 [06:57<01:33, 31.00s/it]"
     ]
    },
    {
     "name": "stderr",
     "output_type": "stream",
     "text": [
      "\r",
      "OMP Test Batch for noise_level = 0.04:  85%|████████▌ | 17/20 [07:01<01:32, 30.92s/it]"
     ]
    },
    {
     "name": "stderr",
     "output_type": "stream",
     "text": [
      "\r",
      "OMP Test Batch for noise_level = 0.20:  85%|████████▌ | 17/20 [06:55<01:30, 30.21s/it]"
     ]
    },
    {
     "name": "stderr",
     "output_type": "stream",
     "text": [
      "\r",
      "OMP Test Batch for noise_level = 0.03:  85%|████████▌ | 17/20 [07:02<01:33, 31.00s/it]"
     ]
    },
    {
     "name": "stderr",
     "output_type": "stream",
     "text": [
      "\r",
      "OMP Test Batch for noise_level = 0.02:  85%|████████▌ | 17/20 [07:03<01:35, 31.88s/it]"
     ]
    },
    {
     "name": "stderr",
     "output_type": "stream",
     "text": [
      "\r",
      "OMP Test Batch for noise_level = 0.01:  85%|████████▌ | 17/20 [07:08<01:35, 31.75s/it]"
     ]
    },
    {
     "name": "stderr",
     "output_type": "stream",
     "text": [
      "\r",
      "OMP Test Batch for noise_level = 0.07:  85%|████████▌ | 17/20 [07:06<01:36, 32.12s/it]"
     ]
    },
    {
     "name": "stderr",
     "output_type": "stream",
     "text": [
      "\r",
      "OMP Test Batch for noise_level = 0.10:  85%|████████▌ | 17/20 [07:07<02:09, 43.08s/it]"
     ]
    },
    {
     "name": "stderr",
     "output_type": "stream",
     "text": [
      "\r",
      "OMP Test Batch for noise_level = 0.18:  85%|████████▌ | 17/20 [07:08<02:09, 43.03s/it]"
     ]
    },
    {
     "name": "stderr",
     "output_type": "stream",
     "text": [
      "\r",
      "OMP Test Batch for noise_level = 0.09:  85%|████████▌ | 17/20 [07:11<02:11, 43.71s/it]"
     ]
    },
    {
     "name": "stderr",
     "output_type": "stream",
     "text": [
      "\r",
      "OMP Test Batch for noise_level = 0.12:  85%|████████▌ | 17/20 [07:13<02:12, 44.27s/it]"
     ]
    },
    {
     "name": "stderr",
     "output_type": "stream",
     "text": [
      "\r",
      "OMP Test Batch for noise_level = 0.05:  85%|████████▌ | 17/20 [07:19<01:47, 35.92s/it]"
     ]
    },
    {
     "name": "stderr",
     "output_type": "stream",
     "text": [
      "\r",
      "OMP Test Batch for noise_level = 0.16:  90%|█████████ | 18/20 [07:17<01:00, 30.22s/it]"
     ]
    },
    {
     "name": "stderr",
     "output_type": "stream",
     "text": [
      "\r",
      "OMP Test Batch for noise_level = 0.06:  90%|█████████ | 18/20 [07:29<01:02, 31.44s/it]"
     ]
    },
    {
     "name": "stderr",
     "output_type": "stream",
     "text": [
      "\r",
      "OMP Test Batch for noise_level = 0.14:  85%|████████▌ | 17/20 [07:26<01:53, 37.95s/it]"
     ]
    },
    {
     "name": "stderr",
     "output_type": "stream",
     "text": [
      "\r",
      "OMP Test Batch for noise_level = 0.20:  90%|█████████ | 18/20 [07:25<01:00, 30.24s/it]"
     ]
    },
    {
     "name": "stderr",
     "output_type": "stream",
     "text": [
      "\r",
      "OMP Test Batch for noise_level = 0.03:  90%|█████████ | 18/20 [07:34<01:02, 31.32s/it]"
     ]
    },
    {
     "name": "stderr",
     "output_type": "stream",
     "text": [
      "\r",
      "OMP Test Batch for noise_level = 0.02:  90%|█████████ | 18/20 [07:35<01:03, 31.91s/it]"
     ]
    },
    {
     "name": "stderr",
     "output_type": "stream",
     "text": [
      "\r",
      "OMP Test Batch for noise_level = 0.04:  90%|█████████ | 18/20 [07:34<01:03, 31.71s/it]"
     ]
    },
    {
     "name": "stderr",
     "output_type": "stream",
     "text": [
      "\r",
      "OMP Test Batch for noise_level = 0.01:  90%|█████████ | 18/20 [07:37<01:01, 30.99s/it]"
     ]
    },
    {
     "name": "stderr",
     "output_type": "stream",
     "text": [
      "\r",
      "OMP Test Batch for noise_level = 0.08:  90%|█████████ | 18/20 [07:35<01:28, 44.08s/it]"
     ]
    },
    {
     "name": "stderr",
     "output_type": "stream",
     "text": [
      "\r",
      "OMP Test Batch for noise_level = 0.07:  90%|█████████ | 18/20 [07:41<01:05, 32.70s/it]"
     ]
    },
    {
     "name": "stderr",
     "output_type": "stream",
     "text": [
      "\r",
      "OMP Test Batch for noise_level = 0.00:  90%|█████████ | 18/20 [07:51<01:32, 46.12s/it]"
     ]
    },
    {
     "name": "stderr",
     "output_type": "stream",
     "text": [
      "\r",
      "OMP Test Batch for noise_level = 0.16:  95%|█████████▌| 19/20 [07:48<00:30, 30.44s/it]"
     ]
    },
    {
     "name": "stderr",
     "output_type": "stream",
     "text": [
      "\r",
      "OMP Test Batch for noise_level = 0.06:  95%|█████████▌| 19/20 [08:02<00:31, 31.73s/it]"
     ]
    }
   ],
   "source": [
    "positionErrors3_20 = dictionary.ompPositionErrorPipeline(sparsity_level=3, batch_size=20, cores=50, verbose=False)"
   ]
  },
  {
   "cell_type": "code",
   "execution_count": null,
   "id": "bbfbfde3",
   "metadata": {
    "papermill": {
     "duration": null,
     "end_time": null,
     "exception": null,
     "start_time": null,
     "status": "pending"
    },
    "tags": []
   },
   "outputs": [],
   "source": [
    "plt.figure(figsize=(10, 6))\n",
    "\n",
    "# Pre-processing\n",
    "results_dict = positionErrors3_20\n",
    "# Génère des couleurs\n",
    "colors = plt.cm.viridis(np.linspace(0, 1, len(results_dict)))  \n",
    "\n",
    "# Définition des bins pour les erreurs de position\n",
    "max_error = max(max(counter.keys()) for counter in results_dict.values())\n",
    "min_error = min(min(counter.keys()) for counter in results_dict.values())\n",
    "bins = np.arange(min_error, max_error + 50, 50)  # Création des bins de 50 unités\n",
    "\n",
    "# Parcourir le dictionnaire de résultats et dessiner un histogramme pour chaque niveau de bruit\n",
    "for (noise_level, counter), color in zip(results_dict.items(), colors):\n",
    "    # Regroupement des erreurs par bins\n",
    "    errors, counts = zip(*counter.items())\n",
    "    summed_counts, _ = np.histogram(errors, bins=bins, weights=counts)\n",
    "    \n",
    "    # Normaliser pour faire un histogramme de densité\n",
    "    summed_counts = summed_counts / sum(summed_counts)\n",
    "\n",
    "    # Dessiner l'histogramme de densité\n",
    "    plt.bar(bins[:-1], summed_counts, color=color, alpha=0.8, label=f'Noise {noise_level:.2f}', width=45)\n",
    "\n",
    "plt.title('3 atoms/signal & 20 signals/batch')\n",
    "plt.xlabel('Position Error')\n",
    "plt.ylabel('Density')\n",
    "plt.xticks(bins)  # Définir les ticks sur les bins\n",
    "plt.legend(title=\"Noise Levels\")\n",
    "plt.grid(True)\n",
    "plt.show()"
   ]
  }
 ],
 "metadata": {
  "kernelspec": {
   "display_name": "phlamesenv",
   "language": "python",
   "name": "python3"
  },
  "language_info": {
   "codemirror_mode": {
    "name": "ipython",
    "version": 3
   },
   "file_extension": ".py",
   "mimetype": "text/x-python",
   "name": "python",
   "nbconvert_exporter": "python",
   "pygments_lexer": "ipython3",
   "version": "3.11.2"
  },
  "papermill": {
   "default_parameters": {},
   "duration": null,
   "end_time": null,
   "environment_variables": {},
   "exception": null,
   "input_path": "positionErr_s3_b20.ipynb",
   "output_path": "output_positionErr_s3_b20.ipynb",
   "parameters": {},
   "start_time": "2024-05-29T16:02:19.995577",
   "version": "2.6.0"
  }
 },
 "nbformat": 4,
 "nbformat_minor": 5
}