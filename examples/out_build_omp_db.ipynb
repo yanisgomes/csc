{
 "cells": [
  {
   "cell_type": "code",
   "execution_count": 1,
   "id": "9c03dff0",
   "metadata": {
    "execution": {
     "iopub.execute_input": "2024-06-05T14:37:46.503128Z",
     "iopub.status.busy": "2024-06-05T14:37:46.502913Z",
     "iopub.status.idle": "2024-06-05T14:37:47.549690Z",
     "shell.execute_reply": "2024-06-05T14:37:47.548971Z"
    },
    "papermill": {
     "duration": 1.051846,
     "end_time": "2024-06-05T14:37:47.552301",
     "exception": false,
     "start_time": "2024-06-05T14:37:46.500455",
     "status": "completed"
    },
    "tags": []
   },
   "outputs": [
    {
     "name": "stdout",
     "output_type": "stream",
     "text": [
      "The dictionary has 1428 different atoms\n"
     ]
    }
   ],
   "source": [
    "import json\n",
    "import numpy as np\n",
    "from tqdm import tqdm\n",
    "from csc.utils import *\n",
    "from csc.atoms import *\n",
    "from csc.dictionary import *\n",
    "from itertools import product\n",
    "import matplotlib.pyplot as plt\n",
    "\n",
    "\n",
    "# Atom parameters\n",
    "bmin = 0.005\n",
    "bmax = 0.60\n",
    "b_step = 0.005\n",
    "b_values = np.arange(bmin, bmax, b_step)\n",
    "\n",
    "ymin = 0.01\n",
    "ymax = 0.034\n",
    "y_step = 0.002\n",
    "y_values = np.arange(ymin, ymax, y_step)\n",
    "\n",
    "s_values = [1]\n",
    "\n",
    "dictionary = ZSDictionary.from_values(b_values, y_values, s_values)\n",
    "print('The dictionary has {} different atoms'.format(len(dictionary)))"
   ]
  },
  {
   "cell_type": "code",
   "execution_count": 2,
   "id": "72abf15c",
   "metadata": {
    "execution": {
     "iopub.execute_input": "2024-06-05T14:37:47.559733Z",
     "iopub.status.busy": "2024-06-05T14:37:47.559490Z",
     "iopub.status.idle": "2024-06-05T14:37:47.562952Z",
     "shell.execute_reply": "2024-06-05T14:37:47.562328Z"
    },
    "papermill": {
     "duration": 0.009571,
     "end_time": "2024-06-05T14:37:47.565371",
     "exception": false,
     "start_time": "2024-06-05T14:37:47.555800",
     "status": "completed"
    },
    "tags": []
   },
   "outputs": [],
   "source": [
    "batchSize = 200\n",
    "input_signals_db = f'/home/gomes/synthetic-data/data_signals_{batchSize}.json'\n",
    "output_omp_db = f'/home/gomes/synthetic-data/data_omp_{batchSize}.json'"
   ]
  },
  {
   "cell_type": "code",
   "execution_count": 3,
   "id": "48d73d70",
   "metadata": {
    "execution": {
     "iopub.execute_input": "2024-06-05T14:37:47.572211Z",
     "iopub.status.busy": "2024-06-05T14:37:47.572059Z",
     "iopub.status.idle": "2024-06-05T15:05:59.916070Z",
     "shell.execute_reply": "2024-06-05T15:05:59.914848Z"
    },
    "papermill": {
     "duration": 1692.349282,
     "end_time": "2024-06-05T15:05:59.917672",
     "exception": false,
     "start_time": "2024-06-05T14:37:47.568390",
     "status": "completed"
    },
    "tags": []
   },
   "outputs": [
    {
     "name": "stderr",
     "output_type": "stream",
     "text": [
      "\r",
      "OMP Pipeline from DB:   0%|                                                                                              | 0/3000 [00:00<?, ?it/s]"
     ]
    },
    {
     "name": "stderr",
     "output_type": "stream",
     "text": [
      "\r",
      "OMP Pipeline from DB:   2%|█▉                                                                                   | 70/3000 [00:01<00:56, 51.48it/s]"
     ]
    },
    {
     "name": "stderr",
     "output_type": "stream",
     "text": [
      "\r",
      "OMP Pipeline from DB:   5%|███▉                                                                                | 140/3000 [00:08<03:09, 15.06it/s]"
     ]
    },
    {
     "name": "stderr",
     "output_type": "stream",
     "text": [
      "\r",
      "OMP Pipeline from DB:   5%|███▉                                                                                | 140/3000 [00:20<03:09, 15.06it/s]"
     ]
    },
    {
     "name": "stderr",
     "output_type": "stream",
     "text": [
      "\r",
      "OMP Pipeline from DB:   7%|█████▉                                                                              | 210/3000 [00:35<10:01,  4.64it/s]"
     ]
    },
    {
     "name": "stderr",
     "output_type": "stream",
     "text": [
      "\r",
      "OMP Pipeline from DB:   9%|███████▊                                                                            | 280/3000 [01:03<12:58,  3.49it/s]"
     ]
    },
    {
     "name": "stderr",
     "output_type": "stream",
     "text": [
      "\r",
      "OMP Pipeline from DB:  12%|█████████▊                                                                          | 350/3000 [01:36<15:39,  2.82it/s]"
     ]
    },
    {
     "name": "stderr",
     "output_type": "stream",
     "text": [
      "\r",
      "OMP Pipeline from DB:  14%|███████████▊                                                                        | 420/3000 [02:14<18:02,  2.38it/s]"
     ]
    },
    {
     "name": "stderr",
     "output_type": "stream",
     "text": [
      "\r",
      "OMP Pipeline from DB:  16%|█████████████▋                                                                      | 490/3000 [02:53<19:15,  2.17it/s]"
     ]
    },
    {
     "name": "stderr",
     "output_type": "stream",
     "text": [
      "\r",
      "OMP Pipeline from DB:  19%|███████████████▋                                                                    | 560/3000 [03:40<21:34,  1.89it/s]"
     ]
    },
    {
     "name": "stderr",
     "output_type": "stream",
     "text": [
      "\r",
      "OMP Pipeline from DB:  21%|█████████████████▋                                                                  | 630/3000 [04:31<23:25,  1.69it/s]"
     ]
    },
    {
     "name": "stderr",
     "output_type": "stream",
     "text": [
      "\r",
      "OMP Pipeline from DB:  23%|███████████████████▌                                                                | 700/3000 [05:20<23:59,  1.60it/s]"
     ]
    },
    {
     "name": "stderr",
     "output_type": "stream",
     "text": [
      "\r",
      "OMP Pipeline from DB:  26%|█████████████████████▌                                                              | 770/3000 [05:51<21:03,  1.76it/s]"
     ]
    },
    {
     "name": "stderr",
     "output_type": "stream",
     "text": [
      "\r",
      "OMP Pipeline from DB:  28%|███████████████████████▌                                                            | 840/3000 [06:19<18:38,  1.93it/s]"
     ]
    },
    {
     "name": "stderr",
     "output_type": "stream",
     "text": [
      "\r",
      "OMP Pipeline from DB:  30%|█████████████████████████▍                                                          | 910/3000 [06:47<16:50,  2.07it/s]"
     ]
    },
    {
     "name": "stderr",
     "output_type": "stream",
     "text": [
      "\r",
      "OMP Pipeline from DB:  33%|███████████████████████████▍                                                        | 980/3000 [07:26<16:56,  1.99it/s]"
     ]
    },
    {
     "name": "stderr",
     "output_type": "stream",
     "text": [
      "\r",
      "OMP Pipeline from DB:  35%|█████████████████████████████                                                      | 1050/3000 [08:04<16:44,  1.94it/s]"
     ]
    },
    {
     "name": "stderr",
     "output_type": "stream",
     "text": [
      "\r",
      "OMP Pipeline from DB:  37%|██████████████████████████████▉                                                    | 1120/3000 [08:41<16:18,  1.92it/s]"
     ]
    },
    {
     "name": "stderr",
     "output_type": "stream",
     "text": [
      "\r",
      "OMP Pipeline from DB:  40%|████████████████████████████████▉                                                  | 1190/3000 [09:34<17:53,  1.69it/s]"
     ]
    },
    {
     "name": "stderr",
     "output_type": "stream",
     "text": [
      "\r",
      "OMP Pipeline from DB:  42%|██████████████████████████████████▊                                                | 1260/3000 [10:26<18:26,  1.57it/s]"
     ]
    },
    {
     "name": "stderr",
     "output_type": "stream",
     "text": [
      "\r",
      "OMP Pipeline from DB:  44%|████████████████████████████████████▊                                              | 1330/3000 [11:13<18:00,  1.55it/s]"
     ]
    },
    {
     "name": "stderr",
     "output_type": "stream",
     "text": [
      "\r",
      "OMP Pipeline from DB:  47%|██████████████████████████████████████▋                                            | 1400/3000 [11:37<14:46,  1.80it/s]"
     ]
    },
    {
     "name": "stderr",
     "output_type": "stream",
     "text": [
      "\r",
      "OMP Pipeline from DB:  49%|████████████████████████████████████████▋                                          | 1470/3000 [12:04<12:52,  1.98it/s]"
     ]
    },
    {
     "name": "stderr",
     "output_type": "stream",
     "text": [
      "\r",
      "OMP Pipeline from DB:  51%|██████████████████████████████████████████▌                                        | 1540/3000 [12:38<12:08,  2.00it/s]"
     ]
    },
    {
     "name": "stderr",
     "output_type": "stream",
     "text": [
      "\r",
      "OMP Pipeline from DB:  54%|████████████████████████████████████████████▌                                      | 1610/3000 [13:16<11:50,  1.96it/s]"
     ]
    },
    {
     "name": "stderr",
     "output_type": "stream",
     "text": [
      "\r",
      "OMP Pipeline from DB:  56%|██████████████████████████████████████████████▍                                    | 1680/3000 [13:54<11:27,  1.92it/s]"
     ]
    },
    {
     "name": "stderr",
     "output_type": "stream",
     "text": [
      "\r",
      "OMP Pipeline from DB:  58%|████████████████████████████████████████████████▍                                  | 1750/3000 [14:40<11:45,  1.77it/s]"
     ]
    },
    {
     "name": "stderr",
     "output_type": "stream",
     "text": [
      "\r",
      "OMP Pipeline from DB:  61%|██████████████████████████████████████████████████▎                                | 1820/3000 [15:31<12:01,  1.64it/s]"
     ]
    },
    {
     "name": "stderr",
     "output_type": "stream",
     "text": [
      "\r",
      "OMP Pipeline from DB:  63%|████████████████████████████████████████████████████▎                              | 1890/3000 [16:23<12:03,  1.53it/s]"
     ]
    },
    {
     "name": "stderr",
     "output_type": "stream",
     "text": [
      "\r",
      "OMP Pipeline from DB:  65%|██████████████████████████████████████████████████████▏                            | 1960/3000 [16:56<10:22,  1.67it/s]"
     ]
    },
    {
     "name": "stderr",
     "output_type": "stream",
     "text": [
      "\r",
      "OMP Pipeline from DB:  68%|████████████████████████████████████████████████████████▏                          | 2030/3000 [17:25<08:46,  1.84it/s]"
     ]
    },
    {
     "name": "stderr",
     "output_type": "stream",
     "text": [
      "\r",
      "OMP Pipeline from DB:  70%|██████████████████████████████████████████████████████████                         | 2100/3000 [17:53<07:29,  2.00it/s]"
     ]
    },
    {
     "name": "stderr",
     "output_type": "stream",
     "text": [
      "\r",
      "OMP Pipeline from DB:  72%|████████████████████████████████████████████████████████████                       | 2170/3000 [18:30<07:01,  1.97it/s]"
     ]
    },
    {
     "name": "stderr",
     "output_type": "stream",
     "text": [
      "\r",
      "OMP Pipeline from DB:  75%|█████████████████████████████████████████████████████████████▉                     | 2240/3000 [19:08<06:35,  1.92it/s]"
     ]
    },
    {
     "name": "stderr",
     "output_type": "stream",
     "text": [
      "\r",
      "OMP Pipeline from DB:  77%|███████████████████████████████████████████████████████████████▉                   | 2310/3000 [19:46<06:01,  1.91it/s]"
     ]
    },
    {
     "name": "stderr",
     "output_type": "stream",
     "text": [
      "\r",
      "OMP Pipeline from DB:  79%|█████████████████████████████████████████████████████████████████▊                 | 2380/3000 [20:39<06:08,  1.68it/s]"
     ]
    },
    {
     "name": "stderr",
     "output_type": "stream",
     "text": [
      "\r",
      "OMP Pipeline from DB:  82%|███████████████████████████████████████████████████████████████████▊               | 2450/3000 [21:31<05:51,  1.57it/s]"
     ]
    },
    {
     "name": "stderr",
     "output_type": "stream",
     "text": [
      "\r",
      "OMP Pipeline from DB:  84%|█████████████████████████████████████████████████████████████████████▋             | 2520/3000 [22:22<05:20,  1.50it/s]"
     ]
    },
    {
     "name": "stderr",
     "output_type": "stream",
     "text": [
      "\r",
      "OMP Pipeline from DB:  86%|███████████████████████████████████████████████████████████████████████▋           | 2590/3000 [22:45<03:51,  1.77it/s]"
     ]
    },
    {
     "name": "stderr",
     "output_type": "stream",
     "text": [
      "\r",
      "OMP Pipeline from DB:  89%|█████████████████████████████████████████████████████████████████████████▌         | 2660/3000 [23:14<02:56,  1.92it/s]"
     ]
    },
    {
     "name": "stderr",
     "output_type": "stream",
     "text": [
      "\r",
      "OMP Pipeline from DB:  91%|███████████████████████████████████████████████████████████████████████████▌       | 2730/3000 [23:42<02:10,  2.06it/s]"
     ]
    },
    {
     "name": "stderr",
     "output_type": "stream",
     "text": [
      "\r",
      "OMP Pipeline from DB:  93%|█████████████████████████████████████████████████████████████████████████████▍     | 2800/3000 [24:24<01:43,  1.93it/s]"
     ]
    },
    {
     "name": "stderr",
     "output_type": "stream",
     "text": [
      "\r",
      "OMP Pipeline from DB:  96%|███████████████████████████████████████████████████████████████████████████████▍   | 2870/3000 [25:01<01:08,  1.91it/s]"
     ]
    },
    {
     "name": "stderr",
     "output_type": "stream",
     "text": [
      "\r",
      "OMP Pipeline from DB:  98%|█████████████████████████████████████████████████████████████████████████████████▎ | 2940/3000 [25:46<00:33,  1.79it/s]"
     ]
    },
    {
     "name": "stderr",
     "output_type": "stream",
     "text": [
      "\r",
      "OMP Pipeline from DB: 100%|███████████████████████████████████████████████████████████████████████████████████| 3000/3000 [25:46<00:00,  1.94it/s]"
     ]
    },
    {
     "name": "stderr",
     "output_type": "stream",
     "text": [
      "\n"
     ]
    }
   ],
   "source": [
    "dictionary.ompPipelineFromDB(input_signals_db, output_omp_db, nb_cores=70, verbose=False)"
   ]
  }
 ],
 "metadata": {
  "kernelspec": {
   "display_name": "phlamesenv",
   "language": "python",
   "name": "python3"
  },
  "language_info": {
   "codemirror_mode": {
    "name": "ipython",
    "version": 3
   },
   "file_extension": ".py",
   "mimetype": "text/x-python",
   "name": "python",
   "nbconvert_exporter": "python",
   "pygments_lexer": "ipython3",
   "version": "3.11.2"
  },
  "papermill": {
   "default_parameters": {},
   "duration": 1696.742093,
   "end_time": "2024-06-05T15:06:02.541438",
   "environment_variables": {},
   "exception": null,
   "input_path": "build_omp_db.ipynb",
   "output_path": "out_build_omp_db.ipynb",
   "parameters": {},
   "start_time": "2024-06-05T14:37:45.799345",
   "version": "2.6.0"
  }
 },
 "nbformat": 4,
 "nbformat_minor": 5
}