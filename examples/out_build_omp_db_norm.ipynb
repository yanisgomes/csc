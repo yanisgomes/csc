{
 "cells": [
  {
   "cell_type": "code",
   "execution_count": 1,
   "id": "00acc30e",
   "metadata": {
    "execution": {
     "iopub.execute_input": "2024-06-10T15:25:02.527384Z",
     "iopub.status.busy": "2024-06-10T15:25:02.527077Z",
     "iopub.status.idle": "2024-06-10T15:25:03.565008Z",
     "shell.execute_reply": "2024-06-10T15:25:03.564264Z"
    },
    "papermill": {
     "duration": 1.043024,
     "end_time": "2024-06-10T15:25:03.567489",
     "exception": false,
     "start_time": "2024-06-10T15:25:02.524465",
     "status": "completed"
    },
    "tags": []
   },
   "outputs": [
    {
     "name": "stdout",
     "output_type": "stream",
     "text": [
      "The dictionary has 1428 different atoms\n"
     ]
    }
   ],
   "source": [
    "import json\n",
    "import numpy as np\n",
    "from tqdm import tqdm\n",
    "from csc.utils import *\n",
    "from csc.atoms import *\n",
    "from csc.dictionary import *\n",
    "from itertools import product\n",
    "import matplotlib.pyplot as plt\n",
    "\n",
    "\n",
    "# Atom parameters\n",
    "bmin = 0.005\n",
    "bmax = 0.60\n",
    "b_step = 0.005\n",
    "b_values = np.arange(bmin, bmax, b_step)\n",
    "\n",
    "ymin = 0.01\n",
    "ymax = 0.034\n",
    "y_step = 0.002\n",
    "y_values = np.arange(ymin, ymax, y_step)\n",
    "\n",
    "s_values = [1]\n",
    "\n",
    "dictionary = ZSDictionary.from_values(b_values, y_values, s_values)\n",
    "print('The dictionary has {} different atoms'.format(len(dictionary)))"
   ]
  },
  {
   "cell_type": "code",
   "execution_count": 2,
   "id": "3c2bc228",
   "metadata": {
    "execution": {
     "iopub.execute_input": "2024-06-10T15:25:03.574974Z",
     "iopub.status.busy": "2024-06-10T15:25:03.574672Z",
     "iopub.status.idle": "2024-06-10T15:25:03.578102Z",
     "shell.execute_reply": "2024-06-10T15:25:03.577475Z"
    },
    "papermill": {
     "duration": 0.009676,
     "end_time": "2024-06-10T15:25:03.580661",
     "exception": false,
     "start_time": "2024-06-10T15:25:03.570985",
     "status": "completed"
    },
    "tags": []
   },
   "outputs": [],
   "source": [
    "batchSize = 200\n",
    "input_signals_db = f'/home/gomes/synthetic-data/db_signals_{batchSize}.json'\n",
    "output_omp_db = f'/home/gomes/synthetic-data/db_omp_{batchSize}.json'"
   ]
  },
  {
   "cell_type": "code",
   "execution_count": 3,
   "id": "b0a730e2",
   "metadata": {
    "execution": {
     "iopub.execute_input": "2024-06-10T15:25:03.587456Z",
     "iopub.status.busy": "2024-06-10T15:25:03.587261Z",
     "iopub.status.idle": "2024-06-10T15:53:25.075504Z",
     "shell.execute_reply": "2024-06-10T15:53:25.074203Z"
    },
    "papermill": {
     "duration": 1701.49586,
     "end_time": "2024-06-10T15:53:25.079586",
     "exception": false,
     "start_time": "2024-06-10T15:25:03.583726",
     "status": "completed"
    },
    "tags": []
   },
   "outputs": [
    {
     "name": "stderr",
     "output_type": "stream",
     "text": [
      "\r",
      "OMP Pipeline from DB:   0%|                                                                                                        | 0/3000 [00:00<?, ?it/s]"
     ]
    },
    {
     "name": "stderr",
     "output_type": "stream",
     "text": [
      "\r",
      "OMP Pipeline from DB:   2%|██▏                                                                                            | 70/3000 [00:01<00:51, 57.37it/s]"
     ]
    },
    {
     "name": "stderr",
     "output_type": "stream",
     "text": [
      "\r",
      "OMP Pipeline from DB:   5%|████▍                                                                                         | 140/3000 [00:07<02:54, 16.38it/s]"
     ]
    },
    {
     "name": "stderr",
     "output_type": "stream",
     "text": [
      "\r",
      "OMP Pipeline from DB:   5%|████▍                                                                                         | 140/3000 [00:20<02:54, 16.38it/s]"
     ]
    },
    {
     "name": "stderr",
     "output_type": "stream",
     "text": [
      "\r",
      "OMP Pipeline from DB:   7%|██████▌                                                                                       | 210/3000 [00:35<10:04,  4.62it/s]"
     ]
    },
    {
     "name": "stderr",
     "output_type": "stream",
     "text": [
      "\r",
      "OMP Pipeline from DB:   9%|████████▊                                                                                     | 280/3000 [01:02<12:48,  3.54it/s]"
     ]
    },
    {
     "name": "stderr",
     "output_type": "stream",
     "text": [
      "\r",
      "OMP Pipeline from DB:  12%|██████████▉                                                                                   | 350/3000 [01:36<15:40,  2.82it/s]"
     ]
    },
    {
     "name": "stderr",
     "output_type": "stream",
     "text": [
      "\r",
      "OMP Pipeline from DB:  14%|█████████████▏                                                                                | 420/3000 [02:15<18:19,  2.35it/s]"
     ]
    },
    {
     "name": "stderr",
     "output_type": "stream",
     "text": [
      "\r",
      "OMP Pipeline from DB:  16%|███████████████▎                                                                              | 490/3000 [02:53<19:20,  2.16it/s]"
     ]
    },
    {
     "name": "stderr",
     "output_type": "stream",
     "text": [
      "\r",
      "OMP Pipeline from DB:  19%|█████████████████▌                                                                            | 560/3000 [03:41<21:39,  1.88it/s]"
     ]
    },
    {
     "name": "stderr",
     "output_type": "stream",
     "text": [
      "\r",
      "OMP Pipeline from DB:  21%|███████████████████▋                                                                          | 630/3000 [04:33<23:36,  1.67it/s]"
     ]
    },
    {
     "name": "stderr",
     "output_type": "stream",
     "text": [
      "\r",
      "OMP Pipeline from DB:  23%|█████████████████████▉                                                                        | 700/3000 [05:21<24:02,  1.59it/s]"
     ]
    },
    {
     "name": "stderr",
     "output_type": "stream",
     "text": [
      "\r",
      "OMP Pipeline from DB:  26%|████████████████████████▏                                                                     | 770/3000 [05:53<21:18,  1.74it/s]"
     ]
    },
    {
     "name": "stderr",
     "output_type": "stream",
     "text": [
      "\r",
      "OMP Pipeline from DB:  28%|██████████████████████████▎                                                                   | 840/3000 [06:21<18:46,  1.92it/s]"
     ]
    },
    {
     "name": "stderr",
     "output_type": "stream",
     "text": [
      "\r",
      "OMP Pipeline from DB:  30%|████████████████████████████▌                                                                 | 910/3000 [06:49<16:56,  2.06it/s]"
     ]
    },
    {
     "name": "stderr",
     "output_type": "stream",
     "text": [
      "\r",
      "OMP Pipeline from DB:  33%|██████████████████████████████▋                                                               | 980/3000 [07:28<17:03,  1.97it/s]"
     ]
    },
    {
     "name": "stderr",
     "output_type": "stream",
     "text": [
      "\r",
      "OMP Pipeline from DB:  35%|████████████████████████████████▌                                                            | 1050/3000 [08:05<16:42,  1.94it/s]"
     ]
    },
    {
     "name": "stderr",
     "output_type": "stream",
     "text": [
      "\r",
      "OMP Pipeline from DB:  37%|██████████████████████████████████▋                                                          | 1120/3000 [08:43<16:20,  1.92it/s]"
     ]
    },
    {
     "name": "stderr",
     "output_type": "stream",
     "text": [
      "\r",
      "OMP Pipeline from DB:  40%|████████████████████████████████████▉                                                        | 1190/3000 [09:39<18:13,  1.66it/s]"
     ]
    },
    {
     "name": "stderr",
     "output_type": "stream",
     "text": [
      "\r",
      "OMP Pipeline from DB:  42%|███████████████████████████████████████                                                      | 1260/3000 [10:31<18:42,  1.55it/s]"
     ]
    },
    {
     "name": "stderr",
     "output_type": "stream",
     "text": [
      "\r",
      "OMP Pipeline from DB:  44%|█████████████████████████████████████████▏                                                   | 1330/3000 [11:18<18:12,  1.53it/s]"
     ]
    },
    {
     "name": "stderr",
     "output_type": "stream",
     "text": [
      "\r",
      "OMP Pipeline from DB:  47%|███████████████████████████████████████████▍                                                 | 1400/3000 [11:41<14:49,  1.80it/s]"
     ]
    },
    {
     "name": "stderr",
     "output_type": "stream",
     "text": [
      "\r",
      "OMP Pipeline from DB:  49%|█████████████████████████████████████████████▌                                               | 1470/3000 [12:10<13:05,  1.95it/s]"
     ]
    },
    {
     "name": "stderr",
     "output_type": "stream",
     "text": [
      "\r",
      "OMP Pipeline from DB:  51%|███████████████████████████████████████████████▋                                             | 1540/3000 [12:43<12:10,  2.00it/s]"
     ]
    },
    {
     "name": "stderr",
     "output_type": "stream",
     "text": [
      "\r",
      "OMP Pipeline from DB:  54%|█████████████████████████████████████████████████▉                                           | 1610/3000 [13:21<11:54,  1.95it/s]"
     ]
    },
    {
     "name": "stderr",
     "output_type": "stream",
     "text": [
      "\r",
      "OMP Pipeline from DB:  56%|████████████████████████████████████████████████████                                         | 1680/3000 [13:59<11:31,  1.91it/s]"
     ]
    },
    {
     "name": "stderr",
     "output_type": "stream",
     "text": [
      "\r",
      "OMP Pipeline from DB:  58%|██████████████████████████████████████████████████████▎                                      | 1750/3000 [14:47<11:55,  1.75it/s]"
     ]
    },
    {
     "name": "stderr",
     "output_type": "stream",
     "text": [
      "\r",
      "OMP Pipeline from DB:  58%|██████████████████████████████████████████████████████▎                                      | 1751/3000 [14:47<11:51,  1.76it/s]"
     ]
    },
    {
     "name": "stderr",
     "output_type": "stream",
     "text": [
      "\r",
      "OMP Pipeline from DB:  58%|██████████████████████████████████████████████████████▎                                      | 1751/3000 [15:00<11:51,  1.76it/s]"
     ]
    },
    {
     "name": "stderr",
     "output_type": "stream",
     "text": [
      "\r",
      "OMP Pipeline from DB:  61%|████████████████████████████████████████████████████████▍                                    | 1820/3000 [15:38<12:25,  1.58it/s]"
     ]
    },
    {
     "name": "stderr",
     "output_type": "stream",
     "text": [
      "\r",
      "OMP Pipeline from DB:  63%|██████████████████████████████████████████████████████████▌                                  | 1890/3000 [16:32<12:35,  1.47it/s]"
     ]
    },
    {
     "name": "stderr",
     "output_type": "stream",
     "text": [
      "\r",
      "OMP Pipeline from DB:  65%|████████████████████████████████████████████████████████████▊                                | 1960/3000 [17:04<10:31,  1.65it/s]"
     ]
    },
    {
     "name": "stderr",
     "output_type": "stream",
     "text": [
      "\r",
      "OMP Pipeline from DB:  68%|██████████████████████████████████████████████████████████████▉                              | 2030/3000 [17:32<08:41,  1.86it/s]"
     ]
    },
    {
     "name": "stderr",
     "output_type": "stream",
     "text": [
      "\r",
      "OMP Pipeline from DB:  70%|█████████████████████████████████████████████████████████████████                            | 2100/3000 [18:00<07:26,  2.01it/s]"
     ]
    },
    {
     "name": "stderr",
     "output_type": "stream",
     "text": [
      "\r",
      "OMP Pipeline from DB:  72%|███████████████████████████████████████████████████████████████████▎                         | 2170/3000 [18:37<07:00,  1.97it/s]"
     ]
    },
    {
     "name": "stderr",
     "output_type": "stream",
     "text": [
      "\r",
      "OMP Pipeline from DB:  72%|███████████████████████████████████████████████████████████████████▎                         | 2171/3000 [18:37<06:58,  1.98it/s]"
     ]
    },
    {
     "name": "stderr",
     "output_type": "stream",
     "text": [
      "\r",
      "OMP Pipeline from DB:  72%|███████████████████████████████████████████████████████████████████▎                         | 2171/3000 [18:50<06:58,  1.98it/s]"
     ]
    },
    {
     "name": "stderr",
     "output_type": "stream",
     "text": [
      "\r",
      "OMP Pipeline from DB:  75%|█████████████████████████████████████████████████████████████████████▍                       | 2240/3000 [19:16<06:40,  1.90it/s]"
     ]
    },
    {
     "name": "stderr",
     "output_type": "stream",
     "text": [
      "\r",
      "OMP Pipeline from DB:  77%|███████████████████████████████████████████████████████████████████████▌                     | 2310/3000 [19:54<06:05,  1.89it/s]"
     ]
    },
    {
     "name": "stderr",
     "output_type": "stream",
     "text": [
      "\r",
      "OMP Pipeline from DB:  79%|█████████████████████████████████████████████████████████████████████████▊                   | 2380/3000 [20:46<06:14,  1.65it/s]"
     ]
    },
    {
     "name": "stderr",
     "output_type": "stream",
     "text": [
      "\r",
      "OMP Pipeline from DB:  79%|█████████████████████████████████████████████████████████████████████████▊                   | 2381/3000 [20:47<06:12,  1.66it/s]"
     ]
    },
    {
     "name": "stderr",
     "output_type": "stream",
     "text": [
      "\r",
      "OMP Pipeline from DB:  79%|█████████████████████████████████████████████████████████████████████████▊                   | 2381/3000 [21:00<06:12,  1.66it/s]"
     ]
    },
    {
     "name": "stderr",
     "output_type": "stream",
     "text": [
      "\r",
      "OMP Pipeline from DB:  82%|███████████████████████████████████████████████████████████████████████████▉                 | 2450/3000 [21:39<06:04,  1.51it/s]"
     ]
    },
    {
     "name": "stderr",
     "output_type": "stream",
     "text": [
      "\r",
      "OMP Pipeline from DB:  84%|██████████████████████████████████████████████████████████████████████████████               | 2520/3000 [22:31<05:32,  1.44it/s]"
     ]
    },
    {
     "name": "stderr",
     "output_type": "stream",
     "text": [
      "\r",
      "OMP Pipeline from DB:  86%|████████████████████████████████████████████████████████████████████████████████▎            | 2590/3000 [22:53<03:51,  1.77it/s]"
     ]
    },
    {
     "name": "stderr",
     "output_type": "stream",
     "text": [
      "\r",
      "OMP Pipeline from DB:  89%|██████████████████████████████████████████████████████████████████████████████████▍          | 2660/3000 [23:21<02:54,  1.95it/s]"
     ]
    },
    {
     "name": "stderr",
     "output_type": "stream",
     "text": [
      "\r",
      "OMP Pipeline from DB:  91%|████████████████████████████████████████████████████████████████████████████████████▋        | 2730/3000 [23:50<02:08,  2.10it/s]"
     ]
    },
    {
     "name": "stderr",
     "output_type": "stream",
     "text": [
      "\r",
      "OMP Pipeline from DB:  93%|██████████████████████████████████████████████████████████████████████████████████████▊      | 2800/3000 [24:32<01:43,  1.94it/s]"
     ]
    },
    {
     "name": "stderr",
     "output_type": "stream",
     "text": [
      "\r",
      "OMP Pipeline from DB:  96%|████████████████████████████████████████████████████████████████████████████████████████▉    | 2870/3000 [25:10<01:08,  1.91it/s]"
     ]
    },
    {
     "name": "stderr",
     "output_type": "stream",
     "text": [
      "\r",
      "OMP Pipeline from DB:  98%|███████████████████████████████████████████████████████████████████████████████████████████▏ | 2940/3000 [25:54<00:33,  1.79it/s]"
     ]
    },
    {
     "name": "stderr",
     "output_type": "stream",
     "text": [
      "\r",
      "OMP Pipeline from DB: 100%|█████████████████████████████████████████████████████████████████████████████████████████████| 3000/3000 [25:54<00:00,  1.93it/s]"
     ]
    },
    {
     "name": "stderr",
     "output_type": "stream",
     "text": [
      "\n"
     ]
    }
   ],
   "source": [
    "dictionary.ompPipelineFromDB(input_signals_db, output_omp_db, nb_cores=70, verbose=False)"
   ]
  }
 ],
 "metadata": {
  "kernelspec": {
   "display_name": "phlamesenv",
   "language": "python",
   "name": "python3"
  },
  "language_info": {
   "codemirror_mode": {
    "name": "ipython",
    "version": 3
   },
   "file_extension": ".py",
   "mimetype": "text/x-python",
   "name": "python",
   "nbconvert_exporter": "python",
   "pygments_lexer": "ipython3",
   "version": "3.11.2"
  },
  "papermill": {
   "default_parameters": {},
   "duration": 1705.889692,
   "end_time": "2024-06-10T15:53:27.715594",
   "environment_variables": {},
   "exception": null,
   "input_path": "build_omp_db.ipynb",
   "output_path": "out_build_omp_db_norm.ipynb",
   "parameters": {},
   "start_time": "2024-06-10T15:25:01.825902",
   "version": "2.6.0"
  }
 },
 "nbformat": 4,
 "nbformat_minor": 5
}