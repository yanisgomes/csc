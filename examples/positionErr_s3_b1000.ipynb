{
 "cells": [
  {
   "cell_type": "markdown",
   "metadata": {},
   "source": [
    "### Erreur en position ``sparsity_level = 3`` & ``batch_size = 1000``"
   ]
  },
  {
   "cell_type": "code",
   "execution_count": 1,
   "metadata": {},
   "outputs": [
    {
     "name": "stdout",
     "output_type": "stream",
     "text": [
      "The dictionary has 1428 different atoms\n"
     ]
    }
   ],
   "source": [
    "import numpy as np\n",
    "import pandas as pd\n",
    "from numba import njit\n",
    "from csc.atoms import *\n",
    "from csc.dictionary import *\n",
    "import matplotlib.pyplot as plt\n",
    "\n",
    "# atom parameters\n",
    "bmin = 0.005\n",
    "bmax = 0.60\n",
    "b_step = 0.005\n",
    "b_values = np.arange(bmin, bmax, b_step)\n",
    "\n",
    "ymin = 0.01\n",
    "ymax = 0.034\n",
    "y_step = 0.002\n",
    "y_values = np.arange(ymin, ymax, y_step)\n",
    "\n",
    "s_values = [1]\n",
    "\n",
    "dictionary = ZSDictionary.from_values(b_values, y_values, s_values)\n",
    "print('The dictionary has {} different atoms'.format(len(dictionary)))"
   ]
  },
  {
   "cell_type": "code",
   "execution_count": null,
   "metadata": {},
   "outputs": [],
   "source": [
    "positionErrors3_100 = dictionary.ompPositionErrorPipeline(sparsity_level=3, batch_size=1000, cores=50, verbose=False)"
   ]
  },
  {
   "cell_type": "code",
   "execution_count": null,
   "metadata": {},
   "outputs": [],
   "source": [
    "plt.figure(figsize=(10, 6))\n",
    "\n",
    "# Pre-processing\n",
    "results_dict = positionErrors3_100\n",
    "# Génère des couleurs\n",
    "colors = plt.cm.viridis(np.linspace(0, 1, len(results_dict)))  \n",
    "\n",
    "# Définition des bins pour les erreurs de position\n",
    "max_error = max(max(counter.keys()) for counter in results_dict.values())\n",
    "min_error = min(min(counter.keys()) for counter in results_dict.values())\n",
    "bins = np.arange(min_error, max_error + 50, 50)  # Création des bins de 50 unités\n",
    "\n",
    "# Parcourir le dictionnaire de résultats et dessiner un histogramme pour chaque niveau de bruit\n",
    "for (noise_level, counter), color in zip(results_dict.items(), colors):\n",
    "    # Regroupement des erreurs par bins\n",
    "    errors, counts = zip(*counter.items())\n",
    "    summed_counts, _ = np.histogram(errors, bins=bins, weights=counts)\n",
    "    \n",
    "    # Normaliser pour faire un histogramme de densité\n",
    "    summed_counts = summed_counts / sum(summed_counts)\n",
    "\n",
    "    # Dessiner l'histogramme de densité\n",
    "    plt.bar(bins[:-1], summed_counts, color=color, alpha=0.8, label=f'Noise {noise_level:.2f}', width=45)\n",
    "\n",
    "plt.title('3 atoms/signal & 20 signals/batch')\n",
    "plt.xlabel('Position Error')\n",
    "plt.ylabel('Density')\n",
    "plt.xticks(bins)  # Définir les ticks sur les bins\n",
    "plt.legend(title=\"Noise Levels\")\n",
    "plt.grid(True)\n",
    "plt.show()"
   ]
  }
 ],
 "metadata": {
  "kernelspec": {
   "display_name": "phlamesenv",
   "language": "python",
   "name": "python3"
  },
  "language_info": {
   "codemirror_mode": {
    "name": "ipython",
    "version": 3
   },
   "file_extension": ".py",
   "mimetype": "text/x-python",
   "name": "python",
   "nbconvert_exporter": "python",
   "pygments_lexer": "ipython3",
   "version": "3.11.2"
  }
 },
 "nbformat": 4,
 "nbformat_minor": 2
}
