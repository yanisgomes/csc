{
 "cells": [
  {
   "cell_type": "markdown",
   "id": "4fcf16dc",
   "metadata": {
    "papermill": {
     "duration": 0.004713,
     "end_time": "2024-05-31T08:49:03.048767",
     "exception": false,
     "start_time": "2024-05-31T08:49:03.044054",
     "status": "completed"
    },
    "tags": []
   },
   "source": [
    "### Erreur en position ``sparsity_level = 3`` & ``batch_size = 200``"
   ]
  },
  {
   "cell_type": "code",
   "execution_count": 1,
   "id": "c56c3f72",
   "metadata": {
    "execution": {
     "iopub.execute_input": "2024-05-31T08:49:03.061300Z",
     "iopub.status.busy": "2024-05-31T08:49:03.060497Z",
     "iopub.status.idle": "2024-05-31T08:49:07.324218Z",
     "shell.execute_reply": "2024-05-31T08:49:07.322651Z"
    },
    "papermill": {
     "duration": 4.273357,
     "end_time": "2024-05-31T08:49:07.327652",
     "exception": false,
     "start_time": "2024-05-31T08:49:03.054295",
     "status": "completed"
    },
    "tags": []
   },
   "outputs": [
    {
     "name": "stdout",
     "output_type": "stream",
     "text": [
      "The dictionary has 1428 different atoms\n"
     ]
    }
   ],
   "source": [
    "import numpy as np\n",
    "import pandas as pd\n",
    "from numba import njit\n",
    "from csc.atoms import *\n",
    "from csc.dictionary import *\n",
    "import matplotlib.pyplot as plt\n",
    "\n",
    "# atom parameters\n",
    "bmin = 0.005\n",
    "bmax = 0.60\n",
    "b_step = 0.005\n",
    "b_values = np.arange(bmin, bmax, b_step)\n",
    "\n",
    "ymin = 0.01\n",
    "ymax = 0.034\n",
    "y_step = 0.002\n",
    "y_values = np.arange(ymin, ymax, y_step)\n",
    "\n",
    "s_values = [1]\n",
    "\n",
    "dictionary = ZSDictionary.from_values(b_values, y_values, s_values)\n",
    "print('The dictionary has {} different atoms'.format(len(dictionary)))"
   ]
  },
  {
   "cell_type": "code",
   "execution_count": 2,
   "id": "f381bb09",
   "metadata": {
    "execution": {
     "iopub.execute_input": "2024-05-31T08:49:07.338281Z",
     "iopub.status.busy": "2024-05-31T08:49:07.337240Z",
     "iopub.status.idle": "2024-05-31T12:15:19.382174Z",
     "shell.execute_reply": "2024-05-31T12:15:19.380146Z"
    },
    "papermill": {
     "duration": 12372.448211,
     "end_time": "2024-05-31T12:15:19.780974",
     "exception": false,
     "start_time": "2024-05-31T08:49:07.332763",
     "status": "completed"
    },
    "tags": []
   },
   "outputs": [
    {
     "name": "stderr",
     "output_type": "stream",
     "text": [
      "\r",
      "OMP Test Batch for noise_level = 0.00:   0%|          | 0/200 [00:00<?, ?it/s]"
     ]
    },
    {
     "name": "stderr",
     "output_type": "stream",
     "text": [
      "\r",
      "OMP Test Batch for noise_level = 0.01:   0%|          | 0/200 [00:00<?, ?it/s]"
     ]
    },
    {
     "name": "stderr",
     "output_type": "stream",
     "text": [
      "\r",
      "OMP Test Batch for noise_level = 0.02:   0%|          | 0/200 [00:00<?, ?it/s]"
     ]
    },
    {
     "name": "stderr",
     "output_type": "stream",
     "text": [
      "\r",
      "OMP Test Batch for noise_level = 0.03:   0%|          | 0/200 [00:00<?, ?it/s]"
     ]
    },
    {
     "name": "stderr",
     "output_type": "stream",
     "text": [
      "\r",
      "OMP Test Batch for noise_level = 0.04:   0%|          | 0/200 [00:00<?, ?it/s]"
     ]
    },
    {
     "name": "stderr",
     "output_type": "stream",
     "text": [
      "\r",
      "OMP Test Batch for noise_level = 0.05:   0%|          | 0/200 [00:00<?, ?it/s]"
     ]
    },
    {
     "name": "stderr",
     "output_type": "stream",
     "text": [
      "\r",
      "OMP Test Batch for noise_level = 0.06:   0%|          | 0/200 [00:00<?, ?it/s]"
     ]
    },
    {
     "name": "stderr",
     "output_type": "stream",
     "text": [
      "\r",
      "OMP Test Batch for noise_level = 0.07:   0%|          | 0/200 [00:00<?, ?it/s]"
     ]
    },
    {
     "name": "stderr",
     "output_type": "stream",
     "text": [
      "\r",
      "OMP Test Batch for noise_level = 0.08:   0%|          | 0/200 [00:00<?, ?it/s]"
     ]
    },
    {
     "name": "stderr",
     "output_type": "stream",
     "text": [
      "\r",
      "OMP Test Batch for noise_level = 0.09:   0%|          | 0/200 [00:00<?, ?it/s]"
     ]
    },
    {
     "name": "stderr",
     "output_type": "stream",
     "text": [
      "\r",
      "OMP Test Batch for noise_level = 0.10:   0%|          | 0/200 [00:00<?, ?it/s]"
     ]
    },
    {
     "name": "stderr",
     "output_type": "stream",
     "text": [
      "\r",
      "OMP Test Batch for noise_level = 0.12:   0%|          | 0/200 [00:00<?, ?it/s]"
     ]
    },
    {
     "name": "stderr",
     "output_type": "stream",
     "text": [
      "\r",
      "OMP Test Batch for noise_level = 0.14:   0%|          | 0/200 [00:00<?, ?it/s]"
     ]
    },
    {
     "name": "stderr",
     "output_type": "stream",
     "text": [
      "\r",
      "OMP Test Batch for noise_level = 0.16:   0%|          | 0/200 [00:00<?, ?it/s]"
     ]
    },
    {
     "name": "stderr",
     "output_type": "stream",
     "text": [
      "\r",
      "OMP Test Batch for noise_level = 0.18:   0%|          | 0/200 [00:00<?, ?it/s]"
     ]
    },
    {
     "name": "stderr",
     "output_type": "stream",
     "text": [
      "\r",
      "OMP Test Batch for noise_level = 0.20:   0%|          | 0/200 [00:00<?, ?it/s]"
     ]
    },
    {
     "name": "stderr",
     "output_type": "stream",
     "text": [
      "\r",
      "OMP Test Batch for noise_level = 0.00:   0%|          | 1/200 [01:02<3:27:21, 62.52s/it]"
     ]
    },
    {
     "name": "stderr",
     "output_type": "stream",
     "text": [
      "\r",
      "OMP Test Batch for noise_level = 0.01:   0%|          | 1/200 [01:03<3:31:54, 63.89s/it]"
     ]
    },
    {
     "name": "stderr",
     "output_type": "stream",
     "text": [
      "\r",
      "OMP Test Batch for noise_level = 0.02:   0%|          | 1/200 [01:04<3:34:31, 64.68s/it]"
     ]
    },
    {
     "name": "stderr",
     "output_type": "stream",
     "text": [
      "\r",
      "OMP Test Batch for noise_level = 0.07:   0%|          | 1/200 [01:03<3:30:51, 63.57s/it]"
     ]
    },
    {
     "name": "stderr",
     "output_type": "stream",
     "text": [
      "\r",
      "OMP Test Batch for noise_level = 0.03:   0%|          | 1/200 [01:07<3:44:44, 67.76s/it]"
     ]
    },
    {
     "name": "stderr",
     "output_type": "stream",
     "text": [
      "\r",
      "OMP Test Batch for noise_level = 0.04:   0%|          | 1/200 [01:09<3:49:00, 69.05s/it]"
     ]
    },
    {
     "name": "stderr",
     "output_type": "stream",
     "text": [
      "\r",
      "OMP Test Batch for noise_level = 0.05:   0%|          | 1/200 [01:08<3:48:00, 68.74s/it]"
     ]
    },
    {
     "name": "stderr",
     "output_type": "stream",
     "text": [
      "\r",
      "OMP Test Batch for noise_level = 0.09:   0%|          | 1/200 [01:07<3:44:22, 67.65s/it]\r",
      "OMP Test Batch for noise_level = 0.06:   0%|          | 1/200 [01:10<3:53:49, 70.50s/it]"
     ]
    },
    {
     "name": "stderr",
     "output_type": "stream",
     "text": [
      "\r",
      "OMP Test Batch for noise_level = 0.10:   0%|          | 1/200 [01:13<4:03:56, 73.55s/it]"
     ]
    },
    {
     "name": "stderr",
     "output_type": "stream",
     "text": [
      "\r",
      "OMP Test Batch for noise_level = 0.08:   0%|          | 1/200 [01:15<4:10:35, 75.56s/it]"
     ]
    },
    {
     "name": "stderr",
     "output_type": "stream",
     "text": [
      "\r",
      "OMP Test Batch for noise_level = 0.20:   0%|          | 1/200 [01:11<3:55:41, 71.06s/it]"
     ]
    },
    {
     "name": "stderr",
     "output_type": "stream",
     "text": [
      "\r",
      "OMP Test Batch for noise_level = 0.14:   0%|          | 1/200 [01:17<4:18:29, 77.94s/it]"
     ]
    },
    {
     "name": "stderr",
     "output_type": "stream",
     "text": [
      "\r",
      "OMP Test Batch for noise_level = 0.12:   0%|          | 1/200 [01:20<4:28:02, 80.82s/it]"
     ]
    },
    {
     "name": "stderr",
     "output_type": "stream",
     "text": [
      "\r",
      "OMP Test Batch for noise_level = 0.18:   0%|          | 1/200 [01:21<4:31:09, 81.76s/it]"
     ]
    },
    {
     "name": "stderr",
     "output_type": "stream",
     "text": [
      "\r",
      "OMP Test Batch for noise_level = 0.16:   0%|          | 1/200 [01:24<4:41:51, 84.98s/it]"
     ]
    },
    {
     "name": "stderr",
     "output_type": "stream",
     "text": [
      "\r",
      "OMP Test Batch for noise_level = 0.00:   1%|          | 2/200 [02:37<4:29:28, 81.66s/it]"
     ]
    },
    {
     "name": "stderr",
     "output_type": "stream",
     "text": [
      "\r",
      "OMP Test Batch for noise_level = 0.03:   1%|          | 2/200 [02:43<4:37:36, 84.13s/it]"
     ]
    },
    {
     "name": "stderr",
     "output_type": "stream",
     "text": [
      "\r",
      "OMP Test Batch for noise_level = 0.02:   1%|          | 2/200 [02:46<4:45:47, 86.60s/it]\r",
      "OMP Test Batch for noise_level = 0.01:   1%|          | 2/200 [02:47<4:47:57, 87.26s/it]"
     ]
    },
    {
     "name": "stderr",
     "output_type": "stream",
     "text": [
      "\r",
      "OMP Test Batch for noise_level = 0.04:   1%|          | 2/200 [02:56<5:02:11, 91.57s/it]"
     ]
    },
    {
     "name": "stderr",
     "output_type": "stream",
     "text": [
      "\r",
      "OMP Test Batch for noise_level = 0.07:   1%|          | 2/200 [02:55<5:02:59, 91.82s/it]"
     ]
    },
    {
     "name": "stderr",
     "output_type": "stream",
     "text": [
      "\r",
      "OMP Test Batch for noise_level = 0.06:   1%|          | 2/200 [03:02<5:12:41, 94.75s/it]"
     ]
    },
    {
     "name": "stderr",
     "output_type": "stream",
     "text": [
      "\r",
      "OMP Test Batch for noise_level = 0.05:   1%|          | 2/200 [03:04<5:18:15, 96.44s/it]"
     ]
    },
    {
     "name": "stderr",
     "output_type": "stream",
     "text": [
      "\r",
      "OMP Test Batch for noise_level = 0.10:   1%|          | 2/200 [03:03<5:14:13, 95.22s/it]"
     ]
    },
    {
     "name": "stderr",
     "output_type": "stream",
     "text": [
      "\r",
      "OMP Test Batch for noise_level = 0.14:   1%|          | 2/200 [03:03<5:11:26, 94.38s/it]"
     ]
    },
    {
     "name": "stderr",
     "output_type": "stream",
     "text": [
      "\r",
      "OMP Test Batch for noise_level = 0.09:   1%|          | 2/200 [03:08<5:25:57, 98.78s/it]"
     ]
    },
    {
     "name": "stderr",
     "output_type": "stream",
     "text": [
      "\r",
      "OMP Test Batch for noise_level = 0.20:   1%|          | 2/200 [03:06<5:20:11, 97.03s/it]"
     ]
    },
    {
     "name": "stderr",
     "output_type": "stream",
     "text": [
      "\r",
      "OMP Test Batch for noise_level = 0.08:   1%|          | 2/200 [03:16<5:37:33, 102.29s/it]"
     ]
    },
    {
     "name": "stderr",
     "output_type": "stream",
     "text": [
      "\r",
      "OMP Test Batch for noise_level = 0.18:   1%|          | 2/200 [03:24<5:48:57, 105.75s/it]"
     ]
    },
    {
     "name": "stderr",
     "output_type": "stream",
     "text": [
      "\r",
      "OMP Test Batch for noise_level = 0.12:   1%|          | 2/200 [03:27<5:55:28, 107.72s/it]"
     ]
    },
    {
     "name": "stderr",
     "output_type": "stream",
     "text": [
      "\r",
      "OMP Test Batch for noise_level = 0.16:   1%|          | 2/200 [03:29<5:56:51, 108.14s/it]"
     ]
    },
    {
     "name": "stderr",
     "output_type": "stream",
     "text": [
      "\r",
      "OMP Test Batch for noise_level = 0.00:   2%|▏         | 3/200 [04:40<5:29:57, 100.50s/it]"
     ]
    },
    {
     "name": "stderr",
     "output_type": "stream",
     "text": [
      "\r",
      "OMP Test Batch for noise_level = 0.01:   2%|▏         | 3/200 [04:44<5:31:11, 100.87s/it]"
     ]
    },
    {
     "name": "stderr",
     "output_type": "stream",
     "text": [
      "\r",
      "OMP Test Batch for noise_level = 0.02:   2%|▏         | 3/200 [04:51<5:41:42, 104.07s/it]"
     ]
    },
    {
     "name": "stderr",
     "output_type": "stream",
     "text": [
      "\r",
      "OMP Test Batch for noise_level = 0.03:   2%|▏         | 3/200 [04:54<5:46:51, 105.64s/it]"
     ]
    },
    {
     "name": "stderr",
     "output_type": "stream",
     "text": [
      "\r",
      "OMP Test Batch for noise_level = 0.04:   2%|▏         | 3/200 [04:56<5:42:46, 104.40s/it]"
     ]
    },
    {
     "name": "stderr",
     "output_type": "stream",
     "text": [
      "\r",
      "OMP Test Batch for noise_level = 0.10:   2%|▏         | 3/200 [04:52<5:33:17, 101.51s/it]"
     ]
    },
    {
     "name": "stderr",
     "output_type": "stream",
     "text": [
      "\r",
      "OMP Test Batch for noise_level = 0.05:   2%|▏         | 3/200 [05:00<5:46:09, 105.43s/it]"
     ]
    },
    {
     "name": "stderr",
     "output_type": "stream",
     "text": [
      "\r",
      "OMP Test Batch for noise_level = 0.07:   2%|▏         | 3/200 [05:01<5:53:47, 107.76s/it]"
     ]
    },
    {
     "name": "stderr",
     "output_type": "stream",
     "text": [
      "\r",
      "OMP Test Batch for noise_level = 0.06:   2%|▏         | 3/200 [05:11<6:02:17, 110.34s/it]"
     ]
    },
    {
     "name": "stderr",
     "output_type": "stream",
     "text": [
      "\r",
      "OMP Test Batch for noise_level = 0.20:   2%|▏         | 3/200 [05:03<5:48:59, 106.29s/it]"
     ]
    },
    {
     "name": "stderr",
     "output_type": "stream",
     "text": [
      "\r",
      "OMP Test Batch for noise_level = 0.14:   2%|▏         | 3/200 [05:06<5:52:11, 107.27s/it]"
     ]
    },
    {
     "name": "stderr",
     "output_type": "stream",
     "text": [
      "\r",
      "OMP Test Batch for noise_level = 0.09:   2%|▏         | 3/200 [05:13<6:04:17, 110.95s/it]"
     ]
    },
    {
     "name": "stderr",
     "output_type": "stream",
     "text": [
      "\r",
      "OMP Test Batch for noise_level = 0.08:   2%|▏         | 3/200 [05:24<6:14:39, 114.11s/it]"
     ]
    },
    {
     "name": "stderr",
     "output_type": "stream",
     "text": [
      "\r",
      "OMP Test Batch for noise_level = 0.16:   2%|▏         | 3/200 [05:28<6:12:01, 113.31s/it]"
     ]
    },
    {
     "name": "stderr",
     "output_type": "stream",
     "text": [
      "\r",
      "OMP Test Batch for noise_level = 0.18:   2%|▏         | 3/200 [05:29<6:16:37, 114.71s/it]"
     ]
    },
    {
     "name": "stderr",
     "output_type": "stream",
     "text": [
      "\r",
      "OMP Test Batch for noise_level = 0.12:   2%|▏         | 3/200 [05:32<6:20:14, 115.81s/it]"
     ]
    },
    {
     "name": "stderr",
     "output_type": "stream",
     "text": [
      "\r",
      "OMP Test Batch for noise_level = 0.01:   2%|▏         | 4/200 [06:31<5:36:42, 103.07s/it]"
     ]
    },
    {
     "name": "stderr",
     "output_type": "stream",
     "text": [
      "\r",
      "OMP Test Batch for noise_level = 0.00:   2%|▏         | 4/200 [06:37<5:49:02, 106.85s/it]"
     ]
    },
    {
     "name": "stderr",
     "output_type": "stream",
     "text": [
      "\r",
      "OMP Test Batch for noise_level = 0.04:   2%|▏         | 4/200 [06:45<5:47:32, 106.39s/it]"
     ]
    },
    {
     "name": "stderr",
     "output_type": "stream",
     "text": [
      "\r",
      "OMP Test Batch for noise_level = 0.02:   2%|▏         | 4/200 [06:52<6:01:31, 110.67s/it]"
     ]
    },
    {
     "name": "stderr",
     "output_type": "stream",
     "text": [
      "\r",
      "OMP Test Batch for noise_level = 0.10:   2%|▏         | 4/200 [06:51<5:53:25, 108.19s/it]"
     ]
    },
    {
     "name": "stderr",
     "output_type": "stream",
     "text": [
      "\r",
      "OMP Test Batch for noise_level = 0.03:   2%|▏         | 4/200 [06:59<6:09:50, 113.21s/it]"
     ]
    },
    {
     "name": "stderr",
     "output_type": "stream",
     "text": [
      "\r",
      "OMP Test Batch for noise_level = 0.05:   2%|▏         | 4/200 [06:59<6:01:47, 110.75s/it]"
     ]
    },
    {
     "name": "stderr",
     "output_type": "stream",
     "text": [
      "\r",
      "OMP Test Batch for noise_level = 0.07:   2%|▏         | 4/200 [07:05<6:11:59, 113.88s/it]"
     ]
    },
    {
     "name": "stderr",
     "output_type": "stream",
     "text": [
      "\r",
      "OMP Test Batch for noise_level = 0.14:   2%|▏         | 4/200 [07:02<6:01:43, 110.73s/it]"
     ]
    },
    {
     "name": "stderr",
     "output_type": "stream",
     "text": [
      "\r",
      "OMP Test Batch for noise_level = 0.20:   2%|▏         | 4/200 [07:04<6:06:39, 112.24s/it]\r",
      "OMP Test Batch for noise_level = 0.09:   2%|▏         | 4/200 [07:10<6:09:27, 113.10s/it]"
     ]
    },
    {
     "name": "stderr",
     "output_type": "stream",
     "text": [
      "\r",
      "OMP Test Batch for noise_level = 0.06:   2%|▏         | 4/200 [07:17<6:21:05, 116.66s/it]"
     ]
    },
    {
     "name": "stderr",
     "output_type": "stream",
     "text": [
      "\r",
      "OMP Test Batch for noise_level = 0.08:   2%|▏         | 4/200 [07:16<6:09:37, 113.15s/it]"
     ]
    },
    {
     "name": "stderr",
     "output_type": "stream",
     "text": [
      "\r",
      "OMP Test Batch for noise_level = 0.16:   2%|▏         | 4/200 [07:24<6:13:45, 114.42s/it]"
     ]
    },
    {
     "name": "stderr",
     "output_type": "stream",
     "text": [
      "\r",
      "OMP Test Batch for noise_level = 0.12:   2%|▏         | 4/200 [07:32<6:23:32, 117.41s/it]"
     ]
    },
    {
     "name": "stderr",
     "output_type": "stream",
     "text": [
      "\r",
      "OMP Test Batch for noise_level = 0.18:   2%|▏         | 4/200 [07:38<6:32:33, 120.17s/it]"
     ]
    },
    {
     "name": "stderr",
     "output_type": "stream",
     "text": [
      "\r",
      "OMP Test Batch for noise_level = 0.00:   2%|▎         | 5/200 [08:26<5:50:08, 107.74s/it]"
     ]
    },
    {
     "name": "stderr",
     "output_type": "stream",
     "text": [
      "\r",
      "OMP Test Batch for noise_level = 0.01:   2%|▎         | 5/200 [08:32<5:56:14, 109.61s/it]"
     ]
    },
    {
     "name": "stderr",
     "output_type": "stream",
     "text": [
      "\r",
      "OMP Test Batch for noise_level = 0.04:   2%|▎         | 5/200 [08:51<6:08:23, 113.35s/it]"
     ]
    },
    {
     "name": "stderr",
     "output_type": "stream",
     "text": [
      "\r",
      "OMP Test Batch for noise_level = 0.02:   2%|▎         | 5/200 [08:54<6:13:21, 114.88s/it]"
     ]
    },
    {
     "name": "stderr",
     "output_type": "stream",
     "text": [
      "\r",
      "OMP Test Batch for noise_level = 0.10:   2%|▎         | 5/200 [08:51<6:05:16, 112.39s/it]"
     ]
    },
    {
     "name": "stderr",
     "output_type": "stream",
     "text": [
      "\r",
      "OMP Test Batch for noise_level = 0.03:   2%|▎         | 5/200 [08:57<6:13:52, 115.04s/it]"
     ]
    },
    {
     "name": "stderr",
     "output_type": "stream",
     "text": [
      "\r",
      "OMP Test Batch for noise_level = 0.09:   2%|▎         | 5/200 [09:03<6:08:25, 113.36s/it]"
     ]
    },
    {
     "name": "stderr",
     "output_type": "stream",
     "text": [
      "\r",
      "OMP Test Batch for noise_level = 0.05:   2%|▎         | 5/200 [09:08<6:20:41, 117.14s/it]"
     ]
    },
    {
     "name": "stderr",
     "output_type": "stream",
     "text": [
      "\r",
      "OMP Test Batch for noise_level = 0.07:   2%|▎         | 5/200 [09:10<6:23:15, 117.93s/it]"
     ]
    },
    {
     "name": "stderr",
     "output_type": "stream",
     "text": [
      "\r",
      "OMP Test Batch for noise_level = 0.14:   2%|▎         | 5/200 [09:06<6:15:44, 115.61s/it]"
     ]
    },
    {
     "name": "stderr",
     "output_type": "stream",
     "text": [
      "\r",
      "OMP Test Batch for noise_level = 0.08:   2%|▎         | 5/200 [09:14<6:13:52, 115.04s/it]"
     ]
    },
    {
     "name": "stderr",
     "output_type": "stream",
     "text": [
      "\r",
      "OMP Test Batch for noise_level = 0.16:   2%|▎         | 5/200 [09:14<6:05:56, 112.60s/it]"
     ]
    },
    {
     "name": "stderr",
     "output_type": "stream",
     "text": [
      "\r",
      "OMP Test Batch for noise_level = 0.06:   2%|▎         | 5/200 [09:21<6:28:04, 119.41s/it]"
     ]
    },
    {
     "name": "stderr",
     "output_type": "stream",
     "text": [
      "\r",
      "OMP Test Batch for noise_level = 0.20:   2%|▎         | 5/200 [09:15<6:26:33, 118.94s/it]"
     ]
    },
    {
     "name": "stderr",
     "output_type": "stream",
     "text": [
      "\r",
      "OMP Test Batch for noise_level = 0.18:   2%|▎         | 5/200 [09:27<6:17:57, 116.29s/it]"
     ]
    },
    {
     "name": "stderr",
     "output_type": "stream",
     "text": [
      "\r",
      "OMP Test Batch for noise_level = 0.12:   2%|▎         | 5/200 [09:46<6:40:57, 123.37s/it]"
     ]
    },
    {
     "name": "stderr",
     "output_type": "stream",
     "text": [
      "\r",
      "OMP Test Batch for noise_level = 0.00:   3%|▎         | 6/200 [10:27<6:03:07, 112.31s/it]"
     ]
    },
    {
     "name": "stderr",
     "output_type": "stream",
     "text": [
      "\r",
      "OMP Test Batch for noise_level = 0.01:   3%|▎         | 6/200 [10:29<6:02:28, 112.11s/it]"
     ]
    },
    {
     "name": "stderr",
     "output_type": "stream",
     "text": [
      "\r",
      "OMP Test Batch for noise_level = 0.04:   3%|▎         | 6/200 [10:51<6:13:53, 115.64s/it]"
     ]
    },
    {
     "name": "stderr",
     "output_type": "stream",
     "text": [
      "\r",
      "OMP Test Batch for noise_level = 0.10:   3%|▎         | 6/200 [10:49<6:10:24, 114.56s/it]"
     ]
    },
    {
     "name": "stderr",
     "output_type": "stream",
     "text": [
      "\r",
      "OMP Test Batch for noise_level = 0.02:   3%|▎         | 6/200 [11:00<6:24:03, 118.78s/it]"
     ]
    },
    {
     "name": "stderr",
     "output_type": "stream",
     "text": [
      "\r",
      "OMP Test Batch for noise_level = 0.03:   3%|▎         | 6/200 [11:02<6:22:58, 118.44s/it]"
     ]
    },
    {
     "name": "stderr",
     "output_type": "stream",
     "text": [
      "\r",
      "OMP Test Batch for noise_level = 0.09:   3%|▎         | 6/200 [11:03<6:13:25, 115.49s/it]"
     ]
    },
    {
     "name": "stderr",
     "output_type": "stream",
     "text": [
      "\r",
      "OMP Test Batch for noise_level = 0.14:   3%|▎         | 6/200 [11:06<6:18:26, 117.04s/it]\r",
      "OMP Test Batch for noise_level = 0.05:   3%|▎         | 6/200 [11:13<6:27:37, 119.88s/it]"
     ]
    },
    {
     "name": "stderr",
     "output_type": "stream",
     "text": [
      "\r",
      "OMP Test Batch for noise_level = 0.07:   3%|▎         | 6/200 [11:16<6:30:20, 120.73s/it]"
     ]
    },
    {
     "name": "stderr",
     "output_type": "stream",
     "text": [
      "\r",
      "OMP Test Batch for noise_level = 0.18:   3%|▎         | 6/200 [11:14<6:05:14, 112.96s/it]"
     ]
    },
    {
     "name": "stderr",
     "output_type": "stream",
     "text": [
      "\r",
      "OMP Test Batch for noise_level = 0.16:   3%|▎         | 6/200 [11:15<6:13:04, 115.38s/it]"
     ]
    },
    {
     "name": "stderr",
     "output_type": "stream",
     "text": [
      "\r",
      "OMP Test Batch for noise_level = 0.08:   3%|▎         | 6/200 [11:21<6:25:16, 119.16s/it]"
     ]
    },
    {
     "name": "stderr",
     "output_type": "stream",
     "text": [
      "\r",
      "OMP Test Batch for noise_level = 0.06:   3%|▎         | 6/200 [11:28<6:34:31, 122.02s/it]"
     ]
    },
    {
     "name": "stderr",
     "output_type": "stream",
     "text": [
      "\r",
      "OMP Test Batch for noise_level = 0.20:   3%|▎         | 6/200 [11:24<6:35:18, 122.26s/it]"
     ]
    },
    {
     "name": "stderr",
     "output_type": "stream",
     "text": [
      "\r",
      "OMP Test Batch for noise_level = 0.12:   3%|▎         | 6/200 [11:44<6:32:19, 121.34s/it]"
     ]
    },
    {
     "name": "stderr",
     "output_type": "stream",
     "text": [
      "\r",
      "OMP Test Batch for noise_level = 0.00:   4%|▎         | 7/200 [12:19<6:00:50, 112.18s/it]"
     ]
    },
    {
     "name": "stderr",
     "output_type": "stream",
     "text": [
      "\r",
      "OMP Test Batch for noise_level = 0.01:   4%|▎         | 7/200 [12:26<6:06:13, 113.85s/it]"
     ]
    },
    {
     "name": "stderr",
     "output_type": "stream",
     "text": [
      "\r",
      "OMP Test Batch for noise_level = 0.10:   4%|▎         | 7/200 [12:37<6:01:07, 112.27s/it]"
     ]
    },
    {
     "name": "stderr",
     "output_type": "stream",
     "text": [
      "\r",
      "OMP Test Batch for noise_level = 0.14:   4%|▎         | 7/200 [12:42<5:54:21, 110.16s/it]"
     ]
    },
    {
     "name": "stderr",
     "output_type": "stream",
     "text": [
      "\r",
      "OMP Test Batch for noise_level = 0.04:   4%|▎         | 7/200 [12:51<6:16:22, 117.01s/it]"
     ]
    },
    {
     "name": "stderr",
     "output_type": "stream",
     "text": [
      "\r",
      "OMP Test Batch for noise_level = 0.09:   4%|▎         | 7/200 [12:51<6:03:37, 113.04s/it]"
     ]
    },
    {
     "name": "stderr",
     "output_type": "stream",
     "text": [
      "\r",
      "OMP Test Batch for noise_level = 0.03:   4%|▎         | 7/200 [13:03<6:23:14, 119.14s/it]"
     ]
    },
    {
     "name": "stderr",
     "output_type": "stream",
     "text": [
      "\r",
      "OMP Test Batch for noise_level = 0.02:   4%|▎         | 7/200 [13:04<6:27:27, 120.46s/it]"
     ]
    },
    {
     "name": "stderr",
     "output_type": "stream",
     "text": [
      "\r",
      "OMP Test Batch for noise_level = 0.18:   4%|▎         | 7/200 [12:59<5:55:36, 110.55s/it]"
     ]
    },
    {
     "name": "stderr",
     "output_type": "stream",
     "text": [
      "\r",
      "OMP Test Batch for noise_level = 0.05:   4%|▎         | 7/200 [13:15<6:27:51, 120.58s/it]"
     ]
    },
    {
     "name": "stderr",
     "output_type": "stream",
     "text": [
      "\r",
      "OMP Test Batch for noise_level = 0.07:   4%|▎         | 7/200 [13:18<6:29:27, 121.08s/it]"
     ]
    },
    {
     "name": "stderr",
     "output_type": "stream",
     "text": [
      "\r",
      "OMP Test Batch for noise_level = 0.16:   4%|▎         | 7/200 [13:16<6:17:26, 117.34s/it]"
     ]
    },
    {
     "name": "stderr",
     "output_type": "stream",
     "text": [
      "\r",
      "OMP Test Batch for noise_level = 0.08:   4%|▎         | 7/200 [13:26<6:29:03, 120.95s/it]"
     ]
    },
    {
     "name": "stderr",
     "output_type": "stream",
     "text": [
      "\r",
      "OMP Test Batch for noise_level = 0.06:   4%|▎         | 7/200 [13:38<6:40:35, 124.54s/it]"
     ]
    },
    {
     "name": "stderr",
     "output_type": "stream",
     "text": [
      "\r",
      "OMP Test Batch for noise_level = 0.20:   4%|▎         | 7/200 [13:32<6:39:17, 124.13s/it]"
     ]
    },
    {
     "name": "stderr",
     "output_type": "stream",
     "text": [
      "\r",
      "OMP Test Batch for noise_level = 0.12:   4%|▎         | 7/200 [13:46<6:32:02, 121.88s/it]"
     ]
    },
    {
     "name": "stderr",
     "output_type": "stream",
     "text": [
      "\r",
      "OMP Test Batch for noise_level = 0.00:   4%|▍         | 8/200 [14:10<5:58:13, 111.94s/it]"
     ]
    },
    {
     "name": "stderr",
     "output_type": "stream",
     "text": [
      "\r",
      "OMP Test Batch for noise_level = 0.01:   4%|▍         | 8/200 [14:18<6:02:47, 113.37s/it]"
     ]
    },
    {
     "name": "stderr",
     "output_type": "stream",
     "text": [
      "\r",
      "OMP Test Batch for noise_level = 0.04:   4%|▍         | 8/200 [14:33<5:59:09, 112.24s/it]"
     ]
    },
    {
     "name": "stderr",
     "output_type": "stream",
     "text": [
      "\r",
      "OMP Test Batch for noise_level = 0.14:   4%|▍         | 8/200 [14:30<5:49:45, 109.30s/it]"
     ]
    },
    {
     "name": "stderr",
     "output_type": "stream",
     "text": [
      "\r",
      "OMP Test Batch for noise_level = 0.10:   4%|▍         | 8/200 [14:33<6:03:06, 113.47s/it]"
     ]
    },
    {
     "name": "stderr",
     "output_type": "stream",
     "text": [
      "\r",
      "OMP Test Batch for noise_level = 0.09:   4%|▍         | 8/200 [14:47<6:05:03, 114.08s/it]"
     ]
    },
    {
     "name": "stderr",
     "output_type": "stream",
     "text": [
      "\r",
      "OMP Test Batch for noise_level = 0.02:   4%|▍         | 8/200 [15:00<6:21:00, 119.06s/it]"
     ]
    },
    {
     "name": "stderr",
     "output_type": "stream",
     "text": [
      "\r",
      "OMP Test Batch for noise_level = 0.03:   4%|▍         | 8/200 [15:04<6:22:58, 119.68s/it]"
     ]
    },
    {
     "name": "stderr",
     "output_type": "stream",
     "text": [
      "\r",
      "OMP Test Batch for noise_level = 0.18:   4%|▍         | 8/200 [15:00<6:04:05, 113.78s/it]"
     ]
    },
    {
     "name": "stderr",
     "output_type": "stream",
     "text": [
      "\r",
      "OMP Test Batch for noise_level = 0.16:   4%|▍         | 8/200 [15:09<6:10:58, 115.93s/it]"
     ]
    },
    {
     "name": "stderr",
     "output_type": "stream",
     "text": [
      "\r",
      "OMP Test Batch for noise_level = 0.05:   4%|▍         | 8/200 [15:17<6:27:54, 121.22s/it]"
     ]
    },
    {
     "name": "stderr",
     "output_type": "stream",
     "text": [
      "\r",
      "OMP Test Batch for noise_level = 0.07:   4%|▍         | 8/200 [15:20<6:28:17, 121.34s/it]"
     ]
    },
    {
     "name": "stderr",
     "output_type": "stream",
     "text": [
      "\r",
      "OMP Test Batch for noise_level = 0.08:   4%|▍         | 8/200 [15:32<6:31:52, 122.46s/it]"
     ]
    },
    {
     "name": "stderr",
     "output_type": "stream",
     "text": [
      "\r",
      "OMP Test Batch for noise_level = 0.06:   4%|▍         | 8/200 [15:35<6:30:58, 122.18s/it]"
     ]
    },
    {
     "name": "stderr",
     "output_type": "stream",
     "text": [
      "\r",
      "OMP Test Batch for noise_level = 0.20:   4%|▍         | 8/200 [15:32<6:33:07, 122.85s/it]"
     ]
    },
    {
     "name": "stderr",
     "output_type": "stream",
     "text": [
      "\r",
      "OMP Test Batch for noise_level = 0.12:   4%|▍         | 8/200 [15:40<6:21:25, 119.19s/it]"
     ]
    },
    {
     "name": "stderr",
     "output_type": "stream",
     "text": [
      "\r",
      "OMP Test Batch for noise_level = 0.00:   4%|▍         | 9/200 [16:11<6:04:51, 114.61s/it]"
     ]
    },
    {
     "name": "stderr",
     "output_type": "stream",
     "text": [
      "\r",
      "OMP Test Batch for noise_level = 0.01:   4%|▍         | 9/200 [16:13<6:02:01, 113.73s/it]"
     ]
    },
    {
     "name": "stderr",
     "output_type": "stream",
     "text": [
      "\r",
      "OMP Test Batch for noise_level = 0.04:   4%|▍         | 9/200 [16:35<6:07:15, 115.37s/it]"
     ]
    },
    {
     "name": "stderr",
     "output_type": "stream",
     "text": [
      "\r",
      "OMP Test Batch for noise_level = 0.10:   4%|▍         | 9/200 [16:35<6:10:06, 116.27s/it]"
     ]
    },
    {
     "name": "stderr",
     "output_type": "stream",
     "text": [
      "\r",
      "OMP Test Batch for noise_level = 0.14:   4%|▍         | 9/200 [16:35<6:03:33, 114.21s/it]"
     ]
    },
    {
     "name": "stderr",
     "output_type": "stream",
     "text": [
      "\r",
      "OMP Test Batch for noise_level = 0.09:   4%|▍         | 9/200 [16:51<6:12:32, 117.03s/it]"
     ]
    },
    {
     "name": "stderr",
     "output_type": "stream",
     "text": [
      "\r",
      "OMP Test Batch for noise_level = 0.02:   4%|▍         | 9/200 [17:03<6:22:43, 120.23s/it]"
     ]
    },
    {
     "name": "stderr",
     "output_type": "stream",
     "text": [
      "\r",
      "OMP Test Batch for noise_level = 0.03:   4%|▍         | 9/200 [17:04<6:21:16, 119.77s/it]"
     ]
    },
    {
     "name": "stderr",
     "output_type": "stream",
     "text": [
      "\r",
      "OMP Test Batch for noise_level = 0.16:   4%|▍         | 9/200 [17:10<6:14:00, 117.49s/it]"
     ]
    },
    {
     "name": "stderr",
     "output_type": "stream",
     "text": [
      "\r",
      "OMP Test Batch for noise_level = 0.18:   4%|▍         | 9/200 [17:13<6:21:10, 119.74s/it]"
     ]
    },
    {
     "name": "stderr",
     "output_type": "stream",
     "text": [
      "\r",
      "OMP Test Batch for noise_level = 0.05:   4%|▍         | 9/200 [17:26<6:32:55, 123.43s/it]"
     ]
    },
    {
     "name": "stderr",
     "output_type": "stream",
     "text": [
      "\r",
      "OMP Test Batch for noise_level = 0.07:   4%|▍         | 9/200 [17:34<6:39:06, 125.37s/it]"
     ]
    },
    {
     "name": "stderr",
     "output_type": "stream",
     "text": [
      "\r",
      "OMP Test Batch for noise_level = 0.08:   4%|▍         | 9/200 [17:36<6:31:49, 123.08s/it]"
     ]
    },
    {
     "name": "stderr",
     "output_type": "stream",
     "text": [
      "\r",
      "OMP Test Batch for noise_level = 0.06:   4%|▍         | 9/200 [17:41<6:32:12, 123.21s/it]"
     ]
    },
    {
     "name": "stderr",
     "output_type": "stream",
     "text": [
      "\r",
      "OMP Test Batch for noise_level = 0.20:   4%|▍         | 9/200 [17:35<6:31:39, 123.03s/it]"
     ]
    },
    {
     "name": "stderr",
     "output_type": "stream",
     "text": [
      "\r",
      "OMP Test Batch for noise_level = 0.12:   4%|▍         | 9/200 [17:47<6:26:46, 121.50s/it]"
     ]
    },
    {
     "name": "stderr",
     "output_type": "stream",
     "text": [
      "\r",
      "OMP Test Batch for noise_level = 0.00:   5%|▌         | 10/200 [18:13<6:09:47, 116.78s/it]"
     ]
    },
    {
     "name": "stderr",
     "output_type": "stream",
     "text": [
      "\r",
      "OMP Test Batch for noise_level = 0.01:   5%|▌         | 10/200 [18:14<6:06:50, 115.84s/it]"
     ]
    },
    {
     "name": "stderr",
     "output_type": "stream",
     "text": [
      "\r",
      "OMP Test Batch for noise_level = 0.14:   5%|▌         | 10/200 [18:10<5:42:54, 108.28s/it]"
     ]
    },
    {
     "name": "stderr",
     "output_type": "stream",
     "text": [
      "\r",
      "OMP Test Batch for noise_level = 0.04:   5%|▌         | 10/200 [18:36<6:10:53, 117.12s/it]"
     ]
    },
    {
     "name": "stderr",
     "output_type": "stream",
     "text": [
      "\r",
      "OMP Test Batch for noise_level = 0.10:   5%|▌         | 10/200 [18:38<6:14:10, 118.16s/it]"
     ]
    },
    {
     "name": "stderr",
     "output_type": "stream",
     "text": [
      "\r",
      "OMP Test Batch for noise_level = 0.09:   5%|▌         | 10/200 [18:50<6:13:11, 117.85s/it]"
     ]
    },
    {
     "name": "stderr",
     "output_type": "stream",
     "text": [
      "\r",
      "OMP Test Batch for noise_level = 0.16:   5%|▌         | 10/200 [18:54<5:58:37, 113.25s/it]"
     ]
    },
    {
     "name": "stderr",
     "output_type": "stream",
     "text": [
      "\r",
      "OMP Test Batch for noise_level = 0.03:   5%|▌         | 10/200 [19:08<6:23:22, 121.06s/it]"
     ]
    },
    {
     "name": "stderr",
     "output_type": "stream",
     "text": [
      "\r",
      "OMP Test Batch for noise_level = 0.02:   5%|▌         | 10/200 [19:10<6:27:28, 122.36s/it]"
     ]
    },
    {
     "name": "stderr",
     "output_type": "stream",
     "text": [
      "\r",
      "OMP Test Batch for noise_level = 0.05:   5%|▌         | 10/200 [19:19<6:20:50, 120.27s/it]"
     ]
    },
    {
     "name": "stderr",
     "output_type": "stream",
     "text": [
      "\r",
      "OMP Test Batch for noise_level = 0.18:   5%|▌         | 10/200 [19:20<6:26:25, 122.03s/it]"
     ]
    },
    {
     "name": "stderr",
     "output_type": "stream",
     "text": [
      "\r",
      "OMP Test Batch for noise_level = 0.07:   5%|▌         | 10/200 [19:35<6:32:53, 124.07s/it]"
     ]
    },
    {
     "name": "stderr",
     "output_type": "stream",
     "text": [
      "\r",
      "OMP Test Batch for noise_level = 0.08:   5%|▌         | 10/200 [19:40<6:30:16, 123.24s/it]"
     ]
    },
    {
     "name": "stderr",
     "output_type": "stream",
     "text": [
      "\r",
      "OMP Test Batch for noise_level = 0.06:   5%|▌         | 10/200 [19:48<6:34:28, 124.57s/it]"
     ]
    },
    {
     "name": "stderr",
     "output_type": "stream",
     "text": [
      "\r",
      "OMP Test Batch for noise_level = 0.20:   5%|▌         | 10/200 [19:43<6:33:46, 124.35s/it]"
     ]
    },
    {
     "name": "stderr",
     "output_type": "stream",
     "text": [
      "\r",
      "OMP Test Batch for noise_level = 0.12:   5%|▌         | 10/200 [19:55<6:31:49, 123.73s/it]"
     ]
    },
    {
     "name": "stderr",
     "output_type": "stream",
     "text": [
      "\r",
      "OMP Test Batch for noise_level = 0.01:   6%|▌         | 11/200 [20:08<6:03:05, 115.27s/it]"
     ]
    },
    {
     "name": "stderr",
     "output_type": "stream",
     "text": [
      "\r",
      "OMP Test Batch for noise_level = 0.00:   6%|▌         | 11/200 [20:11<6:09:18, 117.24s/it]"
     ]
    },
    {
     "name": "stderr",
     "output_type": "stream",
     "text": [
      "\r",
      "OMP Test Batch for noise_level = 0.14:   6%|▌         | 11/200 [20:05<5:48:04, 110.50s/it]"
     ]
    },
    {
     "name": "stderr",
     "output_type": "stream",
     "text": [
      "\r",
      "OMP Test Batch for noise_level = 0.04:   6%|▌         | 11/200 [20:32<6:08:23, 116.95s/it]"
     ]
    },
    {
     "name": "stderr",
     "output_type": "stream",
     "text": [
      "\r",
      "OMP Test Batch for noise_level = 0.09:   6%|▌         | 11/200 [20:41<6:03:52, 115.51s/it]"
     ]
    },
    {
     "name": "stderr",
     "output_type": "stream",
     "text": [
      "\r",
      "OMP Test Batch for noise_level = 0.10:   6%|▌         | 11/200 [20:45<6:20:55, 120.93s/it]"
     ]
    },
    {
     "name": "stderr",
     "output_type": "stream",
     "text": [
      "\r",
      "OMP Test Batch for noise_level = 0.16:   6%|▌         | 11/200 [20:55<6:04:44, 115.79s/it]"
     ]
    },
    {
     "name": "stderr",
     "output_type": "stream",
     "text": [
      "\r",
      "OMP Test Batch for noise_level = 0.03:   6%|▌         | 11/200 [21:05<6:17:49, 119.95s/it]"
     ]
    },
    {
     "name": "stderr",
     "output_type": "stream",
     "text": [
      "\r",
      "OMP Test Batch for noise_level = 0.02:   6%|▌         | 11/200 [21:11<6:23:42, 121.81s/it]"
     ]
    },
    {
     "name": "stderr",
     "output_type": "stream",
     "text": [
      "\r",
      "OMP Test Batch for noise_level = 0.05:   6%|▌         | 11/200 [21:19<6:18:39, 120.21s/it]"
     ]
    },
    {
     "name": "stderr",
     "output_type": "stream",
     "text": [
      "\r",
      "OMP Test Batch for noise_level = 0.18:   6%|▌         | 11/200 [21:21<6:23:12, 121.65s/it]"
     ]
    },
    {
     "name": "stderr",
     "output_type": "stream",
     "text": [
      "\r",
      "OMP Test Batch for noise_level = 0.08:   6%|▌         | 11/200 [21:32<6:17:23, 119.81s/it]"
     ]
    },
    {
     "name": "stderr",
     "output_type": "stream",
     "text": [
      "\r",
      "OMP Test Batch for noise_level = 0.20:   6%|▌         | 11/200 [21:32<6:17:31, 119.85s/it]"
     ]
    },
    {
     "name": "stderr",
     "output_type": "stream",
     "text": [
      "\r",
      "OMP Test Batch for noise_level = 0.07:   6%|▌         | 11/200 [21:44<6:36:01, 125.72s/it]"
     ]
    },
    {
     "name": "stderr",
     "output_type": "stream",
     "text": [
      "\r",
      "OMP Test Batch for noise_level = 0.06:   6%|▌         | 11/200 [21:54<6:33:55, 125.06s/it]"
     ]
    },
    {
     "name": "stderr",
     "output_type": "stream",
     "text": [
      "\r",
      "OMP Test Batch for noise_level = 0.00:   6%|▌         | 12/200 [22:04<6:03:04, 115.87s/it]"
     ]
    },
    {
     "name": "stderr",
     "output_type": "stream",
     "text": [
      "\r",
      "OMP Test Batch for noise_level = 0.01:   6%|▌         | 12/200 [22:04<6:02:24, 115.66s/it]"
     ]
    },
    {
     "name": "stderr",
     "output_type": "stream",
     "text": [
      "\r",
      "OMP Test Batch for noise_level = 0.14:   6%|▌         | 12/200 [22:04<5:54:44, 113.21s/it]"
     ]
    },
    {
     "name": "stderr",
     "output_type": "stream",
     "text": [
      "\r",
      "OMP Test Batch for noise_level = 0.12:   6%|▌         | 11/200 [22:07<6:37:50, 126.30s/it]"
     ]
    },
    {
     "name": "stderr",
     "output_type": "stream",
     "text": [
      "\r",
      "OMP Test Batch for noise_level = 0.09:   6%|▌         | 12/200 [22:18<5:44:57, 110.09s/it]"
     ]
    },
    {
     "name": "stderr",
     "output_type": "stream",
     "text": [
      "\r",
      "OMP Test Batch for noise_level = 0.04:   6%|▌         | 12/200 [22:30<6:07:27, 117.27s/it]"
     ]
    },
    {
     "name": "stderr",
     "output_type": "stream",
     "text": [
      "\r",
      "OMP Test Batch for noise_level = 0.10:   6%|▌         | 12/200 [22:33<6:06:16, 116.90s/it]"
     ]
    },
    {
     "name": "stderr",
     "output_type": "stream",
     "text": [
      "\r",
      "OMP Test Batch for noise_level = 0.16:   6%|▌         | 12/200 [22:57<6:08:52, 117.73s/it]"
     ]
    },
    {
     "name": "stderr",
     "output_type": "stream",
     "text": [
      "\r",
      "OMP Test Batch for noise_level = 0.03:   6%|▌         | 12/200 [23:12<6:22:51, 122.19s/it]"
     ]
    },
    {
     "name": "stderr",
     "output_type": "stream",
     "text": [
      "\r",
      "OMP Test Batch for noise_level = 0.02:   6%|▌         | 12/200 [23:15<6:24:11, 122.62s/it]"
     ]
    },
    {
     "name": "stderr",
     "output_type": "stream",
     "text": [
      "\r",
      "OMP Test Batch for noise_level = 0.05:   6%|▌         | 12/200 [23:19<6:16:30, 120.16s/it]"
     ]
    },
    {
     "name": "stderr",
     "output_type": "stream",
     "text": [
      "\r",
      "OMP Test Batch for noise_level = 0.18:   6%|▌         | 12/200 [23:14<6:13:05, 119.07s/it]"
     ]
    },
    {
     "name": "stderr",
     "output_type": "stream",
     "text": [
      "\r",
      "OMP Test Batch for noise_level = 0.08:   6%|▌         | 12/200 [23:37<6:20:41, 121.50s/it]"
     ]
    },
    {
     "name": "stderr",
     "output_type": "stream",
     "text": [
      "\r",
      "OMP Test Batch for noise_level = 0.07:   6%|▌         | 12/200 [23:41<6:25:03, 122.89s/it]\r",
      "OMP Test Batch for noise_level = 0.20:   6%|▌         | 12/200 [23:34<6:17:13, 120.39s/it]"
     ]
    },
    {
     "name": "stderr",
     "output_type": "stream",
     "text": [
      "\r",
      "OMP Test Batch for noise_level = 0.14:   6%|▋         | 13/200 [23:39<5:34:55, 107.46s/it]"
     ]
    },
    {
     "name": "stderr",
     "output_type": "stream",
     "text": [
      "\r",
      "OMP Test Batch for noise_level = 0.00:   6%|▋         | 13/200 [23:54<5:56:21, 114.34s/it]"
     ]
    },
    {
     "name": "stderr",
     "output_type": "stream",
     "text": [
      "\r",
      "OMP Test Batch for noise_level = 0.06:   6%|▌         | 12/200 [23:51<6:23:30, 122.40s/it]"
     ]
    },
    {
     "name": "stderr",
     "output_type": "stream",
     "text": [
      "\r",
      "OMP Test Batch for noise_level = 0.01:   6%|▋         | 13/200 [24:05<6:05:25, 117.25s/it]"
     ]
    },
    {
     "name": "stderr",
     "output_type": "stream",
     "text": [
      "\r",
      "OMP Test Batch for noise_level = 0.12:   6%|▌         | 12/200 [24:12<6:33:53, 125.71s/it]"
     ]
    },
    {
     "name": "stderr",
     "output_type": "stream",
     "text": [
      "\r",
      "OMP Test Batch for noise_level = 0.09:   6%|▋         | 13/200 [24:19<5:53:09, 113.31s/it]"
     ]
    },
    {
     "name": "stderr",
     "output_type": "stream",
     "text": [
      "\r",
      "OMP Test Batch for noise_level = 0.04:   6%|▋         | 13/200 [24:27<6:05:05, 117.14s/it]"
     ]
    },
    {
     "name": "stderr",
     "output_type": "stream",
     "text": [
      "\r",
      "OMP Test Batch for noise_level = 0.10:   6%|▋         | 13/200 [24:30<6:04:41, 117.01s/it]"
     ]
    },
    {
     "name": "stderr",
     "output_type": "stream",
     "text": [
      "\r",
      "OMP Test Batch for noise_level = 0.16:   6%|▋         | 13/200 [24:50<6:02:04, 116.17s/it]"
     ]
    },
    {
     "name": "stderr",
     "output_type": "stream",
     "text": [
      "\r",
      "OMP Test Batch for noise_level = 0.05:   6%|▋         | 13/200 [25:01<5:57:39, 114.75s/it]"
     ]
    },
    {
     "name": "stderr",
     "output_type": "stream",
     "text": [
      "\r",
      "OMP Test Batch for noise_level = 0.03:   6%|▋         | 13/200 [25:07<6:13:28, 119.83s/it]"
     ]
    },
    {
     "name": "stderr",
     "output_type": "stream",
     "text": [
      "\r",
      "OMP Test Batch for noise_level = 0.02:   6%|▋         | 13/200 [25:14<6:18:00, 121.28s/it]"
     ]
    },
    {
     "name": "stderr",
     "output_type": "stream",
     "text": [
      "\r",
      "OMP Test Batch for noise_level = 0.18:   6%|▋         | 13/200 [25:16<6:14:23, 120.12s/it]"
     ]
    },
    {
     "name": "stderr",
     "output_type": "stream",
     "text": [
      "\r",
      "OMP Test Batch for noise_level = 0.08:   6%|▋         | 13/200 [25:26<6:06:26, 117.57s/it]"
     ]
    },
    {
     "name": "stderr",
     "output_type": "stream",
     "text": [
      "\r",
      "OMP Test Batch for noise_level = 0.20:   6%|▋         | 13/200 [25:28<6:09:17, 118.49s/it]"
     ]
    },
    {
     "name": "stderr",
     "output_type": "stream",
     "text": [
      "\r",
      "OMP Test Batch for noise_level = 0.07:   6%|▋         | 13/200 [25:41<6:20:03, 121.95s/it]"
     ]
    },
    {
     "name": "stderr",
     "output_type": "stream",
     "text": [
      "\r",
      "OMP Test Batch for noise_level = 0.00:   7%|▋         | 14/200 [25:47<5:52:40, 113.77s/it]"
     ]
    },
    {
     "name": "stderr",
     "output_type": "stream",
     "text": [
      "\r",
      "OMP Test Batch for noise_level = 0.14:   7%|▋         | 14/200 [25:41<5:47:19, 112.04s/it]"
     ]
    },
    {
     "name": "stderr",
     "output_type": "stream",
     "text": [
      "\r",
      "OMP Test Batch for noise_level = 0.06:   6%|▋         | 13/200 [25:51<6:19:09, 121.65s/it]"
     ]
    },
    {
     "name": "stderr",
     "output_type": "stream",
     "text": [
      "\r",
      "OMP Test Batch for noise_level = 0.01:   7%|▋         | 14/200 [26:00<6:01:13, 116.53s/it]"
     ]
    },
    {
     "name": "stderr",
     "output_type": "stream",
     "text": [
      "\r",
      "OMP Test Batch for noise_level = 0.09:   7%|▋         | 14/200 [26:12<5:50:59, 113.22s/it]"
     ]
    },
    {
     "name": "stderr",
     "output_type": "stream",
     "text": [
      "\r",
      "OMP Test Batch for noise_level = 0.04:   7%|▋         | 14/200 [26:20<5:58:32, 115.66s/it]"
     ]
    },
    {
     "name": "stderr",
     "output_type": "stream",
     "text": [
      "\r",
      "OMP Test Batch for noise_level = 0.12:   6%|▋         | 13/200 [26:14<6:28:47, 124.74s/it]"
     ]
    },
    {
     "name": "stderr",
     "output_type": "stream",
     "text": [
      "\r",
      "OMP Test Batch for noise_level = 0.16:   7%|▋         | 14/200 [26:23<5:38:51, 109.31s/it]"
     ]
    },
    {
     "name": "stderr",
     "output_type": "stream",
     "text": [
      "\r",
      "OMP Test Batch for noise_level = 0.10:   7%|▋         | 14/200 [26:29<6:04:34, 117.61s/it]"
     ]
    },
    {
     "name": "stderr",
     "output_type": "stream",
     "text": [
      "\r",
      "OMP Test Batch for noise_level = 0.05:   7%|▋         | 14/200 [26:48<5:47:58, 112.25s/it]"
     ]
    },
    {
     "name": "stderr",
     "output_type": "stream",
     "text": [
      "\r",
      "OMP Test Batch for noise_level = 0.03:   7%|▋         | 14/200 [27:07<6:11:49, 119.95s/it]"
     ]
    },
    {
     "name": "stderr",
     "output_type": "stream",
     "text": [
      "\r",
      "OMP Test Batch for noise_level = 0.02:   7%|▋         | 14/200 [27:10<6:11:07, 119.72s/it]"
     ]
    },
    {
     "name": "stderr",
     "output_type": "stream",
     "text": [
      "\r",
      "OMP Test Batch for noise_level = 0.18:   7%|▋         | 14/200 [27:05<6:01:38, 116.66s/it]"
     ]
    },
    {
     "name": "stderr",
     "output_type": "stream",
     "text": [
      "\r",
      "OMP Test Batch for noise_level = 0.08:   7%|▋         | 14/200 [27:15<5:56:43, 115.07s/it]"
     ]
    },
    {
     "name": "stderr",
     "output_type": "stream",
     "text": [
      "\r",
      "OMP Test Batch for noise_level = 0.00:   8%|▊         | 15/200 [27:35<5:45:43, 112.13s/it]"
     ]
    },
    {
     "name": "stderr",
     "output_type": "stream",
     "text": [
      "\r",
      "OMP Test Batch for noise_level = 0.20:   7%|▋         | 14/200 [27:27<6:07:27, 118.53s/it]"
     ]
    },
    {
     "name": "stderr",
     "output_type": "stream",
     "text": [
      "\r",
      "OMP Test Batch for noise_level = 0.07:   7%|▋         | 14/200 [27:35<6:10:34, 119.54s/it]"
     ]
    },
    {
     "name": "stderr",
     "output_type": "stream",
     "text": [
      "\r",
      "OMP Test Batch for noise_level = 0.06:   7%|▋         | 14/200 [27:40<6:05:35, 117.93s/it]"
     ]
    },
    {
     "name": "stderr",
     "output_type": "stream",
     "text": [
      "\r",
      "OMP Test Batch for noise_level = 0.14:   8%|▊         | 15/200 [27:35<5:47:01, 112.55s/it]"
     ]
    },
    {
     "name": "stderr",
     "output_type": "stream",
     "text": [
      "\r",
      "OMP Test Batch for noise_level = 0.01:   8%|▊         | 15/200 [27:49<5:52:47, 114.42s/it]"
     ]
    },
    {
     "name": "stderr",
     "output_type": "stream",
     "text": [
      "\r",
      "OMP Test Batch for noise_level = 0.16:   8%|▊         | 15/200 [27:52<5:17:37, 103.01s/it]"
     ]
    },
    {
     "name": "stderr",
     "output_type": "stream",
     "text": [
      "\r",
      "OMP Test Batch for noise_level = 0.04:   8%|▊         | 15/200 [28:09<5:50:42, 113.75s/it]"
     ]
    },
    {
     "name": "stderr",
     "output_type": "stream",
     "text": [
      "\r",
      "OMP Test Batch for noise_level = 0.09:   8%|▊         | 15/200 [28:05<5:48:50, 113.14s/it]"
     ]
    },
    {
     "name": "stderr",
     "output_type": "stream",
     "text": [
      "\r",
      "OMP Test Batch for noise_level = 0.12:   7%|▋         | 14/200 [28:15<6:22:54, 123.52s/it]"
     ]
    },
    {
     "name": "stderr",
     "output_type": "stream",
     "text": [
      "\r",
      "OMP Test Batch for noise_level = 0.10:   8%|▊         | 15/200 [28:21<5:57:34, 115.97s/it]"
     ]
    },
    {
     "name": "stderr",
     "output_type": "stream",
     "text": [
      "\r",
      "OMP Test Batch for noise_level = 0.18:   8%|▊         | 15/200 [28:31<5:31:05, 107.38s/it]"
     ]
    },
    {
     "name": "stderr",
     "output_type": "stream",
     "text": [
      "\r",
      "OMP Test Batch for noise_level = 0.05:   8%|▊         | 15/200 [28:45<5:50:20, 113.63s/it]"
     ]
    },
    {
     "name": "stderr",
     "output_type": "stream",
     "text": [
      "\r",
      "OMP Test Batch for noise_level = 0.02:   8%|▊         | 15/200 [29:06<6:05:39, 118.59s/it]"
     ]
    },
    {
     "name": "stderr",
     "output_type": "stream",
     "text": [
      "\r",
      "OMP Test Batch for noise_level = 0.03:   8%|▊         | 15/200 [29:09<6:11:32, 120.50s/it]"
     ]
    },
    {
     "name": "stderr",
     "output_type": "stream",
     "text": [
      "\r",
      "OMP Test Batch for noise_level = 0.00:   8%|▊         | 16/200 [29:23<5:39:34, 110.73s/it]"
     ]
    },
    {
     "name": "stderr",
     "output_type": "stream",
     "text": [
      "\r",
      "OMP Test Batch for noise_level = 0.08:   8%|▊         | 15/200 [29:18<6:02:07, 117.45s/it]"
     ]
    },
    {
     "name": "stderr",
     "output_type": "stream",
     "text": [
      "\r",
      "OMP Test Batch for noise_level = 0.01:   8%|▊         | 16/200 [29:31<5:39:04, 110.57s/it]"
     ]
    },
    {
     "name": "stderr",
     "output_type": "stream",
     "text": [
      "\r",
      "OMP Test Batch for noise_level = 0.20:   8%|▊         | 15/200 [29:20<6:00:02, 116.77s/it]"
     ]
    },
    {
     "name": "stderr",
     "output_type": "stream",
     "text": [
      "\r",
      "OMP Test Batch for noise_level = 0.06:   8%|▊         | 15/200 [29:31<5:57:05, 115.81s/it]"
     ]
    },
    {
     "name": "stderr",
     "output_type": "stream",
     "text": [
      "\r",
      "OMP Test Batch for noise_level = 0.07:   8%|▊         | 15/200 [29:34<6:08:36, 119.55s/it]"
     ]
    },
    {
     "name": "stderr",
     "output_type": "stream",
     "text": [
      "\r",
      "OMP Test Batch for noise_level = 0.14:   8%|▊         | 16/200 [29:31<5:48:32, 113.65s/it]"
     ]
    },
    {
     "name": "stderr",
     "output_type": "stream",
     "text": [
      "\r",
      "OMP Test Batch for noise_level = 0.16:   8%|▊         | 16/200 [29:35<5:16:34, 103.23s/it]"
     ]
    },
    {
     "name": "stderr",
     "output_type": "stream",
     "text": [
      "\r",
      "OMP Test Batch for noise_level = 0.04:   8%|▊         | 16/200 [30:03<5:48:58, 113.79s/it]"
     ]
    },
    {
     "name": "stderr",
     "output_type": "stream",
     "text": [
      "\r",
      "OMP Test Batch for noise_level = 0.09:   8%|▊         | 16/200 [30:04<5:51:51, 114.73s/it]"
     ]
    },
    {
     "name": "stderr",
     "output_type": "stream",
     "text": [
      "\r",
      "OMP Test Batch for noise_level = 0.10:   8%|▊         | 16/200 [30:18<5:56:14, 116.17s/it]"
     ]
    },
    {
     "name": "stderr",
     "output_type": "stream",
     "text": [
      "\r",
      "OMP Test Batch for noise_level = 0.18:   8%|▊         | 16/200 [30:16<5:26:46, 106.56s/it]"
     ]
    },
    {
     "name": "stderr",
     "output_type": "stream",
     "text": [
      "\r",
      "OMP Test Batch for noise_level = 0.12:   8%|▊         | 15/200 [30:25<6:26:46, 125.44s/it]"
     ]
    },
    {
     "name": "stderr",
     "output_type": "stream",
     "text": [
      "\r",
      "OMP Test Batch for noise_level = 0.05:   8%|▊         | 16/200 [30:34<5:44:42, 112.40s/it]"
     ]
    },
    {
     "name": "stderr",
     "output_type": "stream",
     "text": [
      "\r",
      "OMP Test Batch for noise_level = 0.02:   8%|▊         | 16/200 [31:04<6:03:02, 118.39s/it]"
     ]
    },
    {
     "name": "stderr",
     "output_type": "stream",
     "text": [
      "\r",
      "OMP Test Batch for noise_level = 0.03:   8%|▊         | 16/200 [31:03<6:03:50, 118.65s/it]"
     ]
    },
    {
     "name": "stderr",
     "output_type": "stream",
     "text": [
      "\r",
      "OMP Test Batch for noise_level = 0.00:   8%|▊         | 17/200 [31:18<5:41:34, 111.99s/it]"
     ]
    },
    {
     "name": "stderr",
     "output_type": "stream",
     "text": [
      "\r",
      "OMP Test Batch for noise_level = 0.08:   8%|▊         | 16/200 [31:13<5:58:04, 116.76s/it]"
     ]
    },
    {
     "name": "stderr",
     "output_type": "stream",
     "text": [
      "\r",
      "OMP Test Batch for noise_level = 0.01:   8%|▊         | 17/200 [31:28<5:42:51, 112.41s/it]"
     ]
    },
    {
     "name": "stderr",
     "output_type": "stream",
     "text": [
      "\r",
      "OMP Test Batch for noise_level = 0.14:   8%|▊         | 17/200 [31:26<5:47:58, 114.09s/it]"
     ]
    },
    {
     "name": "stderr",
     "output_type": "stream",
     "text": [
      "\r",
      "OMP Test Batch for noise_level = 0.06:   8%|▊         | 16/200 [31:33<6:01:08, 117.77s/it]"
     ]
    },
    {
     "name": "stderr",
     "output_type": "stream",
     "text": [
      "\r",
      "OMP Test Batch for noise_level = 0.20:   8%|▊         | 16/200 [31:26<6:06:54, 119.64s/it]"
     ]
    },
    {
     "name": "stderr",
     "output_type": "stream",
     "text": [
      "\r",
      "OMP Test Batch for noise_level = 0.16:   8%|▊         | 17/200 [31:32<5:27:10, 107.27s/it]"
     ]
    },
    {
     "name": "stderr",
     "output_type": "stream",
     "text": [
      "\r",
      "OMP Test Batch for noise_level = 0.07:   8%|▊         | 16/200 [31:42<6:14:04, 121.98s/it]"
     ]
    },
    {
     "name": "stderr",
     "output_type": "stream",
     "text": [
      "\r",
      "OMP Test Batch for noise_level = 0.09:   8%|▊         | 17/200 [31:57<5:49:12, 114.49s/it]"
     ]
    },
    {
     "name": "stderr",
     "output_type": "stream",
     "text": [
      "\r",
      "OMP Test Batch for noise_level = 0.04:   8%|▊         | 17/200 [32:05<5:54:48, 116.33s/it]"
     ]
    },
    {
     "name": "stderr",
     "output_type": "stream",
     "text": [
      "\r",
      "OMP Test Batch for noise_level = 0.18:   8%|▊         | 17/200 [32:05<5:27:21, 107.33s/it]"
     ]
    },
    {
     "name": "stderr",
     "output_type": "stream",
     "text": [
      "\r",
      "OMP Test Batch for noise_level = 0.10:   8%|▊         | 17/200 [32:18<5:58:11, 117.44s/it]"
     ]
    },
    {
     "name": "stderr",
     "output_type": "stream",
     "text": [
      "\r",
      "OMP Test Batch for noise_level = 0.05:   8%|▊         | 17/200 [32:32<5:47:58, 114.09s/it]"
     ]
    },
    {
     "name": "stderr",
     "output_type": "stream",
     "text": [
      "\r",
      "OMP Test Batch for noise_level = 0.12:   8%|▊         | 16/200 [32:29<6:23:40, 125.11s/it]"
     ]
    },
    {
     "name": "stderr",
     "output_type": "stream",
     "text": [
      "\r",
      "OMP Test Batch for noise_level = 0.02:   8%|▊         | 17/200 [33:09<6:07:41, 120.55s/it]"
     ]
    },
    {
     "name": "stderr",
     "output_type": "stream",
     "text": [
      "\r",
      "OMP Test Batch for noise_level = 0.00:   9%|▉         | 18/200 [33:13<5:43:11, 113.14s/it]"
     ]
    },
    {
     "name": "stderr",
     "output_type": "stream",
     "text": [
      "\r",
      "OMP Test Batch for noise_level = 0.03:   8%|▊         | 17/200 [33:14<6:13:02, 122.31s/it]"
     ]
    },
    {
     "name": "stderr",
     "output_type": "stream",
     "text": [
      "\r",
      "OMP Test Batch for noise_level = 0.08:   8%|▊         | 17/200 [33:16<6:01:52, 118.65s/it]"
     ]
    },
    {
     "name": "stderr",
     "output_type": "stream",
     "text": [
      "\r",
      "OMP Test Batch for noise_level = 0.01:   9%|▉         | 18/200 [33:28<5:48:22, 114.85s/it]"
     ]
    },
    {
     "name": "stderr",
     "output_type": "stream",
     "text": [
      "\r",
      "OMP Test Batch for noise_level = 0.14:   9%|▉         | 18/200 [33:28<5:52:40, 116.27s/it]"
     ]
    },
    {
     "name": "stderr",
     "output_type": "stream",
     "text": [
      "\r",
      "OMP Test Batch for noise_level = 0.16:   9%|▉         | 18/200 [33:31<5:36:17, 110.87s/it]"
     ]
    },
    {
     "name": "stderr",
     "output_type": "stream",
     "text": [
      "\r",
      "OMP Test Batch for noise_level = 0.06:   8%|▊         | 17/200 [33:41<6:08:33, 120.84s/it]"
     ]
    },
    {
     "name": "stderr",
     "output_type": "stream",
     "text": [
      "\r",
      "OMP Test Batch for noise_level = 0.20:   8%|▊         | 17/200 [33:36<6:14:51, 122.90s/it]"
     ]
    },
    {
     "name": "stderr",
     "output_type": "stream",
     "text": [
      "\r",
      "OMP Test Batch for noise_level = 0.09:   9%|▉         | 18/200 [33:45<5:41:08, 112.46s/it]"
     ]
    },
    {
     "name": "stderr",
     "output_type": "stream",
     "text": [
      "\r",
      "OMP Test Batch for noise_level = 0.07:   8%|▊         | 17/200 [33:53<6:20:14, 124.67s/it]"
     ]
    },
    {
     "name": "stderr",
     "output_type": "stream",
     "text": [
      "\r",
      "OMP Test Batch for noise_level = 0.04:   9%|▉         | 18/200 [34:06<5:57:03, 117.71s/it]"
     ]
    },
    {
     "name": "stderr",
     "output_type": "stream",
     "text": [
      "\r",
      "OMP Test Batch for noise_level = 0.18:   9%|▉         | 18/200 [34:02<5:34:49, 110.38s/it]"
     ]
    },
    {
     "name": "stderr",
     "output_type": "stream",
     "text": [
      "\r",
      "OMP Test Batch for noise_level = 0.10:   9%|▉         | 18/200 [34:15<5:55:39, 117.25s/it]"
     ]
    },
    {
     "name": "stderr",
     "output_type": "stream",
     "text": [
      "\r",
      "OMP Test Batch for noise_level = 0.05:   9%|▉         | 18/200 [34:35<5:54:01, 116.71s/it]"
     ]
    },
    {
     "name": "stderr",
     "output_type": "stream",
     "text": [
      "\r",
      "OMP Test Batch for noise_level = 0.12:   8%|▊         | 17/200 [34:32<6:19:27, 124.41s/it]"
     ]
    },
    {
     "name": "stderr",
     "output_type": "stream",
     "text": [
      "\r",
      "OMP Test Batch for noise_level = 0.00:  10%|▉         | 19/200 [34:57<5:32:43, 110.29s/it]"
     ]
    },
    {
     "name": "stderr",
     "output_type": "stream",
     "text": [
      "\r",
      "OMP Test Batch for noise_level = 0.03:   9%|▉         | 18/200 [35:06<6:01:16, 119.10s/it]"
     ]
    },
    {
     "name": "stderr",
     "output_type": "stream",
     "text": [
      "\r",
      "OMP Test Batch for noise_level = 0.02:   9%|▉         | 18/200 [35:13<6:08:38, 121.53s/it]"
     ]
    },
    {
     "name": "stderr",
     "output_type": "stream",
     "text": [
      "\r",
      "OMP Test Batch for noise_level = 0.08:   9%|▉         | 18/200 [35:09<5:54:42, 116.94s/it]"
     ]
    },
    {
     "name": "stderr",
     "output_type": "stream",
     "text": [
      "\r",
      "OMP Test Batch for noise_level = 0.01:  10%|▉         | 19/200 [35:25<5:47:59, 115.36s/it]"
     ]
    },
    {
     "name": "stderr",
     "output_type": "stream",
     "text": [
      "\r",
      "OMP Test Batch for noise_level = 0.16:  10%|▉         | 19/200 [35:24<5:36:15, 111.47s/it]"
     ]
    },
    {
     "name": "stderr",
     "output_type": "stream",
     "text": [
      "\r",
      "OMP Test Batch for noise_level = 0.14:  10%|▉         | 19/200 [35:27<5:53:22, 117.14s/it]"
     ]
    },
    {
     "name": "stderr",
     "output_type": "stream",
     "text": [
      "\r",
      "OMP Test Batch for noise_level = 0.06:   9%|▉         | 18/200 [35:35<6:00:24, 118.82s/it]"
     ]
    },
    {
     "name": "stderr",
     "output_type": "stream",
     "text": [
      "\r",
      "OMP Test Batch for noise_level = 0.20:   9%|▉         | 18/200 [35:37<6:11:06, 122.34s/it]"
     ]
    },
    {
     "name": "stderr",
     "output_type": "stream",
     "text": [
      "\r",
      "OMP Test Batch for noise_level = 0.09:  10%|▉         | 19/200 [35:43<5:44:02, 114.05s/it]"
     ]
    },
    {
     "name": "stderr",
     "output_type": "stream",
     "text": [
      "\r",
      "OMP Test Batch for noise_level = 0.07:   9%|▉         | 18/200 [35:47<6:08:12, 121.39s/it]"
     ]
    },
    {
     "name": "stderr",
     "output_type": "stream",
     "text": [
      "\r",
      "OMP Test Batch for noise_level = 0.04:  10%|▉         | 19/200 [35:50<5:42:40, 113.60s/it]"
     ]
    },
    {
     "name": "stderr",
     "output_type": "stream",
     "text": [
      "\r",
      "OMP Test Batch for noise_level = 0.18:  10%|▉         | 19/200 [35:59<5:38:27, 112.20s/it]"
     ]
    },
    {
     "name": "stderr",
     "output_type": "stream",
     "text": [
      "\r",
      "OMP Test Batch for noise_level = 0.10:  10%|▉         | 19/200 [36:14<5:55:34, 117.87s/it]"
     ]
    },
    {
     "name": "stderr",
     "output_type": "stream",
     "text": [
      "\r",
      "OMP Test Batch for noise_level = 0.05:  10%|▉         | 19/200 [36:37<5:57:06, 118.38s/it]"
     ]
    },
    {
     "name": "stderr",
     "output_type": "stream",
     "text": [
      "\r",
      "OMP Test Batch for noise_level = 0.12:   9%|▉         | 18/200 [36:35<6:16:24, 124.09s/it]"
     ]
    },
    {
     "name": "stderr",
     "output_type": "stream",
     "text": [
      "\r",
      "OMP Test Batch for noise_level = 0.00:  10%|█         | 20/200 [36:49<5:32:42, 110.90s/it]"
     ]
    },
    {
     "name": "stderr",
     "output_type": "stream",
     "text": [
      "\r",
      "OMP Test Batch for noise_level = 0.03:  10%|▉         | 19/200 [37:08<6:02:17, 120.10s/it]"
     ]
    },
    {
     "name": "stderr",
     "output_type": "stream",
     "text": [
      "\r",
      "OMP Test Batch for noise_level = 0.02:  10%|▉         | 19/200 [37:12<6:04:38, 120.88s/it]"
     ]
    },
    {
     "name": "stderr",
     "output_type": "stream",
     "text": [
      "\r",
      "OMP Test Batch for noise_level = 0.08:  10%|▉         | 19/200 [37:12<5:58:16, 118.76s/it]"
     ]
    },
    {
     "name": "stderr",
     "output_type": "stream",
     "text": [
      "\r",
      "OMP Test Batch for noise_level = 0.16:  10%|█         | 20/200 [37:08<5:27:23, 109.13s/it]"
     ]
    },
    {
     "name": "stderr",
     "output_type": "stream",
     "text": [
      "\r",
      "OMP Test Batch for noise_level = 0.01:  10%|█         | 20/200 [37:22<5:47:21, 115.79s/it]"
     ]
    },
    {
     "name": "stderr",
     "output_type": "stream",
     "text": [
      "\r",
      "OMP Test Batch for noise_level = 0.09:  10%|█         | 20/200 [37:29<5:34:52, 111.62s/it]"
     ]
    },
    {
     "name": "stderr",
     "output_type": "stream",
     "text": [
      "\r",
      "OMP Test Batch for noise_level = 0.14:  10%|█         | 20/200 [37:30<5:56:23, 118.80s/it]"
     ]
    },
    {
     "name": "stderr",
     "output_type": "stream",
     "text": [
      "\r",
      "OMP Test Batch for noise_level = 0.20:  10%|▉         | 19/200 [37:32<6:01:56, 119.98s/it]"
     ]
    },
    {
     "name": "stderr",
     "output_type": "stream",
     "text": [
      "\r",
      "OMP Test Batch for noise_level = 0.06:  10%|▉         | 19/200 [37:46<6:08:46, 122.25s/it]"
     ]
    },
    {
     "name": "stderr",
     "output_type": "stream",
     "text": [
      "\r",
      "OMP Test Batch for noise_level = 0.07:  10%|▉         | 19/200 [37:49<6:07:29, 121.82s/it]\r",
      "OMP Test Batch for noise_level = 0.04:  10%|█         | 20/200 [37:52<5:48:25, 116.14s/it]"
     ]
    },
    {
     "name": "stderr",
     "output_type": "stream",
     "text": [
      "\r",
      "OMP Test Batch for noise_level = 0.18:  10%|█         | 20/200 [37:52<5:37:53, 112.63s/it]"
     ]
    },
    {
     "name": "stderr",
     "output_type": "stream",
     "text": [
      "\r",
      "OMP Test Batch for noise_level = 0.10:  10%|█         | 20/200 [38:07<5:49:03, 116.35s/it]"
     ]
    },
    {
     "name": "stderr",
     "output_type": "stream",
     "text": [
      "\r",
      "OMP Test Batch for noise_level = 0.05:  10%|█         | 20/200 [38:35<5:54:13, 118.08s/it]"
     ]
    },
    {
     "name": "stderr",
     "output_type": "stream",
     "text": [
      "\r",
      "OMP Test Batch for noise_level = 0.00:  10%|█         | 21/200 [38:46<5:35:37, 112.50s/it]"
     ]
    },
    {
     "name": "stderr",
     "output_type": "stream",
     "text": [
      "\r",
      "OMP Test Batch for noise_level = 0.12:  10%|▉         | 19/200 [38:42<6:17:03, 124.99s/it]"
     ]
    },
    {
     "name": "stderr",
     "output_type": "stream",
     "text": [
      "\r",
      "OMP Test Batch for noise_level = 0.03:  10%|█         | 20/200 [39:08<6:00:09, 120.05s/it]"
     ]
    },
    {
     "name": "stderr",
     "output_type": "stream",
     "text": [
      "\r",
      "OMP Test Batch for noise_level = 0.02:  10%|█         | 20/200 [39:12<6:01:33, 120.52s/it]"
     ]
    },
    {
     "name": "stderr",
     "output_type": "stream",
     "text": [
      "\r",
      "OMP Test Batch for noise_level = 0.01:  10%|█         | 21/200 [39:13<5:41:41, 114.53s/it]\r",
      "OMP Test Batch for noise_level = 0.16:  10%|█         | 21/200 [39:03<5:30:41, 110.85s/it]"
     ]
    },
    {
     "name": "stderr",
     "output_type": "stream",
     "text": [
      "\r",
      "OMP Test Batch for noise_level = 0.08:  10%|█         | 20/200 [39:09<5:54:30, 118.17s/it]"
     ]
    },
    {
     "name": "stderr",
     "output_type": "stream",
     "text": [
      "\r",
      "OMP Test Batch for noise_level = 0.09:  10%|█         | 21/200 [39:13<5:26:12, 109.35s/it]"
     ]
    },
    {
     "name": "stderr",
     "output_type": "stream",
     "text": [
      "\r",
      "OMP Test Batch for noise_level = 0.20:  10%|█         | 20/200 [39:20<5:49:02, 116.35s/it]"
     ]
    },
    {
     "name": "stderr",
     "output_type": "stream",
     "text": [
      "\r",
      "OMP Test Batch for noise_level = 0.14:  10%|█         | 21/200 [39:23<5:49:54, 117.29s/it]"
     ]
    },
    {
     "name": "stderr",
     "output_type": "stream",
     "text": [
      "\r",
      "OMP Test Batch for noise_level = 0.04:  10%|█         | 21/200 [39:44<5:43:08, 115.02s/it]"
     ]
    },
    {
     "name": "stderr",
     "output_type": "stream",
     "text": [
      "\r",
      "OMP Test Batch for noise_level = 0.06:  10%|█         | 20/200 [39:47<6:05:54, 121.97s/it]"
     ]
    },
    {
     "name": "stderr",
     "output_type": "stream",
     "text": [
      "\r",
      "OMP Test Batch for noise_level = 0.07:  10%|█         | 20/200 [39:49<6:03:26, 121.14s/it]\r",
      "OMP Test Batch for noise_level = 0.18:  10%|█         | 21/200 [39:43<5:34:20, 112.07s/it]"
     ]
    },
    {
     "name": "stderr",
     "output_type": "stream",
     "text": [
      "\r",
      "OMP Test Batch for noise_level = 0.10:  10%|█         | 21/200 [39:59<5:43:06, 115.01s/it]"
     ]
    },
    {
     "name": "stderr",
     "output_type": "stream",
     "text": [
      "\r",
      "OMP Test Batch for noise_level = 0.05:  10%|█         | 21/200 [40:30<5:49:55, 117.30s/it]"
     ]
    },
    {
     "name": "stderr",
     "output_type": "stream",
     "text": [
      "\r",
      "OMP Test Batch for noise_level = 0.00:  11%|█         | 22/200 [40:49<5:43:37, 115.83s/it]"
     ]
    },
    {
     "name": "stderr",
     "output_type": "stream",
     "text": [
      "\r",
      "OMP Test Batch for noise_level = 0.12:  10%|█         | 20/200 [40:47<6:14:45, 124.92s/it]"
     ]
    },
    {
     "name": "stderr",
     "output_type": "stream",
     "text": [
      "\r",
      "OMP Test Batch for noise_level = 0.03:  10%|█         | 21/200 [41:03<5:53:50, 118.60s/it]"
     ]
    },
    {
     "name": "stderr",
     "output_type": "stream",
     "text": [
      "\r",
      "OMP Test Batch for noise_level = 0.01:  11%|█         | 22/200 [41:10<5:41:35, 115.14s/it]"
     ]
    },
    {
     "name": "stderr",
     "output_type": "stream",
     "text": [
      "\r",
      "OMP Test Batch for noise_level = 0.16:  11%|█         | 22/200 [41:00<5:34:08, 112.63s/it]"
     ]
    },
    {
     "name": "stderr",
     "output_type": "stream",
     "text": [
      "\r",
      "OMP Test Batch for noise_level = 0.02:  10%|█         | 21/200 [41:10<5:57:32, 119.85s/it]"
     ]
    },
    {
     "name": "stderr",
     "output_type": "stream",
     "text": [
      "\r",
      "OMP Test Batch for noise_level = 0.08:  10%|█         | 21/200 [41:08<5:53:19, 118.44s/it]"
     ]
    },
    {
     "name": "stderr",
     "output_type": "stream",
     "text": [
      "\r",
      "OMP Test Batch for noise_level = 0.09:  11%|█         | 22/200 [41:10<5:31:10, 111.63s/it]"
     ]
    },
    {
     "name": "stderr",
     "output_type": "stream",
     "text": [
      "\r",
      "OMP Test Batch for noise_level = 0.14:  11%|█         | 22/200 [41:12<5:40:09, 114.66s/it]"
     ]
    },
    {
     "name": "stderr",
     "output_type": "stream",
     "text": [
      "\r",
      "OMP Test Batch for noise_level = 0.20:  10%|█         | 21/200 [41:20<5:50:36, 117.52s/it]"
     ]
    },
    {
     "name": "stderr",
     "output_type": "stream",
     "text": [
      "\r",
      "OMP Test Batch for noise_level = 0.04:  11%|█         | 22/200 [41:46<5:47:08, 117.02s/it]"
     ]
    },
    {
     "name": "stderr",
     "output_type": "stream",
     "text": [
      "\r",
      "OMP Test Batch for noise_level = 0.07:  10%|█         | 21/200 [41:52<6:02:46, 121.60s/it]"
     ]
    },
    {
     "name": "stderr",
     "output_type": "stream",
     "text": [
      "\r",
      "OMP Test Batch for noise_level = 0.18:  11%|█         | 22/200 [41:47<5:42:39, 115.50s/it]\r",
      "OMP Test Batch for noise_level = 0.06:  10%|█         | 21/200 [41:54<6:08:07, 123.40s/it]"
     ]
    },
    {
     "name": "stderr",
     "output_type": "stream",
     "text": [
      "\r",
      "OMP Test Batch for noise_level = 0.10:  11%|█         | 22/200 [41:58<5:44:51, 116.25s/it]"
     ]
    },
    {
     "name": "stderr",
     "output_type": "stream",
     "text": [
      "\r",
      "OMP Test Batch for noise_level = 0.05:  11%|█         | 22/200 [42:32<5:52:18, 118.76s/it]"
     ]
    },
    {
     "name": "stderr",
     "output_type": "stream",
     "text": [
      "\r",
      "OMP Test Batch for noise_level = 0.00:  12%|█▏        | 23/200 [42:40<5:36:51, 114.19s/it]"
     ]
    },
    {
     "name": "stderr",
     "output_type": "stream",
     "text": [
      "\r",
      "OMP Test Batch for noise_level = 0.16:  12%|█▏        | 23/200 [42:42<5:23:26, 109.64s/it]"
     ]
    },
    {
     "name": "stderr",
     "output_type": "stream",
     "text": [
      "\r",
      "OMP Test Batch for noise_level = 0.12:  10%|█         | 21/200 [42:53<6:13:29, 125.19s/it]"
     ]
    },
    {
     "name": "stderr",
     "output_type": "stream",
     "text": [
      "\r",
      "OMP Test Batch for noise_level = 0.09:  12%|█▏        | 23/200 [42:57<5:25:25, 110.31s/it]"
     ]
    },
    {
     "name": "stderr",
     "output_type": "stream",
     "text": [
      "\r",
      "OMP Test Batch for noise_level = 0.03:  11%|█         | 22/200 [43:03<5:53:10, 119.05s/it]"
     ]
    },
    {
     "name": "stderr",
     "output_type": "stream",
     "text": [
      "\r",
      "OMP Test Batch for noise_level = 0.01:  12%|█▏        | 23/200 [43:06<5:40:54, 115.56s/it]"
     ]
    },
    {
     "name": "stderr",
     "output_type": "stream",
     "text": [
      "\r",
      "OMP Test Batch for noise_level = 0.02:  11%|█         | 22/200 [43:12<5:56:55, 120.31s/it]"
     ]
    },
    {
     "name": "stderr",
     "output_type": "stream",
     "text": [
      "\r",
      "OMP Test Batch for noise_level = 0.08:  11%|█         | 22/200 [43:12<5:56:11, 120.07s/it]"
     ]
    },
    {
     "name": "stderr",
     "output_type": "stream",
     "text": [
      "\r",
      "OMP Test Batch for noise_level = 0.14:  12%|█▏        | 23/200 [43:12<5:43:03, 116.29s/it]"
     ]
    },
    {
     "name": "stderr",
     "output_type": "stream",
     "text": [
      "\r",
      "OMP Test Batch for noise_level = 0.20:  11%|█         | 22/200 [43:15<5:46:23, 116.76s/it]"
     ]
    },
    {
     "name": "stderr",
     "output_type": "stream",
     "text": [
      "\r",
      "OMP Test Batch for noise_level = 0.04:  12%|█▏        | 23/200 [43:42<5:44:07, 116.65s/it]"
     ]
    },
    {
     "name": "stderr",
     "output_type": "stream",
     "text": [
      "\r",
      "OMP Test Batch for noise_level = 0.07:  11%|█         | 22/200 [43:56<6:03:32, 122.54s/it]"
     ]
    },
    {
     "name": "stderr",
     "output_type": "stream",
     "text": [
      "\r",
      "OMP Test Batch for noise_level = 0.18:  12%|█▏        | 23/200 [43:51<5:48:38, 118.18s/it]"
     ]
    },
    {
     "name": "stderr",
     "output_type": "stream",
     "text": [
      "\r",
      "OMP Test Batch for noise_level = 0.06:  11%|█         | 22/200 [43:59<6:07:26, 123.85s/it]"
     ]
    },
    {
     "name": "stderr",
     "output_type": "stream",
     "text": [
      "\r",
      "OMP Test Batch for noise_level = 0.10:  12%|█▏        | 23/200 [44:01<5:49:02, 118.32s/it]"
     ]
    },
    {
     "name": "stderr",
     "output_type": "stream",
     "text": [
      "\r",
      "OMP Test Batch for noise_level = 0.00:  12%|█▏        | 24/200 [44:30<5:31:21, 112.96s/it]"
     ]
    },
    {
     "name": "stderr",
     "output_type": "stream",
     "text": [
      "\r",
      "OMP Test Batch for noise_level = 0.05:  12%|█▏        | 23/200 [44:35<5:53:59, 120.00s/it]"
     ]
    },
    {
     "name": "stderr",
     "output_type": "stream",
     "text": [
      "\r",
      "OMP Test Batch for noise_level = 0.16:  12%|█▏        | 24/200 [44:41<5:29:41, 112.39s/it]"
     ]
    },
    {
     "name": "stderr",
     "output_type": "stream",
     "text": [
      "\r",
      "OMP Test Batch for noise_level = 0.09:  12%|█▏        | 24/200 [44:57<5:31:37, 113.05s/it]"
     ]
    },
    {
     "name": "stderr",
     "output_type": "stream",
     "text": [
      "\r",
      "OMP Test Batch for noise_level = 0.03:  12%|█▏        | 23/200 [45:03<5:51:42, 119.22s/it]"
     ]
    },
    {
     "name": "stderr",
     "output_type": "stream",
     "text": [
      "\r",
      "OMP Test Batch for noise_level = 0.01:  12%|█▏        | 24/200 [45:08<5:44:42, 117.52s/it]"
     ]
    },
    {
     "name": "stderr",
     "output_type": "stream",
     "text": [
      "\r",
      "OMP Test Batch for noise_level = 0.14:  12%|█▏        | 24/200 [45:03<5:36:21, 114.67s/it]"
     ]
    },
    {
     "name": "stderr",
     "output_type": "stream",
     "text": [
      "\r",
      "OMP Test Batch for noise_level = 0.12:  11%|█         | 22/200 [45:06<6:18:01, 127.43s/it]\r",
      "OMP Test Batch for noise_level = 0.02:  12%|█▏        | 23/200 [45:13<5:56:07, 120.72s/it]"
     ]
    },
    {
     "name": "stderr",
     "output_type": "stream",
     "text": [
      "\r",
      "OMP Test Batch for noise_level = 0.08:  12%|█▏        | 23/200 [45:17<5:58:53, 121.66s/it]"
     ]
    },
    {
     "name": "stderr",
     "output_type": "stream",
     "text": [
      "\r",
      "OMP Test Batch for noise_level = 0.20:  12%|█▏        | 23/200 [45:17<5:48:49, 118.24s/it]"
     ]
    },
    {
     "name": "stderr",
     "output_type": "stream",
     "text": [
      "\r",
      "OMP Test Batch for noise_level = 0.04:  12%|█▏        | 24/200 [45:40<5:43:24, 117.07s/it]"
     ]
    },
    {
     "name": "stderr",
     "output_type": "stream",
     "text": [
      "\r",
      "OMP Test Batch for noise_level = 0.07:  12%|█▏        | 23/200 [45:54<5:56:47, 120.95s/it]"
     ]
    },
    {
     "name": "stderr",
     "output_type": "stream",
     "text": [
      "\r",
      "OMP Test Batch for noise_level = 0.10:  12%|█▏        | 24/200 [45:53<5:40:51, 116.20s/it]"
     ]
    },
    {
     "name": "stderr",
     "output_type": "stream",
     "text": [
      "\r",
      "OMP Test Batch for noise_level = 0.18:  12%|█▏        | 24/200 [45:57<5:53:38, 120.56s/it]"
     ]
    },
    {
     "name": "stderr",
     "output_type": "stream",
     "text": [
      "\r",
      "OMP Test Batch for noise_level = 0.06:  12%|█▏        | 23/200 [46:06<6:08:31, 124.92s/it]"
     ]
    },
    {
     "name": "stderr",
     "output_type": "stream",
     "text": [
      "\r",
      "OMP Test Batch for noise_level = 0.00:  12%|█▎        | 25/200 [46:21<5:28:04, 112.48s/it]"
     ]
    },
    {
     "name": "stderr",
     "output_type": "stream",
     "text": [
      "\r",
      "OMP Test Batch for noise_level = 0.05:  12%|█▏        | 24/200 [46:31<5:48:02, 118.65s/it]"
     ]
    },
    {
     "name": "stderr",
     "output_type": "stream",
     "text": [
      "\r",
      "OMP Test Batch for noise_level = 0.16:  12%|█▎        | 25/200 [46:27<5:22:05, 110.43s/it]"
     ]
    },
    {
     "name": "stderr",
     "output_type": "stream",
     "text": [
      "\r",
      "OMP Test Batch for noise_level = 0.14:  12%|█▎        | 25/200 [46:43<5:21:59, 110.40s/it]"
     ]
    },
    {
     "name": "stderr",
     "output_type": "stream",
     "text": [
      "\r",
      "OMP Test Batch for noise_level = 0.09:  12%|█▎        | 25/200 [46:51<5:30:45, 113.40s/it]"
     ]
    },
    {
     "name": "stderr",
     "output_type": "stream",
     "text": [
      "\r",
      "OMP Test Batch for noise_level = 0.02:  12%|█▏        | 24/200 [46:59<5:41:11, 116.32s/it]"
     ]
    },
    {
     "name": "stderr",
     "output_type": "stream",
     "text": [
      "\r",
      "OMP Test Batch for noise_level = 0.03:  12%|█▏        | 24/200 [47:01<5:49:07, 119.02s/it]"
     ]
    },
    {
     "name": "stderr",
     "output_type": "stream",
     "text": [
      "\r",
      "OMP Test Batch for noise_level = 0.01:  12%|█▎        | 25/200 [47:03<5:40:21, 116.69s/it]"
     ]
    },
    {
     "name": "stderr",
     "output_type": "stream",
     "text": [
      "\r",
      "OMP Test Batch for noise_level = 0.12:  12%|█▏        | 23/200 [47:10<6:13:17, 126.54s/it]"
     ]
    },
    {
     "name": "stderr",
     "output_type": "stream",
     "text": [
      "\r",
      "OMP Test Batch for noise_level = 0.08:  12%|█▏        | 24/200 [47:16<5:54:18, 120.79s/it]"
     ]
    },
    {
     "name": "stderr",
     "output_type": "stream",
     "text": [
      "\r",
      "OMP Test Batch for noise_level = 0.20:  12%|█▏        | 24/200 [47:12<5:43:54, 117.24s/it]"
     ]
    },
    {
     "name": "stderr",
     "output_type": "stream",
     "text": [
      "\r",
      "OMP Test Batch for noise_level = 0.04:  12%|█▎        | 25/200 [47:33<5:37:55, 115.86s/it]"
     ]
    },
    {
     "name": "stderr",
     "output_type": "stream",
     "text": [
      "\r",
      "OMP Test Batch for noise_level = 0.10:  12%|█▎        | 25/200 [47:37<5:28:11, 112.52s/it]"
     ]
    },
    {
     "name": "stderr",
     "output_type": "stream",
     "text": [
      "\r",
      "OMP Test Batch for noise_level = 0.07:  12%|█▏        | 24/200 [47:50<5:50:39, 119.54s/it]"
     ]
    },
    {
     "name": "stderr",
     "output_type": "stream",
     "text": [
      "\r",
      "OMP Test Batch for noise_level = 0.18:  12%|█▎        | 25/200 [47:55<5:49:19, 119.77s/it]"
     ]
    },
    {
     "name": "stderr",
     "output_type": "stream",
     "text": [
      "\r",
      "OMP Test Batch for noise_level = 0.06:  12%|█▏        | 24/200 [48:09<6:04:23, 124.23s/it]"
     ]
    },
    {
     "name": "stderr",
     "output_type": "stream",
     "text": [
      "\r",
      "OMP Test Batch for noise_level = 0.00:  13%|█▎        | 26/200 [48:19<5:30:34, 113.99s/it]"
     ]
    },
    {
     "name": "stderr",
     "output_type": "stream",
     "text": [
      "\r",
      "OMP Test Batch for noise_level = 0.16:  13%|█▎        | 26/200 [48:18<5:20:59, 110.69s/it]"
     ]
    },
    {
     "name": "stderr",
     "output_type": "stream",
     "text": [
      "\r",
      "OMP Test Batch for noise_level = 0.05:  12%|█▎        | 25/200 [48:32<5:48:31, 119.49s/it]"
     ]
    },
    {
     "name": "stderr",
     "output_type": "stream",
     "text": [
      "\r",
      "OMP Test Batch for noise_level = 0.01:  13%|█▎        | 26/200 [48:37<5:18:08, 109.70s/it]"
     ]
    },
    {
     "name": "stderr",
     "output_type": "stream",
     "text": [
      "\r",
      "OMP Test Batch for noise_level = 0.14:  13%|█▎        | 26/200 [48:42<5:27:51, 113.05s/it]"
     ]
    },
    {
     "name": "stderr",
     "output_type": "stream",
     "text": [
      "\r",
      "OMP Test Batch for noise_level = 0.02:  12%|█▎        | 25/200 [48:58<5:41:04, 116.94s/it]"
     ]
    },
    {
     "name": "stderr",
     "output_type": "stream",
     "text": [
      "\r",
      "OMP Test Batch for noise_level = 0.03:  12%|█▎        | 25/200 [49:02<5:48:29, 119.48s/it]"
     ]
    },
    {
     "name": "stderr",
     "output_type": "stream",
     "text": [
      "\r",
      "OMP Test Batch for noise_level = 0.09:  13%|█▎        | 26/200 [48:57<5:40:02, 117.26s/it]"
     ]
    },
    {
     "name": "stderr",
     "output_type": "stream",
     "text": [
      "\r",
      "OMP Test Batch for noise_level = 0.20:  12%|█▎        | 25/200 [48:59<5:33:36, 114.38s/it]"
     ]
    },
    {
     "name": "stderr",
     "output_type": "stream",
     "text": [
      "\r",
      "OMP Test Batch for noise_level = 0.08:  12%|█▎        | 25/200 [49:17<5:52:03, 120.71s/it]"
     ]
    },
    {
     "name": "stderr",
     "output_type": "stream",
     "text": [
      "\r",
      "OMP Test Batch for noise_level = 0.12:  12%|█▏        | 24/200 [49:18<6:12:07, 126.86s/it]"
     ]
    },
    {
     "name": "stderr",
     "output_type": "stream",
     "text": [
      "\r",
      "OMP Test Batch for noise_level = 0.04:  13%|█▎        | 26/200 [49:26<5:33:46, 115.09s/it]"
     ]
    },
    {
     "name": "stderr",
     "output_type": "stream",
     "text": [
      "\r",
      "OMP Test Batch for noise_level = 0.10:  13%|█▎        | 26/200 [49:35<5:31:53, 114.45s/it]"
     ]
    },
    {
     "name": "stderr",
     "output_type": "stream",
     "text": [
      "\r",
      "OMP Test Batch for noise_level = 0.07:  12%|█▎        | 25/200 [49:52<5:51:16, 120.44s/it]"
     ]
    },
    {
     "name": "stderr",
     "output_type": "stream",
     "text": [
      "\r",
      "OMP Test Batch for noise_level = 0.18:  13%|█▎        | 26/200 [49:55<5:47:49, 119.94s/it]"
     ]
    },
    {
     "name": "stderr",
     "output_type": "stream",
     "text": [
      "\r",
      "OMP Test Batch for noise_level = 0.06:  12%|█▎        | 25/200 [50:19<6:07:41, 126.06s/it]\r",
      "OMP Test Batch for noise_level = 0.00:  14%|█▎        | 27/200 [50:24<5:38:32, 117.42s/it]"
     ]
    },
    {
     "name": "stderr",
     "output_type": "stream",
     "text": [
      "\r",
      "OMP Test Batch for noise_level = 0.16:  14%|█▎        | 27/200 [50:15<5:24:45, 112.64s/it]"
     ]
    },
    {
     "name": "stderr",
     "output_type": "stream",
     "text": [
      "\r",
      "OMP Test Batch for noise_level = 0.01:  14%|█▎        | 27/200 [50:33<5:22:09, 111.73s/it]"
     ]
    },
    {
     "name": "stderr",
     "output_type": "stream",
     "text": [
      "\r",
      "OMP Test Batch for noise_level = 0.05:  13%|█▎        | 26/200 [50:31<5:45:37, 119.18s/it]"
     ]
    },
    {
     "name": "stderr",
     "output_type": "stream",
     "text": [
      "\r",
      "OMP Test Batch for noise_level = 0.14:  14%|█▎        | 27/200 [50:38<5:27:55, 113.73s/it]"
     ]
    },
    {
     "name": "stderr",
     "output_type": "stream",
     "text": [
      "\r",
      "OMP Test Batch for noise_level = 0.02:  13%|█▎        | 26/200 [50:48<5:33:02, 114.84s/it]"
     ]
    },
    {
     "name": "stderr",
     "output_type": "stream",
     "text": [
      "\r",
      "OMP Test Batch for noise_level = 0.09:  14%|█▎        | 27/200 [50:48<5:32:34, 115.34s/it]"
     ]
    },
    {
     "name": "stderr",
     "output_type": "stream",
     "text": [
      "\r",
      "OMP Test Batch for noise_level = 0.03:  13%|█▎        | 26/200 [50:54<5:40:19, 117.35s/it]"
     ]
    },
    {
     "name": "stderr",
     "output_type": "stream",
     "text": [
      "\r",
      "OMP Test Batch for noise_level = 0.20:  13%|█▎        | 26/200 [51:04<5:40:35, 117.45s/it]"
     ]
    },
    {
     "name": "stderr",
     "output_type": "stream",
     "text": [
      "\r",
      "OMP Test Batch for noise_level = 0.08:  13%|█▎        | 26/200 [51:16<5:48:41, 120.24s/it]"
     ]
    },
    {
     "name": "stderr",
     "output_type": "stream",
     "text": [
      "\r",
      "OMP Test Batch for noise_level = 0.04:  14%|█▎        | 27/200 [51:21<5:31:46, 115.07s/it]"
     ]
    },
    {
     "name": "stderr",
     "output_type": "stream",
     "text": [
      "\r",
      "OMP Test Batch for noise_level = 0.12:  12%|█▎        | 25/200 [51:23<6:08:19, 126.28s/it]"
     ]
    },
    {
     "name": "stderr",
     "output_type": "stream",
     "text": [
      "\r",
      "OMP Test Batch for noise_level = 0.10:  14%|█▎        | 27/200 [51:31<5:31:02, 114.81s/it]"
     ]
    },
    {
     "name": "stderr",
     "output_type": "stream",
     "text": [
      "\r",
      "OMP Test Batch for noise_level = 0.07:  13%|█▎        | 26/200 [51:53<5:49:35, 120.55s/it]"
     ]
    },
    {
     "name": "stderr",
     "output_type": "stream",
     "text": [
      "\r",
      "OMP Test Batch for noise_level = 0.18:  14%|█▎        | 27/200 [51:49<5:40:37, 118.13s/it]"
     ]
    },
    {
     "name": "stderr",
     "output_type": "stream",
     "text": [
      "\r",
      "OMP Test Batch for noise_level = 0.16:  14%|█▍        | 28/200 [52:08<5:22:43, 112.58s/it]"
     ]
    },
    {
     "name": "stderr",
     "output_type": "stream",
     "text": [
      "\r",
      "OMP Test Batch for noise_level = 0.00:  14%|█▍        | 28/200 [52:25<5:39:58, 118.60s/it]"
     ]
    },
    {
     "name": "stderr",
     "output_type": "stream",
     "text": [
      "\r",
      "OMP Test Batch for noise_level = 0.06:  13%|█▎        | 26/200 [52:23<6:03:53, 125.48s/it]"
     ]
    },
    {
     "name": "stderr",
     "output_type": "stream",
     "text": [
      "\r",
      "OMP Test Batch for noise_level = 0.01:  14%|█▍        | 28/200 [52:29<5:24:08, 113.07s/it]"
     ]
    },
    {
     "name": "stderr",
     "output_type": "stream",
     "text": [
      "\r",
      "OMP Test Batch for noise_level = 0.05:  14%|█▎        | 27/200 [52:27<5:41:30, 118.44s/it]"
     ]
    },
    {
     "name": "stderr",
     "output_type": "stream",
     "text": [
      "\r",
      "OMP Test Batch for noise_level = 0.09:  14%|█▍        | 28/200 [52:34<5:22:51, 112.63s/it]"
     ]
    },
    {
     "name": "stderr",
     "output_type": "stream",
     "text": [
      "\r",
      "OMP Test Batch for noise_level = 0.14:  14%|█▍        | 28/200 [52:32<5:26:07, 113.77s/it]"
     ]
    },
    {
     "name": "stderr",
     "output_type": "stream",
     "text": [
      "\r",
      "OMP Test Batch for noise_level = 0.03:  14%|█▎        | 27/200 [52:44<5:31:44, 115.05s/it]"
     ]
    },
    {
     "name": "stderr",
     "output_type": "stream",
     "text": [
      "\r",
      "OMP Test Batch for noise_level = 0.02:  14%|█▎        | 27/200 [52:45<5:33:10, 115.55s/it]"
     ]
    },
    {
     "name": "stderr",
     "output_type": "stream",
     "text": [
      "\r",
      "OMP Test Batch for noise_level = 0.20:  14%|█▎        | 27/200 [52:47<5:26:18, 113.17s/it]"
     ]
    },
    {
     "name": "stderr",
     "output_type": "stream",
     "text": [
      "\r",
      "OMP Test Batch for noise_level = 0.04:  14%|█▍        | 28/200 [53:11<5:25:37, 113.59s/it]"
     ]
    },
    {
     "name": "stderr",
     "output_type": "stream",
     "text": [
      "\r",
      "OMP Test Batch for noise_level = 0.08:  14%|█▎        | 27/200 [53:17<5:47:20, 120.47s/it]"
     ]
    },
    {
     "name": "stderr",
     "output_type": "stream",
     "text": [
      "\r",
      "OMP Test Batch for noise_level = 0.10:  14%|█▍        | 28/200 [53:19<5:23:04, 112.70s/it]"
     ]
    },
    {
     "name": "stderr",
     "output_type": "stream",
     "text": [
      "\r",
      "OMP Test Batch for noise_level = 0.12:  13%|█▎        | 26/200 [53:28<6:05:51, 126.16s/it]"
     ]
    },
    {
     "name": "stderr",
     "output_type": "stream",
     "text": [
      "\r",
      "OMP Test Batch for noise_level = 0.07:  14%|█▎        | 27/200 [53:38<5:33:51, 115.79s/it]"
     ]
    },
    {
     "name": "stderr",
     "output_type": "stream",
     "text": [
      "\r",
      "OMP Test Batch for noise_level = 0.18:  14%|█▍        | 28/200 [53:51<5:41:50, 119.25s/it]"
     ]
    },
    {
     "name": "stderr",
     "output_type": "stream",
     "text": [
      "\r",
      "OMP Test Batch for noise_level = 0.16:  14%|█▍        | 29/200 [53:56<5:16:52, 111.19s/it]"
     ]
    },
    {
     "name": "stderr",
     "output_type": "stream",
     "text": [
      "\r",
      "OMP Test Batch for noise_level = 0.14:  14%|█▍        | 29/200 [54:01<5:03:46, 106.59s/it]"
     ]
    },
    {
     "name": "stderr",
     "output_type": "stream",
     "text": [
      "\r",
      "OMP Test Batch for noise_level = 0.01:  14%|█▍        | 29/200 [54:15<5:16:19, 110.99s/it]"
     ]
    },
    {
     "name": "stderr",
     "output_type": "stream",
     "text": [
      "\r",
      "OMP Test Batch for noise_level = 0.06:  14%|█▎        | 27/200 [54:16<5:50:33, 121.58s/it]"
     ]
    },
    {
     "name": "stderr",
     "output_type": "stream",
     "text": [
      "\r",
      "OMP Test Batch for noise_level = 0.00:  14%|█▍        | 29/200 [54:22<5:36:13, 117.97s/it]"
     ]
    },
    {
     "name": "stderr",
     "output_type": "stream",
     "text": [
      "\r",
      "OMP Test Batch for noise_level = 0.05:  14%|█▍        | 28/200 [54:23<5:37:08, 117.61s/it]"
     ]
    },
    {
     "name": "stderr",
     "output_type": "stream",
     "text": [
      "\r",
      "OMP Test Batch for noise_level = 0.02:  14%|█▍        | 28/200 [54:31<5:23:20, 112.79s/it]"
     ]
    },
    {
     "name": "stderr",
     "output_type": "stream",
     "text": [
      "\r",
      "OMP Test Batch for noise_level = 0.09:  14%|█▍        | 29/200 [54:27<5:20:57, 112.62s/it]"
     ]
    },
    {
     "name": "stderr",
     "output_type": "stream",
     "text": [
      "\r",
      "OMP Test Batch for noise_level = 0.03:  14%|█▍        | 28/200 [54:36<5:27:17, 114.17s/it]"
     ]
    },
    {
     "name": "stderr",
     "output_type": "stream",
     "text": [
      "\r",
      "OMP Test Batch for noise_level = 0.20:  14%|█▍        | 28/200 [54:45<5:28:33, 114.61s/it]"
     ]
    },
    {
     "name": "stderr",
     "output_type": "stream",
     "text": [
      "\r",
      "OMP Test Batch for noise_level = 0.04:  14%|█▍        | 29/200 [55:01<5:20:09, 112.33s/it]"
     ]
    },
    {
     "name": "stderr",
     "output_type": "stream",
     "text": [
      "\r",
      "OMP Test Batch for noise_level = 0.08:  14%|█▍        | 28/200 [55:18<5:45:38, 120.57s/it]"
     ]
    },
    {
     "name": "stderr",
     "output_type": "stream",
     "text": [
      "\r",
      "OMP Test Batch for noise_level = 0.10:  14%|█▍        | 29/200 [55:18<5:26:49, 114.68s/it]"
     ]
    },
    {
     "name": "stderr",
     "output_type": "stream",
     "text": [
      "\r",
      "OMP Test Batch for noise_level = 0.12:  14%|█▎        | 27/200 [55:32<6:01:13, 125.28s/it]"
     ]
    },
    {
     "name": "stderr",
     "output_type": "stream",
     "text": [
      "\r",
      "OMP Test Batch for noise_level = 0.07:  14%|█▍        | 28/200 [55:45<5:41:28, 119.12s/it]"
     ]
    },
    {
     "name": "stderr",
     "output_type": "stream",
     "text": [
      "\r",
      "OMP Test Batch for noise_level = 0.18:  14%|█▍        | 29/200 [55:41<5:31:43, 116.39s/it]"
     ]
    },
    {
     "name": "stderr",
     "output_type": "stream",
     "text": [
      "\r",
      "OMP Test Batch for noise_level = 0.16:  15%|█▌        | 30/200 [55:43<5:11:26, 109.92s/it]"
     ]
    },
    {
     "name": "stderr",
     "output_type": "stream",
     "text": [
      "\r",
      "OMP Test Batch for noise_level = 0.14:  15%|█▌        | 30/200 [55:48<5:02:19, 106.70s/it]"
     ]
    },
    {
     "name": "stderr",
     "output_type": "stream",
     "text": [
      "\r",
      "OMP Test Batch for noise_level = 0.01:  15%|█▌        | 30/200 [56:10<5:17:54, 112.20s/it]"
     ]
    },
    {
     "name": "stderr",
     "output_type": "stream",
     "text": [
      "\r",
      "OMP Test Batch for noise_level = 0.05:  14%|█▍        | 29/200 [56:07<5:23:53, 113.65s/it]"
     ]
    },
    {
     "name": "stderr",
     "output_type": "stream",
     "text": [
      "\r",
      "OMP Test Batch for noise_level = 0.00:  15%|█▌        | 30/200 [56:17<5:32:04, 117.20s/it]"
     ]
    },
    {
     "name": "stderr",
     "output_type": "stream",
     "text": [
      "\r",
      "OMP Test Batch for noise_level = 0.06:  14%|█▍        | 28/200 [56:19<5:49:56, 122.07s/it]"
     ]
    },
    {
     "name": "stderr",
     "output_type": "stream",
     "text": [
      "\r",
      "OMP Test Batch for noise_level = 0.09:  15%|█▌        | 30/200 [56:21<5:20:27, 113.10s/it]"
     ]
    },
    {
     "name": "stderr",
     "output_type": "stream",
     "text": [
      "\r",
      "OMP Test Batch for noise_level = 0.02:  14%|█▍        | 29/200 [56:32<5:28:16, 115.18s/it]"
     ]
    },
    {
     "name": "stderr",
     "output_type": "stream",
     "text": [
      "\r",
      "OMP Test Batch for noise_level = 0.03:  14%|█▍        | 29/200 [56:33<5:27:50, 115.03s/it]"
     ]
    },
    {
     "name": "stderr",
     "output_type": "stream",
     "text": [
      "\r",
      "OMP Test Batch for noise_level = 0.20:  14%|█▍        | 29/200 [56:32<5:20:00, 112.28s/it]"
     ]
    },
    {
     "name": "stderr",
     "output_type": "stream",
     "text": [
      "\r",
      "OMP Test Batch for noise_level = 0.04:  15%|█▌        | 30/200 [56:54<5:19:13, 112.66s/it]"
     ]
    },
    {
     "name": "stderr",
     "output_type": "stream",
     "text": [
      "\r",
      "OMP Test Batch for noise_level = 0.10:  15%|█▌        | 30/200 [57:12<5:23:54, 114.32s/it]"
     ]
    },
    {
     "name": "stderr",
     "output_type": "stream",
     "text": [
      "\r",
      "OMP Test Batch for noise_level = 0.08:  14%|█▍        | 29/200 [57:19<5:44:20, 120.82s/it]"
     ]
    },
    {
     "name": "stderr",
     "output_type": "stream",
     "text": [
      "\r",
      "OMP Test Batch for noise_level = 0.12:  14%|█▍        | 28/200 [57:23<5:46:55, 121.02s/it]"
     ]
    },
    {
     "name": "stderr",
     "output_type": "stream",
     "text": [
      "\r",
      "OMP Test Batch for noise_level = 0.07:  14%|█▍        | 29/200 [57:32<5:29:47, 115.72s/it]"
     ]
    },
    {
     "name": "stderr",
     "output_type": "stream",
     "text": [
      "\r",
      "OMP Test Batch for noise_level = 0.16:  16%|█▌        | 31/200 [57:32<5:09:28, 109.87s/it]"
     ]
    },
    {
     "name": "stderr",
     "output_type": "stream",
     "text": [
      "\r",
      "OMP Test Batch for noise_level = 0.14:  16%|█▌        | 31/200 [57:38<5:03:05, 107.60s/it]"
     ]
    },
    {
     "name": "stderr",
     "output_type": "stream",
     "text": [
      "\r",
      "OMP Test Batch for noise_level = 0.18:  15%|█▌        | 30/200 [57:40<5:32:07, 117.22s/it]"
     ]
    },
    {
     "name": "stderr",
     "output_type": "stream",
     "text": [
      "\r",
      "OMP Test Batch for noise_level = 0.01:  16%|█▌        | 31/200 [58:04<5:17:01, 112.55s/it]"
     ]
    },
    {
     "name": "stderr",
     "output_type": "stream",
     "text": [
      "\r",
      "OMP Test Batch for noise_level = 0.05:  15%|█▌        | 30/200 [58:03<5:23:49, 114.29s/it]"
     ]
    },
    {
     "name": "stderr",
     "output_type": "stream",
     "text": [
      "\r",
      "OMP Test Batch for noise_level = 0.00:  16%|█▌        | 31/200 [58:11<5:27:26, 116.25s/it]"
     ]
    },
    {
     "name": "stderr",
     "output_type": "stream",
     "text": [
      "\r",
      "OMP Test Batch for noise_level = 0.02:  15%|█▌        | 30/200 [58:18<5:18:10, 112.30s/it]"
     ]
    },
    {
     "name": "stderr",
     "output_type": "stream",
     "text": [
      "\r",
      "OMP Test Batch for noise_level = 0.03:  15%|█▌        | 30/200 [58:17<5:16:33, 111.73s/it]"
     ]
    },
    {
     "name": "stderr",
     "output_type": "stream",
     "text": [
      "\r",
      "OMP Test Batch for noise_level = 0.09:  16%|█▌        | 31/200 [58:13<5:17:45, 112.81s/it]"
     ]
    },
    {
     "name": "stderr",
     "output_type": "stream",
     "text": [
      "\r",
      "OMP Test Batch for noise_level = 0.20:  15%|█▌        | 30/200 [58:09<5:05:00, 107.65s/it]"
     ]
    },
    {
     "name": "stderr",
     "output_type": "stream",
     "text": [
      "\r",
      "OMP Test Batch for noise_level = 0.06:  14%|█▍        | 29/200 [58:21<5:47:40, 121.99s/it]"
     ]
    },
    {
     "name": "stderr",
     "output_type": "stream",
     "text": [
      "\r",
      "OMP Test Batch for noise_level = 0.04:  16%|█▌        | 31/200 [58:38<5:09:49, 110.00s/it]"
     ]
    },
    {
     "name": "stderr",
     "output_type": "stream",
     "text": [
      "\r",
      "OMP Test Batch for noise_level = 0.10:  16%|█▌        | 31/200 [59:07<5:22:57, 114.66s/it]"
     ]
    },
    {
     "name": "stderr",
     "output_type": "stream",
     "text": [
      "\r",
      "OMP Test Batch for noise_level = 0.08:  15%|█▌        | 30/200 [59:14<5:37:45, 119.21s/it]"
     ]
    },
    {
     "name": "stderr",
     "output_type": "stream",
     "text": [
      "\r",
      "OMP Test Batch for noise_level = 0.16:  16%|█▌        | 32/200 [59:18<5:04:08, 108.62s/it]"
     ]
    },
    {
     "name": "stderr",
     "output_type": "stream",
     "text": [
      "\r",
      "OMP Test Batch for noise_level = 0.12:  14%|█▍        | 29/200 [59:24<5:45:19, 121.17s/it]"
     ]
    },
    {
     "name": "stderr",
     "output_type": "stream",
     "text": [
      "\r",
      "OMP Test Batch for noise_level = 0.07:  15%|█▌        | 30/200 [59:30<5:29:04, 116.15s/it]"
     ]
    },
    {
     "name": "stderr",
     "output_type": "stream",
     "text": [
      "\r",
      "OMP Test Batch for noise_level = 0.18:  16%|█▌        | 31/200 [59:42<5:34:13, 118.66s/it]"
     ]
    },
    {
     "name": "stderr",
     "output_type": "stream",
     "text": [
      "\r",
      "OMP Test Batch for noise_level = 0.14:  16%|█▌        | 32/200 [59:43<5:16:08, 112.91s/it]"
     ]
    },
    {
     "name": "stderr",
     "output_type": "stream",
     "text": [
      "\r",
      "OMP Test Batch for noise_level = 0.01:  16%|█▌        | 32/200 [59:54<5:13:09, 111.84s/it]"
     ]
    },
    {
     "name": "stderr",
     "output_type": "stream",
     "text": [
      "\r",
      "OMP Test Batch for noise_level = 0.05:  16%|█▌        | 31/200 [1:00:00<5:24:29, 115.20s/it]"
     ]
    },
    {
     "name": "stderr",
     "output_type": "stream",
     "text": [
      "\r",
      "OMP Test Batch for noise_level = 0.09:  16%|█▌        | 32/200 [1:00:03<5:13:17, 111.89s/it]"
     ]
    },
    {
     "name": "stderr",
     "output_type": "stream",
     "text": [
      "\r",
      "OMP Test Batch for noise_level = 0.00:  16%|█▌        | 32/200 [1:00:12<5:28:59, 117.49s/it]"
     ]
    },
    {
     "name": "stderr",
     "output_type": "stream",
     "text": [
      "\r",
      "OMP Test Batch for noise_level = 0.03:  16%|█▌        | 31/200 [1:00:11<5:16:37, 112.41s/it]"
     ]
    },
    {
     "name": "stderr",
     "output_type": "stream",
     "text": [
      "\r",
      "OMP Test Batch for noise_level = 0.02:  16%|█▌        | 31/200 [1:00:14<5:19:46, 113.53s/it]"
     ]
    },
    {
     "name": "stderr",
     "output_type": "stream",
     "text": [
      "\r",
      "OMP Test Batch for noise_level = 0.20:  16%|█▌        | 31/200 [1:00:13<5:16:51, 112.50s/it]"
     ]
    },
    {
     "name": "stderr",
     "output_type": "stream",
     "text": [
      "\r",
      "OMP Test Batch for noise_level = 0.06:  15%|█▌        | 30/200 [1:00:21<5:44:40, 121.65s/it]"
     ]
    },
    {
     "name": "stderr",
     "output_type": "stream",
     "text": [
      "\r",
      "OMP Test Batch for noise_level = 0.04:  16%|█▌        | 32/200 [1:00:37<5:15:47, 112.78s/it]"
     ]
    },
    {
     "name": "stderr",
     "output_type": "stream",
     "text": [
      "\r",
      "OMP Test Batch for noise_level = 0.16:  16%|█▋        | 33/200 [1:00:57<4:54:10, 105.69s/it]"
     ]
    },
    {
     "name": "stderr",
     "output_type": "stream",
     "text": [
      "\r",
      "OMP Test Batch for noise_level = 0.08:  16%|█▌        | 31/200 [1:01:07<5:29:51, 117.11s/it]"
     ]
    },
    {
     "name": "stderr",
     "output_type": "stream",
     "text": [
      "\r",
      "OMP Test Batch for noise_level = 0.10:  16%|█▌        | 32/200 [1:01:07<5:25:30, 116.25s/it]"
     ]
    },
    {
     "name": "stderr",
     "output_type": "stream",
     "text": [
      "\r",
      "OMP Test Batch for noise_level = 0.12:  15%|█▌        | 30/200 [1:01:19<5:37:36, 119.16s/it]"
     ]
    },
    {
     "name": "stderr",
     "output_type": "stream",
     "text": [
      "\r",
      "OMP Test Batch for noise_level = 0.14:  16%|█▋        | 33/200 [1:01:29<5:08:02, 110.67s/it]"
     ]
    },
    {
     "name": "stderr",
     "output_type": "stream",
     "text": [
      "\r",
      "OMP Test Batch for noise_level = 0.07:  16%|█▌        | 31/200 [1:01:35<5:34:57, 118.92s/it]"
     ]
    },
    {
     "name": "stderr",
     "output_type": "stream",
     "text": [
      "\r",
      "OMP Test Batch for noise_level = 0.01:  16%|█▋        | 33/200 [1:01:45<5:10:52, 111.69s/it]"
     ]
    },
    {
     "name": "stderr",
     "output_type": "stream",
     "text": [
      "\r",
      "OMP Test Batch for noise_level = 0.18:  16%|█▌        | 32/200 [1:01:44<5:34:44, 119.55s/it]"
     ]
    },
    {
     "name": "stderr",
     "output_type": "stream",
     "text": [
      "\r",
      "OMP Test Batch for noise_level = 0.05:  16%|█▌        | 32/200 [1:01:58<5:24:15, 115.81s/it]"
     ]
    },
    {
     "name": "stderr",
     "output_type": "stream",
     "text": [
      "\r",
      "OMP Test Batch for noise_level = 0.09:  16%|█▋        | 33/200 [1:01:58<5:14:07, 112.86s/it]"
     ]
    },
    {
     "name": "stderr",
     "output_type": "stream",
     "text": [
      "\r",
      "OMP Test Batch for noise_level = 0.03:  16%|█▌        | 32/200 [1:02:06<5:17:06, 113.25s/it]"
     ]
    },
    {
     "name": "stderr",
     "output_type": "stream",
     "text": [
      "\r",
      "OMP Test Batch for noise_level = 0.00:  16%|█▋        | 33/200 [1:02:10<5:27:53, 117.81s/it]"
     ]
    },
    {
     "name": "stderr",
     "output_type": "stream",
     "text": [
      "\r",
      "OMP Test Batch for noise_level = 0.02:  16%|█▌        | 32/200 [1:02:11<5:20:23, 114.42s/it]"
     ]
    },
    {
     "name": "stderr",
     "output_type": "stream",
     "text": [
      "\r",
      "OMP Test Batch for noise_level = 0.04:  16%|█▋        | 33/200 [1:02:24<5:08:32, 110.85s/it]"
     ]
    },
    {
     "name": "stderr",
     "output_type": "stream",
     "text": [
      "\r",
      "OMP Test Batch for noise_level = 0.06:  16%|█▌        | 31/200 [1:02:24<5:43:43, 122.03s/it]"
     ]
    },
    {
     "name": "stderr",
     "output_type": "stream",
     "text": [
      "\r",
      "OMP Test Batch for noise_level = 0.20:  16%|█▌        | 32/200 [1:02:18<5:25:50, 116.37s/it]"
     ]
    },
    {
     "name": "stderr",
     "output_type": "stream",
     "text": [
      "\r",
      "OMP Test Batch for noise_level = 0.16:  17%|█▋        | 34/200 [1:02:45<4:54:32, 106.46s/it]"
     ]
    },
    {
     "name": "stderr",
     "output_type": "stream",
     "text": [
      "\r",
      "OMP Test Batch for noise_level = 0.10:  16%|█▋        | 33/200 [1:02:59<5:20:17, 115.08s/it]"
     ]
    },
    {
     "name": "stderr",
     "output_type": "stream",
     "text": [
      "\r",
      "OMP Test Batch for noise_level = 0.08:  16%|█▌        | 32/200 [1:03:07<5:30:25, 118.01s/it]"
     ]
    },
    {
     "name": "stderr",
     "output_type": "stream",
     "text": [
      "\r",
      "OMP Test Batch for noise_level = 0.12:  16%|█▌        | 31/200 [1:03:07<5:26:40, 115.98s/it]"
     ]
    },
    {
     "name": "stderr",
     "output_type": "stream",
     "text": [
      "\r",
      "OMP Test Batch for noise_level = 0.14:  17%|█▋        | 34/200 [1:03:27<5:12:08, 112.82s/it]"
     ]
    },
    {
     "name": "stderr",
     "output_type": "stream",
     "text": [
      "\r",
      "OMP Test Batch for noise_level = 0.07:  16%|█▌        | 32/200 [1:03:36<5:34:48, 119.58s/it]"
     ]
    },
    {
     "name": "stderr",
     "output_type": "stream",
     "text": [
      "\r",
      "OMP Test Batch for noise_level = 0.01:  17%|█▋        | 34/200 [1:03:46<5:16:46, 114.49s/it]"
     ]
    },
    {
     "name": "stderr",
     "output_type": "stream",
     "text": [
      "\r",
      "OMP Test Batch for noise_level = 0.18:  16%|█▋        | 33/200 [1:03:41<5:31:01, 118.93s/it]"
     ]
    },
    {
     "name": "stderr",
     "output_type": "stream",
     "text": [
      "\r",
      "OMP Test Batch for noise_level = 0.00:  17%|█▋        | 34/200 [1:03:59<5:18:39, 115.18s/it]"
     ]
    },
    {
     "name": "stderr",
     "output_type": "stream",
     "text": [
      "\r",
      "OMP Test Batch for noise_level = 0.05:  16%|█▋        | 33/200 [1:03:57<5:25:26, 116.92s/it]\r",
      "OMP Test Batch for noise_level = 0.09:  17%|█▋        | 34/200 [1:03:54<5:14:33, 113.70s/it]"
     ]
    },
    {
     "name": "stderr",
     "output_type": "stream",
     "text": [
      "\r",
      "OMP Test Batch for noise_level = 0.03:  16%|█▋        | 33/200 [1:03:59<5:14:48, 113.11s/it]"
     ]
    },
    {
     "name": "stderr",
     "output_type": "stream",
     "text": [
      "\r",
      "OMP Test Batch for noise_level = 0.02:  16%|█▋        | 33/200 [1:04:11<5:23:11, 116.11s/it]"
     ]
    },
    {
     "name": "stderr",
     "output_type": "stream",
     "text": [
      "\r",
      "OMP Test Batch for noise_level = 0.04:  17%|█▋        | 34/200 [1:04:23<5:13:18, 113.25s/it]"
     ]
    },
    {
     "name": "stderr",
     "output_type": "stream",
     "text": [
      "\r",
      "OMP Test Batch for noise_level = 0.20:  16%|█▋        | 33/200 [1:04:20<5:28:25, 118.00s/it]"
     ]
    },
    {
     "name": "stderr",
     "output_type": "stream",
     "text": [
      "\r",
      "OMP Test Batch for noise_level = 0.16:  18%|█▊        | 35/200 [1:04:23<4:45:48, 103.93s/it]\r",
      "OMP Test Batch for noise_level = 0.06:  16%|█▌        | 32/200 [1:04:30<5:44:40, 123.10s/it]"
     ]
    },
    {
     "name": "stderr",
     "output_type": "stream",
     "text": [
      "\r",
      "OMP Test Batch for noise_level = 0.08:  16%|█▋        | 33/200 [1:04:41<5:09:01, 111.03s/it]"
     ]
    },
    {
     "name": "stderr",
     "output_type": "stream",
     "text": [
      "\r",
      "OMP Test Batch for noise_level = 0.10:  17%|█▋        | 34/200 [1:04:44<5:09:53, 112.01s/it]"
     ]
    },
    {
     "name": "stderr",
     "output_type": "stream",
     "text": [
      "\r",
      "OMP Test Batch for noise_level = 0.12:  16%|█▌        | 32/200 [1:04:49<5:12:47, 111.71s/it]"
     ]
    },
    {
     "name": "stderr",
     "output_type": "stream",
     "text": [
      "\r",
      "OMP Test Batch for noise_level = 0.14:  18%|█▊        | 35/200 [1:05:02<4:56:05, 107.67s/it]"
     ]
    },
    {
     "name": "stderr",
     "output_type": "stream",
     "text": [
      "\r",
      "OMP Test Batch for noise_level = 0.18:  17%|█▋        | 34/200 [1:05:16<5:08:53, 111.65s/it]"
     ]
    },
    {
     "name": "stderr",
     "output_type": "stream",
     "text": [
      "\r",
      "OMP Test Batch for noise_level = 0.01:  18%|█▊        | 35/200 [1:05:40<5:13:57, 114.17s/it]"
     ]
    },
    {
     "name": "stderr",
     "output_type": "stream",
     "text": [
      "\r",
      "OMP Test Batch for noise_level = 0.07:  16%|█▋        | 33/200 [1:05:36<5:32:46, 119.56s/it]"
     ]
    },
    {
     "name": "stderr",
     "output_type": "stream",
     "text": [
      "\r",
      "OMP Test Batch for noise_level = 0.09:  18%|█▊        | 35/200 [1:05:48<5:13:00, 113.82s/it]"
     ]
    },
    {
     "name": "stderr",
     "output_type": "stream",
     "text": [
      "\r",
      "OMP Test Batch for noise_level = 0.03:  17%|█▋        | 34/200 [1:05:55<5:15:17, 113.96s/it]"
     ]
    },
    {
     "name": "stderr",
     "output_type": "stream",
     "text": [
      "\r",
      "OMP Test Batch for noise_level = 0.05:  17%|█▋        | 34/200 [1:05:57<5:25:41, 117.72s/it]"
     ]
    },
    {
     "name": "stderr",
     "output_type": "stream",
     "text": [
      "\r",
      "OMP Test Batch for noise_level = 0.02:  17%|█▋        | 34/200 [1:06:04<5:19:12, 115.38s/it]"
     ]
    },
    {
     "name": "stderr",
     "output_type": "stream",
     "text": [
      "\r",
      "OMP Test Batch for noise_level = 0.00:  18%|█▊        | 35/200 [1:06:07<5:26:58, 118.90s/it]"
     ]
    },
    {
     "name": "stderr",
     "output_type": "stream",
     "text": [
      "\r",
      "OMP Test Batch for noise_level = 0.20:  17%|█▋        | 34/200 [1:06:04<5:15:02, 113.87s/it]"
     ]
    },
    {
     "name": "stderr",
     "output_type": "stream",
     "text": [
      "\r",
      "OMP Test Batch for noise_level = 0.16:  18%|█▊        | 36/200 [1:06:10<4:46:41, 104.89s/it]"
     ]
    },
    {
     "name": "stderr",
     "output_type": "stream",
     "text": [
      "\r",
      "OMP Test Batch for noise_level = 0.04:  18%|█▊        | 35/200 [1:06:24<5:17:55, 115.61s/it]"
     ]
    },
    {
     "name": "stderr",
     "output_type": "stream",
     "text": [
      "\r",
      "OMP Test Batch for noise_level = 0.06:  16%|█▋        | 33/200 [1:06:37<5:46:02, 124.33s/it]"
     ]
    },
    {
     "name": "stderr",
     "output_type": "stream",
     "text": [
      "\r",
      "OMP Test Batch for noise_level = 0.12:  16%|█▋        | 33/200 [1:06:36<5:07:16, 110.40s/it]"
     ]
    },
    {
     "name": "stderr",
     "output_type": "stream",
     "text": [
      "\r",
      "OMP Test Batch for noise_level = 0.10:  18%|█▊        | 35/200 [1:06:40<5:11:19, 113.21s/it]"
     ]
    },
    {
     "name": "stderr",
     "output_type": "stream",
     "text": [
      "\r",
      "OMP Test Batch for noise_level = 0.08:  17%|█▋        | 34/200 [1:06:43<5:15:40, 114.10s/it]"
     ]
    },
    {
     "name": "stderr",
     "output_type": "stream",
     "text": [
      "\r",
      "OMP Test Batch for noise_level = 0.14:  18%|█▊        | 36/200 [1:06:58<5:01:10, 110.18s/it]"
     ]
    },
    {
     "name": "stderr",
     "output_type": "stream",
     "text": [
      "\r",
      "OMP Test Batch for noise_level = 0.01:  18%|█▊        | 36/200 [1:07:24<5:03:58, 111.21s/it]"
     ]
    },
    {
     "name": "stderr",
     "output_type": "stream",
     "text": [
      "\r",
      "OMP Test Batch for noise_level = 0.18:  18%|█▊        | 35/200 [1:07:18<5:15:22, 114.68s/it]"
     ]
    },
    {
     "name": "stderr",
     "output_type": "stream",
     "text": [
      "\r",
      "OMP Test Batch for noise_level = 0.07:  17%|█▋        | 34/200 [1:07:46<5:39:24, 122.68s/it]\r",
      "OMP Test Batch for noise_level = 0.09:  18%|█▊        | 36/200 [1:07:44<5:12:59, 114.51s/it]"
     ]
    },
    {
     "name": "stderr",
     "output_type": "stream",
     "text": [
      "\r",
      "OMP Test Batch for noise_level = 0.03:  18%|█▊        | 35/200 [1:07:52<5:15:25, 114.70s/it]"
     ]
    },
    {
     "name": "stderr",
     "output_type": "stream",
     "text": [
      "\r",
      "OMP Test Batch for noise_level = 0.05:  18%|█▊        | 35/200 [1:07:54<5:23:08, 117.50s/it]"
     ]
    },
    {
     "name": "stderr",
     "output_type": "stream",
     "text": [
      "\r",
      "OMP Test Batch for noise_level = 0.00:  18%|█▊        | 36/200 [1:08:06<5:24:51, 118.85s/it]"
     ]
    },
    {
     "name": "stderr",
     "output_type": "stream",
     "text": [
      "\r",
      "OMP Test Batch for noise_level = 0.02:  18%|█▊        | 35/200 [1:08:05<5:22:01, 117.10s/it]"
     ]
    },
    {
     "name": "stderr",
     "output_type": "stream",
     "text": [
      "\r",
      "OMP Test Batch for noise_level = 0.16:  18%|█▊        | 37/200 [1:07:59<4:47:45, 105.92s/it]"
     ]
    },
    {
     "name": "stderr",
     "output_type": "stream",
     "text": [
      "\r",
      "OMP Test Batch for noise_level = 0.04:  18%|█▊        | 36/200 [1:08:16<5:13:16, 114.61s/it]"
     ]
    },
    {
     "name": "stderr",
     "output_type": "stream",
     "text": [
      "\r",
      "OMP Test Batch for noise_level = 0.20:  18%|█▊        | 35/200 [1:08:08<5:21:26, 116.89s/it]"
     ]
    },
    {
     "name": "stderr",
     "output_type": "stream",
     "text": [
      "\r",
      "OMP Test Batch for noise_level = 0.06:  17%|█▋        | 34/200 [1:08:36<5:39:26, 122.69s/it]"
     ]
    },
    {
     "name": "stderr",
     "output_type": "stream",
     "text": [
      "\r",
      "OMP Test Batch for noise_level = 0.10:  18%|█▊        | 36/200 [1:08:39<5:13:59, 114.87s/it]"
     ]
    },
    {
     "name": "stderr",
     "output_type": "stream",
     "text": [
      "\r",
      "OMP Test Batch for noise_level = 0.08:  18%|█▊        | 35/200 [1:08:44<5:19:55, 116.33s/it]"
     ]
    },
    {
     "name": "stderr",
     "output_type": "stream",
     "text": [
      "\r",
      "OMP Test Batch for noise_level = 0.12:  17%|█▋        | 34/200 [1:08:42<5:18:10, 115.00s/it]"
     ]
    },
    {
     "name": "stderr",
     "output_type": "stream",
     "text": [
      "\r",
      "OMP Test Batch for noise_level = 0.14:  18%|█▊        | 37/200 [1:08:55<5:04:30, 112.09s/it]"
     ]
    },
    {
     "name": "stderr",
     "output_type": "stream",
     "text": [
      "\r",
      "OMP Test Batch for noise_level = 0.01:  18%|█▊        | 37/200 [1:09:21<5:07:08, 113.06s/it]"
     ]
    },
    {
     "name": "stderr",
     "output_type": "stream",
     "text": [
      "\r",
      "OMP Test Batch for noise_level = 0.18:  18%|█▊        | 36/200 [1:09:21<5:20:50, 117.38s/it]"
     ]
    },
    {
     "name": "stderr",
     "output_type": "stream",
     "text": [
      "\r",
      "OMP Test Batch for noise_level = 0.03:  18%|█▊        | 36/200 [1:09:46<5:13:34, 114.72s/it]"
     ]
    },
    {
     "name": "stderr",
     "output_type": "stream",
     "text": [
      "\r",
      "OMP Test Batch for noise_level = 0.09:  18%|█▊        | 37/200 [1:09:42<5:13:55, 115.56s/it]"
     ]
    },
    {
     "name": "stderr",
     "output_type": "stream",
     "text": [
      "\r",
      "OMP Test Batch for noise_level = 0.07:  18%|█▊        | 35/200 [1:09:48<5:37:25, 122.70s/it]"
     ]
    },
    {
     "name": "stderr",
     "output_type": "stream",
     "text": [
      "\r",
      "OMP Test Batch for noise_level = 0.05:  18%|█▊        | 36/200 [1:09:54<5:23:45, 118.45s/it]"
     ]
    },
    {
     "name": "stderr",
     "output_type": "stream",
     "text": [
      "\r",
      "OMP Test Batch for noise_level = 0.16:  19%|█▉        | 38/200 [1:09:51<4:51:16, 107.88s/it]"
     ]
    },
    {
     "name": "stderr",
     "output_type": "stream",
     "text": [
      "\r",
      "OMP Test Batch for noise_level = 0.00:  18%|█▊        | 37/200 [1:10:04<5:22:15, 118.62s/it]"
     ]
    },
    {
     "name": "stderr",
     "output_type": "stream",
     "text": [
      "\r",
      "OMP Test Batch for noise_level = 0.02:  18%|█▊        | 36/200 [1:10:05<5:21:53, 117.76s/it]"
     ]
    },
    {
     "name": "stderr",
     "output_type": "stream",
     "text": [
      "\r",
      "OMP Test Batch for noise_level = 0.04:  18%|█▊        | 37/200 [1:10:13<5:13:45, 115.49s/it]"
     ]
    },
    {
     "name": "stderr",
     "output_type": "stream",
     "text": [
      "\r",
      "OMP Test Batch for noise_level = 0.20:  18%|█▊        | 36/200 [1:10:05<5:20:03, 117.10s/it]"
     ]
    },
    {
     "name": "stderr",
     "output_type": "stream",
     "text": [
      "\r",
      "OMP Test Batch for noise_level = 0.08:  18%|█▊        | 36/200 [1:10:35<5:13:06, 114.55s/it]"
     ]
    },
    {
     "name": "stderr",
     "output_type": "stream",
     "text": [
      "\r",
      "OMP Test Batch for noise_level = 0.10:  18%|█▊        | 37/200 [1:10:39<5:16:11, 116.39s/it]"
     ]
    },
    {
     "name": "stderr",
     "output_type": "stream",
     "text": [
      "\r",
      "OMP Test Batch for noise_level = 0.06:  18%|█▊        | 35/200 [1:10:46<5:43:26, 124.89s/it]"
     ]
    },
    {
     "name": "stderr",
     "output_type": "stream",
     "text": [
      "\r",
      "OMP Test Batch for noise_level = 0.12:  18%|█▊        | 35/200 [1:10:50<5:26:26, 118.71s/it]"
     ]
    },
    {
     "name": "stderr",
     "output_type": "stream",
     "text": [
      "\r",
      "OMP Test Batch for noise_level = 0.14:  19%|█▉        | 38/200 [1:10:57<5:10:33, 115.02s/it]"
     ]
    },
    {
     "name": "stderr",
     "output_type": "stream",
     "text": [
      "\r",
      "OMP Test Batch for noise_level = 0.01:  19%|█▉        | 38/200 [1:11:19<5:09:00, 114.45s/it]"
     ]
    },
    {
     "name": "stderr",
     "output_type": "stream",
     "text": [
      "\r",
      "OMP Test Batch for noise_level = 0.18:  18%|█▊        | 37/200 [1:11:24<5:22:54, 118.86s/it]"
     ]
    },
    {
     "name": "stderr",
     "output_type": "stream",
     "text": [
      "\r",
      "OMP Test Batch for noise_level = 0.09:  19%|█▉        | 38/200 [1:11:41<5:14:53, 116.63s/it]"
     ]
    },
    {
     "name": "stderr",
     "output_type": "stream",
     "text": [
      "\r",
      "OMP Test Batch for noise_level = 0.16:  20%|█▉        | 39/200 [1:11:39<4:49:15, 107.80s/it]\r",
      "OMP Test Batch for noise_level = 0.03:  18%|█▊        | 37/200 [1:11:48<5:17:18, 116.80s/it]"
     ]
    },
    {
     "name": "stderr",
     "output_type": "stream",
     "text": [
      "\r",
      "OMP Test Batch for noise_level = 0.07:  18%|█▊        | 36/200 [1:11:48<5:32:47, 121.75s/it]"
     ]
    },
    {
     "name": "stderr",
     "output_type": "stream",
     "text": [
      "\r",
      "OMP Test Batch for noise_level = 0.05:  18%|█▊        | 37/200 [1:11:53<5:22:07, 118.57s/it]"
     ]
    },
    {
     "name": "stderr",
     "output_type": "stream",
     "text": [
      "\r",
      "OMP Test Batch for noise_level = 0.00:  19%|█▉        | 38/200 [1:12:02<5:20:23, 118.66s/it]"
     ]
    },
    {
     "name": "stderr",
     "output_type": "stream",
     "text": [
      "\r",
      "OMP Test Batch for noise_level = 0.04:  19%|█▉        | 38/200 [1:12:00<5:04:44, 112.87s/it]"
     ]
    },
    {
     "name": "stderr",
     "output_type": "stream",
     "text": [
      "\r",
      "OMP Test Batch for noise_level = 0.02:  18%|█▊        | 37/200 [1:12:03<5:20:36, 118.02s/it]"
     ]
    },
    {
     "name": "stderr",
     "output_type": "stream",
     "text": [
      "\r",
      "OMP Test Batch for noise_level = 0.20:  18%|█▊        | 37/200 [1:11:55<5:12:09, 114.90s/it]"
     ]
    },
    {
     "name": "stderr",
     "output_type": "stream",
     "text": [
      "\r",
      "OMP Test Batch for noise_level = 0.08:  18%|█▊        | 37/200 [1:12:29<5:10:40, 114.36s/it]"
     ]
    },
    {
     "name": "stderr",
     "output_type": "stream",
     "text": [
      "\r",
      "OMP Test Batch for noise_level = 0.10:  19%|█▉        | 38/200 [1:12:38<5:16:37, 117.27s/it]"
     ]
    },
    {
     "name": "stderr",
     "output_type": "stream",
     "text": [
      "\r",
      "OMP Test Batch for noise_level = 0.06:  18%|█▊        | 36/200 [1:12:47<5:38:08, 123.71s/it]"
     ]
    },
    {
     "name": "stderr",
     "output_type": "stream",
     "text": [
      "\r",
      "OMP Test Batch for noise_level = 0.14:  20%|█▉        | 39/200 [1:12:43<5:01:49, 112.48s/it]"
     ]
    },
    {
     "name": "stderr",
     "output_type": "stream",
     "text": [
      "\r",
      "OMP Test Batch for noise_level = 0.12:  18%|█▊        | 36/200 [1:12:56<5:31:12, 121.17s/it]"
     ]
    },
    {
     "name": "stderr",
     "output_type": "stream",
     "text": [
      "\r",
      "OMP Test Batch for noise_level = 0.01:  20%|█▉        | 39/200 [1:13:17<5:09:38, 115.40s/it]"
     ]
    },
    {
     "name": "stderr",
     "output_type": "stream",
     "text": [
      "\r",
      "OMP Test Batch for noise_level = 0.18:  19%|█▉        | 38/200 [1:13:14<5:14:12, 116.38s/it]"
     ]
    },
    {
     "name": "stderr",
     "output_type": "stream",
     "text": [
      "\r",
      "OMP Test Batch for noise_level = 0.16:  20%|██        | 40/200 [1:13:25<4:46:30, 107.44s/it]"
     ]
    },
    {
     "name": "stderr",
     "output_type": "stream",
     "text": [
      "\r",
      "OMP Test Batch for noise_level = 0.03:  19%|█▉        | 38/200 [1:13:39<5:10:26, 114.98s/it]"
     ]
    },
    {
     "name": "stderr",
     "output_type": "stream",
     "text": [
      "\r",
      "OMP Test Batch for noise_level = 0.09:  20%|█▉        | 39/200 [1:13:37<5:12:21, 116.41s/it]"
     ]
    },
    {
     "name": "stderr",
     "output_type": "stream",
     "text": [
      "\r",
      "OMP Test Batch for noise_level = 0.02:  19%|█▉        | 38/200 [1:13:53<5:12:03, 115.58s/it]"
     ]
    },
    {
     "name": "stderr",
     "output_type": "stream",
     "text": [
      "\r",
      "OMP Test Batch for noise_level = 0.05:  19%|█▉        | 38/200 [1:13:52<5:20:06, 118.56s/it]\r",
      "OMP Test Batch for noise_level = 0.07:  18%|█▊        | 37/200 [1:13:50<5:31:11, 121.91s/it]"
     ]
    },
    {
     "name": "stderr",
     "output_type": "stream",
     "text": [
      "\r",
      "OMP Test Batch for noise_level = 0.04:  20%|█▉        | 39/200 [1:14:00<5:08:02, 114.80s/it]"
     ]
    },
    {
     "name": "stderr",
     "output_type": "stream",
     "text": [
      "\r",
      "OMP Test Batch for noise_level = 0.00:  20%|█▉        | 39/200 [1:14:07<5:23:07, 120.42s/it]"
     ]
    },
    {
     "name": "stderr",
     "output_type": "stream",
     "text": [
      "\r",
      "OMP Test Batch for noise_level = 0.20:  19%|█▉        | 38/200 [1:13:57<5:15:37, 116.90s/it]"
     ]
    },
    {
     "name": "stderr",
     "output_type": "stream",
     "text": [
      "\r",
      "OMP Test Batch for noise_level = 0.08:  19%|█▉        | 38/200 [1:14:30<5:14:25, 116.45s/it]"
     ]
    },
    {
     "name": "stderr",
     "output_type": "stream",
     "text": [
      "\r",
      "OMP Test Batch for noise_level = 0.06:  18%|█▊        | 37/200 [1:14:40<5:27:03, 120.39s/it]"
     ]
    },
    {
     "name": "stderr",
     "output_type": "stream",
     "text": [
      "\r",
      "OMP Test Batch for noise_level = 0.10:  20%|█▉        | 39/200 [1:14:37<5:15:39, 117.64s/it]"
     ]
    },
    {
     "name": "stderr",
     "output_type": "stream",
     "text": [
      "\r",
      "OMP Test Batch for noise_level = 0.14:  20%|██        | 40/200 [1:14:39<5:02:14, 113.34s/it]"
     ]
    },
    {
     "name": "stderr",
     "output_type": "stream",
     "text": [
      "\r",
      "OMP Test Batch for noise_level = 0.12:  18%|█▊        | 37/200 [1:15:03<5:33:55, 122.92s/it]"
     ]
    },
    {
     "name": "stderr",
     "output_type": "stream",
     "text": [
      "\r",
      "OMP Test Batch for noise_level = 0.01:  20%|██        | 40/200 [1:15:15<5:09:41, 116.14s/it]"
     ]
    },
    {
     "name": "stderr",
     "output_type": "stream",
     "text": [
      "\r",
      "OMP Test Batch for noise_level = 0.18:  20%|█▉        | 39/200 [1:15:05<5:07:52, 114.74s/it]"
     ]
    },
    {
     "name": "stderr",
     "output_type": "stream",
     "text": [
      "\r",
      "OMP Test Batch for noise_level = 0.16:  20%|██        | 41/200 [1:15:13<4:44:29, 107.36s/it]"
     ]
    },
    {
     "name": "stderr",
     "output_type": "stream",
     "text": [
      "\r",
      "OMP Test Batch for noise_level = 0.03:  20%|█▉        | 39/200 [1:15:38<5:11:49, 116.21s/it]"
     ]
    },
    {
     "name": "stderr",
     "output_type": "stream",
     "text": [
      "\r",
      "OMP Test Batch for noise_level = 0.09:  20%|██        | 40/200 [1:15:35<5:11:57, 116.98s/it]"
     ]
    },
    {
     "name": "stderr",
     "output_type": "stream",
     "text": [
      "\r",
      "OMP Test Batch for noise_level = 0.07:  19%|█▉        | 38/200 [1:15:47<5:24:59, 120.37s/it]"
     ]
    },
    {
     "name": "stderr",
     "output_type": "stream",
     "text": [
      "\r",
      "OMP Test Batch for noise_level = 0.05:  20%|█▉        | 39/200 [1:15:52<5:19:41, 119.14s/it]"
     ]
    },
    {
     "name": "stderr",
     "output_type": "stream",
     "text": [
      "\r",
      "OMP Test Batch for noise_level = 0.02:  20%|█▉        | 39/200 [1:15:57<5:16:53, 118.10s/it]"
     ]
    },
    {
     "name": "stderr",
     "output_type": "stream",
     "text": [
      "\r",
      "OMP Test Batch for noise_level = 0.00:  20%|██        | 40/200 [1:15:59<5:14:44, 118.03s/it]"
     ]
    },
    {
     "name": "stderr",
     "output_type": "stream",
     "text": [
      "\r",
      "OMP Test Batch for noise_level = 0.04:  20%|██        | 40/200 [1:16:00<5:10:17, 116.36s/it]"
     ]
    },
    {
     "name": "stderr",
     "output_type": "stream",
     "text": [
      "\r",
      "OMP Test Batch for noise_level = 0.20:  20%|█▉        | 39/200 [1:16:03<5:21:10, 119.69s/it]"
     ]
    },
    {
     "name": "stderr",
     "output_type": "stream",
     "text": [
      "\r",
      "OMP Test Batch for noise_level = 0.08:  20%|█▉        | 39/200 [1:16:21<5:08:08, 114.84s/it]"
     ]
    },
    {
     "name": "stderr",
     "output_type": "stream",
     "text": [
      "\r",
      "OMP Test Batch for noise_level = 0.10:  20%|██        | 40/200 [1:16:38<5:16:17, 118.61s/it]"
     ]
    },
    {
     "name": "stderr",
     "output_type": "stream",
     "text": [
      "\r",
      "OMP Test Batch for noise_level = 0.14:  20%|██        | 41/200 [1:16:40<5:06:41, 115.73s/it]"
     ]
    },
    {
     "name": "stderr",
     "output_type": "stream",
     "text": [
      "\r",
      "OMP Test Batch for noise_level = 0.06:  19%|█▉        | 38/200 [1:16:47<5:30:52, 122.55s/it]"
     ]
    },
    {
     "name": "stderr",
     "output_type": "stream",
     "text": [
      "\r",
      "OMP Test Batch for noise_level = 0.01:  20%|██        | 41/200 [1:17:14<5:10:14, 117.07s/it]"
     ]
    },
    {
     "name": "stderr",
     "output_type": "stream",
     "text": [
      "\r",
      "OMP Test Batch for noise_level = 0.18:  20%|██        | 40/200 [1:17:07<5:11:56, 116.98s/it]"
     ]
    },
    {
     "name": "stderr",
     "output_type": "stream",
     "text": [
      "\r",
      "OMP Test Batch for noise_level = 0.12:  19%|█▉        | 38/200 [1:17:10<5:35:09, 124.13s/it]"
     ]
    },
    {
     "name": "stderr",
     "output_type": "stream",
     "text": [
      "\r",
      "OMP Test Batch for noise_level = 0.16:  21%|██        | 42/200 [1:17:09<4:49:42, 110.02s/it]"
     ]
    },
    {
     "name": "stderr",
     "output_type": "stream",
     "text": [
      "\r",
      "OMP Test Batch for noise_level = 0.03:  20%|██        | 40/200 [1:17:36<5:11:11, 116.70s/it]"
     ]
    },
    {
     "name": "stderr",
     "output_type": "stream",
     "text": [
      "\r",
      "OMP Test Batch for noise_level = 0.09:  20%|██        | 41/200 [1:17:33<5:11:00, 117.36s/it]"
     ]
    },
    {
     "name": "stderr",
     "output_type": "stream",
     "text": [
      "\r",
      "OMP Test Batch for noise_level = 0.07:  20%|█▉        | 39/200 [1:17:53<5:27:35, 122.09s/it]"
     ]
    },
    {
     "name": "stderr",
     "output_type": "stream",
     "text": [
      "\r",
      "OMP Test Batch for noise_level = 0.04:  20%|██        | 41/200 [1:17:58<5:10:02, 117.00s/it]"
     ]
    },
    {
     "name": "stderr",
     "output_type": "stream",
     "text": [
      "\r",
      "OMP Test Batch for noise_level = 0.05:  20%|██        | 40/200 [1:17:58<5:22:41, 121.01s/it]\r",
      "OMP Test Batch for noise_level = 0.00:  20%|██        | 41/200 [1:18:02<5:16:28, 119.43s/it]"
     ]
    },
    {
     "name": "stderr",
     "output_type": "stream",
     "text": [
      "\r",
      "OMP Test Batch for noise_level = 0.02:  20%|██        | 40/200 [1:18:01<5:19:21, 119.76s/it]"
     ]
    },
    {
     "name": "stderr",
     "output_type": "stream",
     "text": [
      "\r",
      "OMP Test Batch for noise_level = 0.20:  20%|██        | 40/200 [1:18:06<5:22:07, 120.80s/it]"
     ]
    },
    {
     "name": "stderr",
     "output_type": "stream",
     "text": [
      "\r",
      "OMP Test Batch for noise_level = 0.08:  20%|██        | 40/200 [1:18:25<5:13:37, 117.61s/it]"
     ]
    },
    {
     "name": "stderr",
     "output_type": "stream",
     "text": [
      "\r",
      "OMP Test Batch for noise_level = 0.10:  20%|██        | 41/200 [1:18:34<5:12:37, 117.97s/it]"
     ]
    },
    {
     "name": "stderr",
     "output_type": "stream",
     "text": [
      "\r",
      "OMP Test Batch for noise_level = 0.14:  21%|██        | 42/200 [1:18:38<5:06:40, 116.46s/it]"
     ]
    },
    {
     "name": "stderr",
     "output_type": "stream",
     "text": [
      "\r",
      "OMP Test Batch for noise_level = 0.06:  20%|█▉        | 39/200 [1:18:50<5:29:21, 122.74s/it]"
     ]
    },
    {
     "name": "stderr",
     "output_type": "stream",
     "text": [
      "\r",
      "OMP Test Batch for noise_level = 0.16:  22%|██▏       | 43/200 [1:18:47<4:38:36, 106.47s/it]"
     ]
    },
    {
     "name": "stderr",
     "output_type": "stream",
     "text": [
      "\r",
      "OMP Test Batch for noise_level = 0.01:  21%|██        | 42/200 [1:19:05<5:03:45, 115.35s/it]"
     ]
    },
    {
     "name": "stderr",
     "output_type": "stream",
     "text": [
      "\r",
      "OMP Test Batch for noise_level = 0.18:  20%|██        | 41/200 [1:19:00<5:06:20, 115.60s/it]"
     ]
    },
    {
     "name": "stderr",
     "output_type": "stream",
     "text": [
      "\r",
      "OMP Test Batch for noise_level = 0.12:  20%|█▉        | 39/200 [1:19:09<5:28:40, 122.49s/it]"
     ]
    },
    {
     "name": "stderr",
     "output_type": "stream",
     "text": [
      "\r",
      "OMP Test Batch for noise_level = 0.09:  21%|██        | 42/200 [1:19:15<4:56:12, 112.48s/it]"
     ]
    },
    {
     "name": "stderr",
     "output_type": "stream",
     "text": [
      "\r",
      "OMP Test Batch for noise_level = 0.03:  20%|██        | 41/200 [1:19:34<5:10:57, 117.34s/it]"
     ]
    },
    {
     "name": "stderr",
     "output_type": "stream",
     "text": [
      "\r",
      "OMP Test Batch for noise_level = 0.05:  20%|██        | 41/200 [1:19:50<5:13:29, 118.30s/it]"
     ]
    },
    {
     "name": "stderr",
     "output_type": "stream",
     "text": [
      "\r",
      "OMP Test Batch for noise_level = 0.04:  21%|██        | 42/200 [1:19:51<5:04:47, 115.74s/it]"
     ]
    },
    {
     "name": "stderr",
     "output_type": "stream",
     "text": [
      "\r",
      "OMP Test Batch for noise_level = 0.07:  20%|██        | 40/200 [1:19:49<5:20:28, 120.18s/it]"
     ]
    },
    {
     "name": "stderr",
     "output_type": "stream",
     "text": [
      "\r",
      "OMP Test Batch for noise_level = 0.02:  20%|██        | 41/200 [1:19:57<5:14:19, 118.61s/it]"
     ]
    },
    {
     "name": "stderr",
     "output_type": "stream",
     "text": [
      "\r",
      "OMP Test Batch for noise_level = 0.00:  21%|██        | 42/200 [1:20:03<5:16:03, 120.02s/it]"
     ]
    },
    {
     "name": "stderr",
     "output_type": "stream",
     "text": [
      "\r",
      "OMP Test Batch for noise_level = 0.20:  20%|██        | 41/200 [1:20:06<5:19:33, 120.59s/it]"
     ]
    },
    {
     "name": "stderr",
     "output_type": "stream",
     "text": [
      "\r",
      "OMP Test Batch for noise_level = 0.08:  20%|██        | 41/200 [1:20:19<5:08:56, 116.58s/it]"
     ]
    },
    {
     "name": "stderr",
     "output_type": "stream",
     "text": [
      "\r",
      "OMP Test Batch for noise_level = 0.10:  21%|██        | 42/200 [1:20:18<4:59:27, 113.72s/it]"
     ]
    },
    {
     "name": "stderr",
     "output_type": "stream",
     "text": [
      "\r",
      "OMP Test Batch for noise_level = 0.14:  22%|██▏       | 43/200 [1:20:31<5:01:50, 115.35s/it]"
     ]
    },
    {
     "name": "stderr",
     "output_type": "stream",
     "text": [
      "\r",
      "OMP Test Batch for noise_level = 0.16:  22%|██▏       | 44/200 [1:20:33<4:36:37, 106.39s/it]"
     ]
    },
    {
     "name": "stderr",
     "output_type": "stream",
     "text": [
      "\r",
      "OMP Test Batch for noise_level = 0.06:  20%|██        | 40/200 [1:20:51<5:25:40, 122.13s/it]"
     ]
    },
    {
     "name": "stderr",
     "output_type": "stream",
     "text": [
      "\r",
      "OMP Test Batch for noise_level = 0.18:  21%|██        | 42/200 [1:20:45<4:56:24, 112.56s/it]"
     ]
    },
    {
     "name": "stderr",
     "output_type": "stream",
     "text": [
      "\r",
      "OMP Test Batch for noise_level = 0.01:  22%|██▏       | 43/200 [1:20:57<4:59:27, 114.44s/it]"
     ]
    },
    {
     "name": "stderr",
     "output_type": "stream",
     "text": [
      "\r",
      "OMP Test Batch for noise_level = 0.09:  22%|██▏       | 43/200 [1:21:10<4:56:59, 113.50s/it]"
     ]
    },
    {
     "name": "stderr",
     "output_type": "stream",
     "text": [
      "\r",
      "OMP Test Batch for noise_level = 0.12:  20%|██        | 40/200 [1:21:12<5:26:59, 122.62s/it]"
     ]
    },
    {
     "name": "stderr",
     "output_type": "stream",
     "text": [
      "\r",
      "OMP Test Batch for noise_level = 0.03:  21%|██        | 42/200 [1:21:33<5:09:37, 117.58s/it]"
     ]
    },
    {
     "name": "stderr",
     "output_type": "stream",
     "text": [
      "\r",
      "OMP Test Batch for noise_level = 0.05:  21%|██        | 42/200 [1:21:36<5:02:10, 114.75s/it]"
     ]
    },
    {
     "name": "stderr",
     "output_type": "stream",
     "text": [
      "\r",
      "OMP Test Batch for noise_level = 0.04:  22%|██▏       | 43/200 [1:21:47<5:02:51, 115.74s/it]"
     ]
    },
    {
     "name": "stderr",
     "output_type": "stream",
     "text": [
      "\r",
      "OMP Test Batch for noise_level = 0.02:  21%|██        | 42/200 [1:21:53<5:10:11, 117.80s/it]"
     ]
    },
    {
     "name": "stderr",
     "output_type": "stream",
     "text": [
      "\r",
      "OMP Test Batch for noise_level = 0.07:  20%|██        | 41/200 [1:21:52<5:20:39, 121.00s/it]"
     ]
    },
    {
     "name": "stderr",
     "output_type": "stream",
     "text": [
      "\r",
      "OMP Test Batch for noise_level = 0.00:  22%|██▏       | 43/200 [1:22:07<5:17:12, 121.22s/it]"
     ]
    },
    {
     "name": "stderr",
     "output_type": "stream",
     "text": [
      "\r",
      "OMP Test Batch for noise_level = 0.16:  22%|██▎       | 45/200 [1:22:00<4:19:41, 100.52s/it]"
     ]
    },
    {
     "name": "stderr",
     "output_type": "stream",
     "text": [
      "\r",
      "OMP Test Batch for noise_level = 0.20:  21%|██        | 42/200 [1:22:06<5:16:56, 120.36s/it]"
     ]
    },
    {
     "name": "stderr",
     "output_type": "stream",
     "text": [
      "\r",
      "OMP Test Batch for noise_level = 0.10:  22%|██▏       | 43/200 [1:22:14<4:59:24, 114.42s/it]\r",
      "OMP Test Batch for noise_level = 0.08:  21%|██        | 42/200 [1:22:16<5:06:52, 116.54s/it]"
     ]
    },
    {
     "name": "stderr",
     "output_type": "stream",
     "text": [
      "\r",
      "OMP Test Batch for noise_level = 0.14:  22%|██▏       | 44/200 [1:22:30<5:02:36, 116.39s/it]"
     ]
    },
    {
     "name": "stderr",
     "output_type": "stream",
     "text": [
      "\r",
      "OMP Test Batch for noise_level = 0.01:  22%|██▏       | 44/200 [1:22:41<4:49:20, 111.29s/it]"
     ]
    },
    {
     "name": "stderr",
     "output_type": "stream",
     "text": [
      "\r",
      "OMP Test Batch for noise_level = 0.18:  22%|██▏       | 43/200 [1:22:38<4:54:28, 112.54s/it]"
     ]
    },
    {
     "name": "stderr",
     "output_type": "stream",
     "text": [
      "\r",
      "OMP Test Batch for noise_level = 0.06:  20%|██        | 41/200 [1:22:56<5:25:40, 122.90s/it]"
     ]
    },
    {
     "name": "stderr",
     "output_type": "stream",
     "text": [
      "\r",
      "OMP Test Batch for noise_level = 0.09:  22%|██▏       | 44/200 [1:22:55<4:48:27, 110.94s/it]"
     ]
    },
    {
     "name": "stderr",
     "output_type": "stream",
     "text": [
      "\r",
      "OMP Test Batch for noise_level = 0.12:  20%|██        | 41/200 [1:23:12<5:23:14, 121.98s/it]"
     ]
    },
    {
     "name": "stderr",
     "output_type": "stream",
     "text": [
      "\r",
      "OMP Test Batch for noise_level = 0.03:  22%|██▏       | 43/200 [1:23:28<5:05:44, 116.84s/it]"
     ]
    },
    {
     "name": "stderr",
     "output_type": "stream",
     "text": [
      "\r",
      "OMP Test Batch for noise_level = 0.05:  22%|██▏       | 43/200 [1:23:37<5:05:15, 116.66s/it]"
     ]
    },
    {
     "name": "stderr",
     "output_type": "stream",
     "text": [
      "\r",
      "OMP Test Batch for noise_level = 0.04:  22%|██▏       | 44/200 [1:23:48<5:05:05, 117.35s/it]"
     ]
    },
    {
     "name": "stderr",
     "output_type": "stream",
     "text": [
      "\r",
      "OMP Test Batch for noise_level = 0.02:  22%|██▏       | 43/200 [1:23:54<5:10:51, 118.80s/it]"
     ]
    },
    {
     "name": "stderr",
     "output_type": "stream",
     "text": [
      "\r",
      "OMP Test Batch for noise_level = 0.07:  21%|██        | 42/200 [1:23:52<5:17:45, 120.67s/it]"
     ]
    },
    {
     "name": "stderr",
     "output_type": "stream",
     "text": [
      "\r",
      "OMP Test Batch for noise_level = 0.00:  22%|██▏       | 44/200 [1:24:00<5:08:20, 118.59s/it]"
     ]
    },
    {
     "name": "stderr",
     "output_type": "stream",
     "text": [
      "\r",
      "OMP Test Batch for noise_level = 0.16:  23%|██▎       | 46/200 [1:23:49<4:24:28, 103.04s/it]"
     ]
    },
    {
     "name": "stderr",
     "output_type": "stream",
     "text": [
      "\r",
      "OMP Test Batch for noise_level = 0.10:  22%|██▏       | 44/200 [1:24:14<5:01:35, 116.00s/it]"
     ]
    },
    {
     "name": "stderr",
     "output_type": "stream",
     "text": [
      "\r",
      "OMP Test Batch for noise_level = 0.20:  22%|██▏       | 43/200 [1:24:13<5:20:08, 122.35s/it]"
     ]
    },
    {
     "name": "stderr",
     "output_type": "stream",
     "text": [
      "\r",
      "OMP Test Batch for noise_level = 0.08:  22%|██▏       | 43/200 [1:24:22<5:12:34, 119.46s/it]"
     ]
    },
    {
     "name": "stderr",
     "output_type": "stream",
     "text": [
      "\r",
      "OMP Test Batch for noise_level = 0.01:  22%|██▎       | 45/200 [1:24:31<4:45:59, 110.71s/it]"
     ]
    },
    {
     "name": "stderr",
     "output_type": "stream",
     "text": [
      "\r",
      "OMP Test Batch for noise_level = 0.14:  22%|██▎       | 45/200 [1:24:30<5:03:21, 117.43s/it]"
     ]
    },
    {
     "name": "stderr",
     "output_type": "stream",
     "text": [
      "\r",
      "OMP Test Batch for noise_level = 0.18:  22%|██▏       | 44/200 [1:24:35<4:56:06, 113.89s/it]"
     ]
    },
    {
     "name": "stderr",
     "output_type": "stream",
     "text": [
      "\r",
      "OMP Test Batch for noise_level = 0.09:  22%|██▎       | 45/200 [1:24:54<4:52:39, 113.29s/it]"
     ]
    },
    {
     "name": "stderr",
     "output_type": "stream",
     "text": [
      "\r",
      "OMP Test Batch for noise_level = 0.06:  21%|██        | 42/200 [1:25:04<5:28:08, 124.61s/it]"
     ]
    },
    {
     "name": "stderr",
     "output_type": "stream",
     "text": [
      "\r",
      "OMP Test Batch for noise_level = 0.12:  21%|██        | 42/200 [1:25:08<5:15:47, 119.92s/it]"
     ]
    },
    {
     "name": "stderr",
     "output_type": "stream",
     "text": [
      "\r",
      "OMP Test Batch for noise_level = 0.05:  22%|██▏       | 44/200 [1:25:25<4:56:21, 113.98s/it]"
     ]
    },
    {
     "name": "stderr",
     "output_type": "stream",
     "text": [
      "\r",
      "OMP Test Batch for noise_level = 0.03:  22%|██▏       | 44/200 [1:25:28<5:06:32, 117.90s/it]"
     ]
    },
    {
     "name": "stderr",
     "output_type": "stream",
     "text": [
      "\r",
      "OMP Test Batch for noise_level = 0.16:  24%|██▎       | 47/200 [1:25:26<4:18:02, 101.19s/it]"
     ]
    },
    {
     "name": "stderr",
     "output_type": "stream",
     "text": [
      "\r",
      "OMP Test Batch for noise_level = 0.04:  22%|██▎       | 45/200 [1:25:43<5:01:14, 116.61s/it]"
     ]
    },
    {
     "name": "stderr",
     "output_type": "stream",
     "text": [
      "\r",
      "OMP Test Batch for noise_level = 0.00:  22%|██▎       | 45/200 [1:25:52<5:01:26, 116.69s/it]"
     ]
    },
    {
     "name": "stderr",
     "output_type": "stream",
     "text": [
      "\r",
      "OMP Test Batch for noise_level = 0.02:  22%|██▏       | 44/200 [1:25:55<5:10:38, 119.48s/it]"
     ]
    },
    {
     "name": "stderr",
     "output_type": "stream",
     "text": [
      "\r",
      "OMP Test Batch for noise_level = 0.10:  22%|██▎       | 45/200 [1:25:56<4:48:50, 111.81s/it]"
     ]
    },
    {
     "name": "stderr",
     "output_type": "stream",
     "text": [
      "\r",
      "OMP Test Batch for noise_level = 0.07:  22%|██▏       | 43/200 [1:26:02<5:23:29, 123.63s/it]"
     ]
    },
    {
     "name": "stderr",
     "output_type": "stream",
     "text": [
      "\r",
      "OMP Test Batch for noise_level = 0.01:  23%|██▎       | 46/200 [1:26:23<4:45:37, 111.28s/it]"
     ]
    },
    {
     "name": "stderr",
     "output_type": "stream",
     "text": [
      "\r",
      "OMP Test Batch for noise_level = 0.14:  23%|██▎       | 46/200 [1:26:17<4:53:52, 114.50s/it]"
     ]
    },
    {
     "name": "stderr",
     "output_type": "stream",
     "text": [
      "\r",
      "OMP Test Batch for noise_level = 0.08:  22%|██▏       | 44/200 [1:26:24<5:12:48, 120.31s/it]"
     ]
    },
    {
     "name": "stderr",
     "output_type": "stream",
     "text": [
      "\r",
      "OMP Test Batch for noise_level = 0.20:  22%|██▏       | 44/200 [1:26:24<5:24:34, 124.84s/it]"
     ]
    },
    {
     "name": "stderr",
     "output_type": "stream",
     "text": [
      "\r",
      "OMP Test Batch for noise_level = 0.18:  22%|██▎       | 45/200 [1:26:33<4:57:49, 115.29s/it]"
     ]
    },
    {
     "name": "stderr",
     "output_type": "stream",
     "text": [
      "\r",
      "OMP Test Batch for noise_level = 0.06:  22%|██▏       | 43/200 [1:26:41<5:04:11, 116.25s/it]"
     ]
    },
    {
     "name": "stderr",
     "output_type": "stream",
     "text": [
      "\r",
      "OMP Test Batch for noise_level = 0.09:  23%|██▎       | 46/200 [1:26:51<4:53:31, 114.36s/it]"
     ]
    },
    {
     "name": "stderr",
     "output_type": "stream",
     "text": [
      "\r",
      "OMP Test Batch for noise_level = 0.16:  24%|██▍       | 48/200 [1:27:02<4:12:39, 99.73s/it] "
     ]
    },
    {
     "name": "stderr",
     "output_type": "stream",
     "text": [
      "\r",
      "OMP Test Batch for noise_level = 0.12:  22%|██▏       | 43/200 [1:27:05<5:11:29, 119.04s/it]"
     ]
    },
    {
     "name": "stderr",
     "output_type": "stream",
     "text": [
      "\r",
      "OMP Test Batch for noise_level = 0.03:  22%|██▎       | 45/200 [1:27:20<4:59:57, 116.11s/it]"
     ]
    },
    {
     "name": "stderr",
     "output_type": "stream",
     "text": [
      "\r",
      "OMP Test Batch for noise_level = 0.05:  22%|██▎       | 45/200 [1:27:19<4:54:05, 113.84s/it]"
     ]
    },
    {
     "name": "stderr",
     "output_type": "stream",
     "text": [
      "\r",
      "OMP Test Batch for noise_level = 0.04:  23%|██▎       | 46/200 [1:27:37<4:57:39, 115.97s/it]"
     ]
    },
    {
     "name": "stderr",
     "output_type": "stream",
     "text": [
      "\r",
      "OMP Test Batch for noise_level = 0.10:  23%|██▎       | 46/200 [1:27:38<4:39:22, 108.85s/it]"
     ]
    },
    {
     "name": "stderr",
     "output_type": "stream",
     "text": [
      "\r",
      "OMP Test Batch for noise_level = 0.00:  23%|██▎       | 46/200 [1:27:51<5:00:53, 117.23s/it]"
     ]
    },
    {
     "name": "stderr",
     "output_type": "stream",
     "text": [
      "\r",
      "OMP Test Batch for noise_level = 0.02:  22%|██▎       | 45/200 [1:27:50<5:05:33, 118.28s/it]"
     ]
    },
    {
     "name": "stderr",
     "output_type": "stream",
     "text": [
      "\r",
      "OMP Test Batch for noise_level = 0.07:  22%|██▏       | 44/200 [1:27:53<5:11:18, 119.73s/it]"
     ]
    },
    {
     "name": "stderr",
     "output_type": "stream",
     "text": [
      "\r",
      "OMP Test Batch for noise_level = 0.14:  24%|██▎       | 47/200 [1:28:04<4:45:46, 112.07s/it]"
     ]
    },
    {
     "name": "stderr",
     "output_type": "stream",
     "text": [
      "\r",
      "OMP Test Batch for noise_level = 0.01:  24%|██▎       | 47/200 [1:28:17<4:45:56, 112.13s/it]"
     ]
    },
    {
     "name": "stderr",
     "output_type": "stream",
     "text": [
      "\r",
      "OMP Test Batch for noise_level = 0.08:  22%|██▎       | 45/200 [1:28:21<5:07:56, 119.20s/it]"
     ]
    },
    {
     "name": "stderr",
     "output_type": "stream",
     "text": [
      "\r",
      "OMP Test Batch for noise_level = 0.20:  22%|██▎       | 45/200 [1:28:22<5:17:11, 122.78s/it]"
     ]
    },
    {
     "name": "stderr",
     "output_type": "stream",
     "text": [
      "\r",
      "OMP Test Batch for noise_level = 0.09:  24%|██▎       | 47/200 [1:28:36<4:44:19, 111.50s/it]"
     ]
    },
    {
     "name": "stderr",
     "output_type": "stream",
     "text": [
      "\r",
      "OMP Test Batch for noise_level = 0.16:  24%|██▍       | 49/200 [1:28:34<4:05:17, 97.47s/it]"
     ]
    },
    {
     "name": "stderr",
     "output_type": "stream",
     "text": [
      "\r",
      "OMP Test Batch for noise_level = 0.18:  23%|██▎       | 46/200 [1:28:37<5:02:37, 117.90s/it]"
     ]
    },
    {
     "name": "stderr",
     "output_type": "stream",
     "text": [
      "\r",
      "OMP Test Batch for noise_level = 0.06:  22%|██▏       | 44/200 [1:28:49<5:11:40, 119.88s/it]"
     ]
    },
    {
     "name": "stderr",
     "output_type": "stream",
     "text": [
      "\r",
      "OMP Test Batch for noise_level = 0.12:  22%|██▏       | 44/200 [1:28:53<5:01:19, 115.90s/it]"
     ]
    },
    {
     "name": "stderr",
     "output_type": "stream",
     "text": [
      "\r",
      "OMP Test Batch for noise_level = 0.03:  23%|██▎       | 46/200 [1:29:21<5:01:39, 117.53s/it]\r",
      "OMP Test Batch for noise_level = 0.05:  23%|██▎       | 46/200 [1:29:19<4:57:27, 115.89s/it]"
     ]
    },
    {
     "name": "stderr",
     "output_type": "stream",
     "text": [
      "\r",
      "OMP Test Batch for noise_level = 0.04:  24%|██▎       | 47/200 [1:29:37<4:58:24, 117.02s/it]"
     ]
    },
    {
     "name": "stderr",
     "output_type": "stream",
     "text": [
      "\r",
      "OMP Test Batch for noise_level = 0.10:  24%|██▎       | 47/200 [1:29:33<4:42:24, 110.75s/it]"
     ]
    },
    {
     "name": "stderr",
     "output_type": "stream",
     "text": [
      "\r",
      "OMP Test Batch for noise_level = 0.02:  23%|██▎       | 46/200 [1:29:49<5:04:01, 118.45s/it]"
     ]
    },
    {
     "name": "stderr",
     "output_type": "stream",
     "text": [
      "\r",
      "OMP Test Batch for noise_level = 0.14:  24%|██▍       | 48/200 [1:29:40<4:32:17, 107.49s/it]"
     ]
    },
    {
     "name": "stderr",
     "output_type": "stream",
     "text": [
      "\r",
      "OMP Test Batch for noise_level = 0.00:  24%|██▎       | 47/200 [1:29:57<5:05:32, 119.82s/it]"
     ]
    },
    {
     "name": "stderr",
     "output_type": "stream",
     "text": [
      "\r",
      "OMP Test Batch for noise_level = 0.07:  22%|██▎       | 45/200 [1:29:52<5:08:40, 119.49s/it]"
     ]
    },
    {
     "name": "stderr",
     "output_type": "stream",
     "text": [
      "\r",
      "OMP Test Batch for noise_level = 0.01:  24%|██▍       | 48/200 [1:30:12<4:46:08, 112.95s/it]"
     ]
    },
    {
     "name": "stderr",
     "output_type": "stream",
     "text": [
      "\r",
      "OMP Test Batch for noise_level = 0.08:  23%|██▎       | 46/200 [1:30:12<5:00:05, 116.92s/it]"
     ]
    },
    {
     "name": "stderr",
     "output_type": "stream",
     "text": [
      "\r",
      "OMP Test Batch for noise_level = 0.16:  25%|██▌       | 50/200 [1:30:14<4:05:04, 98.03s/it]"
     ]
    },
    {
     "name": "stderr",
     "output_type": "stream",
     "text": [
      "\r",
      "OMP Test Batch for noise_level = 0.20:  23%|██▎       | 46/200 [1:30:24<5:14:26, 122.51s/it]"
     ]
    },
    {
     "name": "stderr",
     "output_type": "stream",
     "text": [
      "\r",
      "OMP Test Batch for noise_level = 0.09:  24%|██▍       | 48/200 [1:30:30<4:44:41, 112.38s/it]"
     ]
    },
    {
     "name": "stderr",
     "output_type": "stream",
     "text": [
      "\r",
      "OMP Test Batch for noise_level = 0.18:  24%|██▎       | 47/200 [1:30:42<5:05:36, 119.85s/it]"
     ]
    },
    {
     "name": "stderr",
     "output_type": "stream",
     "text": [
      "\r",
      "OMP Test Batch for noise_level = 0.12:  22%|██▎       | 45/200 [1:30:47<4:57:59, 115.35s/it]"
     ]
    },
    {
     "name": "stderr",
     "output_type": "stream",
     "text": [
      "\r",
      "OMP Test Batch for noise_level = 0.06:  22%|██▎       | 45/200 [1:30:54<5:13:14, 121.26s/it]"
     ]
    },
    {
     "name": "stderr",
     "output_type": "stream",
     "text": [
      "\r",
      "OMP Test Batch for noise_level = 0.05:  24%|██▎       | 47/200 [1:31:08<4:50:10, 113.79s/it]"
     ]
    },
    {
     "name": "stderr",
     "output_type": "stream",
     "text": [
      "\r",
      "OMP Test Batch for noise_level = 0.03:  24%|██▎       | 47/200 [1:31:18<4:59:08, 117.31s/it]"
     ]
    },
    {
     "name": "stderr",
     "output_type": "stream",
     "text": [
      "\r",
      "OMP Test Batch for noise_level = 0.04:  24%|██▍       | 48/200 [1:31:33<4:56:19, 116.97s/it]"
     ]
    },
    {
     "name": "stderr",
     "output_type": "stream",
     "text": [
      "\r",
      "OMP Test Batch for noise_level = 0.02:  24%|██▎       | 47/200 [1:31:39<4:55:21, 115.83s/it]"
     ]
    },
    {
     "name": "stderr",
     "output_type": "stream",
     "text": [
      "\r",
      "OMP Test Batch for noise_level = 0.10:  24%|██▍       | 48/200 [1:31:33<4:47:22, 113.44s/it]"
     ]
    },
    {
     "name": "stderr",
     "output_type": "stream",
     "text": [
      "\r",
      "OMP Test Batch for noise_level = 0.00:  24%|██▍       | 48/200 [1:31:47<4:56:35, 117.08s/it]"
     ]
    },
    {
     "name": "stderr",
     "output_type": "stream",
     "text": [
      "\r",
      "OMP Test Batch for noise_level = 0.14:  24%|██▍       | 49/200 [1:31:41<4:40:28, 111.45s/it]"
     ]
    },
    {
     "name": "stderr",
     "output_type": "stream",
     "text": [
      "\r",
      "OMP Test Batch for noise_level = 0.07:  23%|██▎       | 46/200 [1:31:57<5:10:57, 121.16s/it]"
     ]
    },
    {
     "name": "stderr",
     "output_type": "stream",
     "text": [
      "\r",
      "OMP Test Batch for noise_level = 0.08:  24%|██▎       | 47/200 [1:32:03<4:53:32, 115.11s/it]"
     ]
    },
    {
     "name": "stderr",
     "output_type": "stream",
     "text": [
      "\r",
      "OMP Test Batch for noise_level = 0.01:  24%|██▍       | 49/200 [1:32:11<4:48:33, 114.66s/it]"
     ]
    },
    {
     "name": "stderr",
     "output_type": "stream",
     "text": [
      "\r",
      "OMP Test Batch for noise_level = 0.16:  26%|██▌       | 51/200 [1:32:01<4:10:20, 100.81s/it]"
     ]
    },
    {
     "name": "stderr",
     "output_type": "stream",
     "text": [
      "\r",
      "OMP Test Batch for noise_level = 0.09:  24%|██▍       | 49/200 [1:32:10<4:33:11, 108.55s/it]"
     ]
    },
    {
     "name": "stderr",
     "output_type": "stream",
     "text": [
      "\r",
      "OMP Test Batch for noise_level = 0.20:  24%|██▎       | 47/200 [1:32:15<5:04:05, 119.25s/it]"
     ]
    },
    {
     "name": "stderr",
     "output_type": "stream",
     "text": [
      "\r",
      "OMP Test Batch for noise_level = 0.18:  24%|██▍       | 48/200 [1:32:22<4:48:39, 113.94s/it]"
     ]
    },
    {
     "name": "stderr",
     "output_type": "stream",
     "text": [
      "\r",
      "OMP Test Batch for noise_level = 0.12:  23%|██▎       | 46/200 [1:32:30<4:46:39, 111.69s/it]"
     ]
    },
    {
     "name": "stderr",
     "output_type": "stream",
     "text": [
      "\r",
      "OMP Test Batch for noise_level = 0.05:  24%|██▍       | 48/200 [1:32:58<4:45:25, 112.67s/it]"
     ]
    },
    {
     "name": "stderr",
     "output_type": "stream",
     "text": [
      "\r",
      "OMP Test Batch for noise_level = 0.06:  23%|██▎       | 46/200 [1:32:59<5:14:27, 122.52s/it]"
     ]
    },
    {
     "name": "stderr",
     "output_type": "stream",
     "text": [
      "\r",
      "OMP Test Batch for noise_level = 0.03:  24%|██▍       | 48/200 [1:33:20<5:01:01, 118.83s/it]"
     ]
    },
    {
     "name": "stderr",
     "output_type": "stream",
     "text": [
      "\r",
      "OMP Test Batch for noise_level = 0.04:  24%|██▍       | 49/200 [1:33:20<4:46:51, 113.98s/it]"
     ]
    },
    {
     "name": "stderr",
     "output_type": "stream",
     "text": [
      "\r",
      "OMP Test Batch for noise_level = 0.02:  24%|██▍       | 48/200 [1:33:28<4:48:21, 113.82s/it]"
     ]
    },
    {
     "name": "stderr",
     "output_type": "stream",
     "text": [
      "\r",
      "OMP Test Batch for noise_level = 0.14:  25%|██▌       | 50/200 [1:33:24<4:32:02, 108.81s/it]"
     ]
    },
    {
     "name": "stderr",
     "output_type": "stream",
     "text": [
      "\r",
      "OMP Test Batch for noise_level = 0.10:  24%|██▍       | 49/200 [1:33:29<4:48:03, 114.46s/it]"
     ]
    },
    {
     "name": "stderr",
     "output_type": "stream",
     "text": [
      "\r",
      "OMP Test Batch for noise_level = 0.00:  24%|██▍       | 49/200 [1:33:42<4:53:10, 116.50s/it]"
     ]
    },
    {
     "name": "stderr",
     "output_type": "stream",
     "text": [
      "\r",
      "OMP Test Batch for noise_level = 0.07:  24%|██▎       | 47/200 [1:33:51<5:03:56, 119.19s/it]"
     ]
    },
    {
     "name": "stderr",
     "output_type": "stream",
     "text": [
      "\r",
      "OMP Test Batch for noise_level = 0.16:  26%|██▌       | 52/200 [1:33:46<4:11:46, 102.07s/it]"
     ]
    },
    {
     "name": "stderr",
     "output_type": "stream",
     "text": [
      "\r",
      "OMP Test Batch for noise_level = 0.09:  25%|██▌       | 50/200 [1:33:52<4:26:32, 106.62s/it]"
     ]
    },
    {
     "name": "stderr",
     "output_type": "stream",
     "text": [
      "\r",
      "OMP Test Batch for noise_level = 0.01:  25%|██▌       | 50/200 [1:34:05<4:46:21, 114.54s/it]"
     ]
    },
    {
     "name": "stderr",
     "output_type": "stream",
     "text": [
      "\r",
      "OMP Test Batch for noise_level = 0.08:  24%|██▍       | 48/200 [1:34:04<4:55:42, 116.73s/it]"
     ]
    },
    {
     "name": "stderr",
     "output_type": "stream",
     "text": [
      "\r",
      "OMP Test Batch for noise_level = 0.20:  24%|██▍       | 48/200 [1:34:01<4:51:31, 115.07s/it]"
     ]
    },
    {
     "name": "stderr",
     "output_type": "stream",
     "text": [
      "\r",
      "OMP Test Batch for noise_level = 0.12:  24%|██▎       | 47/200 [1:34:07<4:33:01, 107.07s/it]"
     ]
    },
    {
     "name": "stderr",
     "output_type": "stream",
     "text": [
      "\r",
      "OMP Test Batch for noise_level = 0.18:  24%|██▍       | 49/200 [1:34:12<4:44:00, 112.85s/it]"
     ]
    },
    {
     "name": "stderr",
     "output_type": "stream",
     "text": [
      "\r",
      "OMP Test Batch for noise_level = 0.05:  24%|██▍       | 49/200 [1:34:52<4:44:49, 113.18s/it]"
     ]
    },
    {
     "name": "stderr",
     "output_type": "stream",
     "text": [
      "\r",
      "OMP Test Batch for noise_level = 0.14:  26%|██▌       | 51/200 [1:35:00<4:20:30, 104.90s/it]\r",
      "OMP Test Batch for noise_level = 0.06:  24%|██▎       | 47/200 [1:35:06<5:15:14, 123.62s/it]"
     ]
    },
    {
     "name": "stderr",
     "output_type": "stream",
     "text": [
      "\r",
      "OMP Test Batch for noise_level = 0.04:  25%|██▌       | 50/200 [1:35:16<4:46:27, 114.59s/it]"
     ]
    },
    {
     "name": "stderr",
     "output_type": "stream",
     "text": [
      "\r",
      "OMP Test Batch for noise_level = 0.03:  24%|██▍       | 49/200 [1:35:19<4:59:06, 118.85s/it]"
     ]
    },
    {
     "name": "stderr",
     "output_type": "stream",
     "text": [
      "\r",
      "OMP Test Batch for noise_level = 0.02:  24%|██▍       | 49/200 [1:35:23<4:47:36, 114.28s/it]"
     ]
    },
    {
     "name": "stderr",
     "output_type": "stream",
     "text": [
      "\r",
      "OMP Test Batch for noise_level = 0.10:  25%|██▌       | 50/200 [1:35:22<4:44:48, 113.92s/it]"
     ]
    },
    {
     "name": "stderr",
     "output_type": "stream",
     "text": [
      "\r",
      "OMP Test Batch for noise_level = 0.00:  25%|██▌       | 50/200 [1:35:50<4:59:17, 119.72s/it]"
     ]
    },
    {
     "name": "stderr",
     "output_type": "stream",
     "text": [
      "\r",
      "OMP Test Batch for noise_level = 0.16:  26%|██▋       | 53/200 [1:35:41<4:19:39, 105.98s/it]"
     ]
    },
    {
     "name": "stderr",
     "output_type": "stream",
     "text": [
      "\r",
      "OMP Test Batch for noise_level = 0.01:  26%|██▌       | 51/200 [1:35:54<4:40:19, 112.88s/it]"
     ]
    },
    {
     "name": "stderr",
     "output_type": "stream",
     "text": [
      "\r",
      "OMP Test Batch for noise_level = 0.09:  26%|██▌       | 51/200 [1:35:49<4:32:16, 109.64s/it]"
     ]
    },
    {
     "name": "stderr",
     "output_type": "stream",
     "text": [
      "\r",
      "OMP Test Batch for noise_level = 0.07:  24%|██▍       | 48/200 [1:35:54<5:04:15, 120.10s/it]"
     ]
    },
    {
     "name": "stderr",
     "output_type": "stream",
     "text": [
      "\r",
      "OMP Test Batch for noise_level = 0.12:  24%|██▍       | 48/200 [1:35:56<4:33:09, 107.82s/it]"
     ]
    },
    {
     "name": "stderr",
     "output_type": "stream",
     "text": [
      "\r",
      "OMP Test Batch for noise_level = 0.08:  24%|██▍       | 49/200 [1:36:04<4:56:09, 117.68s/it]"
     ]
    },
    {
     "name": "stderr",
     "output_type": "stream",
     "text": [
      "\r",
      "OMP Test Batch for noise_level = 0.20:  24%|██▍       | 49/200 [1:36:06<4:57:31, 118.22s/it]"
     ]
    },
    {
     "name": "stderr",
     "output_type": "stream",
     "text": [
      "\r",
      "OMP Test Batch for noise_level = 0.18:  25%|██▌       | 50/200 [1:36:16<4:50:25, 116.17s/it]"
     ]
    },
    {
     "name": "stderr",
     "output_type": "stream",
     "text": [
      "\r",
      "OMP Test Batch for noise_level = 0.05:  25%|██▌       | 50/200 [1:36:41<4:39:15, 111.70s/it]"
     ]
    },
    {
     "name": "stderr",
     "output_type": "stream",
     "text": [
      "\r",
      "OMP Test Batch for noise_level = 0.14:  26%|██▌       | 52/200 [1:37:01<4:30:35, 109.70s/it]"
     ]
    },
    {
     "name": "stderr",
     "output_type": "stream",
     "text": [
      "\r",
      "OMP Test Batch for noise_level = 0.04:  26%|██▌       | 51/200 [1:37:13<4:46:11, 115.24s/it]"
     ]
    },
    {
     "name": "stderr",
     "output_type": "stream",
     "text": [
      "\r",
      "OMP Test Batch for noise_level = 0.06:  24%|██▍       | 48/200 [1:37:12<5:15:22, 124.49s/it]"
     ]
    },
    {
     "name": "stderr",
     "output_type": "stream",
     "text": [
      "\r",
      "OMP Test Batch for noise_level = 0.03:  25%|██▌       | 50/200 [1:37:15<4:54:55, 117.97s/it]"
     ]
    },
    {
     "name": "stderr",
     "output_type": "stream",
     "text": [
      "\r",
      "OMP Test Batch for noise_level = 0.02:  25%|██▌       | 50/200 [1:37:18<4:46:07, 114.45s/it]"
     ]
    },
    {
     "name": "stderr",
     "output_type": "stream",
     "text": [
      "\r",
      "OMP Test Batch for noise_level = 0.10:  26%|██▌       | 51/200 [1:37:19<4:45:09, 114.83s/it]"
     ]
    },
    {
     "name": "stderr",
     "output_type": "stream",
     "text": [
      "\r",
      "OMP Test Batch for noise_level = 0.16:  27%|██▋       | 54/200 [1:37:26<4:16:49, 105.54s/it]"
     ]
    },
    {
     "name": "stderr",
     "output_type": "stream",
     "text": [
      "\r",
      "OMP Test Batch for noise_level = 0.00:  26%|██▌       | 51/200 [1:37:37<4:48:31, 116.19s/it]"
     ]
    },
    {
     "name": "stderr",
     "output_type": "stream",
     "text": [
      "\r",
      "OMP Test Batch for noise_level = 0.09:  26%|██▌       | 52/200 [1:37:41<4:32:16, 110.38s/it]"
     ]
    },
    {
     "name": "stderr",
     "output_type": "stream",
     "text": [
      "\r",
      "OMP Test Batch for noise_level = 0.01:  26%|██▌       | 52/200 [1:37:48<4:39:12, 113.19s/it]"
     ]
    },
    {
     "name": "stderr",
     "output_type": "stream",
     "text": [
      "\r",
      "OMP Test Batch for noise_level = 0.12:  24%|██▍       | 49/200 [1:37:45<4:32:14, 108.17s/it]"
     ]
    },
    {
     "name": "stderr",
     "output_type": "stream",
     "text": [
      "\r",
      "OMP Test Batch for noise_level = 0.07:  24%|██▍       | 49/200 [1:37:50<4:59:43, 119.10s/it]"
     ]
    },
    {
     "name": "stderr",
     "output_type": "stream",
     "text": [
      "\r",
      "OMP Test Batch for noise_level = 0.20:  25%|██▌       | 50/200 [1:37:45<4:41:02, 112.42s/it]"
     ]
    },
    {
     "name": "stderr",
     "output_type": "stream",
     "text": [
      "\r",
      "OMP Test Batch for noise_level = 0.08:  25%|██▌       | 50/200 [1:37:59<4:52:12, 116.89s/it]"
     ]
    },
    {
     "name": "stderr",
     "output_type": "stream",
     "text": [
      "\r",
      "OMP Test Batch for noise_level = 0.18:  26%|██▌       | 51/200 [1:38:14<4:49:49, 116.71s/it]"
     ]
    },
    {
     "name": "stderr",
     "output_type": "stream",
     "text": [
      "\r",
      "OMP Test Batch for noise_level = 0.05:  26%|██▌       | 51/200 [1:38:39<4:41:58, 113.55s/it]"
     ]
    },
    {
     "name": "stderr",
     "output_type": "stream",
     "text": [
      "\r",
      "OMP Test Batch for noise_level = 0.14:  26%|██▋       | 53/200 [1:38:40<4:20:56, 106.50s/it]"
     ]
    },
    {
     "name": "stderr",
     "output_type": "stream",
     "text": [
      "\r",
      "OMP Test Batch for noise_level = 0.04:  26%|██▌       | 52/200 [1:39:04<4:40:59, 113.91s/it]"
     ]
    },
    {
     "name": "stderr",
     "output_type": "stream",
     "text": [
      "\r",
      "OMP Test Batch for noise_level = 0.02:  26%|██▌       | 51/200 [1:39:14<4:45:17, 114.88s/it]\r",
      "OMP Test Batch for noise_level = 0.03:  26%|██▌       | 51/200 [1:39:13<4:53:25, 118.15s/it]"
     ]
    },
    {
     "name": "stderr",
     "output_type": "stream",
     "text": [
      "\r",
      "OMP Test Batch for noise_level = 0.06:  24%|██▍       | 49/200 [1:39:14<5:11:02, 123.59s/it]"
     ]
    },
    {
     "name": "stderr",
     "output_type": "stream",
     "text": [
      "\r",
      "OMP Test Batch for noise_level = 0.10:  26%|██▌       | 52/200 [1:39:13<4:42:18, 114.45s/it]"
     ]
    },
    {
     "name": "stderr",
     "output_type": "stream",
     "text": [
      "\r",
      "OMP Test Batch for noise_level = 0.16:  28%|██▊       | 55/200 [1:39:21<4:22:12, 108.50s/it]"
     ]
    },
    {
     "name": "stderr",
     "output_type": "stream",
     "text": [
      "\r",
      "OMP Test Batch for noise_level = 0.12:  25%|██▌       | 50/200 [1:39:25<4:24:17, 105.71s/it]"
     ]
    },
    {
     "name": "stderr",
     "output_type": "stream",
     "text": [
      "\r",
      "OMP Test Batch for noise_level = 0.00:  26%|██▌       | 52/200 [1:39:37<4:49:13, 117.25s/it]"
     ]
    },
    {
     "name": "stderr",
     "output_type": "stream",
     "text": [
      "\r",
      "OMP Test Batch for noise_level = 0.01:  26%|██▋       | 53/200 [1:39:46<4:40:24, 114.45s/it]"
     ]
    },
    {
     "name": "stderr",
     "output_type": "stream",
     "text": [
      "\r",
      "OMP Test Batch for noise_level = 0.09:  26%|██▋       | 53/200 [1:39:40<4:36:49, 112.99s/it]"
     ]
    },
    {
     "name": "stderr",
     "output_type": "stream",
     "text": [
      "\r",
      "OMP Test Batch for noise_level = 0.07:  25%|██▌       | 50/200 [1:39:51<4:59:06, 119.65s/it]"
     ]
    },
    {
     "name": "stderr",
     "output_type": "stream",
     "text": [
      "\r",
      "OMP Test Batch for noise_level = 0.20:  26%|██▌       | 51/200 [1:39:51<4:49:22, 116.53s/it]"
     ]
    },
    {
     "name": "stderr",
     "output_type": "stream",
     "text": [
      "\r",
      "OMP Test Batch for noise_level = 0.08:  26%|██▌       | 51/200 [1:40:00<4:53:22, 118.14s/it]"
     ]
    },
    {
     "name": "stderr",
     "output_type": "stream",
     "text": [
      "\r",
      "OMP Test Batch for noise_level = 0.18:  26%|██▌       | 52/200 [1:40:14<4:50:26, 117.75s/it]"
     ]
    },
    {
     "name": "stderr",
     "output_type": "stream",
     "text": [
      "\r",
      "OMP Test Batch for noise_level = 0.05:  26%|██▌       | 52/200 [1:40:35<4:42:18, 114.45s/it]"
     ]
    },
    {
     "name": "stderr",
     "output_type": "stream",
     "text": [
      "\r",
      "OMP Test Batch for noise_level = 0.14:  27%|██▋       | 54/200 [1:40:38<4:27:40, 110.00s/it]"
     ]
    },
    {
     "name": "stderr",
     "output_type": "stream",
     "text": [
      "\r",
      "OMP Test Batch for noise_level = 0.04:  26%|██▋       | 53/200 [1:40:48<4:32:12, 111.11s/it]"
     ]
    },
    {
     "name": "stderr",
     "output_type": "stream",
     "text": [
      "\r",
      "OMP Test Batch for noise_level = 0.03:  26%|██▌       | 52/200 [1:41:07<4:47:43, 116.64s/it]"
     ]
    },
    {
     "name": "stderr",
     "output_type": "stream",
     "text": [
      "\r",
      "OMP Test Batch for noise_level = 0.02:  26%|██▌       | 52/200 [1:41:12<4:45:12, 115.62s/it]"
     ]
    },
    {
     "name": "stderr",
     "output_type": "stream",
     "text": [
      "\r",
      "OMP Test Batch for noise_level = 0.00:  26%|██▋       | 53/200 [1:41:25<4:40:14, 114.39s/it]"
     ]
    },
    {
     "name": "stderr",
     "output_type": "stream",
     "text": [
      "\r",
      "OMP Test Batch for noise_level = 0.16:  28%|██▊       | 56/200 [1:41:14<4:23:40, 109.86s/it]\r",
      "OMP Test Batch for noise_level = 0.10:  26%|██▋       | 53/200 [1:41:17<4:47:48, 117.47s/it]"
     ]
    },
    {
     "name": "stderr",
     "output_type": "stream",
     "text": [
      "\r",
      "OMP Test Batch for noise_level = 0.06:  25%|██▌       | 50/200 [1:41:21<5:11:57, 124.78s/it]"
     ]
    },
    {
     "name": "stderr",
     "output_type": "stream",
     "text": [
      "\r",
      "OMP Test Batch for noise_level = 0.12:  26%|██▌       | 51/200 [1:41:19<4:28:51, 108.26s/it]"
     ]
    },
    {
     "name": "stderr",
     "output_type": "stream",
     "text": [
      "\r",
      "OMP Test Batch for noise_level = 0.01:  27%|██▋       | 54/200 [1:41:41<4:39:26, 114.84s/it]"
     ]
    },
    {
     "name": "stderr",
     "output_type": "stream",
     "text": [
      "\r",
      "OMP Test Batch for noise_level = 0.09:  27%|██▋       | 54/200 [1:41:37<4:38:13, 114.34s/it]"
     ]
    },
    {
     "name": "stderr",
     "output_type": "stream",
     "text": [
      "\r",
      "OMP Test Batch for noise_level = 0.07:  26%|██▌       | 51/200 [1:41:52<4:58:09, 120.06s/it]"
     ]
    },
    {
     "name": "stderr",
     "output_type": "stream",
     "text": [
      "\r",
      "OMP Test Batch for noise_level = 0.20:  26%|██▌       | 52/200 [1:41:54<4:52:09, 118.44s/it]"
     ]
    },
    {
     "name": "stderr",
     "output_type": "stream",
     "text": [
      "\r",
      "OMP Test Batch for noise_level = 0.08:  26%|██▌       | 52/200 [1:42:03<4:55:25, 119.76s/it]"
     ]
    },
    {
     "name": "stderr",
     "output_type": "stream",
     "text": [
      "\r",
      "OMP Test Batch for noise_level = 0.18:  26%|██▋       | 53/200 [1:42:03<4:42:15, 115.20s/it]"
     ]
    },
    {
     "name": "stderr",
     "output_type": "stream",
     "text": [
      "\r",
      "OMP Test Batch for noise_level = 0.05:  26%|██▋       | 53/200 [1:42:22<4:34:48, 112.17s/it]"
     ]
    },
    {
     "name": "stderr",
     "output_type": "stream",
     "text": [
      "\r",
      "OMP Test Batch for noise_level = 0.14:  28%|██▊       | 55/200 [1:42:26<4:24:45, 109.55s/it]"
     ]
    },
    {
     "name": "stderr",
     "output_type": "stream",
     "text": [
      "\r",
      "OMP Test Batch for noise_level = 0.04:  27%|██▋       | 54/200 [1:42:44<4:33:38, 112.45s/it]"
     ]
    },
    {
     "name": "stderr",
     "output_type": "stream",
     "text": [
      "\r",
      "OMP Test Batch for noise_level = 0.02:  26%|██▋       | 53/200 [1:42:56<4:34:54, 112.21s/it]"
     ]
    },
    {
     "name": "stderr",
     "output_type": "stream",
     "text": [
      "\r",
      "OMP Test Batch for noise_level = 0.03:  26%|██▋       | 53/200 [1:43:01<4:44:15, 116.02s/it]"
     ]
    },
    {
     "name": "stderr",
     "output_type": "stream",
     "text": [
      "\r",
      "OMP Test Batch for noise_level = 0.16:  28%|██▊       | 57/200 [1:42:59<4:18:32, 108.48s/it]"
     ]
    },
    {
     "name": "stderr",
     "output_type": "stream",
     "text": [
      "\r",
      "OMP Test Batch for noise_level = 0.12:  26%|██▌       | 52/200 [1:43:05<4:24:55, 107.41s/it]"
     ]
    },
    {
     "name": "stderr",
     "output_type": "stream",
     "text": [
      "\r",
      "OMP Test Batch for noise_level = 0.06:  26%|██▌       | 51/200 [1:43:12<4:59:20, 120.54s/it]"
     ]
    },
    {
     "name": "stderr",
     "output_type": "stream",
     "text": [
      "\r",
      "OMP Test Batch for noise_level = 0.10:  27%|██▋       | 54/200 [1:43:15<4:45:51, 117.47s/it]"
     ]
    },
    {
     "name": "stderr",
     "output_type": "stream",
     "text": [
      "\r",
      "OMP Test Batch for noise_level = 0.00:  27%|██▋       | 54/200 [1:43:25<4:42:11, 115.97s/it]"
     ]
    },
    {
     "name": "stderr",
     "output_type": "stream",
     "text": [
      "\r",
      "OMP Test Batch for noise_level = 0.01:  28%|██▊       | 55/200 [1:43:40<4:40:03, 115.88s/it]"
     ]
    },
    {
     "name": "stderr",
     "output_type": "stream",
     "text": [
      "\r",
      "OMP Test Batch for noise_level = 0.09:  28%|██▊       | 55/200 [1:43:37<4:40:14, 115.96s/it]"
     ]
    },
    {
     "name": "stderr",
     "output_type": "stream",
     "text": [
      "\r",
      "OMP Test Batch for noise_level = 0.07:  26%|██▌       | 52/200 [1:43:56<4:59:12, 121.30s/it]"
     ]
    },
    {
     "name": "stderr",
     "output_type": "stream",
     "text": [
      "\r",
      "OMP Test Batch for noise_level = 0.20:  26%|██▋       | 53/200 [1:43:51<4:48:44, 117.86s/it]"
     ]
    },
    {
     "name": "stderr",
     "output_type": "stream",
     "text": [
      "\r",
      "OMP Test Batch for noise_level = 0.08:  26%|██▋       | 53/200 [1:44:04<4:54:01, 120.01s/it]"
     ]
    },
    {
     "name": "stderr",
     "output_type": "stream",
     "text": [
      "\r",
      "OMP Test Batch for noise_level = 0.18:  27%|██▋       | 54/200 [1:44:08<4:47:00, 117.95s/it]"
     ]
    },
    {
     "name": "stderr",
     "output_type": "stream",
     "text": [
      "\r",
      "OMP Test Batch for noise_level = 0.05:  27%|██▋       | 54/200 [1:44:26<4:41:22, 115.63s/it]"
     ]
    },
    {
     "name": "stderr",
     "output_type": "stream",
     "text": [
      "\r",
      "OMP Test Batch for noise_level = 0.14:  28%|██▊       | 56/200 [1:44:24<4:28:31, 111.88s/it]"
     ]
    },
    {
     "name": "stderr",
     "output_type": "stream",
     "text": [
      "\r",
      "OMP Test Batch for noise_level = 0.04:  28%|██▊       | 55/200 [1:44:39<4:33:11, 113.04s/it]"
     ]
    },
    {
     "name": "stderr",
     "output_type": "stream",
     "text": [
      "\r",
      "OMP Test Batch for noise_level = 0.02:  27%|██▋       | 54/200 [1:44:44<4:29:50, 110.90s/it]"
     ]
    },
    {
     "name": "stderr",
     "output_type": "stream",
     "text": [
      "\r",
      "OMP Test Batch for noise_level = 0.12:  26%|██▋       | 53/200 [1:44:39<4:13:06, 103.31s/it]"
     ]
    },
    {
     "name": "stderr",
     "output_type": "stream",
     "text": [
      "\r",
      "OMP Test Batch for noise_level = 0.16:  29%|██▉       | 58/200 [1:44:47<4:16:10, 108.24s/it]"
     ]
    },
    {
     "name": "stderr",
     "output_type": "stream",
     "text": [
      "\r",
      "OMP Test Batch for noise_level = 0.03:  27%|██▋       | 54/200 [1:44:59<4:43:48, 116.63s/it]"
     ]
    },
    {
     "name": "stderr",
     "output_type": "stream",
     "text": [
      "\r",
      "OMP Test Batch for noise_level = 0.10:  28%|██▊       | 55/200 [1:44:55<4:31:28, 112.34s/it]"
     ]
    },
    {
     "name": "stderr",
     "output_type": "stream",
     "text": [
      "\r",
      "OMP Test Batch for noise_level = 0.06:  26%|██▌       | 52/200 [1:45:03<4:50:44, 117.87s/it]"
     ]
    },
    {
     "name": "stderr",
     "output_type": "stream",
     "text": [
      "\r",
      "OMP Test Batch for noise_level = 0.00:  28%|██▊       | 55/200 [1:45:21<4:40:18, 115.99s/it]"
     ]
    },
    {
     "name": "stderr",
     "output_type": "stream",
     "text": [
      "\r",
      "OMP Test Batch for noise_level = 0.01:  28%|██▊       | 56/200 [1:45:33<4:36:00, 115.00s/it]"
     ]
    },
    {
     "name": "stderr",
     "output_type": "stream",
     "text": [
      "\r",
      "OMP Test Batch for noise_level = 0.09:  28%|██▊       | 56/200 [1:45:36<4:40:19, 116.81s/it]"
     ]
    },
    {
     "name": "stderr",
     "output_type": "stream",
     "text": [
      "\r",
      "OMP Test Batch for noise_level = 0.20:  27%|██▋       | 54/200 [1:45:58<4:53:42, 120.70s/it]"
     ]
    },
    {
     "name": "stderr",
     "output_type": "stream",
     "text": [
      "\r",
      "OMP Test Batch for noise_level = 0.08:  27%|██▋       | 54/200 [1:46:06<4:53:44, 120.72s/it]\r",
      "OMP Test Batch for noise_level = 0.07:  26%|██▋       | 53/200 [1:46:07<5:04:11, 124.16s/it]"
     ]
    },
    {
     "name": "stderr",
     "output_type": "stream",
     "text": [
      "\r",
      "OMP Test Batch for noise_level = 0.18:  28%|██▊       | 55/200 [1:46:15<4:51:45, 120.73s/it]"
     ]
    },
    {
     "name": "stderr",
     "output_type": "stream",
     "text": [
      "\r",
      "OMP Test Batch for noise_level = 0.05:  28%|██▊       | 55/200 [1:46:28<4:44:02, 117.54s/it]"
     ]
    },
    {
     "name": "stderr",
     "output_type": "stream",
     "text": [
      "\r",
      "OMP Test Batch for noise_level = 0.14:  28%|██▊       | 57/200 [1:46:23<4:31:56, 114.10s/it]"
     ]
    },
    {
     "name": "stderr",
     "output_type": "stream",
     "text": [
      "\r",
      "OMP Test Batch for noise_level = 0.12:  27%|██▋       | 54/200 [1:46:28<4:15:34, 105.03s/it]"
     ]
    },
    {
     "name": "stderr",
     "output_type": "stream",
     "text": [
      "\r",
      "OMP Test Batch for noise_level = 0.04:  28%|██▊       | 56/200 [1:46:39<4:36:57, 115.40s/it]\r",
      "OMP Test Batch for noise_level = 0.02:  28%|██▊       | 55/200 [1:46:41<4:32:53, 112.92s/it]"
     ]
    },
    {
     "name": "stderr",
     "output_type": "stream",
     "text": [
      "\r",
      "OMP Test Batch for noise_level = 0.16:  30%|██▉       | 59/200 [1:46:43<4:19:37, 110.48s/it]"
     ]
    },
    {
     "name": "stderr",
     "output_type": "stream",
     "text": [
      "\r",
      "OMP Test Batch for noise_level = 0.06:  26%|██▋       | 53/200 [1:46:58<4:46:30, 116.94s/it]"
     ]
    },
    {
     "name": "stderr",
     "output_type": "stream",
     "text": [
      "\r",
      "OMP Test Batch for noise_level = 0.03:  28%|██▊       | 55/200 [1:47:05<4:48:50, 119.52s/it]"
     ]
    },
    {
     "name": "stderr",
     "output_type": "stream",
     "text": [
      "\r",
      "OMP Test Batch for noise_level = 0.10:  28%|██▊       | 56/200 [1:47:01<4:39:19, 116.39s/it]"
     ]
    },
    {
     "name": "stderr",
     "output_type": "stream",
     "text": [
      "\r",
      "OMP Test Batch for noise_level = 0.00:  28%|██▊       | 56/200 [1:47:17<4:38:54, 116.21s/it]"
     ]
    },
    {
     "name": "stderr",
     "output_type": "stream",
     "text": [
      "\r",
      "OMP Test Batch for noise_level = 0.01:  28%|██▊       | 57/200 [1:47:30<4:35:47, 115.71s/it]"
     ]
    },
    {
     "name": "stderr",
     "output_type": "stream",
     "text": [
      "\r",
      "OMP Test Batch for noise_level = 0.09:  28%|██▊       | 57/200 [1:47:30<4:36:26, 115.99s/it]"
     ]
    },
    {
     "name": "stderr",
     "output_type": "stream",
     "text": [
      "\r",
      "OMP Test Batch for noise_level = 0.20:  28%|██▊       | 55/200 [1:47:42<4:39:52, 115.81s/it]"
     ]
    },
    {
     "name": "stderr",
     "output_type": "stream",
     "text": [
      "\r",
      "OMP Test Batch for noise_level = 0.08:  28%|██▊       | 55/200 [1:47:58<4:45:18, 118.06s/it]"
     ]
    },
    {
     "name": "stderr",
     "output_type": "stream",
     "text": [
      "\r",
      "OMP Test Batch for noise_level = 0.07:  27%|██▋       | 54/200 [1:48:03<4:55:42, 121.52s/it]"
     ]
    },
    {
     "name": "stderr",
     "output_type": "stream",
     "text": [
      "\r",
      "OMP Test Batch for noise_level = 0.05:  28%|██▊       | 56/200 [1:48:23<4:40:17, 116.79s/it]"
     ]
    },
    {
     "name": "stderr",
     "output_type": "stream",
     "text": [
      "\r",
      "OMP Test Batch for noise_level = 0.18:  28%|██▊       | 56/200 [1:48:16<4:49:44, 120.73s/it]"
     ]
    },
    {
     "name": "stderr",
     "output_type": "stream",
     "text": [
      "\r",
      "OMP Test Batch for noise_level = 0.14:  29%|██▉       | 58/200 [1:48:17<4:30:17, 114.21s/it]\r",
      "OMP Test Batch for noise_level = 0.12:  28%|██▊       | 55/200 [1:48:19<4:18:10, 106.83s/it]"
     ]
    },
    {
     "name": "stderr",
     "output_type": "stream",
     "text": [
      "\r",
      "OMP Test Batch for noise_level = 0.16:  30%|███       | 60/200 [1:48:25<4:12:01, 108.01s/it]"
     ]
    },
    {
     "name": "stderr",
     "output_type": "stream",
     "text": [
      "\r",
      "OMP Test Batch for noise_level = 0.04:  28%|██▊       | 57/200 [1:48:34<4:34:13, 115.06s/it]"
     ]
    },
    {
     "name": "stderr",
     "output_type": "stream",
     "text": [
      "\r",
      "OMP Test Batch for noise_level = 0.02:  28%|██▊       | 56/200 [1:48:40<4:35:05, 114.62s/it]"
     ]
    },
    {
     "name": "stderr",
     "output_type": "stream",
     "text": [
      "\r",
      "OMP Test Batch for noise_level = 0.06:  27%|██▋       | 54/200 [1:48:48<4:39:32, 114.88s/it]"
     ]
    },
    {
     "name": "stderr",
     "output_type": "stream",
     "text": [
      "\r",
      "OMP Test Batch for noise_level = 0.03:  28%|██▊       | 56/200 [1:48:56<4:40:35, 116.92s/it]"
     ]
    },
    {
     "name": "stderr",
     "output_type": "stream",
     "text": [
      "\r",
      "OMP Test Batch for noise_level = 0.10:  28%|██▊       | 57/200 [1:48:54<4:35:15, 115.49s/it]"
     ]
    },
    {
     "name": "stderr",
     "output_type": "stream",
     "text": [
      "\r",
      "OMP Test Batch for noise_level = 0.00:  28%|██▊       | 57/200 [1:49:22<4:43:13, 118.83s/it]"
     ]
    },
    {
     "name": "stderr",
     "output_type": "stream",
     "text": [
      "\r",
      "OMP Test Batch for noise_level = 0.01:  29%|██▉       | 58/200 [1:49:23<4:31:49, 114.86s/it]"
     ]
    },
    {
     "name": "stderr",
     "output_type": "stream",
     "text": [
      "\r",
      "OMP Test Batch for noise_level = 0.09:  29%|██▉       | 58/200 [1:49:25<4:33:52, 115.72s/it]"
     ]
    },
    {
     "name": "stderr",
     "output_type": "stream",
     "text": [
      "\r",
      "OMP Test Batch for noise_level = 0.12:  28%|██▊       | 56/200 [1:49:46<4:02:37, 101.10s/it]\r",
      "OMP Test Batch for noise_level = 0.20:  28%|██▊       | 56/200 [1:49:43<4:41:24, 117.25s/it]"
     ]
    },
    {
     "name": "stderr",
     "output_type": "stream",
     "text": [
      "\r",
      "OMP Test Batch for noise_level = 0.07:  28%|██▊       | 55/200 [1:49:50<4:43:37, 117.36s/it]"
     ]
    },
    {
     "name": "stderr",
     "output_type": "stream",
     "text": [
      "\r",
      "OMP Test Batch for noise_level = 0.08:  28%|██▊       | 56/200 [1:49:54<4:41:39, 117.36s/it]"
     ]
    },
    {
     "name": "stderr",
     "output_type": "stream",
     "text": [
      "\r",
      "OMP Test Batch for noise_level = 0.16:  30%|███       | 61/200 [1:50:12<4:09:41, 107.78s/it]"
     ]
    },
    {
     "name": "stderr",
     "output_type": "stream",
     "text": [
      "\r",
      "OMP Test Batch for noise_level = 0.04:  29%|██▉       | 58/200 [1:50:23<4:28:27, 113.43s/it]"
     ]
    },
    {
     "name": "stderr",
     "output_type": "stream",
     "text": [
      "\r",
      "OMP Test Batch for noise_level = 0.14:  30%|██▉       | 59/200 [1:50:17<4:32:12, 115.83s/it]\r",
      "OMP Test Batch for noise_level = 0.18:  28%|██▊       | 57/200 [1:50:16<4:47:18, 120.55s/it]"
     ]
    },
    {
     "name": "stderr",
     "output_type": "stream",
     "text": [
      "\r",
      "OMP Test Batch for noise_level = 0.05:  28%|██▊       | 57/200 [1:50:24<4:41:36, 118.15s/it]"
     ]
    },
    {
     "name": "stderr",
     "output_type": "stream",
     "text": [
      "\r",
      "OMP Test Batch for noise_level = 0.02:  28%|██▊       | 57/200 [1:50:34<4:33:09, 114.61s/it]"
     ]
    },
    {
     "name": "stderr",
     "output_type": "stream",
     "text": [
      "\r",
      "OMP Test Batch for noise_level = 0.06:  28%|██▊       | 55/200 [1:50:42<4:36:36, 114.46s/it]"
     ]
    },
    {
     "name": "stderr",
     "output_type": "stream",
     "text": [
      "\r",
      "OMP Test Batch for noise_level = 0.03:  28%|██▊       | 57/200 [1:50:58<4:42:10, 118.39s/it]"
     ]
    },
    {
     "name": "stderr",
     "output_type": "stream",
     "text": [
      "\r",
      "OMP Test Batch for noise_level = 0.10:  29%|██▉       | 58/200 [1:50:56<4:37:59, 117.46s/it]"
     ]
    },
    {
     "name": "stderr",
     "output_type": "stream",
     "text": [
      "\r",
      "OMP Test Batch for noise_level = 0.09:  30%|██▉       | 59/200 [1:51:16<4:28:23, 114.21s/it]"
     ]
    },
    {
     "name": "stderr",
     "output_type": "stream",
     "text": [
      "\r",
      "OMP Test Batch for noise_level = 0.00:  29%|██▉       | 58/200 [1:51:26<4:44:49, 120.35s/it]"
     ]
    },
    {
     "name": "stderr",
     "output_type": "stream",
     "text": [
      "\r",
      "OMP Test Batch for noise_level = 0.01:  30%|██▉       | 59/200 [1:51:26<4:36:07, 117.50s/it]"
     ]
    },
    {
     "name": "stderr",
     "output_type": "stream",
     "text": [
      "\r",
      "OMP Test Batch for noise_level = 0.12:  28%|██▊       | 57/200 [1:51:36<4:06:44, 103.53s/it]"
     ]
    },
    {
     "name": "stderr",
     "output_type": "stream",
     "text": [
      "\r",
      "OMP Test Batch for noise_level = 0.20:  28%|██▊       | 57/200 [1:51:33<4:33:54, 114.93s/it]"
     ]
    },
    {
     "name": "stderr",
     "output_type": "stream",
     "text": [
      "\r",
      "OMP Test Batch for noise_level = 0.08:  28%|██▊       | 57/200 [1:51:44<4:34:15, 115.07s/it]"
     ]
    },
    {
     "name": "stderr",
     "output_type": "stream",
     "text": [
      "\r",
      "OMP Test Batch for noise_level = 0.07:  28%|██▊       | 56/200 [1:51:49<4:42:46, 117.82s/it]"
     ]
    },
    {
     "name": "stderr",
     "output_type": "stream",
     "text": [
      "\r",
      "OMP Test Batch for noise_level = 0.16:  31%|███       | 62/200 [1:52:02<4:09:24, 108.44s/it]"
     ]
    },
    {
     "name": "stderr",
     "output_type": "stream",
     "text": [
      "\r",
      "OMP Test Batch for noise_level = 0.14:  30%|███       | 60/200 [1:52:12<4:29:39, 115.57s/it]"
     ]
    },
    {
     "name": "stderr",
     "output_type": "stream",
     "text": [
      "\r",
      "OMP Test Batch for noise_level = 0.04:  30%|██▉       | 59/200 [1:52:24<4:31:26, 115.51s/it]"
     ]
    },
    {
     "name": "stderr",
     "output_type": "stream",
     "text": [
      "\r",
      "OMP Test Batch for noise_level = 0.02:  29%|██▉       | 58/200 [1:52:27<4:30:07, 114.14s/it]"
     ]
    },
    {
     "name": "stderr",
     "output_type": "stream",
     "text": [
      "\r",
      "OMP Test Batch for noise_level = 0.18:  29%|██▉       | 58/200 [1:52:20<4:48:07, 121.74s/it]"
     ]
    },
    {
     "name": "stderr",
     "output_type": "stream",
     "text": [
      "\r",
      "OMP Test Batch for noise_level = 0.05:  29%|██▉       | 58/200 [1:52:29<4:44:32, 120.23s/it]"
     ]
    },
    {
     "name": "stderr",
     "output_type": "stream",
     "text": [
      "\r",
      "OMP Test Batch for noise_level = 0.06:  28%|██▊       | 56/200 [1:52:34<4:33:02, 113.77s/it]"
     ]
    },
    {
     "name": "stderr",
     "output_type": "stream",
     "text": [
      "\r",
      "OMP Test Batch for noise_level = 0.03:  29%|██▉       | 58/200 [1:52:57<4:40:35, 118.56s/it]"
     ]
    },
    {
     "name": "stderr",
     "output_type": "stream",
     "text": [
      "\r",
      "OMP Test Batch for noise_level = 0.10:  30%|██▉       | 59/200 [1:53:02<4:41:32, 119.81s/it]"
     ]
    },
    {
     "name": "stderr",
     "output_type": "stream",
     "text": [
      "\r",
      "OMP Test Batch for noise_level = 0.01:  30%|███       | 60/200 [1:53:13<4:26:25, 114.18s/it]"
     ]
    },
    {
     "name": "stderr",
     "output_type": "stream",
     "text": [
      "\r",
      "OMP Test Batch for noise_level = 0.09:  30%|███       | 60/200 [1:53:13<4:28:23, 115.03s/it]"
     ]
    },
    {
     "name": "stderr",
     "output_type": "stream",
     "text": [
      "\r",
      "OMP Test Batch for noise_level = 0.20:  29%|██▉       | 58/200 [1:53:19<4:26:11, 112.48s/it]"
     ]
    },
    {
     "name": "stderr",
     "output_type": "stream",
     "text": [
      "\r",
      "OMP Test Batch for noise_level = 0.00:  30%|██▉       | 59/200 [1:53:34<4:48:04, 122.59s/it]"
     ]
    },
    {
     "name": "stderr",
     "output_type": "stream",
     "text": [
      "\r",
      "OMP Test Batch for noise_level = 0.12:  29%|██▉       | 58/200 [1:53:26<4:10:10, 105.71s/it]"
     ]
    },
    {
     "name": "stderr",
     "output_type": "stream",
     "text": [
      "\r",
      "OMP Test Batch for noise_level = 0.08:  29%|██▉       | 58/200 [1:53:45<4:36:36, 116.88s/it]"
     ]
    },
    {
     "name": "stderr",
     "output_type": "stream",
     "text": [
      "\r",
      "OMP Test Batch for noise_level = 0.07:  28%|██▊       | 57/200 [1:53:51<4:43:22, 118.90s/it]"
     ]
    },
    {
     "name": "stderr",
     "output_type": "stream",
     "text": [
      "\r",
      "OMP Test Batch for noise_level = 0.16:  32%|███▏      | 63/200 [1:53:47<4:04:52, 107.25s/it]"
     ]
    },
    {
     "name": "stderr",
     "output_type": "stream",
     "text": [
      "\r",
      "OMP Test Batch for noise_level = 0.04:  30%|███       | 60/200 [1:54:08<4:21:46, 112.19s/it]"
     ]
    },
    {
     "name": "stderr",
     "output_type": "stream",
     "text": [
      "\r",
      "OMP Test Batch for noise_level = 0.02:  30%|██▉       | 59/200 [1:54:13<4:22:21, 111.64s/it]"
     ]
    },
    {
     "name": "stderr",
     "output_type": "stream",
     "text": [
      "\r",
      "OMP Test Batch for noise_level = 0.14:  30%|███       | 61/200 [1:54:13<4:31:44, 117.30s/it]"
     ]
    },
    {
     "name": "stderr",
     "output_type": "stream",
     "text": [
      "\r",
      "OMP Test Batch for noise_level = 0.06:  28%|██▊       | 57/200 [1:54:31<4:33:49, 114.89s/it]"
     ]
    },
    {
     "name": "stderr",
     "output_type": "stream",
     "text": [
      "\r",
      "OMP Test Batch for noise_level = 0.05:  30%|██▉       | 59/200 [1:54:32<4:44:43, 121.16s/it]"
     ]
    },
    {
     "name": "stderr",
     "output_type": "stream",
     "text": [
      "\r",
      "OMP Test Batch for noise_level = 0.18:  30%|██▉       | 59/200 [1:54:25<4:48:13, 122.65s/it]"
     ]
    },
    {
     "name": "stderr",
     "output_type": "stream",
     "text": [
      "\r",
      "OMP Test Batch for noise_level = 0.10:  30%|███       | 60/200 [1:54:54<4:34:44, 117.74s/it]"
     ]
    },
    {
     "name": "stderr",
     "output_type": "stream",
     "text": [
      "\r",
      "OMP Test Batch for noise_level = 0.03:  30%|██▉       | 59/200 [1:55:03<4:43:52, 120.80s/it]"
     ]
    },
    {
     "name": "stderr",
     "output_type": "stream",
     "text": [
      "\r",
      "OMP Test Batch for noise_level = 0.09:  30%|███       | 61/200 [1:55:02<4:22:20, 113.24s/it]"
     ]
    },
    {
     "name": "stderr",
     "output_type": "stream",
     "text": [
      "\r",
      "OMP Test Batch for noise_level = 0.01:  30%|███       | 61/200 [1:55:19<4:32:47, 117.75s/it]"
     ]
    },
    {
     "name": "stderr",
     "output_type": "stream",
     "text": [
      "\r",
      "OMP Test Batch for noise_level = 0.12:  30%|██▉       | 59/200 [1:55:11<4:07:38, 105.38s/it]"
     ]
    },
    {
     "name": "stderr",
     "output_type": "stream",
     "text": [
      "\r",
      "OMP Test Batch for noise_level = 0.00:  30%|███       | 60/200 [1:55:33<4:43:22, 121.45s/it]"
     ]
    },
    {
     "name": "stderr",
     "output_type": "stream",
     "text": [
      "\r",
      "OMP Test Batch for noise_level = 0.20:  30%|██▉       | 59/200 [1:55:25<4:33:56, 116.57s/it]"
     ]
    },
    {
     "name": "stderr",
     "output_type": "stream",
     "text": [
      "\r",
      "OMP Test Batch for noise_level = 0.16:  32%|███▏      | 64/200 [1:55:38<4:06:13, 108.63s/it]"
     ]
    },
    {
     "name": "stderr",
     "output_type": "stream",
     "text": [
      "\r",
      "OMP Test Batch for noise_level = 0.07:  29%|██▉       | 58/200 [1:55:57<4:46:35, 121.09s/it]"
     ]
    },
    {
     "name": "stderr",
     "output_type": "stream",
     "text": [
      "\r",
      "OMP Test Batch for noise_level = 0.08:  30%|██▉       | 59/200 [1:55:56<4:44:56, 121.25s/it]"
     ]
    },
    {
     "name": "stderr",
     "output_type": "stream",
     "text": [
      "\r",
      "OMP Test Batch for noise_level = 0.04:  30%|███       | 61/200 [1:56:05<4:23:15, 113.64s/it]"
     ]
    },
    {
     "name": "stderr",
     "output_type": "stream",
     "text": [
      "\r",
      "OMP Test Batch for noise_level = 0.14:  31%|███       | 62/200 [1:56:06<4:26:51, 116.03s/it]"
     ]
    },
    {
     "name": "stderr",
     "output_type": "stream",
     "text": [
      "\r",
      "OMP Test Batch for noise_level = 0.02:  30%|███       | 60/200 [1:56:19<4:30:05, 115.75s/it]"
     ]
    },
    {
     "name": "stderr",
     "output_type": "stream",
     "text": [
      "\r",
      "OMP Test Batch for noise_level = 0.06:  29%|██▉       | 58/200 [1:56:26<4:31:33, 114.74s/it]"
     ]
    },
    {
     "name": "stderr",
     "output_type": "stream",
     "text": [
      "\r",
      "OMP Test Batch for noise_level = 0.05:  30%|███       | 60/200 [1:56:27<4:37:55, 119.11s/it]"
     ]
    },
    {
     "name": "stderr",
     "output_type": "stream",
     "text": [
      "\r",
      "OMP Test Batch for noise_level = 0.18:  30%|███       | 60/200 [1:56:23<4:42:53, 121.24s/it]"
     ]
    },
    {
     "name": "stderr",
     "output_type": "stream",
     "text": [
      "\r",
      "OMP Test Batch for noise_level = 0.20:  30%|███       | 60/200 [1:56:27<3:53:15, 99.97s/it] "
     ]
    },
    {
     "name": "stderr",
     "output_type": "stream",
     "text": [
      "\r",
      "OMP Test Batch for noise_level = 0.09:  31%|███       | 62/200 [1:56:34<4:05:59, 106.96s/it]"
     ]
    },
    {
     "name": "stderr",
     "output_type": "stream",
     "text": [
      "\r",
      "OMP Test Batch for noise_level = 0.16:  32%|███▎      | 65/200 [1:56:32<3:26:54, 91.96s/it] "
     ]
    },
    {
     "name": "stderr",
     "output_type": "stream",
     "text": [
      "\r",
      "OMP Test Batch for noise_level = 0.00:  30%|███       | 61/200 [1:56:47<4:08:11, 107.13s/it]"
     ]
    },
    {
     "name": "stderr",
     "output_type": "stream",
     "text": [
      "\r",
      "OMP Test Batch for noise_level = 0.12:  30%|███       | 60/200 [1:56:39<3:53:59, 100.29s/it]"
     ]
    },
    {
     "name": "stderr",
     "output_type": "stream",
     "text": [
      "\r",
      "OMP Test Batch for noise_level = 0.10:  30%|███       | 61/200 [1:56:41<4:25:19, 114.53s/it]\r",
      "OMP Test Batch for noise_level = 0.03:  30%|███       | 60/200 [1:56:48<4:30:27, 115.91s/it]"
     ]
    },
    {
     "name": "stderr",
     "output_type": "stream",
     "text": [
      "\r",
      "OMP Test Batch for noise_level = 0.06:  30%|██▉       | 59/200 [1:56:52<3:26:57, 88.07s/it] \r",
      "OMP Test Batch for noise_level = 0.05:  30%|███       | 61/200 [1:56:53<3:31:04, 91.11s/it] "
     ]
    },
    {
     "name": "stderr",
     "output_type": "stream",
     "text": [
      "\r",
      "OMP Test Batch for noise_level = 0.02:  30%|███       | 61/200 [1:56:56<3:33:27, 92.14s/it] "
     ]
    },
    {
     "name": "stderr",
     "output_type": "stream",
     "text": [
      "\r",
      "OMP Test Batch for noise_level = 0.01:  31%|███       | 62/200 [1:57:00<4:19:21, 112.76s/it]\r",
      "OMP Test Batch for noise_level = 0.20:  30%|███       | 61/200 [1:56:48<2:57:14, 76.51s/it]"
     ]
    },
    {
     "name": "stderr",
     "output_type": "stream",
     "text": [
      "\r",
      "OMP Test Batch for noise_level = 0.16:  33%|███▎      | 66/200 [1:56:56<2:39:57, 71.62s/it]\r",
      "OMP Test Batch for noise_level = 0.08:  30%|███       | 60/200 [1:57:00<4:03:03, 104.17s/it]"
     ]
    },
    {
     "name": "stderr",
     "output_type": "stream",
     "text": [
      "\r",
      "OMP Test Batch for noise_level = 0.09:  32%|███▏      | 63/200 [1:57:02<3:09:52, 83.15s/it] "
     ]
    },
    {
     "name": "stderr",
     "output_type": "stream",
     "text": [
      "\r",
      "OMP Test Batch for noise_level = 0.00:  31%|███       | 62/200 [1:57:15<3:12:00, 83.48s/it] "
     ]
    },
    {
     "name": "stderr",
     "output_type": "stream",
     "text": [
      "\r",
      "OMP Test Batch for noise_level = 0.07:  30%|██▉       | 59/200 [1:57:12<4:11:59, 107.23s/it]"
     ]
    },
    {
     "name": "stderr",
     "output_type": "stream",
     "text": [
      "\r",
      "OMP Test Batch for noise_level = 0.04:  31%|███       | 62/200 [1:57:15<3:51:17, 100.56s/it]"
     ]
    },
    {
     "name": "stderr",
     "output_type": "stream",
     "text": [
      "\r",
      "OMP Test Batch for noise_level = 0.14:  32%|███▏      | 63/200 [1:57:12<3:50:10, 100.80s/it]"
     ]
    },
    {
     "name": "stderr",
     "output_type": "stream",
     "text": [
      "\r",
      "OMP Test Batch for noise_level = 0.05:  31%|███       | 62/200 [1:57:20<2:45:27, 71.94s/it]\r",
      "OMP Test Batch for noise_level = 0.06:  30%|███       | 60/200 [1:57:19<2:43:05, 69.90s/it]"
     ]
    },
    {
     "name": "stderr",
     "output_type": "stream",
     "text": [
      "\r",
      "OMP Test Batch for noise_level = 0.02:  31%|███       | 62/200 [1:57:24<2:47:37, 72.88s/it]"
     ]
    },
    {
     "name": "stderr",
     "output_type": "stream",
     "text": [
      "\r",
      "OMP Test Batch for noise_level = 0.20:  31%|███       | 62/200 [1:57:16<2:22:11, 61.82s/it]"
     ]
    },
    {
     "name": "stderr",
     "output_type": "stream",
     "text": [
      "\r",
      "OMP Test Batch for noise_level = 0.16:  34%|███▎      | 67/200 [1:57:23<2:09:03, 58.22s/it]"
     ]
    },
    {
     "name": "stderr",
     "output_type": "stream",
     "text": [
      "\r",
      "OMP Test Batch for noise_level = 0.09:  32%|███▏      | 64/200 [1:57:29<2:30:44, 66.51s/it]"
     ]
    },
    {
     "name": "stderr",
     "output_type": "stream",
     "text": [
      "\r",
      "OMP Test Batch for noise_level = 0.18:  30%|███       | 61/200 [1:57:27<4:01:12, 104.12s/it]"
     ]
    },
    {
     "name": "stderr",
     "output_type": "stream",
     "text": [
      "\r",
      "OMP Test Batch for noise_level = 0.00:  32%|███▏      | 63/200 [1:57:45<2:34:01, 67.45s/it]"
     ]
    },
    {
     "name": "stderr",
     "output_type": "stream",
     "text": [
      "\r",
      "OMP Test Batch for noise_level = 0.12:  30%|███       | 61/200 [1:57:41<3:25:12, 88.58s/it] "
     ]
    },
    {
     "name": "stderr",
     "output_type": "stream",
     "text": [
      "\r",
      "OMP Test Batch for noise_level = 0.06:  30%|███       | 61/200 [1:57:46<2:12:10, 57.05s/it]"
     ]
    },
    {
     "name": "stderr",
     "output_type": "stream",
     "text": [
      "\r",
      "OMP Test Batch for noise_level = 0.03:  30%|███       | 61/200 [1:57:49<3:50:48, 99.63s/it] \r",
      "OMP Test Batch for noise_level = 0.10:  31%|███       | 62/200 [1:57:43<3:46:58, 98.68s/it] "
     ]
    },
    {
     "name": "stderr",
     "output_type": "stream",
     "text": [
      "\r",
      "OMP Test Batch for noise_level = 0.05:  32%|███▏      | 63/200 [1:57:48<2:14:18, 58.82s/it]"
     ]
    },
    {
     "name": "stderr",
     "output_type": "stream",
     "text": [
      "\r",
      "OMP Test Batch for noise_level = 0.02:  32%|███▏      | 63/200 [1:57:51<2:15:26, 59.32s/it]"
     ]
    },
    {
     "name": "stderr",
     "output_type": "stream",
     "text": [
      "\r",
      "OMP Test Batch for noise_level = 0.20:  32%|███▏      | 63/200 [1:57:40<1:55:31, 50.59s/it]"
     ]
    },
    {
     "name": "stderr",
     "output_type": "stream",
     "text": [
      "\r",
      "OMP Test Batch for noise_level = 0.01:  32%|███▏      | 63/200 [1:57:55<3:37:58, 95.47s/it] "
     ]
    },
    {
     "name": "stderr",
     "output_type": "stream",
     "text": [
      "\r",
      "OMP Test Batch for noise_level = 0.16:  34%|███▍      | 68/200 [1:57:47<1:45:50, 48.11s/it]"
     ]
    },
    {
     "name": "stderr",
     "output_type": "stream",
     "text": [
      "\r",
      "OMP Test Batch for noise_level = 0.09:  32%|███▎      | 65/200 [1:57:56<2:02:50, 54.59s/it]"
     ]
    },
    {
     "name": "stderr",
     "output_type": "stream",
     "text": [
      "\r",
      "OMP Test Batch for noise_level = 0.08:  30%|███       | 61/200 [1:58:01<3:31:06, 91.13s/it] "
     ]
    },
    {
     "name": "stderr",
     "output_type": "stream",
     "text": [
      "\r",
      "OMP Test Batch for noise_level = 0.06:  31%|███       | 62/200 [1:58:14<1:50:45, 48.16s/it]\r",
      "OMP Test Batch for noise_level = 0.07:  30%|███       | 60/200 [1:58:13<3:37:55, 93.40s/it] "
     ]
    },
    {
     "name": "stderr",
     "output_type": "stream",
     "text": [
      "\r",
      "OMP Test Batch for noise_level = 0.04:  32%|███▏      | 63/200 [1:58:15<3:22:02, 88.49s/it] "
     ]
    },
    {
     "name": "stderr",
     "output_type": "stream",
     "text": [
      "\r",
      "OMP Test Batch for noise_level = 0.02:  32%|███▏      | 64/200 [1:58:18<1:52:37, 49.69s/it]"
     ]
    },
    {
     "name": "stderr",
     "output_type": "stream",
     "text": [
      "\r",
      "OMP Test Batch for noise_level = 0.20:  32%|███▏      | 64/200 [1:58:08<1:39:05, 43.71s/it]"
     ]
    },
    {
     "name": "stderr",
     "output_type": "stream",
     "text": [
      "\r",
      "OMP Test Batch for noise_level = 0.00:  32%|███▏      | 64/200 [1:58:22<2:12:17, 58.36s/it]"
     ]
    },
    {
     "name": "stderr",
     "output_type": "stream",
     "text": [
      "\r",
      "OMP Test Batch for noise_level = 0.14:  32%|███▏      | 64/200 [1:58:12<3:21:03, 88.71s/it] "
     ]
    },
    {
     "name": "stderr",
     "output_type": "stream",
     "text": [
      "\r",
      "OMP Test Batch for noise_level = 0.16:  34%|███▍      | 69/200 [1:58:12<1:29:41, 41.08s/it]"
     ]
    },
    {
     "name": "stderr",
     "output_type": "stream",
     "text": [
      "\r",
      "OMP Test Batch for noise_level = 0.05:  32%|███▏      | 64/200 [1:58:22<1:56:40, 51.47s/it]"
     ]
    },
    {
     "name": "stderr",
     "output_type": "stream",
     "text": [
      "\r",
      "OMP Test Batch for noise_level = 0.09:  33%|███▎      | 66/200 [1:58:22<1:42:27, 45.88s/it]"
     ]
    },
    {
     "name": "stderr",
     "output_type": "stream",
     "text": [
      "\r",
      "OMP Test Batch for noise_level = 0.18:  31%|███       | 62/200 [1:58:28<3:29:50, 91.23s/it] "
     ]
    },
    {
     "name": "stderr",
     "output_type": "stream",
     "text": [
      "\r",
      "OMP Test Batch for noise_level = 0.10:  32%|███▏      | 63/200 [1:58:35<3:13:23, 84.70s/it]"
     ]
    },
    {
     "name": "stderr",
     "output_type": "stream",
     "text": [
      "\r",
      "OMP Test Batch for noise_level = 0.03:  31%|███       | 62/200 [1:58:42<3:17:04, 85.69s/it]"
     ]
    },
    {
     "name": "stderr",
     "output_type": "stream",
     "text": [
      "\r",
      "OMP Test Batch for noise_level = 0.06:  32%|███▏      | 63/200 [1:58:42<1:36:26, 42.24s/it]"
     ]
    },
    {
     "name": "stderr",
     "output_type": "stream",
     "text": [
      "\r",
      "OMP Test Batch for noise_level = 0.12:  31%|███       | 62/200 [1:58:40<3:03:37, 79.83s/it]"
     ]
    },
    {
     "name": "stderr",
     "output_type": "stream",
     "text": [
      "\r",
      "OMP Test Batch for noise_level = 0.02:  32%|███▎      | 65/200 [1:58:49<1:39:03, 44.02s/it]"
     ]
    },
    {
     "name": "stderr",
     "output_type": "stream",
     "text": [
      "\r",
      "OMP Test Batch for noise_level = 0.20:  32%|███▎      | 65/200 [1:58:39<1:29:34, 39.81s/it]"
     ]
    },
    {
     "name": "stderr",
     "output_type": "stream",
     "text": [
      "\r",
      "OMP Test Batch for noise_level = 0.01:  32%|███▏      | 64/200 [1:58:52<3:10:06, 83.87s/it]"
     ]
    },
    {
     "name": "stderr",
     "output_type": "stream",
     "text": [
      "\r",
      "OMP Test Batch for noise_level = 0.00:  32%|███▎      | 65/200 [1:58:54<1:53:11, 50.30s/it]"
     ]
    },
    {
     "name": "stderr",
     "output_type": "stream",
     "text": [
      "\r",
      "OMP Test Batch for noise_level = 0.16:  35%|███▌      | 70/200 [1:58:43<1:22:37, 38.13s/it]\r",
      "OMP Test Batch for noise_level = 0.05:  32%|███▎      | 65/200 [1:58:51<1:40:10, 44.52s/it]"
     ]
    },
    {
     "name": "stderr",
     "output_type": "stream",
     "text": [
      "\r",
      "OMP Test Batch for noise_level = 0.09:  34%|███▎      | 67/200 [1:58:50<1:30:14, 40.71s/it]"
     ]
    },
    {
     "name": "stderr",
     "output_type": "stream",
     "text": [
      "\r",
      "OMP Test Batch for noise_level = 0.08:  31%|███       | 62/200 [1:58:56<3:04:35, 80.26s/it]"
     ]
    },
    {
     "name": "stderr",
     "output_type": "stream",
     "text": [
      "\r",
      "OMP Test Batch for noise_level = 0.04:  32%|███▏      | 64/200 [1:59:09<2:57:04, 78.12s/it]"
     ]
    },
    {
     "name": "stderr",
     "output_type": "stream",
     "text": [
      "\r",
      "OMP Test Batch for noise_level = 0.07:  30%|███       | 61/200 [1:59:08<3:09:53, 81.97s/it]"
     ]
    },
    {
     "name": "stderr",
     "output_type": "stream",
     "text": [
      "\r",
      "OMP Test Batch for noise_level = 0.06:  32%|███▏      | 64/200 [1:59:11<1:26:38, 38.23s/it]"
     ]
    },
    {
     "name": "stderr",
     "output_type": "stream",
     "text": [
      "\r",
      "OMP Test Batch for noise_level = 0.14:  32%|███▎      | 65/200 [1:59:06<2:56:03, 78.25s/it]"
     ]
    },
    {
     "name": "stderr",
     "output_type": "stream",
     "text": [
      "\r",
      "OMP Test Batch for noise_level = 0.02:  33%|███▎      | 66/200 [1:59:21<1:29:58, 40.29s/it]"
     ]
    },
    {
     "name": "stderr",
     "output_type": "stream",
     "text": [
      "\r",
      "OMP Test Batch for noise_level = 0.16:  36%|███▌      | 71/200 [1:59:12<1:15:49, 35.27s/it]\r",
      "OMP Test Batch for noise_level = 0.20:  33%|███▎      | 66/200 [1:59:11<1:23:30, 37.39s/it]"
     ]
    },
    {
     "name": "stderr",
     "output_type": "stream",
     "text": [
      "\r",
      "OMP Test Batch for noise_level = 0.00:  33%|███▎      | 66/200 [1:59:26<1:40:22, 44.94s/it]"
     ]
    },
    {
     "name": "stderr",
     "output_type": "stream",
     "text": [
      "\r",
      "OMP Test Batch for noise_level = 0.05:  33%|███▎      | 66/200 [1:59:23<1:31:22, 40.92s/it]"
     ]
    },
    {
     "name": "stderr",
     "output_type": "stream",
     "text": [
      "\r",
      "OMP Test Batch for noise_level = 0.09:  34%|███▍      | 68/200 [1:59:21<1:23:11, 37.82s/it]"
     ]
    },
    {
     "name": "stderr",
     "output_type": "stream",
     "text": [
      "\r",
      "OMP Test Batch for noise_level = 0.18:  32%|███▏      | 63/200 [1:59:21<3:02:02, 79.72s/it]"
     ]
    },
    {
     "name": "stderr",
     "output_type": "stream",
     "text": [
      "\r",
      "OMP Test Batch for noise_level = 0.10:  32%|███▏      | 64/200 [1:59:28<2:50:33, 75.25s/it]"
     ]
    },
    {
     "name": "stderr",
     "output_type": "stream",
     "text": [
      "\r",
      "OMP Test Batch for noise_level = 0.03:  32%|███▏      | 63/200 [1:59:38<2:54:43, 76.52s/it]"
     ]
    },
    {
     "name": "stderr",
     "output_type": "stream",
     "text": [
      "\r",
      "OMP Test Batch for noise_level = 0.06:  32%|███▎      | 65/200 [1:59:40<1:19:57, 35.54s/it]\r",
      "OMP Test Batch for noise_level = 0.12:  32%|███▏      | 63/200 [1:59:36<2:45:43, 72.58s/it]"
     ]
    },
    {
     "name": "stderr",
     "output_type": "stream",
     "text": [
      "\r",
      "OMP Test Batch for noise_level = 0.01:  32%|███▎      | 65/200 [1:59:45<2:47:50, 74.60s/it]"
     ]
    },
    {
     "name": "stderr",
     "output_type": "stream",
     "text": [
      "\r",
      "OMP Test Batch for noise_level = 0.02:  34%|███▎      | 67/200 [1:59:54<1:24:14, 38.00s/it]"
     ]
    },
    {
     "name": "stderr",
     "output_type": "stream",
     "text": [
      "\r",
      "OMP Test Batch for noise_level = 0.09:  34%|███▍      | 69/200 [1:59:51<1:17:04, 35.30s/it]"
     ]
    },
    {
     "name": "stderr",
     "output_type": "stream",
     "text": [
      "\r",
      "OMP Test Batch for noise_level = 0.08:  32%|███▏      | 63/200 [1:59:53<2:47:24, 73.32s/it]"
     ]
    },
    {
     "name": "stderr",
     "output_type": "stream",
     "text": [
      "\r",
      "OMP Test Batch for noise_level = 0.04:  32%|███▎      | 65/200 [2:00:02<2:38:35, 70.48s/it]"
     ]
    },
    {
     "name": "stderr",
     "output_type": "stream",
     "text": [
      "\r",
      "OMP Test Batch for noise_level = 0.16:  36%|███▌      | 72/200 [1:59:54<1:20:04, 37.53s/it]\r",
      "OMP Test Batch for noise_level = 0.20:  34%|███▎      | 67/200 [1:59:53<1:26:31, 39.04s/it]"
     ]
    },
    {
     "name": "stderr",
     "output_type": "stream",
     "text": [
      "\r",
      "OMP Test Batch for noise_level = 0.14:  33%|███▎      | 66/200 [1:59:58<2:37:14, 70.40s/it]"
     ]
    },
    {
     "name": "stderr",
     "output_type": "stream",
     "text": [
      "\r",
      "OMP Test Batch for noise_level = 0.00:  34%|███▎      | 67/200 [2:00:10<1:38:48, 44.58s/it]\r",
      "OMP Test Batch for noise_level = 0.07:  31%|███       | 62/200 [2:00:04<2:50:26, 74.10s/it]"
     ]
    },
    {
     "name": "stderr",
     "output_type": "stream",
     "text": [
      "\r",
      "OMP Test Batch for noise_level = 0.05:  34%|███▎      | 67/200 [2:00:06<1:32:08, 41.57s/it]"
     ]
    },
    {
     "name": "stderr",
     "output_type": "stream",
     "text": [
      "\r",
      "OMP Test Batch for noise_level = 0.06:  33%|███▎      | 66/200 [2:00:16<1:19:35, 35.64s/it]"
     ]
    },
    {
     "name": "stderr",
     "output_type": "stream",
     "text": [
      "\r",
      "OMP Test Batch for noise_level = 0.18:  32%|███▏      | 64/200 [2:00:11<2:40:06, 70.64s/it]"
     ]
    },
    {
     "name": "stderr",
     "output_type": "stream",
     "text": [
      "\r",
      "OMP Test Batch for noise_level = 0.02:  34%|███▍      | 68/200 [2:00:25<1:19:24, 36.09s/it]"
     ]
    },
    {
     "name": "stderr",
     "output_type": "stream",
     "text": [
      "\r",
      "OMP Test Batch for noise_level = 0.09:  35%|███▌      | 70/200 [2:00:20<1:12:28, 33.45s/it]"
     ]
    },
    {
     "name": "stderr",
     "output_type": "stream",
     "text": [
      "\r",
      "OMP Test Batch for noise_level = 0.10:  32%|███▎      | 65/200 [2:00:20<2:32:59, 67.99s/it]"
     ]
    },
    {
     "name": "stderr",
     "output_type": "stream",
     "text": [
      "\r",
      "OMP Test Batch for noise_level = 0.16:  36%|███▋      | 73/200 [2:00:23<1:13:39, 34.80s/it]"
     ]
    },
    {
     "name": "stderr",
     "output_type": "stream",
     "text": [
      "\r",
      "OMP Test Batch for noise_level = 0.03:  32%|███▏      | 64/200 [2:00:32<2:38:38, 69.99s/it]"
     ]
    },
    {
     "name": "stderr",
     "output_type": "stream",
     "text": [
      "\r",
      "OMP Test Batch for noise_level = 0.20:  34%|███▍      | 68/200 [2:00:25<1:21:06, 36.87s/it]"
     ]
    },
    {
     "name": "stderr",
     "output_type": "stream",
     "text": [
      "\r",
      "OMP Test Batch for noise_level = 0.01:  33%|███▎      | 66/200 [2:00:38<2:32:11, 68.14s/it]"
     ]
    },
    {
     "name": "stderr",
     "output_type": "stream",
     "text": [
      "\r",
      "OMP Test Batch for noise_level = 0.05:  34%|███▍      | 68/200 [2:00:35<1:23:02, 37.75s/it]"
     ]
    },
    {
     "name": "stderr",
     "output_type": "stream",
     "text": [
      "\r",
      "OMP Test Batch for noise_level = 0.12:  32%|███▏      | 64/200 [2:00:31<2:32:57, 67.48s/it]"
     ]
    },
    {
     "name": "stderr",
     "output_type": "stream",
     "text": [
      "\r",
      "OMP Test Batch for noise_level = 0.00:  34%|███▍      | 68/200 [2:00:42<1:29:50, 40.84s/it]"
     ]
    },
    {
     "name": "stderr",
     "output_type": "stream",
     "text": [
      "\r",
      "OMP Test Batch for noise_level = 0.08:  32%|███▏      | 64/200 [2:00:48<2:33:29, 67.72s/it]"
     ]
    },
    {
     "name": "stderr",
     "output_type": "stream",
     "text": [
      "\r",
      "OMP Test Batch for noise_level = 0.02:  34%|███▍      | 69/200 [2:00:56<1:15:41, 34.67s/it]\r",
      "OMP Test Batch for noise_level = 0.04:  33%|███▎      | 66/200 [2:00:55<2:25:36, 65.19s/it]"
     ]
    },
    {
     "name": "stderr",
     "output_type": "stream",
     "text": [
      "\r",
      "OMP Test Batch for noise_level = 0.09:  36%|███▌      | 71/200 [2:00:52<1:10:47, 32.93s/it]"
     ]
    },
    {
     "name": "stderr",
     "output_type": "stream",
     "text": [
      "\r",
      "OMP Test Batch for noise_level = 0.06:  34%|███▎      | 67/200 [2:00:56<1:21:34, 36.80s/it]"
     ]
    },
    {
     "name": "stderr",
     "output_type": "stream",
     "text": [
      "\r",
      "OMP Test Batch for noise_level = 0.16:  37%|███▋      | 74/200 [2:00:52<1:09:32, 33.11s/it]"
     ]
    },
    {
     "name": "stderr",
     "output_type": "stream",
     "text": [
      "\r",
      "OMP Test Batch for noise_level = 0.14:  34%|███▎      | 67/200 [2:00:53<2:26:05, 65.90s/it]\r",
      "OMP Test Batch for noise_level = 0.07:  32%|███▏      | 63/200 [2:00:58<2:35:46, 68.22s/it]"
     ]
    },
    {
     "name": "stderr",
     "output_type": "stream",
     "text": [
      "\r",
      "OMP Test Batch for noise_level = 0.05:  34%|███▍      | 69/200 [2:01:04<1:16:52, 35.21s/it]"
     ]
    },
    {
     "name": "stderr",
     "output_type": "stream",
     "text": [
      "\r",
      "OMP Test Batch for noise_level = 0.20:  34%|███▍      | 69/200 [2:00:58<1:17:32, 35.51s/it]"
     ]
    },
    {
     "name": "stderr",
     "output_type": "stream",
     "text": [
      "\r",
      "OMP Test Batch for noise_level = 0.18:  32%|███▎      | 65/200 [2:01:00<2:24:26, 64.20s/it]"
     ]
    },
    {
     "name": "stderr",
     "output_type": "stream",
     "text": [
      "\r",
      "OMP Test Batch for noise_level = 0.00:  34%|███▍      | 69/200 [2:01:14<1:23:10, 38.10s/it]"
     ]
    },
    {
     "name": "stderr",
     "output_type": "stream",
     "text": [
      "\r",
      "OMP Test Batch for noise_level = 0.10:  33%|███▎      | 66/200 [2:01:14<2:22:36, 63.85s/it]"
     ]
    },
    {
     "name": "stderr",
     "output_type": "stream",
     "text": [
      "\r",
      "OMP Test Batch for noise_level = 0.02:  35%|███▌      | 70/200 [2:01:27<1:12:35, 33.51s/it]\r",
      "OMP Test Batch for noise_level = 0.03:  32%|███▎      | 65/200 [2:01:27<2:26:58, 65.32s/it]"
     ]
    },
    {
     "name": "stderr",
     "output_type": "stream",
     "text": [
      "\r",
      "OMP Test Batch for noise_level = 0.01:  34%|███▎      | 67/200 [2:01:31<2:21:09, 63.68s/it]"
     ]
    },
    {
     "name": "stderr",
     "output_type": "stream",
     "text": [
      "\r",
      "OMP Test Batch for noise_level = 0.06:  34%|███▍      | 68/200 [2:01:28<1:17:54, 35.42s/it]"
     ]
    },
    {
     "name": "stderr",
     "output_type": "stream",
     "text": [
      "\r",
      "OMP Test Batch for noise_level = 0.16:  38%|███▊      | 75/200 [2:01:22<1:06:41, 32.01s/it]"
     ]
    },
    {
     "name": "stderr",
     "output_type": "stream",
     "text": [
      "\r",
      "OMP Test Batch for noise_level = 0.09:  36%|███▌      | 72/200 [2:01:27<1:11:41, 33.61s/it]"
     ]
    },
    {
     "name": "stderr",
     "output_type": "stream",
     "text": [
      "\r",
      "OMP Test Batch for noise_level = 0.12:  32%|███▎      | 65/200 [2:01:26<2:23:13, 63.66s/it]"
     ]
    },
    {
     "name": "stderr",
     "output_type": "stream",
     "text": [
      "\r",
      "OMP Test Batch for noise_level = 0.20:  35%|███▌      | 70/200 [2:01:30<1:14:54, 34.57s/it]"
     ]
    },
    {
     "name": "stderr",
     "output_type": "stream",
     "text": [
      "\r",
      "OMP Test Batch for noise_level = 0.00:  35%|███▌      | 70/200 [2:01:45<1:18:33, 36.26s/it]"
     ]
    },
    {
     "name": "stderr",
     "output_type": "stream",
     "text": [
      "\r",
      "OMP Test Batch for noise_level = 0.05:  35%|███▌      | 70/200 [2:01:44<1:19:04, 36.50s/it]"
     ]
    },
    {
     "name": "stderr",
     "output_type": "stream",
     "text": [
      "\r",
      "OMP Test Batch for noise_level = 0.04:  34%|███▎      | 67/200 [2:01:49<2:16:48, 61.72s/it]"
     ]
    },
    {
     "name": "stderr",
     "output_type": "stream",
     "text": [
      "\r",
      "OMP Test Batch for noise_level = 0.08:  32%|███▎      | 65/200 [2:01:47<2:26:23, 65.07s/it]"
     ]
    },
    {
     "name": "stderr",
     "output_type": "stream",
     "text": [
      "\r",
      "OMP Test Batch for noise_level = 0.14:  34%|███▍      | 68/200 [2:01:46<2:16:19, 61.97s/it]"
     ]
    },
    {
     "name": "stderr",
     "output_type": "stream",
     "text": [
      "\r",
      "OMP Test Batch for noise_level = 0.07:  32%|███▏      | 64/200 [2:01:51<2:24:10, 63.61s/it]"
     ]
    },
    {
     "name": "stderr",
     "output_type": "stream",
     "text": [
      "\r",
      "OMP Test Batch for noise_level = 0.18:  33%|███▎      | 66/200 [2:01:49<2:13:18, 59.69s/it]\r",
      "OMP Test Batch for noise_level = 0.02:  36%|███▌      | 71/200 [2:01:59<1:11:09, 33.10s/it]"
     ]
    },
    {
     "name": "stderr",
     "output_type": "stream",
     "text": [
      "\r",
      "OMP Test Batch for noise_level = 0.09:  36%|███▋      | 73/200 [2:01:56<1:08:17, 32.26s/it]"
     ]
    },
    {
     "name": "stderr",
     "output_type": "stream",
     "text": [
      "\r",
      "OMP Test Batch for noise_level = 0.16:  38%|███▊      | 76/200 [2:01:56<1:07:51, 32.84s/it]"
     ]
    },
    {
     "name": "stderr",
     "output_type": "stream",
     "text": [
      "\r",
      "OMP Test Batch for noise_level = 0.06:  34%|███▍      | 69/200 [2:02:04<1:18:03, 35.75s/it]"
     ]
    },
    {
     "name": "stderr",
     "output_type": "stream",
     "text": [
      "\r",
      "OMP Test Batch for noise_level = 0.00:  36%|███▌      | 71/200 [2:02:17<1:15:11, 34.98s/it]"
     ]
    },
    {
     "name": "stderr",
     "output_type": "stream",
     "text": [
      "\r",
      "OMP Test Batch for noise_level = 0.10:  34%|███▎      | 67/200 [2:02:09<2:15:59, 61.35s/it]"
     ]
    },
    {
     "name": "stderr",
     "output_type": "stream",
     "text": [
      "\r",
      "OMP Test Batch for noise_level = 0.20:  36%|███▌      | 71/200 [2:02:09<1:17:07, 35.87s/it]"
     ]
    },
    {
     "name": "stderr",
     "output_type": "stream",
     "text": [
      "\r",
      "OMP Test Batch for noise_level = 0.01:  34%|███▍      | 68/200 [2:02:27<2:14:38, 61.20s/it]"
     ]
    },
    {
     "name": "stderr",
     "output_type": "stream",
     "text": [
      "\r",
      "OMP Test Batch for noise_level = 0.12:  33%|███▎      | 66/200 [2:02:19<2:15:03, 60.48s/it]"
     ]
    },
    {
     "name": "stderr",
     "output_type": "stream",
     "text": [
      "\r",
      "OMP Test Batch for noise_level = 0.02:  36%|███▌      | 72/200 [2:02:27<1:07:20, 31.57s/it]"
     ]
    },
    {
     "name": "stderr",
     "output_type": "stream",
     "text": [
      "\r",
      "OMP Test Batch for noise_level = 0.05:  36%|███▌      | 71/200 [2:02:26<1:22:10, 38.22s/it]"
     ]
    },
    {
     "name": "stderr",
     "output_type": "stream",
     "text": [
      "\r",
      "OMP Test Batch for noise_level = 0.03:  33%|███▎      | 66/200 [2:02:31<2:24:53, 64.88s/it]"
     ]
    },
    {
     "name": "stderr",
     "output_type": "stream",
     "text": [
      "\r",
      "OMP Test Batch for noise_level = 0.09:  37%|███▋      | 74/200 [2:02:27<1:06:57, 31.89s/it]"
     ]
    },
    {
     "name": "stderr",
     "output_type": "stream",
     "text": [
      "\r",
      "OMP Test Batch for noise_level = 0.16:  38%|███▊      | 77/200 [2:02:27<1:06:16, 32.33s/it]"
     ]
    },
    {
     "name": "stderr",
     "output_type": "stream",
     "text": [
      "\r",
      "OMP Test Batch for noise_level = 0.06:  35%|███▌      | 70/200 [2:02:41<1:18:18, 36.14s/it]"
     ]
    },
    {
     "name": "stderr",
     "output_type": "stream",
     "text": [
      "\r",
      "OMP Test Batch for noise_level = 0.07:  32%|███▎      | 65/200 [2:02:41<2:13:39, 59.40s/it]"
     ]
    },
    {
     "name": "stderr",
     "output_type": "stream",
     "text": [
      "\r",
      "OMP Test Batch for noise_level = 0.04:  34%|███▍      | 68/200 [2:02:44<2:11:23, 59.73s/it]"
     ]
    },
    {
     "name": "stderr",
     "output_type": "stream",
     "text": [
      "\r",
      "OMP Test Batch for noise_level = 0.00:  36%|███▌      | 72/200 [2:02:49<1:12:14, 33.86s/it]"
     ]
    },
    {
     "name": "stderr",
     "output_type": "stream",
     "text": [
      "\r",
      "OMP Test Batch for noise_level = 0.14:  34%|███▍      | 69/200 [2:02:41<2:10:35, 59.82s/it]\r",
      "OMP Test Batch for noise_level = 0.08:  33%|███▎      | 66/200 [2:02:45<2:20:45, 63.03s/it]"
     ]
    },
    {
     "name": "stderr",
     "output_type": "stream",
     "text": [
      "\r",
      "OMP Test Batch for noise_level = 0.20:  36%|███▌      | 72/200 [2:02:46<1:17:01, 36.11s/it]"
     ]
    },
    {
     "name": "stderr",
     "output_type": "stream",
     "text": [
      "\r",
      "OMP Test Batch for noise_level = 0.18:  34%|███▎      | 67/200 [2:02:47<2:11:11, 59.18s/it]"
     ]
    },
    {
     "name": "stderr",
     "output_type": "stream",
     "text": [
      "\r",
      "OMP Test Batch for noise_level = 0.02:  36%|███▋      | 73/200 [2:03:01<1:08:10, 32.21s/it]"
     ]
    },
    {
     "name": "stderr",
     "output_type": "stream",
     "text": [
      "\r",
      "OMP Test Batch for noise_level = 0.09:  38%|███▊      | 75/200 [2:02:57<1:05:23, 31.39s/it]"
     ]
    },
    {
     "name": "stderr",
     "output_type": "stream",
     "text": [
      "\r",
      "OMP Test Batch for noise_level = 0.16:  39%|███▉      | 78/200 [2:02:55<1:02:45, 30.86s/it]"
     ]
    },
    {
     "name": "stderr",
     "output_type": "stream",
     "text": [
      "\r",
      "OMP Test Batch for noise_level = 0.10:  34%|███▍      | 68/200 [2:03:01<2:08:22, 58.35s/it]"
     ]
    },
    {
     "name": "stderr",
     "output_type": "stream",
     "text": [
      "\r",
      "OMP Test Batch for noise_level = 0.05:  36%|███▌      | 72/200 [2:03:07<1:23:06, 38.96s/it]"
     ]
    },
    {
     "name": "stderr",
     "output_type": "stream",
     "text": [
      "\r",
      "OMP Test Batch for noise_level = 0.00:  36%|███▋      | 73/200 [2:03:17<1:08:01, 32.13s/it]"
     ]
    },
    {
     "name": "stderr",
     "output_type": "stream",
     "text": [
      "\r",
      "OMP Test Batch for noise_level = 0.12:  34%|███▎      | 67/200 [2:03:15<2:11:06, 59.15s/it]\r",
      "OMP Test Batch for noise_level = 0.06:  36%|███▌      | 71/200 [2:03:20<1:19:07, 36.80s/it]"
     ]
    },
    {
     "name": "stderr",
     "output_type": "stream",
     "text": [
      "\r",
      "OMP Test Batch for noise_level = 0.03:  34%|███▎      | 67/200 [2:03:24<2:16:10, 61.43s/it]"
     ]
    },
    {
     "name": "stderr",
     "output_type": "stream",
     "text": [
      "\r",
      "OMP Test Batch for noise_level = 0.01:  34%|███▍      | 69/200 [2:03:28<2:13:23, 61.10s/it]"
     ]
    },
    {
     "name": "stderr",
     "output_type": "stream",
     "text": [
      "\r",
      "OMP Test Batch for noise_level = 0.02:  37%|███▋      | 74/200 [2:03:32<1:06:41, 31.76s/it]"
     ]
    },
    {
     "name": "stderr",
     "output_type": "stream",
     "text": [
      "\r",
      "OMP Test Batch for noise_level = 0.16:  40%|███▉      | 79/200 [2:03:27<1:02:59, 31.24s/it]"
     ]
    },
    {
     "name": "stderr",
     "output_type": "stream",
     "text": [
      "\r",
      "OMP Test Batch for noise_level = 0.20:  36%|███▋      | 73/200 [2:03:27<1:19:54, 37.76s/it]"
     ]
    },
    {
     "name": "stderr",
     "output_type": "stream",
     "text": [
      "\r",
      "OMP Test Batch for noise_level = 0.07:  33%|███▎      | 66/200 [2:03:37<2:10:18, 58.35s/it]\r",
      "OMP Test Batch for noise_level = 0.08:  34%|███▎      | 67/200 [2:03:36<2:11:32, 59.34s/it]"
     ]
    },
    {
     "name": "stderr",
     "output_type": "stream",
     "text": [
      "\r",
      "OMP Test Batch for noise_level = 0.09:  38%|███▊      | 76/200 [2:03:36<1:09:07, 33.45s/it]\r",
      "OMP Test Batch for noise_level = 0.14:  35%|███▌      | 70/200 [2:03:33<2:04:15, 57.35s/it]\r",
      "OMP Test Batch for noise_level = 0.04:  34%|███▍      | 69/200 [2:03:40<2:08:14, 58.73s/it]"
     ]
    },
    {
     "name": "stderr",
     "output_type": "stream",
     "text": [
      "\r",
      "OMP Test Batch for noise_level = 0.18:  34%|███▍      | 68/200 [2:03:36<2:03:28, 56.13s/it]"
     ]
    },
    {
     "name": "stderr",
     "output_type": "stream",
     "text": [
      "\r",
      "OMP Test Batch for noise_level = 0.05:  36%|███▋      | 73/200 [2:03:50<1:25:02, 40.17s/it]"
     ]
    },
    {
     "name": "stderr",
     "output_type": "stream",
     "text": [
      "\r",
      "OMP Test Batch for noise_level = 0.00:  37%|███▋      | 74/200 [2:04:00<1:14:38, 35.54s/it]"
     ]
    },
    {
     "name": "stderr",
     "output_type": "stream",
     "text": [
      "\r",
      "OMP Test Batch for noise_level = 0.10:  34%|███▍      | 69/200 [2:03:53<2:03:41, 56.65s/it]"
     ]
    },
    {
     "name": "stderr",
     "output_type": "stream",
     "text": [
      "\r",
      "OMP Test Batch for noise_level = 0.02:  38%|███▊      | 75/200 [2:04:01<1:04:45, 31.08s/it]"
     ]
    },
    {
     "name": "stderr",
     "output_type": "stream",
     "text": [
      "\r",
      "OMP Test Batch for noise_level = 0.06:  36%|███▌      | 72/200 [2:04:03<1:22:49, 38.82s/it]"
     ]
    },
    {
     "name": "stderr",
     "output_type": "stream",
     "text": [
      "\r",
      "OMP Test Batch for noise_level = 0.20:  37%|███▋      | 74/200 [2:03:59<1:15:23, 35.90s/it]"
     ]
    },
    {
     "name": "stderr",
     "output_type": "stream",
     "text": [
      "\r",
      "OMP Test Batch for noise_level = 0.16:  40%|████      | 80/200 [2:04:01<1:04:04, 32.03s/it]"
     ]
    },
    {
     "name": "stderr",
     "output_type": "stream",
     "text": [
      "\r",
      "OMP Test Batch for noise_level = 0.03:  34%|███▍      | 68/200 [2:04:15<2:08:25, 58.37s/it]"
     ]
    },
    {
     "name": "stderr",
     "output_type": "stream",
     "text": [
      "\r",
      "OMP Test Batch for noise_level = 0.12:  34%|███▍      | 68/200 [2:04:08<2:06:17, 57.40s/it]"
     ]
    },
    {
     "name": "stderr",
     "output_type": "stream",
     "text": [
      "\r",
      "OMP Test Batch for noise_level = 0.01:  35%|███▌      | 70/200 [2:04:21<2:07:32, 58.86s/it]"
     ]
    },
    {
     "name": "stderr",
     "output_type": "stream",
     "text": [
      "\r",
      "OMP Test Batch for noise_level = 0.09:  38%|███▊      | 77/200 [2:04:17<1:13:45, 35.98s/it]"
     ]
    },
    {
     "name": "stderr",
     "output_type": "stream",
     "text": [
      "\r",
      "OMP Test Batch for noise_level = 0.04:  35%|███▌      | 70/200 [2:04:29<2:00:55, 55.81s/it]\r",
      "OMP Test Batch for noise_level = 0.05:  37%|███▋      | 74/200 [2:04:28<1:23:20, 39.69s/it]"
     ]
    },
    {
     "name": "stderr",
     "output_type": "stream",
     "text": [
      "\r",
      "OMP Test Batch for noise_level = 0.07:  34%|███▎      | 67/200 [2:04:27<2:03:55, 55.90s/it]"
     ]
    },
    {
     "name": "stderr",
     "output_type": "stream",
     "text": [
      "\r",
      "OMP Test Batch for noise_level = 0.14:  36%|███▌      | 71/200 [2:04:23<1:58:41, 55.20s/it]"
     ]
    },
    {
     "name": "stderr",
     "output_type": "stream",
     "text": [
      "\r",
      "OMP Test Batch for noise_level = 0.18:  34%|███▍      | 69/200 [2:04:22<1:55:55, 53.09s/it]"
     ]
    },
    {
     "name": "stderr",
     "output_type": "stream",
     "text": [
      "\r",
      "OMP Test Batch for noise_level = 0.08:  34%|███▍      | 68/200 [2:04:27<2:05:32, 57.06s/it]"
     ]
    },
    {
     "name": "stderr",
     "output_type": "stream",
     "text": [
      "\r",
      "OMP Test Batch for noise_level = 0.02:  38%|███▊      | 76/200 [2:04:33<1:04:32, 31.23s/it]"
     ]
    },
    {
     "name": "stderr",
     "output_type": "stream",
     "text": [
      "\r",
      "OMP Test Batch for noise_level = 0.20:  38%|███▊      | 75/200 [2:04:32<1:13:09, 35.12s/it]"
     ]
    },
    {
     "name": "stderr",
     "output_type": "stream",
     "text": [
      "\r",
      "OMP Test Batch for noise_level = 0.06:  36%|███▋      | 73/200 [2:04:42<1:22:20, 38.90s/it]"
     ]
    },
    {
     "name": "stderr",
     "output_type": "stream",
     "text": [
      "\r",
      "OMP Test Batch for noise_level = 0.00:  38%|███▊      | 75/200 [2:04:48<1:21:38, 39.19s/it]"
     ]
    },
    {
     "name": "stderr",
     "output_type": "stream",
     "text": [
      "\r",
      "OMP Test Batch for noise_level = 0.16:  40%|████      | 81/200 [2:04:40<1:07:56, 34.26s/it]"
     ]
    },
    {
     "name": "stderr",
     "output_type": "stream",
     "text": [
      "\r",
      "OMP Test Batch for noise_level = 0.10:  35%|███▌      | 70/200 [2:04:44<1:58:55, 54.89s/it]"
     ]
    },
    {
     "name": "stderr",
     "output_type": "stream",
     "text": [
      "\r",
      "OMP Test Batch for noise_level = 0.12:  34%|███▍      | 69/200 [2:04:52<1:56:02, 53.15s/it]"
     ]
    },
    {
     "name": "stderr",
     "output_type": "stream",
     "text": [
      "\r",
      "OMP Test Batch for noise_level = 0.03:  34%|███▍      | 69/200 [2:05:01<1:59:29, 54.73s/it]"
     ]
    },
    {
     "name": "stderr",
     "output_type": "stream",
     "text": [
      "\r",
      "OMP Test Batch for noise_level = 0.01:  36%|███▌      | 71/200 [2:05:04<1:56:08, 54.02s/it]"
     ]
    },
    {
     "name": "stderr",
     "output_type": "stream",
     "text": [
      "\r",
      "OMP Test Batch for noise_level = 0.02:  38%|███▊      | 77/200 [2:05:07<1:05:56, 32.16s/it]"
     ]
    },
    {
     "name": "stderr",
     "output_type": "stream",
     "text": [
      "\r",
      "OMP Test Batch for noise_level = 0.09:  39%|███▉      | 78/200 [2:05:04<1:19:22, 39.04s/it]"
     ]
    },
    {
     "name": "stderr",
     "output_type": "stream",
     "text": [
      "\r",
      "OMP Test Batch for noise_level = 0.05:  38%|███▊      | 75/200 [2:05:08<1:22:50, 39.76s/it]"
     ]
    },
    {
     "name": "stderr",
     "output_type": "stream",
     "text": [
      "\r",
      "OMP Test Batch for noise_level = 0.07:  34%|███▍      | 68/200 [2:05:09<1:53:39, 51.66s/it]"
     ]
    },
    {
     "name": "stderr",
     "output_type": "stream",
     "text": [
      "\r",
      "OMP Test Batch for noise_level = 0.04:  36%|███▌      | 71/200 [2:05:12<1:51:46, 51.99s/it]"
     ]
    },
    {
     "name": "stderr",
     "output_type": "stream",
     "text": [
      "\r",
      "OMP Test Batch for noise_level = 0.14:  36%|███▌      | 72/200 [2:05:05<1:49:30, 51.33s/it]"
     ]
    },
    {
     "name": "stderr",
     "output_type": "stream",
     "text": [
      "\r",
      "OMP Test Batch for noise_level = 0.08:  34%|███▍      | 69/200 [2:05:09<1:54:29, 52.44s/it]"
     ]
    },
    {
     "name": "stderr",
     "output_type": "stream",
     "text": [
      "\r",
      "OMP Test Batch for noise_level = 0.18:  35%|███▌      | 70/200 [2:05:10<1:51:42, 51.56s/it]"
     ]
    },
    {
     "name": "stderr",
     "output_type": "stream",
     "text": [
      "\r",
      "OMP Test Batch for noise_level = 0.06:  37%|███▋      | 74/200 [2:05:20<1:21:06, 38.63s/it]"
     ]
    },
    {
     "name": "stderr",
     "output_type": "stream",
     "text": [
      "\r",
      "OMP Test Batch for noise_level = 0.20:  38%|███▊      | 76/200 [2:05:13<1:16:06, 36.83s/it]"
     ]
    },
    {
     "name": "stderr",
     "output_type": "stream",
     "text": [
      "\r",
      "OMP Test Batch for noise_level = 0.16:  41%|████      | 82/200 [2:05:15<1:07:25, 34.29s/it]"
     ]
    },
    {
     "name": "stderr",
     "output_type": "stream",
     "text": [
      "\r",
      "OMP Test Batch for noise_level = 0.00:  38%|███▊      | 76/200 [2:05:33<1:24:19, 40.81s/it]"
     ]
    },
    {
     "name": "stderr",
     "output_type": "stream",
     "text": [
      "\r",
      "OMP Test Batch for noise_level = 0.10:  36%|███▌      | 71/200 [2:05:27<1:50:24, 51.35s/it]"
     ]
    },
    {
     "name": "stderr",
     "output_type": "stream",
     "text": [
      "\r",
      "OMP Test Batch for noise_level = 0.02:  39%|███▉      | 78/200 [2:05:43<1:07:37, 33.26s/it]"
     ]
    },
    {
     "name": "stderr",
     "output_type": "stream",
     "text": [
      "\r",
      "OMP Test Batch for noise_level = 0.09:  40%|███▉      | 79/200 [2:05:39<1:16:26, 37.91s/it]\r",
      "OMP Test Batch for noise_level = 0.12:  35%|███▌      | 70/200 [2:05:37<1:50:09, 50.85s/it]"
     ]
    },
    {
     "name": "stderr",
     "output_type": "stream",
     "text": [
      "\r",
      "OMP Test Batch for noise_level = 0.03:  35%|███▌      | 70/200 [2:05:46<1:52:08, 51.76s/it]"
     ]
    },
    {
     "name": "stderr",
     "output_type": "stream",
     "text": [
      "\r",
      "OMP Test Batch for noise_level = 0.01:  36%|███▌      | 72/200 [2:05:49<1:49:29, 51.33s/it]"
     ]
    },
    {
     "name": "stderr",
     "output_type": "stream",
     "text": [
      "\r",
      "OMP Test Batch for noise_level = 0.05:  38%|███▊      | 76/200 [2:05:47<1:21:23, 39.38s/it]"
     ]
    },
    {
     "name": "stderr",
     "output_type": "stream",
     "text": [
      "\r",
      "OMP Test Batch for noise_level = 0.07:  34%|███▍      | 69/200 [2:05:55<1:49:17, 50.05s/it]\r",
      "OMP Test Batch for noise_level = 0.04:  36%|███▌      | 72/200 [2:05:58<1:46:43, 50.03s/it]"
     ]
    },
    {
     "name": "stderr",
     "output_type": "stream",
     "text": [
      "\r",
      "OMP Test Batch for noise_level = 0.14:  36%|███▋      | 73/200 [2:05:50<1:44:50, 49.53s/it]\r",
      "OMP Test Batch for noise_level = 0.08:  35%|███▌      | 70/200 [2:05:54<1:48:54, 50.27s/it]"
     ]
    },
    {
     "name": "stderr",
     "output_type": "stream",
     "text": [
      "\r",
      "OMP Test Batch for noise_level = 0.18:  36%|███▌      | 71/200 [2:05:51<1:44:03, 48.40s/it]"
     ]
    },
    {
     "name": "stderr",
     "output_type": "stream",
     "text": [
      "\r",
      "OMP Test Batch for noise_level = 0.16:  42%|████▏     | 83/200 [2:05:54<1:09:32, 35.66s/it]"
     ]
    },
    {
     "name": "stderr",
     "output_type": "stream",
     "text": [
      "\r",
      "OMP Test Batch for noise_level = 0.20:  38%|███▊      | 77/200 [2:05:56<1:19:32, 38.80s/it]"
     ]
    },
    {
     "name": "stderr",
     "output_type": "stream",
     "text": [
      "\r",
      "OMP Test Batch for noise_level = 0.06:  38%|███▊      | 75/200 [2:06:05<1:24:20, 40.49s/it]"
     ]
    },
    {
     "name": "stderr",
     "output_type": "stream",
     "text": [
      "\r",
      "OMP Test Batch for noise_level = 0.10:  36%|███▌      | 72/200 [2:06:10<1:44:10, 48.84s/it]"
     ]
    },
    {
     "name": "stderr",
     "output_type": "stream",
     "text": [
      "\r",
      "OMP Test Batch for noise_level = 0.00:  38%|███▊      | 77/200 [2:06:23<1:29:14, 43.54s/it]"
     ]
    },
    {
     "name": "stderr",
     "output_type": "stream",
     "text": [
      "\r",
      "OMP Test Batch for noise_level = 0.02:  40%|███▉      | 79/200 [2:06:22<1:10:13, 34.82s/it]"
     ]
    },
    {
     "name": "stderr",
     "output_type": "stream",
     "text": [
      "\r",
      "OMP Test Batch for noise_level = 0.09:  40%|████      | 80/200 [2:06:18<1:16:27, 38.23s/it]"
     ]
    },
    {
     "name": "stderr",
     "output_type": "stream",
     "text": [
      "\r",
      "OMP Test Batch for noise_level = 0.05:  38%|███▊      | 77/200 [2:06:22<1:17:59, 38.05s/it]"
     ]
    },
    {
     "name": "stderr",
     "output_type": "stream",
     "text": [
      "\r",
      "OMP Test Batch for noise_level = 0.12:  36%|███▌      | 71/200 [2:06:22<1:45:35, 49.11s/it]"
     ]
    },
    {
     "name": "stderr",
     "output_type": "stream",
     "text": [
      "\r",
      "OMP Test Batch for noise_level = 0.01:  36%|███▋      | 73/200 [2:06:36<1:45:40, 49.93s/it]"
     ]
    },
    {
     "name": "stderr",
     "output_type": "stream",
     "text": [
      "\r",
      "OMP Test Batch for noise_level = 0.03:  36%|███▌      | 71/200 [2:06:37<1:50:25, 51.36s/it]"
     ]
    },
    {
     "name": "stderr",
     "output_type": "stream",
     "text": [
      "\r",
      "OMP Test Batch for noise_level = 0.16:  42%|████▏     | 84/200 [2:06:28<1:08:26, 35.40s/it]"
     ]
    },
    {
     "name": "stderr",
     "output_type": "stream",
     "text": [
      "\r",
      "OMP Test Batch for noise_level = 0.07:  35%|███▌      | 70/200 [2:06:39<1:44:50, 48.39s/it]"
     ]
    },
    {
     "name": "stderr",
     "output_type": "stream",
     "text": [
      "\r",
      "OMP Test Batch for noise_level = 0.14:  37%|███▋      | 74/200 [2:06:35<1:40:54, 48.05s/it]"
     ]
    },
    {
     "name": "stderr",
     "output_type": "stream",
     "text": [
      "\r",
      "OMP Test Batch for noise_level = 0.08:  36%|███▌      | 71/200 [2:06:41<1:45:34, 49.11s/it]"
     ]
    },
    {
     "name": "stderr",
     "output_type": "stream",
     "text": [
      "\r",
      "OMP Test Batch for noise_level = 0.04:  36%|███▋      | 73/200 [2:06:46<1:44:36, 49.42s/it]"
     ]
    },
    {
     "name": "stderr",
     "output_type": "stream",
     "text": [
      "\r",
      "OMP Test Batch for noise_level = 0.18:  36%|███▌      | 72/200 [2:06:40<1:43:48, 48.66s/it]"
     ]
    },
    {
     "name": "stderr",
     "output_type": "stream",
     "text": [
      "\r",
      "OMP Test Batch for noise_level = 0.20:  39%|███▉      | 78/200 [2:06:43<1:23:31, 41.08s/it]\r",
      "OMP Test Batch for noise_level = 0.06:  38%|███▊      | 76/200 [2:06:50<1:26:42, 41.96s/it]"
     ]
    },
    {
     "name": "stderr",
     "output_type": "stream",
     "text": [
      "\r",
      "OMP Test Batch for noise_level = 0.02:  40%|████      | 80/200 [2:06:59<1:11:00, 35.51s/it]\r",
      "OMP Test Batch for noise_level = 0.00:  39%|███▉      | 78/200 [2:07:00<1:25:06, 41.86s/it]"
     ]
    },
    {
     "name": "stderr",
     "output_type": "stream",
     "text": [
      "\r",
      "OMP Test Batch for noise_level = 0.10:  36%|███▋      | 73/200 [2:06:56<1:41:31, 47.97s/it]"
     ]
    },
    {
     "name": "stderr",
     "output_type": "stream",
     "text": [
      "\r",
      "OMP Test Batch for noise_level = 0.09:  40%|████      | 81/200 [2:06:58<1:16:55, 38.78s/it]"
     ]
    },
    {
     "name": "stderr",
     "output_type": "stream",
     "text": [
      "\r",
      "OMP Test Batch for noise_level = 0.05:  39%|███▉      | 78/200 [2:07:12<1:24:46, 41.70s/it]"
     ]
    },
    {
     "name": "stderr",
     "output_type": "stream",
     "text": [
      "\r",
      "OMP Test Batch for noise_level = 0.12:  36%|███▌      | 72/200 [2:07:08<1:42:24, 48.00s/it]"
     ]
    },
    {
     "name": "stderr",
     "output_type": "stream",
     "text": [
      "\r",
      "OMP Test Batch for noise_level = 0.01:  37%|███▋      | 74/200 [2:07:21<1:41:48, 48.48s/it]"
     ]
    },
    {
     "name": "stderr",
     "output_type": "stream",
     "text": [
      "\r",
      "OMP Test Batch for noise_level = 0.14:  38%|███▊      | 75/200 [2:07:16<1:35:36, 45.89s/it]"
     ]
    },
    {
     "name": "stderr",
     "output_type": "stream",
     "text": [
      "\r",
      "OMP Test Batch for noise_level = 0.03:  36%|███▌      | 72/200 [2:07:24<1:47:16, 50.29s/it]"
     ]
    },
    {
     "name": "stderr",
     "output_type": "stream",
     "text": [
      "\r",
      "OMP Test Batch for noise_level = 0.16:  42%|████▎     | 85/200 [2:07:16<1:14:58, 39.12s/it]"
     ]
    },
    {
     "name": "stderr",
     "output_type": "stream",
     "text": [
      "\r",
      "OMP Test Batch for noise_level = 0.07:  36%|███▌      | 71/200 [2:07:25<1:42:00, 47.45s/it]"
     ]
    },
    {
     "name": "stderr",
     "output_type": "stream",
     "text": [
      "\r",
      "OMP Test Batch for noise_level = 0.06:  38%|███▊      | 77/200 [2:07:28<1:23:09, 40.56s/it]\r",
      "OMP Test Batch for noise_level = 0.08:  36%|███▌      | 72/200 [2:07:26<1:42:14, 47.93s/it]"
     ]
    },
    {
     "name": "stderr",
     "output_type": "stream",
     "text": [
      "\r",
      "OMP Test Batch for noise_level = 0.04:  37%|███▋      | 74/200 [2:07:31<1:41:17, 48.23s/it]"
     ]
    },
    {
     "name": "stderr",
     "output_type": "stream",
     "text": [
      "\r",
      "OMP Test Batch for noise_level = 0.18:  36%|███▋      | 73/200 [2:07:26<1:41:12, 47.82s/it]"
     ]
    },
    {
     "name": "stderr",
     "output_type": "stream",
     "text": [
      "\r",
      "OMP Test Batch for noise_level = 0.20:  40%|███▉      | 79/200 [2:07:26<1:24:12, 41.76s/it]"
     ]
    },
    {
     "name": "stderr",
     "output_type": "stream",
     "text": [
      "\r",
      "OMP Test Batch for noise_level = 0.00:  40%|███▉      | 79/200 [2:07:40<1:22:53, 41.11s/it]"
     ]
    },
    {
     "name": "stderr",
     "output_type": "stream",
     "text": [
      "\r",
      "OMP Test Batch for noise_level = 0.09:  41%|████      | 82/200 [2:07:37<1:16:30, 38.90s/it]"
     ]
    },
    {
     "name": "stderr",
     "output_type": "stream",
     "text": [
      "\r",
      "OMP Test Batch for noise_level = 0.02:  40%|████      | 81/200 [2:07:44<1:16:18, 38.47s/it]"
     ]
    },
    {
     "name": "stderr",
     "output_type": "stream",
     "text": [
      "\r",
      "OMP Test Batch for noise_level = 0.10:  37%|███▋      | 74/200 [2:07:42<1:39:37, 47.44s/it]"
     ]
    },
    {
     "name": "stderr",
     "output_type": "stream",
     "text": [
      "\r",
      "OMP Test Batch for noise_level = 0.01:  38%|███▊      | 75/200 [2:07:58<1:33:49, 45.04s/it]"
     ]
    },
    {
     "name": "stderr",
     "output_type": "stream",
     "text": [
      "\r",
      "OMP Test Batch for noise_level = 0.12:  36%|███▋      | 73/200 [2:07:51<1:38:50, 46.69s/it]"
     ]
    },
    {
     "name": "stderr",
     "output_type": "stream",
     "text": [
      "\r",
      "OMP Test Batch for noise_level = 0.05:  40%|███▉      | 79/200 [2:07:59<1:27:36, 43.44s/it]"
     ]
    },
    {
     "name": "stderr",
     "output_type": "stream",
     "text": [
      "\r",
      "OMP Test Batch for noise_level = 0.16:  43%|████▎     | 86/200 [2:07:58<1:15:42, 39.84s/it]"
     ]
    },
    {
     "name": "stderr",
     "output_type": "stream",
     "text": [
      "\r",
      "OMP Test Batch for noise_level = 0.14:  38%|███▊      | 76/200 [2:08:00<1:33:32, 45.26s/it]"
     ]
    },
    {
     "name": "stderr",
     "output_type": "stream",
     "text": [
      "\r",
      "OMP Test Batch for noise_level = 0.03:  36%|███▋      | 73/200 [2:08:08<1:42:28, 48.41s/it]"
     ]
    },
    {
     "name": "stderr",
     "output_type": "stream",
     "text": [
      "\r",
      "OMP Test Batch for noise_level = 0.18:  37%|███▋      | 74/200 [2:08:03<1:33:19, 44.44s/it]"
     ]
    },
    {
     "name": "stderr",
     "output_type": "stream",
     "text": [
      "\r",
      "OMP Test Batch for noise_level = 0.06:  39%|███▉      | 78/200 [2:08:11<1:24:14, 41.43s/it]"
     ]
    },
    {
     "name": "stderr",
     "output_type": "stream",
     "text": [
      "\r",
      "OMP Test Batch for noise_level = 0.20:  40%|████      | 80/200 [2:08:05<1:22:03, 41.03s/it]"
     ]
    },
    {
     "name": "stderr",
     "output_type": "stream",
     "text": [
      "\r",
      "OMP Test Batch for noise_level = 0.04:  38%|███▊      | 75/200 [2:08:15<1:37:51, 46.97s/it]"
     ]
    },
    {
     "name": "stderr",
     "output_type": "stream",
     "text": [
      "\r",
      "OMP Test Batch for noise_level = 0.07:  36%|███▌      | 72/200 [2:08:13<1:41:52, 47.75s/it]"
     ]
    },
    {
     "name": "stderr",
     "output_type": "stream",
     "text": [
      "\r",
      "OMP Test Batch for noise_level = 0.00:  40%|████      | 80/200 [2:08:20<1:21:41, 40.84s/it]"
     ]
    },
    {
     "name": "stderr",
     "output_type": "stream",
     "text": [
      "\r",
      "OMP Test Batch for noise_level = 0.08:  36%|███▋      | 73/200 [2:08:14<1:41:50, 48.11s/it]"
     ]
    },
    {
     "name": "stderr",
     "output_type": "stream",
     "text": [
      "\r",
      "OMP Test Batch for noise_level = 0.09:  42%|████▏     | 83/200 [2:08:16<1:16:05, 39.02s/it]"
     ]
    },
    {
     "name": "stderr",
     "output_type": "stream",
     "text": [
      "\r",
      "OMP Test Batch for noise_level = 0.02:  41%|████      | 82/200 [2:08:23<1:15:50, 38.56s/it]"
     ]
    },
    {
     "name": "stderr",
     "output_type": "stream",
     "text": [
      "\r",
      "OMP Test Batch for noise_level = 0.10:  38%|███▊      | 75/200 [2:08:27<1:36:58, 46.55s/it]"
     ]
    },
    {
     "name": "stderr",
     "output_type": "stream",
     "text": [
      "\r",
      "OMP Test Batch for noise_level = 0.01:  38%|███▊      | 76/200 [2:08:41<1:32:04, 44.55s/it]"
     ]
    },
    {
     "name": "stderr",
     "output_type": "stream",
     "text": [
      "\r",
      "OMP Test Batch for noise_level = 0.05:  40%|████      | 80/200 [2:08:38<1:24:06, 42.05s/it]"
     ]
    },
    {
     "name": "stderr",
     "output_type": "stream",
     "text": [
      "\r",
      "OMP Test Batch for noise_level = 0.12:  37%|███▋      | 74/200 [2:08:38<1:38:01, 46.68s/it]"
     ]
    },
    {
     "name": "stderr",
     "output_type": "stream",
     "text": [
      "\r",
      "OMP Test Batch for noise_level = 0.16:  44%|████▎     | 87/200 [2:08:40<1:16:20, 40.54s/it]"
     ]
    },
    {
     "name": "stderr",
     "output_type": "stream",
     "text": [
      "\r",
      "OMP Test Batch for noise_level = 0.14:  38%|███▊      | 77/200 [2:08:44<1:32:15, 45.01s/it]"
     ]
    },
    {
     "name": "stderr",
     "output_type": "stream",
     "text": [
      "\r",
      "OMP Test Batch for noise_level = 0.03:  37%|███▋      | 74/200 [2:08:53<1:38:57, 47.12s/it]"
     ]
    },
    {
     "name": "stderr",
     "output_type": "stream",
     "text": [
      "\r",
      "OMP Test Batch for noise_level = 0.18:  38%|███▊      | 75/200 [2:08:47<1:32:41, 44.49s/it]"
     ]
    },
    {
     "name": "stderr",
     "output_type": "stream",
     "text": [
      "\r",
      "OMP Test Batch for noise_level = 0.07:  36%|███▋      | 73/200 [2:08:54<1:36:51, 45.76s/it]"
     ]
    },
    {
     "name": "stderr",
     "output_type": "stream",
     "text": [
      "\r",
      "OMP Test Batch for noise_level = 0.20:  40%|████      | 81/200 [2:08:48<1:22:31, 41.61s/it]"
     ]
    },
    {
     "name": "stderr",
     "output_type": "stream",
     "text": [
      "\r",
      "OMP Test Batch for noise_level = 0.06:  40%|███▉      | 79/200 [2:08:59<1:27:22, 43.32s/it]"
     ]
    },
    {
     "name": "stderr",
     "output_type": "stream",
     "text": [
      "\r",
      "OMP Test Batch for noise_level = 0.02:  42%|████▏     | 83/200 [2:09:03<1:16:04, 39.01s/it]\r",
      "OMP Test Batch for noise_level = 0.09:  42%|████▏     | 84/200 [2:08:57<1:16:15, 39.45s/it]"
     ]
    },
    {
     "name": "stderr",
     "output_type": "stream",
     "text": [
      "\r",
      "OMP Test Batch for noise_level = 0.04:  38%|███▊      | 76/200 [2:09:03<1:37:23, 47.12s/it]"
     ]
    },
    {
     "name": "stderr",
     "output_type": "stream",
     "text": [
      "\r",
      "OMP Test Batch for noise_level = 0.08:  37%|███▋      | 74/200 [2:09:01<1:39:56, 47.59s/it]"
     ]
    },
    {
     "name": "stderr",
     "output_type": "stream",
     "text": [
      "\r",
      "OMP Test Batch for noise_level = 0.00:  40%|████      | 81/200 [2:09:09<1:25:41, 43.21s/it]"
     ]
    },
    {
     "name": "stderr",
     "output_type": "stream",
     "text": [
      "\r",
      "OMP Test Batch for noise_level = 0.10:  38%|███▊      | 76/200 [2:09:13<1:35:46, 46.34s/it]"
     ]
    },
    {
     "name": "stderr",
     "output_type": "stream",
     "text": [
      "\r",
      "OMP Test Batch for noise_level = 0.05:  40%|████      | 81/200 [2:09:18<1:22:05, 41.39s/it]"
     ]
    },
    {
     "name": "stderr",
     "output_type": "stream",
     "text": [
      "\r",
      "OMP Test Batch for noise_level = 0.01:  38%|███▊      | 77/200 [2:09:26<1:31:30, 44.64s/it]"
     ]
    },
    {
     "name": "stderr",
     "output_type": "stream",
     "text": [
      "\r",
      "OMP Test Batch for noise_level = 0.16:  44%|████▍     | 88/200 [2:09:20<1:15:13, 40.30s/it]"
     ]
    },
    {
     "name": "stderr",
     "output_type": "stream",
     "text": [
      "\r",
      "OMP Test Batch for noise_level = 0.12:  38%|███▊      | 75/200 [2:09:25<1:37:18, 46.71s/it]"
     ]
    },
    {
     "name": "stderr",
     "output_type": "stream",
     "text": [
      "\r",
      "OMP Test Batch for noise_level = 0.14:  39%|███▉      | 78/200 [2:09:25<1:28:55, 43.73s/it]"
     ]
    },
    {
     "name": "stderr",
     "output_type": "stream",
     "text": [
      "\r",
      "OMP Test Batch for noise_level = 0.03:  38%|███▊      | 75/200 [2:09:37<1:36:42, 46.42s/it]"
     ]
    },
    {
     "name": "stderr",
     "output_type": "stream",
     "text": [
      "\r",
      "OMP Test Batch for noise_level = 0.07:  37%|███▋      | 74/200 [2:09:36<1:33:26, 44.50s/it]"
     ]
    },
    {
     "name": "stderr",
     "output_type": "stream",
     "text": [
      "\r",
      "OMP Test Batch for noise_level = 0.06:  40%|████      | 80/200 [2:09:40<1:25:03, 42.53s/it]"
     ]
    },
    {
     "name": "stderr",
     "output_type": "stream",
     "text": [
      "\r",
      "OMP Test Batch for noise_level = 0.18:  38%|███▊      | 76/200 [2:09:33<1:32:54, 44.95s/it]"
     ]
    },
    {
     "name": "stderr",
     "output_type": "stream",
     "text": [
      "\r",
      "OMP Test Batch for noise_level = 0.09:  42%|████▎     | 85/200 [2:09:38<1:16:49, 40.08s/it]\r",
      "OMP Test Batch for noise_level = 0.20:  41%|████      | 82/200 [2:09:33<1:23:57, 42.69s/it]"
     ]
    },
    {
     "name": "stderr",
     "output_type": "stream",
     "text": [
      "\r",
      "OMP Test Batch for noise_level = 0.04:  38%|███▊      | 77/200 [2:09:43<1:32:43, 45.24s/it]"
     ]
    },
    {
     "name": "stderr",
     "output_type": "stream",
     "text": [
      "\r",
      "OMP Test Batch for noise_level = 0.02:  42%|████▏     | 84/200 [2:09:49<1:19:25, 41.08s/it]"
     ]
    },
    {
     "name": "stderr",
     "output_type": "stream",
     "text": [
      "\r",
      "OMP Test Batch for noise_level = 0.08:  38%|███▊      | 75/200 [2:09:47<1:38:20, 47.20s/it]"
     ]
    },
    {
     "name": "stderr",
     "output_type": "stream",
     "text": [
      "\r",
      "OMP Test Batch for noise_level = 0.00:  41%|████      | 82/200 [2:09:57<1:28:09, 44.83s/it]"
     ]
    },
    {
     "name": "stderr",
     "output_type": "stream",
     "text": [
      "\r",
      "OMP Test Batch for noise_level = 0.05:  41%|████      | 82/200 [2:09:54<1:18:09, 39.74s/it]"
     ]
    },
    {
     "name": "stderr",
     "output_type": "stream",
     "text": [
      "\r",
      "OMP Test Batch for noise_level = 0.10:  38%|███▊      | 77/200 [2:09:57<1:33:58, 45.84s/it]"
     ]
    },
    {
     "name": "stderr",
     "output_type": "stream",
     "text": [
      "\r",
      "OMP Test Batch for noise_level = 0.16:  44%|████▍     | 89/200 [2:09:59<1:13:59, 40.00s/it]"
     ]
    },
    {
     "name": "stderr",
     "output_type": "stream",
     "text": [
      "\r",
      "OMP Test Batch for noise_level = 0.01:  39%|███▉      | 78/200 [2:10:11<1:30:49, 44.67s/it]"
     ]
    },
    {
     "name": "stderr",
     "output_type": "stream",
     "text": [
      "\r",
      "OMP Test Batch for noise_level = 0.12:  38%|███▊      | 76/200 [2:10:10<1:35:38, 46.28s/it]"
     ]
    },
    {
     "name": "stderr",
     "output_type": "stream",
     "text": [
      "\r",
      "OMP Test Batch for noise_level = 0.14:  40%|███▉      | 79/200 [2:10:10<1:28:50, 44.05s/it]"
     ]
    },
    {
     "name": "stderr",
     "output_type": "stream",
     "text": [
      "\r",
      "OMP Test Batch for noise_level = 0.20:  42%|████▏     | 83/200 [2:10:10<1:19:25, 40.73s/it]"
     ]
    },
    {
     "name": "stderr",
     "output_type": "stream",
     "text": [
      "\r",
      "OMP Test Batch for noise_level = 0.06:  40%|████      | 81/200 [2:10:18<1:22:07, 41.40s/it]"
     ]
    },
    {
     "name": "stderr",
     "output_type": "stream",
     "text": [
      "\r",
      "OMP Test Batch for noise_level = 0.03:  38%|███▊      | 76/200 [2:10:22<1:35:01, 45.98s/it]"
     ]
    },
    {
     "name": "stderr",
     "output_type": "stream",
     "text": [
      "\r",
      "OMP Test Batch for noise_level = 0.07:  38%|███▊      | 75/200 [2:10:20<1:32:44, 44.51s/it]"
     ]
    },
    {
     "name": "stderr",
     "output_type": "stream",
     "text": [
      "\r",
      "OMP Test Batch for noise_level = 0.18:  38%|███▊      | 77/200 [2:10:17<1:31:27, 44.62s/it]"
     ]
    },
    {
     "name": "stderr",
     "output_type": "stream",
     "text": [
      "\r",
      "OMP Test Batch for noise_level = 0.04:  39%|███▉      | 78/200 [2:10:27<1:30:51, 44.68s/it]"
     ]
    },
    {
     "name": "stderr",
     "output_type": "stream",
     "text": [
      "\r",
      "OMP Test Batch for noise_level = 0.09:  43%|████▎     | 86/200 [2:10:27<1:21:06, 42.69s/it]"
     ]
    },
    {
     "name": "stderr",
     "output_type": "stream",
     "text": [
      "\r",
      "OMP Test Batch for noise_level = 0.05:  42%|████▏     | 83/200 [2:10:34<1:17:30, 39.75s/it]\r",
      "OMP Test Batch for noise_level = 0.02:  42%|████▎     | 85/200 [2:10:36<1:22:29, 43.04s/it]"
     ]
    },
    {
     "name": "stderr",
     "output_type": "stream",
     "text": [
      "\r",
      "OMP Test Batch for noise_level = 0.08:  38%|███▊      | 76/200 [2:10:33<1:36:41, 46.78s/it]"
     ]
    },
    {
     "name": "stderr",
     "output_type": "stream",
     "text": [
      "\r",
      "OMP Test Batch for noise_level = 0.16:  45%|████▌     | 90/200 [2:10:39<1:13:11, 39.92s/it]"
     ]
    },
    {
     "name": "stderr",
     "output_type": "stream",
     "text": [
      "\r",
      "OMP Test Batch for noise_level = 0.00:  42%|████▏     | 83/200 [2:10:51<1:32:41, 47.54s/it]"
     ]
    },
    {
     "name": "stderr",
     "output_type": "stream",
     "text": [
      "\r",
      "OMP Test Batch for noise_level = 0.10:  39%|███▉      | 78/200 [2:10:44<1:33:29, 45.98s/it]"
     ]
    },
    {
     "name": "stderr",
     "output_type": "stream",
     "text": [
      "\r",
      "OMP Test Batch for noise_level = 0.01:  40%|███▉      | 79/200 [2:10:54<1:29:29, 44.38s/it]"
     ]
    },
    {
     "name": "stderr",
     "output_type": "stream",
     "text": [
      "\r",
      "OMP Test Batch for noise_level = 0.14:  40%|████      | 80/200 [2:10:53<1:27:34, 43.79s/it]"
     ]
    },
    {
     "name": "stderr",
     "output_type": "stream",
     "text": [
      "\r",
      "OMP Test Batch for noise_level = 0.12:  38%|███▊      | 77/200 [2:10:55<1:34:01, 45.87s/it]"
     ]
    },
    {
     "name": "stderr",
     "output_type": "stream",
     "text": [
      "\r",
      "OMP Test Batch for noise_level = 0.20:  42%|████▏     | 84/200 [2:10:53<1:20:04, 41.42s/it]"
     ]
    },
    {
     "name": "stderr",
     "output_type": "stream",
     "text": [
      "\r",
      "OMP Test Batch for noise_level = 0.03:  38%|███▊      | 77/200 [2:11:07<1:33:24, 45.57s/it]"
     ]
    },
    {
     "name": "stderr",
     "output_type": "stream",
     "text": [
      "\r",
      "OMP Test Batch for noise_level = 0.06:  41%|████      | 82/200 [2:11:06<1:25:11, 43.32s/it]"
     ]
    },
    {
     "name": "stderr",
     "output_type": "stream",
     "text": [
      "\r",
      "OMP Test Batch for noise_level = 0.07:  38%|███▊      | 76/200 [2:11:08<1:33:48, 45.39s/it]"
     ]
    },
    {
     "name": "stderr",
     "output_type": "stream",
     "text": [
      "\r",
      "OMP Test Batch for noise_level = 0.18:  39%|███▉      | 78/200 [2:11:03<1:31:09, 44.83s/it]\r",
      "OMP Test Batch for noise_level = 0.04:  40%|███▉      | 79/200 [2:11:11<1:29:57, 44.60s/it]"
     ]
    },
    {
     "name": "stderr",
     "output_type": "stream",
     "text": [
      "\r",
      "OMP Test Batch for noise_level = 0.09:  44%|████▎     | 87/200 [2:11:12<1:21:24, 43.23s/it]"
     ]
    },
    {
     "name": "stderr",
     "output_type": "stream",
     "text": [
      "\r",
      "OMP Test Batch for noise_level = 0.05:  42%|████▏     | 84/200 [2:11:18<1:19:17, 41.02s/it]"
     ]
    },
    {
     "name": "stderr",
     "output_type": "stream",
     "text": [
      "\r",
      "OMP Test Batch for noise_level = 0.08:  38%|███▊      | 77/200 [2:11:18<1:34:57, 46.32s/it]\r",
      "OMP Test Batch for noise_level = 0.02:  43%|████▎     | 86/200 [2:11:24<1:24:06, 44.27s/it]"
     ]
    },
    {
     "name": "stderr",
     "output_type": "stream",
     "text": [
      "\r",
      "OMP Test Batch for noise_level = 0.10:  40%|███▉      | 79/200 [2:11:28<1:31:57, 45.60s/it]"
     ]
    },
    {
     "name": "stderr",
     "output_type": "stream",
     "text": [
      "\r",
      "OMP Test Batch for noise_level = 0.16:  46%|████▌     | 91/200 [2:11:26<1:16:19, 42.02s/it]"
     ]
    },
    {
     "name": "stderr",
     "output_type": "stream",
     "text": [
      "\r",
      "OMP Test Batch for noise_level = 0.00:  42%|████▏     | 84/200 [2:11:39<1:31:47, 47.48s/it]"
     ]
    },
    {
     "name": "stderr",
     "output_type": "stream",
     "text": [
      "\r",
      "OMP Test Batch for noise_level = 0.01:  40%|████      | 80/200 [2:11:39<1:29:07, 44.56s/it]"
     ]
    },
    {
     "name": "stderr",
     "output_type": "stream",
     "text": [
      "\r",
      "OMP Test Batch for noise_level = 0.14:  40%|████      | 81/200 [2:11:40<1:29:03, 44.91s/it]"
     ]
    },
    {
     "name": "stderr",
     "output_type": "stream",
     "text": [
      "\r",
      "OMP Test Batch for noise_level = 0.12:  39%|███▉      | 78/200 [2:11:42<1:34:18, 46.38s/it]"
     ]
    },
    {
     "name": "stderr",
     "output_type": "stream",
     "text": [
      "\r",
      "OMP Test Batch for noise_level = 0.03:  39%|███▉      | 78/200 [2:11:52<1:32:34, 45.53s/it]"
     ]
    },
    {
     "name": "stderr",
     "output_type": "stream",
     "text": [
      "\r",
      "OMP Test Batch for noise_level = 0.20:  42%|████▎     | 85/200 [2:11:43<1:24:31, 44.10s/it]"
     ]
    },
    {
     "name": "stderr",
     "output_type": "stream",
     "text": [
      "\r",
      "OMP Test Batch for noise_level = 0.09:  44%|████▍     | 88/200 [2:11:50<1:18:14, 41.91s/it]"
     ]
    },
    {
     "name": "stderr",
     "output_type": "stream",
     "text": [
      "\r",
      "OMP Test Batch for noise_level = 0.07:  38%|███▊      | 77/200 [2:11:53<1:32:46, 45.26s/it]"
     ]
    },
    {
     "name": "stderr",
     "output_type": "stream",
     "text": [
      "\r",
      "OMP Test Batch for noise_level = 0.04:  40%|████      | 80/200 [2:11:56<1:29:07, 44.57s/it]"
     ]
    },
    {
     "name": "stderr",
     "output_type": "stream",
     "text": [
      "\r",
      "OMP Test Batch for noise_level = 0.05:  42%|████▎     | 85/200 [2:11:56<1:17:10, 40.27s/it]"
     ]
    },
    {
     "name": "stderr",
     "output_type": "stream",
     "text": [
      "\r",
      "OMP Test Batch for noise_level = 0.06:  42%|████▏     | 83/200 [2:11:56<1:28:02, 45.15s/it]"
     ]
    },
    {
     "name": "stderr",
     "output_type": "stream",
     "text": [
      "\r",
      "OMP Test Batch for noise_level = 0.02:  44%|████▎     | 87/200 [2:12:02<1:19:52, 42.41s/it]"
     ]
    },
    {
     "name": "stderr",
     "output_type": "stream",
     "text": [
      "\r",
      "OMP Test Batch for noise_level = 0.18:  40%|███▉      | 79/200 [2:11:53<1:33:35, 46.41s/it]"
     ]
    },
    {
     "name": "stderr",
     "output_type": "stream",
     "text": [
      "\r",
      "OMP Test Batch for noise_level = 0.08:  39%|███▉      | 78/200 [2:12:04<1:33:39, 46.06s/it]"
     ]
    },
    {
     "name": "stderr",
     "output_type": "stream",
     "text": [
      "\r",
      "OMP Test Batch for noise_level = 0.16:  46%|████▌     | 92/200 [2:12:04<1:13:46, 40.99s/it]"
     ]
    },
    {
     "name": "stderr",
     "output_type": "stream",
     "text": [
      "\r",
      "OMP Test Batch for noise_level = 0.10:  40%|████      | 80/200 [2:12:15<1:31:37, 45.81s/it]"
     ]
    },
    {
     "name": "stderr",
     "output_type": "stream",
     "text": [
      "\r",
      "OMP Test Batch for noise_level = 0.00:  42%|████▎     | 85/200 [2:12:28<1:31:52, 47.94s/it]"
     ]
    },
    {
     "name": "stderr",
     "output_type": "stream",
     "text": [
      "\r",
      "OMP Test Batch for noise_level = 0.14:  41%|████      | 82/200 [2:12:21<1:25:54, 43.68s/it]\r",
      "OMP Test Batch for noise_level = 0.01:  40%|████      | 81/200 [2:12:31<1:32:31, 46.65s/it]"
     ]
    },
    {
     "name": "stderr",
     "output_type": "stream",
     "text": [
      "\r",
      "OMP Test Batch for noise_level = 0.12:  40%|███▉      | 79/200 [2:12:27<1:32:17, 45.76s/it]"
     ]
    },
    {
     "name": "stderr",
     "output_type": "stream",
     "text": [
      "\r",
      "OMP Test Batch for noise_level = 0.09:  44%|████▍     | 89/200 [2:12:30<1:16:05, 41.13s/it]"
     ]
    },
    {
     "name": "stderr",
     "output_type": "stream",
     "text": [
      "\r",
      "OMP Test Batch for noise_level = 0.05:  43%|████▎     | 86/200 [2:12:34<1:15:15, 39.61s/it]"
     ]
    },
    {
     "name": "stderr",
     "output_type": "stream",
     "text": [
      "\r",
      "OMP Test Batch for noise_level = 0.02:  44%|████▍     | 88/200 [2:12:37<1:15:18, 40.34s/it]"
     ]
    },
    {
     "name": "stderr",
     "output_type": "stream",
     "text": [
      "\r",
      "OMP Test Batch for noise_level = 0.06:  42%|████▏     | 84/200 [2:12:34<1:23:32, 43.21s/it]\r",
      "OMP Test Batch for noise_level = 0.03:  40%|███▉      | 79/200 [2:12:37<1:31:13, 45.24s/it]"
     ]
    },
    {
     "name": "stderr",
     "output_type": "stream",
     "text": [
      "\r",
      "OMP Test Batch for noise_level = 0.20:  43%|████▎     | 86/200 [2:12:29<1:24:47, 44.63s/it]"
     ]
    },
    {
     "name": "stderr",
     "output_type": "stream",
     "text": [
      "\r",
      "OMP Test Batch for noise_level = 0.04:  40%|████      | 81/200 [2:12:40<1:28:16, 44.51s/it]"
     ]
    },
    {
     "name": "stderr",
     "output_type": "stream",
     "text": [
      "\r",
      "OMP Test Batch for noise_level = 0.07:  39%|███▉      | 78/200 [2:12:39<1:32:44, 45.61s/it]"
     ]
    },
    {
     "name": "stderr",
     "output_type": "stream",
     "text": [
      "\r",
      "OMP Test Batch for noise_level = 0.18:  40%|████      | 80/200 [2:12:35<1:30:32, 45.27s/it]"
     ]
    },
    {
     "name": "stderr",
     "output_type": "stream",
     "text": [
      "\r",
      "OMP Test Batch for noise_level = 0.16:  46%|████▋     | 93/200 [2:12:42<1:11:41, 40.20s/it]"
     ]
    },
    {
     "name": "stderr",
     "output_type": "stream",
     "text": [
      "\r",
      "OMP Test Batch for noise_level = 0.08:  40%|███▉      | 79/200 [2:12:48<1:31:50, 45.54s/it]"
     ]
    },
    {
     "name": "stderr",
     "output_type": "stream",
     "text": [
      "\r",
      "OMP Test Batch for noise_level = 0.10:  40%|████      | 81/200 [2:12:56<1:28:32, 44.64s/it]"
     ]
    },
    {
     "name": "stderr",
     "output_type": "stream",
     "text": [
      "\r",
      "OMP Test Batch for noise_level = 0.00:  43%|████▎     | 86/200 [2:13:06<1:25:43, 45.11s/it]"
     ]
    },
    {
     "name": "stderr",
     "output_type": "stream",
     "text": [
      "\r",
      "OMP Test Batch for noise_level = 0.14:  42%|████▏     | 83/200 [2:12:59<1:21:41, 41.89s/it]"
     ]
    },
    {
     "name": "stderr",
     "output_type": "stream",
     "text": [
      "\r",
      "OMP Test Batch for noise_level = 0.12:  40%|████      | 80/200 [2:13:01<1:24:32, 42.27s/it]"
     ]
    },
    {
     "name": "stderr",
     "output_type": "stream",
     "text": [
      "\r",
      "OMP Test Batch for noise_level = 0.01:  41%|████      | 82/200 [2:13:10<1:27:01, 44.25s/it]"
     ]
    },
    {
     "name": "stderr",
     "output_type": "stream",
     "text": [
      "\r",
      "OMP Test Batch for noise_level = 0.05:  44%|████▎     | 87/200 [2:13:11<1:12:45, 38.63s/it]\r",
      "OMP Test Batch for noise_level = 0.03:  40%|████      | 80/200 [2:13:13<1:24:43, 42.36s/it]"
     ]
    },
    {
     "name": "stderr",
     "output_type": "stream",
     "text": [
      "\r",
      "OMP Test Batch for noise_level = 0.06:  42%|████▎     | 85/200 [2:13:11<1:18:58, 41.20s/it]"
     ]
    },
    {
     "name": "stderr",
     "output_type": "stream",
     "text": [
      "\r",
      "OMP Test Batch for noise_level = 0.04:  41%|████      | 82/200 [2:13:14<1:21:18, 41.34s/it]"
     ]
    },
    {
     "name": "stderr",
     "output_type": "stream",
     "text": [
      "\r",
      "OMP Test Batch for noise_level = 0.07:  40%|███▉      | 79/200 [2:13:13<1:24:41, 42.00s/it]"
     ]
    },
    {
     "name": "stderr",
     "output_type": "stream",
     "text": [
      "\r",
      "OMP Test Batch for noise_level = 0.18:  40%|████      | 81/200 [2:13:08<1:22:28, 41.59s/it]"
     ]
    },
    {
     "name": "stderr",
     "output_type": "stream",
     "text": [
      "\r",
      "OMP Test Batch for noise_level = 0.09:  45%|████▌     | 90/200 [2:13:15<1:17:29, 42.27s/it]"
     ]
    },
    {
     "name": "stderr",
     "output_type": "stream",
     "text": [
      "\r",
      "OMP Test Batch for noise_level = 0.08:  40%|████      | 80/200 [2:13:18<1:22:01, 41.01s/it]"
     ]
    },
    {
     "name": "stderr",
     "output_type": "stream",
     "text": [
      "\r",
      "OMP Test Batch for noise_level = 0.16:  47%|████▋     | 94/200 [2:13:17<1:08:05, 38.54s/it]\r",
      "OMP Test Batch for noise_level = 0.02:  44%|████▍     | 89/200 [2:13:27<1:19:57, 43.22s/it]"
     ]
    },
    {
     "name": "stderr",
     "output_type": "stream",
     "text": [
      "\r",
      "OMP Test Batch for noise_level = 0.20:  44%|████▎     | 87/200 [2:13:19<1:27:15, 46.33s/it]"
     ]
    },
    {
     "name": "stderr",
     "output_type": "stream",
     "text": [
      "\r",
      "OMP Test Batch for noise_level = 0.10:  41%|████      | 82/200 [2:13:31<1:21:34, 41.48s/it]\r",
      "OMP Test Batch for noise_level = 0.14:  42%|████▏     | 84/200 [2:13:28<1:13:52, 38.21s/it]"
     ]
    },
    {
     "name": "stderr",
     "output_type": "stream",
     "text": [
      "\r",
      "OMP Test Batch for noise_level = 0.01:  42%|████▏     | 83/200 [2:13:39<1:17:30, 39.75s/it]\r",
      "OMP Test Batch for noise_level = 0.00:  44%|████▎     | 87/200 [2:13:40<1:18:37, 41.74s/it]"
     ]
    },
    {
     "name": "stderr",
     "output_type": "stream",
     "text": [
      "\r",
      "OMP Test Batch for noise_level = 0.12:  40%|████      | 81/200 [2:13:34<1:18:08, 39.40s/it]"
     ]
    },
    {
     "name": "stderr",
     "output_type": "stream",
     "text": [
      "\r",
      "OMP Test Batch for noise_level = 0.03:  40%|████      | 81/200 [2:13:42<1:16:36, 38.62s/it]"
     ]
    },
    {
     "name": "stderr",
     "output_type": "stream",
     "text": [
      "\r",
      "OMP Test Batch for noise_level = 0.05:  44%|████▍     | 88/200 [2:13:41<1:07:34, 36.20s/it]"
     ]
    },
    {
     "name": "stderr",
     "output_type": "stream",
     "text": [
      "\r",
      "OMP Test Batch for noise_level = 0.04:  42%|████▏     | 83/200 [2:13:44<1:13:59, 37.95s/it]"
     ]
    },
    {
     "name": "stderr",
     "output_type": "stream",
     "text": [
      "\r",
      "OMP Test Batch for noise_level = 0.18:  41%|████      | 82/200 [2:13:36<1:13:42, 37.47s/it]"
     ]
    },
    {
     "name": "stderr",
     "output_type": "stream",
     "text": [
      "\r",
      "OMP Test Batch for noise_level = 0.07:  40%|████      | 80/200 [2:13:43<1:17:04, 38.53s/it]\r",
      "OMP Test Batch for noise_level = 0.06:  43%|████▎     | 86/200 [2:13:44<1:13:48, 38.84s/it]"
     ]
    },
    {
     "name": "stderr",
     "output_type": "stream",
     "text": [
      "\r",
      "OMP Test Batch for noise_level = 0.08:  40%|████      | 81/200 [2:13:49<1:15:09, 37.89s/it]"
     ]
    },
    {
     "name": "stderr",
     "output_type": "stream",
     "text": [
      "\r",
      "OMP Test Batch for noise_level = 0.16:  48%|████▊     | 95/200 [2:13:50<1:04:29, 36.85s/it]"
     ]
    },
    {
     "name": "stderr",
     "output_type": "stream",
     "text": [
      "\r",
      "OMP Test Batch for noise_level = 0.09:  46%|████▌     | 91/200 [2:13:58<1:17:15, 42.52s/it]"
     ]
    },
    {
     "name": "stderr",
     "output_type": "stream",
     "text": [
      "\r",
      "OMP Test Batch for noise_level = 0.14:  42%|████▎     | 85/200 [2:13:56<1:07:22, 35.15s/it]\r",
      "OMP Test Batch for noise_level = 0.10:  42%|████▏     | 83/200 [2:13:59<1:13:05, 37.48s/it]"
     ]
    },
    {
     "name": "stderr",
     "output_type": "stream",
     "text": [
      "\r",
      "OMP Test Batch for noise_level = 0.00:  44%|████▍     | 88/200 [2:14:10<1:11:32, 38.32s/it]"
     ]
    },
    {
     "name": "stderr",
     "output_type": "stream",
     "text": [
      "\r",
      "OMP Test Batch for noise_level = 0.03:  41%|████      | 82/200 [2:14:13<1:11:04, 36.14s/it]\r",
      "OMP Test Batch for noise_level = 0.04:  42%|████▏     | 84/200 [2:14:12<1:07:30, 34.92s/it]"
     ]
    },
    {
     "name": "stderr",
     "output_type": "stream",
     "text": [
      "\r",
      "OMP Test Batch for noise_level = 0.18:  42%|████▏     | 83/200 [2:14:04<1:07:28, 34.60s/it]\r",
      "OMP Test Batch for noise_level = 0.02:  45%|████▌     | 90/200 [2:14:14<1:21:25, 44.42s/it]"
     ]
    },
    {
     "name": "stderr",
     "output_type": "stream",
     "text": [
      "\r",
      "OMP Test Batch for noise_level = 0.05:  44%|████▍     | 89/200 [2:14:15<1:05:21, 35.33s/it]"
     ]
    },
    {
     "name": "stderr",
     "output_type": "stream",
     "text": [
      "\r",
      "OMP Test Batch for noise_level = 0.07:  40%|████      | 81/200 [2:14:14<1:11:50, 36.22s/it]"
     ]
    },
    {
     "name": "stderr",
     "output_type": "stream",
     "text": [
      "\r",
      "OMP Test Batch for noise_level = 0.20:  44%|████▍     | 88/200 [2:14:07<1:27:34, 46.92s/it]"
     ]
    },
    {
     "name": "stderr",
     "output_type": "stream",
     "text": [
      "\r",
      "OMP Test Batch for noise_level = 0.12:  41%|████      | 82/200 [2:14:13<1:17:25, 39.37s/it]"
     ]
    },
    {
     "name": "stderr",
     "output_type": "stream",
     "text": [
      "\r",
      "OMP Test Batch for noise_level = 0.06:  44%|████▎     | 87/200 [2:14:18<1:10:04, 37.21s/it]"
     ]
    },
    {
     "name": "stderr",
     "output_type": "stream",
     "text": [
      "\r",
      "OMP Test Batch for noise_level = 0.01:  42%|████▏     | 84/200 [2:14:22<1:18:49, 40.77s/it]"
     ]
    },
    {
     "name": "stderr",
     "output_type": "stream",
     "text": [
      "\r",
      "OMP Test Batch for noise_level = 0.08:  41%|████      | 82/200 [2:14:19<1:10:01, 35.61s/it]"
     ]
    },
    {
     "name": "stderr",
     "output_type": "stream",
     "text": [
      "\r",
      "OMP Test Batch for noise_level = 0.14:  43%|████▎     | 86/200 [2:14:23<1:02:01, 32.65s/it]"
     ]
    },
    {
     "name": "stderr",
     "output_type": "stream",
     "text": [
      "\r",
      "OMP Test Batch for noise_level = 0.16:  48%|████▊     | 96/200 [2:14:24<1:02:29, 36.05s/it]"
     ]
    },
    {
     "name": "stderr",
     "output_type": "stream",
     "text": [
      "\r",
      "OMP Test Batch for noise_level = 0.10:  42%|████▏     | 84/200 [2:14:28<1:07:57, 35.15s/it]"
     ]
    },
    {
     "name": "stderr",
     "output_type": "stream",
     "text": [
      "\r",
      "OMP Test Batch for noise_level = 0.03:  42%|████▏     | 83/200 [2:14:40<1:05:10, 33.42s/it]\r",
      "OMP Test Batch for noise_level = 0.04:  42%|████▎     | 85/200 [2:14:39<1:02:24, 32.56s/it]"
     ]
    },
    {
     "name": "stderr",
     "output_type": "stream",
     "text": [
      "\r",
      "OMP Test Batch for noise_level = 0.09:  46%|████▌     | 92/200 [2:14:36<1:14:19, 41.29s/it]"
     ]
    },
    {
     "name": "stderr",
     "output_type": "stream",
     "text": [
      "\r",
      "OMP Test Batch for noise_level = 0.00:  44%|████▍     | 89/200 [2:14:45<1:09:07, 37.36s/it]"
     ]
    },
    {
     "name": "stderr",
     "output_type": "stream",
     "text": [
      "\r",
      "OMP Test Batch for noise_level = 0.18:  42%|████▏     | 84/200 [2:14:34<1:04:13, 33.22s/it]"
     ]
    },
    {
     "name": "stderr",
     "output_type": "stream",
     "text": [
      "\r",
      "OMP Test Batch for noise_level = 0.07:  41%|████      | 82/200 [2:14:44<1:07:27, 34.30s/it]"
     ]
    },
    {
     "name": "stderr",
     "output_type": "stream",
     "text": [
      "\r",
      "OMP Test Batch for noise_level = 0.02:  46%|████▌     | 91/200 [2:14:51<1:16:32, 42.13s/it]"
     ]
    },
    {
     "name": "stderr",
     "output_type": "stream",
     "text": [
      "\r",
      "OMP Test Batch for noise_level = 0.06:  44%|████▍     | 88/200 [2:14:49<1:06:23, 35.57s/it]"
     ]
    },
    {
     "name": "stderr",
     "output_type": "stream",
     "text": [
      "\r",
      "OMP Test Batch for noise_level = 0.08:  42%|████▏     | 83/200 [2:14:49<1:06:09, 33.92s/it]"
     ]
    },
    {
     "name": "stderr",
     "output_type": "stream",
     "text": [
      "\r",
      "OMP Test Batch for noise_level = 0.12:  42%|████▏     | 83/200 [2:14:53<1:16:57, 39.47s/it]"
     ]
    },
    {
     "name": "stderr",
     "output_type": "stream",
     "text": [
      "\r",
      "OMP Test Batch for noise_level = 0.01:  42%|████▎     | 85/200 [2:15:02<1:17:31, 40.45s/it]"
     ]
    },
    {
     "name": "stderr",
     "output_type": "stream",
     "text": [
      "\r",
      "OMP Test Batch for noise_level = 0.05:  45%|████▌     | 90/200 [2:14:59<1:09:46, 38.06s/it]"
     ]
    },
    {
     "name": "stderr",
     "output_type": "stream",
     "text": [
      "\r",
      "OMP Test Batch for noise_level = 0.14:  44%|████▎     | 87/200 [2:14:53<59:58, 31.85s/it]  "
     ]
    },
    {
     "name": "stderr",
     "output_type": "stream",
     "text": [
      "\r",
      "OMP Test Batch for noise_level = 0.10:  42%|████▎     | 85/200 [2:14:56<1:02:57, 32.84s/it]"
     ]
    },
    {
     "name": "stderr",
     "output_type": "stream",
     "text": [
      "\r",
      "OMP Test Batch for noise_level = 0.16:  48%|████▊     | 97/200 [2:14:56<59:43, 34.79s/it]  "
     ]
    },
    {
     "name": "stderr",
     "output_type": "stream",
     "text": [
      "\r",
      "OMP Test Batch for noise_level = 0.20:  44%|████▍     | 89/200 [2:14:57<1:28:32, 47.86s/it]"
     ]
    },
    {
     "name": "stderr",
     "output_type": "stream",
     "text": [
      "\r",
      "OMP Test Batch for noise_level = 0.04:  43%|████▎     | 86/200 [2:15:08<1:00:07, 31.64s/it]"
     ]
    },
    {
     "name": "stderr",
     "output_type": "stream",
     "text": [
      "\r",
      "OMP Test Batch for noise_level = 0.09:  46%|████▋     | 93/200 [2:15:05<1:06:58, 37.56s/it]"
     ]
    },
    {
     "name": "stderr",
     "output_type": "stream",
     "text": [
      "\r",
      "OMP Test Batch for noise_level = 0.03:  42%|████▏     | 84/200 [2:15:13<1:04:37, 33.43s/it]"
     ]
    },
    {
     "name": "stderr",
     "output_type": "stream",
     "text": [
      "\r",
      "OMP Test Batch for noise_level = 0.18:  42%|████▎     | 85/200 [2:15:07<1:03:39, 33.21s/it]\r",
      "OMP Test Batch for noise_level = 0.07:  42%|████▏     | 83/200 [2:15:13<1:04:02, 32.84s/it]"
     ]
    },
    {
     "name": "stderr",
     "output_type": "stream",
     "text": [
      "\r",
      "OMP Test Batch for noise_level = 0.00:  45%|████▌     | 90/200 [2:15:21<1:07:16, 36.69s/it]"
     ]
    },
    {
     "name": "stderr",
     "output_type": "stream",
     "text": [
      "\r",
      "OMP Test Batch for noise_level = 0.06:  44%|████▍     | 89/200 [2:15:22<1:03:59, 34.59s/it]"
     ]
    },
    {
     "name": "stderr",
     "output_type": "stream",
     "text": [
      "\r",
      "OMP Test Batch for noise_level = 0.02:  46%|████▌     | 92/200 [2:15:26<1:11:51, 39.92s/it]"
     ]
    },
    {
     "name": "stderr",
     "output_type": "stream",
     "text": [
      "\r",
      "OMP Test Batch for noise_level = 0.08:  42%|████▏     | 84/200 [2:15:21<1:04:15, 33.24s/it]"
     ]
    },
    {
     "name": "stderr",
     "output_type": "stream",
     "text": [
      "\r",
      "OMP Test Batch for noise_level = 0.12:  42%|████▏     | 84/200 [2:15:22<1:10:13, 36.32s/it]"
     ]
    },
    {
     "name": "stderr",
     "output_type": "stream",
     "text": [
      "\r",
      "OMP Test Batch for noise_level = 0.01:  43%|████▎     | 86/200 [2:15:31<1:10:26, 37.08s/it]"
     ]
    },
    {
     "name": "stderr",
     "output_type": "stream",
     "text": [
      "\r",
      "OMP Test Batch for noise_level = 0.10:  43%|████▎     | 86/200 [2:15:25<1:00:09, 31.66s/it]"
     ]
    },
    {
     "name": "stderr",
     "output_type": "stream",
     "text": [
      "\r",
      "OMP Test Batch for noise_level = 0.14:  44%|████▍     | 88/200 [2:15:23<58:19, 31.25s/it]"
     ]
    },
    {
     "name": "stderr",
     "output_type": "stream",
     "text": [
      "\r",
      "OMP Test Batch for noise_level = 0.05:  46%|████▌     | 91/200 [2:15:36<1:08:50, 37.89s/it]"
     ]
    },
    {
     "name": "stderr",
     "output_type": "stream",
     "text": [
      "\r",
      "OMP Test Batch for noise_level = 0.04:  44%|████▎     | 87/200 [2:15:37<58:08, 30.87s/it]  "
     ]
    },
    {
     "name": "stderr",
     "output_type": "stream",
     "text": [
      "\r",
      "OMP Test Batch for noise_level = 0.16:  49%|████▉     | 98/200 [2:15:31<59:09, 34.80s/it]"
     ]
    },
    {
     "name": "stderr",
     "output_type": "stream",
     "text": [
      "\r",
      "OMP Test Batch for noise_level = 0.09:  47%|████▋     | 94/200 [2:15:38<1:03:48, 36.12s/it]"
     ]
    },
    {
     "name": "stderr",
     "output_type": "stream",
     "text": [
      "\r",
      "OMP Test Batch for noise_level = 0.07:  42%|████▏     | 84/200 [2:15:43<1:01:33, 31.84s/it]"
     ]
    },
    {
     "name": "stderr",
     "output_type": "stream",
     "text": [
      "\r",
      "OMP Test Batch for noise_level = 0.20:  45%|████▌     | 90/200 [2:15:37<1:22:53, 45.21s/it]"
     ]
    },
    {
     "name": "stderr",
     "output_type": "stream",
     "text": [
      "\r",
      "OMP Test Batch for noise_level = 0.08:  42%|████▎     | 85/200 [2:15:48<1:00:06, 31.36s/it]"
     ]
    },
    {
     "name": "stderr",
     "output_type": "stream",
     "text": [
      "\r",
      "OMP Test Batch for noise_level = 0.00:  46%|████▌     | 91/200 [2:15:55<1:05:37, 36.13s/it]"
     ]
    },
    {
     "name": "stderr",
     "output_type": "stream",
     "text": [
      "\r",
      "OMP Test Batch for noise_level = 0.03:  42%|████▎     | 85/200 [2:15:54<1:08:27, 35.72s/it]"
     ]
    },
    {
     "name": "stderr",
     "output_type": "stream",
     "text": [
      "\r",
      "OMP Test Batch for noise_level = 0.12:  42%|████▎     | 85/200 [2:15:48<1:04:04, 33.43s/it]"
     ]
    },
    {
     "name": "stderr",
     "output_type": "stream",
     "text": [
      "\r",
      "OMP Test Batch for noise_level = 0.01:  44%|████▎     | 87/200 [2:15:58<1:03:52, 33.91s/it]"
     ]
    },
    {
     "name": "stderr",
     "output_type": "stream",
     "text": [
      "\r",
      "OMP Test Batch for noise_level = 0.18:  43%|████▎     | 86/200 [2:15:47<1:07:03, 35.29s/it]"
     ]
    },
    {
     "name": "stderr",
     "output_type": "stream",
     "text": [
      "\r",
      "OMP Test Batch for noise_level = 0.06:  45%|████▌     | 90/200 [2:15:57<1:03:51, 34.83s/it]"
     ]
    },
    {
     "name": "stderr",
     "output_type": "stream",
     "text": [
      "\r",
      "OMP Test Batch for noise_level = 0.02:  46%|████▋     | 93/200 [2:16:01<1:08:35, 38.46s/it]\r",
      "OMP Test Batch for noise_level = 0.10:  44%|████▎     | 87/200 [2:15:54<58:20, 30.98s/it]  "
     ]
    },
    {
     "name": "stderr",
     "output_type": "stream",
     "text": [
      "\r",
      "OMP Test Batch for noise_level = 0.14:  44%|████▍     | 89/200 [2:15:52<56:42, 30.65s/it]"
     ]
    },
    {
     "name": "stderr",
     "output_type": "stream",
     "text": [
      "\r",
      "OMP Test Batch for noise_level = 0.04:  44%|████▍     | 88/200 [2:16:07<56:36, 30.32s/it]"
     ]
    },
    {
     "name": "stderr",
     "output_type": "stream",
     "text": [
      "\r",
      "OMP Test Batch for noise_level = 0.05:  46%|████▌     | 92/200 [2:16:12<1:06:43, 37.07s/it]"
     ]
    },
    {
     "name": "stderr",
     "output_type": "stream",
     "text": [
      "\r",
      "OMP Test Batch for noise_level = 0.16:  50%|████▉     | 99/200 [2:16:06<58:48, 34.93s/it]"
     ]
    },
    {
     "name": "stderr",
     "output_type": "stream",
     "text": [
      "\r",
      "OMP Test Batch for noise_level = 0.09:  48%|████▊     | 95/200 [2:16:14<1:02:58, 35.98s/it]"
     ]
    },
    {
     "name": "stderr",
     "output_type": "stream",
     "text": [
      "\r",
      "OMP Test Batch for noise_level = 0.08:  43%|████▎     | 86/200 [2:16:17<58:06, 30.58s/it]  \r",
      "OMP Test Batch for noise_level = 0.12:  43%|████▎     | 86/200 [2:16:14<59:13, 31.17s/it]  "
     ]
    },
    {
     "name": "stderr",
     "output_type": "stream",
     "text": [
      "\r",
      "OMP Test Batch for noise_level = 0.20:  46%|████▌     | 91/200 [2:16:12<1:16:47, 42.27s/it]"
     ]
    },
    {
     "name": "stderr",
     "output_type": "stream",
     "text": [
      "\r",
      "OMP Test Batch for noise_level = 0.03:  43%|████▎     | 86/200 [2:16:23<1:03:42, 33.54s/it]"
     ]
    },
    {
     "name": "stderr",
     "output_type": "stream",
     "text": [
      "\r",
      "OMP Test Batch for noise_level = 0.01:  44%|████▍     | 88/200 [2:16:26<1:00:29, 32.40s/it]"
     ]
    },
    {
     "name": "stderr",
     "output_type": "stream",
     "text": [
      "\r",
      "OMP Test Batch for noise_level = 0.07:  42%|████▎     | 85/200 [2:16:22<1:05:01, 33.93s/it]"
     ]
    },
    {
     "name": "stderr",
     "output_type": "stream",
     "text": [
      "\r",
      "OMP Test Batch for noise_level = 0.18:  44%|████▎     | 87/200 [2:16:16<1:02:56, 33.42s/it]"
     ]
    },
    {
     "name": "stderr",
     "output_type": "stream",
     "text": [
      "\r",
      "OMP Test Batch for noise_level = 0.00:  46%|████▌     | 92/200 [2:16:31<1:04:29, 35.83s/it]"
     ]
    },
    {
     "name": "stderr",
     "output_type": "stream",
     "text": [
      "\r",
      "OMP Test Batch for noise_level = 0.10:  44%|████▍     | 88/200 [2:16:23<56:27, 30.25s/it]"
     ]
    },
    {
     "name": "stderr",
     "output_type": "stream",
     "text": [
      "\r",
      "OMP Test Batch for noise_level = 0.14:  45%|████▌     | 90/200 [2:16:21<55:02, 30.03s/it]"
     ]
    },
    {
     "name": "stderr",
     "output_type": "stream",
     "text": [
      "\r",
      "OMP Test Batch for noise_level = 0.02:  47%|████▋     | 94/200 [2:16:36<1:06:15, 37.51s/it]"
     ]
    },
    {
     "name": "stderr",
     "output_type": "stream",
     "text": [
      "\r",
      "OMP Test Batch for noise_level = 0.04:  44%|████▍     | 89/200 [2:16:35<55:14, 29.86s/it]"
     ]
    },
    {
     "name": "stderr",
     "output_type": "stream",
     "text": [
      "\r",
      "OMP Test Batch for noise_level = 0.05:  46%|████▋     | 93/200 [2:16:41<1:01:47, 34.65s/it]"
     ]
    },
    {
     "name": "stderr",
     "output_type": "stream",
     "text": [
      "\r",
      "OMP Test Batch for noise_level = 0.12:  44%|████▎     | 87/200 [2:16:41<56:07, 29.80s/it]"
     ]
    },
    {
     "name": "stderr",
     "output_type": "stream",
     "text": [
      "\r",
      "OMP Test Batch for noise_level = 0.06:  46%|████▌     | 91/200 [2:16:47<1:11:43, 39.48s/it]"
     ]
    },
    {
     "name": "stderr",
     "output_type": "stream",
     "text": [
      "\r",
      "OMP Test Batch for noise_level = 0.08:  44%|████▎     | 87/200 [2:16:46<56:42, 30.11s/it]"
     ]
    },
    {
     "name": "stderr",
     "output_type": "stream",
     "text": [
      "\r",
      "OMP Test Batch for noise_level = 0.16:  50%|█████     | 100/200 [2:16:41<58:21, 35.01s/it]"
     ]
    },
    {
     "name": "stderr",
     "output_type": "stream",
     "text": [
      "\r",
      "OMP Test Batch for noise_level = 0.03:  44%|████▎     | 87/200 [2:16:52<1:00:36, 32.18s/it]"
     ]
    },
    {
     "name": "stderr",
     "output_type": "stream",
     "text": [
      "\r",
      "OMP Test Batch for noise_level = 0.09:  48%|████▊     | 96/200 [2:16:49<1:01:53, 35.71s/it]\r",
      "OMP Test Batch for noise_level = 0.01:  44%|████▍     | 89/200 [2:16:56<58:10, 31.44s/it]  "
     ]
    },
    {
     "name": "stderr",
     "output_type": "stream",
     "text": [
      "\r",
      "OMP Test Batch for noise_level = 0.14:  46%|████▌     | 91/200 [2:16:47<52:30, 28.90s/it]\r",
      "OMP Test Batch for noise_level = 0.18:  44%|████▍     | 88/200 [2:16:46<1:00:21, 32.33s/it]"
     ]
    },
    {
     "name": "stderr",
     "output_type": "stream",
     "text": [
      "\r",
      "OMP Test Batch for noise_level = 0.20:  46%|████▌     | 92/200 [2:16:47<1:12:20, 40.19s/it]\r",
      "OMP Test Batch for noise_level = 0.10:  44%|████▍     | 89/200 [2:16:52<55:13, 29.85s/it]"
     ]
    },
    {
     "name": "stderr",
     "output_type": "stream",
     "text": [
      "\r",
      "OMP Test Batch for noise_level = 0.07:  43%|████▎     | 86/200 [2:16:58<1:05:45, 34.61s/it]"
     ]
    },
    {
     "name": "stderr",
     "output_type": "stream",
     "text": [
      "\r",
      "OMP Test Batch for noise_level = 0.04:  45%|████▌     | 90/200 [2:17:04<54:03, 29.49s/it]"
     ]
    },
    {
     "name": "stderr",
     "output_type": "stream",
     "text": [
      "\r",
      "OMP Test Batch for noise_level = 0.02:  48%|████▊     | 95/200 [2:17:08<1:02:38, 35.80s/it]"
     ]
    },
    {
     "name": "stderr",
     "output_type": "stream",
     "text": [
      "\r",
      "OMP Test Batch for noise_level = 0.05:  47%|████▋     | 94/200 [2:17:12<59:43, 33.81s/it]  "
     ]
    },
    {
     "name": "stderr",
     "output_type": "stream",
     "text": [
      "\r",
      "OMP Test Batch for noise_level = 0.00:  46%|████▋     | 93/200 [2:17:17<1:09:48, 39.14s/it]"
     ]
    },
    {
     "name": "stderr",
     "output_type": "stream",
     "text": [
      "\r",
      "OMP Test Batch for noise_level = 0.12:  44%|████▍     | 88/200 [2:17:09<55:00, 29.47s/it]"
     ]
    },
    {
     "name": "stderr",
     "output_type": "stream",
     "text": [
      "\r",
      "OMP Test Batch for noise_level = 0.03:  44%|████▍     | 88/200 [2:17:18<56:37, 30.33s/it]  "
     ]
    },
    {
     "name": "stderr",
     "output_type": "stream",
     "text": [
      "\r",
      "OMP Test Batch for noise_level = 0.08:  44%|████▍     | 88/200 [2:17:15<55:35, 29.78s/it]"
     ]
    },
    {
     "name": "stderr",
     "output_type": "stream",
     "text": [
      "\r",
      "OMP Test Batch for noise_level = 0.01:  45%|████▌     | 90/200 [2:17:24<56:03, 30.57s/it]"
     ]
    },
    {
     "name": "stderr",
     "output_type": "stream",
     "text": [
      "\r",
      "OMP Test Batch for noise_level = 0.10:  45%|████▌     | 90/200 [2:17:18<52:43, 28.76s/it]\r",
      "OMP Test Batch for noise_level = 0.14:  46%|████▌     | 92/200 [2:17:16<51:50, 28.80s/it]"
     ]
    },
    {
     "name": "stderr",
     "output_type": "stream",
     "text": [
      "\r",
      "OMP Test Batch for noise_level = 0.16:  50%|█████     | 101/200 [2:17:16<57:31, 34.87s/it]"
     ]
    },
    {
     "name": "stderr",
     "output_type": "stream",
     "text": [
      "\r",
      "OMP Test Batch for noise_level = 0.09:  48%|████▊     | 97/200 [2:17:20<59:08, 34.45s/it]  "
     ]
    },
    {
     "name": "stderr",
     "output_type": "stream",
     "text": [
      "\r",
      "OMP Test Batch for noise_level = 0.07:  44%|████▎     | 87/200 [2:17:25<1:00:49, 32.30s/it]"
     ]
    },
    {
     "name": "stderr",
     "output_type": "stream",
     "text": [
      "\r",
      "OMP Test Batch for noise_level = 0.04:  46%|████▌     | 91/200 [2:17:33<53:31, 29.47s/it]"
     ]
    },
    {
     "name": "stderr",
     "output_type": "stream",
     "text": [
      "\r",
      "OMP Test Batch for noise_level = 0.06:  46%|████▌     | 92/200 [2:17:33<1:14:08, 41.19s/it]"
     ]
    },
    {
     "name": "stderr",
     "output_type": "stream",
     "text": [
      "\r",
      "OMP Test Batch for noise_level = 0.18:  44%|████▍     | 89/200 [2:17:28<1:04:49, 35.04s/it]"
     ]
    },
    {
     "name": "stderr",
     "output_type": "stream",
     "text": [
      "\r",
      "OMP Test Batch for noise_level = 0.20:  46%|████▋     | 93/200 [2:17:29<1:12:34, 40.69s/it]"
     ]
    },
    {
     "name": "stderr",
     "output_type": "stream",
     "text": [
      "\r",
      "OMP Test Batch for noise_level = 0.02:  48%|████▊     | 96/200 [2:17:42<1:01:21, 35.40s/it]"
     ]
    },
    {
     "name": "stderr",
     "output_type": "stream",
     "text": [
      "\r",
      "OMP Test Batch for noise_level = 0.12:  44%|████▍     | 89/200 [2:17:36<53:02, 28.67s/it]"
     ]
    },
    {
     "name": "stderr",
     "output_type": "stream",
     "text": [
      "\r",
      "OMP Test Batch for noise_level = 0.03:  44%|████▍     | 89/200 [2:17:47<55:21, 29.92s/it]"
     ]
    },
    {
     "name": "stderr",
     "output_type": "stream",
     "text": [
      "\r",
      "OMP Test Batch for noise_level = 0.08:  44%|████▍     | 89/200 [2:17:44<54:41, 29.56s/it]"
     ]
    },
    {
     "name": "stderr",
     "output_type": "stream",
     "text": [
      "\r",
      "OMP Test Batch for noise_level = 0.05:  48%|████▊     | 95/200 [2:17:48<59:50, 34.20s/it]\r",
      "OMP Test Batch for noise_level = 0.01:  46%|████▌     | 91/200 [2:17:51<53:25, 29.41s/it]"
     ]
    },
    {
     "name": "stderr",
     "output_type": "stream",
     "text": [
      "\r",
      "OMP Test Batch for noise_level = 0.00:  47%|████▋     | 94/200 [2:17:52<1:06:52, 37.86s/it]"
     ]
    },
    {
     "name": "stderr",
     "output_type": "stream",
     "text": [
      "\r",
      "OMP Test Batch for noise_level = 0.10:  46%|████▌     | 91/200 [2:17:47<52:20, 28.81s/it]\r",
      "OMP Test Batch for noise_level = 0.14:  46%|████▋     | 93/200 [2:17:45<51:23, 28.82s/it]"
     ]
    },
    {
     "name": "stderr",
     "output_type": "stream",
     "text": [
      "\r",
      "OMP Test Batch for noise_level = 0.07:  44%|████▍     | 88/200 [2:17:54<58:25, 31.30s/it]  "
     ]
    },
    {
     "name": "stderr",
     "output_type": "stream",
     "text": [
      "\r",
      "OMP Test Batch for noise_level = 0.16:  51%|█████     | 102/200 [2:17:48<55:47, 34.16s/it]"
     ]
    },
    {
     "name": "stderr",
     "output_type": "stream",
     "text": [
      "\r",
      "OMP Test Batch for noise_level = 0.09:  49%|████▉     | 98/200 [2:17:56<59:12, 34.83s/it]"
     ]
    },
    {
     "name": "stderr",
     "output_type": "stream",
     "text": [
      "\r",
      "OMP Test Batch for noise_level = 0.04:  46%|████▌     | 92/200 [2:18:02<52:48, 29.34s/it]"
     ]
    },
    {
     "name": "stderr",
     "output_type": "stream",
     "text": [
      "\r",
      "OMP Test Batch for noise_level = 0.06:  46%|████▋     | 93/200 [2:18:10<1:11:17, 39.98s/it]"
     ]
    },
    {
     "name": "stderr",
     "output_type": "stream",
     "text": [
      "\r",
      "OMP Test Batch for noise_level = 0.12:  45%|████▌     | 90/200 [2:18:05<52:51, 28.83s/it]"
     ]
    },
    {
     "name": "stderr",
     "output_type": "stream",
     "text": [
      "\r",
      "OMP Test Batch for noise_level = 0.02:  48%|████▊     | 97/200 [2:18:16<59:35, 34.72s/it]  "
     ]
    },
    {
     "name": "stderr",
     "output_type": "stream",
     "text": [
      "\r",
      "OMP Test Batch for noise_level = 0.20:  47%|████▋     | 94/200 [2:18:05<1:09:12, 39.17s/it]\r",
      "OMP Test Batch for noise_level = 0.18:  45%|████▌     | 90/200 [2:18:06<1:05:58, 35.98s/it]"
     ]
    },
    {
     "name": "stderr",
     "output_type": "stream",
     "text": [
      "\r",
      "OMP Test Batch for noise_level = 0.03:  45%|████▌     | 90/200 [2:18:16<54:26, 29.69s/it]"
     ]
    },
    {
     "name": "stderr",
     "output_type": "stream",
     "text": [
      "\r",
      "OMP Test Batch for noise_level = 0.08:  45%|████▌     | 90/200 [2:18:13<54:06, 29.51s/it]"
     ]
    },
    {
     "name": "stderr",
     "output_type": "stream",
     "text": [
      "\r",
      "OMP Test Batch for noise_level = 0.01:  46%|████▌     | 92/200 [2:18:20<52:44, 29.30s/it]"
     ]
    },
    {
     "name": "stderr",
     "output_type": "stream",
     "text": [
      "\r",
      "OMP Test Batch for noise_level = 0.10:  46%|████▌     | 92/200 [2:18:16<51:59, 28.88s/it]"
     ]
    },
    {
     "name": "stderr",
     "output_type": "stream",
     "text": [
      "\r",
      "OMP Test Batch for noise_level = 0.14:  47%|████▋     | 94/200 [2:18:14<51:10, 28.97s/it]"
     ]
    },
    {
     "name": "stderr",
     "output_type": "stream",
     "text": [
      "\r",
      "OMP Test Batch for noise_level = 0.05:  48%|████▊     | 96/200 [2:18:24<1:00:19, 34.80s/it]\r",
      "OMP Test Batch for noise_level = 0.00:  48%|████▊     | 95/200 [2:18:28<1:05:09, 37.23s/it]"
     ]
    },
    {
     "name": "stderr",
     "output_type": "stream",
     "text": [
      "\r",
      "OMP Test Batch for noise_level = 0.07:  44%|████▍     | 89/200 [2:18:23<56:48, 30.70s/it]"
     ]
    },
    {
     "name": "stderr",
     "output_type": "stream",
     "text": [
      "\r",
      "OMP Test Batch for noise_level = 0.04:  46%|████▋     | 93/200 [2:18:32<52:20, 29.35s/it]"
     ]
    },
    {
     "name": "stderr",
     "output_type": "stream",
     "text": [
      "\r",
      "OMP Test Batch for noise_level = 0.16:  52%|█████▏    | 103/200 [2:18:24<56:04, 34.68s/it]"
     ]
    },
    {
     "name": "stderr",
     "output_type": "stream",
     "text": [
      "\r",
      "OMP Test Batch for noise_level = 0.09:  50%|████▉     | 99/200 [2:18:32<59:11, 35.17s/it]"
     ]
    },
    {
     "name": "stderr",
     "output_type": "stream",
     "text": [
      "\r",
      "OMP Test Batch for noise_level = 0.12:  46%|████▌     | 91/200 [2:18:35<52:38, 28.98s/it]"
     ]
    },
    {
     "name": "stderr",
     "output_type": "stream",
     "text": [
      "\r",
      "OMP Test Batch for noise_level = 0.03:  46%|████▌     | 91/200 [2:18:46<53:52, 29.66s/it]"
     ]
    },
    {
     "name": "stderr",
     "output_type": "stream",
     "text": [
      "\r",
      "OMP Test Batch for noise_level = 0.14:  48%|████▊     | 95/200 [2:18:38<48:14, 27.56s/it]"
     ]
    },
    {
     "name": "stderr",
     "output_type": "stream",
     "text": [
      "\r",
      "OMP Test Batch for noise_level = 0.08:  46%|████▌     | 91/200 [2:18:43<53:39, 29.54s/it]"
     ]
    },
    {
     "name": "stderr",
     "output_type": "stream",
     "text": [
      "\r",
      "OMP Test Batch for noise_level = 0.01:  46%|████▋     | 93/200 [2:18:49<52:18, 29.33s/it]"
     ]
    },
    {
     "name": "stderr",
     "output_type": "stream",
     "text": [
      "\r",
      "OMP Test Batch for noise_level = 0.06:  47%|████▋     | 94/200 [2:18:46<1:08:32, 38.80s/it]"
     ]
    },
    {
     "name": "stderr",
     "output_type": "stream",
     "text": [
      "\r",
      "OMP Test Batch for noise_level = 0.02:  49%|████▉     | 98/200 [2:18:51<59:26, 34.96s/it]"
     ]
    },
    {
     "name": "stderr",
     "output_type": "stream",
     "text": [
      "\r",
      "OMP Test Batch for noise_level = 0.20:  48%|████▊     | 95/200 [2:18:40<1:06:39, 38.09s/it]"
     ]
    },
    {
     "name": "stderr",
     "output_type": "stream",
     "text": [
      "\r",
      "OMP Test Batch for noise_level = 0.10:  46%|████▋     | 93/200 [2:18:45<51:46, 29.04s/it]"
     ]
    },
    {
     "name": "stderr",
     "output_type": "stream",
     "text": [
      "\r",
      "OMP Test Batch for noise_level = 0.07:  45%|████▌     | 90/200 [2:18:50<54:21, 29.65s/it]"
     ]
    },
    {
     "name": "stderr",
     "output_type": "stream",
     "text": [
      "\r",
      "OMP Test Batch for noise_level = 0.18:  46%|████▌     | 91/200 [2:18:48<1:08:43, 37.83s/it]"
     ]
    },
    {
     "name": "stderr",
     "output_type": "stream",
     "text": [
      "\r",
      "OMP Test Batch for noise_level = 0.05:  48%|████▊     | 97/200 [2:18:56<58:22, 34.01s/it]  "
     ]
    },
    {
     "name": "stderr",
     "output_type": "stream",
     "text": [
      "\r",
      "OMP Test Batch for noise_level = 0.00:  48%|████▊     | 96/200 [2:19:03<1:03:19, 36.54s/it]"
     ]
    },
    {
     "name": "stderr",
     "output_type": "stream",
     "text": [
      "\r",
      "OMP Test Batch for noise_level = 0.04:  47%|████▋     | 94/200 [2:19:01<51:54, 29.38s/it]"
     ]
    },
    {
     "name": "stderr",
     "output_type": "stream",
     "text": [
      "\r",
      "OMP Test Batch for noise_level = 0.16:  52%|█████▏    | 104/200 [2:18:59<55:30, 34.69s/it]"
     ]
    },
    {
     "name": "stderr",
     "output_type": "stream",
     "text": [
      "\r",
      "OMP Test Batch for noise_level = 0.12:  46%|████▌     | 92/200 [2:19:04<52:30, 29.17s/it]"
     ]
    },
    {
     "name": "stderr",
     "output_type": "stream",
     "text": [
      "\r",
      "OMP Test Batch for noise_level = 0.14:  48%|████▊     | 96/200 [2:19:05<47:20, 27.31s/it]"
     ]
    },
    {
     "name": "stderr",
     "output_type": "stream",
     "text": [
      "\r",
      "OMP Test Batch for noise_level = 0.03:  46%|████▌     | 92/200 [2:19:15<53:17, 29.60s/it]"
     ]
    },
    {
     "name": "stderr",
     "output_type": "stream",
     "text": [
      "\r",
      "OMP Test Batch for noise_level = 0.08:  46%|████▌     | 92/200 [2:19:12<53:12, 29.56s/it]"
     ]
    },
    {
     "name": "stderr",
     "output_type": "stream",
     "text": [
      "\r",
      "OMP Test Batch for noise_level = 0.01:  47%|████▋     | 94/200 [2:19:19<51:52, 29.37s/it]"
     ]
    },
    {
     "name": "stderr",
     "output_type": "stream",
     "text": [
      "\r",
      "OMP Test Batch for noise_level = 0.07:  46%|████▌     | 91/200 [2:19:15<51:04, 28.12s/it]"
     ]
    },
    {
     "name": "stderr",
     "output_type": "stream",
     "text": [
      "\r",
      "OMP Test Batch for noise_level = 0.06:  48%|████▊     | 95/200 [2:19:17<1:04:00, 36.58s/it]"
     ]
    },
    {
     "name": "stderr",
     "output_type": "stream",
     "text": [
      "\r",
      "OMP Test Batch for noise_level = 0.10:  47%|████▋     | 94/200 [2:19:14<51:23, 29.09s/it]"
     ]
    },
    {
     "name": "stderr",
     "output_type": "stream",
     "text": [
      "\r",
      "OMP Test Batch for noise_level = 0.09:  50%|█████     | 100/200 [2:19:17<1:03:47, 38.28s/it]"
     ]
    },
    {
     "name": "stderr",
     "output_type": "stream",
     "text": [
      "\r",
      "OMP Test Batch for noise_level = 0.02:  50%|████▉     | 99/200 [2:19:25<58:26, 34.72s/it]"
     ]
    },
    {
     "name": "stderr",
     "output_type": "stream",
     "text": [
      "\r",
      "OMP Test Batch for noise_level = 0.20:  48%|████▊     | 96/200 [2:19:15<1:04:02, 36.95s/it]"
     ]
    },
    {
     "name": "stderr",
     "output_type": "stream",
     "text": [
      "\r",
      "OMP Test Batch for noise_level = 0.04:  48%|████▊     | 95/200 [2:19:30<51:17, 29.31s/it]"
     ]
    },
    {
     "name": "stderr",
     "output_type": "stream",
     "text": [
      "\r",
      "OMP Test Batch for noise_level = 0.05:  49%|████▉     | 98/200 [2:19:30<57:57, 34.10s/it]"
     ]
    },
    {
     "name": "stderr",
     "output_type": "stream",
     "text": [
      "\r",
      "OMP Test Batch for noise_level = 0.00:  48%|████▊     | 97/200 [2:19:38<1:01:46, 35.99s/it]"
     ]
    },
    {
     "name": "stderr",
     "output_type": "stream",
     "text": [
      "\r",
      "OMP Test Batch for noise_level = 0.18:  46%|████▌     | 92/200 [2:19:26<1:08:25, 38.01s/it]"
     ]
    },
    {
     "name": "stderr",
     "output_type": "stream",
     "text": [
      "\r",
      "OMP Test Batch for noise_level = 0.14:  48%|████▊     | 97/200 [2:19:31<46:20, 26.99s/it]"
     ]
    },
    {
     "name": "stderr",
     "output_type": "stream",
     "text": [
      "\r",
      "OMP Test Batch for noise_level = 0.16:  52%|█████▎    | 105/200 [2:19:31<53:40, 33.90s/it]"
     ]
    },
    {
     "name": "stderr",
     "output_type": "stream",
     "text": [
      "\r",
      "OMP Test Batch for noise_level = 0.12:  46%|████▋     | 93/200 [2:19:33<51:56, 29.12s/it]"
     ]
    },
    {
     "name": "stderr",
     "output_type": "stream",
     "text": [
      "\r",
      "OMP Test Batch for noise_level = 0.03:  46%|████▋     | 93/200 [2:19:44<52:18, 29.33s/it]"
     ]
    },
    {
     "name": "stderr",
     "output_type": "stream",
     "text": [
      "\r",
      "OMP Test Batch for noise_level = 0.01:  48%|████▊     | 95/200 [2:19:47<51:04, 29.19s/it]"
     ]
    },
    {
     "name": "stderr",
     "output_type": "stream",
     "text": [
      "\r",
      "OMP Test Batch for noise_level = 0.07:  46%|████▌     | 92/200 [2:19:43<50:54, 28.28s/it]"
     ]
    },
    {
     "name": "stderr",
     "output_type": "stream",
     "text": [
      "\r",
      "OMP Test Batch for noise_level = 0.10:  48%|████▊     | 95/200 [2:19:43<50:32, 28.88s/it]"
     ]
    },
    {
     "name": "stderr",
     "output_type": "stream",
     "text": [
      "\r",
      "OMP Test Batch for noise_level = 0.06:  48%|████▊     | 96/200 [2:19:53<1:02:53, 36.29s/it]"
     ]
    },
    {
     "name": "stderr",
     "output_type": "stream",
     "text": [
      "\r",
      "OMP Test Batch for noise_level = 0.08:  46%|████▋     | 93/200 [2:19:53<58:33, 32.84s/it]"
     ]
    },
    {
     "name": "stderr",
     "output_type": "stream",
     "text": [
      "\r",
      "OMP Test Batch for noise_level = 0.04:  48%|████▊     | 96/200 [2:19:59<50:15, 29.00s/it]\r",
      "OMP Test Batch for noise_level = 0.02:  50%|█████     | 100/200 [2:20:00<58:03, 34.84s/it]"
     ]
    },
    {
     "name": "stderr",
     "output_type": "stream",
     "text": [
      "\r",
      "OMP Test Batch for noise_level = 0.20:  48%|████▊     | 97/200 [2:19:50<1:02:38, 36.49s/it]"
     ]
    },
    {
     "name": "stderr",
     "output_type": "stream",
     "text": [
      "\r",
      "OMP Test Batch for noise_level = 0.05:  50%|████▉     | 99/200 [2:20:03<56:38, 33.65s/it]"
     ]
    },
    {
     "name": "stderr",
     "output_type": "stream",
     "text": [
      "\r",
      "OMP Test Batch for noise_level = 0.00:  49%|████▉     | 98/200 [2:20:10<59:34, 35.04s/it]  \r",
      "OMP Test Batch for noise_level = 0.14:  49%|████▉     | 98/200 [2:20:00<46:43, 27.48s/it]"
     ]
    },
    {
     "name": "stderr",
     "output_type": "stream",
     "text": [
      "\r",
      "OMP Test Batch for noise_level = 0.12:  47%|████▋     | 94/200 [2:20:02<51:05, 28.92s/it]\r",
      "OMP Test Batch for noise_level = 0.09:  50%|█████     | 101/200 [2:20:04<1:07:08, 40.69s/it]"
     ]
    },
    {
     "name": "stderr",
     "output_type": "stream",
     "text": [
      "\r",
      "OMP Test Batch for noise_level = 0.16:  53%|█████▎    | 106/200 [2:20:01<51:09, 32.65s/it]"
     ]
    },
    {
     "name": "stderr",
     "output_type": "stream",
     "text": [
      "\r",
      "OMP Test Batch for noise_level = 0.03:  47%|████▋     | 94/200 [2:20:13<51:31, 29.17s/it]"
     ]
    },
    {
     "name": "stderr",
     "output_type": "stream",
     "text": [
      "\r",
      "OMP Test Batch for noise_level = 0.07:  46%|████▋     | 93/200 [2:20:10<49:34, 27.80s/it]"
     ]
    },
    {
     "name": "stderr",
     "output_type": "stream",
     "text": [
      "\r",
      "OMP Test Batch for noise_level = 0.01:  48%|████▊     | 96/200 [2:20:16<50:18, 29.02s/it]"
     ]
    },
    {
     "name": "stderr",
     "output_type": "stream",
     "text": [
      "\r",
      "OMP Test Batch for noise_level = 0.18:  46%|████▋     | 93/200 [2:20:07<1:09:19, 38.88s/it]"
     ]
    },
    {
     "name": "stderr",
     "output_type": "stream",
     "text": [
      "\r",
      "OMP Test Batch for noise_level = 0.10:  48%|████▊     | 96/200 [2:20:12<50:00, 28.85s/it]"
     ]
    },
    {
     "name": "stderr",
     "output_type": "stream",
     "text": [
      "\r",
      "OMP Test Batch for noise_level = 0.08:  47%|████▋     | 94/200 [2:20:23<56:27, 31.96s/it]"
     ]
    },
    {
     "name": "stderr",
     "output_type": "stream",
     "text": [
      "\r",
      "OMP Test Batch for noise_level = 0.04:  48%|████▊     | 97/200 [2:20:28<49:43, 28.97s/it]"
     ]
    },
    {
     "name": "stderr",
     "output_type": "stream",
     "text": [
      "\r",
      "OMP Test Batch for noise_level = 0.06:  48%|████▊     | 97/200 [2:20:31<1:03:12, 36.82s/it]"
     ]
    },
    {
     "name": "stderr",
     "output_type": "stream",
     "text": [
      "\r",
      "OMP Test Batch for noise_level = 0.02:  50%|█████     | 101/200 [2:20:36<57:45, 35.01s/it]"
     ]
    },
    {
     "name": "stderr",
     "output_type": "stream",
     "text": [
      "\r",
      "OMP Test Batch for noise_level = 0.20:  49%|████▉     | 98/200 [2:20:26<1:01:49, 36.37s/it]"
     ]
    },
    {
     "name": "stderr",
     "output_type": "stream",
     "text": [
      "\r",
      "OMP Test Batch for noise_level = 0.05:  50%|█████     | 100/200 [2:20:35<55:24, 33.25s/it]"
     ]
    },
    {
     "name": "stderr",
     "output_type": "stream",
     "text": [
      "\r",
      "OMP Test Batch for noise_level = 0.14:  50%|████▉     | 99/200 [2:20:29<47:00, 27.92s/it]"
     ]
    },
    {
     "name": "stderr",
     "output_type": "stream",
     "text": [
      "\r",
      "OMP Test Batch for noise_level = 0.12:  48%|████▊     | 95/200 [2:20:31<50:47, 29.02s/it]"
     ]
    },
    {
     "name": "stderr",
     "output_type": "stream",
     "text": [
      "\r",
      "OMP Test Batch for noise_level = 0.09:  51%|█████     | 102/200 [2:20:36<1:02:23, 38.20s/it]\r",
      "OMP Test Batch for noise_level = 0.03:  48%|████▊     | 95/200 [2:20:41<50:56, 29.11s/it]"
     ]
    },
    {
     "name": "stderr",
     "output_type": "stream",
     "text": [
      "\r",
      "OMP Test Batch for noise_level = 0.07:  47%|████▋     | 94/200 [2:20:39<49:53, 28.24s/it]"
     ]
    },
    {
     "name": "stderr",
     "output_type": "stream",
     "text": [
      "\r",
      "OMP Test Batch for noise_level = 0.00:  50%|████▉     | 99/200 [2:20:46<59:12, 35.17s/it]"
     ]
    },
    {
     "name": "stderr",
     "output_type": "stream",
     "text": [
      "\r",
      "OMP Test Batch for noise_level = 0.01:  48%|████▊     | 97/200 [2:20:45<49:56, 29.09s/it]"
     ]
    },
    {
     "name": "stderr",
     "output_type": "stream",
     "text": [
      "\r",
      "OMP Test Batch for noise_level = 0.16:  54%|█████▎    | 107/200 [2:20:36<51:47, 33.41s/it]"
     ]
    },
    {
     "name": "stderr",
     "output_type": "stream",
     "text": [
      "\r",
      "OMP Test Batch for noise_level = 0.18:  47%|████▋     | 94/200 [2:20:36<1:03:26, 35.91s/it]"
     ]
    },
    {
     "name": "stderr",
     "output_type": "stream",
     "text": [
      "\r",
      "OMP Test Batch for noise_level = 0.10:  48%|████▊     | 97/200 [2:20:41<49:31, 28.85s/it]"
     ]
    },
    {
     "name": "stderr",
     "output_type": "stream",
     "text": [
      "\r",
      "OMP Test Batch for noise_level = 0.04:  49%|████▉     | 98/200 [2:20:56<49:07, 28.90s/it]"
     ]
    },
    {
     "name": "stderr",
     "output_type": "stream",
     "text": [
      "\r",
      "OMP Test Batch for noise_level = 0.14:  50%|█████     | 100/200 [2:20:55<45:49, 27.50s/it]"
     ]
    },
    {
     "name": "stderr",
     "output_type": "stream",
     "text": [
      "\r",
      "OMP Test Batch for noise_level = 0.12:  48%|████▊     | 96/200 [2:20:58<49:08, 28.36s/it]"
     ]
    },
    {
     "name": "stderr",
     "output_type": "stream",
     "text": [
      "\r",
      "OMP Test Batch for noise_level = 0.08:  48%|████▊     | 95/200 [2:21:04<1:00:48, 34.75s/it]"
     ]
    },
    {
     "name": "stderr",
     "output_type": "stream",
     "text": [
      "\r",
      "OMP Test Batch for noise_level = 0.05:  50%|█████     | 101/200 [2:21:08<54:37, 33.10s/it]\r",
      "OMP Test Batch for noise_level = 0.06:  49%|████▉     | 98/200 [2:21:07<1:02:24, 36.71s/it]"
     ]
    },
    {
     "name": "stderr",
     "output_type": "stream",
     "text": [
      "\r",
      "OMP Test Batch for noise_level = 0.03:  48%|████▊     | 96/200 [2:21:10<50:22, 29.07s/it]"
     ]
    },
    {
     "name": "stderr",
     "output_type": "stream",
     "text": [
      "\r",
      "OMP Test Batch for noise_level = 0.02:  51%|█████     | 102/200 [2:21:12<57:44, 35.35s/it]"
     ]
    },
    {
     "name": "stderr",
     "output_type": "stream",
     "text": [
      "\r",
      "OMP Test Batch for noise_level = 0.07:  48%|████▊     | 95/200 [2:21:08<49:51, 28.49s/it]"
     ]
    },
    {
     "name": "stderr",
     "output_type": "stream",
     "text": [
      "\r",
      "OMP Test Batch for noise_level = 0.18:  48%|████▊     | 95/200 [2:21:03<57:58, 33.13s/it]  "
     ]
    },
    {
     "name": "stderr",
     "output_type": "stream",
     "text": [
      "\r",
      "OMP Test Batch for noise_level = 0.01:  49%|████▉     | 98/200 [2:21:14<49:22, 29.04s/it]"
     ]
    },
    {
     "name": "stderr",
     "output_type": "stream",
     "text": [
      "\r",
      "OMP Test Batch for noise_level = 0.20:  50%|████▉     | 99/200 [2:21:04<1:02:06, 36.89s/it]"
     ]
    },
    {
     "name": "stderr",
     "output_type": "stream",
     "text": [
      "\r",
      "OMP Test Batch for noise_level = 0.10:  49%|████▉     | 98/200 [2:21:09<49:03, 28.86s/it]"
     ]
    },
    {
     "name": "stderr",
     "output_type": "stream",
     "text": [
      "\r",
      "OMP Test Batch for noise_level = 0.09:  52%|█████▏    | 103/200 [2:21:11<1:00:03, 37.15s/it]"
     ]
    },
    {
     "name": "stderr",
     "output_type": "stream",
     "text": [
      "\r",
      "OMP Test Batch for noise_level = 0.00:  50%|█████     | 100/200 [2:21:19<57:35, 34.56s/it]"
     ]
    },
    {
     "name": "stderr",
     "output_type": "stream",
     "text": [
      "\r",
      "OMP Test Batch for noise_level = 0.16:  54%|█████▍    | 108/200 [2:21:12<52:32, 34.26s/it]"
     ]
    },
    {
     "name": "stderr",
     "output_type": "stream",
     "text": [
      "\r",
      "OMP Test Batch for noise_level = 0.04:  50%|████▉     | 99/200 [2:21:22<47:14, 28.06s/it]"
     ]
    },
    {
     "name": "stderr",
     "output_type": "stream",
     "text": [
      "\r",
      "OMP Test Batch for noise_level = 0.12:  48%|████▊     | 97/200 [2:21:24<47:41, 27.78s/it]"
     ]
    },
    {
     "name": "stderr",
     "output_type": "stream",
     "text": [
      "\r",
      "OMP Test Batch for noise_level = 0.14:  50%|█████     | 101/200 [2:21:25<46:24, 28.13s/it]"
     ]
    },
    {
     "name": "stderr",
     "output_type": "stream",
     "text": [
      "\r",
      "OMP Test Batch for noise_level = 0.03:  48%|████▊     | 97/200 [2:21:40<49:54, 29.08s/it]"
     ]
    },
    {
     "name": "stderr",
     "output_type": "stream",
     "text": [
      "\r",
      "OMP Test Batch for noise_level = 0.07:  48%|████▊     | 96/200 [2:21:38<49:43, 28.69s/it]\r",
      "OMP Test Batch for noise_level = 0.18:  48%|████▊     | 96/200 [2:21:32<55:15, 31.88s/it]"
     ]
    },
    {
     "name": "stderr",
     "output_type": "stream",
     "text": [
      "\r",
      "OMP Test Batch for noise_level = 0.01:  50%|████▉     | 99/200 [2:21:43<48:48, 29.00s/it]"
     ]
    },
    {
     "name": "stderr",
     "output_type": "stream",
     "text": [
      "\r",
      "OMP Test Batch for noise_level = 0.06:  50%|████▉     | 99/200 [2:21:41<1:00:08, 35.73s/it]"
     ]
    },
    {
     "name": "stderr",
     "output_type": "stream",
     "text": [
      "\r",
      "OMP Test Batch for noise_level = 0.10:  50%|████▉     | 99/200 [2:21:38<48:35, 28.87s/it]"
     ]
    },
    {
     "name": "stderr",
     "output_type": "stream",
     "text": [
      "\r",
      "OMP Test Batch for noise_level = 0.05:  51%|█████     | 102/200 [2:21:44<55:31, 33.99s/it]"
     ]
    },
    {
     "name": "stderr",
     "output_type": "stream",
     "text": [
      "\r",
      "OMP Test Batch for noise_level = 0.02:  52%|█████▏    | 103/200 [2:21:48<57:27, 35.54s/it]"
     ]
    },
    {
     "name": "stderr",
     "output_type": "stream",
     "text": [
      "\r",
      "OMP Test Batch for noise_level = 0.09:  52%|█████▏    | 104/200 [2:21:44<57:22, 35.86s/it]  "
     ]
    },
    {
     "name": "stderr",
     "output_type": "stream",
     "text": [
      "\r",
      "OMP Test Batch for noise_level = 0.08:  48%|████▊     | 96/200 [2:21:45<1:03:29, 36.63s/it]"
     ]
    },
    {
     "name": "stderr",
     "output_type": "stream",
     "text": [
      "\r",
      "OMP Test Batch for noise_level = 0.20:  50%|█████     | 100/200 [2:21:41<1:01:13, 36.74s/it]"
     ]
    },
    {
     "name": "stderr",
     "output_type": "stream",
     "text": [
      "\r",
      "OMP Test Batch for noise_level = 0.04:  50%|█████     | 100/200 [2:21:51<46:59, 28.19s/it]"
     ]
    },
    {
     "name": "stderr",
     "output_type": "stream",
     "text": [
      "\r",
      "OMP Test Batch for noise_level = 0.00:  50%|█████     | 101/200 [2:21:56<58:04, 35.20s/it]"
     ]
    },
    {
     "name": "stderr",
     "output_type": "stream",
     "text": [
      "\r",
      "OMP Test Batch for noise_level = 0.16:  55%|█████▍    | 109/200 [2:21:49<52:53, 34.88s/it]"
     ]
    },
    {
     "name": "stderr",
     "output_type": "stream",
     "text": [
      "\r",
      "OMP Test Batch for noise_level = 0.12:  49%|████▉     | 98/200 [2:21:53<47:54, 28.18s/it]"
     ]
    },
    {
     "name": "stderr",
     "output_type": "stream",
     "text": [
      "\r",
      "OMP Test Batch for noise_level = 0.14:  51%|█████     | 102/200 [2:21:54<46:17, 28.34s/it]"
     ]
    },
    {
     "name": "stderr",
     "output_type": "stream",
     "text": [
      "\r",
      "OMP Test Batch for noise_level = 0.03:  49%|████▉     | 98/200 [2:22:08<49:20, 29.02s/it]"
     ]
    },
    {
     "name": "stderr",
     "output_type": "stream",
     "text": [
      "\r",
      "OMP Test Batch for noise_level = 0.07:  48%|████▊     | 97/200 [2:22:07<49:24, 28.78s/it]"
     ]
    },
    {
     "name": "stderr",
     "output_type": "stream",
     "text": [
      "\r",
      "OMP Test Batch for noise_level = 0.18:  48%|████▊     | 97/200 [2:22:01<53:17, 31.05s/it]"
     ]
    },
    {
     "name": "stderr",
     "output_type": "stream",
     "text": [
      "\r",
      "OMP Test Batch for noise_level = 0.01:  50%|█████     | 100/200 [2:22:12<48:21, 29.01s/it]"
     ]
    },
    {
     "name": "stderr",
     "output_type": "stream",
     "text": [
      "\r",
      "OMP Test Batch for noise_level = 0.10:  50%|█████     | 100/200 [2:22:07<48:15, 28.96s/it]"
     ]
    },
    {
     "name": "stderr",
     "output_type": "stream",
     "text": [
      "\r",
      "OMP Test Batch for noise_level = 0.06:  50%|█████     | 100/200 [2:22:17<59:45, 35.85s/it] "
     ]
    },
    {
     "name": "stderr",
     "output_type": "stream",
     "text": [
      "\r",
      "OMP Test Batch for noise_level = 0.04:  50%|█████     | 101/200 [2:22:20<46:47, 28.36s/it]"
     ]
    },
    {
     "name": "stderr",
     "output_type": "stream",
     "text": [
      "\r",
      "OMP Test Batch for noise_level = 0.05:  52%|█████▏    | 103/200 [2:22:19<55:38, 34.42s/it]"
     ]
    },
    {
     "name": "stderr",
     "output_type": "stream",
     "text": [
      "\r",
      "OMP Test Batch for noise_level = 0.02:  52%|█████▏    | 104/200 [2:22:24<57:02, 35.65s/it]"
     ]
    },
    {
     "name": "stderr",
     "output_type": "stream",
     "text": [
      "\r",
      "OMP Test Batch for noise_level = 0.09:  52%|█████▎    | 105/200 [2:22:19<56:42, 35.82s/it]"
     ]
    },
    {
     "name": "stderr",
     "output_type": "stream",
     "text": [
      "\r",
      "OMP Test Batch for noise_level = 0.12:  50%|████▉     | 99/200 [2:22:20<46:34, 27.67s/it]"
     ]
    },
    {
     "name": "stderr",
     "output_type": "stream",
     "text": [
      "\r",
      "OMP Test Batch for noise_level = 0.20:  50%|█████     | 101/200 [2:22:17<1:00:25, 36.62s/it]"
     ]
    },
    {
     "name": "stderr",
     "output_type": "stream",
     "text": [
      "\r",
      "OMP Test Batch for noise_level = 0.14:  52%|█████▏    | 103/200 [2:22:20<44:54, 27.78s/it]"
     ]
    },
    {
     "name": "stderr",
     "output_type": "stream",
     "text": [
      "\r",
      "OMP Test Batch for noise_level = 0.00:  51%|█████     | 102/200 [2:22:32<58:01, 35.52s/it]"
     ]
    },
    {
     "name": "stderr",
     "output_type": "stream",
     "text": [
      "\r",
      "OMP Test Batch for noise_level = 0.08:  48%|████▊     | 97/200 [2:22:26<1:05:12, 37.98s/it]"
     ]
    },
    {
     "name": "stderr",
     "output_type": "stream",
     "text": [
      "\r",
      "OMP Test Batch for noise_level = 0.16:  55%|█████▌    | 110/200 [2:22:25<52:53, 35.26s/it]"
     ]
    },
    {
     "name": "stderr",
     "output_type": "stream",
     "text": [
      "\r",
      "OMP Test Batch for noise_level = 0.03:  50%|████▉     | 99/200 [2:22:37<48:50, 29.01s/it]"
     ]
    },
    {
     "name": "stderr",
     "output_type": "stream",
     "text": [
      "\r",
      "OMP Test Batch for noise_level = 0.07:  49%|████▉     | 98/200 [2:22:36<49:08, 28.90s/it]\r",
      "OMP Test Batch for noise_level = 0.18:  49%|████▉     | 98/200 [2:22:30<51:42, 30.41s/it]"
     ]
    },
    {
     "name": "stderr",
     "output_type": "stream",
     "text": [
      "\r",
      "OMP Test Batch for noise_level = 0.01:  50%|█████     | 101/200 [2:22:41<47:51, 29.00s/it]"
     ]
    },
    {
     "name": "stderr",
     "output_type": "stream",
     "text": [
      "\r",
      "OMP Test Batch for noise_level = 0.10:  50%|█████     | 101/200 [2:22:36<47:44, 28.94s/it]"
     ]
    },
    {
     "name": "stderr",
     "output_type": "stream",
     "text": [
      "\r",
      "OMP Test Batch for noise_level = 0.04:  51%|█████     | 102/200 [2:22:46<45:14, 27.70s/it]"
     ]
    },
    {
     "name": "stderr",
     "output_type": "stream",
     "text": [
      "\r",
      "OMP Test Batch for noise_level = 0.06:  50%|█████     | 101/200 [2:22:53<59:08, 35.84s/it]"
     ]
    },
    {
     "name": "stderr",
     "output_type": "stream",
     "text": [
      "\r",
      "OMP Test Batch for noise_level = 0.05:  52%|█████▏    | 104/200 [2:22:54<55:23, 34.62s/it]\r",
      "OMP Test Batch for noise_level = 0.12:  50%|█████     | 100/200 [2:22:49<46:55, 28.15s/it]"
     ]
    },
    {
     "name": "stderr",
     "output_type": "stream",
     "text": [
      "\r",
      "OMP Test Batch for noise_level = 0.09:  53%|█████▎    | 106/200 [2:22:51<54:13, 34.62s/it]"
     ]
    },
    {
     "name": "stderr",
     "output_type": "stream",
     "text": [
      "\r",
      "OMP Test Batch for noise_level = 0.14:  52%|█████▏    | 104/200 [2:22:49<45:11, 28.25s/it]"
     ]
    },
    {
     "name": "stderr",
     "output_type": "stream",
     "text": [
      "\r",
      "OMP Test Batch for noise_level = 0.02:  52%|█████▎    | 105/200 [2:22:59<56:11, 35.49s/it]"
     ]
    },
    {
     "name": "stderr",
     "output_type": "stream",
     "text": [
      "\r",
      "OMP Test Batch for noise_level = 0.20:  51%|█████     | 102/200 [2:22:49<57:35, 35.26s/it]  "
     ]
    },
    {
     "name": "stderr",
     "output_type": "stream",
     "text": [
      "\r",
      "OMP Test Batch for noise_level = 0.08:  49%|████▉     | 98/200 [2:23:01<1:02:57, 37.03s/it]"
     ]
    },
    {
     "name": "stderr",
     "output_type": "stream",
     "text": [
      "\r",
      "OMP Test Batch for noise_level = 0.07:  50%|████▉     | 99/200 [2:23:03<47:48, 28.40s/it]"
     ]
    },
    {
     "name": "stderr",
     "output_type": "stream",
     "text": [
      "\r",
      "OMP Test Batch for noise_level = 0.03:  50%|█████     | 100/200 [2:23:07<48:44, 29.25s/it]"
     ]
    },
    {
     "name": "stderr",
     "output_type": "stream",
     "text": [
      "\r",
      "OMP Test Batch for noise_level = 0.18:  50%|████▉     | 99/200 [2:22:59<50:40, 30.11s/it]"
     ]
    },
    {
     "name": "stderr",
     "output_type": "stream",
     "text": [
      "\r",
      "OMP Test Batch for noise_level = 0.01:  51%|█████     | 102/200 [2:23:12<48:27, 29.67s/it]\r",
      "OMP Test Batch for noise_level = 0.10:  51%|█████     | 102/200 [2:23:05<47:09, 28.87s/it]"
     ]
    },
    {
     "name": "stderr",
     "output_type": "stream",
     "text": [
      "\r",
      "OMP Test Batch for noise_level = 0.04:  52%|█████▏    | 103/200 [2:23:13<44:18, 27.41s/it]"
     ]
    },
    {
     "name": "stderr",
     "output_type": "stream",
     "text": [
      "\r",
      "OMP Test Batch for noise_level = 0.00:  52%|█████▏    | 103/200 [2:23:19<1:02:49, 38.86s/it]"
     ]
    },
    {
     "name": "stderr",
     "output_type": "stream",
     "text": [
      "\r",
      "OMP Test Batch for noise_level = 0.16:  56%|█████▌    | 111/200 [2:23:12<57:47, 38.96s/it]"
     ]
    },
    {
     "name": "stderr",
     "output_type": "stream",
     "text": [
      "\r",
      "OMP Test Batch for noise_level = 0.12:  50%|█████     | 101/200 [2:23:18<46:46, 28.35s/it]"
     ]
    },
    {
     "name": "stderr",
     "output_type": "stream",
     "text": [
      "\r",
      "OMP Test Batch for noise_level = 0.14:  52%|█████▎    | 105/200 [2:23:18<44:52, 28.34s/it]"
     ]
    },
    {
     "name": "stderr",
     "output_type": "stream",
     "text": [
      "\r",
      "OMP Test Batch for noise_level = 0.06:  51%|█████     | 102/200 [2:23:27<57:57, 35.49s/it]"
     ]
    },
    {
     "name": "stderr",
     "output_type": "stream",
     "text": [
      "\r",
      "OMP Test Batch for noise_level = 0.05:  52%|█████▎    | 105/200 [2:23:28<54:31, 34.44s/it]"
     ]
    },
    {
     "name": "stderr",
     "output_type": "stream",
     "text": [
      "\r",
      "OMP Test Batch for noise_level = 0.09:  54%|█████▎    | 107/200 [2:23:25<53:24, 34.46s/it]"
     ]
    },
    {
     "name": "stderr",
     "output_type": "stream",
     "text": [
      "\r",
      "OMP Test Batch for noise_level = 0.20:  52%|█████▏    | 103/200 [2:23:21<55:12, 34.15s/it]"
     ]
    },
    {
     "name": "stderr",
     "output_type": "stream",
     "text": [
      "\r",
      "OMP Test Batch for noise_level = 0.02:  53%|█████▎    | 106/200 [2:23:33<54:59, 35.10s/it]"
     ]
    },
    {
     "name": "stderr",
     "output_type": "stream",
     "text": [
      "\r",
      "OMP Test Batch for noise_level = 0.08:  50%|████▉     | 99/200 [2:23:30<58:13, 34.59s/it]  "
     ]
    },
    {
     "name": "stderr",
     "output_type": "stream",
     "text": [
      "\r",
      "OMP Test Batch for noise_level = 0.18:  50%|█████     | 100/200 [2:23:25<48:14, 28.94s/it]"
     ]
    },
    {
     "name": "stderr",
     "output_type": "stream",
     "text": [
      "\r",
      "OMP Test Batch for noise_level = 0.07:  50%|█████     | 100/200 [2:23:32<47:39, 28.60s/it]"
     ]
    },
    {
     "name": "stderr",
     "output_type": "stream",
     "text": [
      "\r",
      "OMP Test Batch for noise_level = 0.03:  50%|█████     | 101/200 [2:23:36<47:58, 29.08s/it]"
     ]
    },
    {
     "name": "stderr",
     "output_type": "stream",
     "text": [
      "\r",
      "OMP Test Batch for noise_level = 0.04:  52%|█████▏    | 104/200 [2:23:41<44:24, 27.76s/it]"
     ]
    },
    {
     "name": "stderr",
     "output_type": "stream",
     "text": [
      "\r",
      "OMP Test Batch for noise_level = 0.12:  51%|█████     | 102/200 [2:23:44<45:08, 27.64s/it]"
     ]
    },
    {
     "name": "stderr",
     "output_type": "stream",
     "text": [
      "\r",
      "OMP Test Batch for noise_level = 0.01:  52%|█████▏    | 103/200 [2:23:54<53:30, 33.10s/it]\r",
      "OMP Test Batch for noise_level = 0.10:  52%|█████▏    | 103/200 [2:23:46<52:34, 32.52s/it]"
     ]
    },
    {
     "name": "stderr",
     "output_type": "stream",
     "text": [
      "\r",
      "OMP Test Batch for noise_level = 0.00:  52%|█████▏    | 104/200 [2:23:58<1:02:18, 38.94s/it]"
     ]
    },
    {
     "name": "stderr",
     "output_type": "stream",
     "text": [
      "\r",
      "OMP Test Batch for noise_level = 0.16:  56%|█████▌    | 112/200 [2:23:50<56:30, 38.52s/it]"
     ]
    },
    {
     "name": "stderr",
     "output_type": "stream",
     "text": [
      "\r",
      "OMP Test Batch for noise_level = 0.14:  53%|█████▎    | 106/200 [2:23:52<46:59, 30.00s/it]"
     ]
    },
    {
     "name": "stderr",
     "output_type": "stream",
     "text": [
      "\r",
      "OMP Test Batch for noise_level = 0.18:  50%|█████     | 101/200 [2:23:52<46:27, 28.16s/it]"
     ]
    },
    {
     "name": "stderr",
     "output_type": "stream",
     "text": [
      "\r",
      "OMP Test Batch for noise_level = 0.02:  54%|█████▎    | 107/200 [2:24:02<51:40, 33.34s/it]"
     ]
    },
    {
     "name": "stderr",
     "output_type": "stream",
     "text": [
      "\r",
      "OMP Test Batch for noise_level = 0.09:  54%|█████▍    | 108/200 [2:23:57<51:45, 33.76s/it]"
     ]
    },
    {
     "name": "stderr",
     "output_type": "stream",
     "text": [
      "\r",
      "OMP Test Batch for noise_level = 0.08:  50%|█████     | 100/200 [2:23:59<54:50, 32.91s/it]"
     ]
    },
    {
     "name": "stderr",
     "output_type": "stream",
     "text": [
      "\r",
      "OMP Test Batch for noise_level = 0.07:  50%|█████     | 101/200 [2:24:01<47:18, 28.67s/it]"
     ]
    },
    {
     "name": "stderr",
     "output_type": "stream",
     "text": [
      "\r",
      "OMP Test Batch for noise_level = 0.20:  52%|█████▏    | 104/200 [2:23:55<54:46, 34.24s/it]\r",
      "OMP Test Batch for noise_level = 0.05:  53%|█████▎    | 106/200 [2:24:04<54:18, 34.67s/it]"
     ]
    },
    {
     "name": "stderr",
     "output_type": "stream",
     "text": [
      "\r",
      "OMP Test Batch for noise_level = 0.06:  52%|█████▏    | 103/200 [2:24:03<57:29, 35.56s/it]\r",
      "OMP Test Batch for noise_level = 0.03:  51%|█████     | 102/200 [2:24:06<47:48, 29.27s/it]"
     ]
    },
    {
     "name": "stderr",
     "output_type": "stream",
     "text": [
      "\r",
      "OMP Test Batch for noise_level = 0.04:  52%|█████▎    | 105/200 [2:24:10<44:17, 27.98s/it]"
     ]
    },
    {
     "name": "stderr",
     "output_type": "stream",
     "text": [
      "\r",
      "OMP Test Batch for noise_level = 0.12:  52%|█████▏    | 103/200 [2:24:11<44:08, 27.31s/it]"
     ]
    },
    {
     "name": "stderr",
     "output_type": "stream",
     "text": [
      "\r",
      "OMP Test Batch for noise_level = 0.10:  52%|█████▏    | 104/200 [2:24:13<49:12, 30.75s/it]\r",
      "OMP Test Batch for noise_level = 0.01:  52%|█████▏    | 104/200 [2:24:20<49:54, 31.19s/it]"
     ]
    },
    {
     "name": "stderr",
     "output_type": "stream",
     "text": [
      "\r",
      "OMP Test Batch for noise_level = 0.18:  51%|█████     | 102/200 [2:24:21<46:24, 28.41s/it]"
     ]
    },
    {
     "name": "stderr",
     "output_type": "stream",
     "text": [
      "\r",
      "OMP Test Batch for noise_level = 0.00:  52%|█████▎    | 105/200 [2:24:33<59:49, 37.78s/it]  "
     ]
    },
    {
     "name": "stderr",
     "output_type": "stream",
     "text": [
      "\r",
      "OMP Test Batch for noise_level = 0.08:  50%|█████     | 101/200 [2:24:28<52:40, 31.92s/it]"
     ]
    },
    {
     "name": "stderr",
     "output_type": "stream",
     "text": [
      "\r",
      "OMP Test Batch for noise_level = 0.07:  51%|█████     | 102/200 [2:24:30<47:11, 28.90s/it]"
     ]
    },
    {
     "name": "stderr",
     "output_type": "stream",
     "text": [
      "\r",
      "OMP Test Batch for noise_level = 0.16:  56%|█████▋    | 113/200 [2:24:25<54:32, 37.61s/it]"
     ]
    },
    {
     "name": "stderr",
     "output_type": "stream",
     "text": [
      "\r",
      "OMP Test Batch for noise_level = 0.03:  52%|█████▏    | 103/200 [2:24:35<47:09, 29.17s/it]"
     ]
    },
    {
     "name": "stderr",
     "output_type": "stream",
     "text": [
      "\r",
      "OMP Test Batch for noise_level = 0.02:  54%|█████▍    | 108/200 [2:24:37<51:52, 33.83s/it]"
     ]
    },
    {
     "name": "stderr",
     "output_type": "stream",
     "text": [
      "\r",
      "OMP Test Batch for noise_level = 0.04:  53%|█████▎    | 106/200 [2:24:36<43:08, 27.54s/it]"
     ]
    },
    {
     "name": "stderr",
     "output_type": "stream",
     "text": [
      "\r",
      "OMP Test Batch for noise_level = 0.06:  52%|█████▏    | 104/200 [2:24:35<55:16, 34.54s/it]\r",
      "OMP Test Batch for noise_level = 0.09:  55%|█████▍    | 109/200 [2:24:33<51:52, 34.20s/it]"
     ]
    },
    {
     "name": "stderr",
     "output_type": "stream",
     "text": [
      "\r",
      "OMP Test Batch for noise_level = 0.14:  54%|█████▎    | 107/200 [2:24:32<51:05, 32.96s/it]"
     ]
    },
    {
     "name": "stderr",
     "output_type": "stream",
     "text": [
      "\r",
      "OMP Test Batch for noise_level = 0.05:  54%|█████▎    | 107/200 [2:24:39<53:53, 34.77s/it]"
     ]
    },
    {
     "name": "stderr",
     "output_type": "stream",
     "text": [
      "\r",
      "OMP Test Batch for noise_level = 0.12:  52%|█████▏    | 104/200 [2:24:40<44:35, 27.87s/it]"
     ]
    },
    {
     "name": "stderr",
     "output_type": "stream",
     "text": [
      "\r",
      "OMP Test Batch for noise_level = 0.10:  52%|█████▎    | 105/200 [2:24:42<48:04, 30.37s/it]\r",
      "OMP Test Batch for noise_level = 0.01:  52%|█████▎    | 105/200 [2:24:50<48:37, 30.71s/it]"
     ]
    },
    {
     "name": "stderr",
     "output_type": "stream",
     "text": [
      "\r",
      "OMP Test Batch for noise_level = 0.20:  52%|█████▎    | 105/200 [2:24:40<59:19, 37.47s/it]"
     ]
    },
    {
     "name": "stderr",
     "output_type": "stream",
     "text": [
      "\r",
      "OMP Test Batch for noise_level = 0.18:  52%|█████▏    | 103/200 [2:24:48<45:33, 28.18s/it]"
     ]
    },
    {
     "name": "stderr",
     "output_type": "stream",
     "text": [
      "\r",
      "OMP Test Batch for noise_level = 0.08:  51%|█████     | 102/200 [2:24:58<51:05, 31.28s/it]"
     ]
    },
    {
     "name": "stderr",
     "output_type": "stream",
     "text": [
      "\r",
      "OMP Test Batch for noise_level = 0.07:  52%|█████▏    | 103/200 [2:25:01<47:21, 29.29s/it]\r",
      "OMP Test Batch for noise_level = 0.04:  54%|█████▎    | 107/200 [2:25:03<42:26, 27.38s/it]"
     ]
    },
    {
     "name": "stderr",
     "output_type": "stream",
     "text": [
      "\r",
      "OMP Test Batch for noise_level = 0.03:  52%|█████▏    | 104/200 [2:25:04<46:59, 29.37s/it]"
     ]
    },
    {
     "name": "stderr",
     "output_type": "stream",
     "text": [
      "\r",
      "OMP Test Batch for noise_level = 0.00:  53%|█████▎    | 106/200 [2:25:08<58:01, 37.04s/it]"
     ]
    },
    {
     "name": "stderr",
     "output_type": "stream",
     "text": [
      "\r",
      "OMP Test Batch for noise_level = 0.16:  57%|█████▋    | 114/200 [2:25:00<52:48, 36.84s/it]"
     ]
    },
    {
     "name": "stderr",
     "output_type": "stream",
     "text": [
      "\r",
      "OMP Test Batch for noise_level = 0.14:  54%|█████▍    | 108/200 [2:25:01<49:01, 31.98s/it]"
     ]
    },
    {
     "name": "stderr",
     "output_type": "stream",
     "text": [
      "\r",
      "OMP Test Batch for noise_level = 0.02:  55%|█████▍    | 109/200 [2:25:12<51:42, 34.10s/it]"
     ]
    },
    {
     "name": "stderr",
     "output_type": "stream",
     "text": [
      "\r",
      "OMP Test Batch for noise_level = 0.05:  54%|█████▍    | 108/200 [2:25:11<51:59, 33.91s/it]"
     ]
    },
    {
     "name": "stderr",
     "output_type": "stream",
     "text": [
      "\r",
      "OMP Test Batch for noise_level = 0.09:  55%|█████▌    | 110/200 [2:25:08<51:41, 34.46s/it]"
     ]
    },
    {
     "name": "stderr",
     "output_type": "stream",
     "text": [
      "\r",
      "OMP Test Batch for noise_level = 0.06:  52%|█████▎    | 105/200 [2:25:11<55:05, 34.79s/it]"
     ]
    },
    {
     "name": "stderr",
     "output_type": "stream",
     "text": [
      "\r",
      "OMP Test Batch for noise_level = 0.12:  52%|█████▎    | 105/200 [2:25:09<44:52, 28.34s/it]"
     ]
    },
    {
     "name": "stderr",
     "output_type": "stream",
     "text": [
      "\r",
      "OMP Test Batch for noise_level = 0.10:  53%|█████▎    | 106/200 [2:25:11<46:59, 29.99s/it]"
     ]
    },
    {
     "name": "stderr",
     "output_type": "stream",
     "text": [
      "\r",
      "OMP Test Batch for noise_level = 0.01:  53%|█████▎    | 106/200 [2:25:19<47:32, 30.35s/it]"
     ]
    },
    {
     "name": "stderr",
     "output_type": "stream",
     "text": [
      "\r",
      "OMP Test Batch for noise_level = 0.20:  53%|█████▎    | 106/200 [2:25:13<56:25, 36.01s/it]"
     ]
    },
    {
     "name": "stderr",
     "output_type": "stream",
     "text": [
      "\r",
      "OMP Test Batch for noise_level = 0.18:  52%|█████▏    | 104/200 [2:25:18<45:34, 28.48s/it]"
     ]
    },
    {
     "name": "stderr",
     "output_type": "stream",
     "text": [
      "\r",
      "OMP Test Batch for noise_level = 0.08:  52%|█████▏    | 103/200 [2:25:25<48:24, 29.94s/it]"
     ]
    },
    {
     "name": "stderr",
     "output_type": "stream",
     "text": [
      "\r",
      "OMP Test Batch for noise_level = 0.04:  54%|█████▍    | 108/200 [2:25:32<42:42, 27.85s/it]"
     ]
    },
    {
     "name": "stderr",
     "output_type": "stream",
     "text": [
      "\r",
      "OMP Test Batch for noise_level = 0.07:  52%|█████▏    | 104/200 [2:25:30<46:55, 29.33s/it]"
     ]
    },
    {
     "name": "stderr",
     "output_type": "stream",
     "text": [
      "\r",
      "OMP Test Batch for noise_level = 0.03:  52%|█████▎    | 105/200 [2:25:35<47:02, 29.71s/it]"
     ]
    },
    {
     "name": "stderr",
     "output_type": "stream",
     "text": [
      "\r",
      "OMP Test Batch for noise_level = 0.14:  55%|█████▍    | 109/200 [2:25:31<47:15, 31.16s/it]"
     ]
    },
    {
     "name": "stderr",
     "output_type": "stream",
     "text": [
      "\r",
      "OMP Test Batch for noise_level = 0.16:  57%|█████▊    | 115/200 [2:25:32<50:02, 35.32s/it]"
     ]
    },
    {
     "name": "stderr",
     "output_type": "stream",
     "text": [
      "\r",
      "OMP Test Batch for noise_level = 0.00:  54%|█████▎    | 107/200 [2:25:44<56:49, 36.66s/it]"
     ]
    },
    {
     "name": "stderr",
     "output_type": "stream",
     "text": [
      "\r",
      "OMP Test Batch for noise_level = 0.10:  54%|█████▎    | 107/200 [2:25:38<44:59, 29.03s/it]"
     ]
    },
    {
     "name": "stderr",
     "output_type": "stream",
     "text": [
      "\r",
      "OMP Test Batch for noise_level = 0.12:  53%|█████▎    | 106/200 [2:25:39<44:53, 28.66s/it]"
     ]
    },
    {
     "name": "stderr",
     "output_type": "stream",
     "text": [
      "\r",
      "OMP Test Batch for noise_level = 0.02:  55%|█████▌    | 110/200 [2:25:47<51:24, 34.27s/it]"
     ]
    },
    {
     "name": "stderr",
     "output_type": "stream",
     "text": [
      "\r",
      "OMP Test Batch for noise_level = 0.05:  55%|█████▍    | 109/200 [2:25:45<51:46, 34.14s/it]"
     ]
    },
    {
     "name": "stderr",
     "output_type": "stream",
     "text": [
      "\r",
      "OMP Test Batch for noise_level = 0.01:  54%|█████▎    | 107/200 [2:25:49<46:35, 30.06s/it]"
     ]
    },
    {
     "name": "stderr",
     "output_type": "stream",
     "text": [
      "\r",
      "OMP Test Batch for noise_level = 0.09:  56%|█████▌    | 111/200 [2:25:43<51:37, 34.80s/it]"
     ]
    },
    {
     "name": "stderr",
     "output_type": "stream",
     "text": [
      "\r",
      "OMP Test Batch for noise_level = 0.06:  53%|█████▎    | 106/200 [2:25:47<55:09, 35.21s/it]"
     ]
    },
    {
     "name": "stderr",
     "output_type": "stream",
     "text": [
      "\r",
      "OMP Test Batch for noise_level = 0.18:  52%|█████▎    | 105/200 [2:25:44<44:15, 27.96s/it]"
     ]
    },
    {
     "name": "stderr",
     "output_type": "stream",
     "text": [
      "\r",
      "OMP Test Batch for noise_level = 0.20:  54%|█████▎    | 107/200 [2:25:48<55:36, 35.87s/it]"
     ]
    },
    {
     "name": "stderr",
     "output_type": "stream",
     "text": [
      "\r",
      "OMP Test Batch for noise_level = 0.08:  52%|█████▏    | 104/200 [2:25:55<47:52, 29.92s/it]"
     ]
    },
    {
     "name": "stderr",
     "output_type": "stream",
     "text": [
      "\r",
      "OMP Test Batch for noise_level = 0.04:  55%|█████▍    | 109/200 [2:26:01<42:57, 28.32s/it]"
     ]
    },
    {
     "name": "stderr",
     "output_type": "stream",
     "text": [
      "\r",
      "OMP Test Batch for noise_level = 0.07:  52%|█████▎    | 105/200 [2:26:00<46:38, 29.46s/it]"
     ]
    },
    {
     "name": "stderr",
     "output_type": "stream",
     "text": [
      "\r",
      "OMP Test Batch for noise_level = 0.14:  55%|█████▌    | 110/200 [2:26:00<46:00, 30.67s/it]"
     ]
    },
    {
     "name": "stderr",
     "output_type": "stream",
     "text": [
      "\r",
      "OMP Test Batch for noise_level = 0.16:  58%|█████▊    | 116/200 [2:26:01<46:47, 33.43s/it]"
     ]
    },
    {
     "name": "stderr",
     "output_type": "stream",
     "text": [
      "\r",
      "OMP Test Batch for noise_level = 0.10:  54%|█████▍    | 108/200 [2:26:07<44:27, 29.00s/it]"
     ]
    },
    {
     "name": "stderr",
     "output_type": "stream",
     "text": [
      "\r",
      "OMP Test Batch for noise_level = 0.12:  54%|█████▎    | 107/200 [2:26:08<44:35, 28.77s/it]"
     ]
    },
    {
     "name": "stderr",
     "output_type": "stream",
     "text": [
      "\r",
      "OMP Test Batch for noise_level = 0.01:  54%|█████▍    | 108/200 [2:26:18<45:35, 29.74s/it]\r",
      "OMP Test Batch for noise_level = 0.03:  53%|█████▎    | 106/200 [2:26:16<52:03, 33.23s/it]"
     ]
    },
    {
     "name": "stderr",
     "output_type": "stream",
     "text": [
      "\r",
      "OMP Test Batch for noise_level = 0.00:  54%|█████▍    | 108/200 [2:26:20<55:56, 36.49s/it]"
     ]
    },
    {
     "name": "stderr",
     "output_type": "stream",
     "text": [
      "\r",
      "OMP Test Batch for noise_level = 0.09:  56%|█████▌    | 112/200 [2:26:16<50:07, 34.17s/it]"
     ]
    },
    {
     "name": "stderr",
     "output_type": "stream",
     "text": [
      "\r",
      "OMP Test Batch for noise_level = 0.02:  56%|█████▌    | 111/200 [2:26:23<51:32, 34.75s/it]"
     ]
    },
    {
     "name": "stderr",
     "output_type": "stream",
     "text": [
      "\r",
      "OMP Test Batch for noise_level = 0.18:  53%|█████▎    | 106/200 [2:26:13<44:04, 28.13s/it]"
     ]
    },
    {
     "name": "stderr",
     "output_type": "stream",
     "text": [
      "\r",
      "OMP Test Batch for noise_level = 0.05:  55%|█████▌    | 110/200 [2:26:21<51:57, 34.64s/it]"
     ]
    },
    {
     "name": "stderr",
     "output_type": "stream",
     "text": [
      "\r",
      "OMP Test Batch for noise_level = 0.06:  54%|█████▎    | 107/200 [2:26:23<54:55, 35.43s/it]"
     ]
    },
    {
     "name": "stderr",
     "output_type": "stream",
     "text": [
      "\r",
      "OMP Test Batch for noise_level = 0.07:  53%|█████▎    | 106/200 [2:26:23<43:23, 27.70s/it]"
     ]
    },
    {
     "name": "stderr",
     "output_type": "stream",
     "text": [
      "\r",
      "OMP Test Batch for noise_level = 0.08:  52%|█████▎    | 105/200 [2:26:24<46:51, 29.59s/it]"
     ]
    },
    {
     "name": "stderr",
     "output_type": "stream",
     "text": [
      "\r",
      "OMP Test Batch for noise_level = 0.04:  55%|█████▌    | 110/200 [2:26:28<41:32, 27.70s/it]"
     ]
    },
    {
     "name": "stderr",
     "output_type": "stream",
     "text": [
      "\r",
      "OMP Test Batch for noise_level = 0.20:  54%|█████▍    | 108/200 [2:26:25<55:22, 36.11s/it]\r",
      "OMP Test Batch for noise_level = 0.14:  56%|█████▌    | 111/200 [2:26:27<43:42, 29.47s/it]"
     ]
    },
    {
     "name": "stderr",
     "output_type": "stream",
     "text": [
      "\r",
      "OMP Test Batch for noise_level = 0.12:  54%|█████▍    | 108/200 [2:26:35<43:23, 28.30s/it]"
     ]
    },
    {
     "name": "stderr",
     "output_type": "stream",
     "text": [
      "\r",
      "OMP Test Batch for noise_level = 0.10:  55%|█████▍    | 109/200 [2:26:36<44:12, 29.15s/it]"
     ]
    },
    {
     "name": "stderr",
     "output_type": "stream",
     "text": [
      "\r",
      "OMP Test Batch for noise_level = 0.01:  55%|█████▍    | 109/200 [2:26:45<43:55, 28.96s/it]"
     ]
    },
    {
     "name": "stderr",
     "output_type": "stream",
     "text": [
      "\r",
      "OMP Test Batch for noise_level = 0.16:  58%|█████▊    | 117/200 [2:26:37<47:25, 34.28s/it]"
     ]
    },
    {
     "name": "stderr",
     "output_type": "stream",
     "text": [
      "\r",
      "OMP Test Batch for noise_level = 0.03:  54%|█████▎    | 107/200 [2:26:47<50:30, 32.59s/it]"
     ]
    },
    {
     "name": "stderr",
     "output_type": "stream",
     "text": [
      "\r",
      "OMP Test Batch for noise_level = 0.18:  54%|█████▎    | 107/200 [2:26:39<42:54, 27.68s/it]"
     ]
    },
    {
     "name": "stderr",
     "output_type": "stream",
     "text": [
      "\r",
      "OMP Test Batch for noise_level = 0.00:  55%|█████▍    | 109/200 [2:26:57<55:19, 36.48s/it]"
     ]
    },
    {
     "name": "stderr",
     "output_type": "stream",
     "text": [
      "\r",
      "OMP Test Batch for noise_level = 0.06:  54%|█████▍    | 108/200 [2:26:52<51:36, 33.66s/it]"
     ]
    },
    {
     "name": "stderr",
     "output_type": "stream",
     "text": [
      "\r",
      "OMP Test Batch for noise_level = 0.07:  54%|█████▎    | 107/200 [2:26:53<43:51, 28.29s/it]"
     ]
    },
    {
     "name": "stderr",
     "output_type": "stream",
     "text": [
      "\r",
      "OMP Test Batch for noise_level = 0.08:  53%|█████▎    | 106/200 [2:26:53<46:22, 29.60s/it]\r",
      "OMP Test Batch for noise_level = 0.02:  56%|█████▌    | 112/200 [2:26:59<51:33, 35.16s/it]"
     ]
    },
    {
     "name": "stderr",
     "output_type": "stream",
     "text": [
      "\r",
      "OMP Test Batch for noise_level = 0.09:  56%|█████▋    | 113/200 [2:26:53<50:46, 35.01s/it]"
     ]
    },
    {
     "name": "stderr",
     "output_type": "stream",
     "text": [
      "\r",
      "OMP Test Batch for noise_level = 0.05:  56%|█████▌    | 111/200 [2:26:57<51:53, 34.98s/it]"
     ]
    },
    {
     "name": "stderr",
     "output_type": "stream",
     "text": [
      "\r",
      "OMP Test Batch for noise_level = 0.04:  56%|█████▌    | 111/200 [2:27:01<43:31, 29.34s/it]\r",
      "OMP Test Batch for noise_level = 0.14:  56%|█████▌    | 112/200 [2:26:54<41:59, 28.63s/it]"
     ]
    },
    {
     "name": "stderr",
     "output_type": "stream",
     "text": [
      "\r",
      "OMP Test Batch for noise_level = 0.20:  55%|█████▍    | 109/200 [2:26:59<53:39, 35.37s/it]"
     ]
    },
    {
     "name": "stderr",
     "output_type": "stream",
     "text": [
      "\r",
      "OMP Test Batch for noise_level = 0.12:  55%|█████▍    | 109/200 [2:27:04<43:15, 28.52s/it]"
     ]
    },
    {
     "name": "stderr",
     "output_type": "stream",
     "text": [
      "\r",
      "OMP Test Batch for noise_level = 0.10:  55%|█████▌    | 110/200 [2:27:05<43:35, 29.06s/it]"
     ]
    },
    {
     "name": "stderr",
     "output_type": "stream",
     "text": [
      "\r",
      "OMP Test Batch for noise_level = 0.01:  55%|█████▌    | 110/200 [2:27:14<43:30, 29.01s/it]\r",
      "OMP Test Batch for noise_level = 0.18:  54%|█████▍    | 108/200 [2:27:03<40:33, 26.46s/it]"
     ]
    },
    {
     "name": "stderr",
     "output_type": "stream",
     "text": [
      "\r",
      "OMP Test Batch for noise_level = 0.03:  54%|█████▍    | 108/200 [2:27:16<48:11, 31.43s/it]"
     ]
    },
    {
     "name": "stderr",
     "output_type": "stream",
     "text": [
      "\r",
      "OMP Test Batch for noise_level = 0.16:  59%|█████▉    | 118/200 [2:27:13<47:35, 34.83s/it]"
     ]
    },
    {
     "name": "stderr",
     "output_type": "stream",
     "text": [
      "\r",
      "OMP Test Batch for noise_level = 0.07:  54%|█████▍    | 108/200 [2:27:22<43:41, 28.49s/it]"
     ]
    },
    {
     "name": "stderr",
     "output_type": "stream",
     "text": [
      "\r",
      "OMP Test Batch for noise_level = 0.00:  55%|█████▌    | 110/200 [2:27:29<53:02, 35.36s/it]"
     ]
    },
    {
     "name": "stderr",
     "output_type": "stream",
     "text": [
      "\r",
      "OMP Test Batch for noise_level = 0.06:  55%|█████▍    | 109/200 [2:27:25<50:48, 33.50s/it]"
     ]
    },
    {
     "name": "stderr",
     "output_type": "stream",
     "text": [
      "\r",
      "OMP Test Batch for noise_level = 0.14:  56%|█████▋    | 113/200 [2:27:23<41:42, 28.76s/it]"
     ]
    },
    {
     "name": "stderr",
     "output_type": "stream",
     "text": [
      "\r",
      "OMP Test Batch for noise_level = 0.02:  56%|█████▋    | 113/200 [2:27:35<51:17, 35.37s/it]"
     ]
    },
    {
     "name": "stderr",
     "output_type": "stream",
     "text": [
      "\r",
      "OMP Test Batch for noise_level = 0.05:  56%|█████▌    | 112/200 [2:27:33<51:43, 35.27s/it]\r",
      "OMP Test Batch for noise_level = 0.09:  57%|█████▋    | 114/200 [2:27:29<50:45, 35.42s/it]"
     ]
    },
    {
     "name": "stderr",
     "output_type": "stream",
     "text": [
      "\r",
      "OMP Test Batch for noise_level = 0.08:  54%|█████▎    | 107/200 [2:27:33<50:30, 32.58s/it]"
     ]
    },
    {
     "name": "stderr",
     "output_type": "stream",
     "text": [
      "\r",
      "OMP Test Batch for noise_level = 0.04:  56%|█████▌    | 112/200 [2:27:38<46:31, 31.73s/it]"
     ]
    },
    {
     "name": "stderr",
     "output_type": "stream",
     "text": [
      "\r",
      "OMP Test Batch for noise_level = 0.12:  55%|█████▌    | 110/200 [2:27:33<43:06, 28.73s/it]"
     ]
    },
    {
     "name": "stderr",
     "output_type": "stream",
     "text": [
      "\r",
      "OMP Test Batch for noise_level = 0.10:  56%|█████▌    | 111/200 [2:27:34<43:02, 29.02s/it]"
     ]
    },
    {
     "name": "stderr",
     "output_type": "stream",
     "text": [
      "\r",
      "OMP Test Batch for noise_level = 0.18:  55%|█████▍    | 109/200 [2:27:32<41:21, 27.27s/it]\r",
      "OMP Test Batch for noise_level = 0.01:  56%|█████▌    | 111/200 [2:27:43<43:09, 29.10s/it]"
     ]
    },
    {
     "name": "stderr",
     "output_type": "stream",
     "text": [
      "\r",
      "OMP Test Batch for noise_level = 0.20:  55%|█████▌    | 110/200 [2:27:34<53:13, 35.48s/it]"
     ]
    },
    {
     "name": "stderr",
     "output_type": "stream",
     "text": [
      "\r",
      "OMP Test Batch for noise_level = 0.03:  55%|█████▍    | 109/200 [2:27:45<46:41, 30.79s/it]"
     ]
    },
    {
     "name": "stderr",
     "output_type": "stream",
     "text": [
      "\r",
      "OMP Test Batch for noise_level = 0.16:  60%|█████▉    | 119/200 [2:27:43<44:48, 33.19s/it]\r",
      "OMP Test Batch for noise_level = 0.07:  55%|█████▍    | 109/200 [2:27:49<42:20, 27.92s/it]"
     ]
    },
    {
     "name": "stderr",
     "output_type": "stream",
     "text": [
      "\r",
      "OMP Test Batch for noise_level = 0.14:  57%|█████▋    | 114/200 [2:27:51<41:12, 28.75s/it]"
     ]
    },
    {
     "name": "stderr",
     "output_type": "stream",
     "text": [
      "\r",
      "OMP Test Batch for noise_level = 0.06:  55%|█████▌    | 110/200 [2:27:58<49:53, 33.27s/it]"
     ]
    },
    {
     "name": "stderr",
     "output_type": "stream",
     "text": [
      "\r",
      "OMP Test Batch for noise_level = 0.00:  56%|█████▌    | 111/200 [2:28:05<52:49, 35.61s/it]"
     ]
    },
    {
     "name": "stderr",
     "output_type": "stream",
     "text": [
      "\r",
      "OMP Test Batch for noise_level = 0.12:  56%|█████▌    | 111/200 [2:27:57<40:26, 27.26s/it]"
     ]
    },
    {
     "name": "stderr",
     "output_type": "stream",
     "text": [
      "\r",
      "OMP Test Batch for noise_level = 0.02:  57%|█████▋    | 114/200 [2:28:07<49:36, 34.61s/it]"
     ]
    },
    {
     "name": "stderr",
     "output_type": "stream",
     "text": [
      "\r",
      "OMP Test Batch for noise_level = 0.18:  55%|█████▌    | 110/200 [2:27:59<40:26, 26.96s/it]"
     ]
    },
    {
     "name": "stderr",
     "output_type": "stream",
     "text": [
      "\r",
      "OMP Test Batch for noise_level = 0.10:  56%|█████▌    | 112/200 [2:28:03<42:22, 28.89s/it]"
     ]
    },
    {
     "name": "stderr",
     "output_type": "stream",
     "text": [
      "\r",
      "OMP Test Batch for noise_level = 0.09:  57%|█████▊    | 115/200 [2:28:05<50:18, 35.51s/it]\r",
      "OMP Test Batch for noise_level = 0.05:  56%|█████▋    | 113/200 [2:28:09<51:24, 35.46s/it]\r",
      "OMP Test Batch for noise_level = 0.01:  56%|█████▌    | 112/200 [2:28:12<42:28, 28.96s/it]"
     ]
    },
    {
     "name": "stderr",
     "output_type": "stream",
     "text": [
      "\r",
      "OMP Test Batch for noise_level = 0.03:  55%|█████▌    | 110/200 [2:28:14<45:10, 30.12s/it]"
     ]
    },
    {
     "name": "stderr",
     "output_type": "stream",
     "text": [
      "\r",
      "OMP Test Batch for noise_level = 0.20:  56%|█████▌    | 111/200 [2:28:07<51:29, 34.72s/it]"
     ]
    },
    {
     "name": "stderr",
     "output_type": "stream",
     "text": [
      "\r",
      "OMP Test Batch for noise_level = 0.08:  54%|█████▍    | 108/200 [2:28:14<53:49, 35.11s/it]"
     ]
    },
    {
     "name": "stderr",
     "output_type": "stream",
     "text": [
      "\r",
      "OMP Test Batch for noise_level = 0.04:  56%|█████▋    | 113/200 [2:28:19<49:52, 34.39s/it]"
     ]
    },
    {
     "name": "stderr",
     "output_type": "stream",
     "text": [
      "\r",
      "OMP Test Batch for noise_level = 0.07:  55%|█████▌    | 110/200 [2:28:19<43:09, 28.78s/it]"
     ]
    },
    {
     "name": "stderr",
     "output_type": "stream",
     "text": [
      "\r",
      "OMP Test Batch for noise_level = 0.16:  60%|██████    | 120/200 [2:28:19<45:19, 33.99s/it]"
     ]
    },
    {
     "name": "stderr",
     "output_type": "stream",
     "text": [
      "\r",
      "OMP Test Batch for noise_level = 0.14:  57%|█████▊    | 115/200 [2:28:20<40:44, 28.75s/it]"
     ]
    },
    {
     "name": "stderr",
     "output_type": "stream",
     "text": [
      "\r",
      "OMP Test Batch for noise_level = 0.12:  56%|█████▌    | 112/200 [2:28:26<40:44, 27.78s/it]"
     ]
    },
    {
     "name": "stderr",
     "output_type": "stream",
     "text": [
      "\r",
      "OMP Test Batch for noise_level = 0.00:  56%|█████▌    | 112/200 [2:28:39<51:06, 34.85s/it]"
     ]
    },
    {
     "name": "stderr",
     "output_type": "stream",
     "text": [
      "\r",
      "OMP Test Batch for noise_level = 0.06:  56%|█████▌    | 111/200 [2:28:34<50:35, 34.10s/it]\r",
      "OMP Test Batch for noise_level = 0.18:  56%|█████▌    | 111/200 [2:28:27<40:50, 27.53s/it]"
     ]
    },
    {
     "name": "stderr",
     "output_type": "stream",
     "text": [
      "\r",
      "OMP Test Batch for noise_level = 0.10:  56%|█████▋    | 113/200 [2:28:32<41:56, 28.93s/it]"
     ]
    },
    {
     "name": "stderr",
     "output_type": "stream",
     "text": [
      "\r",
      "OMP Test Batch for noise_level = 0.01:  56%|█████▋    | 113/200 [2:28:41<42:08, 29.06s/it]"
     ]
    },
    {
     "name": "stderr",
     "output_type": "stream",
     "text": [
      "\r",
      "OMP Test Batch for noise_level = 0.02:  57%|█████▊    | 115/200 [2:28:43<49:31, 34.96s/it]"
     ]
    },
    {
     "name": "stderr",
     "output_type": "stream",
     "text": [
      "\r",
      "OMP Test Batch for noise_level = 0.03:  56%|█████▌    | 111/200 [2:28:43<44:17, 29.87s/it]"
     ]
    },
    {
     "name": "stderr",
     "output_type": "stream",
     "text": [
      "\r",
      "OMP Test Batch for noise_level = 0.05:  57%|█████▋    | 114/200 [2:28:44<50:44, 35.40s/it]"
     ]
    },
    {
     "name": "stderr",
     "output_type": "stream",
     "text": [
      "\r",
      "OMP Test Batch for noise_level = 0.09:  58%|█████▊    | 116/200 [2:28:42<50:18, 35.94s/it]"
     ]
    },
    {
     "name": "stderr",
     "output_type": "stream",
     "text": [
      "\r",
      "OMP Test Batch for noise_level = 0.04:  57%|█████▋    | 114/200 [2:28:48<46:56, 32.75s/it]"
     ]
    },
    {
     "name": "stderr",
     "output_type": "stream",
     "text": [
      "\r",
      "OMP Test Batch for noise_level = 0.07:  56%|█████▌    | 111/200 [2:28:47<42:02, 28.34s/it]"
     ]
    },
    {
     "name": "stderr",
     "output_type": "stream",
     "text": [
      "\r",
      "OMP Test Batch for noise_level = 0.20:  56%|█████▌    | 112/200 [2:28:40<50:05, 34.16s/it]\r",
      "OMP Test Batch for noise_level = 0.08:  55%|█████▍    | 109/200 [2:28:46<51:53, 34.22s/it]"
     ]
    },
    {
     "name": "stderr",
     "output_type": "stream",
     "text": [
      "\r",
      "OMP Test Batch for noise_level = 0.14:  58%|█████▊    | 116/200 [2:28:48<39:42, 28.36s/it]"
     ]
    },
    {
     "name": "stderr",
     "output_type": "stream",
     "text": [
      "\r",
      "OMP Test Batch for noise_level = 0.16:  60%|██████    | 121/200 [2:28:51<44:00, 33.43s/it]"
     ]
    },
    {
     "name": "stderr",
     "output_type": "stream",
     "text": [
      "\r",
      "OMP Test Batch for noise_level = 0.12:  56%|█████▋    | 113/200 [2:28:56<41:10, 28.40s/it]"
     ]
    },
    {
     "name": "stderr",
     "output_type": "stream",
     "text": [
      "\r",
      "OMP Test Batch for noise_level = 0.10:  57%|█████▋    | 114/200 [2:28:59<40:43, 28.41s/it]"
     ]
    },
    {
     "name": "stderr",
     "output_type": "stream",
     "text": [
      "\r",
      "OMP Test Batch for noise_level = 0.00:  56%|█████▋    | 113/200 [2:29:11<49:18, 34.01s/it]"
     ]
    },
    {
     "name": "stderr",
     "output_type": "stream",
     "text": [
      "\r",
      "OMP Test Batch for noise_level = 0.06:  56%|█████▌    | 112/200 [2:29:06<48:58, 33.40s/it]"
     ]
    },
    {
     "name": "stderr",
     "output_type": "stream",
     "text": [
      "\r",
      "OMP Test Batch for noise_level = 0.01:  57%|█████▋    | 114/200 [2:29:11<41:55, 29.26s/it]"
     ]
    },
    {
     "name": "stderr",
     "output_type": "stream",
     "text": [
      "\r",
      "OMP Test Batch for noise_level = 0.18:  56%|█████▌    | 112/200 [2:29:02<43:37, 29.74s/it]"
     ]
    },
    {
     "name": "stderr",
     "output_type": "stream",
     "text": [
      "\r",
      "OMP Test Batch for noise_level = 0.03:  56%|█████▌    | 112/200 [2:29:13<43:39, 29.77s/it]"
     ]
    },
    {
     "name": "stderr",
     "output_type": "stream",
     "text": [
      "\r",
      "OMP Test Batch for noise_level = 0.04:  57%|█████▊    | 115/200 [2:29:17<44:58, 31.75s/it]"
     ]
    },
    {
     "name": "stderr",
     "output_type": "stream",
     "text": [
      "\r",
      "OMP Test Batch for noise_level = 0.07:  56%|█████▌    | 112/200 [2:29:16<42:03, 28.68s/it]"
     ]
    },
    {
     "name": "stderr",
     "output_type": "stream",
     "text": [
      "\r",
      "OMP Test Batch for noise_level = 0.08:  55%|█████▌    | 110/200 [2:29:16<49:17, 32.86s/it]\r",
      "OMP Test Batch for noise_level = 0.05:  57%|█████▊    | 115/200 [2:29:19<49:50, 35.19s/it]"
     ]
    },
    {
     "name": "stderr",
     "output_type": "stream",
     "text": [
      "\r",
      "OMP Test Batch for noise_level = 0.20:  56%|█████▋    | 113/200 [2:29:12<48:31, 33.47s/it]\r",
      "OMP Test Batch for noise_level = 0.02:  58%|█████▊    | 116/200 [2:29:23<51:02, 36.46s/it]"
     ]
    },
    {
     "name": "stderr",
     "output_type": "stream",
     "text": [
      "\r",
      "OMP Test Batch for noise_level = 0.14:  58%|█████▊    | 117/200 [2:29:17<39:34, 28.61s/it]"
     ]
    },
    {
     "name": "stderr",
     "output_type": "stream",
     "text": [
      "\r",
      "OMP Test Batch for noise_level = 0.09:  58%|█████▊    | 117/200 [2:29:24<52:25, 37.89s/it]"
     ]
    },
    {
     "name": "stderr",
     "output_type": "stream",
     "text": [
      "\r",
      "OMP Test Batch for noise_level = 0.16:  61%|██████    | 122/200 [2:29:23<42:50, 32.95s/it]\r",
      "OMP Test Batch for noise_level = 0.10:  57%|█████▊    | 115/200 [2:29:26<39:32, 27.92s/it]\r",
      "OMP Test Batch for noise_level = 0.12:  57%|█████▋    | 114/200 [2:29:25<41:02, 28.63s/it]"
     ]
    },
    {
     "name": "stderr",
     "output_type": "stream",
     "text": [
      "\r",
      "OMP Test Batch for noise_level = 0.01:  57%|█████▊    | 115/200 [2:29:40<41:24, 29.24s/it]"
     ]
    },
    {
     "name": "stderr",
     "output_type": "stream",
     "text": [
      "\r",
      "OMP Test Batch for noise_level = 0.18:  56%|█████▋    | 113/200 [2:29:31<42:42, 29.45s/it]\r",
      "OMP Test Batch for noise_level = 0.00:  57%|█████▋    | 114/200 [2:29:43<48:04, 33.54s/it]"
     ]
    },
    {
     "name": "stderr",
     "output_type": "stream",
     "text": [
      "\r",
      "OMP Test Batch for noise_level = 0.03:  56%|█████▋    | 113/200 [2:29:42<42:43, 29.47s/it]"
     ]
    },
    {
     "name": "stderr",
     "output_type": "stream",
     "text": [
      "\r",
      "OMP Test Batch for noise_level = 0.06:  56%|█████▋    | 113/200 [2:29:41<49:22, 34.05s/it]"
     ]
    },
    {
     "name": "stderr",
     "output_type": "stream",
     "text": [
      "\r",
      "OMP Test Batch for noise_level = 0.04:  58%|█████▊    | 116/200 [2:29:46<43:18, 30.94s/it]"
     ]
    },
    {
     "name": "stderr",
     "output_type": "stream",
     "text": [
      "\r",
      "OMP Test Batch for noise_level = 0.07:  56%|█████▋    | 113/200 [2:29:45<41:44, 28.79s/it]"
     ]
    },
    {
     "name": "stderr",
     "output_type": "stream",
     "text": [
      "\r",
      "OMP Test Batch for noise_level = 0.08:  56%|█████▌    | 111/200 [2:29:45<46:57, 31.65s/it]"
     ]
    },
    {
     "name": "stderr",
     "output_type": "stream",
     "text": [
      "\r",
      "OMP Test Batch for noise_level = 0.14:  59%|█████▉    | 118/200 [2:29:45<39:04, 28.60s/it]"
     ]
    },
    {
     "name": "stderr",
     "output_type": "stream",
     "text": [
      "\r",
      "OMP Test Batch for noise_level = 0.20:  57%|█████▋    | 114/200 [2:29:44<47:24, 33.07s/it]"
     ]
    },
    {
     "name": "stderr",
     "output_type": "stream",
     "text": [
      "\r",
      "OMP Test Batch for noise_level = 0.05:  58%|█████▊    | 116/200 [2:29:54<49:20, 35.25s/it]\r",
      "OMP Test Batch for noise_level = 0.12:  57%|█████▊    | 115/200 [2:29:49<38:31, 27.20s/it]"
     ]
    },
    {
     "name": "stderr",
     "output_type": "stream",
     "text": [
      "\r",
      "OMP Test Batch for noise_level = 0.02:  58%|█████▊    | 117/200 [2:29:58<49:58, 36.12s/it]"
     ]
    },
    {
     "name": "stderr",
     "output_type": "stream",
     "text": [
      "\r",
      "OMP Test Batch for noise_level = 0.10:  58%|█████▊    | 116/200 [2:29:55<39:25, 28.16s/it]"
     ]
    },
    {
     "name": "stderr",
     "output_type": "stream",
     "text": [
      "\r",
      "OMP Test Batch for noise_level = 0.09:  59%|█████▉    | 118/200 [2:30:00<50:41, 37.09s/it]"
     ]
    },
    {
     "name": "stderr",
     "output_type": "stream",
     "text": [
      "\r",
      "OMP Test Batch for noise_level = 0.01:  58%|█████▊    | 116/200 [2:30:07<39:51, 28.47s/it]"
     ]
    },
    {
     "name": "stderr",
     "output_type": "stream",
     "text": [
      "\r",
      "OMP Test Batch for noise_level = 0.18:  57%|█████▋    | 114/200 [2:30:00<41:59, 29.29s/it]"
     ]
    },
    {
     "name": "stderr",
     "output_type": "stream",
     "text": [
      "\r",
      "OMP Test Batch for noise_level = 0.03:  57%|█████▋    | 114/200 [2:30:11<42:03, 29.34s/it]"
     ]
    },
    {
     "name": "stderr",
     "output_type": "stream",
     "text": [
      "\r",
      "OMP Test Batch for noise_level = 0.04:  58%|█████▊    | 117/200 [2:30:13<41:04, 29.69s/it]"
     ]
    },
    {
     "name": "stderr",
     "output_type": "stream",
     "text": [
      "\r",
      "OMP Test Batch for noise_level = 0.16:  62%|██████▏   | 123/200 [2:30:05<45:55, 35.79s/it]"
     ]
    },
    {
     "name": "stderr",
     "output_type": "stream",
     "text": [
      "\r",
      "OMP Test Batch for noise_level = 0.07:  57%|█████▋    | 114/200 [2:30:12<40:27, 28.22s/it]\r",
      "OMP Test Batch for noise_level = 0.00:  57%|█████▊    | 115/200 [2:30:18<48:06, 33.96s/it]"
     ]
    },
    {
     "name": "stderr",
     "output_type": "stream",
     "text": [
      "\r",
      "OMP Test Batch for noise_level = 0.08:  56%|█████▌    | 112/200 [2:30:14<45:24, 30.96s/it]"
     ]
    },
    {
     "name": "stderr",
     "output_type": "stream",
     "text": [
      "\r",
      "OMP Test Batch for noise_level = 0.06:  57%|█████▋    | 114/200 [2:30:17<49:23, 34.46s/it]"
     ]
    },
    {
     "name": "stderr",
     "output_type": "stream",
     "text": [
      "\r",
      "OMP Test Batch for noise_level = 0.12:  58%|█████▊    | 116/200 [2:30:15<37:50, 27.03s/it]"
     ]
    },
    {
     "name": "stderr",
     "output_type": "stream",
     "text": [
      "\r",
      "OMP Test Batch for noise_level = 0.14:  60%|█████▉    | 119/200 [2:30:15<38:50, 28.78s/it]"
     ]
    },
    {
     "name": "stderr",
     "output_type": "stream",
     "text": [
      "\r",
      "OMP Test Batch for noise_level = 0.10:  58%|█████▊    | 117/200 [2:30:21<38:22, 27.74s/it]"
     ]
    },
    {
     "name": "stderr",
     "output_type": "stream",
     "text": [
      "\r",
      "OMP Test Batch for noise_level = 0.20:  57%|█████▊    | 115/200 [2:30:19<47:46, 33.72s/it]"
     ]
    },
    {
     "name": "stderr",
     "output_type": "stream",
     "text": [
      "\r",
      "OMP Test Batch for noise_level = 0.05:  58%|█████▊    | 117/200 [2:30:29<48:48, 35.28s/it]"
     ]
    },
    {
     "name": "stderr",
     "output_type": "stream",
     "text": [
      "\r",
      "OMP Test Batch for noise_level = 0.02:  59%|█████▉    | 118/200 [2:30:34<48:58, 35.84s/it]"
     ]
    },
    {
     "name": "stderr",
     "output_type": "stream",
     "text": [
      "\r",
      "OMP Test Batch for noise_level = 0.18:  57%|█████▊    | 115/200 [2:30:24<39:13, 27.69s/it]"
     ]
    },
    {
     "name": "stderr",
     "output_type": "stream",
     "text": [
      "\r",
      "OMP Test Batch for noise_level = 0.01:  58%|█████▊    | 117/200 [2:30:36<39:44, 28.73s/it]"
     ]
    },
    {
     "name": "stderr",
     "output_type": "stream",
     "text": [
      "\r",
      "OMP Test Batch for noise_level = 0.03:  57%|█████▊    | 115/200 [2:30:37<40:26, 28.55s/it]"
     ]
    },
    {
     "name": "stderr",
     "output_type": "stream",
     "text": [
      "\r",
      "OMP Test Batch for noise_level = 0.09:  60%|█████▉    | 119/200 [2:30:35<49:22, 36.58s/it]"
     ]
    },
    {
     "name": "stderr",
     "output_type": "stream",
     "text": [
      "\r",
      "OMP Test Batch for noise_level = 0.07:  57%|█████▊    | 115/200 [2:30:39<39:22, 27.80s/it]"
     ]
    },
    {
     "name": "stderr",
     "output_type": "stream",
     "text": [
      "\r",
      "OMP Test Batch for noise_level = 0.04:  59%|█████▉    | 118/200 [2:30:42<40:16, 29.47s/it]"
     ]
    },
    {
     "name": "stderr",
     "output_type": "stream",
     "text": [
      "\r",
      "OMP Test Batch for noise_level = 0.08:  56%|█████▋    | 113/200 [2:30:43<44:08, 30.44s/it]"
     ]
    },
    {
     "name": "stderr",
     "output_type": "stream",
     "text": [
      "\r",
      "OMP Test Batch for noise_level = 0.00:  58%|█████▊    | 116/200 [2:30:54<48:17, 34.49s/it]"
     ]
    },
    {
     "name": "stderr",
     "output_type": "stream",
     "text": [
      "\r",
      "OMP Test Batch for noise_level = 0.16:  62%|██████▏   | 124/200 [2:30:43<45:59, 36.31s/it]"
     ]
    },
    {
     "name": "stderr",
     "output_type": "stream",
     "text": [
      "\r",
      "OMP Test Batch for noise_level = 0.12:  58%|█████▊    | 117/200 [2:30:45<38:32, 27.86s/it]\r",
      "OMP Test Batch for noise_level = 0.14:  60%|██████    | 120/200 [2:30:44<38:40, 29.00s/it]"
     ]
    },
    {
     "name": "stderr",
     "output_type": "stream",
     "text": [
      "\r",
      "OMP Test Batch for noise_level = 0.06:  57%|█████▊    | 115/200 [2:30:53<49:26, 34.90s/it]"
     ]
    },
    {
     "name": "stderr",
     "output_type": "stream",
     "text": [
      "\r",
      "OMP Test Batch for noise_level = 0.10:  59%|█████▉    | 118/200 [2:30:51<38:33, 28.21s/it]"
     ]
    },
    {
     "name": "stderr",
     "output_type": "stream",
     "text": [
      "\r",
      "OMP Test Batch for noise_level = 0.03:  58%|█████▊    | 116/200 [2:31:02<38:10, 27.27s/it]"
     ]
    },
    {
     "name": "stderr",
     "output_type": "stream",
     "text": [
      "\r",
      "OMP Test Batch for noise_level = 0.20:  58%|█████▊    | 116/200 [2:30:53<47:02, 33.61s/it]\r",
      "OMP Test Batch for noise_level = 0.18:  58%|█████▊    | 116/200 [2:30:54<39:38, 28.31s/it]"
     ]
    },
    {
     "name": "stderr",
     "output_type": "stream",
     "text": [
      "\r",
      "OMP Test Batch for noise_level = 0.01:  59%|█████▉    | 118/200 [2:31:06<39:34, 28.96s/it]"
     ]
    },
    {
     "name": "stderr",
     "output_type": "stream",
     "text": [
      "\r",
      "OMP Test Batch for noise_level = 0.05:  59%|█████▉    | 118/200 [2:31:05<48:22, 35.39s/it]"
     ]
    },
    {
     "name": "stderr",
     "output_type": "stream",
     "text": [
      "\r",
      "OMP Test Batch for noise_level = 0.02:  60%|█████▉    | 119/200 [2:31:09<48:16, 35.76s/it]"
     ]
    },
    {
     "name": "stderr",
     "output_type": "stream",
     "text": [
      "\r",
      "OMP Test Batch for noise_level = 0.07:  58%|█████▊    | 116/200 [2:31:09<39:41, 28.35s/it]"
     ]
    },
    {
     "name": "stderr",
     "output_type": "stream",
     "text": [
      "\r",
      "OMP Test Batch for noise_level = 0.04:  60%|█████▉    | 119/200 [2:31:11<39:45, 29.45s/it]"
     ]
    },
    {
     "name": "stderr",
     "output_type": "stream",
     "text": [
      "\r",
      "OMP Test Batch for noise_level = 0.09:  60%|██████    | 120/200 [2:31:11<48:26, 36.33s/it]"
     ]
    },
    {
     "name": "stderr",
     "output_type": "stream",
     "text": [
      "\r",
      "OMP Test Batch for noise_level = 0.08:  57%|█████▋    | 114/200 [2:31:13<43:15, 30.18s/it]"
     ]
    },
    {
     "name": "stderr",
     "output_type": "stream",
     "text": [
      "\r",
      "OMP Test Batch for noise_level = 0.14:  60%|██████    | 121/200 [2:31:11<37:17, 28.32s/it]"
     ]
    },
    {
     "name": "stderr",
     "output_type": "stream",
     "text": [
      "\r",
      "OMP Test Batch for noise_level = 0.12:  59%|█████▉    | 118/200 [2:31:15<38:44, 28.34s/it]"
     ]
    },
    {
     "name": "stderr",
     "output_type": "stream",
     "text": [
      "\r",
      "OMP Test Batch for noise_level = 0.16:  62%|██████▎   | 125/200 [2:31:15<43:58, 35.17s/it]"
     ]
    },
    {
     "name": "stderr",
     "output_type": "stream",
     "text": [
      "\r",
      "OMP Test Batch for noise_level = 0.10:  60%|█████▉    | 119/200 [2:31:20<38:29, 28.51s/it]"
     ]
    },
    {
     "name": "stderr",
     "output_type": "stream",
     "text": [
      "\r",
      "OMP Test Batch for noise_level = 0.00:  58%|█████▊    | 117/200 [2:31:31<48:56, 35.38s/it]"
     ]
    },
    {
     "name": "stderr",
     "output_type": "stream",
     "text": [
      "\r",
      "OMP Test Batch for noise_level = 0.06:  58%|█████▊    | 116/200 [2:31:28<49:05, 35.07s/it]"
     ]
    },
    {
     "name": "stderr",
     "output_type": "stream",
     "text": [
      "\r",
      "OMP Test Batch for noise_level = 0.03:  58%|█████▊    | 117/200 [2:31:31<38:37, 27.93s/it]"
     ]
    },
    {
     "name": "stderr",
     "output_type": "stream",
     "text": [
      "\r",
      "OMP Test Batch for noise_level = 0.18:  58%|█████▊    | 117/200 [2:31:23<39:45, 28.74s/it]"
     ]
    },
    {
     "name": "stderr",
     "output_type": "stream",
     "text": [
      "\r",
      "OMP Test Batch for noise_level = 0.01:  60%|█████▉    | 119/200 [2:31:35<39:18, 29.12s/it]"
     ]
    },
    {
     "name": "stderr",
     "output_type": "stream",
     "text": [
      "\r",
      "OMP Test Batch for noise_level = 0.20:  58%|█████▊    | 117/200 [2:31:25<45:57, 33.23s/it]"
     ]
    },
    {
     "name": "stderr",
     "output_type": "stream",
     "text": [
      "\r",
      "OMP Test Batch for noise_level = 0.04:  60%|██████    | 120/200 [2:31:40<39:02, 29.28s/it]"
     ]
    },
    {
     "name": "stderr",
     "output_type": "stream",
     "text": [
      "\r",
      "OMP Test Batch for noise_level = 0.07:  58%|█████▊    | 117/200 [2:31:38<39:42, 28.70s/it]"
     ]
    },
    {
     "name": "stderr",
     "output_type": "stream",
     "text": [
      "\r",
      "OMP Test Batch for noise_level = 0.05:  60%|█████▉    | 119/200 [2:31:41<48:02, 35.59s/it]"
     ]
    },
    {
     "name": "stderr",
     "output_type": "stream",
     "text": [
      "\r",
      "OMP Test Batch for noise_level = 0.02:  60%|██████    | 120/200 [2:31:47<48:24, 36.31s/it]\r",
      "OMP Test Batch for noise_level = 0.08:  57%|█████▊    | 115/200 [2:31:42<42:14, 29.82s/it]"
     ]
    },
    {
     "name": "stderr",
     "output_type": "stream",
     "text": [
      "\r",
      "OMP Test Batch for noise_level = 0.14:  61%|██████    | 122/200 [2:31:40<37:06, 28.54s/it]"
     ]
    },
    {
     "name": "stderr",
     "output_type": "stream",
     "text": [
      "\r",
      "OMP Test Batch for noise_level = 0.12:  60%|█████▉    | 119/200 [2:31:41<37:37, 27.87s/it]"
     ]
    },
    {
     "name": "stderr",
     "output_type": "stream",
     "text": [
      "\r",
      "OMP Test Batch for noise_level = 0.09:  60%|██████    | 121/200 [2:31:46<47:26, 36.03s/it]"
     ]
    },
    {
     "name": "stderr",
     "output_type": "stream",
     "text": [
      "\r",
      "OMP Test Batch for noise_level = 0.10:  60%|██████    | 120/200 [2:31:49<38:11, 28.65s/it]"
     ]
    },
    {
     "name": "stderr",
     "output_type": "stream",
     "text": [
      "\r",
      "OMP Test Batch for noise_level = 0.16:  63%|██████▎   | 126/200 [2:31:50<43:15, 35.07s/it]"
     ]
    },
    {
     "name": "stderr",
     "output_type": "stream",
     "text": [
      "\r",
      "OMP Test Batch for noise_level = 0.18:  59%|█████▉    | 118/200 [2:31:50<38:30, 28.18s/it]"
     ]
    },
    {
     "name": "stderr",
     "output_type": "stream",
     "text": [
      "\r",
      "OMP Test Batch for noise_level = 0.03:  59%|█████▉    | 118/200 [2:32:00<38:37, 28.27s/it]"
     ]
    },
    {
     "name": "stderr",
     "output_type": "stream",
     "text": [
      "\r",
      "OMP Test Batch for noise_level = 0.01:  60%|██████    | 120/200 [2:32:05<38:55, 29.20s/it]"
     ]
    },
    {
     "name": "stderr",
     "output_type": "stream",
     "text": [
      "\r",
      "OMP Test Batch for noise_level = 0.06:  58%|█████▊    | 117/200 [2:32:03<48:26, 35.02s/it]"
     ]
    },
    {
     "name": "stderr",
     "output_type": "stream",
     "text": [
      "\r",
      "OMP Test Batch for noise_level = 0.00:  59%|█████▉    | 118/200 [2:32:08<49:05, 35.92s/it]"
     ]
    },
    {
     "name": "stderr",
     "output_type": "stream",
     "text": [
      "\r",
      "OMP Test Batch for noise_level = 0.07:  59%|█████▉    | 118/200 [2:32:05<38:22, 28.08s/it]"
     ]
    },
    {
     "name": "stderr",
     "output_type": "stream",
     "text": [
      "\r",
      "OMP Test Batch for noise_level = 0.04:  60%|██████    | 121/200 [2:32:08<37:46, 28.69s/it]\r",
      "OMP Test Batch for noise_level = 0.20:  59%|█████▉    | 118/200 [2:31:58<45:27, 33.27s/it]"
     ]
    },
    {
     "name": "stderr",
     "output_type": "stream",
     "text": [
      "\r",
      "OMP Test Batch for noise_level = 0.12:  60%|██████    | 120/200 [2:32:08<36:27, 27.35s/it]"
     ]
    },
    {
     "name": "stderr",
     "output_type": "stream",
     "text": [
      "\r",
      "OMP Test Batch for noise_level = 0.08:  58%|█████▊    | 116/200 [2:32:11<41:40, 29.77s/it]"
     ]
    },
    {
     "name": "stderr",
     "output_type": "stream",
     "text": [
      "\r",
      "OMP Test Batch for noise_level = 0.14:  62%|██████▏   | 123/200 [2:32:09<36:43, 28.62s/it]"
     ]
    },
    {
     "name": "stderr",
     "output_type": "stream",
     "text": [
      "\r",
      "OMP Test Batch for noise_level = 0.02:  60%|██████    | 121/200 [2:32:19<46:12, 35.09s/it]"
     ]
    },
    {
     "name": "stderr",
     "output_type": "stream",
     "text": [
      "\r",
      "OMP Test Batch for noise_level = 0.09:  61%|██████    | 122/200 [2:32:17<44:44, 34.41s/it]"
     ]
    },
    {
     "name": "stderr",
     "output_type": "stream",
     "text": [
      "\r",
      "OMP Test Batch for noise_level = 0.10:  60%|██████    | 121/200 [2:32:17<37:25, 28.42s/it]"
     ]
    },
    {
     "name": "stderr",
     "output_type": "stream",
     "text": [
      "\r",
      "OMP Test Batch for noise_level = 0.05:  60%|██████    | 120/200 [2:32:22<49:33, 37.17s/it]\r",
      "OMP Test Batch for noise_level = 0.18:  60%|█████▉    | 119/200 [2:32:14<36:19, 26.91s/it]"
     ]
    },
    {
     "name": "stderr",
     "output_type": "stream",
     "text": [
      "\r",
      "OMP Test Batch for noise_level = 0.03:  60%|█████▉    | 119/200 [2:32:24<36:26, 27.00s/it]"
     ]
    },
    {
     "name": "stderr",
     "output_type": "stream",
     "text": [
      "\r",
      "OMP Test Batch for noise_level = 0.16:  64%|██████▎   | 127/200 [2:32:23<42:03, 34.57s/it]"
     ]
    },
    {
     "name": "stderr",
     "output_type": "stream",
     "text": [
      "\r",
      "OMP Test Batch for noise_level = 0.00:  60%|█████▉    | 119/200 [2:32:37<45:34, 33.75s/it]\r",
      "OMP Test Batch for noise_level = 0.01:  60%|██████    | 121/200 [2:32:36<39:25, 29.94s/it]"
     ]
    },
    {
     "name": "stderr",
     "output_type": "stream",
     "text": [
      "\r",
      "OMP Test Batch for noise_level = 0.06:  59%|█████▉    | 118/200 [2:32:35<46:28, 34.01s/it]"
     ]
    },
    {
     "name": "stderr",
     "output_type": "stream",
     "text": [
      "\r",
      "OMP Test Batch for noise_level = 0.12:  60%|██████    | 121/200 [2:32:34<35:48, 27.19s/it]"
     ]
    },
    {
     "name": "stderr",
     "output_type": "stream",
     "text": [
      "\r",
      "OMP Test Batch for noise_level = 0.08:  58%|█████▊    | 117/200 [2:32:39<40:05, 28.98s/it]\r",
      "OMP Test Batch for noise_level = 0.14:  62%|██████▏   | 124/200 [2:32:35<35:19, 27.89s/it]"
     ]
    },
    {
     "name": "stderr",
     "output_type": "stream",
     "text": [
      "\r",
      "OMP Test Batch for noise_level = 0.04:  61%|██████    | 122/200 [2:32:43<39:51, 30.66s/it]"
     ]
    },
    {
     "name": "stderr",
     "output_type": "stream",
     "text": [
      "\r",
      "OMP Test Batch for noise_level = 0.07:  60%|█████▉    | 119/200 [2:32:42<41:47, 30.96s/it]"
     ]
    },
    {
     "name": "stderr",
     "output_type": "stream",
     "text": [
      "\r",
      "OMP Test Batch for noise_level = 0.18:  60%|██████    | 120/200 [2:32:40<35:28, 26.60s/it]"
     ]
    },
    {
     "name": "stderr",
     "output_type": "stream",
     "text": [
      "\r",
      "OMP Test Batch for noise_level = 0.10:  61%|██████    | 122/200 [2:32:45<36:54, 28.39s/it]"
     ]
    },
    {
     "name": "stderr",
     "output_type": "stream",
     "text": [
      "\r",
      "OMP Test Batch for noise_level = 0.03:  60%|██████    | 120/200 [2:32:52<36:29, 27.37s/it]"
     ]
    },
    {
     "name": "stderr",
     "output_type": "stream",
     "text": [
      "\r",
      "OMP Test Batch for noise_level = 0.20:  60%|█████▉    | 119/200 [2:32:42<49:18, 36.52s/it]"
     ]
    },
    {
     "name": "stderr",
     "output_type": "stream",
     "text": [
      "\r",
      "OMP Test Batch for noise_level = 0.02:  61%|██████    | 122/200 [2:32:55<45:56, 35.34s/it]"
     ]
    },
    {
     "name": "stderr",
     "output_type": "stream",
     "text": [
      "\r",
      "OMP Test Batch for noise_level = 0.09:  62%|██████▏   | 123/200 [2:32:52<44:41, 34.82s/it]"
     ]
    },
    {
     "name": "stderr",
     "output_type": "stream",
     "text": [
      "\r",
      "OMP Test Batch for noise_level = 0.05:  60%|██████    | 121/200 [2:32:57<48:05, 36.53s/it]"
     ]
    },
    {
     "name": "stderr",
     "output_type": "stream",
     "text": [
      "\r",
      "OMP Test Batch for noise_level = 0.16:  64%|██████▍   | 128/200 [2:32:59<41:51, 34.89s/it]"
     ]
    },
    {
     "name": "stderr",
     "output_type": "stream",
     "text": [
      "\r",
      "OMP Test Batch for noise_level = 0.12:  61%|██████    | 122/200 [2:33:02<35:34, 27.36s/it]"
     ]
    },
    {
     "name": "stderr",
     "output_type": "stream",
     "text": [
      "\r",
      "OMP Test Batch for noise_level = 0.00:  60%|██████    | 120/200 [2:33:13<45:46, 34.34s/it]"
     ]
    },
    {
     "name": "stderr",
     "output_type": "stream",
     "text": [
      "\r",
      "OMP Test Batch for noise_level = 0.08:  59%|█████▉    | 118/200 [2:33:07<39:16, 28.74s/it]\r",
      "OMP Test Batch for noise_level = 0.14:  62%|██████▎   | 125/200 [2:33:03<34:55, 27.94s/it]"
     ]
    },
    {
     "name": "stderr",
     "output_type": "stream",
     "text": [
      "\r",
      "OMP Test Batch for noise_level = 0.07:  60%|██████    | 120/200 [2:33:10<39:55, 29.94s/it]\r",
      "OMP Test Batch for noise_level = 0.06:  60%|█████▉    | 119/200 [2:33:11<46:46, 34.65s/it]"
     ]
    },
    {
     "name": "stderr",
     "output_type": "stream",
     "text": [
      "\r",
      "OMP Test Batch for noise_level = 0.01:  61%|██████    | 122/200 [2:33:17<43:00, 33.09s/it]"
     ]
    },
    {
     "name": "stderr",
     "output_type": "stream",
     "text": [
      "\r",
      "OMP Test Batch for noise_level = 0.18:  60%|██████    | 121/200 [2:33:09<35:46, 27.17s/it]"
     ]
    },
    {
     "name": "stderr",
     "output_type": "stream",
     "text": [
      "\r",
      "OMP Test Batch for noise_level = 0.10:  62%|██████▏   | 123/200 [2:33:13<36:25, 28.38s/it]"
     ]
    },
    {
     "name": "stderr",
     "output_type": "stream",
     "text": [
      "\r",
      "OMP Test Batch for noise_level = 0.03:  60%|██████    | 121/200 [2:33:21<36:28, 27.70s/it]"
     ]
    },
    {
     "name": "stderr",
     "output_type": "stream",
     "text": [
      "\r",
      "OMP Test Batch for noise_level = 0.04:  62%|██████▏   | 123/200 [2:33:22<42:44, 33.31s/it]"
     ]
    },
    {
     "name": "stderr",
     "output_type": "stream",
     "text": [
      "\r",
      "OMP Test Batch for noise_level = 0.20:  60%|██████    | 120/200 [2:33:19<48:39, 36.50s/it]"
     ]
    },
    {
     "name": "stderr",
     "output_type": "stream",
     "text": [
      "\r",
      "OMP Test Batch for noise_level = 0.02:  62%|██████▏   | 123/200 [2:33:31<45:38, 35.57s/it]"
     ]
    },
    {
     "name": "stderr",
     "output_type": "stream",
     "text": [
      "\r",
      "OMP Test Batch for noise_level = 0.09:  62%|██████▏   | 124/200 [2:33:29<44:38, 35.24s/it]"
     ]
    },
    {
     "name": "stderr",
     "output_type": "stream",
     "text": [
      "\r",
      "OMP Test Batch for noise_level = 0.05:  61%|██████    | 122/200 [2:33:33<47:17, 36.37s/it]"
     ]
    },
    {
     "name": "stderr",
     "output_type": "stream",
     "text": [
      "\r",
      "OMP Test Batch for noise_level = 0.14:  63%|██████▎   | 126/200 [2:33:29<33:55, 27.51s/it]"
     ]
    },
    {
     "name": "stderr",
     "output_type": "stream",
     "text": [
      "\r",
      "OMP Test Batch for noise_level = 0.12:  62%|██████▏   | 123/200 [2:33:32<36:05, 28.13s/it]"
     ]
    },
    {
     "name": "stderr",
     "output_type": "stream",
     "text": [
      "\r",
      "OMP Test Batch for noise_level = 0.08:  60%|█████▉    | 119/200 [2:33:35<38:38, 28.62s/it]"
     ]
    },
    {
     "name": "stderr",
     "output_type": "stream",
     "text": [
      "\r",
      "OMP Test Batch for noise_level = 0.07:  60%|██████    | 121/200 [2:33:39<38:54, 29.54s/it]"
     ]
    },
    {
     "name": "stderr",
     "output_type": "stream",
     "text": [
      "\r",
      "OMP Test Batch for noise_level = 0.16:  64%|██████▍   | 129/200 [2:33:35<41:47, 35.32s/it]"
     ]
    },
    {
     "name": "stderr",
     "output_type": "stream",
     "text": [
      "\r",
      "OMP Test Batch for noise_level = 0.01:  62%|██████▏   | 123/200 [2:33:48<41:39, 32.47s/it]"
     ]
    },
    {
     "name": "stderr",
     "output_type": "stream",
     "text": [
      "\r",
      "OMP Test Batch for noise_level = 0.18:  61%|██████    | 122/200 [2:33:37<35:51, 27.58s/it]\r",
      "OMP Test Batch for noise_level = 0.00:  60%|██████    | 121/200 [2:33:49<46:01, 34.95s/it]"
     ]
    },
    {
     "name": "stderr",
     "output_type": "stream",
     "text": [
      "\r",
      "OMP Test Batch for noise_level = 0.10:  62%|██████▏   | 124/200 [2:33:42<35:59, 28.41s/it]"
     ]
    },
    {
     "name": "stderr",
     "output_type": "stream",
     "text": [
      "\r",
      "OMP Test Batch for noise_level = 0.03:  61%|██████    | 122/200 [2:33:49<36:19, 27.95s/it]"
     ]
    },
    {
     "name": "stderr",
     "output_type": "stream",
     "text": [
      "\r",
      "OMP Test Batch for noise_level = 0.06:  60%|██████    | 120/200 [2:33:47<46:47, 35.09s/it]"
     ]
    },
    {
     "name": "stderr",
     "output_type": "stream",
     "text": [
      "\r",
      "OMP Test Batch for noise_level = 0.04:  62%|██████▏   | 124/200 [2:33:53<41:05, 32.44s/it]"
     ]
    },
    {
     "name": "stderr",
     "output_type": "stream",
     "text": [
      "\r",
      "OMP Test Batch for noise_level = 0.20:  60%|██████    | 121/200 [2:33:52<46:36, 35.40s/it]"
     ]
    },
    {
     "name": "stderr",
     "output_type": "stream",
     "text": [
      "\r",
      "OMP Test Batch for noise_level = 0.14:  64%|██████▎   | 127/200 [2:33:58<33:56, 27.89s/it]"
     ]
    },
    {
     "name": "stderr",
     "output_type": "stream",
     "text": [
      "\r",
      "OMP Test Batch for noise_level = 0.02:  62%|██████▏   | 124/200 [2:34:08<45:25, 35.87s/it]"
     ]
    },
    {
     "name": "stderr",
     "output_type": "stream",
     "text": [
      "\r",
      "OMP Test Batch for noise_level = 0.09:  62%|██████▎   | 125/200 [2:34:02<43:18, 34.65s/it]"
     ]
    },
    {
     "name": "stderr",
     "output_type": "stream",
     "text": [
      "\r",
      "OMP Test Batch for noise_level = 0.08:  60%|██████    | 120/200 [2:34:03<38:02, 28.53s/it]"
     ]
    },
    {
     "name": "stderr",
     "output_type": "stream",
     "text": [
      "\r",
      "OMP Test Batch for noise_level = 0.05:  62%|██████▏   | 123/200 [2:34:09<46:40, 36.36s/it]"
     ]
    },
    {
     "name": "stderr",
     "output_type": "stream",
     "text": [
      "\r",
      "OMP Test Batch for noise_level = 0.12:  62%|██████▏   | 124/200 [2:34:04<37:14, 29.40s/it]"
     ]
    },
    {
     "name": "stderr",
     "output_type": "stream",
     "text": [
      "\r",
      "OMP Test Batch for noise_level = 0.10:  62%|██████▎   | 125/200 [2:34:07<34:27, 27.57s/it]"
     ]
    },
    {
     "name": "stderr",
     "output_type": "stream",
     "text": [
      "\r",
      "OMP Test Batch for noise_level = 0.01:  62%|██████▏   | 124/200 [2:34:16<39:33, 31.23s/it]"
     ]
    },
    {
     "name": "stderr",
     "output_type": "stream",
     "text": [
      "\r",
      "OMP Test Batch for noise_level = 0.18:  62%|██████▏   | 123/200 [2:34:06<35:45, 27.86s/it]"
     ]
    },
    {
     "name": "stderr",
     "output_type": "stream",
     "text": [
      "\r",
      "OMP Test Batch for noise_level = 0.07:  61%|██████    | 122/200 [2:34:12<40:02, 30.80s/it]"
     ]
    },
    {
     "name": "stderr",
     "output_type": "stream",
     "text": [
      "\r",
      "OMP Test Batch for noise_level = 0.03:  62%|██████▏   | 123/200 [2:34:18<35:58, 28.03s/it]"
     ]
    },
    {
     "name": "stderr",
     "output_type": "stream",
     "text": [
      "\r",
      "OMP Test Batch for noise_level = 0.04:  62%|██████▎   | 125/200 [2:34:18<37:56, 30.35s/it]"
     ]
    },
    {
     "name": "stderr",
     "output_type": "stream",
     "text": [
      "\r",
      "OMP Test Batch for noise_level = 0.16:  65%|██████▌   | 130/200 [2:34:12<41:39, 35.71s/it]"
     ]
    },
    {
     "name": "stderr",
     "output_type": "stream",
     "text": [
      "\r",
      "OMP Test Batch for noise_level = 0.00:  61%|██████    | 122/200 [2:34:26<46:12, 35.55s/it]"
     ]
    },
    {
     "name": "stderr",
     "output_type": "stream",
     "text": [
      "\r",
      "OMP Test Batch for noise_level = 0.06:  60%|██████    | 121/200 [2:34:24<46:49, 35.56s/it]"
     ]
    },
    {
     "name": "stderr",
     "output_type": "stream",
     "text": [
      "\r",
      "OMP Test Batch for noise_level = 0.14:  64%|██████▍   | 128/200 [2:34:26<33:35, 28.00s/it]"
     ]
    },
    {
     "name": "stderr",
     "output_type": "stream",
     "text": [
      "\r",
      "OMP Test Batch for noise_level = 0.20:  61%|██████    | 122/200 [2:34:28<46:24, 35.70s/it]"
     ]
    },
    {
     "name": "stderr",
     "output_type": "stream",
     "text": [
      "\r",
      "OMP Test Batch for noise_level = 0.08:  60%|██████    | 121/200 [2:34:34<38:30, 29.25s/it]"
     ]
    },
    {
     "name": "stderr",
     "output_type": "stream",
     "text": [
      "\r",
      "OMP Test Batch for noise_level = 0.10:  63%|██████▎   | 126/200 [2:34:36<34:15, 27.78s/it]"
     ]
    },
    {
     "name": "stderr",
     "output_type": "stream",
     "text": [
      "\r",
      "OMP Test Batch for noise_level = 0.01:  62%|██████▎   | 125/200 [2:34:44<37:52, 30.30s/it]\r",
      "OMP Test Batch for noise_level = 0.02:  62%|██████▎   | 125/200 [2:34:44<44:51, 35.89s/it]"
     ]
    },
    {
     "name": "stderr",
     "output_type": "stream",
     "text": [
      "\r",
      "OMP Test Batch for noise_level = 0.09:  63%|██████▎   | 126/200 [2:34:38<43:10, 35.00s/it]"
     ]
    },
    {
     "name": "stderr",
     "output_type": "stream",
     "text": [
      "\r",
      "OMP Test Batch for noise_level = 0.18:  62%|██████▏   | 124/200 [2:34:34<35:27, 27.99s/it]"
     ]
    },
    {
     "name": "stderr",
     "output_type": "stream",
     "text": [
      "\r",
      "OMP Test Batch for noise_level = 0.04:  63%|██████▎   | 126/200 [2:34:44<35:36, 28.87s/it]"
     ]
    },
    {
     "name": "stderr",
     "output_type": "stream",
     "text": [
      "\r",
      "OMP Test Batch for noise_level = 0.03:  62%|██████▏   | 124/200 [2:34:46<35:38, 28.14s/it]"
     ]
    },
    {
     "name": "stderr",
     "output_type": "stream",
     "text": [
      "\r",
      "OMP Test Batch for noise_level = 0.05:  62%|██████▏   | 124/200 [2:34:49<47:07, 37.21s/it]"
     ]
    },
    {
     "name": "stderr",
     "output_type": "stream",
     "text": [
      "\r",
      "OMP Test Batch for noise_level = 0.12:  62%|██████▎   | 125/200 [2:34:45<40:49, 32.65s/it]"
     ]
    },
    {
     "name": "stderr",
     "output_type": "stream",
     "text": [
      "\r",
      "OMP Test Batch for noise_level = 0.07:  62%|██████▏   | 123/200 [2:34:49<41:55, 32.67s/it]"
     ]
    },
    {
     "name": "stderr",
     "output_type": "stream",
     "text": [
      "\r",
      "OMP Test Batch for noise_level = 0.00:  62%|██████▏   | 123/200 [2:34:59<44:46, 34.89s/it]"
     ]
    },
    {
     "name": "stderr",
     "output_type": "stream",
     "text": [
      "\r",
      "OMP Test Batch for noise_level = 0.16:  66%|██████▌   | 131/200 [2:34:51<42:17, 36.78s/it]"
     ]
    },
    {
     "name": "stderr",
     "output_type": "stream",
     "text": [
      "\r",
      "OMP Test Batch for noise_level = 0.14:  64%|██████▍   | 129/200 [2:34:55<33:09, 28.03s/it]"
     ]
    },
    {
     "name": "stderr",
     "output_type": "stream",
     "text": [
      "\r",
      "OMP Test Batch for noise_level = 0.06:  61%|██████    | 122/200 [2:35:01<46:46, 35.98s/it]"
     ]
    },
    {
     "name": "stderr",
     "output_type": "stream",
     "text": [
      "\r",
      "OMP Test Batch for noise_level = 0.10:  64%|██████▎   | 127/200 [2:35:04<33:50, 27.81s/it]"
     ]
    },
    {
     "name": "stderr",
     "output_type": "stream",
     "text": [
      "\r",
      "OMP Test Batch for noise_level = 0.01:  63%|██████▎   | 126/200 [2:35:12<36:32, 29.62s/it]"
     ]
    },
    {
     "name": "stderr",
     "output_type": "stream",
     "text": [
      "\r",
      "OMP Test Batch for noise_level = 0.18:  62%|██████▎   | 125/200 [2:35:02<34:59, 28.00s/it]"
     ]
    },
    {
     "name": "stderr",
     "output_type": "stream",
     "text": [
      "\r",
      "OMP Test Batch for noise_level = 0.04:  64%|██████▎   | 127/200 [2:35:12<34:48, 28.61s/it]\r",
      "OMP Test Batch for noise_level = 0.20:  62%|██████▏   | 123/200 [2:35:02<45:13, 35.23s/it]"
     ]
    },
    {
     "name": "stderr",
     "output_type": "stream",
     "text": [
      "\r",
      "OMP Test Batch for noise_level = 0.03:  62%|██████▎   | 125/200 [2:35:14<35:04, 28.06s/it]"
     ]
    },
    {
     "name": "stderr",
     "output_type": "stream",
     "text": [
      "\r",
      "OMP Test Batch for noise_level = 0.09:  64%|██████▎   | 127/200 [2:35:12<42:19, 34.79s/it]"
     ]
    },
    {
     "name": "stderr",
     "output_type": "stream",
     "text": [
      "\r",
      "OMP Test Batch for noise_level = 0.08:  61%|██████    | 122/200 [2:35:14<41:59, 32.30s/it]"
     ]
    },
    {
     "name": "stderr",
     "output_type": "stream",
     "text": [
      "\r",
      "OMP Test Batch for noise_level = 0.02:  63%|██████▎   | 126/200 [2:35:20<44:25, 36.01s/it]"
     ]
    },
    {
     "name": "stderr",
     "output_type": "stream",
     "text": [
      "\r",
      "OMP Test Batch for noise_level = 0.07:  62%|██████▏   | 124/200 [2:35:17<39:32, 31.21s/it]"
     ]
    },
    {
     "name": "stderr",
     "output_type": "stream",
     "text": [
      "\r",
      "OMP Test Batch for noise_level = 0.05:  62%|██████▎   | 125/200 [2:35:24<45:53, 36.71s/it]"
     ]
    },
    {
     "name": "stderr",
     "output_type": "stream",
     "text": [
      "\r",
      "OMP Test Batch for noise_level = 0.14:  65%|██████▌   | 130/200 [2:35:23<32:44, 28.07s/it]"
     ]
    },
    {
     "name": "stderr",
     "output_type": "stream",
     "text": [
      "\r",
      "OMP Test Batch for noise_level = 0.12:  63%|██████▎   | 126/200 [2:35:25<43:03, 34.91s/it]"
     ]
    },
    {
     "name": "stderr",
     "output_type": "stream",
     "text": [
      "\r",
      "OMP Test Batch for noise_level = 0.00:  62%|██████▏   | 124/200 [2:35:36<44:45, 35.34s/it]"
     ]
    },
    {
     "name": "stderr",
     "output_type": "stream",
     "text": [
      "\r",
      "OMP Test Batch for noise_level = 0.16:  66%|██████▌   | 132/200 [2:35:27<41:25, 36.55s/it]"
     ]
    },
    {
     "name": "stderr",
     "output_type": "stream",
     "text": [
      "\r",
      "OMP Test Batch for noise_level = 0.10:  64%|██████▍   | 128/200 [2:35:32<33:25, 27.86s/it]"
     ]
    },
    {
     "name": "stderr",
     "output_type": "stream",
     "text": [
      "\r",
      "OMP Test Batch for noise_level = 0.01:  64%|██████▎   | 127/200 [2:35:41<35:38, 29.29s/it]"
     ]
    },
    {
     "name": "stderr",
     "output_type": "stream",
     "text": [
      "\r",
      "OMP Test Batch for noise_level = 0.06:  62%|██████▏   | 123/200 [2:35:37<46:20, 36.11s/it]\r",
      "OMP Test Batch for noise_level = 0.18:  63%|██████▎   | 126/200 [2:35:30<34:37, 28.08s/it]"
     ]
    },
    {
     "name": "stderr",
     "output_type": "stream",
     "text": [
      "\r",
      "OMP Test Batch for noise_level = 0.04:  64%|██████▍   | 128/200 [2:35:40<34:08, 28.45s/it]"
     ]
    },
    {
     "name": "stderr",
     "output_type": "stream",
     "text": [
      "\r",
      "OMP Test Batch for noise_level = 0.03:  63%|██████▎   | 126/200 [2:35:42<34:33, 28.02s/it]"
     ]
    },
    {
     "name": "stderr",
     "output_type": "stream",
     "text": [
      "\r",
      "OMP Test Batch for noise_level = 0.20:  62%|██████▏   | 124/200 [2:35:39<45:02, 35.55s/it]"
     ]
    },
    {
     "name": "stderr",
     "output_type": "stream",
     "text": [
      "\r",
      "OMP Test Batch for noise_level = 0.07:  62%|██████▎   | 125/200 [2:35:46<38:02, 30.44s/it]"
     ]
    },
    {
     "name": "stderr",
     "output_type": "stream",
     "text": [
      "\r",
      "OMP Test Batch for noise_level = 0.02:  64%|██████▎   | 127/200 [2:35:53<42:37, 35.04s/it]"
     ]
    },
    {
     "name": "stderr",
     "output_type": "stream",
     "text": [
      "\r",
      "OMP Test Batch for noise_level = 0.09:  64%|██████▍   | 128/200 [2:35:48<42:13, 35.19s/it]"
     ]
    },
    {
     "name": "stderr",
     "output_type": "stream",
     "text": [
      "\r",
      "OMP Test Batch for noise_level = 0.08:  62%|██████▏   | 123/200 [2:35:52<43:54, 34.21s/it]"
     ]
    },
    {
     "name": "stderr",
     "output_type": "stream",
     "text": [
      "\r",
      "OMP Test Batch for noise_level = 0.14:  66%|██████▌   | 131/200 [2:35:49<31:40, 27.54s/it]"
     ]
    },
    {
     "name": "stderr",
     "output_type": "stream",
     "text": [
      "\r",
      "OMP Test Batch for noise_level = 0.05:  63%|██████▎   | 126/200 [2:36:00<45:03, 36.54s/it]"
     ]
    },
    {
     "name": "stderr",
     "output_type": "stream",
     "text": [
      "\r",
      "OMP Test Batch for noise_level = 0.10:  64%|██████▍   | 129/200 [2:36:00<33:02, 27.92s/it]"
     ]
    },
    {
     "name": "stderr",
     "output_type": "stream",
     "text": [
      "\r",
      "OMP Test Batch for noise_level = 0.01:  64%|██████▍   | 128/200 [2:36:09<34:47, 29.00s/it]"
     ]
    },
    {
     "name": "stderr",
     "output_type": "stream",
     "text": [
      "\r",
      "OMP Test Batch for noise_level = 0.03:  64%|██████▎   | 127/200 [2:36:08<33:18, 27.38s/it]"
     ]
    },
    {
     "name": "stderr",
     "output_type": "stream",
     "text": [
      "\r",
      "OMP Test Batch for noise_level = 0.04:  64%|██████▍   | 129/200 [2:36:08<33:33, 28.35s/it]\r",
      "OMP Test Batch for noise_level = 0.12:  64%|██████▎   | 127/200 [2:36:02<43:12, 35.52s/it]"
     ]
    },
    {
     "name": "stderr",
     "output_type": "stream",
     "text": [
      "\r",
      "OMP Test Batch for noise_level = 0.00:  62%|██████▎   | 125/200 [2:36:13<44:46, 35.83s/it]"
     ]
    },
    {
     "name": "stderr",
     "output_type": "stream",
     "text": [
      "\r",
      "OMP Test Batch for noise_level = 0.16:  66%|██████▋   | 133/200 [2:36:03<40:40, 36.42s/it]"
     ]
    },
    {
     "name": "stderr",
     "output_type": "stream",
     "text": [
      "\r",
      "OMP Test Batch for noise_level = 0.06:  62%|██████▏   | 124/200 [2:36:14<45:51, 36.20s/it]"
     ]
    },
    {
     "name": "stderr",
     "output_type": "stream",
     "text": [
      "\r",
      "OMP Test Batch for noise_level = 0.18:  64%|██████▎   | 127/200 [2:36:08<37:32, 30.86s/it]"
     ]
    },
    {
     "name": "stderr",
     "output_type": "stream",
     "text": [
      "\r",
      "OMP Test Batch for noise_level = 0.07:  63%|██████▎   | 126/200 [2:36:14<36:46, 29.82s/it]"
     ]
    },
    {
     "name": "stderr",
     "output_type": "stream",
     "text": [
      "\r",
      "OMP Test Batch for noise_level = 0.14:  66%|██████▌   | 132/200 [2:36:15<30:40, 27.07s/it]"
     ]
    },
    {
     "name": "stderr",
     "output_type": "stream",
     "text": [
      "\r",
      "OMP Test Batch for noise_level = 0.08:  62%|██████▏   | 124/200 [2:36:20<40:58, 32.35s/it]"
     ]
    },
    {
     "name": "stderr",
     "output_type": "stream",
     "text": [
      "\r",
      "OMP Test Batch for noise_level = 0.20:  62%|██████▎   | 125/200 [2:36:15<44:54, 35.93s/it]"
     ]
    },
    {
     "name": "stderr",
     "output_type": "stream",
     "text": [
      "\r",
      "OMP Test Batch for noise_level = 0.02:  64%|██████▍   | 128/200 [2:36:29<42:30, 35.43s/it]"
     ]
    },
    {
     "name": "stderr",
     "output_type": "stream",
     "text": [
      "\r",
      "OMP Test Batch for noise_level = 0.09:  64%|██████▍   | 129/200 [2:36:25<42:08, 35.61s/it]"
     ]
    },
    {
     "name": "stderr",
     "output_type": "stream",
     "text": [
      "\r",
      "OMP Test Batch for noise_level = 0.10:  65%|██████▌   | 130/200 [2:36:28<32:39, 28.00s/it]"
     ]
    },
    {
     "name": "stderr",
     "output_type": "stream",
     "text": [
      "\r",
      "OMP Test Batch for noise_level = 0.01:  64%|██████▍   | 129/200 [2:36:37<34:03, 28.78s/it]"
     ]
    },
    {
     "name": "stderr",
     "output_type": "stream",
     "text": [
      "\r",
      "OMP Test Batch for noise_level = 0.03:  64%|██████▍   | 128/200 [2:36:36<33:14, 27.71s/it]"
     ]
    },
    {
     "name": "stderr",
     "output_type": "stream",
     "text": [
      "\r",
      "OMP Test Batch for noise_level = 0.04:  65%|██████▌   | 130/200 [2:36:36<33:02, 28.32s/it]"
     ]
    },
    {
     "name": "stderr",
     "output_type": "stream",
     "text": [
      "\r",
      "OMP Test Batch for noise_level = 0.12:  64%|██████▍   | 128/200 [2:36:30<40:07, 33.44s/it]"
     ]
    },
    {
     "name": "stderr",
     "output_type": "stream",
     "text": [
      "\r",
      "OMP Test Batch for noise_level = 0.05:  64%|██████▎   | 127/200 [2:36:37<44:22, 36.47s/it]"
     ]
    },
    {
     "name": "stderr",
     "output_type": "stream",
     "text": [
      "\r",
      "OMP Test Batch for noise_level = 0.18:  64%|██████▍   | 128/200 [2:36:36<36:16, 30.23s/it]\r",
      "OMP Test Batch for noise_level = 0.07:  64%|██████▎   | 127/200 [2:36:43<35:47, 29.41s/it]"
     ]
    },
    {
     "name": "stderr",
     "output_type": "stream",
     "text": [
      "\r",
      "OMP Test Batch for noise_level = 0.00:  63%|██████▎   | 126/200 [2:36:49<44:29, 36.08s/it]"
     ]
    },
    {
     "name": "stderr",
     "output_type": "stream",
     "text": [
      "\r",
      "OMP Test Batch for noise_level = 0.16:  67%|██████▋   | 134/200 [2:36:40<40:03, 36.41s/it]"
     ]
    },
    {
     "name": "stderr",
     "output_type": "stream",
     "text": [
      "\r",
      "OMP Test Batch for noise_level = 0.06:  62%|██████▎   | 125/200 [2:36:47<44:08, 35.31s/it]"
     ]
    },
    {
     "name": "stderr",
     "output_type": "stream",
     "text": [
      "\r",
      "OMP Test Batch for noise_level = 0.14:  66%|██████▋   | 133/200 [2:36:44<30:46, 27.56s/it]"
     ]
    },
    {
     "name": "stderr",
     "output_type": "stream",
     "text": [
      "\r",
      "OMP Test Batch for noise_level = 0.08:  62%|██████▎   | 125/200 [2:36:49<39:01, 31.22s/it]"
     ]
    },
    {
     "name": "stderr",
     "output_type": "stream",
     "text": [
      "\r",
      "OMP Test Batch for noise_level = 0.04:  66%|██████▌   | 131/200 [2:36:59<30:47, 26.77s/it]"
     ]
    },
    {
     "name": "stderr",
     "output_type": "stream",
     "text": [
      "\r",
      "OMP Test Batch for noise_level = 0.20:  63%|██████▎   | 126/200 [2:36:52<44:23, 36.00s/it]"
     ]
    },
    {
     "name": "stderr",
     "output_type": "stream",
     "text": [
      "\r",
      "OMP Test Batch for noise_level = 0.10:  66%|██████▌   | 131/200 [2:36:56<32:19, 28.11s/it]"
     ]
    },
    {
     "name": "stderr",
     "output_type": "stream",
     "text": [
      "\r",
      "OMP Test Batch for noise_level = 0.01:  65%|██████▌   | 130/200 [2:37:06<33:28, 28.69s/it]\r",
      "OMP Test Batch for noise_level = 0.03:  64%|██████▍   | 129/200 [2:37:04<32:56, 27.84s/it]\r",
      "OMP Test Batch for noise_level = 0.02:  64%|██████▍   | 129/200 [2:37:05<42:11, 35.66s/it]"
     ]
    },
    {
     "name": "stderr",
     "output_type": "stream",
     "text": [
      "\r",
      "OMP Test Batch for noise_level = 0.12:  64%|██████▍   | 129/200 [2:36:59<37:50, 31.98s/it]\r",
      "OMP Test Batch for noise_level = 0.09:  65%|██████▌   | 130/200 [2:37:01<41:39, 35.70s/it]"
     ]
    },
    {
     "name": "stderr",
     "output_type": "stream",
     "text": [
      "\r",
      "OMP Test Batch for noise_level = 0.07:  64%|██████▍   | 128/200 [2:37:08<34:01, 28.36s/it]"
     ]
    },
    {
     "name": "stderr",
     "output_type": "stream",
     "text": [
      "\r",
      "OMP Test Batch for noise_level = 0.05:  64%|██████▍   | 128/200 [2:37:12<43:26, 36.20s/it]"
     ]
    },
    {
     "name": "stderr",
     "output_type": "stream",
     "text": [
      "\r",
      "OMP Test Batch for noise_level = 0.08:  63%|██████▎   | 126/200 [2:37:15<36:28, 29.58s/it]"
     ]
    },
    {
     "name": "stderr",
     "output_type": "stream",
     "text": [
      "\r",
      "OMP Test Batch for noise_level = 0.14:  67%|██████▋   | 134/200 [2:37:12<30:31, 27.74s/it]"
     ]
    },
    {
     "name": "stderr",
     "output_type": "stream",
     "text": [
      "\r",
      "OMP Test Batch for noise_level = 0.16:  68%|██████▊   | 135/200 [2:37:13<38:27, 35.50s/it]"
     ]
    },
    {
     "name": "stderr",
     "output_type": "stream",
     "text": [
      "\r",
      "OMP Test Batch for noise_level = 0.06:  63%|██████▎   | 126/200 [2:37:20<42:44, 34.66s/it]"
     ]
    },
    {
     "name": "stderr",
     "output_type": "stream",
     "text": [
      "\r",
      "OMP Test Batch for noise_level = 0.00:  64%|██████▎   | 127/200 [2:37:25<43:52, 36.06s/it]"
     ]
    },
    {
     "name": "stderr",
     "output_type": "stream",
     "text": [
      "\r",
      "OMP Test Batch for noise_level = 0.18:  64%|██████▍   | 129/200 [2:37:17<39:19, 33.24s/it]"
     ]
    },
    {
     "name": "stderr",
     "output_type": "stream",
     "text": [
      "\r",
      "OMP Test Batch for noise_level = 0.04:  66%|██████▌   | 132/200 [2:37:27<30:45, 27.14s/it]"
     ]
    },
    {
     "name": "stderr",
     "output_type": "stream",
     "text": [
      "\r",
      "OMP Test Batch for noise_level = 0.10:  66%|██████▌   | 132/200 [2:37:25<31:58, 28.22s/it]"
     ]
    },
    {
     "name": "stderr",
     "output_type": "stream",
     "text": [
      "\r",
      "OMP Test Batch for noise_level = 0.03:  65%|██████▌   | 130/200 [2:37:33<32:37, 27.97s/it]\r",
      "OMP Test Batch for noise_level = 0.01:  66%|██████▌   | 131/200 [2:37:34<32:54, 28.61s/it]"
     ]
    },
    {
     "name": "stderr",
     "output_type": "stream",
     "text": [
      "\r",
      "OMP Test Batch for noise_level = 0.12:  65%|██████▌   | 130/200 [2:37:27<36:02, 30.89s/it]"
     ]
    },
    {
     "name": "stderr",
     "output_type": "stream",
     "text": [
      "\r",
      "OMP Test Batch for noise_level = 0.20:  64%|██████▎   | 127/200 [2:37:28<43:46, 35.98s/it]"
     ]
    },
    {
     "name": "stderr",
     "output_type": "stream",
     "text": [
      "\r",
      "OMP Test Batch for noise_level = 0.02:  65%|██████▌   | 130/200 [2:37:41<41:31, 35.59s/it]"
     ]
    },
    {
     "name": "stderr",
     "output_type": "stream",
     "text": [
      "\r",
      "OMP Test Batch for noise_level = 0.07:  64%|██████▍   | 129/200 [2:37:37<33:44, 28.52s/it]"
     ]
    },
    {
     "name": "stderr",
     "output_type": "stream",
     "text": [
      "\r",
      "OMP Test Batch for noise_level = 0.09:  66%|██████▌   | 131/200 [2:37:36<40:58, 35.63s/it]"
     ]
    },
    {
     "name": "stderr",
     "output_type": "stream",
     "text": [
      "\r",
      "OMP Test Batch for noise_level = 0.14:  68%|██████▊   | 135/200 [2:37:41<30:21, 28.03s/it]"
     ]
    },
    {
     "name": "stderr",
     "output_type": "stream",
     "text": [
      "\r",
      "OMP Test Batch for noise_level = 0.08:  64%|██████▎   | 127/200 [2:37:45<36:15, 29.81s/it]\r",
      "OMP Test Batch for noise_level = 0.05:  64%|██████▍   | 129/200 [2:37:48<42:41, 36.08s/it]"
     ]
    },
    {
     "name": "stderr",
     "output_type": "stream",
     "text": [
      "\r",
      "OMP Test Batch for noise_level = 0.16:  68%|██████▊   | 136/200 [2:37:46<36:57, 34.64s/it]"
     ]
    },
    {
     "name": "stderr",
     "output_type": "stream",
     "text": [
      "\r",
      "OMP Test Batch for noise_level = 0.04:  66%|██████▋   | 133/200 [2:37:55<30:39, 27.46s/it]"
     ]
    },
    {
     "name": "stderr",
     "output_type": "stream",
     "text": [
      "\r",
      "OMP Test Batch for noise_level = 0.10:  66%|██████▋   | 133/200 [2:37:51<30:48, 27.60s/it]"
     ]
    },
    {
     "name": "stderr",
     "output_type": "stream",
     "text": [
      "\r",
      "OMP Test Batch for noise_level = 0.06:  64%|██████▎   | 127/200 [2:37:56<42:49, 35.20s/it]"
     ]
    },
    {
     "name": "stderr",
     "output_type": "stream",
     "text": [
      "\r",
      "OMP Test Batch for noise_level = 0.00:  64%|██████▍   | 128/200 [2:38:02<43:20, 36.11s/it]"
     ]
    },
    {
     "name": "stderr",
     "output_type": "stream",
     "text": [
      "\r",
      "OMP Test Batch for noise_level = 0.03:  66%|██████▌   | 131/200 [2:38:01<32:16, 28.06s/it]\r",
      "OMP Test Batch for noise_level = 0.01:  66%|██████▌   | 132/200 [2:38:03<32:20, 28.53s/it]"
     ]
    },
    {
     "name": "stderr",
     "output_type": "stream",
     "text": [
      "\r",
      "OMP Test Batch for noise_level = 0.12:  66%|██████▌   | 131/200 [2:37:56<34:40, 30.15s/it]"
     ]
    },
    {
     "name": "stderr",
     "output_type": "stream",
     "text": [
      "\r",
      "OMP Test Batch for noise_level = 0.18:  65%|██████▌   | 130/200 [2:37:54<40:12, 34.46s/it]"
     ]
    },
    {
     "name": "stderr",
     "output_type": "stream",
     "text": [
      "\r",
      "OMP Test Batch for noise_level = 0.07:  65%|██████▌   | 130/200 [2:38:03<32:20, 27.72s/it]"
     ]
    },
    {
     "name": "stderr",
     "output_type": "stream",
     "text": [
      "\r",
      "OMP Test Batch for noise_level = 0.20:  64%|██████▍   | 128/200 [2:38:03<43:06, 35.93s/it]"
     ]
    },
    {
     "name": "stderr",
     "output_type": "stream",
     "text": [
      "\r",
      "OMP Test Batch for noise_level = 0.02:  66%|██████▌   | 131/200 [2:38:16<40:54, 35.58s/it]"
     ]
    },
    {
     "name": "stderr",
     "output_type": "stream",
     "text": [
      "\r",
      "OMP Test Batch for noise_level = 0.14:  68%|██████▊   | 136/200 [2:38:12<31:07, 29.18s/it]"
     ]
    },
    {
     "name": "stderr",
     "output_type": "stream",
     "text": [
      "\r",
      "OMP Test Batch for noise_level = 0.09:  66%|██████▌   | 132/200 [2:38:16<41:42, 36.79s/it]"
     ]
    },
    {
     "name": "stderr",
     "output_type": "stream",
     "text": [
      "\r",
      "OMP Test Batch for noise_level = 0.05:  65%|██████▌   | 130/200 [2:38:20<40:36, 34.81s/it]"
     ]
    },
    {
     "name": "stderr",
     "output_type": "stream",
     "text": [
      "\r",
      "OMP Test Batch for noise_level = 0.04:  67%|██████▋   | 134/200 [2:38:23<30:19, 27.57s/it]"
     ]
    },
    {
     "name": "stderr",
     "output_type": "stream",
     "text": [
      "\r",
      "OMP Test Batch for noise_level = 0.01:  66%|██████▋   | 133/200 [2:38:28<30:56, 27.70s/it]"
     ]
    },
    {
     "name": "stderr",
     "output_type": "stream",
     "text": [
      "\r",
      "OMP Test Batch for noise_level = 0.16:  68%|██████▊   | 137/200 [2:38:18<35:39, 33.97s/it]"
     ]
    },
    {
     "name": "stderr",
     "output_type": "stream",
     "text": [
      "\r",
      "OMP Test Batch for noise_level = 0.12:  66%|██████▌   | 132/200 [2:38:22<32:44, 28.89s/it]\r",
      "OMP Test Batch for noise_level = 0.10:  67%|██████▋   | 134/200 [2:38:23<31:46, 28.89s/it]"
     ]
    },
    {
     "name": "stderr",
     "output_type": "stream",
     "text": [
      "\r",
      "OMP Test Batch for noise_level = 0.03:  66%|██████▌   | 132/200 [2:38:29<31:51, 28.11s/it]"
     ]
    },
    {
     "name": "stderr",
     "output_type": "stream",
     "text": [
      "\r",
      "OMP Test Batch for noise_level = 0.08:  64%|██████▍   | 128/200 [2:38:25<39:23, 32.83s/it]"
     ]
    },
    {
     "name": "stderr",
     "output_type": "stream",
     "text": [
      "\r",
      "OMP Test Batch for noise_level = 0.06:  64%|██████▍   | 128/200 [2:38:32<42:13, 35.19s/it]"
     ]
    },
    {
     "name": "stderr",
     "output_type": "stream",
     "text": [
      "\r",
      "OMP Test Batch for noise_level = 0.00:  64%|██████▍   | 129/200 [2:38:37<42:26, 35.86s/it]\r",
      "OMP Test Batch for noise_level = 0.07:  66%|██████▌   | 131/200 [2:38:31<31:58, 27.81s/it]"
     ]
    },
    {
     "name": "stderr",
     "output_type": "stream",
     "text": [
      "\r",
      "OMP Test Batch for noise_level = 0.18:  66%|██████▌   | 131/200 [2:38:35<41:44, 36.30s/it]"
     ]
    },
    {
     "name": "stderr",
     "output_type": "stream",
     "text": [
      "\r",
      "OMP Test Batch for noise_level = 0.14:  68%|██████▊   | 137/200 [2:38:41<30:18, 28.86s/it]"
     ]
    },
    {
     "name": "stderr",
     "output_type": "stream",
     "text": [
      "\r",
      "OMP Test Batch for noise_level = 0.20:  64%|██████▍   | 129/200 [2:38:39<42:30, 35.92s/it]"
     ]
    },
    {
     "name": "stderr",
     "output_type": "stream",
     "text": [
      "\r",
      "OMP Test Batch for noise_level = 0.02:  66%|██████▌   | 132/200 [2:38:52<40:21, 35.62s/it]"
     ]
    },
    {
     "name": "stderr",
     "output_type": "stream",
     "text": [
      "\r",
      "OMP Test Batch for noise_level = 0.04:  68%|██████▊   | 135/200 [2:38:51<29:58, 27.67s/it]"
     ]
    },
    {
     "name": "stderr",
     "output_type": "stream",
     "text": [
      "\r",
      "OMP Test Batch for noise_level = 0.10:  68%|██████▊   | 135/200 [2:38:49<30:19, 27.99s/it]"
     ]
    },
    {
     "name": "stderr",
     "output_type": "stream",
     "text": [
      "\r",
      "OMP Test Batch for noise_level = 0.03:  66%|██████▋   | 133/200 [2:38:55<30:38, 27.44s/it]"
     ]
    },
    {
     "name": "stderr",
     "output_type": "stream",
     "text": [
      "\r",
      "OMP Test Batch for noise_level = 0.01:  67%|██████▋   | 134/200 [2:38:57<30:44, 27.95s/it]"
     ]
    },
    {
     "name": "stderr",
     "output_type": "stream",
     "text": [
      "\r",
      "OMP Test Batch for noise_level = 0.12:  66%|██████▋   | 133/200 [2:38:50<32:04, 28.72s/it]\r",
      "OMP Test Batch for noise_level = 0.05:  66%|██████▌   | 131/200 [2:38:55<40:18, 35.05s/it]"
     ]
    },
    {
     "name": "stderr",
     "output_type": "stream",
     "text": [
      "\r",
      "OMP Test Batch for noise_level = 0.16:  69%|██████▉   | 138/200 [2:38:54<35:36, 34.46s/it]"
     ]
    },
    {
     "name": "stderr",
     "output_type": "stream",
     "text": [
      "\r",
      "OMP Test Batch for noise_level = 0.07:  66%|██████▌   | 132/200 [2:39:00<31:57, 28.20s/it]"
     ]
    },
    {
     "name": "stderr",
     "output_type": "stream",
     "text": [
      "\r",
      "OMP Test Batch for noise_level = 0.08:  64%|██████▍   | 129/200 [2:39:05<41:30, 35.08s/it]\r",
      "OMP Test Batch for noise_level = 0.00:  65%|██████▌   | 130/200 [2:39:12<41:38, 35.70s/it]"
     ]
    },
    {
     "name": "stderr",
     "output_type": "stream",
     "text": [
      "\r",
      "OMP Test Batch for noise_level = 0.06:  64%|██████▍   | 129/200 [2:39:08<41:58, 35.48s/it]\r",
      "OMP Test Batch for noise_level = 0.09:  66%|██████▋   | 133/200 [2:39:05<45:17, 40.56s/it]"
     ]
    },
    {
     "name": "stderr",
     "output_type": "stream",
     "text": [
      "\r",
      "OMP Test Batch for noise_level = 0.14:  69%|██████▉   | 138/200 [2:39:09<29:38, 28.69s/it]"
     ]
    },
    {
     "name": "stderr",
     "output_type": "stream",
     "text": [
      "\r",
      "OMP Test Batch for noise_level = 0.04:  68%|██████▊   | 136/200 [2:39:19<29:38, 27.79s/it]"
     ]
    },
    {
     "name": "stderr",
     "output_type": "stream",
     "text": [
      "\r",
      "OMP Test Batch for noise_level = 0.10:  68%|██████▊   | 136/200 [2:39:17<29:56, 28.07s/it]"
     ]
    },
    {
     "name": "stderr",
     "output_type": "stream",
     "text": [
      "\r",
      "OMP Test Batch for noise_level = 0.03:  67%|██████▋   | 134/200 [2:39:23<30:29, 27.72s/it]"
     ]
    },
    {
     "name": "stderr",
     "output_type": "stream",
     "text": [
      "\r",
      "OMP Test Batch for noise_level = 0.01:  68%|██████▊   | 135/200 [2:39:25<30:23, 28.06s/it]"
     ]
    },
    {
     "name": "stderr",
     "output_type": "stream",
     "text": [
      "\r",
      "OMP Test Batch for noise_level = 0.18:  66%|██████▌   | 132/200 [2:39:15<42:35, 37.58s/it]"
     ]
    },
    {
     "name": "stderr",
     "output_type": "stream",
     "text": [
      "\r",
      "OMP Test Batch for noise_level = 0.20:  65%|██████▌   | 130/200 [2:39:15<41:49, 35.85s/it]\r",
      "OMP Test Batch for noise_level = 0.12:  67%|██████▋   | 134/200 [2:39:18<31:28, 28.62s/it]"
     ]
    },
    {
     "name": "stderr",
     "output_type": "stream",
     "text": [
      "\r",
      "OMP Test Batch for noise_level = 0.02:  66%|██████▋   | 133/200 [2:39:28<39:47, 35.63s/it]"
     ]
    },
    {
     "name": "stderr",
     "output_type": "stream",
     "text": [
      "\r",
      "OMP Test Batch for noise_level = 0.07:  66%|██████▋   | 133/200 [2:39:26<30:39, 27.45s/it]"
     ]
    },
    {
     "name": "stderr",
     "output_type": "stream",
     "text": [
      "\r",
      "OMP Test Batch for noise_level = 0.05:  66%|██████▌   | 132/200 [2:39:31<39:53, 35.20s/it]"
     ]
    },
    {
     "name": "stderr",
     "output_type": "stream",
     "text": [
      "\r",
      "OMP Test Batch for noise_level = 0.16:  70%|██████▉   | 139/200 [2:39:29<35:14, 34.67s/it]"
     ]
    },
    {
     "name": "stderr",
     "output_type": "stream",
     "text": [
      "\r",
      "OMP Test Batch for noise_level = 0.00:  66%|██████▌   | 131/200 [2:39:48<40:59, 35.64s/it]"
     ]
    },
    {
     "name": "stderr",
     "output_type": "stream",
     "text": [
      "\r",
      "OMP Test Batch for noise_level = 0.14:  70%|██████▉   | 139/200 [2:39:38<29:13, 28.75s/it]\r",
      "OMP Test Batch for noise_level = 0.06:  65%|██████▌   | 130/200 [2:39:44<41:31, 35.60s/it]"
     ]
    },
    {
     "name": "stderr",
     "output_type": "stream",
     "text": [
      "\r",
      "OMP Test Batch for noise_level = 0.08:  65%|██████▌   | 130/200 [2:39:43<41:52, 35.89s/it]"
     ]
    },
    {
     "name": "stderr",
     "output_type": "stream",
     "text": [
      "\r",
      "OMP Test Batch for noise_level = 0.04:  68%|██████▊   | 137/200 [2:39:48<29:30, 28.10s/it]"
     ]
    },
    {
     "name": "stderr",
     "output_type": "stream",
     "text": [
      "\r",
      "OMP Test Batch for noise_level = 0.03:  68%|██████▊   | 135/200 [2:39:50<29:39, 27.38s/it]"
     ]
    },
    {
     "name": "stderr",
     "output_type": "stream",
     "text": [
      "\r",
      "OMP Test Batch for noise_level = 0.12:  68%|██████▊   | 135/200 [2:39:45<30:21, 28.02s/it]\r",
      "OMP Test Batch for noise_level = 0.10:  68%|██████▊   | 137/200 [2:39:46<29:48, 28.40s/it]"
     ]
    },
    {
     "name": "stderr",
     "output_type": "stream",
     "text": [
      "\r",
      "OMP Test Batch for noise_level = 0.01:  68%|██████▊   | 136/200 [2:39:54<30:11, 28.30s/it]"
     ]
    },
    {
     "name": "stderr",
     "output_type": "stream",
     "text": [
      "\r",
      "OMP Test Batch for noise_level = 0.20:  66%|██████▌   | 131/200 [2:39:47<39:58, 34.76s/it]"
     ]
    },
    {
     "name": "stderr",
     "output_type": "stream",
     "text": [
      "\r",
      "OMP Test Batch for noise_level = 0.09:  67%|██████▋   | 134/200 [2:39:53<47:03, 42.78s/it]"
     ]
    },
    {
     "name": "stderr",
     "output_type": "stream",
     "text": [
      "\r",
      "OMP Test Batch for noise_level = 0.07:  67%|██████▋   | 134/200 [2:39:55<30:46, 27.98s/it]\r",
      "OMP Test Batch for noise_level = 0.18:  66%|██████▋   | 133/200 [2:39:49<40:50, 36.57s/it]"
     ]
    },
    {
     "name": "stderr",
     "output_type": "stream",
     "text": [
      "\r",
      "OMP Test Batch for noise_level = 0.02:  67%|██████▋   | 134/200 [2:40:02<38:52, 35.34s/it]"
     ]
    },
    {
     "name": "stderr",
     "output_type": "stream",
     "text": [
      "\r",
      "OMP Test Batch for noise_level = 0.05:  66%|██████▋   | 133/200 [2:40:06<39:08, 35.06s/it]"
     ]
    },
    {
     "name": "stderr",
     "output_type": "stream",
     "text": [
      "\r",
      "OMP Test Batch for noise_level = 0.14:  70%|███████   | 140/200 [2:40:04<28:03, 28.06s/it]"
     ]
    },
    {
     "name": "stderr",
     "output_type": "stream",
     "text": [
      "\r",
      "OMP Test Batch for noise_level = 0.16:  70%|███████   | 140/200 [2:40:04<34:42, 34.70s/it]"
     ]
    },
    {
     "name": "stderr",
     "output_type": "stream",
     "text": [
      "\r",
      "OMP Test Batch for noise_level = 0.00:  66%|██████▌   | 132/200 [2:40:16<38:00, 33.53s/it]"
     ]
    },
    {
     "name": "stderr",
     "output_type": "stream",
     "text": [
      "\r",
      "OMP Test Batch for noise_level = 0.04:  69%|██████▉   | 138/200 [2:40:15<28:34, 27.65s/it]"
     ]
    },
    {
     "name": "stderr",
     "output_type": "stream",
     "text": [
      "\r",
      "OMP Test Batch for noise_level = 0.06:  66%|██████▌   | 131/200 [2:40:15<39:40, 34.50s/it]"
     ]
    },
    {
     "name": "stderr",
     "output_type": "stream",
     "text": [
      "\r",
      "OMP Test Batch for noise_level = 0.12:  68%|██████▊   | 136/200 [2:40:12<29:25, 27.58s/it]"
     ]
    },
    {
     "name": "stderr",
     "output_type": "stream",
     "text": [
      "\r",
      "OMP Test Batch for noise_level = 0.03:  68%|██████▊   | 136/200 [2:40:19<29:44, 27.89s/it]"
     ]
    },
    {
     "name": "stderr",
     "output_type": "stream",
     "text": [
      "\r",
      "OMP Test Batch for noise_level = 0.10:  69%|██████▉   | 138/200 [2:40:15<29:36, 28.66s/it]"
     ]
    },
    {
     "name": "stderr",
     "output_type": "stream",
     "text": [
      "\r",
      "OMP Test Batch for noise_level = 0.01:  68%|██████▊   | 137/200 [2:40:23<30:00, 28.58s/it]"
     ]
    },
    {
     "name": "stderr",
     "output_type": "stream",
     "text": [
      "\r",
      "OMP Test Batch for noise_level = 0.07:  68%|██████▊   | 135/200 [2:40:24<30:37, 28.26s/it]"
     ]
    },
    {
     "name": "stderr",
     "output_type": "stream",
     "text": [
      "\r",
      "OMP Test Batch for noise_level = 0.08:  66%|██████▌   | 131/200 [2:40:24<43:02, 37.43s/it]"
     ]
    },
    {
     "name": "stderr",
     "output_type": "stream",
     "text": [
      "\r",
      "OMP Test Batch for noise_level = 0.20:  66%|██████▌   | 132/200 [2:40:19<38:23, 33.87s/it]"
     ]
    },
    {
     "name": "stderr",
     "output_type": "stream",
     "text": [
      "\r",
      "OMP Test Batch for noise_level = 0.18:  67%|██████▋   | 134/200 [2:40:26<40:16, 36.61s/it]"
     ]
    },
    {
     "name": "stderr",
     "output_type": "stream",
     "text": [
      "\r",
      "OMP Test Batch for noise_level = 0.02:  68%|██████▊   | 135/200 [2:40:38<38:20, 35.39s/it]"
     ]
    },
    {
     "name": "stderr",
     "output_type": "stream",
     "text": [
      "\r",
      "OMP Test Batch for noise_level = 0.14:  70%|███████   | 141/200 [2:40:32<27:33, 28.02s/it]"
     ]
    },
    {
     "name": "stderr",
     "output_type": "stream",
     "text": [
      "\r",
      "OMP Test Batch for noise_level = 0.09:  68%|██████▊   | 135/200 [2:40:36<46:31, 42.95s/it]"
     ]
    },
    {
     "name": "stderr",
     "output_type": "stream",
     "text": [
      "\r",
      "OMP Test Batch for noise_level = 0.05:  67%|██████▋   | 134/200 [2:40:42<38:51, 35.33s/it]"
     ]
    },
    {
     "name": "stderr",
     "output_type": "stream",
     "text": [
      "\r",
      "OMP Test Batch for noise_level = 0.03:  68%|██████▊   | 137/200 [2:40:45<28:35, 27.23s/it]"
     ]
    },
    {
     "name": "stderr",
     "output_type": "stream",
     "text": [
      "\r",
      "OMP Test Batch for noise_level = 0.10:  70%|██████▉   | 139/200 [2:40:40<28:03, 27.59s/it]\r",
      "OMP Test Batch for noise_level = 0.12:  68%|██████▊   | 137/200 [2:40:40<29:05, 27.71s/it]"
     ]
    },
    {
     "name": "stderr",
     "output_type": "stream",
     "text": [
      "\r",
      "OMP Test Batch for noise_level = 0.16:  70%|███████   | 141/200 [2:40:40<34:35, 35.17s/it]"
     ]
    },
    {
     "name": "stderr",
     "output_type": "stream",
     "text": [
      "\r",
      "OMP Test Batch for noise_level = 0.01:  69%|██████▉   | 138/200 [2:40:51<29:14, 28.30s/it]"
     ]
    },
    {
     "name": "stderr",
     "output_type": "stream",
     "text": [
      "\r",
      "OMP Test Batch for noise_level = 0.00:  66%|██████▋   | 133/200 [2:40:53<38:22, 34.37s/it]"
     ]
    },
    {
     "name": "stderr",
     "output_type": "stream",
     "text": [
      "\r",
      "OMP Test Batch for noise_level = 0.04:  70%|██████▉   | 139/200 [2:40:51<30:41, 30.18s/it]"
     ]
    },
    {
     "name": "stderr",
     "output_type": "stream",
     "text": [
      "\r",
      "OMP Test Batch for noise_level = 0.07:  68%|██████▊   | 136/200 [2:40:52<29:58, 28.10s/it]"
     ]
    },
    {
     "name": "stderr",
     "output_type": "stream",
     "text": [
      "\r",
      "OMP Test Batch for noise_level = 0.06:  66%|██████▌   | 132/200 [2:40:55<40:52, 36.07s/it]"
     ]
    },
    {
     "name": "stderr",
     "output_type": "stream",
     "text": [
      "\r",
      "OMP Test Batch for noise_level = 0.18:  68%|██████▊   | 135/200 [2:40:54<36:48, 33.98s/it]"
     ]
    },
    {
     "name": "stderr",
     "output_type": "stream",
     "text": [
      "\r",
      "OMP Test Batch for noise_level = 0.08:  66%|██████▌   | 132/200 [2:41:00<41:59, 37.05s/it]"
     ]
    },
    {
     "name": "stderr",
     "output_type": "stream",
     "text": [
      "\r",
      "OMP Test Batch for noise_level = 0.20:  66%|██████▋   | 133/200 [2:40:57<39:21, 35.24s/it]"
     ]
    },
    {
     "name": "stderr",
     "output_type": "stream",
     "text": [
      "\r",
      "OMP Test Batch for noise_level = 0.14:  71%|███████   | 142/200 [2:41:00<26:59, 27.92s/it]"
     ]
    },
    {
     "name": "stderr",
     "output_type": "stream",
     "text": [
      "\r",
      "OMP Test Batch for noise_level = 0.12:  69%|██████▉   | 138/200 [2:41:05<28:02, 27.14s/it]"
     ]
    },
    {
     "name": "stderr",
     "output_type": "stream",
     "text": [
      "\r",
      "OMP Test Batch for noise_level = 0.02:  68%|██████▊   | 136/200 [2:41:13<37:50, 35.48s/it]\r",
      "OMP Test Batch for noise_level = 0.03:  69%|██████▉   | 138/200 [2:41:13<28:23, 27.47s/it]"
     ]
    },
    {
     "name": "stderr",
     "output_type": "stream",
     "text": [
      "\r",
      "OMP Test Batch for noise_level = 0.09:  68%|██████▊   | 136/200 [2:41:09<42:26, 39.79s/it]"
     ]
    },
    {
     "name": "stderr",
     "output_type": "stream",
     "text": [
      "\r",
      "OMP Test Batch for noise_level = 0.10:  70%|███████   | 140/200 [2:41:09<27:47, 27.80s/it]"
     ]
    },
    {
     "name": "stderr",
     "output_type": "stream",
     "text": [
      "\r",
      "OMP Test Batch for noise_level = 0.01:  70%|██████▉   | 139/200 [2:41:17<28:01, 27.57s/it]"
     ]
    },
    {
     "name": "stderr",
     "output_type": "stream",
     "text": [
      "\r",
      "OMP Test Batch for noise_level = 0.05:  68%|██████▊   | 135/200 [2:41:18<38:33, 35.59s/it]"
     ]
    },
    {
     "name": "stderr",
     "output_type": "stream",
     "text": [
      "\r",
      "OMP Test Batch for noise_level = 0.07:  68%|██████▊   | 137/200 [2:41:18<28:53, 27.52s/it]"
     ]
    },
    {
     "name": "stderr",
     "output_type": "stream",
     "text": [
      "\r",
      "OMP Test Batch for noise_level = 0.16:  71%|███████   | 142/200 [2:41:16<34:14, 35.42s/it]"
     ]
    },
    {
     "name": "stderr",
     "output_type": "stream",
     "text": [
      "\r",
      "OMP Test Batch for noise_level = 0.00:  67%|██████▋   | 134/200 [2:41:28<38:12, 34.74s/it]"
     ]
    },
    {
     "name": "stderr",
     "output_type": "stream",
     "text": [
      "\r",
      "OMP Test Batch for noise_level = 0.18:  68%|██████▊   | 136/200 [2:41:20<33:43, 31.61s/it]"
     ]
    },
    {
     "name": "stderr",
     "output_type": "stream",
     "text": [
      "\r",
      "OMP Test Batch for noise_level = 0.04:  70%|███████   | 140/200 [2:41:30<33:01, 33.03s/it]"
     ]
    },
    {
     "name": "stderr",
     "output_type": "stream",
     "text": [
      "\r",
      "OMP Test Batch for noise_level = 0.06:  66%|██████▋   | 133/200 [2:41:31<40:18, 36.10s/it]"
     ]
    },
    {
     "name": "stderr",
     "output_type": "stream",
     "text": [
      "\r",
      "OMP Test Batch for noise_level = 0.14:  72%|███████▏  | 143/200 [2:41:28<26:39, 28.07s/it]"
     ]
    },
    {
     "name": "stderr",
     "output_type": "stream",
     "text": [
      "\r",
      "OMP Test Batch for noise_level = 0.08:  66%|██████▋   | 133/200 [2:41:33<39:47, 35.63s/it]"
     ]
    },
    {
     "name": "stderr",
     "output_type": "stream",
     "text": [
      "\r",
      "OMP Test Batch for noise_level = 0.12:  70%|██████▉   | 139/200 [2:41:31<27:12, 26.76s/it]"
     ]
    },
    {
     "name": "stderr",
     "output_type": "stream",
     "text": [
      "\r",
      "OMP Test Batch for noise_level = 0.03:  70%|██████▉   | 139/200 [2:41:41<28:08, 27.68s/it]"
     ]
    },
    {
     "name": "stderr",
     "output_type": "stream",
     "text": [
      "\r",
      "OMP Test Batch for noise_level = 0.01:  70%|███████   | 140/200 [2:41:45<27:50, 27.83s/it]"
     ]
    },
    {
     "name": "stderr",
     "output_type": "stream",
     "text": [
      "\r",
      "OMP Test Batch for noise_level = 0.10:  70%|███████   | 141/200 [2:41:40<28:19, 28.80s/it]"
     ]
    },
    {
     "name": "stderr",
     "output_type": "stream",
     "text": [
      "\r",
      "OMP Test Batch for noise_level = 0.07:  69%|██████▉   | 138/200 [2:41:44<27:56, 27.04s/it]"
     ]
    },
    {
     "name": "stderr",
     "output_type": "stream",
     "text": [
      "\r",
      "OMP Test Batch for noise_level = 0.02:  68%|██████▊   | 137/200 [2:41:49<37:21, 35.58s/it]"
     ]
    },
    {
     "name": "stderr",
     "output_type": "stream",
     "text": [
      "\r",
      "OMP Test Batch for noise_level = 0.09:  68%|██████▊   | 137/200 [2:41:45<40:33, 38.63s/it]"
     ]
    },
    {
     "name": "stderr",
     "output_type": "stream",
     "text": [
      "\r",
      "OMP Test Batch for noise_level = 0.05:  68%|██████▊   | 136/200 [2:41:54<38:07, 35.75s/it]"
     ]
    },
    {
     "name": "stderr",
     "output_type": "stream",
     "text": [
      "\r",
      "OMP Test Batch for noise_level = 0.18:  68%|██████▊   | 137/200 [2:41:48<32:07, 30.59s/it]"
     ]
    },
    {
     "name": "stderr",
     "output_type": "stream",
     "text": [
      "\r",
      "OMP Test Batch for noise_level = 0.20:  67%|██████▋   | 134/200 [2:41:48<44:01, 40.02s/it]"
     ]
    },
    {
     "name": "stderr",
     "output_type": "stream",
     "text": [
      "\r",
      "OMP Test Batch for noise_level = 0.00:  68%|██████▊   | 135/200 [2:42:02<37:11, 34.33s/it]"
     ]
    },
    {
     "name": "stderr",
     "output_type": "stream",
     "text": [
      "\r",
      "OMP Test Batch for noise_level = 0.16:  72%|███████▏  | 143/200 [2:41:52<33:58, 35.76s/it]"
     ]
    },
    {
     "name": "stderr",
     "output_type": "stream",
     "text": [
      "\r",
      "OMP Test Batch for noise_level = 0.14:  72%|███████▏  | 144/200 [2:41:54<25:31, 27.34s/it]"
     ]
    },
    {
     "name": "stderr",
     "output_type": "stream",
     "text": [
      "\r",
      "OMP Test Batch for noise_level = 0.08:  67%|██████▋   | 134/200 [2:41:59<35:59, 32.72s/it]"
     ]
    },
    {
     "name": "stderr",
     "output_type": "stream",
     "text": [
      "\r",
      "OMP Test Batch for noise_level = 0.12:  70%|███████   | 140/200 [2:41:57<26:23, 26.40s/it]"
     ]
    },
    {
     "name": "stderr",
     "output_type": "stream",
     "text": [
      "\r",
      "OMP Test Batch for noise_level = 0.04:  70%|███████   | 141/200 [2:42:07<33:24, 33.98s/it]"
     ]
    },
    {
     "name": "stderr",
     "output_type": "stream",
     "text": [
      "\r",
      "OMP Test Batch for noise_level = 0.03:  70%|███████   | 140/200 [2:42:09<27:54, 27.91s/it]"
     ]
    },
    {
     "name": "stderr",
     "output_type": "stream",
     "text": [
      "\r",
      "OMP Test Batch for noise_level = 0.06:  67%|██████▋   | 134/200 [2:42:08<39:59, 36.36s/it]"
     ]
    },
    {
     "name": "stderr",
     "output_type": "stream",
     "text": [
      "\r",
      "OMP Test Batch for noise_level = 0.01:  70%|███████   | 141/200 [2:42:14<27:32, 28.02s/it]"
     ]
    },
    {
     "name": "stderr",
     "output_type": "stream",
     "text": [
      "\r",
      "OMP Test Batch for noise_level = 0.07:  70%|██████▉   | 139/200 [2:42:10<27:14, 26.80s/it]"
     ]
    },
    {
     "name": "stderr",
     "output_type": "stream",
     "text": [
      "\r",
      "OMP Test Batch for noise_level = 0.10:  71%|███████   | 142/200 [2:42:08<27:42, 28.66s/it]"
     ]
    },
    {
     "name": "stderr",
     "output_type": "stream",
     "text": [
      "\r",
      "OMP Test Batch for noise_level = 0.02:  69%|██████▉   | 138/200 [2:42:25<36:43, 35.54s/it]\r",
      "OMP Test Batch for noise_level = 0.18:  69%|██████▉   | 138/200 [2:42:15<30:18, 29.33s/it]"
     ]
    },
    {
     "name": "stderr",
     "output_type": "stream",
     "text": [
      "\r",
      "OMP Test Batch for noise_level = 0.14:  72%|███████▎  | 145/200 [2:42:20<24:44, 26.98s/it]"
     ]
    },
    {
     "name": "stderr",
     "output_type": "stream",
     "text": [
      "\r",
      "OMP Test Batch for noise_level = 0.12:  70%|███████   | 141/200 [2:42:23<25:49, 26.26s/it]"
     ]
    },
    {
     "name": "stderr",
     "output_type": "stream",
     "text": [
      "\r",
      "OMP Test Batch for noise_level = 0.05:  68%|██████▊   | 137/200 [2:42:29<37:25, 35.64s/it]"
     ]
    },
    {
     "name": "stderr",
     "output_type": "stream",
     "text": [
      "\r",
      "OMP Test Batch for noise_level = 0.08:  68%|██████▊   | 135/200 [2:42:27<34:06, 31.48s/it]"
     ]
    },
    {
     "name": "stderr",
     "output_type": "stream",
     "text": [
      "\r",
      "OMP Test Batch for noise_level = 0.09:  69%|██████▉   | 138/200 [2:42:29<41:32, 40.20s/it]"
     ]
    },
    {
     "name": "stderr",
     "output_type": "stream",
     "text": [
      "\r",
      "OMP Test Batch for noise_level = 0.20:  68%|██████▊   | 135/200 [2:42:24<41:53, 38.67s/it]"
     ]
    },
    {
     "name": "stderr",
     "output_type": "stream",
     "text": [
      "\r",
      "OMP Test Batch for noise_level = 0.16:  72%|███████▏  | 144/200 [2:42:30<33:59, 36.41s/it]\r",
      "OMP Test Batch for noise_level = 0.07:  70%|███████   | 140/200 [2:42:36<26:31, 26.52s/it]"
     ]
    },
    {
     "name": "stderr",
     "output_type": "stream",
     "text": [
      "\r",
      "OMP Test Batch for noise_level = 0.01:  71%|███████   | 142/200 [2:42:42<27:09, 28.09s/it]"
     ]
    },
    {
     "name": "stderr",
     "output_type": "stream",
     "text": [
      "\r",
      "OMP Test Batch for noise_level = 0.03:  70%|███████   | 141/200 [2:42:42<28:45, 29.25s/it]"
     ]
    },
    {
     "name": "stderr",
     "output_type": "stream",
     "text": [
      "\r",
      "OMP Test Batch for noise_level = 0.10:  72%|███████▏  | 143/200 [2:42:36<27:02, 28.47s/it]"
     ]
    },
    {
     "name": "stderr",
     "output_type": "stream",
     "text": [
      "\r",
      "OMP Test Batch for noise_level = 0.00:  68%|██████▊   | 136/200 [2:42:45<39:32, 37.08s/it]"
     ]
    },
    {
     "name": "stderr",
     "output_type": "stream",
     "text": [
      "\r",
      "OMP Test Batch for noise_level = 0.04:  71%|███████   | 142/200 [2:42:46<34:28, 35.67s/it]"
     ]
    },
    {
     "name": "stderr",
     "output_type": "stream",
     "text": [
      "\r",
      "OMP Test Batch for noise_level = 0.06:  68%|██████▊   | 135/200 [2:42:45<39:29, 36.45s/it]"
     ]
    },
    {
     "name": "stderr",
     "output_type": "stream",
     "text": [
      "\r",
      "OMP Test Batch for noise_level = 0.18:  70%|██████▉   | 139/200 [2:42:43<29:33, 29.07s/it]"
     ]
    },
    {
     "name": "stderr",
     "output_type": "stream",
     "text": [
      "\r",
      "OMP Test Batch for noise_level = 0.14:  73%|███████▎  | 146/200 [2:42:49<24:45, 27.51s/it]"
     ]
    },
    {
     "name": "stderr",
     "output_type": "stream",
     "text": [
      "\r",
      "OMP Test Batch for noise_level = 0.12:  71%|███████   | 142/200 [2:42:51<25:57, 26.86s/it]"
     ]
    },
    {
     "name": "stderr",
     "output_type": "stream",
     "text": [
      "\r",
      "OMP Test Batch for noise_level = 0.02:  70%|██████▉   | 139/200 [2:43:00<36:08, 35.55s/it]"
     ]
    },
    {
     "name": "stderr",
     "output_type": "stream",
     "text": [
      "\r",
      "OMP Test Batch for noise_level = 0.08:  68%|██████▊   | 136/200 [2:42:55<32:33, 30.52s/it]"
     ]
    },
    {
     "name": "stderr",
     "output_type": "stream",
     "text": [
      "\r",
      "OMP Test Batch for noise_level = 0.05:  69%|██████▉   | 138/200 [2:43:06<37:05, 35.89s/it]"
     ]
    },
    {
     "name": "stderr",
     "output_type": "stream",
     "text": [
      "\r",
      "OMP Test Batch for noise_level = 0.07:  70%|███████   | 141/200 [2:43:05<26:47, 27.25s/it]"
     ]
    },
    {
     "name": "stderr",
     "output_type": "stream",
     "text": [
      "\r",
      "OMP Test Batch for noise_level = 0.01:  72%|███████▏  | 143/200 [2:43:11<26:52, 28.29s/it]"
     ]
    },
    {
     "name": "stderr",
     "output_type": "stream",
     "text": [
      "\r",
      "OMP Test Batch for noise_level = 0.20:  68%|██████▊   | 136/200 [2:43:00<40:24, 37.88s/it]"
     ]
    },
    {
     "name": "stderr",
     "output_type": "stream",
     "text": [
      "\r",
      "OMP Test Batch for noise_level = 0.10:  72%|███████▏  | 144/200 [2:43:05<26:37, 28.52s/it]"
     ]
    },
    {
     "name": "stderr",
     "output_type": "stream",
     "text": [
      "\r",
      "OMP Test Batch for noise_level = 0.16:  72%|███████▎  | 145/200 [2:43:03<32:27, 35.41s/it]"
     ]
    },
    {
     "name": "stderr",
     "output_type": "stream",
     "text": [
      "\r",
      "OMP Test Batch for noise_level = 0.09:  70%|██████▉   | 139/200 [2:43:09<40:58, 40.30s/it]"
     ]
    },
    {
     "name": "stderr",
     "output_type": "stream",
     "text": [
      "\r",
      "OMP Test Batch for noise_level = 0.03:  71%|███████   | 142/200 [2:43:19<30:39, 31.71s/it]"
     ]
    },
    {
     "name": "stderr",
     "output_type": "stream",
     "text": [
      "\r",
      "OMP Test Batch for noise_level = 0.00:  68%|██████▊   | 137/200 [2:43:23<39:18, 37.43s/it]\r",
      "OMP Test Batch for noise_level = 0.18:  70%|███████   | 140/200 [2:43:12<28:56, 28.94s/it]"
     ]
    },
    {
     "name": "stderr",
     "output_type": "stream",
     "text": [
      "\r",
      "OMP Test Batch for noise_level = 0.06:  68%|██████▊   | 136/200 [2:43:21<38:35, 36.18s/it]"
     ]
    },
    {
     "name": "stderr",
     "output_type": "stream",
     "text": [
      "\r",
      "OMP Test Batch for noise_level = 0.14:  74%|███████▎  | 147/200 [2:43:17<24:33, 27.80s/it]"
     ]
    },
    {
     "name": "stderr",
     "output_type": "stream",
     "text": [
      "\r",
      "OMP Test Batch for noise_level = 0.12:  72%|███████▏  | 143/200 [2:43:19<25:55, 27.29s/it]"
     ]
    },
    {
     "name": "stderr",
     "output_type": "stream",
     "text": [
      "\r",
      "OMP Test Batch for noise_level = 0.04:  72%|███████▏  | 143/200 [2:43:26<35:10, 37.03s/it]"
     ]
    },
    {
     "name": "stderr",
     "output_type": "stream",
     "text": [
      "\r",
      "OMP Test Batch for noise_level = 0.08:  68%|██████▊   | 137/200 [2:43:24<31:23, 29.90s/it]"
     ]
    },
    {
     "name": "stderr",
     "output_type": "stream",
     "text": [
      "\r",
      "OMP Test Batch for noise_level = 0.07:  71%|███████   | 142/200 [2:43:34<26:43, 27.64s/it]"
     ]
    },
    {
     "name": "stderr",
     "output_type": "stream",
     "text": [
      "\r",
      "OMP Test Batch for noise_level = 0.01:  72%|███████▏  | 144/200 [2:43:39<26:27, 28.34s/it]"
     ]
    },
    {
     "name": "stderr",
     "output_type": "stream",
     "text": [
      "\r",
      "OMP Test Batch for noise_level = 0.10:  72%|███████▎  | 145/200 [2:43:33<26:04, 28.44s/it]"
     ]
    },
    {
     "name": "stderr",
     "output_type": "stream",
     "text": [
      "\r",
      "OMP Test Batch for noise_level = 0.02:  70%|███████   | 140/200 [2:43:41<37:02, 37.05s/it]"
     ]
    },
    {
     "name": "stderr",
     "output_type": "stream",
     "text": [
      "\r",
      "OMP Test Batch for noise_level = 0.05:  70%|██████▉   | 139/200 [2:43:41<36:25, 35.83s/it]"
     ]
    },
    {
     "name": "stderr",
     "output_type": "stream",
     "text": [
      "\r",
      "OMP Test Batch for noise_level = 0.20:  68%|██████▊   | 137/200 [2:43:36<39:07, 37.26s/it]"
     ]
    },
    {
     "name": "stderr",
     "output_type": "stream",
     "text": [
      "\r",
      "OMP Test Batch for noise_level = 0.16:  73%|███████▎  | 146/200 [2:43:39<31:58, 35.53s/it]"
     ]
    },
    {
     "name": "stderr",
     "output_type": "stream",
     "text": [
      "\r",
      "OMP Test Batch for noise_level = 0.18:  70%|███████   | 141/200 [2:43:40<28:14, 28.73s/it]"
     ]
    },
    {
     "name": "stderr",
     "output_type": "stream",
     "text": [
      "\r",
      "OMP Test Batch for noise_level = 0.14:  74%|███████▍  | 148/200 [2:43:43<23:35, 27.22s/it]"
     ]
    },
    {
     "name": "stderr",
     "output_type": "stream",
     "text": [
      "\r",
      "OMP Test Batch for noise_level = 0.12:  72%|███████▏  | 144/200 [2:43:48<25:45, 27.59s/it]"
     ]
    },
    {
     "name": "stderr",
     "output_type": "stream",
     "text": [
      "\r",
      "OMP Test Batch for noise_level = 0.03:  72%|███████▏  | 143/200 [2:43:56<31:35, 33.26s/it]"
     ]
    },
    {
     "name": "stderr",
     "output_type": "stream",
     "text": [
      "\r",
      "OMP Test Batch for noise_level = 0.08:  69%|██████▉   | 138/200 [2:43:52<30:21, 29.38s/it]"
     ]
    },
    {
     "name": "stderr",
     "output_type": "stream",
     "text": [
      "\r",
      "OMP Test Batch for noise_level = 0.00:  69%|██████▉   | 138/200 [2:43:59<38:09, 36.92s/it]"
     ]
    },
    {
     "name": "stderr",
     "output_type": "stream",
     "text": [
      "\r",
      "OMP Test Batch for noise_level = 0.04:  72%|███████▏  | 144/200 [2:44:03<34:18, 36.77s/it]"
     ]
    },
    {
     "name": "stderr",
     "output_type": "stream",
     "text": [
      "\r",
      "OMP Test Batch for noise_level = 0.09:  70%|███████   | 140/200 [2:43:59<43:13, 43.23s/it]"
     ]
    },
    {
     "name": "stderr",
     "output_type": "stream",
     "text": [
      "\r",
      "OMP Test Batch for noise_level = 0.07:  72%|███████▏  | 143/200 [2:44:02<26:33, 27.96s/it]\r",
      "OMP Test Batch for noise_level = 0.01:  72%|███████▎  | 145/200 [2:44:07<25:57, 28.32s/it]"
     ]
    },
    {
     "name": "stderr",
     "output_type": "stream",
     "text": [
      "\r",
      "OMP Test Batch for noise_level = 0.10:  73%|███████▎  | 146/200 [2:44:02<25:37, 28.48s/it]"
     ]
    },
    {
     "name": "stderr",
     "output_type": "stream",
     "text": [
      "\r",
      "OMP Test Batch for noise_level = 0.06:  68%|██████▊   | 137/200 [2:44:11<42:21, 40.35s/it]"
     ]
    },
    {
     "name": "stderr",
     "output_type": "stream",
     "text": [
      "\r",
      "OMP Test Batch for noise_level = 0.18:  71%|███████   | 142/200 [2:44:06<27:01, 27.96s/it]"
     ]
    },
    {
     "name": "stderr",
     "output_type": "stream",
     "text": [
      "\r",
      "OMP Test Batch for noise_level = 0.05:  70%|███████   | 140/200 [2:44:17<35:39, 35.65s/it]"
     ]
    },
    {
     "name": "stderr",
     "output_type": "stream",
     "text": [
      "\r",
      "OMP Test Batch for noise_level = 0.14:  74%|███████▍  | 149/200 [2:44:12<23:27, 27.60s/it]"
     ]
    },
    {
     "name": "stderr",
     "output_type": "stream",
     "text": [
      "\r",
      "OMP Test Batch for noise_level = 0.20:  69%|██████▉   | 138/200 [2:44:12<38:06, 36.88s/it]"
     ]
    },
    {
     "name": "stderr",
     "output_type": "stream",
     "text": [
      "\r",
      "OMP Test Batch for noise_level = 0.12:  72%|███████▎  | 145/200 [2:44:16<25:30, 27.84s/it]"
     ]
    },
    {
     "name": "stderr",
     "output_type": "stream",
     "text": [
      "\r",
      "OMP Test Batch for noise_level = 0.16:  74%|███████▎  | 147/200 [2:44:15<31:20, 35.49s/it]"
     ]
    },
    {
     "name": "stderr",
     "output_type": "stream",
     "text": [
      "\r",
      "OMP Test Batch for noise_level = 0.08:  70%|██████▉   | 139/200 [2:44:20<29:27, 28.97s/it]"
     ]
    },
    {
     "name": "stderr",
     "output_type": "stream",
     "text": [
      "\r",
      "OMP Test Batch for noise_level = 0.02:  70%|███████   | 141/200 [2:44:29<39:48, 40.48s/it]"
     ]
    },
    {
     "name": "stderr",
     "output_type": "stream",
     "text": [
      "\r",
      "OMP Test Batch for noise_level = 0.07:  72%|███████▏  | 144/200 [2:44:28<25:30, 27.33s/it]"
     ]
    },
    {
     "name": "stderr",
     "output_type": "stream",
     "text": [
      "\r",
      "OMP Test Batch for noise_level = 0.00:  70%|██████▉   | 139/200 [2:44:35<37:03, 36.45s/it]"
     ]
    },
    {
     "name": "stderr",
     "output_type": "stream",
     "text": [
      "\r",
      "OMP Test Batch for noise_level = 0.03:  72%|███████▏  | 144/200 [2:44:33<31:56, 34.23s/it]"
     ]
    },
    {
     "name": "stderr",
     "output_type": "stream",
     "text": [
      "\r",
      "OMP Test Batch for noise_level = 0.01:  73%|███████▎  | 146/200 [2:44:36<25:30, 28.35s/it]"
     ]
    },
    {
     "name": "stderr",
     "output_type": "stream",
     "text": [
      "\r",
      "OMP Test Batch for noise_level = 0.10:  74%|███████▎  | 147/200 [2:44:30<25:02, 28.34s/it]"
     ]
    },
    {
     "name": "stderr",
     "output_type": "stream",
     "text": [
      "\r",
      "OMP Test Batch for noise_level = 0.18:  72%|███████▏  | 143/200 [2:44:30<25:17, 26.63s/it]"
     ]
    },
    {
     "name": "stderr",
     "output_type": "stream",
     "text": [
      "\r",
      "OMP Test Batch for noise_level = 0.09:  70%|███████   | 141/200 [2:44:35<40:12, 40.90s/it]"
     ]
    },
    {
     "name": "stderr",
     "output_type": "stream",
     "text": [
      "\r",
      "OMP Test Batch for noise_level = 0.04:  72%|███████▎  | 145/200 [2:44:43<34:40, 37.82s/it]"
     ]
    },
    {
     "name": "stderr",
     "output_type": "stream",
     "text": [
      "\r",
      "OMP Test Batch for noise_level = 0.14:  75%|███████▌  | 150/200 [2:44:37<22:32, 27.04s/it]"
     ]
    },
    {
     "name": "stderr",
     "output_type": "stream",
     "text": [
      "\r",
      "OMP Test Batch for noise_level = 0.06:  69%|██████▉   | 138/200 [2:44:47<40:25, 39.12s/it]"
     ]
    },
    {
     "name": "stderr",
     "output_type": "stream",
     "text": [
      "\r",
      "OMP Test Batch for noise_level = 0.08:  70%|███████   | 140/200 [2:44:46<28:09, 28.15s/it]"
     ]
    },
    {
     "name": "stderr",
     "output_type": "stream",
     "text": [
      "\r",
      "OMP Test Batch for noise_level = 0.12:  73%|███████▎  | 146/200 [2:44:45<25:15, 28.06s/it]"
     ]
    },
    {
     "name": "stderr",
     "output_type": "stream",
     "text": [
      "\r",
      "OMP Test Batch for noise_level = 0.05:  70%|███████   | 141/200 [2:44:54<35:29, 36.09s/it]"
     ]
    },
    {
     "name": "stderr",
     "output_type": "stream",
     "text": [
      "\r",
      "OMP Test Batch for noise_level = 0.16:  74%|███████▍  | 148/200 [2:44:49<30:19, 34.98s/it]"
     ]
    },
    {
     "name": "stderr",
     "output_type": "stream",
     "text": [
      "\r",
      "OMP Test Batch for noise_level = 0.20:  70%|██████▉   | 139/200 [2:44:49<37:33, 36.95s/it]"
     ]
    },
    {
     "name": "stderr",
     "output_type": "stream",
     "text": [
      "\r",
      "OMP Test Batch for noise_level = 0.07:  72%|███████▎  | 145/200 [2:44:57<25:24, 27.72s/it]"
     ]
    },
    {
     "name": "stderr",
     "output_type": "stream",
     "text": [
      "\r",
      "OMP Test Batch for noise_level = 0.10:  74%|███████▍  | 148/200 [2:44:55<23:54, 27.58s/it]"
     ]
    },
    {
     "name": "stderr",
     "output_type": "stream",
     "text": [
      "\r",
      "OMP Test Batch for noise_level = 0.01:  74%|███████▎  | 147/200 [2:45:04<25:02, 28.35s/it]"
     ]
    },
    {
     "name": "stderr",
     "output_type": "stream",
     "text": [
      "\r",
      "OMP Test Batch for noise_level = 0.18:  72%|███████▏  | 144/200 [2:44:58<25:16, 27.08s/it]"
     ]
    },
    {
     "name": "stderr",
     "output_type": "stream",
     "text": [
      "\r",
      "OMP Test Batch for noise_level = 0.00:  70%|███████   | 140/200 [2:45:10<36:07, 36.13s/it]\r",
      "OMP Test Batch for noise_level = 0.02:  71%|███████   | 142/200 [2:45:08<38:44, 40.08s/it]"
     ]
    },
    {
     "name": "stderr",
     "output_type": "stream",
     "text": [
      "\r",
      "OMP Test Batch for noise_level = 0.03:  72%|███████▎  | 145/200 [2:45:13<32:58, 35.96s/it]"
     ]
    },
    {
     "name": "stderr",
     "output_type": "stream",
     "text": [
      "\r",
      "OMP Test Batch for noise_level = 0.14:  76%|███████▌  | 151/200 [2:45:05<22:20, 27.37s/it]"
     ]
    },
    {
     "name": "stderr",
     "output_type": "stream",
     "text": [
      "\r",
      "OMP Test Batch for noise_level = 0.09:  71%|███████   | 142/200 [2:45:11<38:08, 39.46s/it]"
     ]
    },
    {
     "name": "stderr",
     "output_type": "stream",
     "text": [
      "\r",
      "OMP Test Batch for noise_level = 0.08:  70%|███████   | 141/200 [2:45:14<27:36, 28.08s/it]"
     ]
    },
    {
     "name": "stderr",
     "output_type": "stream",
     "text": [
      "\r",
      "OMP Test Batch for noise_level = 0.12:  74%|███████▎  | 147/200 [2:45:13<24:47, 28.07s/it]"
     ]
    },
    {
     "name": "stderr",
     "output_type": "stream",
     "text": [
      "\r",
      "OMP Test Batch for noise_level = 0.04:  73%|███████▎  | 146/200 [2:45:21<34:15, 38.06s/it]"
     ]
    },
    {
     "name": "stderr",
     "output_type": "stream",
     "text": [
      "\r",
      "OMP Test Batch for noise_level = 0.06:  70%|██████▉   | 139/200 [2:45:24<39:01, 38.38s/it]"
     ]
    },
    {
     "name": "stderr",
     "output_type": "stream",
     "text": [
      "\r",
      "OMP Test Batch for noise_level = 0.07:  73%|███████▎  | 146/200 [2:45:26<25:14, 28.05s/it]"
     ]
    },
    {
     "name": "stderr",
     "output_type": "stream",
     "text": [
      "\r",
      "OMP Test Batch for noise_level = 0.10:  74%|███████▍  | 149/200 [2:45:24<23:39, 27.83s/it]"
     ]
    },
    {
     "name": "stderr",
     "output_type": "stream",
     "text": [
      "\r",
      "OMP Test Batch for noise_level = 0.01:  74%|███████▍  | 148/200 [2:45:33<24:35, 28.38s/it]"
     ]
    },
    {
     "name": "stderr",
     "output_type": "stream",
     "text": [
      "\r",
      "OMP Test Batch for noise_level = 0.05:  71%|███████   | 142/200 [2:45:30<34:48, 36.01s/it]"
     ]
    },
    {
     "name": "stderr",
     "output_type": "stream",
     "text": [
      "\r",
      "OMP Test Batch for noise_level = 0.20:  70%|███████   | 140/200 [2:45:22<35:53, 35.89s/it]"
     ]
    },
    {
     "name": "stderr",
     "output_type": "stream",
     "text": [
      "\r",
      "OMP Test Batch for noise_level = 0.18:  72%|███████▎  | 145/200 [2:45:26<25:11, 27.48s/it]"
     ]
    },
    {
     "name": "stderr",
     "output_type": "stream",
     "text": [
      "\r",
      "OMP Test Batch for noise_level = 0.16:  74%|███████▍  | 149/200 [2:45:29<31:13, 36.73s/it]"
     ]
    },
    {
     "name": "stderr",
     "output_type": "stream",
     "text": [
      "\r",
      "OMP Test Batch for noise_level = 0.00:  70%|███████   | 141/200 [2:45:44<34:51, 35.46s/it]"
     ]
    },
    {
     "name": "stderr",
     "output_type": "stream",
     "text": [
      "\r",
      "OMP Test Batch for noise_level = 0.14:  76%|███████▌  | 152/200 [2:45:34<22:12, 27.76s/it]"
     ]
    },
    {
     "name": "stderr",
     "output_type": "stream",
     "text": [
      "\r",
      "OMP Test Batch for noise_level = 0.02:  72%|███████▏  | 143/200 [2:45:45<37:01, 38.98s/it]"
     ]
    },
    {
     "name": "stderr",
     "output_type": "stream",
     "text": [
      "\r",
      "OMP Test Batch for noise_level = 0.08:  71%|███████   | 142/200 [2:45:43<27:16, 28.21s/it]"
     ]
    },
    {
     "name": "stderr",
     "output_type": "stream",
     "text": [
      "\r",
      "OMP Test Batch for noise_level = 0.12:  74%|███████▍  | 148/200 [2:45:41<24:25, 28.18s/it]\r",
      "OMP Test Batch for noise_level = 0.04:  74%|███████▎  | 147/200 [2:45:47<30:23, 34.40s/it]"
     ]
    },
    {
     "name": "stderr",
     "output_type": "stream",
     "text": [
      "\r",
      "OMP Test Batch for noise_level = 0.09:  72%|███████▏  | 143/200 [2:45:47<36:36, 38.54s/it]"
     ]
    },
    {
     "name": "stderr",
     "output_type": "stream",
     "text": [
      "\r",
      "OMP Test Batch for noise_level = 0.03:  73%|███████▎  | 146/200 [2:45:53<33:35, 37.33s/it]"
     ]
    },
    {
     "name": "stderr",
     "output_type": "stream",
     "text": [
      "\r",
      "OMP Test Batch for noise_level = 0.10:  75%|███████▌  | 150/200 [2:45:50<22:45, 27.31s/it]"
     ]
    },
    {
     "name": "stderr",
     "output_type": "stream",
     "text": [
      "\r",
      "OMP Test Batch for noise_level = 0.07:  74%|███████▎  | 147/200 [2:45:54<24:54, 28.20s/it]"
     ]
    },
    {
     "name": "stderr",
     "output_type": "stream",
     "text": [
      "\r",
      "OMP Test Batch for noise_level = 0.01:  74%|███████▍  | 149/200 [2:46:01<24:07, 28.39s/it]"
     ]
    },
    {
     "name": "stderr",
     "output_type": "stream",
     "text": [
      "\r",
      "OMP Test Batch for noise_level = 0.06:  70%|███████   | 140/200 [2:46:01<37:58, 37.97s/it]"
     ]
    },
    {
     "name": "stderr",
     "output_type": "stream",
     "text": [
      "\r",
      "OMP Test Batch for noise_level = 0.18:  73%|███████▎  | 146/200 [2:45:54<24:58, 27.74s/it]"
     ]
    },
    {
     "name": "stderr",
     "output_type": "stream",
     "text": [
      "\r",
      "OMP Test Batch for noise_level = 0.20:  70%|███████   | 141/200 [2:45:56<34:34, 35.17s/it]"
     ]
    },
    {
     "name": "stderr",
     "output_type": "stream",
     "text": [
      "\r",
      "OMP Test Batch for noise_level = 0.05:  72%|███████▏  | 143/200 [2:46:08<35:00, 36.85s/it]"
     ]
    },
    {
     "name": "stderr",
     "output_type": "stream",
     "text": [
      "\r",
      "OMP Test Batch for noise_level = 0.14:  76%|███████▋  | 153/200 [2:46:03<21:59, 28.08s/it]"
     ]
    },
    {
     "name": "stderr",
     "output_type": "stream",
     "text": [
      "\r",
      "OMP Test Batch for noise_level = 0.16:  75%|███████▌  | 150/200 [2:46:03<29:46, 35.73s/it]"
     ]
    },
    {
     "name": "stderr",
     "output_type": "stream",
     "text": [
      "\r",
      "OMP Test Batch for noise_level = 0.08:  72%|███████▏  | 143/200 [2:46:11<26:50, 28.26s/it]"
     ]
    },
    {
     "name": "stderr",
     "output_type": "stream",
     "text": [
      "\r",
      "OMP Test Batch for noise_level = 0.12:  74%|███████▍  | 149/200 [2:46:09<23:56, 28.16s/it]\r",
      "OMP Test Batch for noise_level = 0.04:  74%|███████▍  | 148/200 [2:46:15<28:10, 32.50s/it]"
     ]
    },
    {
     "name": "stderr",
     "output_type": "stream",
     "text": [
      "\r",
      "OMP Test Batch for noise_level = 0.00:  71%|███████   | 142/200 [2:46:21<34:49, 36.02s/it]"
     ]
    },
    {
     "name": "stderr",
     "output_type": "stream",
     "text": [
      "\r",
      "OMP Test Batch for noise_level = 0.02:  72%|███████▏  | 144/200 [2:46:22<35:44, 38.30s/it]"
     ]
    },
    {
     "name": "stderr",
     "output_type": "stream",
     "text": [
      "\r",
      "OMP Test Batch for noise_level = 0.07:  74%|███████▍  | 148/200 [2:46:20<23:53, 27.57s/it]"
     ]
    },
    {
     "name": "stderr",
     "output_type": "stream",
     "text": [
      "\r",
      "OMP Test Batch for noise_level = 0.10:  76%|███████▌  | 151/200 [2:46:18<22:31, 27.59s/it]"
     ]
    },
    {
     "name": "stderr",
     "output_type": "stream",
     "text": [
      "\r",
      "OMP Test Batch for noise_level = 0.01:  75%|███████▌  | 150/200 [2:46:29<23:36, 28.32s/it]"
     ]
    },
    {
     "name": "stderr",
     "output_type": "stream",
     "text": [
      "\r",
      "OMP Test Batch for noise_level = 0.09:  72%|███████▏  | 144/200 [2:46:25<35:48, 38.36s/it]"
     ]
    },
    {
     "name": "stderr",
     "output_type": "stream",
     "text": [
      "\r",
      "OMP Test Batch for noise_level = 0.18:  74%|███████▎  | 147/200 [2:46:23<24:35, 27.85s/it]"
     ]
    },
    {
     "name": "stderr",
     "output_type": "stream",
     "text": [
      "\r",
      "OMP Test Batch for noise_level = 0.03:  74%|███████▎  | 147/200 [2:46:33<33:39, 38.11s/it]"
     ]
    },
    {
     "name": "stderr",
     "output_type": "stream",
     "text": [
      "\r",
      "OMP Test Batch for noise_level = 0.20:  71%|███████   | 142/200 [2:46:30<33:35, 34.75s/it]"
     ]
    },
    {
     "name": "stderr",
     "output_type": "stream",
     "text": [
      "\r",
      "OMP Test Batch for noise_level = 0.06:  70%|███████   | 141/200 [2:46:38<37:11, 37.82s/it]"
     ]
    },
    {
     "name": "stderr",
     "output_type": "stream",
     "text": [
      "\r",
      "OMP Test Batch for noise_level = 0.08:  72%|███████▏  | 144/200 [2:46:37<25:39, 27.49s/it]"
     ]
    },
    {
     "name": "stderr",
     "output_type": "stream",
     "text": [
      "\r",
      "OMP Test Batch for noise_level = 0.04:  74%|███████▍  | 149/200 [2:46:43<26:26, 31.11s/it]\r",
      "OMP Test Batch for noise_level = 0.12:  75%|███████▌  | 150/200 [2:46:37<23:26, 28.14s/it]"
     ]
    },
    {
     "name": "stderr",
     "output_type": "stream",
     "text": [
      "\r",
      "OMP Test Batch for noise_level = 0.14:  77%|███████▋  | 154/200 [2:46:36<22:46, 29.70s/it]"
     ]
    },
    {
     "name": "stderr",
     "output_type": "stream",
     "text": [
      "\r",
      "OMP Test Batch for noise_level = 0.16:  76%|███████▌  | 151/200 [2:46:36<28:37, 35.05s/it]"
     ]
    },
    {
     "name": "stderr",
     "output_type": "stream",
     "text": [
      "\r",
      "OMP Test Batch for noise_level = 0.05:  72%|███████▏  | 144/200 [2:46:45<34:20, 36.80s/it]"
     ]
    },
    {
     "name": "stderr",
     "output_type": "stream",
     "text": [
      "\r",
      "OMP Test Batch for noise_level = 0.07:  74%|███████▍  | 149/200 [2:46:46<22:56, 26.99s/it]"
     ]
    },
    {
     "name": "stderr",
     "output_type": "stream",
     "text": [
      "\r",
      "OMP Test Batch for noise_level = 0.10:  76%|███████▌  | 152/200 [2:46:46<22:13, 27.78s/it]"
     ]
    },
    {
     "name": "stderr",
     "output_type": "stream",
     "text": [
      "\r",
      "OMP Test Batch for noise_level = 0.01:  76%|███████▌  | 151/200 [2:46:57<23:02, 28.21s/it]\r",
      "OMP Test Batch for noise_level = 0.00:  72%|███████▏  | 143/200 [2:46:58<34:28, 36.29s/it]"
     ]
    },
    {
     "name": "stderr",
     "output_type": "stream",
     "text": [
      "\r",
      "OMP Test Batch for noise_level = 0.18:  74%|███████▍  | 148/200 [2:46:48<23:27, 27.07s/it]"
     ]
    },
    {
     "name": "stderr",
     "output_type": "stream",
     "text": [
      "\r",
      "OMP Test Batch for noise_level = 0.02:  72%|███████▎  | 145/200 [2:46:58<34:43, 37.88s/it]"
     ]
    },
    {
     "name": "stderr",
     "output_type": "stream",
     "text": [
      "\r",
      "OMP Test Batch for noise_level = 0.08:  72%|███████▎  | 145/200 [2:47:02<24:39, 26.89s/it]"
     ]
    },
    {
     "name": "stderr",
     "output_type": "stream",
     "text": [
      "\r",
      "OMP Test Batch for noise_level = 0.09:  72%|███████▎  | 145/200 [2:47:02<34:47, 37.96s/it]"
     ]
    },
    {
     "name": "stderr",
     "output_type": "stream",
     "text": [
      "\r",
      "OMP Test Batch for noise_level = 0.06:  71%|███████   | 142/200 [2:47:09<34:28, 35.66s/it]"
     ]
    },
    {
     "name": "stderr",
     "output_type": "stream",
     "text": [
      "\r",
      "OMP Test Batch for noise_level = 0.04:  75%|███████▌  | 150/200 [2:47:11<25:07, 30.15s/it]\r",
      "OMP Test Batch for noise_level = 0.12:  76%|███████▌  | 151/200 [2:47:05<22:53, 28.03s/it]"
     ]
    },
    {
     "name": "stderr",
     "output_type": "stream",
     "text": [
      "\r",
      "OMP Test Batch for noise_level = 0.03:  74%|███████▍  | 148/200 [2:47:13<33:24, 38.54s/it]"
     ]
    },
    {
     "name": "stderr",
     "output_type": "stream",
     "text": [
      "\r",
      "OMP Test Batch for noise_level = 0.20:  72%|███████▏  | 143/200 [2:47:03<32:38, 34.37s/it]"
     ]
    },
    {
     "name": "stderr",
     "output_type": "stream",
     "text": [
      "\r",
      "OMP Test Batch for noise_level = 0.14:  78%|███████▊  | 155/200 [2:47:09<22:55, 30.56s/it]"
     ]
    },
    {
     "name": "stderr",
     "output_type": "stream",
     "text": [
      "\r",
      "OMP Test Batch for noise_level = 0.07:  75%|███████▌  | 150/200 [2:47:15<22:53, 27.47s/it]"
     ]
    },
    {
     "name": "stderr",
     "output_type": "stream",
     "text": [
      "\r",
      "OMP Test Batch for noise_level = 0.10:  76%|███████▋  | 153/200 [2:47:15<21:53, 27.95s/it]"
     ]
    },
    {
     "name": "stderr",
     "output_type": "stream",
     "text": [
      "\r",
      "OMP Test Batch for noise_level = 0.16:  76%|███████▌  | 152/200 [2:47:13<28:25, 35.53s/it]"
     ]
    },
    {
     "name": "stderr",
     "output_type": "stream",
     "text": [
      "\r",
      "OMP Test Batch for noise_level = 0.05:  72%|███████▎  | 145/200 [2:47:22<33:40, 36.74s/it]"
     ]
    },
    {
     "name": "stderr",
     "output_type": "stream",
     "text": [
      "\r",
      "OMP Test Batch for noise_level = 0.01:  76%|███████▌  | 152/200 [2:47:26<22:37, 28.28s/it]"
     ]
    },
    {
     "name": "stderr",
     "output_type": "stream",
     "text": [
      "\r",
      "OMP Test Batch for noise_level = 0.18:  74%|███████▍  | 149/200 [2:47:16<23:21, 27.48s/it]"
     ]
    },
    {
     "name": "stderr",
     "output_type": "stream",
     "text": [
      "\r",
      "OMP Test Batch for noise_level = 0.02:  73%|███████▎  | 146/200 [2:47:32<32:47, 36.44s/it]"
     ]
    },
    {
     "name": "stderr",
     "output_type": "stream",
     "text": [
      "\r",
      "OMP Test Batch for noise_level = 0.00:  72%|███████▏  | 144/200 [2:47:34<33:54, 36.33s/it]"
     ]
    },
    {
     "name": "stderr",
     "output_type": "stream",
     "text": [
      "\r",
      "OMP Test Batch for noise_level = 0.08:  73%|███████▎  | 146/200 [2:47:31<24:38, 27.39s/it]"
     ]
    },
    {
     "name": "stderr",
     "output_type": "stream",
     "text": [
      "\r",
      "OMP Test Batch for noise_level = 0.12:  76%|███████▌  | 152/200 [2:47:34<22:31, 28.16s/it]\r",
      "OMP Test Batch for noise_level = 0.04:  76%|███████▌  | 151/200 [2:47:40<24:14, 29.68s/it]"
     ]
    },
    {
     "name": "stderr",
     "output_type": "stream",
     "text": [
      "\r",
      "OMP Test Batch for noise_level = 0.09:  73%|███████▎  | 146/200 [2:47:38<33:32, 37.26s/it]"
     ]
    },
    {
     "name": "stderr",
     "output_type": "stream",
     "text": [
      "\r",
      "OMP Test Batch for noise_level = 0.14:  78%|███████▊  | 156/200 [2:47:38<22:01, 30.03s/it]"
     ]
    },
    {
     "name": "stderr",
     "output_type": "stream",
     "text": [
      "\r",
      "OMP Test Batch for noise_level = 0.07:  76%|███████▌  | 151/200 [2:47:44<22:51, 27.99s/it]\r",
      "OMP Test Batch for noise_level = 0.06:  72%|███████▏  | 143/200 [2:47:45<33:57, 35.75s/it]"
     ]
    },
    {
     "name": "stderr",
     "output_type": "stream",
     "text": [
      "\r",
      "OMP Test Batch for noise_level = 0.10:  77%|███████▋  | 154/200 [2:47:44<21:39, 28.24s/it]"
     ]
    },
    {
     "name": "stderr",
     "output_type": "stream",
     "text": [
      "\r",
      "OMP Test Batch for noise_level = 0.03:  74%|███████▍  | 149/200 [2:47:53<33:11, 39.05s/it]"
     ]
    },
    {
     "name": "stderr",
     "output_type": "stream",
     "text": [
      "\r",
      "OMP Test Batch for noise_level = 0.01:  76%|███████▋  | 153/200 [2:47:55<22:20, 28.52s/it]\r",
      "OMP Test Batch for noise_level = 0.20:  72%|███████▏  | 144/200 [2:47:43<33:36, 36.01s/it]"
     ]
    },
    {
     "name": "stderr",
     "output_type": "stream",
     "text": [
      "\r",
      "OMP Test Batch for noise_level = 0.18:  75%|███████▌  | 150/200 [2:47:45<23:16, 27.94s/it]"
     ]
    },
    {
     "name": "stderr",
     "output_type": "stream",
     "text": [
      "\r",
      "OMP Test Batch for noise_level = 0.16:  76%|███████▋  | 153/200 [2:47:50<28:12, 36.01s/it]"
     ]
    },
    {
     "name": "stderr",
     "output_type": "stream",
     "text": [
      "\r",
      "OMP Test Batch for noise_level = 0.08:  74%|███████▎  | 147/200 [2:48:00<24:38, 27.89s/it]"
     ]
    },
    {
     "name": "stderr",
     "output_type": "stream",
     "text": [
      "\r",
      "OMP Test Batch for noise_level = 0.02:  74%|███████▎  | 147/200 [2:48:07<31:49, 36.03s/it]"
     ]
    },
    {
     "name": "stderr",
     "output_type": "stream",
     "text": [
      "\r",
      "OMP Test Batch for noise_level = 0.12:  76%|███████▋  | 153/200 [2:48:00<21:43, 27.72s/it]\r",
      "OMP Test Batch for noise_level = 0.00:  72%|███████▎  | 145/200 [2:48:10<33:00, 36.01s/it]"
     ]
    },
    {
     "name": "stderr",
     "output_type": "stream",
     "text": [
      "\r",
      "OMP Test Batch for noise_level = 0.04:  76%|███████▌  | 152/200 [2:48:09<23:41, 29.61s/it]"
     ]
    },
    {
     "name": "stderr",
     "output_type": "stream",
     "text": [
      "\r",
      "OMP Test Batch for noise_level = 0.05:  73%|███████▎  | 146/200 [2:48:11<36:34, 40.63s/it]"
     ]
    },
    {
     "name": "stderr",
     "output_type": "stream",
     "text": [
      "\r",
      "OMP Test Batch for noise_level = 0.14:  78%|███████▊  | 157/200 [2:48:08<21:27, 29.95s/it]"
     ]
    },
    {
     "name": "stderr",
     "output_type": "stream",
     "text": [
      "\r",
      "OMP Test Batch for noise_level = 0.10:  78%|███████▊  | 155/200 [2:48:11<20:51, 27.82s/it]\r",
      "OMP Test Batch for noise_level = 0.07:  76%|███████▌  | 152/200 [2:48:13<22:46, 28.47s/it]"
     ]
    },
    {
     "name": "stderr",
     "output_type": "stream",
     "text": [
      "\r",
      "OMP Test Batch for noise_level = 0.09:  74%|███████▎  | 147/200 [2:48:13<32:28, 36.76s/it]"
     ]
    },
    {
     "name": "stderr",
     "output_type": "stream",
     "text": [
      "\r",
      "OMP Test Batch for noise_level = 0.03:  75%|███████▌  | 150/200 [2:48:23<30:13, 36.27s/it]"
     ]
    },
    {
     "name": "stderr",
     "output_type": "stream",
     "text": [
      "\r",
      "OMP Test Batch for noise_level = 0.01:  77%|███████▋  | 154/200 [2:48:24<22:09, 28.89s/it]\r",
      "OMP Test Batch for noise_level = 0.06:  72%|███████▏  | 144/200 [2:48:20<33:23, 35.78s/it]"
     ]
    },
    {
     "name": "stderr",
     "output_type": "stream",
     "text": [
      "\r",
      "OMP Test Batch for noise_level = 0.18:  76%|███████▌  | 151/200 [2:48:15<23:15, 28.48s/it]"
     ]
    },
    {
     "name": "stderr",
     "output_type": "stream",
     "text": [
      "\r",
      "OMP Test Batch for noise_level = 0.20:  72%|███████▎  | 145/200 [2:48:18<32:44, 35.71s/it]"
     ]
    },
    {
     "name": "stderr",
     "output_type": "stream",
     "text": [
      "\r",
      "OMP Test Batch for noise_level = 0.08:  74%|███████▍  | 148/200 [2:48:29<24:31, 28.30s/it]"
     ]
    },
    {
     "name": "stderr",
     "output_type": "stream",
     "text": [
      "\r",
      "OMP Test Batch for noise_level = 0.12:  77%|███████▋  | 154/200 [2:48:27<20:58, 27.35s/it]"
     ]
    },
    {
     "name": "stderr",
     "output_type": "stream",
     "text": [
      "\r",
      "OMP Test Batch for noise_level = 0.16:  77%|███████▋  | 154/200 [2:48:25<27:23, 35.74s/it]"
     ]
    },
    {
     "name": "stderr",
     "output_type": "stream",
     "text": [
      "\r",
      "OMP Test Batch for noise_level = 0.02:  74%|███████▍  | 148/200 [2:48:39<30:16, 34.93s/it]"
     ]
    },
    {
     "name": "stderr",
     "output_type": "stream",
     "text": [
      "\r",
      "OMP Test Batch for noise_level = 0.04:  76%|███████▋  | 153/200 [2:48:38<23:00, 29.38s/it]"
     ]
    },
    {
     "name": "stderr",
     "output_type": "stream",
     "text": [
      "\r",
      "OMP Test Batch for noise_level = 0.00:  73%|███████▎  | 146/200 [2:48:46<32:29, 36.10s/it]"
     ]
    },
    {
     "name": "stderr",
     "output_type": "stream",
     "text": [
      "\r",
      "OMP Test Batch for noise_level = 0.14:  79%|███████▉  | 158/200 [2:48:36<20:42, 29.59s/it]"
     ]
    },
    {
     "name": "stderr",
     "output_type": "stream",
     "text": [
      "\r",
      "OMP Test Batch for noise_level = 0.07:  76%|███████▋  | 153/200 [2:48:42<22:21, 28.54s/it]\r",
      "OMP Test Batch for noise_level = 0.10:  78%|███████▊  | 156/200 [2:48:40<20:39, 28.17s/it]"
     ]
    },
    {
     "name": "stderr",
     "output_type": "stream",
     "text": [
      "\r",
      "OMP Test Batch for noise_level = 0.03:  76%|███████▌  | 151/200 [2:48:52<27:48, 34.05s/it]"
     ]
    },
    {
     "name": "stderr",
     "output_type": "stream",
     "text": [
      "\r",
      "OMP Test Batch for noise_level = 0.01:  78%|███████▊  | 155/200 [2:48:53<21:41, 28.91s/it]"
     ]
    },
    {
     "name": "stderr",
     "output_type": "stream",
     "text": [
      "\r",
      "OMP Test Batch for noise_level = 0.05:  74%|███████▎  | 147/200 [2:48:51<35:39, 40.37s/it]"
     ]
    },
    {
     "name": "stderr",
     "output_type": "stream",
     "text": [
      "\r",
      "OMP Test Batch for noise_level = 0.18:  76%|███████▌  | 152/200 [2:48:44<22:54, 28.64s/it]"
     ]
    },
    {
     "name": "stderr",
     "output_type": "stream",
     "text": [
      "\r",
      "OMP Test Batch for noise_level = 0.09:  74%|███████▍  | 148/200 [2:48:49<31:37, 36.50s/it]"
     ]
    },
    {
     "name": "stderr",
     "output_type": "stream",
     "text": [
      "\r",
      "OMP Test Batch for noise_level = 0.08:  74%|███████▍  | 149/200 [2:48:53<23:01, 27.09s/it]"
     ]
    },
    {
     "name": "stderr",
     "output_type": "stream",
     "text": [
      "\r",
      "OMP Test Batch for noise_level = 0.06:  72%|███████▎  | 145/200 [2:48:56<32:49, 35.82s/it]"
     ]
    },
    {
     "name": "stderr",
     "output_type": "stream",
     "text": [
      "\r",
      "OMP Test Batch for noise_level = 0.12:  78%|███████▊  | 155/200 [2:48:53<20:21, 27.15s/it]"
     ]
    },
    {
     "name": "stderr",
     "output_type": "stream",
     "text": [
      "\r",
      "OMP Test Batch for noise_level = 0.20:  73%|███████▎  | 146/200 [2:48:54<32:15, 35.85s/it]"
     ]
    },
    {
     "name": "stderr",
     "output_type": "stream",
     "text": [
      "\r",
      "OMP Test Batch for noise_level = 0.04:  77%|███████▋  | 154/200 [2:49:09<22:47, 29.72s/it]"
     ]
    },
    {
     "name": "stderr",
     "output_type": "stream",
     "text": [
      "\r",
      "OMP Test Batch for noise_level = 0.16:  78%|███████▊  | 155/200 [2:49:02<27:02, 36.06s/it]"
     ]
    },
    {
     "name": "stderr",
     "output_type": "stream",
     "text": [
      "\r",
      "OMP Test Batch for noise_level = 0.14:  80%|███████▉  | 159/200 [2:49:05<19:59, 29.27s/it]"
     ]
    },
    {
     "name": "stderr",
     "output_type": "stream",
     "text": [
      "\r",
      "OMP Test Batch for noise_level = 0.07:  77%|███████▋  | 154/200 [2:49:11<21:56, 28.62s/it]"
     ]
    },
    {
     "name": "stderr",
     "output_type": "stream",
     "text": [
      "\r",
      "OMP Test Batch for noise_level = 0.10:  78%|███████▊  | 157/200 [2:49:08<20:20, 28.39s/it]"
     ]
    },
    {
     "name": "stderr",
     "output_type": "stream",
     "text": [
      "\r",
      "OMP Test Batch for noise_level = 0.02:  74%|███████▍  | 149/200 [2:49:16<30:06, 35.42s/it]"
     ]
    },
    {
     "name": "stderr",
     "output_type": "stream",
     "text": [
      "\r",
      "OMP Test Batch for noise_level = 0.18:  76%|███████▋  | 153/200 [2:49:07<21:13, 27.10s/it]"
     ]
    },
    {
     "name": "stderr",
     "output_type": "stream",
     "text": [
      "\r",
      "OMP Test Batch for noise_level = 0.03:  76%|███████▌  | 152/200 [2:49:20<25:52, 32.34s/it]"
     ]
    },
    {
     "name": "stderr",
     "output_type": "stream",
     "text": [
      "\r",
      "OMP Test Batch for noise_level = 0.01:  78%|███████▊  | 156/200 [2:49:22<21:03, 28.73s/it]"
     ]
    },
    {
     "name": "stderr",
     "output_type": "stream",
     "text": [
      "\r",
      "OMP Test Batch for noise_level = 0.00:  74%|███████▎  | 147/200 [2:49:23<32:08, 36.39s/it]"
     ]
    },
    {
     "name": "stderr",
     "output_type": "stream",
     "text": [
      "\r",
      "OMP Test Batch for noise_level = 0.12:  78%|███████▊  | 156/200 [2:49:22<20:07, 27.43s/it]\r",
      "OMP Test Batch for noise_level = 0.09:  74%|███████▍  | 149/200 [2:49:23<30:27, 35.83s/it]"
     ]
    },
    {
     "name": "stderr",
     "output_type": "stream",
     "text": [
      "\r",
      "OMP Test Batch for noise_level = 0.08:  75%|███████▌  | 150/200 [2:49:25<23:43, 28.46s/it]"
     ]
    },
    {
     "name": "stderr",
     "output_type": "stream",
     "text": [
      "\r",
      "OMP Test Batch for noise_level = 0.05:  74%|███████▍  | 148/200 [2:49:28<34:08, 39.40s/it]"
     ]
    },
    {
     "name": "stderr",
     "output_type": "stream",
     "text": [
      "\r",
      "OMP Test Batch for noise_level = 0.06:  73%|███████▎  | 146/200 [2:49:34<32:46, 36.41s/it]"
     ]
    },
    {
     "name": "stderr",
     "output_type": "stream",
     "text": [
      "\r",
      "OMP Test Batch for noise_level = 0.14:  80%|████████  | 160/200 [2:49:30<18:46, 28.17s/it]"
     ]
    },
    {
     "name": "stderr",
     "output_type": "stream",
     "text": [
      "\r",
      "OMP Test Batch for noise_level = 0.20:  74%|███████▎  | 147/200 [2:49:32<32:12, 36.45s/it]\r",
      "OMP Test Batch for noise_level = 0.10:  79%|███████▉  | 158/200 [2:49:36<19:46, 28.26s/it]"
     ]
    },
    {
     "name": "stderr",
     "output_type": "stream",
     "text": [
      "\r",
      "OMP Test Batch for noise_level = 0.18:  77%|███████▋  | 154/200 [2:49:33<20:26, 26.65s/it]"
     ]
    },
    {
     "name": "stderr",
     "output_type": "stream",
     "text": [
      "\r",
      "OMP Test Batch for noise_level = 0.07:  78%|███████▊  | 155/200 [2:49:39<21:27, 28.62s/it]"
     ]
    },
    {
     "name": "stderr",
     "output_type": "stream",
     "text": [
      "\r",
      "OMP Test Batch for noise_level = 0.16:  78%|███████▊  | 156/200 [2:49:37<26:19, 35.89s/it]"
     ]
    },
    {
     "name": "stderr",
     "output_type": "stream",
     "text": [
      "\r",
      "OMP Test Batch for noise_level = 0.03:  76%|███████▋  | 153/200 [2:49:48<24:15, 30.96s/it]"
     ]
    },
    {
     "name": "stderr",
     "output_type": "stream",
     "text": [
      "\r",
      "OMP Test Batch for noise_level = 0.04:  78%|███████▊  | 155/200 [2:49:47<24:22, 32.49s/it]\r",
      "OMP Test Batch for noise_level = 0.01:  78%|███████▊  | 157/200 [2:49:50<20:29, 28.59s/it]"
     ]
    },
    {
     "name": "stderr",
     "output_type": "stream",
     "text": [
      "\r",
      "OMP Test Batch for noise_level = 0.02:  75%|███████▌  | 150/200 [2:49:53<30:01, 36.03s/it]"
     ]
    },
    {
     "name": "stderr",
     "output_type": "stream",
     "text": [
      "\r",
      "OMP Test Batch for noise_level = 0.00:  74%|███████▍  | 148/200 [2:50:01<31:52, 36.79s/it]"
     ]
    },
    {
     "name": "stderr",
     "output_type": "stream",
     "text": [
      "\r",
      "OMP Test Batch for noise_level = 0.08:  76%|███████▌  | 151/200 [2:49:58<24:17, 29.75s/it]"
     ]
    },
    {
     "name": "stderr",
     "output_type": "stream",
     "text": [
      "\r",
      "OMP Test Batch for noise_level = 0.12:  78%|███████▊  | 157/200 [2:49:56<21:09, 29.51s/it]"
     ]
    },
    {
     "name": "stderr",
     "output_type": "stream",
     "text": [
      "\r",
      "OMP Test Batch for noise_level = 0.14:  80%|████████  | 161/200 [2:49:55<17:42, 27.23s/it]\r",
      "OMP Test Batch for noise_level = 0.05:  74%|███████▍  | 149/200 [2:50:02<32:04, 37.73s/it]"
     ]
    },
    {
     "name": "stderr",
     "output_type": "stream",
     "text": [
      "\r",
      "OMP Test Batch for noise_level = 0.10:  80%|███████▉  | 159/200 [2:49:59<18:09, 26.56s/it]"
     ]
    },
    {
     "name": "stderr",
     "output_type": "stream",
     "text": [
      "\r",
      "OMP Test Batch for noise_level = 0.09:  75%|███████▌  | 150/200 [2:50:00<30:06, 36.12s/it]"
     ]
    },
    {
     "name": "stderr",
     "output_type": "stream",
     "text": [
      "\r",
      "OMP Test Batch for noise_level = 0.18:  78%|███████▊  | 155/200 [2:50:01<20:10, 26.89s/it]"
     ]
    },
    {
     "name": "stderr",
     "output_type": "stream",
     "text": [
      "\r",
      "OMP Test Batch for noise_level = 0.07:  78%|███████▊  | 156/200 [2:50:07<20:44, 28.28s/it]"
     ]
    },
    {
     "name": "stderr",
     "output_type": "stream",
     "text": [
      "\r",
      "OMP Test Batch for noise_level = 0.20:  74%|███████▍  | 148/200 [2:50:02<30:01, 34.65s/it]"
     ]
    },
    {
     "name": "stderr",
     "output_type": "stream",
     "text": [
      "\r",
      "OMP Test Batch for noise_level = 0.01:  79%|███████▉  | 158/200 [2:50:17<19:44, 28.19s/it]"
     ]
    },
    {
     "name": "stderr",
     "output_type": "stream",
     "text": [
      "\r",
      "OMP Test Batch for noise_level = 0.03:  77%|███████▋  | 154/200 [2:50:23<24:49, 32.38s/it]\r",
      "OMP Test Batch for noise_level = 0.16:  78%|███████▊  | 157/200 [2:50:14<25:56, 36.19s/it]"
     ]
    },
    {
     "name": "stderr",
     "output_type": "stream",
     "text": [
      "\r",
      "OMP Test Batch for noise_level = 0.04:  78%|███████▊  | 156/200 [2:50:24<24:43, 33.72s/it]"
     ]
    },
    {
     "name": "stderr",
     "output_type": "stream",
     "text": [
      "\r",
      "OMP Test Batch for noise_level = 0.02:  76%|███████▌  | 151/200 [2:50:26<28:47, 35.25s/it]\r",
      "OMP Test Batch for noise_level = 0.06:  74%|███████▎  | 147/200 [2:50:23<35:31, 40.21s/it]"
     ]
    },
    {
     "name": "stderr",
     "output_type": "stream",
     "text": [
      "\r",
      "OMP Test Batch for noise_level = 0.14:  81%|████████  | 162/200 [2:50:20<16:44, 26.44s/it]"
     ]
    },
    {
     "name": "stderr",
     "output_type": "stream",
     "text": [
      "\r",
      "OMP Test Batch for noise_level = 0.10:  80%|████████  | 160/200 [2:50:24<17:18, 25.96s/it]"
     ]
    },
    {
     "name": "stderr",
     "output_type": "stream",
     "text": [
      "\r",
      "OMP Test Batch for noise_level = 0.00:  74%|███████▍  | 149/200 [2:50:38<31:26, 36.99s/it]"
     ]
    },
    {
     "name": "stderr",
     "output_type": "stream",
     "text": [
      "\r",
      "OMP Test Batch for noise_level = 0.18:  78%|███████▊  | 156/200 [2:50:27<19:40, 26.82s/it]"
     ]
    },
    {
     "name": "stderr",
     "output_type": "stream",
     "text": [
      "\r",
      "OMP Test Batch for noise_level = 0.07:  78%|███████▊  | 157/200 [2:50:34<20:02, 27.96s/it]"
     ]
    },
    {
     "name": "stderr",
     "output_type": "stream",
     "text": [
      "\r",
      "OMP Test Batch for noise_level = 0.09:  76%|███████▌  | 151/200 [2:50:35<29:03, 35.58s/it]"
     ]
    },
    {
     "name": "stderr",
     "output_type": "stream",
     "text": [
      "\r",
      "OMP Test Batch for noise_level = 0.05:  75%|███████▌  | 150/200 [2:50:39<31:17, 37.56s/it]\r",
      "OMP Test Batch for noise_level = 0.08:  76%|███████▌  | 152/200 [2:50:37<25:59, 32.50s/it]"
     ]
    },
    {
     "name": "stderr",
     "output_type": "stream",
     "text": [
      "\r",
      "OMP Test Batch for noise_level = 0.12:  79%|███████▉  | 158/200 [2:50:34<22:32, 32.21s/it]"
     ]
    },
    {
     "name": "stderr",
     "output_type": "stream",
     "text": [
      "\r",
      "OMP Test Batch for noise_level = 0.01:  80%|███████▉  | 159/200 [2:50:44<18:56, 27.72s/it]"
     ]
    },
    {
     "name": "stderr",
     "output_type": "stream",
     "text": [
      "\r",
      "OMP Test Batch for noise_level = 0.20:  74%|███████▍  | 149/200 [2:50:37<29:19, 34.51s/it]"
     ]
    },
    {
     "name": "stderr",
     "output_type": "stream",
     "text": [
      "\r",
      "OMP Test Batch for noise_level = 0.14:  82%|████████▏ | 163/200 [2:50:44<15:53, 25.76s/it]"
     ]
    },
    {
     "name": "stderr",
     "output_type": "stream",
     "text": [
      "\r",
      "OMP Test Batch for noise_level = 0.10:  80%|████████  | 161/200 [2:50:50<16:58, 26.12s/it]"
     ]
    },
    {
     "name": "stderr",
     "output_type": "stream",
     "text": [
      "\r",
      "OMP Test Batch for noise_level = 0.16:  79%|███████▉  | 158/200 [2:50:49<25:03, 35.80s/it]"
     ]
    },
    {
     "name": "stderr",
     "output_type": "stream",
     "text": [
      "\r",
      "OMP Test Batch for noise_level = 0.03:  78%|███████▊  | 155/200 [2:51:02<25:36, 34.15s/it]"
     ]
    },
    {
     "name": "stderr",
     "output_type": "stream",
     "text": [
      "\r",
      "OMP Test Batch for noise_level = 0.18:  78%|███████▊  | 157/200 [2:50:53<19:06, 26.66s/it]"
     ]
    },
    {
     "name": "stderr",
     "output_type": "stream",
     "text": [
      "\r",
      "OMP Test Batch for noise_level = 0.04:  78%|███████▊  | 157/200 [2:51:02<25:08, 35.09s/it]"
     ]
    },
    {
     "name": "stderr",
     "output_type": "stream",
     "text": [
      "\r",
      "OMP Test Batch for noise_level = 0.02:  76%|███████▌  | 152/200 [2:51:05<28:57, 36.20s/it]\r",
      "OMP Test Batch for noise_level = 0.07:  79%|███████▉  | 158/200 [2:51:01<19:16, 27.53s/it]"
     ]
    },
    {
     "name": "stderr",
     "output_type": "stream",
     "text": [
      "\r",
      "OMP Test Batch for noise_level = 0.01:  80%|████████  | 160/200 [2:51:10<18:13, 27.34s/it]"
     ]
    },
    {
     "name": "stderr",
     "output_type": "stream",
     "text": [
      "\r",
      "OMP Test Batch for noise_level = 0.06:  74%|███████▍  | 148/200 [2:51:10<36:38, 42.29s/it]"
     ]
    },
    {
     "name": "stderr",
     "output_type": "stream",
     "text": [
      "\r",
      "OMP Test Batch for noise_level = 0.05:  76%|███████▌  | 151/200 [2:51:12<29:22, 35.96s/it]"
     ]
    },
    {
     "name": "stderr",
     "output_type": "stream",
     "text": [
      "\r",
      "OMP Test Batch for noise_level = 0.00:  75%|███████▌  | 150/200 [2:51:17<31:15, 37.51s/it]"
     ]
    },
    {
     "name": "stderr",
     "output_type": "stream",
     "text": [
      "\r",
      "OMP Test Batch for noise_level = 0.12:  80%|███████▉  | 159/200 [2:51:09<22:32, 32.98s/it]"
     ]
    },
    {
     "name": "stderr",
     "output_type": "stream",
     "text": [
      "\r",
      "OMP Test Batch for noise_level = 0.09:  76%|███████▌  | 152/200 [2:51:13<29:13, 36.53s/it]\r",
      "OMP Test Batch for noise_level = 0.14:  82%|████████▏ | 164/200 [2:51:10<15:31, 25.89s/it]"
     ]
    },
    {
     "name": "stderr",
     "output_type": "stream",
     "text": [
      "\r",
      "OMP Test Batch for noise_level = 0.08:  76%|███████▋  | 153/200 [2:51:15<26:46, 34.18s/it]"
     ]
    },
    {
     "name": "stderr",
     "output_type": "stream",
     "text": [
      "\r",
      "OMP Test Batch for noise_level = 0.10:  81%|████████  | 162/200 [2:51:16<16:33, 26.14s/it]"
     ]
    },
    {
     "name": "stderr",
     "output_type": "stream",
     "text": [
      "\r",
      "OMP Test Batch for noise_level = 0.20:  75%|███████▌  | 150/200 [2:51:15<29:48, 35.76s/it]"
     ]
    },
    {
     "name": "stderr",
     "output_type": "stream",
     "text": [
      "\r",
      "OMP Test Batch for noise_level = 0.18:  79%|███████▉  | 158/200 [2:51:20<18:37, 26.60s/it]"
     ]
    },
    {
     "name": "stderr",
     "output_type": "stream",
     "text": [
      "\r",
      "OMP Test Batch for noise_level = 0.07:  80%|███████▉  | 159/200 [2:51:27<18:34, 27.19s/it]"
     ]
    },
    {
     "name": "stderr",
     "output_type": "stream",
     "text": [
      "\r",
      "OMP Test Batch for noise_level = 0.01:  80%|████████  | 161/200 [2:51:37<17:34, 27.05s/it]"
     ]
    },
    {
     "name": "stderr",
     "output_type": "stream",
     "text": [
      "\r",
      "OMP Test Batch for noise_level = 0.16:  80%|███████▉  | 159/200 [2:51:29<25:13, 36.91s/it]"
     ]
    },
    {
     "name": "stderr",
     "output_type": "stream",
     "text": [
      "\r",
      "OMP Test Batch for noise_level = 0.03:  78%|███████▊  | 156/200 [2:51:39<25:51, 35.26s/it]"
     ]
    },
    {
     "name": "stderr",
     "output_type": "stream",
     "text": [
      "\r",
      "OMP Test Batch for noise_level = 0.14:  82%|████████▎ | 165/200 [2:51:34<14:43, 25.23s/it]"
     ]
    },
    {
     "name": "stderr",
     "output_type": "stream",
     "text": [
      "\r",
      "OMP Test Batch for noise_level = 0.04:  79%|███████▉  | 158/200 [2:51:42<25:30, 36.44s/it]"
     ]
    },
    {
     "name": "stderr",
     "output_type": "stream",
     "text": [
      "\r",
      "OMP Test Batch for noise_level = 0.02:  76%|███████▋  | 153/200 [2:51:44<29:07, 37.19s/it]"
     ]
    },
    {
     "name": "stderr",
     "output_type": "stream",
     "text": [
      "\r",
      "OMP Test Batch for noise_level = 0.10:  82%|████████▏ | 163/200 [2:51:42<16:08, 26.17s/it]"
     ]
    },
    {
     "name": "stderr",
     "output_type": "stream",
     "text": [
      "\r",
      "OMP Test Batch for noise_level = 0.05:  76%|███████▌  | 152/200 [2:51:47<28:41, 35.87s/it]"
     ]
    },
    {
     "name": "stderr",
     "output_type": "stream",
     "text": [
      "\r",
      "OMP Test Batch for noise_level = 0.00:  76%|███████▌  | 151/200 [2:51:54<30:27, 37.30s/it]"
     ]
    },
    {
     "name": "stderr",
     "output_type": "stream",
     "text": [
      "\r",
      "OMP Test Batch for noise_level = 0.06:  74%|███████▍  | 149/200 [2:51:51<35:27, 41.72s/it]"
     ]
    },
    {
     "name": "stderr",
     "output_type": "stream",
     "text": [
      "\r",
      "OMP Test Batch for noise_level = 0.12:  80%|████████  | 160/200 [2:51:47<22:57, 34.44s/it]"
     ]
    },
    {
     "name": "stderr",
     "output_type": "stream",
     "text": [
      "\r",
      "OMP Test Batch for noise_level = 0.18:  80%|███████▉  | 159/200 [2:51:46<18:03, 26.43s/it]"
     ]
    },
    {
     "name": "stderr",
     "output_type": "stream",
     "text": [
      "\r",
      "OMP Test Batch for noise_level = 0.08:  77%|███████▋  | 154/200 [2:51:52<26:53, 35.07s/it]\r",
      "OMP Test Batch for noise_level = 0.07:  80%|████████  | 160/200 [2:51:53<17:53, 26.84s/it]"
     ]
    },
    {
     "name": "stderr",
     "output_type": "stream",
     "text": [
      "\r",
      "OMP Test Batch for noise_level = 0.09:  76%|███████▋  | 153/200 [2:51:53<29:21, 37.48s/it]"
     ]
    },
    {
     "name": "stderr",
     "output_type": "stream",
     "text": [
      "\r",
      "OMP Test Batch for noise_level = 0.01:  81%|████████  | 162/200 [2:52:01<16:34, 26.16s/it]"
     ]
    },
    {
     "name": "stderr",
     "output_type": "stream",
     "text": [
      "\r",
      "OMP Test Batch for noise_level = 0.20:  76%|███████▌  | 151/200 [2:51:51<29:18, 35.89s/it]"
     ]
    },
    {
     "name": "stderr",
     "output_type": "stream",
     "text": [
      "\r",
      "OMP Test Batch for noise_level = 0.14:  83%|████████▎ | 166/200 [2:51:56<13:41, 24.16s/it]"
     ]
    },
    {
     "name": "stderr",
     "output_type": "stream",
     "text": [
      "\r",
      "OMP Test Batch for noise_level = 0.10:  82%|████████▏ | 164/200 [2:52:08<15:40, 26.12s/it]"
     ]
    },
    {
     "name": "stderr",
     "output_type": "stream",
     "text": [
      "\r",
      "OMP Test Batch for noise_level = 0.16:  80%|████████  | 160/200 [2:52:07<24:58, 37.45s/it]"
     ]
    },
    {
     "name": "stderr",
     "output_type": "stream",
     "text": [
      "\r",
      "OMP Test Batch for noise_level = 0.03:  78%|███████▊  | 157/200 [2:52:17<25:47, 35.99s/it]"
     ]
    },
    {
     "name": "stderr",
     "output_type": "stream",
     "text": [
      "\r",
      "OMP Test Batch for noise_level = 0.04:  80%|███████▉  | 159/200 [2:52:21<25:24, 37.18s/it]\r",
      "OMP Test Batch for noise_level = 0.18:  80%|████████  | 160/200 [2:52:12<17:36, 26.42s/it]"
     ]
    },
    {
     "name": "stderr",
     "output_type": "stream",
     "text": [
      "\r",
      "OMP Test Batch for noise_level = 0.02:  77%|███████▋  | 154/200 [2:52:23<28:51, 37.65s/it]"
     ]
    },
    {
     "name": "stderr",
     "output_type": "stream",
     "text": [
      "\r",
      "OMP Test Batch for noise_level = 0.07:  80%|████████  | 161/200 [2:52:19<17:20, 26.68s/it]"
     ]
    },
    {
     "name": "stderr",
     "output_type": "stream",
     "text": [
      "\r",
      "OMP Test Batch for noise_level = 0.12:  80%|████████  | 161/200 [2:52:18<21:46, 33.50s/it]"
     ]
    },
    {
     "name": "stderr",
     "output_type": "stream",
     "text": [
      "\r",
      "OMP Test Batch for noise_level = 0.01:  82%|████████▏ | 163/200 [2:52:27<16:11, 26.25s/it]"
     ]
    },
    {
     "name": "stderr",
     "output_type": "stream",
     "text": [
      "\r",
      "OMP Test Batch for noise_level = 0.05:  76%|███████▋  | 153/200 [2:52:25<28:35, 36.50s/it]"
     ]
    },
    {
     "name": "stderr",
     "output_type": "stream",
     "text": [
      "\r",
      "OMP Test Batch for noise_level = 0.14:  84%|████████▎ | 167/200 [2:52:22<13:35, 24.73s/it]"
     ]
    },
    {
     "name": "stderr",
     "output_type": "stream",
     "text": [
      "\r",
      "OMP Test Batch for noise_level = 0.00:  76%|███████▌  | 152/200 [2:52:33<30:13, 37.79s/it]"
     ]
    },
    {
     "name": "stderr",
     "output_type": "stream",
     "text": [
      "\r",
      "OMP Test Batch for noise_level = 0.08:  78%|███████▊  | 155/200 [2:52:29<26:49, 35.77s/it]"
     ]
    },
    {
     "name": "stderr",
     "output_type": "stream",
     "text": [
      "\r",
      "OMP Test Batch for noise_level = 0.09:  77%|███████▋  | 154/200 [2:52:31<28:55, 37.72s/it]\r",
      "OMP Test Batch for noise_level = 0.20:  76%|███████▌  | 152/200 [2:52:26<28:27, 35.57s/it]"
     ]
    },
    {
     "name": "stderr",
     "output_type": "stream",
     "text": [
      "\r",
      "OMP Test Batch for noise_level = 0.10:  82%|████████▎ | 165/200 [2:52:35<15:13, 26.10s/it]"
     ]
    },
    {
     "name": "stderr",
     "output_type": "stream",
     "text": [
      "\r",
      "OMP Test Batch for noise_level = 0.06:  75%|███████▌  | 150/200 [2:52:45<37:58, 45.56s/it]"
     ]
    },
    {
     "name": "stderr",
     "output_type": "stream",
     "text": [
      "\r",
      "OMP Test Batch for noise_level = 0.18:  80%|████████  | 161/200 [2:52:39<17:08, 26.37s/it]"
     ]
    },
    {
     "name": "stderr",
     "output_type": "stream",
     "text": [
      "\r",
      "OMP Test Batch for noise_level = 0.07:  81%|████████  | 162/200 [2:52:46<16:51, 26.62s/it]"
     ]
    },
    {
     "name": "stderr",
     "output_type": "stream",
     "text": [
      "\r",
      "OMP Test Batch for noise_level = 0.01:  82%|████████▏ | 164/200 [2:52:51<15:19, 25.54s/it]"
     ]
    },
    {
     "name": "stderr",
     "output_type": "stream",
     "text": [
      "\r",
      "OMP Test Batch for noise_level = 0.16:  80%|████████  | 161/200 [2:52:45<24:26, 37.60s/it]"
     ]
    },
    {
     "name": "stderr",
     "output_type": "stream",
     "text": [
      "\r",
      "OMP Test Batch for noise_level = 0.03:  79%|███████▉  | 158/200 [2:52:55<25:34, 36.54s/it]"
     ]
    },
    {
     "name": "stderr",
     "output_type": "stream",
     "text": [
      "\r",
      "OMP Test Batch for noise_level = 0.14:  84%|████████▍ | 168/200 [2:52:48<13:24, 25.15s/it]"
     ]
    },
    {
     "name": "stderr",
     "output_type": "stream",
     "text": [
      "\r",
      "OMP Test Batch for noise_level = 0.04:  80%|████████  | 160/200 [2:52:59<24:53, 37.34s/it]"
     ]
    },
    {
     "name": "stderr",
     "output_type": "stream",
     "text": [
      "\r",
      "OMP Test Batch for noise_level = 0.02:  78%|███████▊  | 155/200 [2:53:01<28:13, 37.63s/it]"
     ]
    },
    {
     "name": "stderr",
     "output_type": "stream",
     "text": [
      "\r",
      "OMP Test Batch for noise_level = 0.12:  81%|████████  | 162/200 [2:52:54<21:33, 34.04s/it]"
     ]
    },
    {
     "name": "stderr",
     "output_type": "stream",
     "text": [
      "\r",
      "OMP Test Batch for noise_level = 0.00:  76%|███████▋  | 153/200 [2:53:04<28:03, 35.81s/it]"
     ]
    },
    {
     "name": "stderr",
     "output_type": "stream",
     "text": [
      "\r",
      "OMP Test Batch for noise_level = 0.05:  77%|███████▋  | 154/200 [2:53:03<28:11, 36.78s/it]"
     ]
    },
    {
     "name": "stderr",
     "output_type": "stream",
     "text": [
      "\r",
      "OMP Test Batch for noise_level = 0.10:  83%|████████▎ | 166/200 [2:53:01<14:51, 26.21s/it]"
     ]
    },
    {
     "name": "stderr",
     "output_type": "stream",
     "text": [
      "\r",
      "OMP Test Batch for noise_level = 0.20:  76%|███████▋  | 153/200 [2:53:01<27:40, 35.32s/it]"
     ]
    },
    {
     "name": "stderr",
     "output_type": "stream",
     "text": [
      "\r",
      "OMP Test Batch for noise_level = 0.08:  78%|███████▊  | 156/200 [2:53:07<26:44, 36.46s/it]"
     ]
    },
    {
     "name": "stderr",
     "output_type": "stream",
     "text": [
      "\r",
      "OMP Test Batch for noise_level = 0.18:  81%|████████  | 162/200 [2:53:03<16:19, 25.79s/it]"
     ]
    },
    {
     "name": "stderr",
     "output_type": "stream",
     "text": [
      "\r",
      "OMP Test Batch for noise_level = 0.09:  78%|███████▊  | 155/200 [2:53:09<28:18, 37.75s/it]"
     ]
    },
    {
     "name": "stderr",
     "output_type": "stream",
     "text": [
      "\r",
      "OMP Test Batch for noise_level = 0.07:  82%|████████▏ | 163/200 [2:53:12<16:24, 26.61s/it]"
     ]
    },
    {
     "name": "stderr",
     "output_type": "stream",
     "text": [
      "\r",
      "OMP Test Batch for noise_level = 0.01:  82%|████████▎ | 165/200 [2:53:18<15:03, 25.82s/it]"
     ]
    },
    {
     "name": "stderr",
     "output_type": "stream",
     "text": [
      "\r",
      "OMP Test Batch for noise_level = 0.14:  84%|████████▍ | 169/200 [2:53:15<13:14, 25.64s/it]"
     ]
    },
    {
     "name": "stderr",
     "output_type": "stream",
     "text": [
      "\r",
      "OMP Test Batch for noise_level = 0.12:  82%|████████▏ | 163/200 [2:53:21<19:39, 31.89s/it]"
     ]
    },
    {
     "name": "stderr",
     "output_type": "stream",
     "text": [
      "\r",
      "OMP Test Batch for noise_level = 0.06:  76%|███████▌  | 151/200 [2:53:26<35:58, 44.06s/it]"
     ]
    },
    {
     "name": "stderr",
     "output_type": "stream",
     "text": [
      "\r",
      "OMP Test Batch for noise_level = 0.03:  80%|███████▉  | 159/200 [2:53:29<24:31, 35.89s/it]"
     ]
    },
    {
     "name": "stderr",
     "output_type": "stream",
     "text": [
      "\r",
      "OMP Test Batch for noise_level = 0.10:  84%|████████▎ | 167/200 [2:53:27<14:26, 26.27s/it]"
     ]
    },
    {
     "name": "stderr",
     "output_type": "stream",
     "text": [
      "\r",
      "OMP Test Batch for noise_level = 0.04:  80%|████████  | 161/200 [2:53:36<24:20, 37.45s/it]"
     ]
    },
    {
     "name": "stderr",
     "output_type": "stream",
     "text": [
      "\r",
      "OMP Test Batch for noise_level = 0.16:  81%|████████  | 162/200 [2:53:28<24:51, 39.25s/it]"
     ]
    },
    {
     "name": "stderr",
     "output_type": "stream",
     "text": [
      "\r",
      "OMP Test Batch for noise_level = 0.02:  78%|███████▊  | 156/200 [2:53:39<27:43, 37.80s/it]"
     ]
    },
    {
     "name": "stderr",
     "output_type": "stream",
     "text": [
      "\r",
      "OMP Test Batch for noise_level = 0.18:  82%|████████▏ | 163/200 [2:53:29<16:00, 25.97s/it]"
     ]
    },
    {
     "name": "stderr",
     "output_type": "stream",
     "text": [
      "\r",
      "OMP Test Batch for noise_level = 0.00:  77%|███████▋  | 154/200 [2:53:42<28:03, 36.60s/it]"
     ]
    },
    {
     "name": "stderr",
     "output_type": "stream",
     "text": [
      "\r",
      "OMP Test Batch for noise_level = 0.01:  83%|████████▎ | 166/200 [2:53:42<14:21, 25.35s/it]"
     ]
    },
    {
     "name": "stderr",
     "output_type": "stream",
     "text": [
      "\r",
      "OMP Test Batch for noise_level = 0.07:  82%|████████▏ | 164/200 [2:53:39<15:55, 26.55s/it]"
     ]
    },
    {
     "name": "stderr",
     "output_type": "stream",
     "text": [
      "\r",
      "OMP Test Batch for noise_level = 0.05:  78%|███████▊  | 155/200 [2:53:41<27:55, 37.24s/it]"
     ]
    },
    {
     "name": "stderr",
     "output_type": "stream",
     "text": [
      "\r",
      "OMP Test Batch for noise_level = 0.14:  85%|████████▌ | 170/200 [2:53:41<12:54, 25.81s/it]"
     ]
    },
    {
     "name": "stderr",
     "output_type": "stream",
     "text": [
      "\r",
      "OMP Test Batch for noise_level = 0.09:  78%|███████▊  | 156/200 [2:53:44<27:06, 36.97s/it]\r",
      "OMP Test Batch for noise_level = 0.08:  78%|███████▊  | 157/200 [2:53:45<26:24, 36.86s/it]"
     ]
    },
    {
     "name": "stderr",
     "output_type": "stream",
     "text": [
      "\r",
      "OMP Test Batch for noise_level = 0.20:  77%|███████▋  | 154/200 [2:53:40<27:52, 36.36s/it]"
     ]
    },
    {
     "name": "stderr",
     "output_type": "stream",
     "text": [
      "\r",
      "OMP Test Batch for noise_level = 0.12:  82%|████████▏ | 164/200 [2:53:47<18:08, 30.25s/it]"
     ]
    },
    {
     "name": "stderr",
     "output_type": "stream",
     "text": [
      "\r",
      "OMP Test Batch for noise_level = 0.10:  84%|████████▍ | 168/200 [2:53:54<14:01, 26.29s/it]"
     ]
    },
    {
     "name": "stderr",
     "output_type": "stream",
     "text": [
      "\r",
      "OMP Test Batch for noise_level = 0.03:  80%|████████  | 160/200 [2:54:02<23:18, 34.95s/it]"
     ]
    },
    {
     "name": "stderr",
     "output_type": "stream",
     "text": [
      "\r",
      "OMP Test Batch for noise_level = 0.18:  82%|████████▏ | 164/200 [2:53:56<15:45, 26.27s/it]"
     ]
    },
    {
     "name": "stderr",
     "output_type": "stream",
     "text": [
      "\r",
      "OMP Test Batch for noise_level = 0.01:  84%|████████▎ | 167/200 [2:54:09<14:09, 25.75s/it]"
     ]
    },
    {
     "name": "stderr",
     "output_type": "stream",
     "text": [
      "\r",
      "OMP Test Batch for noise_level = 0.07:  82%|████████▎ | 165/200 [2:54:06<15:34, 26.69s/it]"
     ]
    },
    {
     "name": "stderr",
     "output_type": "stream",
     "text": [
      "\r",
      "OMP Test Batch for noise_level = 0.06:  76%|███████▌  | 152/200 [2:54:09<34:54, 43.64s/it]"
     ]
    },
    {
     "name": "stderr",
     "output_type": "stream",
     "text": [
      "\r",
      "OMP Test Batch for noise_level = 0.16:  82%|████████▏ | 163/200 [2:54:03<23:18, 37.79s/it]"
     ]
    },
    {
     "name": "stderr",
     "output_type": "stream",
     "text": [
      "\r",
      "OMP Test Batch for noise_level = 0.14:  86%|████████▌ | 171/200 [2:54:06<12:17, 25.44s/it]"
     ]
    },
    {
     "name": "stderr",
     "output_type": "stream",
     "text": [
      "\r",
      "OMP Test Batch for noise_level = 0.02:  78%|███████▊  | 157/200 [2:54:16<26:58, 37.65s/it]"
     ]
    },
    {
     "name": "stderr",
     "output_type": "stream",
     "text": [
      "\r",
      "OMP Test Batch for noise_level = 0.04:  81%|████████  | 162/200 [2:54:17<24:25, 38.56s/it]"
     ]
    },
    {
     "name": "stderr",
     "output_type": "stream",
     "text": [
      "\r",
      "OMP Test Batch for noise_level = 0.05:  78%|███████▊  | 156/200 [2:54:18<27:18, 37.25s/it]"
     ]
    },
    {
     "name": "stderr",
     "output_type": "stream",
     "text": [
      "\r",
      "OMP Test Batch for noise_level = 0.20:  78%|███████▊  | 155/200 [2:54:10<25:58, 34.62s/it]"
     ]
    },
    {
     "name": "stderr",
     "output_type": "stream",
     "text": [
      "\r",
      "OMP Test Batch for noise_level = 0.12:  82%|████████▎ | 165/200 [2:54:14<17:07, 29.35s/it]"
     ]
    },
    {
     "name": "stderr",
     "output_type": "stream",
     "text": [
      "\r",
      "OMP Test Batch for noise_level = 0.00:  78%|███████▊  | 155/200 [2:54:24<28:37, 38.18s/it]"
     ]
    },
    {
     "name": "stderr",
     "output_type": "stream",
     "text": [
      "\r",
      "OMP Test Batch for noise_level = 0.09:  78%|███████▊  | 157/200 [2:54:21<26:33, 37.05s/it]\r",
      "OMP Test Batch for noise_level = 0.10:  84%|████████▍ | 169/200 [2:54:21<13:41, 26.50s/it]"
     ]
    },
    {
     "name": "stderr",
     "output_type": "stream",
     "text": [
      "\r",
      "OMP Test Batch for noise_level = 0.08:  79%|███████▉  | 158/200 [2:54:24<26:14, 37.49s/it]"
     ]
    },
    {
     "name": "stderr",
     "output_type": "stream",
     "text": [
      "\r",
      "OMP Test Batch for noise_level = 0.03:  80%|████████  | 161/200 [2:54:29<21:09, 32.56s/it]"
     ]
    },
    {
     "name": "stderr",
     "output_type": "stream",
     "text": [
      "\r",
      "OMP Test Batch for noise_level = 0.18:  82%|████████▎ | 165/200 [2:54:23<15:27, 26.51s/it]"
     ]
    },
    {
     "name": "stderr",
     "output_type": "stream",
     "text": [
      "\r",
      "OMP Test Batch for noise_level = 0.01:  84%|████████▍ | 168/200 [2:54:36<13:56, 26.15s/it]"
     ]
    },
    {
     "name": "stderr",
     "output_type": "stream",
     "text": [
      "\r",
      "OMP Test Batch for noise_level = 0.07:  83%|████████▎ | 166/200 [2:54:33<15:12, 26.83s/it]"
     ]
    },
    {
     "name": "stderr",
     "output_type": "stream",
     "text": [
      "\r",
      "OMP Test Batch for noise_level = 0.14:  86%|████████▌ | 172/200 [2:54:33<12:05, 25.92s/it]"
     ]
    },
    {
     "name": "stderr",
     "output_type": "stream",
     "text": [
      "\r",
      "OMP Test Batch for noise_level = 0.06:  76%|███████▋  | 153/200 [2:54:43<31:58, 40.81s/it]"
     ]
    },
    {
     "name": "stderr",
     "output_type": "stream",
     "text": [
      "\r",
      "OMP Test Batch for noise_level = 0.16:  82%|████████▏ | 164/200 [2:54:37<22:02, 36.74s/it]"
     ]
    },
    {
     "name": "stderr",
     "output_type": "stream",
     "text": [
      "\r",
      "OMP Test Batch for noise_level = 0.12:  83%|████████▎ | 166/200 [2:54:41<16:14, 28.67s/it]"
     ]
    },
    {
     "name": "stderr",
     "output_type": "stream",
     "text": [
      "\r",
      "OMP Test Batch for noise_level = 0.02:  79%|███████▉  | 158/200 [2:54:51<25:42, 36.72s/it]"
     ]
    },
    {
     "name": "stderr",
     "output_type": "stream",
     "text": [
      "\r",
      "OMP Test Batch for noise_level = 0.10:  85%|████████▌ | 170/200 [2:54:48<13:18, 26.62s/it]"
     ]
    },
    {
     "name": "stderr",
     "output_type": "stream",
     "text": [
      "\r",
      "OMP Test Batch for noise_level = 0.08:  80%|███████▉  | 159/200 [2:54:51<23:25, 34.28s/it]"
     ]
    },
    {
     "name": "stderr",
     "output_type": "stream",
     "text": [
      "\r",
      "OMP Test Batch for noise_level = 0.03:  81%|████████  | 162/200 [2:54:56<19:30, 30.79s/it]"
     ]
    },
    {
     "name": "stderr",
     "output_type": "stream",
     "text": [
      "\r",
      "OMP Test Batch for noise_level = 0.04:  82%|████████▏ | 163/200 [2:54:56<23:41, 38.42s/it]"
     ]
    },
    {
     "name": "stderr",
     "output_type": "stream",
     "text": [
      "\r",
      "OMP Test Batch for noise_level = 0.05:  78%|███████▊  | 157/200 [2:54:56<26:52, 37.49s/it]"
     ]
    },
    {
     "name": "stderr",
     "output_type": "stream",
     "text": [
      "\r",
      "OMP Test Batch for noise_level = 0.20:  78%|███████▊  | 156/200 [2:54:49<26:14, 35.77s/it]"
     ]
    },
    {
     "name": "stderr",
     "output_type": "stream",
     "text": [
      "\r",
      "OMP Test Batch for noise_level = 0.18:  83%|████████▎ | 166/200 [2:54:50<15:03, 26.56s/it]"
     ]
    },
    {
     "name": "stderr",
     "output_type": "stream",
     "text": [
      "\r",
      "OMP Test Batch for noise_level = 0.00:  78%|███████▊  | 156/200 [2:55:02<27:58, 38.16s/it]"
     ]
    },
    {
     "name": "stderr",
     "output_type": "stream",
     "text": [
      "\r",
      "OMP Test Batch for noise_level = 0.01:  84%|████████▍ | 169/200 [2:55:02<13:34, 26.26s/it]"
     ]
    },
    {
     "name": "stderr",
     "output_type": "stream",
     "text": [
      "\r",
      "OMP Test Batch for noise_level = 0.07:  84%|████████▎ | 167/200 [2:55:00<14:43, 26.78s/it]"
     ]
    },
    {
     "name": "stderr",
     "output_type": "stream",
     "text": [
      "\r",
      "OMP Test Batch for noise_level = 0.09:  79%|███████▉  | 158/200 [2:55:00<26:15, 37.52s/it]"
     ]
    },
    {
     "name": "stderr",
     "output_type": "stream",
     "text": [
      "\r",
      "OMP Test Batch for noise_level = 0.14:  86%|████████▋ | 173/200 [2:54:59<11:44, 26.08s/it]"
     ]
    },
    {
     "name": "stderr",
     "output_type": "stream",
     "text": [
      "\r",
      "OMP Test Batch for noise_level = 0.12:  84%|████████▎ | 167/200 [2:55:08<15:27, 28.09s/it]"
     ]
    },
    {
     "name": "stderr",
     "output_type": "stream",
     "text": [
      "\r",
      "OMP Test Batch for noise_level = 0.08:  80%|████████  | 160/200 [2:55:15<20:50, 31.26s/it]"
     ]
    },
    {
     "name": "stderr",
     "output_type": "stream",
     "text": [
      "\r",
      "OMP Test Batch for noise_level = 0.10:  86%|████████▌ | 171/200 [2:55:14<12:52, 26.64s/it]"
     ]
    },
    {
     "name": "stderr",
     "output_type": "stream",
     "text": [
      "\r",
      "OMP Test Batch for noise_level = 0.03:  82%|████████▏ | 163/200 [2:55:22<18:13, 29.55s/it]"
     ]
    },
    {
     "name": "stderr",
     "output_type": "stream",
     "text": [
      "\r",
      "OMP Test Batch for noise_level = 0.06:  77%|███████▋  | 154/200 [2:55:23<31:06, 40.58s/it]"
     ]
    },
    {
     "name": "stderr",
     "output_type": "stream",
     "text": [
      "\r",
      "OMP Test Batch for noise_level = 0.16:  82%|████████▎ | 165/200 [2:55:17<21:59, 37.69s/it]"
     ]
    },
    {
     "name": "stderr",
     "output_type": "stream",
     "text": [
      "\r",
      "OMP Test Batch for noise_level = 0.18:  84%|████████▎ | 167/200 [2:55:17<14:38, 26.61s/it]"
     ]
    },
    {
     "name": "stderr",
     "output_type": "stream",
     "text": [
      "\r",
      "OMP Test Batch for noise_level = 0.01:  85%|████████▌ | 170/200 [2:55:29<13:12, 26.42s/it]"
     ]
    },
    {
     "name": "stderr",
     "output_type": "stream",
     "text": [
      "\r",
      "OMP Test Batch for noise_level = 0.02:  80%|███████▉  | 159/200 [2:55:31<25:44, 37.68s/it]"
     ]
    },
    {
     "name": "stderr",
     "output_type": "stream",
     "text": [
      "\r",
      "OMP Test Batch for noise_level = 0.07:  84%|████████▍ | 168/200 [2:55:27<14:21, 26.91s/it]"
     ]
    },
    {
     "name": "stderr",
     "output_type": "stream",
     "text": [
      "\r",
      "OMP Test Batch for noise_level = 0.14:  87%|████████▋ | 174/200 [2:55:26<11:24, 26.31s/it]"
     ]
    },
    {
     "name": "stderr",
     "output_type": "stream",
     "text": [
      "\r",
      "OMP Test Batch for noise_level = 0.20:  78%|███████▊  | 157/200 [2:55:25<25:41, 35.86s/it]\r",
      "OMP Test Batch for noise_level = 0.04:  82%|████████▏ | 164/200 [2:55:34<23:07, 38.55s/it]"
     ]
    },
    {
     "name": "stderr",
     "output_type": "stream",
     "text": [
      "\r",
      "OMP Test Batch for noise_level = 0.05:  79%|███████▉  | 158/200 [2:55:35<26:32, 37.92s/it]"
     ]
    },
    {
     "name": "stderr",
     "output_type": "stream",
     "text": [
      "\r",
      "OMP Test Batch for noise_level = 0.00:  78%|███████▊  | 157/200 [2:55:42<27:41, 38.64s/it]"
     ]
    },
    {
     "name": "stderr",
     "output_type": "stream",
     "text": [
      "\r",
      "OMP Test Batch for noise_level = 0.12:  84%|████████▍ | 168/200 [2:55:35<14:49, 27.79s/it]"
     ]
    },
    {
     "name": "stderr",
     "output_type": "stream",
     "text": [
      "\r",
      "OMP Test Batch for noise_level = 0.09:  80%|███████▉  | 159/200 [2:55:39<26:01, 38.08s/it]"
     ]
    },
    {
     "name": "stderr",
     "output_type": "stream",
     "text": [
      "\r",
      "OMP Test Batch for noise_level = 0.08:  80%|████████  | 161/200 [2:55:42<19:28, 29.97s/it]"
     ]
    },
    {
     "name": "stderr",
     "output_type": "stream",
     "text": [
      "\r",
      "OMP Test Batch for noise_level = 0.10:  86%|████████▌ | 172/200 [2:55:41<12:28, 26.73s/it]"
     ]
    },
    {
     "name": "stderr",
     "output_type": "stream",
     "text": [
      "\r",
      "OMP Test Batch for noise_level = 0.03:  82%|████████▏ | 164/200 [2:55:49<17:17, 28.83s/it]"
     ]
    },
    {
     "name": "stderr",
     "output_type": "stream",
     "text": [
      "\r",
      "OMP Test Batch for noise_level = 0.18:  84%|████████▍ | 168/200 [2:55:44<14:19, 26.86s/it]"
     ]
    },
    {
     "name": "stderr",
     "output_type": "stream",
     "text": [
      "\r",
      "OMP Test Batch for noise_level = 0.01:  86%|████████▌ | 171/200 [2:55:56<12:51, 26.61s/it]"
     ]
    },
    {
     "name": "stderr",
     "output_type": "stream",
     "text": [
      "\r",
      "OMP Test Batch for noise_level = 0.07:  84%|████████▍ | 169/200 [2:55:54<13:56, 26.98s/it]"
     ]
    },
    {
     "name": "stderr",
     "output_type": "stream",
     "text": [
      "\r",
      "OMP Test Batch for noise_level = 0.06:  78%|███████▊  | 155/200 [2:55:59<29:27, 39.27s/it]"
     ]
    },
    {
     "name": "stderr",
     "output_type": "stream",
     "text": [
      "\r",
      "OMP Test Batch for noise_level = 0.14:  88%|████████▊ | 175/200 [2:55:53<11:07, 26.69s/it]"
     ]
    },
    {
     "name": "stderr",
     "output_type": "stream",
     "text": [
      "\r",
      "OMP Test Batch for noise_level = 0.12:  84%|████████▍ | 169/200 [2:55:56<13:12, 25.58s/it]"
     ]
    },
    {
     "name": "stderr",
     "output_type": "stream",
     "text": [
      "\r",
      "OMP Test Batch for noise_level = 0.02:  80%|████████  | 160/200 [2:56:10<25:23, 38.09s/it]"
     ]
    },
    {
     "name": "stderr",
     "output_type": "stream",
     "text": [
      "\r",
      "OMP Test Batch for noise_level = 0.16:  83%|████████▎ | 166/200 [2:56:01<22:23, 39.50s/it]"
     ]
    },
    {
     "name": "stderr",
     "output_type": "stream",
     "text": [
      "\r",
      "OMP Test Batch for noise_level = 0.20:  79%|███████▉  | 158/200 [2:56:01<25:03, 35.79s/it]"
     ]
    },
    {
     "name": "stderr",
     "output_type": "stream",
     "text": [
      "\r",
      "OMP Test Batch for noise_level = 0.05:  80%|███████▉  | 159/200 [2:56:11<25:24, 37.19s/it]"
     ]
    },
    {
     "name": "stderr",
     "output_type": "stream",
     "text": [
      "\r",
      "OMP Test Batch for noise_level = 0.08:  81%|████████  | 162/200 [2:56:09<18:25, 29.10s/it]"
     ]
    },
    {
     "name": "stderr",
     "output_type": "stream",
     "text": [
      "\r",
      "OMP Test Batch for noise_level = 0.04:  82%|████████▎ | 165/200 [2:56:13<22:32, 38.65s/it]\r",
      "OMP Test Batch for noise_level = 0.10:  86%|████████▋ | 173/200 [2:56:08<12:04, 26.82s/it]"
     ]
    },
    {
     "name": "stderr",
     "output_type": "stream",
     "text": [
      "\r",
      "OMP Test Batch for noise_level = 0.18:  84%|████████▍ | 169/200 [2:56:07<13:11, 25.52s/it]\r",
      "OMP Test Batch for noise_level = 0.03:  82%|████████▎ | 165/200 [2:56:16<16:28, 28.24s/it]"
     ]
    },
    {
     "name": "stderr",
     "output_type": "stream",
     "text": [
      "\r",
      "OMP Test Batch for noise_level = 0.00:  79%|███████▉  | 158/200 [2:56:21<27:02, 38.63s/it]"
     ]
    },
    {
     "name": "stderr",
     "output_type": "stream",
     "text": [
      "\r",
      "OMP Test Batch for noise_level = 0.01:  86%|████████▌ | 172/200 [2:56:21<12:11, 26.11s/it]"
     ]
    },
    {
     "name": "stderr",
     "output_type": "stream",
     "text": [
      "\r",
      "OMP Test Batch for noise_level = 0.07:  85%|████████▌ | 170/200 [2:56:19<13:08, 26.29s/it]"
     ]
    },
    {
     "name": "stderr",
     "output_type": "stream",
     "text": [
      "\r",
      "OMP Test Batch for noise_level = 0.09:  80%|████████  | 160/200 [2:56:20<25:46, 38.67s/it]"
     ]
    },
    {
     "name": "stderr",
     "output_type": "stream",
     "text": [
      "\r",
      "OMP Test Batch for noise_level = 0.14:  88%|████████▊ | 176/200 [2:56:20<10:42, 26.77s/it]"
     ]
    },
    {
     "name": "stderr",
     "output_type": "stream",
     "text": [
      "\r",
      "OMP Test Batch for noise_level = 0.12:  85%|████████▌ | 170/200 [2:56:22<12:55, 25.85s/it]"
     ]
    },
    {
     "name": "stderr",
     "output_type": "stream",
     "text": [
      "\r",
      "OMP Test Batch for noise_level = 0.08:  82%|████████▏ | 163/200 [2:56:36<17:27, 28.32s/it]"
     ]
    },
    {
     "name": "stderr",
     "output_type": "stream",
     "text": [
      "\r",
      "OMP Test Batch for noise_level = 0.10:  87%|████████▋ | 174/200 [2:56:34<11:31, 26.58s/it]\r",
      "OMP Test Batch for noise_level = 0.06:  78%|███████▊  | 156/200 [2:56:38<28:42, 39.15s/it]"
     ]
    },
    {
     "name": "stderr",
     "output_type": "stream",
     "text": [
      "\r",
      "OMP Test Batch for noise_level = 0.18:  85%|████████▌ | 170/200 [2:56:33<12:52, 25.74s/it]"
     ]
    },
    {
     "name": "stderr",
     "output_type": "stream",
     "text": [
      "\r",
      "OMP Test Batch for noise_level = 0.20:  80%|███████▉  | 159/200 [2:56:36<24:21, 35.65s/it]"
     ]
    },
    {
     "name": "stderr",
     "output_type": "stream",
     "text": [
      "\r",
      "OMP Test Batch for noise_level = 0.02:  80%|████████  | 161/200 [2:56:48<24:46, 38.11s/it]"
     ]
    },
    {
     "name": "stderr",
     "output_type": "stream",
     "text": [
      "\r",
      "OMP Test Batch for noise_level = 0.01:  86%|████████▋ | 173/200 [2:56:49<12:03, 26.78s/it]"
     ]
    },
    {
     "name": "stderr",
     "output_type": "stream",
     "text": [
      "\r",
      "OMP Test Batch for noise_level = 0.16:  84%|████████▎ | 167/200 [2:56:39<21:33, 39.19s/it]\r",
      "OMP Test Batch for noise_level = 0.07:  86%|████████▌ | 171/200 [2:56:45<12:42, 26.29s/it]"
     ]
    },
    {
     "name": "stderr",
     "output_type": "stream",
     "text": [
      "\r",
      "OMP Test Batch for noise_level = 0.05:  80%|████████  | 160/200 [2:56:49<25:04, 37.60s/it]"
     ]
    },
    {
     "name": "stderr",
     "output_type": "stream",
     "text": [
      "\r",
      "OMP Test Batch for noise_level = 0.04:  83%|████████▎ | 166/200 [2:56:52<21:50, 38.54s/it]\r",
      "OMP Test Batch for noise_level = 0.03:  83%|████████▎ | 166/200 [2:56:53<17:22, 30.65s/it]"
     ]
    },
    {
     "name": "stderr",
     "output_type": "stream",
     "text": [
      "\r",
      "OMP Test Batch for noise_level = 0.14:  88%|████████▊ | 177/200 [2:56:47<10:12, 26.61s/it]"
     ]
    },
    {
     "name": "stderr",
     "output_type": "stream",
     "text": [
      "\r",
      "OMP Test Batch for noise_level = 0.12:  86%|████████▌ | 171/200 [2:56:48<12:34, 26.01s/it]"
     ]
    },
    {
     "name": "stderr",
     "output_type": "stream",
     "text": [
      "\r",
      "OMP Test Batch for noise_level = 0.00:  80%|███████▉  | 159/200 [2:57:00<26:27, 38.72s/it]"
     ]
    },
    {
     "name": "stderr",
     "output_type": "stream",
     "text": [
      "\r",
      "OMP Test Batch for noise_level = 0.09:  80%|████████  | 161/200 [2:56:58<25:01, 38.49s/it]"
     ]
    },
    {
     "name": "stderr",
     "output_type": "stream",
     "text": [
      "\r",
      "OMP Test Batch for noise_level = 0.18:  86%|████████▌ | 171/200 [2:56:57<12:12, 25.24s/it]\r",
      "OMP Test Batch for noise_level = 0.08:  82%|████████▏ | 164/200 [2:57:02<16:40, 27.80s/it]"
     ]
    },
    {
     "name": "stderr",
     "output_type": "stream",
     "text": [
      "\r",
      "OMP Test Batch for noise_level = 0.10:  88%|████████▊ | 175/200 [2:57:01<11:03, 26.54s/it]"
     ]
    },
    {
     "name": "stderr",
     "output_type": "stream",
     "text": [
      "\r",
      "OMP Test Batch for noise_level = 0.01:  87%|████████▋ | 174/200 [2:57:16<11:37, 26.82s/it]"
     ]
    },
    {
     "name": "stderr",
     "output_type": "stream",
     "text": [
      "\r",
      "OMP Test Batch for noise_level = 0.06:  78%|███████▊  | 157/200 [2:57:12<27:04, 37.78s/it]"
     ]
    },
    {
     "name": "stderr",
     "output_type": "stream",
     "text": [
      "\r",
      "OMP Test Batch for noise_level = 0.07:  86%|████████▌ | 172/200 [2:57:12<12:22, 26.51s/it]"
     ]
    },
    {
     "name": "stderr",
     "output_type": "stream",
     "text": [
      "\r",
      "OMP Test Batch for noise_level = 0.20:  80%|████████  | 160/200 [2:57:11<23:34, 35.36s/it]"
     ]
    },
    {
     "name": "stderr",
     "output_type": "stream",
     "text": [
      "\r",
      "OMP Test Batch for noise_level = 0.12:  86%|████████▌ | 172/200 [2:57:15<12:14, 26.24s/it]"
     ]
    },
    {
     "name": "stderr",
     "output_type": "stream",
     "text": [
      "\r",
      "OMP Test Batch for noise_level = 0.14:  89%|████████▉ | 178/200 [2:57:15<09:56, 27.11s/it]"
     ]
    },
    {
     "name": "stderr",
     "output_type": "stream",
     "text": [
      "\r",
      "OMP Test Batch for noise_level = 0.03:  84%|████████▎ | 167/200 [2:57:23<16:53, 30.70s/it]"
     ]
    },
    {
     "name": "stderr",
     "output_type": "stream",
     "text": [
      "\r",
      "OMP Test Batch for noise_level = 0.02:  81%|████████  | 162/200 [2:57:26<24:06, 38.06s/it]"
     ]
    },
    {
     "name": "stderr",
     "output_type": "stream",
     "text": [
      "\r",
      "OMP Test Batch for noise_level = 0.16:  84%|████████▍ | 168/200 [2:57:17<20:45, 38.91s/it]"
     ]
    },
    {
     "name": "stderr",
     "output_type": "stream",
     "text": [
      "\r",
      "OMP Test Batch for noise_level = 0.05:  80%|████████  | 161/200 [2:57:27<24:34, 37.80s/it]"
     ]
    },
    {
     "name": "stderr",
     "output_type": "stream",
     "text": [
      "\r",
      "OMP Test Batch for noise_level = 0.08:  82%|████████▎ | 165/200 [2:57:27<15:37, 26.79s/it]"
     ]
    },
    {
     "name": "stderr",
     "output_type": "stream",
     "text": [
      "\r",
      "OMP Test Batch for noise_level = 0.04:  84%|████████▎ | 167/200 [2:57:32<21:32, 39.16s/it]\r",
      "OMP Test Batch for noise_level = 0.10:  88%|████████▊ | 176/200 [2:57:27<10:36, 26.51s/it]"
     ]
    },
    {
     "name": "stderr",
     "output_type": "stream",
     "text": [
      "\r",
      "OMP Test Batch for noise_level = 0.00:  80%|████████  | 160/200 [2:57:41<26:16, 39.41s/it]"
     ]
    },
    {
     "name": "stderr",
     "output_type": "stream",
     "text": [
      "\r",
      "OMP Test Batch for noise_level = 0.01:  88%|████████▊ | 175/200 [2:57:43<11:08, 26.75s/it]"
     ]
    },
    {
     "name": "stderr",
     "output_type": "stream",
     "text": [
      "\r",
      "OMP Test Batch for noise_level = 0.09:  81%|████████  | 162/200 [2:57:36<24:24, 38.53s/it]"
     ]
    },
    {
     "name": "stderr",
     "output_type": "stream",
     "text": [
      "\r",
      "OMP Test Batch for noise_level = 0.07:  86%|████████▋ | 173/200 [2:57:39<11:56, 26.53s/it]"
     ]
    },
    {
     "name": "stderr",
     "output_type": "stream",
     "text": [
      "\r",
      "OMP Test Batch for noise_level = 0.18:  86%|████████▌ | 172/200 [2:57:34<13:24, 28.74s/it]"
     ]
    },
    {
     "name": "stderr",
     "output_type": "stream",
     "text": [
      "\r",
      "OMP Test Batch for noise_level = 0.03:  84%|████████▍ | 168/200 [2:57:50<15:41, 29.41s/it]"
     ]
    },
    {
     "name": "stderr",
     "output_type": "stream",
     "text": [
      "\r",
      "OMP Test Batch for noise_level = 0.12:  86%|████████▋ | 173/200 [2:57:44<12:10, 27.07s/it]"
     ]
    },
    {
     "name": "stderr",
     "output_type": "stream",
     "text": [
      "\r",
      "OMP Test Batch for noise_level = 0.06:  79%|███████▉  | 158/200 [2:57:52<26:46, 38.25s/it]"
     ]
    },
    {
     "name": "stderr",
     "output_type": "stream",
     "text": [
      "\r",
      "OMP Test Batch for noise_level = 0.08:  83%|████████▎ | 166/200 [2:57:53<15:07, 26.68s/it]"
     ]
    },
    {
     "name": "stderr",
     "output_type": "stream",
     "text": [
      "\r",
      "OMP Test Batch for noise_level = 0.10:  88%|████████▊ | 177/200 [2:57:54<10:08, 26.47s/it]"
     ]
    },
    {
     "name": "stderr",
     "output_type": "stream",
     "text": [
      "\r",
      "OMP Test Batch for noise_level = 0.20:  80%|████████  | 161/200 [2:57:50<23:44, 36.52s/it]"
     ]
    },
    {
     "name": "stderr",
     "output_type": "stream",
     "text": [
      "\r",
      "OMP Test Batch for noise_level = 0.14:  90%|████████▉ | 179/200 [2:57:53<10:37, 30.34s/it]"
     ]
    },
    {
     "name": "stderr",
     "output_type": "stream",
     "text": [
      "\r",
      "OMP Test Batch for noise_level = 0.02:  82%|████████▏ | 163/200 [2:58:04<23:35, 38.27s/it]"
     ]
    },
    {
     "name": "stderr",
     "output_type": "stream",
     "text": [
      "\r",
      "OMP Test Batch for noise_level = 0.16:  84%|████████▍ | 169/200 [2:57:56<20:02, 38.78s/it]"
     ]
    },
    {
     "name": "stderr",
     "output_type": "stream",
     "text": [
      "\r",
      "OMP Test Batch for noise_level = 0.01:  88%|████████▊ | 176/200 [2:58:09<10:40, 26.71s/it]"
     ]
    },
    {
     "name": "stderr",
     "output_type": "stream",
     "text": [
      "\r",
      "OMP Test Batch for noise_level = 0.07:  87%|████████▋ | 174/200 [2:58:05<11:30, 26.57s/it]"
     ]
    },
    {
     "name": "stderr",
     "output_type": "stream",
     "text": [
      "\r",
      "OMP Test Batch for noise_level = 0.04:  84%|████████▍ | 168/200 [2:58:11<20:47, 38.98s/it]"
     ]
    },
    {
     "name": "stderr",
     "output_type": "stream",
     "text": [
      "\r",
      "OMP Test Batch for noise_level = 0.05:  81%|████████  | 162/200 [2:58:10<24:53, 39.30s/it]"
     ]
    },
    {
     "name": "stderr",
     "output_type": "stream",
     "text": [
      "\r",
      "OMP Test Batch for noise_level = 0.12:  87%|████████▋ | 174/200 [2:58:09<11:22, 26.25s/it]"
     ]
    },
    {
     "name": "stderr",
     "output_type": "stream",
     "text": [
      "\r",
      "OMP Test Batch for noise_level = 0.00:  80%|████████  | 161/200 [2:58:19<25:28, 39.19s/it]"
     ]
    },
    {
     "name": "stderr",
     "output_type": "stream",
     "text": [
      "\r",
      "OMP Test Batch for noise_level = 0.09:  82%|████████▏ | 163/200 [2:58:13<23:26, 38.01s/it]"
     ]
    },
    {
     "name": "stderr",
     "output_type": "stream",
     "text": [
      "\r",
      "OMP Test Batch for noise_level = 0.18:  86%|████████▋ | 173/200 [2:58:12<14:10, 31.51s/it]"
     ]
    },
    {
     "name": "stderr",
     "output_type": "stream",
     "text": [
      "\r",
      "OMP Test Batch for noise_level = 0.08:  84%|████████▎ | 167/200 [2:58:19<14:35, 26.52s/it]"
     ]
    },
    {
     "name": "stderr",
     "output_type": "stream",
     "text": [
      "\r",
      "OMP Test Batch for noise_level = 0.10:  89%|████████▉ | 178/200 [2:58:20<09:39, 26.34s/it]"
     ]
    },
    {
     "name": "stderr",
     "output_type": "stream",
     "text": [
      "\r",
      "OMP Test Batch for noise_level = 0.03:  84%|████████▍ | 169/200 [2:58:27<16:26, 31.81s/it]"
     ]
    },
    {
     "name": "stderr",
     "output_type": "stream",
     "text": [
      "\r",
      "OMP Test Batch for noise_level = 0.20:  81%|████████  | 162/200 [2:58:22<22:14, 35.12s/it]"
     ]
    },
    {
     "name": "stderr",
     "output_type": "stream",
     "text": [
      "\r",
      "OMP Test Batch for noise_level = 0.06:  80%|███████▉  | 159/200 [2:58:31<26:21, 38.57s/it]"
     ]
    },
    {
     "name": "stderr",
     "output_type": "stream",
     "text": [
      "\r",
      "OMP Test Batch for noise_level = 0.01:  88%|████████▊ | 177/200 [2:58:36<10:11, 26.60s/it]"
     ]
    },
    {
     "name": "stderr",
     "output_type": "stream",
     "text": [
      "\r",
      "OMP Test Batch for noise_level = 0.07:  88%|████████▊ | 175/200 [2:58:31<11:01, 26.45s/it]"
     ]
    },
    {
     "name": "stderr",
     "output_type": "stream",
     "text": [
      "\r",
      "OMP Test Batch for noise_level = 0.14:  90%|█████████ | 180/200 [2:58:27<10:30, 31.50s/it]"
     ]
    },
    {
     "name": "stderr",
     "output_type": "stream",
     "text": [
      "\r",
      "OMP Test Batch for noise_level = 0.12:  88%|████████▊ | 175/200 [2:58:30<10:21, 24.86s/it]"
     ]
    },
    {
     "name": "stderr",
     "output_type": "stream",
     "text": [
      "\r",
      "OMP Test Batch for noise_level = 0.02:  82%|████████▏ | 164/200 [2:58:44<23:07, 38.55s/it]"
     ]
    },
    {
     "name": "stderr",
     "output_type": "stream",
     "text": [
      "\r",
      "OMP Test Batch for noise_level = 0.16:  85%|████████▌ | 170/200 [2:58:35<19:26, 38.89s/it]"
     ]
    },
    {
     "name": "stderr",
     "output_type": "stream",
     "text": [
      "\r",
      "OMP Test Batch for noise_level = 0.08:  84%|████████▍ | 168/200 [2:58:46<14:07, 26.49s/it]"
     ]
    },
    {
     "name": "stderr",
     "output_type": "stream",
     "text": [
      "\r",
      "OMP Test Batch for noise_level = 0.04:  84%|████████▍ | 169/200 [2:58:50<20:10, 39.06s/it]"
     ]
    },
    {
     "name": "stderr",
     "output_type": "stream",
     "text": [
      "\r",
      "OMP Test Batch for noise_level = 0.09:  82%|████████▏ | 164/200 [2:58:46<21:54, 36.50s/it]\r",
      "OMP Test Batch for noise_level = 0.18:  87%|████████▋ | 174/200 [2:58:42<13:26, 31.04s/it]"
     ]
    },
    {
     "name": "stderr",
     "output_type": "stream",
     "text": [
      "\r",
      "OMP Test Batch for noise_level = 0.05:  82%|████████▏ | 163/200 [2:58:50<24:17, 39.40s/it]"
     ]
    },
    {
     "name": "stderr",
     "output_type": "stream",
     "text": [
      "\r",
      "OMP Test Batch for noise_level = 0.10:  90%|████████▉ | 179/200 [2:58:46<09:12, 26.33s/it]"
     ]
    },
    {
     "name": "stderr",
     "output_type": "stream",
     "text": [
      "\r",
      "OMP Test Batch for noise_level = 0.00:  81%|████████  | 162/200 [2:58:56<24:16, 38.32s/it]"
     ]
    },
    {
     "name": "stderr",
     "output_type": "stream",
     "text": [
      "\r",
      "OMP Test Batch for noise_level = 0.01:  89%|████████▉ | 178/200 [2:59:02<09:45, 26.61s/it]"
     ]
    },
    {
     "name": "stderr",
     "output_type": "stream",
     "text": [
      "\r",
      "OMP Test Batch for noise_level = 0.14:  90%|█████████ | 181/200 [2:58:53<09:26, 29.80s/it]"
     ]
    },
    {
     "name": "stderr",
     "output_type": "stream",
     "text": [
      "\r",
      "OMP Test Batch for noise_level = 0.12:  88%|████████▊ | 176/200 [2:58:54<09:51, 24.66s/it]\r",
      "OMP Test Batch for noise_level = 0.07:  88%|████████▊ | 176/200 [2:58:58<10:34, 26.45s/it]"
     ]
    },
    {
     "name": "stderr",
     "output_type": "stream",
     "text": [
      "\r",
      "OMP Test Batch for noise_level = 0.03:  85%|████████▌ | 170/200 [2:59:05<16:47, 33.58s/it]"
     ]
    },
    {
     "name": "stderr",
     "output_type": "stream",
     "text": [
      "\r",
      "OMP Test Batch for noise_level = 0.20:  82%|████████▏ | 163/200 [2:59:00<22:11, 35.98s/it]"
     ]
    },
    {
     "name": "stderr",
     "output_type": "stream",
     "text": [
      "\r",
      "OMP Test Batch for noise_level = 0.06:  80%|████████  | 160/200 [2:59:11<25:55, 38.89s/it]"
     ]
    },
    {
     "name": "stderr",
     "output_type": "stream",
     "text": [
      "\r",
      "OMP Test Batch for noise_level = 0.08:  84%|████████▍ | 169/200 [2:59:10<13:24, 25.95s/it]"
     ]
    },
    {
     "name": "stderr",
     "output_type": "stream",
     "text": [
      "\r",
      "OMP Test Batch for noise_level = 0.18:  88%|████████▊ | 175/200 [2:59:09<12:23, 29.75s/it]"
     ]
    },
    {
     "name": "stderr",
     "output_type": "stream",
     "text": [
      "\r",
      "OMP Test Batch for noise_level = 0.10:  90%|█████████ | 180/200 [2:59:13<08:48, 26.44s/it]"
     ]
    },
    {
     "name": "stderr",
     "output_type": "stream",
     "text": [
      "\r",
      "OMP Test Batch for noise_level = 0.02:  82%|████████▎ | 165/200 [2:59:23<22:38, 38.83s/it]"
     ]
    },
    {
     "name": "stderr",
     "output_type": "stream",
     "text": [
      "\r",
      "OMP Test Batch for noise_level = 0.16:  86%|████████▌ | 171/200 [2:59:14<18:50, 38.97s/it]"
     ]
    },
    {
     "name": "stderr",
     "output_type": "stream",
     "text": [
      "\r",
      "OMP Test Batch for noise_level = 0.14:  91%|█████████ | 182/200 [2:59:17<08:26, 28.16s/it]\r",
      "OMP Test Batch for noise_level = 0.01:  90%|████████▉ | 179/200 [2:59:27<09:07, 26.06s/it]"
     ]
    },
    {
     "name": "stderr",
     "output_type": "stream",
     "text": [
      "\r",
      "OMP Test Batch for noise_level = 0.04:  85%|████████▌ | 170/200 [2:59:27<19:10, 38.34s/it]"
     ]
    },
    {
     "name": "stderr",
     "output_type": "stream",
     "text": [
      "\r",
      "OMP Test Batch for noise_level = 0.07:  88%|████████▊ | 177/200 [2:59:25<10:10, 26.55s/it]\r",
      "OMP Test Batch for noise_level = 0.12:  88%|████████▊ | 177/200 [2:59:21<09:42, 25.34s/it]"
     ]
    },
    {
     "name": "stderr",
     "output_type": "stream",
     "text": [
      "\r",
      "OMP Test Batch for noise_level = 0.05:  82%|████████▏ | 164/200 [2:59:29<23:31, 39.22s/it]"
     ]
    },
    {
     "name": "stderr",
     "output_type": "stream",
     "text": [
      "\r",
      "OMP Test Batch for noise_level = 0.09:  82%|████████▎ | 165/200 [2:59:26<21:58, 37.68s/it]"
     ]
    },
    {
     "name": "stderr",
     "output_type": "stream",
     "text": [
      "\r",
      "OMP Test Batch for noise_level = 0.00:  82%|████████▏ | 163/200 [2:59:35<23:46, 38.54s/it]"
     ]
    },
    {
     "name": "stderr",
     "output_type": "stream",
     "text": [
      "\r",
      "OMP Test Batch for noise_level = 0.08:  85%|████████▌ | 170/200 [2:59:37<13:06, 26.23s/it]"
     ]
    },
    {
     "name": "stderr",
     "output_type": "stream",
     "text": [
      "\r",
      "OMP Test Batch for noise_level = 0.10:  90%|█████████ | 181/200 [2:59:37<08:11, 25.89s/it]\r",
      "OMP Test Batch for noise_level = 0.03:  86%|████████▌ | 171/200 [2:59:43<16:55, 35.00s/it]"
     ]
    },
    {
     "name": "stderr",
     "output_type": "stream",
     "text": [
      "\r",
      "OMP Test Batch for noise_level = 0.18:  88%|████████▊ | 176/200 [2:59:35<11:32, 28.84s/it]"
     ]
    },
    {
     "name": "stderr",
     "output_type": "stream",
     "text": [
      "\r",
      "OMP Test Batch for noise_level = 0.20:  82%|████████▏ | 164/200 [2:59:39<22:11, 36.98s/it]"
     ]
    },
    {
     "name": "stderr",
     "output_type": "stream",
     "text": [
      "\r",
      "OMP Test Batch for noise_level = 0.14:  92%|█████████▏| 183/200 [2:59:44<07:52, 27.79s/it]\r",
      "OMP Test Batch for noise_level = 0.01:  90%|█████████ | 180/200 [2:59:54<08:45, 26.30s/it]"
     ]
    },
    {
     "name": "stderr",
     "output_type": "stream",
     "text": [
      "\r",
      "OMP Test Batch for noise_level = 0.06:  80%|████████  | 161/200 [2:59:50<25:22, 39.05s/it]\r",
      "OMP Test Batch for noise_level = 0.12:  89%|████████▉ | 178/200 [2:59:46<09:12, 25.12s/it]"
     ]
    },
    {
     "name": "stderr",
     "output_type": "stream",
     "text": [
      "\r",
      "OMP Test Batch for noise_level = 0.07:  89%|████████▉ | 178/200 [2:59:52<09:46, 26.66s/it]"
     ]
    },
    {
     "name": "stderr",
     "output_type": "stream",
     "text": [
      "\r",
      "OMP Test Batch for noise_level = 0.02:  83%|████████▎ | 166/200 [3:00:01<21:54, 38.66s/it]"
     ]
    },
    {
     "name": "stderr",
     "output_type": "stream",
     "text": [
      "\r",
      "OMP Test Batch for noise_level = 0.10:  91%|█████████ | 182/200 [2:59:59<07:26, 24.79s/it]"
     ]
    },
    {
     "name": "stderr",
     "output_type": "stream",
     "text": [
      "\r",
      "OMP Test Batch for noise_level = 0.08:  86%|████████▌ | 171/200 [3:00:02<12:25, 25.71s/it]\r",
      "OMP Test Batch for noise_level = 0.04:  86%|████████▌ | 171/200 [3:00:05<18:35, 38.48s/it]"
     ]
    },
    {
     "name": "stderr",
     "output_type": "stream",
     "text": [
      "\r",
      "OMP Test Batch for noise_level = 0.16:  86%|████████▌ | 172/200 [2:59:58<18:48, 40.32s/it]"
     ]
    },
    {
     "name": "stderr",
     "output_type": "stream",
     "text": [
      "\r",
      "OMP Test Batch for noise_level = 0.05:  82%|████████▎ | 165/200 [3:00:07<22:44, 38.97s/it]"
     ]
    },
    {
     "name": "stderr",
     "output_type": "stream",
     "text": [
      "\r",
      "OMP Test Batch for noise_level = 0.18:  88%|████████▊ | 177/200 [3:00:00<10:35, 27.63s/it]"
     ]
    },
    {
     "name": "stderr",
     "output_type": "stream",
     "text": [
      "\r",
      "OMP Test Batch for noise_level = 0.09:  83%|████████▎ | 166/200 [3:00:05<21:29, 37.93s/it]"
     ]
    },
    {
     "name": "stderr",
     "output_type": "stream",
     "text": [
      "\r",
      "OMP Test Batch for noise_level = 0.00:  82%|████████▏ | 164/200 [3:00:14<23:15, 38.77s/it]"
     ]
    },
    {
     "name": "stderr",
     "output_type": "stream",
     "text": [
      "\r",
      "OMP Test Batch for noise_level = 0.14:  92%|█████████▏| 184/200 [3:00:11<07:19, 27.49s/it]\r",
      "OMP Test Batch for noise_level = 0.07:  90%|████████▉ | 179/200 [3:00:16<09:04, 25.95s/it]\r",
      "OMP Test Batch for noise_level = 0.01:  90%|█████████ | 181/200 [3:00:21<08:23, 26.48s/it]"
     ]
    },
    {
     "name": "stderr",
     "output_type": "stream",
     "text": [
      "\r",
      "OMP Test Batch for noise_level = 0.12:  90%|████████▉ | 179/200 [3:00:13<08:59, 25.68s/it]"
     ]
    },
    {
     "name": "stderr",
     "output_type": "stream",
     "text": [
      "\r",
      "OMP Test Batch for noise_level = 0.03:  86%|████████▌ | 172/200 [3:00:22<16:49, 36.06s/it]"
     ]
    },
    {
     "name": "stderr",
     "output_type": "stream",
     "text": [
      "\r",
      "OMP Test Batch for noise_level = 0.06:  81%|████████  | 162/200 [3:00:26<24:04, 38.02s/it]"
     ]
    },
    {
     "name": "stderr",
     "output_type": "stream",
     "text": [
      "\r",
      "OMP Test Batch for noise_level = 0.08:  86%|████████▌ | 172/200 [3:00:26<11:48, 25.29s/it]"
     ]
    },
    {
     "name": "stderr",
     "output_type": "stream",
     "text": [
      "\r",
      "OMP Test Batch for noise_level = 0.10:  92%|█████████▏| 183/200 [3:00:26<07:10, 25.32s/it]"
     ]
    },
    {
     "name": "stderr",
     "output_type": "stream",
     "text": [
      "\r",
      "OMP Test Batch for noise_level = 0.18:  89%|████████▉ | 178/200 [3:00:27<10:00, 27.29s/it]"
     ]
    },
    {
     "name": "stderr",
     "output_type": "stream",
     "text": [
      "\r",
      "OMP Test Batch for noise_level = 0.02:  84%|████████▎ | 167/200 [3:00:40<21:18, 38.74s/it]"
     ]
    },
    {
     "name": "stderr",
     "output_type": "stream",
     "text": [
      "\r",
      "OMP Test Batch for noise_level = 0.20:  82%|████████▎ | 165/200 [3:00:33<24:34, 42.12s/it]\r",
      "OMP Test Batch for noise_level = 0.01:  91%|█████████ | 182/200 [3:00:45<07:44, 25.79s/it]"
     ]
    },
    {
     "name": "stderr",
     "output_type": "stream",
     "text": [
      "\r",
      "OMP Test Batch for noise_level = 0.04:  86%|████████▌ | 172/200 [3:00:44<17:57, 38.47s/it]"
     ]
    },
    {
     "name": "stderr",
     "output_type": "stream",
     "text": [
      "\r",
      "OMP Test Batch for noise_level = 0.14:  92%|█████████▎| 185/200 [3:00:37<06:47, 27.19s/it]"
     ]
    },
    {
     "name": "stderr",
     "output_type": "stream",
     "text": [
      "\r",
      "OMP Test Batch for noise_level = 0.07:  90%|█████████ | 180/200 [3:00:42<08:42, 26.13s/it]"
     ]
    },
    {
     "name": "stderr",
     "output_type": "stream",
     "text": [
      "\r",
      "OMP Test Batch for noise_level = 0.12:  90%|█████████ | 180/200 [3:00:39<08:38, 25.94s/it]"
     ]
    },
    {
     "name": "stderr",
     "output_type": "stream",
     "text": [
      "\r",
      "OMP Test Batch for noise_level = 0.05:  83%|████████▎ | 166/200 [3:00:45<21:55, 38.68s/it]"
     ]
    },
    {
     "name": "stderr",
     "output_type": "stream",
     "text": [
      "\r",
      "OMP Test Batch for noise_level = 0.09:  84%|████████▎ | 167/200 [3:00:43<20:55, 38.03s/it]"
     ]
    },
    {
     "name": "stderr",
     "output_type": "stream",
     "text": [
      "\r",
      "OMP Test Batch for noise_level = 0.00:  82%|████████▎ | 165/200 [3:00:52<22:33, 38.68s/it]"
     ]
    },
    {
     "name": "stderr",
     "output_type": "stream",
     "text": [
      "\r",
      "OMP Test Batch for noise_level = 0.03:  86%|████████▋ | 173/200 [3:00:56<15:59, 35.53s/it]"
     ]
    },
    {
     "name": "stderr",
     "output_type": "stream",
     "text": [
      "\r",
      "OMP Test Batch for noise_level = 0.08:  86%|████████▋ | 173/200 [3:00:53<11:32, 25.64s/it]"
     ]
    },
    {
     "name": "stderr",
     "output_type": "stream",
     "text": [
      "\r",
      "OMP Test Batch for noise_level = 0.10:  92%|█████████▏| 184/200 [3:00:53<06:50, 25.67s/it]"
     ]
    },
    {
     "name": "stderr",
     "output_type": "stream",
     "text": [
      "\r",
      "OMP Test Batch for noise_level = 0.18:  90%|████████▉ | 179/200 [3:00:51<09:15, 26.46s/it]\r",
      "OMP Test Batch for noise_level = 0.16:  86%|████████▋ | 173/200 [3:00:52<19:59, 44.43s/it]"
     ]
    },
    {
     "name": "stderr",
     "output_type": "stream",
     "text": [
      "\r",
      "OMP Test Batch for noise_level = 0.06:  82%|████████▏ | 163/200 [3:01:05<23:36, 38.27s/it]"
     ]
    },
    {
     "name": "stderr",
     "output_type": "stream",
     "text": [
      "\r",
      "OMP Test Batch for noise_level = 0.01:  92%|█████████▏| 183/200 [3:01:12<07:26, 26.28s/it]\r",
      "OMP Test Batch for noise_level = 0.02:  84%|████████▍ | 168/200 [3:01:12<19:30, 36.59s/it]"
     ]
    },
    {
     "name": "stderr",
     "output_type": "stream",
     "text": [
      "\r",
      "OMP Test Batch for noise_level = 0.14:  93%|█████████▎| 186/200 [3:01:05<06:21, 27.27s/it]"
     ]
    },
    {
     "name": "stderr",
     "output_type": "stream",
     "text": [
      "\r",
      "OMP Test Batch for noise_level = 0.07:  90%|█████████ | 181/200 [3:01:10<08:25, 26.58s/it]"
     ]
    },
    {
     "name": "stderr",
     "output_type": "stream",
     "text": [
      "\r",
      "OMP Test Batch for noise_level = 0.12:  90%|█████████ | 181/200 [3:01:07<08:23, 26.51s/it]"
     ]
    },
    {
     "name": "stderr",
     "output_type": "stream",
     "text": [
      "\r",
      "OMP Test Batch for noise_level = 0.05:  84%|████████▎ | 167/200 [3:01:20<20:38, 37.54s/it]"
     ]
    },
    {
     "name": "stderr",
     "output_type": "stream",
     "text": [
      "\r",
      "OMP Test Batch for noise_level = 0.04:  86%|████████▋ | 173/200 [3:01:22<17:14, 38.31s/it]"
     ]
    },
    {
     "name": "stderr",
     "output_type": "stream",
     "text": [
      "\r",
      "OMP Test Batch for noise_level = 0.03:  87%|████████▋ | 174/200 [3:01:24<14:20, 33.11s/it]"
     ]
    },
    {
     "name": "stderr",
     "output_type": "stream",
     "text": [
      "\r",
      "OMP Test Batch for noise_level = 0.08:  87%|████████▋ | 174/200 [3:01:20<11:20, 26.17s/it]"
     ]
    },
    {
     "name": "stderr",
     "output_type": "stream",
     "text": [
      "\r",
      "OMP Test Batch for noise_level = 0.10:  92%|█████████▎| 185/200 [3:01:20<06:31, 26.11s/it]"
     ]
    },
    {
     "name": "stderr",
     "output_type": "stream",
     "text": [
      "\r",
      "OMP Test Batch for noise_level = 0.09:  84%|████████▍ | 168/200 [3:01:21<20:18, 38.08s/it]"
     ]
    },
    {
     "name": "stderr",
     "output_type": "stream",
     "text": [
      "\r",
      "OMP Test Batch for noise_level = 0.18:  90%|█████████ | 180/200 [3:01:18<08:54, 26.71s/it]\r",
      "OMP Test Batch for noise_level = 0.00:  83%|████████▎ | 166/200 [3:01:30<21:48, 38.47s/it]"
     ]
    },
    {
     "name": "stderr",
     "output_type": "stream",
     "text": [
      "\r",
      "OMP Test Batch for noise_level = 0.20:  83%|████████▎ | 166/200 [3:01:22<24:58, 44.07s/it]"
     ]
    },
    {
     "name": "stderr",
     "output_type": "stream",
     "text": [
      "\r",
      "OMP Test Batch for noise_level = 0.14:  94%|█████████▎| 187/200 [3:01:27<05:35, 25.80s/it]"
     ]
    },
    {
     "name": "stderr",
     "output_type": "stream",
     "text": [
      "\r",
      "OMP Test Batch for noise_level = 0.01:  92%|█████████▏| 184/200 [3:01:40<07:04, 26.53s/it]"
     ]
    },
    {
     "name": "stderr",
     "output_type": "stream",
     "text": [
      "\r",
      "OMP Test Batch for noise_level = 0.07:  91%|█████████ | 182/200 [3:01:37<08:02, 26.80s/it]"
     ]
    },
    {
     "name": "stderr",
     "output_type": "stream",
     "text": [
      "\r",
      "OMP Test Batch for noise_level = 0.12:  91%|█████████ | 182/200 [3:01:35<08:02, 26.78s/it]"
     ]
    },
    {
     "name": "stderr",
     "output_type": "stream",
     "text": [
      "\r",
      "OMP Test Batch for noise_level = 0.16:  87%|████████▋ | 174/200 [3:01:35<19:03, 43.99s/it]"
     ]
    },
    {
     "name": "stderr",
     "output_type": "stream",
     "text": [
      "\r",
      "OMP Test Batch for noise_level = 0.02:  84%|████████▍ | 169/200 [3:01:51<19:13, 37.21s/it]"
     ]
    },
    {
     "name": "stderr",
     "output_type": "stream",
     "text": [
      "\r",
      "OMP Test Batch for noise_level = 0.03:  88%|████████▊ | 175/200 [3:01:51<13:03, 31.35s/it]"
     ]
    },
    {
     "name": "stderr",
     "output_type": "stream",
     "text": [
      "\r",
      "OMP Test Batch for noise_level = 0.08:  88%|████████▊ | 175/200 [3:01:47<11:01, 26.44s/it]"
     ]
    },
    {
     "name": "stderr",
     "output_type": "stream",
     "text": [
      "\r",
      "OMP Test Batch for noise_level = 0.06:  82%|████████▏ | 164/200 [3:01:50<24:12, 40.36s/it]"
     ]
    },
    {
     "name": "stderr",
     "output_type": "stream",
     "text": [
      "\r",
      "OMP Test Batch for noise_level = 0.18:  90%|█████████ | 181/200 [3:01:43<08:16, 26.12s/it]\r",
      "OMP Test Batch for noise_level = 0.10:  93%|█████████▎| 186/200 [3:01:47<06:09, 26.38s/it]"
     ]
    },
    {
     "name": "stderr",
     "output_type": "stream",
     "text": [
      "\r",
      "OMP Test Batch for noise_level = 0.05:  84%|████████▍ | 168/200 [3:01:58<20:08, 37.76s/it]"
     ]
    },
    {
     "name": "stderr",
     "output_type": "stream",
     "text": [
      "\r",
      "OMP Test Batch for noise_level = 0.04:  87%|████████▋ | 174/200 [3:02:01<16:39, 38.44s/it]"
     ]
    },
    {
     "name": "stderr",
     "output_type": "stream",
     "text": [
      "\r",
      "OMP Test Batch for noise_level = 0.09:  84%|████████▍ | 169/200 [3:01:57<19:13, 37.22s/it]"
     ]
    },
    {
     "name": "stderr",
     "output_type": "stream",
     "text": [
      "\r",
      "OMP Test Batch for noise_level = 0.14:  94%|█████████▍| 188/200 [3:01:54<05:14, 26.19s/it]"
     ]
    },
    {
     "name": "stderr",
     "output_type": "stream",
     "text": [
      "\r",
      "OMP Test Batch for noise_level = 0.01:  92%|█████████▎| 185/200 [3:02:05<06:30, 26.06s/it]\r",
      "OMP Test Batch for noise_level = 0.00:  84%|████████▎ | 167/200 [3:02:05<20:35, 37.45s/it]"
     ]
    },
    {
     "name": "stderr",
     "output_type": "stream",
     "text": [
      "\r",
      "OMP Test Batch for noise_level = 0.07:  92%|█████████▏| 183/200 [3:02:05<07:40, 27.11s/it]"
     ]
    },
    {
     "name": "stderr",
     "output_type": "stream",
     "text": [
      "\r",
      "OMP Test Batch for noise_level = 0.12:  92%|█████████▏| 183/200 [3:02:02<07:38, 26.97s/it]"
     ]
    },
    {
     "name": "stderr",
     "output_type": "stream",
     "text": [
      "\r",
      "OMP Test Batch for noise_level = 0.20:  84%|████████▎ | 167/200 [3:02:00<23:16, 42.30s/it]"
     ]
    },
    {
     "name": "stderr",
     "output_type": "stream",
     "text": [
      "\r",
      "OMP Test Batch for noise_level = 0.03:  88%|████████▊ | 176/200 [3:02:18<12:05, 30.23s/it]"
     ]
    },
    {
     "name": "stderr",
     "output_type": "stream",
     "text": [
      "\r",
      "OMP Test Batch for noise_level = 0.08:  88%|████████▊ | 176/200 [3:02:15<10:42, 26.76s/it]"
     ]
    },
    {
     "name": "stderr",
     "output_type": "stream",
     "text": [
      "\r",
      "OMP Test Batch for noise_level = 0.10:  94%|█████████▎| 187/200 [3:02:14<05:46, 26.68s/it]\r",
      "OMP Test Batch for noise_level = 0.18:  91%|█████████ | 182/200 [3:02:11<07:57, 26.54s/it]"
     ]
    },
    {
     "name": "stderr",
     "output_type": "stream",
     "text": [
      "\r",
      "OMP Test Batch for noise_level = 0.16:  88%|████████▊ | 175/200 [3:02:12<17:33, 42.13s/it]"
     ]
    },
    {
     "name": "stderr",
     "output_type": "stream",
     "text": [
      "\r",
      "OMP Test Batch for noise_level = 0.02:  85%|████████▌ | 170/200 [3:02:29<18:44, 37.49s/it]"
     ]
    },
    {
     "name": "stderr",
     "output_type": "stream",
     "text": [
      "\r",
      "OMP Test Batch for noise_level = 0.01:  93%|█████████▎| 186/200 [3:02:30<06:01, 25.85s/it]"
     ]
    },
    {
     "name": "stderr",
     "output_type": "stream",
     "text": [
      "\r",
      "OMP Test Batch for noise_level = 0.14:  94%|█████████▍| 189/200 [3:02:22<04:52, 26.57s/it]"
     ]
    },
    {
     "name": "stderr",
     "output_type": "stream",
     "text": [
      "\r",
      "OMP Test Batch for noise_level = 0.07:  92%|█████████▏| 184/200 [3:02:30<07:03, 26.48s/it]"
     ]
    },
    {
     "name": "stderr",
     "output_type": "stream",
     "text": [
      "\r",
      "OMP Test Batch for noise_level = 0.12:  92%|█████████▏| 184/200 [3:02:30<07:13, 27.12s/it]"
     ]
    },
    {
     "name": "stderr",
     "output_type": "stream",
     "text": [
      "\r",
      "OMP Test Batch for noise_level = 0.05:  84%|████████▍ | 169/200 [3:02:36<19:31, 37.80s/it]"
     ]
    },
    {
     "name": "stderr",
     "output_type": "stream",
     "text": [
      "\r",
      "OMP Test Batch for noise_level = 0.04:  88%|████████▊ | 175/200 [3:02:38<15:55, 38.21s/it]"
     ]
    },
    {
     "name": "stderr",
     "output_type": "stream",
     "text": [
      "\r",
      "OMP Test Batch for noise_level = 0.09:  85%|████████▌ | 170/200 [3:02:34<18:40, 37.37s/it]"
     ]
    },
    {
     "name": "stderr",
     "output_type": "stream",
     "text": [
      "\r",
      "OMP Test Batch for noise_level = 0.00:  84%|████████▍ | 168/200 [3:02:44<20:04, 37.64s/it]"
     ]
    },
    {
     "name": "stderr",
     "output_type": "stream",
     "text": [
      "\r",
      "OMP Test Batch for noise_level = 0.06:  82%|████████▎ | 165/200 [3:02:40<25:13, 43.25s/it]"
     ]
    },
    {
     "name": "stderr",
     "output_type": "stream",
     "text": [
      "\r",
      "OMP Test Batch for noise_level = 0.08:  88%|████████▊ | 177/200 [3:02:40<10:03, 26.22s/it]"
     ]
    },
    {
     "name": "stderr",
     "output_type": "stream",
     "text": [
      "\r",
      "OMP Test Batch for noise_level = 0.10:  94%|█████████▍| 188/200 [3:02:39<05:12, 26.02s/it]\r",
      "OMP Test Batch for noise_level = 0.20:  84%|████████▍ | 168/200 [3:02:34<21:19, 39.98s/it]"
     ]
    },
    {
     "name": "stderr",
     "output_type": "stream",
     "text": [
      "\r",
      "OMP Test Batch for noise_level = 0.03:  88%|████████▊ | 177/200 [3:02:46<11:15, 29.36s/it]"
     ]
    },
    {
     "name": "stderr",
     "output_type": "stream",
     "text": [
      "\r",
      "OMP Test Batch for noise_level = 0.18:  92%|█████████▏| 183/200 [3:02:38<07:35, 26.80s/it]"
     ]
    },
    {
     "name": "stderr",
     "output_type": "stream",
     "text": [
      "\r",
      "OMP Test Batch for noise_level = 0.01:  94%|█████████▎| 187/200 [3:02:57<05:41, 26.27s/it]"
     ]
    },
    {
     "name": "stderr",
     "output_type": "stream",
     "text": [
      "\r",
      "OMP Test Batch for noise_level = 0.14:  95%|█████████▌| 190/200 [3:02:49<04:27, 26.75s/it]"
     ]
    },
    {
     "name": "stderr",
     "output_type": "stream",
     "text": [
      "\r",
      "OMP Test Batch for noise_level = 0.16:  88%|████████▊ | 176/200 [3:02:50<16:20, 40.86s/it]"
     ]
    },
    {
     "name": "stderr",
     "output_type": "stream",
     "text": [
      "\r",
      "OMP Test Batch for noise_level = 0.07:  92%|█████████▎| 185/200 [3:02:57<06:40, 26.71s/it]"
     ]
    },
    {
     "name": "stderr",
     "output_type": "stream",
     "text": [
      "\r",
      "OMP Test Batch for noise_level = 0.02:  86%|████████▌ | 171/200 [3:03:03<17:40, 36.56s/it]"
     ]
    },
    {
     "name": "stderr",
     "output_type": "stream",
     "text": [
      "\r",
      "OMP Test Batch for noise_level = 0.10:  94%|█████████▍| 189/200 [3:03:03<04:40, 25.47s/it]"
     ]
    },
    {
     "name": "stderr",
     "output_type": "stream",
     "text": [
      "\r",
      "OMP Test Batch for noise_level = 0.08:  89%|████████▉ | 178/200 [3:03:06<09:41, 26.44s/it]"
     ]
    },
    {
     "name": "stderr",
     "output_type": "stream",
     "text": [
      "\r",
      "OMP Test Batch for noise_level = 0.03:  89%|████████▉ | 178/200 [3:03:12<10:27, 28.53s/it]"
     ]
    },
    {
     "name": "stderr",
     "output_type": "stream",
     "text": [
      "\r",
      "OMP Test Batch for noise_level = 0.12:  92%|█████████▎| 185/200 [3:03:07<07:34, 30.27s/it]"
     ]
    },
    {
     "name": "stderr",
     "output_type": "stream",
     "text": [
      "\r",
      "OMP Test Batch for noise_level = 0.04:  88%|████████▊ | 176/200 [3:03:13<14:55, 37.30s/it]\r",
      "OMP Test Batch for noise_level = 0.18:  92%|█████████▏| 184/200 [3:03:05<07:08, 26.79s/it]"
     ]
    },
    {
     "name": "stderr",
     "output_type": "stream",
     "text": [
      "\r",
      "OMP Test Batch for noise_level = 0.05:  85%|████████▌ | 170/200 [3:03:16<19:08, 38.28s/it]"
     ]
    },
    {
     "name": "stderr",
     "output_type": "stream",
     "text": [
      "\r",
      "OMP Test Batch for noise_level = 0.01:  94%|█████████▍| 188/200 [3:03:19<04:59, 24.95s/it]\r",
      "OMP Test Batch for noise_level = 0.09:  86%|████████▌ | 171/200 [3:03:12<18:09, 37.58s/it]"
     ]
    },
    {
     "name": "stderr",
     "output_type": "stream",
     "text": [
      "\r",
      "OMP Test Batch for noise_level = 0.00:  84%|████████▍ | 169/200 [3:03:22<19:31, 37.80s/it]"
     ]
    },
    {
     "name": "stderr",
     "output_type": "stream",
     "text": [
      "\r",
      "OMP Test Batch for noise_level = 0.06:  83%|████████▎ | 166/200 [3:03:19<23:44, 41.89s/it]"
     ]
    },
    {
     "name": "stderr",
     "output_type": "stream",
     "text": [
      "\r",
      "OMP Test Batch for noise_level = 0.20:  84%|████████▍ | 169/200 [3:03:13<20:25, 39.54s/it]"
     ]
    },
    {
     "name": "stderr",
     "output_type": "stream",
     "text": [
      "\r",
      "OMP Test Batch for noise_level = 0.14:  96%|█████████▌| 191/200 [3:03:16<04:01, 26.83s/it]"
     ]
    },
    {
     "name": "stderr",
     "output_type": "stream",
     "text": [
      "\r",
      "OMP Test Batch for noise_level = 0.07:  93%|█████████▎| 186/200 [3:03:22<06:05, 26.10s/it]"
     ]
    },
    {
     "name": "stderr",
     "output_type": "stream",
     "text": [
      "\r",
      "OMP Test Batch for noise_level = 0.10:  95%|█████████▌| 190/200 [3:03:27<04:11, 25.15s/it]"
     ]
    },
    {
     "name": "stderr",
     "output_type": "stream",
     "text": [
      "\r",
      "OMP Test Batch for noise_level = 0.03:  90%|████████▉ | 179/200 [3:03:36<09:29, 27.14s/it]"
     ]
    },
    {
     "name": "stderr",
     "output_type": "stream",
     "text": [
      "\r",
      "OMP Test Batch for noise_level = 0.16:  88%|████████▊ | 177/200 [3:03:29<15:21, 40.08s/it]\r",
      "OMP Test Batch for noise_level = 0.08:  90%|████████▉ | 179/200 [3:03:33<09:18, 26.59s/it]"
     ]
    },
    {
     "name": "stderr",
     "output_type": "stream",
     "text": [
      "\r",
      "OMP Test Batch for noise_level = 0.02:  86%|████████▌ | 172/200 [3:03:42<17:19, 37.11s/it]"
     ]
    },
    {
     "name": "stderr",
     "output_type": "stream",
     "text": [
      "\r",
      "OMP Test Batch for noise_level = 0.18:  92%|█████████▎| 185/200 [3:03:32<06:43, 26.91s/it]"
     ]
    },
    {
     "name": "stderr",
     "output_type": "stream",
     "text": [
      "\r",
      "OMP Test Batch for noise_level = 0.01:  94%|█████████▍| 189/200 [3:03:46<04:40, 25.49s/it]"
     ]
    },
    {
     "name": "stderr",
     "output_type": "stream",
     "text": [
      "\r",
      "OMP Test Batch for noise_level = 0.07:  94%|█████████▎| 187/200 [3:03:46<05:32, 25.56s/it]"
     ]
    },
    {
     "name": "stderr",
     "output_type": "stream",
     "text": [
      "\r",
      "OMP Test Batch for noise_level = 0.14:  96%|█████████▌| 192/200 [3:03:42<03:33, 26.67s/it]"
     ]
    },
    {
     "name": "stderr",
     "output_type": "stream",
     "text": [
      "\r",
      "OMP Test Batch for noise_level = 0.12:  93%|█████████▎| 186/200 [3:03:46<07:37, 32.70s/it]"
     ]
    },
    {
     "name": "stderr",
     "output_type": "stream",
     "text": [
      "\r",
      "OMP Test Batch for noise_level = 0.06:  84%|████████▎ | 167/200 [3:03:51<21:26, 38.98s/it]"
     ]
    },
    {
     "name": "stderr",
     "output_type": "stream",
     "text": [
      "\r",
      "OMP Test Batch for noise_level = 0.04:  88%|████████▊ | 177/200 [3:03:54<14:41, 38.33s/it]"
     ]
    },
    {
     "name": "stderr",
     "output_type": "stream",
     "text": [
      "\r",
      "OMP Test Batch for noise_level = 0.09:  86%|████████▌ | 172/200 [3:03:51<17:41, 37.93s/it]"
     ]
    },
    {
     "name": "stderr",
     "output_type": "stream",
     "text": [
      "\r",
      "OMP Test Batch for noise_level = 0.05:  86%|████████▌ | 171/200 [3:03:56<18:46, 38.85s/it]"
     ]
    },
    {
     "name": "stderr",
     "output_type": "stream",
     "text": [
      "\r",
      "OMP Test Batch for noise_level = 0.10:  96%|█████████▌| 191/200 [3:03:54<03:49, 25.53s/it]"
     ]
    },
    {
     "name": "stderr",
     "output_type": "stream",
     "text": [
      "\r",
      "OMP Test Batch for noise_level = 0.00:  85%|████████▌ | 170/200 [3:04:05<19:40, 39.34s/it]"
     ]
    },
    {
     "name": "stderr",
     "output_type": "stream",
     "text": [
      "\r",
      "OMP Test Batch for noise_level = 0.20:  85%|████████▌ | 170/200 [3:03:52<19:44, 39.48s/it]\r",
      "OMP Test Batch for noise_level = 0.03:  90%|█████████ | 180/200 [3:04:03<08:59, 26.96s/it]"
     ]
    },
    {
     "name": "stderr",
     "output_type": "stream",
     "text": [
      "\r",
      "OMP Test Batch for noise_level = 0.08:  90%|█████████ | 180/200 [3:04:00<08:52, 26.63s/it]"
     ]
    },
    {
     "name": "stderr",
     "output_type": "stream",
     "text": [
      "\r",
      "OMP Test Batch for noise_level = 0.18:  93%|█████████▎| 186/200 [3:03:59<06:15, 26.82s/it]"
     ]
    },
    {
     "name": "stderr",
     "output_type": "stream",
     "text": [
      "\r",
      "OMP Test Batch for noise_level = 0.01:  95%|█████████▌| 190/200 [3:04:13<04:19, 25.90s/it]"
     ]
    },
    {
     "name": "stderr",
     "output_type": "stream",
     "text": [
      "\r",
      "OMP Test Batch for noise_level = 0.07:  94%|█████████▍| 188/200 [3:04:11<05:03, 25.30s/it]"
     ]
    },
    {
     "name": "stderr",
     "output_type": "stream",
     "text": [
      "\r",
      "OMP Test Batch for noise_level = 0.14:  96%|█████████▋| 193/200 [3:04:07<03:02, 26.01s/it]"
     ]
    },
    {
     "name": "stderr",
     "output_type": "stream",
     "text": [
      "\r",
      "OMP Test Batch for noise_level = 0.12:  94%|█████████▎| 187/200 [3:04:10<06:33, 30.28s/it]"
     ]
    },
    {
     "name": "stderr",
     "output_type": "stream",
     "text": [
      "\r",
      "OMP Test Batch for noise_level = 0.16:  89%|████████▉ | 178/200 [3:04:09<14:43, 40.17s/it]"
     ]
    },
    {
     "name": "stderr",
     "output_type": "stream",
     "text": [
      "\r",
      "OMP Test Batch for noise_level = 0.02:  86%|████████▋ | 173/200 [3:04:21<17:01, 37.83s/it]"
     ]
    },
    {
     "name": "stderr",
     "output_type": "stream",
     "text": [
      "\r",
      "OMP Test Batch for noise_level = 0.10:  96%|█████████▌| 192/200 [3:04:20<03:26, 25.85s/it]"
     ]
    },
    {
     "name": "stderr",
     "output_type": "stream",
     "text": [
      "\r",
      "OMP Test Batch for noise_level = 0.03:  90%|█████████ | 181/200 [3:04:27<08:18, 26.25s/it]"
     ]
    },
    {
     "name": "stderr",
     "output_type": "stream",
     "text": [
      "\r",
      "OMP Test Batch for noise_level = 0.08:  90%|█████████ | 181/200 [3:04:27<08:27, 26.71s/it]"
     ]
    },
    {
     "name": "stderr",
     "output_type": "stream",
     "text": [
      "\r",
      "OMP Test Batch for noise_level = 0.05:  86%|████████▌ | 172/200 [3:04:30<17:33, 37.62s/it]"
     ]
    },
    {
     "name": "stderr",
     "output_type": "stream",
     "text": [
      "\r",
      "OMP Test Batch for noise_level = 0.06:  84%|████████▍ | 168/200 [3:04:30<20:52, 39.13s/it]"
     ]
    },
    {
     "name": "stderr",
     "output_type": "stream",
     "text": [
      "\r",
      "OMP Test Batch for noise_level = 0.04:  89%|████████▉ | 178/200 [3:04:33<14:06, 38.47s/it]"
     ]
    },
    {
     "name": "stderr",
     "output_type": "stream",
     "text": [
      "\r",
      "OMP Test Batch for noise_level = 0.09:  86%|████████▋ | 173/200 [3:04:30<17:11, 38.20s/it]"
     ]
    },
    {
     "name": "stderr",
     "output_type": "stream",
     "text": [
      "\r",
      "OMP Test Batch for noise_level = 0.01:  96%|█████████▌| 191/200 [3:04:37<03:49, 25.55s/it]"
     ]
    },
    {
     "name": "stderr",
     "output_type": "stream",
     "text": [
      "\r",
      "OMP Test Batch for noise_level = 0.20:  86%|████████▌ | 171/200 [3:04:28<18:28, 38.22s/it]"
     ]
    },
    {
     "name": "stderr",
     "output_type": "stream",
     "text": [
      "\r",
      "OMP Test Batch for noise_level = 0.00:  86%|████████▌ | 171/200 [3:04:43<18:54, 39.14s/it]"
     ]
    },
    {
     "name": "stderr",
     "output_type": "stream",
     "text": [
      "\r",
      "OMP Test Batch for noise_level = 0.07:  94%|█████████▍| 189/200 [3:04:38<04:43, 25.79s/it]"
     ]
    },
    {
     "name": "stderr",
     "output_type": "stream",
     "text": [
      "\r",
      "OMP Test Batch for noise_level = 0.14:  97%|█████████▋| 194/200 [3:04:34<02:37, 26.31s/it]"
     ]
    },
    {
     "name": "stderr",
     "output_type": "stream",
     "text": [
      "\r",
      "OMP Test Batch for noise_level = 0.12:  94%|█████████▍| 188/200 [3:04:37<05:50, 29.22s/it]"
     ]
    },
    {
     "name": "stderr",
     "output_type": "stream",
     "text": [
      "\r",
      "OMP Test Batch for noise_level = 0.18:  94%|█████████▎| 187/200 [3:04:36<06:30, 30.01s/it]"
     ]
    },
    {
     "name": "stderr",
     "output_type": "stream",
     "text": [
      "\r",
      "OMP Test Batch for noise_level = 0.03:  91%|█████████ | 182/200 [3:04:52<07:41, 25.67s/it]"
     ]
    },
    {
     "name": "stderr",
     "output_type": "stream",
     "text": [
      "\r",
      "OMP Test Batch for noise_level = 0.10:  96%|█████████▋| 193/200 [3:04:46<03:01, 25.97s/it]"
     ]
    },
    {
     "name": "stderr",
     "output_type": "stream",
     "text": [
      "\r",
      "OMP Test Batch for noise_level = 0.08:  91%|█████████ | 182/200 [3:04:54<08:00, 26.68s/it]"
     ]
    },
    {
     "name": "stderr",
     "output_type": "stream",
     "text": [
      "\r",
      "OMP Test Batch for noise_level = 0.02:  87%|████████▋ | 174/200 [3:04:59<16:26, 37.92s/it]"
     ]
    },
    {
     "name": "stderr",
     "output_type": "stream",
     "text": [
      "\r",
      "OMP Test Batch for noise_level = 0.01:  96%|█████████▌| 192/200 [3:05:04<03:26, 25.82s/it]\r",
      "OMP Test Batch for noise_level = 0.16:  90%|████████▉ | 179/200 [3:04:53<14:30, 41.44s/it]"
     ]
    },
    {
     "name": "stderr",
     "output_type": "stream",
     "text": [
      "\r",
      "OMP Test Batch for noise_level = 0.07:  95%|█████████▌| 190/200 [3:05:05<04:20, 26.03s/it]"
     ]
    },
    {
     "name": "stderr",
     "output_type": "stream",
     "text": [
      "\r",
      "OMP Test Batch for noise_level = 0.14:  98%|█████████▊| 195/200 [3:05:00<02:12, 26.42s/it]"
     ]
    },
    {
     "name": "stderr",
     "output_type": "stream",
     "text": [
      "\r",
      "OMP Test Batch for noise_level = 0.09:  87%|████████▋ | 174/200 [3:05:05<16:05, 37.13s/it]"
     ]
    },
    {
     "name": "stderr",
     "output_type": "stream",
     "text": [
      "\r",
      "OMP Test Batch for noise_level = 0.12:  94%|█████████▍| 189/200 [3:05:03<05:11, 28.35s/it]"
     ]
    },
    {
     "name": "stderr",
     "output_type": "stream",
     "text": [
      "\r",
      "OMP Test Batch for noise_level = 0.05:  86%|████████▋ | 173/200 [3:05:09<17:02, 37.86s/it]"
     ]
    },
    {
     "name": "stderr",
     "output_type": "stream",
     "text": [
      "\r",
      "OMP Test Batch for noise_level = 0.06:  84%|████████▍ | 169/200 [3:05:09<20:06, 38.91s/it]"
     ]
    },
    {
     "name": "stderr",
     "output_type": "stream",
     "text": [
      "\r",
      "OMP Test Batch for noise_level = 0.04:  90%|████████▉ | 179/200 [3:05:11<13:23, 38.26s/it]"
     ]
    },
    {
     "name": "stderr",
     "output_type": "stream",
     "text": [
      "\r",
      "OMP Test Batch for noise_level = 0.20:  86%|████████▌ | 172/200 [3:05:06<17:51, 38.25s/it]\r",
      "OMP Test Batch for noise_level = 0.00:  86%|████████▌ | 172/200 [3:05:19<17:44, 38.03s/it]"
     ]
    },
    {
     "name": "stderr",
     "output_type": "stream",
     "text": [
      "\r",
      "OMP Test Batch for noise_level = 0.10:  97%|█████████▋| 194/200 [3:05:10<02:32, 25.39s/it]"
     ]
    },
    {
     "name": "stderr",
     "output_type": "stream",
     "text": [
      "\r",
      "OMP Test Batch for noise_level = 0.03:  92%|█████████▏| 183/200 [3:05:18<07:21, 25.94s/it]"
     ]
    },
    {
     "name": "stderr",
     "output_type": "stream",
     "text": [
      "\r",
      "OMP Test Batch for noise_level = 0.18:  94%|█████████▍| 188/200 [3:05:14<06:29, 32.49s/it]"
     ]
    },
    {
     "name": "stderr",
     "output_type": "stream",
     "text": [
      "\r",
      "OMP Test Batch for noise_level = 0.08:  92%|█████████▏| 183/200 [3:05:20<07:32, 26.61s/it]"
     ]
    },
    {
     "name": "stderr",
     "output_type": "stream",
     "text": [
      "\r",
      "OMP Test Batch for noise_level = 0.01:  96%|█████████▋| 193/200 [3:05:30<03:01, 25.97s/it]"
     ]
    },
    {
     "name": "stderr",
     "output_type": "stream",
     "text": [
      "\r",
      "OMP Test Batch for noise_level = 0.14:  98%|█████████▊| 196/200 [3:05:24<01:42, 25.69s/it]"
     ]
    },
    {
     "name": "stderr",
     "output_type": "stream",
     "text": [
      "\r",
      "OMP Test Batch for noise_level = 0.12:  95%|█████████▌| 190/200 [3:05:29<04:36, 27.70s/it]"
     ]
    },
    {
     "name": "stderr",
     "output_type": "stream",
     "text": [
      "\r",
      "OMP Test Batch for noise_level = 0.02:  88%|████████▊ | 175/200 [3:05:38<15:54, 38.18s/it]"
     ]
    },
    {
     "name": "stderr",
     "output_type": "stream",
     "text": [
      "\r",
      "OMP Test Batch for noise_level = 0.07:  96%|█████████▌| 191/200 [3:05:35<04:06, 27.39s/it]"
     ]
    },
    {
     "name": "stderr",
     "output_type": "stream",
     "text": [
      "\r",
      "OMP Test Batch for noise_level = 0.10:  98%|█████████▊| 195/200 [3:05:34<02:04, 24.96s/it]"
     ]
    },
    {
     "name": "stderr",
     "output_type": "stream",
     "text": [
      "\r",
      "OMP Test Batch for noise_level = 0.16:  90%|█████████ | 180/200 [3:05:32<13:30, 40.52s/it]"
     ]
    },
    {
     "name": "stderr",
     "output_type": "stream",
     "text": [
      "\r",
      "OMP Test Batch for noise_level = 0.03:  92%|█████████▏| 184/200 [3:05:45<06:58, 26.14s/it]"
     ]
    },
    {
     "name": "stderr",
     "output_type": "stream",
     "text": [
      "\r",
      "OMP Test Batch for noise_level = 0.09:  88%|████████▊ | 175/200 [3:05:42<15:27, 37.11s/it]"
     ]
    },
    {
     "name": "stderr",
     "output_type": "stream",
     "text": [
      "\r",
      "OMP Test Batch for noise_level = 0.05:  87%|████████▋ | 174/200 [3:05:47<16:29, 38.08s/it]"
     ]
    },
    {
     "name": "stderr",
     "output_type": "stream",
     "text": [
      "\r",
      "OMP Test Batch for noise_level = 0.06:  85%|████████▌ | 170/200 [3:05:47<19:24, 38.81s/it]\r",
      "OMP Test Batch for noise_level = 0.04:  90%|█████████ | 180/200 [3:05:49<12:45, 38.27s/it]"
     ]
    },
    {
     "name": "stderr",
     "output_type": "stream",
     "text": [
      "\r",
      "OMP Test Batch for noise_level = 0.18:  94%|█████████▍| 189/200 [3:05:42<05:39, 30.90s/it]"
     ]
    },
    {
     "name": "stderr",
     "output_type": "stream",
     "text": [
      "\r",
      "OMP Test Batch for noise_level = 0.08:  92%|█████████▏| 184/200 [3:05:47<07:08, 26.81s/it]"
     ]
    },
    {
     "name": "stderr",
     "output_type": "stream",
     "text": [
      "\r",
      "OMP Test Batch for noise_level = 0.20:  86%|████████▋ | 173/200 [3:05:44<17:11, 38.20s/it]"
     ]
    },
    {
     "name": "stderr",
     "output_type": "stream",
     "text": [
      "\r",
      "OMP Test Batch for noise_level = 0.00:  86%|████████▋ | 173/200 [3:05:57<17:08, 38.09s/it]"
     ]
    },
    {
     "name": "stderr",
     "output_type": "stream",
     "text": [
      "\r",
      "OMP Test Batch for noise_level = 0.01:  97%|█████████▋| 194/200 [3:05:58<02:38, 26.39s/it]"
     ]
    },
    {
     "name": "stderr",
     "output_type": "stream",
     "text": [
      "\r",
      "OMP Test Batch for noise_level = 0.14:  98%|█████████▊| 197/200 [3:05:52<01:18, 26.20s/it]"
     ]
    },
    {
     "name": "stderr",
     "output_type": "stream",
     "text": [
      "\r",
      "OMP Test Batch for noise_level = 0.12:  96%|█████████▌| 191/200 [3:05:57<04:08, 27.60s/it]"
     ]
    },
    {
     "name": "stderr",
     "output_type": "stream",
     "text": [
      "\r",
      "OMP Test Batch for noise_level = 0.07:  96%|█████████▌| 192/200 [3:06:02<03:38, 27.29s/it]"
     ]
    },
    {
     "name": "stderr",
     "output_type": "stream",
     "text": [
      "\r",
      "OMP Test Batch for noise_level = 0.10:  98%|█████████▊| 196/200 [3:06:02<01:42, 25.62s/it]"
     ]
    },
    {
     "name": "stderr",
     "output_type": "stream",
     "text": [
      "\r",
      "OMP Test Batch for noise_level = 0.03:  92%|█████████▎| 185/200 [3:06:12<06:37, 26.52s/it]"
     ]
    },
    {
     "name": "stderr",
     "output_type": "stream",
     "text": [
      "\r",
      "OMP Test Batch for noise_level = 0.18:  95%|█████████▌| 190/200 [3:06:07<04:51, 29.10s/it]"
     ]
    },
    {
     "name": "stderr",
     "output_type": "stream",
     "text": [
      "\r",
      "OMP Test Batch for noise_level = 0.08:  92%|█████████▎| 185/200 [3:06:12<06:32, 26.19s/it]"
     ]
    },
    {
     "name": "stderr",
     "output_type": "stream",
     "text": [
      "\r",
      "OMP Test Batch for noise_level = 0.02:  88%|████████▊ | 176/200 [3:06:19<15:40, 39.17s/it]"
     ]
    },
    {
     "name": "stderr",
     "output_type": "stream",
     "text": [
      "\r",
      "OMP Test Batch for noise_level = 0.16:  90%|█████████ | 181/200 [3:06:11<12:41, 40.08s/it]"
     ]
    },
    {
     "name": "stderr",
     "output_type": "stream",
     "text": [
      "\r",
      "OMP Test Batch for noise_level = 0.01:  98%|█████████▊| 195/200 [3:06:23<02:09, 25.99s/it]"
     ]
    },
    {
     "name": "stderr",
     "output_type": "stream",
     "text": [
      "\r",
      "OMP Test Batch for noise_level = 0.09:  88%|████████▊ | 176/200 [3:06:21<15:10, 37.92s/it]"
     ]
    },
    {
     "name": "stderr",
     "output_type": "stream",
     "text": [
      "\r",
      "OMP Test Batch for noise_level = 0.14:  99%|█████████▉| 198/200 [3:06:19<00:53, 26.58s/it]"
     ]
    },
    {
     "name": "stderr",
     "output_type": "stream",
     "text": [
      "\r",
      "OMP Test Batch for noise_level = 0.05:  88%|████████▊ | 175/200 [3:06:27<15:59, 38.39s/it]"
     ]
    },
    {
     "name": "stderr",
     "output_type": "stream",
     "text": [
      "\r",
      "OMP Test Batch for noise_level = 0.06:  86%|████████▌ | 171/200 [3:06:26<18:47, 38.90s/it]\r",
      "OMP Test Batch for noise_level = 0.04:  90%|█████████ | 181/200 [3:06:28<12:10, 38.46s/it]\r",
      "OMP Test Batch for noise_level = 0.12:  96%|█████████▌| 192/200 [3:06:22<03:35, 26.88s/it]"
     ]
    },
    {
     "name": "stderr",
     "output_type": "stream",
     "text": [
      "\r",
      "OMP Test Batch for noise_level = 0.10:  98%|█████████▊| 197/200 [3:06:26<01:16, 25.43s/it]"
     ]
    },
    {
     "name": "stderr",
     "output_type": "stream",
     "text": [
      "\r",
      "OMP Test Batch for noise_level = 0.07:  96%|█████████▋| 193/200 [3:06:30<03:11, 27.34s/it]"
     ]
    },
    {
     "name": "stderr",
     "output_type": "stream",
     "text": [
      "\r",
      "OMP Test Batch for noise_level = 0.20:  87%|████████▋ | 174/200 [3:06:23<16:41, 38.51s/it]"
     ]
    },
    {
     "name": "stderr",
     "output_type": "stream",
     "text": [
      "\r",
      "OMP Test Batch for noise_level = 0.00:  87%|████████▋ | 174/200 [3:06:36<16:40, 38.50s/it]"
     ]
    },
    {
     "name": "stderr",
     "output_type": "stream",
     "text": [
      "\r",
      "OMP Test Batch for noise_level = 0.03:  93%|█████████▎| 186/200 [3:06:40<06:14, 26.76s/it]"
     ]
    },
    {
     "name": "stderr",
     "output_type": "stream",
     "text": [
      "\r",
      "OMP Test Batch for noise_level = 0.18:  96%|█████████▌| 191/200 [3:06:34<04:16, 28.52s/it]"
     ]
    },
    {
     "name": "stderr",
     "output_type": "stream",
     "text": [
      "\r",
      "OMP Test Batch for noise_level = 0.08:  93%|█████████▎| 186/200 [3:06:41<06:19, 27.12s/it]"
     ]
    },
    {
     "name": "stderr",
     "output_type": "stream",
     "text": [
      "\r",
      "OMP Test Batch for noise_level = 0.01:  98%|█████████▊| 196/200 [3:06:49<01:45, 26.25s/it]"
     ]
    },
    {
     "name": "stderr",
     "output_type": "stream",
     "text": [
      "\r",
      "OMP Test Batch for noise_level = 0.14: 100%|█████████▉| 199/200 [3:06:46<00:26, 26.64s/it]\r",
      "OMP Test Batch for noise_level = 0.02:  88%|████████▊ | 177/200 [3:06:55<14:37, 38.13s/it]"
     ]
    },
    {
     "name": "stderr",
     "output_type": "stream",
     "text": [
      "\r",
      "OMP Test Batch for noise_level = 0.12:  96%|█████████▋| 193/200 [3:06:49<03:07, 26.85s/it]"
     ]
    },
    {
     "name": "stderr",
     "output_type": "stream",
     "text": [
      "\r",
      "OMP Test Batch for noise_level = 0.16:  91%|█████████ | 182/200 [3:06:49<11:53, 39.61s/it]"
     ]
    },
    {
     "name": "stderr",
     "output_type": "stream",
     "text": [
      "\r",
      "OMP Test Batch for noise_level = 0.10:  99%|█████████▉| 198/200 [3:06:53<00:51, 25.68s/it]"
     ]
    },
    {
     "name": "stderr",
     "output_type": "stream",
     "text": [
      "\r",
      "OMP Test Batch for noise_level = 0.09:  88%|████████▊ | 177/200 [3:07:00<14:37, 38.15s/it]"
     ]
    },
    {
     "name": "stderr",
     "output_type": "stream",
     "text": [
      "\r",
      "OMP Test Batch for noise_level = 0.05:  88%|████████▊ | 176/200 [3:07:05<15:22, 38.43s/it]"
     ]
    },
    {
     "name": "stderr",
     "output_type": "stream",
     "text": [
      "\r",
      "OMP Test Batch for noise_level = 0.04:  91%|█████████ | 182/200 [3:07:06<11:31, 38.43s/it]"
     ]
    },
    {
     "name": "stderr",
     "output_type": "stream",
     "text": [
      "\r",
      "OMP Test Batch for noise_level = 0.07:  97%|█████████▋| 194/200 [3:07:04<02:57, 29.52s/it]"
     ]
    },
    {
     "name": "stderr",
     "output_type": "stream",
     "text": [
      "\r",
      "OMP Test Batch for noise_level = 0.18:  96%|█████████▌| 192/200 [3:07:00<03:43, 27.99s/it]"
     ]
    },
    {
     "name": "stderr",
     "output_type": "stream",
     "text": [
      "\r",
      "OMP Test Batch for noise_level = 0.08:  94%|█████████▎| 187/200 [3:07:06<05:43, 26.41s/it]"
     ]
    },
    {
     "name": "stderr",
     "output_type": "stream",
     "text": [
      "\r",
      "OMP Test Batch for noise_level = 0.06:  86%|████████▌ | 172/200 [3:07:08<18:35, 39.84s/it]"
     ]
    },
    {
     "name": "stderr",
     "output_type": "stream",
     "text": [
      "\r",
      "OMP Test Batch for noise_level = 0.20:  88%|████████▊ | 175/200 [3:07:02<16:08, 38.72s/it]"
     ]
    },
    {
     "name": "stderr",
     "output_type": "stream",
     "text": [
      "\r",
      "OMP Test Batch for noise_level = 0.01:  98%|█████████▊| 197/200 [3:07:16<01:18, 26.32s/it]"
     ]
    },
    {
     "name": "stderr",
     "output_type": "stream",
     "text": [
      "\r",
      "OMP Test Batch for noise_level = 0.03:  94%|█████████▎| 187/200 [3:07:17<06:28, 29.86s/it]"
     ]
    },
    {
     "name": "stderr",
     "output_type": "stream",
     "text": [
      "\r",
      "OMP Test Batch for noise_level = 0.14: 100%|██████████| 200/200 [3:07:10<00:00, 25.95s/it]\r",
      "OMP Test Batch for noise_level = 0.14: 100%|██████████| 200/200 [3:07:10<00:00, 56.15s/it]\n"
     ]
    },
    {
     "name": "stderr",
     "output_type": "stream",
     "text": [
      "\r",
      "OMP Test Batch for noise_level = 0.12:  97%|█████████▋| 194/200 [3:07:13<02:36, 26.05s/it]"
     ]
    },
    {
     "name": "stderr",
     "output_type": "stream",
     "text": [
      "\r",
      "OMP Test Batch for noise_level = 0.00:  88%|████████▊ | 175/200 [3:07:23<17:01, 40.87s/it]"
     ]
    },
    {
     "name": "stderr",
     "output_type": "stream",
     "text": [
      "\r",
      "OMP Test Batch for noise_level = 0.18:  96%|█████████▋| 193/200 [3:07:24<03:05, 26.54s/it]"
     ]
    },
    {
     "name": "stderr",
     "output_type": "stream",
     "text": [
      "\r",
      "OMP Test Batch for noise_level = 0.07:  98%|█████████▊| 195/200 [3:07:30<02:21, 28.38s/it]"
     ]
    },
    {
     "name": "stderr",
     "output_type": "stream",
     "text": [
      "\r",
      "OMP Test Batch for noise_level = 0.02:  89%|████████▉ | 178/200 [3:07:35<14:10, 38.65s/it]"
     ]
    },
    {
     "name": "stderr",
     "output_type": "stream",
     "text": [
      "\r",
      "OMP Test Batch for noise_level = 0.10: 100%|█████████▉| 199/200 [3:07:28<00:28, 28.69s/it]"
     ]
    },
    {
     "name": "stderr",
     "output_type": "stream",
     "text": [
      "\r",
      "OMP Test Batch for noise_level = 0.08:  94%|█████████▍| 188/200 [3:07:31<05:12, 26.05s/it]"
     ]
    },
    {
     "name": "stderr",
     "output_type": "stream",
     "text": [
      "\r",
      "OMP Test Batch for noise_level = 0.01:  99%|█████████▉| 198/200 [3:07:39<00:50, 25.34s/it]"
     ]
    },
    {
     "name": "stderr",
     "output_type": "stream",
     "text": [
      "\r",
      "OMP Test Batch for noise_level = 0.16:  92%|█████████▏| 183/200 [3:07:29<11:12, 39.55s/it]"
     ]
    },
    {
     "name": "stderr",
     "output_type": "stream",
     "text": [
      "\r",
      "OMP Test Batch for noise_level = 0.09:  89%|████████▉ | 178/200 [3:07:36<13:44, 37.46s/it]"
     ]
    },
    {
     "name": "stderr",
     "output_type": "stream",
     "text": [
      "\r",
      "OMP Test Batch for noise_level = 0.12:  98%|█████████▊| 195/200 [3:07:35<02:04, 24.99s/it]"
     ]
    },
    {
     "name": "stderr",
     "output_type": "stream",
     "text": [
      "\r",
      "OMP Test Batch for noise_level = 0.05:  88%|████████▊ | 177/200 [3:07:44<14:48, 38.62s/it]"
     ]
    },
    {
     "name": "stderr",
     "output_type": "stream",
     "text": [
      "\r",
      "OMP Test Batch for noise_level = 0.04:  92%|█████████▏| 183/200 [3:07:45<10:56, 38.64s/it]"
     ]
    },
    {
     "name": "stderr",
     "output_type": "stream",
     "text": [
      "\r",
      "OMP Test Batch for noise_level = 0.03:  94%|█████████▍| 188/200 [3:07:49<06:07, 30.66s/it]"
     ]
    },
    {
     "name": "stderr",
     "output_type": "stream",
     "text": [
      "\r",
      "OMP Test Batch for noise_level = 0.06:  86%|████████▋ | 173/200 [3:07:48<17:57, 39.90s/it]"
     ]
    },
    {
     "name": "stderr",
     "output_type": "stream",
     "text": [
      "\r",
      "OMP Test Batch for noise_level = 0.20:  88%|████████▊ | 176/200 [3:07:42<15:35, 38.97s/it]"
     ]
    },
    {
     "name": "stderr",
     "output_type": "stream",
     "text": [
      "\r",
      "OMP Test Batch for noise_level = 0.18:  97%|█████████▋| 194/200 [3:07:49<02:36, 26.13s/it]"
     ]
    },
    {
     "name": "stderr",
     "output_type": "stream",
     "text": [
      "\r",
      "OMP Test Batch for noise_level = 0.07:  98%|█████████▊| 196/200 [3:07:55<01:49, 27.49s/it]"
     ]
    },
    {
     "name": "stderr",
     "output_type": "stream",
     "text": [
      "\r",
      "OMP Test Batch for noise_level = 0.00:  88%|████████▊ | 176/200 [3:08:03<16:15, 40.63s/it]"
     ]
    },
    {
     "name": "stderr",
     "output_type": "stream",
     "text": [
      "\r",
      "OMP Test Batch for noise_level = 0.08:  94%|█████████▍| 189/200 [3:07:57<04:44, 25.86s/it]"
     ]
    },
    {
     "name": "stderr",
     "output_type": "stream",
     "text": [
      "\r",
      "OMP Test Batch for noise_level = 0.01: 100%|█████████▉| 199/200 [3:08:04<00:25, 25.37s/it]"
     ]
    },
    {
     "name": "stderr",
     "output_type": "stream",
     "text": [
      "\r",
      "OMP Test Batch for noise_level = 0.12:  98%|█████████▊| 196/200 [3:08:01<01:40, 25.09s/it]"
     ]
    },
    {
     "name": "stderr",
     "output_type": "stream",
     "text": [
      "\r",
      "OMP Test Batch for noise_level = 0.10: 100%|██████████| 200/200 [3:08:05<00:00, 30.93s/it]\r",
      "OMP Test Batch for noise_level = 0.10: 100%|██████████| 200/200 [3:08:05<00:00, 56.43s/it]\n"
     ]
    },
    {
     "name": "stderr",
     "output_type": "stream",
     "text": [
      "\r",
      "OMP Test Batch for noise_level = 0.09:  90%|████████▉ | 179/200 [3:08:08<12:35, 35.97s/it]"
     ]
    },
    {
     "name": "stderr",
     "output_type": "stream",
     "text": [
      "\r",
      "OMP Test Batch for noise_level = 0.02:  90%|████████▉ | 179/200 [3:08:15<13:38, 38.99s/it]"
     ]
    },
    {
     "name": "stderr",
     "output_type": "stream",
     "text": [
      "\r",
      "OMP Test Batch for noise_level = 0.16:  92%|█████████▏| 184/200 [3:08:08<10:30, 39.40s/it]"
     ]
    },
    {
     "name": "stderr",
     "output_type": "stream",
     "text": [
      "\r",
      "OMP Test Batch for noise_level = 0.03:  94%|█████████▍| 189/200 [3:08:21<05:39, 30.91s/it]"
     ]
    },
    {
     "name": "stderr",
     "output_type": "stream",
     "text": [
      "\r",
      "OMP Test Batch for noise_level = 0.18:  98%|█████████▊| 195/200 [3:08:12<02:06, 25.31s/it]"
     ]
    },
    {
     "name": "stderr",
     "output_type": "stream",
     "text": [
      "\r",
      "OMP Test Batch for noise_level = 0.05:  89%|████████▉ | 178/200 [3:08:20<13:52, 37.85s/it]"
     ]
    },
    {
     "name": "stderr",
     "output_type": "stream",
     "text": [
      "\r",
      "OMP Test Batch for noise_level = 0.07:  98%|█████████▊| 197/200 [3:08:19<01:18, 26.24s/it]"
     ]
    },
    {
     "name": "stderr",
     "output_type": "stream",
     "text": [
      "\r",
      "OMP Test Batch for noise_level = 0.04:  92%|█████████▏| 184/200 [3:08:22<10:07, 37.98s/it]"
     ]
    },
    {
     "name": "stderr",
     "output_type": "stream",
     "text": [
      "\r",
      "OMP Test Batch for noise_level = 0.08:  95%|█████████▌| 190/200 [3:08:22<04:17, 25.70s/it]"
     ]
    },
    {
     "name": "stderr",
     "output_type": "stream",
     "text": [
      "\r",
      "OMP Test Batch for noise_level = 0.01: 100%|██████████| 200/200 [3:08:30<00:00, 25.41s/it]\r",
      "OMP Test Batch for noise_level = 0.01: 100%|██████████| 200/200 [3:08:30<00:00, 56.55s/it]\n"
     ]
    },
    {
     "name": "stderr",
     "output_type": "stream",
     "text": [
      "\r",
      "OMP Test Batch for noise_level = 0.06:  87%|████████▋ | 174/200 [3:08:29<17:20, 40.03s/it]"
     ]
    },
    {
     "name": "stderr",
     "output_type": "stream",
     "text": [
      "\r",
      "OMP Test Batch for noise_level = 0.20:  88%|████████▊ | 177/200 [3:08:22<15:00, 39.17s/it]"
     ]
    },
    {
     "name": "stderr",
     "output_type": "stream",
     "text": [
      "\r",
      "OMP Test Batch for noise_level = 0.12:  98%|█████████▊| 197/200 [3:08:26<01:15, 25.07s/it]"
     ]
    },
    {
     "name": "stderr",
     "output_type": "stream",
     "text": [
      "\r",
      "OMP Test Batch for noise_level = 0.00:  88%|████████▊ | 177/200 [3:08:43<15:30, 40.46s/it]"
     ]
    },
    {
     "name": "stderr",
     "output_type": "stream",
     "text": [
      "\r",
      "OMP Test Batch for noise_level = 0.18:  98%|█████████▊| 196/200 [3:08:34<01:37, 24.41s/it]"
     ]
    },
    {
     "name": "stderr",
     "output_type": "stream",
     "text": [
      "\r",
      "OMP Test Batch for noise_level = 0.03:  95%|█████████▌| 190/200 [3:08:45<04:49, 28.93s/it]"
     ]
    },
    {
     "name": "stderr",
     "output_type": "stream",
     "text": [
      "\r",
      "OMP Test Batch for noise_level = 0.07:  99%|█████████▉| 198/200 [3:08:43<00:51, 25.67s/it]\r",
      "OMP Test Batch for noise_level = 0.02:  90%|█████████ | 180/200 [3:08:47<12:21, 37.09s/it]"
     ]
    },
    {
     "name": "stderr",
     "output_type": "stream",
     "text": [
      "\r",
      "OMP Test Batch for noise_level = 0.08:  96%|█████████▌| 191/200 [3:08:46<03:46, 25.20s/it]"
     ]
    },
    {
     "name": "stderr",
     "output_type": "stream",
     "text": [
      "\r",
      "OMP Test Batch for noise_level = 0.09:  90%|█████████ | 180/200 [3:08:48<12:22, 37.13s/it]"
     ]
    },
    {
     "name": "stderr",
     "output_type": "stream",
     "text": [
      "\r",
      "OMP Test Batch for noise_level = 0.12:  99%|█████████▉| 198/200 [3:08:50<00:49, 24.70s/it]\r",
      "OMP Test Batch for noise_level = 0.16:  92%|█████████▎| 185/200 [3:08:48<09:53, 39.54s/it]"
     ]
    },
    {
     "name": "stderr",
     "output_type": "stream",
     "text": [
      "\r",
      "OMP Test Batch for noise_level = 0.05:  90%|████████▉ | 179/200 [3:09:00<13:27, 38.46s/it]"
     ]
    },
    {
     "name": "stderr",
     "output_type": "stream",
     "text": [
      "\r",
      "OMP Test Batch for noise_level = 0.04:  92%|█████████▎| 185/200 [3:09:02<09:38, 38.60s/it]"
     ]
    },
    {
     "name": "stderr",
     "output_type": "stream",
     "text": [
      "\r",
      "OMP Test Batch for noise_level = 0.18:  98%|█████████▊| 197/200 [3:08:56<01:10, 23.58s/it]"
     ]
    },
    {
     "name": "stderr",
     "output_type": "stream",
     "text": [
      "\r",
      "OMP Test Batch for noise_level = 0.07: 100%|█████████▉| 199/200 [3:09:05<00:24, 24.53s/it]"
     ]
    },
    {
     "name": "stderr",
     "output_type": "stream",
     "text": [
      "\r",
      "OMP Test Batch for noise_level = 0.03:  96%|█████████▌| 191/200 [3:09:09<04:06, 27.39s/it]"
     ]
    },
    {
     "name": "stderr",
     "output_type": "stream",
     "text": [
      "\r",
      "OMP Test Batch for noise_level = 0.06:  88%|████████▊ | 175/200 [3:09:07<16:29, 39.58s/it]"
     ]
    },
    {
     "name": "stderr",
     "output_type": "stream",
     "text": [
      "\r",
      "OMP Test Batch for noise_level = 0.20:  89%|████████▉ | 178/200 [3:09:01<14:25, 39.34s/it]"
     ]
    },
    {
     "name": "stderr",
     "output_type": "stream",
     "text": [
      "\r",
      "OMP Test Batch for noise_level = 0.08:  96%|█████████▌| 192/200 [3:09:08<03:13, 24.19s/it]"
     ]
    },
    {
     "name": "stderr",
     "output_type": "stream",
     "text": [
      "\r",
      "OMP Test Batch for noise_level = 0.12: 100%|█████████▉| 199/200 [3:09:13<00:24, 24.42s/it]"
     ]
    },
    {
     "name": "stderr",
     "output_type": "stream",
     "text": [
      "\r",
      "OMP Test Batch for noise_level = 0.00:  89%|████████▉ | 178/200 [3:09:23<14:46, 40.31s/it]"
     ]
    },
    {
     "name": "stderr",
     "output_type": "stream",
     "text": [
      "\r",
      "OMP Test Batch for noise_level = 0.09:  90%|█████████ | 181/200 [3:09:22<11:23, 35.98s/it]\r",
      "OMP Test Batch for noise_level = 0.02:  90%|█████████ | 181/200 [3:09:28<12:03, 38.06s/it]"
     ]
    },
    {
     "name": "stderr",
     "output_type": "stream",
     "text": [
      "\r",
      "OMP Test Batch for noise_level = 0.18:  99%|█████████▉| 198/200 [3:09:20<00:47, 23.65s/it]"
     ]
    },
    {
     "name": "stderr",
     "output_type": "stream",
     "text": [
      "\r",
      "OMP Test Batch for noise_level = 0.07: 100%|██████████| 200/200 [3:09:29<00:00, 24.23s/it]\r",
      "OMP Test Batch for noise_level = 0.07: 100%|██████████| 200/200 [3:09:29<00:00, 56.85s/it]\n"
     ]
    },
    {
     "name": "stderr",
     "output_type": "stream",
     "text": [
      "\r",
      "OMP Test Batch for noise_level = 0.03:  96%|█████████▌| 192/200 [3:09:32<03:29, 26.21s/it]"
     ]
    },
    {
     "name": "stderr",
     "output_type": "stream",
     "text": [
      "\r",
      "OMP Test Batch for noise_level = 0.08:  96%|█████████▋| 193/200 [3:09:29<02:43, 23.36s/it]"
     ]
    },
    {
     "name": "stderr",
     "output_type": "stream",
     "text": [
      "\r",
      "OMP Test Batch for noise_level = 0.16:  93%|█████████▎| 186/200 [3:09:28<09:16, 39.78s/it]"
     ]
    },
    {
     "name": "stderr",
     "output_type": "stream",
     "text": [
      "\r",
      "OMP Test Batch for noise_level = 0.12: 100%|██████████| 200/200 [3:09:36<00:00, 23.88s/it]\r",
      "OMP Test Batch for noise_level = 0.12: 100%|██████████| 200/200 [3:09:36<00:00, 56.88s/it]\n"
     ]
    },
    {
     "name": "stderr",
     "output_type": "stream",
     "text": [
      "\r",
      "OMP Test Batch for noise_level = 0.04:  93%|█████████▎| 186/200 [3:09:42<09:07, 39.14s/it]"
     ]
    },
    {
     "name": "stderr",
     "output_type": "stream",
     "text": [
      "\r",
      "OMP Test Batch for noise_level = 0.05:  90%|█████████ | 180/200 [3:09:45<13:24, 40.24s/it]"
     ]
    },
    {
     "name": "stderr",
     "output_type": "stream",
     "text": [
      "\r",
      "OMP Test Batch for noise_level = 0.18: 100%|█████████▉| 199/200 [3:09:40<00:22, 22.69s/it]"
     ]
    },
    {
     "name": "stderr",
     "output_type": "stream",
     "text": [
      "\r",
      "OMP Test Batch for noise_level = 0.06:  88%|████████▊ | 176/200 [3:09:50<16:15, 40.63s/it]"
     ]
    },
    {
     "name": "stderr",
     "output_type": "stream",
     "text": [
      "\r",
      "OMP Test Batch for noise_level = 0.03:  96%|█████████▋| 193/200 [3:09:54<02:54, 24.89s/it]"
     ]
    },
    {
     "name": "stderr",
     "output_type": "stream",
     "text": [
      "\r",
      "OMP Test Batch for noise_level = 0.20:  90%|████████▉ | 179/200 [3:09:45<14:14, 40.69s/it]"
     ]
    },
    {
     "name": "stderr",
     "output_type": "stream",
     "text": [
      "\r",
      "OMP Test Batch for noise_level = 0.08:  97%|█████████▋| 194/200 [3:09:51<02:17, 22.91s/it]"
     ]
    },
    {
     "name": "stderr",
     "output_type": "stream",
     "text": [
      "\r",
      "OMP Test Batch for noise_level = 0.00:  90%|████████▉ | 179/200 [3:10:00<13:48, 39.47s/it]"
     ]
    },
    {
     "name": "stderr",
     "output_type": "stream",
     "text": [
      "\r",
      "OMP Test Batch for noise_level = 0.09:  91%|█████████ | 182/200 [3:10:03<11:15, 37.55s/it]"
     ]
    },
    {
     "name": "stderr",
     "output_type": "stream",
     "text": [
      "\r",
      "OMP Test Batch for noise_level = 0.02:  91%|█████████ | 182/200 [3:10:09<11:42, 39.04s/it]"
     ]
    },
    {
     "name": "stderr",
     "output_type": "stream",
     "text": [
      "\r",
      "OMP Test Batch for noise_level = 0.18: 100%|██████████| 200/200 [3:10:00<00:00, 21.89s/it]\r",
      "OMP Test Batch for noise_level = 0.18: 100%|██████████| 200/200 [3:10:00<00:00, 57.00s/it]\n"
     ]
    },
    {
     "name": "stderr",
     "output_type": "stream",
     "text": [
      "\r",
      "OMP Test Batch for noise_level = 0.08:  98%|█████████▊| 195/200 [3:10:11<01:49, 21.89s/it]\r",
      "OMP Test Batch for noise_level = 0.03:  97%|█████████▋| 194/200 [3:10:15<02:22, 23.78s/it]"
     ]
    },
    {
     "name": "stderr",
     "output_type": "stream",
     "text": [
      "\r",
      "OMP Test Batch for noise_level = 0.16:  94%|█████████▎| 187/200 [3:10:10<08:44, 40.35s/it]"
     ]
    },
    {
     "name": "stderr",
     "output_type": "stream",
     "text": [
      "\r",
      "OMP Test Batch for noise_level = 0.04:  94%|█████████▎| 187/200 [3:10:20<08:24, 38.84s/it]"
     ]
    },
    {
     "name": "stderr",
     "output_type": "stream",
     "text": [
      "\r",
      "OMP Test Batch for noise_level = 0.05:  90%|█████████ | 181/200 [3:10:26<12:52, 40.64s/it]"
     ]
    },
    {
     "name": "stderr",
     "output_type": "stream",
     "text": [
      "\r",
      "OMP Test Batch for noise_level = 0.03:  98%|█████████▊| 195/200 [3:10:34<01:51, 22.26s/it]"
     ]
    },
    {
     "name": "stderr",
     "output_type": "stream",
     "text": [
      "\r",
      "OMP Test Batch for noise_level = 0.06:  88%|████████▊ | 177/200 [3:10:32<15:44, 41.08s/it]"
     ]
    },
    {
     "name": "stderr",
     "output_type": "stream",
     "text": [
      "\r",
      "OMP Test Batch for noise_level = 0.08:  98%|█████████▊| 196/200 [3:10:31<01:26, 21.50s/it]"
     ]
    },
    {
     "name": "stderr",
     "output_type": "stream",
     "text": [
      "\r",
      "OMP Test Batch for noise_level = 0.00:  90%|█████████ | 180/200 [3:10:43<13:24, 40.25s/it]"
     ]
    },
    {
     "name": "stderr",
     "output_type": "stream",
     "text": [
      "\r",
      "OMP Test Batch for noise_level = 0.20:  90%|█████████ | 180/200 [3:10:35<14:29, 43.45s/it]"
     ]
    },
    {
     "name": "stderr",
     "output_type": "stream",
     "text": [
      "\r",
      "OMP Test Batch for noise_level = 0.09:  92%|█████████▏| 183/200 [3:10:45<11:00, 38.87s/it]\r",
      "OMP Test Batch for noise_level = 0.02:  92%|█████████▏| 183/200 [3:10:51<11:18, 39.90s/it]"
     ]
    },
    {
     "name": "stderr",
     "output_type": "stream",
     "text": [
      "\r",
      "OMP Test Batch for noise_level = 0.03:  98%|█████████▊| 196/200 [3:10:53<01:24, 21.17s/it]"
     ]
    },
    {
     "name": "stderr",
     "output_type": "stream",
     "text": [
      "\r",
      "OMP Test Batch for noise_level = 0.08:  98%|█████████▊| 197/200 [3:10:52<01:03, 21.16s/it]"
     ]
    },
    {
     "name": "stderr",
     "output_type": "stream",
     "text": [
      "\r",
      "OMP Test Batch for noise_level = 0.16:  94%|█████████▍| 188/200 [3:10:48<07:57, 39.82s/it]"
     ]
    },
    {
     "name": "stderr",
     "output_type": "stream",
     "text": [
      "\r",
      "OMP Test Batch for noise_level = 0.04:  94%|█████████▍| 188/200 [3:11:03<08:00, 40.07s/it]"
     ]
    },
    {
     "name": "stderr",
     "output_type": "stream",
     "text": [
      "\r",
      "OMP Test Batch for noise_level = 0.05:  91%|█████████ | 182/200 [3:11:09<12:25, 41.41s/it]"
     ]
    },
    {
     "name": "stderr",
     "output_type": "stream",
     "text": [
      "\r",
      "OMP Test Batch for noise_level = 0.03:  98%|█████████▊| 197/200 [3:11:11<01:01, 20.42s/it]"
     ]
    },
    {
     "name": "stderr",
     "output_type": "stream",
     "text": [
      "\r",
      "OMP Test Batch for noise_level = 0.08:  99%|█████████▉| 198/200 [3:11:12<00:42, 21.01s/it]"
     ]
    },
    {
     "name": "stderr",
     "output_type": "stream",
     "text": [
      "\r",
      "OMP Test Batch for noise_level = 0.06:  89%|████████▉ | 178/200 [3:11:16<15:17, 41.72s/it]"
     ]
    },
    {
     "name": "stderr",
     "output_type": "stream",
     "text": [
      "\r",
      "OMP Test Batch for noise_level = 0.00:  90%|█████████ | 181/200 [3:11:26<13:02, 41.16s/it]"
     ]
    },
    {
     "name": "stderr",
     "output_type": "stream",
     "text": [
      "\r",
      "OMP Test Batch for noise_level = 0.20:  90%|█████████ | 181/200 [3:11:15<13:25, 42.38s/it]"
     ]
    },
    {
     "name": "stderr",
     "output_type": "stream",
     "text": [
      "\r",
      "OMP Test Batch for noise_level = 0.03:  99%|█████████▉| 198/200 [3:11:31<00:40, 20.35s/it]"
     ]
    },
    {
     "name": "stderr",
     "output_type": "stream",
     "text": [
      "\r",
      "OMP Test Batch for noise_level = 0.09:  92%|█████████▏| 184/200 [3:11:28<10:41, 40.12s/it]"
     ]
    },
    {
     "name": "stderr",
     "output_type": "stream",
     "text": [
      "\r",
      "OMP Test Batch for noise_level = 0.02:  92%|█████████▏| 184/200 [3:11:34<10:54, 40.88s/it]"
     ]
    },
    {
     "name": "stderr",
     "output_type": "stream",
     "text": [
      "\r",
      "OMP Test Batch for noise_level = 0.08: 100%|█████████▉| 199/200 [3:11:33<00:20, 20.82s/it]"
     ]
    },
    {
     "name": "stderr",
     "output_type": "stream",
     "text": [
      "\r",
      "OMP Test Batch for noise_level = 0.16:  94%|█████████▍| 189/200 [3:11:30<07:25, 40.53s/it]"
     ]
    },
    {
     "name": "stderr",
     "output_type": "stream",
     "text": [
      "\r",
      "OMP Test Batch for noise_level = 0.03: 100%|█████████▉| 199/200 [3:11:50<00:19, 19.84s/it]"
     ]
    },
    {
     "name": "stderr",
     "output_type": "stream",
     "text": [
      "\r",
      "OMP Test Batch for noise_level = 0.05:  92%|█████████▏| 183/200 [3:11:51<11:44, 41.45s/it]"
     ]
    },
    {
     "name": "stderr",
     "output_type": "stream",
     "text": [
      "\r",
      "OMP Test Batch for noise_level = 0.04:  94%|█████████▍| 189/200 [3:11:56<08:03, 43.94s/it]"
     ]
    },
    {
     "name": "stderr",
     "output_type": "stream",
     "text": [
      "\r",
      "OMP Test Batch for noise_level = 0.08: 100%|██████████| 200/200 [3:11:53<00:00, 20.75s/it]\r",
      "OMP Test Batch for noise_level = 0.08: 100%|██████████| 200/200 [3:11:53<00:00, 57.57s/it]\n"
     ]
    },
    {
     "name": "stderr",
     "output_type": "stream",
     "text": [
      "\r",
      "OMP Test Batch for noise_level = 0.06:  90%|████████▉ | 179/200 [3:11:58<14:37, 41.80s/it]"
     ]
    },
    {
     "name": "stderr",
     "output_type": "stream",
     "text": [
      "\r",
      "OMP Test Batch for noise_level = 0.00:  91%|█████████ | 182/200 [3:12:08<12:26, 41.47s/it]"
     ]
    },
    {
     "name": "stderr",
     "output_type": "stream",
     "text": [
      "\r",
      "OMP Test Batch for noise_level = 0.20:  91%|█████████ | 182/200 [3:11:57<12:39, 42.21s/it]"
     ]
    },
    {
     "name": "stderr",
     "output_type": "stream",
     "text": [
      "\r",
      "OMP Test Batch for noise_level = 0.03: 100%|██████████| 200/200 [3:12:10<00:00, 19.71s/it]\r",
      "OMP Test Batch for noise_level = 0.03: 100%|██████████| 200/200 [3:12:10<00:00, 57.65s/it]\n"
     ]
    },
    {
     "name": "stderr",
     "output_type": "stream",
     "text": [
      "\r",
      "OMP Test Batch for noise_level = 0.09:  92%|█████████▎| 185/200 [3:12:09<10:08, 40.58s/it]"
     ]
    },
    {
     "name": "stderr",
     "output_type": "stream",
     "text": [
      "\r",
      "OMP Test Batch for noise_level = 0.02:  92%|█████████▎| 185/200 [3:12:16<10:18, 41.20s/it]"
     ]
    },
    {
     "name": "stderr",
     "output_type": "stream",
     "text": [
      "\r",
      "OMP Test Batch for noise_level = 0.16:  95%|█████████▌| 190/200 [3:12:13<06:51, 41.16s/it]"
     ]
    },
    {
     "name": "stderr",
     "output_type": "stream",
     "text": [
      "\r",
      "OMP Test Batch for noise_level = 0.05:  92%|█████████▏| 184/200 [3:12:34<11:12, 42.05s/it]"
     ]
    },
    {
     "name": "stderr",
     "output_type": "stream",
     "text": [
      "\r",
      "OMP Test Batch for noise_level = 0.06:  90%|█████████ | 180/200 [3:12:42<14:10, 42.53s/it]"
     ]
    },
    {
     "name": "stderr",
     "output_type": "stream",
     "text": [
      "\r",
      "OMP Test Batch for noise_level = 0.00:  92%|█████████▏| 183/200 [3:12:48<11:37, 41.05s/it]"
     ]
    },
    {
     "name": "stderr",
     "output_type": "stream",
     "text": [
      "\r",
      "OMP Test Batch for noise_level = 0.04:  95%|█████████▌| 190/200 [3:12:48<07:42, 46.25s/it]"
     ]
    },
    {
     "name": "stderr",
     "output_type": "stream",
     "text": [
      "\r",
      "OMP Test Batch for noise_level = 0.20:  92%|█████████▏| 183/200 [3:12:39<11:59, 42.35s/it]"
     ]
    },
    {
     "name": "stderr",
     "output_type": "stream",
     "text": [
      "\r",
      "OMP Test Batch for noise_level = 0.09:  93%|█████████▎| 186/200 [3:12:53<09:42, 41.58s/it]"
     ]
    },
    {
     "name": "stderr",
     "output_type": "stream",
     "text": [
      "\r",
      "OMP Test Batch for noise_level = 0.02:  93%|█████████▎| 186/200 [3:13:01<09:50, 42.18s/it]"
     ]
    },
    {
     "name": "stderr",
     "output_type": "stream",
     "text": [
      "\r",
      "OMP Test Batch for noise_level = 0.16:  96%|█████████▌| 191/200 [3:12:57<06:18, 42.03s/it]"
     ]
    },
    {
     "name": "stderr",
     "output_type": "stream",
     "text": [
      "\r",
      "OMP Test Batch for noise_level = 0.05:  92%|█████████▎| 185/200 [3:13:18<10:38, 42.57s/it]"
     ]
    },
    {
     "name": "stderr",
     "output_type": "stream",
     "text": [
      "\r",
      "OMP Test Batch for noise_level = 0.06:  90%|█████████ | 181/200 [3:13:25<13:33, 42.83s/it]"
     ]
    },
    {
     "name": "stderr",
     "output_type": "stream",
     "text": [
      "\r",
      "OMP Test Batch for noise_level = 0.20:  92%|█████████▏| 184/200 [3:13:19<11:02, 41.41s/it]"
     ]
    },
    {
     "name": "stderr",
     "output_type": "stream",
     "text": [
      "\r",
      "OMP Test Batch for noise_level = 0.00:  92%|█████████▏| 184/200 [3:13:32<11:12, 42.03s/it]"
     ]
    },
    {
     "name": "stderr",
     "output_type": "stream",
     "text": [
      "\r",
      "OMP Test Batch for noise_level = 0.04:  96%|█████████▌| 191/200 [3:13:31<06:47, 45.25s/it]"
     ]
    },
    {
     "name": "stderr",
     "output_type": "stream",
     "text": [
      "\r",
      "OMP Test Batch for noise_level = 0.09:  94%|█████████▎| 187/200 [3:13:36<09:03, 41.83s/it]"
     ]
    },
    {
     "name": "stderr",
     "output_type": "stream",
     "text": [
      "\r",
      "OMP Test Batch for noise_level = 0.02:  94%|█████████▎| 187/200 [3:13:43<09:09, 42.31s/it]"
     ]
    },
    {
     "name": "stderr",
     "output_type": "stream",
     "text": [
      "\r",
      "OMP Test Batch for noise_level = 0.16:  96%|█████████▌| 192/200 [3:13:40<05:37, 42.17s/it]"
     ]
    },
    {
     "name": "stderr",
     "output_type": "stream",
     "text": [
      "\r",
      "OMP Test Batch for noise_level = 0.05:  93%|█████████▎| 186/200 [3:14:00<09:55, 42.52s/it]"
     ]
    },
    {
     "name": "stderr",
     "output_type": "stream",
     "text": [
      "\r",
      "OMP Test Batch for noise_level = 0.06:  91%|█████████ | 182/200 [3:14:01<12:12, 40.69s/it]"
     ]
    },
    {
     "name": "stderr",
     "output_type": "stream",
     "text": [
      "\r",
      "OMP Test Batch for noise_level = 0.00:  92%|█████████▎| 185/200 [3:14:11<10:16, 41.10s/it]"
     ]
    },
    {
     "name": "stderr",
     "output_type": "stream",
     "text": [
      "\r",
      "OMP Test Batch for noise_level = 0.20:  92%|█████████▎| 185/200 [3:14:02<10:27, 41.86s/it]"
     ]
    },
    {
     "name": "stderr",
     "output_type": "stream",
     "text": [
      "\r",
      "OMP Test Batch for noise_level = 0.04:  96%|█████████▌| 192/200 [3:14:13<05:54, 44.31s/it]"
     ]
    },
    {
     "name": "stderr",
     "output_type": "stream",
     "text": [
      "\r",
      "OMP Test Batch for noise_level = 0.02:  94%|█████████▍| 188/200 [3:14:22<08:14, 41.22s/it]"
     ]
    },
    {
     "name": "stderr",
     "output_type": "stream",
     "text": [
      "\r",
      "OMP Test Batch for noise_level = 0.09:  94%|█████████▍| 188/200 [3:14:18<08:23, 41.93s/it]"
     ]
    },
    {
     "name": "stderr",
     "output_type": "stream",
     "text": [
      "\r",
      "OMP Test Batch for noise_level = 0.16:  96%|█████████▋| 193/200 [3:14:26<05:04, 43.52s/it]"
     ]
    },
    {
     "name": "stderr",
     "output_type": "stream",
     "text": [
      "\r",
      "OMP Test Batch for noise_level = 0.05:  94%|█████████▎| 187/200 [3:14:43<09:11, 42.42s/it]"
     ]
    },
    {
     "name": "stderr",
     "output_type": "stream",
     "text": [
      "\r",
      "OMP Test Batch for noise_level = 0.06:  92%|█████████▏| 183/200 [3:14:44<11:43, 41.36s/it]"
     ]
    },
    {
     "name": "stderr",
     "output_type": "stream",
     "text": [
      "\r",
      "OMP Test Batch for noise_level = 0.20:  93%|█████████▎| 186/200 [3:14:45<09:51, 42.24s/it]"
     ]
    },
    {
     "name": "stderr",
     "output_type": "stream",
     "text": [
      "\r",
      "OMP Test Batch for noise_level = 0.00:  93%|█████████▎| 186/200 [3:14:59<10:01, 42.98s/it]"
     ]
    },
    {
     "name": "stderr",
     "output_type": "stream",
     "text": [
      "\r",
      "OMP Test Batch for noise_level = 0.04:  96%|█████████▋| 193/200 [3:14:56<05:06, 43.85s/it]"
     ]
    },
    {
     "name": "stderr",
     "output_type": "stream",
     "text": [
      "\r",
      "OMP Test Batch for noise_level = 0.02:  94%|█████████▍| 189/200 [3:15:05<07:39, 41.73s/it]"
     ]
    },
    {
     "name": "stderr",
     "output_type": "stream",
     "text": [
      "\r",
      "OMP Test Batch for noise_level = 0.09:  94%|█████████▍| 189/200 [3:15:01<07:44, 42.19s/it]"
     ]
    },
    {
     "name": "stderr",
     "output_type": "stream",
     "text": [
      "\r",
      "OMP Test Batch for noise_level = 0.16:  97%|█████████▋| 194/200 [3:15:09<04:19, 43.25s/it]"
     ]
    },
    {
     "name": "stderr",
     "output_type": "stream",
     "text": [
      "\r",
      "OMP Test Batch for noise_level = 0.05:  94%|█████████▍| 188/200 [3:15:26<08:31, 42.59s/it]"
     ]
    },
    {
     "name": "stderr",
     "output_type": "stream",
     "text": [
      "\r",
      "OMP Test Batch for noise_level = 0.06:  92%|█████████▏| 184/200 [3:15:28<11:12, 42.03s/it]"
     ]
    },
    {
     "name": "stderr",
     "output_type": "stream",
     "text": [
      "\r",
      "OMP Test Batch for noise_level = 0.20:  94%|█████████▎| 187/200 [3:15:28<09:13, 42.56s/it]"
     ]
    },
    {
     "name": "stderr",
     "output_type": "stream",
     "text": [
      "\r",
      "OMP Test Batch for noise_level = 0.00:  94%|█████████▎| 187/200 [3:15:43<09:22, 43.25s/it]\r",
      "OMP Test Batch for noise_level = 0.04:  97%|█████████▋| 194/200 [3:15:39<04:22, 43.75s/it]"
     ]
    },
    {
     "name": "stderr",
     "output_type": "stream",
     "text": [
      "\r",
      "OMP Test Batch for noise_level = 0.02:  95%|█████████▌| 190/200 [3:15:48<07:02, 42.30s/it]"
     ]
    },
    {
     "name": "stderr",
     "output_type": "stream",
     "text": [
      "\r",
      "OMP Test Batch for noise_level = 0.09:  95%|█████████▌| 190/200 [3:15:44<07:06, 42.64s/it]"
     ]
    },
    {
     "name": "stderr",
     "output_type": "stream",
     "text": [
      "\r",
      "OMP Test Batch for noise_level = 0.16:  98%|█████████▊| 195/200 [3:15:53<03:37, 43.50s/it]"
     ]
    },
    {
     "name": "stderr",
     "output_type": "stream",
     "text": [
      "\r",
      "OMP Test Batch for noise_level = 0.06:  92%|█████████▎| 185/200 [3:16:05<10:07, 40.53s/it]"
     ]
    },
    {
     "name": "stderr",
     "output_type": "stream",
     "text": [
      "\r",
      "OMP Test Batch for noise_level = 0.05:  94%|█████████▍| 189/200 [3:16:10<07:55, 43.26s/it]"
     ]
    },
    {
     "name": "stderr",
     "output_type": "stream",
     "text": [
      "\r",
      "OMP Test Batch for noise_level = 0.20:  94%|█████████▍| 188/200 [3:16:05<08:11, 40.92s/it]"
     ]
    },
    {
     "name": "stderr",
     "output_type": "stream",
     "text": [
      "\r",
      "OMP Test Batch for noise_level = 0.00:  94%|█████████▍| 188/200 [3:16:27<08:44, 43.68s/it]"
     ]
    },
    {
     "name": "stderr",
     "output_type": "stream",
     "text": [
      "\r",
      "OMP Test Batch for noise_level = 0.04:  98%|█████████▊| 195/200 [3:16:24<03:40, 44.07s/it]"
     ]
    },
    {
     "name": "stderr",
     "output_type": "stream",
     "text": [
      "\r",
      "OMP Test Batch for noise_level = 0.02:  96%|█████████▌| 191/200 [3:16:33<06:27, 43.00s/it]"
     ]
    },
    {
     "name": "stderr",
     "output_type": "stream",
     "text": [
      "\r",
      "OMP Test Batch for noise_level = 0.09:  96%|█████████▌| 191/200 [3:16:28<06:27, 43.01s/it]"
     ]
    },
    {
     "name": "stderr",
     "output_type": "stream",
     "text": [
      "\r",
      "OMP Test Batch for noise_level = 0.16:  98%|█████████▊| 196/200 [3:16:37<02:54, 43.59s/it]"
     ]
    },
    {
     "name": "stderr",
     "output_type": "stream",
     "text": [
      "\r",
      "OMP Test Batch for noise_level = 0.06:  93%|█████████▎| 186/200 [3:16:49<09:42, 41.58s/it]"
     ]
    },
    {
     "name": "stderr",
     "output_type": "stream",
     "text": [
      "\r",
      "OMP Test Batch for noise_level = 0.20:  94%|█████████▍| 189/200 [3:16:45<07:27, 40.71s/it]"
     ]
    },
    {
     "name": "stderr",
     "output_type": "stream",
     "text": [
      "\r",
      "OMP Test Batch for noise_level = 0.05:  95%|█████████▌| 190/200 [3:16:54<07:13, 43.40s/it]"
     ]
    },
    {
     "name": "stderr",
     "output_type": "stream",
     "text": [
      "\r",
      "OMP Test Batch for noise_level = 0.00:  94%|█████████▍| 189/200 [3:17:10<07:58, 43.49s/it]"
     ]
    },
    {
     "name": "stderr",
     "output_type": "stream",
     "text": [
      "\r",
      "OMP Test Batch for noise_level = 0.04:  98%|█████████▊| 196/200 [3:17:07<02:55, 43.84s/it]"
     ]
    },
    {
     "name": "stderr",
     "output_type": "stream",
     "text": [
      "\r",
      "OMP Test Batch for noise_level = 0.09:  96%|█████████▌| 192/200 [3:17:04<05:27, 40.94s/it]"
     ]
    },
    {
     "name": "stderr",
     "output_type": "stream",
     "text": [
      "\r",
      "OMP Test Batch for noise_level = 0.02:  96%|█████████▌| 192/200 [3:17:17<05:46, 43.28s/it]"
     ]
    },
    {
     "name": "stderr",
     "output_type": "stream",
     "text": [
      "\r",
      "OMP Test Batch for noise_level = 0.20:  95%|█████████▌| 190/200 [3:17:21<06:31, 39.20s/it]"
     ]
    },
    {
     "name": "stderr",
     "output_type": "stream",
     "text": [
      "\r",
      "OMP Test Batch for noise_level = 0.16:  98%|█████████▊| 197/200 [3:17:26<02:15, 45.22s/it]\r",
      "OMP Test Batch for noise_level = 0.06:  94%|█████████▎| 187/200 [3:17:33<09:09, 42.26s/it]"
     ]
    },
    {
     "name": "stderr",
     "output_type": "stream",
     "text": [
      "\r",
      "OMP Test Batch for noise_level = 0.05:  96%|█████████▌| 191/200 [3:17:37<06:28, 43.19s/it]"
     ]
    },
    {
     "name": "stderr",
     "output_type": "stream",
     "text": [
      "\r",
      "OMP Test Batch for noise_level = 0.00:  95%|█████████▌| 190/200 [3:17:53<07:12, 43.27s/it]"
     ]
    },
    {
     "name": "stderr",
     "output_type": "stream",
     "text": [
      "\r",
      "OMP Test Batch for noise_level = 0.09:  96%|█████████▋| 193/200 [3:17:47<04:50, 41.45s/it]"
     ]
    },
    {
     "name": "stderr",
     "output_type": "stream",
     "text": [
      "\r",
      "OMP Test Batch for noise_level = 0.04:  98%|█████████▊| 197/200 [3:17:52<02:11, 43.98s/it]"
     ]
    },
    {
     "name": "stderr",
     "output_type": "stream",
     "text": [
      "\r",
      "OMP Test Batch for noise_level = 0.02:  96%|█████████▋| 193/200 [3:18:01<05:04, 43.48s/it]"
     ]
    },
    {
     "name": "stderr",
     "output_type": "stream",
     "text": [
      "\r",
      "OMP Test Batch for noise_level = 0.20:  96%|█████████▌| 191/200 [3:18:04<06:03, 40.40s/it]"
     ]
    },
    {
     "name": "stderr",
     "output_type": "stream",
     "text": [
      "\r",
      "OMP Test Batch for noise_level = 0.16:  99%|█████████▉| 198/200 [3:18:09<01:29, 44.63s/it]"
     ]
    },
    {
     "name": "stderr",
     "output_type": "stream",
     "text": [
      "\r",
      "OMP Test Batch for noise_level = 0.06:  94%|█████████▍| 188/200 [3:18:16<08:31, 42.65s/it]"
     ]
    },
    {
     "name": "stderr",
     "output_type": "stream",
     "text": [
      "\r",
      "OMP Test Batch for noise_level = 0.05:  96%|█████████▌| 192/200 [3:18:20<05:45, 43.13s/it]"
     ]
    },
    {
     "name": "stderr",
     "output_type": "stream",
     "text": [
      "\r",
      "OMP Test Batch for noise_level = 0.00:  96%|█████████▌| 191/200 [3:18:37<06:30, 43.38s/it]"
     ]
    },
    {
     "name": "stderr",
     "output_type": "stream",
     "text": [
      "\r",
      "OMP Test Batch for noise_level = 0.09:  97%|█████████▋| 194/200 [3:18:30<04:12, 42.04s/it]"
     ]
    },
    {
     "name": "stderr",
     "output_type": "stream",
     "text": [
      "\r",
      "OMP Test Batch for noise_level = 0.04:  99%|█████████▉| 198/200 [3:18:35<01:27, 43.81s/it]"
     ]
    },
    {
     "name": "stderr",
     "output_type": "stream",
     "text": [
      "\r",
      "OMP Test Batch for noise_level = 0.02:  97%|█████████▋| 194/200 [3:18:46<04:23, 43.99s/it]"
     ]
    },
    {
     "name": "stderr",
     "output_type": "stream",
     "text": [
      "\r",
      "OMP Test Batch for noise_level = 0.20:  96%|█████████▌| 192/200 [3:18:44<05:20, 40.12s/it]"
     ]
    },
    {
     "name": "stderr",
     "output_type": "stream",
     "text": [
      "\r",
      "OMP Test Batch for noise_level = 0.06:  94%|█████████▍| 189/200 [3:18:56<07:39, 41.79s/it]"
     ]
    },
    {
     "name": "stderr",
     "output_type": "stream",
     "text": [
      "\r",
      "OMP Test Batch for noise_level = 0.16: 100%|█████████▉| 199/200 [3:18:52<00:44, 44.10s/it]"
     ]
    },
    {
     "name": "stderr",
     "output_type": "stream",
     "text": [
      "\r",
      "OMP Test Batch for noise_level = 0.05:  96%|█████████▋| 193/200 [3:19:03<05:01, 43.05s/it]"
     ]
    },
    {
     "name": "stderr",
     "output_type": "stream",
     "text": [
      "\r",
      "OMP Test Batch for noise_level = 0.04: 100%|█████████▉| 199/200 [3:19:14<00:42, 42.27s/it]"
     ]
    },
    {
     "name": "stderr",
     "output_type": "stream",
     "text": [
      "\r",
      "OMP Test Batch for noise_level = 0.00:  96%|█████████▌| 192/200 [3:19:19<05:44, 43.03s/it]"
     ]
    },
    {
     "name": "stderr",
     "output_type": "stream",
     "text": [
      "\r",
      "OMP Test Batch for noise_level = 0.09:  98%|█████████▊| 195/200 [3:19:13<03:31, 42.20s/it]"
     ]
    },
    {
     "name": "stderr",
     "output_type": "stream",
     "text": [
      "\r",
      "OMP Test Batch for noise_level = 0.02:  98%|█████████▊| 195/200 [3:19:29<03:38, 43.73s/it]"
     ]
    },
    {
     "name": "stderr",
     "output_type": "stream",
     "text": [
      "\r",
      "OMP Test Batch for noise_level = 0.20:  96%|█████████▋| 193/200 [3:19:27<04:46, 40.95s/it]"
     ]
    },
    {
     "name": "stderr",
     "output_type": "stream",
     "text": [
      "\r",
      "OMP Test Batch for noise_level = 0.06:  95%|█████████▌| 190/200 [3:19:40<07:04, 42.45s/it]"
     ]
    },
    {
     "name": "stderr",
     "output_type": "stream",
     "text": [
      "\r",
      "OMP Test Batch for noise_level = 0.16: 100%|██████████| 200/200 [3:19:36<00:00, 43.97s/it]\r",
      "OMP Test Batch for noise_level = 0.16: 100%|██████████| 200/200 [3:19:36<00:00, 59.88s/it]\n"
     ]
    },
    {
     "name": "stderr",
     "output_type": "stream",
     "text": [
      "\r",
      "OMP Test Batch for noise_level = 0.05:  97%|█████████▋| 194/200 [3:19:46<04:19, 43.17s/it]"
     ]
    },
    {
     "name": "stderr",
     "output_type": "stream",
     "text": [
      "\r",
      "OMP Test Batch for noise_level = 0.04: 100%|██████████| 200/200 [3:19:57<00:00, 42.60s/it]\r",
      "OMP Test Batch for noise_level = 0.04: 100%|██████████| 200/200 [3:19:57<00:00, 59.99s/it]\n"
     ]
    },
    {
     "name": "stderr",
     "output_type": "stream",
     "text": [
      "\r",
      "OMP Test Batch for noise_level = 0.00:  96%|█████████▋| 193/200 [3:20:02<05:02, 43.14s/it]"
     ]
    },
    {
     "name": "stderr",
     "output_type": "stream",
     "text": [
      "\r",
      "OMP Test Batch for noise_level = 0.09:  98%|█████████▊| 196/200 [3:19:56<02:50, 42.56s/it]"
     ]
    },
    {
     "name": "stderr",
     "output_type": "stream",
     "text": [
      "\r",
      "OMP Test Batch for noise_level = 0.02:  98%|█████████▊| 196/200 [3:20:09<02:49, 42.46s/it]"
     ]
    },
    {
     "name": "stderr",
     "output_type": "stream",
     "text": [
      "\r",
      "OMP Test Batch for noise_level = 0.20:  97%|█████████▋| 194/200 [3:20:09<04:09, 41.54s/it]"
     ]
    },
    {
     "name": "stderr",
     "output_type": "stream",
     "text": [
      "\r",
      "OMP Test Batch for noise_level = 0.06:  96%|█████████▌| 191/200 [3:20:22<06:20, 42.32s/it]"
     ]
    },
    {
     "name": "stderr",
     "output_type": "stream",
     "text": [
      "\r",
      "OMP Test Batch for noise_level = 0.05:  98%|█████████▊| 195/200 [3:20:24<03:27, 41.53s/it]"
     ]
    },
    {
     "name": "stderr",
     "output_type": "stream",
     "text": [
      "\r",
      "OMP Test Batch for noise_level = 0.00:  97%|█████████▋| 194/200 [3:20:43<04:14, 42.37s/it]"
     ]
    },
    {
     "name": "stderr",
     "output_type": "stream",
     "text": [
      "\r",
      "OMP Test Batch for noise_level = 0.09:  98%|█████████▊| 197/200 [3:20:37<02:06, 42.08s/it]"
     ]
    },
    {
     "name": "stderr",
     "output_type": "stream",
     "text": [
      "\r",
      "OMP Test Batch for noise_level = 0.02:  98%|█████████▊| 197/200 [3:20:49<02:05, 41.92s/it]"
     ]
    },
    {
     "name": "stderr",
     "output_type": "stream",
     "text": [
      "\r",
      "OMP Test Batch for noise_level = 0.20:  98%|█████████▊| 195/200 [3:20:50<03:25, 41.15s/it]"
     ]
    },
    {
     "name": "stderr",
     "output_type": "stream",
     "text": [
      "\r",
      "OMP Test Batch for noise_level = 0.06:  96%|█████████▌| 192/200 [3:21:03<05:34, 41.82s/it]"
     ]
    },
    {
     "name": "stderr",
     "output_type": "stream",
     "text": [
      "\r",
      "OMP Test Batch for noise_level = 0.05:  98%|█████████▊| 196/200 [3:21:04<02:44, 41.19s/it]"
     ]
    },
    {
     "name": "stderr",
     "output_type": "stream",
     "text": [
      "\r",
      "OMP Test Batch for noise_level = 0.00:  98%|█████████▊| 195/200 [3:21:23<03:29, 41.81s/it]"
     ]
    },
    {
     "name": "stderr",
     "output_type": "stream",
     "text": [
      "\r",
      "OMP Test Batch for noise_level = 0.09:  99%|█████████▉| 198/200 [3:21:18<01:23, 41.66s/it]"
     ]
    },
    {
     "name": "stderr",
     "output_type": "stream",
     "text": [
      "\r",
      "OMP Test Batch for noise_level = 0.02:  99%|█████████▉| 198/200 [3:21:30<01:22, 41.38s/it]"
     ]
    },
    {
     "name": "stderr",
     "output_type": "stream",
     "text": [
      "\r",
      "OMP Test Batch for noise_level = 0.20:  98%|█████████▊| 196/200 [3:21:34<02:48, 42.01s/it]"
     ]
    },
    {
     "name": "stderr",
     "output_type": "stream",
     "text": [
      "\r",
      "OMP Test Batch for noise_level = 0.06:  96%|█████████▋| 193/200 [3:21:43<04:50, 41.56s/it]"
     ]
    },
    {
     "name": "stderr",
     "output_type": "stream",
     "text": [
      "\r",
      "OMP Test Batch for noise_level = 0.05:  98%|█████████▊| 197/200 [3:21:46<02:03, 41.27s/it]"
     ]
    },
    {
     "name": "stderr",
     "output_type": "stream",
     "text": [
      "\r",
      "OMP Test Batch for noise_level = 0.00:  98%|█████████▊| 196/200 [3:22:01<02:41, 40.44s/it]"
     ]
    },
    {
     "name": "stderr",
     "output_type": "stream",
     "text": [
      "\r",
      "OMP Test Batch for noise_level = 0.09: 100%|█████████▉| 199/200 [3:21:59<00:41, 41.44s/it]"
     ]
    },
    {
     "name": "stderr",
     "output_type": "stream",
     "text": [
      "\r",
      "OMP Test Batch for noise_level = 0.02: 100%|█████████▉| 199/200 [3:22:11<00:41, 41.31s/it]"
     ]
    },
    {
     "name": "stderr",
     "output_type": "stream",
     "text": [
      "\r",
      "OMP Test Batch for noise_level = 0.20:  98%|█████████▊| 197/200 [3:22:09<01:59, 39.85s/it]"
     ]
    },
    {
     "name": "stderr",
     "output_type": "stream",
     "text": [
      "\r",
      "OMP Test Batch for noise_level = 0.05:  99%|█████████▉| 198/200 [3:22:23<01:20, 40.10s/it]"
     ]
    },
    {
     "name": "stderr",
     "output_type": "stream",
     "text": [
      "\r",
      "OMP Test Batch for noise_level = 0.06:  97%|█████████▋| 194/200 [3:22:25<04:09, 41.52s/it]"
     ]
    },
    {
     "name": "stderr",
     "output_type": "stream",
     "text": [
      "\r",
      "OMP Test Batch for noise_level = 0.00:  98%|█████████▊| 197/200 [3:22:38<01:58, 39.53s/it]"
     ]
    },
    {
     "name": "stderr",
     "output_type": "stream",
     "text": [
      "\r",
      "OMP Test Batch for noise_level = 0.09: 100%|██████████| 200/200 [3:22:37<00:00, 40.32s/it]\r",
      "OMP Test Batch for noise_level = 0.09: 100%|██████████| 200/200 [3:22:37<00:00, 60.79s/it]\n"
     ]
    },
    {
     "name": "stderr",
     "output_type": "stream",
     "text": [
      "\r",
      "OMP Test Batch for noise_level = 0.02: 100%|██████████| 200/200 [3:22:47<00:00, 39.87s/it]\r",
      "OMP Test Batch for noise_level = 0.02: 100%|██████████| 200/200 [3:22:47<00:00, 60.84s/it]\n"
     ]
    },
    {
     "name": "stderr",
     "output_type": "stream",
     "text": [
      "\r",
      "OMP Test Batch for noise_level = 0.20:  99%|█████████▉| 198/200 [3:22:45<01:17, 38.85s/it]"
     ]
    },
    {
     "name": "stderr",
     "output_type": "stream",
     "text": [
      "\r",
      "OMP Test Batch for noise_level = 0.06:  98%|█████████▊| 195/200 [3:23:01<03:19, 39.94s/it]"
     ]
    },
    {
     "name": "stderr",
     "output_type": "stream",
     "text": [
      "\r",
      "OMP Test Batch for noise_level = 0.05: 100%|█████████▉| 199/200 [3:23:02<00:39, 39.82s/it]"
     ]
    },
    {
     "name": "stderr",
     "output_type": "stream",
     "text": [
      "\r",
      "OMP Test Batch for noise_level = 0.00:  99%|█████████▉| 198/200 [3:23:17<01:18, 39.26s/it]"
     ]
    },
    {
     "name": "stderr",
     "output_type": "stream",
     "text": [
      "\r",
      "OMP Test Batch for noise_level = 0.20: 100%|█████████▉| 199/200 [3:23:24<00:38, 38.84s/it]"
     ]
    },
    {
     "name": "stderr",
     "output_type": "stream",
     "text": [
      "\r",
      "OMP Test Batch for noise_level = 0.06:  98%|█████████▊| 196/200 [3:23:40<02:38, 39.56s/it]"
     ]
    },
    {
     "name": "stderr",
     "output_type": "stream",
     "text": [
      "\r",
      "OMP Test Batch for noise_level = 0.05: 100%|██████████| 200/200 [3:23:43<00:00, 40.02s/it]\r",
      "OMP Test Batch for noise_level = 0.05: 100%|██████████| 200/200 [3:23:43<00:00, 61.12s/it]\n"
     ]
    },
    {
     "name": "stderr",
     "output_type": "stream",
     "text": [
      "\r",
      "OMP Test Batch for noise_level = 0.00: 100%|█████████▉| 199/200 [3:23:57<00:39, 39.72s/it]"
     ]
    },
    {
     "name": "stderr",
     "output_type": "stream",
     "text": [
      "\r",
      "OMP Test Batch for noise_level = 0.20: 100%|██████████| 200/200 [3:23:58<00:00, 37.48s/it]\r",
      "OMP Test Batch for noise_level = 0.20: 100%|██████████| 200/200 [3:23:58<00:00, 61.19s/it]\n"
     ]
    },
    {
     "name": "stderr",
     "output_type": "stream",
     "text": [
      "\r",
      "OMP Test Batch for noise_level = 0.06:  98%|█████████▊| 197/200 [3:24:17<01:56, 38.74s/it]"
     ]
    },
    {
     "name": "stderr",
     "output_type": "stream",
     "text": [
      "\r",
      "OMP Test Batch for noise_level = 0.00: 100%|██████████| 200/200 [3:24:28<00:00, 36.90s/it]\r",
      "OMP Test Batch for noise_level = 0.00: 100%|██████████| 200/200 [3:24:28<00:00, 61.34s/it]\n"
     ]
    },
    {
     "name": "stderr",
     "output_type": "stream",
     "text": [
      "\r",
      "OMP Test Batch for noise_level = 0.06:  99%|█████████▉| 198/200 [3:24:51<01:15, 37.55s/it]"
     ]
    },
    {
     "name": "stderr",
     "output_type": "stream",
     "text": [
      "\r",
      "OMP Test Batch for noise_level = 0.06: 100%|█████████▉| 199/200 [3:25:26<00:36, 36.61s/it]"
     ]
    },
    {
     "name": "stderr",
     "output_type": "stream",
     "text": [
      "\r",
      "OMP Test Batch for noise_level = 0.06: 100%|██████████| 200/200 [3:26:01<00:00, 36.12s/it]\r",
      "OMP Test Batch for noise_level = 0.06: 100%|██████████| 200/200 [3:26:01<00:00, 61.81s/it]\n"
     ]
    }
   ],
   "source": [
    "posErr_s3_b200 = dictionary.ompPositionErrorPipeline(sparsity_level=3, batch_size=200, cores=50, verbose=False)"
   ]
  },
  {
   "cell_type": "code",
   "execution_count": 3,
   "id": "e145dd53",
   "metadata": {
    "execution": {
     "iopub.execute_input": "2024-05-31T12:15:20.366828Z",
     "iopub.status.busy": "2024-05-31T12:15:20.365400Z",
     "iopub.status.idle": "2024-05-31T12:15:21.489647Z",
     "shell.execute_reply": "2024-05-31T12:15:21.488384Z"
    },
    "papermill": {
     "duration": 1.425459,
     "end_time": "2024-05-31T12:15:21.493160",
     "exception": false,
     "start_time": "2024-05-31T12:15:20.067701",
     "status": "completed"
    },
    "tags": []
   },
   "outputs": [
    {
     "data": {
      "image/png": "[encoded data removed]",
      "text/plain": [
       "<Figure size 1000x600 with 1 Axes>"
      ]
     },
     "metadata": {},
     "output_type": "display_data"
    }
   ],
   "source": [
    "plt.figure(figsize=(10, 6))\n",
    "\n",
    "# Pre-processing\n",
    "results_dict = posErr_s3_b200\n",
    "# Génère des couleurs\n",
    "colors = plt.cm.viridis(np.linspace(0, 1, len(results_dict)))  \n",
    "\n",
    "# Définition des bins pour les erreurs de position\n",
    "max_error = max(max(counter.keys()) for counter in results_dict.values())\n",
    "min_error = min(min(counter.keys()) for counter in results_dict.values())\n",
    "bins = np.arange(min_error, max_error + 50, 50)  # Création des bins de 50 unités\n",
    "\n",
    "# Parcourir le dictionnaire de résultats et dessiner un histogramme pour chaque niveau de bruit\n",
    "for (noise_level, counter), color in zip(results_dict.items(), colors):\n",
    "    # Regroupement des erreurs par bins\n",
    "    errors, counts = zip(*counter.items())\n",
    "    summed_counts, _ = np.histogram(errors, bins=bins, weights=counts)\n",
    "    \n",
    "    # Normaliser pour faire un histogramme de densité\n",
    "    summed_counts = summed_counts / sum(summed_counts)\n",
    "\n",
    "    # Dessiner l'histogramme de densité\n",
    "    plt.bar(bins[:-1], summed_counts, color=color, alpha=0.8, label=f'Noise {noise_level:.2f}', width=45)\n",
    "\n",
    "plt.title('3 atoms/signal & 20 signals/batch')\n",
    "plt.xlabel('Position Error')\n",
    "plt.ylabel('Density')\n",
    "plt.xticks(bins)  # Définir les ticks sur les bins\n",
    "plt.legend(title=\"Noise Levels\")\n",
    "plt.grid(True)\n",
    "plt.show()"
   ]
  }
 ],
 "metadata": {
  "kernelspec": {
   "display_name": "phlamesenv",
   "language": "python",
   "name": "python3"
  },
  "language_info": {
   "codemirror_mode": {
    "name": "ipython",
    "version": 3
   },
   "file_extension": ".py",
   "mimetype": "text/x-python",
   "name": "python",
   "nbconvert_exporter": "python",
   "pygments_lexer": "ipython3",
   "version": "3.11.2"
  },
  "papermill": {
   "default_parameters": {},
   "duration": 12383.508624,
   "end_time": "2024-05-31T12:15:24.561731",
   "environment_variables": {},
   "exception": null,
   "input_path": "positionErr_s3_b200.ipynb",
   "output_path": "out_positionErr_s3_b200.ipynb",
   "parameters": {},
   "start_time": "2024-05-31T08:49:01.053107",
   "version": "2.6.0"
  }
 },
 "nbformat": 4,
 "nbformat_minor": 5
}