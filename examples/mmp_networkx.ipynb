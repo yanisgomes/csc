{
 "cells": [
  {
   "cell_type": "code",
   "execution_count": 1,
   "metadata": {},
   "outputs": [
    {
     "name": "stdout",
     "output_type": "stream",
     "text": [
      "The dictionary has 1428 different atoms\n"
     ]
    }
   ],
   "source": [
    "import json\n",
    "import numpy as np\n",
    "from tqdm import tqdm\n",
    "from itertools import product\n",
    "import matplotlib.pyplot as plt\n",
    "\n",
    "from csc.mmp import *\n",
    "from csc.utils import *\n",
    "from csc.atoms import *\n",
    "from csc.workbench import *\n",
    "from csc.dictionary import *\n",
    "\n",
    "# Atom parameters\n",
    "bmin = 0.005\n",
    "bmax = 0.60\n",
    "b_step = 0.005\n",
    "b_values = np.arange(bmin, bmax, b_step)\n",
    "\n",
    "ymin = 0.01\n",
    "ymax = 0.034\n",
    "y_step = 0.002\n",
    "y_values = np.arange(ymin, ymax, y_step)\n",
    "\n",
    "s_values = [1]\n",
    "\n",
    "dictionary = ZSDictionary.from_values(b_values, y_values, s_values)\n",
    "print('The dictionary has {} different atoms'.format(len(dictionary)))"
   ]
  },
  {
   "cell_type": "code",
   "execution_count": null,
   "metadata": {},
   "outputs": [],
   "source": [
    "batchSize = 200\n",
    "path_to_signals_db = f'C:\\\\Users\\\\gomes\\\\Documents\\\\ENS\\\\00_M1\\\\00_BORELLI\\\\01_WorkInProgress\\\\\\synthetic-data\\\\data_signals_{batchSize}.json'\n",
    "path_to_omp_db = f'C:\\\\Users\\\\gomes\\\\Documents\\\\ENS\\\\00_M1\\\\00_BORELLI\\\\01_WorkInProgress\\\\\\synthetic-data\\\\data_omp_{batchSize}.json'\n",
    "\n",
    "workbench = CSCWorkbench(path_to_signals_db)\n",
    "workbench.load_data()\n",
    "workbench.set_dictionary(dictionary)"
   ]
  },
  {
   "cell_type": "markdown",
   "metadata": {},
   "source": [
    "## Create a ``MMPTree`` for a given signal"
   ]
  },
  {
   "cell_type": "code",
   "execution_count": 7,
   "metadata": {},
   "outputs": [],
   "source": [
    "signal_dict = workbench.signalDictFromId(id=1876)\n",
    "signal = signal_dict['signal']\n",
    "mmp_tree = MMPTree(dictionary, signal, sparsity=3, connections=2)"
   ]
  },
  {
   "cell_type": "code",
   "execution_count": 8,
   "metadata": {},
   "outputs": [
    {
     "name": "stdout",
     "output_type": "stream",
     "text": [
      "Branch n°0 exploring path : (1, 1, 1, 1)\n",
      "Added child node with activation index 838414\n",
      "Added child node with activation index 802176\n",
      "Added child node with activation index 1075811\n",
      "Added child node with activation index 135285\n",
      "Branch n°1 exploring path : (2, 1, 1, 1)\n",
      "Added child node with activation index 773571\n",
      "Added child node with activation index 802176\n",
      "Added child node with activation index 262594\n",
      "Branch n°2 exploring path : (1, 2, 1, 1)\n",
      "Added child node with activation index 226835\n",
      "Added child node with activation index 1061555\n",
      "Added child node with activation index 802176\n",
      "Added child node with activation index 981191\n",
      "Branch n°3 exploring path : (2, 2, 1, 1)\n",
      "Added child node with activation index 262594\n",
      "Added child node with activation index 1082938\n",
      "Branch n°4 exploring path : (1, 1, 2, 1)\n",
      "Added child node with activation index 796467\n",
      "Added child node with activation index 805032\n",
      "[(1, 1, 1, 1), (2, 1, 1, 1), (1, 2, 1, 1), (2, 2, 1, 1), (1, 1, 2, 1), (2, 1, 2, 1)]\n"
     ]
    }
   ],
   "source": [
    "mmp_tree.runMMPDF(branches_number=5, verbose=True)\n",
    "print(mmp_tree.leaves_paths)"
   ]
  }
 ],
 "metadata": {
  "kernelspec": {
   "display_name": "phlamesenv",
   "language": "python",
   "name": "python3"
  },
  "language_info": {
   "codemirror_mode": {
    "name": "ipython",
    "version": 3
   },
   "file_extension": ".py",
   "mimetype": "text/x-python",
   "name": "python",
   "nbconvert_exporter": "python",
   "pygments_lexer": "ipython3",
   "version": "3.10.1"
  }
 },
 "nbformat": 4,
 "nbformat_minor": 2
}
