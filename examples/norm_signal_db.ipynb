{
 "cells": [
  {
   "cell_type": "code",
   "execution_count": 1,
   "metadata": {},
   "outputs": [],
   "source": [
    "import json\n",
    "import numpy as np\n",
    "from tqdm import tqdm\n",
    "from itertools import product\n",
    "import matplotlib.pyplot as plt\n",
    "\n",
    "from csc.utils import *\n",
    "from csc.atoms import *\n",
    "from csc.workbench import *\n",
    "from csc.dictionary import *"
   ]
  },
  {
   "cell_type": "markdown",
   "metadata": {},
   "source": [
    "### Workbench initialization with a database path"
   ]
  },
  {
   "cell_type": "code",
   "execution_count": 2,
   "metadata": {},
   "outputs": [],
   "source": [
    "batchSize = 200\n",
    "path_to_signals_db = f'C:\\\\Users\\\\gomes\\\\Documents\\\\ENS\\\\00_M1\\\\00_BORELLI\\\\01_WorkInProgress\\\\\\synthetic-data\\\\data_signals_{batchSize}.json'\n",
    "path_to_omp_db = f'C:\\\\Users\\\\gomes\\\\Documents\\\\ENS\\\\00_M1\\\\00_BORELLI\\\\01_WorkInProgress\\\\\\synthetic-data\\\\data_omp_{batchSize}.json'"
   ]
  },
  {
   "cell_type": "code",
   "execution_count": 3,
   "metadata": {},
   "outputs": [],
   "source": [
    "#json_filename = 'db_signals_200.json'\n",
    "#with open(path_to_signals_db, 'r') as f:\n",
    "#    data = json.load(f)\n",
    "#    \n",
    "#batch_size = data['batchSize']\n",
    "#snr_levels = data['snrLevels']\n",
    "#signal_length = data['signalLength']\n",
    "#sparsity_levels = data['sparsityLevels']\n",
    "#dictionary_name = data['dictionary']\n",
    "#\n",
    "## Initialize the database dictionary\n",
    "#db = {}\n",
    "#db['date'] = get_today_date_str()\n",
    "#db['batchSize'] = batch_size\n",
    "#db['snrLevels'] = snr_levels\n",
    "#db['signalLength'] = signal_length\n",
    "#db['sparsityLevels'] = sparsity_levels\n",
    "#db['dictionary'] = dictionary_name\n",
    "#\n",
    "#signals = []\n",
    "#for sdict in tqdm(data['signals']):\n",
    "#    # Load the data from the database\n",
    "#    id = sdict['id']\n",
    "#    snr = sdict['snr']\n",
    "#    atoms = sdict['atoms']\n",
    "#    sparsity = sdict['sparsity']\n",
    "#    signal = np.array(sdict['signal'])\n",
    "#    # Normalize the signal\n",
    "#    signal = signal / np.linalg.norm(signal)\n",
    "#    # Write the data to the new dict\n",
    "#    result = {\n",
    "#        'id': id,\n",
    "#        'snr': snr,\n",
    "#        'sparsity': sparsity,\n",
    "#        'signal': signal.tolist(),\n",
    "#        'atoms': atoms\n",
    "#    }\n",
    "#    # Append the result to the signals list\n",
    "#    signals.append(result)\n",
    "#db['signals'] = signals\n",
    "#\n",
    "## Save the new database\n",
    "#print(f'Saving the new database to {json_filename}')\n",
    "#json.dump(db, open(json_filename, 'w'), indent=4, default=handle_non_serializable)\n",
    "#print('Done!')"
   ]
  },
  {
   "cell_type": "code",
   "execution_count": 4,
   "metadata": {},
   "outputs": [
    {
     "ename": "FileNotFoundError",
     "evalue": "[Errno 2] No such file or directory: 'C:\\\\Users\\\\gomes\\\\Documents\\\\ENS\\\\00_M1\\\\00_BORELLI\\\\01_WorkInProgress\\\\\\\\synthetic-data\\\\data_omp_200.json'",
     "output_type": "error",
     "traceback": [
      "\u001b[1;31m---------------------------------------------------------------------------\u001b[0m",
      "\u001b[1;31mFileNotFoundError\u001b[0m                         Traceback (most recent call last)",
      "Cell \u001b[1;32mIn[4], line 2\u001b[0m\n\u001b[0;32m      1\u001b[0m omp_json_filename \u001b[38;5;241m=\u001b[39m \u001b[38;5;124m'\u001b[39m\u001b[38;5;124mdb_norm_omp_200.json\u001b[39m\u001b[38;5;124m'\u001b[39m\n\u001b[1;32m----> 2\u001b[0m \u001b[38;5;28;01mwith\u001b[39;00m \u001b[38;5;28;43mopen\u001b[39;49m\u001b[43m(\u001b[49m\u001b[43mpath_to_omp_db\u001b[49m\u001b[43m,\u001b[49m\u001b[43m \u001b[49m\u001b[38;5;124;43m'\u001b[39;49m\u001b[38;5;124;43mr\u001b[39;49m\u001b[38;5;124;43m'\u001b[39;49m\u001b[43m)\u001b[49m \u001b[38;5;28;01mas\u001b[39;00m f:\n\u001b[0;32m      3\u001b[0m     data \u001b[38;5;241m=\u001b[39m json\u001b[38;5;241m.\u001b[39mload(f)\n\u001b[0;32m      5\u001b[0m source \u001b[38;5;241m=\u001b[39m data[\u001b[38;5;124m'\u001b[39m\u001b[38;5;124msource\u001b[39m\u001b[38;5;124m'\u001b[39m]\n",
      "File \u001b[1;32mc:\\Users\\gomes\\Documents\\ENS\\00_M1\\00_BORELLI\\01_WorkInProgress\\phlamesenv\\lib\\site-packages\\IPython\\core\\interactiveshell.py:324\u001b[0m, in \u001b[0;36m_modified_open\u001b[1;34m(file, *args, **kwargs)\u001b[0m\n\u001b[0;32m    317\u001b[0m \u001b[38;5;28;01mif\u001b[39;00m file \u001b[38;5;129;01min\u001b[39;00m {\u001b[38;5;241m0\u001b[39m, \u001b[38;5;241m1\u001b[39m, \u001b[38;5;241m2\u001b[39m}:\n\u001b[0;32m    318\u001b[0m     \u001b[38;5;28;01mraise\u001b[39;00m \u001b[38;5;167;01mValueError\u001b[39;00m(\n\u001b[0;32m    319\u001b[0m         \u001b[38;5;124mf\u001b[39m\u001b[38;5;124m\"\u001b[39m\u001b[38;5;124mIPython won\u001b[39m\u001b[38;5;124m'\u001b[39m\u001b[38;5;124mt let you open fd=\u001b[39m\u001b[38;5;132;01m{\u001b[39;00mfile\u001b[38;5;132;01m}\u001b[39;00m\u001b[38;5;124m by default \u001b[39m\u001b[38;5;124m\"\u001b[39m\n\u001b[0;32m    320\u001b[0m         \u001b[38;5;124m\"\u001b[39m\u001b[38;5;124mas it is likely to crash IPython. If you know what you are doing, \u001b[39m\u001b[38;5;124m\"\u001b[39m\n\u001b[0;32m    321\u001b[0m         \u001b[38;5;124m\"\u001b[39m\u001b[38;5;124myou can use builtins\u001b[39m\u001b[38;5;124m'\u001b[39m\u001b[38;5;124m open.\u001b[39m\u001b[38;5;124m\"\u001b[39m\n\u001b[0;32m    322\u001b[0m     )\n\u001b[1;32m--> 324\u001b[0m \u001b[38;5;28;01mreturn\u001b[39;00m io_open(file, \u001b[38;5;241m*\u001b[39margs, \u001b[38;5;241m*\u001b[39m\u001b[38;5;241m*\u001b[39mkwargs)\n",
      "\u001b[1;31mFileNotFoundError\u001b[0m: [Errno 2] No such file or directory: 'C:\\\\Users\\\\gomes\\\\Documents\\\\ENS\\\\00_M1\\\\00_BORELLI\\\\01_WorkInProgress\\\\\\\\synthetic-data\\\\data_omp_200.json'"
     ]
    }
   ],
   "source": [
    "omp_json_filename = 'db_norm_omp_200.json'\n",
    "with open(path_to_omp_db, 'r') as f:\n",
    "    data = json.load(f)\n",
    "    \n",
    "source = data['source']\n",
    "date = data['date']\n",
    "algorithm = data['algorithm']\n",
    "batchSize = data['batchSize']\n",
    "snrLevels = data['snrLevels']\n",
    "signalLength = data['signalLength']\n",
    "sparsityLevels = data['sparsityLevels']\n",
    "dictionary_name = data['dictionary']\n",
    "\n",
    "# Initialize the database dictionary\n",
    "db = {}\n",
    "db['source'] = source\n",
    "db['date'] = date\n",
    "db['algorithm'] = algorithm\n",
    "db['batchSize'] = batchSize\n",
    "db['snrLevels'] = snrLevels\n",
    "db['signalLength'] = signalLength\n",
    "db['sparsityLevels'] = sparsityLevels\n",
    "db['dictionary'] = dictionary_name\n",
    "\n",
    "omp_signals = []\n",
    "for omp_dict in tqdm(data['omp']):\n",
    "    # Load the data from the database\n",
    "    id = omp_dict['id']\n",
    "    mse = omp_dict['mse']\n",
    "    atoms = omp_dict['atoms']\n",
    "    sparsity = omp_dict['sparsity']\n",
    "    signal = np.array(omp_dict['approx'])\n",
    "    norm_signal = np.linalg.norm(signal)\n",
    "    signal /= norm_signal\n",
    "    normalized_atoms = []\n",
    "    for atom in atoms:\n",
    "        normalized_atom = atom.copy()\n",
    "        normalized_atom['s'] /= norm_signal\n",
    "        normalized_atoms.append(normalized_atom)\n",
    "    # Write the data to the new dict\n",
    "    result = {\n",
    "        'id': id,\n",
    "        'mse': mse,\n",
    "        'sparsity': sparsity,\n",
    "        'approx': signal.tolist(),\n",
    "        'atoms': normalized_atoms\n",
    "    }\n",
    "    # Append the result to the signals list\n",
    "    omp_signals.append(result)\n",
    "db['signals'] = omp_signals\n",
    "\n",
    "# Save the new database\n",
    "print(f'Saving the new database to {omp_json_filename}')\n",
    "json.dump(db, open(omp_json_filename, 'w'), indent=4, default=handle_non_serializable)\n",
    "print('Done!')"
   ]
  }
 ],
 "metadata": {
  "kernelspec": {
   "display_name": "phlamesenv",
   "language": "python",
   "name": "python3"
  },
  "language_info": {
   "codemirror_mode": {
    "name": "ipython",
    "version": 3
   },
   "file_extension": ".py",
   "mimetype": "text/x-python",
   "name": "python",
   "nbconvert_exporter": "python",
   "pygments_lexer": "ipython3",
   "version": "3.10.1"
  }
 },
 "nbformat": 4,
 "nbformat_minor": 2
}
