{
 "cells": [
  {
   "cell_type": "code",
   "execution_count": 1,
   "metadata": {},
   "outputs": [],
   "source": [
    "import json\n",
    "import numpy as np\n",
    "from tqdm import tqdm\n",
    "from itertools import product\n",
    "import matplotlib.pyplot as plt\n",
    "\n",
    "from csc.utils import *\n",
    "from csc.atoms import *\n",
    "from csc.workbench import *\n",
    "from csc.dictionary import *"
   ]
  },
  {
   "cell_type": "markdown",
   "metadata": {},
   "source": [
    "### Workbench initialization with a database path"
   ]
  },
  {
   "cell_type": "code",
   "execution_count": 2,
   "metadata": {},
   "outputs": [],
   "source": [
    "batchSize = 200\n",
    "path_to_signals_db = f'C:\\\\Users\\\\gomes\\\\Documents\\\\ENS\\\\00_M1\\\\00_BORELLI\\\\01_WorkInProgress\\\\\\synthetic-data\\\\data_signals_{batchSize}.json'\n",
    "path_to_omp_db = f'C:\\\\Users\\\\gomes\\\\Documents\\\\ENS\\\\00_M1\\\\00_BORELLI\\\\01_WorkInProgress\\\\\\synthetic-data\\\\data_omp_{batchSize}.json'\n"
   ]
  },
  {
   "cell_type": "code",
   "execution_count": 4,
   "metadata": {},
   "outputs": [
    {
     "name": "stdout",
     "output_type": "stream",
     "text": [
      "{'date': '240610', 'batchSize': 200, 'snrLevels': [-5, 0, 5, 10, 15], 'signalLength': 2403, 'sparsityLevels': [3, 4, 5], 'dictionary': 'ZSMeasurementMatrix object with 1428 different atoms'}\n"
     ]
    }
   ],
   "source": [
    "with open(path_to_signals_db, 'r') as f:\n",
    "    data = json.load(f)\n",
    "    batch_size = data['batchSize']\n",
    "    snr_levels = data['snrLevels']\n",
    "    signal_length = data['signalLength']\n",
    "    sparsity_levels = data['sparsityLevels']\n",
    "    dictionary_name = data['dictionary']\n",
    "\n",
    "    # Initialize the database dictionary\n",
    "    db = {}\n",
    "    db['date'] = get_today_date_str()\n",
    "    db['batchSize'] = batch_size\n",
    "    db['snrLevels'] = snr_levels\n",
    "    db['signalLength'] = signal_length\n",
    "    db['sparsityLevels'] = sparsity_levels\n",
    "    db['dictionary'] = dictionary_name\n",
    "\n",
    "print(db)"
   ]
  }
 ],
 "metadata": {
  "kernelspec": {
   "display_name": "phlamesenv",
   "language": "python",
   "name": "python3"
  },
  "language_info": {
   "codemirror_mode": {
    "name": "ipython",
    "version": 3
   },
   "file_extension": ".py",
   "mimetype": "text/x-python",
   "name": "python",
   "nbconvert_exporter": "python",
   "pygments_lexer": "ipython3",
   "version": "3.10.1"
  }
 },
 "nbformat": 4,
 "nbformat_minor": 2
}
