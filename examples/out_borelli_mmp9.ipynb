{
 "cells": [
  {
   "cell_type": "markdown",
   "id": "d0c15cfd",
   "metadata": {
    "papermill": {
     "duration": 0.003197,
     "end_time": "2024-07-30T15:08:58.284342",
     "exception": false,
     "start_time": "2024-07-30T15:08:58.281145",
     "status": "completed"
    },
    "tags": []
   },
   "source": [
    "# Build SparVar MMP Database"
   ]
  },
  {
   "cell_type": "code",
   "execution_count": 1,
   "id": "0bcfbf50",
   "metadata": {
    "execution": {
     "iopub.execute_input": "2024-07-30T15:08:58.292740Z",
     "iopub.status.busy": "2024-07-30T15:08:58.292209Z",
     "iopub.status.idle": "2024-07-30T15:09:02.605642Z",
     "shell.execute_reply": "2024-07-30T15:09:02.603951Z"
    },
    "papermill": {
     "duration": 4.321304,
     "end_time": "2024-07-30T15:09:02.608954",
     "exception": false,
     "start_time": "2024-07-30T15:08:58.287650",
     "status": "completed"
    },
    "tags": []
   },
   "outputs": [
    {
     "name": "stdout",
     "output_type": "stream",
     "text": [
      "The dictionary has 143 different atoms\n"
     ]
    }
   ],
   "source": [
    "import numpy as np\n",
    "from csc.utils import *\n",
    "from csc.atoms import *\n",
    "from csc.workbench import *\n",
    "from csc.dictionary import *\n",
    "from itertools import product\n",
    "import matplotlib.pyplot as plt\n",
    "\n",
    "# Atom parameters\n",
    "bmin = 0.005\n",
    "bmax = 0.06\n",
    "b_step = 0.005\n",
    "b_values = np.arange(bmin, bmax, b_step)\n",
    "\n",
    "ymin = 0.010\n",
    "ymax = 0.036\n",
    "y_step = 0.002\n",
    "y_values = np.arange(ymin, ymax, y_step)\n",
    "\n",
    "s_values = [1]\n",
    "\n",
    "dictionary = ZSDictionary.from_values(b_values, y_values, s_values)\n",
    "print('The dictionary has {} different atoms'.format(len(dictionary)))"
   ]
  },
  {
   "cell_type": "markdown",
   "id": "319205f2",
   "metadata": {
    "papermill": {
     "duration": 0.003702,
     "end_time": "2024-07-30T15:09:02.617054",
     "exception": false,
     "start_time": "2024-07-30T15:09:02.613352",
     "status": "completed"
    },
    "tags": []
   },
   "source": [
    "## Build sparsity variation database\n",
    "\n",
    "#### Format :\n",
    "````\n",
    "'source' = input_filename\n",
    "'date' = get_today_date_str()\n",
    "'algorithm' = 'Convolutional MMP-DF'\n",
    "'nbBranches' = branches\n",
    "'connections' = connections\n",
    "'dissimilarity' = dissimilarity\n",
    "'maxSparsityLevel' = max_sparsity\n",
    "'batchSize' = data['batchSize']\n",
    "'snrLevels' = data['snrLevels']\n",
    "'signalLength' = data['signalLength']\n",
    "'sparsityLevels' = data['sparsityLevels']\n",
    "'dictionary' = str(self)\n",
    "'mmp' : \n",
    "    [\n",
    "        {\n",
    "            'id' : 0,\n",
    "            'snr' : snr,\n",
    "            'results' : [\n",
    "                {\n",
    "                    'mse' : #MSE,\n",
    "                    'path' : '2'\n",
    "                    'delay' : #DELAY,\n",
    "                    'atoms' : [\n",
    "                        {'x':x, 'b':b, 'y':y, 's':s}\n",
    "                        #1\n",
    "                    ]\n",
    "                },\n",
    "                ...\n",
    "                {\n",
    "                    'mse' : #MSE,\n",
    "                    'path' : '2-3-...-1'\n",
    "                    'delay' : #DELAY,\n",
    "                    'atoms' : [\n",
    "                        {'x':x, 'b':b, 'y':y, 's':s}\n",
    "                        #max_sparsity\n",
    "                    ]\n",
    "                }\n",
    "                ]\n",
    "        },\n",
    "        {\n",
    "            'id' : 1,\n",
    "            ...\n",
    "        },\n",
    "\n",
    "        ...\n",
    "\n",
    "    ]\n",
    "````"
   ]
  },
  {
   "cell_type": "code",
   "execution_count": 2,
   "id": "8ac4f67c",
   "metadata": {
    "execution": {
     "iopub.execute_input": "2024-07-30T15:09:02.627949Z",
     "iopub.status.busy": "2024-07-30T15:09:02.626391Z",
     "iopub.status.idle": "2024-07-30T15:09:02.641617Z",
     "shell.execute_reply": "2024-07-30T15:09:02.640368Z"
    },
    "papermill": {
     "duration": 0.022739,
     "end_time": "2024-07-30T15:09:02.643987",
     "exception": false,
     "start_time": "2024-07-30T15:09:02.621248",
     "status": "completed"
    },
    "tags": []
   },
   "outputs": [],
   "source": [
    "batchSize = 200\n",
    "constrained_signals_db = f'/home/gomes/synthetic-data/constrained-signals-{batchSize}.json'"
   ]
  },
  {
   "cell_type": "markdown",
   "id": "80b39330",
   "metadata": {
    "papermill": {
     "duration": 0.003879,
     "end_time": "2024-07-30T15:09:02.652866",
     "exception": false,
     "start_time": "2024-07-30T15:09:02.648987",
     "status": "completed"
    },
    "tags": []
   },
   "source": [
    "### Check the ``DISSIMILARITY`` threshold"
   ]
  },
  {
   "cell_type": "code",
   "execution_count": null,
   "id": "85da390f",
   "metadata": {
    "papermill": {
     "duration": null,
     "end_time": null,
     "exception": false,
     "start_time": "2024-07-30T15:09:02.655857",
     "status": "running"
    },
    "tags": []
   },
   "outputs": [],
   "source": [
    "# Pipeline parameters\n",
    "NB_CORES = 15\n",
    "BRANCHES = 9\n",
    "CONNECTIONS = 3\n",
    "MAX_SPARSITY = 10\n",
    "\n",
    "DISSIMILARITY = 0.4 ## << DISSIMILARITY >>\n",
    "\n",
    "# Run pipeline\n",
    "today = get_today_date_str()\n",
    "output_mmpdf_db = f'/home/gomes/synthetic-data/borelli-mmpdf{BRANCHES}-{batchSize}.json'\n",
    "dictionary.mmpdfSparVarPipelineFromDB(constrained_signals_db, output_mmpdf_db, nb_cores=NB_CORES, connections=CONNECTIONS, dissimilarity=DISSIMILARITY, branches=BRANCHES, max_sparsity=MAX_SPARSITY, compute_time_type='global', verbose=False)"
   ]
  }
 ],
 "metadata": {
  "kernelspec": {
   "display_name": "phlamesenv",
   "language": "python",
   "name": "python3"
  },
  "language_info": {
   "codemirror_mode": {
    "name": "ipython",
    "version": 3
   },
   "file_extension": ".py",
   "mimetype": "text/x-python",
   "name": "python",
   "nbconvert_exporter": "python",
   "pygments_lexer": "ipython3",
   "version": "3.11.2"
  },
  "papermill": {
   "default_parameters": {},
   "duration": null,
   "end_time": null,
   "environment_variables": {},
   "exception": null,
   "input_path": "buildBorelliMMP9.ipynb",
   "output_path": "out_borelli_mmp9.ipynb",
   "parameters": {},
   "start_time": "2024-07-30T15:08:56.822427",
   "version": "2.6.0"
  }
 },
 "nbformat": 4,
 "nbformat_minor": 5
}