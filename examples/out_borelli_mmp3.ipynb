{
 "cells": [
  {
   "cell_type": "markdown",
   "id": "60ccb5b5",
   "metadata": {
    "papermill": {
     "duration": 0.002226,
     "end_time": "2024-07-30T15:07:14.223630",
     "exception": false,
     "start_time": "2024-07-30T15:07:14.221404",
     "status": "completed"
    },
    "tags": []
   },
   "source": [
    "# Build SparVar MMP Database"
   ]
  },
  {
   "cell_type": "code",
   "execution_count": 1,
   "id": "5123d777",
   "metadata": {
    "execution": {
     "iopub.execute_input": "2024-07-30T15:07:14.229142Z",
     "iopub.status.busy": "2024-07-30T15:07:14.228554Z",
     "iopub.status.idle": "2024-07-30T15:07:16.243447Z",
     "shell.execute_reply": "2024-07-30T15:07:16.242263Z"
    },
    "papermill": {
     "duration": 2.020954,
     "end_time": "2024-07-30T15:07:16.246552",
     "exception": false,
     "start_time": "2024-07-30T15:07:14.225598",
     "status": "completed"
    },
    "tags": []
   },
   "outputs": [
    {
     "name": "stdout",
     "output_type": "stream",
     "text": [
      "The dictionary has 143 different atoms\n"
     ]
    }
   ],
   "source": [
    "import numpy as np\n",
    "from csc.utils import *\n",
    "from csc.atoms import *\n",
    "from csc.workbench import *\n",
    "from csc.dictionary import *\n",
    "from itertools import product\n",
    "import matplotlib.pyplot as plt\n",
    "\n",
    "# Atom parameters\n",
    "bmin = 0.005\n",
    "bmax = 0.06\n",
    "b_step = 0.005\n",
    "b_values = np.arange(bmin, bmax, b_step)\n",
    "\n",
    "ymin = 0.010\n",
    "ymax = 0.036\n",
    "y_step = 0.002\n",
    "y_values = np.arange(ymin, ymax, y_step)\n",
    "\n",
    "s_values = [1]\n",
    "\n",
    "dictionary = ZSDictionary.from_values(b_values, y_values, s_values)\n",
    "print('The dictionary has {} different atoms'.format(len(dictionary)))"
   ]
  },
  {
   "cell_type": "markdown",
   "id": "2c80c268",
   "metadata": {
    "papermill": {
     "duration": 0.00381,
     "end_time": "2024-07-30T15:07:16.254777",
     "exception": false,
     "start_time": "2024-07-30T15:07:16.250967",
     "status": "completed"
    },
    "tags": []
   },
   "source": [
    "## Build sparsity variation database\n",
    "\n",
    "#### Format :\n",
    "````\n",
    "'source' = input_filename\n",
    "'date' = get_today_date_str()\n",
    "'algorithm' = 'Convolutional MMP-DF'\n",
    "'nbBranches' = branches\n",
    "'connections' = connections\n",
    "'dissimilarity' = dissimilarity\n",
    "'maxSparsityLevel' = max_sparsity\n",
    "'batchSize' = data['batchSize']\n",
    "'snrLevels' = data['snrLevels']\n",
    "'signalLength' = data['signalLength']\n",
    "'sparsityLevels' = data['sparsityLevels']\n",
    "'dictionary' = str(self)\n",
    "'mmp' : \n",
    "    [\n",
    "        {\n",
    "            'id' : 0,\n",
    "            'snr' : snr,\n",
    "            'results' : [\n",
    "                {\n",
    "                    'mse' : #MSE,\n",
    "                    'path' : '2'\n",
    "                    'delay' : #DELAY,\n",
    "                    'atoms' : [\n",
    "                        {'x':x, 'b':b, 'y':y, 's':s}\n",
    "                        #1\n",
    "                    ]\n",
    "                },\n",
    "                ...\n",
    "                {\n",
    "                    'mse' : #MSE,\n",
    "                    'path' : '2-3-...-1'\n",
    "                    'delay' : #DELAY,\n",
    "                    'atoms' : [\n",
    "                        {'x':x, 'b':b, 'y':y, 's':s}\n",
    "                        #max_sparsity\n",
    "                    ]\n",
    "                }\n",
    "                ]\n",
    "        },\n",
    "        {\n",
    "            'id' : 1,\n",
    "            ...\n",
    "        },\n",
    "\n",
    "        ...\n",
    "\n",
    "    ]\n",
    "````"
   ]
  },
  {
   "cell_type": "code",
   "execution_count": 2,
   "id": "a26c626d",
   "metadata": {
    "execution": {
     "iopub.execute_input": "2024-07-30T15:07:16.264459Z",
     "iopub.status.busy": "2024-07-30T15:07:16.263746Z",
     "iopub.status.idle": "2024-07-30T15:07:16.268405Z",
     "shell.execute_reply": "2024-07-30T15:07:16.267541Z"
    },
    "papermill": {
     "duration": 0.012552,
     "end_time": "2024-07-30T15:07:16.271047",
     "exception": false,
     "start_time": "2024-07-30T15:07:16.258495",
     "status": "completed"
    },
    "tags": []
   },
   "outputs": [],
   "source": [
    "batchSize = 200\n",
    "constrained_signals_db = f'/home/gomes/synthetic-data/constrained-signals-{batchSize}.json'"
   ]
  },
  {
   "cell_type": "markdown",
   "id": "2651cfa5",
   "metadata": {
    "papermill": {
     "duration": 0.003691,
     "end_time": "2024-07-30T15:07:16.278584",
     "exception": false,
     "start_time": "2024-07-30T15:07:16.274893",
     "status": "completed"
    },
    "tags": []
   },
   "source": [
    "### Check the ``DISSIMILARITY`` threshold"
   ]
  },
  {
   "cell_type": "code",
   "execution_count": 3,
   "id": "603437ec",
   "metadata": {
    "execution": {
     "iopub.execute_input": "2024-07-30T15:07:16.288469Z",
     "iopub.status.busy": "2024-07-30T15:07:16.287596Z"
    },
    "papermill": {
     "duration": null,
     "end_time": null,
     "exception": false,
     "start_time": "2024-07-30T15:07:16.282310",
     "status": "running"
    },
    "tags": []
   },
   "outputs": [
    {
     "name": "stderr",
     "output_type": "stream",
     "text": [
      "\r",
      "MMP-DF SparVar Pipeline from DB:   0%|                                                                                                   | 0/3200 [00:00<?, ?it/s]"
     ]
    },
    {
     "name": "stderr",
     "output_type": "stream",
     "text": [
      "\r",
      "MMP-DF SparVar Pipeline from DB:   0%|▎                                                                                         | 10/3200 [00:00<01:27, 36.59it/s]"
     ]
    },
    {
     "name": "stderr",
     "output_type": "stream",
     "text": [
      "\r",
      "MMP-DF SparVar Pipeline from DB:   0%|▎                                                                                         | 10/3200 [00:19<01:27, 36.59it/s]"
     ]
    },
    {
     "name": "stderr",
     "output_type": "stream",
     "text": [
      "\r",
      "MMP-DF SparVar Pipeline from DB:   1%|▌                                                                                       | 20/3200 [00:29<1:30:10,  1.70s/it]"
     ]
    },
    {
     "name": "stderr",
     "output_type": "stream",
     "text": [
      "\r",
      "MMP-DF SparVar Pipeline from DB:   1%|▊                                                                                       | 30/3200 [00:56<1:54:29,  2.17s/it]"
     ]
    },
    {
     "name": "stderr",
     "output_type": "stream",
     "text": [
      "\r",
      "MMP-DF SparVar Pipeline from DB:   1%|█                                                                                       | 40/3200 [01:22<2:03:52,  2.35s/it]"
     ]
    },
    {
     "name": "stderr",
     "output_type": "stream",
     "text": [
      "\r",
      "MMP-DF SparVar Pipeline from DB:   2%|█▍                                                                                      | 50/3200 [01:46<2:05:01,  2.38s/it]"
     ]
    },
    {
     "name": "stderr",
     "output_type": "stream",
     "text": [
      "\r",
      "MMP-DF SparVar Pipeline from DB:   2%|█▋                                                                                      | 60/3200 [02:38<2:53:37,  3.32s/it]"
     ]
    }
   ],
   "source": [
    "# Pipeline parameters\n",
    "NB_CORES = 10\n",
    "BRANCHES = 3\n",
    "CONNECTIONS = 3\n",
    "MAX_SPARSITY = 10\n",
    "\n",
    "DISSIMILARITY = 0.4 ## << DISSIMILARITY >>\n",
    "\n",
    "# Run pipeline\n",
    "today = get_today_date_str()\n",
    "output_mmpdf_db = f'/home/gomes/synthetic-data/borelli-mmpdf{BRANCHES}-{batchSize}.json'\n",
    "dictionary.mmpdfSparVarPipelineFromDB(constrained_signals_db, output_mmpdf_db, nb_cores=NB_CORES, connections=CONNECTIONS, dissimilarity=DISSIMILARITY, branches=BRANCHES, max_sparsity=MAX_SPARSITY, compute_time_type='global', verbose=False)"
   ]
  }
 ],
 "metadata": {
  "kernelspec": {
   "display_name": "phlamesenv",
   "language": "python",
   "name": "python3"
  },
  "language_info": {
   "codemirror_mode": {
    "name": "ipython",
    "version": 3
   },
   "file_extension": ".py",
   "mimetype": "text/x-python",
   "name": "python",
   "nbconvert_exporter": "python",
   "pygments_lexer": "ipython3",
   "version": "3.11.2"
  },
  "papermill": {
   "default_parameters": {},
   "duration": null,
   "end_time": null,
   "environment_variables": {},
   "exception": null,
   "input_path": "buildBorelliMMP3.ipynb",
   "output_path": "out_borelli_mmp3.ipynb",
   "parameters": {},
   "start_time": "2024-07-30T15:07:13.322661",
   "version": "2.6.0"
  }
 },
 "nbformat": 4,
 "nbformat_minor": 5
}