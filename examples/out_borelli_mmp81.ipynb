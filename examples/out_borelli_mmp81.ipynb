{
 "cells": [
  {
   "cell_type": "markdown",
   "id": "e34cbc86",
   "metadata": {
    "papermill": {
     "duration": 0.005623,
     "end_time": "2024-07-30T15:10:19.035132",
     "exception": false,
     "start_time": "2024-07-30T15:10:19.029509",
     "status": "completed"
    },
    "tags": []
   },
   "source": [
    "# Build SparVar MMP Database"
   ]
  },
  {
   "cell_type": "code",
   "execution_count": 1,
   "id": "240c2103",
   "metadata": {
    "execution": {
     "iopub.execute_input": "2024-07-30T15:10:19.047413Z",
     "iopub.status.busy": "2024-07-30T15:10:19.046817Z",
     "iopub.status.idle": "2024-07-30T15:10:26.417380Z",
     "shell.execute_reply": "2024-07-30T15:10:26.416196Z"
    },
    "papermill": {
     "duration": 7.379277,
     "end_time": "2024-07-30T15:10:26.419676",
     "exception": false,
     "start_time": "2024-07-30T15:10:19.040399",
     "status": "completed"
    },
    "tags": []
   },
   "outputs": [
    {
     "name": "stdout",
     "output_type": "stream",
     "text": [
      "The dictionary has 143 different atoms\n"
     ]
    }
   ],
   "source": [
    "import numpy as np\n",
    "from csc.utils import *\n",
    "from csc.atoms import *\n",
    "from csc.workbench import *\n",
    "from csc.dictionary import *\n",
    "from itertools import product\n",
    "import matplotlib.pyplot as plt\n",
    "\n",
    "# Atom parameters\n",
    "bmin = 0.005\n",
    "bmax = 0.06\n",
    "b_step = 0.005\n",
    "b_values = np.arange(bmin, bmax, b_step)\n",
    "\n",
    "ymin = 0.010\n",
    "ymax = 0.036\n",
    "y_step = 0.002\n",
    "y_values = np.arange(ymin, ymax, y_step)\n",
    "\n",
    "s_values = [1]\n",
    "\n",
    "dictionary = ZSDictionary.from_values(b_values, y_values, s_values)\n",
    "print('The dictionary has {} different atoms'.format(len(dictionary)))"
   ]
  },
  {
   "cell_type": "markdown",
   "id": "d11654d2",
   "metadata": {
    "papermill": {
     "duration": 0.002708,
     "end_time": "2024-07-30T15:10:26.425775",
     "exception": false,
     "start_time": "2024-07-30T15:10:26.423067",
     "status": "completed"
    },
    "tags": []
   },
   "source": [
    "## Build sparsity variation database\n",
    "\n",
    "#### Format :\n",
    "````\n",
    "'source' = input_filename\n",
    "'date' = get_today_date_str()\n",
    "'algorithm' = 'Convolutional MMP-DF'\n",
    "'nbBranches' = branches\n",
    "'connections' = connections\n",
    "'dissimilarity' = dissimilarity\n",
    "'maxSparsityLevel' = max_sparsity\n",
    "'batchSize' = data['batchSize']\n",
    "'snrLevels' = data['snrLevels']\n",
    "'signalLength' = data['signalLength']\n",
    "'sparsityLevels' = data['sparsityLevels']\n",
    "'dictionary' = str(self)\n",
    "'mmp' : \n",
    "    [\n",
    "        {\n",
    "            'id' : 0,\n",
    "            'snr' : snr,\n",
    "            'results' : [\n",
    "                {\n",
    "                    'mse' : #MSE,\n",
    "                    'path' : '2'\n",
    "                    'delay' : #DELAY,\n",
    "                    'atoms' : [\n",
    "                        {'x':x, 'b':b, 'y':y, 's':s}\n",
    "                        #1\n",
    "                    ]\n",
    "                },\n",
    "                ...\n",
    "                {\n",
    "                    'mse' : #MSE,\n",
    "                    'path' : '2-3-...-1'\n",
    "                    'delay' : #DELAY,\n",
    "                    'atoms' : [\n",
    "                        {'x':x, 'b':b, 'y':y, 's':s}\n",
    "                        #max_sparsity\n",
    "                    ]\n",
    "                }\n",
    "                ]\n",
    "        },\n",
    "        {\n",
    "            'id' : 1,\n",
    "            ...\n",
    "        },\n",
    "\n",
    "        ...\n",
    "\n",
    "    ]\n",
    "````"
   ]
  },
  {
   "cell_type": "code",
   "execution_count": 2,
   "id": "6e8c14a7",
   "metadata": {
    "execution": {
     "iopub.execute_input": "2024-07-30T15:10:26.434583Z",
     "iopub.status.busy": "2024-07-30T15:10:26.433250Z",
     "iopub.status.idle": "2024-07-30T15:10:26.439886Z",
     "shell.execute_reply": "2024-07-30T15:10:26.439012Z"
    },
    "papermill": {
     "duration": 0.014728,
     "end_time": "2024-07-30T15:10:26.443092",
     "exception": false,
     "start_time": "2024-07-30T15:10:26.428364",
     "status": "completed"
    },
    "tags": []
   },
   "outputs": [],
   "source": [
    "batchSize = 200\n",
    "constrained_signals_db = f'/home/gomes/synthetic-data/constrained-signals-{batchSize}.json'"
   ]
  },
  {
   "cell_type": "markdown",
   "id": "b7cabac6",
   "metadata": {
    "papermill": {
     "duration": 0.001996,
     "end_time": "2024-07-30T15:10:26.447449",
     "exception": false,
     "start_time": "2024-07-30T15:10:26.445453",
     "status": "completed"
    },
    "tags": []
   },
   "source": [
    "### Check the ``DISSIMILARITY`` threshold"
   ]
  },
  {
   "cell_type": "code",
   "execution_count": null,
   "id": "afb96cbf",
   "metadata": {
    "papermill": {
     "duration": null,
     "end_time": null,
     "exception": false,
     "start_time": "2024-07-30T15:10:26.449367",
     "status": "running"
    },
    "tags": []
   },
   "outputs": [],
   "source": [
    "# Pipeline parameters\n",
    "NB_CORES = 25\n",
    "BRANCHES = 81\n",
    "CONNECTIONS = 3\n",
    "MAX_SPARSITY = 10\n",
    "\n",
    "DISSIMILARITY = 0.4 ## << DISSIMILARITY >>\n",
    "\n",
    "# Run pipeline\n",
    "today = get_today_date_str()\n",
    "output_mmpdf_db = f'/home/gomes/synthetic-data/borelli-mmpdf{BRANCHES}-{batchSize}.json'\n",
    "dictionary.mmpdfSparVarPipelineFromDB(constrained_signals_db, output_mmpdf_db, nb_cores=NB_CORES, connections=CONNECTIONS, dissimilarity=DISSIMILARITY, branches=BRANCHES, max_sparsity=MAX_SPARSITY, compute_time_type='global', verbose=False)"
   ]
  }
 ],
 "metadata": {
  "kernelspec": {
   "display_name": "phlamesenv",
   "language": "python",
   "name": "python3"
  },
  "language_info": {
   "codemirror_mode": {
    "name": "ipython",
    "version": 3
   },
   "file_extension": ".py",
   "mimetype": "text/x-python",
   "name": "python",
   "nbconvert_exporter": "python",
   "pygments_lexer": "ipython3",
   "version": "3.11.2"
  },
  "papermill": {
   "default_parameters": {},
   "duration": null,
   "end_time": null,
   "environment_variables": {},
   "exception": null,
   "input_path": "buildBorelliMMP81.ipynb",
   "output_path": "out_borelli_mmp81.ipynb",
   "parameters": {},
   "start_time": "2024-07-30T15:10:17.295159",
   "version": "2.6.0"
  }
 },
 "nbformat": 4,
 "nbformat_minor": 5
}