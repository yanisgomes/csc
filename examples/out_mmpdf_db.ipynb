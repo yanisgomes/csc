{
 "cells": [
  {
   "cell_type": "code",
   "execution_count": 1,
   "id": "663eb6d9",
   "metadata": {
    "execution": {
     "iopub.execute_input": "2024-07-05T15:54:19.012615Z",
     "iopub.status.busy": "2024-07-05T15:54:19.012194Z",
     "iopub.status.idle": "2024-07-05T15:54:20.330867Z",
     "shell.execute_reply": "2024-07-05T15:54:20.329927Z"
    },
    "papermill": {
     "duration": 1.324508,
     "end_time": "2024-07-05T15:54:20.333797",
     "exception": false,
     "start_time": "2024-07-05T15:54:19.009289",
     "status": "completed"
    },
    "tags": []
   },
   "outputs": [
    {
     "name": "stdout",
     "output_type": "stream",
     "text": [
      "The dictionary has 143 different atoms\n"
     ]
    }
   ],
   "source": [
    "import numpy as np\n",
    "from csc.utils import *\n",
    "from csc.atoms import *\n",
    "from csc.dictionary import *\n",
    "from itertools import product\n",
    "import matplotlib.pyplot as plt\n",
    "\n",
    "# Atom parameters\n",
    "bmin = 0.005\n",
    "bmax = 0.06\n",
    "b_step = 0.005\n",
    "b_values = np.arange(bmin, bmax, b_step)\n",
    "\n",
    "ymin = 0.010\n",
    "ymax = 0.036\n",
    "y_step = 0.002\n",
    "y_values = np.arange(ymin, ymax, y_step)\n",
    "\n",
    "s_values = [1]\n",
    "\n",
    "dictionary = ZSDictionary.from_values(b_values, y_values, s_values)\n",
    "print('The dictionary has {} different atoms'.format(len(dictionary)))"
   ]
  },
  {
   "cell_type": "code",
   "execution_count": 2,
   "id": "c2a9cdd9",
   "metadata": {
    "execution": {
     "iopub.execute_input": "2024-07-05T15:54:20.341607Z",
     "iopub.status.busy": "2024-07-05T15:54:20.341082Z",
     "iopub.status.idle": "2024-07-05T15:54:20.345253Z",
     "shell.execute_reply": "2024-07-05T15:54:20.344447Z"
    },
    "papermill": {
     "duration": 0.010699,
     "end_time": "2024-07-05T15:54:20.347859",
     "exception": false,
     "start_time": "2024-07-05T15:54:20.337160",
     "status": "completed"
    },
    "tags": []
   },
   "outputs": [],
   "source": [
    "batchSize = 200\n",
    "input_signals_db = f'/home/gomes/synthetic-data/csc-signals-{batchSize}.json'\n",
    "output_mmpdf_db = f'/home/gomes/synthetic-data/csc-mmpdf-{batchSize}.json'"
   ]
  },
  {
   "cell_type": "code",
   "execution_count": 3,
   "id": "a7216d47",
   "metadata": {
    "execution": {
     "iopub.execute_input": "2024-07-05T15:54:20.354669Z",
     "iopub.status.busy": "2024-07-05T15:54:20.354454Z"
    },
    "papermill": {
     "duration": null,
     "end_time": null,
     "exception": false,
     "start_time": "2024-07-05T15:54:20.350606",
     "status": "running"
    },
    "tags": []
   },
   "outputs": [
    {
     "name": "stderr",
     "output_type": "stream",
     "text": [
      "\r",
      "MMP-DF Pipeline from DB:   0%|                                                                                                                                                        | 0/5000 [00:00<?, ?it/s]"
     ]
    },
    {
     "name": "stderr",
     "output_type": "stream",
     "text": [
      "\r",
      "MMP-DF Pipeline from DB:   1%|██                                                                                                                                             | 70/5000 [00:01<01:19, 61.65it/s]"
     ]
    },
    {
     "name": "stderr",
     "output_type": "stream",
     "text": [
      "\r",
      "MMP-DF Pipeline from DB:   3%|███▉                                                                                                                                          | 140/5000 [00:09<06:11, 13.07it/s]"
     ]
    },
    {
     "name": "stderr",
     "output_type": "stream",
     "text": [
      "\r",
      "MMP-DF Pipeline from DB:   4%|█████▉                                                                                                                                        | 210/5000 [00:19<08:35,  9.29it/s]"
     ]
    },
    {
     "name": "stderr",
     "output_type": "stream",
     "text": [
      "\r",
      "MMP-DF Pipeline from DB:   6%|███████▉                                                                                                                                      | 280/5000 [00:32<11:03,  7.12it/s]"
     ]
    },
    {
     "name": "stderr",
     "output_type": "stream",
     "text": [
      "\r",
      "MMP-DF Pipeline from DB:   7%|█████████▉                                                                                                                                    | 350/5000 [00:52<14:47,  5.24it/s]"
     ]
    },
    {
     "name": "stderr",
     "output_type": "stream",
     "text": [
      "\r",
      "MMP-DF Pipeline from DB:   8%|███████████▉                                                                                                                                  | 420/5000 [01:12<17:00,  4.49it/s]"
     ]
    },
    {
     "name": "stderr",
     "output_type": "stream",
     "text": [
      "\r",
      "MMP-DF Pipeline from DB:  10%|█████████████▉                                                                                                                                | 490/5000 [01:32<18:15,  4.12it/s]"
     ]
    },
    {
     "name": "stderr",
     "output_type": "stream",
     "text": [
      "/home/gomes/phlamesenv/lib/python3.11/site-packages/joblib/externals/loky/process_executor.py:752: UserWarning: A worker stopped while some jobs were given to the executor. This can be caused by a too short worker timeout or by a memory leak.\n",
      "  warnings.warn(\n"
     ]
    },
    {
     "name": "stderr",
     "output_type": "stream",
     "text": [
      "\r",
      "MMP-DF Pipeline from DB:  11%|███████████████▉                                                                                                                              | 560/5000 [02:13<26:09,  2.83it/s]"
     ]
    },
    {
     "name": "stderr",
     "output_type": "stream",
     "text": [
      "\r",
      "MMP-DF Pipeline from DB:  13%|█████████████████▉                                                                                                                            | 630/5000 [02:41<26:42,  2.73it/s]"
     ]
    },
    {
     "name": "stderr",
     "output_type": "stream",
     "text": [
      "\r",
      "MMP-DF Pipeline from DB:  14%|███████████████████▉                                                                                                                          | 700/5000 [03:06<26:08,  2.74it/s]"
     ]
    },
    {
     "name": "stderr",
     "output_type": "stream",
     "text": [
      "\r",
      "MMP-DF Pipeline from DB:  15%|█████████████████████▊                                                                                                                        | 770/5000 [03:57<33:24,  2.11it/s]"
     ]
    },
    {
     "name": "stderr",
     "output_type": "stream",
     "text": [
      "\r",
      "MMP-DF Pipeline from DB:  17%|███████████████████████▊                                                                                                                      | 840/5000 [04:43<36:47,  1.88it/s]"
     ]
    },
    {
     "name": "stderr",
     "output_type": "stream",
     "text": [
      "\r",
      "MMP-DF Pipeline from DB:  18%|█████████████████████████▊                                                                                                                    | 910/5000 [05:28<38:34,  1.77it/s]"
     ]
    },
    {
     "name": "stderr",
     "output_type": "stream",
     "text": [
      "\r",
      "MMP-DF Pipeline from DB:  20%|███████████████████████████▊                                                                                                                  | 980/5000 [06:30<44:17,  1.51it/s]"
     ]
    },
    {
     "name": "stderr",
     "output_type": "stream",
     "text": [
      "\r",
      "MMP-DF Pipeline from DB:  21%|█████████████████████████████▌                                                                                                               | 1050/5000 [07:29<47:11,  1.40it/s]"
     ]
    },
    {
     "name": "stderr",
     "output_type": "stream",
     "text": [
      "\r",
      "MMP-DF Pipeline from DB:  22%|███████████████████████████████▌                                                                                                             | 1120/5000 [08:10<43:48,  1.48it/s]"
     ]
    },
    {
     "name": "stderr",
     "output_type": "stream",
     "text": [
      "\r",
      "MMP-DF Pipeline from DB:  24%|█████████████████████████████████▌                                                                                                           | 1190/5000 [08:27<34:44,  1.83it/s]"
     ]
    },
    {
     "name": "stderr",
     "output_type": "stream",
     "text": [
      "\r",
      "MMP-DF Pipeline from DB:  25%|███████████████████████████████████▌                                                                                                         | 1260/5000 [08:41<27:33,  2.26it/s]"
     ]
    },
    {
     "name": "stderr",
     "output_type": "stream",
     "text": [
      "\r",
      "MMP-DF Pipeline from DB:  27%|█████████████████████████████████████▌                                                                                                       | 1330/5000 [08:51<21:38,  2.83it/s]"
     ]
    },
    {
     "name": "stderr",
     "output_type": "stream",
     "text": [
      "\r",
      "MMP-DF Pipeline from DB:  28%|███████████████████████████████████████▍                                                                                                     | 1400/5000 [09:19<22:04,  2.72it/s]"
     ]
    },
    {
     "name": "stderr",
     "output_type": "stream",
     "text": [
      "\r",
      "MMP-DF Pipeline from DB:  29%|█████████████████████████████████████████▍                                                                                                   | 1470/5000 [09:41<20:31,  2.87it/s]"
     ]
    },
    {
     "name": "stderr",
     "output_type": "stream",
     "text": [
      "\r",
      "MMP-DF Pipeline from DB:  31%|███████████████████████████████████████████▍                                                                                                 | 1540/5000 [10:07<20:40,  2.79it/s]"
     ]
    },
    {
     "name": "stderr",
     "output_type": "stream",
     "text": [
      "\r",
      "MMP-DF Pipeline from DB:  32%|█████████████████████████████████████████████▍                                                                                               | 1610/5000 [10:44<23:05,  2.45it/s]"
     ]
    },
    {
     "name": "stderr",
     "output_type": "stream",
     "text": [
      "\r",
      "MMP-DF Pipeline from DB:  34%|███████████████████████████████████████████████▍                                                                                             | 1680/5000 [11:19<24:11,  2.29it/s]"
     ]
    },
    {
     "name": "stderr",
     "output_type": "stream",
     "text": [
      "\r",
      "MMP-DF Pipeline from DB:  35%|█████████████████████████████████████████████████▎                                                                                           | 1750/5000 [12:07<27:43,  1.95it/s]"
     ]
    },
    {
     "name": "stderr",
     "output_type": "stream",
     "text": [
      "\r",
      "MMP-DF Pipeline from DB:  36%|███████████████████████████████████████████████████▎                                                                                         | 1820/5000 [12:51<28:57,  1.83it/s]"
     ]
    }
   ],
   "source": [
    "dictionary.mmpdfPipelineFromDB(input_signals_db, output_mmpdf_db, nb_cores=70, connections=3, branches=27, verbose=False)"
   ]
  }
 ],
 "metadata": {
  "kernelspec": {
   "display_name": "phlamesenv",
   "language": "python",
   "name": "python3"
  },
  "language_info": {
   "codemirror_mode": {
    "name": "ipython",
    "version": 3
   },
   "file_extension": ".py",
   "mimetype": "text/x-python",
   "name": "python",
   "nbconvert_exporter": "python",
   "pygments_lexer": "ipython3",
   "version": "3.11.2"
  },
  "papermill": {
   "default_parameters": {},
   "duration": null,
   "end_time": null,
   "environment_variables": {},
   "exception": null,
   "input_path": "build_mmpdf_db.ipynb",
   "output_path": "out_mmpdf_db.ipynb",
   "parameters": {},
   "start_time": "2024-07-05T15:54:18.160652",
   "version": "2.6.0"
  }
 },
 "nbformat": 4,
 "nbformat_minor": 5
}