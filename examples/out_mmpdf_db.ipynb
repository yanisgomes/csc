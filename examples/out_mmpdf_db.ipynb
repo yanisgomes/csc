{
 "cells": [
  {
   "cell_type": "code",
   "execution_count": 1,
   "id": "663eb6d9",
   "metadata": {
    "execution": {
     "iopub.execute_input": "2024-07-05T15:54:19.012615Z",
     "iopub.status.busy": "2024-07-05T15:54:19.012194Z",
     "iopub.status.idle": "2024-07-05T15:54:20.330867Z",
     "shell.execute_reply": "2024-07-05T15:54:20.329927Z"
    },
    "papermill": {
     "duration": 1.324508,
     "end_time": "2024-07-05T15:54:20.333797",
     "exception": false,
     "start_time": "2024-07-05T15:54:19.009289",
     "status": "completed"
    },
    "tags": []
   },
   "outputs": [
    {
     "name": "stdout",
     "output_type": "stream",
     "text": [
      "The dictionary has 143 different atoms\n"
     ]
    }
   ],
   "source": [
    "import numpy as np\n",
    "from csc.utils import *\n",
    "from csc.atoms import *\n",
    "from csc.dictionary import *\n",
    "from itertools import product\n",
    "import matplotlib.pyplot as plt\n",
    "\n",
    "# Atom parameters\n",
    "bmin = 0.005\n",
    "bmax = 0.06\n",
    "b_step = 0.005\n",
    "b_values = np.arange(bmin, bmax, b_step)\n",
    "\n",
    "ymin = 0.010\n",
    "ymax = 0.036\n",
    "y_step = 0.002\n",
    "y_values = np.arange(ymin, ymax, y_step)\n",
    "\n",
    "s_values = [1]\n",
    "\n",
    "dictionary = ZSDictionary.from_values(b_values, y_values, s_values)\n",
    "print('The dictionary has {} different atoms'.format(len(dictionary)))"
   ]
  },
  {
   "cell_type": "code",
   "execution_count": 2,
   "id": "c2a9cdd9",
   "metadata": {
    "execution": {
     "iopub.execute_input": "2024-07-05T15:54:20.341607Z",
     "iopub.status.busy": "2024-07-05T15:54:20.341082Z",
     "iopub.status.idle": "2024-07-05T15:54:20.345253Z",
     "shell.execute_reply": "2024-07-05T15:54:20.344447Z"
    },
    "papermill": {
     "duration": 0.010699,
     "end_time": "2024-07-05T15:54:20.347859",
     "exception": false,
     "start_time": "2024-07-05T15:54:20.337160",
     "status": "completed"
    },
    "tags": []
   },
   "outputs": [],
   "source": [
    "batchSize = 200\n",
    "input_signals_db = f'/home/gomes/synthetic-data/csc-signals-{batchSize}.json'\n",
    "output_mmpdf_db = f'/home/gomes/synthetic-data/csc-mmpdf-{batchSize}.json'"
   ]
  },
  {
   "cell_type": "code",
   "execution_count": 3,
   "id": "a7216d47",
   "metadata": {
    "execution": {
     "iopub.execute_input": "2024-07-05T15:54:20.354669Z",
     "iopub.status.busy": "2024-07-05T15:54:20.354454Z",
     "iopub.status.idle": "2024-07-05T16:35:18.016069Z",
     "shell.execute_reply": "2024-07-05T16:35:18.014109Z"
    },
    "papermill": {
     "duration": 2457.669749,
     "end_time": "2024-07-05T16:35:18.020355",
     "exception": false,
     "start_time": "2024-07-05T15:54:20.350606",
     "status": "completed"
    },
    "tags": []
   },
   "outputs": [
    {
     "name": "stderr",
     "output_type": "stream",
     "text": [
      "\r",
      "MMP-DF Pipeline from DB:   0%|                                                                                                                                                        | 0/5000 [00:00<?, ?it/s]"
     ]
    },
    {
     "name": "stderr",
     "output_type": "stream",
     "text": [
      "\r",
      "MMP-DF Pipeline from DB:   1%|██                                                                                                                                             | 70/5000 [00:01<01:19, 61.65it/s]"
     ]
    },
    {
     "name": "stderr",
     "output_type": "stream",
     "text": [
      "\r",
      "MMP-DF Pipeline from DB:   3%|███▉                                                                                                                                          | 140/5000 [00:09<06:11, 13.07it/s]"
     ]
    },
    {
     "name": "stderr",
     "output_type": "stream",
     "text": [
      "\r",
      "MMP-DF Pipeline from DB:   4%|█████▉                                                                                                                                        | 210/5000 [00:19<08:35,  9.29it/s]"
     ]
    },
    {
     "name": "stderr",
     "output_type": "stream",
     "text": [
      "\r",
      "MMP-DF Pipeline from DB:   6%|███████▉                                                                                                                                      | 280/5000 [00:32<11:03,  7.12it/s]"
     ]
    },
    {
     "name": "stderr",
     "output_type": "stream",
     "text": [
      "\r",
      "MMP-DF Pipeline from DB:   7%|█████████▉                                                                                                                                    | 350/5000 [00:52<14:47,  5.24it/s]"
     ]
    },
    {
     "name": "stderr",
     "output_type": "stream",
     "text": [
      "\r",
      "MMP-DF Pipeline from DB:   8%|███████████▉                                                                                                                                  | 420/5000 [01:12<17:00,  4.49it/s]"
     ]
    },
    {
     "name": "stderr",
     "output_type": "stream",
     "text": [
      "\r",
      "MMP-DF Pipeline from DB:  10%|█████████████▉                                                                                                                                | 490/5000 [01:32<18:15,  4.12it/s]"
     ]
    },
    {
     "name": "stderr",
     "output_type": "stream",
     "text": [
      "/home/gomes/phlamesenv/lib/python3.11/site-packages/joblib/externals/loky/process_executor.py:752: UserWarning: A worker stopped while some jobs were given to the executor. This can be caused by a too short worker timeout or by a memory leak.\n",
      "  warnings.warn(\n"
     ]
    },
    {
     "name": "stderr",
     "output_type": "stream",
     "text": [
      "\r",
      "MMP-DF Pipeline from DB:  11%|███████████████▉                                                                                                                              | 560/5000 [02:13<26:09,  2.83it/s]"
     ]
    },
    {
     "name": "stderr",
     "output_type": "stream",
     "text": [
      "\r",
      "MMP-DF Pipeline from DB:  13%|█████████████████▉                                                                                                                            | 630/5000 [02:41<26:42,  2.73it/s]"
     ]
    },
    {
     "name": "stderr",
     "output_type": "stream",
     "text": [
      "\r",
      "MMP-DF Pipeline from DB:  14%|███████████████████▉                                                                                                                          | 700/5000 [03:06<26:08,  2.74it/s]"
     ]
    },
    {
     "name": "stderr",
     "output_type": "stream",
     "text": [
      "\r",
      "MMP-DF Pipeline from DB:  15%|█████████████████████▊                                                                                                                        | 770/5000 [03:57<33:24,  2.11it/s]"
     ]
    },
    {
     "name": "stderr",
     "output_type": "stream",
     "text": [
      "\r",
      "MMP-DF Pipeline from DB:  17%|███████████████████████▊                                                                                                                      | 840/5000 [04:43<36:47,  1.88it/s]"
     ]
    },
    {
     "name": "stderr",
     "output_type": "stream",
     "text": [
      "\r",
      "MMP-DF Pipeline from DB:  18%|█████████████████████████▊                                                                                                                    | 910/5000 [05:28<38:34,  1.77it/s]"
     ]
    },
    {
     "name": "stderr",
     "output_type": "stream",
     "text": [
      "\r",
      "MMP-DF Pipeline from DB:  20%|███████████████████████████▊                                                                                                                  | 980/5000 [06:30<44:17,  1.51it/s]"
     ]
    },
    {
     "name": "stderr",
     "output_type": "stream",
     "text": [
      "\r",
      "MMP-DF Pipeline from DB:  21%|█████████████████████████████▌                                                                                                               | 1050/5000 [07:29<47:11,  1.40it/s]"
     ]
    },
    {
     "name": "stderr",
     "output_type": "stream",
     "text": [
      "\r",
      "MMP-DF Pipeline from DB:  22%|███████████████████████████████▌                                                                                                             | 1120/5000 [08:10<43:48,  1.48it/s]"
     ]
    },
    {
     "name": "stderr",
     "output_type": "stream",
     "text": [
      "\r",
      "MMP-DF Pipeline from DB:  24%|█████████████████████████████████▌                                                                                                           | 1190/5000 [08:27<34:44,  1.83it/s]"
     ]
    },
    {
     "name": "stderr",
     "output_type": "stream",
     "text": [
      "\r",
      "MMP-DF Pipeline from DB:  25%|███████████████████████████████████▌                                                                                                         | 1260/5000 [08:41<27:33,  2.26it/s]"
     ]
    },
    {
     "name": "stderr",
     "output_type": "stream",
     "text": [
      "\r",
      "MMP-DF Pipeline from DB:  27%|█████████████████████████████████████▌                                                                                                       | 1330/5000 [08:51<21:38,  2.83it/s]"
     ]
    },
    {
     "name": "stderr",
     "output_type": "stream",
     "text": [
      "\r",
      "MMP-DF Pipeline from DB:  28%|███████████████████████████████████████▍                                                                                                     | 1400/5000 [09:19<22:04,  2.72it/s]"
     ]
    },
    {
     "name": "stderr",
     "output_type": "stream",
     "text": [
      "\r",
      "MMP-DF Pipeline from DB:  29%|█████████████████████████████████████████▍                                                                                                   | 1470/5000 [09:41<20:31,  2.87it/s]"
     ]
    },
    {
     "name": "stderr",
     "output_type": "stream",
     "text": [
      "\r",
      "MMP-DF Pipeline from DB:  31%|███████████████████████████████████████████▍                                                                                                 | 1540/5000 [10:07<20:40,  2.79it/s]"
     ]
    },
    {
     "name": "stderr",
     "output_type": "stream",
     "text": [
      "\r",
      "MMP-DF Pipeline from DB:  32%|█████████████████████████████████████████████▍                                                                                               | 1610/5000 [10:44<23:05,  2.45it/s]"
     ]
    },
    {
     "name": "stderr",
     "output_type": "stream",
     "text": [
      "\r",
      "MMP-DF Pipeline from DB:  34%|███████████████████████████████████████████████▍                                                                                             | 1680/5000 [11:19<24:11,  2.29it/s]"
     ]
    },
    {
     "name": "stderr",
     "output_type": "stream",
     "text": [
      "\r",
      "MMP-DF Pipeline from DB:  35%|█████████████████████████████████████████████████▎                                                                                           | 1750/5000 [12:07<27:43,  1.95it/s]"
     ]
    },
    {
     "name": "stderr",
     "output_type": "stream",
     "text": [
      "\r",
      "MMP-DF Pipeline from DB:  36%|███████████████████████████████████████████████████▎                                                                                         | 1820/5000 [12:51<28:57,  1.83it/s]"
     ]
    },
    {
     "name": "stderr",
     "output_type": "stream",
     "text": [
      "\r",
      "MMP-DF Pipeline from DB:  38%|█████████████████████████████████████████████████████▎                                                                                       | 1890/5000 [13:39<30:29,  1.70it/s]"
     ]
    },
    {
     "name": "stderr",
     "output_type": "stream",
     "text": [
      "\r",
      "MMP-DF Pipeline from DB:  39%|███████████████████████████████████████████████████████▎                                                                                     | 1960/5000 [14:42<34:26,  1.47it/s]"
     ]
    },
    {
     "name": "stderr",
     "output_type": "stream",
     "text": [
      "\r",
      "MMP-DF Pipeline from DB:  41%|█████████████████████████████████████████████████████████▏                                                                                   | 2030/5000 [15:36<35:04,  1.41it/s]"
     ]
    },
    {
     "name": "stderr",
     "output_type": "stream",
     "text": [
      "\r",
      "MMP-DF Pipeline from DB:  42%|███████████████████████████████████████████████████████████▏                                                                                 | 2100/5000 [16:31<35:16,  1.37it/s]"
     ]
    },
    {
     "name": "stderr",
     "output_type": "stream",
     "text": [
      "\r",
      "MMP-DF Pipeline from DB:  43%|█████████████████████████████████████████████████████████████▏                                                                               | 2170/5000 [16:51<28:11,  1.67it/s]"
     ]
    },
    {
     "name": "stderr",
     "output_type": "stream",
     "text": [
      "\r",
      "MMP-DF Pipeline from DB:  45%|███████████████████████████████████████████████████████████████▏                                                                             | 2240/5000 [17:08<22:36,  2.03it/s]"
     ]
    },
    {
     "name": "stderr",
     "output_type": "stream",
     "text": [
      "\r",
      "MMP-DF Pipeline from DB:  46%|█████████████████████████████████████████████████████████████████▏                                                                           | 2310/5000 [17:20<17:39,  2.54it/s]"
     ]
    },
    {
     "name": "stderr",
     "output_type": "stream",
     "text": [
      "\r",
      "MMP-DF Pipeline from DB:  48%|███████████████████████████████████████████████████████████████████                                                                          | 2380/5000 [17:40<15:45,  2.77it/s]"
     ]
    },
    {
     "name": "stderr",
     "output_type": "stream",
     "text": [
      "\r",
      "MMP-DF Pipeline from DB:  49%|█████████████████████████████████████████████████████████████████████                                                                        | 2450/5000 [18:02<14:45,  2.88it/s]"
     ]
    },
    {
     "name": "stderr",
     "output_type": "stream",
     "text": [
      "\r",
      "MMP-DF Pipeline from DB:  50%|███████████████████████████████████████████████████████████████████████                                                                      | 2520/5000 [18:24<13:57,  2.96it/s]"
     ]
    },
    {
     "name": "stderr",
     "output_type": "stream",
     "text": [
      "\r",
      "MMP-DF Pipeline from DB:  52%|█████████████████████████████████████████████████████████████████████████                                                                    | 2590/5000 [18:56<15:04,  2.66it/s]"
     ]
    },
    {
     "name": "stderr",
     "output_type": "stream",
     "text": [
      "\r",
      "MMP-DF Pipeline from DB:  53%|███████████████████████████████████████████████████████████████████████████                                                                  | 2660/5000 [19:30<15:52,  2.46it/s]"
     ]
    },
    {
     "name": "stderr",
     "output_type": "stream",
     "text": [
      "\r",
      "MMP-DF Pipeline from DB:  55%|████████████████████████████████████████████████████████████████████████████▉                                                                | 2730/5000 [20:02<16:03,  2.36it/s]"
     ]
    },
    {
     "name": "stderr",
     "output_type": "stream",
     "text": [
      "\r",
      "MMP-DF Pipeline from DB:  56%|██████████████████████████████████████████████████████████████████████████████▉                                                              | 2800/5000 [20:50<18:20,  2.00it/s]"
     ]
    },
    {
     "name": "stderr",
     "output_type": "stream",
     "text": [
      "\r",
      "MMP-DF Pipeline from DB:  57%|████████████████████████████████████████████████████████████████████████████████▉                                                            | 2870/5000 [21:33<19:02,  1.86it/s]"
     ]
    },
    {
     "name": "stderr",
     "output_type": "stream",
     "text": [
      "\r",
      "MMP-DF Pipeline from DB:  59%|██████████████████████████████████████████████████████████████████████████████████▉                                                          | 2940/5000 [22:22<20:07,  1.71it/s]"
     ]
    },
    {
     "name": "stderr",
     "output_type": "stream",
     "text": [
      "\r",
      "MMP-DF Pipeline from DB:  60%|████████████████████████████████████████████████████████████████████████████████████▉                                                        | 3010/5000 [23:24<22:21,  1.48it/s]"
     ]
    },
    {
     "name": "stderr",
     "output_type": "stream",
     "text": [
      "\r",
      "MMP-DF Pipeline from DB:  62%|██████████████████████████████████████████████████████████████████████████████████████▊                                                      | 3080/5000 [24:26<23:34,  1.36it/s]"
     ]
    },
    {
     "name": "stderr",
     "output_type": "stream",
     "text": [
      "\r",
      "MMP-DF Pipeline from DB:  63%|████████████████████████████████████████████████████████████████████████████████████████▊                                                    | 3150/5000 [24:48<18:47,  1.64it/s]"
     ]
    },
    {
     "name": "stderr",
     "output_type": "stream",
     "text": [
      "\r",
      "MMP-DF Pipeline from DB:  64%|██████████████████████████████████████████████████████████████████████████████████████████▊                                                  | 3220/5000 [25:03<14:32,  2.04it/s]"
     ]
    },
    {
     "name": "stderr",
     "output_type": "stream",
     "text": [
      "\r",
      "MMP-DF Pipeline from DB:  66%|████████████████████████████████████████████████████████████████████████████████████████████▊                                                | 3290/5000 [25:14<11:08,  2.56it/s]"
     ]
    },
    {
     "name": "stderr",
     "output_type": "stream",
     "text": [
      "\r",
      "MMP-DF Pipeline from DB:  67%|██████████████████████████████████████████████████████████████████████████████████████████████▊                                              | 3360/5000 [25:35<10:01,  2.73it/s]"
     ]
    },
    {
     "name": "stderr",
     "output_type": "stream",
     "text": [
      "\r",
      "MMP-DF Pipeline from DB:  69%|████████████████████████████████████████████████████████████████████████████████████████████████▋                                            | 3430/5000 [25:56<08:59,  2.91it/s]"
     ]
    },
    {
     "name": "stderr",
     "output_type": "stream",
     "text": [
      "\r",
      "MMP-DF Pipeline from DB:  70%|██████████████████████████████████████████████████████████████████████████████████████████████████▋                                          | 3500/5000 [26:15<08:04,  3.10it/s]"
     ]
    },
    {
     "name": "stderr",
     "output_type": "stream",
     "text": [
      "\r",
      "MMP-DF Pipeline from DB:  71%|████████████████████████████████████████████████████████████████████████████████████████████████████▋                                        | 3570/5000 [26:47<08:37,  2.77it/s]"
     ]
    },
    {
     "name": "stderr",
     "output_type": "stream",
     "text": [
      "\r",
      "MMP-DF Pipeline from DB:  73%|██████████████████████████████████████████████████████████████████████████████████████████████████████▋                                      | 3640/5000 [27:19<08:53,  2.55it/s]"
     ]
    },
    {
     "name": "stderr",
     "output_type": "stream",
     "text": [
      "\r",
      "MMP-DF Pipeline from DB:  74%|████████████████████████████████████████████████████████████████████████████████████████████████████████▌                                    | 3710/5000 [27:49<08:39,  2.48it/s]"
     ]
    },
    {
     "name": "stderr",
     "output_type": "stream",
     "text": [
      "\r",
      "MMP-DF Pipeline from DB:  76%|██████████████████████████████████████████████████████████████████████████████████████████████████████████▌                                  | 3780/5000 [28:33<09:36,  2.12it/s]"
     ]
    },
    {
     "name": "stderr",
     "output_type": "stream",
     "text": [
      "\r",
      "MMP-DF Pipeline from DB:  77%|████████████████████████████████████████████████████████████████████████████████████████████████████████████▌                                | 3850/5000 [29:16<09:49,  1.95it/s]"
     ]
    },
    {
     "name": "stderr",
     "output_type": "stream",
     "text": [
      "\r",
      "MMP-DF Pipeline from DB:  78%|██████████████████████████████████████████████████████████████████████████████████████████████████████████████▌                              | 3920/5000 [30:02<10:03,  1.79it/s]"
     ]
    },
    {
     "name": "stderr",
     "output_type": "stream",
     "text": [
      "\r",
      "MMP-DF Pipeline from DB:  80%|████████████████████████████████████████████████████████████████████████████████████████████████████████████████▌                            | 3990/5000 [31:04<11:00,  1.53it/s]"
     ]
    },
    {
     "name": "stderr",
     "output_type": "stream",
     "text": [
      "\r",
      "MMP-DF Pipeline from DB:  81%|██████████████████████████████████████████████████████████████████████████████████████████████████████████████████▍                          | 4060/5000 [32:06<11:23,  1.38it/s]"
     ]
    },
    {
     "name": "stderr",
     "output_type": "stream",
     "text": [
      "\r",
      "MMP-DF Pipeline from DB:  83%|████████████████████████████████████████████████████████████████████████████████████████████████████████████████████▍                        | 4130/5000 [32:44<09:41,  1.50it/s]"
     ]
    },
    {
     "name": "stderr",
     "output_type": "stream",
     "text": [
      "\r",
      "MMP-DF Pipeline from DB:  84%|██████████████████████████████████████████████████████████████████████████████████████████████████████████████████████▍                      | 4200/5000 [32:58<07:01,  1.90it/s]"
     ]
    },
    {
     "name": "stderr",
     "output_type": "stream",
     "text": [
      "\r",
      "MMP-DF Pipeline from DB:  85%|████████████████████████████████████████████████████████████████████████████████████████████████████████████████████████▍                    | 4270/5000 [33:10<05:07,  2.37it/s]"
     ]
    },
    {
     "name": "stderr",
     "output_type": "stream",
     "text": [
      "\r",
      "MMP-DF Pipeline from DB:  87%|██████████████████████████████████████████████████████████████████████████████████████████████████████████████████████████▍                  | 4340/5000 [33:25<03:56,  2.79it/s]"
     ]
    },
    {
     "name": "stderr",
     "output_type": "stream",
     "text": [
      "\r",
      "MMP-DF Pipeline from DB:  88%|████████████████████████████████████████████████████████████████████████████████████████████████████████████████████████████▎                | 4410/5000 [33:45<03:19,  2.95it/s]"
     ]
    },
    {
     "name": "stderr",
     "output_type": "stream",
     "text": [
      "\r",
      "MMP-DF Pipeline from DB:  90%|██████████████████████████████████████████████████████████████████████████████████████████████████████████████████████████████▎              | 4480/5000 [34:07<02:51,  3.03it/s]"
     ]
    },
    {
     "name": "stderr",
     "output_type": "stream",
     "text": [
      "\r",
      "MMP-DF Pipeline from DB:  91%|████████████████████████████████████████████████████████████████████████████████████████████████████████████████████████████████▎            | 4550/5000 [34:37<02:43,  2.76it/s]"
     ]
    },
    {
     "name": "stderr",
     "output_type": "stream",
     "text": [
      "\r",
      "MMP-DF Pipeline from DB:  92%|██████████████████████████████████████████████████████████████████████████████████████████████████████████████████████████████████▎          | 4620/5000 [35:08<02:26,  2.60it/s]"
     ]
    },
    {
     "name": "stderr",
     "output_type": "stream",
     "text": [
      "\r",
      "MMP-DF Pipeline from DB:  94%|████████████████████████████████████████████████████████████████████████████████████████████████████████████████████████████████████▎        | 4690/5000 [35:38<02:03,  2.50it/s]"
     ]
    },
    {
     "name": "stderr",
     "output_type": "stream",
     "text": [
      "\r",
      "MMP-DF Pipeline from DB:  95%|██████████████████████████████████████████████████████████████████████████████████████████████████████████████████████████████████████▏      | 4760/5000 [36:23<01:53,  2.12it/s]"
     ]
    },
    {
     "name": "stderr",
     "output_type": "stream",
     "text": [
      "\r",
      "MMP-DF Pipeline from DB:  97%|████████████████████████████████████████████████████████████████████████████████████████████████████████████████████████████████████████▏    | 4830/5000 [37:04<01:25,  1.98it/s]"
     ]
    },
    {
     "name": "stderr",
     "output_type": "stream",
     "text": [
      "\r",
      "MMP-DF Pipeline from DB:  98%|██████████████████████████████████████████████████████████████████████████████████████████████████████████████████████████████████████████▏  | 4900/5000 [37:51<00:55,  1.80it/s]"
     ]
    },
    {
     "name": "stderr",
     "output_type": "stream",
     "text": [
      "\r",
      "MMP-DF Pipeline from DB:  99%|████████████████████████████████████████████████████████████████████████████████████████████████████████████████████████████████████████████▏| 4970/5000 [38:52<00:19,  1.54it/s]"
     ]
    },
    {
     "name": "stderr",
     "output_type": "stream",
     "text": [
      "\r",
      "MMP-DF Pipeline from DB: 100%|█████████████████████████████████████████████████████████████████████████████████████████████████████████████████████████████████████████████| 5000/5000 [38:52<00:00,  2.14it/s]"
     ]
    },
    {
     "name": "stderr",
     "output_type": "stream",
     "text": [
      "\n"
     ]
    }
   ],
   "source": [
    "dictionary.mmpdfPipelineFromDB(input_signals_db, output_mmpdf_db, nb_cores=70, connections=3, branches=27, verbose=False)"
   ]
  }
 ],
 "metadata": {
  "kernelspec": {
   "display_name": "phlamesenv",
   "language": "python",
   "name": "python3"
  },
  "language_info": {
   "codemirror_mode": {
    "name": "ipython",
    "version": 3
   },
   "file_extension": ".py",
   "mimetype": "text/x-python",
   "name": "python",
   "nbconvert_exporter": "python",
   "pygments_lexer": "ipython3",
   "version": "3.11.2"
  },
  "papermill": {
   "default_parameters": {},
   "duration": 2462.50722,
   "end_time": "2024-07-05T16:35:20.667872",
   "environment_variables": {},
   "exception": null,
   "input_path": "build_mmpdf_db.ipynb",
   "output_path": "out_mmpdf_db.ipynb",
   "parameters": {},
   "start_time": "2024-07-05T15:54:18.160652",
   "version": "2.6.0"
  }
 },
 "nbformat": 4,
 "nbformat_minor": 5
}