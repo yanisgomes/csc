{
 "cells": [
  {
   "cell_type": "code",
   "execution_count": 1,
   "metadata": {},
   "outputs": [
    {
     "name": "stdout",
     "output_type": "stream",
     "text": [
      "The dictionary has 1428 different atoms\n"
     ]
    }
   ],
   "source": [
    "import json\n",
    "import numpy as np\n",
    "from tqdm import tqdm\n",
    "from csc.utils import *\n",
    "from csc.atoms import *\n",
    "from csc.dictionary import *\n",
    "from itertools import product\n",
    "import matplotlib.pyplot as plt\n",
    "\n",
    "\n",
    "# Atom parameters\n",
    "bmin = 0.005\n",
    "bmax = 0.60\n",
    "b_step = 0.005\n",
    "b_values = np.arange(bmin, bmax, b_step)\n",
    "\n",
    "ymin = 0.01\n",
    "ymax = 0.034\n",
    "y_step = 0.002\n",
    "y_values = np.arange(ymin, ymax, y_step)\n",
    "\n",
    "s_values = [1]\n",
    "\n",
    "dictionary = ZSDictionary.from_values(b_values, y_values, s_values)\n",
    "print('The dictionary has {} different atoms'.format(len(dictionary)))"
   ]
  },
  {
   "cell_type": "code",
   "execution_count": 4,
   "metadata": {},
   "outputs": [
    {
     "name": "stdout",
     "output_type": "stream",
     "text": [
      "The input database has 3000 signals\n"
     ]
    }
   ],
   "source": [
    "path_to_db = '/home/gomes/synthetic-data/signals_db200.json'\n",
    "with open(path_to_db, 'r') as f:\n",
    "    signals_db = json.load(f)\n",
    "print('The input database has {} signals'.format(len(signals_db)))"
   ]
  },
  {
   "cell_type": "code",
   "execution_count": 3,
   "metadata": {},
   "outputs": [
    {
     "name": "stderr",
     "output_type": "stream",
     "text": [
      "Processing signals:   0%|          | 0/15 [00:00<?, ?it/s]"
     ]
    },
    {
     "name": "stdout",
     "output_type": "stream",
     "text": [
      "OMP 1/3\n",
      "OMP 2/3\n",
      "OMP 3/3\n"
     ]
    },
    {
     "name": "stderr",
     "output_type": "stream",
     "text": [
      "Processing signals:   7%|▋         | 1/15 [00:17<04:02, 17.29s/it]"
     ]
    },
    {
     "name": "stdout",
     "output_type": "stream",
     "text": [
      "OMP 1/4\n",
      "OMP 2/4\n",
      "OMP 3/4\n",
      "OMP 4/4\n"
     ]
    },
    {
     "name": "stderr",
     "output_type": "stream",
     "text": [
      "Processing signals:  13%|█▎        | 2/15 [00:42<04:42, 21.71s/it]"
     ]
    },
    {
     "name": "stdout",
     "output_type": "stream",
     "text": [
      "OMP 1/5\n",
      "OMP 2/5\n",
      "OMP 3/5\n",
      "OMP 4/5\n",
      "OMP 5/5\n"
     ]
    },
    {
     "name": "stderr",
     "output_type": "stream",
     "text": [
      "Processing signals:  20%|██        | 3/15 [01:10<04:54, 24.55s/it]"
     ]
    },
    {
     "name": "stdout",
     "output_type": "stream",
     "text": [
      "OMP 1/3\n",
      "OMP 2/3\n",
      "OMP 3/3\n"
     ]
    },
    {
     "name": "stderr",
     "output_type": "stream",
     "text": [
      "Processing signals:  27%|██▋       | 4/15 [01:24<03:44, 20.42s/it]"
     ]
    },
    {
     "name": "stdout",
     "output_type": "stream",
     "text": [
      "OMP 1/4\n",
      "OMP 2/4\n",
      "OMP 3/4\n",
      "OMP 4/4\n"
     ]
    },
    {
     "name": "stderr",
     "output_type": "stream",
     "text": [
      "Processing signals:  33%|███▎      | 5/15 [01:48<03:38, 21.87s/it]"
     ]
    },
    {
     "name": "stdout",
     "output_type": "stream",
     "text": [
      "OMP 1/5\n",
      "OMP 2/5\n",
      "OMP 3/5\n",
      "OMP 4/5\n",
      "OMP 5/5\n"
     ]
    },
    {
     "name": "stderr",
     "output_type": "stream",
     "text": [
      "Processing signals:  40%|████      | 6/15 [02:25<04:04, 27.15s/it]"
     ]
    },
    {
     "name": "stdout",
     "output_type": "stream",
     "text": [
      "OMP 1/3\n",
      "OMP 2/3\n",
      "OMP 3/3\n"
     ]
    },
    {
     "name": "stderr",
     "output_type": "stream",
     "text": [
      "Processing signals:  47%|████▋     | 7/15 [02:48<03:24, 25.56s/it]"
     ]
    },
    {
     "name": "stdout",
     "output_type": "stream",
     "text": [
      "OMP 1/4\n",
      "OMP 2/4\n",
      "OMP 3/4\n",
      "OMP 4/4\n"
     ]
    },
    {
     "name": "stderr",
     "output_type": "stream",
     "text": [
      "Processing signals:  53%|█████▎    | 8/15 [03:17<03:06, 26.68s/it]"
     ]
    },
    {
     "name": "stdout",
     "output_type": "stream",
     "text": [
      "OMP 1/5\n",
      "OMP 2/5\n",
      "OMP 3/5\n",
      "OMP 4/5\n",
      "OMP 5/5\n"
     ]
    },
    {
     "name": "stderr",
     "output_type": "stream",
     "text": [
      "Processing signals:  60%|██████    | 9/15 [04:00<03:10, 31.75s/it]"
     ]
    },
    {
     "name": "stdout",
     "output_type": "stream",
     "text": [
      "OMP 1/3\n",
      "OMP 2/3\n",
      "OMP 3/3\n"
     ]
    },
    {
     "name": "stderr",
     "output_type": "stream",
     "text": [
      "Processing signals:  67%|██████▋   | 10/15 [04:21<02:23, 28.63s/it]"
     ]
    },
    {
     "name": "stdout",
     "output_type": "stream",
     "text": [
      "OMP 1/4\n",
      "OMP 2/4\n",
      "OMP 3/4\n",
      "OMP 4/4\n"
     ]
    },
    {
     "name": "stderr",
     "output_type": "stream",
     "text": [
      "Processing signals:  73%|███████▎  | 11/15 [04:51<01:55, 28.82s/it]"
     ]
    },
    {
     "name": "stdout",
     "output_type": "stream",
     "text": [
      "OMP 1/5\n",
      "OMP 2/5\n",
      "OMP 3/5\n",
      "OMP 4/5\n",
      "OMP 5/5\n"
     ]
    },
    {
     "name": "stderr",
     "output_type": "stream",
     "text": [
      "Processing signals:  80%|████████  | 12/15 [05:34<01:40, 33.37s/it]"
     ]
    },
    {
     "name": "stdout",
     "output_type": "stream",
     "text": [
      "OMP 1/3\n",
      "OMP 2/3\n",
      "OMP 3/3\n"
     ]
    },
    {
     "name": "stderr",
     "output_type": "stream",
     "text": [
      "Processing signals:  87%|████████▋ | 13/15 [05:55<00:58, 29.48s/it]"
     ]
    },
    {
     "name": "stdout",
     "output_type": "stream",
     "text": [
      "OMP 1/4\n",
      "OMP 2/4\n",
      "OMP 3/4\n",
      "OMP 4/4\n"
     ]
    },
    {
     "name": "stderr",
     "output_type": "stream",
     "text": [
      "Processing signals:  93%|█████████▎| 14/15 [06:23<00:29, 29.06s/it]"
     ]
    },
    {
     "name": "stdout",
     "output_type": "stream",
     "text": [
      "OMP 1/5\n",
      "OMP 2/5\n",
      "OMP 3/5\n",
      "OMP 4/5\n",
      "OMP 5/5\n"
     ]
    },
    {
     "name": "stderr",
     "output_type": "stream",
     "text": [
      "Processing signals: 100%|██████████| 15/15 [07:01<00:00, 28.09s/it]\n"
     ]
    }
   ],
   "source": [
    "omp_results = []\n",
    "for signal_dict in tqdm(signals_db, desc='Processing signals'):\n",
    "    approx, infos = dictionary.omp(signal_dict['signal'], len(signal_dict['atoms']), verbose=False)\n",
    "    mse = np.mean((signal_dict['signal'] - approx)**2)\n",
    "    omp_result = {\n",
    "        'id' : signal_dict['id'],\n",
    "        'mse' : mse,\n",
    "        'sparsity' : len(infos),\n",
    "        'approx' : approx.tolist(),\n",
    "        'atoms' : infos\n",
    "    }\n",
    "    omp_results.append(omp_result)\n",
    "\n",
    "json_filename = f'omp_db200.json'\n",
    "json.dump(omp_results, open(json_filename, 'w'), indent=4, default=handle_non_serializable)\n",
    "    "
   ]
  }
 ],
 "metadata": {
  "kernelspec": {
   "display_name": "phlamesenv",
   "language": "python",
   "name": "python3"
  },
  "language_info": {
   "codemirror_mode": {
    "name": "ipython",
    "version": 3
   },
   "file_extension": ".py",
   "mimetype": "text/x-python",
   "name": "python",
   "nbconvert_exporter": "python",
   "pygments_lexer": "ipython3",
   "version": "3.11.2"
  }
 },
 "nbformat": 4,
 "nbformat_minor": 2
}
