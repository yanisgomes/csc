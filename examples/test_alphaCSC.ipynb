{
 "cells": [
  {
   "cell_type": "code",
   "execution_count": 1,
   "metadata": {},
   "outputs": [
    {
     "name": "stdout",
     "output_type": "stream",
     "text": [
      "The dictionary has 143 different atoms\n"
     ]
    }
   ],
   "source": [
    "import numpy as np\n",
    "from csc.utils import *\n",
    "from csc.atoms import *\n",
    "from csc.dictionary import *\n",
    "from csc.workbench import *\n",
    "from itertools import product\n",
    "import matplotlib.pyplot as plt\n",
    "\n",
    "# Atom parameters\n",
    "bmin = 0.005\n",
    "bmax = 0.06\n",
    "b_step = 0.005\n",
    "b_values = np.arange(bmin, bmax, b_step)\n",
    "\n",
    "ymin = 0.010\n",
    "ymax = 0.036\n",
    "y_step = 0.002\n",
    "y_values = np.arange(ymin, ymax, y_step)\n",
    "\n",
    "s_values = [1]\n",
    "\n",
    "dictionary = ZSDictionary.from_values(b_values, y_values, s_values)\n",
    "print('The dictionary has {} different atoms'.format(len(dictionary)))"
   ]
  },
  {
   "cell_type": "code",
   "execution_count": 2,
   "metadata": {},
   "outputs": [],
   "source": [
    "batchSize = 200\n",
    "input_signals_db = f'/home/gomes/synthetic-data/csc-signals-{batchSize}.json'\n",
    "input_signals_db = f'C:\\\\Users\\\\gomes\\\\Documents\\\\ENS\\\\00_M1\\\\00_BORELLI\\\\01_WorkInProgress\\\\\\synthetic-data\\\\csc-signals-{batchSize}.json'"
   ]
  },
  {
   "cell_type": "code",
   "execution_count": 3,
   "metadata": {},
   "outputs": [],
   "source": [
    "batchSize = 200\n",
    "path_to_signals_db = f'C:\\\\Users\\\\gomes\\\\Documents\\\\ENS\\\\00_M1\\\\00_BORELLI\\\\01_WorkInProgress\\\\\\synthetic-data\\\\csc-signals-{batchSize}.json'\n",
    "path_to_mmpdf_db = f'C:\\\\Users\\\\gomes\\\\Documents\\\\ENS\\\\00_M1\\\\00_BORELLI\\\\01_WorkInProgress\\\\\\synthetic-data\\\\csc-mmpdf-{batchSize}.json'\n",
    "path_to_mp_db = f'C:\\\\Users\\\\gomes\\\\Documents\\\\ENS\\\\00_M1\\\\00_BORELLI\\\\01_WorkInProgress\\\\\\synthetic-data\\\\csc-mp-{batchSize}.json'\n",
    "\n",
    "workbench = CSCWorkbench(path_to_signals_db)\n",
    "workbench.load_data()\n",
    "workbench.set_dictionary(dictionary)"
   ]
  },
  {
   "cell_type": "code",
   "execution_count": 4,
   "metadata": {},
   "outputs": [],
   "source": [
    "with open(path_to_signals_db, 'r') as f:\n",
    "            output_data = json.load(f)\n",
    "            signals_results = output_data['signals']\n",
    "\n",
    "id0 = next(x['id'] for x in signals_results if x['sparsity'] == 6 and x['snr'] == 10)\n",
    "signal_id = id0+4\n",
    "signal_dict = workbench.signalDictFromId(signal_id)"
   ]
  },
  {
   "cell_type": "code",
   "execution_count": 5,
   "metadata": {},
   "outputs": [
    {
     "data": {
      "text/plain": [
       "492"
      ]
     },
     "execution_count": 5,
     "metadata": {},
     "output_type": "execute_result"
    }
   ],
   "source": [
    "dictionary.getAtomsLength()"
   ]
  },
  {
   "cell_type": "code",
   "execution_count": 6,
   "metadata": {},
   "outputs": [
    {
     "name": "stdout",
     "output_type": "stream",
     "text": [
      "Nb atoms: 143\n",
      "Nb valid offsets: 247\n",
      "Flatten dim = nb_atoms * nb_valid_offset = 143 * 247 = 35321\n"
     ]
    }
   ],
   "source": [
    "print(f'Nb atoms: {len(dictionary)}')\n",
    "\n",
    "nb_valid_offset = len(signal_dict['signal']) - dictionary.getAtomsLength() + 1\n",
    "print(f'Nb valid offsets: {nb_valid_offset}')\n",
    "print(f'Flatten dim = nb_atoms * nb_valid_offset = {len(dictionary)} * {nb_valid_offset} = {len(dictionary) * nb_valid_offset}')"
   ]
  },
  {
   "cell_type": "code",
   "execution_count": 7,
   "metadata": {},
   "outputs": [
    {
     "name": "stdout",
     "output_type": "stream",
     "text": [
      "(143, 247)\n",
      "Nb nnz indexes = 1\n"
     ]
    },
    {
     "ename": "TypeError",
     "evalue": "only integer scalar arrays can be converted to a scalar index",
     "output_type": "error",
     "traceback": [
      "\u001b[1;31m---------------------------------------------------------------------------\u001b[0m",
      "\u001b[1;31mTypeError\u001b[0m                                 Traceback (most recent call last)",
      "Cell \u001b[1;32mIn[7], line 1\u001b[0m\n\u001b[1;32m----> 1\u001b[0m csc_result \u001b[38;5;241m=\u001b[39m \u001b[43mdictionary\u001b[49m\u001b[38;5;241;43m.\u001b[39;49m\u001b[43malphaCSCResult\u001b[49m\u001b[43m(\u001b[49m\u001b[43msignal_dict\u001b[49m\u001b[43m,\u001b[49m\u001b[43m \u001b[49m\u001b[43mlmbda\u001b[49m\u001b[38;5;241;43m=\u001b[39;49m\u001b[38;5;241;43m1.42e-1\u001b[39;49m\u001b[43m,\u001b[49m\u001b[43m \u001b[49m\u001b[43mverbose\u001b[49m\u001b[38;5;241;43m=\u001b[39;49m\u001b[38;5;28;43;01mTrue\u001b[39;49;00m\u001b[43m)\u001b[49m\n",
      "File \u001b[1;32m~\\Documents\\ENS\\00_M1\\00_BORELLI\\01_WorkInProgress\\csc\\src\\csc\\dictionary.py:787\u001b[0m, in \u001b[0;36mZSDictionary.alphaCSCResult\u001b[1;34m(self, signal_dict, lmbda, verbose)\u001b[0m\n\u001b[0;32m    785\u001b[0m \u001b[38;5;66;03m# Sort in descending order\u001b[39;00m\n\u001b[0;32m    786\u001b[0m order \u001b[38;5;241m=\u001b[39m np\u001b[38;5;241m.\u001b[39margsort(nnz_values)[::\u001b[38;5;241m-\u001b[39m\u001b[38;5;241m1\u001b[39m] \n\u001b[1;32m--> 787\u001b[0m nnz_indexes \u001b[38;5;241m=\u001b[39m \u001b[43mnnz_indexes\u001b[49m\u001b[43m[\u001b[49m\u001b[43morder\u001b[49m\u001b[43m]\u001b[49m\n\u001b[0;32m    789\u001b[0m \u001b[38;5;66;03m# Extract the atoms and their parameters\u001b[39;00m\n\u001b[0;32m    790\u001b[0m positions_idx, atoms_idx \u001b[38;5;241m=\u001b[39m np\u001b[38;5;241m.\u001b[39munravel_index(\n\u001b[0;32m    791\u001b[0m     nnz_indexes,\n\u001b[0;32m    792\u001b[0m     shape\u001b[38;5;241m=\u001b[39mactivations\u001b[38;5;241m.\u001b[39mreshape(\u001b[38;5;241m-\u001b[39m\u001b[38;5;241m1\u001b[39m, \u001b[38;5;28mlen\u001b[39m(\u001b[38;5;28mself\u001b[39m\u001b[38;5;241m.\u001b[39matoms))\u001b[38;5;241m.\u001b[39mshape,\n\u001b[0;32m    793\u001b[0m )\n",
      "\u001b[1;31mTypeError\u001b[0m: only integer scalar arrays can be converted to a scalar index"
     ]
    }
   ],
   "source": [
    "csc_result = dictionary.alphaCSCResult(signal_dict, lmbda=1.42e-1, verbose=True)"
   ]
  },
  {
   "cell_type": "code",
   "execution_count": null,
   "metadata": {},
   "outputs": [
    {
     "name": "stdout",
     "output_type": "stream",
     "text": [
      "(35321,)\n",
      "[0. 0. 0. ... 0. 0. 0.]\n"
     ]
    }
   ],
   "source": [
    "csc_activations = csc_result['activations']\n",
    "print(csc_activations.shape)\n",
    "print(csc_activations[:-3])"
   ]
  },
  {
   "cell_type": "code",
   "execution_count": null,
   "metadata": {},
   "outputs": [
    {
     "name": "stdout",
     "output_type": "stream",
     "text": [
      "    Calibration interval n°1 [1.00e-04, 1.00e+03] :\n",
      "       0 - lmba = 1.00e-04 : nb_act = 25627\n",
      "       1 - lmba = 5.99e-04 : nb_act = 25609\n",
      "       2 - lmba = 3.59e-03 : nb_act = 25494\n",
      "       3 - lmba = 2.15e-02 : nb_act = 24766\n",
      "       4 - lmba = 1.29e-01 : nb_act = 20578\n",
      "       5 - lmba = 7.74e-01 : nb_act = 7580\n",
      "       6 - lmba = 4.64e+00 : nb_act = 0\n",
      "       7 - lmba = 2.78e+01 : nb_act = 0\n",
      "       8 - lmba = 1.67e+02 : nb_act = 0\n",
      "       9 - lmba = 1.00e+03 : nb_act = 0\n",
      "   >>> Last non-zero index : 5 for 7580 activations\n",
      "    Calibration interval n°2 [7.74e-01, 4.64e+00] :\n",
      "       0 - lmba = 7.74e-01 : nb_act = 7580\n",
      "       1 - lmba = 9.45e-01 : nb_act = 5005\n",
      "       2 - lmba = 1.15e+00 : nb_act = 2437\n",
      "       3 - lmba = 1.41e+00 : nb_act = 734\n",
      "       4 - lmba = 1.72e+00 : nb_act = 6\n",
      "       5 - lmba = 2.09e+00 : nb_act = 0\n",
      "       6 - lmba = 2.56e+00 : nb_act = 0\n",
      "       7 - lmba = 3.12e+00 : nb_act = 0\n",
      "       8 - lmba = 3.80e+00 : nb_act = 0\n",
      "       9 - lmba = 4.64e+00 : nb_act = 0\n",
      "   >>> Last non-zero index : 4 for 6 activations\n",
      "Optimal lambda for 6 activations : 0.774263682681127\n"
     ]
    }
   ],
   "source": [
    "csc_result = dictionary.alphaCSCAutoCalibrationResult(signal_dict, nb_activations=3, verbose=True)"
   ]
  },
  {
   "cell_type": "code",
   "execution_count": null,
   "metadata": {},
   "outputs": [
    {
     "name": "stdout",
     "output_type": "stream",
     "text": [
      "dict_keys(['activations', 'atoms_idx', 'positions_idx'])\n",
      "35321\n",
      "[ 25  26  64 ... 105 132  67]\n",
      "20578\n",
      "[243 243 241 ... 115 205 117]\n"
     ]
    }
   ],
   "source": [
    "print(csc_result.keys())\n",
    "print(len(csc_result['activations']))\n",
    "print(csc_result['atoms_idx'])\n",
    "print(len(csc_result['atoms_idx']))\n",
    "print(csc_result['positions_idx'])"
   ]
  }
 ],
 "metadata": {
  "kernelspec": {
   "display_name": "phlamesenv",
   "language": "python",
   "name": "python3"
  },
  "language_info": {
   "codemirror_mode": {
    "name": "ipython",
    "version": 3
   },
   "file_extension": ".py",
   "mimetype": "text/x-python",
   "name": "python",
   "nbconvert_exporter": "python",
   "pygments_lexer": "ipython3",
   "version": "3.10.1"
  }
 },
 "nbformat": 4,
 "nbformat_minor": 2
}
