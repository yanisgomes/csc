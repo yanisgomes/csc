{
 "cells": [
  {
   "cell_type": "code",
   "execution_count": 1,
   "metadata": {},
   "outputs": [
    {
     "name": "stdout",
     "output_type": "stream",
     "text": [
      "The dictionary has 143 different atoms\n"
     ]
    }
   ],
   "source": [
    "import numpy as np\n",
    "from csc.utils import *\n",
    "from csc.atoms import *\n",
    "from csc.dictionary import *\n",
    "from csc.workbench import *\n",
    "from itertools import product\n",
    "import matplotlib.pyplot as plt\n",
    "\n",
    "# Atom parameters\n",
    "bmin = 0.005\n",
    "bmax = 0.06\n",
    "b_step = 0.005\n",
    "b_values = np.arange(bmin, bmax, b_step)\n",
    "\n",
    "ymin = 0.010\n",
    "ymax = 0.036\n",
    "y_step = 0.002\n",
    "y_values = np.arange(ymin, ymax, y_step)\n",
    "\n",
    "s_values = [1]\n",
    "\n",
    "dictionary = ZSDictionary.from_values(b_values, y_values, s_values)\n",
    "print('The dictionary has {} different atoms'.format(len(dictionary)))"
   ]
  },
  {
   "cell_type": "code",
   "execution_count": 2,
   "metadata": {},
   "outputs": [],
   "source": [
    "batchSize = 200\n",
    "input_signals_db = f'/home/gomes/synthetic-data/csc-signals-{batchSize}.json'\n",
    "input_signals_db = f'C:\\\\Users\\\\gomes\\\\Documents\\\\ENS\\\\00_M1\\\\00_BORELLI\\\\01_WorkInProgress\\\\\\synthetic-data\\\\csc-signals-{batchSize}.json'"
   ]
  },
  {
   "cell_type": "code",
   "execution_count": 3,
   "metadata": {},
   "outputs": [],
   "source": [
    "batchSize = 200\n",
    "path_to_signals_db = f'C:\\\\Users\\\\gomes\\\\Documents\\\\ENS\\\\00_M1\\\\00_BORELLI\\\\01_WorkInProgress\\\\\\synthetic-data\\\\csc-signals-{batchSize}.json'\n",
    "path_to_mmpdf_db = f'C:\\\\Users\\\\gomes\\\\Documents\\\\ENS\\\\00_M1\\\\00_BORELLI\\\\01_WorkInProgress\\\\\\synthetic-data\\\\csc-mmpdf-{batchSize}.json'\n",
    "path_to_mp_db = f'C:\\\\Users\\\\gomes\\\\Documents\\\\ENS\\\\00_M1\\\\00_BORELLI\\\\01_WorkInProgress\\\\\\synthetic-data\\\\csc-mp-{batchSize}.json'\n",
    "\n",
    "workbench = CSCWorkbench(path_to_signals_db)\n",
    "workbench.load_data()\n",
    "workbench.set_dictionary(dictionary)"
   ]
  },
  {
   "cell_type": "code",
   "execution_count": 4,
   "metadata": {},
   "outputs": [],
   "source": [
    "with open(path_to_signals_db, 'r') as f:\n",
    "            output_data = json.load(f)\n",
    "            signals_results = output_data['signals']\n",
    "\n",
    "id0 = next(x['id'] for x in signals_results if x['sparsity'] == 6 and x['snr'] == 0)\n"
   ]
  },
  {
   "cell_type": "code",
   "execution_count": 5,
   "metadata": {},
   "outputs": [
    {
     "name": "stdout",
     "output_type": "stream",
     "text": [
      "Iteration 0: lambda = 5.00e-05, Number of Activations = 26137\n",
      "Iteration 1: lambda = 1.05e-01, Number of Activations = 13993\n",
      "Iteration 2: lambda = 1.17e+02, Number of Activations = 0\n",
      "Iteration 3: lambda = 5.96e+00, Number of Activations = 0\n",
      "Iteration 4: lambda = 3.97e-01, Number of Activations = 7475\n",
      "Iteration 5: lambda = 2.38e+02, Number of Activations = 0\n",
      "Iteration 6: lambda = 1.23e+01, Number of Activations = 0\n",
      "Iteration 7: lambda = 9.91e-01, Number of Activations = 730\n",
      "Iteration 8: lambda = 5.88e+01, Number of Activations = 0\n",
      "Iteration 9: lambda = 3.88e+00, Number of Activations = 0\n",
      "Iteration 10: lambda = 1.14e+00, Number of Activations = 399\n",
      "Iteration 11: lambda = 3.73e+01, Number of Activations = 0\n",
      "Iteration 12: lambda = 2.94e+00, Number of Activations = 0\n",
      "Iteration 13: lambda = 1.23e+00, Number of Activations = 197\n",
      "Iteration 14: lambda = 2.05e+01, Number of Activations = 0\n",
      "Iteration 15: lambda = 2.19e+00, Number of Activations = 0\n",
      "Iteration 16: lambda = 1.27e+00, Number of Activations = 125\n",
      "Iteration 17: lambda = 1.39e+01, Number of Activations = 0\n",
      "Iteration 18: lambda = 1.91e+00, Number of Activations = 0\n",
      "Iteration 19: lambda = 1.31e+00, Number of Activations = 98\n",
      "Iteration 20: lambda = 1.14e+01, Number of Activations = 0\n",
      "Iteration 21: lambda = 1.81e+00, Number of Activations = 0\n",
      "Iteration 22: lambda = 1.33e+00, Number of Activations = 75\n",
      "Iteration 23: lambda = 9.21e+00, Number of Activations = 0\n",
      "Iteration 24: lambda = 1.73e+00, Number of Activations = 0\n",
      "Iteration 25: lambda = 1.35e+00, Number of Activations = 60\n",
      "Iteration 26: lambda = 7.73e+00, Number of Activations = 0\n",
      "Iteration 27: lambda = 1.67e+00, Number of Activations = 0\n",
      "Iteration 28: lambda = 1.37e+00, Number of Activations = 48\n",
      "Iteration 29: lambda = 6.51e+00, Number of Activations = 0\n",
      "Iteration 30: lambda = 1.62e+00, Number of Activations = 0\n",
      "Iteration 31: lambda = 1.38e+00, Number of Activations = 37\n",
      "Iteration 32: lambda = 5.35e+00, Number of Activations = 0\n",
      "Iteration 33: lambda = 1.58e+00, Number of Activations = 0\n",
      "Iteration 34: lambda = 1.39e+00, Number of Activations = 32\n",
      "Iteration 35: lambda = 4.84e+00, Number of Activations = 0\n",
      "Iteration 36: lambda = 1.56e+00, Number of Activations = 0\n",
      "Iteration 37: lambda = 1.40e+00, Number of Activations = 27\n",
      "Iteration 38: lambda = 4.31e+00, Number of Activations = 0\n",
      "Iteration 39: lambda = 1.54e+00, Number of Activations = 0\n",
      "Iteration 40: lambda = 1.41e+00, Number of Activations = 26\n",
      "Iteration 41: lambda = 4.22e+00, Number of Activations = 0\n",
      "Iteration 42: lambda = 1.55e+00, Number of Activations = 0\n",
      "Iteration 43: lambda = 1.41e+00, Number of Activations = 24\n",
      "Iteration 44: lambda = 4.01e+00, Number of Activations = 0\n",
      "Iteration 45: lambda = 1.54e+00, Number of Activations = 0\n",
      "Iteration 46: lambda = 1.42e+00, Number of Activations = 23\n",
      "Iteration 47: lambda = 3.92e+00, Number of Activations = 0\n",
      "Iteration 48: lambda = 1.54e+00, Number of Activations = 0\n",
      "Iteration 49: lambda = 1.43e+00, Number of Activations = 20\n",
      "Iteration 50: lambda = 3.59e+00, Number of Activations = 0\n",
      "Iteration 51: lambda = 1.53e+00, Number of Activations = 0\n",
      "Iteration 52: lambda = 1.43e+00, Number of Activations = 16\n",
      "Iteration 53: lambda = 3.15e+00, Number of Activations = 0\n",
      "Iteration 54: lambda = 1.52e+00, Number of Activations = 0\n",
      "Iteration 55: lambda = 1.43e+00, Number of Activations = 15\n",
      "Iteration 56: lambda = 3.04e+00, Number of Activations = 0\n",
      "Iteration 57: lambda = 1.52e+00, Number of Activations = 0\n",
      "Iteration 58: lambda = 1.44e+00, Number of Activations = 15\n",
      "Iteration 59: lambda = 3.05e+00, Number of Activations = 0\n",
      "Iteration 60: lambda = 1.52e+00, Number of Activations = 0\n",
      "Iteration 61: lambda = 1.44e+00, Number of Activations = 12\n",
      "Iteration 62: lambda = 2.71e+00, Number of Activations = 0\n",
      "Iteration 63: lambda = 1.51e+00, Number of Activations = 0\n",
      "Iteration 64: lambda = 1.45e+00, Number of Activations = 11\n",
      "Iteration 65: lambda = 2.60e+00, Number of Activations = 0\n",
      "Iteration 66: lambda = 1.50e+00, Number of Activations = 0\n",
      "Iteration 67: lambda = 1.45e+00, Number of Activations = 11\n",
      "Iteration 68: lambda = 2.61e+00, Number of Activations = 0\n",
      "Iteration 69: lambda = 1.51e+00, Number of Activations = 0\n",
      "Iteration 70: lambda = 1.45e+00, Number of Activations = 11\n",
      "Iteration 71: lambda = 2.61e+00, Number of Activations = 0\n",
      "Iteration 72: lambda = 1.51e+00, Number of Activations = 0\n",
      "Iteration 73: lambda = 1.45e+00, Number of Activations = 10\n",
      "Iteration 74: lambda = 2.50e+00, Number of Activations = 0\n",
      "Iteration 75: lambda = 1.51e+00, Number of Activations = 0\n",
      "Iteration 76: lambda = 1.46e+00, Number of Activations = 9\n",
      "Iteration 77: lambda = 2.39e+00, Number of Activations = 0\n",
      "Iteration 78: lambda = 1.50e+00, Number of Activations = 0\n",
      "Iteration 79: lambda = 1.46e+00, Number of Activations = 7\n",
      "Iteration 80: lambda = 2.16e+00, Number of Activations = 0\n",
      "Iteration 81: lambda = 1.49e+00, Number of Activations = 0\n",
      "Iteration 82: lambda = 1.46e+00, Number of Activations = 7\n",
      "Iteration 83: lambda = 2.16e+00, Number of Activations = 0\n",
      "Iteration 84: lambda = 1.50e+00, Number of Activations = 0\n",
      "Iteration 85: lambda = 1.46e+00, Number of Activations = 6\n",
      "Iteration 86: lambda = 2.05e+00, Number of Activations = 0\n",
      "Iteration 87: lambda = 1.49e+00, Number of Activations = 0\n",
      "Iteration 88: lambda = 1.46e+00, Number of Activations = 5\n",
      "Iteration 89: lambda = 1.93e+00, Number of Activations = 0\n",
      "Iteration 90: lambda = 1.49e+00, Number of Activations = 0\n",
      "Iteration 91: lambda = 1.47e+00, Number of Activations = 5\n",
      "Iteration 92: lambda = 1.93e+00, Number of Activations = 0\n",
      "Iteration 93: lambda = 1.49e+00, Number of Activations = 0\n",
      "Iteration 94: lambda = 1.47e+00, Number of Activations = 5\n",
      "Iteration 95: lambda = 1.94e+00, Number of Activations = 0\n",
      "Iteration 96: lambda = 1.49e+00, Number of Activations = 0\n",
      "Iteration 97: lambda = 1.47e+00, Number of Activations = 5\n",
      "Iteration 98: lambda = 1.94e+00, Number of Activations = 0\n",
      "Iteration 99: lambda = 1.49e+00, Number of Activations = 0\n",
      "Iteration 100: lambda = 1.47e+00, Number of Activations = 4\n",
      "Iteration 101: lambda = 1.82e+00, Number of Activations = 0\n",
      "Iteration 102: lambda = 1.49e+00, Number of Activations = 0\n",
      "Iteration 103: lambda = 1.47e+00, Number of Activations = 4\n",
      "Iteration 104: lambda = 1.82e+00, Number of Activations = 0\n",
      "Iteration 105: lambda = 1.49e+00, Number of Activations = 0\n",
      "Iteration 106: lambda = 1.47e+00, Number of Activations = 4\n",
      "Iteration 107: lambda = 1.82e+00, Number of Activations = 0\n",
      "Iteration 108: lambda = 1.49e+00, Number of Activations = 0\n",
      "Iteration 109: lambda = 1.47e+00, Number of Activations = 4\n",
      "Iteration 110: lambda = 1.83e+00, Number of Activations = 0\n",
      "Iteration 111: lambda = 1.49e+00, Number of Activations = 0\n",
      "Iteration 112: lambda = 1.47e+00, Number of Activations = 4\n",
      "Iteration 113: lambda = 1.83e+00, Number of Activations = 0\n",
      "Iteration 114: lambda = 1.49e+00, Number of Activations = 0\n",
      "Iteration 115: lambda = 1.47e+00, Number of Activations = 4\n",
      "Iteration 116: lambda = 1.83e+00, Number of Activations = 0\n",
      "Iteration 117: lambda = 1.49e+00, Number of Activations = 0\n",
      "Iteration 118: lambda = 1.47e+00, Number of Activations = 4\n",
      "Iteration 119: lambda = 1.83e+00, Number of Activations = 0\n",
      "Iteration 120: lambda = 1.49e+00, Number of Activations = 0\n",
      "Iteration 121: lambda = 1.48e+00, Number of Activations = 4\n",
      "Iteration 122: lambda = 1.83e+00, Number of Activations = 0\n",
      "Iteration 123: lambda = 1.49e+00, Number of Activations = 0\n",
      "Iteration 124: lambda = 1.48e+00, Number of Activations = 3\n",
      "Iteration 125: lambda = 1.71e+00, Number of Activations = 0\n",
      "Iteration 126: lambda = 1.49e+00, Number of Activations = 0\n",
      "Iteration 127: lambda = 1.48e+00, Number of Activations = 3\n",
      "Iteration 128: lambda = 1.71e+00, Number of Activations = 0\n",
      "Iteration 129: lambda = 1.49e+00, Number of Activations = 0\n",
      "Iteration 130: lambda = 1.48e+00, Number of Activations = 3\n",
      "Iteration 131: lambda = 1.71e+00, Number of Activations = 0\n",
      "Iteration 132: lambda = 1.49e+00, Number of Activations = 0\n",
      "Iteration 133: lambda = 1.48e+00, Number of Activations = 3\n",
      "Iteration 134: lambda = 1.71e+00, Number of Activations = 0\n",
      "Iteration 135: lambda = 1.49e+00, Number of Activations = 0\n",
      "Iteration 136: lambda = 1.48e+00, Number of Activations = 1\n",
      "activations = [0. 0. 0. ... 0. 0. 0.]\n"
     ]
    }
   ],
   "source": [
    "signal_id = id0+5\n",
    "signal_dict = workbench.signalDictFromId(signal_id)\n",
    "csc_results = dictionary.alphaCSCResult(signal_dict, nb_activations=1, verbose=True)"
   ]
  },
  {
   "cell_type": "code",
   "execution_count": 6,
   "metadata": {},
   "outputs": [
    {
     "name": "stdout",
     "output_type": "stream",
     "text": [
      "Number of atoms: 1\n",
      "{'x': 140, 'b': 0.055, 'y': 0.012, 's': 1.653959710339202e-05}\n"
     ]
    }
   ],
   "source": [
    "print('Number of atoms: {}'.format(len(csc_results)))\n",
    "for atom in csc_results :\n",
    "    print(atom)\n"
   ]
  },
  {
   "cell_type": "code",
   "execution_count": 7,
   "metadata": {},
   "outputs": [
    {
     "data": {
      "image/png": "[encoded data removed]",
      "text/plain": [
       "<Figure size 640x480 with 1 Axes>"
      ]
     },
     "metadata": {},
     "output_type": "display_data"
    }
   ],
   "source": [
    "approx = np.zeros_like(signal_dict['signal'])\n",
    "for atom in csc_results :\n",
    "    zs_atom = ZSAtom.from_dict(atom)\n",
    "    zs_atom.padBothSides(dictionary.getAtomsLength())\n",
    "    approx += zs_atom.getAtomInSignal(signal_length=len(signal_dict['signal']), offset=atom['x'])\n",
    "plt.plot(signal_dict['signal'], color='k', lw=3, alpha=0.4, label='Original signal')\n",
    "plt.plot(approx, color='r', lw=1, label='Approximated signal')\n",
    "plt.legend()\n",
    "plt.axis('off')\n",
    "plt.show()\n"
   ]
  }
 ],
 "metadata": {
  "kernelspec": {
   "display_name": "phlamesenv",
   "language": "python",
   "name": "python3"
  },
  "language_info": {
   "codemirror_mode": {
    "name": "ipython",
    "version": 3
   },
   "file_extension": ".py",
   "mimetype": "text/x-python",
   "name": "python",
   "nbconvert_exporter": "python",
   "pygments_lexer": "ipython3",
   "version": "3.10.1"
  }
 },
 "nbformat": 4,
 "nbformat_minor": 2
}
