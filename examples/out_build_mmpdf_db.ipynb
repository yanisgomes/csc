{
 "cells": [
  {
   "cell_type": "code",
   "execution_count": 1,
   "id": "964ce3f3",
   "metadata": {
    "execution": {
     "iopub.execute_input": "2024-06-14T14:48:38.109105Z",
     "iopub.status.busy": "2024-06-14T14:48:38.108960Z",
     "iopub.status.idle": "2024-06-14T14:48:39.471448Z",
     "shell.execute_reply": "2024-06-14T14:48:39.470698Z"
    },
    "papermill": {
     "duration": 1.367511,
     "end_time": "2024-06-14T14:48:39.474148",
     "exception": false,
     "start_time": "2024-06-14T14:48:38.106637",
     "status": "completed"
    },
    "tags": []
   },
   "outputs": [
    {
     "name": "stdout",
     "output_type": "stream",
     "text": [
      "The dictionary has 1428 different atoms\n"
     ]
    }
   ],
   "source": [
    "import json\n",
    "import numpy as np\n",
    "from tqdm import tqdm\n",
    "from csc.utils import *\n",
    "from csc.atoms import *\n",
    "from csc.dictionary import *\n",
    "from itertools import product\n",
    "import matplotlib.pyplot as plt\n",
    "\n",
    "# Atom parameters\n",
    "bmin = 0.005\n",
    "bmax = 0.60\n",
    "b_step = 0.005\n",
    "b_values = np.arange(bmin, bmax, b_step)\n",
    "\n",
    "ymin = 0.01\n",
    "ymax = 0.034\n",
    "y_step = 0.002\n",
    "y_values = np.arange(ymin, ymax, y_step)\n",
    "\n",
    "s_values = [1]\n",
    "\n",
    "dictionary = ZSDictionary.from_values(b_values, y_values, s_values)\n",
    "print('The dictionary has {} different atoms'.format(len(dictionary)))"
   ]
  },
  {
   "cell_type": "code",
   "execution_count": 2,
   "id": "350dabff",
   "metadata": {
    "execution": {
     "iopub.execute_input": "2024-06-14T14:48:39.481383Z",
     "iopub.status.busy": "2024-06-14T14:48:39.481083Z",
     "iopub.status.idle": "2024-06-14T14:48:39.484895Z",
     "shell.execute_reply": "2024-06-14T14:48:39.484021Z"
    },
    "papermill": {
     "duration": 0.009784,
     "end_time": "2024-06-14T14:48:39.487456",
     "exception": false,
     "start_time": "2024-06-14T14:48:39.477672",
     "status": "completed"
    },
    "tags": []
   },
   "outputs": [],
   "source": [
    "batchSize = 200\n",
    "input_signals_db = f'/home/gomes/synthetic-data/data_signals_{batchSize}.json'\n",
    "output_mmpdf_db = f'/home/gomes/synthetic-data/data_mmpdf_{batchSize}.json'"
   ]
  },
  {
   "cell_type": "code",
   "execution_count": null,
   "id": "5b42657b",
   "metadata": {
    "papermill": {
     "duration": null,
     "end_time": null,
     "exception": false,
     "start_time": "2024-06-14T14:48:39.489950",
     "status": "running"
    },
    "tags": []
   },
   "outputs": [],
   "source": [
    "dictionary.mmpdfPipelineFromDB(input_signals_db, output_mmpdf_db, nb_cores=70, verbose=False)"
   ]
  }
 ],
 "metadata": {
  "kernelspec": {
   "display_name": "phlamesenv",
   "language": "python",
   "name": "python3"
  },
  "language_info": {
   "codemirror_mode": {
    "name": "ipython",
    "version": 3
   },
   "file_extension": ".py",
   "mimetype": "text/x-python",
   "name": "python",
   "nbconvert_exporter": "python",
   "pygments_lexer": "ipython3",
   "version": "3.11.2"
  },
  "papermill": {
   "default_parameters": {},
   "duration": null,
   "end_time": null,
   "environment_variables": {},
   "exception": null,
   "input_path": "build_mmpdf_db.ipynb",
   "output_path": "out_build_mmpdf_db.ipynb",
   "parameters": {},
   "start_time": "2024-06-14T14:48:37.406004",
   "version": "2.6.0"
  }
 },
 "nbformat": 4,
 "nbformat_minor": 5
}