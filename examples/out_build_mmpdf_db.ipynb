{
 "cells": [
  {
   "cell_type": "code",
   "execution_count": 1,
   "id": "b7aa0b9a",
   "metadata": {
    "execution": {
     "iopub.execute_input": "2024-07-04T15:14:22.425233Z",
     "iopub.status.busy": "2024-07-04T15:14:22.424740Z",
     "iopub.status.idle": "2024-07-04T15:14:23.654922Z",
     "shell.execute_reply": "2024-07-04T15:14:23.653933Z"
    },
    "papermill": {
     "duration": 1.238128,
     "end_time": "2024-07-04T15:14:23.657903",
     "exception": false,
     "start_time": "2024-07-04T15:14:22.419775",
     "status": "completed"
    },
    "tags": []
   },
   "outputs": [
    {
     "name": "stdout",
     "output_type": "stream",
     "text": [
      "The dictionary has 143 different atoms\n"
     ]
    }
   ],
   "source": [
    "import numpy as np\n",
    "from csc.utils import *\n",
    "from csc.atoms import *\n",
    "from csc.dictionary import *\n",
    "from itertools import product\n",
    "import matplotlib.pyplot as plt\n",
    "\n",
    "# Atom parameters\n",
    "bmin = 0.005\n",
    "bmax = 0.06\n",
    "b_step = 0.005\n",
    "b_values = np.arange(bmin, bmax, b_step)\n",
    "\n",
    "ymin = 0.010\n",
    "ymax = 0.036\n",
    "y_step = 0.002\n",
    "y_values = np.arange(ymin, ymax, y_step)\n",
    "\n",
    "s_values = [1]\n",
    "\n",
    "dictionary = ZSDictionary.from_values(b_values, y_values, s_values)\n",
    "print('The dictionary has {} different atoms'.format(len(dictionary)))"
   ]
  },
  {
   "cell_type": "code",
   "execution_count": 2,
   "id": "064c8d24",
   "metadata": {
    "execution": {
     "iopub.execute_input": "2024-07-04T15:14:23.666384Z",
     "iopub.status.busy": "2024-07-04T15:14:23.665926Z",
     "iopub.status.idle": "2024-07-04T15:14:23.670182Z",
     "shell.execute_reply": "2024-07-04T15:14:23.669373Z"
    },
    "papermill": {
     "duration": 0.011072,
     "end_time": "2024-07-04T15:14:23.672898",
     "exception": false,
     "start_time": "2024-07-04T15:14:23.661826",
     "status": "completed"
    },
    "tags": []
   },
   "outputs": [],
   "source": [
    "batchSize = 200\n",
    "input_signals_db = f'/home/gomes/synthetic-data/csc-signals-{batchSize}.json'\n",
    "output_mmpdf_db = f'/home/gomes/synthetic-data/csc-mmpdf-{batchSize}.json'"
   ]
  },
  {
   "cell_type": "code",
   "execution_count": 3,
   "id": "1bcaccf0",
   "metadata": {
    "execution": {
     "iopub.execute_input": "2024-07-04T15:14:23.680022Z",
     "iopub.status.busy": "2024-07-04T15:14:23.679786Z",
     "iopub.status.idle": "2024-07-04T15:55:06.272792Z",
     "shell.execute_reply": "2024-07-04T15:55:06.271753Z"
    },
    "papermill": {
     "duration": 2442.600974,
     "end_time": "2024-07-04T15:55:06.276852",
     "exception": false,
     "start_time": "2024-07-04T15:14:23.675878",
     "status": "completed"
    },
    "tags": []
   },
   "outputs": [
    {
     "name": "stderr",
     "output_type": "stream",
     "text": [
      "\r",
      "MMP-DF Pipeline from DB:   0%|                                                                                                                                                                             | 0/5000 [00:00<?, ?it/s]"
     ]
    },
    {
     "name": "stderr",
     "output_type": "stream",
     "text": [
      "\r",
      "MMP-DF Pipeline from DB:   1%|██▎                                                                                                                                                                 | 70/5000 [00:01<01:18, 63.08it/s]"
     ]
    },
    {
     "name": "stderr",
     "output_type": "stream",
     "text": [
      "\r",
      "MMP-DF Pipeline from DB:   3%|████▌                                                                                                                                                              | 140/5000 [00:08<05:40, 14.26it/s]"
     ]
    },
    {
     "name": "stderr",
     "output_type": "stream",
     "text": [
      "\r",
      "MMP-DF Pipeline from DB:   4%|██████▊                                                                                                                                                            | 210/5000 [00:18<08:11,  9.76it/s]"
     ]
    },
    {
     "name": "stderr",
     "output_type": "stream",
     "text": [
      "\r",
      "MMP-DF Pipeline from DB:   4%|██████▊                                                                                                                                                            | 210/5000 [00:30<08:11,  9.76it/s]"
     ]
    },
    {
     "name": "stderr",
     "output_type": "stream",
     "text": [
      "\r",
      "MMP-DF Pipeline from DB:   6%|█████████▏                                                                                                                                                         | 280/5000 [00:31<10:30,  7.49it/s]"
     ]
    },
    {
     "name": "stderr",
     "output_type": "stream",
     "text": [
      "\r",
      "MMP-DF Pipeline from DB:   7%|███████████▍                                                                                                                                                       | 350/5000 [00:50<14:26,  5.37it/s]"
     ]
    },
    {
     "name": "stderr",
     "output_type": "stream",
     "text": [
      "\r",
      "MMP-DF Pipeline from DB:   8%|█████████████▋                                                                                                                                                     | 420/5000 [01:06<15:13,  5.02it/s]"
     ]
    },
    {
     "name": "stderr",
     "output_type": "stream",
     "text": [
      "\r",
      "MMP-DF Pipeline from DB:  10%|███████████████▉                                                                                                                                                   | 490/5000 [01:28<17:51,  4.21it/s]"
     ]
    },
    {
     "name": "stderr",
     "output_type": "stream",
     "text": [
      "/home/gomes/phlamesenv/lib/python3.11/site-packages/joblib/externals/loky/process_executor.py:752: UserWarning: A worker stopped while some jobs were given to the executor. This can be caused by a too short worker timeout or by a memory leak.\n",
      "  warnings.warn(\n"
     ]
    },
    {
     "name": "stderr",
     "output_type": "stream",
     "text": [
      "\r",
      "MMP-DF Pipeline from DB:  11%|██████████████████▎                                                                                                                                                | 560/5000 [02:06<24:34,  3.01it/s]"
     ]
    },
    {
     "name": "stderr",
     "output_type": "stream",
     "text": [
      "\r",
      "MMP-DF Pipeline from DB:  13%|████████████████████▌                                                                                                                                              | 630/5000 [02:40<27:43,  2.63it/s]"
     ]
    },
    {
     "name": "stderr",
     "output_type": "stream",
     "text": [
      "\r",
      "MMP-DF Pipeline from DB:  14%|██████████████████████▊                                                                                                                                            | 700/5000 [03:05<26:45,  2.68it/s]"
     ]
    },
    {
     "name": "stderr",
     "output_type": "stream",
     "text": [
      "\r",
      "MMP-DF Pipeline from DB:  15%|█████████████████████████                                                                                                                                          | 770/5000 [03:47<31:14,  2.26it/s]"
     ]
    },
    {
     "name": "stderr",
     "output_type": "stream",
     "text": [
      "\r",
      "MMP-DF Pipeline from DB:  17%|███████████████████████████▍                                                                                                                                       | 840/5000 [04:30<34:31,  2.01it/s]"
     ]
    },
    {
     "name": "stderr",
     "output_type": "stream",
     "text": [
      "\r",
      "MMP-DF Pipeline from DB:  18%|█████████████████████████████▋                                                                                                                                     | 910/5000 [05:14<36:37,  1.86it/s]"
     ]
    },
    {
     "name": "stderr",
     "output_type": "stream",
     "text": [
      "\r",
      "MMP-DF Pipeline from DB:  20%|███████████████████████████████▉                                                                                                                                   | 980/5000 [06:14<42:26,  1.58it/s]"
     ]
    },
    {
     "name": "stderr",
     "output_type": "stream",
     "text": [
      "\r",
      "MMP-DF Pipeline from DB:  21%|██████████████████████████████████                                                                                                                                | 1050/5000 [07:10<44:58,  1.46it/s]"
     ]
    },
    {
     "name": "stderr",
     "output_type": "stream",
     "text": [
      "\r",
      "MMP-DF Pipeline from DB:  22%|████████████████████████████████████▎                                                                                                                             | 1120/5000 [07:52<42:37,  1.52it/s]"
     ]
    },
    {
     "name": "stderr",
     "output_type": "stream",
     "text": [
      "\r",
      "MMP-DF Pipeline from DB:  24%|██████████████████████████████████████▌                                                                                                                           | 1190/5000 [08:08<33:26,  1.90it/s]"
     ]
    },
    {
     "name": "stderr",
     "output_type": "stream",
     "text": [
      "\r",
      "MMP-DF Pipeline from DB:  25%|████████████████████████████████████████▊                                                                                                                         | 1260/5000 [08:21<26:29,  2.35it/s]"
     ]
    },
    {
     "name": "stderr",
     "output_type": "stream",
     "text": [
      "\r",
      "MMP-DF Pipeline from DB:  27%|███████████████████████████████████████████                                                                                                                       | 1330/5000 [08:33<21:19,  2.87it/s]"
     ]
    },
    {
     "name": "stderr",
     "output_type": "stream",
     "text": [
      "\r",
      "MMP-DF Pipeline from DB:  28%|█████████████████████████████████████████████▎                                                                                                                    | 1400/5000 [08:55<20:20,  2.95it/s]"
     ]
    },
    {
     "name": "stderr",
     "output_type": "stream",
     "text": [
      "\r",
      "MMP-DF Pipeline from DB:  29%|███████████████████████████████████████████████▋                                                                                                                  | 1470/5000 [09:17<19:36,  3.00it/s]"
     ]
    },
    {
     "name": "stderr",
     "output_type": "stream",
     "text": [
      "\r",
      "MMP-DF Pipeline from DB:  31%|█████████████████████████████████████████████████▉                                                                                                                | 1540/5000 [09:42<19:37,  2.94it/s]"
     ]
    },
    {
     "name": "stderr",
     "output_type": "stream",
     "text": [
      "\r",
      "MMP-DF Pipeline from DB:  32%|████████████████████████████████████████████████████▏                                                                                                             | 1610/5000 [10:13<20:48,  2.72it/s]"
     ]
    },
    {
     "name": "stderr",
     "output_type": "stream",
     "text": [
      "\r",
      "MMP-DF Pipeline from DB:  34%|██████████████████████████████████████████████████████▍                                                                                                           | 1680/5000 [10:46<22:06,  2.50it/s]"
     ]
    },
    {
     "name": "stderr",
     "output_type": "stream",
     "text": [
      "\r",
      "MMP-DF Pipeline from DB:  35%|████████████████████████████████████████████████████████▋                                                                                                         | 1750/5000 [11:28<24:56,  2.17it/s]"
     ]
    },
    {
     "name": "stderr",
     "output_type": "stream",
     "text": [
      "\r",
      "MMP-DF Pipeline from DB:  36%|██████████████████████████████████████████████████████████▉                                                                                                       | 1820/5000 [12:07<26:03,  2.03it/s]"
     ]
    },
    {
     "name": "stderr",
     "output_type": "stream",
     "text": [
      "\r",
      "MMP-DF Pipeline from DB:  38%|█████████████████████████████████████████████████████████████▏                                                                                                    | 1890/5000 [12:51<27:31,  1.88it/s]"
     ]
    },
    {
     "name": "stderr",
     "output_type": "stream",
     "text": [
      "\r",
      "MMP-DF Pipeline from DB:  39%|███████████████████████████████████████████████████████████████▌                                                                                                  | 1960/5000 [13:50<31:36,  1.60it/s]"
     ]
    },
    {
     "name": "stderr",
     "output_type": "stream",
     "text": [
      "\r",
      "MMP-DF Pipeline from DB:  41%|█████████████████████████████████████████████████████████████████▊                                                                                                | 2030/5000 [14:53<34:54,  1.42it/s]"
     ]
    },
    {
     "name": "stderr",
     "output_type": "stream",
     "text": [
      "\r",
      "MMP-DF Pipeline from DB:  42%|████████████████████████████████████████████████████████████████████                                                                                              | 2100/5000 [15:39<33:28,  1.44it/s]"
     ]
    },
    {
     "name": "stderr",
     "output_type": "stream",
     "text": [
      "\r",
      "MMP-DF Pipeline from DB:  43%|██████████████████████████████████████████████████████████████████████▎                                                                                           | 2170/5000 [15:59<26:59,  1.75it/s]"
     ]
    },
    {
     "name": "stderr",
     "output_type": "stream",
     "text": [
      "\r",
      "MMP-DF Pipeline from DB:  45%|████████████████████████████████████████████████████████████████████████▌                                                                                         | 2240/5000 [16:14<21:23,  2.15it/s]"
     ]
    },
    {
     "name": "stderr",
     "output_type": "stream",
     "text": [
      "\r",
      "MMP-DF Pipeline from DB:  46%|██████████████████████████████████████████████████████████████████████████▊                                                                                       | 2310/5000 [16:24<16:27,  2.72it/s]"
     ]
    },
    {
     "name": "stderr",
     "output_type": "stream",
     "text": [
      "\r",
      "MMP-DF Pipeline from DB:  46%|██████████████████████████████████████████████████████████████████████████▊                                                                                       | 2310/5000 [16:41<16:27,  2.72it/s]"
     ]
    },
    {
     "name": "stderr",
     "output_type": "stream",
     "text": [
      "\r",
      "MMP-DF Pipeline from DB:  48%|█████████████████████████████████████████████████████████████████████████████                                                                                     | 2380/5000 [16:47<15:29,  2.82it/s]"
     ]
    },
    {
     "name": "stderr",
     "output_type": "stream",
     "text": [
      "\r",
      "MMP-DF Pipeline from DB:  49%|███████████████████████████████████████████████████████████████████████████████▍                                                                                  | 2450/5000 [17:09<14:38,  2.90it/s]"
     ]
    },
    {
     "name": "stderr",
     "output_type": "stream",
     "text": [
      "\r",
      "MMP-DF Pipeline from DB:  50%|█████████████████████████████████████████████████████████████████████████████████▋                                                                                | 2520/5000 [17:31<13:52,  2.98it/s]"
     ]
    },
    {
     "name": "stderr",
     "output_type": "stream",
     "text": [
      "\r",
      "MMP-DF Pipeline from DB:  52%|███████████████████████████████████████████████████████████████████████████████████▉                                                                              | 2590/5000 [18:05<15:08,  2.65it/s]"
     ]
    },
    {
     "name": "stderr",
     "output_type": "stream",
     "text": [
      "\r",
      "MMP-DF Pipeline from DB:  53%|██████████████████████████████████████████████████████████████████████████████████████▏                                                                           | 2660/5000 [18:36<15:35,  2.50it/s]"
     ]
    },
    {
     "name": "stderr",
     "output_type": "stream",
     "text": [
      "\r",
      "MMP-DF Pipeline from DB:  55%|████████████████████████████████████████████████████████████████████████████████████████▍                                                                         | 2730/5000 [19:09<15:49,  2.39it/s]"
     ]
    },
    {
     "name": "stderr",
     "output_type": "stream",
     "text": [
      "\r",
      "MMP-DF Pipeline from DB:  56%|██████████████████████████████████████████████████████████████████████████████████████████▋                                                                       | 2800/5000 [19:57<18:21,  2.00it/s]"
     ]
    },
    {
     "name": "stderr",
     "output_type": "stream",
     "text": [
      "\r",
      "MMP-DF Pipeline from DB:  57%|████████████████████████████████████████████████████████████████████████████████████████████▉                                                                     | 2870/5000 [20:42<19:20,  1.83it/s]"
     ]
    },
    {
     "name": "stderr",
     "output_type": "stream",
     "text": [
      "\r",
      "MMP-DF Pipeline from DB:  59%|███████████████████████████████████████████████████████████████████████████████████████████████▎                                                                  | 2940/5000 [21:32<20:27,  1.68it/s]"
     ]
    },
    {
     "name": "stderr",
     "output_type": "stream",
     "text": [
      "\r",
      "MMP-DF Pipeline from DB:  60%|█████████████████████████████████████████████████████████████████████████████████████████████████▌                                                                | 3010/5000 [22:38<23:08,  1.43it/s]"
     ]
    },
    {
     "name": "stderr",
     "output_type": "stream",
     "text": [
      "\r",
      "MMP-DF Pipeline from DB:  62%|███████████████████████████████████████████████████████████████████████████████████████████████████▊                                                              | 3080/5000 [23:37<23:44,  1.35it/s]"
     ]
    },
    {
     "name": "stderr",
     "output_type": "stream",
     "text": [
      "\r",
      "MMP-DF Pipeline from DB:  63%|██████████████████████████████████████████████████████████████████████████████████████████████████████                                                            | 3150/5000 [24:07<20:01,  1.54it/s]"
     ]
    },
    {
     "name": "stderr",
     "output_type": "stream",
     "text": [
      "\r",
      "MMP-DF Pipeline from DB:  64%|████████████████████████████████████████████████████████████████████████████████████████████████████████▎                                                         | 3220/5000 [24:21<15:16,  1.94it/s]"
     ]
    },
    {
     "name": "stderr",
     "output_type": "stream",
     "text": [
      "\r",
      "MMP-DF Pipeline from DB:  66%|██████████████████████████████████████████████████████████████████████████████████████████████████████████▌                                                       | 3290/5000 [24:33<11:43,  2.43it/s]"
     ]
    },
    {
     "name": "stderr",
     "output_type": "stream",
     "text": [
      "\r",
      "MMP-DF Pipeline from DB:  67%|████████████████████████████████████████████████████████████████████████████████████████████████████████████▊                                                     | 3360/5000 [24:54<10:15,  2.66it/s]"
     ]
    },
    {
     "name": "stderr",
     "output_type": "stream",
     "text": [
      "\r",
      "MMP-DF Pipeline from DB:  69%|███████████████████████████████████████████████████████████████████████████████████████████████████████████████▏                                                  | 3430/5000 [25:15<09:16,  2.82it/s]"
     ]
    },
    {
     "name": "stderr",
     "output_type": "stream",
     "text": [
      "\r",
      "MMP-DF Pipeline from DB:  70%|█████████████████████████████████████████████████████████████████████████████████████████████████████████████████▍                                                | 3500/5000 [25:35<08:16,  3.02it/s]"
     ]
    },
    {
     "name": "stderr",
     "output_type": "stream",
     "text": [
      "\r",
      "MMP-DF Pipeline from DB:  71%|███████████████████████████████████████████████████████████████████████████████████████████████████████████████████▋                                              | 3570/5000 [26:09<09:02,  2.63it/s]"
     ]
    },
    {
     "name": "stderr",
     "output_type": "stream",
     "text": [
      "\r",
      "MMP-DF Pipeline from DB:  73%|█████████████████████████████████████████████████████████████████████████████████████████████████████████████████████▉                                            | 3640/5000 [26:41<09:06,  2.49it/s]"
     ]
    },
    {
     "name": "stderr",
     "output_type": "stream",
     "text": [
      "\r",
      "MMP-DF Pipeline from DB:  74%|████████████████████████████████████████████████████████████████████████████████████████████████████████████████████████▏                                         | 3710/5000 [27:14<09:08,  2.35it/s]"
     ]
    },
    {
     "name": "stderr",
     "output_type": "stream",
     "text": [
      "\r",
      "MMP-DF Pipeline from DB:  76%|██████████████████████████████████████████████████████████████████████████████████████████████████████████████████████████▍                                       | 3780/5000 [28:01<10:06,  2.01it/s]"
     ]
    },
    {
     "name": "stderr",
     "output_type": "stream",
     "text": [
      "\r",
      "MMP-DF Pipeline from DB:  77%|████████████████████████████████████████████████████████████████████████████████████████████████████████████████████████████▋                                     | 3850/5000 [28:47<10:26,  1.84it/s]"
     ]
    },
    {
     "name": "stderr",
     "output_type": "stream",
     "text": [
      "\r",
      "MMP-DF Pipeline from DB:  78%|███████████████████████████████████████████████████████████████████████████████████████████████████████████████████████████████                                   | 3920/5000 [29:35<10:33,  1.70it/s]"
     ]
    },
    {
     "name": "stderr",
     "output_type": "stream",
     "text": [
      "\r",
      "MMP-DF Pipeline from DB:  80%|█████████████████████████████████████████████████████████████████████████████████████████████████████████████████████████████████▎                                | 3990/5000 [30:37<11:22,  1.48it/s]"
     ]
    },
    {
     "name": "stderr",
     "output_type": "stream",
     "text": [
      "\r",
      "MMP-DF Pipeline from DB:  81%|███████████████████████████████████████████████████████████████████████████████████████████████████████████████████████████████████▌                              | 4060/5000 [31:41<11:42,  1.34it/s]"
     ]
    },
    {
     "name": "stderr",
     "output_type": "stream",
     "text": [
      "\r",
      "MMP-DF Pipeline from DB:  83%|█████████████████████████████████████████████████████████████████████████████████████████████████████████████████████████████████████▊                            | 4130/5000 [32:16<09:48,  1.48it/s]"
     ]
    },
    {
     "name": "stderr",
     "output_type": "stream",
     "text": [
      "\r",
      "MMP-DF Pipeline from DB:  84%|████████████████████████████████████████████████████████████████████████████████████████████████████████████████████████████████████████                          | 4200/5000 [32:35<07:22,  1.81it/s]"
     ]
    },
    {
     "name": "stderr",
     "output_type": "stream",
     "text": [
      "\r",
      "MMP-DF Pipeline from DB:  85%|██████████████████████████████████████████████████████████████████████████████████████████████████████████████████████████████████████████▎                       | 4270/5000 [32:48<05:22,  2.26it/s]"
     ]
    },
    {
     "name": "stderr",
     "output_type": "stream",
     "text": [
      "\r",
      "MMP-DF Pipeline from DB:  87%|████████████████████████████████████████████████████████████████████████████████████████████████████████████████████████████████████████████▌                     | 4340/5000 [33:04<04:10,  2.63it/s]"
     ]
    },
    {
     "name": "stderr",
     "output_type": "stream",
     "text": [
      "\r",
      "MMP-DF Pipeline from DB:  88%|██████████████████████████████████████████████████████████████████████████████████████████████████████████████████████████████████████████████▉                   | 4410/5000 [33:25<03:28,  2.83it/s]"
     ]
    },
    {
     "name": "stderr",
     "output_type": "stream",
     "text": [
      "\r",
      "MMP-DF Pipeline from DB:  90%|█████████████████████████████████████████████████████████████████████████████████████████████████████████████████████████████████████████████████▏                | 4480/5000 [33:47<02:59,  2.90it/s]"
     ]
    },
    {
     "name": "stderr",
     "output_type": "stream",
     "text": [
      "\r",
      "MMP-DF Pipeline from DB:  91%|███████████████████████████████████████████████████████████████████████████████████████████████████████████████████████████████████████████████████▍              | 4550/5000 [34:17<02:45,  2.72it/s]"
     ]
    },
    {
     "name": "stderr",
     "output_type": "stream",
     "text": [
      "\r",
      "MMP-DF Pipeline from DB:  92%|█████████████████████████████████████████████████████████████████████████████████████████████████████████████████████████████████████████████████████▋            | 4620/5000 [34:46<02:25,  2.61it/s]"
     ]
    },
    {
     "name": "stderr",
     "output_type": "stream",
     "text": [
      "\r",
      "MMP-DF Pipeline from DB:  94%|███████████████████████████████████████████████████████████████████████████████████████████████████████████████████████████████████████████████████████▉          | 4690/5000 [35:19<02:06,  2.45it/s]"
     ]
    },
    {
     "name": "stderr",
     "output_type": "stream",
     "text": [
      "\r",
      "MMP-DF Pipeline from DB:  95%|██████████████████████████████████████████████████████████████████████████████████████████████████████████████████████████████████████████████████████████▏       | 4760/5000 [36:04<01:54,  2.09it/s]"
     ]
    },
    {
     "name": "stderr",
     "output_type": "stream",
     "text": [
      "\r",
      "MMP-DF Pipeline from DB:  97%|████████████████████████████████████████████████████████████████████████████████████████████████████████████████████████████████████████████████████████████▍     | 4830/5000 [36:49<01:29,  1.89it/s]"
     ]
    },
    {
     "name": "stderr",
     "output_type": "stream",
     "text": [
      "\r",
      "MMP-DF Pipeline from DB:  98%|██████████████████████████████████████████████████████████████████████████████████████████████████████████████████████████████████████████████████████████████▊   | 4900/5000 [37:29<00:54,  1.84it/s]"
     ]
    },
    {
     "name": "stderr",
     "output_type": "stream",
     "text": [
      "\r",
      "MMP-DF Pipeline from DB:  99%|█████████████████████████████████████████████████████████████████████████████████████████████████████████████████████████████████████████████████████████████████ | 4970/5000 [38:37<00:20,  1.49it/s]"
     ]
    },
    {
     "name": "stderr",
     "output_type": "stream",
     "text": [
      "\r",
      "MMP-DF Pipeline from DB: 100%|██████████████████████████████████████████████████████████████████████████████████████████████████████████████████████████████████████████████████████████████████| 5000/5000 [38:37<00:00,  2.16it/s]"
     ]
    },
    {
     "name": "stderr",
     "output_type": "stream",
     "text": [
      "\n"
     ]
    }
   ],
   "source": [
    "dictionary.mmpdfPipelineFromDB(input_signals_db, output_mmpdf_db, nb_cores=70, connections=3, branches=27, verbose=False)"
   ]
  }
 ],
 "metadata": {
  "kernelspec": {
   "display_name": "phlamesenv",
   "language": "python",
   "name": "python3"
  },
  "language_info": {
   "codemirror_mode": {
    "name": "ipython",
    "version": 3
   },
   "file_extension": ".py",
   "mimetype": "text/x-python",
   "name": "python",
   "nbconvert_exporter": "python",
   "pygments_lexer": "ipython3",
   "version": "3.11.2"
  },
  "papermill": {
   "default_parameters": {},
   "duration": 2447.497131,
   "end_time": "2024-07-04T15:55:08.920484",
   "environment_variables": {},
   "exception": null,
   "input_path": "build_mmpdf_db.ipynb",
   "output_path": "out_build_mmpdf_db.ipynb",
   "parameters": {},
   "start_time": "2024-07-04T15:14:21.423353",
   "version": "2.6.0"
  }
 },
 "nbformat": 4,
 "nbformat_minor": 5
}