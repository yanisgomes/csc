{
 "cells": [
  {
   "cell_type": "code",
   "execution_count": 1,
   "id": "964ce3f3",
   "metadata": {
    "execution": {
     "iopub.execute_input": "2024-06-14T14:48:38.109105Z",
     "iopub.status.busy": "2024-06-14T14:48:38.108960Z",
     "iopub.status.idle": "2024-06-14T14:48:39.471448Z",
     "shell.execute_reply": "2024-06-14T14:48:39.470698Z"
    },
    "papermill": {
     "duration": 1.367511,
     "end_time": "2024-06-14T14:48:39.474148",
     "exception": false,
     "start_time": "2024-06-14T14:48:38.106637",
     "status": "completed"
    },
    "tags": []
   },
   "outputs": [
    {
     "name": "stdout",
     "output_type": "stream",
     "text": [
      "The dictionary has 1428 different atoms\n"
     ]
    }
   ],
   "source": [
    "import json\n",
    "import numpy as np\n",
    "from tqdm import tqdm\n",
    "from csc.utils import *\n",
    "from csc.atoms import *\n",
    "from csc.dictionary import *\n",
    "from itertools import product\n",
    "import matplotlib.pyplot as plt\n",
    "\n",
    "# Atom parameters\n",
    "bmin = 0.005\n",
    "bmax = 0.60\n",
    "b_step = 0.005\n",
    "b_values = np.arange(bmin, bmax, b_step)\n",
    "\n",
    "ymin = 0.01\n",
    "ymax = 0.034\n",
    "y_step = 0.002\n",
    "y_values = np.arange(ymin, ymax, y_step)\n",
    "\n",
    "s_values = [1]\n",
    "\n",
    "dictionary = ZSDictionary.from_values(b_values, y_values, s_values)\n",
    "print('The dictionary has {} different atoms'.format(len(dictionary)))"
   ]
  },
  {
   "cell_type": "code",
   "execution_count": 2,
   "id": "350dabff",
   "metadata": {
    "execution": {
     "iopub.execute_input": "2024-06-14T14:48:39.481383Z",
     "iopub.status.busy": "2024-06-14T14:48:39.481083Z",
     "iopub.status.idle": "2024-06-14T14:48:39.484895Z",
     "shell.execute_reply": "2024-06-14T14:48:39.484021Z"
    },
    "papermill": {
     "duration": 0.009784,
     "end_time": "2024-06-14T14:48:39.487456",
     "exception": false,
     "start_time": "2024-06-14T14:48:39.477672",
     "status": "completed"
    },
    "tags": []
   },
   "outputs": [],
   "source": [
    "batchSize = 200\n",
    "input_signals_db = f'/home/gomes/synthetic-data/data_signals_{batchSize}.json'\n",
    "output_mmpdf_db = f'/home/gomes/synthetic-data/data_mmpdf_{batchSize}.json'"
   ]
  },
  {
   "cell_type": "code",
   "execution_count": 3,
   "id": "5b42657b",
   "metadata": {
    "execution": {
     "iopub.execute_input": "2024-06-14T14:48:39.493665Z",
     "iopub.status.busy": "2024-06-14T14:48:39.493386Z",
     "iopub.status.idle": "2024-06-14T19:30:32.441146Z",
     "shell.execute_reply": "2024-06-14T19:30:32.439741Z"
    },
    "papermill": {
     "duration": 16912.954759,
     "end_time": "2024-06-14T19:30:32.444709",
     "exception": false,
     "start_time": "2024-06-14T14:48:39.489950",
     "status": "completed"
    },
    "tags": []
   },
   "outputs": [
    {
     "name": "stderr",
     "output_type": "stream",
     "text": [
      "\r",
      "MMP-DF Pipeline from DB:   0%|                                                                                                                                                                        | 0/3000 [00:00<?, ?it/s]"
     ]
    },
    {
     "name": "stderr",
     "output_type": "stream",
     "text": [
      "\r",
      "MMP-DF Pipeline from DB:   2%|███▋                                                                                                                                                           | 70/3000 [00:01<00:55, 52.79it/s]"
     ]
    },
    {
     "name": "stderr",
     "output_type": "stream",
     "text": [
      "\r",
      "MMP-DF Pipeline from DB:   2%|███▋                                                                                                                                                           | 70/3000 [00:20<00:55, 52.79it/s]"
     ]
    },
    {
     "name": "stderr",
     "output_type": "stream",
     "text": [
      "\r",
      "MMP-DF Pipeline from DB:   5%|███████▎                                                                                                                                                      | 140/3000 [02:23<57:11,  1.20s/it]"
     ]
    },
    {
     "name": "stderr",
     "output_type": "stream",
     "text": [
      "\r",
      "MMP-DF Pipeline from DB:   7%|██████████▉                                                                                                                                                 | 210/3000 [05:54<1:34:30,  2.03s/it]"
     ]
    },
    {
     "name": "stderr",
     "output_type": "stream",
     "text": [
      "\r",
      "MMP-DF Pipeline from DB:   9%|██████████████▌                                                                                                                                             | 280/3000 [10:23<2:04:21,  2.74s/it]"
     ]
    },
    {
     "name": "stderr",
     "output_type": "stream",
     "text": [
      "/home/gomes/phlamesenv/lib/python3.11/site-packages/joblib/externals/loky/process_executor.py:752: UserWarning: A worker stopped while some jobs were given to the executor. This can be caused by a too short worker timeout or by a memory leak.\n",
      "  warnings.warn(\n"
     ]
    },
    {
     "name": "stderr",
     "output_type": "stream",
     "text": [
      "\r",
      "MMP-DF Pipeline from DB:  12%|██████████████████▏                                                                                                                                         | 350/3000 [15:57<2:33:35,  3.48s/it]"
     ]
    },
    {
     "name": "stderr",
     "output_type": "stream",
     "text": [
      "\r",
      "MMP-DF Pipeline from DB:  14%|█████████████████████▊                                                                                                                                      | 420/3000 [22:13<2:57:11,  4.12s/it]"
     ]
    },
    {
     "name": "stderr",
     "output_type": "stream",
     "text": [
      "\r",
      "MMP-DF Pipeline from DB:  16%|█████████████████████████▍                                                                                                                                  | 490/3000 [28:49<3:13:17,  4.62s/it]"
     ]
    },
    {
     "name": "stderr",
     "output_type": "stream",
     "text": [
      "\r",
      "MMP-DF Pipeline from DB:  19%|█████████████████████████████                                                                                                                               | 560/3000 [37:30<3:44:27,  5.52s/it]"
     ]
    },
    {
     "name": "stderr",
     "output_type": "stream",
     "text": [
      "\r",
      "MMP-DF Pipeline from DB:  21%|████████████████████████████████▊                                                                                                                           | 630/3000 [46:22<4:03:41,  6.17s/it]"
     ]
    },
    {
     "name": "stderr",
     "output_type": "stream",
     "text": [
      "\r",
      "MMP-DF Pipeline from DB:  23%|████████████████████████████████████▍                                                                                                                       | 700/3000 [55:06<4:12:07,  6.58s/it]"
     ]
    },
    {
     "name": "stderr",
     "output_type": "stream",
     "text": [
      "\r",
      "MMP-DF Pipeline from DB:  26%|████████████████████████████████████████                                                                                                                    | 770/3000 [59:51<3:36:01,  5.81s/it]"
     ]
    },
    {
     "name": "stderr",
     "output_type": "stream",
     "text": [
      "\r",
      "MMP-DF Pipeline from DB:  28%|███████████████████████████████████████████                                                                                                               | 840/3000 [1:03:42<3:01:39,  5.05s/it]"
     ]
    },
    {
     "name": "stderr",
     "output_type": "stream",
     "text": [
      "\r",
      "MMP-DF Pipeline from DB:  30%|██████████████████████████████████████████████▋                                                                                                           | 910/3000 [1:07:31<2:37:06,  4.51s/it]"
     ]
    },
    {
     "name": "stderr",
     "output_type": "stream",
     "text": [
      "\r",
      "MMP-DF Pipeline from DB:  33%|██████████████████████████████████████████████████▎                                                                                                       | 980/3000 [1:14:56<2:50:35,  5.07s/it]"
     ]
    },
    {
     "name": "stderr",
     "output_type": "stream",
     "text": [
      "\r",
      "MMP-DF Pipeline from DB:  35%|█████████████████████████████████████████████████████▌                                                                                                   | 1050/3000 [1:21:01<2:46:10,  5.11s/it]"
     ]
    },
    {
     "name": "stderr",
     "output_type": "stream",
     "text": [
      "\r",
      "MMP-DF Pipeline from DB:  37%|█████████████████████████████████████████████████████████                                                                                                | 1120/3000 [1:27:23<2:43:21,  5.21s/it]"
     ]
    },
    {
     "name": "stderr",
     "output_type": "stream",
     "text": [
      "\r",
      "MMP-DF Pipeline from DB:  40%|████████████████████████████████████████████████████████████▋                                                                                            | 1190/3000 [1:37:34<3:09:15,  6.27s/it]"
     ]
    },
    {
     "name": "stderr",
     "output_type": "stream",
     "text": [
      "\r",
      "MMP-DF Pipeline from DB:  42%|████████████████████████████████████████████████████████████████▎                                                                                        | 1260/3000 [1:46:38<3:14:59,  6.72s/it]"
     ]
    },
    {
     "name": "stderr",
     "output_type": "stream",
     "text": [
      "\r",
      "MMP-DF Pipeline from DB:  44%|███████████████████████████████████████████████████████████████████▊                                                                                     | 1330/3000 [1:53:30<3:00:02,  6.47s/it]"
     ]
    },
    {
     "name": "stderr",
     "output_type": "stream",
     "text": [
      "\r",
      "MMP-DF Pipeline from DB:  47%|███████████████████████████████████████████████████████████████████████▍                                                                                 | 1400/3000 [1:57:29<2:28:02,  5.55s/it]"
     ]
    },
    {
     "name": "stderr",
     "output_type": "stream",
     "text": [
      "\r",
      "MMP-DF Pipeline from DB:  49%|██████████████████████████████████████████████████████████████████████████▉                                                                              | 1470/3000 [2:01:29<2:05:22,  4.92s/it]"
     ]
    },
    {
     "name": "stderr",
     "output_type": "stream",
     "text": [
      "\r",
      "MMP-DF Pipeline from DB:  51%|██████████████████████████████████████████████████████████████████████████████▌                                                                          | 1540/3000 [2:06:22<1:54:19,  4.70s/it]"
     ]
    },
    {
     "name": "stderr",
     "output_type": "stream",
     "text": [
      "\r",
      "MMP-DF Pipeline from DB:  54%|██████████████████████████████████████████████████████████████████████████████████                                                                       | 1610/3000 [2:13:27<1:58:18,  5.11s/it]"
     ]
    },
    {
     "name": "stderr",
     "output_type": "stream",
     "text": [
      "\r",
      "MMP-DF Pipeline from DB:  56%|█████████████████████████████████████████████████████████████████████████████████████▋                                                                   | 1680/3000 [2:19:53<1:55:03,  5.23s/it]"
     ]
    },
    {
     "name": "stderr",
     "output_type": "stream",
     "text": [
      "\r",
      "MMP-DF Pipeline from DB:  58%|█████████████████████████████████████████████████████████████████████████████████████████▎                                                               | 1750/3000 [2:28:07<2:00:26,  5.78s/it]"
     ]
    },
    {
     "name": "stderr",
     "output_type": "stream",
     "text": [
      "\r",
      "MMP-DF Pipeline from DB:  61%|████████████████████████████████████████████████████████████████████████████████████████████▊                                                            | 1820/3000 [2:37:42<2:08:01,  6.51s/it]"
     ]
    },
    {
     "name": "stderr",
     "output_type": "stream",
     "text": [
      "\r",
      "MMP-DF Pipeline from DB:  63%|████████████████████████████████████████████████████████████████████████████████████████████████▍                                                        | 1890/3000 [2:46:29<2:06:06,  6.82s/it]"
     ]
    },
    {
     "name": "stderr",
     "output_type": "stream",
     "text": [
      "\r",
      "MMP-DF Pipeline from DB:  65%|███████████████████████████████████████████████████████████████████████████████████████████████████▉                                                     | 1960/3000 [2:51:26<1:44:42,  6.04s/it]"
     ]
    },
    {
     "name": "stderr",
     "output_type": "stream",
     "text": [
      "\r",
      "MMP-DF Pipeline from DB:  68%|███████████████████████████████████████████████████████████████████████████████████████████████████████▌                                                 | 2030/3000 [2:55:34<1:25:32,  5.29s/it]"
     ]
    },
    {
     "name": "stderr",
     "output_type": "stream",
     "text": [
      "\r",
      "MMP-DF Pipeline from DB:  70%|███████████████████████████████████████████████████████████████████████████████████████████████████████████                                              | 2100/3000 [2:59:40<1:11:25,  4.76s/it]"
     ]
    },
    {
     "name": "stderr",
     "output_type": "stream",
     "text": [
      "\r",
      "MMP-DF Pipeline from DB:  72%|██████████████████████████████████████████████████████████████████████████████████████████████████████████████▋                                          | 2170/3000 [3:06:57<1:11:58,  5.20s/it]"
     ]
    },
    {
     "name": "stderr",
     "output_type": "stream",
     "text": [
      "\r",
      "MMP-DF Pipeline from DB:  75%|██████████████████████████████████████████████████████████████████████████████████████████████████████████████████▏                                      | 2240/3000 [3:12:43<1:04:57,  5.13s/it]"
     ]
    },
    {
     "name": "stderr",
     "output_type": "stream",
     "text": [
      "\r",
      "MMP-DF Pipeline from DB:  77%|███████████████████████████████████████████████████████████████████████████████████████████████████████████████████████▎                                   | 2310/3000 [3:18:45<59:07,  5.14s/it]"
     ]
    },
    {
     "name": "stderr",
     "output_type": "stream",
     "text": [
      "\r",
      "MMP-DF Pipeline from DB:  79%|█████████████████████████████████████████████████████████████████████████████████████████████████████████████████████████▍                               | 2380/3000 [3:28:37<1:03:24,  6.14s/it]"
     ]
    },
    {
     "name": "stderr",
     "output_type": "stream",
     "text": [
      "\r",
      "MMP-DF Pipeline from DB:  82%|████████████████████████████████████████████████████████████████████████████████████████████████████████████████████████████▉                            | 2450/3000 [3:38:12<1:01:56,  6.76s/it]"
     ]
    },
    {
     "name": "stderr",
     "output_type": "stream",
     "text": [
      "\r",
      "MMP-DF Pipeline from DB:  84%|██████████████████████████████████████████████████████████████████████████████████████████████████████████████████████████████████▏                        | 2520/3000 [3:45:53<53:39,  6.71s/it]"
     ]
    },
    {
     "name": "stderr",
     "output_type": "stream",
     "text": [
      "\r",
      "MMP-DF Pipeline from DB:  86%|█████████████████████████████████████████████████████████████████████████████████████████████████████████████████████████████████████▊                     | 2590/3000 [3:49:47<38:55,  5.70s/it]"
     ]
    },
    {
     "name": "stderr",
     "output_type": "stream",
     "text": [
      "\r",
      "MMP-DF Pipeline from DB:  89%|█████████████████████████████████████████████████████████████████████████████████████████████████████████████████████████████████████████▍                 | 2660/3000 [3:53:52<28:33,  5.04s/it]"
     ]
    },
    {
     "name": "stderr",
     "output_type": "stream",
     "text": [
      "\r",
      "MMP-DF Pipeline from DB:  91%|█████████████████████████████████████████████████████████████████████████████████████████████████████████████████████████████████████████████              | 2730/3000 [3:58:20<21:02,  4.68s/it]"
     ]
    },
    {
     "name": "stderr",
     "output_type": "stream",
     "text": [
      "\r",
      "MMP-DF Pipeline from DB:  93%|████████████████████████████████████████████████████████████████████████████████████████████████████████████████████████████████████████████████▋          | 2800/3000 [4:05:42<17:13,  5.17s/it]"
     ]
    },
    {
     "name": "stderr",
     "output_type": "stream",
     "text": [
      "\r",
      "MMP-DF Pipeline from DB:  96%|████████████████████████████████████████████████████████████████████████████████████████████████████████████████████████████████████████████████████▎      | 2870/3000 [4:12:52<11:49,  5.46s/it]"
     ]
    },
    {
     "name": "stderr",
     "output_type": "stream",
     "text": [
      "\r",
      "MMP-DF Pipeline from DB:  98%|███████████████████████████████████████████████████████████████████████████████████████████████████████████████████████████████████████████████████████▉   | 2940/3000 [4:20:19<05:44,  5.74s/it]"
     ]
    },
    {
     "name": "stderr",
     "output_type": "stream",
     "text": [
      "\r",
      "MMP-DF Pipeline from DB: 100%|███████████████████████████████████████████████████████████████████████████████████████████████████████████████████████████████████████████████████████████| 3000/3000 [4:20:19<00:00,  5.21s/it]"
     ]
    },
    {
     "name": "stderr",
     "output_type": "stream",
     "text": [
      "\n"
     ]
    }
   ],
   "source": [
    "dictionary.mmpdfPipelineFromDB(input_signals_db, output_mmpdf_db, nb_cores=70, verbose=False)"
   ]
  }
 ],
 "metadata": {
  "kernelspec": {
   "display_name": "phlamesenv",
   "language": "python",
   "name": "python3"
  },
  "language_info": {
   "codemirror_mode": {
    "name": "ipython",
    "version": 3
   },
   "file_extension": ".py",
   "mimetype": "text/x-python",
   "name": "python",
   "nbconvert_exporter": "python",
   "pygments_lexer": "ipython3",
   "version": "3.11.2"
  },
  "papermill": {
   "default_parameters": {},
   "duration": 16917.713582,
   "end_time": "2024-06-14T19:30:35.119586",
   "environment_variables": {},
   "exception": null,
   "input_path": "build_mmpdf_db.ipynb",
   "output_path": "out_build_mmpdf_db.ipynb",
   "parameters": {},
   "start_time": "2024-06-14T14:48:37.406004",
   "version": "2.6.0"
  }
 },
 "nbformat": 4,
 "nbformat_minor": 5
}