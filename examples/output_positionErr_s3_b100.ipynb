{
 "cells": [
  {
   "cell_type": "markdown",
   "id": "242f630a",
   "metadata": {
    "papermill": {
     "duration": 0.003459,
     "end_time": "2024-05-29T16:06:19.196200",
     "exception": false,
     "start_time": "2024-05-29T16:06:19.192741",
     "status": "completed"
    },
    "tags": []
   },
   "source": [
    "### Erreur en position ``sparsity_level = 3`` & ``batch_size = 100``"
   ]
  },
  {
   "cell_type": "code",
   "execution_count": 1,
   "id": "b3ba8cbf",
   "metadata": {
    "execution": {
     "iopub.execute_input": "2024-05-29T16:06:19.205907Z",
     "iopub.status.busy": "2024-05-29T16:06:19.205142Z",
     "iopub.status.idle": "2024-05-29T16:06:22.999009Z",
     "shell.execute_reply": "2024-05-29T16:06:22.997890Z"
    },
    "papermill": {
     "duration": 3.805815,
     "end_time": "2024-05-29T16:06:23.004199",
     "exception": false,
     "start_time": "2024-05-29T16:06:19.198384",
     "status": "completed"
    },
    "tags": []
   },
   "outputs": [
    {
     "name": "stdout",
     "output_type": "stream",
     "text": [
      "The dictionary has 1428 different atoms\n"
     ]
    }
   ],
   "source": [
    "import numpy as np\n",
    "import pandas as pd\n",
    "from numba import njit\n",
    "from csc.atoms import *\n",
    "from csc.dictionary import *\n",
    "import matplotlib.pyplot as plt\n",
    "\n",
    "# atom parameters\n",
    "bmin = 0.005\n",
    "bmax = 0.60\n",
    "b_step = 0.005\n",
    "b_values = np.arange(bmin, bmax, b_step)\n",
    "\n",
    "ymin = 0.01\n",
    "ymax = 0.034\n",
    "y_step = 0.002\n",
    "y_values = np.arange(ymin, ymax, y_step)\n",
    "\n",
    "s_values = [1]\n",
    "\n",
    "dictionary = ZSDictionary.from_values(b_values, y_values, s_values)\n",
    "print('The dictionary has {} different atoms'.format(len(dictionary)))"
   ]
  },
  {
   "cell_type": "code",
   "execution_count": 2,
   "id": "5355f27f",
   "metadata": {
    "execution": {
     "iopub.execute_input": "2024-05-29T16:06:23.020574Z",
     "iopub.status.busy": "2024-05-29T16:06:23.019143Z"
    },
    "papermill": {
     "duration": null,
     "end_time": null,
     "exception": false,
     "start_time": "2024-05-29T16:06:23.010653",
     "status": "running"
    },
    "tags": []
   },
   "outputs": [
    {
     "name": "stderr",
     "output_type": "stream",
     "text": [
      "\r",
      "OMP Test Batch for noise_level = 0.00:   0%|          | 0/100 [00:00<?, ?it/s]"
     ]
    },
    {
     "name": "stderr",
     "output_type": "stream",
     "text": [
      "\r",
      "OMP Test Batch for noise_level = 0.01:   0%|          | 0/100 [00:00<?, ?it/s]"
     ]
    },
    {
     "name": "stderr",
     "output_type": "stream",
     "text": [
      "\r",
      "OMP Test Batch for noise_level = 0.02:   0%|          | 0/100 [00:00<?, ?it/s]"
     ]
    },
    {
     "name": "stderr",
     "output_type": "stream",
     "text": [
      "\r",
      "OMP Test Batch for noise_level = 0.03:   0%|          | 0/100 [00:00<?, ?it/s]"
     ]
    },
    {
     "name": "stderr",
     "output_type": "stream",
     "text": [
      "\r",
      "OMP Test Batch for noise_level = 0.04:   0%|          | 0/100 [00:00<?, ?it/s]"
     ]
    },
    {
     "name": "stderr",
     "output_type": "stream",
     "text": [
      "\r",
      "OMP Test Batch for noise_level = 0.05:   0%|          | 0/100 [00:00<?, ?it/s]"
     ]
    },
    {
     "name": "stderr",
     "output_type": "stream",
     "text": [
      "\r",
      "OMP Test Batch for noise_level = 0.06:   0%|          | 0/100 [00:00<?, ?it/s]"
     ]
    },
    {
     "name": "stderr",
     "output_type": "stream",
     "text": [
      "\r",
      "OMP Test Batch for noise_level = 0.08:   0%|          | 0/100 [00:00<?, ?it/s]\r",
      "OMP Test Batch for noise_level = 0.07:   0%|          | 0/100 [00:00<?, ?it/s]"
     ]
    },
    {
     "name": "stderr",
     "output_type": "stream",
     "text": [
      "\r",
      "OMP Test Batch for noise_level = 0.09:   0%|          | 0/100 [00:00<?, ?it/s]"
     ]
    },
    {
     "name": "stderr",
     "output_type": "stream",
     "text": [
      "\r",
      "OMP Test Batch for noise_level = 0.10:   0%|          | 0/100 [00:00<?, ?it/s]"
     ]
    },
    {
     "name": "stderr",
     "output_type": "stream",
     "text": [
      "\r",
      "OMP Test Batch for noise_level = 0.12:   0%|          | 0/100 [00:00<?, ?it/s]"
     ]
    },
    {
     "name": "stderr",
     "output_type": "stream",
     "text": [
      "\r",
      "OMP Test Batch for noise_level = 0.14:   0%|          | 0/100 [00:00<?, ?it/s]"
     ]
    },
    {
     "name": "stderr",
     "output_type": "stream",
     "text": [
      "\r",
      "OMP Test Batch for noise_level = 0.18:   0%|          | 0/100 [00:00<?, ?it/s]"
     ]
    },
    {
     "name": "stderr",
     "output_type": "stream",
     "text": [
      "\r",
      "OMP Test Batch for noise_level = 0.16:   0%|          | 0/100 [00:00<?, ?it/s]"
     ]
    },
    {
     "name": "stderr",
     "output_type": "stream",
     "text": [
      "\r",
      "OMP Test Batch for noise_level = 0.20:   0%|          | 0/100 [00:00<?, ?it/s]"
     ]
    },
    {
     "name": "stderr",
     "output_type": "stream",
     "text": [
      "\r",
      "OMP Test Batch for noise_level = 0.04:   1%|          | 1/100 [00:31<51:57, 31.49s/it]"
     ]
    },
    {
     "name": "stderr",
     "output_type": "stream",
     "text": [
      "\r",
      "OMP Test Batch for noise_level = 0.05:   1%|          | 1/100 [00:33<54:51, 33.24s/it]"
     ]
    },
    {
     "name": "stderr",
     "output_type": "stream",
     "text": [
      "\r",
      "OMP Test Batch for noise_level = 0.18:   1%|          | 1/100 [00:24<40:05, 24.30s/it]"
     ]
    },
    {
     "name": "stderr",
     "output_type": "stream",
     "text": [
      "\r",
      "OMP Test Batch for noise_level = 0.08:   1%|          | 1/100 [00:34<57:02, 34.58s/it]"
     ]
    },
    {
     "name": "stderr",
     "output_type": "stream",
     "text": [
      "\r",
      "OMP Test Batch for noise_level = 0.10:   1%|          | 1/100 [00:33<55:29, 33.63s/it]"
     ]
    },
    {
     "name": "stderr",
     "output_type": "stream",
     "text": [
      "\r",
      "OMP Test Batch for noise_level = 0.01:   1%|          | 1/100 [00:44<1:13:52, 44.78s/it]"
     ]
    },
    {
     "name": "stderr",
     "output_type": "stream",
     "text": [
      "\r",
      "OMP Test Batch for noise_level = 0.00:   1%|          | 1/100 [00:45<1:15:23, 45.69s/it]"
     ]
    },
    {
     "name": "stderr",
     "output_type": "stream",
     "text": [
      "\r",
      "OMP Test Batch for noise_level = 0.20:   1%|          | 1/100 [00:30<50:06, 30.37s/it]\r",
      "OMP Test Batch for noise_level = 0.03:   1%|          | 1/100 [00:44<1:13:41, 44.66s/it]"
     ]
    },
    {
     "name": "stderr",
     "output_type": "stream",
     "text": [
      "\r",
      "OMP Test Batch for noise_level = 0.02:   1%|          | 1/100 [00:48<1:20:17, 48.66s/it]"
     ]
    },
    {
     "name": "stderr",
     "output_type": "stream",
     "text": [
      "\r",
      "OMP Test Batch for noise_level = 0.06:   1%|          | 1/100 [00:45<1:15:28, 45.74s/it]"
     ]
    },
    {
     "name": "stderr",
     "output_type": "stream",
     "text": [
      "\r",
      "OMP Test Batch for noise_level = 0.07:   1%|          | 1/100 [00:46<1:16:15, 46.22s/it]"
     ]
    },
    {
     "name": "stderr",
     "output_type": "stream",
     "text": [
      "\r",
      "OMP Test Batch for noise_level = 0.09:   1%|          | 1/100 [00:52<1:26:58, 52.71s/it]"
     ]
    },
    {
     "name": "stderr",
     "output_type": "stream",
     "text": [
      "\r",
      "OMP Test Batch for noise_level = 0.14:   1%|          | 1/100 [00:53<1:27:52, 53.25s/it]"
     ]
    },
    {
     "name": "stderr",
     "output_type": "stream",
     "text": [
      "\r",
      "OMP Test Batch for noise_level = 0.12:   1%|          | 1/100 [00:54<1:29:38, 54.33s/it]"
     ]
    },
    {
     "name": "stderr",
     "output_type": "stream",
     "text": [
      "\r",
      "OMP Test Batch for noise_level = 0.04:   2%|▏         | 2/100 [01:03<51:37, 31.61s/it]"
     ]
    },
    {
     "name": "stderr",
     "output_type": "stream",
     "text": [
      "\r",
      "OMP Test Batch for noise_level = 0.16:   1%|          | 1/100 [00:53<1:28:50, 53.84s/it]"
     ]
    },
    {
     "name": "stderr",
     "output_type": "stream",
     "text": [
      "\r",
      "OMP Test Batch for noise_level = 0.05:   2%|▏         | 2/100 [01:06<54:12, 33.18s/it]"
     ]
    },
    {
     "name": "stderr",
     "output_type": "stream",
     "text": [
      "\r",
      "OMP Test Batch for noise_level = 0.18:   2%|▏         | 2/100 [00:57<48:12, 29.52s/it]"
     ]
    },
    {
     "name": "stderr",
     "output_type": "stream",
     "text": [
      "\r",
      "OMP Test Batch for noise_level = 0.10:   2%|▏         | 2/100 [01:08<56:31, 34.61s/it]"
     ]
    },
    {
     "name": "stderr",
     "output_type": "stream",
     "text": [
      "\r",
      "OMP Test Batch for noise_level = 0.20:   2%|▏         | 2/100 [01:01<49:55, 30.57s/it]"
     ]
    },
    {
     "name": "stderr",
     "output_type": "stream",
     "text": [
      "\r",
      "OMP Test Batch for noise_level = 0.08:   2%|▏         | 2/100 [01:12<59:44, 36.57s/it]"
     ]
    },
    {
     "name": "stderr",
     "output_type": "stream",
     "text": [
      "\r",
      "OMP Test Batch for noise_level = 0.01:   2%|▏         | 2/100 [01:28<1:12:07, 44.16s/it]"
     ]
    },
    {
     "name": "stderr",
     "output_type": "stream",
     "text": [
      "\r",
      "OMP Test Batch for noise_level = 0.07:   2%|▏         | 2/100 [01:25<1:08:49, 42.14s/it]"
     ]
    },
    {
     "name": "stderr",
     "output_type": "stream",
     "text": [
      "\r",
      "OMP Test Batch for noise_level = 0.02:   2%|▏         | 2/100 [01:39<1:21:15, 49.75s/it]\r",
      "OMP Test Batch for noise_level = 0.00:   2%|▏         | 2/100 [01:40<1:23:26, 51.09s/it]"
     ]
    },
    {
     "name": "stderr",
     "output_type": "stream",
     "text": [
      "\r",
      "OMP Test Batch for noise_level = 0.04:   3%|▎         | 3/100 [01:37<53:16, 32.96s/it]"
     ]
    },
    {
     "name": "stderr",
     "output_type": "stream",
     "text": [
      "\r",
      "OMP Test Batch for noise_level = 0.05:   3%|▎         | 3/100 [01:37<51:51, 32.08s/it]"
     ]
    },
    {
     "name": "stderr",
     "output_type": "stream",
     "text": [
      "\r",
      "OMP Test Batch for noise_level = 0.03:   2%|▏         | 2/100 [01:39<1:22:42, 50.64s/it]"
     ]
    },
    {
     "name": "stderr",
     "output_type": "stream",
     "text": [
      "\r",
      "OMP Test Batch for noise_level = 0.06:   2%|▏         | 2/100 [01:41<1:24:05, 51.48s/it]"
     ]
    },
    {
     "name": "stderr",
     "output_type": "stream",
     "text": [
      "\r",
      "OMP Test Batch for noise_level = 0.20:   3%|▎         | 3/100 [01:32<49:42, 30.74s/it]"
     ]
    },
    {
     "name": "stderr",
     "output_type": "stream",
     "text": [
      "\r",
      "OMP Test Batch for noise_level = 0.10:   3%|▎         | 3/100 [01:42<54:49, 33.92s/it]"
     ]
    },
    {
     "name": "stderr",
     "output_type": "stream",
     "text": [
      "\r",
      "OMP Test Batch for noise_level = 0.18:   3%|▎         | 3/100 [01:38<56:03, 34.67s/it]"
     ]
    },
    {
     "name": "stderr",
     "output_type": "stream",
     "text": [
      "\r",
      "OMP Test Batch for noise_level = 0.08:   3%|▎         | 3/100 [01:49<59:05, 36.55s/it]"
     ]
    },
    {
     "name": "stderr",
     "output_type": "stream",
     "text": [
      "\r",
      "OMP Test Batch for noise_level = 0.09:   2%|▏         | 2/100 [01:48<1:29:27, 54.78s/it]"
     ]
    },
    {
     "name": "stderr",
     "output_type": "stream",
     "text": [
      "\r",
      "OMP Test Batch for noise_level = 0.12:   2%|▏         | 2/100 [01:50<1:30:53, 55.65s/it]"
     ]
    },
    {
     "name": "stderr",
     "output_type": "stream",
     "text": [
      "\r",
      "OMP Test Batch for noise_level = 0.14:   2%|▏         | 2/100 [01:51<1:31:31, 56.04s/it]"
     ]
    },
    {
     "name": "stderr",
     "output_type": "stream",
     "text": [
      "\r",
      "OMP Test Batch for noise_level = 0.01:   3%|▎         | 3/100 [02:03<1:04:29, 39.89s/it]"
     ]
    },
    {
     "name": "stderr",
     "output_type": "stream",
     "text": [
      "\r",
      "OMP Test Batch for noise_level = 0.16:   2%|▏         | 2/100 [01:49<1:29:53, 55.03s/it]"
     ]
    },
    {
     "name": "stderr",
     "output_type": "stream",
     "text": [
      "\r",
      "OMP Test Batch for noise_level = 0.07:   3%|▎         | 3/100 [01:58<1:01:27, 38.02s/it]"
     ]
    },
    {
     "name": "stderr",
     "output_type": "stream",
     "text": [
      "\r",
      "OMP Test Batch for noise_level = 0.04:   4%|▍         | 4/100 [02:12<53:35, 33.50s/it]\r",
      "OMP Test Batch for noise_level = 0.05:   4%|▍         | 4/100 [02:10<52:22, 32.73s/it]"
     ]
    },
    {
     "name": "stderr",
     "output_type": "stream",
     "text": [
      "\r",
      "OMP Test Batch for noise_level = 0.20:   4%|▍         | 4/100 [02:03<49:41, 31.06s/it]"
     ]
    },
    {
     "name": "stderr",
     "output_type": "stream",
     "text": [
      "\r",
      "OMP Test Batch for noise_level = 0.10:   4%|▍         | 4/100 [02:16<54:47, 34.25s/it]"
     ]
    },
    {
     "name": "stderr",
     "output_type": "stream",
     "text": [
      "\r",
      "OMP Test Batch for noise_level = 0.08:   4%|▍         | 4/100 [02:23<57:10, 35.73s/it]"
     ]
    },
    {
     "name": "stderr",
     "output_type": "stream",
     "text": [
      "\r",
      "OMP Test Batch for noise_level = 0.18:   4%|▍         | 4/100 [02:19<59:33, 37.22s/it]"
     ]
    },
    {
     "name": "stderr",
     "output_type": "stream",
     "text": [
      "\r",
      "OMP Test Batch for noise_level = 0.02:   3%|▎         | 3/100 [02:35<1:25:19, 52.78s/it]"
     ]
    },
    {
     "name": "stderr",
     "output_type": "stream",
     "text": [
      "\r",
      "OMP Test Batch for noise_level = 0.00:   3%|▎         | 3/100 [02:37<1:26:35, 53.56s/it]\r",
      "OMP Test Batch for noise_level = 0.01:   4%|▍         | 4/100 [02:36<59:46, 37.36s/it]  "
     ]
    },
    {
     "name": "stderr",
     "output_type": "stream",
     "text": [
      "\r",
      "OMP Test Batch for noise_level = 0.03:   3%|▎         | 3/100 [02:35<1:25:35, 52.95s/it]"
     ]
    },
    {
     "name": "stderr",
     "output_type": "stream",
     "text": [
      "\r",
      "OMP Test Batch for noise_level = 0.07:   4%|▍         | 4/100 [02:32<57:57, 36.23s/it]  "
     ]
    },
    {
     "name": "stderr",
     "output_type": "stream",
     "text": [
      "\r",
      "OMP Test Batch for noise_level = 0.06:   3%|▎         | 3/100 [02:38<1:27:48, 54.31s/it]"
     ]
    },
    {
     "name": "stderr",
     "output_type": "stream",
     "text": [
      "\r",
      "OMP Test Batch for noise_level = 0.05:   5%|▌         | 5/100 [02:40<49:52, 31.50s/it]"
     ]
    },
    {
     "name": "stderr",
     "output_type": "stream",
     "text": [
      "\r",
      "OMP Test Batch for noise_level = 0.12:   3%|▎         | 3/100 [02:40<1:25:37, 52.97s/it]\r",
      "OMP Test Batch for noise_level = 0.09:   3%|▎         | 3/100 [02:44<1:28:47, 54.92s/it]"
     ]
    },
    {
     "name": "stderr",
     "output_type": "stream",
     "text": [
      "\r",
      "OMP Test Batch for noise_level = 0.20:   5%|▌         | 5/100 [02:35<49:40, 31.37s/it]"
     ]
    },
    {
     "name": "stderr",
     "output_type": "stream",
     "text": [
      "\r",
      "OMP Test Batch for noise_level = 0.14:   3%|▎         | 3/100 [02:42<1:26:53, 53.75s/it]"
     ]
    },
    {
     "name": "stderr",
     "output_type": "stream",
     "text": [
      "\r",
      "OMP Test Batch for noise_level = 0.10:   5%|▌         | 5/100 [02:49<53:15, 33.64s/it]"
     ]
    },
    {
     "name": "stderr",
     "output_type": "stream",
     "text": [
      "\r",
      "OMP Test Batch for noise_level = 0.16:   3%|▎         | 3/100 [02:44<1:29:06, 55.11s/it]"
     ]
    },
    {
     "name": "stderr",
     "output_type": "stream",
     "text": [
      "\r",
      "OMP Test Batch for noise_level = 0.08:   5%|▌         | 5/100 [02:56<55:05, 34.79s/it]"
     ]
    },
    {
     "name": "stderr",
     "output_type": "stream",
     "text": [
      "\r",
      "OMP Test Batch for noise_level = 0.04:   5%|▌         | 5/100 [03:00<1:01:40, 38.96s/it]"
     ]
    },
    {
     "name": "stderr",
     "output_type": "stream",
     "text": [
      "\r",
      "OMP Test Batch for noise_level = 0.01:   5%|▌         | 5/100 [03:05<54:06, 34.17s/it]"
     ]
    },
    {
     "name": "stderr",
     "output_type": "stream",
     "text": [
      "\r",
      "OMP Test Batch for noise_level = 0.07:   5%|▌         | 5/100 [03:03<54:29, 34.42s/it]"
     ]
    },
    {
     "name": "stderr",
     "output_type": "stream",
     "text": [
      "\r",
      "OMP Test Batch for noise_level = 0.05:   6%|▌         | 6/100 [03:12<49:59, 31.91s/it]"
     ]
    },
    {
     "name": "stderr",
     "output_type": "stream",
     "text": [
      "\r",
      "OMP Test Batch for noise_level = 0.18:   5%|▌         | 5/100 [03:04<1:03:35, 40.16s/it]"
     ]
    },
    {
     "name": "stderr",
     "output_type": "stream",
     "text": [
      "\r",
      "OMP Test Batch for noise_level = 0.20:   6%|▌         | 6/100 [03:07<49:25, 31.55s/it]"
     ]
    },
    {
     "name": "stderr",
     "output_type": "stream",
     "text": [
      "\r",
      "OMP Test Batch for noise_level = 0.03:   4%|▍         | 4/100 [03:24<1:22:23, 51.49s/it]"
     ]
    },
    {
     "name": "stderr",
     "output_type": "stream",
     "text": [
      "\r",
      "OMP Test Batch for noise_level = 0.10:   6%|▌         | 6/100 [03:22<52:34, 33.56s/it]"
     ]
    },
    {
     "name": "stderr",
     "output_type": "stream",
     "text": [
      "\r",
      "OMP Test Batch for noise_level = 0.02:   4%|▍         | 4/100 [03:29<1:25:21, 53.35s/it]"
     ]
    },
    {
     "name": "stderr",
     "output_type": "stream",
     "text": [
      "\r",
      "OMP Test Batch for noise_level = 0.00:   4%|▍         | 4/100 [03:31<1:26:21, 53.97s/it]"
     ]
    },
    {
     "name": "stderr",
     "output_type": "stream",
     "text": [
      "\r",
      "OMP Test Batch for noise_level = 0.08:   6%|▌         | 6/100 [03:26<51:51, 33.10s/it]"
     ]
    },
    {
     "name": "stderr",
     "output_type": "stream",
     "text": [
      "\r",
      "OMP Test Batch for noise_level = 0.06:   4%|▍         | 4/100 [03:29<1:24:23, 52.74s/it]"
     ]
    },
    {
     "name": "stderr",
     "output_type": "stream",
     "text": [
      "\r",
      "OMP Test Batch for noise_level = 0.12:   4%|▍         | 4/100 [03:24<1:18:56, 49.33s/it]"
     ]
    },
    {
     "name": "stderr",
     "output_type": "stream",
     "text": [
      "\r",
      "OMP Test Batch for noise_level = 0.01:   6%|▌         | 6/100 [03:36<51:51, 33.11s/it]"
     ]
    },
    {
     "name": "stderr",
     "output_type": "stream",
     "text": [
      "\r",
      "OMP Test Batch for noise_level = 0.04:   6%|▌         | 6/100 [03:37<59:45, 38.15s/it]  "
     ]
    },
    {
     "name": "stderr",
     "output_type": "stream",
     "text": [
      "\r",
      "OMP Test Batch for noise_level = 0.07:   6%|▌         | 6/100 [03:34<52:19, 33.40s/it]"
     ]
    },
    {
     "name": "stderr",
     "output_type": "stream",
     "text": [
      "\r",
      "OMP Test Batch for noise_level = 0.14:   4%|▍         | 4/100 [03:32<1:23:34, 52.23s/it]"
     ]
    },
    {
     "name": "stderr",
     "output_type": "stream",
     "text": [
      "\r",
      "OMP Test Batch for noise_level = 0.09:   4%|▍         | 4/100 [03:38<1:27:33, 54.72s/it]"
     ]
    },
    {
     "name": "stderr",
     "output_type": "stream",
     "text": [
      "\r",
      "OMP Test Batch for noise_level = 0.05:   7%|▋         | 7/100 [03:45<49:49, 32.14s/it]"
     ]
    },
    {
     "name": "stderr",
     "output_type": "stream",
     "text": [
      "\r",
      "OMP Test Batch for noise_level = 0.16:   4%|▍         | 4/100 [03:38<1:26:55, 54.33s/it]"
     ]
    },
    {
     "name": "stderr",
     "output_type": "stream",
     "text": [
      "\r",
      "OMP Test Batch for noise_level = 0.20:   7%|▋         | 7/100 [03:38<48:53, 31.54s/it]"
     ]
    }
   ],
   "source": [
    "positionErrors3_100 = dictionary.ompPositionErrorPipeline(sparsity_level=3, batch_size=100, cores=50, verbose=False)"
   ]
  },
  {
   "cell_type": "code",
   "execution_count": null,
   "id": "6c3b5940",
   "metadata": {
    "papermill": {
     "duration": null,
     "end_time": null,
     "exception": null,
     "start_time": null,
     "status": "pending"
    },
    "tags": []
   },
   "outputs": [],
   "source": [
    "plt.figure(figsize=(10, 6))\n",
    "\n",
    "# Pre-processing\n",
    "results_dict = positionErrors3_100\n",
    "# Génère des couleurs\n",
    "colors = plt.cm.viridis(np.linspace(0, 1, len(results_dict)))  \n",
    "\n",
    "# Définition des bins pour les erreurs de position\n",
    "max_error = max(max(counter.keys()) for counter in results_dict.values())\n",
    "min_error = min(min(counter.keys()) for counter in results_dict.values())\n",
    "bins = np.arange(min_error, max_error + 50, 50)  # Création des bins de 50 unités\n",
    "\n",
    "# Parcourir le dictionnaire de résultats et dessiner un histogramme pour chaque niveau de bruit\n",
    "for (noise_level, counter), color in zip(results_dict.items(), colors):\n",
    "    # Regroupement des erreurs par bins\n",
    "    errors, counts = zip(*counter.items())\n",
    "    summed_counts, _ = np.histogram(errors, bins=bins, weights=counts)\n",
    "    \n",
    "    # Normaliser pour faire un histogramme de densité\n",
    "    summed_counts = summed_counts / sum(summed_counts)\n",
    "\n",
    "    # Dessiner l'histogramme de densité\n",
    "    plt.bar(bins[:-1], summed_counts, color=color, alpha=0.8, label=f'Noise {noise_level:.2f}', width=45)\n",
    "\n",
    "plt.title('3 atoms/signal & 20 signals/batch')\n",
    "plt.xlabel('Position Error')\n",
    "plt.ylabel('Density')\n",
    "plt.xticks(bins)  # Définir les ticks sur les bins\n",
    "plt.legend(title=\"Noise Levels\")\n",
    "plt.grid(True)\n",
    "plt.show()"
   ]
  }
 ],
 "metadata": {
  "kernelspec": {
   "display_name": "phlamesenv",
   "language": "python",
   "name": "python3"
  },
  "language_info": {
   "codemirror_mode": {
    "name": "ipython",
    "version": 3
   },
   "file_extension": ".py",
   "mimetype": "text/x-python",
   "name": "python",
   "nbconvert_exporter": "python",
   "pygments_lexer": "ipython3",
   "version": "3.11.2"
  },
  "papermill": {
   "default_parameters": {},
   "duration": null,
   "end_time": null,
   "environment_variables": {},
   "exception": null,
   "input_path": "positionErr_s3_b100.ipynb",
   "output_path": "output_positionErr_s3_b100.ipynb",
   "parameters": {},
   "start_time": "2024-05-29T16:06:17.411651",
   "version": "2.6.0"
  }
 },
 "nbformat": 4,
 "nbformat_minor": 5
}