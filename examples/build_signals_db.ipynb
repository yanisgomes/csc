{
 "cells": [
  {
   "cell_type": "code",
   "execution_count": 1,
   "metadata": {},
   "outputs": [
    {
     "name": "stdout",
     "output_type": "stream",
     "text": [
      "The dictionary has 1428 different atoms\n"
     ]
    }
   ],
   "source": [
    "import numpy as np\n",
    "from csc.utils import *\n",
    "from csc.atoms import *\n",
    "from csc.dictionary import *\n",
    "from itertools import product\n",
    "import matplotlib.pyplot as plt\n",
    "\n",
    "# Atom parameters\n",
    "bmin = 0.005\n",
    "bmax = 0.60\n",
    "b_step = 0.005\n",
    "b_values = np.arange(bmin, bmax, b_step)\n",
    "\n",
    "ymin = 0.01\n",
    "ymax = 0.034\n",
    "y_step = 0.002\n",
    "y_values = np.arange(ymin, ymax, y_step)\n",
    "\n",
    "s_values = [1]\n",
    "\n",
    "dictionary = ZSDictionary.from_values(b_values, y_values, s_values)\n",
    "print('The dictionary has {} different atoms'.format(len(dictionary)))"
   ]
  },
  {
   "cell_type": "code",
   "execution_count": 5,
   "metadata": {},
   "outputs": [],
   "source": [
    "# Signals parameters\n",
    "signalLength = dictionary.getAtomsLength()\n",
    "snrLevels = np.arange(-5, 20, 5)\n",
    "sparsityLevels = [3, 4, 5]\n",
    "batchSize = 200"
   ]
  },
  {
   "cell_type": "code",
   "execution_count": 6,
   "metadata": {},
   "outputs": [],
   "source": [
    "\n",
    "idx = 0\n",
    "json_filename = 'signals_db200.json'\n",
    "\n",
    "# Create the json file and open it\n",
    "results = []\n",
    "for snr, sparsity in product(snrLevels, sparsityLevels):\n",
    "    # Initialize the results list\n",
    "    for _ in range(batchSize):\n",
    "        signal, infos = dictionary.generateTestSignal(signalLength, sparsity, snr)\n",
    "        result = {\n",
    "            'id' : idx,\n",
    "            'snr': snr,\n",
    "            'sparsity': sparsity,\n",
    "            'signal': signal.tolist(),\n",
    "            'atoms': infos\n",
    "        }\n",
    "        results.append(result)\n",
    "        idx += 1\n",
    "\n",
    "# Save the results in the json file\n",
    "json.dump(results, open(json_filename, 'w'), indent=4, default=handle_non_serializable)"
   ]
  }
 ],
 "metadata": {
  "kernelspec": {
   "display_name": "phlamesenv",
   "language": "python",
   "name": "python3"
  },
  "language_info": {
   "codemirror_mode": {
    "name": "ipython",
    "version": 3
   },
   "file_extension": ".py",
   "mimetype": "text/x-python",
   "name": "python",
   "nbconvert_exporter": "python",
   "pygments_lexer": "ipython3",
   "version": "3.10.1"
  }
 },
 "nbformat": 4,
 "nbformat_minor": 2
}
