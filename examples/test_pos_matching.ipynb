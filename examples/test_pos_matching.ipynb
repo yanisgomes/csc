{
 "cells": [
  {
   "cell_type": "code",
   "execution_count": 1,
   "metadata": {},
   "outputs": [],
   "source": [
    "import random\n",
    "import numpy as np\n",
    "\n",
    "from csc.workbench import *"
   ]
  },
  {
   "cell_type": "code",
   "execution_count": 2,
   "metadata": {},
   "outputs": [
    {
     "name": "stdout",
     "output_type": "stream",
     "text": [
      "[{'x': 15}, {'x': 14}, {'x': 10}]\n",
      "[{'x': 15}, {'x': 6}, {'x': 14}]\n"
     ]
    }
   ],
   "source": [
    "true_atoms = [{'x' : random.randint(0, 20)} for i in range(3)]\n",
    "approx_atoms = [{'x' : random.randint(0, 20)} for i in range(3)]\n",
    "print(true_atoms)\n",
    "print(approx_atoms)"
   ]
  },
  {
   "cell_type": "code",
   "execution_count": 4,
   "metadata": {},
   "outputs": [],
   "source": [
    "true_atoms = [\n",
    "              {'x' : 2},\n",
    "              {'x' : 9},\n",
    "              {'x' : 12}\n",
    "              ]\n",
    "approx_atoms = [\n",
    "              {'x' : 3},\n",
    "              {'x' : 4},\n",
    "              {'x' : 11}\n",
    "              ]"
   ]
  },
  {
   "cell_type": "code",
   "execution_count": 5,
   "metadata": {},
   "outputs": [
    {
     "name": "stdout",
     "output_type": "stream",
     "text": [
      "[({'x': 2}, {'x': 3}), ({'x': 9}, {'x': 4}), ({'x': 12}, {'x': 11})]\n"
     ]
    }
   ],
   "source": [
    "matched_atoms = CSCWorkbench.positionMatching(true_atoms=true_atoms, approx_atoms=approx_atoms)\n",
    "print(matched_atoms)"
   ]
  }
 ],
 "metadata": {
  "kernelspec": {
   "display_name": "phlamesenv",
   "language": "python",
   "name": "python3"
  },
  "language_info": {
   "codemirror_mode": {
    "name": "ipython",
    "version": 3
   },
   "file_extension": ".py",
   "mimetype": "text/x-python",
   "name": "python",
   "nbconvert_exporter": "python",
   "pygments_lexer": "ipython3",
   "version": "3.11.2"
  }
 },
 "nbformat": 4,
 "nbformat_minor": 2
}
