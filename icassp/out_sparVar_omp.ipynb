{
 "cells": [
  {
   "cell_type": "code",
   "execution_count": 1,
   "id": "33b12b5e",
   "metadata": {
    "execution": {
     "iopub.execute_input": "2024-07-18T07:47:58.321229Z",
     "iopub.status.busy": "2024-07-18T07:47:58.319756Z",
     "iopub.status.idle": "2024-07-18T07:48:05.788924Z",
     "shell.execute_reply": "2024-07-18T07:48:05.786769Z"
    },
    "papermill": {
     "duration": 7.48505,
     "end_time": "2024-07-18T07:48:05.793390",
     "exception": false,
     "start_time": "2024-07-18T07:47:58.308340",
     "status": "completed"
    },
    "tags": []
   },
   "outputs": [
    {
     "name": "stdout",
     "output_type": "stream",
     "text": [
      "The dictionary has 143 different atoms\n"
     ]
    }
   ],
   "source": [
    "import numpy as np\n",
    "from csc.utils import *\n",
    "from csc.atoms import *\n",
    "from csc.dictionary import *\n",
    "from csc.workbench import *\n",
    "from itertools import product\n",
    "import matplotlib.pyplot as plt\n",
    "\n",
    "# Atom parameters\n",
    "bmin = 0.005\n",
    "bmax = 0.06\n",
    "b_step = 0.005\n",
    "b_values = np.arange(bmin, bmax, b_step)\n",
    "\n",
    "ymin = 0.010\n",
    "ymax = 0.036\n",
    "y_step = 0.002\n",
    "y_values = np.arange(ymin, ymax, y_step)\n",
    "\n",
    "s_values = [1]\n",
    "\n",
    "dictionary = ZSDictionary.from_values(b_values, y_values, s_values)\n",
    "print('The dictionary has {} different atoms'.format(len(dictionary)))"
   ]
  },
  {
   "cell_type": "markdown",
   "id": "74932cf6",
   "metadata": {
    "papermill": {
     "duration": 0.00451,
     "end_time": "2024-07-18T07:48:05.803416",
     "exception": false,
     "start_time": "2024-07-18T07:48:05.798906",
     "status": "completed"
    },
    "tags": []
   },
   "source": [
    "## OMP PRC Pipeline\n",
    "- ``max_sparsity = 30`` "
   ]
  },
  {
   "cell_type": "code",
   "execution_count": 2,
   "id": "7af6e690",
   "metadata": {
    "execution": {
     "iopub.execute_input": "2024-07-18T07:48:05.820891Z",
     "iopub.status.busy": "2024-07-18T07:48:05.818926Z",
     "iopub.status.idle": "2024-07-18T07:48:09.243703Z",
     "shell.execute_reply": "2024-07-18T07:48:09.240912Z"
    },
    "papermill": {
     "duration": 3.440995,
     "end_time": "2024-07-18T07:48:09.249685",
     "exception": false,
     "start_time": "2024-07-18T07:48:05.808690",
     "status": "completed"
    },
    "tags": []
   },
   "outputs": [],
   "source": [
    "batchSize = 200\n",
    "\n",
    "max_sparsity = 30\n",
    "\n",
    "input_mmpdf_db = f'/home/gomes/synthetic-data/csc-mmpdf-{batchSize}.json'\n",
    "#input_mmpdf_db = f'C:\\\\Users\\\\gomes\\\\Documents\\\\ENS\\\\00_M1\\\\00_BORELLI\\\\01_WorkInProgress\\\\\\synthetic-data\\\\csc-mmpdf-{batchSize}.json'\n",
    "\n",
    "output_sparVar_omp_db = f'/home/gomes/synthetic-data/sparVar-omp-{batchSize}.json'\n",
    "\n",
    "#path_to_signals_db = f'C:\\\\Users\\\\gomes\\\\Documents\\\\ENS\\\\00_M1\\\\00_BORELLI\\\\01_WorkInProgress\\\\\\synthetic-data\\\\csc-signals-{batchSize}.json'\n",
    "path_to_signals_db = f'/home/gomes/synthetic-data/csc-signals-{batchSize}.json'\n",
    "\n",
    "workbench = CSCWorkbench(path_to_signals_db)\n",
    "workbench.load_data()\n",
    "workbench.set_dictionary(dictionary)"
   ]
  },
  {
   "cell_type": "code",
   "execution_count": 3,
   "id": "04344817",
   "metadata": {
    "execution": {
     "iopub.execute_input": "2024-07-18T07:48:09.283629Z",
     "iopub.status.busy": "2024-07-18T07:48:09.282533Z"
    },
    "papermill": {
     "duration": null,
     "end_time": null,
     "exception": false,
     "start_time": "2024-07-18T07:48:09.255882",
     "status": "running"
    },
    "tags": []
   },
   "outputs": [
    {
     "name": "stderr",
     "output_type": "stream",
     "text": [
      "\r",
      "OMP sparsity variation Pipeline from DB:   0%|                                                                                              | 0/5000 [00:00<?, ?it/s]"
     ]
    },
    {
     "name": "stderr",
     "output_type": "stream",
     "text": [
      "\r",
      "OMP sparsity variation Pipeline from DB:   0%|                                                                                      | 1/5000 [00:00<09:10,  9.08it/s]"
     ]
    },
    {
     "name": "stderr",
     "output_type": "stream",
     "text": [
      "\r",
      "OMP sparsity variation Pipeline from DB:   0%|▎                                                                                    | 20/5000 [00:01<08:02, 10.33it/s]"
     ]
    },
    {
     "name": "stderr",
     "output_type": "stream",
     "text": [
      "\r",
      "OMP sparsity variation Pipeline from DB:   0%|▎                                                                                    | 21/5000 [00:02<10:05,  8.22it/s]"
     ]
    },
    {
     "name": "stderr",
     "output_type": "stream",
     "text": [
      "\r",
      "OMP sparsity variation Pipeline from DB:   1%|▋                                                                                    | 40/5000 [00:20<55:50,  1.48it/s]"
     ]
    },
    {
     "name": "stderr",
     "output_type": "stream",
     "text": [
      "\r",
      "OMP sparsity variation Pipeline from DB:   1%|▉                                                                                  | 60/5000 [00:37<1:02:25,  1.32it/s]"
     ]
    },
    {
     "name": "stderr",
     "output_type": "stream",
     "text": [
      "\r",
      "OMP sparsity variation Pipeline from DB:   2%|█▎                                                                                 | 80/5000 [01:02<1:17:32,  1.06it/s]"
     ]
    },
    {
     "name": "stderr",
     "output_type": "stream",
     "text": [
      "\r",
      "OMP sparsity variation Pipeline from DB:   2%|█▋                                                                                | 100/5000 [01:20<1:16:41,  1.06it/s]"
     ]
    },
    {
     "name": "stderr",
     "output_type": "stream",
     "text": [
      "\r",
      "OMP sparsity variation Pipeline from DB:   2%|█▉                                                                                | 120/5000 [01:40<1:17:50,  1.04it/s]"
     ]
    },
    {
     "name": "stderr",
     "output_type": "stream",
     "text": [
      "\r",
      "OMP sparsity variation Pipeline from DB:   3%|██▎                                                                               | 140/5000 [01:59<1:16:46,  1.05it/s]"
     ]
    }
   ],
   "source": [
    "workbench.ompSparsityVariationPipelineFromDB(input_mmpdf_db, output_sparVar_omp_db, nb_cores=20, max_sparsity=max_sparsity, verbose=False)\n",
    "#workbench.ompSparsityVariationPipelineFromDB(input_mmpdf_db, output_sparVar_omp_db, nb_cores=-1, max_sparsity=max_sparsity, verbose=True)"
   ]
  }
 ],
 "metadata": {
  "kernelspec": {
   "display_name": "phlamesenv",
   "language": "python",
   "name": "python3"
  },
  "language_info": {
   "codemirror_mode": {
    "name": "ipython",
    "version": 3
   },
   "file_extension": ".py",
   "mimetype": "text/x-python",
   "name": "python",
   "nbconvert_exporter": "python",
   "pygments_lexer": "ipython3",
   "version": "3.11.2"
  },
  "papermill": {
   "default_parameters": {},
   "duration": null,
   "end_time": null,
   "environment_variables": {},
   "exception": null,
   "input_path": "sparVar_omp_db.ipynb",
   "output_path": "out_sparVar_omp.ipynb",
   "parameters": {},
   "start_time": "2024-07-18T07:47:55.224343",
   "version": "2.6.0"
  }
 },
 "nbformat": 4,
 "nbformat_minor": 5
}