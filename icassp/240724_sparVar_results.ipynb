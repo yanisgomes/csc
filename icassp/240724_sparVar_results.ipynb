{
 "cells": [
  {
   "cell_type": "code",
   "execution_count": 1,
   "metadata": {},
   "outputs": [
    {
     "name": "stdout",
     "output_type": "stream",
     "text": [
      "The dictionary has 143 different atoms\n"
     ]
    }
   ],
   "source": [
    "import numpy as np\n",
    "from csc.utils import *\n",
    "from csc.atoms import *\n",
    "from csc.dictionary import *\n",
    "from csc.workbench import *\n",
    "from itertools import product\n",
    "import matplotlib.pyplot as plt\n",
    "\n",
    "# Atom parameters\n",
    "bmin = 0.005\n",
    "bmax = 0.06\n",
    "b_step = 0.005\n",
    "b_values = np.arange(bmin, bmax, b_step)\n",
    "\n",
    "ymin = 0.010\n",
    "ymax = 0.036\n",
    "y_step = 0.002\n",
    "y_values = np.arange(ymin, ymax, y_step)\n",
    "\n",
    "s_values = [1]\n",
    "\n",
    "dictionary = ZSDictionary.from_values(b_values, y_values, s_values)\n",
    "print('The dictionary has {} different atoms'.format(len(dictionary)))"
   ]
  },
  {
   "cell_type": "code",
   "execution_count": 2,
   "metadata": {},
   "outputs": [],
   "source": [
    "batchSize = 200\n",
    "path_to_mmpdf_db = f'C:\\\\Users\\\\gomes\\\\Documents\\\\ENS\\\\00_M1\\\\00_BORELLI\\\\01_WorkInProgress\\\\\\synthetic-data\\\\csc-mmpdf-{batchSize}.json'\n",
    "path_to_mp_db = f'C:\\\\Users\\\\gomes\\\\Documents\\\\ENS\\\\00_M1\\\\00_BORELLI\\\\01_WorkInProgress\\\\\\synthetic-data\\\\csc-mp-{batchSize}.json'\n",
    "\n",
    "pomme = False\n",
    "\n",
    "if pomme :\n",
    "    input_signals_db = f'/home/gomes/synthetic-data/synthetic-signals-{batchSize}.json'\n",
    "\n",
    "    sparVar_MMP_db = f'/home/gomes/synthetic-data/240724-mmpdf10-{batchSize}.json'\n",
    "    sparVar_MP_db = f'/home/gomes/synthetic-data/240724-mp-{batchSize}.json'\n",
    "    sparVar_OMP_db = f'/home/gomes/synthetic-data/240724-omp-{batchSize}.json'\n",
    "    \n",
    "else:\n",
    "    input_signals_db = f'C:\\\\Users\\\\gomes\\\\Documents\\\\ENS\\\\00_M1\\\\00_BORELLI\\\\01_WorkInProgress\\\\\\synthetic-data\\\\synthetic-signals-{batchSize}.json'\n",
    "    input_mmpdf_db = f'C:\\\\Users\\\\gomes\\\\Documents\\\\ENS\\\\00_M1\\\\00_BORELLI\\\\01_WorkInProgress\\\\\\synthetic-data\\\\csc-mmpdf-{batchSize}.json'\n",
    "    input_mp_db = f'C:\\\\Users\\\\gomes\\\\Documents\\\\ENS\\\\00_M1\\\\00_BORELLI\\\\01_WorkInProgress\\\\\\synthetic-data\\\\csc-mp-{batchSize}.json'\n",
    "\n",
    "    sparVar_MMP_db = f'C:\\\\Users\\\\gomes\\\\Documents\\\\ENS\\\\00_M1\\\\00_BORELLI\\\\01_WorkInProgress\\\\\\synthetic-data\\\\240724-mmpdf10-{batchSize}.json'\n",
    "    sparVar_MP_db = f'C:\\\\Users\\\\gomes\\\\Documents\\\\ENS\\\\00_M1\\\\00_BORELLI\\\\01_WorkInProgress\\\\\\synthetic-data\\\\240724-mp-{batchSize}.json'\n",
    "    sparVar_OMP_db = f'C:\\\\Users\\\\gomes\\\\Documents\\\\ENS\\\\00_M1\\\\00_BORELLI\\\\01_WorkInProgress\\\\\\synthetic-data\\\\240724-omp-{batchSize}.json'\n"
   ]
  },
  {
   "cell_type": "code",
   "execution_count": 3,
   "metadata": {},
   "outputs": [],
   "source": [
    "workbench = CSCWorkbench(input_signals_db)\n",
    "workbench.load_data()\n",
    "workbench.set_dictionary(dictionary)"
   ]
  },
  {
   "cell_type": "code",
   "execution_count": 4,
   "metadata": {},
   "outputs": [],
   "source": [
    "with open(input_signals_db, 'r') as f:\n",
    "            output_data = json.load(f)\n",
    "            signals_results = output_data['signals']\n",
    "\n",
    "id0 = next(x['id'] for x in signals_results if x['sparsity'] == 4 and x['snr'] == 10)\n",
    "signal_dict = next(x for x in signals_results if x['id'] == id0)\n"
   ]
  },
  {
   "cell_type": "code",
   "execution_count": 5,
   "metadata": {},
   "outputs": [],
   "source": [
    "pos_err_threshold = 10      ## << POS_ERR_THRESHOLD >>\n",
    "corr_err_threshold = 0.8 ## << CORRELATION_THRESHOLD >>"
   ]
  },
  {
   "cell_type": "code",
   "execution_count": 6,
   "metadata": {},
   "outputs": [],
   "source": [
    "workbench.plotPRCurvesFromDB(\n",
    "    MMP=sparVar_MMP_db,\n",
    "    OMP=sparVar_OMP_db,\n",
    "    MP=sparVar_MP_db,\n",
    "    pos_err_threshold=pos_err_threshold,\n",
    "    corr_err_threshold=corr_err_threshold,\n",
    "    verbose=True\n",
    ")"
   ]
  }
 ],
 "metadata": {
  "kernelspec": {
   "display_name": "phlamesenv",
   "language": "python",
   "name": "python3"
  },
  "language_info": {
   "codemirror_mode": {
    "name": "ipython",
    "version": 3
   },
   "file_extension": ".py",
   "mimetype": "text/x-python",
   "name": "python",
   "nbconvert_exporter": "python",
   "pygments_lexer": "ipython3",
   "version": "3.10.1"
  }
 },
 "nbformat": 4,
 "nbformat_minor": 2
}
