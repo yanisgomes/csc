{
 "cells": [
  {
   "cell_type": "code",
   "execution_count": 1,
   "metadata": {},
   "outputs": [
    {
     "name": "stdout",
     "output_type": "stream",
     "text": [
      "The dictionary has 143 different atoms\n"
     ]
    }
   ],
   "source": [
    "import numpy as np\n",
    "from csc.utils import *\n",
    "from csc.atoms import *\n",
    "from csc.dictionary import *\n",
    "from csc.workbench import *\n",
    "from itertools import product\n",
    "import matplotlib.pyplot as plt\n",
    "\n",
    "# Atom parameters\n",
    "bmin = 0.005\n",
    "bmax = 0.06\n",
    "b_step = 0.005\n",
    "b_values = np.arange(bmin, bmax, b_step)\n",
    "\n",
    "ymin = 0.010\n",
    "ymax = 0.036\n",
    "y_step = 0.002\n",
    "y_values = np.arange(ymin, ymax, y_step)\n",
    "\n",
    "s_values = [1]\n",
    "\n",
    "dictionary = ZSDictionary.from_values(b_values, y_values, s_values)\n",
    "print('The dictionary has {} different atoms'.format(len(dictionary)))"
   ]
  },
  {
   "cell_type": "code",
   "execution_count": 2,
   "metadata": {},
   "outputs": [],
   "source": [
    "batchSize = 200\n",
    "\n",
    "pomme = False\n",
    "\n",
    "if pomme :\n",
    "    input_signals_db = f'/home/gomes/synthetic-data/constrained-signals-{batchSize}.json'\n",
    "\n",
    "    icassp_mmp_db = f'/home/gomes/synthetic-data/icassp-mmpdf10-{batchSize}.json'\n",
    "    icassp_mp_db = f'/home/gomes/synthetic-data/icassp-mp-{batchSize}.json'\n",
    "    icassp_omp_db = f'/home/gomes/synthetic-data/icassp-omp-{batchSize}.json'\n",
    "    \n",
    "else:\n",
    "    constrained_signals_db = f'C:\\\\Users\\\\gomes\\\\Documents\\\\ENS\\\\00_M1\\\\00_BORELLI\\\\01_WorkInProgress\\\\\\synthetic-data\\\\constrained-signals-{batchSize}.json'\n",
    "    no_constrained_signals_db = f'C:\\\\Users\\\\gomes\\\\Documents\\\\ENS\\\\00_M1\\\\00_BORELLI\\\\01_WorkInProgress\\\\\\synthetic-data\\\\synthetic-signals-{batchSize}.json'\n",
    "\n",
    "    icassp_mmp_db = f'C:\\\\Users\\\\gomes\\\\Documents\\\\ENS\\\\00_M1\\\\00_BORELLI\\\\01_WorkInProgress\\\\synthetic-data\\\\icassp-mmpdf10-{batchSize}.json'\n",
    "    icassp_mp_db = f'C:\\\\Users\\\\gomes\\\\Documents\\\\ENS\\\\00_M1\\\\00_BORELLI\\\\01_WorkInProgress\\\\synthetic-data\\\\icassp-mp-{batchSize}.json'\n",
    "    icassp_omp_db = f'C:\\\\Users\\\\gomes\\\\Documents\\\\ENS\\\\00_M1\\\\00_BORELLI\\\\01_WorkInProgress\\\\synthetic-data\\\\icassp-omp-{batchSize}.json'\n",
    "\n",
    "    no_constraint_mmp_db = f'C:\\\\Users\\\\gomes\\\\Documents\\\\ENS\\\\00_M1\\\\00_BORELLI\\\\01_WorkInProgress\\\\synthetic-data\\\\240724-mmpdf10-{batchSize}.json'\n",
    "    no_constraint_mp_db = f'C:\\\\Users\\\\gomes\\\\Documents\\\\ENS\\\\00_M1\\\\00_BORELLI\\\\01_WorkInProgress\\\\synthetic-data\\\\240724-mp-{batchSize}.json'\n",
    "    no_constraint_omp_db = f'C:\\\\Users\\\\gomes\\\\Documents\\\\ENS\\\\00_M1\\\\00_BORELLI\\\\01_WorkInProgress\\\\synthetic-data\\\\240724-omp-{batchSize}.json'\n",
    "    "
   ]
  },
  {
   "cell_type": "code",
   "execution_count": 3,
   "metadata": {},
   "outputs": [],
   "source": [
    "constrained_workbench = CSCWorkbench(constrained_signals_db)\n",
    "constrained_workbench.load_data()\n",
    "constrained_workbench.set_dictionary(dictionary)\n",
    "\n"
   ]
  },
  {
   "cell_type": "markdown",
   "metadata": {},
   "source": [
    "# Constrained signals"
   ]
  },
  {
   "cell_type": "markdown",
   "metadata": {},
   "source": [
    "#### snr = 10 dB"
   ]
  },
  {
   "cell_type": "code",
   "execution_count": 4,
   "metadata": {},
   "outputs": [
    {
     "name": "stdout",
     "output_type": "stream",
     "text": [
      "\n",
      "Processing MMP results from C:\\Users\\gomes\\Documents\\ENS\\00_M1\\00_BORELLI\\01_WorkInProgress\\synthetic-data\\icassp-mmpdf10-200.json\n",
      "\n",
      "Processing OMP results from C:\\Users\\gomes\\Documents\\ENS\\00_M1\\00_BORELLI\\01_WorkInProgress\\synthetic-data\\icassp-omp-200.json\n",
      "\n",
      "Processing MP results from C:\\Users\\gomes\\Documents\\ENS\\00_M1\\00_BORELLI\\01_WorkInProgress\\synthetic-data\\icassp-mp-200.json\n"
     ]
    },
    {
     "name": "stderr",
     "output_type": "stream",
     "text": [
      "c:\\Users\\gomes\\Documents\\ENS\\00_M1\\00_BORELLI\\01_WorkInProgress\\phlamesenv\\lib\\site-packages\\scipy\\stats\\_wilcoxon.py:199: UserWarning: Exact p-value calculation does not work if there are zeros. Switching to normal approximation.\n",
      "  temp = _wilcoxon_iv(x, y, zero_method, correction, alternative, method, axis)\n"
     ]
    }
   ],
   "source": [
    "POS_ERR_THRESHOLD = 10    \n",
    "CORR_ERR_THRESHOLD = 0.75\n",
    "constrained_workbench.criticalDifferenceDiagramFromDB(\n",
    "    MMP=icassp_mmp_db,\n",
    "    OMP=icassp_omp_db,\n",
    "    MP=icassp_mp_db,\n",
    "    pos_err_threshold=POS_ERR_THRESHOLD,\n",
    "    corr_err_threshold=CORR_ERR_THRESHOLD,\n",
    "    verbose=True,\n",
    "    snr_criteria=10,\n",
    "    file_title=\"CDD_constrained_snr10\",\n",
    ")"
   ]
  },
  {
   "cell_type": "code",
   "execution_count": 7,
   "metadata": {},
   "outputs": [
    {
     "name": "stdout",
     "output_type": "stream",
     "text": [
      "\n",
      "Processing MMP results from C:\\Users\\gomes\\Documents\\ENS\\00_M1\\00_BORELLI\\01_WorkInProgress\\synthetic-data\\icassp-mmpdf10-200.json\n",
      "\n",
      "Processing OMP results from C:\\Users\\gomes\\Documents\\ENS\\00_M1\\00_BORELLI\\01_WorkInProgress\\synthetic-data\\icassp-omp-200.json\n",
      "\n",
      "Processing MP results from C:\\Users\\gomes\\Documents\\ENS\\00_M1\\00_BORELLI\\01_WorkInProgress\\synthetic-data\\icassp-mp-200.json\n"
     ]
    }
   ],
   "source": [
    "POS_ERR_THRESHOLD = 10    \n",
    "CORR_ERR_THRESHOLD = 0.95\n",
    "constrained_workbench.criticalDifferenceDiagramFromDB(\n",
    "    MMP=icassp_mmp_db,\n",
    "    OMP=icassp_omp_db,\n",
    "    MP=icassp_mp_db,\n",
    "    pos_err_threshold=POS_ERR_THRESHOLD,\n",
    "    corr_err_threshold=CORR_ERR_THRESHOLD,\n",
    "    verbose=True,\n",
    "    snr_criteria=15,\n",
    "    file_title=\"CDD_constrained_full95\",\n",
    ")"
   ]
  },
  {
   "cell_type": "code",
   "execution_count": 9,
   "metadata": {},
   "outputs": [
    {
     "name": "stdout",
     "output_type": "stream",
     "text": [
      "\n",
      "Processing MMP results from C:\\Users\\gomes\\Documents\\ENS\\00_M1\\00_BORELLI\\01_WorkInProgress\\synthetic-data\\icassp-mmpdf10-200.json\n",
      "\n",
      "Processing OMP results from C:\\Users\\gomes\\Documents\\ENS\\00_M1\\00_BORELLI\\01_WorkInProgress\\synthetic-data\\icassp-omp-200.json\n",
      "\n",
      "Processing MP results from C:\\Users\\gomes\\Documents\\ENS\\00_M1\\00_BORELLI\\01_WorkInProgress\\synthetic-data\\icassp-mp-200.json\n"
     ]
    }
   ],
   "source": [
    "POS_ERR_THRESHOLD = 5   \n",
    "CORR_ERR_THRESHOLD = 0.95\n",
    "constrained_workbench.criticalDifferenceDiagramFromDB(\n",
    "    MMP=icassp_mmp_db,\n",
    "    OMP=icassp_omp_db,\n",
    "    MP=icassp_mp_db,\n",
    "    pos_err_threshold=POS_ERR_THRESHOLD,\n",
    "    corr_err_threshold=CORR_ERR_THRESHOLD,\n",
    "    verbose=True,\n",
    "    file_title=\"CDD_constrained_full95\",\n",
    ")"
   ]
  },
  {
   "cell_type": "code",
   "execution_count": 14,
   "metadata": {},
   "outputs": [
    {
     "name": "stdout",
     "output_type": "stream",
     "text": [
      "\n",
      "Processing MMP results from C:\\Users\\gomes\\Documents\\ENS\\00_M1\\00_BORELLI\\01_WorkInProgress\\synthetic-data\\icassp-mmpdf10-200.json\n",
      "\n",
      "Processing OMP results from C:\\Users\\gomes\\Documents\\ENS\\00_M1\\00_BORELLI\\01_WorkInProgress\\synthetic-data\\icassp-omp-200.json\n",
      "\n",
      "Processing MP results from C:\\Users\\gomes\\Documents\\ENS\\00_M1\\00_BORELLI\\01_WorkInProgress\\synthetic-data\\icassp-mp-200.json\n"
     ]
    },
    {
     "name": "stderr",
     "output_type": "stream",
     "text": [
      "c:\\Users\\gomes\\Documents\\ENS\\00_M1\\00_BORELLI\\01_WorkInProgress\\phlamesenv\\lib\\site-packages\\scipy\\stats\\_wilcoxon.py:199: UserWarning: Exact p-value calculation does not work if there are zeros. Switching to normal approximation.\n",
      "  temp = _wilcoxon_iv(x, y, zero_method, correction, alternative, method, axis)\n"
     ]
    }
   ],
   "source": [
    "POS_ERR_THRESHOLD = 10\n",
    "CORR_ERR_THRESHOLD = 0.75\n",
    "constrained_workbench.criticalDifferenceDiagramFromDB(\n",
    "    MMP=icassp_mmp_db,\n",
    "    OMP=icassp_omp_db,\n",
    "    MP=icassp_mp_db,\n",
    "    pos_err_threshold=POS_ERR_THRESHOLD,\n",
    "    corr_err_threshold=CORR_ERR_THRESHOLD,\n",
    "    verbose=True,\n",
    "    file_title=\"CDD_constrained_full_10_75\",\n",
    ")"
   ]
  }
 ],
 "metadata": {
  "kernelspec": {
   "display_name": "phlamesenv",
   "language": "python",
   "name": "python3"
  },
  "language_info": {
   "codemirror_mode": {
    "name": "ipython",
    "version": 3
   },
   "file_extension": ".py",
   "mimetype": "text/x-python",
   "name": "python",
   "nbconvert_exporter": "python",
   "pygments_lexer": "ipython3",
   "version": "3.10.1"
  }
 },
 "nbformat": 4,
 "nbformat_minor": 2
}
