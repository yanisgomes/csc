{
 "cells": [
  {
   "cell_type": "code",
   "execution_count": 1,
   "metadata": {},
   "outputs": [
    {
     "name": "stdout",
     "output_type": "stream",
     "text": [
      "The dictionary has 143 different atoms\n"
     ]
    }
   ],
   "source": [
    "import numpy as np\n",
    "from csc.utils import *\n",
    "from csc.atoms import *\n",
    "from csc.dictionary import *\n",
    "from csc.workbench import *\n",
    "from itertools import product\n",
    "import matplotlib.pyplot as plt\n",
    "\n",
    "# Atom parameters\n",
    "bmin = 0.005\n",
    "bmax = 0.06\n",
    "b_step = 0.005\n",
    "b_values = np.arange(bmin, bmax, b_step)\n",
    "\n",
    "ymin = 0.010\n",
    "ymax = 0.036\n",
    "y_step = 0.002\n",
    "y_values = np.arange(ymin, ymax, y_step)\n",
    "\n",
    "s_values = [1]\n",
    "\n",
    "dictionary = ZSDictionary.from_values(b_values, y_values, s_values)\n",
    "print('The dictionary has {} different atoms'.format(len(dictionary)))"
   ]
  },
  {
   "cell_type": "code",
   "execution_count": 2,
   "metadata": {},
   "outputs": [],
   "source": [
    "batchSize = 200\n",
    "\n",
    "pomme = False\n",
    "\n",
    "if pomme :\n",
    "    input_signals_db = f'/home/gomes/synthetic-data/constrained-signals-{batchSize}.json'\n",
    "\n",
    "    icassp_mmp_db = f'/home/gomes/synthetic-data/icassp-mmpdf10-{batchSize}.json'\n",
    "    icassp_mp_db = f'/home/gomes/synthetic-data/icassp-mp-{batchSize}.json'\n",
    "    icassp_omp_db = f'/home/gomes/synthetic-data/icassp-omp-{batchSize}.json'\n",
    "    \n",
    "else:\n",
    "    constrained_signals_db = f'C:\\\\Users\\\\gomes\\\\Documents\\\\ENS\\\\00_M1\\\\00_BORELLI\\\\01_WorkInProgress\\\\\\synthetic-data\\\\constrained-signals-{batchSize}.json'\n",
    "    no_constrained_signals_db = f'C:\\\\Users\\\\gomes\\\\Documents\\\\ENS\\\\00_M1\\\\00_BORELLI\\\\01_WorkInProgress\\\\\\synthetic-data\\\\synthetic-signals-{batchSize}.json'\n",
    "    \n",
    "    icassp_mmp27_db = f'C:\\\\Users\\\\gomes\\\\Documents\\\\ENS\\\\00_M1\\\\00_BORELLI\\\\01_WorkInProgress\\\\synthetic-data\\\\icassp-mmpdf27-{batchSize}.json'\n",
    "    icassp_mmp9_db = f'C:\\\\Users\\\\gomes\\\\Documents\\\\ENS\\\\00_M1\\\\00_BORELLI\\\\01_WorkInProgress\\\\synthetic-data\\\\icassp-mmpdf9-{batchSize}.json'\n",
    "    icassp_mmp3_db = f'C:\\\\Users\\\\gomes\\\\Documents\\\\ENS\\\\00_M1\\\\00_BORELLI\\\\01_WorkInProgress\\\\synthetic-data\\\\icassp-mmpdf3-{batchSize}.json'\n",
    "    \n",
    "    icassp_mp_db = f'C:\\\\Users\\\\gomes\\\\Documents\\\\ENS\\\\00_M1\\\\00_BORELLI\\\\01_WorkInProgress\\\\synthetic-data\\\\icassp-mp-{batchSize}.json'\n",
    "    icassp_omp_db = f'C:\\\\Users\\\\gomes\\\\Documents\\\\ENS\\\\00_M1\\\\00_BORELLI\\\\01_WorkInProgress\\\\synthetic-data\\\\icassp-omp-{batchSize}.json'\n",
    "    icassp_alphaCSC_db = f'C:\\\\Users\\\\gomes\\\\Documents\\\\ENS\\\\00_M1\\\\00_BORELLI\\\\01_WorkInProgress\\\\synthetic-data\\\\icassp-alphaCSC-{batchSize}.json'\n",
    "\n",
    "    no_constraint_mmp_db = f'C:\\\\Users\\\\gomes\\\\Documents\\\\ENS\\\\00_M1\\\\00_BORELLI\\\\01_WorkInProgress\\\\synthetic-data\\\\240724-mmpdf10-{batchSize}.json'\n",
    "    no_constraint_mp_db = f'C:\\\\Users\\\\gomes\\\\Documents\\\\ENS\\\\00_M1\\\\00_BORELLI\\\\01_WorkInProgress\\\\synthetic-data\\\\240724-mp-{batchSize}.json'\n",
    "    no_constraint_omp_db = f'C:\\\\Users\\\\gomes\\\\Documents\\\\ENS\\\\00_M1\\\\00_BORELLI\\\\01_WorkInProgress\\\\synthetic-data\\\\240724-omp-{batchSize}.json'\n",
    "    "
   ]
  },
  {
   "cell_type": "code",
   "execution_count": 3,
   "metadata": {},
   "outputs": [],
   "source": [
    "constrained_workbench = CSCWorkbench(constrained_signals_db)\n",
    "constrained_workbench.load_data()\n",
    "constrained_workbench.set_dictionary(dictionary)"
   ]
  },
  {
   "cell_type": "markdown",
   "metadata": {},
   "source": [
    "# Constrained signals"
   ]
  },
  {
   "cell_type": "code",
   "execution_count": 4,
   "metadata": {},
   "outputs": [
    {
     "name": "stdout",
     "output_type": "stream",
     "text": [
      "\n",
      "Processing MMP27 results from C:\\Users\\gomes\\Documents\\ENS\\00_M1\\00_BORELLI\\01_WorkInProgress\\synthetic-data\\icassp-mmpdf27-200.json\n",
      "\n",
      "Processing MMP10 results from C:\\Users\\gomes\\Documents\\ENS\\00_M1\\00_BORELLI\\01_WorkInProgress\\synthetic-data\\icassp-mmpdf9-200.json\n",
      "\n",
      "Processing MMP3 results from C:\\Users\\gomes\\Documents\\ENS\\00_M1\\00_BORELLI\\01_WorkInProgress\\synthetic-data\\icassp-mmpdf3-200.json\n",
      "\n",
      "Processing OMP results from C:\\Users\\gomes\\Documents\\ENS\\00_M1\\00_BORELLI\\01_WorkInProgress\\synthetic-data\\icassp-omp-200.json\n"
     ]
    },
    {
     "name": "stderr",
     "output_type": "stream",
     "text": [
      "c:\\Users\\gomes\\Documents\\ENS\\00_M1\\00_BORELLI\\01_WorkInProgress\\phlamesenv\\lib\\site-packages\\scipy\\stats\\_wilcoxon.py:199: UserWarning: Exact p-value calculation does not work if there are zeros. Switching to normal approximation.\n",
      "  temp = _wilcoxon_iv(x, y, zero_method, correction, alternative, method, axis)\n"
     ]
    }
   ],
   "source": [
    "POS_ERR_THRESHOLD = 70\n",
    "CORR_ERR_THRESHOLD = 0.3\n",
    "constrained_workbench.criticalDifferenceDiagramFromDB(\n",
    "    #L1=icassp_alphaCSC_db,\n",
    "    MMP27=icassp_mmp27_db,\n",
    "    MMP10=icassp_mmp9_db,\n",
    "    MMP3=icassp_mmp3_db,\n",
    "    OMP=icassp_omp_db,\n",
    "    #MP=icassp_mp_db,\n",
    "    pos_err_threshold=POS_ERR_THRESHOLD,\n",
    "    corr_err_threshold=CORR_ERR_THRESHOLD,\n",
    "    verbose=True,\n",
    "    file_title=\"CDD_test\",\n",
    ")"
   ]
  }
 ],
 "metadata": {
  "kernelspec": {
   "display_name": "phlamesenv",
   "language": "python",
   "name": "python3"
  },
  "language_info": {
   "codemirror_mode": {
    "name": "ipython",
    "version": 3
   },
   "file_extension": ".py",
   "mimetype": "text/x-python",
   "name": "python",
   "nbconvert_exporter": "python",
   "pygments_lexer": "ipython3",
   "version": "3.10.1"
  }
 },
 "nbformat": 4,
 "nbformat_minor": 2
}
