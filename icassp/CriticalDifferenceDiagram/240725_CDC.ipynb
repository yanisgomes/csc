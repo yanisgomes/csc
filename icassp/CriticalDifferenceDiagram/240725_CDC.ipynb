{
 "cells": [
  {
   "cell_type": "code",
   "execution_count": 1,
   "metadata": {},
   "outputs": [
    {
     "name": "stdout",
     "output_type": "stream",
     "text": [
      "The dictionary has 143 different atoms\n"
     ]
    }
   ],
   "source": [
    "import numpy as np\n",
    "from csc.utils import *\n",
    "from csc.atoms import *\n",
    "from csc.dictionary import *\n",
    "from csc.workbench import *\n",
    "from itertools import product\n",
    "import matplotlib.pyplot as plt\n",
    "\n",
    "# Atom parameters\n",
    "bmin = 0.005\n",
    "bmax = 0.06\n",
    "b_step = 0.005\n",
    "b_values = np.arange(bmin, bmax, b_step)\n",
    "\n",
    "ymin = 0.010\n",
    "ymax = 0.036\n",
    "y_step = 0.002\n",
    "y_values = np.arange(ymin, ymax, y_step)\n",
    "\n",
    "s_values = [1]\n",
    "\n",
    "dictionary = ZSDictionary.from_values(b_values, y_values, s_values)\n",
    "print('The dictionary has {} different atoms'.format(len(dictionary)))"
   ]
  },
  {
   "cell_type": "code",
   "execution_count": 2,
   "metadata": {},
   "outputs": [],
   "source": [
    "batchSize = 200\n",
    "\n",
    "pomme = False\n",
    "\n",
    "if pomme :\n",
    "    input_signals_db = f'/home/gomes/synthetic-data/constrained-signals-{batchSize}.json'\n",
    "\n",
    "    icassp_mmp_db = f'/home/gomes/synthetic-data/icassp-mmpdf10-{batchSize}.json'\n",
    "    icassp_mp_db = f'/home/gomes/synthetic-data/icassp-mp-{batchSize}.json'\n",
    "    icassp_omp_db = f'/home/gomes/synthetic-data/icassp-omp-{batchSize}.json'\n",
    "    \n",
    "else:\n",
    "    constrained_signals_db = f'C:\\\\Users\\\\gomes\\\\Documents\\\\ENS\\\\00_M1\\\\00_BORELLI\\\\01_WorkInProgress\\\\\\synthetic-data\\\\constrained-signals-{batchSize}.json'\n",
    "    no_constrained_signals_db = f'C:\\\\Users\\\\gomes\\\\Documents\\\\ENS\\\\00_M1\\\\00_BORELLI\\\\01_WorkInProgress\\\\\\synthetic-data\\\\synthetic-signals-{batchSize}.json'\n",
    "    \n",
    "    icassp_mmp27_db = f'C:\\\\Users\\\\gomes\\\\Documents\\\\ENS\\\\00_M1\\\\00_BORELLI\\\\01_WorkInProgress\\\\synthetic-data\\\\icassp-mmpdf27-{batchSize}.json'\n",
    "    icassp_mmp10_db = f'C:\\\\Users\\\\gomes\\\\Documents\\\\ENS\\\\00_M1\\\\00_BORELLI\\\\01_WorkInProgress\\\\synthetic-data\\\\icassp-mmpdf10-{batchSize}.json'\n",
    "    icassp_mmp3_db = f'C:\\\\Users\\\\gomes\\\\Documents\\\\ENS\\\\00_M1\\\\00_BORELLI\\\\01_WorkInProgress\\\\synthetic-data\\\\icassp-mmpdf3-{batchSize}.json'\n",
    "    \n",
    "    icassp_mp_db = f'C:\\\\Users\\\\gomes\\\\Documents\\\\ENS\\\\00_M1\\\\00_BORELLI\\\\01_WorkInProgress\\\\synthetic-data\\\\icassp-mp-{batchSize}.json'\n",
    "    icassp_omp_db = f'C:\\\\Users\\\\gomes\\\\Documents\\\\ENS\\\\00_M1\\\\00_BORELLI\\\\01_WorkInProgress\\\\synthetic-data\\\\icassp-omp-{batchSize}.json'\n",
    "    icassp_alphaCSC_db = f'C:\\\\Users\\\\gomes\\\\Documents\\\\ENS\\\\00_M1\\\\00_BORELLI\\\\01_WorkInProgress\\\\synthetic-data\\\\icassp-alphaCSC-{batchSize}.json'\n",
    "\n",
    "    no_constraint_mmp_db = f'C:\\\\Users\\\\gomes\\\\Documents\\\\ENS\\\\00_M1\\\\00_BORELLI\\\\01_WorkInProgress\\\\synthetic-data\\\\240724-mmpdf10-{batchSize}.json'\n",
    "    no_constraint_mp_db = f'C:\\\\Users\\\\gomes\\\\Documents\\\\ENS\\\\00_M1\\\\00_BORELLI\\\\01_WorkInProgress\\\\synthetic-data\\\\240724-mp-{batchSize}.json'\n",
    "    no_constraint_omp_db = f'C:\\\\Users\\\\gomes\\\\Documents\\\\ENS\\\\00_M1\\\\00_BORELLI\\\\01_WorkInProgress\\\\synthetic-data\\\\240724-omp-{batchSize}.json'\n",
    "    "
   ]
  },
  {
   "cell_type": "code",
   "execution_count": 3,
   "metadata": {},
   "outputs": [],
   "source": [
    "constrained_workbench = CSCWorkbench(constrained_signals_db)\n",
    "constrained_workbench.load_data()\n",
    "constrained_workbench.set_dictionary(dictionary)"
   ]
  },
  {
   "cell_type": "markdown",
   "metadata": {},
   "source": [
    "# Constrained signals"
   ]
  },
  {
   "cell_type": "code",
   "execution_count": 4,
   "metadata": {},
   "outputs": [
    {
     "name": "stdout",
     "output_type": "stream",
     "text": [
      "\n",
      "Processing L1 results from C:\\Users\\gomes\\Documents\\ENS\\00_M1\\00_BORELLI\\01_WorkInProgress\\synthetic-data\\icassp-alphaCSC-200.json\n"
     ]
    },
    {
     "ename": "TypeError",
     "evalue": "list indices must be integers or slices, not str",
     "output_type": "error",
     "traceback": [
      "\u001b[1;31m---------------------------------------------------------------------------\u001b[0m",
      "\u001b[1;31mTypeError\u001b[0m                                 Traceback (most recent call last)",
      "Cell \u001b[1;32mIn[4], line 3\u001b[0m\n\u001b[0;32m      1\u001b[0m POS_ERR_THRESHOLD \u001b[38;5;241m=\u001b[39m \u001b[38;5;241m5\u001b[39m\n\u001b[0;32m      2\u001b[0m CORR_ERR_THRESHOLD \u001b[38;5;241m=\u001b[39m \u001b[38;5;241m0.95\u001b[39m\n\u001b[1;32m----> 3\u001b[0m \u001b[43mconstrained_workbench\u001b[49m\u001b[38;5;241;43m.\u001b[39;49m\u001b[43mcriticalDifferenceDiagramFromDB\u001b[49m\u001b[43m(\u001b[49m\n\u001b[0;32m      4\u001b[0m \u001b[43m    \u001b[49m\u001b[43mL1\u001b[49m\u001b[38;5;241;43m=\u001b[39;49m\u001b[43micassp_alphaCSC_db\u001b[49m\u001b[43m,\u001b[49m\n\u001b[0;32m      5\u001b[0m \u001b[43m    \u001b[49m\u001b[43mMMP27\u001b[49m\u001b[38;5;241;43m=\u001b[39;49m\u001b[43micassp_mmp27_db\u001b[49m\u001b[43m,\u001b[49m\n\u001b[0;32m      6\u001b[0m \u001b[43m    \u001b[49m\u001b[43mMMP10\u001b[49m\u001b[38;5;241;43m=\u001b[39;49m\u001b[43micassp_mmp10_db\u001b[49m\u001b[43m,\u001b[49m\n\u001b[0;32m      7\u001b[0m \u001b[43m    \u001b[49m\u001b[43mMMP3\u001b[49m\u001b[38;5;241;43m=\u001b[39;49m\u001b[43micassp_mmp3_db\u001b[49m\u001b[43m,\u001b[49m\n\u001b[0;32m      8\u001b[0m \u001b[43m    \u001b[49m\u001b[43mOMP\u001b[49m\u001b[38;5;241;43m=\u001b[39;49m\u001b[43micassp_omp_db\u001b[49m\u001b[43m,\u001b[49m\n\u001b[0;32m      9\u001b[0m \u001b[43m    \u001b[49m\u001b[43mMP\u001b[49m\u001b[38;5;241;43m=\u001b[39;49m\u001b[43micassp_mp_db\u001b[49m\u001b[43m,\u001b[49m\n\u001b[0;32m     10\u001b[0m \u001b[43m    \u001b[49m\u001b[43mpos_err_threshold\u001b[49m\u001b[38;5;241;43m=\u001b[39;49m\u001b[43mPOS_ERR_THRESHOLD\u001b[49m\u001b[43m,\u001b[49m\n\u001b[0;32m     11\u001b[0m \u001b[43m    \u001b[49m\u001b[43mcorr_err_threshold\u001b[49m\u001b[38;5;241;43m=\u001b[39;49m\u001b[43mCORR_ERR_THRESHOLD\u001b[49m\u001b[43m,\u001b[49m\n\u001b[0;32m     12\u001b[0m \u001b[43m    \u001b[49m\u001b[43mverbose\u001b[49m\u001b[38;5;241;43m=\u001b[39;49m\u001b[38;5;28;43;01mTrue\u001b[39;49;00m\u001b[43m,\u001b[49m\n\u001b[0;32m     13\u001b[0m \u001b[43m    \u001b[49m\u001b[43mfile_title\u001b[49m\u001b[38;5;241;43m=\u001b[39;49m\u001b[38;5;124;43m\"\u001b[39;49m\u001b[38;5;124;43mCDD_test\u001b[39;49m\u001b[38;5;124;43m\"\u001b[39;49m\u001b[43m,\u001b[49m\n\u001b[0;32m     14\u001b[0m \u001b[43m)\u001b[49m\n",
      "File \u001b[1;32m~\\Documents\\ENS\\00_M1\\00_BORELLI\\01_WorkInProgress\\csc\\src\\csc\\workbench.py:2858\u001b[0m, in \u001b[0;36mCSCWorkbench.criticalDifferenceDiagramFromDB\u001b[1;34m(self, **kwargs)\u001b[0m\n\u001b[0;32m   2856\u001b[0m     tp_values_per_algo[label] \u001b[38;5;241m=\u001b[39m tp_values\n\u001b[0;32m   2857\u001b[0m \u001b[38;5;28;01melse\u001b[39;00m :\n\u001b[1;32m-> 2858\u001b[0m     tp_values \u001b[38;5;241m=\u001b[39m \u001b[38;5;28;43mself\u001b[39;49m\u001b[38;5;241;43m.\u001b[39;49m\u001b[43mcomputeCDCTruePositivesFromAlphaCSC\u001b[49m\u001b[43m(\u001b[49m\n\u001b[0;32m   2859\u001b[0m \u001b[43m        \u001b[49m\u001b[43malphaCSC_db_path\u001b[49m\u001b[43m \u001b[49m\u001b[38;5;241;43m=\u001b[39;49m\u001b[43m \u001b[49m\u001b[43mpath\u001b[49m\u001b[43m,\u001b[49m\n\u001b[0;32m   2860\u001b[0m \u001b[43m        \u001b[49m\u001b[43mresults_key\u001b[49m\u001b[43m \u001b[49m\u001b[38;5;241;43m=\u001b[39;49m\u001b[43m \u001b[49m\u001b[38;5;124;43m'\u001b[39;49m\u001b[38;5;124;43mresults\u001b[39;49m\u001b[38;5;124;43m'\u001b[39;49m\u001b[43m,\u001b[49m\n\u001b[0;32m   2861\u001b[0m \u001b[43m        \u001b[49m\u001b[43mpos_err_threshold\u001b[49m\u001b[43m \u001b[49m\u001b[38;5;241;43m=\u001b[39;49m\u001b[43m \u001b[49m\u001b[43mpos_err_threshold\u001b[49m\u001b[43m,\u001b[49m\n\u001b[0;32m   2862\u001b[0m \u001b[43m        \u001b[49m\u001b[43mcorr_err_threshold\u001b[49m\u001b[43m \u001b[49m\u001b[38;5;241;43m=\u001b[39;49m\u001b[43m \u001b[49m\u001b[43mcorr_err_threshold\u001b[49m\u001b[43m,\u001b[49m\n\u001b[0;32m   2863\u001b[0m \u001b[43m        \u001b[49m\u001b[43msparsity_criteria\u001b[49m\u001b[43m \u001b[49m\u001b[38;5;241;43m=\u001b[39;49m\u001b[43m \u001b[49m\u001b[43msparsity_criteria\u001b[49m\u001b[43m,\u001b[49m\n\u001b[0;32m   2864\u001b[0m \u001b[43m        \u001b[49m\u001b[43msnr_criteria\u001b[49m\u001b[43m \u001b[49m\u001b[38;5;241;43m=\u001b[39;49m\u001b[43m \u001b[49m\u001b[43msnr_criteria\u001b[49m\u001b[43m,\u001b[49m\n\u001b[0;32m   2865\u001b[0m \u001b[43m        \u001b[49m\u001b[43mverbose\u001b[49m\u001b[38;5;241;43m=\u001b[39;49m\u001b[43mverbose\u001b[49m\n\u001b[0;32m   2866\u001b[0m \u001b[43m        \u001b[49m\u001b[43m)\u001b[49m\n\u001b[0;32m   2867\u001b[0m     label \u001b[38;5;241m=\u001b[39m \u001b[38;5;124mf\u001b[39m\u001b[38;5;124m'\u001b[39m\u001b[38;5;124mCSC-\u001b[39m\u001b[38;5;132;01m{\u001b[39;00malgorithm\u001b[38;5;241m.\u001b[39mupper()\u001b[38;5;132;01m}\u001b[39;00m\u001b[38;5;124m'\u001b[39m\n\u001b[0;32m   2868\u001b[0m     tp_values_per_algo[label] \u001b[38;5;241m=\u001b[39m tp_values\n",
      "File \u001b[1;32m~\\Documents\\ENS\\00_M1\\00_BORELLI\\01_WorkInProgress\\csc\\src\\csc\\workbench.py:2792\u001b[0m, in \u001b[0;36mCSCWorkbench.computeCDCTruePositivesFromAlphaCSC\u001b[1;34m(self, alphaCSC_db_path, results_key, pos_err_threshold, corr_err_threshold, sparsity_criteria, snr_criteria, verbose)\u001b[0m\n\u001b[0;32m   2790\u001b[0m \u001b[38;5;66;03m# Iterate over the result_dict of each signal in the sparvar_results\u001b[39;00m\n\u001b[0;32m   2791\u001b[0m \u001b[38;5;28;01mfor\u001b[39;00m result_dict \u001b[38;5;129;01min\u001b[39;00m sparvar_results :\n\u001b[1;32m-> 2792\u001b[0m     signal_id \u001b[38;5;241m=\u001b[39m \u001b[43mresult_dict\u001b[49m\u001b[43m[\u001b[49m\u001b[38;5;124;43m'\u001b[39;49m\u001b[38;5;124;43mid\u001b[39;49m\u001b[38;5;124;43m'\u001b[39;49m\u001b[43m]\u001b[49m\n\u001b[0;32m   2793\u001b[0m     signal_dict \u001b[38;5;241m=\u001b[39m \u001b[38;5;28mself\u001b[39m\u001b[38;5;241m.\u001b[39msignalDictFromId(signal_id)\n\u001b[0;32m   2794\u001b[0m     signal_sparsity, signal_snr \u001b[38;5;241m=\u001b[39m \u001b[38;5;28mlen\u001b[39m(signal_dict[\u001b[38;5;124m'\u001b[39m\u001b[38;5;124matoms\u001b[39m\u001b[38;5;124m'\u001b[39m]), signal_dict[\u001b[38;5;124m'\u001b[39m\u001b[38;5;124msnr\u001b[39m\u001b[38;5;124m'\u001b[39m]\n",
      "\u001b[1;31mTypeError\u001b[0m: list indices must be integers or slices, not str"
     ]
    }
   ],
   "source": [
    "POS_ERR_THRESHOLD = 5\n",
    "CORR_ERR_THRESHOLD = 0.95\n",
    "constrained_workbench.criticalDifferenceDiagramFromDB(\n",
    "    L1=icassp_alphaCSC_db,\n",
    "    MMP27=icassp_mmp27_db,\n",
    "    MMP10=icassp_mmp10_db,\n",
    "    MMP3=icassp_mmp3_db,\n",
    "    OMP=icassp_omp_db,\n",
    "    MP=icassp_mp_db,\n",
    "    pos_err_threshold=POS_ERR_THRESHOLD,\n",
    "    corr_err_threshold=CORR_ERR_THRESHOLD,\n",
    "    verbose=True,\n",
    "    file_title=\"CDD_test\",\n",
    ")"
   ]
  }
 ],
 "metadata": {
  "kernelspec": {
   "display_name": "phlamesenv",
   "language": "python",
   "name": "python3"
  },
  "language_info": {
   "codemirror_mode": {
    "name": "ipython",
    "version": 3
   },
   "file_extension": ".py",
   "mimetype": "text/x-python",
   "name": "python",
   "nbconvert_exporter": "python",
   "pygments_lexer": "ipython3",
   "version": "3.10.1"
  }
 },
 "nbformat": 4,
 "nbformat_minor": 2
}
