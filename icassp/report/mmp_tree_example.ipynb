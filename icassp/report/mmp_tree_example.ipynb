{
 "cells": [
  {
   "cell_type": "code",
   "execution_count": 1,
   "metadata": {},
   "outputs": [
    {
     "name": "stdout",
     "output_type": "stream",
     "text": [
      "The dictionary has 143 different atoms\n"
     ]
    }
   ],
   "source": [
    "import numpy as np\n",
    "from csc.utils import *\n",
    "from csc.atoms import *\n",
    "from csc.workbench import *\n",
    "from csc.dictionary import *\n",
    "from itertools import product\n",
    "import matplotlib.pyplot as plt\n",
    "\n",
    "# Atom parameters\n",
    "bmin = 0.005\n",
    "bmax = 0.06\n",
    "b_step = 0.005\n",
    "b_values = np.arange(bmin, bmax, b_step)\n",
    "\n",
    "ymin = 0.010\n",
    "ymax = 0.036\n",
    "y_step = 0.002\n",
    "y_values = np.arange(ymin, ymax, y_step)\n",
    "\n",
    "s_values = [1]\n",
    "\n",
    "dictionary = ZSDictionary.from_values(b_values, y_values, s_values)\n",
    "print('The dictionary has {} different atoms'.format(len(dictionary)))"
   ]
  },
  {
   "cell_type": "markdown",
   "metadata": {},
   "source": [
    "### Workbench initialization with a database path"
   ]
  },
  {
   "cell_type": "code",
   "execution_count": 2,
   "metadata": {},
   "outputs": [],
   "source": [
    "batchSize = 200\n",
    "\n",
    "pomme = False\n",
    "\n",
    "if pomme :\n",
    "    constrained_signals_db = f'/home/gomes/synthetic-data/constrained-signals-{batchSize}.json'\n",
    "\n",
    "    borelli_mmp81_db = f'/home/gomes/synthetic-data/borelli-mmpdf81-{batchSize}.json'\n",
    "    borelli_mmp27_db = f'/home/gomes/synthetic-data/borelli-mmpdf27-{batchSize}.json'\n",
    "    borelli_mmp9_db = f'/home/gomes/synthetic-data/borelli-mmpdf9-{batchSize}.json'\n",
    "    borelli_mmp3_db = f'/home/gomes/synthetic-data/borelli-mmpdf3-{batchSize}.json'\n",
    "\n",
    "    icassp_mp_db = f'/home/gomes/synthetic-data/icassp-mp-{batchSize}.json'\n",
    "    icassp_omp_db = f'/home/gomes/synthetic-data/icassp-omp-{batchSize}.json'\n",
    "    icassp_alphaCSC_db = f'/home/gomes/synthetic-data/icassp-alphaCSC-{batchSize}.json'\n",
    "\n",
    "else:\n",
    "    constrained_signals_db = f'C:\\\\Users\\\\gomes\\\\Documents\\\\ENS\\\\00_M1\\\\00_BORELLI\\\\01_WorkInProgress\\\\\\synthetic-data\\\\constrained-signals-{batchSize}.json'\n",
    "\n",
    "    borelli_mmp81_db = f'C:\\\\Users\\\\gomes\\\\Documents\\\\ENS\\\\00_M1\\\\00_BORELLI\\\\01_WorkInProgress\\\\synthetic-data\\\\borelli-mmpdf81-{batchSize}.json'\n",
    "    borelli_mmp27_db = f'C:\\\\Users\\\\gomes\\\\Documents\\\\ENS\\\\00_M1\\\\00_BORELLI\\\\01_WorkInProgress\\\\synthetic-data\\\\borelli-mmpdf27-{batchSize}.json'\n",
    "    borelli_mmp9_db = f'C:\\\\Users\\\\gomes\\\\Documents\\\\ENS\\\\00_M1\\\\00_BORELLI\\\\01_WorkInProgress\\\\synthetic-data\\\\borelli-mmpdf9-{batchSize}.json'\n",
    "    borelli_mmp3_db = f'C:\\\\Users\\\\gomes\\\\Documents\\\\ENS\\\\00_M1\\\\00_BORELLI\\\\01_WorkInProgress\\\\synthetic-data\\\\borelli-mmpdf3-{batchSize}.json'\n",
    "    \n",
    "    icassp_mp_db = f'C:\\\\Users\\\\gomes\\\\Documents\\\\ENS\\\\00_M1\\\\00_BORELLI\\\\01_WorkInProgress\\\\synthetic-data\\\\icassp-mp-{batchSize}.json'\n",
    "    icassp_omp_db = f'C:\\\\Users\\\\gomes\\\\Documents\\\\ENS\\\\00_M1\\\\00_BORELLI\\\\01_WorkInProgress\\\\synthetic-data\\\\icassp-omp-{batchSize}.json'\n",
    "    icassp_alphaCSC_db = f'C:\\\\Users\\\\gomes\\\\Documents\\\\ENS\\\\00_M1\\\\00_BORELLI\\\\01_WorkInProgress\\\\synthetic-data\\\\icassp-alphaCSC-{batchSize}.json'"
   ]
  },
  {
   "cell_type": "code",
   "execution_count": 3,
   "metadata": {},
   "outputs": [],
   "source": [
    "workbench = CSCWorkbench(constrained_signals_db)\n",
    "workbench.set_dictionary(dictionary)\n",
    "workbench.load_data()"
   ]
  },
  {
   "cell_type": "code",
   "execution_count": 4,
   "metadata": {},
   "outputs": [],
   "source": [
    "CONNECTIONS = 3\n",
    "NB_BRANCHES = 9\n",
    "DISSIMILARITY = 0.4"
   ]
  },
  {
   "cell_type": "markdown",
   "metadata": {},
   "source": [
    "#### Signal ID = 1987"
   ]
  },
  {
   "cell_type": "code",
   "execution_count": 5,
   "metadata": {},
   "outputs": [
    {
     "name": "stdout",
     "output_type": "stream",
     "text": [
      "[{'x': 217, 'b': 0.055, 'y': 0.012, 's': 1.653959710339202e-05}, {'x': 123, 'b': 0.04, 'y': 0.01, 's': 1.2558767847718308e-05}, {'x': 30, 'b': 0.034999999999999996, 'y': 0.014, 's': 2.0432484032758824e-05}]\n"
     ]
    },
    {
     "ename": "TypeError",
     "evalue": "unsupported operand type(s) for +: 'NoneType' and 'int'",
     "output_type": "error",
     "traceback": [
      "\u001b[1;31m---------------------------------------------------------------------------\u001b[0m",
      "\u001b[1;31mTypeError\u001b[0m                                 Traceback (most recent call last)",
      "Cell \u001b[1;32mIn[5], line 11\u001b[0m\n\u001b[0;32m      9\u001b[0m zs_atom \u001b[38;5;241m=\u001b[39m ZSAtom\u001b[38;5;241m.\u001b[39mfrom_dict(atom_dict)\n\u001b[0;32m     10\u001b[0m zs_atom\u001b[38;5;241m.\u001b[39mpadBothSides(dictionary\u001b[38;5;241m.\u001b[39mgetAtomsLength())\n\u001b[1;32m---> 11\u001b[0m atom_signal \u001b[38;5;241m=\u001b[39m \u001b[43mzs_atom\u001b[49m\u001b[38;5;241;43m.\u001b[39;49m\u001b[43mgetAtomInSignal\u001b[49m\u001b[43m(\u001b[49m\u001b[43msignal_length\u001b[49m\u001b[38;5;241;43m=\u001b[39;49m\u001b[38;5;28;43mlen\u001b[39;49m\u001b[43m(\u001b[49m\u001b[43mnoisy_signal\u001b[49m\u001b[43m)\u001b[49m\u001b[43m,\u001b[49m\u001b[43m \u001b[49m\u001b[43moffset\u001b[49m\u001b[38;5;241;43m=\u001b[39;49m\u001b[43mzs_atom\u001b[49m\u001b[43m[\u001b[49m\u001b[38;5;124;43m'\u001b[39;49m\u001b[38;5;124;43mx\u001b[39;49m\u001b[38;5;124;43m'\u001b[39;49m\u001b[43m]\u001b[49m\u001b[43m)\u001b[49m\n\u001b[0;32m     12\u001b[0m true_signal \u001b[38;5;241m+\u001b[39m\u001b[38;5;241m=\u001b[39m atom_signal\n",
      "File \u001b[1;32m~\\Documents\\ENS\\00_M1\\00_BORELLI\\01_WorkInProgress\\csc\\src\\csc\\atoms.py:171\u001b[0m, in \u001b[0;36mZSAtom.getAtomInSignal\u001b[1;34m(self, signal_length, offset)\u001b[0m\n\u001b[0;32m    163\u001b[0m \u001b[38;5;250m\u001b[39m\u001b[38;5;124;03m\"\"\"Returns the ZS atom signal in a signal\u001b[39;00m\n\u001b[0;32m    164\u001b[0m \u001b[38;5;124;03mArgs:\u001b[39;00m\n\u001b[0;32m    165\u001b[0m \u001b[38;5;124;03m    signal_length (int): The desired length of the signal\u001b[39;00m\n\u001b[1;32m   (...)\u001b[0m\n\u001b[0;32m    168\u001b[0m \u001b[38;5;124;03m    np.ndarray: The ZS atom signal in a signal\u001b[39;00m\n\u001b[0;32m    169\u001b[0m \u001b[38;5;124;03m\"\"\"\u001b[39;00m\n\u001b[0;32m    170\u001b[0m signal \u001b[38;5;241m=\u001b[39m np\u001b[38;5;241m.\u001b[39mzeros(signal_length)\n\u001b[1;32m--> 171\u001b[0m signal[offset:\u001b[43moffset\u001b[49m\u001b[43m \u001b[49m\u001b[38;5;241;43m+\u001b[39;49m\u001b[43m \u001b[49m\u001b[38;5;28;43mlen\u001b[39;49m\u001b[43m(\u001b[49m\u001b[38;5;28;43mself\u001b[39;49m\u001b[43m)\u001b[49m] \u001b[38;5;241m=\u001b[39m \u001b[38;5;28mself\u001b[39m\u001b[38;5;241m.\u001b[39mvalues\n\u001b[0;32m    172\u001b[0m \u001b[38;5;28;01mreturn\u001b[39;00m signal\n",
      "\u001b[1;31mTypeError\u001b[0m: unsupported operand type(s) for +: 'NoneType' and 'int'"
     ]
    }
   ],
   "source": [
    "signal_id = 1987\n",
    "signal_dict = workbench.signalDictFromId(signal_id)\n",
    "noisy_signal = signal_dict['signal']\n",
    "true_atoms = signal_dict['atoms']\n",
    "signal_sparsity = len(true_atoms)\n",
    "true_signal = np.zeros_like(noisy_signal)\n",
    "print(true_atoms)\n",
    "for atom_dict in true_atoms:\n",
    "    zs_atom = ZSAtom.from_dict(atom_dict)\n",
    "    zs_atom.padBothSides(dictionary.getAtomsLength())\n",
    "    atom_signal = zs_atom.getAtomInSignal(signal_length=len(noisy_signal), offset=zs_atom['x'])\n",
    "    true_signal += atom_signal"
   ]
  },
  {
   "cell_type": "code",
   "execution_count": null,
   "metadata": {},
   "outputs": [],
   "source": [
    "mmp_tree = MMPTree(dictionary=dictionary, signal=noisy_signal, sparsity=signal_sparsity, connections_level=CONNECTIONS, dissimilarity=DISSIMILARITY)\n",
    "mmp_tree.runMMPDF(branches=NB_BRANCHES, verbose=True)\n",
    "approx, infos = mmp_tree.getResult()"
   ]
  }
 ],
 "metadata": {
  "kernelspec": {
   "display_name": "phlamesenv",
   "language": "python",
   "name": "python3"
  },
  "language_info": {
   "codemirror_mode": {
    "name": "ipython",
    "version": 3
   },
   "file_extension": ".py",
   "mimetype": "text/x-python",
   "name": "python",
   "nbconvert_exporter": "python",
   "pygments_lexer": "ipython3",
   "version": "3.10.1"
  }
 },
 "nbformat": 4,
 "nbformat_minor": 2
}
