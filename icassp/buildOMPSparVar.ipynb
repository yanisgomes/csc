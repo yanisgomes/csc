{
 "cells": [
  {
   "cell_type": "markdown",
   "metadata": {},
   "source": [
    "# Build SparVar OMP Database"
   ]
  },
  {
   "cell_type": "code",
   "execution_count": 1,
   "metadata": {},
   "outputs": [
    {
     "name": "stdout",
     "output_type": "stream",
     "text": [
      "The dictionary has 143 different atoms\n"
     ]
    }
   ],
   "source": [
    "import numpy as np\n",
    "from csc.utils import *\n",
    "from csc.atoms import *\n",
    "from csc.dictionary import *\n",
    "from itertools import product\n",
    "import matplotlib.pyplot as plt\n",
    "\n",
    "# Atom parameters\n",
    "bmin = 0.005\n",
    "bmax = 0.06\n",
    "b_step = 0.005\n",
    "b_values = np.arange(bmin, bmax, b_step)\n",
    "\n",
    "ymin = 0.010\n",
    "ymax = 0.036\n",
    "y_step = 0.002\n",
    "y_values = np.arange(ymin, ymax, y_step)\n",
    "\n",
    "s_values = [1]\n",
    "\n",
    "dictionary = ZSDictionary.from_values(b_values, y_values, s_values)\n",
    "print('The dictionary has {} different atoms'.format(len(dictionary)))"
   ]
  },
  {
   "cell_type": "markdown",
   "metadata": {},
   "source": [
    "## Build sparsity variation database\n",
    "\n",
    "#### Format :\n",
    "````\n",
    "'source' = input_filename\n",
    "'date' = get_today_date_str()\n",
    "'algorithm' = 'Convolutional OMP'\n",
    "'batchSize' = data['batchSize']\n",
    "'snrLevels' = data['snrLevels']\n",
    "'signalLength' = data['signalLength']\n",
    "'sparsityLevels' = data['sparsityLevels']\n",
    "'dictionary' = str(self)\n",
    "'omp' : \n",
    "    [\n",
    "        {\n",
    "            'id' : 0,\n",
    "            'snr' : snr,\n",
    "            'results' : [\n",
    "                {\n",
    "                    'mse' : #MSE,\n",
    "                    'delay' : #DELAY,\n",
    "                    'atoms' : [\n",
    "                        {'x':x, 'b':b, 'y':y, 's':s}\n",
    "                        #1\n",
    "                    ]\n",
    "                },\n",
    "                ...\n",
    "                {\n",
    "                    'mse' : #MSE,\n",
    "                    'delay' : #DELAY,\n",
    "                    'atoms' : [\n",
    "                        {'x':x, 'b':b, 'y':y, 's':s}\n",
    "                        #max_sparsity\n",
    "                    ]\n",
    "                }\n",
    "                ]\n",
    "        },\n",
    "        {\n",
    "            'id' : 1,\n",
    "            ...\n",
    "        },\n",
    "\n",
    "        ...\n",
    "\n",
    "    ]\n",
    "````"
   ]
  },
  {
   "cell_type": "code",
   "execution_count": 2,
   "metadata": {},
   "outputs": [],
   "source": [
    "batchSize = 200\n",
    "input_signals_db = f'/home/gomes/synthetic-data/csc-signals-{batchSize}.json'"
   ]
  },
  {
   "cell_type": "markdown",
   "metadata": {},
   "source": [
    "### Check the ``DISSIMILARITY`` threshold"
   ]
  },
  {
   "cell_type": "code",
   "execution_count": 3,
   "metadata": {},
   "outputs": [
    {
     "ename": "FileNotFoundError",
     "evalue": "[Errno 2] No such file or directory: '/home/gomes/synthetic-data/csc-signals-200.json'",
     "output_type": "error",
     "traceback": [
      "\u001b[1;31m---------------------------------------------------------------------------\u001b[0m",
      "\u001b[1;31mFileNotFoundError\u001b[0m                         Traceback (most recent call last)",
      "Cell \u001b[1;32mIn[3], line 8\u001b[0m\n\u001b[0;32m      6\u001b[0m today \u001b[38;5;241m=\u001b[39m get_today_date_str()\n\u001b[0;32m      7\u001b[0m output_omp_db \u001b[38;5;241m=\u001b[39m \u001b[38;5;124mf\u001b[39m\u001b[38;5;124m'\u001b[39m\u001b[38;5;124m/home/gomes/synthetic-data/\u001b[39m\u001b[38;5;132;01m{\u001b[39;00mtoday\u001b[38;5;132;01m}\u001b[39;00m\u001b[38;5;124m-omp-\u001b[39m\u001b[38;5;132;01m{\u001b[39;00mbatchSize\u001b[38;5;132;01m}\u001b[39;00m\u001b[38;5;124m.json\u001b[39m\u001b[38;5;124m'\u001b[39m\n\u001b[1;32m----> 8\u001b[0m \u001b[43mdictionary\u001b[49m\u001b[38;5;241;43m.\u001b[39;49m\u001b[43mompSparVarPipelineFromDB\u001b[49m\u001b[43m(\u001b[49m\u001b[43minput_signals_db\u001b[49m\u001b[43m,\u001b[49m\u001b[43m \u001b[49m\u001b[43moutput_omp_db\u001b[49m\u001b[43m,\u001b[49m\u001b[43m \u001b[49m\u001b[43mnb_cores\u001b[49m\u001b[38;5;241;43m=\u001b[39;49m\u001b[43mNB_CORES\u001b[49m\u001b[43m,\u001b[49m\u001b[43m \u001b[49m\u001b[43mmax_sparsity\u001b[49m\u001b[38;5;241;43m=\u001b[39;49m\u001b[43mMAX_SPARSITY\u001b[49m\u001b[43m,\u001b[49m\u001b[43m \u001b[49m\u001b[43mverbose\u001b[49m\u001b[38;5;241;43m=\u001b[39;49m\u001b[38;5;28;43;01mTrue\u001b[39;49;00m\u001b[43m)\u001b[49m\n",
      "File \u001b[1;32m~\\Documents\\ENS\\00_M1\\00_BORELLI\\01_WorkInProgress\\csc\\src\\csc\\dictionary.py:625\u001b[0m, in \u001b[0;36mZSDictionary.ompSparVarPipelineFromDB\u001b[1;34m(self, input_filename, output_filename, nb_cores, max_sparsity, verbose)\u001b[0m\n\u001b[0;32m    616\u001b[0m \u001b[38;5;28;01mdef\u001b[39;00m \u001b[38;5;21mompSparVarPipelineFromDB\u001b[39m(\u001b[38;5;28mself\u001b[39m, input_filename:\u001b[38;5;28mstr\u001b[39m, output_filename:\u001b[38;5;28mstr\u001b[39m, nb_cores:\u001b[38;5;28mint\u001b[39m, max_sparsity:\u001b[38;5;28mint\u001b[39m, verbose\u001b[38;5;241m=\u001b[39m\u001b[38;5;28;01mFalse\u001b[39;00m) :\n\u001b[0;32m    617\u001b[0m \u001b[38;5;250m    \u001b[39m\u001b[38;5;124;03m\"\"\"Create a pipeline of the OMP algorithm from the database of signals.\u001b[39;00m\n\u001b[0;32m    618\u001b[0m \u001b[38;5;124;03m    Args:\u001b[39;00m\n\u001b[0;32m    619\u001b[0m \u001b[38;5;124;03m        input_filename (str): The name of the input file containing the signals database\u001b[39;00m\n\u001b[1;32m   (...)\u001b[0m\n\u001b[0;32m    623\u001b[0m \u001b[38;5;124;03m        None : it saves the results in a file\u001b[39;00m\n\u001b[0;32m    624\u001b[0m \u001b[38;5;124;03m    \"\"\"\u001b[39;00m\n\u001b[1;32m--> 625\u001b[0m     \u001b[38;5;28;01mwith\u001b[39;00m \u001b[38;5;28;43mopen\u001b[39;49m\u001b[43m(\u001b[49m\u001b[43minput_filename\u001b[49m\u001b[43m,\u001b[49m\u001b[43m \u001b[49m\u001b[38;5;124;43m'\u001b[39;49m\u001b[38;5;124;43mr\u001b[39;49m\u001b[38;5;124;43m'\u001b[39;49m\u001b[43m)\u001b[49m \u001b[38;5;28;01mas\u001b[39;00m json_file:\n\u001b[0;32m    626\u001b[0m         data \u001b[38;5;241m=\u001b[39m json\u001b[38;5;241m.\u001b[39mload(json_file)\n\u001b[0;32m    627\u001b[0m         \u001b[38;5;28;01mif\u001b[39;00m data \u001b[38;5;129;01mis\u001b[39;00m \u001b[38;5;28;01mNone\u001b[39;00m:\n",
      "\u001b[1;31mFileNotFoundError\u001b[0m: [Errno 2] No such file or directory: '/home/gomes/synthetic-data/csc-signals-200.json'"
     ]
    }
   ],
   "source": [
    "# Pipeline parameters\n",
    "NB_CORES = -1\n",
    "MAX_SPARSITY = 10\n",
    "\n",
    "# Run pipeline\n",
    "today = get_today_date_str()\n",
    "output_omp_db = f'/home/gomes/synthetic-data/{today}-omp-{batchSize}.json'\n",
    "dictionary.ompSparVarPipelineFromDB(input_signals_db, output_omp_db, nb_cores=NB_CORES, max_sparsity=MAX_SPARSITY, verbose=True)"
   ]
  }
 ],
 "metadata": {
  "kernelspec": {
   "display_name": "phlamesenv",
   "language": "python",
   "name": "python3"
  },
  "language_info": {
   "codemirror_mode": {
    "name": "ipython",
    "version": 3
   },
   "file_extension": ".py",
   "mimetype": "text/x-python",
   "name": "python",
   "nbconvert_exporter": "python",
   "pygments_lexer": "ipython3",
   "version": "3.10.1"
  }
 },
 "nbformat": 4,
 "nbformat_minor": 2
}
