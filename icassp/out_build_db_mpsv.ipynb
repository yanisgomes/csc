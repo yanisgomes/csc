{
 "cells": [
  {
   "cell_type": "markdown",
   "id": "f6efc3ac",
   "metadata": {
    "papermill": {
     "duration": 0.003175,
     "end_time": "2024-07-23T15:49:58.157951",
     "exception": false,
     "start_time": "2024-07-23T15:49:58.154776",
     "status": "completed"
    },
    "tags": []
   },
   "source": [
    "# Build SparVar MP Database"
   ]
  },
  {
   "cell_type": "code",
   "execution_count": 1,
   "id": "d034a247",
   "metadata": {
    "execution": {
     "iopub.execute_input": "2024-07-23T15:49:58.165575Z",
     "iopub.status.busy": "2024-07-23T15:49:58.164933Z",
     "iopub.status.idle": "2024-07-23T15:49:59.920471Z",
     "shell.execute_reply": "2024-07-23T15:49:59.919079Z"
    },
    "papermill": {
     "duration": 1.762892,
     "end_time": "2024-07-23T15:49:59.923710",
     "exception": false,
     "start_time": "2024-07-23T15:49:58.160818",
     "status": "completed"
    },
    "tags": []
   },
   "outputs": [
    {
     "name": "stdout",
     "output_type": "stream",
     "text": [
      "The dictionary has 143 different atoms\n"
     ]
    }
   ],
   "source": [
    "import numpy as np\n",
    "from csc.utils import *\n",
    "from csc.atoms import *\n",
    "from csc.dictionary import *\n",
    "from itertools import product\n",
    "import matplotlib.pyplot as plt\n",
    "\n",
    "# Atom parameters\n",
    "bmin = 0.005\n",
    "bmax = 0.06\n",
    "b_step = 0.005\n",
    "b_values = np.arange(bmin, bmax, b_step)\n",
    "\n",
    "ymin = 0.010\n",
    "ymax = 0.036\n",
    "y_step = 0.002\n",
    "y_values = np.arange(ymin, ymax, y_step)\n",
    "\n",
    "s_values = [1]\n",
    "\n",
    "dictionary = ZSDictionary.from_values(b_values, y_values, s_values)\n",
    "print('The dictionary has {} different atoms'.format(len(dictionary)))"
   ]
  },
  {
   "cell_type": "markdown",
   "id": "5e03bfaf",
   "metadata": {
    "papermill": {
     "duration": 0.003802,
     "end_time": "2024-07-23T15:49:59.931772",
     "exception": false,
     "start_time": "2024-07-23T15:49:59.927970",
     "status": "completed"
    },
    "tags": []
   },
   "source": [
    "## Build sparsity variation database\n",
    "\n",
    "#### Format :\n",
    "````\n",
    "'source' = input_filename\n",
    "'date' = get_today_date_str()\n",
    "'algorithm' = 'Convolutional OMP'\n",
    "'batchSize' = data['batchSize']\n",
    "'snrLevels' = data['snrLevels']\n",
    "'signalLength' = data['signalLength']\n",
    "'sparsityLevels' = data['sparsityLevels']\n",
    "'dictionary' = str(self)\n",
    "'mp' : \n",
    "    [\n",
    "        {\n",
    "            'id' : 0,\n",
    "            'snr' : snr,\n",
    "            'results' : [\n",
    "                {\n",
    "                    'mse' : #MSE,\n",
    "                    'delay' : #DELAY,\n",
    "                    'atoms' : [\n",
    "                        {'x':x, 'b':b, 'y':y, 's':s}\n",
    "                        #1\n",
    "                    ]\n",
    "                },\n",
    "                ...\n",
    "                {\n",
    "                    'mse' : #MSE,\n",
    "                    'delay' : #DELAY,\n",
    "                    'atoms' : [\n",
    "                        {'x':x, 'b':b, 'y':y, 's':s}\n",
    "                        #max_sparsity\n",
    "                    ]\n",
    "                }\n",
    "                ]\n",
    "        },\n",
    "        {\n",
    "            'id' : 1,\n",
    "            ...\n",
    "        },\n",
    "\n",
    "        ...\n",
    "\n",
    "    ]\n",
    "````"
   ]
  },
  {
   "cell_type": "code",
   "execution_count": 2,
   "id": "ca687da2",
   "metadata": {
    "execution": {
     "iopub.execute_input": "2024-07-23T15:49:59.941060Z",
     "iopub.status.busy": "2024-07-23T15:49:59.940444Z",
     "iopub.status.idle": "2024-07-23T15:49:59.944925Z",
     "shell.execute_reply": "2024-07-23T15:49:59.944077Z"
    },
    "papermill": {
     "duration": 0.012499,
     "end_time": "2024-07-23T15:49:59.947902",
     "exception": false,
     "start_time": "2024-07-23T15:49:59.935403",
     "status": "completed"
    },
    "tags": []
   },
   "outputs": [],
   "source": [
    "batchSize = 200\n",
    "input_signals_db = f'/home/gomes/synthetic-data/csc-signals-{batchSize}.json'"
   ]
  },
  {
   "cell_type": "code",
   "execution_count": 3,
   "id": "15404745",
   "metadata": {
    "execution": {
     "iopub.execute_input": "2024-07-23T15:49:59.958179Z",
     "iopub.status.busy": "2024-07-23T15:49:59.957764Z",
     "iopub.status.idle": "2024-07-23T15:51:41.716568Z",
     "shell.execute_reply": "2024-07-23T15:51:41.715183Z"
    },
    "papermill": {
     "duration": 101.768873,
     "end_time": "2024-07-23T15:51:41.720544",
     "exception": false,
     "start_time": "2024-07-23T15:49:59.951671",
     "status": "completed"
    },
    "tags": []
   },
   "outputs": [
    {
     "name": "stderr",
     "output_type": "stream",
     "text": [
      "\r",
      "MP SparVar Pipeline from DB:   0%|                                                                                                                                                                       | 0/5000 [00:00<?, ?it/s]"
     ]
    },
    {
     "name": "stderr",
     "output_type": "stream",
     "text": [
      "\r",
      "MP SparVar Pipeline from DB:   0%|▎                                                                                                                                                             | 10/5000 [00:00<02:09, 38.57it/s]"
     ]
    },
    {
     "name": "stderr",
     "output_type": "stream",
     "text": [
      "\r",
      "MP SparVar Pipeline from DB:   0%|▋                                                                                                                                                             | 20/5000 [00:01<08:57,  9.26it/s]"
     ]
    },
    {
     "name": "stderr",
     "output_type": "stream",
     "text": [
      "\r",
      "MP SparVar Pipeline from DB:   1%|▉                                                                                                                                                             | 30/5000 [00:02<05:51, 14.16it/s]"
     ]
    },
    {
     "name": "stderr",
     "output_type": "stream",
     "text": [
      "/home/gomes/csc/src/csc/dictionary.py:804: RuntimeWarning: overflow encountered in square\n",
      "  'mse' : np.mean((signal - approx)**2),\n"
     ]
    },
    {
     "name": "stderr",
     "output_type": "stream",
     "text": [
      "\r",
      "MP SparVar Pipeline from DB:   1%|█▎                                                                                                                                                            | 40/5000 [00:02<04:39, 17.76it/s]"
     ]
    },
    {
     "name": "stderr",
     "output_type": "stream",
     "text": [
      "\r",
      "MP SparVar Pipeline from DB:   1%|█▌                                                                                                                                                            | 50/5000 [00:02<03:47, 21.72it/s]"
     ]
    },
    {
     "name": "stderr",
     "output_type": "stream",
     "text": [
      "\r",
      "MP SparVar Pipeline from DB:   1%|█▉                                                                                                                                                            | 60/5000 [00:03<03:14, 25.42it/s]"
     ]
    },
    {
     "name": "stderr",
     "output_type": "stream",
     "text": [
      "\r",
      "MP SparVar Pipeline from DB:   1%|██▏                                                                                                                                                           | 70/5000 [00:03<02:47, 29.46it/s]"
     ]
    },
    {
     "name": "stderr",
     "output_type": "stream",
     "text": [
      "\r",
      "MP SparVar Pipeline from DB:   2%|██▌                                                                                                                                                           | 80/5000 [00:03<02:37, 31.31it/s]"
     ]
    },
    {
     "name": "stderr",
     "output_type": "stream",
     "text": [
      "\r",
      "MP SparVar Pipeline from DB:   2%|██▊                                                                                                                                                           | 90/5000 [00:03<02:26, 33.49it/s]"
     ]
    },
    {
     "name": "stderr",
     "output_type": "stream",
     "text": [
      "\r",
      "MP SparVar Pipeline from DB:   2%|███▏                                                                                                                                                         | 100/5000 [00:04<02:21, 34.51it/s]"
     ]
    },
    {
     "name": "stderr",
     "output_type": "stream",
     "text": [
      "\r",
      "MP SparVar Pipeline from DB:   2%|███▍                                                                                                                                                         | 110/5000 [00:04<02:20, 34.70it/s]"
     ]
    },
    {
     "name": "stderr",
     "output_type": "stream",
     "text": [
      "\r",
      "MP SparVar Pipeline from DB:   2%|███▊                                                                                                                                                         | 120/5000 [00:04<02:05, 38.94it/s]"
     ]
    },
    {
     "name": "stderr",
     "output_type": "stream",
     "text": [
      "\r",
      "MP SparVar Pipeline from DB:   3%|████                                                                                                                                                         | 130/5000 [00:04<02:04, 38.96it/s]"
     ]
    },
    {
     "name": "stderr",
     "output_type": "stream",
     "text": [
      "\r",
      "MP SparVar Pipeline from DB:   3%|████▍                                                                                                                                                        | 140/5000 [00:05<02:01, 39.92it/s]"
     ]
    },
    {
     "name": "stderr",
     "output_type": "stream",
     "text": [
      "\r",
      "MP SparVar Pipeline from DB:   3%|████▋                                                                                                                                                        | 150/5000 [00:05<01:53, 42.61it/s]"
     ]
    },
    {
     "name": "stderr",
     "output_type": "stream",
     "text": [
      "\r",
      "MP SparVar Pipeline from DB:   3%|█████                                                                                                                                                        | 160/5000 [00:05<01:48, 44.42it/s]"
     ]
    },
    {
     "name": "stderr",
     "output_type": "stream",
     "text": [
      "\r",
      "MP SparVar Pipeline from DB:   3%|█████▎                                                                                                                                                       | 170/5000 [00:05<01:49, 44.12it/s]"
     ]
    },
    {
     "name": "stderr",
     "output_type": "stream",
     "text": [
      "\r",
      "MP SparVar Pipeline from DB:   4%|█████▋                                                                                                                                                       | 180/5000 [00:05<01:39, 48.37it/s]"
     ]
    },
    {
     "name": "stderr",
     "output_type": "stream",
     "text": [
      "\r",
      "MP SparVar Pipeline from DB:   4%|█████▉                                                                                                                                                       | 190/5000 [00:06<01:47, 44.72it/s]"
     ]
    },
    {
     "name": "stderr",
     "output_type": "stream",
     "text": [
      "\r",
      "MP SparVar Pipeline from DB:   4%|██████▎                                                                                                                                                      | 200/5000 [00:06<01:39, 48.35it/s]"
     ]
    },
    {
     "name": "stderr",
     "output_type": "stream",
     "text": [
      "\r",
      "MP SparVar Pipeline from DB:   4%|██████▌                                                                                                                                                      | 210/5000 [00:06<01:39, 48.34it/s]"
     ]
    },
    {
     "name": "stderr",
     "output_type": "stream",
     "text": [
      "\r",
      "MP SparVar Pipeline from DB:   4%|██████▉                                                                                                                                                      | 220/5000 [00:06<01:45, 45.43it/s]"
     ]
    },
    {
     "name": "stderr",
     "output_type": "stream",
     "text": [
      "\r",
      "MP SparVar Pipeline from DB:   5%|███████▏                                                                                                                                                     | 230/5000 [00:06<01:37, 48.72it/s]"
     ]
    },
    {
     "name": "stderr",
     "output_type": "stream",
     "text": [
      "/home/gomes/csc/src/csc/dictionary.py:804: RuntimeWarning: overflow encountered in square\n",
      "  'mse' : np.mean((signal - approx)**2),\n",
      "\r",
      "MP SparVar Pipeline from DB:   5%|███████▌                                                                                                                                                     | 240/5000 [00:07<01:32, 51.60it/s]"
     ]
    },
    {
     "name": "stderr",
     "output_type": "stream",
     "text": [
      "\r",
      "MP SparVar Pipeline from DB:   5%|███████▊                                                                                                                                                     | 250/5000 [00:07<01:27, 54.04it/s]"
     ]
    },
    {
     "name": "stderr",
     "output_type": "stream",
     "text": [
      "\r",
      "MP SparVar Pipeline from DB:   5%|████████▏                                                                                                                                                    | 260/5000 [00:07<01:31, 51.99it/s]"
     ]
    },
    {
     "name": "stderr",
     "output_type": "stream",
     "text": [
      "\r",
      "MP SparVar Pipeline from DB:   5%|████████▍                                                                                                                                                    | 270/5000 [00:07<01:29, 52.82it/s]"
     ]
    },
    {
     "name": "stderr",
     "output_type": "stream",
     "text": [
      "\r",
      "MP SparVar Pipeline from DB:   6%|████████▊                                                                                                                                                    | 280/5000 [00:07<01:28, 53.22it/s]"
     ]
    },
    {
     "name": "stderr",
     "output_type": "stream",
     "text": [
      "\r",
      "MP SparVar Pipeline from DB:   6%|█████████                                                                                                                                                    | 290/5000 [00:08<01:33, 50.27it/s]"
     ]
    },
    {
     "name": "stderr",
     "output_type": "stream",
     "text": [
      "\r",
      "MP SparVar Pipeline from DB:   6%|█████████▍                                                                                                                                                   | 300/5000 [00:08<01:35, 49.04it/s]"
     ]
    },
    {
     "name": "stderr",
     "output_type": "stream",
     "text": [
      "\r",
      "MP SparVar Pipeline from DB:   6%|█████████▋                                                                                                                                                   | 310/5000 [00:08<01:28, 52.75it/s]"
     ]
    },
    {
     "name": "stderr",
     "output_type": "stream",
     "text": [
      "\r",
      "MP SparVar Pipeline from DB:   6%|██████████                                                                                                                                                   | 320/5000 [00:08<01:26, 54.15it/s]"
     ]
    },
    {
     "name": "stderr",
     "output_type": "stream",
     "text": [
      "\r",
      "MP SparVar Pipeline from DB:   7%|██████████▎                                                                                                                                                  | 330/5000 [00:08<01:34, 49.21it/s]"
     ]
    },
    {
     "name": "stderr",
     "output_type": "stream",
     "text": [
      "\r",
      "MP SparVar Pipeline from DB:   7%|██████████▋                                                                                                                                                  | 340/5000 [00:09<01:33, 50.03it/s]"
     ]
    },
    {
     "name": "stderr",
     "output_type": "stream",
     "text": [
      "\r",
      "MP SparVar Pipeline from DB:   7%|██████████▉                                                                                                                                                  | 350/5000 [00:09<01:30, 51.20it/s]"
     ]
    },
    {
     "name": "stderr",
     "output_type": "stream",
     "text": [
      "\r",
      "MP SparVar Pipeline from DB:   7%|███████████▎                                                                                                                                                 | 360/5000 [00:09<01:30, 51.44it/s]"
     ]
    },
    {
     "name": "stderr",
     "output_type": "stream",
     "text": [
      "\r",
      "MP SparVar Pipeline from DB:   7%|███████████▌                                                                                                                                                 | 370/5000 [00:09<01:27, 52.82it/s]"
     ]
    },
    {
     "name": "stderr",
     "output_type": "stream",
     "text": [
      "\r",
      "MP SparVar Pipeline from DB:   8%|███████████▉                                                                                                                                                 | 380/5000 [00:09<01:26, 53.63it/s]"
     ]
    },
    {
     "name": "stderr",
     "output_type": "stream",
     "text": [
      "\r",
      "MP SparVar Pipeline from DB:   8%|████████████▏                                                                                                                                                | 390/5000 [00:09<01:23, 54.92it/s]"
     ]
    },
    {
     "name": "stderr",
     "output_type": "stream",
     "text": [
      "\r",
      "MP SparVar Pipeline from DB:   8%|████████████▌                                                                                                                                                | 400/5000 [00:10<01:23, 54.87it/s]"
     ]
    },
    {
     "name": "stderr",
     "output_type": "stream",
     "text": [
      "\r",
      "MP SparVar Pipeline from DB:   8%|████████████▊                                                                                                                                                | 410/5000 [00:10<01:21, 56.06it/s]"
     ]
    },
    {
     "name": "stderr",
     "output_type": "stream",
     "text": [
      "\r",
      "MP SparVar Pipeline from DB:   8%|█████████████▏                                                                                                                                               | 420/5000 [00:10<01:23, 54.91it/s]"
     ]
    },
    {
     "name": "stderr",
     "output_type": "stream",
     "text": [
      "/home/gomes/csc/src/csc/dictionary.py:804: RuntimeWarning: overflow encountered in square\n",
      "  'mse' : np.mean((signal - approx)**2),\n",
      "\r",
      "MP SparVar Pipeline from DB:   9%|█████████████▌                                                                                                                                               | 430/5000 [00:10<01:21, 55.85it/s]"
     ]
    },
    {
     "name": "stderr",
     "output_type": "stream",
     "text": [
      "\r",
      "MP SparVar Pipeline from DB:   9%|█████████████▊                                                                                                                                               | 440/5000 [00:10<01:23, 54.68it/s]"
     ]
    },
    {
     "name": "stderr",
     "output_type": "stream",
     "text": [
      "\r",
      "MP SparVar Pipeline from DB:   9%|██████████████▏                                                                                                                                              | 450/5000 [00:11<01:24, 53.73it/s]"
     ]
    },
    {
     "name": "stderr",
     "output_type": "stream",
     "text": [
      "\r",
      "MP SparVar Pipeline from DB:   9%|██████████████▍                                                                                                                                              | 460/5000 [00:11<01:23, 54.69it/s]"
     ]
    },
    {
     "name": "stderr",
     "output_type": "stream",
     "text": [
      "\r",
      "MP SparVar Pipeline from DB:   9%|██████████████▊                                                                                                                                              | 470/5000 [00:11<01:23, 54.51it/s]"
     ]
    },
    {
     "name": "stderr",
     "output_type": "stream",
     "text": [
      "\r",
      "MP SparVar Pipeline from DB:  10%|███████████████                                                                                                                                              | 480/5000 [00:11<01:20, 55.95it/s]"
     ]
    },
    {
     "name": "stderr",
     "output_type": "stream",
     "text": [
      "\r",
      "MP SparVar Pipeline from DB:  10%|███████████████▍                                                                                                                                             | 490/5000 [00:11<01:20, 56.22it/s]"
     ]
    },
    {
     "name": "stderr",
     "output_type": "stream",
     "text": [
      "\r",
      "MP SparVar Pipeline from DB:  10%|███████████████▋                                                                                                                                             | 500/5000 [00:11<01:23, 53.96it/s]"
     ]
    },
    {
     "name": "stderr",
     "output_type": "stream",
     "text": [
      "\r",
      "MP SparVar Pipeline from DB:  10%|████████████████                                                                                                                                             | 510/5000 [00:12<01:18, 57.46it/s]"
     ]
    },
    {
     "name": "stderr",
     "output_type": "stream",
     "text": [
      "\r",
      "MP SparVar Pipeline from DB:  10%|████████████████▎                                                                                                                                            | 520/5000 [00:12<01:24, 53.27it/s]"
     ]
    },
    {
     "name": "stderr",
     "output_type": "stream",
     "text": [
      "\r",
      "MP SparVar Pipeline from DB:  11%|████████████████▋                                                                                                                                            | 530/5000 [00:12<01:19, 55.97it/s]"
     ]
    },
    {
     "name": "stderr",
     "output_type": "stream",
     "text": [
      "\r",
      "MP SparVar Pipeline from DB:  11%|████████████████▉                                                                                                                                            | 540/5000 [00:12<01:17, 57.18it/s]"
     ]
    },
    {
     "name": "stderr",
     "output_type": "stream",
     "text": [
      "\r",
      "MP SparVar Pipeline from DB:  11%|█████████████████▎                                                                                                                                           | 550/5000 [00:12<01:18, 56.91it/s]"
     ]
    },
    {
     "name": "stderr",
     "output_type": "stream",
     "text": [
      "\r",
      "MP SparVar Pipeline from DB:  11%|█████████████████▌                                                                                                                                           | 560/5000 [00:12<01:19, 55.76it/s]"
     ]
    },
    {
     "name": "stderr",
     "output_type": "stream",
     "text": [
      "\r",
      "MP SparVar Pipeline from DB:  11%|█████████████████▉                                                                                                                                           | 570/5000 [00:13<01:21, 54.18it/s]"
     ]
    },
    {
     "name": "stderr",
     "output_type": "stream",
     "text": [
      "\r",
      "MP SparVar Pipeline from DB:  12%|██████████████████▏                                                                                                                                          | 580/5000 [00:13<01:19, 55.65it/s]"
     ]
    },
    {
     "name": "stderr",
     "output_type": "stream",
     "text": [
      "\r",
      "MP SparVar Pipeline from DB:  12%|██████████████████▌                                                                                                                                          | 590/5000 [00:13<01:14, 59.20it/s]"
     ]
    },
    {
     "name": "stderr",
     "output_type": "stream",
     "text": [
      "\r",
      "MP SparVar Pipeline from DB:  12%|██████████████████▊                                                                                                                                          | 600/5000 [00:13<01:16, 57.75it/s]"
     ]
    },
    {
     "name": "stderr",
     "output_type": "stream",
     "text": [
      "\r",
      "MP SparVar Pipeline from DB:  12%|███████████████████▏                                                                                                                                         | 610/5000 [00:13<01:21, 53.92it/s]"
     ]
    },
    {
     "name": "stderr",
     "output_type": "stream",
     "text": [
      "\r",
      "MP SparVar Pipeline from DB:  12%|███████████████████▍                                                                                                                                         | 620/5000 [00:14<01:15, 57.69it/s]"
     ]
    },
    {
     "name": "stderr",
     "output_type": "stream",
     "text": [
      "\r",
      "MP SparVar Pipeline from DB:  13%|███████████████████▊                                                                                                                                         | 630/5000 [00:14<01:19, 55.14it/s]"
     ]
    },
    {
     "name": "stderr",
     "output_type": "stream",
     "text": [
      "\r",
      "MP SparVar Pipeline from DB:  13%|████████████████████                                                                                                                                         | 640/5000 [00:14<01:19, 54.76it/s]"
     ]
    },
    {
     "name": "stderr",
     "output_type": "stream",
     "text": [
      "\r",
      "MP SparVar Pipeline from DB:  13%|████████████████████▍                                                                                                                                        | 650/5000 [00:14<01:18, 55.45it/s]"
     ]
    },
    {
     "name": "stderr",
     "output_type": "stream",
     "text": [
      "\r",
      "MP SparVar Pipeline from DB:  13%|████████████████████▋                                                                                                                                        | 660/5000 [00:14<01:18, 55.35it/s]"
     ]
    },
    {
     "name": "stderr",
     "output_type": "stream",
     "text": [
      "\r",
      "MP SparVar Pipeline from DB:  13%|█████████████████████                                                                                                                                        | 670/5000 [00:14<01:18, 54.83it/s]"
     ]
    },
    {
     "name": "stderr",
     "output_type": "stream",
     "text": [
      "\r",
      "MP SparVar Pipeline from DB:  14%|█████████████████████▎                                                                                                                                       | 680/5000 [00:15<01:18, 55.20it/s]"
     ]
    },
    {
     "name": "stderr",
     "output_type": "stream",
     "text": [
      "\r",
      "MP SparVar Pipeline from DB:  14%|█████████████████████▋                                                                                                                                       | 690/5000 [00:15<01:17, 55.39it/s]"
     ]
    },
    {
     "name": "stderr",
     "output_type": "stream",
     "text": [
      "\r",
      "MP SparVar Pipeline from DB:  14%|█████████████████████▉                                                                                                                                       | 700/5000 [00:15<01:19, 54.42it/s]"
     ]
    },
    {
     "name": "stderr",
     "output_type": "stream",
     "text": [
      "/home/gomes/csc/src/csc/dictionary.py:804: RuntimeWarning: overflow encountered in square\n",
      "  'mse' : np.mean((signal - approx)**2),\n",
      "\r",
      "MP SparVar Pipeline from DB:  14%|██████████████████████▎                                                                                                                                      | 710/5000 [00:15<01:13, 58.66it/s]"
     ]
    },
    {
     "name": "stderr",
     "output_type": "stream",
     "text": [
      "\r",
      "MP SparVar Pipeline from DB:  14%|██████████████████████▌                                                                                                                                      | 720/5000 [00:15<01:18, 54.42it/s]"
     ]
    },
    {
     "name": "stderr",
     "output_type": "stream",
     "text": [
      "/home/gomes/csc/src/csc/dictionary.py:804: RuntimeWarning: overflow encountered in square\n",
      "  'mse' : np.mean((signal - approx)**2),\n",
      "\r",
      "MP SparVar Pipeline from DB:  15%|██████████████████████▉                                                                                                                                      | 730/5000 [00:16<01:35, 44.72it/s]"
     ]
    },
    {
     "name": "stderr",
     "output_type": "stream",
     "text": [
      "\r",
      "MP SparVar Pipeline from DB:  15%|███████████████████████▏                                                                                                                                     | 740/5000 [00:16<01:50, 38.66it/s]"
     ]
    },
    {
     "name": "stderr",
     "output_type": "stream",
     "text": [
      "\r",
      "MP SparVar Pipeline from DB:  15%|███████████████████████▌                                                                                                                                     | 750/5000 [00:16<01:35, 44.45it/s]"
     ]
    },
    {
     "name": "stderr",
     "output_type": "stream",
     "text": [
      "\r",
      "MP SparVar Pipeline from DB:  15%|███████████████████████▊                                                                                                                                     | 760/5000 [00:16<01:31, 46.16it/s]"
     ]
    },
    {
     "name": "stderr",
     "output_type": "stream",
     "text": [
      "\r",
      "MP SparVar Pipeline from DB:  15%|████████████████████████▏                                                                                                                                    | 770/5000 [00:17<01:29, 47.33it/s]"
     ]
    },
    {
     "name": "stderr",
     "output_type": "stream",
     "text": [
      "\r",
      "MP SparVar Pipeline from DB:  16%|████████████████████████▍                                                                                                                                    | 780/5000 [00:17<01:25, 49.30it/s]"
     ]
    },
    {
     "name": "stderr",
     "output_type": "stream",
     "text": [
      "\r",
      "MP SparVar Pipeline from DB:  16%|████████████████████████▊                                                                                                                                    | 790/5000 [00:17<01:19, 52.99it/s]"
     ]
    },
    {
     "name": "stderr",
     "output_type": "stream",
     "text": [
      "/home/gomes/csc/src/csc/dictionary.py:804: RuntimeWarning: overflow encountered in square\n",
      "  'mse' : np.mean((signal - approx)**2),\n",
      "\r",
      "MP SparVar Pipeline from DB:  16%|█████████████████████████                                                                                                                                    | 800/5000 [00:17<01:22, 51.00it/s]"
     ]
    },
    {
     "name": "stderr",
     "output_type": "stream",
     "text": [
      "\r",
      "MP SparVar Pipeline from DB:  16%|█████████████████████████▍                                                                                                                                   | 810/5000 [00:17<01:16, 54.98it/s]"
     ]
    },
    {
     "name": "stderr",
     "output_type": "stream",
     "text": [
      "\r",
      "MP SparVar Pipeline from DB:  16%|█████████████████████████▋                                                                                                                                   | 820/5000 [00:17<01:17, 53.73it/s]"
     ]
    },
    {
     "name": "stderr",
     "output_type": "stream",
     "text": [
      "\r",
      "MP SparVar Pipeline from DB:  17%|██████████████████████████                                                                                                                                   | 830/5000 [00:18<01:15, 55.32it/s]"
     ]
    },
    {
     "name": "stderr",
     "output_type": "stream",
     "text": [
      "\r",
      "MP SparVar Pipeline from DB:  17%|██████████████████████████▍                                                                                                                                  | 840/5000 [00:18<01:19, 52.42it/s]"
     ]
    },
    {
     "name": "stderr",
     "output_type": "stream",
     "text": [
      "\r",
      "MP SparVar Pipeline from DB:  17%|██████████████████████████▋                                                                                                                                  | 850/5000 [00:18<01:16, 53.95it/s]"
     ]
    },
    {
     "name": "stderr",
     "output_type": "stream",
     "text": [
      "/home/gomes/csc/src/csc/dictionary.py:804: RuntimeWarning: overflow encountered in square\n",
      "  'mse' : np.mean((signal - approx)**2),\n",
      "/home/gomes/csc/src/csc/dictionary.py:804: RuntimeWarning: overflow encountered in square\n",
      "  'mse' : np.mean((signal - approx)**2),\n",
      "\r",
      "MP SparVar Pipeline from DB:  17%|███████████████████████████                                                                                                                                  | 860/5000 [00:18<01:14, 55.45it/s]"
     ]
    },
    {
     "name": "stderr",
     "output_type": "stream",
     "text": [
      "\r",
      "MP SparVar Pipeline from DB:  17%|███████████████████████████▎                                                                                                                                 | 870/5000 [00:18<01:13, 56.00it/s]"
     ]
    },
    {
     "name": "stderr",
     "output_type": "stream",
     "text": [
      "\r",
      "MP SparVar Pipeline from DB:  18%|███████████████████████████▋                                                                                                                                 | 880/5000 [00:19<01:16, 53.96it/s]"
     ]
    },
    {
     "name": "stderr",
     "output_type": "stream",
     "text": [
      "\r",
      "MP SparVar Pipeline from DB:  18%|███████████████████████████▉                                                                                                                                 | 890/5000 [00:19<01:10, 57.97it/s]"
     ]
    },
    {
     "name": "stderr",
     "output_type": "stream",
     "text": [
      "\r",
      "MP SparVar Pipeline from DB:  18%|████████████████████████████▎                                                                                                                                | 900/5000 [00:19<01:09, 58.70it/s]"
     ]
    },
    {
     "name": "stderr",
     "output_type": "stream",
     "text": [
      "\r",
      "MP SparVar Pipeline from DB:  18%|████████████████████████████▌                                                                                                                                | 910/5000 [00:19<01:13, 55.54it/s]"
     ]
    },
    {
     "name": "stderr",
     "output_type": "stream",
     "text": [
      "\r",
      "MP SparVar Pipeline from DB:  18%|████████████████████████████▉                                                                                                                                | 920/5000 [00:19<01:13, 55.27it/s]"
     ]
    },
    {
     "name": "stderr",
     "output_type": "stream",
     "text": [
      "/home/gomes/csc/src/csc/dictionary.py:313: RuntimeWarning: overflow encountered in multiply\n",
      "  mask_func = lambda x: x * activation_mask\n",
      "/home/gomes/phlamesenv/lib/python3.11/site-packages/scipy/signal/_signaltools.py:511: RuntimeWarning: invalid value encountered in multiply\n",
      "  ret = ifft(sp1 * sp2, fshape, axes=axes)\n",
      "\r",
      "MP SparVar Pipeline from DB:  19%|█████████████████████████████▏                                                                                                                               | 930/5000 [00:19<01:10, 57.75it/s]"
     ]
    },
    {
     "name": "stderr",
     "output_type": "stream",
     "text": [
      "\r",
      "MP SparVar Pipeline from DB:  19%|█████████████████████████████▌                                                                                                                               | 940/5000 [00:20<01:12, 55.83it/s]"
     ]
    },
    {
     "name": "stderr",
     "output_type": "stream",
     "text": [
      "\r",
      "MP SparVar Pipeline from DB:  19%|█████████████████████████████▊                                                                                                                               | 950/5000 [00:20<01:11, 56.87it/s]"
     ]
    },
    {
     "name": "stderr",
     "output_type": "stream",
     "text": [
      "\r",
      "MP SparVar Pipeline from DB:  19%|██████████████████████████████▏                                                                                                                              | 960/5000 [00:20<01:05, 61.82it/s]"
     ]
    },
    {
     "name": "stderr",
     "output_type": "stream",
     "text": [
      "\r",
      "MP SparVar Pipeline from DB:  19%|██████████████████████████████▍                                                                                                                              | 970/5000 [00:20<01:14, 54.38it/s]"
     ]
    },
    {
     "name": "stderr",
     "output_type": "stream",
     "text": [
      "\r",
      "MP SparVar Pipeline from DB:  20%|██████████████████████████████▊                                                                                                                              | 980/5000 [00:20<01:12, 55.25it/s]"
     ]
    },
    {
     "name": "stderr",
     "output_type": "stream",
     "text": [
      "\r",
      "MP SparVar Pipeline from DB:  20%|███████████████████████████████                                                                                                                              | 990/5000 [00:20<01:11, 56.33it/s]"
     ]
    },
    {
     "name": "stderr",
     "output_type": "stream",
     "text": [
      "\r",
      "MP SparVar Pipeline from DB:  20%|███████████████████████████████▏                                                                                                                            | 1000/5000 [00:21<01:11, 56.31it/s]"
     ]
    },
    {
     "name": "stderr",
     "output_type": "stream",
     "text": [
      "\r",
      "MP SparVar Pipeline from DB:  20%|███████████████████████████████▌                                                                                                                            | 1010/5000 [00:21<01:12, 54.76it/s]"
     ]
    },
    {
     "name": "stderr",
     "output_type": "stream",
     "text": [
      "\r",
      "MP SparVar Pipeline from DB:  20%|███████████████████████████████▊                                                                                                                            | 1020/5000 [00:21<01:10, 56.80it/s]"
     ]
    },
    {
     "name": "stderr",
     "output_type": "stream",
     "text": [
      "\r",
      "MP SparVar Pipeline from DB:  21%|████████████████████████████████▏                                                                                                                           | 1030/5000 [00:21<01:09, 56.88it/s]"
     ]
    },
    {
     "name": "stderr",
     "output_type": "stream",
     "text": [
      "\r",
      "MP SparVar Pipeline from DB:  21%|████████████████████████████████▍                                                                                                                           | 1040/5000 [00:21<01:14, 53.09it/s]"
     ]
    },
    {
     "name": "stderr",
     "output_type": "stream",
     "text": [
      "\r",
      "MP SparVar Pipeline from DB:  21%|████████████████████████████████▊                                                                                                                           | 1050/5000 [00:22<01:14, 53.09it/s]"
     ]
    },
    {
     "name": "stderr",
     "output_type": "stream",
     "text": [
      "\r",
      "MP SparVar Pipeline from DB:  21%|█████████████████████████████████                                                                                                                           | 1060/5000 [00:22<01:11, 54.75it/s]"
     ]
    },
    {
     "name": "stderr",
     "output_type": "stream",
     "text": [
      "\r",
      "MP SparVar Pipeline from DB:  21%|█████████████████████████████████▍                                                                                                                          | 1070/5000 [00:22<01:17, 50.82it/s]"
     ]
    },
    {
     "name": "stderr",
     "output_type": "stream",
     "text": [
      "\r",
      "MP SparVar Pipeline from DB:  22%|█████████████████████████████████▋                                                                                                                          | 1080/5000 [00:22<01:15, 51.74it/s]"
     ]
    },
    {
     "name": "stderr",
     "output_type": "stream",
     "text": [
      "\r",
      "MP SparVar Pipeline from DB:  22%|██████████████████████████████████                                                                                                                          | 1090/5000 [00:22<01:15, 51.99it/s]"
     ]
    },
    {
     "name": "stderr",
     "output_type": "stream",
     "text": [
      "\r",
      "MP SparVar Pipeline from DB:  22%|██████████████████████████████████▎                                                                                                                         | 1100/5000 [00:23<01:12, 53.63it/s]"
     ]
    },
    {
     "name": "stderr",
     "output_type": "stream",
     "text": [
      "\r",
      "MP SparVar Pipeline from DB:  22%|██████████████████████████████████▋                                                                                                                         | 1110/5000 [00:23<01:13, 53.06it/s]"
     ]
    },
    {
     "name": "stderr",
     "output_type": "stream",
     "text": [
      "\r",
      "MP SparVar Pipeline from DB:  22%|██████████████████████████████████▉                                                                                                                         | 1120/5000 [00:23<01:08, 56.30it/s]"
     ]
    },
    {
     "name": "stderr",
     "output_type": "stream",
     "text": [
      "\r",
      "MP SparVar Pipeline from DB:  23%|███████████████████████████████████▎                                                                                                                        | 1130/5000 [00:23<01:10, 54.53it/s]"
     ]
    },
    {
     "name": "stderr",
     "output_type": "stream",
     "text": [
      "\r",
      "MP SparVar Pipeline from DB:  23%|███████████████████████████████████▌                                                                                                                        | 1140/5000 [00:23<01:09, 55.61it/s]"
     ]
    },
    {
     "name": "stderr",
     "output_type": "stream",
     "text": [
      "\r",
      "MP SparVar Pipeline from DB:  23%|███████████████████████████████████▉                                                                                                                        | 1150/5000 [00:23<01:12, 53.30it/s]"
     ]
    },
    {
     "name": "stderr",
     "output_type": "stream",
     "text": [
      "\r",
      "MP SparVar Pipeline from DB:  23%|████████████████████████████████████▏                                                                                                                       | 1160/5000 [00:24<01:11, 53.99it/s]"
     ]
    },
    {
     "name": "stderr",
     "output_type": "stream",
     "text": [
      "\r",
      "MP SparVar Pipeline from DB:  23%|████████████████████████████████████▌                                                                                                                       | 1170/5000 [00:24<01:09, 55.18it/s]"
     ]
    },
    {
     "name": "stderr",
     "output_type": "stream",
     "text": [
      "\r",
      "MP SparVar Pipeline from DB:  24%|████████████████████████████████████▊                                                                                                                       | 1180/5000 [00:24<01:08, 56.01it/s]"
     ]
    },
    {
     "name": "stderr",
     "output_type": "stream",
     "text": [
      "\r",
      "MP SparVar Pipeline from DB:  24%|█████████████████████████████████████▏                                                                                                                      | 1190/5000 [00:24<01:06, 57.61it/s]"
     ]
    },
    {
     "name": "stderr",
     "output_type": "stream",
     "text": [
      "\r",
      "MP SparVar Pipeline from DB:  24%|█████████████████████████████████████▍                                                                                                                      | 1200/5000 [00:24<01:04, 58.69it/s]"
     ]
    },
    {
     "name": "stderr",
     "output_type": "stream",
     "text": [
      "\r",
      "MP SparVar Pipeline from DB:  24%|█████████████████████████████████████▊                                                                                                                      | 1210/5000 [00:25<01:07, 55.92it/s]"
     ]
    },
    {
     "name": "stderr",
     "output_type": "stream",
     "text": [
      "\r",
      "MP SparVar Pipeline from DB:  24%|██████████████████████████████████████                                                                                                                      | 1220/5000 [00:25<01:08, 54.81it/s]"
     ]
    },
    {
     "name": "stderr",
     "output_type": "stream",
     "text": [
      "\r",
      "MP SparVar Pipeline from DB:  25%|██████████████████████████████████████▍                                                                                                                     | 1230/5000 [00:25<01:11, 52.88it/s]"
     ]
    },
    {
     "name": "stderr",
     "output_type": "stream",
     "text": [
      "\r",
      "MP SparVar Pipeline from DB:  25%|██████████████████████████████████████▋                                                                                                                     | 1240/5000 [00:25<01:09, 54.43it/s]"
     ]
    },
    {
     "name": "stderr",
     "output_type": "stream",
     "text": [
      "\r",
      "MP SparVar Pipeline from DB:  25%|███████████████████████████████████████                                                                                                                     | 1250/5000 [00:25<01:04, 58.54it/s]"
     ]
    },
    {
     "name": "stderr",
     "output_type": "stream",
     "text": [
      "\r",
      "MP SparVar Pipeline from DB:  25%|███████████████████████████████████████▎                                                                                                                    | 1260/5000 [00:25<01:09, 53.94it/s]"
     ]
    },
    {
     "name": "stderr",
     "output_type": "stream",
     "text": [
      "\r",
      "MP SparVar Pipeline from DB:  25%|███████████████████████████████████████▌                                                                                                                    | 1270/5000 [00:26<01:06, 56.06it/s]"
     ]
    },
    {
     "name": "stderr",
     "output_type": "stream",
     "text": [
      "\r",
      "MP SparVar Pipeline from DB:  26%|███████████████████████████████████████▉                                                                                                                    | 1280/5000 [00:26<01:09, 53.24it/s]"
     ]
    },
    {
     "name": "stderr",
     "output_type": "stream",
     "text": [
      "\r",
      "MP SparVar Pipeline from DB:  26%|████████████████████████████████████████▏                                                                                                                   | 1290/5000 [00:26<01:06, 55.65it/s]"
     ]
    },
    {
     "name": "stderr",
     "output_type": "stream",
     "text": [
      "\r",
      "MP SparVar Pipeline from DB:  26%|████████████████████████████████████████▌                                                                                                                   | 1300/5000 [00:26<01:09, 53.04it/s]"
     ]
    },
    {
     "name": "stderr",
     "output_type": "stream",
     "text": [
      "\r",
      "MP SparVar Pipeline from DB:  26%|████████████████████████████████████████▊                                                                                                                   | 1310/5000 [00:26<01:08, 53.61it/s]"
     ]
    },
    {
     "name": "stderr",
     "output_type": "stream",
     "text": [
      "\r",
      "MP SparVar Pipeline from DB:  26%|█████████████████████████████████████████▏                                                                                                                  | 1320/5000 [00:27<01:07, 54.62it/s]"
     ]
    },
    {
     "name": "stderr",
     "output_type": "stream",
     "text": [
      "\r",
      "MP SparVar Pipeline from DB:  27%|█████████████████████████████████████████▍                                                                                                                  | 1330/5000 [00:27<01:07, 54.32it/s]"
     ]
    },
    {
     "name": "stderr",
     "output_type": "stream",
     "text": [
      "\r",
      "MP SparVar Pipeline from DB:  27%|█████████████████████████████████████████▊                                                                                                                  | 1340/5000 [00:27<01:04, 56.79it/s]"
     ]
    },
    {
     "name": "stderr",
     "output_type": "stream",
     "text": [
      "\r",
      "MP SparVar Pipeline from DB:  27%|██████████████████████████████████████████                                                                                                                  | 1350/5000 [00:27<01:09, 52.81it/s]"
     ]
    },
    {
     "name": "stderr",
     "output_type": "stream",
     "text": [
      "\r",
      "MP SparVar Pipeline from DB:  27%|██████████████████████████████████████████▍                                                                                                                 | 1360/5000 [00:27<01:07, 54.26it/s]"
     ]
    },
    {
     "name": "stderr",
     "output_type": "stream",
     "text": [
      "\r",
      "MP SparVar Pipeline from DB:  27%|██████████████████████████████████████████▋                                                                                                                 | 1370/5000 [00:27<01:07, 53.52it/s]"
     ]
    },
    {
     "name": "stderr",
     "output_type": "stream",
     "text": [
      "\r",
      "MP SparVar Pipeline from DB:  28%|███████████████████████████████████████████                                                                                                                 | 1380/5000 [00:28<01:05, 55.46it/s]"
     ]
    },
    {
     "name": "stderr",
     "output_type": "stream",
     "text": [
      "\r",
      "MP SparVar Pipeline from DB:  28%|███████████████████████████████████████████▎                                                                                                                | 1390/5000 [00:28<01:07, 53.86it/s]"
     ]
    },
    {
     "name": "stderr",
     "output_type": "stream",
     "text": [
      "\r",
      "MP SparVar Pipeline from DB:  28%|███████████████████████████████████████████▋                                                                                                                | 1400/5000 [00:28<01:07, 53.60it/s]"
     ]
    },
    {
     "name": "stderr",
     "output_type": "stream",
     "text": [
      "\r",
      "MP SparVar Pipeline from DB:  28%|███████████████████████████████████████████▉                                                                                                                | 1410/5000 [00:28<01:02, 57.64it/s]"
     ]
    },
    {
     "name": "stderr",
     "output_type": "stream",
     "text": [
      "\r",
      "MP SparVar Pipeline from DB:  28%|████████████████████████████████████████████▎                                                                                                               | 1420/5000 [00:28<01:03, 56.40it/s]"
     ]
    },
    {
     "name": "stderr",
     "output_type": "stream",
     "text": [
      "\r",
      "MP SparVar Pipeline from DB:  29%|████████████████████████████████████████████▌                                                                                                               | 1430/5000 [00:29<01:08, 52.22it/s]"
     ]
    },
    {
     "name": "stderr",
     "output_type": "stream",
     "text": [
      "\r",
      "MP SparVar Pipeline from DB:  29%|████████████████████████████████████████████▉                                                                                                               | 1440/5000 [00:29<01:08, 52.10it/s]"
     ]
    },
    {
     "name": "stderr",
     "output_type": "stream",
     "text": [
      "\r",
      "MP SparVar Pipeline from DB:  29%|█████████████████████████████████████████████▏                                                                                                              | 1450/5000 [00:29<01:05, 54.11it/s]"
     ]
    },
    {
     "name": "stderr",
     "output_type": "stream",
     "text": [
      "\r",
      "MP SparVar Pipeline from DB:  29%|█████████████████████████████████████████████▌                                                                                                              | 1460/5000 [00:29<01:02, 56.22it/s]"
     ]
    },
    {
     "name": "stderr",
     "output_type": "stream",
     "text": [
      "\r",
      "MP SparVar Pipeline from DB:  29%|█████████████████████████████████████████████▊                                                                                                              | 1470/5000 [00:29<01:02, 56.57it/s]"
     ]
    },
    {
     "name": "stderr",
     "output_type": "stream",
     "text": [
      "\r",
      "MP SparVar Pipeline from DB:  30%|██████████████████████████████████████████████▏                                                                                                             | 1480/5000 [00:29<01:05, 54.06it/s]"
     ]
    },
    {
     "name": "stderr",
     "output_type": "stream",
     "text": [
      "\r",
      "MP SparVar Pipeline from DB:  30%|██████████████████████████████████████████████▍                                                                                                             | 1490/5000 [00:30<01:04, 54.18it/s]"
     ]
    },
    {
     "name": "stderr",
     "output_type": "stream",
     "text": [
      "\r",
      "MP SparVar Pipeline from DB:  30%|██████████████████████████████████████████████▊                                                                                                             | 1500/5000 [00:30<01:03, 55.06it/s]"
     ]
    },
    {
     "name": "stderr",
     "output_type": "stream",
     "text": [
      "\r",
      "MP SparVar Pipeline from DB:  30%|███████████████████████████████████████████████                                                                                                             | 1510/5000 [00:30<01:04, 53.94it/s]"
     ]
    },
    {
     "name": "stderr",
     "output_type": "stream",
     "text": [
      "\r",
      "MP SparVar Pipeline from DB:  30%|███████████████████████████████████████████████▍                                                                                                            | 1520/5000 [00:30<01:05, 53.18it/s]"
     ]
    },
    {
     "name": "stderr",
     "output_type": "stream",
     "text": [
      "/home/gomes/csc/src/csc/dictionary.py:804: RuntimeWarning: overflow encountered in square\n",
      "  'mse' : np.mean((signal - approx)**2),\n",
      "\r",
      "MP SparVar Pipeline from DB:  31%|███████████████████████████████████████████████▋                                                                                                            | 1530/5000 [00:30<01:04, 53.53it/s]"
     ]
    },
    {
     "name": "stderr",
     "output_type": "stream",
     "text": [
      "\r",
      "MP SparVar Pipeline from DB:  31%|████████████████████████████████████████████████                                                                                                            | 1540/5000 [00:31<01:02, 55.14it/s]"
     ]
    },
    {
     "name": "stderr",
     "output_type": "stream",
     "text": [
      "\r",
      "MP SparVar Pipeline from DB:  31%|████████████████████████████████████████████████▎                                                                                                           | 1550/5000 [00:31<00:58, 58.77it/s]"
     ]
    },
    {
     "name": "stderr",
     "output_type": "stream",
     "text": [
      "\r",
      "MP SparVar Pipeline from DB:  31%|████████████████████████████████████████████████▋                                                                                                           | 1560/5000 [00:31<01:02, 55.12it/s]"
     ]
    },
    {
     "name": "stderr",
     "output_type": "stream",
     "text": [
      "\r",
      "MP SparVar Pipeline from DB:  31%|████████████████████████████████████████████████▉                                                                                                           | 1570/5000 [00:31<01:01, 56.13it/s]"
     ]
    },
    {
     "name": "stderr",
     "output_type": "stream",
     "text": [
      "\r",
      "MP SparVar Pipeline from DB:  32%|█████████████████████████████████████████████████▎                                                                                                          | 1580/5000 [00:31<01:00, 56.92it/s]"
     ]
    },
    {
     "name": "stderr",
     "output_type": "stream",
     "text": [
      "\r",
      "MP SparVar Pipeline from DB:  32%|█████████████████████████████████████████████████▌                                                                                                          | 1590/5000 [00:31<01:00, 56.47it/s]"
     ]
    },
    {
     "name": "stderr",
     "output_type": "stream",
     "text": [
      "\r",
      "MP SparVar Pipeline from DB:  32%|█████████████████████████████████████████████████▉                                                                                                          | 1600/5000 [00:32<00:59, 56.91it/s]"
     ]
    },
    {
     "name": "stderr",
     "output_type": "stream",
     "text": [
      "\r",
      "MP SparVar Pipeline from DB:  32%|██████████████████████████████████████████████████▏                                                                                                         | 1610/5000 [00:32<00:59, 57.23it/s]"
     ]
    },
    {
     "name": "stderr",
     "output_type": "stream",
     "text": [
      "\r",
      "MP SparVar Pipeline from DB:  32%|██████████████████████████████████████████████████▌                                                                                                         | 1620/5000 [00:32<00:56, 60.27it/s]"
     ]
    },
    {
     "name": "stderr",
     "output_type": "stream",
     "text": [
      "\r",
      "MP SparVar Pipeline from DB:  33%|██████████████████████████████████████████████████▊                                                                                                         | 1630/5000 [00:32<00:59, 57.08it/s]"
     ]
    },
    {
     "name": "stderr",
     "output_type": "stream",
     "text": [
      "\r",
      "MP SparVar Pipeline from DB:  33%|███████████████████████████████████████████████████▏                                                                                                        | 1640/5000 [00:32<00:57, 58.31it/s]"
     ]
    },
    {
     "name": "stderr",
     "output_type": "stream",
     "text": [
      "\r",
      "MP SparVar Pipeline from DB:  33%|███████████████████████████████████████████████████▍                                                                                                        | 1650/5000 [00:32<00:58, 57.19it/s]"
     ]
    },
    {
     "name": "stderr",
     "output_type": "stream",
     "text": [
      "\r",
      "MP SparVar Pipeline from DB:  33%|███████████████████████████████████████████████████▊                                                                                                        | 1660/5000 [00:33<00:56, 59.45it/s]"
     ]
    },
    {
     "name": "stderr",
     "output_type": "stream",
     "text": [
      "\r",
      "MP SparVar Pipeline from DB:  33%|████████████████████████████████████████████████████                                                                                                        | 1670/5000 [00:33<00:57, 57.48it/s]"
     ]
    },
    {
     "name": "stderr",
     "output_type": "stream",
     "text": [
      "\r",
      "MP SparVar Pipeline from DB:  34%|████████████████████████████████████████████████████▍                                                                                                       | 1680/5000 [00:33<00:59, 56.19it/s]"
     ]
    },
    {
     "name": "stderr",
     "output_type": "stream",
     "text": [
      "\r",
      "MP SparVar Pipeline from DB:  34%|████████████████████████████████████████████████████▋                                                                                                       | 1690/5000 [00:33<00:57, 57.26it/s]"
     ]
    },
    {
     "name": "stderr",
     "output_type": "stream",
     "text": [
      "\r",
      "MP SparVar Pipeline from DB:  34%|█████████████████████████████████████████████████████                                                                                                       | 1700/5000 [00:33<00:54, 60.46it/s]"
     ]
    },
    {
     "name": "stderr",
     "output_type": "stream",
     "text": [
      "\r",
      "MP SparVar Pipeline from DB:  34%|█████████████████████████████████████████████████████▎                                                                                                      | 1710/5000 [00:34<00:58, 56.17it/s]"
     ]
    },
    {
     "name": "stderr",
     "output_type": "stream",
     "text": [
      "\r",
      "MP SparVar Pipeline from DB:  34%|█████████████████████████████████████████████████████▋                                                                                                      | 1720/5000 [00:34<00:56, 57.96it/s]"
     ]
    },
    {
     "name": "stderr",
     "output_type": "stream",
     "text": [
      "\r",
      "MP SparVar Pipeline from DB:  35%|█████████████████████████████████████████████████████▉                                                                                                      | 1730/5000 [00:34<01:00, 54.13it/s]"
     ]
    },
    {
     "name": "stderr",
     "output_type": "stream",
     "text": [
      "\r",
      "MP SparVar Pipeline from DB:  35%|██████████████████████████████████████████████████████▎                                                                                                     | 1740/5000 [00:34<01:03, 51.61it/s]"
     ]
    },
    {
     "name": "stderr",
     "output_type": "stream",
     "text": [
      "\r",
      "MP SparVar Pipeline from DB:  35%|██████████████████████████████████████████████████████▌                                                                                                     | 1750/5000 [00:34<01:00, 53.32it/s]"
     ]
    },
    {
     "name": "stderr",
     "output_type": "stream",
     "text": [
      "\r",
      "MP SparVar Pipeline from DB:  35%|██████████████████████████████████████████████████████▉                                                                                                     | 1760/5000 [00:34<00:59, 54.27it/s]"
     ]
    },
    {
     "name": "stderr",
     "output_type": "stream",
     "text": [
      "\r",
      "MP SparVar Pipeline from DB:  35%|███████████████████████████████████████████████████████▏                                                                                                    | 1770/5000 [00:35<00:59, 53.88it/s]"
     ]
    },
    {
     "name": "stderr",
     "output_type": "stream",
     "text": [
      "\r",
      "MP SparVar Pipeline from DB:  36%|███████████████████████████████████████████████████████▌                                                                                                    | 1780/5000 [00:35<00:55, 58.17it/s]"
     ]
    },
    {
     "name": "stderr",
     "output_type": "stream",
     "text": [
      "\r",
      "MP SparVar Pipeline from DB:  36%|███████████████████████████████████████████████████████▊                                                                                                    | 1790/5000 [00:35<00:58, 54.45it/s]"
     ]
    },
    {
     "name": "stderr",
     "output_type": "stream",
     "text": [
      "\r",
      "MP SparVar Pipeline from DB:  36%|████████████████████████████████████████████████████████▏                                                                                                   | 1800/5000 [00:35<00:59, 53.60it/s]"
     ]
    },
    {
     "name": "stderr",
     "output_type": "stream",
     "text": [
      "\r",
      "MP SparVar Pipeline from DB:  36%|████████████████████████████████████████████████████████▍                                                                                                   | 1810/5000 [00:35<00:57, 55.12it/s]"
     ]
    },
    {
     "name": "stderr",
     "output_type": "stream",
     "text": [
      "\r",
      "MP SparVar Pipeline from DB:  36%|████████████████████████████████████████████████████████▊                                                                                                   | 1820/5000 [00:36<01:01, 51.80it/s]"
     ]
    },
    {
     "name": "stderr",
     "output_type": "stream",
     "text": [
      "\r",
      "MP SparVar Pipeline from DB:  37%|█████████████████████████████████████████████████████████                                                                                                   | 1830/5000 [00:36<00:58, 54.40it/s]"
     ]
    },
    {
     "name": "stderr",
     "output_type": "stream",
     "text": [
      "\r",
      "MP SparVar Pipeline from DB:  37%|█████████████████████████████████████████████████████████▍                                                                                                  | 1840/5000 [00:36<01:05, 47.89it/s]"
     ]
    },
    {
     "name": "stderr",
     "output_type": "stream",
     "text": [
      "\r",
      "MP SparVar Pipeline from DB:  37%|█████████████████████████████████████████████████████████▋                                                                                                  | 1850/5000 [00:36<01:05, 48.05it/s]"
     ]
    },
    {
     "name": "stderr",
     "output_type": "stream",
     "text": [
      "\r",
      "MP SparVar Pipeline from DB:  37%|██████████████████████████████████████████████████████████                                                                                                  | 1860/5000 [00:36<01:03, 49.81it/s]"
     ]
    },
    {
     "name": "stderr",
     "output_type": "stream",
     "text": [
      "\r",
      "MP SparVar Pipeline from DB:  37%|██████████████████████████████████████████████████████████▎                                                                                                 | 1870/5000 [00:37<01:02, 49.99it/s]"
     ]
    },
    {
     "name": "stderr",
     "output_type": "stream",
     "text": [
      "\r",
      "MP SparVar Pipeline from DB:  38%|██████████████████████████████████████████████████████████▋                                                                                                 | 1880/5000 [00:37<01:02, 50.11it/s]"
     ]
    },
    {
     "name": "stderr",
     "output_type": "stream",
     "text": [
      "/home/gomes/phlamesenv/lib/python3.11/site-packages/numpy/core/_methods.py:118: RuntimeWarning: overflow encountered in reduce\n",
      "  ret = umr_sum(arr, axis, dtype, out, keepdims, where=where)\n",
      "\r",
      "MP SparVar Pipeline from DB:  38%|██████████████████████████████████████████████████████████▉                                                                                                 | 1890/5000 [00:37<01:02, 50.00it/s]"
     ]
    },
    {
     "name": "stderr",
     "output_type": "stream",
     "text": [
      "\r",
      "MP SparVar Pipeline from DB:  38%|███████████████████████████████████████████████████████████▎                                                                                                | 1900/5000 [00:37<01:03, 49.05it/s]"
     ]
    },
    {
     "name": "stderr",
     "output_type": "stream",
     "text": [
      "\r",
      "MP SparVar Pipeline from DB:  38%|███████████████████████████████████████████████████████████▌                                                                                                | 1910/5000 [00:37<01:01, 50.48it/s]"
     ]
    },
    {
     "name": "stderr",
     "output_type": "stream",
     "text": [
      "\r",
      "MP SparVar Pipeline from DB:  38%|███████████████████████████████████████████████████████████▉                                                                                                | 1920/5000 [00:38<01:01, 50.37it/s]"
     ]
    },
    {
     "name": "stderr",
     "output_type": "stream",
     "text": [
      "\r",
      "MP SparVar Pipeline from DB:  39%|████████████████████████████████████████████████████████████▏                                                                                               | 1930/5000 [00:38<01:00, 50.63it/s]"
     ]
    },
    {
     "name": "stderr",
     "output_type": "stream",
     "text": [
      "\r",
      "MP SparVar Pipeline from DB:  39%|████████████████████████████████████████████████████████████▌                                                                                               | 1940/5000 [00:38<01:00, 50.17it/s]"
     ]
    },
    {
     "name": "stderr",
     "output_type": "stream",
     "text": [
      "\r",
      "MP SparVar Pipeline from DB:  39%|████████████████████████████████████████████████████████████▊                                                                                               | 1950/5000 [00:38<01:02, 49.07it/s]"
     ]
    },
    {
     "name": "stderr",
     "output_type": "stream",
     "text": [
      "\r",
      "MP SparVar Pipeline from DB:  39%|█████████████████████████████████████████████████████████████▏                                                                                              | 1960/5000 [00:38<01:00, 50.42it/s]"
     ]
    },
    {
     "name": "stderr",
     "output_type": "stream",
     "text": [
      "\r",
      "MP SparVar Pipeline from DB:  39%|█████████████████████████████████████████████████████████████▍                                                                                              | 1970/5000 [00:39<01:05, 46.24it/s]"
     ]
    },
    {
     "name": "stderr",
     "output_type": "stream",
     "text": [
      "\r",
      "MP SparVar Pipeline from DB:  40%|█████████████████████████████████████████████████████████████▊                                                                                              | 1980/5000 [00:39<01:03, 47.79it/s]"
     ]
    },
    {
     "name": "stderr",
     "output_type": "stream",
     "text": [
      "\r",
      "MP SparVar Pipeline from DB:  40%|██████████████████████████████████████████████████████████████                                                                                              | 1990/5000 [00:39<00:59, 50.96it/s]"
     ]
    },
    {
     "name": "stderr",
     "output_type": "stream",
     "text": [
      "\r",
      "MP SparVar Pipeline from DB:  40%|██████████████████████████████████████████████████████████████▍                                                                                             | 2000/5000 [00:39<01:01, 49.05it/s]"
     ]
    },
    {
     "name": "stderr",
     "output_type": "stream",
     "text": [
      "\r",
      "MP SparVar Pipeline from DB:  40%|██████████████████████████████████████████████████████████████▋                                                                                             | 2010/5000 [00:39<01:05, 45.52it/s]"
     ]
    },
    {
     "name": "stderr",
     "output_type": "stream",
     "text": [
      "\r",
      "MP SparVar Pipeline from DB:  40%|███████████████████████████████████████████████████████████████                                                                                             | 2020/5000 [00:40<01:01, 48.83it/s]"
     ]
    },
    {
     "name": "stderr",
     "output_type": "stream",
     "text": [
      "\r",
      "MP SparVar Pipeline from DB:  41%|███████████████████████████████████████████████████████████████▎                                                                                            | 2030/5000 [00:40<00:59, 50.28it/s]"
     ]
    },
    {
     "name": "stderr",
     "output_type": "stream",
     "text": [
      "\r",
      "MP SparVar Pipeline from DB:  41%|███████████████████████████████████████████████████████████████▋                                                                                            | 2040/5000 [00:40<01:00, 49.06it/s]"
     ]
    },
    {
     "name": "stderr",
     "output_type": "stream",
     "text": [
      "\r",
      "MP SparVar Pipeline from DB:  41%|███████████████████████████████████████████████████████████████▉                                                                                            | 2050/5000 [00:40<00:57, 51.25it/s]"
     ]
    },
    {
     "name": "stderr",
     "output_type": "stream",
     "text": [
      "\r",
      "MP SparVar Pipeline from DB:  41%|████████████████████████████████████████████████████████████████▎                                                                                           | 2060/5000 [00:40<00:58, 50.53it/s]"
     ]
    },
    {
     "name": "stderr",
     "output_type": "stream",
     "text": [
      "\r",
      "MP SparVar Pipeline from DB:  41%|████████████████████████████████████████████████████████████████▌                                                                                           | 2070/5000 [00:41<00:56, 51.67it/s]"
     ]
    },
    {
     "name": "stderr",
     "output_type": "stream",
     "text": [
      "\r",
      "MP SparVar Pipeline from DB:  42%|████████████████████████████████████████████████████████████████▉                                                                                           | 2080/5000 [00:41<00:54, 53.53it/s]"
     ]
    },
    {
     "name": "stderr",
     "output_type": "stream",
     "text": [
      "\r",
      "MP SparVar Pipeline from DB:  42%|█████████████████████████████████████████████████████████████████▏                                                                                          | 2090/5000 [00:41<00:59, 48.97it/s]"
     ]
    },
    {
     "name": "stderr",
     "output_type": "stream",
     "text": [
      "\r",
      "MP SparVar Pipeline from DB:  42%|█████████████████████████████████████████████████████████████████▌                                                                                          | 2100/5000 [00:41<00:56, 51.76it/s]"
     ]
    },
    {
     "name": "stderr",
     "output_type": "stream",
     "text": [
      "\r",
      "MP SparVar Pipeline from DB:  42%|█████████████████████████████████████████████████████████████████▊                                                                                          | 2110/5000 [00:41<00:56, 51.32it/s]"
     ]
    },
    {
     "name": "stderr",
     "output_type": "stream",
     "text": [
      "\r",
      "MP SparVar Pipeline from DB:  42%|██████████████████████████████████████████████████████████████████▏                                                                                         | 2120/5000 [00:42<00:53, 53.62it/s]"
     ]
    },
    {
     "name": "stderr",
     "output_type": "stream",
     "text": [
      "\r",
      "MP SparVar Pipeline from DB:  43%|██████████████████████████████████████████████████████████████████▍                                                                                         | 2130/5000 [00:42<00:54, 52.68it/s]"
     ]
    },
    {
     "name": "stderr",
     "output_type": "stream",
     "text": [
      "\r",
      "MP SparVar Pipeline from DB:  43%|██████████████████████████████████████████████████████████████████▊                                                                                         | 2140/5000 [00:42<00:55, 51.55it/s]"
     ]
    },
    {
     "name": "stderr",
     "output_type": "stream",
     "text": [
      "\r",
      "MP SparVar Pipeline from DB:  43%|███████████████████████████████████████████████████████████████████                                                                                         | 2150/5000 [00:42<00:53, 53.16it/s]"
     ]
    },
    {
     "name": "stderr",
     "output_type": "stream",
     "text": [
      "\r",
      "MP SparVar Pipeline from DB:  43%|███████████████████████████████████████████████████████████████████▍                                                                                        | 2160/5000 [00:42<00:57, 49.49it/s]"
     ]
    },
    {
     "name": "stderr",
     "output_type": "stream",
     "text": [
      "\r",
      "MP SparVar Pipeline from DB:  43%|███████████████████████████████████████████████████████████████████▋                                                                                        | 2170/5000 [00:43<00:54, 51.63it/s]"
     ]
    },
    {
     "name": "stderr",
     "output_type": "stream",
     "text": [
      "\r",
      "MP SparVar Pipeline from DB:  44%|████████████████████████████████████████████████████████████████████                                                                                        | 2180/5000 [00:43<00:52, 53.48it/s]"
     ]
    },
    {
     "name": "stderr",
     "output_type": "stream",
     "text": [
      "\r",
      "MP SparVar Pipeline from DB:  44%|████████████████████████████████████████████████████████████████████▎                                                                                       | 2190/5000 [00:43<00:54, 51.70it/s]"
     ]
    },
    {
     "name": "stderr",
     "output_type": "stream",
     "text": [
      "\r",
      "MP SparVar Pipeline from DB:  44%|████████████████████████████████████████████████████████████████████▋                                                                                       | 2200/5000 [00:43<00:53, 51.92it/s]"
     ]
    },
    {
     "name": "stderr",
     "output_type": "stream",
     "text": [
      "\r",
      "MP SparVar Pipeline from DB:  44%|████████████████████████████████████████████████████████████████████▉                                                                                       | 2210/5000 [00:43<00:54, 51.36it/s]"
     ]
    },
    {
     "name": "stderr",
     "output_type": "stream",
     "text": [
      "\r",
      "MP SparVar Pipeline from DB:  44%|█████████████████████████████████████████████████████████████████████▎                                                                                      | 2220/5000 [00:44<00:53, 52.24it/s]"
     ]
    },
    {
     "name": "stderr",
     "output_type": "stream",
     "text": [
      "\r",
      "MP SparVar Pipeline from DB:  45%|█████████████████████████████████████████████████████████████████████▌                                                                                      | 2230/5000 [00:44<00:53, 52.02it/s]"
     ]
    },
    {
     "name": "stderr",
     "output_type": "stream",
     "text": [
      "\r",
      "MP SparVar Pipeline from DB:  45%|█████████████████████████████████████████████████████████████████████▉                                                                                      | 2240/5000 [00:44<00:49, 56.15it/s]"
     ]
    },
    {
     "name": "stderr",
     "output_type": "stream",
     "text": [
      "\r",
      "MP SparVar Pipeline from DB:  45%|██████████████████████████████████████████████████████████████████████▏                                                                                     | 2250/5000 [00:44<00:52, 52.82it/s]"
     ]
    },
    {
     "name": "stderr",
     "output_type": "stream",
     "text": [
      "\r",
      "MP SparVar Pipeline from DB:  45%|██████████████████████████████████████████████████████████████████████▌                                                                                     | 2260/5000 [00:44<00:52, 52.05it/s]"
     ]
    },
    {
     "name": "stderr",
     "output_type": "stream",
     "text": [
      "\r",
      "MP SparVar Pipeline from DB:  45%|██████████████████████████████████████████████████████████████████████▊                                                                                     | 2270/5000 [00:44<00:51, 53.32it/s]"
     ]
    },
    {
     "name": "stderr",
     "output_type": "stream",
     "text": [
      "\r",
      "MP SparVar Pipeline from DB:  46%|███████████████████████████████████████████████████████████████████████▏                                                                                    | 2280/5000 [00:45<00:48, 55.90it/s]"
     ]
    },
    {
     "name": "stderr",
     "output_type": "stream",
     "text": [
      "\r",
      "MP SparVar Pipeline from DB:  46%|███████████████████████████████████████████████████████████████████████▍                                                                                    | 2290/5000 [00:45<00:49, 55.28it/s]"
     ]
    },
    {
     "name": "stderr",
     "output_type": "stream",
     "text": [
      "\r",
      "MP SparVar Pipeline from DB:  46%|███████████████████████████████████████████████████████████████████████▊                                                                                    | 2300/5000 [00:45<00:51, 52.91it/s]"
     ]
    },
    {
     "name": "stderr",
     "output_type": "stream",
     "text": [
      "\r",
      "MP SparVar Pipeline from DB:  46%|████████████████████████████████████████████████████████████████████████                                                                                    | 2310/5000 [00:45<00:50, 53.10it/s]"
     ]
    },
    {
     "name": "stderr",
     "output_type": "stream",
     "text": [
      "\r",
      "MP SparVar Pipeline from DB:  46%|████████████████████████████████████████████████████████████████████████▍                                                                                   | 2320/5000 [00:45<00:48, 55.55it/s]"
     ]
    },
    {
     "name": "stderr",
     "output_type": "stream",
     "text": [
      "\r",
      "MP SparVar Pipeline from DB:  47%|████████████████████████████████████████████████████████████████████████▋                                                                                   | 2330/5000 [00:46<00:51, 51.50it/s]"
     ]
    },
    {
     "name": "stderr",
     "output_type": "stream",
     "text": [
      "\r",
      "MP SparVar Pipeline from DB:  47%|█████████████████████████████████████████████████████████████████████████                                                                                   | 2340/5000 [00:46<00:46, 56.82it/s]"
     ]
    },
    {
     "name": "stderr",
     "output_type": "stream",
     "text": [
      "\r",
      "MP SparVar Pipeline from DB:  47%|█████████████████████████████████████████████████████████████████████████▎                                                                                  | 2350/5000 [00:46<00:47, 56.27it/s]"
     ]
    },
    {
     "name": "stderr",
     "output_type": "stream",
     "text": [
      "\r",
      "MP SparVar Pipeline from DB:  47%|█████████████████████████████████████████████████████████████████████████▋                                                                                  | 2360/5000 [00:46<00:49, 52.85it/s]"
     ]
    },
    {
     "name": "stderr",
     "output_type": "stream",
     "text": [
      "\r",
      "MP SparVar Pipeline from DB:  47%|█████████████████████████████████████████████████████████████████████████▉                                                                                  | 2370/5000 [00:46<00:48, 54.59it/s]"
     ]
    },
    {
     "name": "stderr",
     "output_type": "stream",
     "text": [
      "\r",
      "MP SparVar Pipeline from DB:  48%|██████████████████████████████████████████████████████████████████████████▎                                                                                 | 2380/5000 [00:46<00:49, 53.26it/s]"
     ]
    },
    {
     "name": "stderr",
     "output_type": "stream",
     "text": [
      "\r",
      "MP SparVar Pipeline from DB:  48%|██████████████████████████████████████████████████████████████████████████▌                                                                                 | 2390/5000 [00:47<00:46, 56.30it/s]"
     ]
    },
    {
     "name": "stderr",
     "output_type": "stream",
     "text": [
      "\r",
      "MP SparVar Pipeline from DB:  48%|██████████████████████████████████████████████████████████████████████████▉                                                                                 | 2400/5000 [00:47<00:49, 53.01it/s]"
     ]
    },
    {
     "name": "stderr",
     "output_type": "stream",
     "text": [
      "\r",
      "MP SparVar Pipeline from DB:  48%|███████████████████████████████████████████████████████████████████████████▏                                                                                | 2410/5000 [00:47<00:45, 56.36it/s]"
     ]
    },
    {
     "name": "stderr",
     "output_type": "stream",
     "text": [
      "\r",
      "MP SparVar Pipeline from DB:  48%|███████████████████████████████████████████████████████████████████████████▌                                                                                | 2420/5000 [00:47<00:48, 53.42it/s]"
     ]
    },
    {
     "name": "stderr",
     "output_type": "stream",
     "text": [
      "\r",
      "MP SparVar Pipeline from DB:  49%|███████████████████████████████████████████████████████████████████████████▊                                                                                | 2430/5000 [00:47<00:48, 53.16it/s]"
     ]
    },
    {
     "name": "stderr",
     "output_type": "stream",
     "text": [
      "\r",
      "MP SparVar Pipeline from DB:  49%|████████████████████████████████████████████████████████████████████████████▏                                                                               | 2440/5000 [00:48<00:49, 51.57it/s]"
     ]
    },
    {
     "name": "stderr",
     "output_type": "stream",
     "text": [
      "\r",
      "MP SparVar Pipeline from DB:  49%|████████████████████████████████████████████████████████████████████████████▍                                                                               | 2450/5000 [00:48<00:49, 51.79it/s]"
     ]
    },
    {
     "name": "stderr",
     "output_type": "stream",
     "text": [
      "\r",
      "MP SparVar Pipeline from DB:  49%|████████████████████████████████████████████████████████████████████████████▊                                                                               | 2460/5000 [00:48<00:48, 51.96it/s]"
     ]
    },
    {
     "name": "stderr",
     "output_type": "stream",
     "text": [
      "\r",
      "MP SparVar Pipeline from DB:  49%|█████████████████████████████████████████████████████████████████████████████                                                                               | 2470/5000 [00:48<00:53, 47.63it/s]"
     ]
    },
    {
     "name": "stderr",
     "output_type": "stream",
     "text": [
      "\r",
      "MP SparVar Pipeline from DB:  50%|█████████████████████████████████████████████████████████████████████████████▍                                                                              | 2480/5000 [00:48<00:50, 50.02it/s]"
     ]
    },
    {
     "name": "stderr",
     "output_type": "stream",
     "text": [
      "\r",
      "MP SparVar Pipeline from DB:  50%|█████████████████████████████████████████████████████████████████████████████▋                                                                              | 2490/5000 [00:49<00:49, 50.91it/s]"
     ]
    },
    {
     "name": "stderr",
     "output_type": "stream",
     "text": [
      "\r",
      "MP SparVar Pipeline from DB:  50%|██████████████████████████████████████████████████████████████████████████████                                                                              | 2500/5000 [00:49<00:48, 51.57it/s]"
     ]
    },
    {
     "name": "stderr",
     "output_type": "stream",
     "text": [
      "\r",
      "MP SparVar Pipeline from DB:  50%|██████████████████████████████████████████████████████████████████████████████▎                                                                             | 2510/5000 [00:49<00:47, 52.29it/s]"
     ]
    },
    {
     "name": "stderr",
     "output_type": "stream",
     "text": [
      "\r",
      "MP SparVar Pipeline from DB:  50%|██████████████████████████████████████████████████████████████████████████████▌                                                                             | 2520/5000 [00:49<00:47, 51.82it/s]"
     ]
    },
    {
     "name": "stderr",
     "output_type": "stream",
     "text": [
      "\r",
      "MP SparVar Pipeline from DB:  51%|██████████████████████████████████████████████████████████████████████████████▉                                                                             | 2530/5000 [00:49<00:45, 54.54it/s]"
     ]
    },
    {
     "name": "stderr",
     "output_type": "stream",
     "text": [
      "\r",
      "MP SparVar Pipeline from DB:  51%|███████████████████████████████████████████████████████████████████████████████▏                                                                            | 2540/5000 [00:50<00:47, 51.80it/s]"
     ]
    },
    {
     "name": "stderr",
     "output_type": "stream",
     "text": [
      "\r",
      "MP SparVar Pipeline from DB:  51%|███████████████████████████████████████████████████████████████████████████████▌                                                                            | 2550/5000 [00:50<00:42, 57.51it/s]"
     ]
    },
    {
     "name": "stderr",
     "output_type": "stream",
     "text": [
      "\r",
      "MP SparVar Pipeline from DB:  51%|███████████████████████████████████████████████████████████████████████████████▊                                                                            | 2560/5000 [00:50<00:42, 57.56it/s]"
     ]
    },
    {
     "name": "stderr",
     "output_type": "stream",
     "text": [
      "\r",
      "MP SparVar Pipeline from DB:  51%|████████████████████████████████████████████████████████████████████████████████▏                                                                           | 2570/5000 [00:50<00:45, 53.04it/s]"
     ]
    },
    {
     "name": "stderr",
     "output_type": "stream",
     "text": [
      "\r",
      "MP SparVar Pipeline from DB:  52%|████████████████████████████████████████████████████████████████████████████████▍                                                                           | 2580/5000 [00:50<00:44, 53.91it/s]"
     ]
    },
    {
     "name": "stderr",
     "output_type": "stream",
     "text": [
      "\r",
      "MP SparVar Pipeline from DB:  52%|████████████████████████████████████████████████████████████████████████████████▊                                                                           | 2590/5000 [00:50<00:46, 52.18it/s]"
     ]
    },
    {
     "name": "stderr",
     "output_type": "stream",
     "text": [
      "\r",
      "MP SparVar Pipeline from DB:  52%|█████████████████████████████████████████████████████████████████████████████████                                                                           | 2600/5000 [00:51<00:47, 50.75it/s]"
     ]
    },
    {
     "name": "stderr",
     "output_type": "stream",
     "text": [
      "\r",
      "MP SparVar Pipeline from DB:  52%|█████████████████████████████████████████████████████████████████████████████████▍                                                                          | 2610/5000 [00:51<00:45, 52.09it/s]"
     ]
    },
    {
     "name": "stderr",
     "output_type": "stream",
     "text": [
      "\r",
      "MP SparVar Pipeline from DB:  52%|█████████████████████████████████████████████████████████████████████████████████▋                                                                          | 2620/5000 [00:51<00:41, 56.72it/s]"
     ]
    },
    {
     "name": "stderr",
     "output_type": "stream",
     "text": [
      "/home/gomes/phlamesenv/lib/python3.11/site-packages/numpy/core/_methods.py:118: RuntimeWarning: overflow encountered in reduce\n",
      "  ret = umr_sum(arr, axis, dtype, out, keepdims, where=where)\n",
      "\r",
      "MP SparVar Pipeline from DB:  53%|██████████████████████████████████████████████████████████████████████████████████                                                                          | 2630/5000 [00:51<00:43, 54.26it/s]"
     ]
    },
    {
     "name": "stderr",
     "output_type": "stream",
     "text": [
      "\r",
      "MP SparVar Pipeline from DB:  53%|██████████████████████████████████████████████████████████████████████████████████▎                                                                         | 2640/5000 [00:51<00:43, 54.80it/s]"
     ]
    },
    {
     "name": "stderr",
     "output_type": "stream",
     "text": [
      "\r",
      "MP SparVar Pipeline from DB:  53%|██████████████████████████████████████████████████████████████████████████████████▋                                                                         | 2650/5000 [00:52<00:43, 54.47it/s]"
     ]
    },
    {
     "name": "stderr",
     "output_type": "stream",
     "text": [
      "/home/gomes/csc/src/csc/dictionary.py:804: RuntimeWarning: overflow encountered in square\n",
      "  'mse' : np.mean((signal - approx)**2),\n"
     ]
    },
    {
     "name": "stderr",
     "output_type": "stream",
     "text": [
      "\r",
      "MP SparVar Pipeline from DB:  53%|██████████████████████████████████████████████████████████████████████████████████▉                                                                         | 2660/5000 [00:52<00:44, 52.56it/s]"
     ]
    },
    {
     "name": "stderr",
     "output_type": "stream",
     "text": [
      "\r",
      "MP SparVar Pipeline from DB:  53%|███████████████████████████████████████████████████████████████████████████████████▎                                                                        | 2670/5000 [00:52<00:44, 52.74it/s]"
     ]
    },
    {
     "name": "stderr",
     "output_type": "stream",
     "text": [
      "\r",
      "MP SparVar Pipeline from DB:  54%|███████████████████████████████████████████████████████████████████████████████████▌                                                                        | 2680/5000 [00:52<00:41, 55.46it/s]"
     ]
    },
    {
     "name": "stderr",
     "output_type": "stream",
     "text": [
      "\r",
      "MP SparVar Pipeline from DB:  54%|███████████████████████████████████████████████████████████████████████████████████▉                                                                        | 2690/5000 [00:52<00:44, 52.40it/s]"
     ]
    },
    {
     "name": "stderr",
     "output_type": "stream",
     "text": [
      "\r",
      "MP SparVar Pipeline from DB:  54%|████████████████████████████████████████████████████████████████████████████████████▏                                                                       | 2700/5000 [00:52<00:41, 54.92it/s]"
     ]
    },
    {
     "name": "stderr",
     "output_type": "stream",
     "text": [
      "\r",
      "MP SparVar Pipeline from DB:  54%|████████████████████████████████████████████████████████████████████████████████████▌                                                                       | 2710/5000 [00:53<00:43, 52.19it/s]"
     ]
    },
    {
     "name": "stderr",
     "output_type": "stream",
     "text": [
      "/home/gomes/csc/src/csc/dictionary.py:313: RuntimeWarning: overflow encountered in multiply\n",
      "  mask_func = lambda x: x * activation_mask\n",
      "/home/gomes/phlamesenv/lib/python3.11/site-packages/scipy/signal/_signaltools.py:511: RuntimeWarning: invalid value encountered in multiply\n",
      "  ret = ifft(sp1 * sp2, fshape, axes=axes)\n",
      "\r",
      "MP SparVar Pipeline from DB:  54%|████████████████████████████████████████████████████████████████████████████████████▊                                                                       | 2720/5000 [00:53<00:40, 56.16it/s]"
     ]
    },
    {
     "name": "stderr",
     "output_type": "stream",
     "text": [
      "\r",
      "MP SparVar Pipeline from DB:  55%|█████████████████████████████████████████████████████████████████████████████████████▏                                                                      | 2730/5000 [00:53<00:41, 54.46it/s]"
     ]
    },
    {
     "name": "stderr",
     "output_type": "stream",
     "text": [
      "\r",
      "MP SparVar Pipeline from DB:  55%|█████████████████████████████████████████████████████████████████████████████████████▍                                                                      | 2740/5000 [00:53<00:43, 52.45it/s]"
     ]
    },
    {
     "name": "stderr",
     "output_type": "stream",
     "text": [
      "\r",
      "MP SparVar Pipeline from DB:  55%|█████████████████████████████████████████████████████████████████████████████████████▊                                                                      | 2750/5000 [00:53<00:40, 54.95it/s]"
     ]
    },
    {
     "name": "stderr",
     "output_type": "stream",
     "text": [
      "\r",
      "MP SparVar Pipeline from DB:  55%|██████████████████████████████████████████████████████████████████████████████████████                                                                      | 2760/5000 [00:54<00:39, 56.29it/s]"
     ]
    },
    {
     "name": "stderr",
     "output_type": "stream",
     "text": [
      "\r",
      "MP SparVar Pipeline from DB:  55%|██████████████████████████████████████████████████████████████████████████████████████▍                                                                     | 2770/5000 [00:54<00:43, 51.46it/s]"
     ]
    },
    {
     "name": "stderr",
     "output_type": "stream",
     "text": [
      "\r",
      "MP SparVar Pipeline from DB:  56%|██████████████████████████████████████████████████████████████████████████████████████▋                                                                     | 2780/5000 [00:54<00:40, 54.48it/s]"
     ]
    },
    {
     "name": "stderr",
     "output_type": "stream",
     "text": [
      "\r",
      "MP SparVar Pipeline from DB:  56%|███████████████████████████████████████████████████████████████████████████████████████                                                                     | 2790/5000 [00:54<00:41, 52.93it/s]"
     ]
    },
    {
     "name": "stderr",
     "output_type": "stream",
     "text": [
      "\r",
      "MP SparVar Pipeline from DB:  56%|███████████████████████████████████████████████████████████████████████████████████████▎                                                                    | 2800/5000 [00:54<00:41, 52.64it/s]"
     ]
    },
    {
     "name": "stderr",
     "output_type": "stream",
     "text": [
      "\r",
      "MP SparVar Pipeline from DB:  56%|███████████████████████████████████████████████████████████████████████████████████████▋                                                                    | 2810/5000 [00:55<00:42, 51.35it/s]"
     ]
    },
    {
     "name": "stderr",
     "output_type": "stream",
     "text": [
      "\r",
      "MP SparVar Pipeline from DB:  56%|███████████████████████████████████████████████████████████████████████████████████████▉                                                                    | 2820/5000 [00:55<00:41, 52.94it/s]"
     ]
    },
    {
     "name": "stderr",
     "output_type": "stream",
     "text": [
      "\r",
      "MP SparVar Pipeline from DB:  57%|████████████████████████████████████████████████████████████████████████████████████████▎                                                                   | 2830/5000 [00:55<00:42, 50.76it/s]"
     ]
    },
    {
     "name": "stderr",
     "output_type": "stream",
     "text": [
      "\r",
      "MP SparVar Pipeline from DB:  57%|████████████████████████████████████████████████████████████████████████████████████████▌                                                                   | 2840/5000 [00:55<00:41, 52.31it/s]"
     ]
    },
    {
     "name": "stderr",
     "output_type": "stream",
     "text": [
      "\r",
      "MP SparVar Pipeline from DB:  57%|████████████████████████████████████████████████████████████████████████████████████████▉                                                                   | 2850/5000 [00:55<00:39, 54.65it/s]"
     ]
    },
    {
     "name": "stderr",
     "output_type": "stream",
     "text": [
      "\r",
      "MP SparVar Pipeline from DB:  57%|█████████████████████████████████████████████████████████████████████████████████████████▏                                                                  | 2860/5000 [00:55<00:40, 52.85it/s]"
     ]
    },
    {
     "name": "stderr",
     "output_type": "stream",
     "text": [
      "\r",
      "MP SparVar Pipeline from DB:  57%|█████████████████████████████████████████████████████████████████████████████████████████▌                                                                  | 2870/5000 [00:56<00:38, 55.08it/s]"
     ]
    },
    {
     "name": "stderr",
     "output_type": "stream",
     "text": [
      "\r",
      "MP SparVar Pipeline from DB:  58%|█████████████████████████████████████████████████████████████████████████████████████████▊                                                                  | 2880/5000 [00:56<00:40, 51.76it/s]"
     ]
    },
    {
     "name": "stderr",
     "output_type": "stream",
     "text": [
      "\r",
      "MP SparVar Pipeline from DB:  58%|██████████████████████████████████████████████████████████████████████████████████████████▏                                                                 | 2890/5000 [00:56<00:39, 53.80it/s]"
     ]
    },
    {
     "name": "stderr",
     "output_type": "stream",
     "text": [
      "\r",
      "MP SparVar Pipeline from DB:  58%|██████████████████████████████████████████████████████████████████████████████████████████▍                                                                 | 2900/5000 [00:56<00:39, 53.56it/s]"
     ]
    },
    {
     "name": "stderr",
     "output_type": "stream",
     "text": [
      "\r",
      "MP SparVar Pipeline from DB:  58%|██████████████████████████████████████████████████████████████████████████████████████████▊                                                                 | 2910/5000 [00:56<00:38, 54.92it/s]"
     ]
    },
    {
     "name": "stderr",
     "output_type": "stream",
     "text": [
      "\r",
      "MP SparVar Pipeline from DB:  58%|███████████████████████████████████████████████████████████████████████████████████████████                                                                 | 2920/5000 [00:57<00:37, 55.51it/s]"
     ]
    },
    {
     "name": "stderr",
     "output_type": "stream",
     "text": [
      "\r",
      "MP SparVar Pipeline from DB:  59%|███████████████████████████████████████████████████████████████████████████████████████████▍                                                                | 2930/5000 [00:57<00:36, 56.05it/s]"
     ]
    },
    {
     "name": "stderr",
     "output_type": "stream",
     "text": [
      "\r",
      "MP SparVar Pipeline from DB:  59%|███████████████████████████████████████████████████████████████████████████████████████████▋                                                                | 2940/5000 [00:57<00:37, 54.22it/s]"
     ]
    },
    {
     "name": "stderr",
     "output_type": "stream",
     "text": [
      "\r",
      "MP SparVar Pipeline from DB:  59%|████████████████████████████████████████████████████████████████████████████████████████████                                                                | 2950/5000 [00:57<00:39, 52.12it/s]"
     ]
    },
    {
     "name": "stderr",
     "output_type": "stream",
     "text": [
      "\r",
      "MP SparVar Pipeline from DB:  59%|████████████████████████████████████████████████████████████████████████████████████████████▎                                                               | 2960/5000 [00:57<00:37, 55.11it/s]"
     ]
    },
    {
     "name": "stderr",
     "output_type": "stream",
     "text": [
      "\r",
      "MP SparVar Pipeline from DB:  59%|████████████████████████████████████████████████████████████████████████████████████████████▋                                                               | 2970/5000 [00:58<00:37, 54.03it/s]"
     ]
    },
    {
     "name": "stderr",
     "output_type": "stream",
     "text": [
      "\r",
      "MP SparVar Pipeline from DB:  60%|████████████████████████████████████████████████████████████████████████████████████████████▉                                                               | 2980/5000 [00:58<00:38, 52.42it/s]"
     ]
    },
    {
     "name": "stderr",
     "output_type": "stream",
     "text": [
      "\r",
      "MP SparVar Pipeline from DB:  60%|█████████████████████████████████████████████████████████████████████████████████████████████▎                                                              | 2990/5000 [00:58<00:37, 54.22it/s]"
     ]
    },
    {
     "name": "stderr",
     "output_type": "stream",
     "text": [
      "\r",
      "MP SparVar Pipeline from DB:  60%|█████████████████████████████████████████████████████████████████████████████████████████████▌                                                              | 3000/5000 [00:58<00:36, 54.62it/s]"
     ]
    },
    {
     "name": "stderr",
     "output_type": "stream",
     "text": [
      "\r",
      "MP SparVar Pipeline from DB:  60%|█████████████████████████████████████████████████████████████████████████████████████████████▉                                                              | 3010/5000 [00:58<00:36, 53.87it/s]"
     ]
    },
    {
     "name": "stderr",
     "output_type": "stream",
     "text": [
      "\r",
      "MP SparVar Pipeline from DB:  60%|██████████████████████████████████████████████████████████████████████████████████████████████▏                                                             | 3020/5000 [00:58<00:37, 52.11it/s]"
     ]
    },
    {
     "name": "stderr",
     "output_type": "stream",
     "text": [
      "\r",
      "MP SparVar Pipeline from DB:  61%|██████████████████████████████████████████████████████████████████████████████████████████████▌                                                             | 3030/5000 [00:59<00:36, 54.38it/s]"
     ]
    },
    {
     "name": "stderr",
     "output_type": "stream",
     "text": [
      "\r",
      "MP SparVar Pipeline from DB:  61%|██████████████████████████████████████████████████████████████████████████████████████████████▊                                                             | 3040/5000 [00:59<00:38, 50.88it/s]"
     ]
    },
    {
     "name": "stderr",
     "output_type": "stream",
     "text": [
      "\r",
      "MP SparVar Pipeline from DB:  61%|███████████████████████████████████████████████████████████████████████████████████████████████▏                                                            | 3050/5000 [00:59<00:37, 52.65it/s]"
     ]
    },
    {
     "name": "stderr",
     "output_type": "stream",
     "text": [
      "\r",
      "MP SparVar Pipeline from DB:  61%|███████████████████████████████████████████████████████████████████████████████████████████████▍                                                            | 3060/5000 [00:59<00:37, 52.11it/s]"
     ]
    },
    {
     "name": "stderr",
     "output_type": "stream",
     "text": [
      "\r",
      "MP SparVar Pipeline from DB:  61%|███████████████████████████████████████████████████████████████████████████████████████████████▊                                                            | 3070/5000 [00:59<00:34, 56.51it/s]"
     ]
    },
    {
     "name": "stderr",
     "output_type": "stream",
     "text": [
      "\r",
      "MP SparVar Pipeline from DB:  62%|████████████████████████████████████████████████████████████████████████████████████████████████                                                            | 3080/5000 [01:00<00:37, 51.20it/s]"
     ]
    },
    {
     "name": "stderr",
     "output_type": "stream",
     "text": [
      "\r",
      "MP SparVar Pipeline from DB:  62%|████████████████████████████████████████████████████████████████████████████████████████████████▍                                                           | 3090/5000 [01:00<00:36, 52.05it/s]"
     ]
    },
    {
     "name": "stderr",
     "output_type": "stream",
     "text": [
      "\r",
      "MP SparVar Pipeline from DB:  62%|████████████████████████████████████████████████████████████████████████████████████████████████▋                                                           | 3100/5000 [01:00<00:35, 52.98it/s]"
     ]
    },
    {
     "name": "stderr",
     "output_type": "stream",
     "text": [
      "\r",
      "MP SparVar Pipeline from DB:  62%|█████████████████████████████████████████████████████████████████████████████████████████████████                                                           | 3110/5000 [01:00<00:35, 52.71it/s]"
     ]
    },
    {
     "name": "stderr",
     "output_type": "stream",
     "text": [
      "\r",
      "MP SparVar Pipeline from DB:  62%|█████████████████████████████████████████████████████████████████████████████████████████████████▎                                                          | 3120/5000 [01:00<00:33, 56.14it/s]"
     ]
    },
    {
     "name": "stderr",
     "output_type": "stream",
     "text": [
      "\r",
      "MP SparVar Pipeline from DB:  63%|█████████████████████████████████████████████████████████████████████████████████████████████████▋                                                          | 3130/5000 [01:01<00:34, 54.57it/s]"
     ]
    },
    {
     "name": "stderr",
     "output_type": "stream",
     "text": [
      "\r",
      "MP SparVar Pipeline from DB:  63%|█████████████████████████████████████████████████████████████████████████████████████████████████▉                                                          | 3140/5000 [01:01<00:34, 53.87it/s]"
     ]
    },
    {
     "name": "stderr",
     "output_type": "stream",
     "text": [
      "\r",
      "MP SparVar Pipeline from DB:  63%|██████████████████████████████████████████████████████████████████████████████████████████████████▎                                                         | 3150/5000 [01:01<00:35, 52.22it/s]"
     ]
    },
    {
     "name": "stderr",
     "output_type": "stream",
     "text": [
      "\r",
      "MP SparVar Pipeline from DB:  63%|██████████████████████████████████████████████████████████████████████████████████████████████████▌                                                         | 3160/5000 [01:01<00:35, 51.15it/s]"
     ]
    },
    {
     "name": "stderr",
     "output_type": "stream",
     "text": [
      "\r",
      "MP SparVar Pipeline from DB:  63%|██████████████████████████████████████████████████████████████████████████████████████████████████▉                                                         | 3170/5000 [01:01<00:35, 52.02it/s]"
     ]
    },
    {
     "name": "stderr",
     "output_type": "stream",
     "text": [
      "\r",
      "MP SparVar Pipeline from DB:  64%|███████████████████████████████████████████████████████████████████████████████████████████████████▏                                                        | 3180/5000 [01:02<00:36, 50.40it/s]"
     ]
    },
    {
     "name": "stderr",
     "output_type": "stream",
     "text": [
      "\r",
      "MP SparVar Pipeline from DB:  64%|███████████████████████████████████████████████████████████████████████████████████████████████████▌                                                        | 3190/5000 [01:02<00:36, 50.05it/s]"
     ]
    },
    {
     "name": "stderr",
     "output_type": "stream",
     "text": [
      "\r",
      "MP SparVar Pipeline from DB:  64%|███████████████████████████████████████████████████████████████████████████████████████████████████▊                                                        | 3200/5000 [01:02<00:34, 51.84it/s]"
     ]
    },
    {
     "name": "stderr",
     "output_type": "stream",
     "text": [
      "\r",
      "MP SparVar Pipeline from DB:  64%|████████████████████████████████████████████████████████████████████████████████████████████████████▏                                                       | 3210/5000 [01:02<00:33, 53.46it/s]"
     ]
    },
    {
     "name": "stderr",
     "output_type": "stream",
     "text": [
      "\r",
      "MP SparVar Pipeline from DB:  64%|████████████████████████████████████████████████████████████████████████████████████████████████████▍                                                       | 3220/5000 [01:02<00:33, 52.69it/s]"
     ]
    },
    {
     "name": "stderr",
     "output_type": "stream",
     "text": [
      "\r",
      "MP SparVar Pipeline from DB:  65%|████████████████████████████████████████████████████████████████████████████████████████████████████▊                                                       | 3230/5000 [01:02<00:34, 50.62it/s]"
     ]
    },
    {
     "name": "stderr",
     "output_type": "stream",
     "text": [
      "\r",
      "MP SparVar Pipeline from DB:  65%|█████████████████████████████████████████████████████████████████████████████████████████████████████                                                       | 3240/5000 [01:03<00:33, 53.07it/s]"
     ]
    },
    {
     "name": "stderr",
     "output_type": "stream",
     "text": [
      "\r",
      "MP SparVar Pipeline from DB:  65%|█████████████████████████████████████████████████████████████████████████████████████████████████████▍                                                      | 3250/5000 [01:03<00:35, 49.59it/s]"
     ]
    },
    {
     "name": "stderr",
     "output_type": "stream",
     "text": [
      "\r",
      "MP SparVar Pipeline from DB:  65%|█████████████████████████████████████████████████████████████████████████████████████████████████████▋                                                      | 3260/5000 [01:03<00:31, 54.45it/s]"
     ]
    },
    {
     "name": "stderr",
     "output_type": "stream",
     "text": [
      "\r",
      "MP SparVar Pipeline from DB:  65%|██████████████████████████████████████████████████████████████████████████████████████████████████████                                                      | 3270/5000 [01:03<00:32, 52.55it/s]"
     ]
    },
    {
     "name": "stderr",
     "output_type": "stream",
     "text": [
      "\r",
      "MP SparVar Pipeline from DB:  66%|██████████████████████████████████████████████████████████████████████████████████████████████████████▎                                                     | 3280/5000 [01:03<00:33, 51.22it/s]"
     ]
    },
    {
     "name": "stderr",
     "output_type": "stream",
     "text": [
      "\r",
      "MP SparVar Pipeline from DB:  66%|██████████████████████████████████████████████████████████████████████████████████████████████████████▋                                                     | 3290/5000 [01:04<00:34, 49.08it/s]"
     ]
    },
    {
     "name": "stderr",
     "output_type": "stream",
     "text": [
      "\r",
      "MP SparVar Pipeline from DB:  66%|██████████████████████████████████████████████████████████████████████████████████████████████████████▉                                                     | 3300/5000 [01:04<00:31, 53.30it/s]"
     ]
    },
    {
     "name": "stderr",
     "output_type": "stream",
     "text": [
      "\r",
      "MP SparVar Pipeline from DB:  66%|███████████████████████████████████████████████████████████████████████████████████████████████████████▎                                                    | 3310/5000 [01:04<00:33, 49.91it/s]"
     ]
    },
    {
     "name": "stderr",
     "output_type": "stream",
     "text": [
      "\r",
      "MP SparVar Pipeline from DB:  66%|███████████████████████████████████████████████████████████████████████████████████████████████████████▌                                                    | 3320/5000 [01:04<00:31, 53.31it/s]"
     ]
    },
    {
     "name": "stderr",
     "output_type": "stream",
     "text": [
      "\r",
      "MP SparVar Pipeline from DB:  67%|███████████████████████████████████████████████████████████████████████████████████████████████████████▉                                                    | 3330/5000 [01:04<00:30, 54.99it/s]"
     ]
    },
    {
     "name": "stderr",
     "output_type": "stream",
     "text": [
      "\r",
      "MP SparVar Pipeline from DB:  67%|████████████████████████████████████████████████████████████████████████████████████████████████████████▏                                                   | 3340/5000 [01:05<00:29, 56.05it/s]"
     ]
    },
    {
     "name": "stderr",
     "output_type": "stream",
     "text": [
      "\r",
      "MP SparVar Pipeline from DB:  67%|████████████████████████████████████████████████████████████████████████████████████████████████████████▌                                                   | 3350/5000 [01:05<00:30, 53.41it/s]"
     ]
    },
    {
     "name": "stderr",
     "output_type": "stream",
     "text": [
      "\r",
      "MP SparVar Pipeline from DB:  67%|████████████████████████████████████████████████████████████████████████████████████████████████████████▊                                                   | 3360/5000 [01:05<00:30, 53.84it/s]"
     ]
    },
    {
     "name": "stderr",
     "output_type": "stream",
     "text": [
      "\r",
      "MP SparVar Pipeline from DB:  67%|█████████████████████████████████████████████████████████████████████████████████████████████████████████▏                                                  | 3370/5000 [01:05<00:30, 53.21it/s]"
     ]
    },
    {
     "name": "stderr",
     "output_type": "stream",
     "text": [
      "\r",
      "MP SparVar Pipeline from DB:  68%|█████████████████████████████████████████████████████████████████████████████████████████████████████████▍                                                  | 3380/5000 [01:05<00:29, 54.69it/s]"
     ]
    },
    {
     "name": "stderr",
     "output_type": "stream",
     "text": [
      "\r",
      "MP SparVar Pipeline from DB:  68%|█████████████████████████████████████████████████████████████████████████████████████████████████████████▊                                                  | 3390/5000 [01:05<00:29, 55.25it/s]"
     ]
    },
    {
     "name": "stderr",
     "output_type": "stream",
     "text": [
      "\r",
      "MP SparVar Pipeline from DB:  68%|██████████████████████████████████████████████████████████████████████████████████████████████████████████                                                  | 3400/5000 [01:06<00:30, 52.26it/s]"
     ]
    },
    {
     "name": "stderr",
     "output_type": "stream",
     "text": [
      "\r",
      "MP SparVar Pipeline from DB:  68%|██████████████████████████████████████████████████████████████████████████████████████████████████████████▍                                                 | 3410/5000 [01:06<00:30, 51.96it/s]"
     ]
    },
    {
     "name": "stderr",
     "output_type": "stream",
     "text": [
      "\r",
      "MP SparVar Pipeline from DB:  68%|██████████████████████████████████████████████████████████████████████████████████████████████████████████▋                                                 | 3420/5000 [01:06<00:28, 54.61it/s]"
     ]
    },
    {
     "name": "stderr",
     "output_type": "stream",
     "text": [
      "\r",
      "MP SparVar Pipeline from DB:  69%|███████████████████████████████████████████████████████████████████████████████████████████████████████████                                                 | 3430/5000 [01:06<00:30, 51.44it/s]"
     ]
    },
    {
     "name": "stderr",
     "output_type": "stream",
     "text": [
      "\r",
      "MP SparVar Pipeline from DB:  69%|███████████████████████████████████████████████████████████████████████████████████████████████████████████▎                                                | 3440/5000 [01:06<00:28, 54.10it/s]"
     ]
    },
    {
     "name": "stderr",
     "output_type": "stream",
     "text": [
      "\r",
      "MP SparVar Pipeline from DB:  69%|███████████████████████████████████████████████████████████████████████████████████████████████████████████▋                                                | 3450/5000 [01:07<00:29, 52.71it/s]"
     ]
    },
    {
     "name": "stderr",
     "output_type": "stream",
     "text": [
      "\r",
      "MP SparVar Pipeline from DB:  69%|███████████████████████████████████████████████████████████████████████████████████████████████████████████▉                                                | 3460/5000 [01:07<00:29, 51.53it/s]"
     ]
    },
    {
     "name": "stderr",
     "output_type": "stream",
     "text": [
      "\r",
      "MP SparVar Pipeline from DB:  69%|████████████████████████████████████████████████████████████████████████████████████████████████████████████▎                                               | 3470/5000 [01:07<00:28, 54.57it/s]"
     ]
    },
    {
     "name": "stderr",
     "output_type": "stream",
     "text": [
      "\r",
      "MP SparVar Pipeline from DB:  70%|████████████████████████████████████████████████████████████████████████████████████████████████████████████▌                                               | 3480/5000 [01:07<00:28, 54.26it/s]"
     ]
    },
    {
     "name": "stderr",
     "output_type": "stream",
     "text": [
      "\r",
      "MP SparVar Pipeline from DB:  70%|████████████████████████████████████████████████████████████████████████████████████████████████████████████▉                                               | 3490/5000 [01:07<00:28, 52.95it/s]"
     ]
    },
    {
     "name": "stderr",
     "output_type": "stream",
     "text": [
      "\r",
      "MP SparVar Pipeline from DB:  70%|█████████████████████████████████████████████████████████████████████████████████████████████████████████████▏                                              | 3500/5000 [01:08<00:27, 54.27it/s]"
     ]
    },
    {
     "name": "stderr",
     "output_type": "stream",
     "text": [
      "\r",
      "MP SparVar Pipeline from DB:  70%|█████████████████████████████████████████████████████████████████████████████████████████████████████████████▌                                              | 3510/5000 [01:08<00:27, 53.23it/s]"
     ]
    },
    {
     "name": "stderr",
     "output_type": "stream",
     "text": [
      "\r",
      "MP SparVar Pipeline from DB:  70%|█████████████████████████████████████████████████████████████████████████████████████████████████████████████▊                                              | 3520/5000 [01:08<00:26, 56.05it/s]"
     ]
    },
    {
     "name": "stderr",
     "output_type": "stream",
     "text": [
      "\r",
      "MP SparVar Pipeline from DB:  71%|██████████████████████████████████████████████████████████████████████████████████████████████████████████████▏                                             | 3530/5000 [01:08<00:27, 52.59it/s]"
     ]
    },
    {
     "name": "stderr",
     "output_type": "stream",
     "text": [
      "\r",
      "MP SparVar Pipeline from DB:  71%|██████████████████████████████████████████████████████████████████████████████████████████████████████████████▍                                             | 3540/5000 [01:08<00:27, 52.87it/s]"
     ]
    },
    {
     "name": "stderr",
     "output_type": "stream",
     "text": [
      "\r",
      "MP SparVar Pipeline from DB:  71%|██████████████████████████████████████████████████████████████████████████████████████████████████████████████▊                                             | 3550/5000 [01:08<00:27, 53.14it/s]"
     ]
    },
    {
     "name": "stderr",
     "output_type": "stream",
     "text": [
      "\r",
      "MP SparVar Pipeline from DB:  71%|███████████████████████████████████████████████████████████████████████████████████████████████████████████████                                             | 3560/5000 [01:09<00:27, 51.80it/s]"
     ]
    },
    {
     "name": "stderr",
     "output_type": "stream",
     "text": [
      "\r",
      "MP SparVar Pipeline from DB:  71%|███████████████████████████████████████████████████████████████████████████████████████████████████████████████▍                                            | 3570/5000 [01:09<00:26, 53.28it/s]"
     ]
    },
    {
     "name": "stderr",
     "output_type": "stream",
     "text": [
      "\r",
      "MP SparVar Pipeline from DB:  72%|███████████████████████████████████████████████████████████████████████████████████████████████████████████████▋                                            | 3580/5000 [01:09<00:28, 49.96it/s]"
     ]
    },
    {
     "name": "stderr",
     "output_type": "stream",
     "text": [
      "\r",
      "MP SparVar Pipeline from DB:  72%|████████████████████████████████████████████████████████████████████████████████████████████████████████████████                                            | 3590/5000 [01:09<00:25, 54.34it/s]"
     ]
    },
    {
     "name": "stderr",
     "output_type": "stream",
     "text": [
      "\r",
      "MP SparVar Pipeline from DB:  72%|████████████████████████████████████████████████████████████████████████████████████████████████████████████████▎                                           | 3600/5000 [01:09<00:26, 53.21it/s]"
     ]
    },
    {
     "name": "stderr",
     "output_type": "stream",
     "text": [
      "\r",
      "MP SparVar Pipeline from DB:  72%|████████████████████████████████████████████████████████████████████████████████████████████████████████████████▋                                           | 3610/5000 [01:10<00:24, 57.56it/s]"
     ]
    },
    {
     "name": "stderr",
     "output_type": "stream",
     "text": [
      "\r",
      "MP SparVar Pipeline from DB:  72%|████████████████████████████████████████████████████████████████████████████████████████████████████████████████▉                                           | 3620/5000 [01:10<00:25, 54.90it/s]"
     ]
    },
    {
     "name": "stderr",
     "output_type": "stream",
     "text": [
      "\r",
      "MP SparVar Pipeline from DB:  73%|█████████████████████████████████████████████████████████████████████████████████████████████████████████████████▎                                          | 3630/5000 [01:10<00:25, 54.78it/s]"
     ]
    },
    {
     "name": "stderr",
     "output_type": "stream",
     "text": [
      "\r",
      "MP SparVar Pipeline from DB:  73%|█████████████████████████████████████████████████████████████████████████████████████████████████████████████████▌                                          | 3640/5000 [01:10<00:24, 55.98it/s]"
     ]
    },
    {
     "name": "stderr",
     "output_type": "stream",
     "text": [
      "\r",
      "MP SparVar Pipeline from DB:  73%|█████████████████████████████████████████████████████████████████████████████████████████████████████████████████▉                                          | 3650/5000 [01:10<00:22, 58.72it/s]"
     ]
    },
    {
     "name": "stderr",
     "output_type": "stream",
     "text": [
      "\r",
      "MP SparVar Pipeline from DB:  73%|██████████████████████████████████████████████████████████████████████████████████████████████████████████████████▏                                         | 3660/5000 [01:10<00:22, 58.35it/s]"
     ]
    },
    {
     "name": "stderr",
     "output_type": "stream",
     "text": [
      "\r",
      "MP SparVar Pipeline from DB:  73%|██████████████████████████████████████████████████████████████████████████████████████████████████████████████████▌                                         | 3670/5000 [01:11<00:21, 60.47it/s]"
     ]
    },
    {
     "name": "stderr",
     "output_type": "stream",
     "text": [
      "\r",
      "MP SparVar Pipeline from DB:  74%|██████████████████████████████████████████████████████████████████████████████████████████████████████████████████▊                                         | 3680/5000 [01:11<00:23, 55.70it/s]"
     ]
    },
    {
     "name": "stderr",
     "output_type": "stream",
     "text": [
      "\r",
      "MP SparVar Pipeline from DB:  74%|███████████████████████████████████████████████████████████████████████████████████████████████████████████████████▏                                        | 3690/5000 [01:11<00:23, 55.07it/s]"
     ]
    },
    {
     "name": "stderr",
     "output_type": "stream",
     "text": [
      "\r",
      "MP SparVar Pipeline from DB:  74%|███████████████████████████████████████████████████████████████████████████████████████████████████████████████████▍                                        | 3700/5000 [01:11<00:22, 58.98it/s]"
     ]
    },
    {
     "name": "stderr",
     "output_type": "stream",
     "text": [
      "\r",
      "MP SparVar Pipeline from DB:  74%|███████████████████████████████████████████████████████████████████████████████████████████████████████████████████▊                                        | 3710/5000 [01:11<00:24, 53.48it/s]"
     ]
    },
    {
     "name": "stderr",
     "output_type": "stream",
     "text": [
      "\r",
      "MP SparVar Pipeline from DB:  74%|████████████████████████████████████████████████████████████████████████████████████████████████████████████████████                                        | 3720/5000 [01:12<00:23, 55.15it/s]"
     ]
    },
    {
     "name": "stderr",
     "output_type": "stream",
     "text": [
      "\r",
      "MP SparVar Pipeline from DB:  75%|████████████████████████████████████████████████████████████████████████████████████████████████████████████████████▍                                       | 3730/5000 [01:12<00:24, 52.86it/s]"
     ]
    },
    {
     "name": "stderr",
     "output_type": "stream",
     "text": [
      "\r",
      "MP SparVar Pipeline from DB:  75%|████████████████████████████████████████████████████████████████████████████████████████████████████████████████████▋                                       | 3740/5000 [01:12<00:24, 52.28it/s]"
     ]
    },
    {
     "name": "stderr",
     "output_type": "stream",
     "text": [
      "\r",
      "MP SparVar Pipeline from DB:  75%|█████████████████████████████████████████████████████████████████████████████████████████████████████████████████████                                       | 3750/5000 [01:12<00:23, 54.32it/s]"
     ]
    },
    {
     "name": "stderr",
     "output_type": "stream",
     "text": [
      "\r",
      "MP SparVar Pipeline from DB:  75%|█████████████████████████████████████████████████████████████████████████████████████████████████████████████████████▎                                      | 3760/5000 [01:12<00:23, 53.81it/s]"
     ]
    },
    {
     "name": "stderr",
     "output_type": "stream",
     "text": [
      "\r",
      "MP SparVar Pipeline from DB:  75%|█████████████████████████████████████████████████████████████████████████████████████████████████████████████████████▌                                      | 3770/5000 [01:12<00:22, 55.13it/s]"
     ]
    },
    {
     "name": "stderr",
     "output_type": "stream",
     "text": [
      "\r",
      "MP SparVar Pipeline from DB:  76%|█████████████████████████████████████████████████████████████████████████████████████████████████████████████████████▉                                      | 3780/5000 [01:13<00:22, 53.17it/s]"
     ]
    },
    {
     "name": "stderr",
     "output_type": "stream",
     "text": [
      "\r",
      "MP SparVar Pipeline from DB:  76%|██████████████████████████████████████████████████████████████████████████████████████████████████████████████████████▏                                     | 3790/5000 [01:13<00:23, 52.07it/s]"
     ]
    },
    {
     "name": "stderr",
     "output_type": "stream",
     "text": [
      "\r",
      "MP SparVar Pipeline from DB:  76%|██████████████████████████████████████████████████████████████████████████████████████████████████████████████████████▌                                     | 3800/5000 [01:13<00:34, 34.62it/s]"
     ]
    },
    {
     "name": "stderr",
     "output_type": "stream",
     "text": [
      "\r",
      "MP SparVar Pipeline from DB:  76%|██████████████████████████████████████████████████████████████████████████████████████████████████████████████████████▊                                     | 3810/5000 [01:14<00:31, 37.58it/s]"
     ]
    },
    {
     "name": "stderr",
     "output_type": "stream",
     "text": [
      "\r",
      "MP SparVar Pipeline from DB:  76%|███████████████████████████████████████████████████████████████████████████████████████████████████████████████████████▏                                    | 3820/5000 [01:14<00:30, 38.41it/s]"
     ]
    },
    {
     "name": "stderr",
     "output_type": "stream",
     "text": [
      "\r",
      "MP SparVar Pipeline from DB:  77%|███████████████████████████████████████████████████████████████████████████████████████████████████████████████████████▍                                    | 3830/5000 [01:14<00:29, 39.94it/s]"
     ]
    },
    {
     "name": "stderr",
     "output_type": "stream",
     "text": [
      "\r",
      "MP SparVar Pipeline from DB:  77%|███████████████████████████████████████████████████████████████████████████████████████████████████████████████████████▊                                    | 3840/5000 [01:14<00:25, 44.78it/s]"
     ]
    },
    {
     "name": "stderr",
     "output_type": "stream",
     "text": [
      "\r",
      "MP SparVar Pipeline from DB:  77%|████████████████████████████████████████████████████████████████████████████████████████████████████████████████████████                                    | 3850/5000 [01:14<00:25, 45.85it/s]"
     ]
    },
    {
     "name": "stderr",
     "output_type": "stream",
     "text": [
      "\r",
      "MP SparVar Pipeline from DB:  77%|████████████████████████████████████████████████████████████████████████████████████████████████████████████████████████▍                                   | 3860/5000 [01:15<00:24, 47.33it/s]"
     ]
    },
    {
     "name": "stderr",
     "output_type": "stream",
     "text": [
      "\r",
      "MP SparVar Pipeline from DB:  77%|████████████████████████████████████████████████████████████████████████████████████████████████████████████████████████▋                                   | 3870/5000 [01:15<00:22, 49.67it/s]"
     ]
    },
    {
     "name": "stderr",
     "output_type": "stream",
     "text": [
      "\r",
      "MP SparVar Pipeline from DB:  78%|█████████████████████████████████████████████████████████████████████████████████████████████████████████████████████████                                   | 3880/5000 [01:15<00:21, 51.88it/s]"
     ]
    },
    {
     "name": "stderr",
     "output_type": "stream",
     "text": [
      "\r",
      "MP SparVar Pipeline from DB:  78%|█████████████████████████████████████████████████████████████████████████████████████████████████████████████████████████▎                                  | 3890/5000 [01:15<00:21, 50.92it/s]"
     ]
    },
    {
     "name": "stderr",
     "output_type": "stream",
     "text": [
      "\r",
      "MP SparVar Pipeline from DB:  78%|█████████████████████████████████████████████████████████████████████████████████████████████████████████████████████████▋                                  | 3900/5000 [01:15<00:20, 52.73it/s]"
     ]
    },
    {
     "name": "stderr",
     "output_type": "stream",
     "text": [
      "\r",
      "MP SparVar Pipeline from DB:  78%|█████████████████████████████████████████████████████████████████████████████████████████████████████████████████████████▉                                  | 3910/5000 [01:16<00:22, 49.25it/s]"
     ]
    },
    {
     "name": "stderr",
     "output_type": "stream",
     "text": [
      "\r",
      "MP SparVar Pipeline from DB:  78%|██████████████████████████████████████████████████████████████████████████████████████████████████████████████████████████▎                                 | 3920/5000 [01:16<00:20, 53.99it/s]"
     ]
    },
    {
     "name": "stderr",
     "output_type": "stream",
     "text": [
      "\r",
      "MP SparVar Pipeline from DB:  79%|██████████████████████████████████████████████████████████████████████████████████████████████████████████████████████████▌                                 | 3930/5000 [01:16<00:19, 55.37it/s]"
     ]
    },
    {
     "name": "stderr",
     "output_type": "stream",
     "text": [
      "\r",
      "MP SparVar Pipeline from DB:  79%|██████████████████████████████████████████████████████████████████████████████████████████████████████████████████████████▉                                 | 3940/5000 [01:16<00:20, 52.56it/s]"
     ]
    },
    {
     "name": "stderr",
     "output_type": "stream",
     "text": [
      "\r",
      "MP SparVar Pipeline from DB:  79%|███████████████████████████████████████████████████████████████████████████████████████████████████████████████████████████▏                                | 3950/5000 [01:16<00:19, 53.57it/s]"
     ]
    },
    {
     "name": "stderr",
     "output_type": "stream",
     "text": [
      "\r",
      "MP SparVar Pipeline from DB:  79%|███████████████████████████████████████████████████████████████████████████████████████████████████████████████████████████▌                                | 3960/5000 [01:17<00:20, 51.70it/s]"
     ]
    },
    {
     "name": "stderr",
     "output_type": "stream",
     "text": [
      "\r",
      "MP SparVar Pipeline from DB:  79%|███████████████████████████████████████████████████████████████████████████████████████████████████████████████████████████▊                                | 3970/5000 [01:17<00:19, 51.98it/s]"
     ]
    },
    {
     "name": "stderr",
     "output_type": "stream",
     "text": [
      "\r",
      "MP SparVar Pipeline from DB:  80%|████████████████████████████████████████████████████████████████████████████████████████████████████████████████████████████▏                               | 3980/5000 [01:17<00:20, 50.79it/s]"
     ]
    },
    {
     "name": "stderr",
     "output_type": "stream",
     "text": [
      "\r",
      "MP SparVar Pipeline from DB:  80%|████████████████████████████████████████████████████████████████████████████████████████████████████████████████████████████▍                               | 3990/5000 [01:17<00:19, 50.71it/s]"
     ]
    },
    {
     "name": "stderr",
     "output_type": "stream",
     "text": [
      "\r",
      "MP SparVar Pipeline from DB:  80%|████████████████████████████████████████████████████████████████████████████████████████████████████████████████████████████▊                               | 4000/5000 [01:17<00:19, 52.28it/s]"
     ]
    },
    {
     "name": "stderr",
     "output_type": "stream",
     "text": [
      "\r",
      "MP SparVar Pipeline from DB:  80%|█████████████████████████████████████████████████████████████████████████████████████████████████████████████████████████████                               | 4010/5000 [01:17<00:18, 52.76it/s]"
     ]
    },
    {
     "name": "stderr",
     "output_type": "stream",
     "text": [
      "\r",
      "MP SparVar Pipeline from DB:  80%|█████████████████████████████████████████████████████████████████████████████████████████████████████████████████████████████▍                              | 4020/5000 [01:18<00:18, 53.72it/s]"
     ]
    },
    {
     "name": "stderr",
     "output_type": "stream",
     "text": [
      "\r",
      "MP SparVar Pipeline from DB:  81%|█████████████████████████████████████████████████████████████████████████████████████████████████████████████████████████████▋                              | 4030/5000 [01:18<00:16, 57.54it/s]"
     ]
    },
    {
     "name": "stderr",
     "output_type": "stream",
     "text": [
      "\r",
      "MP SparVar Pipeline from DB:  81%|██████████████████████████████████████████████████████████████████████████████████████████████████████████████████████████████                              | 4040/5000 [01:18<00:18, 51.56it/s]"
     ]
    },
    {
     "name": "stderr",
     "output_type": "stream",
     "text": [
      "\r",
      "MP SparVar Pipeline from DB:  81%|██████████████████████████████████████████████████████████████████████████████████████████████████████████████████████████████▎                             | 4050/5000 [01:18<00:17, 52.78it/s]"
     ]
    },
    {
     "name": "stderr",
     "output_type": "stream",
     "text": [
      "\r",
      "MP SparVar Pipeline from DB:  81%|██████████████████████████████████████████████████████████████████████████████████████████████████████████████████████████████▋                             | 4060/5000 [01:18<00:17, 52.57it/s]"
     ]
    },
    {
     "name": "stderr",
     "output_type": "stream",
     "text": [
      "\r",
      "MP SparVar Pipeline from DB:  81%|██████████████████████████████████████████████████████████████████████████████████████████████████████████████████████████████▉                             | 4070/5000 [01:19<00:17, 53.42it/s]"
     ]
    },
    {
     "name": "stderr",
     "output_type": "stream",
     "text": [
      "\r",
      "MP SparVar Pipeline from DB:  82%|███████████████████████████████████████████████████████████████████████████████████████████████████████████████████████████████▎                            | 4080/5000 [01:19<00:17, 53.05it/s]"
     ]
    },
    {
     "name": "stderr",
     "output_type": "stream",
     "text": [
      "\r",
      "MP SparVar Pipeline from DB:  82%|███████████████████████████████████████████████████████████████████████████████████████████████████████████████████████████████▌                            | 4090/5000 [01:19<00:16, 53.99it/s]"
     ]
    },
    {
     "name": "stderr",
     "output_type": "stream",
     "text": [
      "\r",
      "MP SparVar Pipeline from DB:  82%|███████████████████████████████████████████████████████████████████████████████████████████████████████████████████████████████▉                            | 4100/5000 [01:19<00:16, 54.12it/s]"
     ]
    },
    {
     "name": "stderr",
     "output_type": "stream",
     "text": [
      "\r",
      "MP SparVar Pipeline from DB:  82%|████████████████████████████████████████████████████████████████████████████████████████████████████████████████████████████████▏                           | 4110/5000 [01:19<00:16, 54.50it/s]"
     ]
    },
    {
     "name": "stderr",
     "output_type": "stream",
     "text": [
      "\r",
      "MP SparVar Pipeline from DB:  82%|████████████████████████████████████████████████████████████████████████████████████████████████████████████████████████████████▌                           | 4120/5000 [01:20<00:16, 54.16it/s]"
     ]
    },
    {
     "name": "stderr",
     "output_type": "stream",
     "text": [
      "\r",
      "MP SparVar Pipeline from DB:  83%|████████████████████████████████████████████████████████████████████████████████████████████████████████████████████████████████▊                           | 4130/5000 [01:20<00:16, 53.71it/s]"
     ]
    },
    {
     "name": "stderr",
     "output_type": "stream",
     "text": [
      "\r",
      "MP SparVar Pipeline from DB:  83%|█████████████████████████████████████████████████████████████████████████████████████████████████████████████████████████████████▏                          | 4140/5000 [01:20<00:15, 56.98it/s]"
     ]
    },
    {
     "name": "stderr",
     "output_type": "stream",
     "text": [
      "\r",
      "MP SparVar Pipeline from DB:  83%|█████████████████████████████████████████████████████████████████████████████████████████████████████████████████████████████████▍                          | 4150/5000 [01:20<00:15, 55.11it/s]"
     ]
    },
    {
     "name": "stderr",
     "output_type": "stream",
     "text": [
      "\r",
      "MP SparVar Pipeline from DB:  83%|█████████████████████████████████████████████████████████████████████████████████████████████████████████████████████████████████▊                          | 4160/5000 [01:20<00:15, 52.89it/s]"
     ]
    },
    {
     "name": "stderr",
     "output_type": "stream",
     "text": [
      "\r",
      "MP SparVar Pipeline from DB:  83%|██████████████████████████████████████████████████████████████████████████████████████████████████████████████████████████████████                          | 4170/5000 [01:20<00:14, 55.80it/s]"
     ]
    },
    {
     "name": "stderr",
     "output_type": "stream",
     "text": [
      "\r",
      "MP SparVar Pipeline from DB:  84%|██████████████████████████████████████████████████████████████████████████████████████████████████████████████████████████████████▍                         | 4180/5000 [01:21<00:14, 55.83it/s]"
     ]
    },
    {
     "name": "stderr",
     "output_type": "stream",
     "text": [
      "\r",
      "MP SparVar Pipeline from DB:  84%|██████████████████████████████████████████████████████████████████████████████████████████████████████████████████████████████████▋                         | 4190/5000 [01:21<00:14, 54.34it/s]"
     ]
    },
    {
     "name": "stderr",
     "output_type": "stream",
     "text": [
      "\r",
      "MP SparVar Pipeline from DB:  84%|███████████████████████████████████████████████████████████████████████████████████████████████████████████████████████████████████                         | 4200/5000 [01:21<00:14, 54.75it/s]"
     ]
    },
    {
     "name": "stderr",
     "output_type": "stream",
     "text": [
      "\r",
      "MP SparVar Pipeline from DB:  84%|███████████████████████████████████████████████████████████████████████████████████████████████████████████████████████████████████▎                        | 4210/5000 [01:21<00:14, 55.28it/s]"
     ]
    },
    {
     "name": "stderr",
     "output_type": "stream",
     "text": [
      "\r",
      "MP SparVar Pipeline from DB:  84%|███████████████████████████████████████████████████████████████████████████████████████████████████████████████████████████████████▋                        | 4220/5000 [01:21<00:14, 53.61it/s]"
     ]
    },
    {
     "name": "stderr",
     "output_type": "stream",
     "text": [
      "\r",
      "MP SparVar Pipeline from DB:  85%|███████████████████████████████████████████████████████████████████████████████████████████████████████████████████████████████████▉                        | 4230/5000 [01:22<00:14, 54.68it/s]"
     ]
    },
    {
     "name": "stderr",
     "output_type": "stream",
     "text": [
      "\r",
      "MP SparVar Pipeline from DB:  85%|████████████████████████████████████████████████████████████████████████████████████████████████████████████████████████████████████▎                       | 4240/5000 [01:22<00:14, 53.95it/s]"
     ]
    },
    {
     "name": "stderr",
     "output_type": "stream",
     "text": [
      "\r",
      "MP SparVar Pipeline from DB:  85%|████████████████████████████████████████████████████████████████████████████████████████████████████████████████████████████████████▌                       | 4250/5000 [01:22<00:12, 58.23it/s]"
     ]
    },
    {
     "name": "stderr",
     "output_type": "stream",
     "text": [
      "\r",
      "MP SparVar Pipeline from DB:  85%|████████████████████████████████████████████████████████████████████████████████████████████████████████████████████████████████████▉                       | 4260/5000 [01:22<00:13, 53.08it/s]"
     ]
    },
    {
     "name": "stderr",
     "output_type": "stream",
     "text": [
      "\r",
      "MP SparVar Pipeline from DB:  85%|█████████████████████████████████████████████████████████████████████████████████████████████████████████████████████████████████████▏                      | 4270/5000 [01:22<00:13, 52.45it/s]"
     ]
    },
    {
     "name": "stderr",
     "output_type": "stream",
     "text": [
      "\r",
      "MP SparVar Pipeline from DB:  86%|█████████████████████████████████████████████████████████████████████████████████████████████████████████████████████████████████████▌                      | 4280/5000 [01:22<00:13, 53.72it/s]"
     ]
    },
    {
     "name": "stderr",
     "output_type": "stream",
     "text": [
      "\r",
      "MP SparVar Pipeline from DB:  86%|█████████████████████████████████████████████████████████████████████████████████████████████████████████████████████████████████████▊                      | 4290/5000 [01:23<00:12, 56.78it/s]"
     ]
    },
    {
     "name": "stderr",
     "output_type": "stream",
     "text": [
      "\r",
      "MP SparVar Pipeline from DB:  86%|██████████████████████████████████████████████████████████████████████████████████████████████████████████████████████████████████████▏                     | 4300/5000 [01:23<00:13, 51.78it/s]"
     ]
    },
    {
     "name": "stderr",
     "output_type": "stream",
     "text": [
      "\r",
      "MP SparVar Pipeline from DB:  86%|██████████████████████████████████████████████████████████████████████████████████████████████████████████████████████████████████████▍                     | 4310/5000 [01:23<00:12, 54.72it/s]"
     ]
    },
    {
     "name": "stderr",
     "output_type": "stream",
     "text": [
      "\r",
      "MP SparVar Pipeline from DB:  86%|██████████████████████████████████████████████████████████████████████████████████████████████████████████████████████████████████████▊                     | 4320/5000 [01:23<00:12, 52.87it/s]"
     ]
    },
    {
     "name": "stderr",
     "output_type": "stream",
     "text": [
      "\r",
      "MP SparVar Pipeline from DB:  87%|███████████████████████████████████████████████████████████████████████████████████████████████████████████████████████████████████████                     | 4330/5000 [01:23<00:11, 57.41it/s]"
     ]
    },
    {
     "name": "stderr",
     "output_type": "stream",
     "text": [
      "\r",
      "MP SparVar Pipeline from DB:  87%|███████████████████████████████████████████████████████████████████████████████████████████████████████████████████████████████████████▍                    | 4340/5000 [01:24<00:12, 52.46it/s]"
     ]
    },
    {
     "name": "stderr",
     "output_type": "stream",
     "text": [
      "\r",
      "MP SparVar Pipeline from DB:  87%|███████████████████████████████████████████████████████████████████████████████████████████████████████████████████████████████████████▋                    | 4350/5000 [01:24<00:12, 54.10it/s]"
     ]
    },
    {
     "name": "stderr",
     "output_type": "stream",
     "text": [
      "\r",
      "MP SparVar Pipeline from DB:  87%|████████████████████████████████████████████████████████████████████████████████████████████████████████████████████████████████████████                    | 4360/5000 [01:24<00:11, 56.66it/s]"
     ]
    },
    {
     "name": "stderr",
     "output_type": "stream",
     "text": [
      "\r",
      "MP SparVar Pipeline from DB:  87%|████████████████████████████████████████████████████████████████████████████████████████████████████████████████████████████████████████▎                   | 4370/5000 [01:24<00:11, 55.08it/s]"
     ]
    },
    {
     "name": "stderr",
     "output_type": "stream",
     "text": [
      "\r",
      "MP SparVar Pipeline from DB:  88%|████████████████████████████████████████████████████████████████████████████████████████████████████████████████████████████████████████▋                   | 4380/5000 [01:24<00:11, 54.50it/s]"
     ]
    },
    {
     "name": "stderr",
     "output_type": "stream",
     "text": [
      "\r",
      "MP SparVar Pipeline from DB:  88%|████████████████████████████████████████████████████████████████████████████████████████████████████████████████████████████████████████▉                   | 4390/5000 [01:24<00:10, 57.20it/s]"
     ]
    },
    {
     "name": "stderr",
     "output_type": "stream",
     "text": [
      "\r",
      "MP SparVar Pipeline from DB:  88%|█████████████████████████████████████████████████████████████████████████████████████████████████████████████████████████████████████████▎                  | 4400/5000 [01:25<00:10, 54.76it/s]"
     ]
    },
    {
     "name": "stderr",
     "output_type": "stream",
     "text": [
      "\r",
      "MP SparVar Pipeline from DB:  88%|█████████████████████████████████████████████████████████████████████████████████████████████████████████████████████████████████████████▌                  | 4410/5000 [01:25<00:10, 54.77it/s]"
     ]
    },
    {
     "name": "stderr",
     "output_type": "stream",
     "text": [
      "\r",
      "MP SparVar Pipeline from DB:  88%|█████████████████████████████████████████████████████████████████████████████████████████████████████████████████████████████████████████▉                  | 4420/5000 [01:25<00:10, 54.52it/s]"
     ]
    },
    {
     "name": "stderr",
     "output_type": "stream",
     "text": [
      "\r",
      "MP SparVar Pipeline from DB:  89%|██████████████████████████████████████████████████████████████████████████████████████████████████████████████████████████████████████████▏                 | 4430/5000 [01:25<00:10, 56.68it/s]"
     ]
    },
    {
     "name": "stderr",
     "output_type": "stream",
     "text": [
      "\r",
      "MP SparVar Pipeline from DB:  89%|██████████████████████████████████████████████████████████████████████████████████████████████████████████████████████████████████████████▌                 | 4440/5000 [01:25<00:09, 56.74it/s]"
     ]
    },
    {
     "name": "stderr",
     "output_type": "stream",
     "text": [
      "\r",
      "MP SparVar Pipeline from DB:  89%|██████████████████████████████████████████████████████████████████████████████████████████████████████████████████████████████████████████▊                 | 4450/5000 [01:25<00:09, 58.54it/s]"
     ]
    },
    {
     "name": "stderr",
     "output_type": "stream",
     "text": [
      "\r",
      "MP SparVar Pipeline from DB:  89%|███████████████████████████████████████████████████████████████████████████████████████████████████████████████████████████████████████████▏                | 4460/5000 [01:26<00:09, 56.24it/s]"
     ]
    },
    {
     "name": "stderr",
     "output_type": "stream",
     "text": [
      "\r",
      "MP SparVar Pipeline from DB:  89%|███████████████████████████████████████████████████████████████████████████████████████████████████████████████████████████████████████████▍                | 4470/5000 [01:26<00:09, 56.16it/s]"
     ]
    },
    {
     "name": "stderr",
     "output_type": "stream",
     "text": [
      "\r",
      "MP SparVar Pipeline from DB:  90%|███████████████████████████████████████████████████████████████████████████████████████████████████████████████████████████████████████████▊                | 4480/5000 [01:26<00:08, 57.83it/s]"
     ]
    },
    {
     "name": "stderr",
     "output_type": "stream",
     "text": [
      "\r",
      "MP SparVar Pipeline from DB:  90%|████████████████████████████████████████████████████████████████████████████████████████████████████████████████████████████████████████████                | 4490/5000 [01:26<00:08, 58.75it/s]"
     ]
    },
    {
     "name": "stderr",
     "output_type": "stream",
     "text": [
      "\r",
      "MP SparVar Pipeline from DB:  90%|████████████████████████████████████████████████████████████████████████████████████████████████████████████████████████████████████████████▍               | 4500/5000 [01:26<00:08, 57.00it/s]"
     ]
    },
    {
     "name": "stderr",
     "output_type": "stream",
     "text": [
      "\r",
      "MP SparVar Pipeline from DB:  90%|████████████████████████████████████████████████████████████████████████████████████████████████████████████████████████████████████████████▋               | 4510/5000 [01:27<00:08, 57.09it/s]"
     ]
    },
    {
     "name": "stderr",
     "output_type": "stream",
     "text": [
      "\r",
      "MP SparVar Pipeline from DB:  90%|█████████████████████████████████████████████████████████████████████████████████████████████████████████████████████████████████████████████               | 4520/5000 [01:27<00:08, 55.51it/s]"
     ]
    },
    {
     "name": "stderr",
     "output_type": "stream",
     "text": [
      "\r",
      "MP SparVar Pipeline from DB:  91%|█████████████████████████████████████████████████████████████████████████████████████████████████████████████████████████████████████████████▎              | 4530/5000 [01:27<00:08, 57.75it/s]"
     ]
    },
    {
     "name": "stderr",
     "output_type": "stream",
     "text": [
      "\r",
      "MP SparVar Pipeline from DB:  91%|█████████████████████████████████████████████████████████████████████████████████████████████████████████████████████████████████████████████▋              | 4540/5000 [01:27<00:07, 58.32it/s]"
     ]
    },
    {
     "name": "stderr",
     "output_type": "stream",
     "text": [
      "\r",
      "MP SparVar Pipeline from DB:  91%|█████████████████████████████████████████████████████████████████████████████████████████████████████████████████████████████████████████████▉              | 4550/5000 [01:27<00:07, 56.45it/s]"
     ]
    },
    {
     "name": "stderr",
     "output_type": "stream",
     "text": [
      "\r",
      "MP SparVar Pipeline from DB:  91%|██████████████████████████████████████████████████████████████████████████████████████████████████████████████████████████████████████████████▎             | 4560/5000 [01:27<00:08, 53.63it/s]"
     ]
    },
    {
     "name": "stderr",
     "output_type": "stream",
     "text": [
      "\r",
      "MP SparVar Pipeline from DB:  91%|██████████████████████████████████████████████████████████████████████████████████████████████████████████████████████████████████████████████▌             | 4570/5000 [01:28<00:07, 54.80it/s]"
     ]
    },
    {
     "name": "stderr",
     "output_type": "stream",
     "text": [
      "\r",
      "MP SparVar Pipeline from DB:  92%|██████████████████████████████████████████████████████████████████████████████████████████████████████████████████████████████████████████████▉             | 4580/5000 [01:28<00:07, 56.31it/s]"
     ]
    },
    {
     "name": "stderr",
     "output_type": "stream",
     "text": [
      "\r",
      "MP SparVar Pipeline from DB:  92%|███████████████████████████████████████████████████████████████████████████████████████████████████████████████████████████████████████████████▏            | 4590/5000 [01:28<00:07, 53.73it/s]"
     ]
    },
    {
     "name": "stderr",
     "output_type": "stream",
     "text": [
      "\r",
      "MP SparVar Pipeline from DB:  92%|███████████████████████████████████████████████████████████████████████████████████████████████████████████████████████████████████████████████▌            | 4600/5000 [01:28<00:07, 55.20it/s]"
     ]
    },
    {
     "name": "stderr",
     "output_type": "stream",
     "text": [
      "\r",
      "MP SparVar Pipeline from DB:  92%|███████████████████████████████████████████████████████████████████████████████████████████████████████████████████████████████████████████████▊            | 4610/5000 [01:28<00:06, 60.32it/s]"
     ]
    },
    {
     "name": "stderr",
     "output_type": "stream",
     "text": [
      "\r",
      "MP SparVar Pipeline from DB:  92%|████████████████████████████████████████████████████████████████████████████████████████████████████████████████████████████████████████████████▏           | 4620/5000 [01:29<00:07, 53.68it/s]"
     ]
    },
    {
     "name": "stderr",
     "output_type": "stream",
     "text": [
      "\r",
      "MP SparVar Pipeline from DB:  93%|████████████████████████████████████████████████████████████████████████████████████████████████████████████████████████████████████████████████▍           | 4630/5000 [01:29<00:06, 54.16it/s]"
     ]
    },
    {
     "name": "stderr",
     "output_type": "stream",
     "text": [
      "\r",
      "MP SparVar Pipeline from DB:  93%|████████████████████████████████████████████████████████████████████████████████████████████████████████████████████████████████████████████████▊           | 4640/5000 [01:29<00:06, 51.74it/s]"
     ]
    },
    {
     "name": "stderr",
     "output_type": "stream",
     "text": [
      "\r",
      "MP SparVar Pipeline from DB:  93%|█████████████████████████████████████████████████████████████████████████████████████████████████████████████████████████████████████████████████           | 4650/5000 [01:29<00:06, 54.19it/s]"
     ]
    },
    {
     "name": "stderr",
     "output_type": "stream",
     "text": [
      "\r",
      "MP SparVar Pipeline from DB:  93%|█████████████████████████████████████████████████████████████████████████████████████████████████████████████████████████████████████████████████▍          | 4660/5000 [01:29<00:06, 56.58it/s]"
     ]
    },
    {
     "name": "stderr",
     "output_type": "stream",
     "text": [
      "\r",
      "MP SparVar Pipeline from DB:  93%|█████████████████████████████████████████████████████████████████████████████████████████████████████████████████████████████████████████████████▋          | 4670/5000 [01:30<00:06, 49.50it/s]"
     ]
    },
    {
     "name": "stderr",
     "output_type": "stream",
     "text": [
      "\r",
      "MP SparVar Pipeline from DB:  94%|██████████████████████████████████████████████████████████████████████████████████████████████████████████████████████████████████████████████████          | 4680/5000 [01:30<00:06, 51.05it/s]"
     ]
    },
    {
     "name": "stderr",
     "output_type": "stream",
     "text": [
      "\r",
      "MP SparVar Pipeline from DB:  94%|██████████████████████████████████████████████████████████████████████████████████████████████████████████████████████████████████████████████████▎         | 4690/5000 [01:30<00:05, 56.10it/s]"
     ]
    },
    {
     "name": "stderr",
     "output_type": "stream",
     "text": [
      "\r",
      "MP SparVar Pipeline from DB:  94%|██████████████████████████████████████████████████████████████████████████████████████████████████████████████████████████████████████████████████▋         | 4700/5000 [01:30<00:05, 51.30it/s]"
     ]
    },
    {
     "name": "stderr",
     "output_type": "stream",
     "text": [
      "\r",
      "MP SparVar Pipeline from DB:  94%|██████████████████████████████████████████████████████████████████████████████████████████████████████████████████████████████████████████████████▉         | 4710/5000 [01:30<00:05, 55.42it/s]"
     ]
    },
    {
     "name": "stderr",
     "output_type": "stream",
     "text": [
      "\r",
      "MP SparVar Pipeline from DB:  94%|███████████████████████████████████████████████████████████████████████████████████████████████████████████████████████████████████████████████████▎        | 4720/5000 [01:30<00:05, 53.95it/s]"
     ]
    },
    {
     "name": "stderr",
     "output_type": "stream",
     "text": [
      "\r",
      "MP SparVar Pipeline from DB:  95%|███████████████████████████████████████████████████████████████████████████████████████████████████████████████████████████████████████████████████▌        | 4730/5000 [01:31<00:04, 54.34it/s]"
     ]
    },
    {
     "name": "stderr",
     "output_type": "stream",
     "text": [
      "\r",
      "MP SparVar Pipeline from DB:  95%|███████████████████████████████████████████████████████████████████████████████████████████████████████████████████████████████████████████████████▉        | 4740/5000 [01:31<00:05, 51.94it/s]"
     ]
    },
    {
     "name": "stderr",
     "output_type": "stream",
     "text": [
      "\r",
      "MP SparVar Pipeline from DB:  95%|████████████████████████████████████████████████████████████████████████████████████████████████████████████████████████████████████████████████████▏       | 4750/5000 [01:31<00:04, 52.25it/s]"
     ]
    },
    {
     "name": "stderr",
     "output_type": "stream",
     "text": [
      "\r",
      "MP SparVar Pipeline from DB:  95%|████████████████████████████████████████████████████████████████████████████████████████████████████████████████████████████████████████████████████▌       | 4760/5000 [01:31<00:04, 49.50it/s]"
     ]
    },
    {
     "name": "stderr",
     "output_type": "stream",
     "text": [
      "\r",
      "MP SparVar Pipeline from DB:  95%|████████████████████████████████████████████████████████████████████████████████████████████████████████████████████████████████████████████████████▊       | 4770/5000 [01:31<00:04, 51.02it/s]"
     ]
    },
    {
     "name": "stderr",
     "output_type": "stream",
     "text": [
      "\r",
      "MP SparVar Pipeline from DB:  96%|█████████████████████████████████████████████████████████████████████████████████████████████████████████████████████████████████████████████████████▏      | 4780/5000 [01:32<00:04, 51.44it/s]"
     ]
    },
    {
     "name": "stderr",
     "output_type": "stream",
     "text": [
      "\r",
      "MP SparVar Pipeline from DB:  96%|█████████████████████████████████████████████████████████████████████████████████████████████████████████████████████████████████████████████████████▍      | 4790/5000 [01:32<00:03, 55.31it/s]"
     ]
    },
    {
     "name": "stderr",
     "output_type": "stream",
     "text": [
      "\r",
      "MP SparVar Pipeline from DB:  96%|█████████████████████████████████████████████████████████████████████████████████████████████████████████████████████████████████████████████████████▊      | 4800/5000 [01:32<00:03, 51.51it/s]"
     ]
    },
    {
     "name": "stderr",
     "output_type": "stream",
     "text": [
      "\r",
      "MP SparVar Pipeline from DB:  96%|██████████████████████████████████████████████████████████████████████████████████████████████████████████████████████████████████████████████████████      | 4810/5000 [01:32<00:03, 54.46it/s]"
     ]
    },
    {
     "name": "stderr",
     "output_type": "stream",
     "text": [
      "\r",
      "MP SparVar Pipeline from DB:  96%|██████████████████████████████████████████████████████████████████████████████████████████████████████████████████████████████████████████████████████▍     | 4820/5000 [01:32<00:03, 51.31it/s]"
     ]
    },
    {
     "name": "stderr",
     "output_type": "stream",
     "text": [
      "\r",
      "MP SparVar Pipeline from DB:  97%|██████████████████████████████████████████████████████████████████████████████████████████████████████████████████████████████████████████████████████▋     | 4830/5000 [01:33<00:03, 50.10it/s]"
     ]
    },
    {
     "name": "stderr",
     "output_type": "stream",
     "text": [
      "\r",
      "MP SparVar Pipeline from DB:  97%|███████████████████████████████████████████████████████████████████████████████████████████████████████████████████████████████████████████████████████     | 4840/5000 [01:33<00:03, 51.45it/s]"
     ]
    },
    {
     "name": "stderr",
     "output_type": "stream",
     "text": [
      "\r",
      "MP SparVar Pipeline from DB:  97%|███████████████████████████████████████████████████████████████████████████████████████████████████████████████████████████████████████████████████████▎    | 4850/5000 [01:33<00:02, 52.30it/s]"
     ]
    },
    {
     "name": "stderr",
     "output_type": "stream",
     "text": [
      "\r",
      "MP SparVar Pipeline from DB:  97%|███████████████████████████████████████████████████████████████████████████████████████████████████████████████████████████████████████████████████████▋    | 4860/5000 [01:33<00:02, 50.82it/s]"
     ]
    },
    {
     "name": "stderr",
     "output_type": "stream",
     "text": [
      "\r",
      "MP SparVar Pipeline from DB:  97%|███████████████████████████████████████████████████████████████████████████████████████████████████████████████████████████████████████████████████████▉    | 4870/5000 [01:33<00:02, 48.51it/s]"
     ]
    },
    {
     "name": "stderr",
     "output_type": "stream",
     "text": [
      "\r",
      "MP SparVar Pipeline from DB:  98%|████████████████████████████████████████████████████████████████████████████████████████████████████████████████████████████████████████████████████████▎   | 4880/5000 [01:34<00:02, 50.66it/s]"
     ]
    },
    {
     "name": "stderr",
     "output_type": "stream",
     "text": [
      "\r",
      "MP SparVar Pipeline from DB:  98%|████████████████████████████████████████████████████████████████████████████████████████████████████████████████████████████████████████████████████████▌   | 4890/5000 [01:34<00:02, 50.97it/s]"
     ]
    },
    {
     "name": "stderr",
     "output_type": "stream",
     "text": [
      "\r",
      "MP SparVar Pipeline from DB:  98%|████████████████████████████████████████████████████████████████████████████████████████████████████████████████████████████████████████████████████████▉   | 4900/5000 [01:34<00:02, 47.87it/s]"
     ]
    },
    {
     "name": "stderr",
     "output_type": "stream",
     "text": [
      "\r",
      "MP SparVar Pipeline from DB:  98%|█████████████████████████████████████████████████████████████████████████████████████████████████████████████████████████████████████████████████████████▏  | 4910/5000 [01:34<00:01, 52.63it/s]"
     ]
    },
    {
     "name": "stderr",
     "output_type": "stream",
     "text": [
      "\r",
      "MP SparVar Pipeline from DB:  98%|█████████████████████████████████████████████████████████████████████████████████████████████████████████████████████████████████████████████████████████▌  | 4920/5000 [01:34<00:01, 49.45it/s]"
     ]
    },
    {
     "name": "stderr",
     "output_type": "stream",
     "text": [
      "\r",
      "MP SparVar Pipeline from DB:  99%|█████████████████████████████████████████████████████████████████████████████████████████████████████████████████████████████████████████████████████████▊  | 4930/5000 [01:35<00:01, 52.67it/s]"
     ]
    },
    {
     "name": "stderr",
     "output_type": "stream",
     "text": [
      "\r",
      "MP SparVar Pipeline from DB:  99%|██████████████████████████████████████████████████████████████████████████████████████████████████████████████████████████████████████████████████████████▏ | 4940/5000 [01:35<00:01, 50.40it/s]"
     ]
    },
    {
     "name": "stderr",
     "output_type": "stream",
     "text": [
      "\r",
      "MP SparVar Pipeline from DB:  99%|██████████████████████████████████████████████████████████████████████████████████████████████████████████████████████████████████████████████████████████▍ | 4950/5000 [01:35<00:01, 49.06it/s]"
     ]
    },
    {
     "name": "stderr",
     "output_type": "stream",
     "text": [
      "\r",
      "MP SparVar Pipeline from DB:  99%|██████████████████████████████████████████████████████████████████████████████████████████████████████████████████████████████████████████████████████████▊ | 4960/5000 [01:35<00:00, 53.03it/s]"
     ]
    },
    {
     "name": "stderr",
     "output_type": "stream",
     "text": [
      "\r",
      "MP SparVar Pipeline from DB:  99%|███████████████████████████████████████████████████████████████████████████████████████████████████████████████████████████████████████████████████████████ | 4970/5000 [01:35<00:00, 50.75it/s]"
     ]
    },
    {
     "name": "stderr",
     "output_type": "stream",
     "text": [
      "\r",
      "MP SparVar Pipeline from DB: 100%|███████████████████████████████████████████████████████████████████████████████████████████████████████████████████████████████████████████████████████████▍| 4980/5000 [01:36<00:00, 46.47it/s]"
     ]
    },
    {
     "name": "stderr",
     "output_type": "stream",
     "text": [
      "\r",
      "MP SparVar Pipeline from DB: 100%|███████████████████████████████████████████████████████████████████████████████████████████████████████████████████████████████████████████████████████████▋| 4990/5000 [01:36<00:00, 46.31it/s]"
     ]
    },
    {
     "name": "stderr",
     "output_type": "stream",
     "text": [
      "\r",
      "MP SparVar Pipeline from DB: 100%|████████████████████████████████████████████████████████████████████████████████████████████████████████████████████████████████████████████████████████████| 5000/5000 [01:36<00:00, 50.43it/s]"
     ]
    },
    {
     "name": "stderr",
     "output_type": "stream",
     "text": [
      "\r",
      "MP SparVar Pipeline from DB: 100%|████████████████████████████████████████████████████████████████████████████████████████████████████████████████████████████████████████████████████████████| 5000/5000 [01:36<00:00, 51.83it/s]"
     ]
    },
    {
     "name": "stderr",
     "output_type": "stream",
     "text": [
      "\n"
     ]
    }
   ],
   "source": [
    "# Pipeline parameters\n",
    "NB_CORES = 10\n",
    "MAX_SPARSITY = 10\n",
    "\n",
    "# Run pipeline\n",
    "today = get_today_date_str()\n",
    "output_omp_db = f'/home/gomes/synthetic-data/{today}-mp-{batchSize}.json'\n",
    "dictionary.mpSparVarPipelineFromDB(input_signals_db, output_omp_db, nb_cores=NB_CORES, max_sparsity=MAX_SPARSITY, verbose=False)"
   ]
  }
 ],
 "metadata": {
  "kernelspec": {
   "display_name": "phlamesenv",
   "language": "python",
   "name": "python3"
  },
  "language_info": {
   "codemirror_mode": {
    "name": "ipython",
    "version": 3
   },
   "file_extension": ".py",
   "mimetype": "text/x-python",
   "name": "python",
   "nbconvert_exporter": "python",
   "pygments_lexer": "ipython3",
   "version": "3.11.2"
  },
  "papermill": {
   "default_parameters": {},
   "duration": 107.228055,
   "end_time": "2024-07-23T15:51:44.413839",
   "environment_variables": {},
   "exception": null,
   "input_path": "buildMPSparVar.ipynb",
   "output_path": "out_build_db_mpsv.ipynb",
   "parameters": {},
   "start_time": "2024-07-23T15:49:57.185784",
   "version": "2.6.0"
  }
 },
 "nbformat": 4,
 "nbformat_minor": 5
}