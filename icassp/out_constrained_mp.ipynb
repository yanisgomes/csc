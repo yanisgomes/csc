{
 "cells": [
  {
   "cell_type": "markdown",
   "id": "d876eaa4",
   "metadata": {
    "papermill": {
     "duration": 0.007498,
     "end_time": "2024-07-24T12:45:17.953485",
     "exception": false,
     "start_time": "2024-07-24T12:45:17.945987",
     "status": "completed"
    },
    "tags": []
   },
   "source": [
    "# Build SparVar MP Database"
   ]
  },
  {
   "cell_type": "code",
   "execution_count": 1,
   "id": "1e475a3f",
   "metadata": {
    "execution": {
     "iopub.execute_input": "2024-07-24T12:45:17.983530Z",
     "iopub.status.busy": "2024-07-24T12:45:17.982494Z",
     "iopub.status.idle": "2024-07-24T12:45:29.531638Z",
     "shell.execute_reply": "2024-07-24T12:45:29.529037Z"
    },
    "papermill": {
     "duration": 11.564742,
     "end_time": "2024-07-24T12:45:29.536999",
     "exception": false,
     "start_time": "2024-07-24T12:45:17.972257",
     "status": "completed"
    },
    "tags": []
   },
   "outputs": [
    {
     "name": "stdout",
     "output_type": "stream",
     "text": [
      "The dictionary has 143 different atoms\n"
     ]
    }
   ],
   "source": [
    "import numpy as np\n",
    "from csc.utils import *\n",
    "from csc.atoms import *\n",
    "from csc.dictionary import *\n",
    "from itertools import product\n",
    "import matplotlib.pyplot as plt\n",
    "\n",
    "# Atom parameters\n",
    "bmin = 0.005\n",
    "bmax = 0.06\n",
    "b_step = 0.005\n",
    "b_values = np.arange(bmin, bmax, b_step)\n",
    "\n",
    "ymin = 0.010\n",
    "ymax = 0.036\n",
    "y_step = 0.002\n",
    "y_values = np.arange(ymin, ymax, y_step)\n",
    "\n",
    "s_values = [1]\n",
    "\n",
    "dictionary = ZSDictionary.from_values(b_values, y_values, s_values)\n",
    "print('The dictionary has {} different atoms'.format(len(dictionary)))"
   ]
  },
  {
   "cell_type": "markdown",
   "id": "edb8176f",
   "metadata": {
    "papermill": {
     "duration": 0.005891,
     "end_time": "2024-07-24T12:45:29.562993",
     "exception": false,
     "start_time": "2024-07-24T12:45:29.557102",
     "status": "completed"
    },
    "tags": []
   },
   "source": [
    "## Build sparsity variation database\n",
    "\n",
    "#### Format :\n",
    "````\n",
    "'source' = input_filename\n",
    "'date' = get_today_date_str()\n",
    "'algorithm' = 'Convolutional OMP'\n",
    "'batchSize' = data['batchSize']\n",
    "'snrLevels' = data['snrLevels']\n",
    "'signalLength' = data['signalLength']\n",
    "'sparsityLevels' = data['sparsityLevels']\n",
    "'dictionary' = str(self)\n",
    "'mp' : \n",
    "    [\n",
    "        {\n",
    "            'id' : 0,\n",
    "            'snr' : snr,\n",
    "            'results' : [\n",
    "                {\n",
    "                    'mse' : #MSE,\n",
    "                    'delay' : #DELAY,\n",
    "                    'atoms' : [\n",
    "                        {'x':x, 'b':b, 'y':y, 's':s}\n",
    "                        #1\n",
    "                    ]\n",
    "                },\n",
    "                ...\n",
    "                {\n",
    "                    'mse' : #MSE,\n",
    "                    'delay' : #DELAY,\n",
    "                    'atoms' : [\n",
    "                        {'x':x, 'b':b, 'y':y, 's':s}\n",
    "                        #max_sparsity\n",
    "                    ]\n",
    "                }\n",
    "                ]\n",
    "        },\n",
    "        {\n",
    "            'id' : 1,\n",
    "            ...\n",
    "        },\n",
    "\n",
    "        ...\n",
    "\n",
    "    ]\n",
    "````"
   ]
  },
  {
   "cell_type": "code",
   "execution_count": 2,
   "id": "5ec8b58b",
   "metadata": {
    "execution": {
     "iopub.execute_input": "2024-07-24T12:45:29.591610Z",
     "iopub.status.busy": "2024-07-24T12:45:29.589533Z",
     "iopub.status.idle": "2024-07-24T12:45:29.598726Z",
     "shell.execute_reply": "2024-07-24T12:45:29.597348Z"
    },
    "papermill": {
     "duration": 0.033446,
     "end_time": "2024-07-24T12:45:29.601900",
     "exception": false,
     "start_time": "2024-07-24T12:45:29.568454",
     "status": "completed"
    },
    "tags": []
   },
   "outputs": [],
   "source": [
    "batchSize = 200\n",
    "input_signals_db = f'/home/gomes/synthetic-data/constrained-signals-{batchSize}.json'"
   ]
  },
  {
   "cell_type": "code",
   "execution_count": 3,
   "id": "22cd20aa",
   "metadata": {
    "execution": {
     "iopub.execute_input": "2024-07-24T12:45:29.630971Z",
     "iopub.status.busy": "2024-07-24T12:45:29.629678Z"
    },
    "papermill": {
     "duration": null,
     "end_time": null,
     "exception": false,
     "start_time": "2024-07-24T12:45:29.621221",
     "status": "running"
    },
    "tags": []
   },
   "outputs": [
    {
     "name": "stderr",
     "output_type": "stream",
     "text": [
      "\r",
      "MP SparVar Pipeline from DB:   0%|                                                                                                                                                                       | 0/3200 [00:00<?, ?it/s]"
     ]
    },
    {
     "name": "stderr",
     "output_type": "stream",
     "text": [
      "\r",
      "MP SparVar Pipeline from DB:   0%|                                                                                                                                                               | 1/3200 [00:00<07:08,  7.47it/s]"
     ]
    },
    {
     "name": "stderr",
     "output_type": "stream",
     "text": [
      "\r",
      "MP SparVar Pipeline from DB:   0%|▍                                                                                                                                                             | 10/3200 [00:00<05:10, 10.29it/s]"
     ]
    },
    {
     "name": "stderr",
     "output_type": "stream",
     "text": [
      "\r",
      "MP SparVar Pipeline from DB:   1%|▉                                                                                                                                                             | 20/3200 [00:12<38:56,  1.36it/s]"
     ]
    },
    {
     "name": "stderr",
     "output_type": "stream",
     "text": [
      "\r",
      "MP SparVar Pipeline from DB:   1%|█▍                                                                                                                                                            | 30/3200 [00:17<32:10,  1.64it/s]"
     ]
    },
    {
     "name": "stderr",
     "output_type": "stream",
     "text": [
      "\r",
      "MP SparVar Pipeline from DB:   1%|█▉                                                                                                                                                            | 40/3200 [00:19<24:23,  2.16it/s]"
     ]
    },
    {
     "name": "stderr",
     "output_type": "stream",
     "text": [
      "\r",
      "MP SparVar Pipeline from DB:   2%|██▍                                                                                                                                                           | 50/3200 [00:21<18:30,  2.84it/s]"
     ]
    },
    {
     "name": "stderr",
     "output_type": "stream",
     "text": [
      "\r",
      "MP SparVar Pipeline from DB:   2%|██▉                                                                                                                                                           | 60/3200 [00:24<17:13,  3.04it/s]"
     ]
    },
    {
     "name": "stderr",
     "output_type": "stream",
     "text": [
      "\r",
      "MP SparVar Pipeline from DB:   2%|███▍                                                                                                                                                          | 70/3200 [00:26<15:45,  3.31it/s]"
     ]
    },
    {
     "name": "stderr",
     "output_type": "stream",
     "text": [
      "\r",
      "MP SparVar Pipeline from DB:   2%|███▉                                                                                                                                                          | 80/3200 [00:28<14:01,  3.71it/s]"
     ]
    },
    {
     "name": "stderr",
     "output_type": "stream",
     "text": [
      "\r",
      "MP SparVar Pipeline from DB:   3%|████▍                                                                                                                                                         | 90/3200 [00:30<13:17,  3.90it/s]"
     ]
    },
    {
     "name": "stderr",
     "output_type": "stream",
     "text": [
      "\r",
      "MP SparVar Pipeline from DB:   3%|████▉                                                                                                                                                        | 100/3200 [00:33<12:47,  4.04it/s]"
     ]
    },
    {
     "name": "stderr",
     "output_type": "stream",
     "text": [
      "\r",
      "MP SparVar Pipeline from DB:   3%|█████▍                                                                                                                                                       | 110/3200 [00:35<12:36,  4.08it/s]"
     ]
    },
    {
     "name": "stderr",
     "output_type": "stream",
     "text": [
      "\r",
      "MP SparVar Pipeline from DB:   4%|█████▉                                                                                                                                                       | 120/3200 [00:37<12:14,  4.19it/s]"
     ]
    },
    {
     "name": "stderr",
     "output_type": "stream",
     "text": [
      "\r",
      "MP SparVar Pipeline from DB:   4%|██████▍                                                                                                                                                      | 130/3200 [00:39<12:00,  4.26it/s]"
     ]
    },
    {
     "name": "stderr",
     "output_type": "stream",
     "text": [
      "\r",
      "MP SparVar Pipeline from DB:   4%|██████▊                                                                                                                                                      | 140/3200 [00:41<11:22,  4.48it/s]"
     ]
    },
    {
     "name": "stderr",
     "output_type": "stream",
     "text": [
      "\r",
      "MP SparVar Pipeline from DB:   5%|███████▎                                                                                                                                                     | 150/3200 [00:43<10:44,  4.73it/s]"
     ]
    },
    {
     "name": "stderr",
     "output_type": "stream",
     "text": [
      "\r",
      "MP SparVar Pipeline from DB:   5%|███████▊                                                                                                                                                     | 160/3200 [00:46<11:57,  4.24it/s]"
     ]
    },
    {
     "name": "stderr",
     "output_type": "stream",
     "text": [
      "\r",
      "MP SparVar Pipeline from DB:   5%|████████▎                                                                                                                                                    | 170/3200 [00:48<11:17,  4.47it/s]"
     ]
    },
    {
     "name": "stderr",
     "output_type": "stream",
     "text": [
      "\r",
      "MP SparVar Pipeline from DB:   6%|████████▊                                                                                                                                                    | 180/3200 [00:51<11:44,  4.29it/s]"
     ]
    },
    {
     "name": "stderr",
     "output_type": "stream",
     "text": [
      "\r",
      "MP SparVar Pipeline from DB:   6%|█████████▎                                                                                                                                                   | 190/3200 [00:53<10:53,  4.60it/s]"
     ]
    },
    {
     "name": "stderr",
     "output_type": "stream",
     "text": [
      "\r",
      "MP SparVar Pipeline from DB:   6%|█████████▊                                                                                                                                                   | 200/3200 [00:55<11:40,  4.28it/s]"
     ]
    },
    {
     "name": "stderr",
     "output_type": "stream",
     "text": [
      "\r",
      "MP SparVar Pipeline from DB:   7%|██████████▎                                                                                                                                                  | 210/3200 [00:58<11:54,  4.18it/s]"
     ]
    },
    {
     "name": "stderr",
     "output_type": "stream",
     "text": [
      "\r",
      "MP SparVar Pipeline from DB:   7%|██████████▊                                                                                                                                                  | 220/3200 [01:00<11:19,  4.39it/s]"
     ]
    },
    {
     "name": "stderr",
     "output_type": "stream",
     "text": [
      "\r",
      "MP SparVar Pipeline from DB:   7%|███████████▎                                                                                                                                                 | 230/3200 [01:02<11:39,  4.24it/s]"
     ]
    },
    {
     "name": "stderr",
     "output_type": "stream",
     "text": [
      "\r",
      "MP SparVar Pipeline from DB:   8%|███████████▊                                                                                                                                                 | 240/3200 [01:04<10:52,  4.54it/s]"
     ]
    },
    {
     "name": "stderr",
     "output_type": "stream",
     "text": [
      "\r",
      "MP SparVar Pipeline from DB:   8%|████████████▎                                                                                                                                                | 250/3200 [01:07<11:14,  4.37it/s]"
     ]
    },
    {
     "name": "stderr",
     "output_type": "stream",
     "text": [
      "\r",
      "MP SparVar Pipeline from DB:   8%|████████████▊                                                                                                                                                | 260/3200 [01:09<11:59,  4.09it/s]"
     ]
    },
    {
     "name": "stderr",
     "output_type": "stream",
     "text": [
      "\r",
      "MP SparVar Pipeline from DB:   8%|█████████████▏                                                                                                                                               | 270/3200 [01:12<12:41,  3.85it/s]"
     ]
    },
    {
     "name": "stderr",
     "output_type": "stream",
     "text": [
      "\r",
      "MP SparVar Pipeline from DB:   9%|█████████████▋                                                                                                                                               | 280/3200 [01:14<11:43,  4.15it/s]"
     ]
    },
    {
     "name": "stderr",
     "output_type": "stream",
     "text": [
      "\r",
      "MP SparVar Pipeline from DB:   9%|██████████████▏                                                                                                                                              | 290/3200 [01:17<11:19,  4.28it/s]"
     ]
    },
    {
     "name": "stderr",
     "output_type": "stream",
     "text": [
      "\r",
      "MP SparVar Pipeline from DB:   9%|██████████████▋                                                                                                                                              | 300/3200 [01:19<10:50,  4.46it/s]"
     ]
    },
    {
     "name": "stderr",
     "output_type": "stream",
     "text": [
      "\r",
      "MP SparVar Pipeline from DB:  10%|███████████████▏                                                                                                                                             | 310/3200 [01:22<12:07,  3.97it/s]"
     ]
    },
    {
     "name": "stderr",
     "output_type": "stream",
     "text": [
      "\r",
      "MP SparVar Pipeline from DB:  10%|███████████████▋                                                                                                                                             | 320/3200 [01:24<11:34,  4.15it/s]"
     ]
    },
    {
     "name": "stderr",
     "output_type": "stream",
     "text": [
      "\r",
      "MP SparVar Pipeline from DB:  10%|████████████████▏                                                                                                                                            | 330/3200 [01:26<11:32,  4.14it/s]"
     ]
    },
    {
     "name": "stderr",
     "output_type": "stream",
     "text": [
      "\r",
      "MP SparVar Pipeline from DB:  11%|████████████████▋                                                                                                                                            | 340/3200 [01:29<11:50,  4.03it/s]"
     ]
    },
    {
     "name": "stderr",
     "output_type": "stream",
     "text": [
      "\r",
      "MP SparVar Pipeline from DB:  11%|█████████████████▏                                                                                                                                           | 350/3200 [01:32<12:05,  3.93it/s]"
     ]
    },
    {
     "name": "stderr",
     "output_type": "stream",
     "text": [
      "\r",
      "MP SparVar Pipeline from DB:  11%|█████████████████▋                                                                                                                                           | 360/3200 [01:34<11:55,  3.97it/s]"
     ]
    },
    {
     "name": "stderr",
     "output_type": "stream",
     "text": [
      "\r",
      "MP SparVar Pipeline from DB:  12%|██████████████████▏                                                                                                                                          | 370/3200 [01:37<11:55,  3.96it/s]"
     ]
    },
    {
     "name": "stderr",
     "output_type": "stream",
     "text": [
      "\r",
      "MP SparVar Pipeline from DB:  12%|██████████████████▋                                                                                                                                          | 380/3200 [01:39<11:03,  4.25it/s]"
     ]
    },
    {
     "name": "stderr",
     "output_type": "stream",
     "text": [
      "\r",
      "MP SparVar Pipeline from DB:  12%|███████████████████▏                                                                                                                                         | 390/3200 [01:40<10:10,  4.61it/s]"
     ]
    },
    {
     "name": "stderr",
     "output_type": "stream",
     "text": [
      "\r",
      "MP SparVar Pipeline from DB:  12%|███████████████████▋                                                                                                                                         | 400/3200 [01:42<09:53,  4.72it/s]"
     ]
    },
    {
     "name": "stderr",
     "output_type": "stream",
     "text": [
      "\r",
      "MP SparVar Pipeline from DB:  13%|████████████████████                                                                                                                                         | 410/3200 [01:45<09:57,  4.67it/s]"
     ]
    },
    {
     "name": "stderr",
     "output_type": "stream",
     "text": [
      "\r",
      "MP SparVar Pipeline from DB:  13%|████████████████████▌                                                                                                                                        | 420/3200 [01:46<09:00,  5.15it/s]"
     ]
    },
    {
     "name": "stderr",
     "output_type": "stream",
     "text": [
      "\r",
      "MP SparVar Pipeline from DB:  13%|█████████████████████                                                                                                                                        | 430/3200 [01:48<09:02,  5.10it/s]"
     ]
    },
    {
     "name": "stderr",
     "output_type": "stream",
     "text": [
      "\r",
      "MP SparVar Pipeline from DB:  14%|█████████████████████▌                                                                                                                                       | 440/3200 [01:50<09:22,  4.91it/s]"
     ]
    },
    {
     "name": "stderr",
     "output_type": "stream",
     "text": [
      "\r",
      "MP SparVar Pipeline from DB:  14%|██████████████████████                                                                                                                                       | 450/3200 [01:53<10:05,  4.54it/s]"
     ]
    },
    {
     "name": "stderr",
     "output_type": "stream",
     "text": [
      "\r",
      "MP SparVar Pipeline from DB:  14%|██████████████████████▌                                                                                                                                      | 460/3200 [01:55<10:37,  4.30it/s]"
     ]
    },
    {
     "name": "stderr",
     "output_type": "stream",
     "text": [
      "\r",
      "MP SparVar Pipeline from DB:  15%|███████████████████████                                                                                                                                      | 470/3200 [01:59<11:47,  3.86it/s]"
     ]
    },
    {
     "name": "stderr",
     "output_type": "stream",
     "text": [
      "\r",
      "MP SparVar Pipeline from DB:  15%|███████████████████████▌                                                                                                                                     | 480/3200 [02:01<11:09,  4.06it/s]"
     ]
    },
    {
     "name": "stderr",
     "output_type": "stream",
     "text": [
      "\r",
      "MP SparVar Pipeline from DB:  15%|████████████████████████                                                                                                                                     | 490/3200 [02:03<10:43,  4.21it/s]"
     ]
    },
    {
     "name": "stderr",
     "output_type": "stream",
     "text": [
      "\r",
      "MP SparVar Pipeline from DB:  16%|████████████████████████▌                                                                                                                                    | 500/3200 [02:05<10:33,  4.26it/s]"
     ]
    },
    {
     "name": "stderr",
     "output_type": "stream",
     "text": [
      "\r",
      "MP SparVar Pipeline from DB:  16%|█████████████████████████                                                                                                                                    | 510/3200 [02:08<10:24,  4.31it/s]"
     ]
    },
    {
     "name": "stderr",
     "output_type": "stream",
     "text": [
      "\r",
      "MP SparVar Pipeline from DB:  16%|█████████████████████████▌                                                                                                                                   | 520/3200 [02:10<10:21,  4.31it/s]"
     ]
    },
    {
     "name": "stderr",
     "output_type": "stream",
     "text": [
      "\r",
      "MP SparVar Pipeline from DB:  17%|██████████████████████████                                                                                                                                   | 530/3200 [02:12<09:47,  4.55it/s]"
     ]
    },
    {
     "name": "stderr",
     "output_type": "stream",
     "text": [
      "\r",
      "MP SparVar Pipeline from DB:  17%|██████████████████████████▍                                                                                                                                  | 540/3200 [02:13<08:30,  5.21it/s]"
     ]
    },
    {
     "name": "stderr",
     "output_type": "stream",
     "text": [
      "\r",
      "MP SparVar Pipeline from DB:  17%|██████████████████████████▉                                                                                                                                  | 550/3200 [02:15<08:19,  5.31it/s]"
     ]
    },
    {
     "name": "stderr",
     "output_type": "stream",
     "text": [
      "\r",
      "MP SparVar Pipeline from DB:  18%|███████████████████████████▍                                                                                                                                 | 560/3200 [02:17<08:12,  5.36it/s]"
     ]
    },
    {
     "name": "stderr",
     "output_type": "stream",
     "text": [
      "\r",
      "MP SparVar Pipeline from DB:  18%|███████████████████████████▉                                                                                                                                 | 570/3200 [02:18<07:43,  5.68it/s]"
     ]
    },
    {
     "name": "stderr",
     "output_type": "stream",
     "text": [
      "\r",
      "MP SparVar Pipeline from DB:  18%|████████████████████████████▍                                                                                                                                | 580/3200 [02:21<08:51,  4.92it/s]"
     ]
    },
    {
     "name": "stderr",
     "output_type": "stream",
     "text": [
      "\r",
      "MP SparVar Pipeline from DB:  18%|████████████████████████████▉                                                                                                                                | 590/3200 [02:23<08:23,  5.18it/s]"
     ]
    },
    {
     "name": "stderr",
     "output_type": "stream",
     "text": [
      "\r",
      "MP SparVar Pipeline from DB:  19%|█████████████████████████████▍                                                                                                                               | 600/3200 [02:24<07:35,  5.71it/s]"
     ]
    },
    {
     "name": "stderr",
     "output_type": "stream",
     "text": [
      "\r",
      "MP SparVar Pipeline from DB:  19%|█████████████████████████████▉                                                                                                                               | 610/3200 [02:26<07:44,  5.57it/s]"
     ]
    },
    {
     "name": "stderr",
     "output_type": "stream",
     "text": [
      "\r",
      "MP SparVar Pipeline from DB:  19%|██████████████████████████████▍                                                                                                                              | 620/3200 [02:27<07:30,  5.73it/s]"
     ]
    },
    {
     "name": "stderr",
     "output_type": "stream",
     "text": [
      "\r",
      "MP SparVar Pipeline from DB:  20%|██████████████████████████████▉                                                                                                                              | 630/3200 [02:29<07:27,  5.75it/s]"
     ]
    },
    {
     "name": "stderr",
     "output_type": "stream",
     "text": [
      "\r",
      "MP SparVar Pipeline from DB:  20%|███████████████████████████████▍                                                                                                                             | 640/3200 [02:31<07:25,  5.75it/s]"
     ]
    },
    {
     "name": "stderr",
     "output_type": "stream",
     "text": [
      "\r",
      "MP SparVar Pipeline from DB:  20%|███████████████████████████████▉                                                                                                                             | 650/3200 [02:33<08:07,  5.23it/s]"
     ]
    },
    {
     "name": "stderr",
     "output_type": "stream",
     "text": [
      "\r",
      "MP SparVar Pipeline from DB:  21%|████████████████████████████████▍                                                                                                                            | 660/3200 [02:35<07:38,  5.54it/s]"
     ]
    },
    {
     "name": "stderr",
     "output_type": "stream",
     "text": [
      "\r",
      "MP SparVar Pipeline from DB:  21%|████████████████████████████████▊                                                                                                                            | 670/3200 [02:36<07:32,  5.59it/s]"
     ]
    },
    {
     "name": "stderr",
     "output_type": "stream",
     "text": [
      "\r",
      "MP SparVar Pipeline from DB:  21%|█████████████████████████████████▎                                                                                                                           | 680/3200 [02:39<08:33,  4.90it/s]"
     ]
    },
    {
     "name": "stderr",
     "output_type": "stream",
     "text": [
      "\r",
      "MP SparVar Pipeline from DB:  22%|█████████████████████████████████▊                                                                                                                           | 690/3200 [02:41<08:28,  4.93it/s]"
     ]
    },
    {
     "name": "stderr",
     "output_type": "stream",
     "text": [
      "\r",
      "MP SparVar Pipeline from DB:  22%|██████████████████████████████████▎                                                                                                                          | 700/3200 [02:43<08:03,  5.17it/s]"
     ]
    },
    {
     "name": "stderr",
     "output_type": "stream",
     "text": [
      "\r",
      "MP SparVar Pipeline from DB:  22%|██████████████████████████████████▊                                                                                                                          | 710/3200 [02:45<08:02,  5.16it/s]"
     ]
    },
    {
     "name": "stderr",
     "output_type": "stream",
     "text": [
      "\r",
      "MP SparVar Pipeline from DB:  22%|███████████████████████████████████▎                                                                                                                         | 720/3200 [02:47<08:11,  5.05it/s]"
     ]
    },
    {
     "name": "stderr",
     "output_type": "stream",
     "text": [
      "\r",
      "MP SparVar Pipeline from DB:  23%|███████████████████████████████████▊                                                                                                                         | 730/3200 [02:49<07:49,  5.26it/s]"
     ]
    },
    {
     "name": "stderr",
     "output_type": "stream",
     "text": [
      "\r",
      "MP SparVar Pipeline from DB:  23%|████████████████████████████████████▎                                                                                                                        | 740/3200 [02:51<07:57,  5.15it/s]"
     ]
    },
    {
     "name": "stderr",
     "output_type": "stream",
     "text": [
      "\r",
      "MP SparVar Pipeline from DB:  23%|████████████████████████████████████▊                                                                                                                        | 750/3200 [02:53<08:23,  4.87it/s]"
     ]
    },
    {
     "name": "stderr",
     "output_type": "stream",
     "text": [
      "\r",
      "MP SparVar Pipeline from DB:  24%|█████████████████████████████████████▎                                                                                                                       | 760/3200 [02:55<08:48,  4.62it/s]"
     ]
    },
    {
     "name": "stderr",
     "output_type": "stream",
     "text": [
      "\r",
      "MP SparVar Pipeline from DB:  24%|█████████████████████████████████████▊                                                                                                                       | 770/3200 [02:58<08:54,  4.54it/s]"
     ]
    },
    {
     "name": "stderr",
     "output_type": "stream",
     "text": [
      "\r",
      "MP SparVar Pipeline from DB:  24%|██████████████████████████████████████▎                                                                                                                      | 780/3200 [02:59<08:28,  4.76it/s]"
     ]
    },
    {
     "name": "stderr",
     "output_type": "stream",
     "text": [
      "\r",
      "MP SparVar Pipeline from DB:  25%|██████████████████████████████████████▊                                                                                                                      | 790/3200 [03:02<08:22,  4.79it/s]"
     ]
    },
    {
     "name": "stderr",
     "output_type": "stream",
     "text": [
      "\r",
      "MP SparVar Pipeline from DB:  25%|███████████████████████████████████████▎                                                                                                                     | 800/3200 [03:04<09:19,  4.29it/s]"
     ]
    }
   ],
   "source": [
    "# Pipeline parameters\n",
    "NB_CORES = 10\n",
    "MAX_SPARSITY = 10\n",
    "\n",
    "# Run pipeline\n",
    "today = get_today_date_str()\n",
    "output_mp_db = f'/home/gomes/synthetic-data/icassp-mp-{batchSize}.json'\n",
    "dictionary.mpSparVarPipelineFromDB(input_signals_db, output_mp_db, nb_cores=NB_CORES, max_sparsity=MAX_SPARSITY, verbose=False)"
   ]
  }
 ],
 "metadata": {
  "kernelspec": {
   "display_name": "phlamesenv",
   "language": "python",
   "name": "python3"
  },
  "language_info": {
   "codemirror_mode": {
    "name": "ipython",
    "version": 3
   },
   "file_extension": ".py",
   "mimetype": "text/x-python",
   "name": "python",
   "nbconvert_exporter": "python",
   "pygments_lexer": "ipython3",
   "version": "3.11.2"
  },
  "papermill": {
   "default_parameters": {},
   "duration": null,
   "end_time": null,
   "environment_variables": {},
   "exception": null,
   "input_path": "buildMPSparVar.ipynb",
   "output_path": "out_constrained_mp.ipynb",
   "parameters": {},
   "start_time": "2024-07-24T12:45:15.176253",
   "version": "2.6.0"
  }
 },
 "nbformat": 4,
 "nbformat_minor": 5
}