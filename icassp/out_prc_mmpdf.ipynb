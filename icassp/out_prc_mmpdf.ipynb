{
 "cells": [
  {
   "cell_type": "code",
   "execution_count": 1,
   "id": "1551e2dc",
   "metadata": {
    "execution": {
     "iopub.execute_input": "2024-07-17T09:50:09.448461Z",
     "iopub.status.busy": "2024-07-17T09:50:09.447771Z",
     "iopub.status.idle": "2024-07-17T09:50:12.227694Z",
     "shell.execute_reply": "2024-07-17T09:50:12.226474Z"
    },
    "papermill": {
     "duration": 2.787572,
     "end_time": "2024-07-17T09:50:12.229539",
     "exception": false,
     "start_time": "2024-07-17T09:50:09.441967",
     "status": "completed"
    },
    "tags": []
   },
   "outputs": [
    {
     "name": "stdout",
     "output_type": "stream",
     "text": [
      "The dictionary has 143 different atoms\n"
     ]
    }
   ],
   "source": [
    "import numpy as np\n",
    "from csc.utils import *\n",
    "from csc.atoms import *\n",
    "from csc.dictionary import *\n",
    "from csc.workbench import *\n",
    "from itertools import product\n",
    "import matplotlib.pyplot as plt\n",
    "\n",
    "# Atom parameters\n",
    "bmin = 0.005\n",
    "bmax = 0.06\n",
    "b_step = 0.005\n",
    "b_values = np.arange(bmin, bmax, b_step)\n",
    "\n",
    "ymin = 0.010\n",
    "ymax = 0.036\n",
    "y_step = 0.002\n",
    "y_values = np.arange(ymin, ymax, y_step)\n",
    "\n",
    "s_values = [1]\n",
    "\n",
    "dictionary = ZSDictionary.from_values(b_values, y_values, s_values)\n",
    "print('The dictionary has {} different atoms'.format(len(dictionary)))"
   ]
  },
  {
   "cell_type": "markdown",
   "id": "435bdcf6",
   "metadata": {
    "papermill": {
     "duration": 0.001511,
     "end_time": "2024-07-17T09:50:12.233849",
     "exception": false,
     "start_time": "2024-07-17T09:50:12.232338",
     "status": "completed"
    },
    "tags": []
   },
   "source": [
    "## MMP-DF PRC Pipeline\n",
    "- ``max_branches = 20``\n",
    "- ``max_sparsity = 30`` "
   ]
  },
  {
   "cell_type": "code",
   "execution_count": 2,
   "id": "34140644",
   "metadata": {
    "execution": {
     "iopub.execute_input": "2024-07-17T09:50:12.239407Z",
     "iopub.status.busy": "2024-07-17T09:50:12.238525Z",
     "iopub.status.idle": "2024-07-17T09:50:14.067378Z",
     "shell.execute_reply": "2024-07-17T09:50:14.065993Z"
    },
    "papermill": {
     "duration": 1.834851,
     "end_time": "2024-07-17T09:50:14.070226",
     "exception": false,
     "start_time": "2024-07-17T09:50:12.235375",
     "status": "completed"
    },
    "tags": []
   },
   "outputs": [],
   "source": [
    "batchSize = 200\n",
    "\n",
    "max_branches = 20\n",
    "max_sparsity = 30\n",
    "\n",
    "input_mmpdf_db = f'/home/gomes/synthetic-data/csc-mmpdf-{batchSize}.json'\n",
    "output_prc_mmpdf_db = f'/home/gomes/synthetic-data/prc-mmpdf{max_branches}-{batchSize}.json'\n",
    "\n",
    "#path_to_signals_db = f'C:\\\\Users\\\\gomes\\\\Documents\\\\ENS\\\\00_M1\\\\00_BORELLI\\\\01_WorkInProgress\\\\\\synthetic-data\\\\csc-signals-{batchSize}.json'\n",
    "path_to_signals_db = f'/home/gomes/synthetic-data/csc-signals-{batchSize}.json'\n",
    "\n",
    "workbench = CSCWorkbench(path_to_signals_db)\n",
    "workbench.load_data()\n",
    "workbench.set_dictionary(dictionary)"
   ]
  },
  {
   "cell_type": "code",
   "execution_count": 3,
   "id": "a4fb03f8",
   "metadata": {
    "execution": {
     "iopub.execute_input": "2024-07-17T09:50:14.078287Z",
     "iopub.status.busy": "2024-07-17T09:50:14.077676Z"
    },
    "papermill": {
     "duration": null,
     "end_time": null,
     "exception": false,
     "start_time": "2024-07-17T09:50:14.073307",
     "status": "running"
    },
    "tags": []
   },
   "outputs": [
    {
     "name": "stderr",
     "output_type": "stream",
     "text": [
      "\r",
      "MMP-DF PRC Pipeline from DB:   0%|                                                                                                     | 0/5000 [00:00<?, ?it/s]"
     ]
    },
    {
     "name": "stderr",
     "output_type": "stream",
     "text": [
      "\r",
      "MMP-DF PRC Pipeline from DB:   1%|▍                                                                                           | 27/5000 [00:01<03:39, 22.63it/s]"
     ]
    },
    {
     "name": "stderr",
     "output_type": "stream",
     "text": [
      "\r",
      "MMP-DF PRC Pipeline from DB:   1%|▌                                                                                           | 30/5000 [00:01<04:09, 19.89it/s]"
     ]
    },
    {
     "name": "stderr",
     "output_type": "stream",
     "text": [
      "\r",
      "MMP-DF PRC Pipeline from DB:   1%|▌                                                                                           | 30/5000 [00:20<04:09, 19.89it/s]"
     ]
    },
    {
     "name": "stderr",
     "output_type": "stream",
     "text": [
      "\r",
      "MMP-DF PRC Pipeline from DB:   1%|▉                                                                                         | 54/5000 [01:43<3:35:19,  2.61s/it]"
     ]
    },
    {
     "name": "stderr",
     "output_type": "stream",
     "text": [
      "\r",
      "MMP-DF PRC Pipeline from DB:   2%|█▍                                                                                        | 81/5000 [03:33<4:34:15,  3.35s/it]"
     ]
    },
    {
     "name": "stderr",
     "output_type": "stream",
     "text": [
      "\r",
      "MMP-DF PRC Pipeline from DB:   2%|█▉                                                                                       | 108/5000 [05:28<5:03:36,  3.72s/it]"
     ]
    },
    {
     "name": "stderr",
     "output_type": "stream",
     "text": [
      "\r",
      "MMP-DF PRC Pipeline from DB:   3%|██▍                                                                                      | 135/5000 [07:27<5:22:27,  3.98s/it]"
     ]
    },
    {
     "name": "stderr",
     "output_type": "stream",
     "text": [
      "\r",
      "MMP-DF PRC Pipeline from DB:   3%|██▉                                                                                      | 162/5000 [10:16<6:23:51,  4.76s/it]"
     ]
    },
    {
     "name": "stderr",
     "output_type": "stream",
     "text": [
      "\r",
      "MMP-DF PRC Pipeline from DB:   4%|███▎                                                                                     | 189/5000 [12:55<6:51:51,  5.14s/it]"
     ]
    },
    {
     "name": "stderr",
     "output_type": "stream",
     "text": [
      "\r",
      "MMP-DF PRC Pipeline from DB:   4%|███▊                                                                                     | 216/5000 [15:38<7:12:26,  5.42s/it]"
     ]
    },
    {
     "name": "stderr",
     "output_type": "stream",
     "text": [
      "\r",
      "MMP-DF PRC Pipeline from DB:   5%|████▎                                                                                    | 243/5000 [18:15<7:20:14,  5.55s/it]"
     ]
    },
    {
     "name": "stderr",
     "output_type": "stream",
     "text": [
      "\r",
      "MMP-DF PRC Pipeline from DB:   5%|████▊                                                                                    | 270/5000 [22:18<8:41:59,  6.62s/it]"
     ]
    },
    {
     "name": "stderr",
     "output_type": "stream",
     "text": [
      "\r",
      "MMP-DF PRC Pipeline from DB:   6%|█████▎                                                                                   | 297/5000 [25:37<8:56:34,  6.85s/it]"
     ]
    },
    {
     "name": "stderr",
     "output_type": "stream",
     "text": [
      "\r",
      "MMP-DF PRC Pipeline from DB:   6%|█████▊                                                                                   | 324/5000 [28:04<8:20:49,  6.43s/it]"
     ]
    },
    {
     "name": "stderr",
     "output_type": "stream",
     "text": [
      "\r",
      "MMP-DF PRC Pipeline from DB:   7%|██████▏                                                                                  | 351/5000 [31:35<8:50:13,  6.84s/it]"
     ]
    },
    {
     "name": "stderr",
     "output_type": "stream",
     "text": [
      "\r",
      "MMP-DF PRC Pipeline from DB:   8%|██████▋                                                                                  | 378/5000 [35:14<9:16:44,  7.23s/it]"
     ]
    },
    {
     "name": "stderr",
     "output_type": "stream",
     "text": [
      "\r",
      "MMP-DF PRC Pipeline from DB:   8%|███████▏                                                                                 | 405/5000 [38:38<9:20:38,  7.32s/it]"
     ]
    },
    {
     "name": "stderr",
     "output_type": "stream",
     "text": [
      "\r",
      "MMP-DF PRC Pipeline from DB:   9%|███████▋                                                                                 | 432/5000 [42:17<9:35:34,  7.56s/it]"
     ]
    },
    {
     "name": "stderr",
     "output_type": "stream",
     "text": [
      "\r",
      "MMP-DF PRC Pipeline from DB:   9%|████████▏                                                                                | 459/5000 [45:43<9:33:50,  7.58s/it]"
     ]
    },
    {
     "name": "stderr",
     "output_type": "stream",
     "text": [
      "\r",
      "MMP-DF PRC Pipeline from DB:  10%|████████▌                                                                               | 486/5000 [49:43<10:00:09,  7.98s/it]"
     ]
    },
    {
     "name": "stderr",
     "output_type": "stream",
     "text": [
      "\r",
      "MMP-DF PRC Pipeline from DB:  10%|█████████                                                                               | 513/5000 [53:33<10:08:35,  8.14s/it]"
     ]
    },
    {
     "name": "stderr",
     "output_type": "stream",
     "text": [
      "\r",
      "MMP-DF PRC Pipeline from DB:  11%|█████████▌                                                                              | 540/5000 [57:28<10:17:55,  8.31s/it]"
     ]
    },
    {
     "name": "stderr",
     "output_type": "stream",
     "text": [
      "\r",
      "MMP-DF PRC Pipeline from DB:  11%|█████████▊                                                                            | 567/5000 [1:01:25<10:24:37,  8.45s/it]"
     ]
    },
    {
     "name": "stderr",
     "output_type": "stream",
     "text": [
      "\r",
      "MMP-DF PRC Pipeline from DB:  12%|██████████▏                                                                           | 594/5000 [1:05:12<10:19:38,  8.44s/it]"
     ]
    },
    {
     "name": "stderr",
     "output_type": "stream",
     "text": [
      "\r",
      "MMP-DF PRC Pipeline from DB:  12%|██████████▊                                                                            | 621/5000 [1:07:50<9:19:11,  7.66s/it]"
     ]
    },
    {
     "name": "stderr",
     "output_type": "stream",
     "text": [
      "\r",
      "MMP-DF PRC Pipeline from DB:  13%|███████████▎                                                                           | 648/5000 [1:10:14<8:24:55,  6.96s/it]"
     ]
    },
    {
     "name": "stderr",
     "output_type": "stream",
     "text": [
      "\r",
      "MMP-DF PRC Pipeline from DB:  14%|███████████▋                                                                           | 675/5000 [1:13:50<8:44:04,  7.27s/it]"
     ]
    },
    {
     "name": "stderr",
     "output_type": "stream",
     "text": [
      "\r",
      "MMP-DF PRC Pipeline from DB:  14%|████████████▏                                                                          | 702/5000 [1:17:10<8:44:09,  7.32s/it]"
     ]
    },
    {
     "name": "stderr",
     "output_type": "stream",
     "text": [
      "\r",
      "MMP-DF PRC Pipeline from DB:  15%|████████████▋                                                                          | 729/5000 [1:20:32<8:43:49,  7.36s/it]"
     ]
    },
    {
     "name": "stderr",
     "output_type": "stream",
     "text": [
      "\r",
      "MMP-DF PRC Pipeline from DB:  15%|█████████████▏                                                                         | 756/5000 [1:23:22<8:18:02,  7.04s/it]"
     ]
    },
    {
     "name": "stderr",
     "output_type": "stream",
     "text": [
      "\r",
      "MMP-DF PRC Pipeline from DB:  16%|█████████████▌                                                                         | 783/5000 [1:26:09<7:56:39,  6.78s/it]"
     ]
    },
    {
     "name": "stderr",
     "output_type": "stream",
     "text": [
      "\r",
      "MMP-DF PRC Pipeline from DB:  16%|██████████████                                                                         | 810/5000 [1:29:13<7:54:21,  6.79s/it]"
     ]
    },
    {
     "name": "stderr",
     "output_type": "stream",
     "text": [
      "\r",
      "MMP-DF PRC Pipeline from DB:  17%|██████████████▌                                                                        | 837/5000 [1:32:20<7:54:33,  6.84s/it]"
     ]
    },
    {
     "name": "stderr",
     "output_type": "stream",
     "text": [
      "\r",
      "MMP-DF PRC Pipeline from DB:  17%|███████████████                                                                        | 864/5000 [1:35:28<7:53:40,  6.87s/it]"
     ]
    },
    {
     "name": "stderr",
     "output_type": "stream",
     "text": [
      "\r",
      "MMP-DF PRC Pipeline from DB:  18%|███████████████▌                                                                       | 891/5000 [1:37:51<7:18:33,  6.40s/it]"
     ]
    },
    {
     "name": "stderr",
     "output_type": "stream",
     "text": [
      "\r",
      "MMP-DF PRC Pipeline from DB:  18%|███████████████▉                                                                       | 918/5000 [1:40:13<6:52:03,  6.06s/it]"
     ]
    },
    {
     "name": "stderr",
     "output_type": "stream",
     "text": [
      "\r",
      "MMP-DF PRC Pipeline from DB:  19%|████████████████▍                                                                      | 945/5000 [1:42:53<6:47:03,  6.02s/it]"
     ]
    },
    {
     "name": "stderr",
     "output_type": "stream",
     "text": [
      "\r",
      "MMP-DF PRC Pipeline from DB:  19%|████████████████▉                                                                      | 972/5000 [1:45:32<6:40:59,  5.97s/it]"
     ]
    },
    {
     "name": "stderr",
     "output_type": "stream",
     "text": [
      "\r",
      "MMP-DF PRC Pipeline from DB:  20%|█████████████████▍                                                                     | 999/5000 [1:47:45<6:17:55,  5.67s/it]"
     ]
    },
    {
     "name": "stderr",
     "output_type": "stream",
     "text": [
      "\r",
      "MMP-DF PRC Pipeline from DB:  21%|█████████████████▋                                                                    | 1026/5000 [1:50:01<6:02:55,  5.48s/it]"
     ]
    },
    {
     "name": "stderr",
     "output_type": "stream",
     "text": [
      "\r",
      "MMP-DF PRC Pipeline from DB:  21%|██████████████████                                                                    | 1053/5000 [1:52:06<5:43:12,  5.22s/it]"
     ]
    },
    {
     "name": "stderr",
     "output_type": "stream",
     "text": [
      "\r",
      "MMP-DF PRC Pipeline from DB:  22%|██████████████████▌                                                                   | 1080/5000 [1:53:24<4:55:34,  4.52s/it]"
     ]
    },
    {
     "name": "stderr",
     "output_type": "stream",
     "text": [
      "\r",
      "MMP-DF PRC Pipeline from DB:  22%|███████████████████                                                                   | 1107/5000 [1:54:37<4:17:50,  3.97s/it]"
     ]
    }
   ],
   "source": [
    "workbench.mmpdfPrecisonRecallPipelineFromDB(input_mmpdf_db, output_prc_mmpdf_db, nb_cores=27, max_branches=max_branches, max_sparsity=max_sparsity, verbose=False)"
   ]
  }
 ],
 "metadata": {
  "kernelspec": {
   "display_name": "phlamesenv",
   "language": "python",
   "name": "python3"
  },
  "language_info": {
   "codemirror_mode": {
    "name": "ipython",
    "version": 3
   },
   "file_extension": ".py",
   "mimetype": "text/x-python",
   "name": "python",
   "nbconvert_exporter": "python",
   "pygments_lexer": "ipython3",
   "version": "3.11.2"
  },
  "papermill": {
   "default_parameters": {},
   "duration": null,
   "end_time": null,
   "environment_variables": {},
   "exception": null,
   "input_path": "prc_mmpdf_db.ipynb",
   "output_path": "out_prc_mmpdf.ipynb",
   "parameters": {},
   "start_time": "2024-07-17T09:50:08.279387",
   "version": "2.6.0"
  }
 },
 "nbformat": 4,
 "nbformat_minor": 5
}