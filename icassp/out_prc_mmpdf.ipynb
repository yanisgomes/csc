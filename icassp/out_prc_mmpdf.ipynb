{
 "cells": [
  {
   "cell_type": "code",
   "execution_count": 1,
   "id": "1551e2dc",
   "metadata": {
    "execution": {
     "iopub.execute_input": "2024-07-17T09:50:09.448461Z",
     "iopub.status.busy": "2024-07-17T09:50:09.447771Z",
     "iopub.status.idle": "2024-07-17T09:50:12.227694Z",
     "shell.execute_reply": "2024-07-17T09:50:12.226474Z"
    },
    "papermill": {
     "duration": 2.787572,
     "end_time": "2024-07-17T09:50:12.229539",
     "exception": false,
     "start_time": "2024-07-17T09:50:09.441967",
     "status": "completed"
    },
    "tags": []
   },
   "outputs": [
    {
     "name": "stdout",
     "output_type": "stream",
     "text": [
      "The dictionary has 143 different atoms\n"
     ]
    }
   ],
   "source": [
    "import numpy as np\n",
    "from csc.utils import *\n",
    "from csc.atoms import *\n",
    "from csc.dictionary import *\n",
    "from csc.workbench import *\n",
    "from itertools import product\n",
    "import matplotlib.pyplot as plt\n",
    "\n",
    "# Atom parameters\n",
    "bmin = 0.005\n",
    "bmax = 0.06\n",
    "b_step = 0.005\n",
    "b_values = np.arange(bmin, bmax, b_step)\n",
    "\n",
    "ymin = 0.010\n",
    "ymax = 0.036\n",
    "y_step = 0.002\n",
    "y_values = np.arange(ymin, ymax, y_step)\n",
    "\n",
    "s_values = [1]\n",
    "\n",
    "dictionary = ZSDictionary.from_values(b_values, y_values, s_values)\n",
    "print('The dictionary has {} different atoms'.format(len(dictionary)))"
   ]
  },
  {
   "cell_type": "markdown",
   "id": "435bdcf6",
   "metadata": {
    "papermill": {
     "duration": 0.001511,
     "end_time": "2024-07-17T09:50:12.233849",
     "exception": false,
     "start_time": "2024-07-17T09:50:12.232338",
     "status": "completed"
    },
    "tags": []
   },
   "source": [
    "## MMP-DF PRC Pipeline\n",
    "- ``max_branches = 20``\n",
    "- ``max_sparsity = 30`` "
   ]
  },
  {
   "cell_type": "code",
   "execution_count": 2,
   "id": "34140644",
   "metadata": {
    "execution": {
     "iopub.execute_input": "2024-07-17T09:50:12.239407Z",
     "iopub.status.busy": "2024-07-17T09:50:12.238525Z",
     "iopub.status.idle": "2024-07-17T09:50:14.067378Z",
     "shell.execute_reply": "2024-07-17T09:50:14.065993Z"
    },
    "papermill": {
     "duration": 1.834851,
     "end_time": "2024-07-17T09:50:14.070226",
     "exception": false,
     "start_time": "2024-07-17T09:50:12.235375",
     "status": "completed"
    },
    "tags": []
   },
   "outputs": [],
   "source": [
    "batchSize = 200\n",
    "\n",
    "max_branches = 20\n",
    "max_sparsity = 30\n",
    "\n",
    "input_mmpdf_db = f'/home/gomes/synthetic-data/csc-mmpdf-{batchSize}.json'\n",
    "output_prc_mmpdf_db = f'/home/gomes/synthetic-data/prc-mmpdf{max_branches}-{batchSize}.json'\n",
    "\n",
    "#path_to_signals_db = f'C:\\\\Users\\\\gomes\\\\Documents\\\\ENS\\\\00_M1\\\\00_BORELLI\\\\01_WorkInProgress\\\\\\synthetic-data\\\\csc-signals-{batchSize}.json'\n",
    "path_to_signals_db = f'/home/gomes/synthetic-data/csc-signals-{batchSize}.json'\n",
    "\n",
    "workbench = CSCWorkbench(path_to_signals_db)\n",
    "workbench.load_data()\n",
    "workbench.set_dictionary(dictionary)"
   ]
  },
  {
   "cell_type": "code",
   "execution_count": 3,
   "id": "a4fb03f8",
   "metadata": {
    "execution": {
     "iopub.execute_input": "2024-07-17T09:50:14.078287Z",
     "iopub.status.busy": "2024-07-17T09:50:14.077676Z"
    },
    "papermill": {
     "duration": null,
     "end_time": null,
     "exception": false,
     "start_time": "2024-07-17T09:50:14.073307",
     "status": "running"
    },
    "tags": []
   },
   "outputs": [
    {
     "name": "stderr",
     "output_type": "stream",
     "text": [
      "\r",
      "MMP-DF PRC Pipeline from DB:   0%|                                                                                                     | 0/5000 [00:00<?, ?it/s]"
     ]
    },
    {
     "name": "stderr",
     "output_type": "stream",
     "text": [
      "\r",
      "MMP-DF PRC Pipeline from DB:   1%|▍                                                                                           | 27/5000 [00:01<03:39, 22.63it/s]"
     ]
    },
    {
     "name": "stderr",
     "output_type": "stream",
     "text": [
      "\r",
      "MMP-DF PRC Pipeline from DB:   1%|▌                                                                                           | 30/5000 [00:01<04:09, 19.89it/s]"
     ]
    },
    {
     "name": "stderr",
     "output_type": "stream",
     "text": [
      "\r",
      "MMP-DF PRC Pipeline from DB:   1%|▌                                                                                           | 30/5000 [00:20<04:09, 19.89it/s]"
     ]
    },
    {
     "name": "stderr",
     "output_type": "stream",
     "text": [
      "\r",
      "MMP-DF PRC Pipeline from DB:   1%|▉                                                                                         | 54/5000 [01:43<3:35:19,  2.61s/it]"
     ]
    }
   ],
   "source": [
    "workbench.mmpdfPrecisonRecallPipelineFromDB(input_mmpdf_db, output_prc_mmpdf_db, nb_cores=27, max_branches=max_branches, max_sparsity=max_sparsity, verbose=False)"
   ]
  }
 ],
 "metadata": {
  "kernelspec": {
   "display_name": "phlamesenv",
   "language": "python",
   "name": "python3"
  },
  "language_info": {
   "codemirror_mode": {
    "name": "ipython",
    "version": 3
   },
   "file_extension": ".py",
   "mimetype": "text/x-python",
   "name": "python",
   "nbconvert_exporter": "python",
   "pygments_lexer": "ipython3",
   "version": "3.11.2"
  },
  "papermill": {
   "default_parameters": {},
   "duration": null,
   "end_time": null,
   "environment_variables": {},
   "exception": null,
   "input_path": "prc_mmpdf_db.ipynb",
   "output_path": "out_prc_mmpdf.ipynb",
   "parameters": {},
   "start_time": "2024-07-17T09:50:08.279387",
   "version": "2.6.0"
  }
 },
 "nbformat": 4,
 "nbformat_minor": 5
}