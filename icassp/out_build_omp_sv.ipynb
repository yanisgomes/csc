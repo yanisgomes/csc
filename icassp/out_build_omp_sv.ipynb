{
 "cells": [
  {
   "cell_type": "markdown",
   "id": "519a8617",
   "metadata": {
    "papermill": {
     "duration": 0.001965,
     "end_time": "2024-07-23T15:55:30.562756",
     "exception": false,
     "start_time": "2024-07-23T15:55:30.560791",
     "status": "completed"
    },
    "tags": []
   },
   "source": [
    "# Build SparVar OMP Database"
   ]
  },
  {
   "cell_type": "code",
   "execution_count": 1,
   "id": "05559735",
   "metadata": {
    "execution": {
     "iopub.execute_input": "2024-07-23T15:55:30.567657Z",
     "iopub.status.busy": "2024-07-23T15:55:30.567191Z",
     "iopub.status.idle": "2024-07-23T15:55:32.107985Z",
     "shell.execute_reply": "2024-07-23T15:55:32.107013Z"
    },
    "papermill": {
     "duration": 1.546433,
     "end_time": "2024-07-23T15:55:32.110890",
     "exception": false,
     "start_time": "2024-07-23T15:55:30.564457",
     "status": "completed"
    },
    "tags": []
   },
   "outputs": [
    {
     "name": "stdout",
     "output_type": "stream",
     "text": [
      "The dictionary has 143 different atoms\n"
     ]
    }
   ],
   "source": [
    "import numpy as np\n",
    "from csc.utils import *\n",
    "from csc.atoms import *\n",
    "from csc.dictionary import *\n",
    "from itertools import product\n",
    "import matplotlib.pyplot as plt\n",
    "\n",
    "# Atom parameters\n",
    "bmin = 0.005\n",
    "bmax = 0.06\n",
    "b_step = 0.005\n",
    "b_values = np.arange(bmin, bmax, b_step)\n",
    "\n",
    "ymin = 0.010\n",
    "ymax = 0.036\n",
    "y_step = 0.002\n",
    "y_values = np.arange(ymin, ymax, y_step)\n",
    "\n",
    "s_values = [1]\n",
    "\n",
    "dictionary = ZSDictionary.from_values(b_values, y_values, s_values)\n",
    "print('The dictionary has {} different atoms'.format(len(dictionary)))"
   ]
  },
  {
   "cell_type": "markdown",
   "id": "c80e4e59",
   "metadata": {
    "papermill": {
     "duration": 0.003571,
     "end_time": "2024-07-23T15:55:32.118526",
     "exception": false,
     "start_time": "2024-07-23T15:55:32.114955",
     "status": "completed"
    },
    "tags": []
   },
   "source": [
    "## Build sparsity variation database\n",
    "\n",
    "#### Format :\n",
    "````\n",
    "'source' = input_filename\n",
    "'date' = get_today_date_str()\n",
    "'algorithm' = 'Convolutional OMP'\n",
    "'batchSize' = data['batchSize']\n",
    "'snrLevels' = data['snrLevels']\n",
    "'signalLength' = data['signalLength']\n",
    "'sparsityLevels' = data['sparsityLevels']\n",
    "'dictionary' = str(self)\n",
    "'omp' : \n",
    "    [\n",
    "        {\n",
    "            'id' : 0,\n",
    "            'snr' : snr,\n",
    "            'results' : [\n",
    "                {\n",
    "                    'mse' : #MSE,\n",
    "                    'delay' : #DELAY,\n",
    "                    'atoms' : [\n",
    "                        {'x':x, 'b':b, 'y':y, 's':s}\n",
    "                        #1\n",
    "                    ]\n",
    "                },\n",
    "                ...\n",
    "                {\n",
    "                    'mse' : #MSE,\n",
    "                    'delay' : #DELAY,\n",
    "                    'atoms' : [\n",
    "                        {'x':x, 'b':b, 'y':y, 's':s}\n",
    "                        #max_sparsity\n",
    "                    ]\n",
    "                }\n",
    "                ]\n",
    "        },\n",
    "        {\n",
    "            'id' : 1,\n",
    "            ...\n",
    "        },\n",
    "\n",
    "        ...\n",
    "\n",
    "    ]\n",
    "````"
   ]
  },
  {
   "cell_type": "code",
   "execution_count": 2,
   "id": "a1af1779",
   "metadata": {
    "execution": {
     "iopub.execute_input": "2024-07-23T15:55:32.127347Z",
     "iopub.status.busy": "2024-07-23T15:55:32.126723Z",
     "iopub.status.idle": "2024-07-23T15:55:32.131364Z",
     "shell.execute_reply": "2024-07-23T15:55:32.130538Z"
    },
    "papermill": {
     "duration": 0.012128,
     "end_time": "2024-07-23T15:55:32.134046",
     "exception": false,
     "start_time": "2024-07-23T15:55:32.121918",
     "status": "completed"
    },
    "tags": []
   },
   "outputs": [],
   "source": [
    "batchSize = 200\n",
    "input_signals_db = f'/home/gomes/synthetic-data/csc-signals-{batchSize}.json'"
   ]
  },
  {
   "cell_type": "code",
   "execution_count": 3,
   "id": "0882bba4",
   "metadata": {
    "execution": {
     "iopub.execute_input": "2024-07-23T15:55:32.143014Z",
     "iopub.status.busy": "2024-07-23T15:55:32.142627Z",
     "iopub.status.idle": "2024-07-23T16:19:13.496193Z",
     "shell.execute_reply": "2024-07-23T16:19:13.493033Z"
    },
    "papermill": {
     "duration": 1421.363573,
     "end_time": "2024-07-23T16:19:13.501226",
     "exception": false,
     "start_time": "2024-07-23T15:55:32.137653",
     "status": "completed"
    },
    "tags": []
   },
   "outputs": [
    {
     "name": "stderr",
     "output_type": "stream",
     "text": [
      "\r",
      "OMP SparVar Pipeline from DB:   0%|                                                                                                                                                                      | 0/5000 [00:00<?, ?it/s]"
     ]
    },
    {
     "name": "stderr",
     "output_type": "stream",
     "text": [
      "\r",
      "OMP SparVar Pipeline from DB:   0%|▋                                                                                                                                                            | 20/5000 [00:00<01:38, 50.46it/s]"
     ]
    },
    {
     "name": "stderr",
     "output_type": "stream",
     "text": [
      "\r",
      "OMP SparVar Pipeline from DB:   1%|█▎                                                                                                                                                           | 40/5000 [00:03<07:50, 10.54it/s]"
     ]
    },
    {
     "name": "stderr",
     "output_type": "stream",
     "text": [
      "\r",
      "OMP SparVar Pipeline from DB:   1%|█▉                                                                                                                                                           | 60/5000 [00:04<07:17, 11.29it/s]"
     ]
    },
    {
     "name": "stderr",
     "output_type": "stream",
     "text": [
      "\r",
      "OMP SparVar Pipeline from DB:   2%|██▌                                                                                                                                                          | 80/5000 [00:06<07:37, 10.75it/s]"
     ]
    },
    {
     "name": "stderr",
     "output_type": "stream",
     "text": [
      "\r",
      "OMP SparVar Pipeline from DB:   2%|███                                                                                                                                                         | 100/5000 [00:08<07:14, 11.29it/s]"
     ]
    },
    {
     "name": "stderr",
     "output_type": "stream",
     "text": [
      "\r",
      "OMP SparVar Pipeline from DB:   2%|███▋                                                                                                                                                        | 120/5000 [00:10<06:54, 11.77it/s]"
     ]
    },
    {
     "name": "stderr",
     "output_type": "stream",
     "text": [
      "\r",
      "OMP SparVar Pipeline from DB:   3%|████▎                                                                                                                                                       | 140/5000 [00:11<06:51, 11.82it/s]"
     ]
    },
    {
     "name": "stderr",
     "output_type": "stream",
     "text": [
      "\r",
      "OMP SparVar Pipeline from DB:   3%|████▉                                                                                                                                                       | 160/5000 [00:13<06:52, 11.73it/s]"
     ]
    },
    {
     "name": "stderr",
     "output_type": "stream",
     "text": [
      "\r",
      "OMP SparVar Pipeline from DB:   4%|█████▌                                                                                                                                                      | 180/5000 [00:15<06:47, 11.84it/s]"
     ]
    },
    {
     "name": "stderr",
     "output_type": "stream",
     "text": [
      "\r",
      "OMP SparVar Pipeline from DB:   4%|██████▏                                                                                                                                                     | 200/5000 [00:16<06:50, 11.69it/s]"
     ]
    },
    {
     "name": "stderr",
     "output_type": "stream",
     "text": [
      "\r",
      "OMP SparVar Pipeline from DB:   4%|██████▊                                                                                                                                                     | 220/5000 [00:18<06:49, 11.68it/s]"
     ]
    },
    {
     "name": "stderr",
     "output_type": "stream",
     "text": [
      "\r",
      "OMP SparVar Pipeline from DB:   5%|███████▍                                                                                                                                                    | 240/5000 [00:20<07:09, 11.07it/s]"
     ]
    },
    {
     "name": "stderr",
     "output_type": "stream",
     "text": [
      "\r",
      "OMP SparVar Pipeline from DB:   5%|████████                                                                                                                                                    | 260/5000 [00:22<06:59, 11.30it/s]"
     ]
    },
    {
     "name": "stderr",
     "output_type": "stream",
     "text": [
      "\r",
      "OMP SparVar Pipeline from DB:   6%|████████▋                                                                                                                                                   | 280/5000 [00:23<06:36, 11.92it/s]"
     ]
    },
    {
     "name": "stderr",
     "output_type": "stream",
     "text": [
      "\r",
      "OMP SparVar Pipeline from DB:   6%|█████████▎                                                                                                                                                  | 300/5000 [00:25<06:44, 11.62it/s]"
     ]
    },
    {
     "name": "stderr",
     "output_type": "stream",
     "text": [
      "\r",
      "OMP SparVar Pipeline from DB:   6%|█████████▉                                                                                                                                                  | 320/5000 [00:27<06:38, 11.76it/s]"
     ]
    },
    {
     "name": "stderr",
     "output_type": "stream",
     "text": [
      "\r",
      "OMP SparVar Pipeline from DB:   7%|██████████▌                                                                                                                                                 | 340/5000 [00:28<06:34, 11.82it/s]"
     ]
    },
    {
     "name": "stderr",
     "output_type": "stream",
     "text": [
      "\r",
      "OMP SparVar Pipeline from DB:   7%|███████████▏                                                                                                                                                | 360/5000 [00:30<06:32, 11.81it/s]"
     ]
    },
    {
     "name": "stderr",
     "output_type": "stream",
     "text": [
      "\r",
      "OMP SparVar Pipeline from DB:   8%|███████████▊                                                                                                                                                | 380/5000 [00:32<06:35, 11.69it/s]"
     ]
    },
    {
     "name": "stderr",
     "output_type": "stream",
     "text": [
      "\r",
      "OMP SparVar Pipeline from DB:   8%|████████████▍                                                                                                                                               | 400/5000 [00:34<06:37, 11.58it/s]"
     ]
    },
    {
     "name": "stderr",
     "output_type": "stream",
     "text": [
      "\r",
      "OMP SparVar Pipeline from DB:   8%|█████████████                                                                                                                                               | 420/5000 [00:36<06:42, 11.38it/s]"
     ]
    },
    {
     "name": "stderr",
     "output_type": "stream",
     "text": [
      "\r",
      "OMP SparVar Pipeline from DB:   9%|█████████████▋                                                                                                                                              | 440/5000 [00:37<06:36, 11.50it/s]"
     ]
    },
    {
     "name": "stderr",
     "output_type": "stream",
     "text": [
      "\r",
      "OMP SparVar Pipeline from DB:   9%|██████████████▎                                                                                                                                             | 460/5000 [00:39<06:38, 11.38it/s]"
     ]
    },
    {
     "name": "stderr",
     "output_type": "stream",
     "text": [
      "\r",
      "OMP SparVar Pipeline from DB:  10%|██████████████▉                                                                                                                                             | 480/5000 [00:41<06:31, 11.54it/s]"
     ]
    },
    {
     "name": "stderr",
     "output_type": "stream",
     "text": [
      "\r",
      "OMP SparVar Pipeline from DB:  10%|███████████████▌                                                                                                                                            | 500/5000 [00:42<06:25, 11.67it/s]"
     ]
    },
    {
     "name": "stderr",
     "output_type": "stream",
     "text": [
      "\r",
      "OMP SparVar Pipeline from DB:  10%|████████████████▏                                                                                                                                           | 520/5000 [00:44<06:22, 11.71it/s]"
     ]
    },
    {
     "name": "stderr",
     "output_type": "stream",
     "text": [
      "\r",
      "OMP SparVar Pipeline from DB:  11%|████████████████▊                                                                                                                                           | 540/5000 [00:46<06:13, 11.94it/s]"
     ]
    },
    {
     "name": "stderr",
     "output_type": "stream",
     "text": [
      "\r",
      "OMP SparVar Pipeline from DB:  11%|█████████████████▍                                                                                                                                          | 560/5000 [00:48<06:22, 11.60it/s]"
     ]
    },
    {
     "name": "stderr",
     "output_type": "stream",
     "text": [
      "\r",
      "OMP SparVar Pipeline from DB:  12%|██████████████████                                                                                                                                          | 580/5000 [00:49<06:11, 11.91it/s]"
     ]
    },
    {
     "name": "stderr",
     "output_type": "stream",
     "text": [
      "\r",
      "OMP SparVar Pipeline from DB:  12%|██████████████████▋                                                                                                                                         | 600/5000 [00:51<06:17, 11.64it/s]"
     ]
    },
    {
     "name": "stderr",
     "output_type": "stream",
     "text": [
      "\r",
      "OMP SparVar Pipeline from DB:  12%|███████████████████▎                                                                                                                                        | 620/5000 [00:53<06:14, 11.70it/s]"
     ]
    },
    {
     "name": "stderr",
     "output_type": "stream",
     "text": [
      "\r",
      "OMP SparVar Pipeline from DB:  13%|███████████████████▉                                                                                                                                        | 640/5000 [00:54<05:54, 12.30it/s]"
     ]
    },
    {
     "name": "stderr",
     "output_type": "stream",
     "text": [
      "\r",
      "OMP SparVar Pipeline from DB:  13%|████████████████████▌                                                                                                                                       | 660/5000 [00:56<06:03, 11.95it/s]"
     ]
    },
    {
     "name": "stderr",
     "output_type": "stream",
     "text": [
      "\r",
      "OMP SparVar Pipeline from DB:  14%|█████████████████████▏                                                                                                                                      | 680/5000 [00:57<05:57, 12.08it/s]"
     ]
    },
    {
     "name": "stderr",
     "output_type": "stream",
     "text": [
      "\r",
      "OMP SparVar Pipeline from DB:  14%|█████████████████████▊                                                                                                                                      | 700/5000 [00:59<05:56, 12.06it/s]"
     ]
    },
    {
     "name": "stderr",
     "output_type": "stream",
     "text": [
      "\r",
      "OMP SparVar Pipeline from DB:  14%|██████████████████████▍                                                                                                                                     | 720/5000 [01:01<05:58, 11.94it/s]"
     ]
    },
    {
     "name": "stderr",
     "output_type": "stream",
     "text": [
      "\r",
      "OMP SparVar Pipeline from DB:  15%|███████████████████████                                                                                                                                     | 740/5000 [01:02<05:55, 11.97it/s]"
     ]
    },
    {
     "name": "stderr",
     "output_type": "stream",
     "text": [
      "\r",
      "OMP SparVar Pipeline from DB:  15%|███████████████████████▋                                                                                                                                    | 760/5000 [01:04<05:57, 11.85it/s]"
     ]
    },
    {
     "name": "stderr",
     "output_type": "stream",
     "text": [
      "\r",
      "OMP SparVar Pipeline from DB:  16%|████████████████████████▎                                                                                                                                   | 780/5000 [01:06<05:46, 12.17it/s]"
     ]
    },
    {
     "name": "stderr",
     "output_type": "stream",
     "text": [
      "\r",
      "OMP SparVar Pipeline from DB:  16%|████████████████████████▉                                                                                                                                   | 800/5000 [01:08<05:58, 11.73it/s]"
     ]
    },
    {
     "name": "stderr",
     "output_type": "stream",
     "text": [
      "\r",
      "OMP SparVar Pipeline from DB:  16%|█████████████████████████▌                                                                                                                                  | 820/5000 [01:09<05:56, 11.72it/s]"
     ]
    },
    {
     "name": "stderr",
     "output_type": "stream",
     "text": [
      "\r",
      "OMP SparVar Pipeline from DB:  17%|██████████████████████████▏                                                                                                                                 | 840/5000 [01:11<05:50, 11.87it/s]"
     ]
    },
    {
     "name": "stderr",
     "output_type": "stream",
     "text": [
      "\r",
      "OMP SparVar Pipeline from DB:  17%|██████████████████████████▊                                                                                                                                 | 860/5000 [01:13<05:52, 11.75it/s]"
     ]
    },
    {
     "name": "stderr",
     "output_type": "stream",
     "text": [
      "\r",
      "OMP SparVar Pipeline from DB:  18%|███████████████████████████▍                                                                                                                                | 880/5000 [01:14<05:47, 11.85it/s]"
     ]
    },
    {
     "name": "stderr",
     "output_type": "stream",
     "text": [
      "\r",
      "OMP SparVar Pipeline from DB:  18%|████████████████████████████                                                                                                                                | 900/5000 [01:16<05:54, 11.55it/s]"
     ]
    },
    {
     "name": "stderr",
     "output_type": "stream",
     "text": [
      "\r",
      "OMP SparVar Pipeline from DB:  18%|████████████████████████████▋                                                                                                                               | 920/5000 [01:18<05:44, 11.85it/s]"
     ]
    },
    {
     "name": "stderr",
     "output_type": "stream",
     "text": [
      "\r",
      "OMP SparVar Pipeline from DB:  19%|█████████████████████████████▎                                                                                                                              | 940/5000 [01:19<05:43, 11.81it/s]"
     ]
    },
    {
     "name": "stderr",
     "output_type": "stream",
     "text": [
      "\r",
      "OMP SparVar Pipeline from DB:  19%|█████████████████████████████▉                                                                                                                              | 960/5000 [01:21<05:51, 11.50it/s]"
     ]
    },
    {
     "name": "stderr",
     "output_type": "stream",
     "text": [
      "\r",
      "OMP SparVar Pipeline from DB:  20%|██████████████████████████████▌                                                                                                                             | 980/5000 [01:23<05:52, 11.39it/s]"
     ]
    },
    {
     "name": "stderr",
     "output_type": "stream",
     "text": [
      "\r",
      "OMP SparVar Pipeline from DB:  20%|███████████████████████████████                                                                                                                            | 1000/5000 [01:25<06:01, 11.05it/s]"
     ]
    },
    {
     "name": "stderr",
     "output_type": "stream",
     "text": [
      "\r",
      "OMP SparVar Pipeline from DB:  20%|███████████████████████████████▌                                                                                                                           | 1020/5000 [01:27<05:42, 11.63it/s]"
     ]
    },
    {
     "name": "stderr",
     "output_type": "stream",
     "text": [
      "\r",
      "OMP SparVar Pipeline from DB:  21%|████████████████████████████████▏                                                                                                                          | 1040/5000 [01:28<05:46, 11.42it/s]"
     ]
    },
    {
     "name": "stderr",
     "output_type": "stream",
     "text": [
      "\r",
      "OMP SparVar Pipeline from DB:  21%|████████████████████████████████▊                                                                                                                          | 1060/5000 [01:30<05:37, 11.69it/s]"
     ]
    },
    {
     "name": "stderr",
     "output_type": "stream",
     "text": [
      "\r",
      "OMP SparVar Pipeline from DB:  22%|█████████████████████████████████▍                                                                                                                         | 1080/5000 [01:32<05:33, 11.74it/s]"
     ]
    },
    {
     "name": "stderr",
     "output_type": "stream",
     "text": [
      "\r",
      "OMP SparVar Pipeline from DB:  22%|██████████████████████████████████                                                                                                                         | 1100/5000 [01:33<05:37, 11.54it/s]"
     ]
    },
    {
     "name": "stderr",
     "output_type": "stream",
     "text": [
      "\r",
      "OMP SparVar Pipeline from DB:  22%|██████████████████████████████████▋                                                                                                                        | 1120/5000 [01:35<05:45, 11.23it/s]"
     ]
    },
    {
     "name": "stderr",
     "output_type": "stream",
     "text": [
      "\r",
      "OMP SparVar Pipeline from DB:  23%|███████████████████████████████████▎                                                                                                                       | 1140/5000 [01:37<05:55, 10.87it/s]"
     ]
    },
    {
     "name": "stderr",
     "output_type": "stream",
     "text": [
      "\r",
      "OMP SparVar Pipeline from DB:  23%|███████████████████████████████████▉                                                                                                                       | 1160/5000 [01:39<05:43, 11.19it/s]"
     ]
    },
    {
     "name": "stderr",
     "output_type": "stream",
     "text": [
      "\r",
      "OMP SparVar Pipeline from DB:  24%|████████████████████████████████████▌                                                                                                                      | 1180/5000 [01:41<05:37, 11.32it/s]"
     ]
    },
    {
     "name": "stderr",
     "output_type": "stream",
     "text": [
      "\r",
      "OMP SparVar Pipeline from DB:  24%|█████████████████████████████████████▏                                                                                                                     | 1200/5000 [01:42<05:32, 11.42it/s]"
     ]
    },
    {
     "name": "stderr",
     "output_type": "stream",
     "text": [
      "\r",
      "OMP SparVar Pipeline from DB:  24%|█████████████████████████████████████▊                                                                                                                     | 1220/5000 [01:44<05:29, 11.46it/s]"
     ]
    },
    {
     "name": "stderr",
     "output_type": "stream",
     "text": [
      "\r",
      "OMP SparVar Pipeline from DB:  25%|██████████████████████████████████████▍                                                                                                                    | 1240/5000 [01:46<05:27, 11.50it/s]"
     ]
    },
    {
     "name": "stderr",
     "output_type": "stream",
     "text": [
      "\r",
      "OMP SparVar Pipeline from DB:  25%|███████████████████████████████████████                                                                                                                    | 1260/5000 [01:48<05:41, 10.94it/s]"
     ]
    },
    {
     "name": "stderr",
     "output_type": "stream",
     "text": [
      "\r",
      "OMP SparVar Pipeline from DB:  26%|███████████████████████████████████████▋                                                                                                                   | 1280/5000 [01:50<05:50, 10.62it/s]"
     ]
    },
    {
     "name": "stderr",
     "output_type": "stream",
     "text": [
      "\r",
      "OMP SparVar Pipeline from DB:  26%|████████████████████████████████████████▎                                                                                                                  | 1300/5000 [01:52<06:20,  9.73it/s]"
     ]
    },
    {
     "name": "stderr",
     "output_type": "stream",
     "text": [
      "\r",
      "OMP SparVar Pipeline from DB:  26%|████████████████████████████████████████▉                                                                                                                  | 1320/5000 [01:56<07:19,  8.37it/s]"
     ]
    },
    {
     "name": "stderr",
     "output_type": "stream",
     "text": [
      "\r",
      "OMP SparVar Pipeline from DB:  27%|█████████████████████████████████████████▌                                                                                                                 | 1340/5000 [02:02<10:49,  5.63it/s]"
     ]
    },
    {
     "name": "stderr",
     "output_type": "stream",
     "text": [
      "\r",
      "OMP SparVar Pipeline from DB:  27%|██████████████████████████████████████████▏                                                                                                                | 1360/5000 [02:08<12:44,  4.76it/s]"
     ]
    },
    {
     "name": "stderr",
     "output_type": "stream",
     "text": [
      "\r",
      "OMP SparVar Pipeline from DB:  28%|██████████████████████████████████████████▊                                                                                                                | 1380/5000 [02:14<14:56,  4.04it/s]"
     ]
    },
    {
     "name": "stderr",
     "output_type": "stream",
     "text": [
      "\r",
      "OMP SparVar Pipeline from DB:  28%|███████████████████████████████████████████▍                                                                                                               | 1400/5000 [02:20<15:33,  3.86it/s]"
     ]
    },
    {
     "name": "stderr",
     "output_type": "stream",
     "text": [
      "\r",
      "OMP SparVar Pipeline from DB:  28%|████████████████████████████████████████████                                                                                                               | 1420/5000 [02:27<16:45,  3.56it/s]"
     ]
    },
    {
     "name": "stderr",
     "output_type": "stream",
     "text": [
      "\r",
      "OMP SparVar Pipeline from DB:  29%|████████████████████████████████████████████▋                                                                                                              | 1440/5000 [02:34<17:54,  3.31it/s]"
     ]
    },
    {
     "name": "stderr",
     "output_type": "stream",
     "text": [
      "\r",
      "OMP SparVar Pipeline from DB:  29%|█████████████████████████████████████████████▎                                                                                                             | 1460/5000 [02:40<17:53,  3.30it/s]"
     ]
    },
    {
     "name": "stderr",
     "output_type": "stream",
     "text": [
      "\r",
      "OMP SparVar Pipeline from DB:  30%|█████████████████████████████████████████████▉                                                                                                             | 1480/5000 [02:48<19:22,  3.03it/s]"
     ]
    },
    {
     "name": "stderr",
     "output_type": "stream",
     "text": [
      "\r",
      "OMP SparVar Pipeline from DB:  30%|██████████████████████████████████████████████▌                                                                                                            | 1500/5000 [02:54<19:02,  3.06it/s]"
     ]
    },
    {
     "name": "stderr",
     "output_type": "stream",
     "text": [
      "\r",
      "OMP SparVar Pipeline from DB:  30%|███████████████████████████████████████████████                                                                                                            | 1520/5000 [03:01<19:00,  3.05it/s]"
     ]
    },
    {
     "name": "stderr",
     "output_type": "stream",
     "text": [
      "\r",
      "OMP SparVar Pipeline from DB:  31%|███████████████████████████████████████████████▋                                                                                                           | 1540/5000 [03:07<18:32,  3.11it/s]"
     ]
    },
    {
     "name": "stderr",
     "output_type": "stream",
     "text": [
      "\r",
      "OMP SparVar Pipeline from DB:  31%|████████████████████████████████████████████████▎                                                                                                          | 1560/5000 [03:12<17:46,  3.23it/s]"
     ]
    },
    {
     "name": "stderr",
     "output_type": "stream",
     "text": [
      "\r",
      "OMP SparVar Pipeline from DB:  32%|████████████████████████████████████████████████▉                                                                                                          | 1580/5000 [03:18<17:04,  3.34it/s]"
     ]
    },
    {
     "name": "stderr",
     "output_type": "stream",
     "text": [
      "\r",
      "OMP SparVar Pipeline from DB:  32%|█████████████████████████████████████████████████▌                                                                                                         | 1600/5000 [03:24<17:27,  3.25it/s]"
     ]
    },
    {
     "name": "stderr",
     "output_type": "stream",
     "text": [
      "\r",
      "OMP SparVar Pipeline from DB:  32%|██████████████████████████████████████████████████▏                                                                                                        | 1620/5000 [03:31<17:55,  3.14it/s]"
     ]
    },
    {
     "name": "stderr",
     "output_type": "stream",
     "text": [
      "\r",
      "OMP SparVar Pipeline from DB:  33%|██████████████████████████████████████████████████▊                                                                                                        | 1640/5000 [03:38<17:43,  3.16it/s]"
     ]
    },
    {
     "name": "stderr",
     "output_type": "stream",
     "text": [
      "\r",
      "OMP SparVar Pipeline from DB:  33%|███████████████████████████████████████████████████▍                                                                                                       | 1660/5000 [03:44<18:06,  3.07it/s]"
     ]
    },
    {
     "name": "stderr",
     "output_type": "stream",
     "text": [
      "\r",
      "OMP SparVar Pipeline from DB:  34%|████████████████████████████████████████████████████                                                                                                       | 1680/5000 [03:51<17:45,  3.12it/s]"
     ]
    },
    {
     "name": "stderr",
     "output_type": "stream",
     "text": [
      "\r",
      "OMP SparVar Pipeline from DB:  34%|████████████████████████████████████████████████████▋                                                                                                      | 1700/5000 [03:56<17:00,  3.23it/s]"
     ]
    },
    {
     "name": "stderr",
     "output_type": "stream",
     "text": [
      "\r",
      "OMP SparVar Pipeline from DB:  34%|█████████████████████████████████████████████████████▎                                                                                                     | 1720/5000 [04:03<17:03,  3.20it/s]"
     ]
    },
    {
     "name": "stderr",
     "output_type": "stream",
     "text": [
      "\r",
      "OMP SparVar Pipeline from DB:  35%|█████████████████████████████████████████████████████▉                                                                                                     | 1740/5000 [04:10<18:00,  3.02it/s]"
     ]
    },
    {
     "name": "stderr",
     "output_type": "stream",
     "text": [
      "\r",
      "OMP SparVar Pipeline from DB:  35%|██████████████████████████████████████████████████████▌                                                                                                    | 1760/5000 [04:17<18:25,  2.93it/s]"
     ]
    },
    {
     "name": "stderr",
     "output_type": "stream",
     "text": [
      "\r",
      "OMP SparVar Pipeline from DB:  36%|███████████████████████████████████████████████████████▏                                                                                                   | 1780/5000 [04:24<17:41,  3.03it/s]"
     ]
    },
    {
     "name": "stderr",
     "output_type": "stream",
     "text": [
      "\r",
      "OMP SparVar Pipeline from DB:  36%|███████████████████████████████████████████████████████▊                                                                                                   | 1800/5000 [04:31<18:07,  2.94it/s]"
     ]
    },
    {
     "name": "stderr",
     "output_type": "stream",
     "text": [
      "\r",
      "OMP SparVar Pipeline from DB:  36%|████████████████████████████████████████████████████████▍                                                                                                  | 1820/5000 [04:36<16:47,  3.16it/s]"
     ]
    },
    {
     "name": "stderr",
     "output_type": "stream",
     "text": [
      "\r",
      "OMP SparVar Pipeline from DB:  37%|█████████████████████████████████████████████████████████                                                                                                  | 1840/5000 [04:44<18:18,  2.88it/s]"
     ]
    },
    {
     "name": "stderr",
     "output_type": "stream",
     "text": [
      "\r",
      "OMP SparVar Pipeline from DB:  37%|█████████████████████████████████████████████████████████▋                                                                                                 | 1860/5000 [04:52<18:54,  2.77it/s]"
     ]
    },
    {
     "name": "stderr",
     "output_type": "stream",
     "text": [
      "\r",
      "OMP SparVar Pipeline from DB:  38%|██████████████████████████████████████████████████████████▎                                                                                                | 1880/5000 [05:00<19:02,  2.73it/s]"
     ]
    },
    {
     "name": "stderr",
     "output_type": "stream",
     "text": [
      "\r",
      "OMP SparVar Pipeline from DB:  38%|██████████████████████████████████████████████████████████▉                                                                                                | 1900/5000 [05:07<18:44,  2.76it/s]"
     ]
    },
    {
     "name": "stderr",
     "output_type": "stream",
     "text": [
      "\r",
      "OMP SparVar Pipeline from DB:  38%|███████████████████████████████████████████████████████████▌                                                                                               | 1920/5000 [05:13<17:24,  2.95it/s]"
     ]
    },
    {
     "name": "stderr",
     "output_type": "stream",
     "text": [
      "\r",
      "OMP SparVar Pipeline from DB:  39%|████████████████████████████████████████████████████████████▏                                                                                              | 1940/5000 [05:19<17:16,  2.95it/s]"
     ]
    },
    {
     "name": "stderr",
     "output_type": "stream",
     "text": [
      "\r",
      "OMP SparVar Pipeline from DB:  39%|████████████████████████████████████████████████████████████▊                                                                                              | 1960/5000 [05:26<16:53,  3.00it/s]"
     ]
    },
    {
     "name": "stderr",
     "output_type": "stream",
     "text": [
      "\r",
      "OMP SparVar Pipeline from DB:  40%|█████████████████████████████████████████████████████████████▍                                                                                             | 1980/5000 [05:34<17:36,  2.86it/s]"
     ]
    },
    {
     "name": "stderr",
     "output_type": "stream",
     "text": [
      "\r",
      "OMP SparVar Pipeline from DB:  40%|██████████████████████████████████████████████████████████████                                                                                             | 2000/5000 [05:39<16:37,  3.01it/s]"
     ]
    },
    {
     "name": "stderr",
     "output_type": "stream",
     "text": [
      "\r",
      "OMP SparVar Pipeline from DB:  40%|██████████████████████████████████████████████████████████████▌                                                                                            | 2020/5000 [05:47<17:03,  2.91it/s]"
     ]
    },
    {
     "name": "stderr",
     "output_type": "stream",
     "text": [
      "\r",
      "OMP SparVar Pipeline from DB:  41%|███████████████████████████████████████████████████████████████▏                                                                                           | 2040/5000 [05:54<16:58,  2.91it/s]"
     ]
    },
    {
     "name": "stderr",
     "output_type": "stream",
     "text": [
      "\r",
      "OMP SparVar Pipeline from DB:  41%|███████████████████████████████████████████████████████████████▊                                                                                           | 2060/5000 [06:00<16:45,  2.92it/s]"
     ]
    },
    {
     "name": "stderr",
     "output_type": "stream",
     "text": [
      "\r",
      "OMP SparVar Pipeline from DB:  42%|████████████████████████████████████████████████████████████████▍                                                                                          | 2080/5000 [06:08<17:11,  2.83it/s]"
     ]
    },
    {
     "name": "stderr",
     "output_type": "stream",
     "text": [
      "\r",
      "OMP SparVar Pipeline from DB:  42%|█████████████████████████████████████████████████████████████████                                                                                          | 2100/5000 [06:15<16:50,  2.87it/s]"
     ]
    },
    {
     "name": "stderr",
     "output_type": "stream",
     "text": [
      "\r",
      "OMP SparVar Pipeline from DB:  42%|█████████████████████████████████████████████████████████████████▋                                                                                         | 2120/5000 [06:22<16:43,  2.87it/s]"
     ]
    },
    {
     "name": "stderr",
     "output_type": "stream",
     "text": [
      "\r",
      "OMP SparVar Pipeline from DB:  43%|██████████████████████████████████████████████████████████████████▎                                                                                        | 2140/5000 [06:28<15:58,  2.98it/s]"
     ]
    },
    {
     "name": "stderr",
     "output_type": "stream",
     "text": [
      "\r",
      "OMP SparVar Pipeline from DB:  43%|██████████████████████████████████████████████████████████████████▉                                                                                        | 2160/5000 [06:35<16:01,  2.95it/s]"
     ]
    },
    {
     "name": "stderr",
     "output_type": "stream",
     "text": [
      "\r",
      "OMP SparVar Pipeline from DB:  44%|███████████████████████████████████████████████████████████████████▌                                                                                       | 2180/5000 [06:41<15:24,  3.05it/s]"
     ]
    },
    {
     "name": "stderr",
     "output_type": "stream",
     "text": [
      "\r",
      "OMP SparVar Pipeline from DB:  44%|████████████████████████████████████████████████████████████████████▏                                                                                      | 2200/5000 [06:48<15:30,  3.01it/s]"
     ]
    },
    {
     "name": "stderr",
     "output_type": "stream",
     "text": [
      "\r",
      "OMP SparVar Pipeline from DB:  44%|████████████████████████████████████████████████████████████████████▊                                                                                      | 2220/5000 [06:55<16:00,  2.90it/s]"
     ]
    },
    {
     "name": "stderr",
     "output_type": "stream",
     "text": [
      "\r",
      "OMP SparVar Pipeline from DB:  45%|█████████████████████████████████████████████████████████████████████▍                                                                                     | 2240/5000 [07:01<15:23,  2.99it/s]"
     ]
    },
    {
     "name": "stderr",
     "output_type": "stream",
     "text": [
      "\r",
      "OMP SparVar Pipeline from DB:  45%|██████████████████████████████████████████████████████████████████████                                                                                     | 2260/5000 [07:09<16:03,  2.84it/s]"
     ]
    },
    {
     "name": "stderr",
     "output_type": "stream",
     "text": [
      "\r",
      "OMP SparVar Pipeline from DB:  46%|██████████████████████████████████████████████████████████████████████▋                                                                                    | 2280/5000 [07:17<16:11,  2.80it/s]"
     ]
    },
    {
     "name": "stderr",
     "output_type": "stream",
     "text": [
      "\r",
      "OMP SparVar Pipeline from DB:  46%|███████████████████████████████████████████████████████████████████████▎                                                                                   | 2300/5000 [07:24<16:10,  2.78it/s]"
     ]
    },
    {
     "name": "stderr",
     "output_type": "stream",
     "text": [
      "\r",
      "OMP SparVar Pipeline from DB:  46%|███████████████████████████████████████████████████████████████████████▉                                                                                   | 2320/5000 [07:31<16:03,  2.78it/s]"
     ]
    },
    {
     "name": "stderr",
     "output_type": "stream",
     "text": [
      "\r",
      "OMP SparVar Pipeline from DB:  47%|████████████████████████████████████████████████████████████████████████▌                                                                                  | 2340/5000 [07:39<16:25,  2.70it/s]"
     ]
    },
    {
     "name": "stderr",
     "output_type": "stream",
     "text": [
      "\r",
      "OMP SparVar Pipeline from DB:  47%|█████████████████████████████████████████████████████████████████████████▏                                                                                 | 2360/5000 [07:45<15:38,  2.81it/s]"
     ]
    },
    {
     "name": "stderr",
     "output_type": "stream",
     "text": [
      "\r",
      "OMP SparVar Pipeline from DB:  48%|█████████████████████████████████████████████████████████████████████████▊                                                                                 | 2380/5000 [07:52<15:00,  2.91it/s]"
     ]
    },
    {
     "name": "stderr",
     "output_type": "stream",
     "text": [
      "\r",
      "OMP SparVar Pipeline from DB:  48%|██████████████████████████████████████████████████████████████████████████▍                                                                                | 2400/5000 [07:59<15:19,  2.83it/s]"
     ]
    },
    {
     "name": "stderr",
     "output_type": "stream",
     "text": [
      "\r",
      "OMP SparVar Pipeline from DB:  48%|███████████████████████████████████████████████████████████████████████████                                                                                | 2420/5000 [08:06<14:59,  2.87it/s]"
     ]
    },
    {
     "name": "stderr",
     "output_type": "stream",
     "text": [
      "\r",
      "OMP SparVar Pipeline from DB:  49%|███████████████████████████████████████████████████████████████████████████▋                                                                               | 2440/5000 [08:12<14:30,  2.94it/s]"
     ]
    },
    {
     "name": "stderr",
     "output_type": "stream",
     "text": [
      "\r",
      "OMP SparVar Pipeline from DB:  49%|████████████████████████████████████████████████████████████████████████████▎                                                                              | 2460/5000 [08:18<13:31,  3.13it/s]"
     ]
    },
    {
     "name": "stderr",
     "output_type": "stream",
     "text": [
      "\r",
      "OMP SparVar Pipeline from DB:  50%|████████████████████████████████████████████████████████████████████████████▉                                                                              | 2480/5000 [08:25<13:54,  3.02it/s]"
     ]
    },
    {
     "name": "stderr",
     "output_type": "stream",
     "text": [
      "\r",
      "OMP SparVar Pipeline from DB:  50%|█████████████████████████████████████████████████████████████████████████████▌                                                                             | 2500/5000 [08:32<14:12,  2.93it/s]"
     ]
    },
    {
     "name": "stderr",
     "output_type": "stream",
     "text": [
      "\r",
      "OMP SparVar Pipeline from DB:  50%|██████████████████████████████████████████████████████████████████████████████                                                                             | 2520/5000 [08:40<14:24,  2.87it/s]"
     ]
    },
    {
     "name": "stderr",
     "output_type": "stream",
     "text": [
      "\r",
      "OMP SparVar Pipeline from DB:  51%|██████████████████████████████████████████████████████████████████████████████▋                                                                            | 2540/5000 [08:47<14:26,  2.84it/s]"
     ]
    },
    {
     "name": "stderr",
     "output_type": "stream",
     "text": [
      "\r",
      "OMP SparVar Pipeline from DB:  51%|███████████████████████████████████████████████████████████████████████████████▎                                                                           | 2560/5000 [08:54<14:34,  2.79it/s]"
     ]
    },
    {
     "name": "stderr",
     "output_type": "stream",
     "text": [
      "\r",
      "OMP SparVar Pipeline from DB:  52%|███████████████████████████████████████████████████████████████████████████████▉                                                                           | 2580/5000 [09:01<14:25,  2.79it/s]"
     ]
    },
    {
     "name": "stderr",
     "output_type": "stream",
     "text": [
      "\r",
      "OMP SparVar Pipeline from DB:  52%|████████████████████████████████████████████████████████████████████████████████▌                                                                          | 2600/5000 [09:09<14:30,  2.76it/s]"
     ]
    },
    {
     "name": "stderr",
     "output_type": "stream",
     "text": [
      "\r",
      "OMP SparVar Pipeline from DB:  52%|█████████████████████████████████████████████████████████████████████████████████▏                                                                         | 2620/5000 [09:16<14:18,  2.77it/s]"
     ]
    },
    {
     "name": "stderr",
     "output_type": "stream",
     "text": [
      "\r",
      "OMP SparVar Pipeline from DB:  53%|█████████████████████████████████████████████████████████████████████████████████▊                                                                         | 2640/5000 [09:23<13:51,  2.84it/s]"
     ]
    },
    {
     "name": "stderr",
     "output_type": "stream",
     "text": [
      "\r",
      "OMP SparVar Pipeline from DB:  53%|██████████████████████████████████████████████████████████████████████████████████▍                                                                        | 2660/5000 [09:30<13:44,  2.84it/s]"
     ]
    },
    {
     "name": "stderr",
     "output_type": "stream",
     "text": [
      "\r",
      "OMP SparVar Pipeline from DB:  54%|███████████████████████████████████████████████████████████████████████████████████                                                                        | 2680/5000 [09:37<13:26,  2.88it/s]"
     ]
    },
    {
     "name": "stderr",
     "output_type": "stream",
     "text": [
      "\r",
      "OMP SparVar Pipeline from DB:  54%|███████████████████████████████████████████████████████████████████████████████████▋                                                                       | 2700/5000 [09:44<13:34,  2.82it/s]"
     ]
    },
    {
     "name": "stderr",
     "output_type": "stream",
     "text": [
      "\r",
      "OMP SparVar Pipeline from DB:  54%|████████████████████████████████████████████████████████████████████████████████████▎                                                                      | 2720/5000 [09:50<12:46,  2.97it/s]"
     ]
    },
    {
     "name": "stderr",
     "output_type": "stream",
     "text": [
      "\r",
      "OMP SparVar Pipeline from DB:  55%|████████████████████████████████████████████████████████████████████████████████████▉                                                                      | 2740/5000 [09:56<12:35,  2.99it/s]"
     ]
    },
    {
     "name": "stderr",
     "output_type": "stream",
     "text": [
      "\r",
      "OMP SparVar Pipeline from DB:  55%|█████████████████████████████████████████████████████████████████████████████████████▌                                                                     | 2760/5000 [10:03<12:38,  2.95it/s]"
     ]
    },
    {
     "name": "stderr",
     "output_type": "stream",
     "text": [
      "\r",
      "OMP SparVar Pipeline from DB:  56%|██████████████████████████████████████████████████████████████████████████████████████▏                                                                    | 2780/5000 [10:09<11:50,  3.12it/s]"
     ]
    },
    {
     "name": "stderr",
     "output_type": "stream",
     "text": [
      "\r",
      "OMP SparVar Pipeline from DB:  56%|██████████████████████████████████████████████████████████████████████████████████████▊                                                                    | 2800/5000 [10:16<12:02,  3.04it/s]"
     ]
    },
    {
     "name": "stderr",
     "output_type": "stream",
     "text": [
      "\r",
      "OMP SparVar Pipeline from DB:  56%|███████████████████████████████████████████████████████████████████████████████████████▍                                                                   | 2820/5000 [10:22<11:51,  3.06it/s]"
     ]
    },
    {
     "name": "stderr",
     "output_type": "stream",
     "text": [
      "\r",
      "OMP SparVar Pipeline from DB:  57%|████████████████████████████████████████████████████████████████████████████████████████                                                                   | 2840/5000 [10:30<12:16,  2.93it/s]"
     ]
    },
    {
     "name": "stderr",
     "output_type": "stream",
     "text": [
      "\r",
      "OMP SparVar Pipeline from DB:  57%|████████████████████████████████████████████████████████████████████████████████████████▋                                                                  | 2860/5000 [10:37<12:17,  2.90it/s]"
     ]
    },
    {
     "name": "stderr",
     "output_type": "stream",
     "text": [
      "\r",
      "OMP SparVar Pipeline from DB:  58%|█████████████████████████████████████████████████████████████████████████████████████████▎                                                                 | 2880/5000 [10:43<11:44,  3.01it/s]"
     ]
    },
    {
     "name": "stderr",
     "output_type": "stream",
     "text": [
      "\r",
      "OMP SparVar Pipeline from DB:  58%|█████████████████████████████████████████████████████████████████████████████████████████▉                                                                 | 2900/5000 [10:51<12:07,  2.89it/s]"
     ]
    },
    {
     "name": "stderr",
     "output_type": "stream",
     "text": [
      "\r",
      "OMP SparVar Pipeline from DB:  58%|██████████████████████████████████████████████████████████████████████████████████████████▌                                                                | 2920/5000 [10:57<11:59,  2.89it/s]"
     ]
    },
    {
     "name": "stderr",
     "output_type": "stream",
     "text": [
      "\r",
      "OMP SparVar Pipeline from DB:  59%|███████████████████████████████████████████████████████████████████████████████████████████▏                                                               | 2940/5000 [11:04<11:52,  2.89it/s]"
     ]
    },
    {
     "name": "stderr",
     "output_type": "stream",
     "text": [
      "\r",
      "OMP SparVar Pipeline from DB:  59%|███████████████████████████████████████████████████████████████████████████████████████████▊                                                               | 2960/5000 [11:10<11:22,  2.99it/s]"
     ]
    },
    {
     "name": "stderr",
     "output_type": "stream",
     "text": [
      "\r",
      "OMP SparVar Pipeline from DB:  60%|████████████████████████████████████████████████████████████████████████████████████████████▍                                                              | 2980/5000 [11:18<11:45,  2.86it/s]"
     ]
    },
    {
     "name": "stderr",
     "output_type": "stream",
     "text": [
      "\r",
      "OMP SparVar Pipeline from DB:  60%|█████████████████████████████████████████████████████████████████████████████████████████████                                                              | 3000/5000 [11:25<11:39,  2.86it/s]"
     ]
    },
    {
     "name": "stderr",
     "output_type": "stream",
     "text": [
      "\r",
      "OMP SparVar Pipeline from DB:  60%|█████████████████████████████████████████████████████████████████████████████████████████████▌                                                             | 3020/5000 [11:32<11:34,  2.85it/s]"
     ]
    },
    {
     "name": "stderr",
     "output_type": "stream",
     "text": [
      "\r",
      "OMP SparVar Pipeline from DB:  61%|██████████████████████████████████████████████████████████████████████████████████████████████▏                                                            | 3040/5000 [11:38<11:04,  2.95it/s]"
     ]
    },
    {
     "name": "stderr",
     "output_type": "stream",
     "text": [
      "\r",
      "OMP SparVar Pipeline from DB:  61%|██████████████████████████████████████████████████████████████████████████████████████████████▊                                                            | 3060/5000 [11:46<11:17,  2.86it/s]"
     ]
    },
    {
     "name": "stderr",
     "output_type": "stream",
     "text": [
      "\r",
      "OMP SparVar Pipeline from DB:  62%|███████████████████████████████████████████████████████████████████████████████████████████████▍                                                           | 3080/5000 [11:53<11:23,  2.81it/s]"
     ]
    },
    {
     "name": "stderr",
     "output_type": "stream",
     "text": [
      "\r",
      "OMP SparVar Pipeline from DB:  62%|████████████████████████████████████████████████████████████████████████████████████████████████                                                           | 3100/5000 [12:00<11:10,  2.83it/s]"
     ]
    },
    {
     "name": "stderr",
     "output_type": "stream",
     "text": [
      "\r",
      "OMP SparVar Pipeline from DB:  62%|████████████████████████████████████████████████████████████████████████████████████████████████▋                                                          | 3120/5000 [12:08<11:16,  2.78it/s]"
     ]
    },
    {
     "name": "stderr",
     "output_type": "stream",
     "text": [
      "\r",
      "OMP SparVar Pipeline from DB:  63%|█████████████████████████████████████████████████████████████████████████████████████████████████▎                                                         | 3140/5000 [12:16<11:33,  2.68it/s]"
     ]
    },
    {
     "name": "stderr",
     "output_type": "stream",
     "text": [
      "\r",
      "OMP SparVar Pipeline from DB:  63%|█████████████████████████████████████████████████████████████████████████████████████████████████▉                                                         | 3160/5000 [12:24<11:54,  2.57it/s]"
     ]
    },
    {
     "name": "stderr",
     "output_type": "stream",
     "text": [
      "\r",
      "OMP SparVar Pipeline from DB:  64%|██████████████████████████████████████████████████████████████████████████████████████████████████▌                                                        | 3180/5000 [12:32<11:30,  2.64it/s]"
     ]
    },
    {
     "name": "stderr",
     "output_type": "stream",
     "text": [
      "\r",
      "OMP SparVar Pipeline from DB:  64%|███████████████████████████████████████████████████████████████████████████████████████████████████▏                                                       | 3200/5000 [12:39<11:32,  2.60it/s]"
     ]
    },
    {
     "name": "stderr",
     "output_type": "stream",
     "text": [
      "\r",
      "OMP SparVar Pipeline from DB:  64%|███████████████████████████████████████████████████████████████████████████████████████████████████▊                                                       | 3220/5000 [12:47<11:11,  2.65it/s]"
     ]
    },
    {
     "name": "stderr",
     "output_type": "stream",
     "text": [
      "\r",
      "OMP SparVar Pipeline from DB:  65%|████████████████████████████████████████████████████████████████████████████████████████████████████▍                                                      | 3240/5000 [12:55<11:26,  2.56it/s]"
     ]
    },
    {
     "name": "stderr",
     "output_type": "stream",
     "text": [
      "\r",
      "OMP SparVar Pipeline from DB:  65%|█████████████████████████████████████████████████████████████████████████████████████████████████████                                                      | 3260/5000 [13:02<11:07,  2.61it/s]"
     ]
    },
    {
     "name": "stderr",
     "output_type": "stream",
     "text": [
      "\r",
      "OMP SparVar Pipeline from DB:  66%|█████████████████████████████████████████████████████████████████████████████████████████████████████▋                                                     | 3280/5000 [13:09<10:28,  2.74it/s]"
     ]
    },
    {
     "name": "stderr",
     "output_type": "stream",
     "text": [
      "\r",
      "OMP SparVar Pipeline from DB:  66%|██████████████████████████████████████████████████████████████████████████████████████████████████████▎                                                    | 3300/5000 [13:16<10:14,  2.77it/s]"
     ]
    },
    {
     "name": "stderr",
     "output_type": "stream",
     "text": [
      "\r",
      "OMP SparVar Pipeline from DB:  66%|██████████████████████████████████████████████████████████████████████████████████████████████████████▉                                                    | 3320/5000 [13:23<10:06,  2.77it/s]"
     ]
    },
    {
     "name": "stderr",
     "output_type": "stream",
     "text": [
      "\r",
      "OMP SparVar Pipeline from DB:  67%|███████████████████████████████████████████████████████████████████████████████████████████████████████▌                                                   | 3340/5000 [13:31<10:03,  2.75it/s]"
     ]
    },
    {
     "name": "stderr",
     "output_type": "stream",
     "text": [
      "\r",
      "OMP SparVar Pipeline from DB:  67%|████████████████████████████████████████████████████████████████████████████████████████████████████████▏                                                  | 3360/5000 [13:37<09:41,  2.82it/s]"
     ]
    },
    {
     "name": "stderr",
     "output_type": "stream",
     "text": [
      "\r",
      "OMP SparVar Pipeline from DB:  68%|████████████████████████████████████████████████████████████████████████████████████████████████████████▊                                                  | 3380/5000 [13:44<09:16,  2.91it/s]"
     ]
    },
    {
     "name": "stderr",
     "output_type": "stream",
     "text": [
      "\r",
      "OMP SparVar Pipeline from DB:  68%|█████████████████████████████████████████████████████████████████████████████████████████████████████████▍                                                 | 3400/5000 [13:52<09:47,  2.72it/s]"
     ]
    },
    {
     "name": "stderr",
     "output_type": "stream",
     "text": [
      "\r",
      "OMP SparVar Pipeline from DB:  68%|██████████████████████████████████████████████████████████████████████████████████████████████████████████                                                 | 3420/5000 [13:59<09:43,  2.71it/s]"
     ]
    },
    {
     "name": "stderr",
     "output_type": "stream",
     "text": [
      "\r",
      "OMP SparVar Pipeline from DB:  69%|██████████████████████████████████████████████████████████████████████████████████████████████████████████▋                                                | 3440/5000 [14:07<09:36,  2.71it/s]"
     ]
    },
    {
     "name": "stderr",
     "output_type": "stream",
     "text": [
      "\r",
      "OMP SparVar Pipeline from DB:  69%|███████████████████████████████████████████████████████████████████████████████████████████████████████████▎                                               | 3460/5000 [14:14<09:16,  2.77it/s]"
     ]
    },
    {
     "name": "stderr",
     "output_type": "stream",
     "text": [
      "\r",
      "OMP SparVar Pipeline from DB:  70%|███████████████████████████████████████████████████████████████████████████████████████████████████████████▉                                               | 3480/5000 [14:20<08:54,  2.84it/s]"
     ]
    },
    {
     "name": "stderr",
     "output_type": "stream",
     "text": [
      "\r",
      "OMP SparVar Pipeline from DB:  70%|████████████████████████████████████████████████████████████████████████████████████████████████████████████▌                                              | 3500/5000 [14:27<08:50,  2.83it/s]"
     ]
    },
    {
     "name": "stderr",
     "output_type": "stream",
     "text": [
      "\r",
      "OMP SparVar Pipeline from DB:  70%|█████████████████████████████████████████████████████████████████████████████████████████████████████████████                                              | 3520/5000 [14:34<08:40,  2.84it/s]"
     ]
    },
    {
     "name": "stderr",
     "output_type": "stream",
     "text": [
      "\r",
      "OMP SparVar Pipeline from DB:  71%|█████████████████████████████████████████████████████████████████████████████████████████████████████████████▋                                             | 3540/5000 [14:41<08:21,  2.91it/s]"
     ]
    },
    {
     "name": "stderr",
     "output_type": "stream",
     "text": [
      "\r",
      "OMP SparVar Pipeline from DB:  71%|██████████████████████████████████████████████████████████████████████████████████████████████████████████████▎                                            | 3560/5000 [14:47<08:07,  2.95it/s]"
     ]
    },
    {
     "name": "stderr",
     "output_type": "stream",
     "text": [
      "\r",
      "OMP SparVar Pipeline from DB:  72%|██████████████████████████████████████████████████████████████████████████████████████████████████████████████▉                                            | 3580/5000 [14:54<07:59,  2.96it/s]"
     ]
    },
    {
     "name": "stderr",
     "output_type": "stream",
     "text": [
      "\r",
      "OMP SparVar Pipeline from DB:  72%|███████████████████████████████████████████████████████████████████████████████████████████████████████████████▌                                           | 3600/5000 [15:01<08:01,  2.91it/s]"
     ]
    },
    {
     "name": "stderr",
     "output_type": "stream",
     "text": [
      "\r",
      "OMP SparVar Pipeline from DB:  72%|████████████████████████████████████████████████████████████████████████████████████████████████████████████████▏                                          | 3620/5000 [15:08<07:59,  2.88it/s]"
     ]
    },
    {
     "name": "stderr",
     "output_type": "stream",
     "text": [
      "\r",
      "OMP SparVar Pipeline from DB:  73%|████████████████████████████████████████████████████████████████████████████████████████████████████████████████▊                                          | 3640/5000 [15:15<07:54,  2.87it/s]"
     ]
    },
    {
     "name": "stderr",
     "output_type": "stream",
     "text": [
      "\r",
      "OMP SparVar Pipeline from DB:  73%|█████████████████████████████████████████████████████████████████████████████████████████████████████████████████▍                                         | 3660/5000 [15:23<07:49,  2.85it/s]"
     ]
    },
    {
     "name": "stderr",
     "output_type": "stream",
     "text": [
      "\r",
      "OMP SparVar Pipeline from DB:  74%|██████████████████████████████████████████████████████████████████████████████████████████████████████████████████                                         | 3680/5000 [15:28<07:19,  3.00it/s]"
     ]
    },
    {
     "name": "stderr",
     "output_type": "stream",
     "text": [
      "\r",
      "OMP SparVar Pipeline from DB:  74%|██████████████████████████████████████████████████████████████████████████████████████████████████████████████████▋                                        | 3700/5000 [15:36<07:29,  2.89it/s]"
     ]
    },
    {
     "name": "stderr",
     "output_type": "stream",
     "text": [
      "\r",
      "OMP SparVar Pipeline from DB:  74%|███████████████████████████████████████████████████████████████████████████████████████████████████████████████████▎                                       | 3720/5000 [15:42<07:14,  2.94it/s]"
     ]
    },
    {
     "name": "stderr",
     "output_type": "stream",
     "text": [
      "\r",
      "OMP SparVar Pipeline from DB:  75%|███████████████████████████████████████████████████████████████████████████████████████████████████████████████████▉                                       | 3740/5000 [15:51<07:40,  2.74it/s]"
     ]
    },
    {
     "name": "stderr",
     "output_type": "stream",
     "text": [
      "\r",
      "OMP SparVar Pipeline from DB:  75%|████████████████████████████████████████████████████████████████████████████████████████████████████████████████████▌                                      | 3760/5000 [15:58<07:34,  2.73it/s]"
     ]
    },
    {
     "name": "stderr",
     "output_type": "stream",
     "text": [
      "\r",
      "OMP SparVar Pipeline from DB:  76%|█████████████████████████████████████████████████████████████████████████████████████████████████████████████████████▏                                     | 3780/5000 [16:06<07:26,  2.73it/s]"
     ]
    },
    {
     "name": "stderr",
     "output_type": "stream",
     "text": [
      "\r",
      "OMP SparVar Pipeline from DB:  76%|█████████████████████████████████████████████████████████████████████████████████████████████████████████████████████▊                                     | 3800/5000 [16:13<07:15,  2.76it/s]"
     ]
    },
    {
     "name": "stderr",
     "output_type": "stream",
     "text": [
      "\r",
      "OMP SparVar Pipeline from DB:  76%|██████████████████████████████████████████████████████████████████████████████████████████████████████████████████████▍                                    | 3820/5000 [16:20<07:00,  2.81it/s]"
     ]
    },
    {
     "name": "stderr",
     "output_type": "stream",
     "text": [
      "\r",
      "OMP SparVar Pipeline from DB:  77%|███████████████████████████████████████████████████████████████████████████████████████████████████████████████████████                                    | 3840/5000 [16:25<06:22,  3.03it/s]"
     ]
    },
    {
     "name": "stderr",
     "output_type": "stream",
     "text": [
      "\r",
      "OMP SparVar Pipeline from DB:  77%|███████████████████████████████████████████████████████████████████████████████████████████████████████████████████████▋                                   | 3860/5000 [16:32<06:19,  3.00it/s]"
     ]
    },
    {
     "name": "stderr",
     "output_type": "stream",
     "text": [
      "\r",
      "OMP SparVar Pipeline from DB:  78%|████████████████████████████████████████████████████████████████████████████████████████████████████████████████████████▎                                  | 3880/5000 [16:39<06:28,  2.89it/s]"
     ]
    },
    {
     "name": "stderr",
     "output_type": "stream",
     "text": [
      "\r",
      "OMP SparVar Pipeline from DB:  78%|████████████████████████████████████████████████████████████████████████████████████████████████████████████████████████▉                                  | 3900/5000 [16:46<06:13,  2.94it/s]"
     ]
    },
    {
     "name": "stderr",
     "output_type": "stream",
     "text": [
      "\r",
      "OMP SparVar Pipeline from DB:  78%|█████████████████████████████████████████████████████████████████████████████████████████████████████████████████████████▌                                 | 3920/5000 [16:52<05:53,  3.05it/s]"
     ]
    },
    {
     "name": "stderr",
     "output_type": "stream",
     "text": [
      "\r",
      "OMP SparVar Pipeline from DB:  79%|██████████████████████████████████████████████████████████████████████████████████████████████████████████████████████████▏                                | 3940/5000 [16:58<05:43,  3.09it/s]"
     ]
    },
    {
     "name": "stderr",
     "output_type": "stream",
     "text": [
      "\r",
      "OMP SparVar Pipeline from DB:  79%|██████████████████████████████████████████████████████████████████████████████████████████████████████████████████████████▊                                | 3960/5000 [17:05<05:51,  2.96it/s]"
     ]
    },
    {
     "name": "stderr",
     "output_type": "stream",
     "text": [
      "\r",
      "OMP SparVar Pipeline from DB:  80%|███████████████████████████████████████████████████████████████████████████████████████████████████████████████████████████▍                               | 3980/5000 [17:13<06:01,  2.82it/s]"
     ]
    },
    {
     "name": "stderr",
     "output_type": "stream",
     "text": [
      "\r",
      "OMP SparVar Pipeline from DB:  80%|████████████████████████████████████████████████████████████████████████████████████████████████████████████████████████████                               | 4000/5000 [17:20<05:51,  2.84it/s]"
     ]
    },
    {
     "name": "stderr",
     "output_type": "stream",
     "text": [
      "\r",
      "OMP SparVar Pipeline from DB:  80%|████████████████████████████████████████████████████████████████████████████████████████████████████████████████████████████▌                              | 4020/5000 [17:27<05:45,  2.84it/s]"
     ]
    },
    {
     "name": "stderr",
     "output_type": "stream",
     "text": [
      "\r",
      "OMP SparVar Pipeline from DB:  81%|█████████████████████████████████████████████████████████████████████████████████████████████████████████████████████████████▏                             | 4040/5000 [17:34<05:31,  2.90it/s]"
     ]
    },
    {
     "name": "stderr",
     "output_type": "stream",
     "text": [
      "\r",
      "OMP SparVar Pipeline from DB:  81%|█████████████████████████████████████████████████████████████████████████████████████████████████████████████████████████████▊                             | 4060/5000 [17:42<05:43,  2.74it/s]"
     ]
    },
    {
     "name": "stderr",
     "output_type": "stream",
     "text": [
      "\r",
      "OMP SparVar Pipeline from DB:  82%|██████████████████████████████████████████████████████████████████████████████████████████████████████████████████████████████▍                            | 4080/5000 [17:49<05:28,  2.80it/s]"
     ]
    },
    {
     "name": "stderr",
     "output_type": "stream",
     "text": [
      "\r",
      "OMP SparVar Pipeline from DB:  82%|███████████████████████████████████████████████████████████████████████████████████████████████████████████████████████████████                            | 4100/5000 [17:56<05:26,  2.75it/s]"
     ]
    },
    {
     "name": "stderr",
     "output_type": "stream",
     "text": [
      "\r",
      "OMP SparVar Pipeline from DB:  82%|███████████████████████████████████████████████████████████████████████████████████████████████████████████████████████████████▋                           | 4120/5000 [18:03<05:08,  2.86it/s]"
     ]
    },
    {
     "name": "stderr",
     "output_type": "stream",
     "text": [
      "\r",
      "OMP SparVar Pipeline from DB:  83%|████████████████████████████████████████████████████████████████████████████████████████████████████████████████████████████████▎                          | 4140/5000 [18:10<04:59,  2.87it/s]"
     ]
    },
    {
     "name": "stderr",
     "output_type": "stream",
     "text": [
      "\r",
      "OMP SparVar Pipeline from DB:  83%|████████████████████████████████████████████████████████████████████████████████████████████████████████████████████████████████▉                          | 4160/5000 [18:18<05:04,  2.76it/s]"
     ]
    },
    {
     "name": "stderr",
     "output_type": "stream",
     "text": [
      "\r",
      "OMP SparVar Pipeline from DB:  84%|█████████████████████████████████████████████████████████████████████████████████████████████████████████████████████████████████▌                         | 4180/5000 [18:24<04:51,  2.82it/s]"
     ]
    },
    {
     "name": "stderr",
     "output_type": "stream",
     "text": [
      "\r",
      "OMP SparVar Pipeline from DB:  84%|██████████████████████████████████████████████████████████████████████████████████████████████████████████████████████████████████▏                        | 4200/5000 [18:31<04:39,  2.86it/s]"
     ]
    },
    {
     "name": "stderr",
     "output_type": "stream",
     "text": [
      "\r",
      "OMP SparVar Pipeline from DB:  84%|██████████████████████████████████████████████████████████████████████████████████████████████████████████████████████████████████▊                        | 4220/5000 [18:38<04:34,  2.84it/s]"
     ]
    },
    {
     "name": "stderr",
     "output_type": "stream",
     "text": [
      "\r",
      "OMP SparVar Pipeline from DB:  85%|███████████████████████████████████████████████████████████████████████████████████████████████████████████████████████████████████▍                       | 4240/5000 [18:44<04:14,  2.98it/s]"
     ]
    },
    {
     "name": "stderr",
     "output_type": "stream",
     "text": [
      "\r",
      "OMP SparVar Pipeline from DB:  85%|████████████████████████████████████████████████████████████████████████████████████████████████████████████████████████████████████                       | 4260/5000 [18:51<04:12,  2.93it/s]"
     ]
    },
    {
     "name": "stderr",
     "output_type": "stream",
     "text": [
      "\r",
      "OMP SparVar Pipeline from DB:  86%|████████████████████████████████████████████████████████████████████████████████████████████████████████████████████████████████████▋                      | 4280/5000 [18:58<04:06,  2.92it/s]"
     ]
    },
    {
     "name": "stderr",
     "output_type": "stream",
     "text": [
      "\r",
      "OMP SparVar Pipeline from DB:  86%|█████████████████████████████████████████████████████████████████████████████████████████████████████████████████████████████████████▎                     | 4300/5000 [19:05<04:04,  2.86it/s]"
     ]
    },
    {
     "name": "stderr",
     "output_type": "stream",
     "text": [
      "\r",
      "OMP SparVar Pipeline from DB:  86%|█████████████████████████████████████████████████████████████████████████████████████████████████████████████████████████████████████▉                     | 4320/5000 [19:12<03:56,  2.88it/s]"
     ]
    },
    {
     "name": "stderr",
     "output_type": "stream",
     "text": [
      "\r",
      "OMP SparVar Pipeline from DB:  87%|██████████████████████████████████████████████████████████████████████████████████████████████████████████████████████████████████████▌                    | 4340/5000 [19:19<03:49,  2.87it/s]"
     ]
    },
    {
     "name": "stderr",
     "output_type": "stream",
     "text": [
      "\r",
      "OMP SparVar Pipeline from DB:  87%|███████████████████████████████████████████████████████████████████████████████████████████████████████████████████████████████████████▏                   | 4360/5000 [19:27<03:47,  2.81it/s]"
     ]
    },
    {
     "name": "stderr",
     "output_type": "stream",
     "text": [
      "\r",
      "OMP SparVar Pipeline from DB:  88%|███████████████████████████████████████████████████████████████████████████████████████████████████████████████████████████████████████▊                   | 4380/5000 [19:35<03:50,  2.68it/s]"
     ]
    },
    {
     "name": "stderr",
     "output_type": "stream",
     "text": [
      "\r",
      "OMP SparVar Pipeline from DB:  88%|████████████████████████████████████████████████████████████████████████████████████████████████████████████████████████████████████████▍                  | 4400/5000 [19:42<03:42,  2.70it/s]"
     ]
    },
    {
     "name": "stderr",
     "output_type": "stream",
     "text": [
      "\r",
      "OMP SparVar Pipeline from DB:  88%|█████████████████████████████████████████████████████████████████████████████████████████████████████████████████████████████████████████                  | 4420/5000 [19:50<03:34,  2.70it/s]"
     ]
    },
    {
     "name": "stderr",
     "output_type": "stream",
     "text": [
      "\r",
      "OMP SparVar Pipeline from DB:  89%|█████████████████████████████████████████████████████████████████████████████████████████████████████████████████████████████████████████▋                 | 4440/5000 [19:57<03:28,  2.68it/s]"
     ]
    },
    {
     "name": "stderr",
     "output_type": "stream",
     "text": [
      "\r",
      "OMP SparVar Pipeline from DB:  89%|██████████████████████████████████████████████████████████████████████████████████████████████████████████████████████████████████████████▎                | 4460/5000 [20:04<03:17,  2.74it/s]"
     ]
    },
    {
     "name": "stderr",
     "output_type": "stream",
     "text": [
      "\r",
      "OMP SparVar Pipeline from DB:  90%|██████████████████████████████████████████████████████████████████████████████████████████████████████████████████████████████████████████▉                | 4480/5000 [20:11<03:08,  2.76it/s]"
     ]
    },
    {
     "name": "stderr",
     "output_type": "stream",
     "text": [
      "\r",
      "OMP SparVar Pipeline from DB:  90%|███████████████████████████████████████████████████████████████████████████████████████████████████████████████████████████████████████████▌               | 4500/5000 [20:17<02:46,  3.00it/s]"
     ]
    },
    {
     "name": "stderr",
     "output_type": "stream",
     "text": [
      "\r",
      "OMP SparVar Pipeline from DB:  90%|████████████████████████████████████████████████████████████████████████████████████████████████████████████████████████████████████████████               | 4520/5000 [20:24<02:42,  2.95it/s]"
     ]
    },
    {
     "name": "stderr",
     "output_type": "stream",
     "text": [
      "\r",
      "OMP SparVar Pipeline from DB:  91%|████████████████████████████████████████████████████████████████████████████████████████████████████████████████████████████████████████████▋              | 4540/5000 [20:30<02:34,  2.97it/s]"
     ]
    },
    {
     "name": "stderr",
     "output_type": "stream",
     "text": [
      "\r",
      "OMP SparVar Pipeline from DB:  91%|█████████████████████████████████████████████████████████████████████████████████████████████████████████████████████████████████████████████▎             | 4560/5000 [20:37<02:26,  3.01it/s]"
     ]
    },
    {
     "name": "stderr",
     "output_type": "stream",
     "text": [
      "\r",
      "OMP SparVar Pipeline from DB:  92%|█████████████████████████████████████████████████████████████████████████████████████████████████████████████████████████████████████████████▉             | 4580/5000 [20:44<02:24,  2.91it/s]"
     ]
    },
    {
     "name": "stderr",
     "output_type": "stream",
     "text": [
      "\r",
      "OMP SparVar Pipeline from DB:  92%|██████████████████████████████████████████████████████████████████████████████████████████████████████████████████████████████████████████████▌            | 4600/5000 [20:51<02:15,  2.95it/s]"
     ]
    },
    {
     "name": "stderr",
     "output_type": "stream",
     "text": [
      "\r",
      "OMP SparVar Pipeline from DB:  92%|███████████████████████████████████████████████████████████████████████████████████████████████████████████████████████████████████████████████▏           | 4620/5000 [20:58<02:14,  2.83it/s]"
     ]
    },
    {
     "name": "stderr",
     "output_type": "stream",
     "text": [
      "\r",
      "OMP SparVar Pipeline from DB:  93%|███████████████████████████████████████████████████████████████████████████████████████████████████████████████████████████████████████████████▊           | 4640/5000 [21:05<02:06,  2.84it/s]"
     ]
    },
    {
     "name": "stderr",
     "output_type": "stream",
     "text": [
      "\r",
      "OMP SparVar Pipeline from DB:  93%|████████████████████████████████████████████████████████████████████████████████████████████████████████████████████████████████████████████████▍          | 4660/5000 [21:13<02:03,  2.76it/s]"
     ]
    },
    {
     "name": "stderr",
     "output_type": "stream",
     "text": [
      "\r",
      "OMP SparVar Pipeline from DB:  94%|█████████████████████████████████████████████████████████████████████████████████████████████████████████████████████████████████████████████████          | 4680/5000 [21:21<02:00,  2.67it/s]"
     ]
    },
    {
     "name": "stderr",
     "output_type": "stream",
     "text": [
      "\r",
      "OMP SparVar Pipeline from DB:  94%|█████████████████████████████████████████████████████████████████████████████████████████████████████████████████████████████████████████████████▋         | 4700/5000 [21:29<01:53,  2.64it/s]"
     ]
    },
    {
     "name": "stderr",
     "output_type": "stream",
     "text": [
      "\r",
      "OMP SparVar Pipeline from DB:  94%|██████████████████████████████████████████████████████████████████████████████████████████████████████████████████████████████████████████████████▎        | 4720/5000 [21:36<01:43,  2.71it/s]"
     ]
    },
    {
     "name": "stderr",
     "output_type": "stream",
     "text": [
      "\r",
      "OMP SparVar Pipeline from DB:  95%|██████████████████████████████████████████████████████████████████████████████████████████████████████████████████████████████████████████████████▉        | 4740/5000 [21:43<01:33,  2.77it/s]"
     ]
    },
    {
     "name": "stderr",
     "output_type": "stream",
     "text": [
      "\r",
      "OMP SparVar Pipeline from DB:  95%|███████████████████████████████████████████████████████████████████████████████████████████████████████████████████████████████████████████████████▌       | 4760/5000 [21:50<01:24,  2.83it/s]"
     ]
    },
    {
     "name": "stderr",
     "output_type": "stream",
     "text": [
      "\r",
      "OMP SparVar Pipeline from DB:  96%|████████████████████████████████████████████████████████████████████████████████████████████████████████████████████████████████████████████████████▏      | 4780/5000 [21:56<01:16,  2.87it/s]"
     ]
    },
    {
     "name": "stderr",
     "output_type": "stream",
     "text": [
      "\r",
      "OMP SparVar Pipeline from DB:  96%|████████████████████████████████████████████████████████████████████████████████████████████████████████████████████████████████████████████████████▊      | 4800/5000 [22:03<01:08,  2.94it/s]"
     ]
    },
    {
     "name": "stderr",
     "output_type": "stream",
     "text": [
      "\r",
      "OMP SparVar Pipeline from DB:  96%|█████████████████████████████████████████████████████████████████████████████████████████████████████████████████████████████████████████████████████▍     | 4820/5000 [22:09<01:01,  2.95it/s]"
     ]
    },
    {
     "name": "stderr",
     "output_type": "stream",
     "text": [
      "\r",
      "OMP SparVar Pipeline from DB:  97%|██████████████████████████████████████████████████████████████████████████████████████████████████████████████████████████████████████████████████████     | 4840/5000 [22:16<00:54,  2.94it/s]"
     ]
    },
    {
     "name": "stderr",
     "output_type": "stream",
     "text": [
      "\r",
      "OMP SparVar Pipeline from DB:  97%|██████████████████████████████████████████████████████████████████████████████████████████████████████████████████████████████████████████████████████▋    | 4860/5000 [22:23<00:48,  2.89it/s]"
     ]
    },
    {
     "name": "stderr",
     "output_type": "stream",
     "text": [
      "\r",
      "OMP SparVar Pipeline from DB:  98%|███████████████████████████████████████████████████████████████████████████████████████████████████████████████████████████████████████████████████████▎   | 4880/5000 [22:31<00:41,  2.86it/s]"
     ]
    },
    {
     "name": "stderr",
     "output_type": "stream",
     "text": [
      "\r",
      "OMP SparVar Pipeline from DB:  98%|███████████████████████████████████████████████████████████████████████████████████████████████████████████████████████████████████████████████████████▉   | 4900/5000 [22:39<00:36,  2.74it/s]"
     ]
    },
    {
     "name": "stderr",
     "output_type": "stream",
     "text": [
      "\r",
      "OMP SparVar Pipeline from DB:  98%|████████████████████████████████████████████████████████████████████████████████████████████████████████████████████████████████████████████████████████▌  | 4920/5000 [22:47<00:30,  2.67it/s]"
     ]
    },
    {
     "name": "stderr",
     "output_type": "stream",
     "text": [
      "\r",
      "OMP SparVar Pipeline from DB:  99%|█████████████████████████████████████████████████████████████████████████████████████████████████████████████████████████████████████████████████████████▏ | 4940/5000 [22:56<00:23,  2.51it/s]"
     ]
    },
    {
     "name": "stderr",
     "output_type": "stream",
     "text": [
      "\r",
      "OMP SparVar Pipeline from DB:  99%|█████████████████████████████████████████████████████████████████████████████████████████████████████████████████████████████████████████████████████████▊ | 4960/5000 [23:03<00:15,  2.61it/s]"
     ]
    },
    {
     "name": "stderr",
     "output_type": "stream",
     "text": [
      "\r",
      "OMP SparVar Pipeline from DB: 100%|██████████████████████████████████████████████████████████████████████████████████████████████████████████████████████████████████████████████████████████▍| 4980/5000 [23:10<00:07,  2.62it/s]"
     ]
    },
    {
     "name": "stderr",
     "output_type": "stream",
     "text": [
      "\r",
      "OMP SparVar Pipeline from DB: 100%|███████████████████████████████████████████████████████████████████████████████████████████████████████████████████████████████████████████████████████████| 5000/5000 [23:18<00:00,  2.62it/s]"
     ]
    },
    {
     "name": "stderr",
     "output_type": "stream",
     "text": [
      "\r",
      "OMP SparVar Pipeline from DB: 100%|███████████████████████████████████████████████████████████████████████████████████████████████████████████████████████████████████████████████████████████| 5000/5000 [23:18<00:00,  3.58it/s]"
     ]
    },
    {
     "name": "stderr",
     "output_type": "stream",
     "text": [
      "\n"
     ]
    }
   ],
   "source": [
    "# Pipeline parameters\n",
    "NB_CORES = 20\n",
    "MAX_SPARSITY = 10\n",
    "\n",
    "# Run pipeline\n",
    "today = get_today_date_str()\n",
    "output_omp_db = f'/home/gomes/synthetic-data/{today}-omp-{batchSize}.json'\n",
    "dictionary.ompSparVarPipelineFromDB(input_signals_db, output_omp_db, nb_cores=NB_CORES, max_sparsity=MAX_SPARSITY, verbose=False)"
   ]
  }
 ],
 "metadata": {
  "kernelspec": {
   "display_name": "phlamesenv",
   "language": "python",
   "name": "python3"
  },
  "language_info": {
   "codemirror_mode": {
    "name": "ipython",
    "version": 3
   },
   "file_extension": ".py",
   "mimetype": "text/x-python",
   "name": "python",
   "nbconvert_exporter": "python",
   "pygments_lexer": "ipython3",
   "version": "3.11.2"
  },
  "papermill": {
   "default_parameters": {},
   "duration": 1426.577117,
   "end_time": "2024-07-23T16:19:16.304337",
   "environment_variables": {},
   "exception": null,
   "input_path": "buildOMPSparVar.ipynb",
   "output_path": "out_build_omp_sv.ipynb",
   "parameters": {},
   "start_time": "2024-07-23T15:55:29.727220",
   "version": "2.6.0"
  }
 },
 "nbformat": 4,
 "nbformat_minor": 5
}