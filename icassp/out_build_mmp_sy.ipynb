{
 "cells": [
  {
   "cell_type": "markdown",
   "id": "8584e3c5",
   "metadata": {
    "papermill": {
     "duration": 0.003487,
     "end_time": "2024-07-23T15:57:13.160022",
     "exception": false,
     "start_time": "2024-07-23T15:57:13.156535",
     "status": "completed"
    },
    "tags": []
   },
   "source": [
    "# Build SparVar MMP Database"
   ]
  },
  {
   "cell_type": "code",
   "execution_count": 1,
   "id": "f4147be0",
   "metadata": {
    "execution": {
     "iopub.execute_input": "2024-07-23T15:57:13.168194Z",
     "iopub.status.busy": "2024-07-23T15:57:13.167714Z",
     "iopub.status.idle": "2024-07-23T15:57:16.916798Z",
     "shell.execute_reply": "2024-07-23T15:57:16.915457Z"
    },
    "papermill": {
     "duration": 3.756016,
     "end_time": "2024-07-23T15:57:16.919295",
     "exception": false,
     "start_time": "2024-07-23T15:57:13.163279",
     "status": "completed"
    },
    "tags": []
   },
   "outputs": [
    {
     "name": "stdout",
     "output_type": "stream",
     "text": [
      "The dictionary has 143 different atoms\n"
     ]
    }
   ],
   "source": [
    "import numpy as np\n",
    "from csc.utils import *\n",
    "from csc.atoms import *\n",
    "from csc.dictionary import *\n",
    "from itertools import product\n",
    "import matplotlib.pyplot as plt\n",
    "\n",
    "# Atom parameters\n",
    "bmin = 0.005\n",
    "bmax = 0.06\n",
    "b_step = 0.005\n",
    "b_values = np.arange(bmin, bmax, b_step)\n",
    "\n",
    "ymin = 0.010\n",
    "ymax = 0.036\n",
    "y_step = 0.002\n",
    "y_values = np.arange(ymin, ymax, y_step)\n",
    "\n",
    "s_values = [1]\n",
    "\n",
    "dictionary = ZSDictionary.from_values(b_values, y_values, s_values)\n",
    "print('The dictionary has {} different atoms'.format(len(dictionary)))"
   ]
  },
  {
   "cell_type": "markdown",
   "id": "35100661",
   "metadata": {
    "papermill": {
     "duration": 0.002716,
     "end_time": "2024-07-23T15:57:16.925293",
     "exception": false,
     "start_time": "2024-07-23T15:57:16.922577",
     "status": "completed"
    },
    "tags": []
   },
   "source": [
    "## Build sparsity variation database\n",
    "\n",
    "#### Format :\n",
    "````\n",
    "'source' = input_filename\n",
    "'date' = get_today_date_str()\n",
    "'algorithm' = 'Convolutional MMP-DF'\n",
    "'nbBranches' = branches\n",
    "'connections' = connections\n",
    "'dissimilarity' = dissimilarity\n",
    "'maxSparsityLevel' = max_sparsity\n",
    "'batchSize' = data['batchSize']\n",
    "'snrLevels' = data['snrLevels']\n",
    "'signalLength' = data['signalLength']\n",
    "'sparsityLevels' = data['sparsityLevels']\n",
    "'dictionary' = str(self)\n",
    "'mmp' : \n",
    "    [\n",
    "        {\n",
    "            'id' : 0,\n",
    "            'snr' : snr,\n",
    "            'results' : [\n",
    "                {\n",
    "                    'mse' : #MSE,\n",
    "                    'path' : '2'\n",
    "                    'delay' : #DELAY,\n",
    "                    'atoms' : [\n",
    "                        {'x':x, 'b':b, 'y':y, 's':s}\n",
    "                        #1\n",
    "                    ]\n",
    "                },\n",
    "                ...\n",
    "                {\n",
    "                    'mse' : #MSE,\n",
    "                    'path' : '2-3-...-1'\n",
    "                    'delay' : #DELAY,\n",
    "                    'atoms' : [\n",
    "                        {'x':x, 'b':b, 'y':y, 's':s}\n",
    "                        #max_sparsity\n",
    "                    ]\n",
    "                }\n",
    "                ]\n",
    "        },\n",
    "        {\n",
    "            'id' : 1,\n",
    "            ...\n",
    "        },\n",
    "\n",
    "        ...\n",
    "\n",
    "    ]\n",
    "````"
   ]
  },
  {
   "cell_type": "code",
   "execution_count": 2,
   "id": "a7fb54f5",
   "metadata": {
    "execution": {
     "iopub.execute_input": "2024-07-23T15:57:16.933910Z",
     "iopub.status.busy": "2024-07-23T15:57:16.932446Z",
     "iopub.status.idle": "2024-07-23T15:57:16.938294Z",
     "shell.execute_reply": "2024-07-23T15:57:16.937403Z"
    },
    "papermill": {
     "duration": 0.012074,
     "end_time": "2024-07-23T15:57:16.940069",
     "exception": false,
     "start_time": "2024-07-23T15:57:16.927995",
     "status": "completed"
    },
    "tags": []
   },
   "outputs": [],
   "source": [
    "batchSize = 200\n",
    "input_signals_db = f'/home/gomes/synthetic-data/csc-signals-{batchSize}.json'"
   ]
  },
  {
   "cell_type": "markdown",
   "id": "93ab2864",
   "metadata": {
    "papermill": {
     "duration": 0.002934,
     "end_time": "2024-07-23T15:57:16.946558",
     "exception": false,
     "start_time": "2024-07-23T15:57:16.943624",
     "status": "completed"
    },
    "tags": []
   },
   "source": [
    "### Check the ``DISSIMILARITY`` threshold"
   ]
  },
  {
   "cell_type": "code",
   "execution_count": 3,
   "id": "d479cba9",
   "metadata": {
    "execution": {
     "iopub.execute_input": "2024-07-23T15:57:16.954430Z",
     "iopub.status.busy": "2024-07-23T15:57:16.953691Z",
     "iopub.status.idle": "2024-07-23T19:45:34.848058Z",
     "shell.execute_reply": "2024-07-23T19:45:34.846594Z"
    },
    "papermill": {
     "duration": 13697.902582,
     "end_time": "2024-07-23T19:45:34.851977",
     "exception": false,
     "start_time": "2024-07-23T15:57:16.949395",
     "status": "completed"
    },
    "tags": []
   },
   "outputs": [
    {
     "name": "stderr",
     "output_type": "stream",
     "text": [
      "\r",
      "MMP-DF SparVar Pipeline from DB:   0%|                                                                                                                                                                   | 0/5000 [00:00<?, ?it/s]"
     ]
    },
    {
     "name": "stderr",
     "output_type": "stream",
     "text": [
      "\r",
      "MMP-DF SparVar Pipeline from DB:   1%|██▏                                                                                                                                                       | 70/5000 [00:02<02:32, 32.34it/s]"
     ]
    },
    {
     "name": "stderr",
     "output_type": "stream",
     "text": [
      "\r",
      "MMP-DF SparVar Pipeline from DB:   1%|██▏                                                                                                                                                       | 70/5000 [00:19<02:32, 32.34it/s]"
     ]
    },
    {
     "name": "stderr",
     "output_type": "stream",
     "text": [
      "\r",
      "MMP-DF SparVar Pipeline from DB:   3%|████▏                                                                                                                                                  | 140/5000 [03:03<2:04:33,  1.54s/it]"
     ]
    },
    {
     "name": "stderr",
     "output_type": "stream",
     "text": [
      "\r",
      "MMP-DF SparVar Pipeline from DB:   4%|██████▎                                                                                                                                                | 210/5000 [05:01<2:08:03,  1.60s/it]"
     ]
    },
    {
     "name": "stderr",
     "output_type": "stream",
     "text": [
      "\r",
      "MMP-DF SparVar Pipeline from DB:   6%|████████▍                                                                                                                                              | 280/5000 [08:45<2:55:55,  2.24s/it]"
     ]
    },
    {
     "name": "stderr",
     "output_type": "stream",
     "text": [
      "\r",
      "MMP-DF SparVar Pipeline from DB:   7%|██████████▌                                                                                                                                            | 350/5000 [12:47<3:27:19,  2.68s/it]"
     ]
    },
    {
     "name": "stderr",
     "output_type": "stream",
     "text": [
      "/home/gomes/phlamesenv/lib/python3.11/site-packages/joblib/externals/loky/process_executor.py:752: UserWarning: A worker stopped while some jobs were given to the executor. This can be caused by a too short worker timeout or by a memory leak.\n",
      "  warnings.warn(\n"
     ]
    },
    {
     "name": "stderr",
     "output_type": "stream",
     "text": [
      "\r",
      "MMP-DF SparVar Pipeline from DB:   8%|████████████▋                                                                                                                                          | 420/5000 [16:41<3:41:22,  2.90s/it]"
     ]
    },
    {
     "name": "stderr",
     "output_type": "stream",
     "text": [
      "\r",
      "MMP-DF SparVar Pipeline from DB:  10%|██████████████▊                                                                                                                                        | 490/5000 [20:37<3:49:33,  3.05s/it]"
     ]
    },
    {
     "name": "stderr",
     "output_type": "stream",
     "text": [
      "\r",
      "MMP-DF SparVar Pipeline from DB:  11%|████████████████▉                                                                                                                                      | 560/5000 [23:58<3:41:52,  3.00s/it]"
     ]
    },
    {
     "name": "stderr",
     "output_type": "stream",
     "text": [
      "\r",
      "MMP-DF SparVar Pipeline from DB:  13%|███████████████████                                                                                                                                    | 630/5000 [27:20<3:35:37,  2.96s/it]"
     ]
    },
    {
     "name": "stderr",
     "output_type": "stream",
     "text": [
      "\r",
      "MMP-DF SparVar Pipeline from DB:  14%|█████████████████████▏                                                                                                                                 | 700/5000 [30:20<3:23:33,  2.84s/it]"
     ]
    },
    {
     "name": "stderr",
     "output_type": "stream",
     "text": [
      "\r",
      "MMP-DF SparVar Pipeline from DB:  15%|███████████████████████▎                                                                                                                               | 770/5000 [33:17<3:13:38,  2.75s/it]"
     ]
    },
    {
     "name": "stderr",
     "output_type": "stream",
     "text": [
      "\r",
      "MMP-DF SparVar Pipeline from DB:  17%|█████████████████████████▎                                                                                                                             | 840/5000 [36:24<3:08:45,  2.72s/it]"
     ]
    },
    {
     "name": "stderr",
     "output_type": "stream",
     "text": [
      "\r",
      "MMP-DF SparVar Pipeline from DB:  18%|███████████████████████████▍                                                                                                                           | 910/5000 [39:27<3:03:32,  2.69s/it]"
     ]
    },
    {
     "name": "stderr",
     "output_type": "stream",
     "text": [
      "\r",
      "MMP-DF SparVar Pipeline from DB:  20%|█████████████████████████████▌                                                                                                                         | 980/5000 [42:32<2:59:18,  2.68s/it]"
     ]
    },
    {
     "name": "stderr",
     "output_type": "stream",
     "text": [
      "\r",
      "MMP-DF SparVar Pipeline from DB:  21%|███████████████████████████████▌                                                                                                                      | 1050/5000 [45:20<2:50:36,  2.59s/it]"
     ]
    },
    {
     "name": "stderr",
     "output_type": "stream",
     "text": [
      "\r",
      "MMP-DF SparVar Pipeline from DB:  22%|█████████████████████████████████▌                                                                                                                    | 1120/5000 [48:07<2:43:35,  2.53s/it]"
     ]
    },
    {
     "name": "stderr",
     "output_type": "stream",
     "text": [
      "\r",
      "MMP-DF SparVar Pipeline from DB:  24%|███████████████████████████████████▋                                                                                                                  | 1190/5000 [51:06<2:41:15,  2.54s/it]"
     ]
    },
    {
     "name": "stderr",
     "output_type": "stream",
     "text": [
      "\r",
      "MMP-DF SparVar Pipeline from DB:  25%|█████████████████████████████████████▊                                                                                                                | 1260/5000 [54:21<2:42:46,  2.61s/it]"
     ]
    },
    {
     "name": "stderr",
     "output_type": "stream",
     "text": [
      "\r",
      "MMP-DF SparVar Pipeline from DB:  27%|███████████████████████████████████████▉                                                                                                              | 1330/5000 [57:14<2:37:12,  2.57s/it]"
     ]
    },
    {
     "name": "stderr",
     "output_type": "stream",
     "text": [
      "\r",
      "MMP-DF SparVar Pipeline from DB:  28%|█████████████████████████████████████████▍                                                                                                          | 1400/5000 [1:00:35<2:39:40,  2.66s/it]"
     ]
    },
    {
     "name": "stderr",
     "output_type": "stream",
     "text": [
      "\r",
      "MMP-DF SparVar Pipeline from DB:  29%|███████████████████████████████████████████▌                                                                                                        | 1470/5000 [1:03:31<2:33:55,  2.62s/it]"
     ]
    },
    {
     "name": "stderr",
     "output_type": "stream",
     "text": [
      "\r",
      "MMP-DF SparVar Pipeline from DB:  31%|█████████████████████████████████████████████▌                                                                                                      | 1540/5000 [1:06:32<2:30:25,  2.61s/it]"
     ]
    },
    {
     "name": "stderr",
     "output_type": "stream",
     "text": [
      "\r",
      "MMP-DF SparVar Pipeline from DB:  32%|███████████████████████████████████████████████▋                                                                                                    | 1610/5000 [1:09:43<2:29:27,  2.65s/it]"
     ]
    },
    {
     "name": "stderr",
     "output_type": "stream",
     "text": [
      "\r",
      "MMP-DF SparVar Pipeline from DB:  34%|█████████████████████████████████████████████████▋                                                                                                  | 1680/5000 [1:12:38<2:23:49,  2.60s/it]"
     ]
    },
    {
     "name": "stderr",
     "output_type": "stream",
     "text": [
      "\r",
      "MMP-DF SparVar Pipeline from DB:  35%|███████████████████████████████████████████████████▊                                                                                                | 1750/5000 [1:15:26<2:17:44,  2.54s/it]"
     ]
    },
    {
     "name": "stderr",
     "output_type": "stream",
     "text": [
      "\r",
      "MMP-DF SparVar Pipeline from DB:  36%|█████████████████████████████████████████████████████▊                                                                                              | 1820/5000 [1:18:37<2:17:34,  2.60s/it]"
     ]
    },
    {
     "name": "stderr",
     "output_type": "stream",
     "text": [
      "\r",
      "MMP-DF SparVar Pipeline from DB:  38%|███████████████████████████████████████████████████████▉                                                                                            | 1890/5000 [1:21:40<2:14:53,  2.60s/it]"
     ]
    },
    {
     "name": "stderr",
     "output_type": "stream",
     "text": [
      "\r",
      "MMP-DF SparVar Pipeline from DB:  39%|██████████████████████████████████████████████████████████                                                                                          | 1960/5000 [1:24:47<2:12:53,  2.62s/it]"
     ]
    },
    {
     "name": "stderr",
     "output_type": "stream",
     "text": [
      "\r",
      "MMP-DF SparVar Pipeline from DB:  41%|████████████████████████████████████████████████████████████                                                                                        | 2030/5000 [1:27:57<2:11:10,  2.65s/it]"
     ]
    },
    {
     "name": "stderr",
     "output_type": "stream",
     "text": [
      "\r",
      "MMP-DF SparVar Pipeline from DB:  42%|██████████████████████████████████████████████████████████████▏                                                                                     | 2100/5000 [1:30:59<2:07:24,  2.64s/it]"
     ]
    },
    {
     "name": "stderr",
     "output_type": "stream",
     "text": [
      "\r",
      "MMP-DF SparVar Pipeline from DB:  43%|████████████████████████████████████████████████████████████████▏                                                                                   | 2170/5000 [1:34:05<2:04:37,  2.64s/it]"
     ]
    },
    {
     "name": "stderr",
     "output_type": "stream",
     "text": [
      "\r",
      "MMP-DF SparVar Pipeline from DB:  45%|██████████████████████████████████████████████████████████████████▎                                                                                 | 2240/5000 [1:37:25<2:04:26,  2.71s/it]"
     ]
    },
    {
     "name": "stderr",
     "output_type": "stream",
     "text": [
      "\r",
      "MMP-DF SparVar Pipeline from DB:  46%|████████████████████████████████████████████████████████████████████▍                                                                               | 2310/5000 [1:40:21<1:58:45,  2.65s/it]"
     ]
    },
    {
     "name": "stderr",
     "output_type": "stream",
     "text": [
      "\r",
      "MMP-DF SparVar Pipeline from DB:  48%|██████████████████████████████████████████████████████████████████████▍                                                                             | 2380/5000 [1:43:27<1:55:50,  2.65s/it]"
     ]
    },
    {
     "name": "stderr",
     "output_type": "stream",
     "text": [
      "\r",
      "MMP-DF SparVar Pipeline from DB:  49%|████████████████████████████████████████████████████████████████████████▌                                                                           | 2450/5000 [1:46:38<1:53:33,  2.67s/it]"
     ]
    },
    {
     "name": "stderr",
     "output_type": "stream",
     "text": [
      "\r",
      "MMP-DF SparVar Pipeline from DB:  50%|██████████████████████████████████████████████████████████████████████████▌                                                                         | 2520/5000 [1:49:57<1:52:41,  2.73s/it]"
     ]
    },
    {
     "name": "stderr",
     "output_type": "stream",
     "text": [
      "\r",
      "MMP-DF SparVar Pipeline from DB:  52%|████████████████████████████████████████████████████████████████████████████▋                                                                       | 2590/5000 [1:53:10<1:49:49,  2.73s/it]"
     ]
    },
    {
     "name": "stderr",
     "output_type": "stream",
     "text": [
      "\r",
      "MMP-DF SparVar Pipeline from DB:  53%|██████████████████████████████████████████████████████████████████████████████▋                                                                     | 2660/5000 [1:56:17<1:45:57,  2.72s/it]"
     ]
    },
    {
     "name": "stderr",
     "output_type": "stream",
     "text": [
      "\r",
      "MMP-DF SparVar Pipeline from DB:  55%|████████████████████████████████████████████████████████████████████████████████▊                                                                   | 2730/5000 [1:59:30<1:43:09,  2.73s/it]"
     ]
    },
    {
     "name": "stderr",
     "output_type": "stream",
     "text": [
      "\r",
      "MMP-DF SparVar Pipeline from DB:  56%|██████████████████████████████████████████████████████████████████████████████████▉                                                                 | 2800/5000 [2:02:39<1:39:41,  2.72s/it]"
     ]
    },
    {
     "name": "stderr",
     "output_type": "stream",
     "text": [
      "\r",
      "MMP-DF SparVar Pipeline from DB:  57%|████████████████████████████████████████████████████████████████████████████████████▉                                                               | 2870/5000 [2:05:46<1:36:00,  2.70s/it]"
     ]
    },
    {
     "name": "stderr",
     "output_type": "stream",
     "text": [
      "\r",
      "MMP-DF SparVar Pipeline from DB:  59%|███████████████████████████████████████████████████████████████████████████████████████                                                             | 2940/5000 [2:09:00<1:33:35,  2.73s/it]"
     ]
    },
    {
     "name": "stderr",
     "output_type": "stream",
     "text": [
      "\r",
      "MMP-DF SparVar Pipeline from DB:  60%|█████████████████████████████████████████████████████████████████████████████████████████                                                           | 3010/5000 [2:11:59<1:28:43,  2.68s/it]"
     ]
    },
    {
     "name": "stderr",
     "output_type": "stream",
     "text": [
      "\r",
      "MMP-DF SparVar Pipeline from DB:  62%|███████████████████████████████████████████████████████████████████████████████████████████▏                                                        | 3080/5000 [2:15:17<1:27:04,  2.72s/it]"
     ]
    },
    {
     "name": "stderr",
     "output_type": "stream",
     "text": [
      "\r",
      "MMP-DF SparVar Pipeline from DB:  63%|█████████████████████████████████████████████████████████████████████████████████████████████▏                                                      | 3150/5000 [2:18:27<1:23:48,  2.72s/it]"
     ]
    },
    {
     "name": "stderr",
     "output_type": "stream",
     "text": [
      "\r",
      "MMP-DF SparVar Pipeline from DB:  64%|███████████████████████████████████████████████████████████████████████████████████████████████▎                                                    | 3220/5000 [2:21:43<1:21:25,  2.74s/it]"
     ]
    },
    {
     "name": "stderr",
     "output_type": "stream",
     "text": [
      "\r",
      "MMP-DF SparVar Pipeline from DB:  66%|█████████████████████████████████████████████████████████████████████████████████████████████████▍                                                  | 3290/5000 [2:24:57<1:18:21,  2.75s/it]"
     ]
    },
    {
     "name": "stderr",
     "output_type": "stream",
     "text": [
      "\r",
      "MMP-DF SparVar Pipeline from DB:  67%|███████████████████████████████████████████████████████████████████████████████████████████████████▍                                                | 3360/5000 [2:28:04<1:14:34,  2.73s/it]"
     ]
    },
    {
     "name": "stderr",
     "output_type": "stream",
     "text": [
      "\r",
      "MMP-DF SparVar Pipeline from DB:  69%|█████████████████████████████████████████████████████████████████████████████████████████████████████▌                                              | 3430/5000 [2:31:23<1:12:13,  2.76s/it]"
     ]
    },
    {
     "name": "stderr",
     "output_type": "stream",
     "text": [
      "\r",
      "MMP-DF SparVar Pipeline from DB:  70%|███████████████████████████████████████████████████████████████████████████████████████████████████████▌                                            | 3500/5000 [2:34:39<1:09:24,  2.78s/it]"
     ]
    },
    {
     "name": "stderr",
     "output_type": "stream",
     "text": [
      "\r",
      "MMP-DF SparVar Pipeline from DB:  71%|█████████████████████████████████████████████████████████████████████████████████████████████████████████▋                                          | 3570/5000 [2:37:39<1:04:39,  2.71s/it]"
     ]
    },
    {
     "name": "stderr",
     "output_type": "stream",
     "text": [
      "\r",
      "MMP-DF SparVar Pipeline from DB:  73%|███████████████████████████████████████████████████████████████████████████████████████████████████████████▋                                        | 3640/5000 [2:40:42<1:00:50,  2.68s/it]"
     ]
    },
    {
     "name": "stderr",
     "output_type": "stream",
     "text": [
      "\r",
      "MMP-DF SparVar Pipeline from DB:  74%|███████████████████████████████████████████████████████████████████████████████████████████████████████████████▎                                      | 3710/5000 [2:44:06<59:08,  2.75s/it]"
     ]
    },
    {
     "name": "stderr",
     "output_type": "stream",
     "text": [
      "\r",
      "MMP-DF SparVar Pipeline from DB:  76%|█████████████████████████████████████████████████████████████████████████████████████████████████████████████████▍                                    | 3780/5000 [2:47:08<55:01,  2.71s/it]"
     ]
    },
    {
     "name": "stderr",
     "output_type": "stream",
     "text": [
      "\r",
      "MMP-DF SparVar Pipeline from DB:  77%|███████████████████████████████████████████████████████████████████████████████████████████████████████████████████▌                                  | 3850/5000 [2:50:22<52:14,  2.73s/it]"
     ]
    },
    {
     "name": "stderr",
     "output_type": "stream",
     "text": [
      "\r",
      "MMP-DF SparVar Pipeline from DB:  78%|█████████████████████████████████████████████████████████████████████████████████████████████████████████████████████▌                                | 3920/5000 [2:53:44<49:58,  2.78s/it]"
     ]
    },
    {
     "name": "stderr",
     "output_type": "stream",
     "text": [
      "\r",
      "MMP-DF SparVar Pipeline from DB:  80%|███████████████████████████████████████████████████████████████████████████████████████████████████████████████████████▋                              | 3990/5000 [2:56:58<46:40,  2.77s/it]"
     ]
    },
    {
     "name": "stderr",
     "output_type": "stream",
     "text": [
      "\r",
      "MMP-DF SparVar Pipeline from DB:  81%|█████████████████████████████████████████████████████████████████████████████████████████████████████████████████████████▊                            | 4060/5000 [3:00:11<43:22,  2.77s/it]"
     ]
    },
    {
     "name": "stderr",
     "output_type": "stream",
     "text": [
      "\r",
      "MMP-DF SparVar Pipeline from DB:  83%|███████████████████████████████████████████████████████████████████████████████████████████████████████████████████████████▉                          | 4130/5000 [3:03:27<40:15,  2.78s/it]"
     ]
    },
    {
     "name": "stderr",
     "output_type": "stream",
     "text": [
      "\r",
      "MMP-DF SparVar Pipeline from DB:  84%|██████████████████████████████████████████████████████████████████████████████████████████████████████████████████████████████                        | 4200/5000 [3:06:37<36:48,  2.76s/it]"
     ]
    },
    {
     "name": "stderr",
     "output_type": "stream",
     "text": [
      "\r",
      "MMP-DF SparVar Pipeline from DB:  85%|████████████████████████████████████████████████████████████████████████████████████████████████████████████████████████████████                      | 4270/5000 [3:09:48<33:27,  2.75s/it]"
     ]
    },
    {
     "name": "stderr",
     "output_type": "stream",
     "text": [
      "\r",
      "MMP-DF SparVar Pipeline from DB:  87%|██████████████████████████████████████████████████████████████████████████████████████████████████████████████████████████████████▏                   | 4340/5000 [3:13:02<30:18,  2.76s/it]"
     ]
    },
    {
     "name": "stderr",
     "output_type": "stream",
     "text": [
      "\r",
      "MMP-DF SparVar Pipeline from DB:  88%|████████████████████████████████████████████████████████████████████████████████████████████████████████████████████████████████████▎                 | 4410/5000 [3:16:12<26:58,  2.74s/it]"
     ]
    },
    {
     "name": "stderr",
     "output_type": "stream",
     "text": [
      "\r",
      "MMP-DF SparVar Pipeline from DB:  90%|██████████████████████████████████████████████████████████████████████████████████████████████████████████████████████████████████████▍               | 4480/5000 [3:19:35<24:10,  2.79s/it]"
     ]
    },
    {
     "name": "stderr",
     "output_type": "stream",
     "text": [
      "\r",
      "MMP-DF SparVar Pipeline from DB:  91%|████████████████████████████████████████████████████████████████████████████████████████████████████████████████████████████████████████▌             | 4550/5000 [3:22:45<20:45,  2.77s/it]"
     ]
    },
    {
     "name": "stderr",
     "output_type": "stream",
     "text": [
      "\r",
      "MMP-DF SparVar Pipeline from DB:  92%|██████████████████████████████████████████████████████████████████████████████████████████████████████████████████████████████████████████▌           | 4620/5000 [3:25:45<17:10,  2.71s/it]"
     ]
    },
    {
     "name": "stderr",
     "output_type": "stream",
     "text": [
      "\r",
      "MMP-DF SparVar Pipeline from DB:  94%|████████████████████████████████████████████████████████████████████████████████████████████████████████████████████████████████████████████▋         | 4690/5000 [3:29:13<14:23,  2.79s/it]"
     ]
    },
    {
     "name": "stderr",
     "output_type": "stream",
     "text": [
      "\r",
      "MMP-DF SparVar Pipeline from DB:  95%|██████████████████████████████████████████████████████████████████████████████████████████████████████████████████████████████████████████████▊       | 4760/5000 [3:32:24<11:04,  2.77s/it]"
     ]
    },
    {
     "name": "stderr",
     "output_type": "stream",
     "text": [
      "\r",
      "MMP-DF SparVar Pipeline from DB:  97%|████████████████████████████████████████████████████████████████████████████████████████████████████████████████████████████████████████████████▉     | 4830/5000 [3:35:41<07:53,  2.78s/it]"
     ]
    },
    {
     "name": "stderr",
     "output_type": "stream",
     "text": [
      "\r",
      "MMP-DF SparVar Pipeline from DB:  98%|███████████████████████████████████████████████████████████████████████████████████████████████████████████████████████████████████████████████████   | 4900/5000 [3:38:41<04:31,  2.72s/it]"
     ]
    },
    {
     "name": "stderr",
     "output_type": "stream",
     "text": [
      "\r",
      "MMP-DF SparVar Pipeline from DB:  99%|█████████████████████████████████████████████████████████████████████████████████████████████████████████████████████████████████████████████████████ | 4970/5000 [3:42:04<01:23,  2.77s/it]"
     ]
    },
    {
     "name": "stderr",
     "output_type": "stream",
     "text": [
      "\r",
      "MMP-DF SparVar Pipeline from DB: 100%|██████████████████████████████████████████████████████████████████████████████████████████████████████████████████████████████████████████████████████| 5000/5000 [3:42:04<00:00,  2.66s/it]"
     ]
    },
    {
     "name": "stderr",
     "output_type": "stream",
     "text": [
      "\n"
     ]
    }
   ],
   "source": [
    "# Pipeline parameters\n",
    "NB_CORES = 70\n",
    "BRANCHES = 10\n",
    "CONNECTIONS = 3\n",
    "MAX_SPARSITY = 10\n",
    "\n",
    "DISSIMILARITY = 0.4 ## << DISSIMILARITY >>\n",
    "\n",
    "# Run pipeline\n",
    "today = get_today_date_str()\n",
    "output_mmpdf_db = f'/home/gomes/synthetic-data/{today}-mmpdf{BRANCHES}-{batchSize}.json'\n",
    "dictionary.mmpdfSparVarPipelineFromDB(input_signals_db, output_mmpdf_db, nb_cores=NB_CORES, connections=CONNECTIONS, dissimilarity=DISSIMILARITY, branches=BRANCHES, max_sparsity=MAX_SPARSITY, verbose=False)"
   ]
  }
 ],
 "metadata": {
  "kernelspec": {
   "display_name": "phlamesenv",
   "language": "python",
   "name": "python3"
  },
  "language_info": {
   "codemirror_mode": {
    "name": "ipython",
    "version": 3
   },
   "file_extension": ".py",
   "mimetype": "text/x-python",
   "name": "python",
   "nbconvert_exporter": "python",
   "pygments_lexer": "ipython3",
   "version": "3.11.2"
  },
  "papermill": {
   "default_parameters": {},
   "duration": 13706.029763,
   "end_time": "2024-07-23T19:45:37.528724",
   "environment_variables": {},
   "exception": null,
   "input_path": "buildMMPDFSparVar.ipynb",
   "output_path": "out_build_mmp_sy.ipynb",
   "parameters": {},
   "start_time": "2024-07-23T15:57:11.498961",
   "version": "2.6.0"
  }
 },
 "nbformat": 4,
 "nbformat_minor": 5
}