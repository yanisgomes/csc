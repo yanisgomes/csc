{
 "cells": [
  {
   "cell_type": "markdown",
   "id": "2ec86cca",
   "metadata": {
    "papermill": {
     "duration": 0.008307,
     "end_time": "2024-07-24T12:43:34.198023",
     "exception": false,
     "start_time": "2024-07-24T12:43:34.189716",
     "status": "completed"
    },
    "tags": []
   },
   "source": [
    "# Build SparVar OMP Database"
   ]
  },
  {
   "cell_type": "code",
   "execution_count": 1,
   "id": "5c841356",
   "metadata": {
    "execution": {
     "iopub.execute_input": "2024-07-24T12:43:34.225985Z",
     "iopub.status.busy": "2024-07-24T12:43:34.224894Z",
     "iopub.status.idle": "2024-07-24T12:43:44.139591Z",
     "shell.execute_reply": "2024-07-24T12:43:44.136250Z"
    },
    "papermill": {
     "duration": 9.935247,
     "end_time": "2024-07-24T12:43:44.145013",
     "exception": false,
     "start_time": "2024-07-24T12:43:34.209766",
     "status": "completed"
    },
    "tags": []
   },
   "outputs": [
    {
     "name": "stdout",
     "output_type": "stream",
     "text": [
      "The dictionary has 143 different atoms\n"
     ]
    }
   ],
   "source": [
    "import numpy as np\n",
    "from csc.utils import *\n",
    "from csc.atoms import *\n",
    "from csc.dictionary import *\n",
    "from itertools import product\n",
    "import matplotlib.pyplot as plt\n",
    "\n",
    "# Atom parameters\n",
    "bmin = 0.005\n",
    "bmax = 0.06\n",
    "b_step = 0.005\n",
    "b_values = np.arange(bmin, bmax, b_step)\n",
    "\n",
    "ymin = 0.010\n",
    "ymax = 0.036\n",
    "y_step = 0.002\n",
    "y_values = np.arange(ymin, ymax, y_step)\n",
    "\n",
    "s_values = [1]\n",
    "\n",
    "dictionary = ZSDictionary.from_values(b_values, y_values, s_values)\n",
    "print('The dictionary has {} different atoms'.format(len(dictionary)))"
   ]
  },
  {
   "cell_type": "markdown",
   "id": "2433d5bf",
   "metadata": {
    "papermill": {
     "duration": 0.004614,
     "end_time": "2024-07-24T12:43:44.155727",
     "exception": false,
     "start_time": "2024-07-24T12:43:44.151113",
     "status": "completed"
    },
    "tags": []
   },
   "source": [
    "## Build sparsity variation database\n",
    "\n",
    "#### Format :\n",
    "````\n",
    "'source' = input_filename\n",
    "'date' = get_today_date_str()\n",
    "'algorithm' = 'Convolutional OMP'\n",
    "'batchSize' = data['batchSize']\n",
    "'snrLevels' = data['snrLevels']\n",
    "'signalLength' = data['signalLength']\n",
    "'sparsityLevels' = data['sparsityLevels']\n",
    "'dictionary' = str(self)\n",
    "'omp' : \n",
    "    [\n",
    "        {\n",
    "            'id' : 0,\n",
    "            'snr' : snr,\n",
    "            'results' : [\n",
    "                {\n",
    "                    'mse' : #MSE,\n",
    "                    'delay' : #DELAY,\n",
    "                    'atoms' : [\n",
    "                        {'x':x, 'b':b, 'y':y, 's':s}\n",
    "                        #1\n",
    "                    ]\n",
    "                },\n",
    "                ...\n",
    "                {\n",
    "                    'mse' : #MSE,\n",
    "                    'delay' : #DELAY,\n",
    "                    'atoms' : [\n",
    "                        {'x':x, 'b':b, 'y':y, 's':s}\n",
    "                        #max_sparsity\n",
    "                    ]\n",
    "                }\n",
    "                ]\n",
    "        },\n",
    "        {\n",
    "            'id' : 1,\n",
    "            ...\n",
    "        },\n",
    "\n",
    "        ...\n",
    "\n",
    "    ]\n",
    "````"
   ]
  },
  {
   "cell_type": "code",
   "execution_count": 2,
   "id": "b97b66df",
   "metadata": {
    "execution": {
     "iopub.execute_input": "2024-07-24T12:43:44.174193Z",
     "iopub.status.busy": "2024-07-24T12:43:44.171782Z",
     "iopub.status.idle": "2024-07-24T12:43:44.198935Z",
     "shell.execute_reply": "2024-07-24T12:43:44.196268Z"
    },
    "papermill": {
     "duration": 0.043363,
     "end_time": "2024-07-24T12:43:44.204587",
     "exception": false,
     "start_time": "2024-07-24T12:43:44.161224",
     "status": "completed"
    },
    "tags": []
   },
   "outputs": [],
   "source": [
    "batchSize = 200\n",
    "input_signals_db = f'/home/gomes/synthetic-data/constrained-signals-{batchSize}.json'"
   ]
  },
  {
   "cell_type": "code",
   "execution_count": 3,
   "id": "a8f81a53",
   "metadata": {
    "execution": {
     "iopub.execute_input": "2024-07-24T12:43:44.220626Z",
     "iopub.status.busy": "2024-07-24T12:43:44.219462Z"
    },
    "papermill": {
     "duration": null,
     "end_time": null,
     "exception": false,
     "start_time": "2024-07-24T12:43:44.209752",
     "status": "running"
    },
    "tags": []
   },
   "outputs": [
    {
     "name": "stderr",
     "output_type": "stream",
     "text": [
      "\r",
      "OMP SparVar Pipeline from DB:   0%|                                                                                                                                                                      | 0/3200 [00:00<?, ?it/s]"
     ]
    },
    {
     "name": "stderr",
     "output_type": "stream",
     "text": [
      "\r",
      "OMP SparVar Pipeline from DB:   0%|                                                                                                                                                              | 1/3200 [00:00<06:11,  8.61it/s]"
     ]
    },
    {
     "name": "stderr",
     "output_type": "stream",
     "text": [
      "\r",
      "OMP SparVar Pipeline from DB:   1%|▉                                                                                                                                                            | 20/3200 [00:02<06:51,  7.73it/s]"
     ]
    },
    {
     "name": "stderr",
     "output_type": "stream",
     "text": [
      "\r",
      "OMP SparVar Pipeline from DB:   1%|█▉                                                                                                                                                           | 40/3200 [00:18<28:11,  1.87it/s]"
     ]
    },
    {
     "name": "stderr",
     "output_type": "stream",
     "text": [
      "\r",
      "OMP SparVar Pipeline from DB:   2%|██▉                                                                                                                                                          | 60/3200 [00:30<29:31,  1.77it/s]"
     ]
    },
    {
     "name": "stderr",
     "output_type": "stream",
     "text": [
      "\r",
      "OMP SparVar Pipeline from DB:   2%|███▉                                                                                                                                                         | 80/3200 [00:43<30:45,  1.69it/s]"
     ]
    },
    {
     "name": "stderr",
     "output_type": "stream",
     "text": [
      "\r",
      "OMP SparVar Pipeline from DB:   3%|████▉                                                                                                                                                       | 100/3200 [00:57<32:25,  1.59it/s]"
     ]
    },
    {
     "name": "stderr",
     "output_type": "stream",
     "text": [
      "\r",
      "OMP SparVar Pipeline from DB:   4%|█████▊                                                                                                                                                      | 120/3200 [01:07<29:47,  1.72it/s]"
     ]
    },
    {
     "name": "stderr",
     "output_type": "stream",
     "text": [
      "\r",
      "OMP SparVar Pipeline from DB:   4%|██████▊                                                                                                                                                     | 140/3200 [01:18<29:36,  1.72it/s]"
     ]
    },
    {
     "name": "stderr",
     "output_type": "stream",
     "text": [
      "\r",
      "OMP SparVar Pipeline from DB:   5%|███████▊                                                                                                                                                    | 160/3200 [01:32<30:51,  1.64it/s]"
     ]
    },
    {
     "name": "stderr",
     "output_type": "stream",
     "text": [
      "\r",
      "OMP SparVar Pipeline from DB:   6%|████████▊                                                                                                                                                   | 180/3200 [01:43<29:36,  1.70it/s]"
     ]
    },
    {
     "name": "stderr",
     "output_type": "stream",
     "text": [
      "\r",
      "OMP SparVar Pipeline from DB:   6%|█████████▊                                                                                                                                                  | 200/3200 [01:56<30:23,  1.65it/s]"
     ]
    },
    {
     "name": "stderr",
     "output_type": "stream",
     "text": [
      "\r",
      "OMP SparVar Pipeline from DB:   7%|██████████▋                                                                                                                                                 | 220/3200 [02:09<31:12,  1.59it/s]"
     ]
    },
    {
     "name": "stderr",
     "output_type": "stream",
     "text": [
      "\r",
      "OMP SparVar Pipeline from DB:   8%|███████████▋                                                                                                                                                | 240/3200 [02:22<31:07,  1.59it/s]"
     ]
    },
    {
     "name": "stderr",
     "output_type": "stream",
     "text": [
      "\r",
      "OMP SparVar Pipeline from DB:   8%|████████████▋                                                                                                                                               | 260/3200 [02:36<31:57,  1.53it/s]"
     ]
    },
    {
     "name": "stderr",
     "output_type": "stream",
     "text": [
      "\r",
      "OMP SparVar Pipeline from DB:   9%|█████████████▋                                                                                                                                              | 280/3200 [02:49<31:32,  1.54it/s]"
     ]
    },
    {
     "name": "stderr",
     "output_type": "stream",
     "text": [
      "\r",
      "OMP SparVar Pipeline from DB:   9%|██████████████▋                                                                                                                                             | 300/3200 [03:02<31:44,  1.52it/s]"
     ]
    },
    {
     "name": "stderr",
     "output_type": "stream",
     "text": [
      "\r",
      "OMP SparVar Pipeline from DB:  10%|███████████████▌                                                                                                                                            | 320/3200 [03:14<30:59,  1.55it/s]"
     ]
    },
    {
     "name": "stderr",
     "output_type": "stream",
     "text": [
      "\r",
      "OMP SparVar Pipeline from DB:  11%|████████████████▌                                                                                                                                           | 340/3200 [03:27<30:25,  1.57it/s]"
     ]
    },
    {
     "name": "stderr",
     "output_type": "stream",
     "text": [
      "\r",
      "OMP SparVar Pipeline from DB:  11%|█████████████████▌                                                                                                                                          | 360/3200 [03:38<28:51,  1.64it/s]"
     ]
    },
    {
     "name": "stderr",
     "output_type": "stream",
     "text": [
      "\r",
      "OMP SparVar Pipeline from DB:  12%|██████████████████▌                                                                                                                                         | 380/3200 [03:51<29:34,  1.59it/s]"
     ]
    },
    {
     "name": "stderr",
     "output_type": "stream",
     "text": [
      "\r",
      "OMP SparVar Pipeline from DB:  12%|███████████████████▌                                                                                                                                        | 400/3200 [04:07<31:14,  1.49it/s]"
     ]
    },
    {
     "name": "stderr",
     "output_type": "stream",
     "text": [
      "\r",
      "OMP SparVar Pipeline from DB:  13%|████████████████████▍                                                                                                                                       | 420/3200 [04:20<30:50,  1.50it/s]"
     ]
    },
    {
     "name": "stderr",
     "output_type": "stream",
     "text": [
      "\r",
      "OMP SparVar Pipeline from DB:  14%|█████████████████████▍                                                                                                                                      | 440/3200 [04:31<29:21,  1.57it/s]"
     ]
    },
    {
     "name": "stderr",
     "output_type": "stream",
     "text": [
      "\r",
      "OMP SparVar Pipeline from DB:  14%|██████████████████████▍                                                                                                                                     | 460/3200 [04:46<30:14,  1.51it/s]"
     ]
    },
    {
     "name": "stderr",
     "output_type": "stream",
     "text": [
      "\r",
      "OMP SparVar Pipeline from DB:  15%|███████████████████████▍                                                                                                                                    | 480/3200 [04:59<30:04,  1.51it/s]"
     ]
    }
   ],
   "source": [
    "# Pipeline parameters\n",
    "NB_CORES = 20\n",
    "MAX_SPARSITY = 10\n",
    "\n",
    "# Run pipeline\n",
    "today = get_today_date_str()\n",
    "output_omp_db = f'/home/gomes/synthetic-data/icassp-omp-{batchSize}.json'\n",
    "dictionary.ompSparVarPipelineFromDB(input_signals_db, output_omp_db, nb_cores=NB_CORES, max_sparsity=MAX_SPARSITY, verbose=False)"
   ]
  }
 ],
 "metadata": {
  "kernelspec": {
   "display_name": "phlamesenv",
   "language": "python",
   "name": "python3"
  },
  "language_info": {
   "codemirror_mode": {
    "name": "ipython",
    "version": 3
   },
   "file_extension": ".py",
   "mimetype": "text/x-python",
   "name": "python",
   "nbconvert_exporter": "python",
   "pygments_lexer": "ipython3",
   "version": "3.11.2"
  },
  "papermill": {
   "default_parameters": {},
   "duration": null,
   "end_time": null,
   "environment_variables": {},
   "exception": null,
   "input_path": "buildOMPSparVar.ipynb",
   "output_path": "out_constrained_omp.ipynb",
   "parameters": {},
   "start_time": "2024-07-24T12:43:29.081995",
   "version": "2.6.0"
  }
 },
 "nbformat": 4,
 "nbformat_minor": 5
}