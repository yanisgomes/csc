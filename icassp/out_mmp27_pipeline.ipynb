{
 "cells": [
  {
   "cell_type": "code",
   "execution_count": 1,
   "id": "84027162",
   "metadata": {
    "execution": {
     "iopub.execute_input": "2024-07-18T12:00:08.955395Z",
     "iopub.status.busy": "2024-07-18T12:00:08.955009Z",
     "iopub.status.idle": "2024-07-18T12:00:13.488030Z",
     "shell.execute_reply": "2024-07-18T12:00:13.487212Z"
    },
    "papermill": {
     "duration": 4.543937,
     "end_time": "2024-07-18T12:00:13.492261",
     "exception": false,
     "start_time": "2024-07-18T12:00:08.948324",
     "status": "completed"
    },
    "tags": []
   },
   "outputs": [
    {
     "name": "stdout",
     "output_type": "stream",
     "text": [
      "The dictionary has 143 different atoms\n"
     ]
    }
   ],
   "source": [
    "import numpy as np\n",
    "from csc.utils import *\n",
    "from csc.atoms import *\n",
    "from csc.dictionary import *\n",
    "from csc.workbench import *\n",
    "from itertools import product\n",
    "import matplotlib.pyplot as plt\n",
    "\n",
    "# Atom parameters\n",
    "bmin = 0.005\n",
    "bmax = 0.06\n",
    "b_step = 0.005\n",
    "b_values = np.arange(bmin, bmax, b_step)\n",
    "\n",
    "ymin = 0.010\n",
    "ymax = 0.036\n",
    "y_step = 0.002\n",
    "y_values = np.arange(ymin, ymax, y_step)\n",
    "\n",
    "s_values = [1]\n",
    "\n",
    "dictionary = ZSDictionary.from_values(b_values, y_values, s_values)\n",
    "print('The dictionary has {} different atoms'.format(len(dictionary)))"
   ]
  },
  {
   "cell_type": "markdown",
   "id": "aeedbee0",
   "metadata": {
    "papermill": {
     "duration": 0.003327,
     "end_time": "2024-07-18T12:00:13.500015",
     "exception": false,
     "start_time": "2024-07-18T12:00:13.496688",
     "status": "completed"
    },
    "tags": []
   },
   "source": [
    "## MMP-DF sparVar Pipeline\n",
    "- ``max_branches = 27``\n",
    "- ``max_sparsity = 30`` "
   ]
  },
  {
   "cell_type": "code",
   "execution_count": 2,
   "id": "24feb393",
   "metadata": {
    "execution": {
     "iopub.execute_input": "2024-07-18T12:00:13.509181Z",
     "iopub.status.busy": "2024-07-18T12:00:13.508590Z",
     "iopub.status.idle": "2024-07-18T12:00:15.071467Z",
     "shell.execute_reply": "2024-07-18T12:00:15.070480Z"
    },
    "papermill": {
     "duration": 1.571218,
     "end_time": "2024-07-18T12:00:15.074582",
     "exception": false,
     "start_time": "2024-07-18T12:00:13.503364",
     "status": "completed"
    },
    "tags": []
   },
   "outputs": [],
   "source": [
    "batchSize = 200\n",
    "\n",
    "max_branches = 27\n",
    "max_sparsity = 30\n",
    "\n",
    "input_mmpdf_db = f'/home/gomes/synthetic-data/csc-mmpdf-{batchSize}.json'\n",
    "#input_mmpdf_db = f'C:\\\\Users\\\\gomes\\\\Documents\\\\ENS\\\\00_M1\\\\00_BORELLI\\\\01_WorkInProgress\\\\\\synthetic-data\\\\csc-mmpdf-{batchSize}.json'\n",
    "\n",
    "output_sparVar_mmpdf_db = f'/home/gomes/synthetic-data/sparVar-mmpdf{max_branches}-{batchSize}.json'\n",
    "\n",
    "#path_to_signals_db = f'C:\\\\Users\\\\gomes\\\\Documents\\\\ENS\\\\00_M1\\\\00_BORELLI\\\\01_WorkInProgress\\\\\\synthetic-data\\\\csc-signals-{batchSize}.json'\n",
    "path_to_signals_db = f'/home/gomes/synthetic-data/csc-signals-{batchSize}.json'\n",
    "\n",
    "workbench = CSCWorkbench(path_to_signals_db)\n",
    "workbench.load_data()\n",
    "workbench.set_dictionary(dictionary)"
   ]
  },
  {
   "cell_type": "code",
   "execution_count": null,
   "id": "3a998b43",
   "metadata": {
    "papermill": {
     "duration": null,
     "end_time": null,
     "exception": false,
     "start_time": "2024-07-18T12:00:15.078567",
     "status": "running"
    },
    "tags": []
   },
   "outputs": [],
   "source": [
    "workbench.mmpdfSparsityVariationPipelineFromDB(input_mmpdf_db, output_sparVar_mmpdf_db, nb_cores=90, max_branches=max_branches, max_sparsity=max_sparsity, verbose=False)\n",
    "#workbench.mmpdfSparsityVariationPipelineFromDB(input_mmpdf_db, output_sparVar_mmpdf_db, nb_cores=-1, max_branches=max_branches, max_sparsity=max_sparsity, verbose=True)"
   ]
  }
 ],
 "metadata": {
  "kernelspec": {
   "display_name": "phlamesenv",
   "language": "python",
   "name": "python3"
  },
  "language_info": {
   "codemirror_mode": {
    "name": "ipython",
    "version": 3
   },
   "file_extension": ".py",
   "mimetype": "text/x-python",
   "name": "python",
   "nbconvert_exporter": "python",
   "pygments_lexer": "ipython3",
   "version": "3.11.2"
  },
  "papermill": {
   "default_parameters": {},
   "duration": null,
   "end_time": null,
   "environment_variables": {},
   "exception": null,
   "input_path": "sparVar_mmpdf_db.ipynb",
   "output_path": "out_mmp27_pipeline.ipynb",
   "parameters": {},
   "start_time": "2024-07-18T12:00:07.879378",
   "version": "2.6.0"
  }
 },
 "nbformat": 4,
 "nbformat_minor": 5
}