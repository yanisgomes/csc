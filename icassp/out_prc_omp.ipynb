{
 "cells": [
  {
   "cell_type": "code",
   "execution_count": 1,
   "id": "9816c9ca",
   "metadata": {
    "execution": {
     "iopub.execute_input": "2024-07-17T09:49:28.776820Z",
     "iopub.status.busy": "2024-07-17T09:49:28.776393Z",
     "iopub.status.idle": "2024-07-17T09:49:30.470763Z",
     "shell.execute_reply": "2024-07-17T09:49:30.469865Z"
    },
    "papermill": {
     "duration": 1.700646,
     "end_time": "2024-07-17T09:49:30.473516",
     "exception": false,
     "start_time": "2024-07-17T09:49:28.772870",
     "status": "completed"
    },
    "tags": []
   },
   "outputs": [
    {
     "name": "stdout",
     "output_type": "stream",
     "text": [
      "The dictionary has 143 different atoms\n"
     ]
    }
   ],
   "source": [
    "import numpy as np\n",
    "from csc.utils import *\n",
    "from csc.atoms import *\n",
    "from csc.dictionary import *\n",
    "from csc.workbench import *\n",
    "from itertools import product\n",
    "import matplotlib.pyplot as plt\n",
    "\n",
    "# Atom parameters\n",
    "bmin = 0.005\n",
    "bmax = 0.06\n",
    "b_step = 0.005\n",
    "b_values = np.arange(bmin, bmax, b_step)\n",
    "\n",
    "ymin = 0.010\n",
    "ymax = 0.036\n",
    "y_step = 0.002\n",
    "y_values = np.arange(ymin, ymax, y_step)\n",
    "\n",
    "s_values = [1]\n",
    "\n",
    "dictionary = ZSDictionary.from_values(b_values, y_values, s_values)\n",
    "print('The dictionary has {} different atoms'.format(len(dictionary)))"
   ]
  },
  {
   "cell_type": "markdown",
   "id": "c3b32f69",
   "metadata": {
    "papermill": {
     "duration": 0.002885,
     "end_time": "2024-07-17T09:49:30.480025",
     "exception": false,
     "start_time": "2024-07-17T09:49:30.477140",
     "status": "completed"
    },
    "tags": []
   },
   "source": [
    "## OMP PRC Pipeline\n",
    "- ``max_sparsity = 30`` "
   ]
  },
  {
   "cell_type": "code",
   "execution_count": 2,
   "id": "e9146871",
   "metadata": {
    "execution": {
     "iopub.execute_input": "2024-07-17T09:49:30.487850Z",
     "iopub.status.busy": "2024-07-17T09:49:30.487213Z",
     "iopub.status.idle": "2024-07-17T09:49:31.900233Z",
     "shell.execute_reply": "2024-07-17T09:49:31.899281Z"
    },
    "papermill": {
     "duration": 1.419674,
     "end_time": "2024-07-17T09:49:31.902502",
     "exception": false,
     "start_time": "2024-07-17T09:49:30.482828",
     "status": "completed"
    },
    "tags": []
   },
   "outputs": [],
   "source": [
    "batchSize = 200\n",
    "\n",
    "max_sparsity = 30\n",
    "\n",
    "input_mmpdf_db = f'/home/gomes/synthetic-data/csc-mmpdf-{batchSize}.json'\n",
    "output_prc_omp_db = f'/home/gomes/synthetic-data/prc-omp-{batchSize}.json'\n",
    "\n",
    "#path_to_signals_db = f'C:\\\\Users\\\\gomes\\\\Documents\\\\ENS\\\\00_M1\\\\00_BORELLI\\\\01_WorkInProgress\\\\\\synthetic-data\\\\csc-signals-{batchSize}.json'\n",
    "path_to_signals_db = f'/home/gomes/synthetic-data/csc-signals-{batchSize}.json'\n",
    "\n",
    "workbench = CSCWorkbench(path_to_signals_db)\n",
    "workbench.load_data()\n",
    "workbench.set_dictionary(dictionary)"
   ]
  },
  {
   "cell_type": "code",
   "execution_count": 3,
   "id": "bef6d866",
   "metadata": {
    "execution": {
     "iopub.execute_input": "2024-07-17T09:49:31.908992Z",
     "iopub.status.busy": "2024-07-17T09:49:31.908588Z"
    },
    "papermill": {
     "duration": null,
     "end_time": null,
     "exception": false,
     "start_time": "2024-07-17T09:49:31.905081",
     "status": "running"
    },
    "tags": []
   },
   "outputs": [
    {
     "name": "stderr",
     "output_type": "stream",
     "text": [
      "\r",
      "OMP PRC Pipeline from DB:   0%|                                                                                                        | 0/5000 [00:00<?, ?it/s]"
     ]
    },
    {
     "name": "stderr",
     "output_type": "stream",
     "text": [
      "\r",
      "OMP PRC Pipeline from DB:   1%|▌                                                                                              | 27/5000 [00:00<02:15, 36.80it/s]"
     ]
    },
    {
     "name": "stderr",
     "output_type": "stream",
     "text": [
      "\r",
      "OMP PRC Pipeline from DB:   1%|▌                                                                                              | 31/5000 [00:00<02:23, 34.60it/s]"
     ]
    },
    {
     "name": "stderr",
     "output_type": "stream",
     "text": [
      "\r",
      "OMP PRC Pipeline from DB:   1%|█                                                                                              | 54/5000 [00:05<10:06,  8.15it/s]"
     ]
    },
    {
     "name": "stderr",
     "output_type": "stream",
     "text": [
      "\r",
      "OMP PRC Pipeline from DB:   2%|█▌                                                                                             | 81/5000 [00:12<16:28,  4.98it/s]"
     ]
    },
    {
     "name": "stderr",
     "output_type": "stream",
     "text": [
      "\r",
      "OMP PRC Pipeline from DB:   2%|██                                                                                            | 108/5000 [00:20<18:40,  4.37it/s]"
     ]
    },
    {
     "name": "stderr",
     "output_type": "stream",
     "text": [
      "\r",
      "OMP PRC Pipeline from DB:   3%|██▌                                                                                           | 135/5000 [00:27<20:22,  3.98it/s]"
     ]
    },
    {
     "name": "stderr",
     "output_type": "stream",
     "text": [
      "\r",
      "OMP PRC Pipeline from DB:   3%|███                                                                                           | 162/5000 [00:35<21:19,  3.78it/s]"
     ]
    },
    {
     "name": "stderr",
     "output_type": "stream",
     "text": [
      "\r",
      "OMP PRC Pipeline from DB:   4%|███▌                                                                                          | 189/5000 [00:44<22:39,  3.54it/s]"
     ]
    },
    {
     "name": "stderr",
     "output_type": "stream",
     "text": [
      "\r",
      "OMP PRC Pipeline from DB:   4%|████                                                                                          | 216/5000 [00:54<25:28,  3.13it/s]"
     ]
    },
    {
     "name": "stderr",
     "output_type": "stream",
     "text": [
      "\r",
      "OMP PRC Pipeline from DB:   5%|████▌                                                                                         | 243/5000 [01:13<34:08,  2.32it/s]"
     ]
    },
    {
     "name": "stderr",
     "output_type": "stream",
     "text": [
      "\r",
      "OMP PRC Pipeline from DB:   5%|█████                                                                                         | 270/5000 [01:33<41:37,  1.89it/s]"
     ]
    },
    {
     "name": "stderr",
     "output_type": "stream",
     "text": [
      "\r",
      "OMP PRC Pipeline from DB:   6%|█████▌                                                                                        | 297/5000 [01:53<47:01,  1.67it/s]"
     ]
    },
    {
     "name": "stderr",
     "output_type": "stream",
     "text": [
      "\r",
      "OMP PRC Pipeline from DB:   6%|██████                                                                                        | 324/5000 [02:11<47:41,  1.63it/s]"
     ]
    },
    {
     "name": "stderr",
     "output_type": "stream",
     "text": [
      "\r",
      "OMP PRC Pipeline from DB:   7%|██████▌                                                                                       | 351/5000 [02:29<49:27,  1.57it/s]"
     ]
    },
    {
     "name": "stderr",
     "output_type": "stream",
     "text": [
      "\r",
      "OMP PRC Pipeline from DB:   8%|███████                                                                                       | 378/5000 [02:49<51:30,  1.50it/s]"
     ]
    },
    {
     "name": "stderr",
     "output_type": "stream",
     "text": [
      "\r",
      "OMP PRC Pipeline from DB:   8%|███████▌                                                                                      | 405/5000 [03:08<51:31,  1.49it/s]"
     ]
    }
   ],
   "source": [
    "workbench.ompPrecisonRecallPipelineFromDB(input_mmpdf_db, output_prc_omp_db, nb_cores=27, max_sparsity=max_sparsity, verbose=False)"
   ]
  }
 ],
 "metadata": {
  "kernelspec": {
   "display_name": "phlamesenv",
   "language": "python",
   "name": "python3"
  },
  "language_info": {
   "codemirror_mode": {
    "name": "ipython",
    "version": 3
   },
   "file_extension": ".py",
   "mimetype": "text/x-python",
   "name": "python",
   "nbconvert_exporter": "python",
   "pygments_lexer": "ipython3",
   "version": "3.11.2"
  },
  "papermill": {
   "default_parameters": {},
   "duration": null,
   "end_time": null,
   "environment_variables": {},
   "exception": null,
   "input_path": "prc_omp_db.ipynb",
   "output_path": "out_prc_omp.ipynb",
   "parameters": {},
   "start_time": "2024-07-17T09:49:27.907841",
   "version": "2.6.0"
  }
 },
 "nbformat": 4,
 "nbformat_minor": 5
}