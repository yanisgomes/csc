{
 "cells": [
  {
   "cell_type": "code",
   "execution_count": 1,
   "id": "9816c9ca",
   "metadata": {
    "execution": {
     "iopub.execute_input": "2024-07-17T09:49:28.776820Z",
     "iopub.status.busy": "2024-07-17T09:49:28.776393Z",
     "iopub.status.idle": "2024-07-17T09:49:30.470763Z",
     "shell.execute_reply": "2024-07-17T09:49:30.469865Z"
    },
    "papermill": {
     "duration": 1.700646,
     "end_time": "2024-07-17T09:49:30.473516",
     "exception": false,
     "start_time": "2024-07-17T09:49:28.772870",
     "status": "completed"
    },
    "tags": []
   },
   "outputs": [
    {
     "name": "stdout",
     "output_type": "stream",
     "text": [
      "The dictionary has 143 different atoms\n"
     ]
    }
   ],
   "source": [
    "import numpy as np\n",
    "from csc.utils import *\n",
    "from csc.atoms import *\n",
    "from csc.dictionary import *\n",
    "from csc.workbench import *\n",
    "from itertools import product\n",
    "import matplotlib.pyplot as plt\n",
    "\n",
    "# Atom parameters\n",
    "bmin = 0.005\n",
    "bmax = 0.06\n",
    "b_step = 0.005\n",
    "b_values = np.arange(bmin, bmax, b_step)\n",
    "\n",
    "ymin = 0.010\n",
    "ymax = 0.036\n",
    "y_step = 0.002\n",
    "y_values = np.arange(ymin, ymax, y_step)\n",
    "\n",
    "s_values = [1]\n",
    "\n",
    "dictionary = ZSDictionary.from_values(b_values, y_values, s_values)\n",
    "print('The dictionary has {} different atoms'.format(len(dictionary)))"
   ]
  },
  {
   "cell_type": "markdown",
   "id": "c3b32f69",
   "metadata": {
    "papermill": {
     "duration": 0.002885,
     "end_time": "2024-07-17T09:49:30.480025",
     "exception": false,
     "start_time": "2024-07-17T09:49:30.477140",
     "status": "completed"
    },
    "tags": []
   },
   "source": [
    "## OMP PRC Pipeline\n",
    "- ``max_sparsity = 30`` "
   ]
  },
  {
   "cell_type": "code",
   "execution_count": 2,
   "id": "e9146871",
   "metadata": {
    "execution": {
     "iopub.execute_input": "2024-07-17T09:49:30.487850Z",
     "iopub.status.busy": "2024-07-17T09:49:30.487213Z",
     "iopub.status.idle": "2024-07-17T09:49:31.900233Z",
     "shell.execute_reply": "2024-07-17T09:49:31.899281Z"
    },
    "papermill": {
     "duration": 1.419674,
     "end_time": "2024-07-17T09:49:31.902502",
     "exception": false,
     "start_time": "2024-07-17T09:49:30.482828",
     "status": "completed"
    },
    "tags": []
   },
   "outputs": [],
   "source": [
    "batchSize = 200\n",
    "\n",
    "max_sparsity = 30\n",
    "\n",
    "input_mmpdf_db = f'/home/gomes/synthetic-data/csc-mmpdf-{batchSize}.json'\n",
    "output_prc_omp_db = f'/home/gomes/synthetic-data/prc-omp-{batchSize}.json'\n",
    "\n",
    "#path_to_signals_db = f'C:\\\\Users\\\\gomes\\\\Documents\\\\ENS\\\\00_M1\\\\00_BORELLI\\\\01_WorkInProgress\\\\\\synthetic-data\\\\csc-signals-{batchSize}.json'\n",
    "path_to_signals_db = f'/home/gomes/synthetic-data/csc-signals-{batchSize}.json'\n",
    "\n",
    "workbench = CSCWorkbench(path_to_signals_db)\n",
    "workbench.load_data()\n",
    "workbench.set_dictionary(dictionary)"
   ]
  },
  {
   "cell_type": "code",
   "execution_count": 3,
   "id": "bef6d866",
   "metadata": {
    "execution": {
     "iopub.execute_input": "2024-07-17T09:49:31.908992Z",
     "iopub.status.busy": "2024-07-17T09:49:31.908588Z",
     "iopub.status.idle": "2024-07-17T10:54:46.266690Z",
     "shell.execute_reply": "2024-07-17T10:54:46.262159Z"
    },
    "papermill": {
     "duration": 3914.3658,
     "end_time": "2024-07-17T10:54:46.270881",
     "exception": false,
     "start_time": "2024-07-17T09:49:31.905081",
     "status": "completed"
    },
    "tags": []
   },
   "outputs": [
    {
     "name": "stderr",
     "output_type": "stream",
     "text": [
      "\r",
      "OMP PRC Pipeline from DB:   0%|                                                                                                        | 0/5000 [00:00<?, ?it/s]"
     ]
    },
    {
     "name": "stderr",
     "output_type": "stream",
     "text": [
      "\r",
      "OMP PRC Pipeline from DB:   1%|▌                                                                                              | 27/5000 [00:00<02:15, 36.80it/s]"
     ]
    },
    {
     "name": "stderr",
     "output_type": "stream",
     "text": [
      "\r",
      "OMP PRC Pipeline from DB:   1%|▌                                                                                              | 31/5000 [00:00<02:23, 34.60it/s]"
     ]
    },
    {
     "name": "stderr",
     "output_type": "stream",
     "text": [
      "\r",
      "OMP PRC Pipeline from DB:   1%|█                                                                                              | 54/5000 [00:05<10:06,  8.15it/s]"
     ]
    },
    {
     "name": "stderr",
     "output_type": "stream",
     "text": [
      "\r",
      "OMP PRC Pipeline from DB:   2%|█▌                                                                                             | 81/5000 [00:12<16:28,  4.98it/s]"
     ]
    },
    {
     "name": "stderr",
     "output_type": "stream",
     "text": [
      "\r",
      "OMP PRC Pipeline from DB:   2%|██                                                                                            | 108/5000 [00:20<18:40,  4.37it/s]"
     ]
    },
    {
     "name": "stderr",
     "output_type": "stream",
     "text": [
      "\r",
      "OMP PRC Pipeline from DB:   3%|██▌                                                                                           | 135/5000 [00:27<20:22,  3.98it/s]"
     ]
    },
    {
     "name": "stderr",
     "output_type": "stream",
     "text": [
      "\r",
      "OMP PRC Pipeline from DB:   3%|███                                                                                           | 162/5000 [00:35<21:19,  3.78it/s]"
     ]
    },
    {
     "name": "stderr",
     "output_type": "stream",
     "text": [
      "\r",
      "OMP PRC Pipeline from DB:   4%|███▌                                                                                          | 189/5000 [00:44<22:39,  3.54it/s]"
     ]
    },
    {
     "name": "stderr",
     "output_type": "stream",
     "text": [
      "\r",
      "OMP PRC Pipeline from DB:   4%|████                                                                                          | 216/5000 [00:54<25:28,  3.13it/s]"
     ]
    },
    {
     "name": "stderr",
     "output_type": "stream",
     "text": [
      "\r",
      "OMP PRC Pipeline from DB:   5%|████▌                                                                                         | 243/5000 [01:13<34:08,  2.32it/s]"
     ]
    },
    {
     "name": "stderr",
     "output_type": "stream",
     "text": [
      "\r",
      "OMP PRC Pipeline from DB:   5%|█████                                                                                         | 270/5000 [01:33<41:37,  1.89it/s]"
     ]
    },
    {
     "name": "stderr",
     "output_type": "stream",
     "text": [
      "\r",
      "OMP PRC Pipeline from DB:   6%|█████▌                                                                                        | 297/5000 [01:53<47:01,  1.67it/s]"
     ]
    },
    {
     "name": "stderr",
     "output_type": "stream",
     "text": [
      "\r",
      "OMP PRC Pipeline from DB:   6%|██████                                                                                        | 324/5000 [02:11<47:41,  1.63it/s]"
     ]
    },
    {
     "name": "stderr",
     "output_type": "stream",
     "text": [
      "\r",
      "OMP PRC Pipeline from DB:   7%|██████▌                                                                                       | 351/5000 [02:29<49:27,  1.57it/s]"
     ]
    },
    {
     "name": "stderr",
     "output_type": "stream",
     "text": [
      "\r",
      "OMP PRC Pipeline from DB:   8%|███████                                                                                       | 378/5000 [02:49<51:30,  1.50it/s]"
     ]
    },
    {
     "name": "stderr",
     "output_type": "stream",
     "text": [
      "\r",
      "OMP PRC Pipeline from DB:   8%|███████▌                                                                                      | 405/5000 [03:08<51:31,  1.49it/s]"
     ]
    },
    {
     "name": "stderr",
     "output_type": "stream",
     "text": [
      "\r",
      "OMP PRC Pipeline from DB:   9%|████████                                                                                      | 432/5000 [03:26<50:50,  1.50it/s]"
     ]
    },
    {
     "name": "stderr",
     "output_type": "stream",
     "text": [
      "\r",
      "OMP PRC Pipeline from DB:   9%|████████▋                                                                                     | 459/5000 [03:46<52:50,  1.43it/s]"
     ]
    },
    {
     "name": "stderr",
     "output_type": "stream",
     "text": [
      "\r",
      "OMP PRC Pipeline from DB:  10%|█████████▏                                                                                    | 486/5000 [04:06<53:30,  1.41it/s]"
     ]
    },
    {
     "name": "stderr",
     "output_type": "stream",
     "text": [
      "\r",
      "OMP PRC Pipeline from DB:  10%|█████████▋                                                                                    | 513/5000 [04:28<55:26,  1.35it/s]"
     ]
    },
    {
     "name": "stderr",
     "output_type": "stream",
     "text": [
      "\r",
      "OMP PRC Pipeline from DB:  11%|█████████▉                                                                                  | 540/5000 [05:00<1:04:47,  1.15it/s]"
     ]
    },
    {
     "name": "stderr",
     "output_type": "stream",
     "text": [
      "\r",
      "OMP PRC Pipeline from DB:  11%|██████████▍                                                                                 | 567/5000 [05:29<1:08:32,  1.08it/s]"
     ]
    },
    {
     "name": "stderr",
     "output_type": "stream",
     "text": [
      "\r",
      "OMP PRC Pipeline from DB:  12%|██████████▉                                                                                 | 594/5000 [05:52<1:06:39,  1.10it/s]"
     ]
    },
    {
     "name": "stderr",
     "output_type": "stream",
     "text": [
      "\r",
      "OMP PRC Pipeline from DB:  12%|███████████▍                                                                                | 621/5000 [06:18<1:07:35,  1.08it/s]"
     ]
    },
    {
     "name": "stderr",
     "output_type": "stream",
     "text": [
      "\r",
      "OMP PRC Pipeline from DB:  13%|███████████▉                                                                                | 648/5000 [06:45<1:08:49,  1.05it/s]"
     ]
    },
    {
     "name": "stderr",
     "output_type": "stream",
     "text": [
      "\r",
      "OMP PRC Pipeline from DB:  14%|████████████▍                                                                               | 675/5000 [07:14<1:11:07,  1.01it/s]"
     ]
    },
    {
     "name": "stderr",
     "output_type": "stream",
     "text": [
      "\r",
      "OMP PRC Pipeline from DB:  14%|████████████▉                                                                               | 702/5000 [07:40<1:10:25,  1.02it/s]"
     ]
    },
    {
     "name": "stderr",
     "output_type": "stream",
     "text": [
      "\r",
      "OMP PRC Pipeline from DB:  15%|█████████████▍                                                                              | 729/5000 [08:05<1:08:11,  1.04it/s]"
     ]
    },
    {
     "name": "stderr",
     "output_type": "stream",
     "text": [
      "\r",
      "OMP PRC Pipeline from DB:  15%|█████████████▉                                                                              | 756/5000 [08:27<1:05:18,  1.08it/s]"
     ]
    },
    {
     "name": "stderr",
     "output_type": "stream",
     "text": [
      "\r",
      "OMP PRC Pipeline from DB:  16%|██████████████▍                                                                             | 783/5000 [08:57<1:08:22,  1.03it/s]"
     ]
    },
    {
     "name": "stderr",
     "output_type": "stream",
     "text": [
      "\r",
      "OMP PRC Pipeline from DB:  16%|██████████████▉                                                                             | 810/5000 [09:21<1:06:45,  1.05it/s]"
     ]
    },
    {
     "name": "stderr",
     "output_type": "stream",
     "text": [
      "\r",
      "OMP PRC Pipeline from DB:  17%|███████████████▍                                                                            | 837/5000 [09:42<1:02:21,  1.11it/s]"
     ]
    },
    {
     "name": "stderr",
     "output_type": "stream",
     "text": [
      "\r",
      "OMP PRC Pipeline from DB:  17%|███████████████▉                                                                            | 864/5000 [10:06<1:01:35,  1.12it/s]"
     ]
    },
    {
     "name": "stderr",
     "output_type": "stream",
     "text": [
      "\r",
      "OMP PRC Pipeline from DB:  18%|████████████████▊                                                                             | 891/5000 [10:26<58:09,  1.18it/s]"
     ]
    },
    {
     "name": "stderr",
     "output_type": "stream",
     "text": [
      "\r",
      "OMP PRC Pipeline from DB:  18%|█████████████████▎                                                                            | 918/5000 [10:46<55:45,  1.22it/s]"
     ]
    },
    {
     "name": "stderr",
     "output_type": "stream",
     "text": [
      "\r",
      "OMP PRC Pipeline from DB:  19%|█████████████████▊                                                                            | 945/5000 [11:11<57:36,  1.17it/s]"
     ]
    },
    {
     "name": "stderr",
     "output_type": "stream",
     "text": [
      "\r",
      "OMP PRC Pipeline from DB:  19%|██████████████████▎                                                                           | 972/5000 [11:30<53:34,  1.25it/s]"
     ]
    },
    {
     "name": "stderr",
     "output_type": "stream",
     "text": [
      "\r",
      "OMP PRC Pipeline from DB:  20%|██████████████████▊                                                                           | 999/5000 [11:53<54:37,  1.22it/s]"
     ]
    },
    {
     "name": "stderr",
     "output_type": "stream",
     "text": [
      "\r",
      "OMP PRC Pipeline from DB:  21%|███████████████████                                                                          | 1026/5000 [12:15<53:49,  1.23it/s]"
     ]
    },
    {
     "name": "stderr",
     "output_type": "stream",
     "text": [
      "\r",
      "OMP PRC Pipeline from DB:  21%|███████████████████▌                                                                         | 1053/5000 [12:33<51:02,  1.29it/s]"
     ]
    },
    {
     "name": "stderr",
     "output_type": "stream",
     "text": [
      "\r",
      "OMP PRC Pipeline from DB:  22%|████████████████████                                                                         | 1080/5000 [12:46<44:32,  1.47it/s]"
     ]
    },
    {
     "name": "stderr",
     "output_type": "stream",
     "text": [
      "\r",
      "OMP PRC Pipeline from DB:  22%|████████████████████▌                                                                        | 1107/5000 [13:06<45:20,  1.43it/s]"
     ]
    },
    {
     "name": "stderr",
     "output_type": "stream",
     "text": [
      "\r",
      "OMP PRC Pipeline from DB:  23%|█████████████████████                                                                        | 1134/5000 [13:24<45:00,  1.43it/s]"
     ]
    },
    {
     "name": "stderr",
     "output_type": "stream",
     "text": [
      "\r",
      "OMP PRC Pipeline from DB:  23%|█████████████████████▌                                                                       | 1161/5000 [13:42<44:06,  1.45it/s]"
     ]
    },
    {
     "name": "stderr",
     "output_type": "stream",
     "text": [
      "\r",
      "OMP PRC Pipeline from DB:  24%|██████████████████████                                                                       | 1188/5000 [14:05<46:39,  1.36it/s]"
     ]
    },
    {
     "name": "stderr",
     "output_type": "stream",
     "text": [
      "\r",
      "OMP PRC Pipeline from DB:  24%|██████████████████████▌                                                                      | 1215/5000 [14:23<44:41,  1.41it/s]"
     ]
    },
    {
     "name": "stderr",
     "output_type": "stream",
     "text": [
      "\r",
      "OMP PRC Pipeline from DB:  25%|███████████████████████                                                                      | 1242/5000 [14:43<45:27,  1.38it/s]"
     ]
    },
    {
     "name": "stderr",
     "output_type": "stream",
     "text": [
      "\r",
      "OMP PRC Pipeline from DB:  25%|███████████████████████▌                                                                     | 1269/5000 [15:04<46:11,  1.35it/s]"
     ]
    },
    {
     "name": "stderr",
     "output_type": "stream",
     "text": [
      "\r",
      "OMP PRC Pipeline from DB:  26%|████████████████████████                                                                     | 1296/5000 [15:26<47:01,  1.31it/s]"
     ]
    },
    {
     "name": "stderr",
     "output_type": "stream",
     "text": [
      "\r",
      "OMP PRC Pipeline from DB:  26%|████████████████████████▌                                                                    | 1323/5000 [15:47<47:04,  1.30it/s]"
     ]
    },
    {
     "name": "stderr",
     "output_type": "stream",
     "text": [
      "\r",
      "OMP PRC Pipeline from DB:  27%|█████████████████████████                                                                    | 1350/5000 [16:07<46:14,  1.32it/s]"
     ]
    },
    {
     "name": "stderr",
     "output_type": "stream",
     "text": [
      "\r",
      "OMP PRC Pipeline from DB:  28%|█████████████████████████▌                                                                   | 1377/5000 [16:28<46:05,  1.31it/s]"
     ]
    },
    {
     "name": "stderr",
     "output_type": "stream",
     "text": [
      "\r",
      "OMP PRC Pipeline from DB:  28%|██████████████████████████                                                                   | 1404/5000 [16:50<46:27,  1.29it/s]"
     ]
    },
    {
     "name": "stderr",
     "output_type": "stream",
     "text": [
      "\r",
      "OMP PRC Pipeline from DB:  29%|██████████████████████████▌                                                                  | 1431/5000 [17:12<47:06,  1.26it/s]"
     ]
    },
    {
     "name": "stderr",
     "output_type": "stream",
     "text": [
      "\r",
      "OMP PRC Pipeline from DB:  29%|███████████████████████████                                                                  | 1458/5000 [17:31<45:09,  1.31it/s]"
     ]
    },
    {
     "name": "stderr",
     "output_type": "stream",
     "text": [
      "\r",
      "OMP PRC Pipeline from DB:  30%|███████████████████████████▌                                                                 | 1485/5000 [17:54<46:00,  1.27it/s]"
     ]
    },
    {
     "name": "stderr",
     "output_type": "stream",
     "text": [
      "\r",
      "OMP PRC Pipeline from DB:  30%|████████████████████████████                                                                 | 1512/5000 [18:20<48:43,  1.19it/s]"
     ]
    },
    {
     "name": "stderr",
     "output_type": "stream",
     "text": [
      "\r",
      "OMP PRC Pipeline from DB:  31%|████████████████████████████▋                                                                | 1539/5000 [18:40<46:59,  1.23it/s]"
     ]
    },
    {
     "name": "stderr",
     "output_type": "stream",
     "text": [
      "\r",
      "OMP PRC Pipeline from DB:  31%|█████████████████████████████▏                                                               | 1566/5000 [19:02<46:48,  1.22it/s]"
     ]
    },
    {
     "name": "stderr",
     "output_type": "stream",
     "text": [
      "\r",
      "OMP PRC Pipeline from DB:  32%|█████████████████████████████▋                                                               | 1593/5000 [19:22<44:55,  1.26it/s]"
     ]
    },
    {
     "name": "stderr",
     "output_type": "stream",
     "text": [
      "\r",
      "OMP PRC Pipeline from DB:  32%|██████████████████████████████▏                                                              | 1620/5000 [19:45<45:31,  1.24it/s]"
     ]
    },
    {
     "name": "stderr",
     "output_type": "stream",
     "text": [
      "\r",
      "OMP PRC Pipeline from DB:  33%|██████████████████████████████▋                                                              | 1647/5000 [20:05<44:00,  1.27it/s]"
     ]
    },
    {
     "name": "stderr",
     "output_type": "stream",
     "text": [
      "\r",
      "OMP PRC Pipeline from DB:  33%|███████████████████████████████▏                                                             | 1674/5000 [20:29<45:11,  1.23it/s]"
     ]
    },
    {
     "name": "stderr",
     "output_type": "stream",
     "text": [
      "\r",
      "OMP PRC Pipeline from DB:  34%|███████████████████████████████▋                                                             | 1701/5000 [20:48<42:58,  1.28it/s]"
     ]
    },
    {
     "name": "stderr",
     "output_type": "stream",
     "text": [
      "\r",
      "OMP PRC Pipeline from DB:  35%|████████████████████████████████▏                                                            | 1728/5000 [21:12<44:42,  1.22it/s]"
     ]
    },
    {
     "name": "stderr",
     "output_type": "stream",
     "text": [
      "\r",
      "OMP PRC Pipeline from DB:  35%|████████████████████████████████▋                                                            | 1755/5000 [21:32<42:40,  1.27it/s]"
     ]
    },
    {
     "name": "stderr",
     "output_type": "stream",
     "text": [
      "\r",
      "OMP PRC Pipeline from DB:  36%|█████████████████████████████████▏                                                           | 1782/5000 [21:55<43:19,  1.24it/s]"
     ]
    },
    {
     "name": "stderr",
     "output_type": "stream",
     "text": [
      "\r",
      "OMP PRC Pipeline from DB:  36%|█████████████████████████████████▋                                                           | 1809/5000 [22:14<41:41,  1.28it/s]"
     ]
    },
    {
     "name": "stderr",
     "output_type": "stream",
     "text": [
      "\r",
      "OMP PRC Pipeline from DB:  37%|██████████████████████████████████▏                                                          | 1836/5000 [22:34<40:44,  1.29it/s]"
     ]
    },
    {
     "name": "stderr",
     "output_type": "stream",
     "text": [
      "\r",
      "OMP PRC Pipeline from DB:  37%|██████████████████████████████████▋                                                          | 1863/5000 [23:03<44:49,  1.17it/s]"
     ]
    },
    {
     "name": "stderr",
     "output_type": "stream",
     "text": [
      "\r",
      "OMP PRC Pipeline from DB:  38%|███████████████████████████████████▏                                                         | 1890/5000 [23:23<42:53,  1.21it/s]"
     ]
    },
    {
     "name": "stderr",
     "output_type": "stream",
     "text": [
      "\r",
      "OMP PRC Pipeline from DB:  38%|███████████████████████████████████▋                                                         | 1917/5000 [23:46<42:30,  1.21it/s]"
     ]
    },
    {
     "name": "stderr",
     "output_type": "stream",
     "text": [
      "\r",
      "OMP PRC Pipeline from DB:  39%|████████████████████████████████████▏                                                        | 1944/5000 [24:08<41:52,  1.22it/s]"
     ]
    },
    {
     "name": "stderr",
     "output_type": "stream",
     "text": [
      "\r",
      "OMP PRC Pipeline from DB:  39%|████████████████████████████████████▋                                                        | 1971/5000 [24:31<42:02,  1.20it/s]"
     ]
    },
    {
     "name": "stderr",
     "output_type": "stream",
     "text": [
      "\r",
      "OMP PRC Pipeline from DB:  40%|█████████████████████████████████████▏                                                       | 1998/5000 [24:54<42:12,  1.19it/s]"
     ]
    },
    {
     "name": "stderr",
     "output_type": "stream",
     "text": [
      "\r",
      "OMP PRC Pipeline from DB:  40%|█████████████████████████████████████▋                                                       | 2025/5000 [25:15<40:36,  1.22it/s]"
     ]
    },
    {
     "name": "stderr",
     "output_type": "stream",
     "text": [
      "\r",
      "OMP PRC Pipeline from DB:  41%|██████████████████████████████████████▏                                                      | 2052/5000 [25:32<37:48,  1.30it/s]"
     ]
    },
    {
     "name": "stderr",
     "output_type": "stream",
     "text": [
      "\r",
      "OMP PRC Pipeline from DB:  42%|██████████████████████████████████████▋                                                      | 2079/5000 [25:49<35:18,  1.38it/s]"
     ]
    },
    {
     "name": "stderr",
     "output_type": "stream",
     "text": [
      "\r",
      "OMP PRC Pipeline from DB:  42%|███████████████████████████████████████▏                                                     | 2106/5000 [26:06<33:32,  1.44it/s]"
     ]
    },
    {
     "name": "stderr",
     "output_type": "stream",
     "text": [
      "\r",
      "OMP PRC Pipeline from DB:  43%|███████████████████████████████████████▋                                                     | 2133/5000 [26:25<33:19,  1.43it/s]"
     ]
    },
    {
     "name": "stderr",
     "output_type": "stream",
     "text": [
      "\r",
      "OMP PRC Pipeline from DB:  43%|████████████████████████████████████████▏                                                    | 2160/5000 [26:44<33:16,  1.42it/s]"
     ]
    },
    {
     "name": "stderr",
     "output_type": "stream",
     "text": [
      "\r",
      "OMP PRC Pipeline from DB:  44%|████████████████████████████████████████▋                                                    | 2187/5000 [27:04<33:24,  1.40it/s]"
     ]
    },
    {
     "name": "stderr",
     "output_type": "stream",
     "text": [
      "\r",
      "OMP PRC Pipeline from DB:  44%|█████████████████████████████████████████▏                                                   | 2214/5000 [27:21<31:57,  1.45it/s]"
     ]
    },
    {
     "name": "stderr",
     "output_type": "stream",
     "text": [
      "\r",
      "OMP PRC Pipeline from DB:  45%|█████████████████████████████████████████▋                                                   | 2241/5000 [27:40<31:38,  1.45it/s]"
     ]
    },
    {
     "name": "stderr",
     "output_type": "stream",
     "text": [
      "\r",
      "OMP PRC Pipeline from DB:  45%|██████████████████████████████████████████▏                                                  | 2268/5000 [28:03<33:22,  1.36it/s]"
     ]
    },
    {
     "name": "stderr",
     "output_type": "stream",
     "text": [
      "\r",
      "OMP PRC Pipeline from DB:  46%|██████████████████████████████████████████▋                                                  | 2295/5000 [28:23<33:34,  1.34it/s]"
     ]
    },
    {
     "name": "stderr",
     "output_type": "stream",
     "text": [
      "\r",
      "OMP PRC Pipeline from DB:  46%|███████████████████████████████████████████▏                                                 | 2322/5000 [28:41<31:47,  1.40it/s]"
     ]
    },
    {
     "name": "stderr",
     "output_type": "stream",
     "text": [
      "\r",
      "OMP PRC Pipeline from DB:  47%|███████████████████████████████████████████▋                                                 | 2349/5000 [29:02<32:39,  1.35it/s]"
     ]
    },
    {
     "name": "stderr",
     "output_type": "stream",
     "text": [
      "\r",
      "OMP PRC Pipeline from DB:  48%|████████████████████████████████████████████▏                                                | 2376/5000 [29:22<32:17,  1.35it/s]"
     ]
    },
    {
     "name": "stderr",
     "output_type": "stream",
     "text": [
      "\r",
      "OMP PRC Pipeline from DB:  48%|████████████████████████████████████████████▋                                                | 2403/5000 [29:40<31:02,  1.39it/s]"
     ]
    },
    {
     "name": "stderr",
     "output_type": "stream",
     "text": [
      "\r",
      "OMP PRC Pipeline from DB:  49%|█████████████████████████████████████████████▏                                               | 2430/5000 [29:57<29:36,  1.45it/s]"
     ]
    },
    {
     "name": "stderr",
     "output_type": "stream",
     "text": [
      "\r",
      "OMP PRC Pipeline from DB:  49%|█████████████████████████████████████████████▋                                               | 2457/5000 [30:16<29:15,  1.45it/s]"
     ]
    },
    {
     "name": "stderr",
     "output_type": "stream",
     "text": [
      "\r",
      "OMP PRC Pipeline from DB:  50%|██████████████████████████████████████████████▏                                              | 2484/5000 [30:37<30:06,  1.39it/s]"
     ]
    },
    {
     "name": "stderr",
     "output_type": "stream",
     "text": [
      "\r",
      "OMP PRC Pipeline from DB:  50%|██████████████████████████████████████████████▋                                              | 2511/5000 [30:58<30:36,  1.36it/s]"
     ]
    },
    {
     "name": "stderr",
     "output_type": "stream",
     "text": [
      "\r",
      "OMP PRC Pipeline from DB:  51%|███████████████████████████████████████████████▏                                             | 2538/5000 [31:16<29:14,  1.40it/s]"
     ]
    },
    {
     "name": "stderr",
     "output_type": "stream",
     "text": [
      "\r",
      "OMP PRC Pipeline from DB:  51%|███████████████████████████████████████████████▋                                             | 2565/5000 [31:37<29:47,  1.36it/s]"
     ]
    },
    {
     "name": "stderr",
     "output_type": "stream",
     "text": [
      "\r",
      "OMP PRC Pipeline from DB:  52%|████████████████████████████████████████████████▏                                            | 2592/5000 [32:00<31:07,  1.29it/s]"
     ]
    },
    {
     "name": "stderr",
     "output_type": "stream",
     "text": [
      "\r",
      "OMP PRC Pipeline from DB:  52%|████████████████████████████████████████████████▋                                            | 2619/5000 [32:19<29:46,  1.33it/s]"
     ]
    },
    {
     "name": "stderr",
     "output_type": "stream",
     "text": [
      "\r",
      "OMP PRC Pipeline from DB:  53%|█████████████████████████████████████████████████▏                                           | 2646/5000 [32:43<30:52,  1.27it/s]"
     ]
    },
    {
     "name": "stderr",
     "output_type": "stream",
     "text": [
      "\r",
      "OMP PRC Pipeline from DB:  53%|█████████████████████████████████████████████████▋                                           | 2673/5000 [33:03<30:15,  1.28it/s]"
     ]
    },
    {
     "name": "stderr",
     "output_type": "stream",
     "text": [
      "\r",
      "OMP PRC Pipeline from DB:  54%|██████████████████████████████████████████████████▏                                          | 2700/5000 [33:26<30:36,  1.25it/s]"
     ]
    },
    {
     "name": "stderr",
     "output_type": "stream",
     "text": [
      "\r",
      "OMP PRC Pipeline from DB:  55%|██████████████████████████████████████████████████▋                                          | 2727/5000 [33:47<29:51,  1.27it/s]"
     ]
    },
    {
     "name": "stderr",
     "output_type": "stream",
     "text": [
      "\r",
      "OMP PRC Pipeline from DB:  55%|███████████████████████████████████████████████████▏                                         | 2754/5000 [34:07<29:16,  1.28it/s]"
     ]
    },
    {
     "name": "stderr",
     "output_type": "stream",
     "text": [
      "\r",
      "OMP PRC Pipeline from DB:  56%|███████████████████████████████████████████████████▋                                         | 2781/5000 [34:29<29:18,  1.26it/s]"
     ]
    },
    {
     "name": "stderr",
     "output_type": "stream",
     "text": [
      "\r",
      "OMP PRC Pipeline from DB:  56%|████████████████████████████████████████████████████▏                                        | 2808/5000 [34:52<29:25,  1.24it/s]"
     ]
    },
    {
     "name": "stderr",
     "output_type": "stream",
     "text": [
      "\r",
      "OMP PRC Pipeline from DB:  57%|████████████████████████████████████████████████████▋                                        | 2835/5000 [35:08<26:51,  1.34it/s]"
     ]
    },
    {
     "name": "stderr",
     "output_type": "stream",
     "text": [
      "\r",
      "OMP PRC Pipeline from DB:  57%|█████████████████████████████████████████████████████▏                                       | 2862/5000 [35:36<29:37,  1.20it/s]"
     ]
    },
    {
     "name": "stderr",
     "output_type": "stream",
     "text": [
      "\r",
      "OMP PRC Pipeline from DB:  58%|█████████████████████████████████████████████████████▋                                       | 2889/5000 [35:58<28:59,  1.21it/s]"
     ]
    },
    {
     "name": "stderr",
     "output_type": "stream",
     "text": [
      "\r",
      "OMP PRC Pipeline from DB:  58%|██████████████████████████████████████████████████████▏                                      | 2916/5000 [36:23<29:34,  1.17it/s]"
     ]
    },
    {
     "name": "stderr",
     "output_type": "stream",
     "text": [
      "\r",
      "OMP PRC Pipeline from DB:  59%|██████████████████████████████████████████████████████▋                                      | 2943/5000 [36:48<30:11,  1.14it/s]"
     ]
    },
    {
     "name": "stderr",
     "output_type": "stream",
     "text": [
      "\r",
      "OMP PRC Pipeline from DB:  59%|███████████████████████████████████████████████████████▏                                     | 2970/5000 [37:09<28:28,  1.19it/s]"
     ]
    },
    {
     "name": "stderr",
     "output_type": "stream",
     "text": [
      "\r",
      "OMP PRC Pipeline from DB:  60%|███████████████████████████████████████████████████████▋                                     | 2997/5000 [37:32<28:14,  1.18it/s]"
     ]
    },
    {
     "name": "stderr",
     "output_type": "stream",
     "text": [
      "\r",
      "OMP PRC Pipeline from DB:  60%|████████████████████████████████████████████████████████▏                                    | 3024/5000 [37:58<29:08,  1.13it/s]"
     ]
    },
    {
     "name": "stderr",
     "output_type": "stream",
     "text": [
      "\r",
      "OMP PRC Pipeline from DB:  61%|████████████████████████████████████████████████████████▋                                    | 3051/5000 [38:17<27:04,  1.20it/s]"
     ]
    },
    {
     "name": "stderr",
     "output_type": "stream",
     "text": [
      "\r",
      "OMP PRC Pipeline from DB:  62%|█████████████████████████████████████████████████████████▎                                   | 3078/5000 [38:32<23:55,  1.34it/s]"
     ]
    },
    {
     "name": "stderr",
     "output_type": "stream",
     "text": [
      "\r",
      "OMP PRC Pipeline from DB:  62%|█████████████████████████████████████████████████████████▊                                   | 3105/5000 [38:52<23:30,  1.34it/s]"
     ]
    },
    {
     "name": "stderr",
     "output_type": "stream",
     "text": [
      "\r",
      "OMP PRC Pipeline from DB:  63%|██████████████████████████████████████████████████████████▎                                  | 3132/5000 [39:13<23:28,  1.33it/s]"
     ]
    },
    {
     "name": "stderr",
     "output_type": "stream",
     "text": [
      "\r",
      "OMP PRC Pipeline from DB:  63%|██████████████████████████████████████████████████████████▊                                  | 3159/5000 [39:31<22:16,  1.38it/s]"
     ]
    },
    {
     "name": "stderr",
     "output_type": "stream",
     "text": [
      "\r",
      "OMP PRC Pipeline from DB:  64%|███████████████████████████████████████████████████████████▎                                 | 3186/5000 [39:51<22:07,  1.37it/s]"
     ]
    },
    {
     "name": "stderr",
     "output_type": "stream",
     "text": [
      "\r",
      "OMP PRC Pipeline from DB:  64%|███████████████████████████████████████████████████████████▊                                 | 3213/5000 [40:10<21:34,  1.38it/s]"
     ]
    },
    {
     "name": "stderr",
     "output_type": "stream",
     "text": [
      "\r",
      "OMP PRC Pipeline from DB:  65%|████████████████████████████████████████████████████████████▎                                | 3240/5000 [40:25<19:43,  1.49it/s]"
     ]
    },
    {
     "name": "stderr",
     "output_type": "stream",
     "text": [
      "\r",
      "OMP PRC Pipeline from DB:  65%|████████████████████████████████████████████████████████████▊                                | 3267/5000 [40:52<22:16,  1.30it/s]"
     ]
    },
    {
     "name": "stderr",
     "output_type": "stream",
     "text": [
      "\r",
      "OMP PRC Pipeline from DB:  66%|█████████████████████████████████████████████████████████████▎                               | 3294/5000 [41:14<22:15,  1.28it/s]"
     ]
    },
    {
     "name": "stderr",
     "output_type": "stream",
     "text": [
      "\r",
      "OMP PRC Pipeline from DB:  66%|█████████████████████████████████████████████████████████████▊                               | 3321/5000 [41:31<20:45,  1.35it/s]"
     ]
    },
    {
     "name": "stderr",
     "output_type": "stream",
     "text": [
      "\r",
      "OMP PRC Pipeline from DB:  67%|██████████████████████████████████████████████████████████████▎                              | 3348/5000 [41:55<21:26,  1.28it/s]"
     ]
    },
    {
     "name": "stderr",
     "output_type": "stream",
     "text": [
      "\r",
      "OMP PRC Pipeline from DB:  68%|██████████████████████████████████████████████████████████████▊                              | 3375/5000 [42:14<20:40,  1.31it/s]"
     ]
    },
    {
     "name": "stderr",
     "output_type": "stream",
     "text": [
      "\r",
      "OMP PRC Pipeline from DB:  68%|███████████████████████████████████████████████████████████████▎                             | 3402/5000 [42:35<20:23,  1.31it/s]"
     ]
    },
    {
     "name": "stderr",
     "output_type": "stream",
     "text": [
      "\r",
      "OMP PRC Pipeline from DB:  69%|███████████████████████████████████████████████████████████████▊                             | 3429/5000 [42:56<20:09,  1.30it/s]"
     ]
    },
    {
     "name": "stderr",
     "output_type": "stream",
     "text": [
      "\r",
      "OMP PRC Pipeline from DB:  69%|████████████████████████████████████████████████████████████████▎                            | 3456/5000 [43:17<19:57,  1.29it/s]"
     ]
    },
    {
     "name": "stderr",
     "output_type": "stream",
     "text": [
      "\r",
      "OMP PRC Pipeline from DB:  70%|████████████████████████████████████████████████████████████████▊                            | 3483/5000 [43:39<19:48,  1.28it/s]"
     ]
    },
    {
     "name": "stderr",
     "output_type": "stream",
     "text": [
      "\r",
      "OMP PRC Pipeline from DB:  70%|█████████████████████████████████████████████████████████████████▎                           | 3510/5000 [43:59<19:00,  1.31it/s]"
     ]
    },
    {
     "name": "stderr",
     "output_type": "stream",
     "text": [
      "\r",
      "OMP PRC Pipeline from DB:  71%|█████████████████████████████████████████████████████████████████▊                           | 3537/5000 [44:22<19:32,  1.25it/s]"
     ]
    },
    {
     "name": "stderr",
     "output_type": "stream",
     "text": [
      "\r",
      "OMP PRC Pipeline from DB:  71%|██████████████████████████████████████████████████████████████████▎                          | 3564/5000 [44:43<18:46,  1.27it/s]"
     ]
    },
    {
     "name": "stderr",
     "output_type": "stream",
     "text": [
      "\r",
      "OMP PRC Pipeline from DB:  72%|██████████████████████████████████████████████████████████████████▊                          | 3591/5000 [45:06<18:59,  1.24it/s]"
     ]
    },
    {
     "name": "stderr",
     "output_type": "stream",
     "text": [
      "\r",
      "OMP PRC Pipeline from DB:  72%|███████████████████████████████████████████████████████████████████▎                         | 3618/5000 [45:28<18:45,  1.23it/s]"
     ]
    },
    {
     "name": "stderr",
     "output_type": "stream",
     "text": [
      "\r",
      "OMP PRC Pipeline from DB:  73%|███████████████████████████████████████████████████████████████████▊                         | 3645/5000 [45:50<18:20,  1.23it/s]"
     ]
    },
    {
     "name": "stderr",
     "output_type": "stream",
     "text": [
      "\r",
      "OMP PRC Pipeline from DB:  73%|████████████████████████████████████████████████████████████████████▎                        | 3672/5000 [46:15<18:49,  1.18it/s]"
     ]
    },
    {
     "name": "stderr",
     "output_type": "stream",
     "text": [
      "\r",
      "OMP PRC Pipeline from DB:  74%|████████████████████████████████████████████████████████████████████▊                        | 3699/5000 [46:36<17:57,  1.21it/s]"
     ]
    },
    {
     "name": "stderr",
     "output_type": "stream",
     "text": [
      "\r",
      "OMP PRC Pipeline from DB:  75%|█████████████████████████████████████████████████████████████████████▎                       | 3726/5000 [46:57<17:11,  1.24it/s]"
     ]
    },
    {
     "name": "stderr",
     "output_type": "stream",
     "text": [
      "\r",
      "OMP PRC Pipeline from DB:  75%|█████████████████████████████████████████████████████████████████████▊                       | 3753/5000 [47:19<16:50,  1.23it/s]"
     ]
    },
    {
     "name": "stderr",
     "output_type": "stream",
     "text": [
      "\r",
      "OMP PRC Pipeline from DB:  76%|██████████████████████████████████████████████████████████████████████▎                      | 3780/5000 [47:37<15:35,  1.30it/s]"
     ]
    },
    {
     "name": "stderr",
     "output_type": "stream",
     "text": [
      "\r",
      "OMP PRC Pipeline from DB:  76%|██████████████████████████████████████████████████████████████████████▊                      | 3807/5000 [48:01<15:56,  1.25it/s]"
     ]
    },
    {
     "name": "stderr",
     "output_type": "stream",
     "text": [
      "\r",
      "OMP PRC Pipeline from DB:  77%|███████████████████████████████████████████████████████████████████████▎                     | 3834/5000 [48:23<15:35,  1.25it/s]"
     ]
    },
    {
     "name": "stderr",
     "output_type": "stream",
     "text": [
      "\r",
      "OMP PRC Pipeline from DB:  77%|███████████████████████████████████████████████████████████████████████▊                     | 3861/5000 [48:44<15:15,  1.24it/s]"
     ]
    },
    {
     "name": "stderr",
     "output_type": "stream",
     "text": [
      "\r",
      "OMP PRC Pipeline from DB:  78%|████████████████████████████████████████████████████████████████████████▎                    | 3888/5000 [49:08<15:21,  1.21it/s]"
     ]
    },
    {
     "name": "stderr",
     "output_type": "stream",
     "text": [
      "\r",
      "OMP PRC Pipeline from DB:  78%|████████████████████████████████████████████████████████████████████████▊                    | 3915/5000 [49:27<14:16,  1.27it/s]"
     ]
    },
    {
     "name": "stderr",
     "output_type": "stream",
     "text": [
      "\r",
      "OMP PRC Pipeline from DB:  79%|█████████████████████████████████████████████████████████████████████████▎                   | 3942/5000 [49:50<14:16,  1.24it/s]"
     ]
    },
    {
     "name": "stderr",
     "output_type": "stream",
     "text": [
      "\r",
      "OMP PRC Pipeline from DB:  79%|█████████████████████████████████████████████████████████████████████████▊                   | 3969/5000 [50:13<14:09,  1.21it/s]"
     ]
    },
    {
     "name": "stderr",
     "output_type": "stream",
     "text": [
      "\r",
      "OMP PRC Pipeline from DB:  80%|██████████████████████████████████████████████████████████████████████████▎                  | 3996/5000 [50:35<13:41,  1.22it/s]"
     ]
    },
    {
     "name": "stderr",
     "output_type": "stream",
     "text": [
      "\r",
      "OMP PRC Pipeline from DB:  80%|██████████████████████████████████████████████████████████████████████████▊                  | 4023/5000 [50:59<13:43,  1.19it/s]"
     ]
    },
    {
     "name": "stderr",
     "output_type": "stream",
     "text": [
      "\r",
      "OMP PRC Pipeline from DB:  81%|███████████████████████████████████████████████████████████████████████████▎                 | 4050/5000 [51:18<12:39,  1.25it/s]"
     ]
    },
    {
     "name": "stderr",
     "output_type": "stream",
     "text": [
      "\r",
      "OMP PRC Pipeline from DB:  82%|███████████████████████████████████████████████████████████████████████████▊                 | 4077/5000 [51:36<11:35,  1.33it/s]"
     ]
    },
    {
     "name": "stderr",
     "output_type": "stream",
     "text": [
      "\r",
      "OMP PRC Pipeline from DB:  82%|████████████████████████████████████████████████████████████████████████████▎                | 4104/5000 [51:54<10:49,  1.38it/s]"
     ]
    },
    {
     "name": "stderr",
     "output_type": "stream",
     "text": [
      "\r",
      "OMP PRC Pipeline from DB:  83%|████████████████████████████████████████████████████████████████████████████▊                | 4131/5000 [52:12<10:20,  1.40it/s]"
     ]
    },
    {
     "name": "stderr",
     "output_type": "stream",
     "text": [
      "\r",
      "OMP PRC Pipeline from DB:  83%|█████████████████████████████████████████████████████████████████████████████▎               | 4158/5000 [52:28<09:32,  1.47it/s]"
     ]
    },
    {
     "name": "stderr",
     "output_type": "stream",
     "text": [
      "\r",
      "OMP PRC Pipeline from DB:  84%|█████████████████████████████████████████████████████████████████████████████▊               | 4185/5000 [52:48<09:29,  1.43it/s]"
     ]
    },
    {
     "name": "stderr",
     "output_type": "stream",
     "text": [
      "\r",
      "OMP PRC Pipeline from DB:  84%|██████████████████████████████████████████████████████████████████████████████▎              | 4212/5000 [53:05<08:53,  1.48it/s]"
     ]
    },
    {
     "name": "stderr",
     "output_type": "stream",
     "text": [
      "\r",
      "OMP PRC Pipeline from DB:  85%|██████████████████████████████████████████████████████████████████████████████▊              | 4239/5000 [53:24<08:39,  1.46it/s]"
     ]
    },
    {
     "name": "stderr",
     "output_type": "stream",
     "text": [
      "\r",
      "OMP PRC Pipeline from DB:  85%|███████████████████████████████████████████████████████████████████████████████▎             | 4266/5000 [53:43<08:25,  1.45it/s]"
     ]
    },
    {
     "name": "stderr",
     "output_type": "stream",
     "text": [
      "\r",
      "OMP PRC Pipeline from DB:  86%|███████████████████████████████████████████████████████████████████████████████▊             | 4293/5000 [54:05<08:32,  1.38it/s]"
     ]
    },
    {
     "name": "stderr",
     "output_type": "stream",
     "text": [
      "\r",
      "OMP PRC Pipeline from DB:  86%|████████████████████████████████████████████████████████████████████████████████▎            | 4320/5000 [54:24<08:05,  1.40it/s]"
     ]
    },
    {
     "name": "stderr",
     "output_type": "stream",
     "text": [
      "\r",
      "OMP PRC Pipeline from DB:  87%|████████████████████████████████████████████████████████████████████████████████▊            | 4347/5000 [54:43<07:51,  1.39it/s]"
     ]
    },
    {
     "name": "stderr",
     "output_type": "stream",
     "text": [
      "\r",
      "OMP PRC Pipeline from DB:  87%|█████████████████████████████████████████████████████████████████████████████████▎           | 4374/5000 [55:09<08:12,  1.27it/s]"
     ]
    },
    {
     "name": "stderr",
     "output_type": "stream",
     "text": [
      "\r",
      "OMP PRC Pipeline from DB:  88%|█████████████████████████████████████████████████████████████████████████████████▊           | 4401/5000 [55:26<07:26,  1.34it/s]"
     ]
    },
    {
     "name": "stderr",
     "output_type": "stream",
     "text": [
      "\r",
      "OMP PRC Pipeline from DB:  89%|██████████████████████████████████████████████████████████████████████████████████▎          | 4428/5000 [55:48<07:13,  1.32it/s]"
     ]
    },
    {
     "name": "stderr",
     "output_type": "stream",
     "text": [
      "\r",
      "OMP PRC Pipeline from DB:  89%|██████████████████████████████████████████████████████████████████████████████████▊          | 4455/5000 [56:12<07:20,  1.24it/s]"
     ]
    },
    {
     "name": "stderr",
     "output_type": "stream",
     "text": [
      "\r",
      "OMP PRC Pipeline from DB:  90%|███████████████████████████████████████████████████████████████████████████████████▎         | 4482/5000 [56:36<07:09,  1.21it/s]"
     ]
    },
    {
     "name": "stderr",
     "output_type": "stream",
     "text": [
      "\r",
      "OMP PRC Pipeline from DB:  90%|███████████████████████████████████████████████████████████████████████████████████▊         | 4509/5000 [56:57<06:40,  1.22it/s]"
     ]
    },
    {
     "name": "stderr",
     "output_type": "stream",
     "text": [
      "\r",
      "OMP PRC Pipeline from DB:  91%|████████████████████████████████████████████████████████████████████████████████████▎        | 4536/5000 [57:19<06:15,  1.24it/s]"
     ]
    },
    {
     "name": "stderr",
     "output_type": "stream",
     "text": [
      "\r",
      "OMP PRC Pipeline from DB:  91%|████████████████████████████████████████████████████████████████████████████████████▊        | 4563/5000 [57:45<06:12,  1.17it/s]"
     ]
    },
    {
     "name": "stderr",
     "output_type": "stream",
     "text": [
      "\r",
      "OMP PRC Pipeline from DB:  92%|█████████████████████████████████████████████████████████████████████████████████████▎       | 4590/5000 [58:03<05:28,  1.25it/s]"
     ]
    },
    {
     "name": "stderr",
     "output_type": "stream",
     "text": [
      "\r",
      "OMP PRC Pipeline from DB:  92%|█████████████████████████████████████████████████████████████████████████████████████▉       | 4617/5000 [58:24<05:04,  1.26it/s]"
     ]
    },
    {
     "name": "stderr",
     "output_type": "stream",
     "text": [
      "\r",
      "OMP PRC Pipeline from DB:  93%|██████████████████████████████████████████████████████████████████████████████████████▍      | 4644/5000 [58:47<04:50,  1.23it/s]"
     ]
    },
    {
     "name": "stderr",
     "output_type": "stream",
     "text": [
      "\r",
      "OMP PRC Pipeline from DB:  93%|██████████████████████████████████████████████████████████████████████████████████████▉      | 4671/5000 [59:14<04:45,  1.15it/s]"
     ]
    },
    {
     "name": "stderr",
     "output_type": "stream",
     "text": [
      "\r",
      "OMP PRC Pipeline from DB:  94%|███████████████████████████████████████████████████████████████████████████████████████▍     | 4698/5000 [59:37<04:21,  1.15it/s]"
     ]
    },
    {
     "name": "stderr",
     "output_type": "stream",
     "text": [
      "\r",
      "OMP PRC Pipeline from DB:  94%|███████████████████████████████████████████████████████████████████████████████████████▉     | 4725/5000 [59:58<03:50,  1.19it/s]"
     ]
    },
    {
     "name": "stderr",
     "output_type": "stream",
     "text": [
      "\r",
      "OMP PRC Pipeline from DB:  95%|██████████████████████████████████████████████████████████████████████████████████████▍    | 4752/5000 [1:00:19<03:23,  1.22it/s]"
     ]
    },
    {
     "name": "stderr",
     "output_type": "stream",
     "text": [
      "\r",
      "OMP PRC Pipeline from DB:  96%|██████████████████████████████████████████████████████████████████████████████████████▉    | 4779/5000 [1:00:43<03:04,  1.20it/s]"
     ]
    },
    {
     "name": "stderr",
     "output_type": "stream",
     "text": [
      "\r",
      "OMP PRC Pipeline from DB:  96%|███████████████████████████████████████████████████████████████████████████████████████▍   | 4806/5000 [1:01:09<02:49,  1.15it/s]"
     ]
    },
    {
     "name": "stderr",
     "output_type": "stream",
     "text": [
      "\r",
      "OMP PRC Pipeline from DB:  97%|███████████████████████████████████████████████████████████████████████████████████████▉   | 4833/5000 [1:01:30<02:20,  1.19it/s]"
     ]
    },
    {
     "name": "stderr",
     "output_type": "stream",
     "text": [
      "\r",
      "OMP PRC Pipeline from DB:  97%|████████████████████████████████████████████████████████████████████████████████████████▍  | 4860/5000 [1:01:57<02:05,  1.11it/s]"
     ]
    },
    {
     "name": "stderr",
     "output_type": "stream",
     "text": [
      "\r",
      "OMP PRC Pipeline from DB:  98%|████████████████████████████████████████████████████████████████████████████████████████▉  | 4887/5000 [1:02:20<01:39,  1.13it/s]"
     ]
    },
    {
     "name": "stderr",
     "output_type": "stream",
     "text": [
      "\r",
      "OMP PRC Pipeline from DB:  98%|█████████████████████████████████████████████████████████████████████████████████████████▍ | 4914/5000 [1:02:45<01:16,  1.13it/s]"
     ]
    },
    {
     "name": "stderr",
     "output_type": "stream",
     "text": [
      "\r",
      "OMP PRC Pipeline from DB:  99%|█████████████████████████████████████████████████████████████████████████████████████████▉ | 4941/5000 [1:03:11<00:53,  1.09it/s]"
     ]
    },
    {
     "name": "stderr",
     "output_type": "stream",
     "text": [
      "\r",
      "OMP PRC Pipeline from DB:  99%|██████████████████████████████████████████████████████████████████████████████████████████▍| 4968/5000 [1:03:37<00:29,  1.08it/s]"
     ]
    },
    {
     "name": "stderr",
     "output_type": "stream",
     "text": [
      "\r",
      "OMP PRC Pipeline from DB: 100%|██████████████████████████████████████████████████████████████████████████████████████████▉| 4995/5000 [1:03:58<00:04,  1.13it/s]"
     ]
    },
    {
     "name": "stderr",
     "output_type": "stream",
     "text": [
      "\r",
      "OMP PRC Pipeline from DB: 100%|██████████████████████████████████████████████████████████████████████████████████████████▉| 4996/5000 [1:03:58<00:03,  1.14it/s]"
     ]
    },
    {
     "name": "stderr",
     "output_type": "stream",
     "text": [
      "\r",
      "OMP PRC Pipeline from DB: 100%|███████████████████████████████████████████████████████████████████████████████████████████| 5000/5000 [1:03:58<00:00,  1.30it/s]"
     ]
    },
    {
     "name": "stderr",
     "output_type": "stream",
     "text": [
      "\n"
     ]
    }
   ],
   "source": [
    "workbench.ompPrecisonRecallPipelineFromDB(input_mmpdf_db, output_prc_omp_db, nb_cores=27, max_sparsity=max_sparsity, verbose=False)"
   ]
  }
 ],
 "metadata": {
  "kernelspec": {
   "display_name": "phlamesenv",
   "language": "python",
   "name": "python3"
  },
  "language_info": {
   "codemirror_mode": {
    "name": "ipython",
    "version": 3
   },
   "file_extension": ".py",
   "mimetype": "text/x-python",
   "name": "python",
   "nbconvert_exporter": "python",
   "pygments_lexer": "ipython3",
   "version": "3.11.2"
  },
  "papermill": {
   "default_parameters": {},
   "duration": 3921.273873,
   "end_time": "2024-07-17T10:54:49.181714",
   "environment_variables": {},
   "exception": null,
   "input_path": "prc_omp_db.ipynb",
   "output_path": "out_prc_omp.ipynb",
   "parameters": {},
   "start_time": "2024-07-17T09:49:27.907841",
   "version": "2.6.0"
  }
 },
 "nbformat": 4,
 "nbformat_minor": 5
}