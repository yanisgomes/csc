{
 "cells": [
  {
   "cell_type": "code",
   "execution_count": 1,
   "id": "1836d966",
   "metadata": {
    "execution": {
     "iopub.execute_input": "2024-07-17T09:48:16.053775Z",
     "iopub.status.busy": "2024-07-17T09:48:16.053335Z",
     "iopub.status.idle": "2024-07-17T09:48:17.620719Z",
     "shell.execute_reply": "2024-07-17T09:48:17.619910Z"
    },
    "papermill": {
     "duration": 1.575962,
     "end_time": "2024-07-17T09:48:17.623771",
     "exception": false,
     "start_time": "2024-07-17T09:48:16.047809",
     "status": "completed"
    },
    "tags": []
   },
   "outputs": [
    {
     "name": "stdout",
     "output_type": "stream",
     "text": [
      "The dictionary has 143 different atoms\n"
     ]
    }
   ],
   "source": [
    "import numpy as np\n",
    "from csc.utils import *\n",
    "from csc.atoms import *\n",
    "from csc.dictionary import *\n",
    "from csc.workbench import *\n",
    "from itertools import product\n",
    "import matplotlib.pyplot as plt\n",
    "\n",
    "# Atom parameters\n",
    "bmin = 0.005\n",
    "bmax = 0.06\n",
    "b_step = 0.005\n",
    "b_values = np.arange(bmin, bmax, b_step)\n",
    "\n",
    "ymin = 0.010\n",
    "ymax = 0.036\n",
    "y_step = 0.002\n",
    "y_values = np.arange(ymin, ymax, y_step)\n",
    "\n",
    "s_values = [1]\n",
    "\n",
    "dictionary = ZSDictionary.from_values(b_values, y_values, s_values)\n",
    "print('The dictionary has {} different atoms'.format(len(dictionary)))"
   ]
  },
  {
   "cell_type": "markdown",
   "id": "da14ab8e",
   "metadata": {
    "papermill": {
     "duration": 0.003115,
     "end_time": "2024-07-17T09:48:17.630827",
     "exception": false,
     "start_time": "2024-07-17T09:48:17.627712",
     "status": "completed"
    },
    "tags": []
   },
   "source": [
    "## MP PRC Pipeline\n",
    "- ``max_sparsity = 30`` "
   ]
  },
  {
   "cell_type": "code",
   "execution_count": 2,
   "id": "eef0c020",
   "metadata": {
    "execution": {
     "iopub.execute_input": "2024-07-17T09:48:17.639004Z",
     "iopub.status.busy": "2024-07-17T09:48:17.638494Z",
     "iopub.status.idle": "2024-07-17T09:48:19.014188Z",
     "shell.execute_reply": "2024-07-17T09:48:19.013187Z"
    },
    "papermill": {
     "duration": 1.383588,
     "end_time": "2024-07-17T09:48:19.017543",
     "exception": false,
     "start_time": "2024-07-17T09:48:17.633955",
     "status": "completed"
    },
    "tags": []
   },
   "outputs": [],
   "source": [
    "batchSize = 200\n",
    "\n",
    "max_sparsity = 30\n",
    "\n",
    "input_mp_db = f'/home/gomes/synthetic-data/csc-mp-{batchSize}.json'\n",
    "output_prc_mp_db = f'/home/gomes/synthetic-data/prc-mp-{batchSize}.json'\n",
    "\n",
    "#path_to_signals_db = f'C:\\\\Users\\\\gomes\\\\Documents\\\\ENS\\\\00_M1\\\\00_BORELLI\\\\01_WorkInProgress\\\\\\synthetic-data\\\\csc-signals-{batchSize}.json'\n",
    "path_to_signals_db = f'/home/gomes/synthetic-data/csc-signals-{batchSize}.json'\n",
    "\n",
    "workbench = CSCWorkbench(path_to_signals_db)\n",
    "workbench.load_data()\n",
    "workbench.set_dictionary(dictionary)"
   ]
  },
  {
   "cell_type": "code",
   "execution_count": 3,
   "id": "68f11085",
   "metadata": {
    "execution": {
     "iopub.execute_input": "2024-07-17T09:48:19.026685Z",
     "iopub.status.busy": "2024-07-17T09:48:19.026184Z"
    },
    "papermill": {
     "duration": null,
     "end_time": null,
     "exception": false,
     "start_time": "2024-07-17T09:48:19.021383",
     "status": "running"
    },
    "tags": []
   },
   "outputs": [
    {
     "name": "stderr",
     "output_type": "stream",
     "text": [
      "\r",
      "MP PRC Pipeline from DB:   0%|                                                                                                         | 0/5000 [00:00<?, ?it/s]"
     ]
    },
    {
     "name": "stderr",
     "output_type": "stream",
     "text": [
      "\r",
      "MP PRC Pipeline from DB:   1%|▌                                                                                               | 27/5000 [00:00<01:41, 49.12it/s]"
     ]
    },
    {
     "name": "stderr",
     "output_type": "stream",
     "text": [
      "\r",
      "MP PRC Pipeline from DB:   1%|▌                                                                                               | 32/5000 [00:00<01:47, 46.13it/s]"
     ]
    },
    {
     "name": "stderr",
     "output_type": "stream",
     "text": [
      "\r",
      "MP PRC Pipeline from DB:   1%|█                                                                                               | 54/5000 [00:02<04:11, 19.63it/s]"
     ]
    },
    {
     "name": "stderr",
     "output_type": "stream",
     "text": [
      "\r",
      "MP PRC Pipeline from DB:   2%|█▌                                                                                              | 81/5000 [00:06<08:53,  9.22it/s]"
     ]
    },
    {
     "name": "stderr",
     "output_type": "stream",
     "text": [
      "\r",
      "MP PRC Pipeline from DB:   2%|██                                                                                             | 108/5000 [00:11<11:02,  7.39it/s]"
     ]
    },
    {
     "name": "stderr",
     "output_type": "stream",
     "text": [
      "\r",
      "MP PRC Pipeline from DB:   3%|██▌                                                                                            | 135/5000 [00:16<12:48,  6.33it/s]"
     ]
    },
    {
     "name": "stderr",
     "output_type": "stream",
     "text": [
      "\r",
      "MP PRC Pipeline from DB:   3%|███                                                                                            | 162/5000 [00:21<13:45,  5.86it/s]"
     ]
    },
    {
     "name": "stderr",
     "output_type": "stream",
     "text": [
      "\r",
      "MP PRC Pipeline from DB:   4%|███▌                                                                                           | 189/5000 [00:27<14:12,  5.64it/s]"
     ]
    },
    {
     "name": "stderr",
     "output_type": "stream",
     "text": [
      "\r",
      "MP PRC Pipeline from DB:   4%|████                                                                                           | 216/5000 [00:32<14:48,  5.39it/s]"
     ]
    },
    {
     "name": "stderr",
     "output_type": "stream",
     "text": [
      "\r",
      "MP PRC Pipeline from DB:   5%|████▌                                                                                          | 243/5000 [00:38<15:10,  5.22it/s]"
     ]
    },
    {
     "name": "stderr",
     "output_type": "stream",
     "text": [
      "\r",
      "MP PRC Pipeline from DB:   5%|█████▏                                                                                         | 270/5000 [00:43<15:18,  5.15it/s]"
     ]
    },
    {
     "name": "stderr",
     "output_type": "stream",
     "text": [
      "\r",
      "MP PRC Pipeline from DB:   6%|█████▋                                                                                         | 297/5000 [00:49<15:30,  5.05it/s]"
     ]
    },
    {
     "name": "stderr",
     "output_type": "stream",
     "text": [
      "\r",
      "MP PRC Pipeline from DB:   6%|██████▏                                                                                        | 324/5000 [00:54<15:41,  4.97it/s]"
     ]
    },
    {
     "name": "stderr",
     "output_type": "stream",
     "text": [
      "\r",
      "MP PRC Pipeline from DB:   7%|██████▋                                                                                        | 351/5000 [01:00<15:28,  5.01it/s]"
     ]
    },
    {
     "name": "stderr",
     "output_type": "stream",
     "text": [
      "\r",
      "MP PRC Pipeline from DB:   8%|███████▏                                                                                       | 378/5000 [01:05<15:27,  4.98it/s]"
     ]
    },
    {
     "name": "stderr",
     "output_type": "stream",
     "text": [
      "\r",
      "MP PRC Pipeline from DB:   8%|███████▋                                                                                       | 405/5000 [01:11<15:42,  4.87it/s]"
     ]
    },
    {
     "name": "stderr",
     "output_type": "stream",
     "text": [
      "\r",
      "MP PRC Pipeline from DB:   9%|████████▏                                                                                      | 432/5000 [01:17<15:57,  4.77it/s]"
     ]
    },
    {
     "name": "stderr",
     "output_type": "stream",
     "text": [
      "\r",
      "MP PRC Pipeline from DB:   9%|████████▋                                                                                      | 459/5000 [01:26<18:34,  4.08it/s]"
     ]
    },
    {
     "name": "stderr",
     "output_type": "stream",
     "text": [
      "\r",
      "MP PRC Pipeline from DB:  10%|█████████▏                                                                                     | 486/5000 [01:33<19:13,  3.91it/s]"
     ]
    },
    {
     "name": "stderr",
     "output_type": "stream",
     "text": [
      "\r",
      "MP PRC Pipeline from DB:  10%|█████████▋                                                                                     | 513/5000 [01:41<20:12,  3.70it/s]"
     ]
    },
    {
     "name": "stderr",
     "output_type": "stream",
     "text": [
      "\r",
      "MP PRC Pipeline from DB:  11%|██████████▎                                                                                    | 540/5000 [01:49<20:36,  3.61it/s]"
     ]
    },
    {
     "name": "stderr",
     "output_type": "stream",
     "text": [
      "\r",
      "MP PRC Pipeline from DB:  11%|██████████▊                                                                                    | 567/5000 [01:58<21:19,  3.47it/s]"
     ]
    },
    {
     "name": "stderr",
     "output_type": "stream",
     "text": [
      "\r",
      "MP PRC Pipeline from DB:  12%|███████████▎                                                                                   | 594/5000 [02:10<25:07,  2.92it/s]"
     ]
    },
    {
     "name": "stderr",
     "output_type": "stream",
     "text": [
      "\r",
      "MP PRC Pipeline from DB:  12%|███████████▊                                                                                   | 621/5000 [02:27<31:13,  2.34it/s]"
     ]
    },
    {
     "name": "stderr",
     "output_type": "stream",
     "text": [
      "\r",
      "MP PRC Pipeline from DB:  13%|████████████▎                                                                                  | 648/5000 [02:43<34:24,  2.11it/s]"
     ]
    },
    {
     "name": "stderr",
     "output_type": "stream",
     "text": [
      "\r",
      "MP PRC Pipeline from DB:  14%|████████████▊                                                                                  | 675/5000 [03:00<37:05,  1.94it/s]"
     ]
    },
    {
     "name": "stderr",
     "output_type": "stream",
     "text": [
      "\r",
      "MP PRC Pipeline from DB:  14%|█████████████▎                                                                                 | 702/5000 [03:19<41:08,  1.74it/s]"
     ]
    },
    {
     "name": "stderr",
     "output_type": "stream",
     "text": [
      "\r",
      "MP PRC Pipeline from DB:  15%|█████████████▊                                                                                 | 729/5000 [03:36<41:58,  1.70it/s]"
     ]
    },
    {
     "name": "stderr",
     "output_type": "stream",
     "text": [
      "\r",
      "MP PRC Pipeline from DB:  15%|██████████████▎                                                                                | 756/5000 [03:53<42:44,  1.66it/s]"
     ]
    },
    {
     "name": "stderr",
     "output_type": "stream",
     "text": [
      "\r",
      "MP PRC Pipeline from DB:  16%|██████████████▉                                                                                | 783/5000 [04:09<41:55,  1.68it/s]"
     ]
    },
    {
     "name": "stderr",
     "output_type": "stream",
     "text": [
      "\r",
      "MP PRC Pipeline from DB:  16%|███████████████▍                                                                               | 810/5000 [04:25<41:50,  1.67it/s]"
     ]
    },
    {
     "name": "stderr",
     "output_type": "stream",
     "text": [
      "\r",
      "MP PRC Pipeline from DB:  17%|███████████████▉                                                                               | 837/5000 [04:45<44:31,  1.56it/s]"
     ]
    }
   ],
   "source": [
    "workbench.mpPrecisonRecallPipelineFromDB(input_mp_db, output_prc_mp_db, nb_cores=27, max_sparsity=max_sparsity, verbose=False)"
   ]
  }
 ],
 "metadata": {
  "kernelspec": {
   "display_name": "phlamesenv",
   "language": "python",
   "name": "python3"
  },
  "language_info": {
   "codemirror_mode": {
    "name": "ipython",
    "version": 3
   },
   "file_extension": ".py",
   "mimetype": "text/x-python",
   "name": "python",
   "nbconvert_exporter": "python",
   "pygments_lexer": "ipython3",
   "version": "3.11.2"
  },
  "papermill": {
   "default_parameters": {},
   "duration": null,
   "end_time": null,
   "environment_variables": {},
   "exception": null,
   "input_path": "prc_mp_db.ipynb",
   "output_path": "out_prc_mp.ipynb",
   "parameters": {},
   "start_time": "2024-07-17T09:48:15.038198",
   "version": "2.6.0"
  }
 },
 "nbformat": 4,
 "nbformat_minor": 5
}