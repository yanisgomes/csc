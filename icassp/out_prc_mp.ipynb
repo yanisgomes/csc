{
 "cells": [
  {
   "cell_type": "code",
   "execution_count": 1,
   "id": "1836d966",
   "metadata": {
    "execution": {
     "iopub.execute_input": "2024-07-17T09:48:16.053775Z",
     "iopub.status.busy": "2024-07-17T09:48:16.053335Z",
     "iopub.status.idle": "2024-07-17T09:48:17.620719Z",
     "shell.execute_reply": "2024-07-17T09:48:17.619910Z"
    },
    "papermill": {
     "duration": 1.575962,
     "end_time": "2024-07-17T09:48:17.623771",
     "exception": false,
     "start_time": "2024-07-17T09:48:16.047809",
     "status": "completed"
    },
    "tags": []
   },
   "outputs": [
    {
     "name": "stdout",
     "output_type": "stream",
     "text": [
      "The dictionary has 143 different atoms\n"
     ]
    }
   ],
   "source": [
    "import numpy as np\n",
    "from csc.utils import *\n",
    "from csc.atoms import *\n",
    "from csc.dictionary import *\n",
    "from csc.workbench import *\n",
    "from itertools import product\n",
    "import matplotlib.pyplot as plt\n",
    "\n",
    "# Atom parameters\n",
    "bmin = 0.005\n",
    "bmax = 0.06\n",
    "b_step = 0.005\n",
    "b_values = np.arange(bmin, bmax, b_step)\n",
    "\n",
    "ymin = 0.010\n",
    "ymax = 0.036\n",
    "y_step = 0.002\n",
    "y_values = np.arange(ymin, ymax, y_step)\n",
    "\n",
    "s_values = [1]\n",
    "\n",
    "dictionary = ZSDictionary.from_values(b_values, y_values, s_values)\n",
    "print('The dictionary has {} different atoms'.format(len(dictionary)))"
   ]
  },
  {
   "cell_type": "markdown",
   "id": "da14ab8e",
   "metadata": {
    "papermill": {
     "duration": 0.003115,
     "end_time": "2024-07-17T09:48:17.630827",
     "exception": false,
     "start_time": "2024-07-17T09:48:17.627712",
     "status": "completed"
    },
    "tags": []
   },
   "source": [
    "## MP PRC Pipeline\n",
    "- ``max_sparsity = 30`` "
   ]
  },
  {
   "cell_type": "code",
   "execution_count": 2,
   "id": "eef0c020",
   "metadata": {
    "execution": {
     "iopub.execute_input": "2024-07-17T09:48:17.639004Z",
     "iopub.status.busy": "2024-07-17T09:48:17.638494Z",
     "iopub.status.idle": "2024-07-17T09:48:19.014188Z",
     "shell.execute_reply": "2024-07-17T09:48:19.013187Z"
    },
    "papermill": {
     "duration": 1.383588,
     "end_time": "2024-07-17T09:48:19.017543",
     "exception": false,
     "start_time": "2024-07-17T09:48:17.633955",
     "status": "completed"
    },
    "tags": []
   },
   "outputs": [],
   "source": [
    "batchSize = 200\n",
    "\n",
    "max_sparsity = 30\n",
    "\n",
    "input_mp_db = f'/home/gomes/synthetic-data/csc-mp-{batchSize}.json'\n",
    "output_prc_mp_db = f'/home/gomes/synthetic-data/prc-mp-{batchSize}.json'\n",
    "\n",
    "#path_to_signals_db = f'C:\\\\Users\\\\gomes\\\\Documents\\\\ENS\\\\00_M1\\\\00_BORELLI\\\\01_WorkInProgress\\\\\\synthetic-data\\\\csc-signals-{batchSize}.json'\n",
    "path_to_signals_db = f'/home/gomes/synthetic-data/csc-signals-{batchSize}.json'\n",
    "\n",
    "workbench = CSCWorkbench(path_to_signals_db)\n",
    "workbench.load_data()\n",
    "workbench.set_dictionary(dictionary)"
   ]
  },
  {
   "cell_type": "code",
   "execution_count": 3,
   "id": "68f11085",
   "metadata": {
    "execution": {
     "iopub.execute_input": "2024-07-17T09:48:19.026685Z",
     "iopub.status.busy": "2024-07-17T09:48:19.026184Z",
     "iopub.status.idle": "2024-07-17T11:06:31.016647Z",
     "shell.execute_reply": "2024-07-17T11:06:31.014667Z"
    },
    "papermill": {
     "duration": 4691.998029,
     "end_time": "2024-07-17T11:06:31.019412",
     "exception": false,
     "start_time": "2024-07-17T09:48:19.021383",
     "status": "completed"
    },
    "tags": []
   },
   "outputs": [
    {
     "name": "stderr",
     "output_type": "stream",
     "text": [
      "\r",
      "MP PRC Pipeline from DB:   0%|                                                                                                         | 0/5000 [00:00<?, ?it/s]"
     ]
    },
    {
     "name": "stderr",
     "output_type": "stream",
     "text": [
      "\r",
      "MP PRC Pipeline from DB:   1%|▌                                                                                               | 27/5000 [00:00<01:41, 49.12it/s]"
     ]
    },
    {
     "name": "stderr",
     "output_type": "stream",
     "text": [
      "\r",
      "MP PRC Pipeline from DB:   1%|▌                                                                                               | 32/5000 [00:00<01:47, 46.13it/s]"
     ]
    },
    {
     "name": "stderr",
     "output_type": "stream",
     "text": [
      "\r",
      "MP PRC Pipeline from DB:   1%|█                                                                                               | 54/5000 [00:02<04:11, 19.63it/s]"
     ]
    },
    {
     "name": "stderr",
     "output_type": "stream",
     "text": [
      "\r",
      "MP PRC Pipeline from DB:   2%|█▌                                                                                              | 81/5000 [00:06<08:53,  9.22it/s]"
     ]
    },
    {
     "name": "stderr",
     "output_type": "stream",
     "text": [
      "\r",
      "MP PRC Pipeline from DB:   2%|██                                                                                             | 108/5000 [00:11<11:02,  7.39it/s]"
     ]
    },
    {
     "name": "stderr",
     "output_type": "stream",
     "text": [
      "\r",
      "MP PRC Pipeline from DB:   3%|██▌                                                                                            | 135/5000 [00:16<12:48,  6.33it/s]"
     ]
    },
    {
     "name": "stderr",
     "output_type": "stream",
     "text": [
      "\r",
      "MP PRC Pipeline from DB:   3%|███                                                                                            | 162/5000 [00:21<13:45,  5.86it/s]"
     ]
    },
    {
     "name": "stderr",
     "output_type": "stream",
     "text": [
      "\r",
      "MP PRC Pipeline from DB:   4%|███▌                                                                                           | 189/5000 [00:27<14:12,  5.64it/s]"
     ]
    },
    {
     "name": "stderr",
     "output_type": "stream",
     "text": [
      "\r",
      "MP PRC Pipeline from DB:   4%|████                                                                                           | 216/5000 [00:32<14:48,  5.39it/s]"
     ]
    },
    {
     "name": "stderr",
     "output_type": "stream",
     "text": [
      "\r",
      "MP PRC Pipeline from DB:   5%|████▌                                                                                          | 243/5000 [00:38<15:10,  5.22it/s]"
     ]
    },
    {
     "name": "stderr",
     "output_type": "stream",
     "text": [
      "\r",
      "MP PRC Pipeline from DB:   5%|█████▏                                                                                         | 270/5000 [00:43<15:18,  5.15it/s]"
     ]
    },
    {
     "name": "stderr",
     "output_type": "stream",
     "text": [
      "\r",
      "MP PRC Pipeline from DB:   6%|█████▋                                                                                         | 297/5000 [00:49<15:30,  5.05it/s]"
     ]
    },
    {
     "name": "stderr",
     "output_type": "stream",
     "text": [
      "\r",
      "MP PRC Pipeline from DB:   6%|██████▏                                                                                        | 324/5000 [00:54<15:41,  4.97it/s]"
     ]
    },
    {
     "name": "stderr",
     "output_type": "stream",
     "text": [
      "\r",
      "MP PRC Pipeline from DB:   7%|██████▋                                                                                        | 351/5000 [01:00<15:28,  5.01it/s]"
     ]
    },
    {
     "name": "stderr",
     "output_type": "stream",
     "text": [
      "\r",
      "MP PRC Pipeline from DB:   8%|███████▏                                                                                       | 378/5000 [01:05<15:27,  4.98it/s]"
     ]
    },
    {
     "name": "stderr",
     "output_type": "stream",
     "text": [
      "\r",
      "MP PRC Pipeline from DB:   8%|███████▋                                                                                       | 405/5000 [01:11<15:42,  4.87it/s]"
     ]
    },
    {
     "name": "stderr",
     "output_type": "stream",
     "text": [
      "\r",
      "MP PRC Pipeline from DB:   9%|████████▏                                                                                      | 432/5000 [01:17<15:57,  4.77it/s]"
     ]
    },
    {
     "name": "stderr",
     "output_type": "stream",
     "text": [
      "\r",
      "MP PRC Pipeline from DB:   9%|████████▋                                                                                      | 459/5000 [01:26<18:34,  4.08it/s]"
     ]
    },
    {
     "name": "stderr",
     "output_type": "stream",
     "text": [
      "\r",
      "MP PRC Pipeline from DB:  10%|█████████▏                                                                                     | 486/5000 [01:33<19:13,  3.91it/s]"
     ]
    },
    {
     "name": "stderr",
     "output_type": "stream",
     "text": [
      "\r",
      "MP PRC Pipeline from DB:  10%|█████████▋                                                                                     | 513/5000 [01:41<20:12,  3.70it/s]"
     ]
    },
    {
     "name": "stderr",
     "output_type": "stream",
     "text": [
      "\r",
      "MP PRC Pipeline from DB:  11%|██████████▎                                                                                    | 540/5000 [01:49<20:36,  3.61it/s]"
     ]
    },
    {
     "name": "stderr",
     "output_type": "stream",
     "text": [
      "\r",
      "MP PRC Pipeline from DB:  11%|██████████▊                                                                                    | 567/5000 [01:58<21:19,  3.47it/s]"
     ]
    },
    {
     "name": "stderr",
     "output_type": "stream",
     "text": [
      "\r",
      "MP PRC Pipeline from DB:  12%|███████████▎                                                                                   | 594/5000 [02:10<25:07,  2.92it/s]"
     ]
    },
    {
     "name": "stderr",
     "output_type": "stream",
     "text": [
      "\r",
      "MP PRC Pipeline from DB:  12%|███████████▊                                                                                   | 621/5000 [02:27<31:13,  2.34it/s]"
     ]
    },
    {
     "name": "stderr",
     "output_type": "stream",
     "text": [
      "\r",
      "MP PRC Pipeline from DB:  13%|████████████▎                                                                                  | 648/5000 [02:43<34:24,  2.11it/s]"
     ]
    },
    {
     "name": "stderr",
     "output_type": "stream",
     "text": [
      "\r",
      "MP PRC Pipeline from DB:  14%|████████████▊                                                                                  | 675/5000 [03:00<37:05,  1.94it/s]"
     ]
    },
    {
     "name": "stderr",
     "output_type": "stream",
     "text": [
      "\r",
      "MP PRC Pipeline from DB:  14%|█████████████▎                                                                                 | 702/5000 [03:19<41:08,  1.74it/s]"
     ]
    },
    {
     "name": "stderr",
     "output_type": "stream",
     "text": [
      "\r",
      "MP PRC Pipeline from DB:  15%|█████████████▊                                                                                 | 729/5000 [03:36<41:58,  1.70it/s]"
     ]
    },
    {
     "name": "stderr",
     "output_type": "stream",
     "text": [
      "\r",
      "MP PRC Pipeline from DB:  15%|██████████████▎                                                                                | 756/5000 [03:53<42:44,  1.66it/s]"
     ]
    },
    {
     "name": "stderr",
     "output_type": "stream",
     "text": [
      "\r",
      "MP PRC Pipeline from DB:  16%|██████████████▉                                                                                | 783/5000 [04:09<41:55,  1.68it/s]"
     ]
    },
    {
     "name": "stderr",
     "output_type": "stream",
     "text": [
      "\r",
      "MP PRC Pipeline from DB:  16%|███████████████▍                                                                               | 810/5000 [04:25<41:50,  1.67it/s]"
     ]
    },
    {
     "name": "stderr",
     "output_type": "stream",
     "text": [
      "\r",
      "MP PRC Pipeline from DB:  17%|███████████████▉                                                                               | 837/5000 [04:45<44:31,  1.56it/s]"
     ]
    },
    {
     "name": "stderr",
     "output_type": "stream",
     "text": [
      "\r",
      "MP PRC Pipeline from DB:  17%|████████████████▍                                                                              | 864/5000 [05:04<45:34,  1.51it/s]"
     ]
    },
    {
     "name": "stderr",
     "output_type": "stream",
     "text": [
      "\r",
      "MP PRC Pipeline from DB:  18%|████████████████▉                                                                              | 891/5000 [05:24<47:10,  1.45it/s]"
     ]
    },
    {
     "name": "stderr",
     "output_type": "stream",
     "text": [
      "\r",
      "MP PRC Pipeline from DB:  18%|█████████████████▍                                                                             | 918/5000 [05:43<46:55,  1.45it/s]"
     ]
    },
    {
     "name": "stderr",
     "output_type": "stream",
     "text": [
      "\r",
      "MP PRC Pipeline from DB:  19%|█████████████████▉                                                                             | 945/5000 [06:12<54:22,  1.24it/s]"
     ]
    },
    {
     "name": "stderr",
     "output_type": "stream",
     "text": [
      "\r",
      "MP PRC Pipeline from DB:  19%|██████████████████▍                                                                            | 972/5000 [06:34<53:58,  1.24it/s]"
     ]
    },
    {
     "name": "stderr",
     "output_type": "stream",
     "text": [
      "\r",
      "MP PRC Pipeline from DB:  20%|██████████████████▉                                                                            | 999/5000 [06:58<55:36,  1.20it/s]"
     ]
    },
    {
     "name": "stderr",
     "output_type": "stream",
     "text": [
      "\r",
      "MP PRC Pipeline from DB:  21%|███████████████████▎                                                                          | 1026/5000 [07:23<57:03,  1.16it/s]"
     ]
    },
    {
     "name": "stderr",
     "output_type": "stream",
     "text": [
      "\r",
      "MP PRC Pipeline from DB:  21%|███████████████████▊                                                                          | 1053/5000 [07:48<58:07,  1.13it/s]"
     ]
    },
    {
     "name": "stderr",
     "output_type": "stream",
     "text": [
      "\r",
      "MP PRC Pipeline from DB:  22%|████████████████████▎                                                                         | 1080/5000 [08:12<57:36,  1.13it/s]"
     ]
    },
    {
     "name": "stderr",
     "output_type": "stream",
     "text": [
      "\r",
      "MP PRC Pipeline from DB:  22%|████████████████████▊                                                                         | 1107/5000 [08:39<59:24,  1.09it/s]"
     ]
    },
    {
     "name": "stderr",
     "output_type": "stream",
     "text": [
      "\r",
      "MP PRC Pipeline from DB:  23%|████████████████████▊                                                                       | 1134/5000 [09:06<1:01:00,  1.06it/s]"
     ]
    },
    {
     "name": "stderr",
     "output_type": "stream",
     "text": [
      "\r",
      "MP PRC Pipeline from DB:  23%|█████████████████████▎                                                                      | 1161/5000 [09:35<1:02:50,  1.02it/s]"
     ]
    },
    {
     "name": "stderr",
     "output_type": "stream",
     "text": [
      "\r",
      "MP PRC Pipeline from DB:  24%|█████████████████████▊                                                                      | 1188/5000 [10:00<1:01:25,  1.03it/s]"
     ]
    },
    {
     "name": "stderr",
     "output_type": "stream",
     "text": [
      "\r",
      "MP PRC Pipeline from DB:  24%|██████████████████████▎                                                                     | 1215/5000 [10:31<1:04:06,  1.02s/it]"
     ]
    },
    {
     "name": "stderr",
     "output_type": "stream",
     "text": [
      "\r",
      "MP PRC Pipeline from DB:  25%|██████████████████████▊                                                                     | 1242/5000 [10:54<1:00:55,  1.03it/s]"
     ]
    },
    {
     "name": "stderr",
     "output_type": "stream",
     "text": [
      "\r",
      "MP PRC Pipeline from DB:  25%|███████████████████████▎                                                                    | 1269/5000 [11:26<1:04:25,  1.04s/it]"
     ]
    },
    {
     "name": "stderr",
     "output_type": "stream",
     "text": [
      "\r",
      "MP PRC Pipeline from DB:  26%|███████████████████████▊                                                                    | 1296/5000 [11:55<1:04:35,  1.05s/it]"
     ]
    },
    {
     "name": "stderr",
     "output_type": "stream",
     "text": [
      "\r",
      "MP PRC Pipeline from DB:  26%|████████████████████████▎                                                                   | 1323/5000 [12:24<1:04:29,  1.05s/it]"
     ]
    },
    {
     "name": "stderr",
     "output_type": "stream",
     "text": [
      "\r",
      "MP PRC Pipeline from DB:  27%|████████████████████████▊                                                                   | 1350/5000 [12:55<1:05:56,  1.08s/it]"
     ]
    },
    {
     "name": "stderr",
     "output_type": "stream",
     "text": [
      "\r",
      "MP PRC Pipeline from DB:  28%|█████████████████████████▎                                                                  | 1377/5000 [13:20<1:02:14,  1.03s/it]"
     ]
    },
    {
     "name": "stderr",
     "output_type": "stream",
     "text": [
      "\r",
      "MP PRC Pipeline from DB:  28%|██████████████████████████▍                                                                   | 1404/5000 [13:43<58:34,  1.02it/s]"
     ]
    },
    {
     "name": "stderr",
     "output_type": "stream",
     "text": [
      "\r",
      "MP PRC Pipeline from DB:  29%|██████████████████████████▉                                                                   | 1431/5000 [14:01<52:39,  1.13it/s]"
     ]
    },
    {
     "name": "stderr",
     "output_type": "stream",
     "text": [
      "\r",
      "MP PRC Pipeline from DB:  29%|███████████████████████████▍                                                                  | 1458/5000 [14:27<53:40,  1.10it/s]"
     ]
    },
    {
     "name": "stderr",
     "output_type": "stream",
     "text": [
      "\r",
      "MP PRC Pipeline from DB:  30%|███████████████████████████▉                                                                  | 1485/5000 [14:54<55:11,  1.06it/s]"
     ]
    },
    {
     "name": "stderr",
     "output_type": "stream",
     "text": [
      "\r",
      "MP PRC Pipeline from DB:  30%|████████████████████████████▍                                                                 | 1512/5000 [15:22<55:52,  1.04it/s]"
     ]
    },
    {
     "name": "stderr",
     "output_type": "stream",
     "text": [
      "\r",
      "MP PRC Pipeline from DB:  31%|████████████████████████████▉                                                                 | 1539/5000 [15:52<58:08,  1.01s/it]"
     ]
    },
    {
     "name": "stderr",
     "output_type": "stream",
     "text": [
      "\r",
      "MP PRC Pipeline from DB:  31%|█████████████████████████████▍                                                                | 1566/5000 [16:15<54:51,  1.04it/s]"
     ]
    },
    {
     "name": "stderr",
     "output_type": "stream",
     "text": [
      "\r",
      "MP PRC Pipeline from DB:  32%|█████████████████████████████▉                                                                | 1593/5000 [16:43<56:15,  1.01it/s]"
     ]
    },
    {
     "name": "stderr",
     "output_type": "stream",
     "text": [
      "\r",
      "MP PRC Pipeline from DB:  32%|██████████████████████████████▍                                                               | 1620/5000 [17:10<55:37,  1.01it/s]"
     ]
    },
    {
     "name": "stderr",
     "output_type": "stream",
     "text": [
      "\r",
      "MP PRC Pipeline from DB:  33%|██████████████████████████████▉                                                               | 1647/5000 [17:38<56:24,  1.01s/it]"
     ]
    },
    {
     "name": "stderr",
     "output_type": "stream",
     "text": [
      "\r",
      "MP PRC Pipeline from DB:  33%|███████████████████████████████▍                                                              | 1674/5000 [18:03<54:14,  1.02it/s]"
     ]
    },
    {
     "name": "stderr",
     "output_type": "stream",
     "text": [
      "\r",
      "MP PRC Pipeline from DB:  34%|███████████████████████████████▉                                                              | 1701/5000 [18:32<55:13,  1.00s/it]"
     ]
    },
    {
     "name": "stderr",
     "output_type": "stream",
     "text": [
      "\r",
      "MP PRC Pipeline from DB:  35%|████████████████████████████████▍                                                             | 1728/5000 [18:57<53:28,  1.02it/s]"
     ]
    },
    {
     "name": "stderr",
     "output_type": "stream",
     "text": [
      "\r",
      "MP PRC Pipeline from DB:  35%|████████████████████████████████▉                                                             | 1755/5000 [19:30<56:57,  1.05s/it]"
     ]
    },
    {
     "name": "stderr",
     "output_type": "stream",
     "text": [
      "\r",
      "MP PRC Pipeline from DB:  36%|█████████████████████████████████▌                                                            | 1782/5000 [20:00<57:39,  1.07s/it]"
     ]
    },
    {
     "name": "stderr",
     "output_type": "stream",
     "text": [
      "\r",
      "MP PRC Pipeline from DB:  36%|██████████████████████████████████                                                            | 1809/5000 [20:34<59:54,  1.13s/it]"
     ]
    },
    {
     "name": "stderr",
     "output_type": "stream",
     "text": [
      "\r",
      "MP PRC Pipeline from DB:  37%|██████████████████████████████████▌                                                           | 1836/5000 [21:01<57:49,  1.10s/it]"
     ]
    },
    {
     "name": "stderr",
     "output_type": "stream",
     "text": [
      "\r",
      "MP PRC Pipeline from DB:  37%|███████████████████████████████████                                                           | 1863/5000 [21:35<59:36,  1.14s/it]"
     ]
    },
    {
     "name": "stderr",
     "output_type": "stream",
     "text": [
      "\r",
      "MP PRC Pipeline from DB:  38%|██████████████████████████████████▊                                                         | 1890/5000 [22:12<1:02:34,  1.21s/it]"
     ]
    },
    {
     "name": "stderr",
     "output_type": "stream",
     "text": [
      "\r",
      "MP PRC Pipeline from DB:  38%|███████████████████████████████████▎                                                        | 1917/5000 [22:41<1:00:20,  1.17s/it]"
     ]
    },
    {
     "name": "stderr",
     "output_type": "stream",
     "text": [
      "\r",
      "MP PRC Pipeline from DB:  39%|███████████████████████████████████▊                                                        | 1944/5000 [23:17<1:01:50,  1.21s/it]"
     ]
    },
    {
     "name": "stderr",
     "output_type": "stream",
     "text": [
      "\r",
      "MP PRC Pipeline from DB:  39%|████████████████████████████████████▎                                                       | 1971/5000 [23:55<1:04:14,  1.27s/it]"
     ]
    },
    {
     "name": "stderr",
     "output_type": "stream",
     "text": [
      "\r",
      "MP PRC Pipeline from DB:  40%|████████████████████████████████████▊                                                       | 1998/5000 [24:28<1:03:14,  1.26s/it]"
     ]
    },
    {
     "name": "stderr",
     "output_type": "stream",
     "text": [
      "\r",
      "MP PRC Pipeline from DB:  40%|█████████████████████████████████████▎                                                      | 2025/5000 [25:02<1:02:14,  1.26s/it]"
     ]
    },
    {
     "name": "stderr",
     "output_type": "stream",
     "text": [
      "\r",
      "MP PRC Pipeline from DB:  41%|█████████████████████████████████████▊                                                      | 2052/5000 [25:35<1:01:21,  1.25s/it]"
     ]
    },
    {
     "name": "stderr",
     "output_type": "stream",
     "text": [
      "\r",
      "MP PRC Pipeline from DB:  42%|███████████████████████████████████████                                                       | 2079/5000 [26:04<58:32,  1.20s/it]"
     ]
    },
    {
     "name": "stderr",
     "output_type": "stream",
     "text": [
      "\r",
      "MP PRC Pipeline from DB:  42%|███████████████████████████████████████▌                                                      | 2106/5000 [26:27<52:55,  1.10s/it]"
     ]
    },
    {
     "name": "stderr",
     "output_type": "stream",
     "text": [
      "\r",
      "MP PRC Pipeline from DB:  43%|████████████████████████████████████████                                                      | 2133/5000 [26:57<52:11,  1.09s/it]"
     ]
    },
    {
     "name": "stderr",
     "output_type": "stream",
     "text": [
      "\r",
      "MP PRC Pipeline from DB:  43%|████████████████████████████████████████▌                                                     | 2160/5000 [27:28<52:28,  1.11s/it]"
     ]
    },
    {
     "name": "stderr",
     "output_type": "stream",
     "text": [
      "\r",
      "MP PRC Pipeline from DB:  44%|█████████████████████████████████████████                                                     | 2187/5000 [27:56<50:57,  1.09s/it]"
     ]
    },
    {
     "name": "stderr",
     "output_type": "stream",
     "text": [
      "\r",
      "MP PRC Pipeline from DB:  44%|█████████████████████████████████████████▌                                                    | 2214/5000 [28:26<51:07,  1.10s/it]"
     ]
    },
    {
     "name": "stderr",
     "output_type": "stream",
     "text": [
      "\r",
      "MP PRC Pipeline from DB:  45%|██████████████████████████████████████████▏                                                   | 2241/5000 [28:55<49:59,  1.09s/it]"
     ]
    },
    {
     "name": "stderr",
     "output_type": "stream",
     "text": [
      "\r",
      "MP PRC Pipeline from DB:  45%|██████████████████████████████████████████▋                                                   | 2268/5000 [29:21<47:56,  1.05s/it]"
     ]
    },
    {
     "name": "stderr",
     "output_type": "stream",
     "text": [
      "\r",
      "MP PRC Pipeline from DB:  46%|███████████████████████████████████████████▏                                                  | 2295/5000 [29:56<50:37,  1.12s/it]"
     ]
    },
    {
     "name": "stderr",
     "output_type": "stream",
     "text": [
      "\r",
      "MP PRC Pipeline from DB:  46%|███████████████████████████████████████████▋                                                  | 2322/5000 [30:26<50:05,  1.12s/it]"
     ]
    },
    {
     "name": "stderr",
     "output_type": "stream",
     "text": [
      "\r",
      "MP PRC Pipeline from DB:  47%|████████████████████████████████████████████▏                                                 | 2349/5000 [30:52<47:40,  1.08s/it]"
     ]
    },
    {
     "name": "stderr",
     "output_type": "stream",
     "text": [
      "\r",
      "MP PRC Pipeline from DB:  48%|████████████████████████████████████████████▋                                                 | 2376/5000 [31:19<46:06,  1.05s/it]"
     ]
    },
    {
     "name": "stderr",
     "output_type": "stream",
     "text": [
      "\r",
      "MP PRC Pipeline from DB:  48%|█████████████████████████████████████████████▏                                                | 2403/5000 [31:51<47:01,  1.09s/it]"
     ]
    },
    {
     "name": "stderr",
     "output_type": "stream",
     "text": [
      "\r",
      "MP PRC Pipeline from DB:  49%|█████████████████████████████████████████████▋                                                | 2430/5000 [32:23<47:55,  1.12s/it]"
     ]
    },
    {
     "name": "stderr",
     "output_type": "stream",
     "text": [
      "\r",
      "MP PRC Pipeline from DB:  49%|██████████████████████████████████████████████▏                                               | 2457/5000 [32:54<47:43,  1.13s/it]"
     ]
    },
    {
     "name": "stderr",
     "output_type": "stream",
     "text": [
      "\r",
      "MP PRC Pipeline from DB:  50%|██████████████████████████████████████████████▋                                               | 2484/5000 [33:19<45:02,  1.07s/it]"
     ]
    },
    {
     "name": "stderr",
     "output_type": "stream",
     "text": [
      "\r",
      "MP PRC Pipeline from DB:  50%|███████████████████████████████████████████████▏                                              | 2511/5000 [33:46<43:21,  1.05s/it]"
     ]
    },
    {
     "name": "stderr",
     "output_type": "stream",
     "text": [
      "\r",
      "MP PRC Pipeline from DB:  51%|███████████████████████████████████████████████▋                                              | 2538/5000 [34:24<47:13,  1.15s/it]"
     ]
    },
    {
     "name": "stderr",
     "output_type": "stream",
     "text": [
      "\r",
      "MP PRC Pipeline from DB:  51%|████████████████████████████████████████████████▏                                             | 2565/5000 [34:53<45:49,  1.13s/it]"
     ]
    },
    {
     "name": "stderr",
     "output_type": "stream",
     "text": [
      "\r",
      "MP PRC Pipeline from DB:  52%|████████████████████████████████████████████████▋                                             | 2592/5000 [35:21<44:25,  1.11s/it]"
     ]
    },
    {
     "name": "stderr",
     "output_type": "stream",
     "text": [
      "\r",
      "MP PRC Pipeline from DB:  52%|█████████████████████████████████████████████████▏                                            | 2619/5000 [35:53<44:44,  1.13s/it]"
     ]
    },
    {
     "name": "stderr",
     "output_type": "stream",
     "text": [
      "\r",
      "MP PRC Pipeline from DB:  53%|█████████████████████████████████████████████████▋                                            | 2646/5000 [36:28<46:19,  1.18s/it]"
     ]
    },
    {
     "name": "stderr",
     "output_type": "stream",
     "text": [
      "\r",
      "MP PRC Pipeline from DB:  53%|██████████████████████████████████████████████████▎                                           | 2673/5000 [36:55<43:39,  1.13s/it]"
     ]
    },
    {
     "name": "stderr",
     "output_type": "stream",
     "text": [
      "\r",
      "MP PRC Pipeline from DB:  54%|██████████████████████████████████████████████████▊                                           | 2700/5000 [37:30<45:07,  1.18s/it]"
     ]
    },
    {
     "name": "stderr",
     "output_type": "stream",
     "text": [
      "\r",
      "MP PRC Pipeline from DB:  55%|███████████████████████████████████████████████████▎                                          | 2727/5000 [38:04<45:33,  1.20s/it]"
     ]
    },
    {
     "name": "stderr",
     "output_type": "stream",
     "text": [
      "\r",
      "MP PRC Pipeline from DB:  55%|███████████████████████████████████████████████████▊                                          | 2754/5000 [38:39<46:08,  1.23s/it]"
     ]
    },
    {
     "name": "stderr",
     "output_type": "stream",
     "text": [
      "\r",
      "MP PRC Pipeline from DB:  56%|████████████████████████████████████████████████████▎                                         | 2781/5000 [39:15<46:43,  1.26s/it]"
     ]
    },
    {
     "name": "stderr",
     "output_type": "stream",
     "text": [
      "\r",
      "MP PRC Pipeline from DB:  56%|████████████████████████████████████████████████████▊                                         | 2808/5000 [39:44<43:50,  1.20s/it]"
     ]
    },
    {
     "name": "stderr",
     "output_type": "stream",
     "text": [
      "\r",
      "MP PRC Pipeline from DB:  57%|█████████████████████████████████████████████████████▎                                        | 2835/5000 [40:16<43:14,  1.20s/it]"
     ]
    },
    {
     "name": "stderr",
     "output_type": "stream",
     "text": [
      "\r",
      "MP PRC Pipeline from DB:  57%|█████████████████████████████████████████████████████▊                                        | 2862/5000 [40:46<41:44,  1.17s/it]"
     ]
    },
    {
     "name": "stderr",
     "output_type": "stream",
     "text": [
      "\r",
      "MP PRC Pipeline from DB:  58%|██████████████████████████████████████████████████████▎                                       | 2889/5000 [41:10<38:21,  1.09s/it]"
     ]
    },
    {
     "name": "stderr",
     "output_type": "stream",
     "text": [
      "\r",
      "MP PRC Pipeline from DB:  58%|██████████████████████████████████████████████████████▊                                       | 2916/5000 [41:37<36:38,  1.05s/it]"
     ]
    },
    {
     "name": "stderr",
     "output_type": "stream",
     "text": [
      "\r",
      "MP PRC Pipeline from DB:  59%|███████████████████████████████████████████████████████▎                                      | 2943/5000 [42:01<34:46,  1.01s/it]"
     ]
    },
    {
     "name": "stderr",
     "output_type": "stream",
     "text": [
      "\r",
      "MP PRC Pipeline from DB:  59%|███████████████████████████████████████████████████████▊                                      | 2970/5000 [42:29<34:14,  1.01s/it]"
     ]
    },
    {
     "name": "stderr",
     "output_type": "stream",
     "text": [
      "\r",
      "MP PRC Pipeline from DB:  60%|████████████████████████████████████████████████████████▎                                     | 2997/5000 [42:59<34:55,  1.05s/it]"
     ]
    },
    {
     "name": "stderr",
     "output_type": "stream",
     "text": [
      "\r",
      "MP PRC Pipeline from DB:  60%|████████████████████████████████████████████████████████▊                                     | 3024/5000 [43:30<35:19,  1.07s/it]"
     ]
    },
    {
     "name": "stderr",
     "output_type": "stream",
     "text": [
      "\r",
      "MP PRC Pipeline from DB:  61%|█████████████████████████████████████████████████████████▎                                    | 3051/5000 [44:06<37:27,  1.15s/it]"
     ]
    },
    {
     "name": "stderr",
     "output_type": "stream",
     "text": [
      "\r",
      "MP PRC Pipeline from DB:  62%|█████████████████████████████████████████████████████████▊                                    | 3078/5000 [44:38<37:10,  1.16s/it]"
     ]
    },
    {
     "name": "stderr",
     "output_type": "stream",
     "text": [
      "\r",
      "MP PRC Pipeline from DB:  62%|██████████████████████████████████████████████████████████▎                                   | 3105/5000 [45:14<38:20,  1.21s/it]"
     ]
    },
    {
     "name": "stderr",
     "output_type": "stream",
     "text": [
      "\r",
      "MP PRC Pipeline from DB:  63%|██████████████████████████████████████████████████████████▉                                   | 3132/5000 [45:51<39:14,  1.26s/it]"
     ]
    },
    {
     "name": "stderr",
     "output_type": "stream",
     "text": [
      "\r",
      "MP PRC Pipeline from DB:  63%|███████████████████████████████████████████████████████████▍                                  | 3159/5000 [46:25<38:35,  1.26s/it]"
     ]
    },
    {
     "name": "stderr",
     "output_type": "stream",
     "text": [
      "\r",
      "MP PRC Pipeline from DB:  64%|███████████████████████████████████████████████████████████▉                                  | 3186/5000 [47:01<38:49,  1.28s/it]"
     ]
    },
    {
     "name": "stderr",
     "output_type": "stream",
     "text": [
      "\r",
      "MP PRC Pipeline from DB:  64%|████████████████████████████████████████████████████████████▍                                 | 3213/5000 [47:34<37:38,  1.26s/it]"
     ]
    },
    {
     "name": "stderr",
     "output_type": "stream",
     "text": [
      "\r",
      "MP PRC Pipeline from DB:  65%|████████████████████████████████████████████████████████████▉                                 | 3240/5000 [48:02<35:03,  1.19s/it]"
     ]
    },
    {
     "name": "stderr",
     "output_type": "stream",
     "text": [
      "\r",
      "MP PRC Pipeline from DB:  65%|█████████████████████████████████████████████████████████████▍                                | 3267/5000 [48:28<32:45,  1.13s/it]"
     ]
    },
    {
     "name": "stderr",
     "output_type": "stream",
     "text": [
      "\r",
      "MP PRC Pipeline from DB:  66%|█████████████████████████████████████████████████████████████▉                                | 3294/5000 [48:59<32:07,  1.13s/it]"
     ]
    },
    {
     "name": "stderr",
     "output_type": "stream",
     "text": [
      "\r",
      "MP PRC Pipeline from DB:  66%|██████████████████████████████████████████████████████████████▍                               | 3321/5000 [49:30<31:44,  1.13s/it]"
     ]
    },
    {
     "name": "stderr",
     "output_type": "stream",
     "text": [
      "\r",
      "MP PRC Pipeline from DB:  67%|██████████████████████████████████████████████████████████████▉                               | 3348/5000 [49:58<30:27,  1.11s/it]"
     ]
    },
    {
     "name": "stderr",
     "output_type": "stream",
     "text": [
      "\r",
      "MP PRC Pipeline from DB:  68%|███████████████████████████████████████████████████████████████▍                              | 3375/5000 [50:29<30:29,  1.13s/it]"
     ]
    },
    {
     "name": "stderr",
     "output_type": "stream",
     "text": [
      "\r",
      "MP PRC Pipeline from DB:  68%|███████████████████████████████████████████████████████████████▉                              | 3402/5000 [50:58<29:35,  1.11s/it]"
     ]
    },
    {
     "name": "stderr",
     "output_type": "stream",
     "text": [
      "\r",
      "MP PRC Pipeline from DB:  69%|████████████████████████████████████████████████████████████████▍                             | 3429/5000 [51:27<28:41,  1.10s/it]"
     ]
    },
    {
     "name": "stderr",
     "output_type": "stream",
     "text": [
      "\r",
      "MP PRC Pipeline from DB:  69%|████████████████████████████████████████████████████████████████▉                             | 3456/5000 [51:59<28:50,  1.12s/it]"
     ]
    },
    {
     "name": "stderr",
     "output_type": "stream",
     "text": [
      "\r",
      "MP PRC Pipeline from DB:  70%|█████████████████████████████████████████████████████████████████▍                            | 3483/5000 [52:31<28:44,  1.14s/it]"
     ]
    },
    {
     "name": "stderr",
     "output_type": "stream",
     "text": [
      "\r",
      "MP PRC Pipeline from DB:  70%|█████████████████████████████████████████████████████████████████▉                            | 3510/5000 [53:00<27:51,  1.12s/it]"
     ]
    },
    {
     "name": "stderr",
     "output_type": "stream",
     "text": [
      "\r",
      "MP PRC Pipeline from DB:  71%|██████████████████████████████████████████████████████████████████▍                           | 3537/5000 [53:29<26:57,  1.11s/it]"
     ]
    },
    {
     "name": "stderr",
     "output_type": "stream",
     "text": [
      "\r",
      "MP PRC Pipeline from DB:  71%|███████████████████████████████████████████████████████████████████                           | 3564/5000 [53:58<26:23,  1.10s/it]"
     ]
    },
    {
     "name": "stderr",
     "output_type": "stream",
     "text": [
      "\r",
      "MP PRC Pipeline from DB:  72%|███████████████████████████████████████████████████████████████████▌                          | 3591/5000 [54:27<25:36,  1.09s/it]"
     ]
    },
    {
     "name": "stderr",
     "output_type": "stream",
     "text": [
      "\r",
      "MP PRC Pipeline from DB:  72%|████████████████████████████████████████████████████████████████████                          | 3618/5000 [54:54<24:23,  1.06s/it]"
     ]
    },
    {
     "name": "stderr",
     "output_type": "stream",
     "text": [
      "\r",
      "MP PRC Pipeline from DB:  73%|████████████████████████████████████████████████████████████████████▌                         | 3645/5000 [55:16<22:16,  1.01it/s]"
     ]
    },
    {
     "name": "stderr",
     "output_type": "stream",
     "text": [
      "\r",
      "MP PRC Pipeline from DB:  73%|█████████████████████████████████████████████████████████████████████                         | 3672/5000 [55:47<22:58,  1.04s/it]"
     ]
    },
    {
     "name": "stderr",
     "output_type": "stream",
     "text": [
      "\r",
      "MP PRC Pipeline from DB:  74%|█████████████████████████████████████████████████████████████████████▌                        | 3699/5000 [56:17<22:58,  1.06s/it]"
     ]
    },
    {
     "name": "stderr",
     "output_type": "stream",
     "text": [
      "\r",
      "MP PRC Pipeline from DB:  75%|██████████████████████████████████████████████████████████████████████                        | 3726/5000 [56:47<22:56,  1.08s/it]"
     ]
    },
    {
     "name": "stderr",
     "output_type": "stream",
     "text": [
      "\r",
      "MP PRC Pipeline from DB:  75%|██████████████████████████████████████████████████████████████████████▌                       | 3753/5000 [57:15<22:12,  1.07s/it]"
     ]
    },
    {
     "name": "stderr",
     "output_type": "stream",
     "text": [
      "\r",
      "MP PRC Pipeline from DB:  76%|███████████████████████████████████████████████████████████████████████                       | 3780/5000 [57:47<22:17,  1.10s/it]"
     ]
    },
    {
     "name": "stderr",
     "output_type": "stream",
     "text": [
      "\r",
      "MP PRC Pipeline from DB:  76%|███████████████████████████████████████████████████████████████████████▌                      | 3807/5000 [58:20<22:29,  1.13s/it]"
     ]
    },
    {
     "name": "stderr",
     "output_type": "stream",
     "text": [
      "\r",
      "MP PRC Pipeline from DB:  77%|████████████████████████████████████████████████████████████████████████                      | 3834/5000 [58:54<22:43,  1.17s/it]"
     ]
    },
    {
     "name": "stderr",
     "output_type": "stream",
     "text": [
      "\r",
      "MP PRC Pipeline from DB:  77%|████████████████████████████████████████████████████████████████████████▌                     | 3861/5000 [59:23<21:43,  1.14s/it]"
     ]
    },
    {
     "name": "stderr",
     "output_type": "stream",
     "text": [
      "\r",
      "MP PRC Pipeline from DB:  78%|█████████████████████████████████████████████████████████████████████████                     | 3888/5000 [59:51<20:34,  1.11s/it]"
     ]
    },
    {
     "name": "stderr",
     "output_type": "stream",
     "text": [
      "\r",
      "MP PRC Pipeline from DB:  78%|████████████████████████████████████████████████████████████████████████                    | 3915/5000 [1:00:28<21:27,  1.19s/it]"
     ]
    },
    {
     "name": "stderr",
     "output_type": "stream",
     "text": [
      "\r",
      "MP PRC Pipeline from DB:  79%|████████████████████████████████████████████████████████████████████████▌                   | 3942/5000 [1:01:02<21:20,  1.21s/it]"
     ]
    },
    {
     "name": "stderr",
     "output_type": "stream",
     "text": [
      "\r",
      "MP PRC Pipeline from DB:  79%|█████████████████████████████████████████████████████████████████████████                   | 3969/5000 [1:01:40<21:49,  1.27s/it]"
     ]
    },
    {
     "name": "stderr",
     "output_type": "stream",
     "text": [
      "\r",
      "MP PRC Pipeline from DB:  80%|█████████████████████████████████████████████████████████████████████████▌                  | 3996/5000 [1:02:10<20:30,  1.23s/it]"
     ]
    },
    {
     "name": "stderr",
     "output_type": "stream",
     "text": [
      "\r",
      "MP PRC Pipeline from DB:  80%|██████████████████████████████████████████████████████████████████████████                  | 4023/5000 [1:02:46<20:30,  1.26s/it]"
     ]
    },
    {
     "name": "stderr",
     "output_type": "stream",
     "text": [
      "\r",
      "MP PRC Pipeline from DB:  81%|██████████████████████████████████████████████████████████████████████████▌                 | 4050/5000 [1:03:15<18:56,  1.20s/it]"
     ]
    },
    {
     "name": "stderr",
     "output_type": "stream",
     "text": [
      "\r",
      "MP PRC Pipeline from DB:  82%|███████████████████████████████████████████████████████████████████████████                 | 4077/5000 [1:03:43<17:45,  1.15s/it]"
     ]
    },
    {
     "name": "stderr",
     "output_type": "stream",
     "text": [
      "\r",
      "MP PRC Pipeline from DB:  82%|███████████████████████████████████████████████████████████████████████████▌                | 4104/5000 [1:04:15<17:18,  1.16s/it]"
     ]
    },
    {
     "name": "stderr",
     "output_type": "stream",
     "text": [
      "\r",
      "MP PRC Pipeline from DB:  83%|████████████████████████████████████████████████████████████████████████████                | 4131/5000 [1:04:44<16:29,  1.14s/it]"
     ]
    },
    {
     "name": "stderr",
     "output_type": "stream",
     "text": [
      "\r",
      "MP PRC Pipeline from DB:  83%|████████████████████████████████████████████████████████████████████████████▌               | 4158/5000 [1:05:15<16:02,  1.14s/it]"
     ]
    },
    {
     "name": "stderr",
     "output_type": "stream",
     "text": [
      "\r",
      "MP PRC Pipeline from DB:  84%|█████████████████████████████████████████████████████████████████████████████               | 4185/5000 [1:05:48<15:47,  1.16s/it]"
     ]
    },
    {
     "name": "stderr",
     "output_type": "stream",
     "text": [
      "\r",
      "MP PRC Pipeline from DB:  84%|█████████████████████████████████████████████████████████████████████████████▌              | 4212/5000 [1:06:17<14:57,  1.14s/it]"
     ]
    },
    {
     "name": "stderr",
     "output_type": "stream",
     "text": [
      "\r",
      "MP PRC Pipeline from DB:  85%|█████████████████████████████████████████████████████████████████████████████▉              | 4239/5000 [1:06:44<13:51,  1.09s/it]"
     ]
    },
    {
     "name": "stderr",
     "output_type": "stream",
     "text": [
      "\r",
      "MP PRC Pipeline from DB:  85%|██████████████████████████████████████████████████████████████████████████████▍             | 4266/5000 [1:07:06<12:20,  1.01s/it]"
     ]
    },
    {
     "name": "stderr",
     "output_type": "stream",
     "text": [
      "\r",
      "MP PRC Pipeline from DB:  86%|██████████████████████████████████████████████████████████████████████████████▉             | 4293/5000 [1:07:28<11:12,  1.05it/s]"
     ]
    },
    {
     "name": "stderr",
     "output_type": "stream",
     "text": [
      "\r",
      "MP PRC Pipeline from DB:  86%|███████████████████████████████████████████████████████████████████████████████▍            | 4320/5000 [1:07:54<10:53,  1.04it/s]"
     ]
    },
    {
     "name": "stderr",
     "output_type": "stream",
     "text": [
      "\r",
      "MP PRC Pipeline from DB:  87%|███████████████████████████████████████████████████████████████████████████████▉            | 4347/5000 [1:08:15<09:50,  1.11it/s]"
     ]
    },
    {
     "name": "stderr",
     "output_type": "stream",
     "text": [
      "\r",
      "MP PRC Pipeline from DB:  87%|████████████████████████████████████████████████████████████████████████████████▍           | 4374/5000 [1:08:35<08:51,  1.18it/s]"
     ]
    },
    {
     "name": "stderr",
     "output_type": "stream",
     "text": [
      "\r",
      "MP PRC Pipeline from DB:  88%|████████████████████████████████████████████████████████████████████████████████▉           | 4401/5000 [1:08:54<08:02,  1.24it/s]"
     ]
    },
    {
     "name": "stderr",
     "output_type": "stream",
     "text": [
      "\r",
      "MP PRC Pipeline from DB:  89%|█████████████████████████████████████████████████████████████████████████████████▍          | 4428/5000 [1:09:16<07:42,  1.24it/s]"
     ]
    },
    {
     "name": "stderr",
     "output_type": "stream",
     "text": [
      "\r",
      "MP PRC Pipeline from DB:  89%|█████████████████████████████████████████████████████████████████████████████████▉          | 4455/5000 [1:09:35<07:05,  1.28it/s]"
     ]
    },
    {
     "name": "stderr",
     "output_type": "stream",
     "text": [
      "\r",
      "MP PRC Pipeline from DB:  90%|██████████████████████████████████████████████████████████████████████████████████▍         | 4482/5000 [1:09:56<06:46,  1.27it/s]"
     ]
    },
    {
     "name": "stderr",
     "output_type": "stream",
     "text": [
      "\r",
      "MP PRC Pipeline from DB:  90%|██████████████████████████████████████████████████████████████████████████████████▉         | 4509/5000 [1:10:17<06:23,  1.28it/s]"
     ]
    },
    {
     "name": "stderr",
     "output_type": "stream",
     "text": [
      "\r",
      "MP PRC Pipeline from DB:  91%|███████████████████████████████████████████████████████████████████████████████████▍        | 4536/5000 [1:10:41<06:16,  1.23it/s]"
     ]
    },
    {
     "name": "stderr",
     "output_type": "stream",
     "text": [
      "\r",
      "MP PRC Pipeline from DB:  91%|███████████████████████████████████████████████████████████████████████████████████▉        | 4563/5000 [1:11:01<05:45,  1.27it/s]"
     ]
    },
    {
     "name": "stderr",
     "output_type": "stream",
     "text": [
      "\r",
      "MP PRC Pipeline from DB:  92%|████████████████████████████████████████████████████████████████████████████████████▍       | 4590/5000 [1:11:26<05:38,  1.21it/s]"
     ]
    },
    {
     "name": "stderr",
     "output_type": "stream",
     "text": [
      "\r",
      "MP PRC Pipeline from DB:  92%|████████████████████████████████████████████████████████████████████████████████████▉       | 4617/5000 [1:11:50<05:24,  1.18it/s]"
     ]
    },
    {
     "name": "stderr",
     "output_type": "stream",
     "text": [
      "\r",
      "MP PRC Pipeline from DB:  93%|█████████████████████████████████████████████████████████████████████████████████████▍      | 4644/5000 [1:12:11<04:56,  1.20it/s]"
     ]
    },
    {
     "name": "stderr",
     "output_type": "stream",
     "text": [
      "\r",
      "MP PRC Pipeline from DB:  93%|█████████████████████████████████████████████████████████████████████████████████████▉      | 4671/5000 [1:12:33<04:32,  1.21it/s]"
     ]
    },
    {
     "name": "stderr",
     "output_type": "stream",
     "text": [
      "\r",
      "MP PRC Pipeline from DB:  94%|██████████████████████████████████████████████████████████████████████████████████████▍     | 4698/5000 [1:12:55<04:07,  1.22it/s]"
     ]
    },
    {
     "name": "stderr",
     "output_type": "stream",
     "text": [
      "\r",
      "MP PRC Pipeline from DB:  94%|██████████████████████████████████████████████████████████████████████████████████████▉     | 4725/5000 [1:13:17<03:44,  1.23it/s]"
     ]
    },
    {
     "name": "stderr",
     "output_type": "stream",
     "text": [
      "\r",
      "MP PRC Pipeline from DB:  95%|███████████████████████████████████████████████████████████████████████████████████████▍    | 4752/5000 [1:13:40<03:26,  1.20it/s]"
     ]
    },
    {
     "name": "stderr",
     "output_type": "stream",
     "text": [
      "\r",
      "MP PRC Pipeline from DB:  96%|███████████████████████████████████████████████████████████████████████████████████████▉    | 4779/5000 [1:14:06<03:10,  1.16it/s]"
     ]
    },
    {
     "name": "stderr",
     "output_type": "stream",
     "text": [
      "\r",
      "MP PRC Pipeline from DB:  96%|████████████████████████████████████████████████████████████████████████████████████████▍   | 4806/5000 [1:14:30<02:50,  1.14it/s]"
     ]
    },
    {
     "name": "stderr",
     "output_type": "stream",
     "text": [
      "\r",
      "MP PRC Pipeline from DB:  97%|████████████████████████████████████████████████████████████████████████████████████████▉   | 4833/5000 [1:14:56<02:29,  1.12it/s]"
     ]
    },
    {
     "name": "stderr",
     "output_type": "stream",
     "text": [
      "\r",
      "MP PRC Pipeline from DB:  97%|█████████████████████████████████████████████████████████████████████████████████████████▍  | 4860/5000 [1:15:21<02:06,  1.10it/s]"
     ]
    },
    {
     "name": "stderr",
     "output_type": "stream",
     "text": [
      "\r",
      "MP PRC Pipeline from DB:  98%|█████████████████████████████████████████████████████████████████████████████████████████▉  | 4887/5000 [1:15:43<01:39,  1.13it/s]"
     ]
    },
    {
     "name": "stderr",
     "output_type": "stream",
     "text": [
      "\r",
      "MP PRC Pipeline from DB:  98%|██████████████████████████████████████████████████████████████████████████████████████████▍ | 4914/5000 [1:16:05<01:14,  1.16it/s]"
     ]
    },
    {
     "name": "stderr",
     "output_type": "stream",
     "text": [
      "\r",
      "MP PRC Pipeline from DB:  99%|██████████████████████████████████████████████████████████████████████████████████████████▉ | 4941/5000 [1:16:29<00:51,  1.15it/s]"
     ]
    },
    {
     "name": "stderr",
     "output_type": "stream",
     "text": [
      "\r",
      "MP PRC Pipeline from DB:  99%|███████████████████████████████████████████████████████████████████████████████████████████▍| 4968/5000 [1:16:53<00:28,  1.14it/s]"
     ]
    },
    {
     "name": "stderr",
     "output_type": "stream",
     "text": [
      "\r",
      "MP PRC Pipeline from DB: 100%|███████████████████████████████████████████████████████████████████████████████████████████▉| 4995/5000 [1:17:15<00:04,  1.17it/s]"
     ]
    },
    {
     "name": "stderr",
     "output_type": "stream",
     "text": [
      "\r",
      "MP PRC Pipeline from DB: 100%|████████████████████████████████████████████████████████████████████████████████████████████| 5000/5000 [1:17:15<00:00,  1.08it/s]"
     ]
    },
    {
     "name": "stderr",
     "output_type": "stream",
     "text": [
      "\n"
     ]
    }
   ],
   "source": [
    "workbench.mpPrecisonRecallPipelineFromDB(input_mp_db, output_prc_mp_db, nb_cores=27, max_sparsity=max_sparsity, verbose=False)"
   ]
  }
 ],
 "metadata": {
  "kernelspec": {
   "display_name": "phlamesenv",
   "language": "python",
   "name": "python3"
  },
  "language_info": {
   "codemirror_mode": {
    "name": "ipython",
    "version": 3
   },
   "file_extension": ".py",
   "mimetype": "text/x-python",
   "name": "python",
   "nbconvert_exporter": "python",
   "pygments_lexer": "ipython3",
   "version": "3.11.2"
  },
  "papermill": {
   "default_parameters": {},
   "duration": 4698.811799,
   "end_time": "2024-07-17T11:06:33.849997",
   "environment_variables": {},
   "exception": null,
   "input_path": "prc_mp_db.ipynb",
   "output_path": "out_prc_mp.ipynb",
   "parameters": {},
   "start_time": "2024-07-17T09:48:15.038198",
   "version": "2.6.0"
  }
 },
 "nbformat": 4,
 "nbformat_minor": 5
}