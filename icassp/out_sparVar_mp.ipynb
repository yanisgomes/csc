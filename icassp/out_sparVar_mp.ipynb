{
 "cells": [
  {
   "cell_type": "code",
   "execution_count": 1,
   "id": "d7e5aa1f",
   "metadata": {
    "execution": {
     "iopub.execute_input": "2024-07-18T07:49:36.305519Z",
     "iopub.status.busy": "2024-07-18T07:49:36.304519Z",
     "iopub.status.idle": "2024-07-18T07:49:44.072437Z",
     "shell.execute_reply": "2024-07-18T07:49:44.070509Z"
    },
    "papermill": {
     "duration": 7.790837,
     "end_time": "2024-07-18T07:49:44.076583",
     "exception": false,
     "start_time": "2024-07-18T07:49:36.285746",
     "status": "completed"
    },
    "tags": []
   },
   "outputs": [
    {
     "name": "stdout",
     "output_type": "stream",
     "text": [
      "The dictionary has 143 different atoms\n"
     ]
    }
   ],
   "source": [
    "import numpy as np\n",
    "from csc.utils import *\n",
    "from csc.atoms import *\n",
    "from csc.dictionary import *\n",
    "from csc.workbench import *\n",
    "from itertools import product\n",
    "import matplotlib.pyplot as plt\n",
    "\n",
    "# Atom parameters\n",
    "bmin = 0.005\n",
    "bmax = 0.06\n",
    "b_step = 0.005\n",
    "b_values = np.arange(bmin, bmax, b_step)\n",
    "\n",
    "ymin = 0.010\n",
    "ymax = 0.036\n",
    "y_step = 0.002\n",
    "y_values = np.arange(ymin, ymax, y_step)\n",
    "\n",
    "s_values = [1]\n",
    "\n",
    "dictionary = ZSDictionary.from_values(b_values, y_values, s_values)\n",
    "print('The dictionary has {} different atoms'.format(len(dictionary)))"
   ]
  },
  {
   "cell_type": "markdown",
   "id": "8cd20301",
   "metadata": {
    "papermill": {
     "duration": 0.027569,
     "end_time": "2024-07-18T07:49:44.110491",
     "exception": false,
     "start_time": "2024-07-18T07:49:44.082922",
     "status": "completed"
    },
    "tags": []
   },
   "source": [
    "## MP PRC Pipeline\n",
    "- ``max_sparsity = 30`` "
   ]
  },
  {
   "cell_type": "code",
   "execution_count": 2,
   "id": "052e318e",
   "metadata": {
    "execution": {
     "iopub.execute_input": "2024-07-18T07:49:44.130578Z",
     "iopub.status.busy": "2024-07-18T07:49:44.127577Z",
     "iopub.status.idle": "2024-07-18T07:49:48.498580Z",
     "shell.execute_reply": "2024-07-18T07:49:48.495734Z"
    },
    "papermill": {
     "duration": 4.387355,
     "end_time": "2024-07-18T07:49:48.503835",
     "exception": false,
     "start_time": "2024-07-18T07:49:44.116480",
     "status": "completed"
    },
    "tags": []
   },
   "outputs": [],
   "source": [
    "batchSize = 200\n",
    "\n",
    "max_sparsity = 30\n",
    "\n",
    "input_mp_db = f'/home/gomes/synthetic-data/csc-mp-{batchSize}.json'\n",
    "#input_mp_db = f'C:\\\\Users\\\\gomes\\\\Documents\\\\ENS\\\\00_M1\\\\00_BORELLI\\\\01_WorkInProgress\\\\\\synthetic-data\\\\csc-mp-{batchSize}.json'\n",
    "\n",
    "output_sparVar_mp_db = f'/home/gomes/synthetic-data/sparVar-mp-{batchSize}.json'\n",
    "\n",
    "#path_to_signals_db = f'C:\\\\Users\\\\gomes\\\\Documents\\\\ENS\\\\00_M1\\\\00_BORELLI\\\\01_WorkInProgress\\\\\\synthetic-data\\\\csc-signals-{batchSize}.json'\n",
    "path_to_signals_db = f'/home/gomes/synthetic-data/csc-signals-{batchSize}.json'\n",
    "\n",
    "workbench = CSCWorkbench(path_to_signals_db)\n",
    "workbench.load_data()\n",
    "workbench.set_dictionary(dictionary)"
   ]
  },
  {
   "cell_type": "code",
   "execution_count": 3,
   "id": "ee63e3f6",
   "metadata": {
    "execution": {
     "iopub.execute_input": "2024-07-18T07:49:48.521210Z",
     "iopub.status.busy": "2024-07-18T07:49:48.519987Z"
    },
    "papermill": {
     "duration": null,
     "end_time": null,
     "exception": false,
     "start_time": "2024-07-18T07:49:48.510554",
     "status": "running"
    },
    "tags": []
   },
   "outputs": [
    {
     "name": "stderr",
     "output_type": "stream",
     "text": [
      "\r",
      "MP sparVar Pipeline from DB:   0%|                                                                                                          | 0/5000 [00:00<?, ?it/s]"
     ]
    },
    {
     "name": "stderr",
     "output_type": "stream",
     "text": [
      "\r",
      "MP sparVar Pipeline from DB:   0%|                                                                                                  | 1/5000 [00:00<10:11,  8.17it/s]"
     ]
    },
    {
     "name": "stderr",
     "output_type": "stream",
     "text": [
      "\r",
      "MP sparVar Pipeline from DB:   0%|▍                                                                                                | 20/5000 [00:02<09:32,  8.69it/s]"
     ]
    },
    {
     "name": "stderr",
     "output_type": "stream",
     "text": [
      "\r",
      "MP sparVar Pipeline from DB:   1%|▊                                                                                                | 40/5000 [00:10<24:49,  3.33it/s]"
     ]
    },
    {
     "name": "stderr",
     "output_type": "stream",
     "text": [
      "\r",
      "MP sparVar Pipeline from DB:   1%|█▏                                                                                               | 60/5000 [00:23<37:53,  2.17it/s]"
     ]
    },
    {
     "name": "stderr",
     "output_type": "stream",
     "text": [
      "\r",
      "MP sparVar Pipeline from DB:   2%|█▌                                                                                               | 80/5000 [00:39<48:21,  1.70it/s]"
     ]
    }
   ],
   "source": [
    "workbench.mpSparsityVariationPipelineFromDB(input_mp_db, output_sparVar_mp_db, nb_cores=20, max_sparsity=max_sparsity, verbose=False)\n",
    "#workbench.mpSparsityVariationPipelineFromDB(input_mp_db, output_sparVar_mp_db, nb_cores=-1, max_sparsity=max_sparsity, verbose=True)"
   ]
  }
 ],
 "metadata": {
  "kernelspec": {
   "display_name": "phlamesenv",
   "language": "python",
   "name": "python3"
  },
  "language_info": {
   "codemirror_mode": {
    "name": "ipython",
    "version": 3
   },
   "file_extension": ".py",
   "mimetype": "text/x-python",
   "name": "python",
   "nbconvert_exporter": "python",
   "pygments_lexer": "ipython3",
   "version": "3.11.2"
  },
  "papermill": {
   "default_parameters": {},
   "duration": null,
   "end_time": null,
   "environment_variables": {},
   "exception": null,
   "input_path": "sparVar_mp_db.ipynb",
   "output_path": "out_sparVar_mp.ipynb",
   "parameters": {},
   "start_time": "2024-07-18T07:49:32.602276",
   "version": "2.6.0"
  }
 },
 "nbformat": 4,
 "nbformat_minor": 5
}