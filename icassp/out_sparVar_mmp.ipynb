{
 "cells": [
  {
   "cell_type": "code",
   "execution_count": 1,
   "id": "5df32dd9",
   "metadata": {
    "execution": {
     "iopub.execute_input": "2024-07-18T07:46:50.680222Z",
     "iopub.status.busy": "2024-07-18T07:46:50.679815Z",
     "iopub.status.idle": "2024-07-18T07:46:54.086906Z",
     "shell.execute_reply": "2024-07-18T07:46:54.086087Z"
    },
    "papermill": {
     "duration": 3.413942,
     "end_time": "2024-07-18T07:46:54.090328",
     "exception": false,
     "start_time": "2024-07-18T07:46:50.676386",
     "status": "completed"
    },
    "tags": []
   },
   "outputs": [
    {
     "name": "stdout",
     "output_type": "stream",
     "text": [
      "The dictionary has 143 different atoms\n"
     ]
    }
   ],
   "source": [
    "import numpy as np\n",
    "from csc.utils import *\n",
    "from csc.atoms import *\n",
    "from csc.dictionary import *\n",
    "from csc.workbench import *\n",
    "from itertools import product\n",
    "import matplotlib.pyplot as plt\n",
    "\n",
    "# Atom parameters\n",
    "bmin = 0.005\n",
    "bmax = 0.06\n",
    "b_step = 0.005\n",
    "b_values = np.arange(bmin, bmax, b_step)\n",
    "\n",
    "ymin = 0.010\n",
    "ymax = 0.036\n",
    "y_step = 0.002\n",
    "y_values = np.arange(ymin, ymax, y_step)\n",
    "\n",
    "s_values = [1]\n",
    "\n",
    "dictionary = ZSDictionary.from_values(b_values, y_values, s_values)\n",
    "print('The dictionary has {} different atoms'.format(len(dictionary)))"
   ]
  },
  {
   "cell_type": "markdown",
   "id": "cc874a65",
   "metadata": {
    "papermill": {
     "duration": 0.003218,
     "end_time": "2024-07-18T07:46:54.097499",
     "exception": false,
     "start_time": "2024-07-18T07:46:54.094281",
     "status": "completed"
    },
    "tags": []
   },
   "source": [
    "## MMP-DF sparVar Pipeline\n",
    "- ``max_branches = 9``\n",
    "- ``max_sparsity = 30`` "
   ]
  },
  {
   "cell_type": "code",
   "execution_count": 2,
   "id": "0fc9c487",
   "metadata": {
    "execution": {
     "iopub.execute_input": "2024-07-18T07:46:54.106285Z",
     "iopub.status.busy": "2024-07-18T07:46:54.105694Z",
     "iopub.status.idle": "2024-07-18T07:46:55.629239Z",
     "shell.execute_reply": "2024-07-18T07:46:55.628181Z"
    },
    "papermill": {
     "duration": 1.531775,
     "end_time": "2024-07-18T07:46:55.632509",
     "exception": false,
     "start_time": "2024-07-18T07:46:54.100734",
     "status": "completed"
    },
    "tags": []
   },
   "outputs": [],
   "source": [
    "batchSize = 200\n",
    "\n",
    "max_branches = 9\n",
    "max_sparsity = 30\n",
    "\n",
    "input_mmpdf_db = f'/home/gomes/synthetic-data/csc-mmpdf-{batchSize}.json'\n",
    "#input_mmpdf_db = f'C:\\\\Users\\\\gomes\\\\Documents\\\\ENS\\\\00_M1\\\\00_BORELLI\\\\01_WorkInProgress\\\\\\synthetic-data\\\\csc-mmpdf-{batchSize}.json'\n",
    "\n",
    "output_sparVar_mmpdf_db = f'/home/gomes/synthetic-data/sparVar-mmpdf{max_branches}-{batchSize}.json'\n",
    "\n",
    "#path_to_signals_db = f'C:\\\\Users\\\\gomes\\\\Documents\\\\ENS\\\\00_M1\\\\00_BORELLI\\\\01_WorkInProgress\\\\\\synthetic-data\\\\csc-signals-{batchSize}.json'\n",
    "path_to_signals_db = f'/home/gomes/synthetic-data/csc-signals-{batchSize}.json'\n",
    "\n",
    "workbench = CSCWorkbench(path_to_signals_db)\n",
    "workbench.load_data()\n",
    "workbench.set_dictionary(dictionary)"
   ]
  },
  {
   "cell_type": "code",
   "execution_count": 3,
   "id": "7450e82c",
   "metadata": {
    "execution": {
     "iopub.execute_input": "2024-07-18T07:46:55.641411Z",
     "iopub.status.busy": "2024-07-18T07:46:55.641155Z"
    },
    "papermill": {
     "duration": null,
     "end_time": null,
     "exception": false,
     "start_time": "2024-07-18T07:46:55.636386",
     "status": "running"
    },
    "tags": []
   },
   "outputs": [
    {
     "name": "stderr",
     "output_type": "stream",
     "text": [
      "\r",
      "MMP-DF sparsity variation Pipeline from DB:   0%|                                                                                           | 0/5000 [00:00<?, ?it/s]"
     ]
    },
    {
     "name": "stderr",
     "output_type": "stream",
     "text": [
      "\r",
      "MMP-DF sparsity variation Pipeline from DB:   1%|█▏                                                                                | 70/5000 [00:01<01:45, 46.91it/s]"
     ]
    },
    {
     "name": "stderr",
     "output_type": "stream",
     "text": [
      "\r",
      "MMP-DF sparsity variation Pipeline from DB:   2%|█▏                                                                                | 75/5000 [00:01<01:48, 45.49it/s]"
     ]
    },
    {
     "name": "stderr",
     "output_type": "stream",
     "text": [
      "\r",
      "MMP-DF sparsity variation Pipeline from DB:   2%|█▏                                                                                | 75/5000 [00:19<01:48, 45.49it/s]"
     ]
    },
    {
     "name": "stderr",
     "output_type": "stream",
     "text": [
      "\r",
      "MMP-DF sparsity variation Pipeline from DB:   3%|██▎                                                                              | 140/5000 [00:45<35:18,  2.29it/s]"
     ]
    },
    {
     "name": "stderr",
     "output_type": "stream",
     "text": [
      "\r",
      "MMP-DF sparsity variation Pipeline from DB:   4%|███▍                                                                             | 210/5000 [01:59<59:02,  1.35it/s]"
     ]
    },
    {
     "name": "stderr",
     "output_type": "stream",
     "text": [
      "\r",
      "MMP-DF sparsity variation Pipeline from DB:   6%|████▍                                                                          | 280/5000 [03:32<1:17:19,  1.02it/s]"
     ]
    }
   ],
   "source": [
    "workbench.mmpdfSparsityVariationPipelineFromDB(input_mmpdf_db, output_sparVar_mmpdf_db, nb_cores=70, max_branches=max_branches, max_sparsity=max_sparsity, verbose=False)\n",
    "#workbench.mmpdfSparsityVariationPipelineFromDB(input_mmpdf_db, output_sparVar_mmpdf_db, nb_cores=-1, max_branches=max_branches, max_sparsity=max_sparsity, verbose=True)"
   ]
  }
 ],
 "metadata": {
  "kernelspec": {
   "display_name": "phlamesenv",
   "language": "python",
   "name": "python3"
  },
  "language_info": {
   "codemirror_mode": {
    "name": "ipython",
    "version": 3
   },
   "file_extension": ".py",
   "mimetype": "text/x-python",
   "name": "python",
   "nbconvert_exporter": "python",
   "pygments_lexer": "ipython3",
   "version": "3.11.2"
  },
  "papermill": {
   "default_parameters": {},
   "duration": null,
   "end_time": null,
   "environment_variables": {},
   "exception": null,
   "input_path": "sparVar_mmpdf_db.ipynb",
   "output_path": "out_sparVar_mmp.ipynb",
   "parameters": {},
   "start_time": "2024-07-18T07:46:49.816566",
   "version": "2.6.0"
  }
 },
 "nbformat": 4,
 "nbformat_minor": 5
}