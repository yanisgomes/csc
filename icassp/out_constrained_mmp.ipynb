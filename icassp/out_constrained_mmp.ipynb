{
 "cells": [
  {
   "cell_type": "markdown",
   "id": "2bdcfb29",
   "metadata": {
    "papermill": {
     "duration": 0.003891,
     "end_time": "2024-07-24T12:42:14.006724",
     "exception": false,
     "start_time": "2024-07-24T12:42:14.002833",
     "status": "completed"
    },
    "tags": []
   },
   "source": [
    "# Build SparVar MMP Database"
   ]
  },
  {
   "cell_type": "code",
   "execution_count": 1,
   "id": "e93f98e5",
   "metadata": {
    "execution": {
     "iopub.execute_input": "2024-07-24T12:42:14.015353Z",
     "iopub.status.busy": "2024-07-24T12:42:14.014884Z",
     "iopub.status.idle": "2024-07-24T12:42:15.552453Z",
     "shell.execute_reply": "2024-07-24T12:42:15.551626Z"
    },
    "papermill": {
     "duration": 1.545671,
     "end_time": "2024-07-24T12:42:15.555937",
     "exception": false,
     "start_time": "2024-07-24T12:42:14.010266",
     "status": "completed"
    },
    "tags": []
   },
   "outputs": [
    {
     "name": "stdout",
     "output_type": "stream",
     "text": [
      "The dictionary has 143 different atoms\n"
     ]
    }
   ],
   "source": [
    "import numpy as np\n",
    "from csc.utils import *\n",
    "from csc.atoms import *\n",
    "from csc.dictionary import *\n",
    "from itertools import product\n",
    "import matplotlib.pyplot as plt\n",
    "\n",
    "# Atom parameters\n",
    "bmin = 0.005\n",
    "bmax = 0.06\n",
    "b_step = 0.005\n",
    "b_values = np.arange(bmin, bmax, b_step)\n",
    "\n",
    "ymin = 0.010\n",
    "ymax = 0.036\n",
    "y_step = 0.002\n",
    "y_values = np.arange(ymin, ymax, y_step)\n",
    "\n",
    "s_values = [1]\n",
    "\n",
    "dictionary = ZSDictionary.from_values(b_values, y_values, s_values)\n",
    "print('The dictionary has {} different atoms'.format(len(dictionary)))"
   ]
  },
  {
   "cell_type": "markdown",
   "id": "39308402",
   "metadata": {
    "papermill": {
     "duration": 0.003883,
     "end_time": "2024-07-24T12:42:15.564307",
     "exception": false,
     "start_time": "2024-07-24T12:42:15.560424",
     "status": "completed"
    },
    "tags": []
   },
   "source": [
    "## Build sparsity variation database\n",
    "\n",
    "#### Format :\n",
    "````\n",
    "'source' = input_filename\n",
    "'date' = get_today_date_str()\n",
    "'algorithm' = 'Convolutional MMP-DF'\n",
    "'nbBranches' = branches\n",
    "'connections' = connections\n",
    "'dissimilarity' = dissimilarity\n",
    "'maxSparsityLevel' = max_sparsity\n",
    "'batchSize' = data['batchSize']\n",
    "'snrLevels' = data['snrLevels']\n",
    "'signalLength' = data['signalLength']\n",
    "'sparsityLevels' = data['sparsityLevels']\n",
    "'dictionary' = str(self)\n",
    "'mmp' : \n",
    "    [\n",
    "        {\n",
    "            'id' : 0,\n",
    "            'snr' : snr,\n",
    "            'results' : [\n",
    "                {\n",
    "                    'mse' : #MSE,\n",
    "                    'path' : '2'\n",
    "                    'delay' : #DELAY,\n",
    "                    'atoms' : [\n",
    "                        {'x':x, 'b':b, 'y':y, 's':s}\n",
    "                        #1\n",
    "                    ]\n",
    "                },\n",
    "                ...\n",
    "                {\n",
    "                    'mse' : #MSE,\n",
    "                    'path' : '2-3-...-1'\n",
    "                    'delay' : #DELAY,\n",
    "                    'atoms' : [\n",
    "                        {'x':x, 'b':b, 'y':y, 's':s}\n",
    "                        #max_sparsity\n",
    "                    ]\n",
    "                }\n",
    "                ]\n",
    "        },\n",
    "        {\n",
    "            'id' : 1,\n",
    "            ...\n",
    "        },\n",
    "\n",
    "        ...\n",
    "\n",
    "    ]\n",
    "````"
   ]
  },
  {
   "cell_type": "code",
   "execution_count": 2,
   "id": "0f304363",
   "metadata": {
    "execution": {
     "iopub.execute_input": "2024-07-24T12:42:15.573691Z",
     "iopub.status.busy": "2024-07-24T12:42:15.573274Z",
     "iopub.status.idle": "2024-07-24T12:42:15.577076Z",
     "shell.execute_reply": "2024-07-24T12:42:15.576370Z"
    },
    "papermill": {
     "duration": 0.011884,
     "end_time": "2024-07-24T12:42:15.580093",
     "exception": false,
     "start_time": "2024-07-24T12:42:15.568209",
     "status": "completed"
    },
    "tags": []
   },
   "outputs": [],
   "source": [
    "batchSize = 200\n",
    "input_signals_db = f'/home/gomes/synthetic-data/constrained-signals-{batchSize}.json'"
   ]
  },
  {
   "cell_type": "markdown",
   "id": "c6f932be",
   "metadata": {
    "papermill": {
     "duration": 0.003844,
     "end_time": "2024-07-24T12:42:15.587913",
     "exception": false,
     "start_time": "2024-07-24T12:42:15.584069",
     "status": "completed"
    },
    "tags": []
   },
   "source": [
    "### Check the ``DISSIMILARITY`` threshold"
   ]
  },
  {
   "cell_type": "code",
   "execution_count": 3,
   "id": "25a389dd",
   "metadata": {
    "execution": {
     "iopub.execute_input": "2024-07-24T12:42:15.596732Z",
     "iopub.status.busy": "2024-07-24T12:42:15.596416Z"
    },
    "papermill": {
     "duration": null,
     "end_time": null,
     "exception": false,
     "start_time": "2024-07-24T12:42:15.591820",
     "status": "running"
    },
    "tags": []
   },
   "outputs": [
    {
     "name": "stderr",
     "output_type": "stream",
     "text": [
      "\r",
      "MMP-DF SparVar Pipeline from DB:   0%|                                                                                                                                                                   | 0/3200 [00:00<?, ?it/s]"
     ]
    },
    {
     "name": "stderr",
     "output_type": "stream",
     "text": [
      "\r",
      "MMP-DF SparVar Pipeline from DB:   3%|████▊                                                                                                                                                    | 100/3200 [00:01<00:49, 62.89it/s]"
     ]
    },
    {
     "name": "stderr",
     "output_type": "stream",
     "text": [
      "\r",
      "MMP-DF SparVar Pipeline from DB:   3%|████▊                                                                                                                                                    | 100/3200 [00:20<00:49, 62.89it/s]"
     ]
    },
    {
     "name": "stderr",
     "output_type": "stream",
     "text": [
      "\r",
      "MMP-DF SparVar Pipeline from DB:   6%|█████████▌                                                                                                                                               | 200/3200 [02:54<51:16,  1.03s/it]"
     ]
    }
   ],
   "source": [
    "# Pipeline parameters\n",
    "NB_CORES = 100\n",
    "BRANCHES = 10\n",
    "CONNECTIONS = 3\n",
    "MAX_SPARSITY = 10\n",
    "\n",
    "DISSIMILARITY = 0.4 ## << DISSIMILARITY >>\n",
    "\n",
    "# Run pipeline\n",
    "today = get_today_date_str()\n",
    "output_mmpdf_db = f'/home/gomes/synthetic-data/icassp-mmpdf{BRANCHES}-{batchSize}.json'\n",
    "dictionary.mmpdfSparVarPipelineFromDB(input_signals_db, output_mmpdf_db, nb_cores=NB_CORES, connections=CONNECTIONS, dissimilarity=DISSIMILARITY, branches=BRANCHES, max_sparsity=MAX_SPARSITY, verbose=False)"
   ]
  }
 ],
 "metadata": {
  "kernelspec": {
   "display_name": "phlamesenv",
   "language": "python",
   "name": "python3"
  },
  "language_info": {
   "codemirror_mode": {
    "name": "ipython",
    "version": 3
   },
   "file_extension": ".py",
   "mimetype": "text/x-python",
   "name": "python",
   "nbconvert_exporter": "python",
   "pygments_lexer": "ipython3",
   "version": "3.11.2"
  },
  "papermill": {
   "default_parameters": {},
   "duration": null,
   "end_time": null,
   "environment_variables": {},
   "exception": null,
   "input_path": "buildMMPDFSparVar.ipynb",
   "output_path": "out_constrained_mmp.ipynb",
   "parameters": {},
   "start_time": "2024-07-24T12:42:13.001103",
   "version": "2.6.0"
  }
 },
 "nbformat": 4,
 "nbformat_minor": 5
}